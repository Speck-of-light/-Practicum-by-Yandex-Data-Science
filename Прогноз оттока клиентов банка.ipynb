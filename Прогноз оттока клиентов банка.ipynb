{
 "cells": [
  {
   "cell_type": "markdown",
   "metadata": {},
   "source": [
    "# Прогноз оттока клиентов банка "
   ]
  },
  {
   "cell_type": "markdown",
   "metadata": {},
   "source": [
    "Из банка ежемесячно стали уходить клиенты. Немного, но заметно. Банковские маркетологи посчитали: сохранять текущих клиентов дешевле, чем привлекать новых.\n",
    "\n",
    "Необходимо спрогнозировать, уйдёт клиент из банка в ближайшее время или нет. \n",
    "Для анализа предоставлены исторические данные о поведении клиентов и расторжении договоров с банком. \n",
    "\n",
    "Следует постройте модель с предельно большим значением *F1*-меры.\n",
    "\n",
    "Источник данных: [https://www.kaggle.com/barelydedicated/bank-customer-churn-modeling](https://www.kaggle.com/barelydedicated/bank-customer-churn-modeling)"
   ]
  },
  {
   "cell_type": "markdown",
   "metadata": {},
   "source": [
    "## Подготовка данных"
   ]
  },
  {
   "cell_type": "code",
   "execution_count": 1,
   "metadata": {},
   "outputs": [],
   "source": [
    "# импортируем библиотеки  \n",
    "\n",
    "import pandas as pd\n",
    "import matplotlib.pyplot as plt\n",
    "\n",
    "from sklearn.model_selection import train_test_split\n",
    "from sklearn.preprocessing import OneHotEncoder\n",
    "from sklearn.tree import DecisionTreeClassifier\n",
    "from sklearn.linear_model import LogisticRegression\n",
    "from sklearn.ensemble import RandomForestClassifier\n",
    "from sklearn.dummy import DummyClassifier\n",
    "from sklearn.preprocessing import StandardScaler \n",
    "from sklearn.metrics import accuracy_score, precision_score, recall_score, f1_score, roc_auc_score\n",
    "from sklearn.metrics import roc_curve, confusion_matrix\n",
    "from sklearn.utils import shuffle\n",
    "\n",
    "pd.options.mode.chained_assignment = None\n",
    "\n",
    "import warnings\n",
    "warnings.filterwarnings(\"ignore\")"
   ]
  },
  {
   "cell_type": "code",
   "execution_count": 2,
   "metadata": {},
   "outputs": [
    {
     "data": {
      "text/html": [
       "<div>\n",
       "<style scoped>\n",
       "    .dataframe tbody tr th:only-of-type {\n",
       "        vertical-align: middle;\n",
       "    }\n",
       "\n",
       "    .dataframe tbody tr th {\n",
       "        vertical-align: top;\n",
       "    }\n",
       "\n",
       "    .dataframe thead th {\n",
       "        text-align: right;\n",
       "    }\n",
       "</style>\n",
       "<table border=\"1\" class=\"dataframe\">\n",
       "  <thead>\n",
       "    <tr style=\"text-align: right;\">\n",
       "      <th></th>\n",
       "      <th>RowNumber</th>\n",
       "      <th>CustomerId</th>\n",
       "      <th>Surname</th>\n",
       "      <th>CreditScore</th>\n",
       "      <th>Geography</th>\n",
       "      <th>Gender</th>\n",
       "      <th>Age</th>\n",
       "      <th>Tenure</th>\n",
       "      <th>Balance</th>\n",
       "      <th>NumOfProducts</th>\n",
       "      <th>HasCrCard</th>\n",
       "      <th>IsActiveMember</th>\n",
       "      <th>EstimatedSalary</th>\n",
       "      <th>Exited</th>\n",
       "    </tr>\n",
       "  </thead>\n",
       "  <tbody>\n",
       "    <tr>\n",
       "      <th>0</th>\n",
       "      <td>1</td>\n",
       "      <td>15634602</td>\n",
       "      <td>Hargrave</td>\n",
       "      <td>619</td>\n",
       "      <td>France</td>\n",
       "      <td>Female</td>\n",
       "      <td>42</td>\n",
       "      <td>2.0</td>\n",
       "      <td>0.00</td>\n",
       "      <td>1</td>\n",
       "      <td>1</td>\n",
       "      <td>1</td>\n",
       "      <td>101348.88</td>\n",
       "      <td>1</td>\n",
       "    </tr>\n",
       "    <tr>\n",
       "      <th>1</th>\n",
       "      <td>2</td>\n",
       "      <td>15647311</td>\n",
       "      <td>Hill</td>\n",
       "      <td>608</td>\n",
       "      <td>Spain</td>\n",
       "      <td>Female</td>\n",
       "      <td>41</td>\n",
       "      <td>1.0</td>\n",
       "      <td>83807.86</td>\n",
       "      <td>1</td>\n",
       "      <td>0</td>\n",
       "      <td>1</td>\n",
       "      <td>112542.58</td>\n",
       "      <td>0</td>\n",
       "    </tr>\n",
       "    <tr>\n",
       "      <th>2</th>\n",
       "      <td>3</td>\n",
       "      <td>15619304</td>\n",
       "      <td>Onio</td>\n",
       "      <td>502</td>\n",
       "      <td>France</td>\n",
       "      <td>Female</td>\n",
       "      <td>42</td>\n",
       "      <td>8.0</td>\n",
       "      <td>159660.80</td>\n",
       "      <td>3</td>\n",
       "      <td>1</td>\n",
       "      <td>0</td>\n",
       "      <td>113931.57</td>\n",
       "      <td>1</td>\n",
       "    </tr>\n",
       "    <tr>\n",
       "      <th>3</th>\n",
       "      <td>4</td>\n",
       "      <td>15701354</td>\n",
       "      <td>Boni</td>\n",
       "      <td>699</td>\n",
       "      <td>France</td>\n",
       "      <td>Female</td>\n",
       "      <td>39</td>\n",
       "      <td>1.0</td>\n",
       "      <td>0.00</td>\n",
       "      <td>2</td>\n",
       "      <td>0</td>\n",
       "      <td>0</td>\n",
       "      <td>93826.63</td>\n",
       "      <td>0</td>\n",
       "    </tr>\n",
       "    <tr>\n",
       "      <th>4</th>\n",
       "      <td>5</td>\n",
       "      <td>15737888</td>\n",
       "      <td>Mitchell</td>\n",
       "      <td>850</td>\n",
       "      <td>Spain</td>\n",
       "      <td>Female</td>\n",
       "      <td>43</td>\n",
       "      <td>2.0</td>\n",
       "      <td>125510.82</td>\n",
       "      <td>1</td>\n",
       "      <td>1</td>\n",
       "      <td>1</td>\n",
       "      <td>79084.10</td>\n",
       "      <td>0</td>\n",
       "    </tr>\n",
       "  </tbody>\n",
       "</table>\n",
       "</div>"
      ],
      "text/plain": [
       "   RowNumber  CustomerId   Surname  CreditScore Geography  Gender  Age  \\\n",
       "0          1    15634602  Hargrave          619    France  Female   42   \n",
       "1          2    15647311      Hill          608     Spain  Female   41   \n",
       "2          3    15619304      Onio          502    France  Female   42   \n",
       "3          4    15701354      Boni          699    France  Female   39   \n",
       "4          5    15737888  Mitchell          850     Spain  Female   43   \n",
       "\n",
       "   Tenure    Balance  NumOfProducts  HasCrCard  IsActiveMember  \\\n",
       "0     2.0       0.00              1          1               1   \n",
       "1     1.0   83807.86              1          0               1   \n",
       "2     8.0  159660.80              3          1               0   \n",
       "3     1.0       0.00              2          0               0   \n",
       "4     2.0  125510.82              1          1               1   \n",
       "\n",
       "   EstimatedSalary  Exited  \n",
       "0        101348.88       1  \n",
       "1        112542.58       0  \n",
       "2        113931.57       1  \n",
       "3         93826.63       0  \n",
       "4         79084.10       0  "
      ]
     },
     "execution_count": 2,
     "metadata": {},
     "output_type": "execute_result"
    }
   ],
   "source": [
    "# загрузим датасет и рассмотрим первые 5 строк таблицы\n",
    "try:\n",
    "    data=pd.read_csv('/datasets/Churn.csv')\n",
    "except:\n",
    "    data=pd.read_csv('https://code.s3.yandex.net//datasets/Churn.csv')\n",
    "\n",
    "data.head()"
   ]
  },
  {
   "cell_type": "markdown",
   "metadata": {},
   "source": [
    "- RowNumber — индекс строки в данных\n",
    "- CustomerId — уникальный идентификатор клиента\n",
    "- Surname — фамилия\n",
    "- CreditScore — кредитный рейтинг\n",
    "- Geography — страна проживания\n",
    "- Gender — пол\n",
    "- Age — возраст\n",
    "- Tenure — сколько лет человек является клиентом банка\n",
    "- Balance — баланс на счёте\n",
    "- NumOfProducts — количество продуктов банка, используемых клиентом\n",
    "- HasCrCard — наличие кредитной карты\n",
    "- IsActiveMember — активность клиента\n",
    "- EstimatedSalary — предполагаемая зарплата\n",
    "\n",
    "- Exited — факт ухода клиента"
   ]
  },
  {
   "cell_type": "code",
   "execution_count": 3,
   "metadata": {
    "scrolled": true
   },
   "outputs": [
    {
     "name": "stdout",
     "output_type": "stream",
     "text": [
      "<class 'pandas.core.frame.DataFrame'>\n",
      "RangeIndex: 10000 entries, 0 to 9999\n",
      "Data columns (total 14 columns):\n",
      " #   Column           Non-Null Count  Dtype  \n",
      "---  ------           --------------  -----  \n",
      " 0   RowNumber        10000 non-null  int64  \n",
      " 1   CustomerId       10000 non-null  int64  \n",
      " 2   Surname          10000 non-null  object \n",
      " 3   CreditScore      10000 non-null  int64  \n",
      " 4   Geography        10000 non-null  object \n",
      " 5   Gender           10000 non-null  object \n",
      " 6   Age              10000 non-null  int64  \n",
      " 7   Tenure           9091 non-null   float64\n",
      " 8   Balance          10000 non-null  float64\n",
      " 9   NumOfProducts    10000 non-null  int64  \n",
      " 10  HasCrCard        10000 non-null  int64  \n",
      " 11  IsActiveMember   10000 non-null  int64  \n",
      " 12  EstimatedSalary  10000 non-null  float64\n",
      " 13  Exited           10000 non-null  int64  \n",
      "dtypes: float64(3), int64(8), object(3)\n",
      "memory usage: 1.1+ MB\n"
     ]
    },
    {
     "data": {
      "text/html": [
       "<div>\n",
       "<style scoped>\n",
       "    .dataframe tbody tr th:only-of-type {\n",
       "        vertical-align: middle;\n",
       "    }\n",
       "\n",
       "    .dataframe tbody tr th {\n",
       "        vertical-align: top;\n",
       "    }\n",
       "\n",
       "    .dataframe thead th {\n",
       "        text-align: right;\n",
       "    }\n",
       "</style>\n",
       "<table border=\"1\" class=\"dataframe\">\n",
       "  <thead>\n",
       "    <tr style=\"text-align: right;\">\n",
       "      <th></th>\n",
       "      <th>RowNumber</th>\n",
       "      <th>CustomerId</th>\n",
       "      <th>CreditScore</th>\n",
       "      <th>Age</th>\n",
       "      <th>Tenure</th>\n",
       "      <th>Balance</th>\n",
       "      <th>NumOfProducts</th>\n",
       "      <th>HasCrCard</th>\n",
       "      <th>IsActiveMember</th>\n",
       "      <th>EstimatedSalary</th>\n",
       "      <th>Exited</th>\n",
       "    </tr>\n",
       "  </thead>\n",
       "  <tbody>\n",
       "    <tr>\n",
       "      <th>count</th>\n",
       "      <td>10000.00000</td>\n",
       "      <td>1.000000e+04</td>\n",
       "      <td>10000.000000</td>\n",
       "      <td>10000.000000</td>\n",
       "      <td>9091.000000</td>\n",
       "      <td>10000.000000</td>\n",
       "      <td>10000.000000</td>\n",
       "      <td>10000.00000</td>\n",
       "      <td>10000.000000</td>\n",
       "      <td>10000.000000</td>\n",
       "      <td>10000.000000</td>\n",
       "    </tr>\n",
       "    <tr>\n",
       "      <th>mean</th>\n",
       "      <td>5000.50000</td>\n",
       "      <td>1.569094e+07</td>\n",
       "      <td>650.528800</td>\n",
       "      <td>38.921800</td>\n",
       "      <td>4.997690</td>\n",
       "      <td>76485.889288</td>\n",
       "      <td>1.530200</td>\n",
       "      <td>0.70550</td>\n",
       "      <td>0.515100</td>\n",
       "      <td>100090.239881</td>\n",
       "      <td>0.203700</td>\n",
       "    </tr>\n",
       "    <tr>\n",
       "      <th>std</th>\n",
       "      <td>2886.89568</td>\n",
       "      <td>7.193619e+04</td>\n",
       "      <td>96.653299</td>\n",
       "      <td>10.487806</td>\n",
       "      <td>2.894723</td>\n",
       "      <td>62397.405202</td>\n",
       "      <td>0.581654</td>\n",
       "      <td>0.45584</td>\n",
       "      <td>0.499797</td>\n",
       "      <td>57510.492818</td>\n",
       "      <td>0.402769</td>\n",
       "    </tr>\n",
       "    <tr>\n",
       "      <th>min</th>\n",
       "      <td>1.00000</td>\n",
       "      <td>1.556570e+07</td>\n",
       "      <td>350.000000</td>\n",
       "      <td>18.000000</td>\n",
       "      <td>0.000000</td>\n",
       "      <td>0.000000</td>\n",
       "      <td>1.000000</td>\n",
       "      <td>0.00000</td>\n",
       "      <td>0.000000</td>\n",
       "      <td>11.580000</td>\n",
       "      <td>0.000000</td>\n",
       "    </tr>\n",
       "    <tr>\n",
       "      <th>25%</th>\n",
       "      <td>2500.75000</td>\n",
       "      <td>1.562853e+07</td>\n",
       "      <td>584.000000</td>\n",
       "      <td>32.000000</td>\n",
       "      <td>2.000000</td>\n",
       "      <td>0.000000</td>\n",
       "      <td>1.000000</td>\n",
       "      <td>0.00000</td>\n",
       "      <td>0.000000</td>\n",
       "      <td>51002.110000</td>\n",
       "      <td>0.000000</td>\n",
       "    </tr>\n",
       "    <tr>\n",
       "      <th>50%</th>\n",
       "      <td>5000.50000</td>\n",
       "      <td>1.569074e+07</td>\n",
       "      <td>652.000000</td>\n",
       "      <td>37.000000</td>\n",
       "      <td>5.000000</td>\n",
       "      <td>97198.540000</td>\n",
       "      <td>1.000000</td>\n",
       "      <td>1.00000</td>\n",
       "      <td>1.000000</td>\n",
       "      <td>100193.915000</td>\n",
       "      <td>0.000000</td>\n",
       "    </tr>\n",
       "    <tr>\n",
       "      <th>75%</th>\n",
       "      <td>7500.25000</td>\n",
       "      <td>1.575323e+07</td>\n",
       "      <td>718.000000</td>\n",
       "      <td>44.000000</td>\n",
       "      <td>7.000000</td>\n",
       "      <td>127644.240000</td>\n",
       "      <td>2.000000</td>\n",
       "      <td>1.00000</td>\n",
       "      <td>1.000000</td>\n",
       "      <td>149388.247500</td>\n",
       "      <td>0.000000</td>\n",
       "    </tr>\n",
       "    <tr>\n",
       "      <th>max</th>\n",
       "      <td>10000.00000</td>\n",
       "      <td>1.581569e+07</td>\n",
       "      <td>850.000000</td>\n",
       "      <td>92.000000</td>\n",
       "      <td>10.000000</td>\n",
       "      <td>250898.090000</td>\n",
       "      <td>4.000000</td>\n",
       "      <td>1.00000</td>\n",
       "      <td>1.000000</td>\n",
       "      <td>199992.480000</td>\n",
       "      <td>1.000000</td>\n",
       "    </tr>\n",
       "  </tbody>\n",
       "</table>\n",
       "</div>"
      ],
      "text/plain": [
       "         RowNumber    CustomerId   CreditScore           Age       Tenure  \\\n",
       "count  10000.00000  1.000000e+04  10000.000000  10000.000000  9091.000000   \n",
       "mean    5000.50000  1.569094e+07    650.528800     38.921800     4.997690   \n",
       "std     2886.89568  7.193619e+04     96.653299     10.487806     2.894723   \n",
       "min        1.00000  1.556570e+07    350.000000     18.000000     0.000000   \n",
       "25%     2500.75000  1.562853e+07    584.000000     32.000000     2.000000   \n",
       "50%     5000.50000  1.569074e+07    652.000000     37.000000     5.000000   \n",
       "75%     7500.25000  1.575323e+07    718.000000     44.000000     7.000000   \n",
       "max    10000.00000  1.581569e+07    850.000000     92.000000    10.000000   \n",
       "\n",
       "             Balance  NumOfProducts    HasCrCard  IsActiveMember  \\\n",
       "count   10000.000000   10000.000000  10000.00000    10000.000000   \n",
       "mean    76485.889288       1.530200      0.70550        0.515100   \n",
       "std     62397.405202       0.581654      0.45584        0.499797   \n",
       "min         0.000000       1.000000      0.00000        0.000000   \n",
       "25%         0.000000       1.000000      0.00000        0.000000   \n",
       "50%     97198.540000       1.000000      1.00000        1.000000   \n",
       "75%    127644.240000       2.000000      1.00000        1.000000   \n",
       "max    250898.090000       4.000000      1.00000        1.000000   \n",
       "\n",
       "       EstimatedSalary        Exited  \n",
       "count     10000.000000  10000.000000  \n",
       "mean     100090.239881      0.203700  \n",
       "std       57510.492818      0.402769  \n",
       "min          11.580000      0.000000  \n",
       "25%       51002.110000      0.000000  \n",
       "50%      100193.915000      0.000000  \n",
       "75%      149388.247500      0.000000  \n",
       "max      199992.480000      1.000000  "
      ]
     },
     "execution_count": 3,
     "metadata": {},
     "output_type": "execute_result"
    }
   ],
   "source": [
    "#раcсмотрим общую информацию о датасете\n",
    "data.info()\n",
    "data.describe()"
   ]
  },
  {
   "cell_type": "markdown",
   "metadata": {},
   "source": [
    "В столбце Tenure (сколько лет человек является клиентом банка) есть пропуски. Заполним их медианой в зависимости от колличества продуктов используемых клиентом. Сменим формат на int64, т.к. колличество полных лет не может быть дробным числом. "
   ]
  },
  {
   "cell_type": "code",
   "execution_count": 4,
   "metadata": {},
   "outputs": [],
   "source": [
    "data['Tenure'].unique()\n",
    "for value in data['NumOfProducts'].unique():\n",
    "    median_t = data.loc[data['NumOfProducts']== value, 'Tenure'].median()\n",
    "    data.loc[(data['Tenure'].isna()) & (data['NumOfProducts']==value), 'Tenure'] = median_t"
   ]
  },
  {
   "cell_type": "code",
   "execution_count": 5,
   "metadata": {},
   "outputs": [
    {
     "data": {
      "text/plain": [
       "array([ 2,  1,  8,  7,  4,  6,  3, 10,  5,  9,  0])"
      ]
     },
     "execution_count": 5,
     "metadata": {},
     "output_type": "execute_result"
    }
   ],
   "source": [
    "# изменим формат данных \n",
    "data['Tenure'] = data['Tenure'].astype(int)\n",
    "#проверка\n",
    "data['Tenure'].unique()"
   ]
  },
  {
   "cell_type": "code",
   "execution_count": 6,
   "metadata": {},
   "outputs": [],
   "source": [
    "#удалим столбцы неинформативные для обучения моделей\n",
    "data = data.drop(['RowNumber','CustomerId', 'Surname'], axis=1)"
   ]
  },
  {
   "cell_type": "code",
   "execution_count": 7,
   "metadata": {},
   "outputs": [
    {
     "data": {
      "text/plain": [
       "0"
      ]
     },
     "execution_count": 7,
     "metadata": {},
     "output_type": "execute_result"
    }
   ],
   "source": [
    "#Проверим на наличие явных дубликатов\n",
    "data.duplicated().sum()"
   ]
  },
  {
   "cell_type": "markdown",
   "metadata": {},
   "source": [
    "После обработки таблица содержит 10 000 строк и 11 столбцов. Пропуски с стотлбце Tenure были заполненны медианой в зависимости от колличества продуктов используемых клиентом. Изменен формат данных в стобце Tenure, т.к. колличество полных лет не может быть дробным числом. Были удалены столбцы RowNumber, CustomerId, Surname, т.к. они не несли информации для обучения моделей."
   ]
  },
  {
   "cell_type": "markdown",
   "metadata": {},
   "source": [
    "### Подготовим данные к ML"
   ]
  },
  {
   "cell_type": "markdown",
   "metadata": {},
   "source": [
    "**Разобьем данные на выборки**"
   ]
  },
  {
   "cell_type": "code",
   "execution_count": 9,
   "metadata": {},
   "outputs": [],
   "source": [
    "# извлекаем матрицу признаков\n",
    "features = data.drop(['Exited'], axis=1) \n",
    "# извлекаем целевой признак\n",
    "target = data['Exited']"
   ]
  },
  {
   "cell_type": "markdown",
   "metadata": {},
   "source": [
    "Так как спрятанной тестовой выборки у нас нет. Данные нужно разбить на три части: обучающую, валидационную и тестовую. Размеры тестового и валидационного наборов обычно равны. Разобьем исходные данные в соотношении 3:1:1.(60%:20%:20%)\n"
   ]
  },
  {
   "cell_type": "code",
   "execution_count": 10,
   "metadata": {},
   "outputs": [
    {
     "name": "stdout",
     "output_type": "stream",
     "text": [
      "features_train  6000\n",
      "features_valid  2000\n",
      "features_test  2000\n"
     ]
    }
   ],
   "source": [
    "# отделим 40% данных для тестовой и валидационной выборок\n",
    "features_train, features_test, target_train, target_test = train_test_split(\n",
    "    features, target, test_size=0.40, random_state=321,stratify=target)\n",
    "\n",
    "# отделим 20% данных для валидационной выборки\n",
    "features_test, features_valid, target_test, target_valid = train_test_split(\n",
    "    features_test, target_test, test_size=0.50, random_state=321, stratify=target_test) \n",
    "\n",
    "print('features_train','',features_train.shape[0])\n",
    "print('features_valid','',features_valid.shape[0])\n",
    "print('features_test','',features_test.shape[0])"
   ]
  },
  {
   "cell_type": "markdown",
   "metadata": {},
   "source": [
    "Преобразуем категориальные признаки"
   ]
  },
  {
   "cell_type": "code",
   "execution_count": 13,
   "metadata": {},
   "outputs": [],
   "source": [
    "#Преобразуем категориальные признаки в численные при помощи техники прямого кодирования\n",
    "features_train = pd.get_dummies(features_train, drop_first=True)\n",
    "features_test = pd.get_dummies(features_test, drop_first=True)\n",
    "features_valid = pd.get_dummies(features_valid, drop_first=True)"
   ]
  },
  {
   "cell_type": "markdown",
   "metadata": {},
   "source": [
    "Стандартизируем численные признаки."
   ]
  },
  {
   "cell_type": "code",
   "execution_count": 14,
   "metadata": {},
   "outputs": [
    {
     "data": {
      "text/plain": [
       "StandardScaler()"
      ]
     },
     "execution_count": 14,
     "metadata": {},
     "output_type": "execute_result"
    }
   ],
   "source": [
    "numeric = ['CreditScore', 'Age', 'Tenure', 'Balance', 'NumOfProducts', 'EstimatedSalary']\n",
    "\n",
    "scaler = StandardScaler()\n",
    "scaler.fit(features_train[numeric])"
   ]
  },
  {
   "cell_type": "code",
   "execution_count": 15,
   "metadata": {},
   "outputs": [
    {
     "data": {
      "text/html": [
       "<div>\n",
       "<style scoped>\n",
       "    .dataframe tbody tr th:only-of-type {\n",
       "        vertical-align: middle;\n",
       "    }\n",
       "\n",
       "    .dataframe tbody tr th {\n",
       "        vertical-align: top;\n",
       "    }\n",
       "\n",
       "    .dataframe thead th {\n",
       "        text-align: right;\n",
       "    }\n",
       "</style>\n",
       "<table border=\"1\" class=\"dataframe\">\n",
       "  <thead>\n",
       "    <tr style=\"text-align: right;\">\n",
       "      <th></th>\n",
       "      <th>CreditScore</th>\n",
       "      <th>Age</th>\n",
       "      <th>Tenure</th>\n",
       "      <th>Balance</th>\n",
       "      <th>NumOfProducts</th>\n",
       "      <th>HasCrCard</th>\n",
       "      <th>IsActiveMember</th>\n",
       "      <th>EstimatedSalary</th>\n",
       "      <th>Geography_Germany</th>\n",
       "      <th>Geography_Spain</th>\n",
       "      <th>Gender_Male</th>\n",
       "    </tr>\n",
       "  </thead>\n",
       "  <tbody>\n",
       "    <tr>\n",
       "      <th>2157</th>\n",
       "      <td>0.971981</td>\n",
       "      <td>0.475727</td>\n",
       "      <td>-0.717643</td>\n",
       "      <td>-1.237462</td>\n",
       "      <td>0.819551</td>\n",
       "      <td>1</td>\n",
       "      <td>1</td>\n",
       "      <td>1.533256</td>\n",
       "      <td>0</td>\n",
       "      <td>0</td>\n",
       "      <td>0</td>\n",
       "    </tr>\n",
       "    <tr>\n",
       "      <th>5977</th>\n",
       "      <td>0.557035</td>\n",
       "      <td>0.097014</td>\n",
       "      <td>0.366137</td>\n",
       "      <td>0.296686</td>\n",
       "      <td>-0.904609</td>\n",
       "      <td>0</td>\n",
       "      <td>1</td>\n",
       "      <td>1.376348</td>\n",
       "      <td>0</td>\n",
       "      <td>0</td>\n",
       "      <td>0</td>\n",
       "    </tr>\n",
       "    <tr>\n",
       "      <th>2853</th>\n",
       "      <td>-1.694045</td>\n",
       "      <td>1.327831</td>\n",
       "      <td>-0.356383</td>\n",
       "      <td>1.972008</td>\n",
       "      <td>-0.904609</td>\n",
       "      <td>1</td>\n",
       "      <td>1</td>\n",
       "      <td>-1.323672</td>\n",
       "      <td>0</td>\n",
       "      <td>0</td>\n",
       "      <td>1</td>\n",
       "    </tr>\n",
       "    <tr>\n",
       "      <th>9105</th>\n",
       "      <td>0.079848</td>\n",
       "      <td>-0.755091</td>\n",
       "      <td>0.004877</td>\n",
       "      <td>0.371088</td>\n",
       "      <td>-0.904609</td>\n",
       "      <td>0</td>\n",
       "      <td>1</td>\n",
       "      <td>-0.879864</td>\n",
       "      <td>0</td>\n",
       "      <td>0</td>\n",
       "      <td>1</td>\n",
       "    </tr>\n",
       "    <tr>\n",
       "      <th>9154</th>\n",
       "      <td>-0.718923</td>\n",
       "      <td>-1.133803</td>\n",
       "      <td>0.004877</td>\n",
       "      <td>0.406061</td>\n",
       "      <td>0.819551</td>\n",
       "      <td>1</td>\n",
       "      <td>0</td>\n",
       "      <td>1.631466</td>\n",
       "      <td>0</td>\n",
       "      <td>0</td>\n",
       "      <td>0</td>\n",
       "    </tr>\n",
       "  </tbody>\n",
       "</table>\n",
       "</div>"
      ],
      "text/plain": [
       "      CreditScore       Age    Tenure   Balance  NumOfProducts  HasCrCard  \\\n",
       "2157     0.971981  0.475727 -0.717643 -1.237462       0.819551          1   \n",
       "5977     0.557035  0.097014  0.366137  0.296686      -0.904609          0   \n",
       "2853    -1.694045  1.327831 -0.356383  1.972008      -0.904609          1   \n",
       "9105     0.079848 -0.755091  0.004877  0.371088      -0.904609          0   \n",
       "9154    -0.718923 -1.133803  0.004877  0.406061       0.819551          1   \n",
       "\n",
       "      IsActiveMember  EstimatedSalary  Geography_Germany  Geography_Spain  \\\n",
       "2157               1         1.533256                  0                0   \n",
       "5977               1         1.376348                  0                0   \n",
       "2853               1        -1.323672                  0                0   \n",
       "9105               1        -0.879864                  0                0   \n",
       "9154               0         1.631466                  0                0   \n",
       "\n",
       "      Gender_Male  \n",
       "2157            0  \n",
       "5977            0  \n",
       "2853            1  \n",
       "9105            1  \n",
       "9154            0  "
      ]
     },
     "execution_count": 15,
     "metadata": {},
     "output_type": "execute_result"
    }
   ],
   "source": [
    "features_train[numeric] = scaler.transform(features_train[numeric])\n",
    "features_test[numeric] = scaler.transform(features_test[numeric])\n",
    "features_valid[numeric] = scaler.transform(features_valid[numeric])\n",
    "features_train.head()"
   ]
  },
  {
   "cell_type": "markdown",
   "metadata": {},
   "source": [
    "Подготовленны три маштабированные выборки для дальнейшего обучения моделей."
   ]
  },
  {
   "cell_type": "markdown",
   "metadata": {},
   "source": [
    "## Исследование задачи"
   ]
  },
  {
   "cell_type": "markdown",
   "metadata": {},
   "source": [
    "Исследуем баланс классов\n",
    " "
   ]
  },
  {
   "cell_type": "code",
   "execution_count": 16,
   "metadata": {},
   "outputs": [
    {
     "data": {
      "text/plain": [
       "0    7963\n",
       "1    2037\n",
       "Name: Exited, dtype: int64"
      ]
     },
     "execution_count": 16,
     "metadata": {},
     "output_type": "execute_result"
    }
   ],
   "source": [
    "target.value_counts()"
   ]
  },
  {
   "cell_type": "code",
   "execution_count": 17,
   "metadata": {},
   "outputs": [
    {
     "data": {
      "image/png": "[encoded data removed]",
      "text/plain": [
       "<Figure size 360x360 with 1 Axes>"
      ]
     },
     "metadata": {
      "needs_background": "light"
     },
     "output_type": "display_data"
    }
   ],
   "source": [
    "# Построим диаграмму баланса классов\n",
    "target.plot(kind ='hist', bins=2, figsize=(5,5));"
   ]
  },
  {
   "cell_type": "markdown",
   "metadata": {},
   "source": [
    "Соотношение классов около 1:4. Можно сдлеать вывод о том, что данные не сбалансированны."
   ]
  },
  {
   "cell_type": "markdown",
   "metadata": {},
   "source": [
    "**Продожлим исследование без учета дисбаланса классов**"
   ]
  },
  {
   "cell_type": "markdown",
   "metadata": {},
   "source": [
    "Подберем лучшие параметры для модели Дерево решений"
   ]
  },
  {
   "cell_type": "code",
   "execution_count": 18,
   "metadata": {},
   "outputs": [
    {
     "name": "stdout",
     "output_type": "stream",
     "text": [
      "Глубина дерева: 7 \n",
      "Объектов в узле: 2 \n",
      "F1: 0.5774436090225564\n"
     ]
    }
   ],
   "source": [
    "best_F = 0\n",
    "best_depth = 0\n",
    "best_sample = 0 \n",
    "\n",
    "for depth in range(1,10):\n",
    "    for sample in range(2,5):\n",
    "        model_tree = DecisionTreeClassifier(max_depth=depth, random_state=321,min_samples_split =sample)\n",
    "        model_tree.fit(features_train, target_train)\n",
    "        predicted_valid_tree = model_tree.predict(features_valid)\n",
    "        f1 = f1_score(target_valid,predicted_valid_tree)\n",
    "        if f1 > best_F:\n",
    "            best_F = f1\n",
    "            best_depth = depth\n",
    "            best_sample = sample\n",
    "print(\"Глубина дерева:\", best_depth, \"\\nОбъектов в узле:\",best_sample, \"\\nF1:\", best_F)"
   ]
  },
  {
   "cell_type": "markdown",
   "metadata": {},
   "source": [
    "Подберем лучшие параметры для модели Случайный лес"
   ]
  },
  {
   "cell_type": "code",
   "execution_count": 19,
   "metadata": {},
   "outputs": [
    {
     "name": "stdout",
     "output_type": "stream",
     "text": [
      "Глубина дерева: 15 \n",
      "Количество деревьев: 40 \n",
      "Объектов в узле: 3\n",
      "F1 0.6208955223880598\n"
     ]
    }
   ],
   "source": [
    "best_F = 0\n",
    "best_depth = 0\n",
    "best_est = 0\n",
    "best_sample = 0\n",
    "\n",
    "for depth in range(2,30):\n",
    "    for est in range(10, 50, 10): \n",
    "        for sample in range(2,5):\n",
    "            model_forest = RandomForestClassifier( max_depth=depth, n_estimators=est, \n",
    "                                           min_samples_leaf=sample, random_state=321)\n",
    "            model_forest.fit(features_train, target_train)\n",
    "            predicted_valid_forest = model_forest.predict(features_valid)\n",
    "            #accuracy = model_forest.score(features_valid, target_valid)\n",
    "            f1 = f1_score(target_valid,predicted_valid_forest)\n",
    "            if f1 > best_F:\n",
    "                best_F = f1\n",
    "                best_depth = depth\n",
    "                best_est = est\n",
    "                best_sample = sample\n",
    "                \n",
    "print(\"Глубина дерева:\", best_depth, \"\\nКоличество деревьев:\",best_est, \"\\nОбъектов в узле:\", best_sample)\n",
    "print(\"F1\",best_F)"
   ]
  },
  {
   "cell_type": "markdown",
   "metadata": {},
   "source": [
    "Обучим модели без учета дисбаланса классов и создадим константную модель: любому объекту она прогнозирует класс «0»."
   ]
  },
  {
   "cell_type": "code",
   "execution_count": 20,
   "metadata": {},
   "outputs": [],
   "source": [
    "#Дерево решений\n",
    "model_tree = DecisionTreeClassifier(max_depth=7, random_state=321,min_samples_split =2)\n",
    "model_tree.fit(features_train, target_train)\n",
    "#Случайный лес\n",
    "model_forest = RandomForestClassifier(max_depth=15, n_estimators=40, min_samples_leaf=3, random_state=321)\n",
    "model_forest.fit(features_train, target_train)\n",
    "#Логистическая регрессия\n",
    "model_logist = LogisticRegression(random_state=321, solver='lbfgs')\n",
    "model_logist.fit(features_train, target_train)\n",
    "#Констатная модель\n",
    "target_pred_constant = pd.Series(0, index=target.index)"
   ]
  },
  {
   "cell_type": "markdown",
   "metadata": {},
   "source": [
    "Расчитаем их показатели Accuracy, Precision, Recall и F1"
   ]
  },
  {
   "cell_type": "code",
   "execution_count": 21,
   "metadata": {},
   "outputs": [
    {
     "name": "stdout",
     "output_type": "stream",
     "text": [
      "Показетели для дерева решений: \n",
      "Accuracy: 0.8595 \n",
      "Precision: 0.7441860465116279 \n",
      "Recall: 0.47174447174447176 \n",
      "F1: 0.5774436090225564 \n",
      " ____________________\n",
      "\n",
      "Показетели для Случайного леса: \n",
      "Accuracy: 0.873 \n",
      "Precision: 0.7908745247148289 \n",
      "Recall: 0.5110565110565111 \n",
      "F1: 0.6208955223880598 \n",
      " ____________________\n",
      "\n",
      "Показетели для Логистической регрессии: \n",
      "Accuracy: 0.808 \n",
      "Precision: 0.5864661654135338 \n",
      "Recall: 0.19164619164619165 \n",
      "F1: 0.2888888888888889 \n",
      " ____________________\n",
      "\n",
      "Показетели для Константной модели: \n",
      "Accuracy: 0.7963\n"
     ]
    }
   ],
   "source": [
    "#показатели для девера решений\n",
    "predicted_valid_tree = model_tree.predict(features_valid)\n",
    "accuracy_tree = model_tree.score(features_valid, target_valid)\n",
    "precision_tree = precision_score(target_valid, predicted_valid_tree)\n",
    "recall_tree = recall_score(target_valid, predicted_valid_tree)\n",
    "f1_tree = f1_score(target_valid,predicted_valid_tree)\n",
    "\n",
    "#показатели для случайного леса\n",
    "predicted_valid_forest = model_forest.predict(features_valid)\n",
    "accuracy_forest = model_forest.score(features_valid, target_valid) \n",
    "precision_forest = precision_score(target_valid, predicted_valid_forest)\n",
    "recall_forest = recall_score(target_valid, predicted_valid_forest)\n",
    "f1_forest = f1_score(target_valid,predicted_valid_forest)\n",
    "\n",
    "#показатели для логистической регрессии\n",
    "predicted_valid_logist = model_logist.predict(features_valid)\n",
    "accuracy_logist= model_logist.score(features_valid, target_valid)\n",
    "precision_logist = precision_score(target_valid, predicted_valid_logist)\n",
    "recall_logist = recall_score(target_valid, predicted_valid_logist)\n",
    "f1_logist = f1_score(target_valid,predicted_valid_logist)\n",
    "\n",
    "#показатели для константной модели\n",
    "accuracy_constant= accuracy_score(target, target_pred_constant)\n",
    "\n",
    "\n",
    "print('Показетели для дерева решений:','\\nAccuracy:',accuracy_tree,'\\nPrecision:',precision_tree,\n",
    "      '\\nRecall:',recall_tree,'\\nF1:',f1_tree,'\\n','__'*10)\n",
    "print('\\nПоказетели для Случайного леса:','\\nAccuracy:',accuracy_forest,'\\nPrecision:',precision_forest,\n",
    "      '\\nRecall:',recall_forest,'\\nF1:',f1_forest,'\\n','__'*10)\n",
    "print('\\nПоказетели для Логистической регрессии:','\\nAccuracy:',accuracy_logist,'\\nPrecision:',precision_logist,\n",
    "      '\\nRecall:',recall_logist,'\\nF1:',f1_logist,'\\n','__'*10)\n",
    "print('\\nПоказетели для Константной модели:','\\nAccuracy:',accuracy_constant)"
   ]
  },
  {
   "cell_type": "markdown",
   "metadata": {},
   "source": [
    "Все модели выдали достаточно высокий показатель Accuracy (доля правильных ответов), но он также высок и у константной модели. Это может быть вызванно дисбалансом данных. У можелей Дерово решений и Логистическая регрессия - низкие показатели F1.Модель Случайного леса выдает высокие результаты даже до устранения дисбаланса классов."
   ]
  },
  {
   "cell_type": "code",
   "execution_count": 22,
   "metadata": {},
   "outputs": [
    {
     "name": "stdout",
     "output_type": "stream",
     "text": [
      "Матрица ошибок дерева решений:\n",
      " [[1527   66]\n",
      " [ 215  192]]\n",
      "\n",
      "Матрица ошибок модели случайного леса:\n",
      " [[1538   55]\n",
      " [ 199  208]]\n",
      "\n",
      "Матрица ошибок логистической регрессии:\n",
      " [[1538   55]\n",
      " [ 329   78]]\n"
     ]
    }
   ],
   "source": [
    "# Матрицы ошибок\n",
    "predicted_valid_tree = model_tree.predict(features_valid)\n",
    "predicted_valid_forest = model_forest.predict(features_valid)\n",
    "predicted_valid_logist = model_logist.predict(features_valid)\n",
    "\n",
    "\n",
    "print('Матрица ошибок дерева решений:\\n',confusion_matrix(target_valid,predicted_valid_tree))\n",
    "print('\\nМатрица ошибок модели случайного леса:\\n',confusion_matrix(target_valid,predicted_valid_forest))\n",
    "print('\\nМатрица ошибок логистической регрессии:\\n',confusion_matrix(target_valid,predicted_valid_logist))"
   ]
  },
  {
   "cell_type": "markdown",
   "metadata": {},
   "source": [
    "Модель дерева решений чаще других склонна выдавать FP (ложно позитивные) ответы. Логистическая регрессия чаще выдает FN (ложно негативные) ответы. Несмотря на наличие ошибок (вызванных дисбалансом данных) на данном этапе лучше всего себя показывает модель случайного леса."
   ]
  },
  {
   "cell_type": "markdown",
   "metadata": {},
   "source": [
    "Проведем построение ROC-кривых для моделей. Расчитаем показатель AUC-ROC."
   ]
  },
  {
   "cell_type": "code",
   "execution_count": 23,
   "metadata": {},
   "outputs": [
    {
     "name": "stdout",
     "output_type": "stream",
     "text": [
      "AUC-ROC Дерево решений: 0.8300650419294486\n",
      "AUC-ROC Случайный лес: 0.8600966143339024\n",
      "AUC-ROC Логистическая регрессия: 0.7781818798767952\n"
     ]
    },
    {
     "data": {
      "image/png": "[encoded data removed]",
      "text/plain": [
       "<Figure size 864x648 with 1 Axes>"
      ]
     },
     "metadata": {
      "needs_background": "light"
     },
     "output_type": "display_data"
    }
   ],
   "source": [
    "plt.figure(figsize=[12,9])\n",
    "\n",
    "plt.plot([0, 1], [0, 1], linestyle='--', label='Модель')\n",
    "\n",
    "\n",
    "probabilities_valid = model_tree.predict_proba(features_valid)\n",
    "probabilities_one_valid = probabilities_valid[:, 1]\n",
    "fpr, tpr, thresholds = roc_curve(target_valid, probabilities_one_valid)\n",
    "auc_roc = roc_auc_score(target_valid, probabilities_one_valid)\n",
    "print('AUC-ROC Дерево решений:',auc_roc)\n",
    "plt.plot(fpr, tpr, label='Дерево решений')\n",
    "\n",
    "probabilities_valid = model_forest.predict_proba(features_valid)\n",
    "probabilities_one_valid = probabilities_valid[:, 1]\n",
    "fpr, tpr, thresholds = roc_curve(target_valid, probabilities_one_valid)\n",
    "auc_roc = roc_auc_score(target_valid, probabilities_one_valid)\n",
    "print('AUC-ROC Случайный лес:',auc_roc)\n",
    "plt.plot(fpr, tpr, label='Случайный лес')\n",
    "\n",
    "probabilities_valid = model_logist.predict_proba(features_valid)\n",
    "probabilities_one_valid = probabilities_valid[:, 1]\n",
    "fpr, tpr, thresholds = roc_curve(target_valid, probabilities_one_valid)\n",
    "auc_roc = roc_auc_score(target_valid, probabilities_one_valid)\n",
    "print('AUC-ROC Логистическая регрессия:',auc_roc)\n",
    "plt.plot(fpr, tpr, label='Логистическая регрессия')\n",
    "\n",
    "\n",
    "plt.xlim([0,1])\n",
    "plt.ylim([0,1])\n",
    "\n",
    "plt.xlabel(\"False Positive Rate\")\n",
    "plt.ylabel(\"True Positive Rate\")\n",
    "\n",
    "plt.legend(loc='lower right', fontsize='x-large')\n",
    "\n",
    "plt.title(\"ROC-кривая\")\n",
    "plt.show()"
   ]
  },
  {
   "cell_type": "markdown",
   "metadata": {},
   "source": [
    "На данном этапе был выявлен дисбаланс данных в соотношении классов 1:4.\n",
    "Наибольшие показатели F1 и AUC-ROC полученны у модели Случайного леса."
   ]
  },
  {
   "cell_type": "markdown",
   "metadata": {},
   "source": [
    "## Борьба с дисбалансом"
   ]
  },
  {
   "cell_type": "markdown",
   "metadata": {},
   "source": [
    "**Увеличение выборки**"
   ]
  },
  {
   "cell_type": "code",
   "execution_count": 24,
   "metadata": {},
   "outputs": [
    {
     "name": "stdout",
     "output_type": "stream",
     "text": [
      "1    4888\n",
      "0    4778\n",
      "Name: Exited, dtype: int64\n"
     ]
    }
   ],
   "source": [
    "def upsample(features, target, repeat):\n",
    "    features_zeros = features[target == 0]\n",
    "    features_ones = features[target == 1]\n",
    "    target_zeros = target[target == 0]\n",
    "    target_ones = target[target == 1]\n",
    "\n",
    "    features_upsampled = pd.concat([features_zeros] + [features_ones] * repeat)\n",
    "    target_upsampled = pd.concat([target_zeros] + [target_ones] * repeat)\n",
    "    \n",
    "    features_upsampled, target_upsampled = shuffle(\n",
    "        features_upsampled, target_upsampled, random_state=321)\n",
    "    \n",
    "    return features_upsampled, target_upsampled\n",
    "\n",
    "features_upsampled, target_upsampled = upsample(features_train, target_train,4)\n",
    "\n",
    "print(target_upsampled.value_counts())"
   ]
  },
  {
   "cell_type": "code",
   "execution_count": 25,
   "metadata": {},
   "outputs": [
    {
     "name": "stdout",
     "output_type": "stream",
     "text": [
      "Глубина дерева: 8 \n",
      "Объектов в узле: 2 \n",
      "F1: 0.5697786333012511\n"
     ]
    }
   ],
   "source": [
    "# подберем лучшие параметры для дерева решений при upsampled\n",
    "best_F = 0\n",
    "best_depth = 0\n",
    "best_sample = 0 \n",
    "\n",
    "for depth in range(1,10):\n",
    "    for sample in range(2,5):\n",
    "        model_tree = DecisionTreeClassifier(max_depth=depth, random_state=321,min_samples_split =sample)\n",
    "        model_tree.fit(features_upsampled, target_upsampled)\n",
    "        predicted_valid_tree = model_tree.predict(features_valid)\n",
    "        f1 = f1_score(target_valid,predicted_valid_tree)\n",
    "        if f1 > best_F:\n",
    "            best_F = f1\n",
    "            best_depth = depth\n",
    "            best_sample = sample\n",
    "print(\"Глубина дерева:\", best_depth, \"\\nОбъектов в узле:\",best_sample, \"\\nF1:\", best_F)"
   ]
  },
  {
   "cell_type": "code",
   "execution_count": 26,
   "metadata": {},
   "outputs": [
    {
     "name": "stdout",
     "output_type": "stream",
     "text": [
      "Глубина дерева: 12 \n",
      "Количество деревьев: 30 \n",
      "Объектов в узле: 2\n",
      "F1 0.6415525114155252\n"
     ]
    }
   ],
   "source": [
    "# подберем лучшие параметры для случайного леса при upsampled\n",
    "\n",
    "best_F = 0\n",
    "best_depth = 0\n",
    "\n",
    "for depth in range(2,30):\n",
    "    for est in range(10, 50, 10): \n",
    "        for sample in range(2,5):\n",
    "            model_forest = RandomForestClassifier( max_depth=depth, n_estimators=est, \n",
    "                                           min_samples_leaf=sample, random_state=321)\n",
    "            model_forest.fit(features_upsampled, target_upsampled)\n",
    "            predicted_valid_forest = model_forest.predict(features_valid)\n",
    "            f1 = f1_score(target_valid,predicted_valid_forest)\n",
    "            if f1 > best_F:\n",
    "                best_F = f1\n",
    "                best_depth = depth\n",
    "                best_est = est\n",
    "                best_sample = sample\n",
    "                \n",
    "print(\"Глубина дерева:\", best_depth, \"\\nКоличество деревьев:\",best_est, \"\\nОбъектов в узле:\", best_sample)\n",
    "print(\"F1\",best_F)"
   ]
  },
  {
   "cell_type": "code",
   "execution_count": 27,
   "metadata": {},
   "outputs": [
    {
     "name": "stdout",
     "output_type": "stream",
     "text": [
      "Показетели для дерева решений: \n",
      "Accuracy: 0.7765 \n",
      "Precision: 0.46835443037974683 \n",
      "Recall: 0.7272727272727273 \n",
      "F1: 0.5697786333012511 \n",
      " ____________________\n",
      "\n",
      "Показетели для Случайного леса: \n",
      "Accuracy: 0.843 \n",
      "Precision: 0.5991471215351812 \n",
      "Recall: 0.6904176904176904 \n",
      "F1: 0.6415525114155252 \n",
      " ____________________\n",
      "\n",
      "Показетели для Логистической регрессии: \n",
      "Accuracy: 0.7185 \n",
      "Precision: 0.39572192513368987 \n",
      "Recall: 0.7272727272727273 \n",
      "F1: 0.5125541125541125 \n",
      " ____________________\n"
     ]
    }
   ],
   "source": [
    "#показатели для девера решений\n",
    "model_tree = DecisionTreeClassifier(max_depth=8, random_state=321,min_samples_split =2)\n",
    "model_tree.fit(features_upsampled, target_upsampled)\n",
    "predicted_valid_tree = model_tree.predict(features_valid)\n",
    "accuracy_tree = model_tree.score(features_valid, target_valid)\n",
    "precision_tree = precision_score(target_valid, predicted_valid_tree)\n",
    "recall_tree = recall_score(target_valid, predicted_valid_tree)\n",
    "f1_tree = f1_score(target_valid,predicted_valid_tree)\n",
    "\n",
    "#показатели для случайного леса\n",
    "model_forest = RandomForestClassifier(max_depth=12, n_estimators=30,min_samples_leaf=2, random_state=321)\n",
    "model_forest.fit(features_upsampled, target_upsampled)\n",
    "predicted_valid_forest = model_forest.predict(features_valid)\n",
    "accuracy_forest = model_forest.score(features_valid, target_valid) \n",
    "precision_forest = precision_score(target_valid, predicted_valid_forest)\n",
    "recall_forest = recall_score(target_valid, predicted_valid_forest)\n",
    "f1_forest = f1_score(target_valid,predicted_valid_forest)\n",
    "\n",
    "#показатели для логистической регрессии\n",
    "model_logist.fit(features_upsampled, target_upsampled)\n",
    "predicted_valid_logist = model_logist.predict(features_valid)\n",
    "accuracy_logist= model_logist.score(features_valid, target_valid)\n",
    "precision_logist = precision_score(target_valid, predicted_valid_logist)\n",
    "recall_logist = recall_score(target_valid, predicted_valid_logist)\n",
    "f1_logist = f1_score(target_valid,predicted_valid_logist)\n",
    "\n",
    "\n",
    "print('Показетели для дерева решений:','\\nAccuracy:',accuracy_tree,'\\nPrecision:',precision_tree,\n",
    "      '\\nRecall:',recall_tree,'\\nF1:',f1_tree,'\\n','__'*10)\n",
    "print('\\nПоказетели для Случайного леса:','\\nAccuracy:',accuracy_forest,'\\nPrecision:',precision_forest,\n",
    "      '\\nRecall:',recall_forest,'\\nF1:',f1_forest,'\\n','__'*10)\n",
    "print('\\nПоказетели для Логистической регрессии:','\\nAccuracy:',accuracy_logist,'\\nPrecision:',precision_logist,\n",
    "      '\\nRecall:',recall_logist,'\\nF1:',f1_logist,'\\n','__'*10)"
   ]
  },
  {
   "cell_type": "markdown",
   "metadata": {},
   "source": [
    "При применении метода upsampled(увеличения выборки) для всех моделей снизился показатель точности (Accuracy), но вырос показатель F1. Наибольшую точность показывает модель Случайного леса."
   ]
  },
  {
   "cell_type": "markdown",
   "metadata": {},
   "source": [
    "**Уменьшение выборки**"
   ]
  },
  {
   "cell_type": "code",
   "execution_count": 28,
   "metadata": {},
   "outputs": [
    {
     "name": "stdout",
     "output_type": "stream",
     "text": [
      "1    1222\n",
      "0    1194\n",
      "Name: Exited, dtype: int64\n"
     ]
    }
   ],
   "source": [
    "def downsample(features, target, fraction):\n",
    "    features_zeros = features[target == 0]\n",
    "    features_ones = features[target == 1]\n",
    "    target_zeros = target[target == 0]\n",
    "    target_ones = target[target == 1]\n",
    "\n",
    "    features_downsampled = pd.concat(\n",
    "        [features_zeros.sample(frac=fraction, random_state=321)] + [features_ones])\n",
    "    target_downsampled = pd.concat(\n",
    "        [target_zeros.sample(frac=fraction, random_state=321)] + [target_ones])\n",
    "    \n",
    "    features_downsampled, target_downsampled = shuffle(\n",
    "        features_downsampled, target_downsampled, random_state=321)\n",
    "    \n",
    "    return features_downsampled, target_downsampled\n",
    "\n",
    "features_downsampled, target_downsampled = downsample(features_train, target_train, 0.25)\n",
    "\n",
    "print(target_downsampled.value_counts())"
   ]
  },
  {
   "cell_type": "code",
   "execution_count": 29,
   "metadata": {},
   "outputs": [
    {
     "name": "stdout",
     "output_type": "stream",
     "text": [
      "Глубина дерева: 7 \n",
      "Объектов в узле: 2 \n",
      "F1: 0.5773584905660377\n"
     ]
    }
   ],
   "source": [
    "# подберем лучшие параметры для дерева решений при downsampled\n",
    "best_F = 0\n",
    "best_depth = 0\n",
    "best_sample = 0 \n",
    "\n",
    "for depth in range(1,10):\n",
    "    for sample in range(2,5):\n",
    "        model_tree = DecisionTreeClassifier(max_depth=depth, random_state=321,min_samples_split =sample)\n",
    "        model_tree.fit(features_downsampled, target_downsampled)\n",
    "        predicted_valid_tree = model_tree.predict(features_valid)\n",
    "        f1 = f1_score(target_valid,predicted_valid_tree)\n",
    "        if f1 > best_F:\n",
    "            best_F = f1\n",
    "            best_depth = depth\n",
    "            best_sample = sample\n",
    "print(\"Глубина дерева:\", best_depth, \"\\nОбъектов в узле:\",best_sample, \"\\nF1:\", best_F)"
   ]
  },
  {
   "cell_type": "code",
   "execution_count": 30,
   "metadata": {},
   "outputs": [
    {
     "name": "stdout",
     "output_type": "stream",
     "text": [
      "Глубина дерева: 9 \n",
      "Количество деревьев: 20 \n",
      "Объектов в узле: 4\n",
      "F1 0.5981873111782477\n"
     ]
    }
   ],
   "source": [
    "# подберем лучшие параметры для случайного леса при downsampled\n",
    "best_F = 0\n",
    "best_depth = 0\n",
    "\n",
    "for depth in range(2,30):\n",
    "    for est in range(10, 50, 10): \n",
    "        for sample in range(2,5):\n",
    "            model_forest = RandomForestClassifier( max_depth=depth, n_estimators=est, \n",
    "                                           min_samples_leaf=sample, random_state=321)\n",
    "            model_forest.fit(features_downsampled, target_downsampled)\n",
    "            predicted_valid_forest = model_forest.predict(features_valid)\n",
    "            f1 = f1_score(target_valid,predicted_valid_forest)\n",
    "            if f1 > best_F:\n",
    "                best_F = f1\n",
    "                best_depth = depth\n",
    "                best_est = est\n",
    "                best_sample = sample\n",
    "                \n",
    "print(\"Глубина дерева:\", best_depth, \"\\nКоличество деревьев:\",best_est, \"\\nОбъектов в узле:\", best_sample)\n",
    "print(\"F1\",best_F)"
   ]
  },
  {
   "cell_type": "code",
   "execution_count": 31,
   "metadata": {},
   "outputs": [
    {
     "name": "stdout",
     "output_type": "stream",
     "text": [
      "Показетели для дерева решений: \n",
      "Accuracy: 0.776 \n",
      "Precision: 0.4686064318529862 \n",
      "Recall: 0.7518427518427518 \n",
      "F1: 0.5773584905660377 \n",
      " ____________________\n",
      "\n",
      "Показетели для Случайного леса: \n",
      "Accuracy: 0.8005 \n",
      "Precision: 0.5068259385665529 \n",
      "Recall: 0.7297297297297297 \n",
      "F1: 0.5981873111782477 \n",
      " ____________________\n",
      "\n",
      "Показетели для Логической регрессии: \n",
      "Accuracy: 0.7175 \n",
      "Precision: 0.39381720430107525 \n",
      "Recall: 0.7199017199017199 \n",
      "F1: 0.5091225021720243 \n",
      " ____________________\n"
     ]
    }
   ],
   "source": [
    "#показатели для девера решений\n",
    "model_tree = DecisionTreeClassifier(max_depth=7, random_state=321,min_samples_split =2)\n",
    "model_tree.fit(features_downsampled, target_downsampled)\n",
    "predicted_valid_tree = model_tree.predict(features_valid)\n",
    "accuracy_tree = model_tree.score(features_valid, target_valid)\n",
    "precision_tree = precision_score(target_valid, predicted_valid_tree)\n",
    "recall_tree = recall_score(target_valid, predicted_valid_tree)\n",
    "f1_tree = f1_score(target_valid,predicted_valid_tree)\n",
    "\n",
    "#показатели для случайного леса\n",
    "model_forest = RandomForestClassifier(max_depth=9, n_estimators=20,min_samples_leaf=4, random_state=321)\n",
    "model_forest.fit(features_downsampled, target_downsampled)\n",
    "predicted_valid_forest = model_forest.predict(features_valid)\n",
    "accuracy_forest = model_forest.score(features_valid, target_valid) \n",
    "precision_forest = precision_score(target_valid, predicted_valid_forest)\n",
    "recall_forest = recall_score(target_valid, predicted_valid_forest)\n",
    "f1_forest = f1_score(target_valid,predicted_valid_forest)\n",
    "\n",
    "#показатели для логической регрессии\n",
    "model_logist.fit(features_downsampled, target_downsampled)\n",
    "predicted_valid_logist = model_logist.predict(features_valid)\n",
    "accuracy_logist= model_logist.score(features_valid, target_valid)\n",
    "precision_logist = precision_score(target_valid, predicted_valid_logist)\n",
    "recall_logist = recall_score(target_valid, predicted_valid_logist)\n",
    "f1_logist = f1_score(target_valid,predicted_valid_logist)\n",
    "\n",
    "\n",
    "print('Показетели для дерева решений:','\\nAccuracy:',accuracy_tree,'\\nPrecision:',precision_tree,\n",
    "      '\\nRecall:',recall_tree,'\\nF1:',f1_tree,'\\n','__'*10)\n",
    "print('\\nПоказетели для Случайного леса:','\\nAccuracy:',accuracy_forest,'\\nPrecision:',precision_forest,\n",
    "      '\\nRecall:',recall_forest,'\\nF1:',f1_forest,'\\n','__'*10)\n",
    "print('\\nПоказетели для Логической регрессии:','\\nAccuracy:',accuracy_logist,'\\nPrecision:',precision_logist,\n",
    "      '\\nRecall:',recall_logist,'\\nF1:',f1_logist,'\\n','__'*10)"
   ]
  },
  {
   "cell_type": "markdown",
   "metadata": {},
   "source": [
    "При применении метода downsampled (уменьшение выборки) показатель F1 ниже, чем при увеличении выборок. "
   ]
  },
  {
   "cell_type": "markdown",
   "metadata": {},
   "source": [
    "Для дальнейшей работы будет использованна модель Случайного леса с применением метода увеличения выборки"
   ]
  },
  {
   "cell_type": "markdown",
   "metadata": {},
   "source": [
    "## Тестирование модели"
   ]
  },
  {
   "cell_type": "markdown",
   "metadata": {},
   "source": [
    "Для тестирования выбрана модель Случайного леса."
   ]
  },
  {
   "cell_type": "markdown",
   "metadata": {},
   "source": [
    "Протестируем модель "
   ]
  },
  {
   "cell_type": "code",
   "execution_count": 32,
   "metadata": {},
   "outputs": [
    {
     "name": "stdout",
     "output_type": "stream",
     "text": [
      "Accuracy 0.8335\n",
      "Precision 0.5796178343949044\n",
      "Recall 0.6691176470588235\n",
      "F1 0.621160409556314\n"
     ]
    }
   ],
   "source": [
    "#показатели для случайного леса\n",
    "top_model_forest = RandomForestClassifier( max_depth=12, n_estimators=30, \n",
    "                                           min_samples_leaf=2, random_state=321)\n",
    "top_model_forest.fit(features_upsampled, target_upsampled)\n",
    "predicted_forest = top_model_forest.predict(features_test)\n",
    "\n",
    "accuracy_forest = top_model_forest.score(features_test, target_test) \n",
    "\n",
    "precision_forest = precision_score(target_test, predicted_forest)\n",
    "recall_forest = recall_score(target_test, predicted_forest)\n",
    "f1_forest = f1_score(target_test,predicted_forest)\n",
    "print(\"Accuracy\", accuracy_forest)\n",
    "print('Precision', precision_forest)\n",
    "print('Recall',recall_forest)\n",
    "print(\"F1\",f1_forest)"
   ]
  },
  {
   "cell_type": "code",
   "execution_count": 33,
   "metadata": {},
   "outputs": [
    {
     "name": "stdout",
     "output_type": "stream",
     "text": [
      "AUC-ROC Случайный лес: 0.8543057695600067\n",
      "AUC-ROC Случайный лес с балансировкой : 0.854429931520347\n"
     ]
    },
    {
     "data": {
      "image/png": "[encoded data removed]",
      "text/plain": [
       "<Figure size 864x648 with 1 Axes>"
      ]
     },
     "metadata": {
      "needs_background": "light"
     },
     "output_type": "display_data"
    }
   ],
   "source": [
    "plt.figure(figsize=[12,9])\n",
    "\n",
    "plt.plot([0, 1], [0, 1], linestyle='--', label='Модель')\n",
    "\n",
    "#до работы с дисбалансом\n",
    "probabilities_valid = model_forest.predict_proba(features_valid)\n",
    "probabilities_one_valid = probabilities_valid[:, 1]\n",
    "fpr, tpr, thresholds = roc_curve(target_valid, probabilities_one_valid)\n",
    "auc_roc = roc_auc_score(target_valid, probabilities_one_valid)\n",
    "print('AUC-ROC Случайный лес:',auc_roc)\n",
    "plt.plot(fpr, tpr, label='До балансировки данных')\n",
    "#после балансировки данных\n",
    "probabilities_valid = top_model_forest.predict_proba(features_test)\n",
    "probabilities_one_valid = probabilities_valid[:, 1]\n",
    "fpr, tpr, thresholds = roc_curve(target_test, probabilities_one_valid)\n",
    "auc_roc = roc_auc_score(target_test, probabilities_one_valid)\n",
    "print('AUC-ROC Случайный лес с балансировкой :',auc_roc)\n",
    "plt.plot(fpr, tpr, label='После балансировки и подбора парамметров')\n",
    "\n",
    "plt.xlim([0,1])\n",
    "plt.ylim([0,1])\n",
    "\n",
    "plt.xlabel(\"False Positive Rate\")\n",
    "plt.ylabel(\"True Positive Rate\")\n",
    "\n",
    "plt.legend(loc='lower right', fontsize='x-large')\n",
    "\n",
    "plt.title(\"ROC-кривая\")\n",
    "plt.show()"
   ]
  },
  {
   "cell_type": "markdown",
   "metadata": {},
   "source": [
    "Площадь AUC-ROC для модели Случайного леса с балансировкой не показала значительных изменений."
   ]
  },
  {
   "cell_type": "markdown",
   "metadata": {},
   "source": [
    "Проведем проверку модели на адекватность. Для проверки используем модель DummyClassifier. Для праметра strategy зададим знаечние uniform, т.к. оно генерирует предсказания равномерно случайным образом из списка уникальных классов."
   ]
  },
  {
   "cell_type": "code",
   "execution_count": 34,
   "metadata": {},
   "outputs": [
    {
     "name": "stdout",
     "output_type": "stream",
     "text": [
      "Accuracy DummyClassifier: 0.4905\n",
      "Accuracy модели Случайный лес: 0.8335\n"
     ]
    }
   ],
   "source": [
    "model_d = DummyClassifier(strategy='uniform', random_state=321)\n",
    "model_d.fit(features_train, target_train)\n",
    "result_d = model_d.score(features_valid, target_valid)\n",
    "\n",
    "print('Accuracy DummyClassifier:', result_d)\n",
    "print(\"Accuracy модели Случайный лес:\", accuracy_forest)"
   ]
  },
  {
   "cell_type": "markdown",
   "metadata": {},
   "source": [
    "Accuracy модели DummyClassifier значительно ниже, чем у модели Случайного леса. Из чего можно сделать вывод, что выбранная модель адекватна."
   ]
  },
  {
   "cell_type": "markdown",
   "metadata": {},
   "source": [
    "**Вывод** \n",
    "\n",
    "При первоначальной обработке данных пропуски в стотлбце Tenure были заполненны медианой в зависимости от колличества продуктов используемых клиентом. Изменен формат данных в стобце Tenure. Были удалены столбцы RowNumber, CustomerId, Surname, т.к. они не несли информации для обучения моделей. Категориальные признаки были преобразованны в численные при помощи OHE. После преобразований для работы был использован датасет содержащий 12 столбцев и 1000 строк. Данные были разбиты на три выборки в соотношении 3:1:1.(60%:20%:20%). Численные признаки были стандартизированны."
   ]
  },
  {
   "cell_type": "markdown",
   "metadata": {},
   "source": [
    "Был выявлен дисбаланс классов в соотношении 1:4. Обученные на этих данных модели не проходили проверку на адекватность. \n",
    "Для устранения дисбаланса быди применены методы upsampling и downsampling.На новых данных все модели показали результат выше, чем на несбалансированной выборке. \n",
    "\n",
    "Наибольшие показатели F1 и AUC-ROC полученны у модели Случайного леса при применении метода upsampled(увеличения выборки). \n",
    "\n",
    "Лучшие показатели были у модели случайного леса с параметрами (Глубина дерева: 23, Количество деревьев: 40 ,Объектов в узле: 2):\n",
    "\n",
    "- Accuracy 0.8335\n",
    "- Precision 0.5796178343949044\n",
    "- Recall 0.6691176470588235\n",
    "- F1 0.621160409556314\n",
    "- AUC-ROC с балансировкой : 0.854429931520347\n",
    "\n",
    "Финальная модель прошла проверку на адекватность."
   ]
  }
 ],
 "metadata": {
  "ExecuteTimeLog": [
   {
    "duration": 1262,
    "start_time": "2023-02-01T08:00:44.116Z"
   },
   {
    "duration": 118,
    "start_time": "2023-02-01T08:00:46.377Z"
   },
   {
    "duration": 88,
    "start_time": "2023-02-01T08:01:14.601Z"
   },
   {
    "duration": 15,
    "start_time": "2023-02-01T08:02:19.033Z"
   },
   {
    "duration": 7,
    "start_time": "2023-02-01T08:02:46.931Z"
   },
   {
    "duration": 4,
    "start_time": "2023-02-01T08:02:59.332Z"
   },
   {
    "duration": 13,
    "start_time": "2023-02-01T08:04:36.054Z"
   },
   {
    "duration": 126,
    "start_time": "2023-02-01T08:08:41.097Z"
   },
   {
    "duration": 13,
    "start_time": "2023-02-01T08:08:59.920Z"
   },
   {
    "duration": 8,
    "start_time": "2023-02-01T08:09:12.722Z"
   },
   {
    "duration": 13,
    "start_time": "2023-02-01T08:09:17.464Z"
   },
   {
    "duration": 10,
    "start_time": "2023-02-01T08:09:46.903Z"
   },
   {
    "duration": 10,
    "start_time": "2023-02-01T08:10:13.758Z"
   },
   {
    "duration": 6,
    "start_time": "2023-02-01T08:10:21.243Z"
   },
   {
    "duration": 5,
    "start_time": "2023-02-01T08:10:24.980Z"
   },
   {
    "duration": 4,
    "start_time": "2023-02-01T08:17:11.767Z"
   },
   {
    "duration": 49,
    "start_time": "2023-02-01T08:17:16.059Z"
   },
   {
    "duration": 19,
    "start_time": "2023-02-01T08:19:37.242Z"
   },
   {
    "duration": 5,
    "start_time": "2023-02-01T08:19:47.826Z"
   },
   {
    "duration": 11,
    "start_time": "2023-02-01T08:19:59.697Z"
   },
   {
    "duration": 12,
    "start_time": "2023-02-01T08:20:06.212Z"
   },
   {
    "duration": 57,
    "start_time": "2023-02-01T08:20:32.975Z"
   },
   {
    "duration": 5,
    "start_time": "2023-02-01T08:20:48.983Z"
   },
   {
    "duration": 5,
    "start_time": "2023-02-01T08:20:53.944Z"
   },
   {
    "duration": 63,
    "start_time": "2023-02-01T08:21:00.141Z"
   },
   {
    "duration": 17,
    "start_time": "2023-02-01T08:21:02.718Z"
   },
   {
    "duration": 22,
    "start_time": "2023-02-01T08:21:08.232Z"
   },
   {
    "duration": 14,
    "start_time": "2023-02-01T08:21:12.145Z"
   },
   {
    "duration": 71,
    "start_time": "2023-02-01T08:22:43.391Z"
   },
   {
    "duration": 17,
    "start_time": "2023-02-01T08:23:54.871Z"
   },
   {
    "duration": 16,
    "start_time": "2023-02-01T08:24:03.339Z"
   },
   {
    "duration": 5,
    "start_time": "2023-02-01T08:24:07.743Z"
   },
   {
    "duration": 10,
    "start_time": "2023-02-01T08:24:08.286Z"
   },
   {
    "duration": 11,
    "start_time": "2023-02-01T08:24:09.955Z"
   },
   {
    "duration": 1126,
    "start_time": "2023-02-01T08:32:50.460Z"
   },
   {
    "duration": 54,
    "start_time": "2023-02-01T08:32:53.140Z"
   },
   {
    "duration": 52,
    "start_time": "2023-02-01T08:33:30.233Z"
   },
   {
    "duration": 7,
    "start_time": "2023-02-01T08:34:19.354Z"
   },
   {
    "duration": 6,
    "start_time": "2023-02-01T08:34:39.458Z"
   },
   {
    "duration": 21,
    "start_time": "2023-02-01T08:50:34.409Z"
   },
   {
    "duration": 5,
    "start_time": "2023-02-01T08:50:49.382Z"
   },
   {
    "duration": 5,
    "start_time": "2023-02-01T08:52:05.394Z"
   },
   {
    "duration": 5,
    "start_time": "2023-02-01T08:52:08.902Z"
   },
   {
    "duration": 11,
    "start_time": "2023-02-01T08:52:10.045Z"
   },
   {
    "duration": 15,
    "start_time": "2023-02-01T08:52:11.350Z"
   },
   {
    "duration": 6,
    "start_time": "2023-02-01T08:52:54.934Z"
   },
   {
    "duration": 1116,
    "start_time": "2023-02-01T11:50:32.321Z"
   },
   {
    "duration": 109,
    "start_time": "2023-02-01T11:50:34.814Z"
   },
   {
    "duration": 51,
    "start_time": "2023-02-01T11:50:36.625Z"
   },
   {
    "duration": 5,
    "start_time": "2023-02-01T11:50:37.759Z"
   },
   {
    "duration": 15,
    "start_time": "2023-02-01T11:50:39.828Z"
   },
   {
    "duration": 4,
    "start_time": "2023-02-01T11:50:40.506Z"
   },
   {
    "duration": 5,
    "start_time": "2023-02-01T11:50:41.150Z"
   },
   {
    "duration": 10,
    "start_time": "2023-02-01T11:50:41.758Z"
   },
   {
    "duration": 5,
    "start_time": "2023-02-01T11:52:03.517Z"
   },
   {
    "duration": 11,
    "start_time": "2023-02-01T11:52:04.902Z"
   },
   {
    "duration": 24,
    "start_time": "2023-02-01T11:56:49.118Z"
   },
   {
    "duration": 18,
    "start_time": "2023-02-01T11:57:23.557Z"
   },
   {
    "duration": 16,
    "start_time": "2023-02-01T11:57:38.564Z"
   },
   {
    "duration": 1110,
    "start_time": "2023-02-01T11:58:17.063Z"
   },
   {
    "duration": 56,
    "start_time": "2023-02-01T11:58:19.234Z"
   },
   {
    "duration": 51,
    "start_time": "2023-02-01T11:58:21.161Z"
   },
   {
    "duration": 5,
    "start_time": "2023-02-01T11:58:22.237Z"
   },
   {
    "duration": 12,
    "start_time": "2023-02-01T11:58:23.427Z"
   },
   {
    "duration": 4,
    "start_time": "2023-02-01T11:58:23.933Z"
   },
   {
    "duration": 7,
    "start_time": "2023-02-01T11:58:24.410Z"
   },
   {
    "duration": 11,
    "start_time": "2023-02-01T11:58:24.850Z"
   },
   {
    "duration": 21,
    "start_time": "2023-02-01T11:58:29.046Z"
   },
   {
    "duration": 15,
    "start_time": "2023-02-01T12:09:39.006Z"
   },
   {
    "duration": 4,
    "start_time": "2023-02-01T12:09:44.136Z"
   },
   {
    "duration": 130,
    "start_time": "2023-02-01T12:09:46.087Z"
   },
   {
    "duration": 5,
    "start_time": "2023-02-01T12:09:53.129Z"
   },
   {
    "duration": 3,
    "start_time": "2023-02-01T12:09:57.040Z"
   },
   {
    "duration": 5,
    "start_time": "2023-02-01T12:09:59.022Z"
   },
   {
    "duration": 50,
    "start_time": "2023-02-01T12:10:00.198Z"
   },
   {
    "duration": 50,
    "start_time": "2023-02-01T12:10:01.478Z"
   },
   {
    "duration": 11,
    "start_time": "2023-02-01T12:10:03.729Z"
   },
   {
    "duration": 6,
    "start_time": "2023-02-01T12:10:04.581Z"
   },
   {
    "duration": 7,
    "start_time": "2023-02-01T12:10:04.852Z"
   },
   {
    "duration": 10,
    "start_time": "2023-02-01T12:10:05.706Z"
   },
   {
    "duration": 19,
    "start_time": "2023-02-01T12:10:22.194Z"
   },
   {
    "duration": 21,
    "start_time": "2023-02-01T12:20:34.539Z"
   },
   {
    "duration": 31,
    "start_time": "2023-02-01T12:20:52.029Z"
   },
   {
    "duration": 1067,
    "start_time": "2023-02-01T13:41:49.545Z"
   },
   {
    "duration": 181,
    "start_time": "2023-02-01T13:41:52.195Z"
   },
   {
    "duration": 47,
    "start_time": "2023-02-01T13:41:53.523Z"
   },
   {
    "duration": 11,
    "start_time": "2023-02-01T13:41:54.189Z"
   },
   {
    "duration": 5,
    "start_time": "2023-02-01T13:41:54.385Z"
   },
   {
    "duration": 6,
    "start_time": "2023-02-01T13:41:54.621Z"
   },
   {
    "duration": 11,
    "start_time": "2023-02-01T13:41:54.884Z"
   },
   {
    "duration": 16,
    "start_time": "2023-02-01T13:41:56.207Z"
   },
   {
    "duration": 5,
    "start_time": "2023-02-01T13:41:57.499Z"
   },
   {
    "duration": 11,
    "start_time": "2023-02-01T13:41:58.394Z"
   },
   {
    "duration": 111,
    "start_time": "2023-02-01T13:41:59.306Z"
   },
   {
    "duration": 29,
    "start_time": "2023-02-01T13:42:37.092Z"
   },
   {
    "duration": 22,
    "start_time": "2023-02-01T13:43:08.077Z"
   },
   {
    "duration": 10,
    "start_time": "2023-02-01T13:43:23.896Z"
   },
   {
    "duration": 7,
    "start_time": "2023-02-01T13:43:29.689Z"
   },
   {
    "duration": 8,
    "start_time": "2023-02-01T13:44:57.793Z"
   },
   {
    "duration": 21,
    "start_time": "2023-02-01T13:44:58.932Z"
   },
   {
    "duration": 22,
    "start_time": "2023-02-01T13:45:20.181Z"
   },
   {
    "duration": 30,
    "start_time": "2023-02-01T13:45:31.008Z"
   },
   {
    "duration": 28,
    "start_time": "2023-02-01T13:45:39.969Z"
   },
   {
    "duration": 374,
    "start_time": "2023-02-01T14:26:47.578Z"
   },
   {
    "duration": 26065,
    "start_time": "2023-02-01T14:27:06.150Z"
   },
   {
    "duration": 213,
    "start_time": "2023-02-01T14:27:58.944Z"
   },
   {
    "duration": 471,
    "start_time": "2023-02-01T14:30:36.624Z"
   },
   {
    "duration": 111,
    "start_time": "2023-02-01T14:33:13.441Z"
   },
   {
    "duration": 19,
    "start_time": "2023-02-01T14:34:25.709Z"
   },
   {
    "duration": 4,
    "start_time": "2023-02-01T14:34:53.084Z"
   },
   {
    "duration": 5,
    "start_time": "2023-02-01T14:34:57.969Z"
   },
   {
    "duration": 5,
    "start_time": "2023-02-01T14:35:24.667Z"
   },
   {
    "duration": 9,
    "start_time": "2023-02-01T14:39:49.412Z"
   },
   {
    "duration": 4,
    "start_time": "2023-02-01T14:40:11.002Z"
   },
   {
    "duration": 6,
    "start_time": "2023-02-01T14:40:16.570Z"
   },
   {
    "duration": 180,
    "start_time": "2023-02-01T14:43:19.780Z"
   },
   {
    "duration": 5,
    "start_time": "2023-02-01T14:46:31.215Z"
   },
   {
    "duration": 7,
    "start_time": "2023-02-01T14:46:37.827Z"
   },
   {
    "duration": 5,
    "start_time": "2023-02-01T14:57:23.188Z"
   },
   {
    "duration": 1135,
    "start_time": "2023-02-02T08:14:36.233Z"
   },
   {
    "duration": 196,
    "start_time": "2023-02-02T08:14:39.633Z"
   },
   {
    "duration": 45,
    "start_time": "2023-02-02T08:14:41.721Z"
   },
   {
    "duration": 11,
    "start_time": "2023-02-02T08:14:44.782Z"
   },
   {
    "duration": 5,
    "start_time": "2023-02-02T08:14:45.339Z"
   },
   {
    "duration": 5,
    "start_time": "2023-02-02T08:14:46.099Z"
   },
   {
    "duration": 10,
    "start_time": "2023-02-02T08:14:46.947Z"
   },
   {
    "duration": 17,
    "start_time": "2023-02-02T08:14:49.987Z"
   },
   {
    "duration": 5,
    "start_time": "2023-02-02T08:14:53.316Z"
   },
   {
    "duration": 8,
    "start_time": "2023-02-02T08:14:54.782Z"
   },
   {
    "duration": 11,
    "start_time": "2023-02-02T08:14:57.207Z"
   },
   {
    "duration": 31,
    "start_time": "2023-02-02T08:14:58.721Z"
   },
   {
    "duration": 395,
    "start_time": "2023-02-02T08:15:13.444Z"
   },
   {
    "duration": 25944,
    "start_time": "2023-02-02T08:15:14.288Z"
   },
   {
    "duration": 266,
    "start_time": "2023-02-02T08:15:40.234Z"
   },
   {
    "duration": 549,
    "start_time": "2023-02-02T08:15:40.593Z"
   },
   {
    "duration": 104,
    "start_time": "2023-02-02T08:15:41.144Z"
   },
   {
    "duration": 5,
    "start_time": "2023-02-02T08:15:41.250Z"
   },
   {
    "duration": 7,
    "start_time": "2023-02-02T08:15:53.615Z"
   },
   {
    "duration": 6,
    "start_time": "2023-02-02T08:15:54.387Z"
   },
   {
    "duration": 193,
    "start_time": "2023-02-02T08:32:50.186Z"
   },
   {
    "duration": 4,
    "start_time": "2023-02-02T08:33:16.896Z"
   },
   {
    "duration": 72,
    "start_time": "2023-02-02T08:33:22.724Z"
   },
   {
    "duration": 29,
    "start_time": "2023-02-02T08:36:13.886Z"
   },
   {
    "duration": 111,
    "start_time": "2023-02-02T08:37:39.781Z"
   },
   {
    "duration": 4,
    "start_time": "2023-02-02T08:38:01.910Z"
   },
   {
    "duration": 86,
    "start_time": "2023-02-02T08:38:06.707Z"
   },
   {
    "duration": 4,
    "start_time": "2023-02-02T08:38:39.540Z"
   },
   {
    "duration": 239,
    "start_time": "2023-02-02T08:38:45.080Z"
   },
   {
    "duration": 26,
    "start_time": "2023-02-02T08:42:38.077Z"
   },
   {
    "duration": 5,
    "start_time": "2023-02-02T08:42:56.981Z"
   },
   {
    "duration": 65,
    "start_time": "2023-02-02T08:43:03.729Z"
   },
   {
    "duration": 4,
    "start_time": "2023-02-02T08:43:28.239Z"
   },
   {
    "duration": 286,
    "start_time": "2023-02-02T08:43:34.354Z"
   },
   {
    "duration": 5,
    "start_time": "2023-02-02T08:44:19.188Z"
   },
   {
    "duration": 20,
    "start_time": "2023-02-02T08:44:33.232Z"
   },
   {
    "duration": 4,
    "start_time": "2023-02-02T08:52:43.876Z"
   },
   {
    "duration": 1613,
    "start_time": "2023-02-02T14:08:33.752Z"
   },
   {
    "duration": 191,
    "start_time": "2023-02-02T14:08:36.815Z"
   },
   {
    "duration": 67,
    "start_time": "2023-02-02T14:08:37.946Z"
   },
   {
    "duration": 28,
    "start_time": "2023-02-02T14:08:38.662Z"
   },
   {
    "duration": 7,
    "start_time": "2023-02-02T14:08:39.056Z"
   },
   {
    "duration": 5,
    "start_time": "2023-02-02T14:08:39.658Z"
   },
   {
    "duration": 10,
    "start_time": "2023-02-02T14:08:40.586Z"
   },
   {
    "duration": 16,
    "start_time": "2023-02-02T14:08:43.889Z"
   },
   {
    "duration": 5,
    "start_time": "2023-02-02T14:08:48.886Z"
   },
   {
    "duration": 10,
    "start_time": "2023-02-02T14:08:49.872Z"
   },
   {
    "duration": 9,
    "start_time": "2023-02-02T14:08:51.084Z"
   },
   {
    "duration": 29,
    "start_time": "2023-02-02T14:08:51.831Z"
   },
   {
    "duration": 36,
    "start_time": "2023-02-02T14:09:03.288Z"
   },
   {
    "duration": 672,
    "start_time": "2023-02-02T14:13:52.747Z"
   },
   {
    "duration": 1212,
    "start_time": "2023-02-02T14:15:39.446Z"
   },
   {
    "duration": 1057,
    "start_time": "2023-02-02T14:15:47.902Z"
   },
   {
    "duration": 1435,
    "start_time": "2023-02-02T14:18:20.713Z"
   },
   {
    "duration": 15,
    "start_time": "2023-02-02T14:20:26.641Z"
   },
   {
    "duration": 5,
    "start_time": "2023-02-02T14:20:36.549Z"
   },
   {
    "duration": 9,
    "start_time": "2023-02-02T14:20:37.623Z"
   },
   {
    "duration": 8,
    "start_time": "2023-02-02T14:20:40.014Z"
   },
   {
    "duration": 31,
    "start_time": "2023-02-02T14:20:40.568Z"
   },
   {
    "duration": 916,
    "start_time": "2023-02-02T14:20:43.834Z"
   },
   {
    "duration": 119,
    "start_time": "2023-02-02T14:20:50.088Z"
   },
   {
    "duration": 102,
    "start_time": "2023-02-02T14:20:52.058Z"
   },
   {
    "duration": 6,
    "start_time": "2023-02-02T14:20:53.522Z"
   },
   {
    "duration": 6,
    "start_time": "2023-02-02T14:20:54.523Z"
   },
   {
    "duration": 139,
    "start_time": "2023-02-02T14:20:59.411Z"
   },
   {
    "duration": 27,
    "start_time": "2023-02-02T14:21:01.686Z"
   },
   {
    "duration": 235,
    "start_time": "2023-02-02T14:21:03.142Z"
   },
   {
    "duration": 257,
    "start_time": "2023-02-02T14:21:04.179Z"
   },
   {
    "duration": 59,
    "start_time": "2023-02-02T14:21:05.392Z"
   },
   {
    "duration": 65,
    "start_time": "2023-02-02T14:29:40.186Z"
   },
   {
    "duration": 69,
    "start_time": "2023-02-02T14:29:58.642Z"
   },
   {
    "duration": 65,
    "start_time": "2023-02-02T14:30:06.586Z"
   },
   {
    "duration": 137,
    "start_time": "2023-02-02T14:30:14.413Z"
   },
   {
    "duration": 101,
    "start_time": "2023-02-02T14:30:28.851Z"
   },
   {
    "duration": 104,
    "start_time": "2023-02-02T14:30:37.149Z"
   },
   {
    "duration": 1689,
    "start_time": "2023-02-03T07:35:45.492Z"
   },
   {
    "duration": 97,
    "start_time": "2023-02-03T07:35:48.603Z"
   },
   {
    "duration": 54,
    "start_time": "2023-02-03T07:35:49.914Z"
   },
   {
    "duration": 14,
    "start_time": "2023-02-03T07:35:50.661Z"
   },
   {
    "duration": 7,
    "start_time": "2023-02-03T07:35:50.973Z"
   },
   {
    "duration": 7,
    "start_time": "2023-02-03T07:35:51.328Z"
   },
   {
    "duration": 14,
    "start_time": "2023-02-03T07:35:51.824Z"
   },
   {
    "duration": 20,
    "start_time": "2023-02-03T07:35:53.771Z"
   },
   {
    "duration": 7,
    "start_time": "2023-02-03T07:35:55.472Z"
   },
   {
    "duration": 12,
    "start_time": "2023-02-03T07:35:56.926Z"
   },
   {
    "duration": 13,
    "start_time": "2023-02-03T07:36:01.594Z"
   },
   {
    "duration": 43,
    "start_time": "2023-02-03T07:36:02.475Z"
   },
   {
    "duration": 997,
    "start_time": "2023-02-03T07:36:18.494Z"
   },
   {
    "duration": 139,
    "start_time": "2023-02-03T07:36:24.446Z"
   },
   {
    "duration": 9,
    "start_time": "2023-02-03T07:40:42.987Z"
   },
   {
    "duration": 10,
    "start_time": "2023-02-03T07:41:03.155Z"
   },
   {
    "duration": 10,
    "start_time": "2023-02-03T07:41:13.343Z"
   },
   {
    "duration": 10,
    "start_time": "2023-02-03T07:41:24.729Z"
   },
   {
    "duration": 6,
    "start_time": "2023-02-03T07:52:19.363Z"
   },
   {
    "duration": 102,
    "start_time": "2023-02-03T07:55:04.802Z"
   },
   {
    "duration": 167,
    "start_time": "2023-02-03T07:55:10.713Z"
   },
   {
    "duration": 161,
    "start_time": "2023-02-03T07:55:21.517Z"
   },
   {
    "duration": 140,
    "start_time": "2023-02-03T07:55:31.999Z"
   },
   {
    "duration": 204,
    "start_time": "2023-02-03T07:55:49.588Z"
   },
   {
    "duration": 1256,
    "start_time": "2023-02-03T08:07:12.042Z"
   },
   {
    "duration": 432,
    "start_time": "2023-02-03T08:11:32.844Z"
   },
   {
    "duration": 31928,
    "start_time": "2023-02-03T08:13:08.060Z"
   },
   {
    "duration": 292,
    "start_time": "2023-02-03T08:15:59.412Z"
   },
   {
    "duration": 82,
    "start_time": "2023-02-03T08:17:19.434Z"
   },
   {
    "duration": 137,
    "start_time": "2023-02-03T08:17:32.055Z"
   },
   {
    "duration": 1735,
    "start_time": "2023-02-03T08:24:41.410Z"
   },
   {
    "duration": 76,
    "start_time": "2023-02-03T08:24:43.147Z"
   },
   {
    "duration": 82,
    "start_time": "2023-02-03T08:24:43.226Z"
   },
   {
    "duration": 18,
    "start_time": "2023-02-03T08:24:43.311Z"
   },
   {
    "duration": 9,
    "start_time": "2023-02-03T08:24:43.332Z"
   },
   {
    "duration": 6,
    "start_time": "2023-02-03T08:24:43.343Z"
   },
   {
    "duration": 46,
    "start_time": "2023-02-03T08:24:43.351Z"
   },
   {
    "duration": 34,
    "start_time": "2023-02-03T08:24:43.402Z"
   },
   {
    "duration": 6,
    "start_time": "2023-02-03T08:24:43.439Z"
   },
   {
    "duration": 38,
    "start_time": "2023-02-03T08:24:43.447Z"
   },
   {
    "duration": 14,
    "start_time": "2023-02-03T08:24:43.488Z"
   },
   {
    "duration": 74,
    "start_time": "2023-02-03T08:24:43.505Z"
   },
   {
    "duration": 10,
    "start_time": "2023-02-03T08:24:43.581Z"
   },
   {
    "duration": 254,
    "start_time": "2023-02-03T08:24:43.593Z"
   },
   {
    "duration": 542,
    "start_time": "2023-02-03T08:24:43.849Z"
   },
   {
    "duration": 31008,
    "start_time": "2023-02-03T08:24:46.510Z"
   },
   {
    "duration": 1149,
    "start_time": "2023-02-03T08:26:59.250Z"
   },
   {
    "duration": 41170,
    "start_time": "2023-02-03T08:27:19.555Z"
   },
   {
    "duration": 537,
    "start_time": "2023-02-03T08:28:15.355Z"
   },
   {
    "duration": 360,
    "start_time": "2023-02-03T08:29:29.032Z"
   },
   {
    "duration": 32,
    "start_time": "2023-02-03T08:30:40.356Z"
   },
   {
    "duration": 467,
    "start_time": "2023-02-03T08:46:04.761Z"
   },
   {
    "duration": 158,
    "start_time": "2023-02-03T08:46:42.037Z"
   },
   {
    "duration": 258,
    "start_time": "2023-02-03T08:46:56.635Z"
   },
   {
    "duration": 146,
    "start_time": "2023-02-03T08:48:03.338Z"
   },
   {
    "duration": 1566,
    "start_time": "2023-02-03T09:24:22.313Z"
   },
   {
    "duration": 68,
    "start_time": "2023-02-03T09:24:23.881Z"
   },
   {
    "duration": 63,
    "start_time": "2023-02-03T09:24:23.950Z"
   },
   {
    "duration": 13,
    "start_time": "2023-02-03T09:24:24.016Z"
   },
   {
    "duration": 5,
    "start_time": "2023-02-03T09:24:24.032Z"
   },
   {
    "duration": 15,
    "start_time": "2023-02-03T09:24:24.039Z"
   },
   {
    "duration": 32,
    "start_time": "2023-02-03T09:24:24.056Z"
   },
   {
    "duration": 35,
    "start_time": "2023-02-03T09:24:24.090Z"
   },
   {
    "duration": 6,
    "start_time": "2023-02-03T09:24:24.127Z"
   },
   {
    "duration": 18,
    "start_time": "2023-02-03T09:24:24.135Z"
   },
   {
    "duration": 9,
    "start_time": "2023-02-03T09:24:24.155Z"
   },
   {
    "duration": 63,
    "start_time": "2023-02-03T09:24:24.166Z"
   },
   {
    "duration": 6,
    "start_time": "2023-02-03T09:24:24.230Z"
   },
   {
    "duration": 186,
    "start_time": "2023-02-03T09:24:24.239Z"
   },
   {
    "duration": 498,
    "start_time": "2023-02-03T09:24:24.427Z"
   },
   {
    "duration": 37535,
    "start_time": "2023-02-03T09:24:24.927Z"
   },
   {
    "duration": 442,
    "start_time": "2023-02-03T09:25:02.464Z"
   },
   {
    "duration": 296,
    "start_time": "2023-02-03T09:25:02.909Z"
   },
   {
    "duration": 278,
    "start_time": "2023-02-03T09:25:03.210Z"
   },
   {
    "duration": 405,
    "start_time": "2023-02-03T09:25:10.749Z"
   },
   {
    "duration": 467,
    "start_time": "2023-02-03T09:25:52.298Z"
   },
   {
    "duration": 396,
    "start_time": "2023-02-03T09:26:18.677Z"
   },
   {
    "duration": 119,
    "start_time": "2023-02-03T09:30:02.881Z"
   },
   {
    "duration": 187,
    "start_time": "2023-02-03T09:30:17.300Z"
   },
   {
    "duration": 59,
    "start_time": "2023-02-03T09:30:25.578Z"
   },
   {
    "duration": 75,
    "start_time": "2023-02-03T09:30:30.751Z"
   },
   {
    "duration": 64,
    "start_time": "2023-02-03T09:30:44.728Z"
   },
   {
    "duration": 76,
    "start_time": "2023-02-03T09:31:04.222Z"
   },
   {
    "duration": 14,
    "start_time": "2023-02-03T09:36:35.516Z"
   },
   {
    "duration": 25,
    "start_time": "2023-02-03T09:37:49.171Z"
   },
   {
    "duration": 1387,
    "start_time": "2023-02-03T09:38:50.025Z"
   },
   {
    "duration": 50,
    "start_time": "2023-02-03T09:38:51.624Z"
   },
   {
    "duration": 56,
    "start_time": "2023-02-03T09:38:53.265Z"
   },
   {
    "duration": 13,
    "start_time": "2023-02-03T09:38:54.317Z"
   },
   {
    "duration": 6,
    "start_time": "2023-02-03T09:38:54.728Z"
   },
   {
    "duration": 9,
    "start_time": "2023-02-03T09:38:55.180Z"
   },
   {
    "duration": 11,
    "start_time": "2023-02-03T09:38:55.664Z"
   },
   {
    "duration": 19,
    "start_time": "2023-02-03T09:38:57.501Z"
   },
   {
    "duration": 5,
    "start_time": "2023-02-03T09:38:58.929Z"
   },
   {
    "duration": 13,
    "start_time": "2023-02-03T09:38:59.705Z"
   },
   {
    "duration": 10,
    "start_time": "2023-02-03T09:39:00.527Z"
   },
   {
    "duration": 35,
    "start_time": "2023-02-03T09:39:00.925Z"
   },
   {
    "duration": 7,
    "start_time": "2023-02-03T09:39:03.545Z"
   },
   {
    "duration": 147,
    "start_time": "2023-02-03T09:39:04.321Z"
   },
   {
    "duration": 442,
    "start_time": "2023-02-03T09:39:13.169Z"
   },
   {
    "duration": 35533,
    "start_time": "2023-02-03T09:39:14.742Z"
   },
   {
    "duration": 416,
    "start_time": "2023-02-03T09:39:50.277Z"
   },
   {
    "duration": 303,
    "start_time": "2023-02-03T09:39:50.696Z"
   },
   {
    "duration": 358,
    "start_time": "2023-02-03T09:40:12.948Z"
   },
   {
    "duration": 381,
    "start_time": "2023-02-03T09:40:24.821Z"
   },
   {
    "duration": 97,
    "start_time": "2023-02-03T09:40:27.510Z"
   },
   {
    "duration": 420,
    "start_time": "2023-02-03T09:40:41.235Z"
   },
   {
    "duration": 28,
    "start_time": "2023-02-03T09:40:49.566Z"
   },
   {
    "duration": 15,
    "start_time": "2023-02-03T09:41:50.777Z"
   },
   {
    "duration": 22,
    "start_time": "2023-02-03T09:42:39.626Z"
   },
   {
    "duration": 14,
    "start_time": "2023-02-03T09:43:25.269Z"
   },
   {
    "duration": 16,
    "start_time": "2023-02-03T09:43:39.379Z"
   },
   {
    "duration": 25,
    "start_time": "2023-02-03T09:45:04.808Z"
   },
   {
    "duration": 21,
    "start_time": "2023-02-03T09:45:12.282Z"
   },
   {
    "duration": 13,
    "start_time": "2023-02-03T09:45:18.754Z"
   },
   {
    "duration": 19,
    "start_time": "2023-02-03T09:45:24.691Z"
   },
   {
    "duration": 13,
    "start_time": "2023-02-03T09:45:30.222Z"
   },
   {
    "duration": 12,
    "start_time": "2023-02-03T09:45:36.236Z"
   },
   {
    "duration": 737,
    "start_time": "2023-02-03T09:50:34.066Z"
   },
   {
    "duration": 189,
    "start_time": "2023-02-03T09:51:50.824Z"
   },
   {
    "duration": 782,
    "start_time": "2023-02-03T09:55:34.813Z"
   },
   {
    "duration": 391,
    "start_time": "2023-02-03T09:55:56.063Z"
   },
   {
    "duration": 565,
    "start_time": "2023-02-03T09:56:34.538Z"
   },
   {
    "duration": 13,
    "start_time": "2023-02-03T09:56:38.929Z"
   },
   {
    "duration": 926,
    "start_time": "2023-02-03T09:56:40.282Z"
   },
   {
    "duration": 397,
    "start_time": "2023-02-03T09:56:46.738Z"
   },
   {
    "duration": 57790,
    "start_time": "2023-02-03T10:05:25.058Z"
   },
   {
    "duration": 56385,
    "start_time": "2023-02-03T10:09:26.046Z"
   },
   {
    "duration": 69,
    "start_time": "2023-02-03T11:52:44.541Z"
   },
   {
    "duration": 1620,
    "start_time": "2023-02-03T11:52:49.416Z"
   },
   {
    "duration": 60,
    "start_time": "2023-02-03T11:52:51.038Z"
   },
   {
    "duration": 55,
    "start_time": "2023-02-03T11:52:51.100Z"
   },
   {
    "duration": 33,
    "start_time": "2023-02-03T11:52:51.158Z"
   },
   {
    "duration": 7,
    "start_time": "2023-02-03T11:52:51.193Z"
   },
   {
    "duration": 12,
    "start_time": "2023-02-03T11:52:51.202Z"
   },
   {
    "duration": 13,
    "start_time": "2023-02-03T11:52:51.216Z"
   },
   {
    "duration": 19,
    "start_time": "2023-02-03T11:52:51.231Z"
   },
   {
    "duration": 18,
    "start_time": "2023-02-03T11:52:51.251Z"
   },
   {
    "duration": 46,
    "start_time": "2023-02-03T11:52:51.285Z"
   },
   {
    "duration": 38,
    "start_time": "2023-02-03T11:52:51.333Z"
   },
   {
    "duration": 78,
    "start_time": "2023-02-03T11:52:51.373Z"
   },
   {
    "duration": 7,
    "start_time": "2023-02-03T11:52:51.453Z"
   },
   {
    "duration": 176,
    "start_time": "2023-02-03T11:52:51.462Z"
   },
   {
    "duration": 464,
    "start_time": "2023-02-03T11:52:51.640Z"
   },
   {
    "duration": 36669,
    "start_time": "2023-02-03T11:52:52.106Z"
   },
   {
    "duration": 422,
    "start_time": "2023-02-03T11:53:28.777Z"
   },
   {
    "duration": 286,
    "start_time": "2023-02-03T11:53:29.203Z"
   },
   {
    "duration": 513,
    "start_time": "2023-02-03T11:53:29.490Z"
   },
   {
    "duration": 94,
    "start_time": "2023-02-03T11:53:30.005Z"
   },
   {
    "duration": 95,
    "start_time": "2023-02-03T11:53:30.104Z"
   },
   {
    "duration": 797,
    "start_time": "2023-02-03T11:53:30.202Z"
   },
   {
    "duration": 93,
    "start_time": "2023-02-03T11:53:31.001Z"
   },
   {
    "duration": 484,
    "start_time": "2023-02-03T11:53:31.102Z"
   },
   {
    "duration": 170,
    "start_time": "2023-02-03T11:53:31.588Z"
   },
   {
    "duration": 58350,
    "start_time": "2023-02-03T11:53:31.760Z"
   },
   {
    "duration": 57876,
    "start_time": "2023-02-03T11:54:30.226Z"
   },
   {
    "duration": 116,
    "start_time": "2023-02-03T12:00:41.582Z"
   },
   {
    "duration": 122,
    "start_time": "2023-02-03T12:01:16.276Z"
   },
   {
    "duration": 108,
    "start_time": "2023-02-03T12:01:39.208Z"
   },
   {
    "duration": 131,
    "start_time": "2023-02-03T12:02:41.177Z"
   },
   {
    "duration": 207,
    "start_time": "2023-02-03T12:03:18.356Z"
   },
   {
    "duration": 292,
    "start_time": "2023-02-03T12:03:43.121Z"
   },
   {
    "duration": 380,
    "start_time": "2023-02-03T12:04:05.998Z"
   },
   {
    "duration": 464,
    "start_time": "2023-02-03T12:04:26.532Z"
   },
   {
    "duration": 423,
    "start_time": "2023-02-03T12:04:34.081Z"
   },
   {
    "duration": 368,
    "start_time": "2023-02-03T12:04:41.032Z"
   },
   {
    "duration": 376,
    "start_time": "2023-02-03T12:04:47.525Z"
   },
   {
    "duration": 404,
    "start_time": "2023-02-03T12:04:53.269Z"
   },
   {
    "duration": 277,
    "start_time": "2023-02-03T12:05:03.613Z"
   },
   {
    "duration": 254,
    "start_time": "2023-02-03T12:05:08.721Z"
   },
   {
    "duration": 289,
    "start_time": "2023-02-03T12:05:14.514Z"
   },
   {
    "duration": 339,
    "start_time": "2023-02-03T12:05:19.411Z"
   },
   {
    "duration": 336,
    "start_time": "2023-02-03T12:05:24.321Z"
   },
   {
    "duration": 360,
    "start_time": "2023-02-03T12:05:31.589Z"
   },
   {
    "duration": 397,
    "start_time": "2023-02-03T12:05:37.853Z"
   },
   {
    "duration": 462,
    "start_time": "2023-02-03T12:05:43.131Z"
   },
   {
    "duration": 442,
    "start_time": "2023-02-03T12:05:50.167Z"
   },
   {
    "duration": 455,
    "start_time": "2023-02-03T12:05:55.926Z"
   },
   {
    "duration": 81451,
    "start_time": "2023-02-03T12:06:22.495Z"
   },
   {
    "duration": 47995,
    "start_time": "2023-02-03T12:08:54.163Z"
   },
   {
    "duration": 244175,
    "start_time": "2023-02-03T12:10:07.579Z"
   },
   {
    "duration": 108,
    "start_time": "2023-02-03T12:15:41.535Z"
   },
   {
    "duration": 48420,
    "start_time": "2023-02-03T12:15:53.081Z"
   },
   {
    "duration": 48876,
    "start_time": "2023-02-03T12:17:43.516Z"
   },
   {
    "duration": 9921,
    "start_time": "2023-02-03T12:19:04.700Z"
   },
   {
    "duration": 4183,
    "start_time": "2023-02-03T12:20:14.762Z"
   },
   {
    "duration": 10544,
    "start_time": "2023-02-03T12:20:37.555Z"
   },
   {
    "duration": 10838,
    "start_time": "2023-02-03T12:21:45.423Z"
   },
   {
    "duration": 10777,
    "start_time": "2023-02-03T12:22:39.304Z"
   },
   {
    "duration": 54749,
    "start_time": "2023-02-03T12:24:36.812Z"
   },
   {
    "duration": 56013,
    "start_time": "2023-02-03T12:29:56.655Z"
   },
   {
    "duration": 1508,
    "start_time": "2023-02-03T13:15:50.442Z"
   },
   {
    "duration": 115,
    "start_time": "2023-02-03T13:15:53.181Z"
   },
   {
    "duration": 51,
    "start_time": "2023-02-03T13:15:53.861Z"
   },
   {
    "duration": 13,
    "start_time": "2023-02-03T13:15:54.498Z"
   },
   {
    "duration": 6,
    "start_time": "2023-02-03T13:15:54.745Z"
   },
   {
    "duration": 6,
    "start_time": "2023-02-03T13:15:54.984Z"
   },
   {
    "duration": 10,
    "start_time": "2023-02-03T13:15:55.252Z"
   },
   {
    "duration": 17,
    "start_time": "2023-02-03T13:15:56.262Z"
   },
   {
    "duration": 6,
    "start_time": "2023-02-03T13:15:57.025Z"
   },
   {
    "duration": 11,
    "start_time": "2023-02-03T13:15:57.491Z"
   },
   {
    "duration": 11,
    "start_time": "2023-02-03T13:15:57.967Z"
   },
   {
    "duration": 36,
    "start_time": "2023-02-03T13:15:58.232Z"
   },
   {
    "duration": 5,
    "start_time": "2023-02-03T13:15:59.176Z"
   },
   {
    "duration": 141,
    "start_time": "2023-02-03T13:15:59.416Z"
   },
   {
    "duration": 397,
    "start_time": "2023-02-03T13:16:00.385Z"
   },
   {
    "duration": 19019,
    "start_time": "2023-02-03T13:16:01.033Z"
   },
   {
    "duration": 1410,
    "start_time": "2023-02-03T13:16:31.203Z"
   },
   {
    "duration": 54,
    "start_time": "2023-02-03T13:16:33.848Z"
   },
   {
    "duration": 50,
    "start_time": "2023-02-03T13:16:35.165Z"
   },
   {
    "duration": 13,
    "start_time": "2023-02-03T13:16:36.795Z"
   },
   {
    "duration": 6,
    "start_time": "2023-02-03T13:16:37.105Z"
   },
   {
    "duration": 5,
    "start_time": "2023-02-03T13:16:37.438Z"
   },
   {
    "duration": 10,
    "start_time": "2023-02-03T13:16:38.339Z"
   },
   {
    "duration": 18,
    "start_time": "2023-02-03T13:16:40.804Z"
   },
   {
    "duration": 6,
    "start_time": "2023-02-03T13:16:43.489Z"
   },
   {
    "duration": 10,
    "start_time": "2023-02-03T13:16:47.291Z"
   },
   {
    "duration": 10,
    "start_time": "2023-02-03T13:16:50.338Z"
   },
   {
    "duration": 35,
    "start_time": "2023-02-03T13:16:52.310Z"
   },
   {
    "duration": 6,
    "start_time": "2023-02-03T13:16:55.448Z"
   },
   {
    "duration": 147,
    "start_time": "2023-02-03T13:16:56.185Z"
   },
   {
    "duration": 312,
    "start_time": "2023-02-03T13:17:17.690Z"
   },
   {
    "duration": 1280,
    "start_time": "2023-02-03T13:18:26.354Z"
   },
   {
    "duration": 50,
    "start_time": "2023-02-03T13:18:28.609Z"
   },
   {
    "duration": 58,
    "start_time": "2023-02-03T13:18:29.754Z"
   },
   {
    "duration": 14,
    "start_time": "2023-02-03T13:18:30.257Z"
   },
   {
    "duration": 6,
    "start_time": "2023-02-03T13:18:30.410Z"
   },
   {
    "duration": 6,
    "start_time": "2023-02-03T13:18:30.613Z"
   },
   {
    "duration": 11,
    "start_time": "2023-02-03T13:18:30.845Z"
   },
   {
    "duration": 19,
    "start_time": "2023-02-03T13:18:34.441Z"
   },
   {
    "duration": 5,
    "start_time": "2023-02-03T13:18:35.989Z"
   },
   {
    "duration": 12,
    "start_time": "2023-02-03T13:18:37.670Z"
   },
   {
    "duration": 10,
    "start_time": "2023-02-03T13:18:40.491Z"
   },
   {
    "duration": 34,
    "start_time": "2023-02-03T13:18:41.617Z"
   },
   {
    "duration": 5,
    "start_time": "2023-02-03T13:18:45.616Z"
   },
   {
    "duration": 137,
    "start_time": "2023-02-03T13:18:46.338Z"
   },
   {
    "duration": 742,
    "start_time": "2023-02-03T13:18:55.167Z"
   },
   {
    "duration": 163,
    "start_time": "2023-02-03T13:19:00.652Z"
   },
   {
    "duration": 470,
    "start_time": "2023-02-03T13:19:06.713Z"
   },
   {
    "duration": 73,
    "start_time": "2023-02-03T13:19:10.837Z"
   },
   {
    "duration": 14,
    "start_time": "2023-02-03T13:19:16.536Z"
   },
   {
    "duration": 13,
    "start_time": "2023-02-03T13:19:26.210Z"
   },
   {
    "duration": 128,
    "start_time": "2023-02-03T13:19:53.676Z"
   },
   {
    "duration": 16031,
    "start_time": "2023-02-03T13:21:03.939Z"
   },
   {
    "duration": 49351,
    "start_time": "2023-02-03T13:21:21.638Z"
   },
   {
    "duration": 81298,
    "start_time": "2023-02-03T13:22:46.347Z"
   },
   {
    "duration": 113701,
    "start_time": "2023-02-03T13:24:50.603Z"
   },
   {
    "duration": 132063,
    "start_time": "2023-02-03T13:31:42.745Z"
   },
   {
    "duration": 81741,
    "start_time": "2023-02-03T13:34:06.063Z"
   },
   {
    "duration": 395,
    "start_time": "2023-02-03T13:36:22.573Z"
   },
   {
    "duration": 377,
    "start_time": "2023-02-03T13:36:39.930Z"
   },
   {
    "duration": 386,
    "start_time": "2023-02-03T13:38:22.088Z"
   },
   {
    "duration": 417,
    "start_time": "2023-02-03T13:40:39.530Z"
   },
   {
    "duration": 451,
    "start_time": "2023-02-03T13:43:43.287Z"
   },
   {
    "duration": 230,
    "start_time": "2023-02-03T13:44:25.841Z"
   },
   {
    "duration": 261,
    "start_time": "2023-02-03T13:45:18.822Z"
   },
   {
    "duration": 244,
    "start_time": "2023-02-03T14:18:34.930Z"
   },
   {
    "duration": 7,
    "start_time": "2023-02-03T14:20:22.819Z"
   },
   {
    "duration": 21,
    "start_time": "2023-02-03T14:21:57.625Z"
   },
   {
    "duration": 8,
    "start_time": "2023-02-03T14:22:24.090Z"
   },
   {
    "duration": 1557,
    "start_time": "2023-02-04T08:09:59.007Z"
   },
   {
    "duration": 4,
    "start_time": "2023-02-04T08:47:43.660Z"
   },
   {
    "duration": 188,
    "start_time": "2023-02-04T08:47:53.238Z"
   },
   {
    "duration": 47,
    "start_time": "2023-02-04T08:47:54.792Z"
   },
   {
    "duration": 11,
    "start_time": "2023-02-04T08:47:55.270Z"
   },
   {
    "duration": 5,
    "start_time": "2023-02-04T08:47:55.487Z"
   },
   {
    "duration": 5,
    "start_time": "2023-02-04T08:47:55.729Z"
   },
   {
    "duration": 13,
    "start_time": "2023-02-04T08:47:55.973Z"
   },
   {
    "duration": 2,
    "start_time": "2023-02-04T08:47:58.184Z"
   },
   {
    "duration": 5,
    "start_time": "2023-02-04T08:48:01.976Z"
   },
   {
    "duration": 77,
    "start_time": "2023-02-04T08:48:03.456Z"
   },
   {
    "duration": 131,
    "start_time": "2023-02-04T08:48:10.300Z"
   },
   {
    "duration": 15,
    "start_time": "2023-02-04T08:48:34.752Z"
   },
   {
    "duration": 22,
    "start_time": "2023-02-04T08:48:39.564Z"
   },
   {
    "duration": 33,
    "start_time": "2023-02-04T08:48:56.177Z"
   },
   {
    "duration": 39,
    "start_time": "2023-02-04T08:51:40.797Z"
   },
   {
    "duration": 46,
    "start_time": "2023-02-04T08:54:00.776Z"
   },
   {
    "duration": 9,
    "start_time": "2023-02-04T08:54:49.337Z"
   },
   {
    "duration": 1355,
    "start_time": "2023-02-04T08:55:11.402Z"
   },
   {
    "duration": 61,
    "start_time": "2023-02-04T08:55:15.358Z"
   },
   {
    "duration": 52,
    "start_time": "2023-02-04T08:55:18.685Z"
   },
   {
    "duration": 15,
    "start_time": "2023-02-04T08:55:22.705Z"
   },
   {
    "duration": 5,
    "start_time": "2023-02-04T08:55:23.506Z"
   },
   {
    "duration": 5,
    "start_time": "2023-02-04T08:55:24.240Z"
   },
   {
    "duration": 9,
    "start_time": "2023-02-04T08:55:26.365Z"
   },
   {
    "duration": 4,
    "start_time": "2023-02-04T08:55:31.165Z"
   },
   {
    "duration": 14,
    "start_time": "2023-02-04T08:55:35.144Z"
   },
   {
    "duration": 14,
    "start_time": "2023-02-04T08:55:47.691Z"
   },
   {
    "duration": 172,
    "start_time": "2023-02-04T09:04:01.182Z"
   },
   {
    "duration": 23,
    "start_time": "2023-02-04T09:04:11.634Z"
   },
   {
    "duration": 19,
    "start_time": "2023-02-04T09:05:01.411Z"
   },
   {
    "duration": 9,
    "start_time": "2023-02-04T09:18:27.631Z"
   },
   {
    "duration": 5,
    "start_time": "2023-02-04T09:18:34.636Z"
   },
   {
    "duration": 59,
    "start_time": "2023-02-04T09:18:36.271Z"
   },
   {
    "duration": 53,
    "start_time": "2023-02-04T09:18:36.782Z"
   },
   {
    "duration": 11,
    "start_time": "2023-02-04T09:18:37.330Z"
   },
   {
    "duration": 5,
    "start_time": "2023-02-04T09:18:37.442Z"
   },
   {
    "duration": 5,
    "start_time": "2023-02-04T09:18:37.630Z"
   },
   {
    "duration": 13,
    "start_time": "2023-02-04T09:18:37.733Z"
   },
   {
    "duration": 4,
    "start_time": "2023-02-04T09:18:41.418Z"
   },
   {
    "duration": 13,
    "start_time": "2023-02-04T09:18:42.734Z"
   },
   {
    "duration": 9,
    "start_time": "2023-02-04T09:18:47.321Z"
   },
   {
    "duration": 10,
    "start_time": "2023-02-04T09:18:55.805Z"
   },
   {
    "duration": 32,
    "start_time": "2023-02-04T09:19:41.144Z"
   },
   {
    "duration": 10,
    "start_time": "2023-02-04T09:20:01.663Z"
   },
   {
    "duration": 26,
    "start_time": "2023-02-04T09:20:18.482Z"
   },
   {
    "duration": 1604,
    "start_time": "2023-02-04T12:56:47.705Z"
   },
   {
    "duration": 190,
    "start_time": "2023-02-04T12:57:00.111Z"
   },
   {
    "duration": 71,
    "start_time": "2023-02-04T12:57:04.529Z"
   },
   {
    "duration": 12,
    "start_time": "2023-02-04T12:57:09.680Z"
   },
   {
    "duration": 6,
    "start_time": "2023-02-04T12:57:10.838Z"
   },
   {
    "duration": 5,
    "start_time": "2023-02-04T12:57:12.397Z"
   },
   {
    "duration": 10,
    "start_time": "2023-02-04T12:57:13.080Z"
   },
   {
    "duration": 4,
    "start_time": "2023-02-04T12:57:17.900Z"
   },
   {
    "duration": 14,
    "start_time": "2023-02-04T12:57:19.444Z"
   },
   {
    "duration": 121,
    "start_time": "2023-02-04T12:57:25.638Z"
   },
   {
    "duration": 14,
    "start_time": "2023-02-04T12:57:39.998Z"
   },
   {
    "duration": 23,
    "start_time": "2023-02-04T12:57:52.052Z"
   },
   {
    "duration": 26,
    "start_time": "2023-02-04T13:06:33.601Z"
   },
   {
    "duration": 8,
    "start_time": "2023-02-04T13:06:58.119Z"
   },
   {
    "duration": 21,
    "start_time": "2023-02-04T13:07:40.126Z"
   },
   {
    "duration": 10,
    "start_time": "2023-02-04T13:09:28.164Z"
   },
   {
    "duration": 15,
    "start_time": "2023-02-04T13:09:46.514Z"
   },
   {
    "duration": 15,
    "start_time": "2023-02-04T13:10:27.936Z"
   },
   {
    "duration": 13,
    "start_time": "2023-02-04T13:10:34.263Z"
   },
   {
    "duration": 14,
    "start_time": "2023-02-04T13:10:40.078Z"
   },
   {
    "duration": 9,
    "start_time": "2023-02-04T13:10:42.041Z"
   },
   {
    "duration": 19,
    "start_time": "2023-02-04T13:10:56.684Z"
   },
   {
    "duration": 12,
    "start_time": "2023-02-04T13:19:26.806Z"
   },
   {
    "duration": 23,
    "start_time": "2023-02-04T13:20:07.839Z"
   },
   {
    "duration": 18,
    "start_time": "2023-02-04T13:21:11.059Z"
   },
   {
    "duration": 4,
    "start_time": "2023-02-04T13:21:17.940Z"
   },
   {
    "duration": 15,
    "start_time": "2023-02-04T13:21:19.325Z"
   },
   {
    "duration": 3,
    "start_time": "2023-02-04T13:21:22.181Z"
   },
   {
    "duration": 2,
    "start_time": "2023-02-04T13:21:22.899Z"
   },
   {
    "duration": 10,
    "start_time": "2023-02-04T13:21:24.272Z"
   },
   {
    "duration": 37,
    "start_time": "2023-02-04T13:21:24.950Z"
   },
   {
    "duration": 6,
    "start_time": "2023-02-04T13:21:28.717Z"
   },
   {
    "duration": 144,
    "start_time": "2023-02-04T13:21:29.754Z"
   },
   {
    "duration": 24,
    "start_time": "2023-02-04T13:21:35.857Z"
   },
   {
    "duration": 1371,
    "start_time": "2023-02-04T13:22:19.115Z"
   },
   {
    "duration": 55,
    "start_time": "2023-02-04T13:22:22.696Z"
   },
   {
    "duration": 53,
    "start_time": "2023-02-04T13:22:24.159Z"
   },
   {
    "duration": 15,
    "start_time": "2023-02-04T13:22:24.789Z"
   },
   {
    "duration": 6,
    "start_time": "2023-02-04T13:22:25.311Z"
   },
   {
    "duration": 5,
    "start_time": "2023-02-04T13:22:25.562Z"
   },
   {
    "duration": 10,
    "start_time": "2023-02-04T13:22:25.826Z"
   },
   {
    "duration": 19,
    "start_time": "2023-02-04T13:22:28.438Z"
   },
   {
    "duration": 4,
    "start_time": "2023-02-04T13:22:30.823Z"
   },
   {
    "duration": 14,
    "start_time": "2023-02-04T13:22:31.932Z"
   },
   {
    "duration": 3,
    "start_time": "2023-02-04T13:22:36.846Z"
   },
   {
    "duration": 2,
    "start_time": "2023-02-04T13:22:37.551Z"
   },
   {
    "duration": 11,
    "start_time": "2023-02-04T13:22:40.083Z"
   },
   {
    "duration": 35,
    "start_time": "2023-02-04T13:22:40.907Z"
   },
   {
    "duration": 7,
    "start_time": "2023-02-04T13:22:44.404Z"
   },
   {
    "duration": 157,
    "start_time": "2023-02-04T13:22:45.227Z"
   },
   {
    "duration": 122,
    "start_time": "2023-02-04T13:22:48.568Z"
   },
   {
    "duration": 23,
    "start_time": "2023-02-04T13:25:18.477Z"
   },
   {
    "duration": 24,
    "start_time": "2023-02-04T13:26:50.933Z"
   },
   {
    "duration": 35,
    "start_time": "2023-02-04T13:31:06.623Z"
   },
   {
    "duration": 19,
    "start_time": "2023-02-04T13:31:15.803Z"
   },
   {
    "duration": 6,
    "start_time": "2023-02-04T13:31:27.894Z"
   },
   {
    "duration": 15,
    "start_time": "2023-02-04T13:31:29.467Z"
   },
   {
    "duration": 2,
    "start_time": "2023-02-04T13:31:31.169Z"
   },
   {
    "duration": 3,
    "start_time": "2023-02-04T13:31:31.391Z"
   },
   {
    "duration": 8,
    "start_time": "2023-02-04T13:31:32.831Z"
   },
   {
    "duration": 32,
    "start_time": "2023-02-04T13:31:33.463Z"
   },
   {
    "duration": 6,
    "start_time": "2023-02-04T13:31:45.095Z"
   },
   {
    "duration": 128,
    "start_time": "2023-02-04T13:31:45.668Z"
   },
   {
    "duration": 45,
    "start_time": "2023-02-04T13:31:48.388Z"
   },
   {
    "duration": 52185,
    "start_time": "2023-02-04T13:32:04.009Z"
   },
   {
    "duration": 454,
    "start_time": "2023-02-04T13:39:47.728Z"
   },
   {
    "duration": 15,
    "start_time": "2023-02-04T14:19:11.177Z"
   },
   {
    "duration": 16,
    "start_time": "2023-02-04T14:19:12.595Z"
   },
   {
    "duration": 9,
    "start_time": "2023-02-04T14:19:32.186Z"
   },
   {
    "duration": 33,
    "start_time": "2023-02-04T14:19:32.984Z"
   },
   {
    "duration": 6,
    "start_time": "2023-02-04T14:19:40.140Z"
   },
   {
    "duration": 136,
    "start_time": "2023-02-04T14:19:41.028Z"
   },
   {
    "duration": 468,
    "start_time": "2023-02-04T14:19:45.223Z"
   },
   {
    "duration": 53773,
    "start_time": "2023-02-04T14:19:49.144Z"
   },
   {
    "duration": 446,
    "start_time": "2023-02-04T14:21:48.781Z"
   },
   {
    "duration": 168,
    "start_time": "2023-02-04T14:21:55.459Z"
   },
   {
    "duration": 135,
    "start_time": "2023-02-04T14:24:00.492Z"
   },
   {
    "duration": 441,
    "start_time": "2023-02-04T14:24:19.149Z"
   },
   {
    "duration": 16,
    "start_time": "2023-02-04T14:24:34.573Z"
   },
   {
    "duration": 808,
    "start_time": "2023-02-04T14:24:42.316Z"
   },
   {
    "duration": 561,
    "start_time": "2023-02-04T14:35:05.956Z"
   },
   {
    "duration": 71988,
    "start_time": "2023-02-04T14:35:08.126Z"
   },
   {
    "duration": 76,
    "start_time": "2023-02-04T14:40:00.203Z"
   },
   {
    "duration": 729,
    "start_time": "2023-02-04T14:40:07.795Z"
   },
   {
    "duration": 11,
    "start_time": "2023-02-04T14:41:18.084Z"
   },
   {
    "duration": 13,
    "start_time": "2023-02-04T14:41:23.091Z"
   },
   {
    "duration": 271,
    "start_time": "2023-02-04T14:41:26.400Z"
   },
   {
    "duration": 28283,
    "start_time": "2023-02-04T14:42:23.772Z"
   },
   {
    "duration": 373,
    "start_time": "2023-02-04T14:43:29.251Z"
   },
   {
    "duration": 3,
    "start_time": "2023-02-04T14:44:23.666Z"
   },
   {
    "duration": 314,
    "start_time": "2023-02-04T14:45:03.563Z"
   },
   {
    "duration": 227,
    "start_time": "2023-02-04T14:45:19.594Z"
   },
   {
    "duration": 12,
    "start_time": "2023-02-04T14:46:30.128Z"
   },
   {
    "duration": 5,
    "start_time": "2023-02-04T14:46:46.531Z"
   },
   {
    "duration": 9,
    "start_time": "2023-02-04T14:46:54.423Z"
   },
   {
    "duration": 2000,
    "start_time": "2023-02-04T19:17:07.164Z"
   },
   {
    "duration": 115,
    "start_time": "2023-02-04T19:17:09.166Z"
   },
   {
    "duration": 62,
    "start_time": "2023-02-04T19:17:09.283Z"
   },
   {
    "duration": 13,
    "start_time": "2023-02-04T19:17:09.347Z"
   },
   {
    "duration": 6,
    "start_time": "2023-02-04T19:17:09.362Z"
   },
   {
    "duration": 10,
    "start_time": "2023-02-04T19:17:09.393Z"
   },
   {
    "duration": 25,
    "start_time": "2023-02-04T19:17:09.405Z"
   },
   {
    "duration": 3,
    "start_time": "2023-02-04T19:17:09.432Z"
   },
   {
    "duration": 12,
    "start_time": "2023-02-04T19:17:09.436Z"
   },
   {
    "duration": 19,
    "start_time": "2023-02-04T19:17:09.450Z"
   },
   {
    "duration": 178,
    "start_time": "2023-02-04T19:17:35.550Z"
   },
   {
    "duration": 22,
    "start_time": "2023-02-04T19:18:21.605Z"
   },
   {
    "duration": 1475,
    "start_time": "2023-02-15T08:55:09.569Z"
   },
   {
    "duration": 92,
    "start_time": "2023-02-15T08:55:12.238Z"
   },
   {
    "duration": 64,
    "start_time": "2023-02-15T08:55:13.483Z"
   },
   {
    "duration": 16,
    "start_time": "2023-02-15T08:55:14.083Z"
   },
   {
    "duration": 6,
    "start_time": "2023-02-15T08:55:14.765Z"
   },
   {
    "duration": 5,
    "start_time": "2023-02-15T08:55:15.176Z"
   },
   {
    "duration": 9,
    "start_time": "2023-02-15T08:55:15.649Z"
   },
   {
    "duration": 2,
    "start_time": "2023-02-15T08:55:17.280Z"
   },
   {
    "duration": 4,
    "start_time": "2023-02-15T08:55:19.216Z"
   },
   {
    "duration": 13,
    "start_time": "2023-02-15T08:55:20.132Z"
   },
   {
    "duration": 2,
    "start_time": "2023-02-15T08:55:22.449Z"
   },
   {
    "duration": 2,
    "start_time": "2023-02-15T08:55:22.702Z"
   },
   {
    "duration": 27,
    "start_time": "2023-02-15T08:55:23.958Z"
   },
   {
    "duration": 9,
    "start_time": "2023-02-15T08:55:25.451Z"
   },
   {
    "duration": 32,
    "start_time": "2023-02-15T08:55:25.986Z"
   },
   {
    "duration": 5,
    "start_time": "2023-02-15T08:55:28.057Z"
   },
   {
    "duration": 138,
    "start_time": "2023-02-15T08:55:28.365Z"
   },
   {
    "duration": 470,
    "start_time": "2023-02-15T08:55:33.874Z"
   },
   {
    "duration": 46862,
    "start_time": "2023-02-15T08:55:39.265Z"
   },
   {
    "duration": 444,
    "start_time": "2023-02-15T08:58:21.064Z"
   },
   {
    "duration": 253,
    "start_time": "2023-02-15T08:58:23.343Z"
   },
   {
    "duration": 86,
    "start_time": "2023-02-15T08:58:24.612Z"
   },
   {
    "duration": 349,
    "start_time": "2023-02-15T08:58:26.506Z"
   },
   {
    "duration": 13,
    "start_time": "2023-02-15T08:58:29.534Z"
   },
   {
    "duration": 525,
    "start_time": "2023-02-15T08:58:30.919Z"
   },
   {
    "duration": 64170,
    "start_time": "2023-02-15T08:58:31.445Z"
   },
   {
    "duration": 581,
    "start_time": "2023-02-15T08:59:35.617Z"
   },
   {
    "duration": 13,
    "start_time": "2023-02-15T08:59:43.874Z"
   },
   {
    "duration": 252,
    "start_time": "2023-02-15T08:59:45.240Z"
   },
   {
    "duration": 26807,
    "start_time": "2023-02-15T08:59:50.671Z"
   },
   {
    "duration": 514,
    "start_time": "2023-02-15T09:00:17.480Z"
   },
   {
    "duration": 262,
    "start_time": "2023-02-15T09:00:45.051Z"
   },
   {
    "duration": 205,
    "start_time": "2023-02-15T09:00:46.277Z"
   },
   {
    "duration": 5,
    "start_time": "2023-02-15T09:00:50.469Z"
   }
  ],
  "kernelspec": {
   "display_name": "Python 3 (ipykernel)",
   "language": "python",
   "name": "python3"
  },
  "language_info": {
   "codemirror_mode": {
    "name": "ipython",
    "version": 3
   },
   "file_extension": ".py",
   "mimetype": "text/x-python",
   "name": "python",
   "nbconvert_exporter": "python",
   "pygments_lexer": "ipython3",
   "version": "3.9.13"
  },
  "toc": {
   "base_numbering": 1,
   "nav_menu": {},
   "number_sections": true,
   "sideBar": true,
   "skip_h1_title": true,
   "title_cell": "Содержание",
   "title_sidebar": "Contents",
   "toc_cell": true,
   "toc_position": {
    "height": "calc(100% - 180px)",
    "left": "10px",
    "top": "150px",
    "width": "165px"
   },
   "toc_section_display": true,
   "toc_window_display": true
  }
 },
 "nbformat": 4,
 "nbformat_minor": 4
}
