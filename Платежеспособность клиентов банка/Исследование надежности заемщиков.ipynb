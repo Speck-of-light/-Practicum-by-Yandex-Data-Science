{
 "cells": [
  {
   "cell_type": "markdown",
   "id": "3366ad6c",
   "metadata": {
    "deletable": false,
    "editable": false,
    "id": "c81daeeb"
   },
   "source": [
    "# Исследование надежности заемщиков\n"
   ]
  },
  {
   "cell_type": "markdown",
   "id": "6b2ea522",
   "metadata": {
    "deletable": false,
    "editable": false,
    "id": "827c20bf",
    "jupyter": {
     "source_hidden": true
    },
    "tags": []
   },
   "source": [
    "Во второй части проекта вы выполните шаги 3 и 4. Их вручную проверит ревьюер.\n",
    "Чтобы вам не пришлось писать код заново для шагов 1 и 2, мы добавили авторские решения в ячейки с кодом. \n",
    "\n"
   ]
  },
  {
   "cell_type": "markdown",
   "id": "de78a3df",
   "metadata": {
    "deletable": false,
    "editable": false,
    "id": "744d7639",
    "tags": []
   },
   "source": [
    "## Откройте таблицу и изучите общую информацию о данных"
   ]
  },
  {
   "cell_type": "markdown",
   "id": "c3246d44",
   "metadata": {
    "deletable": false,
    "editable": false,
    "id": "e7a14c31"
   },
   "source": [
    "**Задание 1. Импортируйте библиотеку pandas. Считайте данные из csv-файла в датафрейм и сохраните в переменную `data`. Путь к файлу:**\n",
    "\n",
    "`/datasets/data.csv`"
   ]
  },
  {
   "cell_type": "code",
   "execution_count": 1,
   "id": "c7e20a87",
   "metadata": {
    "deletable": false,
    "id": "7bcf75c9"
   },
   "outputs": [],
   "source": [
    "import pandas as pd\n",
    "\n",
    "try:\n",
    "    data = pd.read_csv('/datasets/data.csv')\n",
    "except:\n",
    "    data = pd.read_csv('https://code.s3.yandex.net/datasets/data.csv')"
   ]
  },
  {
   "cell_type": "markdown",
   "id": "4014110f",
   "metadata": {
    "deletable": false,
    "editable": false,
    "id": "b8038fe3"
   },
   "source": [
    "**Задание 2. Выведите первые 20 строчек датафрейма `data` на экран.**"
   ]
  },
  {
   "cell_type": "code",
   "execution_count": 2,
   "id": "e1489252",
   "metadata": {
    "deletable": false,
    "id": "2a7cab99",
    "outputId": "1a8f3ef2-d323-4ec2-ddf7-89670b5944c4"
   },
   "outputs": [
    {
     "data": {
      "text/html": [
       "<div>\n",
       "<style scoped>\n",
       "    .dataframe tbody tr th:only-of-type {\n",
       "        vertical-align: middle;\n",
       "    }\n",
       "\n",
       "    .dataframe tbody tr th {\n",
       "        vertical-align: top;\n",
       "    }\n",
       "\n",
       "    .dataframe thead th {\n",
       "        text-align: right;\n",
       "    }\n",
       "</style>\n",
       "<table border=\"1\" class=\"dataframe\">\n",
       "  <thead>\n",
       "    <tr style=\"text-align: right;\">\n",
       "      <th></th>\n",
       "      <th>children</th>\n",
       "      <th>days_employed</th>\n",
       "      <th>dob_years</th>\n",
       "      <th>education</th>\n",
       "      <th>education_id</th>\n",
       "      <th>family_status</th>\n",
       "      <th>family_status_id</th>\n",
       "      <th>gender</th>\n",
       "      <th>income_type</th>\n",
       "      <th>debt</th>\n",
       "      <th>total_income</th>\n",
       "      <th>purpose</th>\n",
       "    </tr>\n",
       "  </thead>\n",
       "  <tbody>\n",
       "    <tr>\n",
       "      <th>0</th>\n",
       "      <td>1</td>\n",
       "      <td>-8437.673028</td>\n",
       "      <td>42</td>\n",
       "      <td>высшее</td>\n",
       "      <td>0</td>\n",
       "      <td>женат / замужем</td>\n",
       "      <td>0</td>\n",
       "      <td>F</td>\n",
       "      <td>сотрудник</td>\n",
       "      <td>0</td>\n",
       "      <td>253875.639453</td>\n",
       "      <td>покупка жилья</td>\n",
       "    </tr>\n",
       "    <tr>\n",
       "      <th>1</th>\n",
       "      <td>1</td>\n",
       "      <td>-4024.803754</td>\n",
       "      <td>36</td>\n",
       "      <td>среднее</td>\n",
       "      <td>1</td>\n",
       "      <td>женат / замужем</td>\n",
       "      <td>0</td>\n",
       "      <td>F</td>\n",
       "      <td>сотрудник</td>\n",
       "      <td>0</td>\n",
       "      <td>112080.014102</td>\n",
       "      <td>приобретение автомобиля</td>\n",
       "    </tr>\n",
       "    <tr>\n",
       "      <th>2</th>\n",
       "      <td>0</td>\n",
       "      <td>-5623.422610</td>\n",
       "      <td>33</td>\n",
       "      <td>Среднее</td>\n",
       "      <td>1</td>\n",
       "      <td>женат / замужем</td>\n",
       "      <td>0</td>\n",
       "      <td>M</td>\n",
       "      <td>сотрудник</td>\n",
       "      <td>0</td>\n",
       "      <td>145885.952297</td>\n",
       "      <td>покупка жилья</td>\n",
       "    </tr>\n",
       "    <tr>\n",
       "      <th>3</th>\n",
       "      <td>3</td>\n",
       "      <td>-4124.747207</td>\n",
       "      <td>32</td>\n",
       "      <td>среднее</td>\n",
       "      <td>1</td>\n",
       "      <td>женат / замужем</td>\n",
       "      <td>0</td>\n",
       "      <td>M</td>\n",
       "      <td>сотрудник</td>\n",
       "      <td>0</td>\n",
       "      <td>267628.550329</td>\n",
       "      <td>дополнительное образование</td>\n",
       "    </tr>\n",
       "    <tr>\n",
       "      <th>4</th>\n",
       "      <td>0</td>\n",
       "      <td>340266.072047</td>\n",
       "      <td>53</td>\n",
       "      <td>среднее</td>\n",
       "      <td>1</td>\n",
       "      <td>гражданский брак</td>\n",
       "      <td>1</td>\n",
       "      <td>F</td>\n",
       "      <td>пенсионер</td>\n",
       "      <td>0</td>\n",
       "      <td>158616.077870</td>\n",
       "      <td>сыграть свадьбу</td>\n",
       "    </tr>\n",
       "    <tr>\n",
       "      <th>5</th>\n",
       "      <td>0</td>\n",
       "      <td>-926.185831</td>\n",
       "      <td>27</td>\n",
       "      <td>высшее</td>\n",
       "      <td>0</td>\n",
       "      <td>гражданский брак</td>\n",
       "      <td>1</td>\n",
       "      <td>M</td>\n",
       "      <td>компаньон</td>\n",
       "      <td>0</td>\n",
       "      <td>255763.565419</td>\n",
       "      <td>покупка жилья</td>\n",
       "    </tr>\n",
       "    <tr>\n",
       "      <th>6</th>\n",
       "      <td>0</td>\n",
       "      <td>-2879.202052</td>\n",
       "      <td>43</td>\n",
       "      <td>высшее</td>\n",
       "      <td>0</td>\n",
       "      <td>женат / замужем</td>\n",
       "      <td>0</td>\n",
       "      <td>F</td>\n",
       "      <td>компаньон</td>\n",
       "      <td>0</td>\n",
       "      <td>240525.971920</td>\n",
       "      <td>операции с жильем</td>\n",
       "    </tr>\n",
       "    <tr>\n",
       "      <th>7</th>\n",
       "      <td>0</td>\n",
       "      <td>-152.779569</td>\n",
       "      <td>50</td>\n",
       "      <td>СРЕДНЕЕ</td>\n",
       "      <td>1</td>\n",
       "      <td>женат / замужем</td>\n",
       "      <td>0</td>\n",
       "      <td>M</td>\n",
       "      <td>сотрудник</td>\n",
       "      <td>0</td>\n",
       "      <td>135823.934197</td>\n",
       "      <td>образование</td>\n",
       "    </tr>\n",
       "    <tr>\n",
       "      <th>8</th>\n",
       "      <td>2</td>\n",
       "      <td>-6929.865299</td>\n",
       "      <td>35</td>\n",
       "      <td>ВЫСШЕЕ</td>\n",
       "      <td>0</td>\n",
       "      <td>гражданский брак</td>\n",
       "      <td>1</td>\n",
       "      <td>F</td>\n",
       "      <td>сотрудник</td>\n",
       "      <td>0</td>\n",
       "      <td>95856.832424</td>\n",
       "      <td>на проведение свадьбы</td>\n",
       "    </tr>\n",
       "    <tr>\n",
       "      <th>9</th>\n",
       "      <td>0</td>\n",
       "      <td>-2188.756445</td>\n",
       "      <td>41</td>\n",
       "      <td>среднее</td>\n",
       "      <td>1</td>\n",
       "      <td>женат / замужем</td>\n",
       "      <td>0</td>\n",
       "      <td>M</td>\n",
       "      <td>сотрудник</td>\n",
       "      <td>0</td>\n",
       "      <td>144425.938277</td>\n",
       "      <td>покупка жилья для семьи</td>\n",
       "    </tr>\n",
       "    <tr>\n",
       "      <th>10</th>\n",
       "      <td>2</td>\n",
       "      <td>-4171.483647</td>\n",
       "      <td>36</td>\n",
       "      <td>высшее</td>\n",
       "      <td>0</td>\n",
       "      <td>женат / замужем</td>\n",
       "      <td>0</td>\n",
       "      <td>M</td>\n",
       "      <td>компаньон</td>\n",
       "      <td>0</td>\n",
       "      <td>113943.491460</td>\n",
       "      <td>покупка недвижимости</td>\n",
       "    </tr>\n",
       "    <tr>\n",
       "      <th>11</th>\n",
       "      <td>0</td>\n",
       "      <td>-792.701887</td>\n",
       "      <td>40</td>\n",
       "      <td>среднее</td>\n",
       "      <td>1</td>\n",
       "      <td>женат / замужем</td>\n",
       "      <td>0</td>\n",
       "      <td>F</td>\n",
       "      <td>сотрудник</td>\n",
       "      <td>0</td>\n",
       "      <td>77069.234271</td>\n",
       "      <td>покупка коммерческой недвижимости</td>\n",
       "    </tr>\n",
       "    <tr>\n",
       "      <th>12</th>\n",
       "      <td>0</td>\n",
       "      <td>NaN</td>\n",
       "      <td>65</td>\n",
       "      <td>среднее</td>\n",
       "      <td>1</td>\n",
       "      <td>гражданский брак</td>\n",
       "      <td>1</td>\n",
       "      <td>M</td>\n",
       "      <td>пенсионер</td>\n",
       "      <td>0</td>\n",
       "      <td>NaN</td>\n",
       "      <td>сыграть свадьбу</td>\n",
       "    </tr>\n",
       "    <tr>\n",
       "      <th>13</th>\n",
       "      <td>0</td>\n",
       "      <td>-1846.641941</td>\n",
       "      <td>54</td>\n",
       "      <td>неоконченное высшее</td>\n",
       "      <td>2</td>\n",
       "      <td>женат / замужем</td>\n",
       "      <td>0</td>\n",
       "      <td>F</td>\n",
       "      <td>сотрудник</td>\n",
       "      <td>0</td>\n",
       "      <td>130458.228857</td>\n",
       "      <td>приобретение автомобиля</td>\n",
       "    </tr>\n",
       "    <tr>\n",
       "      <th>14</th>\n",
       "      <td>0</td>\n",
       "      <td>-1844.956182</td>\n",
       "      <td>56</td>\n",
       "      <td>высшее</td>\n",
       "      <td>0</td>\n",
       "      <td>гражданский брак</td>\n",
       "      <td>1</td>\n",
       "      <td>F</td>\n",
       "      <td>компаньон</td>\n",
       "      <td>1</td>\n",
       "      <td>165127.911772</td>\n",
       "      <td>покупка жилой недвижимости</td>\n",
       "    </tr>\n",
       "    <tr>\n",
       "      <th>15</th>\n",
       "      <td>1</td>\n",
       "      <td>-972.364419</td>\n",
       "      <td>26</td>\n",
       "      <td>среднее</td>\n",
       "      <td>1</td>\n",
       "      <td>женат / замужем</td>\n",
       "      <td>0</td>\n",
       "      <td>F</td>\n",
       "      <td>сотрудник</td>\n",
       "      <td>0</td>\n",
       "      <td>116820.904450</td>\n",
       "      <td>строительство собственной недвижимости</td>\n",
       "    </tr>\n",
       "    <tr>\n",
       "      <th>16</th>\n",
       "      <td>0</td>\n",
       "      <td>-1719.934226</td>\n",
       "      <td>35</td>\n",
       "      <td>среднее</td>\n",
       "      <td>1</td>\n",
       "      <td>женат / замужем</td>\n",
       "      <td>0</td>\n",
       "      <td>F</td>\n",
       "      <td>сотрудник</td>\n",
       "      <td>0</td>\n",
       "      <td>289202.704229</td>\n",
       "      <td>недвижимость</td>\n",
       "    </tr>\n",
       "    <tr>\n",
       "      <th>17</th>\n",
       "      <td>0</td>\n",
       "      <td>-2369.999720</td>\n",
       "      <td>33</td>\n",
       "      <td>высшее</td>\n",
       "      <td>0</td>\n",
       "      <td>гражданский брак</td>\n",
       "      <td>1</td>\n",
       "      <td>M</td>\n",
       "      <td>сотрудник</td>\n",
       "      <td>0</td>\n",
       "      <td>90410.586745</td>\n",
       "      <td>строительство недвижимости</td>\n",
       "    </tr>\n",
       "    <tr>\n",
       "      <th>18</th>\n",
       "      <td>0</td>\n",
       "      <td>400281.136913</td>\n",
       "      <td>53</td>\n",
       "      <td>среднее</td>\n",
       "      <td>1</td>\n",
       "      <td>вдовец / вдова</td>\n",
       "      <td>2</td>\n",
       "      <td>F</td>\n",
       "      <td>пенсионер</td>\n",
       "      <td>0</td>\n",
       "      <td>56823.777243</td>\n",
       "      <td>на покупку подержанного автомобиля</td>\n",
       "    </tr>\n",
       "    <tr>\n",
       "      <th>19</th>\n",
       "      <td>0</td>\n",
       "      <td>-10038.818549</td>\n",
       "      <td>48</td>\n",
       "      <td>СРЕДНЕЕ</td>\n",
       "      <td>1</td>\n",
       "      <td>в разводе</td>\n",
       "      <td>3</td>\n",
       "      <td>F</td>\n",
       "      <td>сотрудник</td>\n",
       "      <td>0</td>\n",
       "      <td>242831.107982</td>\n",
       "      <td>на покупку своего автомобиля</td>\n",
       "    </tr>\n",
       "  </tbody>\n",
       "</table>\n",
       "</div>"
      ],
      "text/plain": [
       "    children  days_employed  dob_years            education  education_id  \\\n",
       "0          1   -8437.673028         42               высшее             0   \n",
       "1          1   -4024.803754         36              среднее             1   \n",
       "2          0   -5623.422610         33              Среднее             1   \n",
       "3          3   -4124.747207         32              среднее             1   \n",
       "4          0  340266.072047         53              среднее             1   \n",
       "5          0    -926.185831         27               высшее             0   \n",
       "6          0   -2879.202052         43               высшее             0   \n",
       "7          0    -152.779569         50              СРЕДНЕЕ             1   \n",
       "8          2   -6929.865299         35               ВЫСШЕЕ             0   \n",
       "9          0   -2188.756445         41              среднее             1   \n",
       "10         2   -4171.483647         36               высшее             0   \n",
       "11         0    -792.701887         40              среднее             1   \n",
       "12         0            NaN         65              среднее             1   \n",
       "13         0   -1846.641941         54  неоконченное высшее             2   \n",
       "14         0   -1844.956182         56               высшее             0   \n",
       "15         1    -972.364419         26              среднее             1   \n",
       "16         0   -1719.934226         35              среднее             1   \n",
       "17         0   -2369.999720         33               высшее             0   \n",
       "18         0  400281.136913         53              среднее             1   \n",
       "19         0  -10038.818549         48              СРЕДНЕЕ             1   \n",
       "\n",
       "       family_status  family_status_id gender income_type  debt  \\\n",
       "0    женат / замужем                 0      F   сотрудник     0   \n",
       "1    женат / замужем                 0      F   сотрудник     0   \n",
       "2    женат / замужем                 0      M   сотрудник     0   \n",
       "3    женат / замужем                 0      M   сотрудник     0   \n",
       "4   гражданский брак                 1      F   пенсионер     0   \n",
       "5   гражданский брак                 1      M   компаньон     0   \n",
       "6    женат / замужем                 0      F   компаньон     0   \n",
       "7    женат / замужем                 0      M   сотрудник     0   \n",
       "8   гражданский брак                 1      F   сотрудник     0   \n",
       "9    женат / замужем                 0      M   сотрудник     0   \n",
       "10   женат / замужем                 0      M   компаньон     0   \n",
       "11   женат / замужем                 0      F   сотрудник     0   \n",
       "12  гражданский брак                 1      M   пенсионер     0   \n",
       "13   женат / замужем                 0      F   сотрудник     0   \n",
       "14  гражданский брак                 1      F   компаньон     1   \n",
       "15   женат / замужем                 0      F   сотрудник     0   \n",
       "16   женат / замужем                 0      F   сотрудник     0   \n",
       "17  гражданский брак                 1      M   сотрудник     0   \n",
       "18    вдовец / вдова                 2      F   пенсионер     0   \n",
       "19         в разводе                 3      F   сотрудник     0   \n",
       "\n",
       "     total_income                                 purpose  \n",
       "0   253875.639453                           покупка жилья  \n",
       "1   112080.014102                 приобретение автомобиля  \n",
       "2   145885.952297                           покупка жилья  \n",
       "3   267628.550329              дополнительное образование  \n",
       "4   158616.077870                         сыграть свадьбу  \n",
       "5   255763.565419                           покупка жилья  \n",
       "6   240525.971920                       операции с жильем  \n",
       "7   135823.934197                             образование  \n",
       "8    95856.832424                   на проведение свадьбы  \n",
       "9   144425.938277                 покупка жилья для семьи  \n",
       "10  113943.491460                    покупка недвижимости  \n",
       "11   77069.234271       покупка коммерческой недвижимости  \n",
       "12            NaN                         сыграть свадьбу  \n",
       "13  130458.228857                 приобретение автомобиля  \n",
       "14  165127.911772              покупка жилой недвижимости  \n",
       "15  116820.904450  строительство собственной недвижимости  \n",
       "16  289202.704229                            недвижимость  \n",
       "17   90410.586745              строительство недвижимости  \n",
       "18   56823.777243      на покупку подержанного автомобиля  \n",
       "19  242831.107982            на покупку своего автомобиля  "
      ]
     },
     "execution_count": 2,
     "metadata": {},
     "output_type": "execute_result"
    }
   ],
   "source": [
    "data.head(20)"
   ]
  },
  {
   "cell_type": "markdown",
   "id": "88b96317",
   "metadata": {
    "deletable": false,
    "editable": false,
    "id": "1c12e233"
   },
   "source": [
    "**Задание 3. Выведите основную информацию о датафрейме с помощью метода `info()`.**"
   ]
  },
  {
   "cell_type": "code",
   "execution_count": 3,
   "id": "29fd8490",
   "metadata": {
    "deletable": false,
    "id": "2b757bca",
    "outputId": "15376089-8dad-46c9-b520-c05248d43158"
   },
   "outputs": [
    {
     "name": "stdout",
     "output_type": "stream",
     "text": [
      "<class 'pandas.core.frame.DataFrame'>\n",
      "RangeIndex: 21525 entries, 0 to 21524\n",
      "Data columns (total 12 columns):\n",
      " #   Column            Non-Null Count  Dtype  \n",
      "---  ------            --------------  -----  \n",
      " 0   children          21525 non-null  int64  \n",
      " 1   days_employed     19351 non-null  float64\n",
      " 2   dob_years         21525 non-null  int64  \n",
      " 3   education         21525 non-null  object \n",
      " 4   education_id      21525 non-null  int64  \n",
      " 5   family_status     21525 non-null  object \n",
      " 6   family_status_id  21525 non-null  int64  \n",
      " 7   gender            21525 non-null  object \n",
      " 8   income_type       21525 non-null  object \n",
      " 9   debt              21525 non-null  int64  \n",
      " 10  total_income      19351 non-null  float64\n",
      " 11  purpose           21525 non-null  object \n",
      "dtypes: float64(2), int64(5), object(5)\n",
      "memory usage: 2.0+ MB\n"
     ]
    }
   ],
   "source": [
    "data.info()"
   ]
  },
  {
   "cell_type": "markdown",
   "id": "ff139680",
   "metadata": {
    "deletable": false,
    "editable": false,
    "id": "333ec665"
   },
   "source": [
    "## Предобработка данных"
   ]
  },
  {
   "cell_type": "markdown",
   "id": "e857593f",
   "metadata": {
    "deletable": false,
    "editable": false,
    "id": "02d92d53"
   },
   "source": [
    "### Удаление пропусков"
   ]
  },
  {
   "cell_type": "markdown",
   "id": "d0f82c07",
   "metadata": {
    "deletable": false,
    "editable": false,
    "id": "cd84967c"
   },
   "source": [
    "**Задание 4. Выведите количество пропущенных значений для каждого столбца. Используйте комбинацию двух методов.**"
   ]
  },
  {
   "cell_type": "code",
   "execution_count": 4,
   "id": "d272c340",
   "metadata": {
    "deletable": false,
    "id": "7f9b2309",
    "outputId": "81f4d817-781c-465c-ed15-91ce4446810d"
   },
   "outputs": [
    {
     "data": {
      "text/plain": [
       "children               0\n",
       "days_employed       2174\n",
       "dob_years              0\n",
       "education              0\n",
       "education_id           0\n",
       "family_status          0\n",
       "family_status_id       0\n",
       "gender                 0\n",
       "income_type            0\n",
       "debt                   0\n",
       "total_income        2174\n",
       "purpose                0\n",
       "dtype: int64"
      ]
     },
     "execution_count": 4,
     "metadata": {},
     "output_type": "execute_result"
    }
   ],
   "source": [
    "data.isna().sum()"
   ]
  },
  {
   "cell_type": "markdown",
   "id": "eba88692",
   "metadata": {
    "deletable": false,
    "editable": false,
    "id": "db86e27b"
   },
   "source": [
    "**Задание 5. В двух столбцах есть пропущенные значения. Один из них — `days_employed`. Пропуски в этом столбце вы обработаете на следующем этапе. Другой столбец с пропущенными значениями — `total_income` — хранит данные о доходах. На сумму дохода сильнее всего влияет тип занятости, поэтому заполнить пропуски в этом столбце нужно медианным значением по каждому типу из столбца `income_type`. Например, у человека с типом занятости `сотрудник` пропуск в столбце `total_income` должен быть заполнен медианным доходом среди всех записей с тем же типом.**"
   ]
  },
  {
   "cell_type": "code",
   "execution_count": 5,
   "id": "de079f92",
   "metadata": {
    "deletable": false,
    "id": "42006a93"
   },
   "outputs": [],
   "source": [
    "for t in data['income_type'].unique():\n",
    "    data.loc[(data['income_type'] == t) & (data['total_income'].isna()), 'total_income'] = \\\n",
    "    data.loc[(data['income_type'] == t), 'total_income'].median()"
   ]
  },
  {
   "cell_type": "markdown",
   "id": "1dc48d43",
   "metadata": {
    "deletable": false,
    "editable": false,
    "id": "89da5ece"
   },
   "source": [
    "### Обработка аномальных значений"
   ]
  },
  {
   "cell_type": "markdown",
   "id": "60f00b14",
   "metadata": {
    "deletable": false,
    "editable": false,
    "id": "57964554"
   },
   "source": [
    "**Задание 6. В данных могут встречаться артефакты (аномалии) — значения, которые не отражают действительность и появились по какой-то ошибке. таким артефактом будет отрицательное количество дней трудового стажа в столбце `days_employed`. Для реальных данных это нормально. Обработайте значения в этом столбце: замените все отрицательные значения положительными с помощью метода `abs()`.**"
   ]
  },
  {
   "cell_type": "code",
   "execution_count": 6,
   "id": "7eecbe43",
   "metadata": {
    "deletable": false,
    "id": "f6f055bf"
   },
   "outputs": [],
   "source": [
    "data['days_employed'] = data['days_employed'].abs()"
   ]
  },
  {
   "cell_type": "markdown",
   "id": "91dd0ec9",
   "metadata": {
    "deletable": false,
    "editable": false,
    "id": "6107dd2f"
   },
   "source": [
    "**Задание 7. Для каждого типа занятости выведите медианное значение трудового стажа `days_employed` в днях.**"
   ]
  },
  {
   "cell_type": "code",
   "execution_count": 7,
   "id": "95d14cac",
   "metadata": {
    "deletable": false,
    "id": "85a5faf6",
    "outputId": "801ef80e-522b-4668-f34e-565af7432bcf"
   },
   "outputs": [
    {
     "data": {
      "text/plain": [
       "income_type\n",
       "безработный        366413.652744\n",
       "в декрете            3296.759962\n",
       "госслужащий          2689.368353\n",
       "компаньон            1547.382223\n",
       "пенсионер          365213.306266\n",
       "предприниматель       520.848083\n",
       "сотрудник            1574.202821\n",
       "студент               578.751554\n",
       "Name: days_employed, dtype: float64"
      ]
     },
     "execution_count": 7,
     "metadata": {},
     "output_type": "execute_result"
    }
   ],
   "source": [
    "data.groupby('income_type')['days_employed'].agg('median')"
   ]
  },
  {
   "cell_type": "markdown",
   "id": "560588a6",
   "metadata": {
    "deletable": false,
    "editable": false,
    "id": "38d1a030"
   },
   "source": [
    "У двух типов (безработные и пенсионеры) получатся аномально большие значения. Исправить такие значения сложно, поэтому оставьте их как есть. Тем более этот столбец не понадобится вам для исследования."
   ]
  },
  {
   "cell_type": "markdown",
   "id": "db7d77f7",
   "metadata": {
    "deletable": false,
    "editable": false,
    "id": "d8a9f147"
   },
   "source": [
    "**Задание 8. Выведите перечень уникальных значений столбца `children`.**"
   ]
  },
  {
   "cell_type": "code",
   "execution_count": 8,
   "id": "56f2effa",
   "metadata": {
    "deletable": false,
    "id": "ef5056eb",
    "outputId": "6975b15c-7f95-4697-d16d-a0c79b657b03"
   },
   "outputs": [
    {
     "data": {
      "text/plain": [
       "array([ 1,  0,  3,  2, -1,  4, 20,  5])"
      ]
     },
     "execution_count": 8,
     "metadata": {},
     "output_type": "execute_result"
    }
   ],
   "source": [
    "data['children'].unique()"
   ]
  },
  {
   "cell_type": "markdown",
   "id": "53b6ce5f",
   "metadata": {
    "deletable": false,
    "editable": false,
    "id": "40b9ebf2"
   },
   "source": [
    "**Задание 9. В столбце `children` есть два аномальных значения. Удалите строки, в которых встречаются такие аномальные значения из датафрейма `data`.**"
   ]
  },
  {
   "cell_type": "code",
   "execution_count": 9,
   "id": "eadec75b",
   "metadata": {
    "deletable": false,
    "id": "3ff9801d"
   },
   "outputs": [],
   "source": [
    "data = data[(data['children'] != -1) & (data['children'] != 20)]"
   ]
  },
  {
   "cell_type": "markdown",
   "id": "349682ff",
   "metadata": {
    "deletable": false,
    "editable": false,
    "id": "bbc4d0ce"
   },
   "source": [
    "**Задание 10. Ещё раз выведите перечень уникальных значений столбца `children`, чтобы убедиться, что артефакты удалены.**"
   ]
  },
  {
   "cell_type": "code",
   "execution_count": 10,
   "id": "d817afae",
   "metadata": {
    "deletable": false,
    "id": "ad4fa8b7",
    "outputId": "b2097101-d49d-44d9-901b-32a65c9463d1"
   },
   "outputs": [
    {
     "data": {
      "text/plain": [
       "array([1, 0, 3, 2, 4, 5])"
      ]
     },
     "execution_count": 10,
     "metadata": {},
     "output_type": "execute_result"
    }
   ],
   "source": [
    "data['children'].unique()"
   ]
  },
  {
   "cell_type": "markdown",
   "id": "010eab3d",
   "metadata": {
    "deletable": false,
    "editable": false,
    "id": "75440b63"
   },
   "source": [
    "### Удаление пропусков (продолжение)"
   ]
  },
  {
   "cell_type": "markdown",
   "id": "5f4f350c",
   "metadata": {
    "deletable": false,
    "editable": false,
    "id": "f4ea573f"
   },
   "source": [
    "**Задание 11. Заполните пропуски в столбце `days_employed` медианными значениями по каждого типа занятости `income_type`.**"
   ]
  },
  {
   "cell_type": "code",
   "execution_count": 11,
   "id": "21f23944",
   "metadata": {
    "deletable": false,
    "id": "af6b1a7e"
   },
   "outputs": [],
   "source": [
    "for t in data['income_type'].unique():\n",
    "    data.loc[(data['income_type'] == t) & (data['days_employed'].isna()), 'days_employed'] = \\\n",
    "    data.loc[(data['income_type'] == t), 'days_employed'].median()"
   ]
  },
  {
   "cell_type": "markdown",
   "id": "b3439d91",
   "metadata": {
    "deletable": false,
    "editable": false,
    "id": "2753f40d"
   },
   "source": [
    "**Задание 12. Убедитесь, что все пропуски заполнены. Проверьте себя и ещё раз выведите количество пропущенных значений для каждого столбца с помощью двух методов.**"
   ]
  },
  {
   "cell_type": "code",
   "execution_count": 12,
   "id": "b9f31b1b",
   "metadata": {
    "deletable": false,
    "id": "55f78bc2",
    "outputId": "8da1e4e1-358e-4e87-98c9-f261bce0a7b2"
   },
   "outputs": [
    {
     "data": {
      "text/plain": [
       "children            0\n",
       "days_employed       0\n",
       "dob_years           0\n",
       "education           0\n",
       "education_id        0\n",
       "family_status       0\n",
       "family_status_id    0\n",
       "gender              0\n",
       "income_type         0\n",
       "debt                0\n",
       "total_income        0\n",
       "purpose             0\n",
       "dtype: int64"
      ]
     },
     "execution_count": 12,
     "metadata": {},
     "output_type": "execute_result"
    }
   ],
   "source": [
    "data.isna().sum()"
   ]
  },
  {
   "cell_type": "markdown",
   "id": "f6e7cee6",
   "metadata": {
    "deletable": false,
    "editable": false,
    "id": "ddc81e43"
   },
   "source": [
    "### Изменение типов данных"
   ]
  },
  {
   "cell_type": "markdown",
   "id": "936297c4",
   "metadata": {
    "deletable": false,
    "editable": false,
    "id": "42d19d24"
   },
   "source": [
    "**Задание 13. Замените вещественный тип данных в столбце `total_income` на целочисленный с помощью метода `astype()`.**"
   ]
  },
  {
   "cell_type": "code",
   "execution_count": 13,
   "id": "d6041435",
   "metadata": {
    "deletable": false,
    "id": "920b65ad"
   },
   "outputs": [],
   "source": [
    "data['total_income'] = data['total_income'].astype(int)"
   ]
  },
  {
   "cell_type": "markdown",
   "id": "716e45d2",
   "metadata": {
    "deletable": false,
    "editable": false,
    "id": "80c420ba"
   },
   "source": [
    "### Обработка дубликатов"
   ]
  },
  {
   "cell_type": "markdown",
   "id": "f4dfc7dc",
   "metadata": {
    "deletable": false,
    "editable": false
   },
   "source": [
    "**Задание 14. Обработайте неявные дубликаты в столбце `education`. В этом столбце есть одни и те же значения, но записанные по-разному: с использованием заглавных и строчных букв. Приведите их к нижнему регистру. Проверьте остальные столбцы.**"
   ]
  },
  {
   "cell_type": "code",
   "execution_count": 14,
   "id": "f19e1fe1",
   "metadata": {
    "deletable": false
   },
   "outputs": [],
   "source": [
    "data['education'] = data['education'].str.lower()"
   ]
  },
  {
   "cell_type": "markdown",
   "id": "d101acda",
   "metadata": {
    "deletable": false,
    "editable": false,
    "id": "dc587695"
   },
   "source": [
    "**Задание 15. Выведите на экран количество строк-дубликатов в данных. Если такие строки присутствуют, удалите их.**"
   ]
  },
  {
   "cell_type": "code",
   "execution_count": 15,
   "id": "e02d090d",
   "metadata": {
    "deletable": false,
    "id": "3ee445e4",
    "outputId": "9684deba-1934-42d1-99e1-cda61740f822"
   },
   "outputs": [
    {
     "data": {
      "text/plain": [
       "71"
      ]
     },
     "execution_count": 15,
     "metadata": {},
     "output_type": "execute_result"
    }
   ],
   "source": [
    "data.duplicated().sum()"
   ]
  },
  {
   "cell_type": "code",
   "execution_count": 16,
   "id": "249c2ac6",
   "metadata": {
    "deletable": false,
    "id": "8575fe05"
   },
   "outputs": [],
   "source": [
    "data = data.drop_duplicates()"
   ]
  },
  {
   "cell_type": "markdown",
   "id": "7910b8ae",
   "metadata": {
    "deletable": false,
    "editable": false,
    "id": "9904cf55"
   },
   "source": [
    "### Категоризация данных"
   ]
  },
  {
   "cell_type": "markdown",
   "id": "835d5e3c",
   "metadata": {
    "deletable": false,
    "editable": false,
    "id": "72fcc8a2"
   },
   "source": [
    "**Задание 16. На основании диапазонов, указанных ниже, создайте в датафрейме `data` столбец `total_income_category` с категориями:**\n",
    "\n",
    "- 0–30000 — `'E'`;\n",
    "- 30001–50000 — `'D'`;\n",
    "- 50001–200000 — `'C'`;\n",
    "- 200001–1000000 — `'B'`;\n",
    "- 1000001 и выше — `'A'`.\n",
    "\n",
    "\n",
    "**Например, кредитополучателю с доходом 25000 нужно назначить категорию `'E'`, а клиенту, получающему 235000, — `'B'`. Используйте собственную функцию с именем `categorize_income()` и метод `apply()`.**"
   ]
  },
  {
   "cell_type": "code",
   "execution_count": 17,
   "id": "360a9090",
   "metadata": {
    "deletable": false,
    "id": "e1771346"
   },
   "outputs": [],
   "source": [
    "def categorize_income(income):\n",
    "    try:\n",
    "        if 0 <= income <= 30000:\n",
    "            return 'E'\n",
    "        elif 30001 <= income <= 50000:\n",
    "            return 'D'\n",
    "        elif 50001 <= income <= 200000:\n",
    "            return 'C'\n",
    "        elif 200001 <= income <= 1000000:\n",
    "            return 'B'\n",
    "        elif income >= 1000001:\n",
    "            return 'A'\n",
    "    except:\n",
    "        pass"
   ]
  },
  {
   "cell_type": "code",
   "execution_count": 18,
   "id": "f3dcd2e3",
   "metadata": {
    "deletable": false,
    "id": "d5f3586d"
   },
   "outputs": [],
   "source": [
    "data['total_income_category'] = data['total_income'].apply(categorize_income)"
   ]
  },
  {
   "cell_type": "markdown",
   "id": "1ce60ce6",
   "metadata": {
    "deletable": false,
    "editable": false,
    "id": "dde49b5c"
   },
   "source": [
    "**Задание 17. Выведите на экран перечень уникальных целей взятия кредита из столбца `purpose`.**"
   ]
  },
  {
   "cell_type": "code",
   "execution_count": 19,
   "id": "707fa7ef",
   "metadata": {
    "deletable": false,
    "id": "f67ce9b3",
    "outputId": "673c12d9-7d7e-4ae0-9812-c622c89dd244"
   },
   "outputs": [
    {
     "data": {
      "text/plain": [
       "array(['покупка жилья', 'приобретение автомобиля',\n",
       "       'дополнительное образование', 'сыграть свадьбу',\n",
       "       'операции с жильем', 'образование', 'на проведение свадьбы',\n",
       "       'покупка жилья для семьи', 'покупка недвижимости',\n",
       "       'покупка коммерческой недвижимости', 'покупка жилой недвижимости',\n",
       "       'строительство собственной недвижимости', 'недвижимость',\n",
       "       'строительство недвижимости', 'на покупку подержанного автомобиля',\n",
       "       'на покупку своего автомобиля',\n",
       "       'операции с коммерческой недвижимостью',\n",
       "       'строительство жилой недвижимости', 'жилье',\n",
       "       'операции со своей недвижимостью', 'автомобили',\n",
       "       'заняться образованием', 'сделка с подержанным автомобилем',\n",
       "       'получение образования', 'автомобиль', 'свадьба',\n",
       "       'получение дополнительного образования', 'покупка своего жилья',\n",
       "       'операции с недвижимостью', 'получение высшего образования',\n",
       "       'свой автомобиль', 'сделка с автомобилем',\n",
       "       'профильное образование', 'высшее образование',\n",
       "       'покупка жилья для сдачи', 'на покупку автомобиля', 'ремонт жилью',\n",
       "       'заняться высшим образованием'], dtype=object)"
      ]
     },
     "execution_count": 19,
     "metadata": {},
     "output_type": "execute_result"
    }
   ],
   "source": [
    "data['purpose'].unique()"
   ]
  },
  {
   "cell_type": "markdown",
   "id": "c01c8f79",
   "metadata": {
    "deletable": false,
    "editable": false,
    "id": "85d0aef0"
   },
   "source": [
    "**Задание 18. Создайте функцию, которая на основании данных из столбца `purpose` сформирует новый столбец `purpose_category`, в который войдут следующие категории:**\n",
    "\n",
    "- `'операции с автомобилем'`,\n",
    "- `'операции с недвижимостью'`,\n",
    "- `'проведение свадьбы'`,\n",
    "- `'получение образования'`.\n",
    "\n",
    "**Например, если в столбце `purpose` находится подстрока `'на покупку автомобиля'`, то в столбце `purpose_category` должна появиться строка `'операции с автомобилем'`.**\n",
    "\n",
    "**Используйте собственную функцию с именем `categorize_purpose()` и метод `apply()`. Изучите данные в столбце `purpose` и определите, какие подстроки помогут вам правильно определить категорию.**"
   ]
  },
  {
   "cell_type": "code",
   "execution_count": 20,
   "id": "a447af01",
   "metadata": {
    "deletable": false,
    "id": "e149fab4"
   },
   "outputs": [],
   "source": [
    "def categorize_purpose(row):\n",
    "    try:\n",
    "        if 'автом' in row:\n",
    "            return 'операции с автомобилем'\n",
    "        elif 'жил' in row or 'недвиж' in row:\n",
    "            return 'операции с недвижимостью'\n",
    "        elif 'свад' in row:\n",
    "            return 'проведение свадьбы'\n",
    "        elif 'образов' in row:\n",
    "            return 'получение образования'\n",
    "    except:\n",
    "        return 'нет категории'"
   ]
  },
  {
   "cell_type": "code",
   "execution_count": 21,
   "id": "008d558d",
   "metadata": {
    "deletable": false,
    "id": "bf36e69b"
   },
   "outputs": [],
   "source": [
    "data['purpose_category'] = data['purpose'].apply(categorize_purpose)"
   ]
  },
  {
   "cell_type": "markdown",
   "id": "f4dfd224",
   "metadata": {
    "deletable": false,
    "editable": false,
    "id": "09b242bf"
   },
   "source": [
    "### Шаг 3. Исследуйте данные и ответьте на вопросы"
   ]
  },
  {
   "cell_type": "markdown",
   "id": "8a28b384",
   "metadata": {
    "deletable": false,
    "editable": false,
    "id": "c5d66278"
   },
   "source": [
    "#### 3.1 Есть ли зависимость между количеством детей и возвратом кредита в срок?"
   ]
  },
  {
   "cell_type": "code",
   "execution_count": 22,
   "id": "b5f896b8",
   "metadata": {
    "deletable": false,
    "id": "2cacfc4a"
   },
   "outputs": [
    {
     "data": {
      "text/plain": [
       "children\n",
       "0    7.54%\n",
       "1    9.23%\n",
       "2    9.45%\n",
       "3    8.18%\n",
       "4    9.76%\n",
       "5     0.0%\n",
       "dtype: object"
      ]
     },
     "execution_count": 22,
     "metadata": {},
     "output_type": "execute_result"
    }
   ],
   "source": [
    "data_a = data.groupby('children')[['debt']].sum() # расчитаем кол-во НЕ возвратов в срок по кол-ву детей\n",
    "data_a['debt_count'] = data.groupby('children')[['debt']].count()# расчитаем общее кол-во заемщиков по кол-ву детей\n",
    "data_b = (data_a['debt']/data_a['debt_count']).mul(100).round(2).astype(str).add('%')\n",
    "data_b # получим процент НЕ возврата кредитов в срок в разбивке по колличеству детей"
   ]
  },
  {
   "cell_type": "markdown",
   "id": "e0b290a7",
   "metadata": {
    "deletable": false,
    "id": "3a6b99ec"
   },
   "source": [
    "**Вывод:** \n",
    "\n",
    "Исходя из полученных данных наблюдается увеличение колличества просрочек по выплате кредита с увеличением колличнства детей в семье.\n",
    "Но т.к.семьи с 3-мя детьми допускают просрочки значительно реже, чем например семьи с 2-мя и 4-мя,\n",
    "можно предположить, что данная зависимость не является линейной.\n",
    "\n",
    "Вероятно существует зависимость между возвратом кредита в срок и наличием/отсутсвием детей, но их колличество не влияет на факт выплаты в сущетвенной степени.\n",
    "\n",
    "Отдельно стоит обратить внимание на семьи с 5 детьми, которые вообще не допускают просрочки платжей. В связи с небольшим объемом выборки (9 человек) эти данные могут быть не репрезентативны"
   ]
  },
  {
   "cell_type": "markdown",
   "id": "3f0cd6a1",
   "metadata": {
    "deletable": false,
    "editable": false,
    "id": "97be82ca"
   },
   "source": [
    "#### 3.2 Есть ли зависимость между семейным положением и возвратом кредита в срок?"
   ]
  },
  {
   "cell_type": "code",
   "execution_count": 23,
   "id": "997e87bb",
   "metadata": {
    "deletable": false,
    "id": "dc3f7ee8"
   },
   "outputs": [
    {
     "data": {
      "text/plain": [
       "family_status\n",
       "Не женат / не замужем    9.76%\n",
       "в разводе                7.06%\n",
       "вдовец / вдова           6.62%\n",
       "гражданский брак         9.31%\n",
       "женат / замужем          7.56%\n",
       "dtype: object"
      ]
     },
     "execution_count": 23,
     "metadata": {},
     "output_type": "execute_result"
    }
   ],
   "source": [
    "data_с = data.groupby('family_status')[['debt']].sum() \n",
    "data_с['debt_count'] = data.groupby('family_status')[['debt']].count()\n",
    "data_d = (data_с['debt']/data_с['debt_count']).mul(100).round(2).astype(str).add('%')\n",
    "data_d"
   ]
  },
  {
   "cell_type": "markdown",
   "id": "76c651aa",
   "metadata": {
    "deletable": false,
    "id": "1cef7837"
   },
   "source": [
    "**Вывод:** \n",
    "\n",
    "Заемщики не состоящие в официальном браке (категории \"Не женат / не замужем\" и \"гражданский брак\") чаще допускают просрочку платежей по кредиту.\n",
    "Наиболее дисциплинированными плательщиками являются вдовцы."
   ]
  },
  {
   "cell_type": "markdown",
   "id": "231876e7",
   "metadata": {
    "deletable": false,
    "editable": false,
    "id": "1e8b2fca"
   },
   "source": [
    "#### 3.3 Есть ли зависимость между уровнем дохода и возвратом кредита в срок?"
   ]
  },
  {
   "cell_type": "code",
   "execution_count": 24,
   "id": "86589045",
   "metadata": {
    "deletable": false,
    "id": "cd7e3720"
   },
   "outputs": [
    {
     "data": {
      "text/plain": [
       "total_income_category\n",
       "A     8.0%\n",
       "B    7.06%\n",
       "C     8.5%\n",
       "D    6.02%\n",
       "E    9.09%\n",
       "dtype: object"
      ]
     },
     "execution_count": 24,
     "metadata": {},
     "output_type": "execute_result"
    }
   ],
   "source": [
    "data_e = data.groupby('total_income_category')[['debt']].sum() \n",
    "data_e['debt_count'] = data.groupby('total_income_category')[['debt']].count()\n",
    "data_f = (data_e['debt']/data_e['debt_count']).mul(100).round(2).astype(str).add('%')\n",
    "data_f"
   ]
  },
  {
   "cell_type": "markdown",
   "id": "45d7e354",
   "metadata": {},
   "source": [
    "Уровень дохода/категория:\n",
    "\n",
    "0–30000 — 'E';\n",
    "\n",
    "30001–50000 — 'D';\n",
    "\n",
    "50001–200000 — 'C';\n",
    "\n",
    "200001–1000000 — 'B';\n",
    "\n",
    "1000001 и выше — 'A'."
   ]
  },
  {
   "cell_type": "markdown",
   "id": "714f888b",
   "metadata": {
    "deletable": false,
    "id": "e8593def"
   },
   "source": [
    "**Вывод:** \n",
    "\n",
    "Заемщики с наименьшим доходом (категория \"Е\") чаще других допускают просрочку по выплате кредита.\n",
    "При этом наиболее дисциплинированными являются плательщики из ближайшей категории \"D\", что указывает на отсутсвие прямой зависимости между ростом доходов и возврата кредита в срок."
   ]
  },
  {
   "cell_type": "markdown",
   "id": "6afa4c57",
   "metadata": {
    "deletable": false,
    "editable": false,
    "id": "99ecbd1f"
   },
   "source": [
    "#### 3.4 Как разные цели кредита влияют на его возврат в срок?"
   ]
  },
  {
   "cell_type": "code",
   "execution_count": 25,
   "id": "623ec9b9",
   "metadata": {
    "deletable": false,
    "id": "2b687290"
   },
   "outputs": [
    {
     "data": {
      "text/plain": [
       "purpose_category\n",
       "операции с автомобилем      9.35%\n",
       "операции с недвижимостью    7.26%\n",
       "получение образования       9.25%\n",
       "проведение свадьбы          7.91%\n",
       "dtype: object"
      ]
     },
     "execution_count": 25,
     "metadata": {},
     "output_type": "execute_result"
    }
   ],
   "source": [
    "data_g = data.groupby('purpose_category')[['debt']].sum() \n",
    "data_g['debt_count'] = data.groupby('purpose_category')[['debt']].count()\n",
    "data_j = (data_g['debt']/data_g['debt_count']).mul(100).round(2).astype(str).add('%')\n",
    "data_j"
   ]
  },
  {
   "cell_type": "markdown",
   "id": "0336b8fa",
   "metadata": {
    "deletable": false,
    "id": "b4bb2ce6"
   },
   "source": [
    "**Вывод:** \n",
    "\n",
    "Чаще нарушают сроки выплаты заемщики взявшие кредит на автомобиль и на образование.\n",
    "Наиболее надежными оказались заемщики совершающие операции с недвижимостью."
   ]
  },
  {
   "cell_type": "markdown",
   "id": "dcc961be",
   "metadata": {
    "deletable": false,
    "editable": false,
    "id": "09c3ac4c"
   },
   "source": [
    "#### 3.5 Приведите возможные причины появления пропусков в исходных данных."
   ]
  },
  {
   "cell_type": "markdown",
   "id": "b929ec92",
   "metadata": {
    "deletable": false,
    "id": "9da2ceda"
   },
   "source": [
    "*Ответ:* \n",
    "\n",
    "Для банковского скоринга причинами появления пропусков в исходных данных могут быть:\n",
    "\n",
    "-отсутсвие кредитной истории у заемщика на момент оценки его кредитоспособности\n",
    "\n",
    "-технические ошибки при вводе, сохранении,пересылке данных\n",
    "\n",
    "-человеческие фактор при заполнении кредитной заявки"
   ]
  },
  {
   "cell_type": "markdown",
   "id": "c1075229",
   "metadata": {
    "deletable": false,
    "editable": false,
    "id": "7b0487d6"
   },
   "source": [
    "#### 3.6 Объясните, почему заполнить пропуски медианным значением — лучшее решение для количественных переменных."
   ]
  },
  {
   "cell_type": "markdown",
   "id": "5a3a4274",
   "metadata": {
    "deletable": false,
    "id": "7ecf2b8e"
   },
   "source": [
    "*Ответ:* \n",
    "\n",
    "Медиана является более устойчивым показателем к выбросам в данных и позволит избежать искажений."
   ]
  },
  {
   "cell_type": "markdown",
   "id": "01407032",
   "metadata": {
    "deletable": false,
    "editable": false,
    "id": "6db5255a"
   },
   "source": [
    "### Шаг 4: общий вывод."
   ]
  },
  {
   "cell_type": "markdown",
   "id": "dcc27aac",
   "metadata": {
    "deletable": false,
    "id": "bad65432"
   },
   "source": [
    "Напишите ваш общий вывод.\n",
    "\n",
    "Рассмотриваемый датафрейм содержал 12 колонок и 21525 строк.\n",
    "В колонках days_employed (дни трудового стажа) и total_income (данные о доходах) было пропущенно 2174 значения.\n",
    "В ходе обработки данных было приянто решение заменить пропущенные значения медианными.\n",
    "С столбце children (колличество детей) были обнаруженны аномальные выбросы. \n",
    "Было принято решение удалить строки с аномальными показателями.\n",
    "Также была выявленна и удалена 71 строка дубликатов.\n",
    "Для удобства анализа были добавленны столбцы total_income_category (категория уровня доходов) и purpose_category (категория назначения кредита).\n",
    "\n",
    "В ходе анализа была выявленна зависимость между возвратом кредита в срок и наличием/отсутсвием детей, но для получения более точных данных необходимо протестировать гиппотезу, о том, что их колличество не влияет на факт выплаты в сущетвенной степени.\n",
    "\n",
    "Заемщики не состоящие в официальном браке (категории \"Не женат / не замужем\" и \"гражданский брак\") чаще допускают просрочку платежей по кредиту. В то время как наиболее дисциплинированными плательщиками являются вдовцы.\n",
    "\n",
    "Заемщики с наименьшим доходом (категория \"Е\") чаще других допускают просрочку по выплате кредита. При этом наиболее дисциплинированными являются плательщики из ближайшей категории \"D\", что указывает на отсутсвие прямой зависимости между ростом доходов и возврата кредита в срок.\n",
    "\n",
    "Чаще нарушают сроки выплаты заемщики взявшие кредит на автомобиль и на образование. Наиболее надежными оказались заемщики совершающие операции с недвижимостью.\n",
    "\n",
    "\n",
    "Так к наиболее ненаежным плательщикам можно отнести следующие категории:\n",
    "\n",
    "-заемщики у которых есть дети\n",
    "\n",
    "-не состоящие в официальном браке\n",
    "\n",
    "-с доходами не приевышающими 30 000 руб\n",
    "\n",
    "-взявшие к редит на облату автомобиля или образования\n",
    "\n",
    "В тоже время по многим показателям не была выявленна прямая зависимость,  для более достоверной оценки заемщиков необходимо проверять сочетания показателей и проводить статистический анализ."
   ]
  }
 ],
 "metadata": {
  "ExecuteTimeLog": [
   {
    "duration": 52,
    "start_time": "2022-11-20T08:25:20.573Z"
   },
   {
    "duration": 532,
    "start_time": "2022-11-20T08:25:30.052Z"
   },
   {
    "duration": 32,
    "start_time": "2022-11-20T08:25:30.729Z"
   },
   {
    "duration": 23,
    "start_time": "2022-11-20T08:25:31.286Z"
   },
   {
    "duration": 13,
    "start_time": "2022-11-20T08:25:32.180Z"
   },
   {
    "duration": 38,
    "start_time": "2022-11-20T08:25:32.487Z"
   },
   {
    "duration": 5,
    "start_time": "2022-11-20T08:25:33.022Z"
   },
   {
    "duration": 11,
    "start_time": "2022-11-20T08:25:33.431Z"
   },
   {
    "duration": 6,
    "start_time": "2022-11-20T08:25:34.200Z"
   },
   {
    "duration": 9,
    "start_time": "2022-11-20T08:25:34.508Z"
   },
   {
    "duration": 6,
    "start_time": "2022-11-20T08:25:34.881Z"
   },
   {
    "duration": 56,
    "start_time": "2022-11-20T08:25:35.534Z"
   },
   {
    "duration": 15,
    "start_time": "2022-11-20T08:25:35.915Z"
   },
   {
    "duration": 5,
    "start_time": "2022-11-20T08:25:36.558Z"
   },
   {
    "duration": 13,
    "start_time": "2022-11-20T08:25:37.203Z"
   },
   {
    "duration": 22,
    "start_time": "2022-11-20T08:25:38.260Z"
   },
   {
    "duration": 27,
    "start_time": "2022-11-20T08:25:38.439Z"
   },
   {
    "duration": 5,
    "start_time": "2022-11-20T08:25:39.062Z"
   },
   {
    "duration": 17,
    "start_time": "2022-11-20T08:25:39.284Z"
   },
   {
    "duration": 8,
    "start_time": "2022-11-20T08:25:39.752Z"
   },
   {
    "duration": 5,
    "start_time": "2022-11-20T08:25:40.179Z"
   },
   {
    "duration": 13,
    "start_time": "2022-11-20T08:25:40.386Z"
   },
   {
    "duration": 11,
    "start_time": "2022-11-20T08:25:41.071Z"
   },
   {
    "duration": 2600,
    "start_time": "2022-11-20T08:27:38.531Z"
   },
   {
    "duration": 1614,
    "start_time": "2022-11-20T08:27:41.511Z"
   },
   {
    "duration": 1734,
    "start_time": "2022-11-20T08:28:12.140Z"
   },
   {
    "duration": 32182,
    "start_time": "2022-11-20T08:30:13.413Z"
   },
   {
    "duration": 18,
    "start_time": "2022-11-20T08:30:55.491Z"
   },
   {
    "duration": 491,
    "start_time": "2022-11-20T08:32:27.396Z"
   },
   {
    "duration": 266,
    "start_time": "2022-11-20T08:33:18.719Z"
   },
   {
    "duration": 1533,
    "start_time": "2022-11-20T08:35:14.579Z"
   },
   {
    "duration": 6,
    "start_time": "2022-11-20T08:36:29.495Z"
   },
   {
    "duration": 5,
    "start_time": "2022-11-20T08:36:42.320Z"
   },
   {
    "duration": 12,
    "start_time": "2022-11-20T08:38:41.594Z"
   },
   {
    "duration": 9,
    "start_time": "2022-11-20T08:39:05.597Z"
   },
   {
    "duration": 18,
    "start_time": "2022-11-20T08:42:08.823Z"
   },
   {
    "duration": 11,
    "start_time": "2022-11-20T08:43:27.819Z"
   },
   {
    "duration": 10,
    "start_time": "2022-11-20T08:43:57.265Z"
   },
   {
    "duration": 77,
    "start_time": "2022-11-20T08:45:29.885Z"
   },
   {
    "duration": 11,
    "start_time": "2022-11-20T08:45:36.017Z"
   },
   {
    "duration": 16,
    "start_time": "2022-11-20T08:46:12.226Z"
   },
   {
    "duration": 19,
    "start_time": "2022-11-20T08:46:34.269Z"
   },
   {
    "duration": 12,
    "start_time": "2022-11-20T08:46:37.752Z"
   },
   {
    "duration": 9,
    "start_time": "2022-11-20T08:49:08.368Z"
   },
   {
    "duration": 11,
    "start_time": "2022-11-20T08:49:19.139Z"
   },
   {
    "duration": 12,
    "start_time": "2022-11-20T08:50:03.045Z"
   },
   {
    "duration": 15,
    "start_time": "2022-11-20T08:55:27.337Z"
   },
   {
    "duration": 11,
    "start_time": "2022-11-20T08:59:00.221Z"
   },
   {
    "duration": 7,
    "start_time": "2022-11-20T08:59:14.776Z"
   },
   {
    "duration": 44,
    "start_time": "2022-11-20T09:07:35.526Z"
   },
   {
    "duration": 8,
    "start_time": "2022-11-20T09:07:40.762Z"
   },
   {
    "duration": 6,
    "start_time": "2022-11-20T09:13:51.970Z"
   },
   {
    "duration": 19,
    "start_time": "2022-11-20T09:27:08.333Z"
   },
   {
    "duration": 26,
    "start_time": "2022-11-20T09:30:16.980Z"
   },
   {
    "duration": 21,
    "start_time": "2022-11-20T09:30:50.438Z"
   },
   {
    "duration": 25,
    "start_time": "2022-11-20T09:31:02.762Z"
   },
   {
    "duration": 20,
    "start_time": "2022-11-20T09:31:36.584Z"
   },
   {
    "duration": 23,
    "start_time": "2022-11-20T09:31:44.698Z"
   },
   {
    "duration": 23,
    "start_time": "2022-11-20T09:32:05.620Z"
   },
   {
    "duration": 34,
    "start_time": "2022-11-20T09:32:28.474Z"
   },
   {
    "duration": 19,
    "start_time": "2022-11-20T09:32:54.587Z"
   },
   {
    "duration": 11,
    "start_time": "2022-11-20T09:33:24.317Z"
   },
   {
    "duration": 4,
    "start_time": "2022-11-20T09:33:41.569Z"
   },
   {
    "duration": 6,
    "start_time": "2022-11-20T09:33:48.017Z"
   },
   {
    "duration": 6,
    "start_time": "2022-11-20T09:35:52.102Z"
   },
   {
    "duration": 6,
    "start_time": "2022-11-20T09:37:03.092Z"
   },
   {
    "duration": 28,
    "start_time": "2022-11-20T09:42:38.278Z"
   },
   {
    "duration": 27,
    "start_time": "2022-11-20T09:43:04.599Z"
   },
   {
    "duration": 27,
    "start_time": "2022-11-20T09:44:22.182Z"
   },
   {
    "duration": 8,
    "start_time": "2022-11-20T09:44:23.801Z"
   },
   {
    "duration": 24,
    "start_time": "2022-11-20T09:44:34.182Z"
   },
   {
    "duration": 503,
    "start_time": "2022-11-21T05:43:30.054Z"
   },
   {
    "duration": 20,
    "start_time": "2022-11-21T05:43:32.491Z"
   },
   {
    "duration": 22,
    "start_time": "2022-11-21T05:43:35.243Z"
   },
   {
    "duration": 11,
    "start_time": "2022-11-21T05:43:37.856Z"
   },
   {
    "duration": 32,
    "start_time": "2022-11-21T05:43:38.358Z"
   },
   {
    "duration": 4,
    "start_time": "2022-11-21T05:43:39.039Z"
   },
   {
    "duration": 7,
    "start_time": "2022-11-21T05:43:39.443Z"
   },
   {
    "duration": 4,
    "start_time": "2022-11-21T05:43:40.040Z"
   },
   {
    "duration": 7,
    "start_time": "2022-11-21T05:43:40.450Z"
   },
   {
    "duration": 5,
    "start_time": "2022-11-21T05:43:40.828Z"
   },
   {
    "duration": 31,
    "start_time": "2022-11-21T05:43:41.437Z"
   },
   {
    "duration": 11,
    "start_time": "2022-11-21T05:43:41.816Z"
   },
   {
    "duration": 4,
    "start_time": "2022-11-21T05:43:42.429Z"
   },
   {
    "duration": 10,
    "start_time": "2022-11-21T05:43:43.003Z"
   },
   {
    "duration": 19,
    "start_time": "2022-11-21T05:43:43.392Z"
   },
   {
    "duration": 17,
    "start_time": "2022-11-21T05:43:43.595Z"
   },
   {
    "duration": 4,
    "start_time": "2022-11-21T05:43:44.197Z"
   },
   {
    "duration": 11,
    "start_time": "2022-11-21T05:43:44.374Z"
   },
   {
    "duration": 6,
    "start_time": "2022-11-21T05:43:44.770Z"
   },
   {
    "duration": 3,
    "start_time": "2022-11-21T05:43:45.272Z"
   },
   {
    "duration": 8,
    "start_time": "2022-11-21T05:43:45.504Z"
   },
   {
    "duration": 15,
    "start_time": "2022-11-21T05:43:46.136Z"
   },
   {
    "duration": 6,
    "start_time": "2022-11-21T05:43:46.344Z"
   },
   {
    "duration": 17,
    "start_time": "2022-11-21T05:43:46.956Z"
   },
   {
    "duration": 6,
    "start_time": "2022-11-21T05:43:47.153Z"
   },
   {
    "duration": 13,
    "start_time": "2022-11-21T05:43:47.559Z"
   },
   {
    "duration": 3,
    "start_time": "2022-11-21T05:43:47.971Z"
   },
   {
    "duration": 69,
    "start_time": "2022-11-21T05:45:28.596Z"
   },
   {
    "duration": 15,
    "start_time": "2022-11-21T05:45:55.063Z"
   },
   {
    "duration": 6,
    "start_time": "2022-11-21T05:46:04.120Z"
   },
   {
    "duration": 5,
    "start_time": "2022-11-21T05:47:14.962Z"
   },
   {
    "duration": 6,
    "start_time": "2022-11-21T05:47:39.057Z"
   },
   {
    "duration": 11,
    "start_time": "2022-11-21T06:12:40.090Z"
   },
   {
    "duration": 16,
    "start_time": "2022-11-21T06:12:59.736Z"
   },
   {
    "duration": 13,
    "start_time": "2022-11-21T06:14:24.879Z"
   },
   {
    "duration": 1640,
    "start_time": "2022-11-21T06:21:59.422Z"
   },
   {
    "duration": 168,
    "start_time": "2022-11-21T06:22:12.265Z"
   },
   {
    "duration": 139,
    "start_time": "2022-11-21T06:22:32.940Z"
   },
   {
    "duration": 306,
    "start_time": "2022-11-21T06:22:37.616Z"
   },
   {
    "duration": 1457,
    "start_time": "2022-11-21T06:22:42.026Z"
   },
   {
    "duration": 269,
    "start_time": "2022-11-21T06:23:15.797Z"
   },
   {
    "duration": 250,
    "start_time": "2022-11-21T06:23:33.625Z"
   },
   {
    "duration": 141,
    "start_time": "2022-11-21T06:23:46.513Z"
   },
   {
    "duration": 144,
    "start_time": "2022-11-21T06:23:52.449Z"
   },
   {
    "duration": 959,
    "start_time": "2022-11-21T06:25:03.365Z"
   },
   {
    "duration": 699,
    "start_time": "2022-11-21T06:25:17.751Z"
   },
   {
    "duration": 376,
    "start_time": "2022-11-21T06:25:23.183Z"
   },
   {
    "duration": 3977,
    "start_time": "2022-11-21T06:25:29.831Z"
   },
   {
    "duration": 15,
    "start_time": "2022-11-21T06:32:48.217Z"
   },
   {
    "duration": 73,
    "start_time": "2022-11-21T06:33:15.311Z"
   },
   {
    "duration": 15,
    "start_time": "2022-11-21T06:33:20.318Z"
   },
   {
    "duration": 14,
    "start_time": "2022-11-21T06:35:44.490Z"
   },
   {
    "duration": 16,
    "start_time": "2022-11-21T06:35:55.037Z"
   },
   {
    "duration": 14,
    "start_time": "2022-11-21T06:37:30.947Z"
   },
   {
    "duration": 17,
    "start_time": "2022-11-21T06:38:50.565Z"
   },
   {
    "duration": 21,
    "start_time": "2022-11-21T08:23:34.067Z"
   },
   {
    "duration": 443,
    "start_time": "2022-11-21T08:48:15.337Z"
   },
   {
    "duration": 21,
    "start_time": "2022-11-21T08:48:15.782Z"
   },
   {
    "duration": 18,
    "start_time": "2022-11-21T08:48:15.804Z"
   },
   {
    "duration": 9,
    "start_time": "2022-11-21T08:48:15.823Z"
   },
   {
    "duration": 34,
    "start_time": "2022-11-21T08:48:15.834Z"
   },
   {
    "duration": 4,
    "start_time": "2022-11-21T08:48:15.869Z"
   },
   {
    "duration": 15,
    "start_time": "2022-11-21T08:48:15.874Z"
   },
   {
    "duration": 5,
    "start_time": "2022-11-21T08:48:15.890Z"
   },
   {
    "duration": 14,
    "start_time": "2022-11-21T08:48:15.896Z"
   },
   {
    "duration": 4,
    "start_time": "2022-11-21T08:48:15.912Z"
   },
   {
    "duration": 40,
    "start_time": "2022-11-21T08:48:15.921Z"
   },
   {
    "duration": 9,
    "start_time": "2022-11-21T08:48:15.962Z"
   },
   {
    "duration": 4,
    "start_time": "2022-11-21T08:48:15.972Z"
   },
   {
    "duration": 12,
    "start_time": "2022-11-21T08:48:15.978Z"
   },
   {
    "duration": 34,
    "start_time": "2022-11-21T08:48:15.992Z"
   },
   {
    "duration": 15,
    "start_time": "2022-11-21T08:48:16.027Z"
   },
   {
    "duration": 4,
    "start_time": "2022-11-21T08:48:16.043Z"
   },
   {
    "duration": 20,
    "start_time": "2022-11-21T08:48:16.048Z"
   },
   {
    "duration": 6,
    "start_time": "2022-11-21T08:48:16.069Z"
   },
   {
    "duration": 11,
    "start_time": "2022-11-21T08:48:16.076Z"
   },
   {
    "duration": 12,
    "start_time": "2022-11-21T08:48:16.088Z"
   },
   {
    "duration": 24,
    "start_time": "2022-11-21T08:48:16.101Z"
   },
   {
    "duration": 13,
    "start_time": "2022-11-21T08:48:16.126Z"
   },
   {
    "duration": 11,
    "start_time": "2022-11-21T08:48:16.141Z"
   },
   {
    "duration": 14,
    "start_time": "2022-11-21T08:48:16.153Z"
   },
   {
    "duration": 413,
    "start_time": "2022-11-21T08:51:24.665Z"
   },
   {
    "duration": 23,
    "start_time": "2022-11-21T08:51:25.080Z"
   },
   {
    "duration": 16,
    "start_time": "2022-11-21T08:51:25.104Z"
   },
   {
    "duration": 10,
    "start_time": "2022-11-21T08:51:25.122Z"
   },
   {
    "duration": 45,
    "start_time": "2022-11-21T08:51:25.134Z"
   },
   {
    "duration": 4,
    "start_time": "2022-11-21T08:51:25.181Z"
   },
   {
    "duration": 19,
    "start_time": "2022-11-21T08:51:25.186Z"
   },
   {
    "duration": 18,
    "start_time": "2022-11-21T08:51:25.207Z"
   },
   {
    "duration": 11,
    "start_time": "2022-11-21T08:51:25.227Z"
   },
   {
    "duration": 5,
    "start_time": "2022-11-21T08:51:25.240Z"
   },
   {
    "duration": 45,
    "start_time": "2022-11-21T08:51:25.246Z"
   },
   {
    "duration": 10,
    "start_time": "2022-11-21T08:51:25.293Z"
   },
   {
    "duration": 16,
    "start_time": "2022-11-21T08:51:25.305Z"
   },
   {
    "duration": 16,
    "start_time": "2022-11-21T08:51:25.324Z"
   },
   {
    "duration": 27,
    "start_time": "2022-11-21T08:51:25.342Z"
   },
   {
    "duration": 14,
    "start_time": "2022-11-21T08:51:25.371Z"
   },
   {
    "duration": 3,
    "start_time": "2022-11-21T08:51:25.386Z"
   },
   {
    "duration": 15,
    "start_time": "2022-11-21T08:51:25.391Z"
   },
   {
    "duration": 5,
    "start_time": "2022-11-21T08:51:25.420Z"
   },
   {
    "duration": 6,
    "start_time": "2022-11-21T08:51:25.427Z"
   },
   {
    "duration": 13,
    "start_time": "2022-11-21T08:51:25.434Z"
   },
   {
    "duration": 14,
    "start_time": "2022-11-21T08:51:25.448Z"
   },
   {
    "duration": 13,
    "start_time": "2022-11-21T08:51:25.464Z"
   },
   {
    "duration": 12,
    "start_time": "2022-11-21T08:51:25.479Z"
   },
   {
    "duration": 39,
    "start_time": "2022-11-21T08:51:25.492Z"
   }
  ],
  "colab": {
   "name": "dpp_template_part2.ipynb",
   "provenance": []
  },
  "kernelspec": {
   "display_name": "Python 3 (ipykernel)",
   "language": "python",
   "name": "python3"
  },
  "language_info": {
   "codemirror_mode": {
    "name": "ipython",
    "version": 3
   },
   "file_extension": ".py",
   "mimetype": "text/x-python",
   "name": "python",
   "nbconvert_exporter": "python",
   "pygments_lexer": "ipython3",
   "version": "3.9.13"
  },
  "toc": {
   "base_numbering": 1,
   "nav_menu": {},
   "number_sections": true,
   "sideBar": true,
   "skip_h1_title": true,
   "title_cell": "Table of Contents",
   "title_sidebar": "Contents",
   "toc_cell": false,
   "toc_position": {},
   "toc_section_display": true,
   "toc_window_display": false
  }
 },
 "nbformat": 4,
 "nbformat_minor": 5
}
