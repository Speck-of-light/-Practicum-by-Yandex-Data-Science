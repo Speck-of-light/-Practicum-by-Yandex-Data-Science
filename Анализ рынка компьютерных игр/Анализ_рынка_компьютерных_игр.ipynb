{
 "cells": [
  {
   "cell_type": "markdown",
   "metadata": {},
   "source": [
    "На основе данных о продажах игр, оценках пользователей и экспертов, жанрах и платформах проведем исследование рынка компьютерных игр.  \n",
    "\n",
    "Цель исследования — выявление определяющих успешность игры закономерностей\n",
    "\n",
    "Данные о поведении пользователей получены из открытых источников и представленны в файле games.csv.\n",
    "\n",
    "Исследование пройдёт в четыре этапа: \n",
    "- Обзор данных. \n",
    "- Предобработка данных. \n",
    "- Проведение исследовательского анализа данных. \n",
    "- Проверка статистических гипотез"
   ]
  },
  {
   "cell_type": "markdown",
   "metadata": {},
   "source": [
    "###  Откроем файл с данными и изучим общую информацию"
   ]
  },
  {
   "cell_type": "code",
   "execution_count": 28,
   "metadata": {},
   "outputs": [
    {
     "data": {
      "text/html": [
       "<div>\n",
       "<style scoped>\n",
       "    .dataframe tbody tr th:only-of-type {\n",
       "        vertical-align: middle;\n",
       "    }\n",
       "\n",
       "    .dataframe tbody tr th {\n",
       "        vertical-align: top;\n",
       "    }\n",
       "\n",
       "    .dataframe thead th {\n",
       "        text-align: right;\n",
       "    }\n",
       "</style>\n",
       "<table border=\"1\" class=\"dataframe\">\n",
       "  <thead>\n",
       "    <tr style=\"text-align: right;\">\n",
       "      <th></th>\n",
       "      <th>Name</th>\n",
       "      <th>Platform</th>\n",
       "      <th>Year_of_Release</th>\n",
       "      <th>Genre</th>\n",
       "      <th>NA_sales</th>\n",
       "      <th>EU_sales</th>\n",
       "      <th>JP_sales</th>\n",
       "      <th>Other_sales</th>\n",
       "      <th>Critic_Score</th>\n",
       "      <th>User_Score</th>\n",
       "      <th>Rating</th>\n",
       "    </tr>\n",
       "  </thead>\n",
       "  <tbody>\n",
       "    <tr>\n",
       "      <th>0</th>\n",
       "      <td>Wii Sports</td>\n",
       "      <td>Wii</td>\n",
       "      <td>2006.0</td>\n",
       "      <td>Sports</td>\n",
       "      <td>41.36</td>\n",
       "      <td>28.96</td>\n",
       "      <td>3.77</td>\n",
       "      <td>8.45</td>\n",
       "      <td>76.0</td>\n",
       "      <td>8</td>\n",
       "      <td>E</td>\n",
       "    </tr>\n",
       "    <tr>\n",
       "      <th>1</th>\n",
       "      <td>Super Mario Bros.</td>\n",
       "      <td>NES</td>\n",
       "      <td>1985.0</td>\n",
       "      <td>Platform</td>\n",
       "      <td>29.08</td>\n",
       "      <td>3.58</td>\n",
       "      <td>6.81</td>\n",
       "      <td>0.77</td>\n",
       "      <td>NaN</td>\n",
       "      <td>NaN</td>\n",
       "      <td>NaN</td>\n",
       "    </tr>\n",
       "    <tr>\n",
       "      <th>2</th>\n",
       "      <td>Mario Kart Wii</td>\n",
       "      <td>Wii</td>\n",
       "      <td>2008.0</td>\n",
       "      <td>Racing</td>\n",
       "      <td>15.68</td>\n",
       "      <td>12.76</td>\n",
       "      <td>3.79</td>\n",
       "      <td>3.29</td>\n",
       "      <td>82.0</td>\n",
       "      <td>8.3</td>\n",
       "      <td>E</td>\n",
       "    </tr>\n",
       "    <tr>\n",
       "      <th>3</th>\n",
       "      <td>Wii Sports Resort</td>\n",
       "      <td>Wii</td>\n",
       "      <td>2009.0</td>\n",
       "      <td>Sports</td>\n",
       "      <td>15.61</td>\n",
       "      <td>10.93</td>\n",
       "      <td>3.28</td>\n",
       "      <td>2.95</td>\n",
       "      <td>80.0</td>\n",
       "      <td>8</td>\n",
       "      <td>E</td>\n",
       "    </tr>\n",
       "    <tr>\n",
       "      <th>4</th>\n",
       "      <td>Pokemon Red/Pokemon Blue</td>\n",
       "      <td>GB</td>\n",
       "      <td>1996.0</td>\n",
       "      <td>Role-Playing</td>\n",
       "      <td>11.27</td>\n",
       "      <td>8.89</td>\n",
       "      <td>10.22</td>\n",
       "      <td>1.00</td>\n",
       "      <td>NaN</td>\n",
       "      <td>NaN</td>\n",
       "      <td>NaN</td>\n",
       "    </tr>\n",
       "  </tbody>\n",
       "</table>\n",
       "</div>"
      ],
      "text/plain": [
       "                       Name Platform  Year_of_Release         Genre  NA_sales  \\\n",
       "0                Wii Sports      Wii           2006.0        Sports     41.36   \n",
       "1         Super Mario Bros.      NES           1985.0      Platform     29.08   \n",
       "2            Mario Kart Wii      Wii           2008.0        Racing     15.68   \n",
       "3         Wii Sports Resort      Wii           2009.0        Sports     15.61   \n",
       "4  Pokemon Red/Pokemon Blue       GB           1996.0  Role-Playing     11.27   \n",
       "\n",
       "   EU_sales  JP_sales  Other_sales  Critic_Score User_Score Rating  \n",
       "0     28.96      3.77         8.45          76.0          8      E  \n",
       "1      3.58      6.81         0.77           NaN        NaN    NaN  \n",
       "2     12.76      3.79         3.29          82.0        8.3      E  \n",
       "3     10.93      3.28         2.95          80.0          8      E  \n",
       "4      8.89     10.22         1.00           NaN        NaN    NaN  "
      ]
     },
     "execution_count": 28,
     "metadata": {},
     "output_type": "execute_result"
    }
   ],
   "source": [
    "# импортируем библиотеки и загрузим датасет\n",
    "# рассмотрим первые 5 строк таблицы\n",
    "import pandas as pd\n",
    "import numpy as np\n",
    "import matplotlib.pyplot as plt\n",
    "import seaborn as sns\n",
    "from scipy import stats as st\n",
    "\n",
    "import warnings\n",
    "warnings.filterwarnings(\"ignore\")\n",
    "\n",
    "try:\n",
    "    data=pd.read_csv('/datasets/games.csv')\n",
    "except:\n",
    "    data=pd.read_csv('https://code.s3.yandex.net/datasets/games.csv')\n",
    "\n",
    "data.head()"
   ]
  },
  {
   "cell_type": "markdown",
   "metadata": {},
   "source": [
    "Рассмотрим общую информацию о датасете"
   ]
  },
  {
   "cell_type": "code",
   "execution_count": 29,
   "metadata": {},
   "outputs": [
    {
     "name": "stdout",
     "output_type": "stream",
     "text": [
      "<class 'pandas.core.frame.DataFrame'>\n",
      "RangeIndex: 16715 entries, 0 to 16714\n",
      "Data columns (total 11 columns):\n",
      " #   Column           Non-Null Count  Dtype  \n",
      "---  ------           --------------  -----  \n",
      " 0   Name             16713 non-null  object \n",
      " 1   Platform         16715 non-null  object \n",
      " 2   Year_of_Release  16446 non-null  float64\n",
      " 3   Genre            16713 non-null  object \n",
      " 4   NA_sales         16715 non-null  float64\n",
      " 5   EU_sales         16715 non-null  float64\n",
      " 6   JP_sales         16715 non-null  float64\n",
      " 7   Other_sales      16715 non-null  float64\n",
      " 8   Critic_Score     8137 non-null   float64\n",
      " 9   User_Score       10014 non-null  object \n",
      " 10  Rating           9949 non-null   object \n",
      "dtypes: float64(6), object(5)\n",
      "memory usage: 1.4+ MB\n"
     ]
    },
    {
     "data": {
      "text/html": [
       "<div>\n",
       "<style scoped>\n",
       "    .dataframe tbody tr th:only-of-type {\n",
       "        vertical-align: middle;\n",
       "    }\n",
       "\n",
       "    .dataframe tbody tr th {\n",
       "        vertical-align: top;\n",
       "    }\n",
       "\n",
       "    .dataframe thead th {\n",
       "        text-align: right;\n",
       "    }\n",
       "</style>\n",
       "<table border=\"1\" class=\"dataframe\">\n",
       "  <thead>\n",
       "    <tr style=\"text-align: right;\">\n",
       "      <th></th>\n",
       "      <th>Year_of_Release</th>\n",
       "      <th>NA_sales</th>\n",
       "      <th>EU_sales</th>\n",
       "      <th>JP_sales</th>\n",
       "      <th>Other_sales</th>\n",
       "      <th>Critic_Score</th>\n",
       "    </tr>\n",
       "  </thead>\n",
       "  <tbody>\n",
       "    <tr>\n",
       "      <th>count</th>\n",
       "      <td>16446.000000</td>\n",
       "      <td>16715.000000</td>\n",
       "      <td>16715.000000</td>\n",
       "      <td>16715.000000</td>\n",
       "      <td>16715.000000</td>\n",
       "      <td>8137.000000</td>\n",
       "    </tr>\n",
       "    <tr>\n",
       "      <th>mean</th>\n",
       "      <td>2006.484616</td>\n",
       "      <td>0.263377</td>\n",
       "      <td>0.145060</td>\n",
       "      <td>0.077617</td>\n",
       "      <td>0.047342</td>\n",
       "      <td>68.967679</td>\n",
       "    </tr>\n",
       "    <tr>\n",
       "      <th>std</th>\n",
       "      <td>5.877050</td>\n",
       "      <td>0.813604</td>\n",
       "      <td>0.503339</td>\n",
       "      <td>0.308853</td>\n",
       "      <td>0.186731</td>\n",
       "      <td>13.938165</td>\n",
       "    </tr>\n",
       "    <tr>\n",
       "      <th>min</th>\n",
       "      <td>1980.000000</td>\n",
       "      <td>0.000000</td>\n",
       "      <td>0.000000</td>\n",
       "      <td>0.000000</td>\n",
       "      <td>0.000000</td>\n",
       "      <td>13.000000</td>\n",
       "    </tr>\n",
       "    <tr>\n",
       "      <th>25%</th>\n",
       "      <td>2003.000000</td>\n",
       "      <td>0.000000</td>\n",
       "      <td>0.000000</td>\n",
       "      <td>0.000000</td>\n",
       "      <td>0.000000</td>\n",
       "      <td>60.000000</td>\n",
       "    </tr>\n",
       "    <tr>\n",
       "      <th>50%</th>\n",
       "      <td>2007.000000</td>\n",
       "      <td>0.080000</td>\n",
       "      <td>0.020000</td>\n",
       "      <td>0.000000</td>\n",
       "      <td>0.010000</td>\n",
       "      <td>71.000000</td>\n",
       "    </tr>\n",
       "    <tr>\n",
       "      <th>75%</th>\n",
       "      <td>2010.000000</td>\n",
       "      <td>0.240000</td>\n",
       "      <td>0.110000</td>\n",
       "      <td>0.040000</td>\n",
       "      <td>0.030000</td>\n",
       "      <td>79.000000</td>\n",
       "    </tr>\n",
       "    <tr>\n",
       "      <th>max</th>\n",
       "      <td>2016.000000</td>\n",
       "      <td>41.360000</td>\n",
       "      <td>28.960000</td>\n",
       "      <td>10.220000</td>\n",
       "      <td>10.570000</td>\n",
       "      <td>98.000000</td>\n",
       "    </tr>\n",
       "  </tbody>\n",
       "</table>\n",
       "</div>"
      ],
      "text/plain": [
       "       Year_of_Release      NA_sales      EU_sales      JP_sales  \\\n",
       "count     16446.000000  16715.000000  16715.000000  16715.000000   \n",
       "mean       2006.484616      0.263377      0.145060      0.077617   \n",
       "std           5.877050      0.813604      0.503339      0.308853   \n",
       "min        1980.000000      0.000000      0.000000      0.000000   \n",
       "25%        2003.000000      0.000000      0.000000      0.000000   \n",
       "50%        2007.000000      0.080000      0.020000      0.000000   \n",
       "75%        2010.000000      0.240000      0.110000      0.040000   \n",
       "max        2016.000000     41.360000     28.960000     10.220000   \n",
       "\n",
       "        Other_sales  Critic_Score  \n",
       "count  16715.000000   8137.000000  \n",
       "mean       0.047342     68.967679  \n",
       "std        0.186731     13.938165  \n",
       "min        0.000000     13.000000  \n",
       "25%        0.000000     60.000000  \n",
       "50%        0.010000     71.000000  \n",
       "75%        0.030000     79.000000  \n",
       "max       10.570000     98.000000  "
      ]
     },
     "execution_count": 29,
     "metadata": {},
     "output_type": "execute_result"
    }
   ],
   "source": [
    "data.info()\n",
    "data.describe()"
   ]
  },
  {
   "cell_type": "code",
   "execution_count": 30,
   "metadata": {},
   "outputs": [
    {
     "data": {
      "image/png": "[encoded data removed]",
      "text/plain": [
       "<Figure size 1440x576 with 6 Axes>"
      ]
     },
     "metadata": {
      "needs_background": "light"
     },
     "output_type": "display_data"
    }
   ],
   "source": [
    "data.hist(figsize=(20, 8));"
   ]
  },
  {
   "cell_type": "code",
   "execution_count": 31,
   "metadata": {},
   "outputs": [
    {
     "data": {
      "text/html": [
       "<style  type=\"text/css\" >\n",
       "#T_3352f_row0_col0,#T_3352f_row1_col0,#T_3352f_row3_col0,#T_3352f_row4_col0,#T_3352f_row5_col0,#T_3352f_row6_col0,#T_3352f_row7_col0{\n",
       "            background-color:  #3b4cc0;\n",
       "            color:  #f1f1f1;\n",
       "        }#T_3352f_row2_col0{\n",
       "            background-color:  #4358cb;\n",
       "            color:  #f1f1f1;\n",
       "        }#T_3352f_row8_col0{\n",
       "            background-color:  #b40426;\n",
       "            color:  #f1f1f1;\n",
       "        }#T_3352f_row9_col0{\n",
       "            background-color:  #f08b6e;\n",
       "            color:  #000000;\n",
       "        }#T_3352f_row10_col0{\n",
       "            background-color:  #ef886b;\n",
       "            color:  #000000;\n",
       "        }</style><table id=\"T_3352f_\" ><thead>    <tr>        <th class=\"blank level0\" ></th>        <th class=\"col_heading level0 col0\" >0</th>    </tr></thead><tbody>\n",
       "                <tr>\n",
       "                        <th id=\"T_3352f_level0_row0\" class=\"row_heading level0 row0\" >Name</th>\n",
       "                        <td id=\"T_3352f_row0_col0\" class=\"data row0 col0\" >0.000000</td>\n",
       "            </tr>\n",
       "            <tr>\n",
       "                        <th id=\"T_3352f_level0_row1\" class=\"row_heading level0 row1\" >Platform</th>\n",
       "                        <td id=\"T_3352f_row1_col0\" class=\"data row1 col0\" >0.000000</td>\n",
       "            </tr>\n",
       "            <tr>\n",
       "                        <th id=\"T_3352f_level0_row2\" class=\"row_heading level0 row2\" >Year_of_Release</th>\n",
       "                        <td id=\"T_3352f_row2_col0\" class=\"data row2 col0\" >1.600000</td>\n",
       "            </tr>\n",
       "            <tr>\n",
       "                        <th id=\"T_3352f_level0_row3\" class=\"row_heading level0 row3\" >Genre</th>\n",
       "                        <td id=\"T_3352f_row3_col0\" class=\"data row3 col0\" >0.000000</td>\n",
       "            </tr>\n",
       "            <tr>\n",
       "                        <th id=\"T_3352f_level0_row4\" class=\"row_heading level0 row4\" >NA_sales</th>\n",
       "                        <td id=\"T_3352f_row4_col0\" class=\"data row4 col0\" >0.000000</td>\n",
       "            </tr>\n",
       "            <tr>\n",
       "                        <th id=\"T_3352f_level0_row5\" class=\"row_heading level0 row5\" >EU_sales</th>\n",
       "                        <td id=\"T_3352f_row5_col0\" class=\"data row5 col0\" >0.000000</td>\n",
       "            </tr>\n",
       "            <tr>\n",
       "                        <th id=\"T_3352f_level0_row6\" class=\"row_heading level0 row6\" >JP_sales</th>\n",
       "                        <td id=\"T_3352f_row6_col0\" class=\"data row6 col0\" >0.000000</td>\n",
       "            </tr>\n",
       "            <tr>\n",
       "                        <th id=\"T_3352f_level0_row7\" class=\"row_heading level0 row7\" >Other_sales</th>\n",
       "                        <td id=\"T_3352f_row7_col0\" class=\"data row7 col0\" >0.000000</td>\n",
       "            </tr>\n",
       "            <tr>\n",
       "                        <th id=\"T_3352f_level0_row8\" class=\"row_heading level0 row8\" >Critic_Score</th>\n",
       "                        <td id=\"T_3352f_row8_col0\" class=\"data row8 col0\" >51.300000</td>\n",
       "            </tr>\n",
       "            <tr>\n",
       "                        <th id=\"T_3352f_level0_row9\" class=\"row_heading level0 row9\" >User_Score</th>\n",
       "                        <td id=\"T_3352f_row9_col0\" class=\"data row9 col0\" >40.100000</td>\n",
       "            </tr>\n",
       "            <tr>\n",
       "                        <th id=\"T_3352f_level0_row10\" class=\"row_heading level0 row10\" >Rating</th>\n",
       "                        <td id=\"T_3352f_row10_col0\" class=\"data row10 col0\" >40.500000</td>\n",
       "            </tr>\n",
       "    </tbody></table>"
      ],
      "text/plain": [
       "<pandas.io.formats.style.Styler at 0x7fd1dfe00ac0>"
      ]
     },
     "execution_count": 31,
     "metadata": {},
     "output_type": "execute_result"
    }
   ],
   "source": [
    "# Оценим полноту данных\n",
    "pd.DataFrame(round(data.isna().mean()*100,1)).style.background_gradient('coolwarm')"
   ]
  },
  {
   "cell_type": "markdown",
   "metadata": {},
   "source": [
    "Проверим на наличие явных дубликатов"
   ]
  },
  {
   "cell_type": "code",
   "execution_count": 32,
   "metadata": {},
   "outputs": [
    {
     "data": {
      "text/plain": [
       "0"
      ]
     },
     "execution_count": 32,
     "metadata": {},
     "output_type": "execute_result"
    }
   ],
   "source": [
    "data.duplicated().sum()"
   ]
  },
  {
   "cell_type": "markdown",
   "metadata": {},
   "source": [
    "Вывод: В датасете 16 715 строк и 11 столбцов. В некоторых столбцах пропущенные значения достигают 51%. ряд столбцов содержит некорректный тип данных. Наименования столбцов для удобства следует привести к нижнему регистру."
   ]
  },
  {
   "cell_type": "markdown",
   "metadata": {},
   "source": [
    "### Предобработка данных"
   ]
  },
  {
   "cell_type": "markdown",
   "metadata": {},
   "source": [
    "Заменим названия столбцов и приведем их к нижнему регистру."
   ]
  },
  {
   "cell_type": "code",
   "execution_count": 33,
   "metadata": {},
   "outputs": [
    {
     "data": {
      "text/plain": [
       "Index(['name', 'platform', 'year_of_release', 'genre', 'na_sales', 'eu_sales',\n",
       "       'jp_sales', 'other_sales', 'critic_score', 'user_score', 'rating'],\n",
       "      dtype='object')"
      ]
     },
     "execution_count": 33,
     "metadata": {},
     "output_type": "execute_result"
    }
   ],
   "source": [
    "#переименование колонок (исправление стиля)\n",
    "data.columns = data.columns.map(lambda x: x.lower())\n",
    "\n",
    "#проверим внесение изменений:\n",
    "data.columns"
   ]
  },
  {
   "cell_type": "code",
   "execution_count": 34,
   "metadata": {},
   "outputs": [],
   "source": [
    "#чтобы избежать повторяющихся действий создадим функцию для описания столбцов\n",
    "def description(column):\n",
    "    print('наименование столбца:',column)\n",
    "    print('тип данных:', data[column].dtypes)\n",
    "    print('пропущенно значений:',data[column].isna().sum())\n",
    "    if data[column].dtypes == 'object':\n",
    "        print('уникальные значения:', '\\n', data[column].value_counts())\n",
    "    else:\n",
    "        print('минимальное значение:',data[column].min())\n",
    "        print('максимальное значение:', data[column].max())"
   ]
  },
  {
   "cell_type": "markdown",
   "metadata": {},
   "source": [
    "Вначале оценим столбец с названиями игр (name)"
   ]
  },
  {
   "cell_type": "code",
   "execution_count": 35,
   "metadata": {},
   "outputs": [
    {
     "name": "stdout",
     "output_type": "stream",
     "text": [
      "наименование столбца: name\n",
      "тип данных: object\n",
      "пропущенно значений: 2\n",
      "уникальные значения: \n",
      " Need for Speed: Most Wanted                             12\n",
      "Madden NFL 07                                            9\n",
      "Ratatouille                                              9\n",
      "FIFA 14                                                  9\n",
      "LEGO Marvel Super Heroes                                 9\n",
      "                                                        ..\n",
      "Blazer Drive                                             1\n",
      "Pirates of the Caribbean: The Legend of Jack Sparrow     1\n",
      "Game & Watch Gallery 2                                   1\n",
      "Yu-Gi-Oh! Double Pack                                    1\n",
      "SingStar Party                                           1\n",
      "Name: name, Length: 11559, dtype: int64\n"
     ]
    }
   ],
   "source": [
    "description('name')"
   ]
  },
  {
   "cell_type": "markdown",
   "metadata": {},
   "source": [
    "Пропущенно всего 2 значения. "
   ]
  },
  {
   "cell_type": "code",
   "execution_count": 36,
   "metadata": {},
   "outputs": [
    {
     "data": {
      "text/plain": [
       "0"
      ]
     },
     "execution_count": 36,
     "metadata": {},
     "output_type": "execute_result"
    }
   ],
   "source": [
    "# Удаляем записи, где отсутствует название игры (невозможно востановить данную информацию)\n",
    "data.dropna(subset=['name'], inplace=True)\n",
    "# контрольная проверка наличия пропусков в столбце\n",
    "data['name'].isnull().sum()"
   ]
  },
  {
   "cell_type": "markdown",
   "metadata": {},
   "source": [
    "Рассмотрим столбец с указанием платформы (platform)"
   ]
  },
  {
   "cell_type": "code",
   "execution_count": 37,
   "metadata": {},
   "outputs": [
    {
     "name": "stdout",
     "output_type": "stream",
     "text": [
      "наименование столбца: platform\n",
      "тип данных: object\n",
      "пропущенно значений: 0\n",
      "уникальные значения: \n",
      " PS2     2161\n",
      "DS      2151\n",
      "PS3     1331\n",
      "Wii     1320\n",
      "X360    1262\n",
      "PSP     1209\n",
      "PS      1197\n",
      "PC       974\n",
      "XB       824\n",
      "GBA      822\n",
      "GC       556\n",
      "3DS      520\n",
      "PSV      430\n",
      "PS4      392\n",
      "N64      319\n",
      "XOne     247\n",
      "SNES     239\n",
      "SAT      173\n",
      "WiiU     147\n",
      "2600     133\n",
      "GB        98\n",
      "NES       98\n",
      "DC        52\n",
      "GEN       27\n",
      "NG        12\n",
      "WS         6\n",
      "SCD        6\n",
      "3DO        3\n",
      "TG16       2\n",
      "GG         1\n",
      "PCFX       1\n",
      "Name: platform, dtype: int64\n"
     ]
    }
   ],
   "source": [
    "description('platform')"
   ]
  },
  {
   "cell_type": "markdown",
   "metadata": {},
   "source": [
    "Пропущенных значений нет. Возникли сомнения в правильности записи наименования платформы '2600'. Поиск информации показал, что это не опечатка а сокращенное наименование 'Atari 2600' (популярная с 1977 по 1990 приставка)"
   ]
  },
  {
   "cell_type": "markdown",
   "metadata": {},
   "source": [
    "Рассмотрим столбец с указанием года выхода (year_of_release)"
   ]
  },
  {
   "cell_type": "code",
   "execution_count": 38,
   "metadata": {},
   "outputs": [
    {
     "name": "stdout",
     "output_type": "stream",
     "text": [
      "наименование столбца: year_of_release\n",
      "тип данных: float64\n",
      "пропущенно значений: 269\n",
      "минимальное значение: 1980.0\n",
      "максимальное значение: 2016.0\n"
     ]
    }
   ],
   "source": [
    "description('year_of_release')"
   ]
  },
  {
   "cell_type": "code",
   "execution_count": 39,
   "metadata": {},
   "outputs": [
    {
     "data": {
      "text/plain": [
       "array([2006., 1985., 2008., 2009., 1996., 1989., 1984., 2005., 1999.,\n",
       "       2007., 2010., 2013., 2004., 1990., 1988., 2002., 2001., 2011.,\n",
       "       1998., 2015., 2012., 2014., 1992., 1997., 1993., 1994., 1982.,\n",
       "       2016., 2003., 1986., 2000.,   nan, 1995., 1991., 1981., 1987.,\n",
       "       1980., 1983.])"
      ]
     },
     "execution_count": 39,
     "metadata": {},
     "output_type": "execute_result"
    }
   ],
   "source": [
    "data['year_of_release'].unique()"
   ]
  },
  {
   "cell_type": "code",
   "execution_count": 40,
   "metadata": {},
   "outputs": [
    {
     "data": {
      "text/plain": [
       "array([2006, 1985, 2008, 2009, 1996, 1989, 1984, 2005, 1999, 2007, 2010,\n",
       "       2013, 2004, 1990, 1988, 2002, 2001, 2011, 1998, 2015, 2012, 2014,\n",
       "       1992, 1997, 1993, 1994, 1982, 2016, 2003, 1986, 2000, 1995, 1991,\n",
       "       1981, 1987, 1980, 1983])"
      ]
     },
     "execution_count": 40,
     "metadata": {},
     "output_type": "execute_result"
    }
   ],
   "source": [
    "# Приводим в целочисленный тип год выхода игры\n",
    "# Удалим попущенные значения\n",
    "data.dropna(subset=['year_of_release'], inplace=True)\n",
    "data['year_of_release'] = data['year_of_release'].astype(int)\n",
    "\n",
    "# Проверим \n",
    "data['year_of_release'].unique()"
   ]
  },
  {
   "cell_type": "markdown",
   "metadata": {},
   "source": [
    "Рассмотрим столбец с указанием жанра (genre)"
   ]
  },
  {
   "cell_type": "code",
   "execution_count": 41,
   "metadata": {},
   "outputs": [
    {
     "name": "stdout",
     "output_type": "stream",
     "text": [
      "наименование столбца: genre\n",
      "тип данных: object\n",
      "пропущенно значений: 0\n",
      "уникальные значения: \n",
      " Action          3307\n",
      "Sports          2306\n",
      "Misc            1721\n",
      "Role-Playing    1481\n",
      "Shooter         1296\n",
      "Adventure       1293\n",
      "Racing          1226\n",
      "Platform         878\n",
      "Simulation       857\n",
      "Fighting         837\n",
      "Strategy         673\n",
      "Puzzle           569\n",
      "Name: genre, dtype: int64\n"
     ]
    }
   ],
   "source": [
    "description('genre')"
   ]
  },
  {
   "cell_type": "markdown",
   "metadata": {},
   "source": [
    "Рассмотрим столбцы по продажам(na_sales,eu_sales,jp_sales,other_sales )\n",
    "Данные записанны в миллионах проданных копий"
   ]
  },
  {
   "cell_type": "code",
   "execution_count": 93,
   "metadata": {},
   "outputs": [
    {
     "name": "stdout",
     "output_type": "stream",
     "text": [
      "наименование столбца: na_sales\n",
      "тип данных: float64\n",
      "пропущенно значений: 0\n",
      "минимальное значение: 0.0\n",
      "максимальное значение: 41.36\n",
      "------------------------------\n",
      "наименование столбца: eu_sales\n",
      "тип данных: float64\n",
      "пропущенно значений: 0\n",
      "минимальное значение: 0.0\n",
      "максимальное значение: 28.96\n",
      "------------------------------\n",
      "наименование столбца: jp_sales\n",
      "тип данных: float64\n",
      "пропущенно значений: 0\n",
      "минимальное значение: 0.0\n",
      "максимальное значение: 10.22\n",
      "------------------------------\n",
      "наименование столбца: other_sales\n",
      "тип данных: float64\n",
      "пропущенно значений: 0\n",
      "минимальное значение: 0.0\n",
      "максимальное значение: 10.57\n"
     ]
    }
   ],
   "source": [
    "description('na_sales')\n",
    "print('-'* 30)\n",
    "description('eu_sales')\n",
    "print('-'* 30)\n",
    "description('jp_sales')\n",
    "print('-'* 30)\n",
    "description('other_sales')"
   ]
  },
  {
   "cell_type": "markdown",
   "metadata": {},
   "source": [
    "Рассмотрим оценки критиков и игроков (critic_score, user_score)"
   ]
  },
  {
   "cell_type": "code",
   "execution_count": 43,
   "metadata": {},
   "outputs": [
    {
     "name": "stdout",
     "output_type": "stream",
     "text": [
      "наименование столбца: critic_score\n",
      "тип данных: float64\n",
      "пропущенно значений: 8461\n",
      "минимальное значение: 13.0\n",
      "максимальное значение: 98.0\n",
      "------------------------------\n",
      "наименование столбца: user_score\n",
      "тип данных: object\n",
      "пропущенно значений: 6605\n",
      "уникальные значения: \n",
      " tbd    2376\n",
      "7.8     322\n",
      "8       285\n",
      "8.2     276\n",
      "8.3     252\n",
      "       ... \n",
      "0.5       2\n",
      "1         2\n",
      "9.6       2\n",
      "0         1\n",
      "9.7       1\n",
      "Name: user_score, Length: 96, dtype: int64\n"
     ]
    }
   ],
   "source": [
    "description('critic_score')\n",
    "print('-'* 30)\n",
    "description('user_score')"
   ]
  },
  {
   "cell_type": "markdown",
   "metadata": {},
   "source": [
    "В оценках критиков мы видим 8 461 пропуск. Это может быть вызванно не правильной загрузкой данных или тем, что игра относительно новая и еще не успела получить оценку.\n",
    "\n",
    "В оценках пользлвателей мы видим необычный показатель tbd \"будет определено позже\". Также необходимо изменить тип данных на float."
   ]
  },
  {
   "cell_type": "code",
   "execution_count": 44,
   "metadata": {},
   "outputs": [
    {
     "data": {
      "text/plain": [
       "array([8. , nan, 8.3, 8.5, 6.6, 8.4, 8.6, 7.7, 6.3, 7.4, 8.2, 9. , 7.9,\n",
       "       8.1, 8.7, 7.1, 3.4, 5.3, 4.8, 3.2, 8.9, 6.4, 7.8, 7.5, 2.6, 7.2,\n",
       "       9.2, 7. , 7.3, 4.3, 7.6, 5.7, 5. , 9.1, 6.5, 8.8, 6.9, 9.4, 6.8,\n",
       "       6.1, 6.7, 5.4, 4. , 4.9, 4.5, 9.3, 6.2, 4.2, 6. , 3.7, 4.1, 5.8,\n",
       "       5.6, 5.5, 4.4, 4.6, 5.9, 3.9, 3.1, 2.9, 5.2, 3.3, 4.7, 5.1, 3.5,\n",
       "       2.5, 1.9, 3. , 2.7, 2.2, 2. , 9.5, 2.1, 3.6, 2.8, 1.8, 3.8, 0. ,\n",
       "       1.6, 9.6, 2.4, 1.7, 1.1, 0.3, 1.5, 0.7, 1.2, 2.3, 0.5, 1.3, 0.2,\n",
       "       0.6, 1.4, 0.9, 1. , 9.7])"
      ]
     },
     "execution_count": 44,
     "metadata": {},
     "output_type": "execute_result"
    }
   ],
   "source": [
    "# заменим tbd на nan.\n",
    "data.loc[data['user_score'] == 'tbd', 'user_score'] = np.nan\n",
    "# Изменим тип данных на float\n",
    "data['user_score'] = data['user_score'].astype('float')\n",
    "data['user_score'].unique()"
   ]
  },
  {
   "cell_type": "markdown",
   "metadata": {},
   "source": [
    "Мы не стали удалять пропущенные значения, т.к. они составляют практически половину датасета и это может сильно исказить другие вычисления."
   ]
  },
  {
   "cell_type": "markdown",
   "metadata": {},
   "source": [
    "Рассмотрим столбец с обозначением рейтинга от организации ESRB (rating)"
   ]
  },
  {
   "cell_type": "code",
   "execution_count": 51,
   "metadata": {},
   "outputs": [
    {
     "name": "stdout",
     "output_type": "stream",
     "text": [
      "наименование столбца: rating\n",
      "тип данных: object\n",
      "пропущенно значений: 0\n",
      "уникальные значения: \n",
      " unknown    6676\n",
      "E          3924\n",
      "T          2905\n",
      "M          1536\n",
      "E10+       1393\n",
      "EC            8\n",
      "AO            1\n",
      "RP            1\n",
      "Name: rating, dtype: int64\n"
     ]
    }
   ],
   "source": [
    "description('rating')"
   ]
  },
  {
   "cell_type": "markdown",
   "metadata": {},
   "source": [
    "Рейтинг К-А присваивали играм, содержащим контент, подходящий для широкой аудитории. Этот рейтинг использовался до 1998 года, когда он был переименован в E. Заменим значение К-А на Е для единообразия."
   ]
  },
  {
   "cell_type": "code",
   "execution_count": 46,
   "metadata": {},
   "outputs": [
    {
     "data": {
      "text/plain": [
       "array(['E', nan, 'M', 'T', 'E10+', 'AO', 'EC', 'RP'], dtype=object)"
      ]
     },
     "execution_count": 46,
     "metadata": {},
     "output_type": "execute_result"
    }
   ],
   "source": [
    "data['rating']= data['rating'].str.replace('K-A', 'E')\n",
    "# проверка\n",
    "data['rating'].unique()"
   ]
  },
  {
   "cell_type": "markdown",
   "metadata": {},
   "source": [
    "Мы видим 6676 пропусков. Возможно это данные по играм выпущенным до 1994 года (год создания рейтингового агентства)."
   ]
  },
  {
   "cell_type": "code",
   "execution_count": 47,
   "metadata": {},
   "outputs": [
    {
     "data": {
      "text/plain": [
       "year_of_release\n",
       "1980       0\n",
       "1981       0\n",
       "1982       0\n",
       "1983       0\n",
       "1984       0\n",
       "1985       1\n",
       "1986       0\n",
       "1987       0\n",
       "1988       1\n",
       "1989       0\n",
       "1990       0\n",
       "1991       0\n",
       "1992       2\n",
       "1993       0\n",
       "1994       1\n",
       "1995       0\n",
       "1996       7\n",
       "1997      19\n",
       "1998      32\n",
       "1999      42\n",
       "2000     148\n",
       "2001     339\n",
       "2002     655\n",
       "2003     613\n",
       "2004     598\n",
       "2005     706\n",
       "2006     678\n",
       "2007     821\n",
       "2008     981\n",
       "2009    1011\n",
       "2010     799\n",
       "2011     703\n",
       "2012     355\n",
       "2013     316\n",
       "2014     345\n",
       "2015     315\n",
       "2016     280\n",
       "Name: rating, dtype: int64"
      ]
     },
     "execution_count": 47,
     "metadata": {},
     "output_type": "execute_result"
    }
   ],
   "source": [
    "data.groupby(['year_of_release'])['rating'].count()"
   ]
  },
  {
   "cell_type": "markdown",
   "metadata": {},
   "source": [
    "Заполним пропуски новой категорией \"unknown\""
   ]
  },
  {
   "cell_type": "code",
   "execution_count": 48,
   "metadata": {},
   "outputs": [
    {
     "data": {
      "text/plain": [
       "array(['E', 'unknown', 'M', 'T', 'E10+', 'AO', 'EC', 'RP'], dtype=object)"
      ]
     },
     "execution_count": 48,
     "metadata": {},
     "output_type": "execute_result"
    }
   ],
   "source": [
    "data['rating'] = data['rating'].fillna(value='unknown')\n",
    "# проверка\n",
    "data['rating'].unique()"
   ]
  },
  {
   "cell_type": "markdown",
   "metadata": {},
   "source": [
    "Расчитаем суммарные продажи во всех регионах и запишим их в отдельный столбец."
   ]
  },
  {
   "cell_type": "code",
   "execution_count": 49,
   "metadata": {},
   "outputs": [
    {
     "data": {
      "text/html": [
       "<div>\n",
       "<style scoped>\n",
       "    .dataframe tbody tr th:only-of-type {\n",
       "        vertical-align: middle;\n",
       "    }\n",
       "\n",
       "    .dataframe tbody tr th {\n",
       "        vertical-align: top;\n",
       "    }\n",
       "\n",
       "    .dataframe thead th {\n",
       "        text-align: right;\n",
       "    }\n",
       "</style>\n",
       "<table border=\"1\" class=\"dataframe\">\n",
       "  <thead>\n",
       "    <tr style=\"text-align: right;\">\n",
       "      <th></th>\n",
       "      <th>name</th>\n",
       "      <th>platform</th>\n",
       "      <th>year_of_release</th>\n",
       "      <th>genre</th>\n",
       "      <th>na_sales</th>\n",
       "      <th>eu_sales</th>\n",
       "      <th>jp_sales</th>\n",
       "      <th>other_sales</th>\n",
       "      <th>critic_score</th>\n",
       "      <th>user_score</th>\n",
       "      <th>rating</th>\n",
       "      <th>total_sales</th>\n",
       "    </tr>\n",
       "  </thead>\n",
       "  <tbody>\n",
       "    <tr>\n",
       "      <th>0</th>\n",
       "      <td>Wii Sports</td>\n",
       "      <td>Wii</td>\n",
       "      <td>2006</td>\n",
       "      <td>Sports</td>\n",
       "      <td>41.36</td>\n",
       "      <td>28.96</td>\n",
       "      <td>3.77</td>\n",
       "      <td>8.45</td>\n",
       "      <td>76.0</td>\n",
       "      <td>8.0</td>\n",
       "      <td>E</td>\n",
       "      <td>82.54</td>\n",
       "    </tr>\n",
       "    <tr>\n",
       "      <th>1</th>\n",
       "      <td>Super Mario Bros.</td>\n",
       "      <td>NES</td>\n",
       "      <td>1985</td>\n",
       "      <td>Platform</td>\n",
       "      <td>29.08</td>\n",
       "      <td>3.58</td>\n",
       "      <td>6.81</td>\n",
       "      <td>0.77</td>\n",
       "      <td>NaN</td>\n",
       "      <td>NaN</td>\n",
       "      <td>unknown</td>\n",
       "      <td>40.24</td>\n",
       "    </tr>\n",
       "    <tr>\n",
       "      <th>2</th>\n",
       "      <td>Mario Kart Wii</td>\n",
       "      <td>Wii</td>\n",
       "      <td>2008</td>\n",
       "      <td>Racing</td>\n",
       "      <td>15.68</td>\n",
       "      <td>12.76</td>\n",
       "      <td>3.79</td>\n",
       "      <td>3.29</td>\n",
       "      <td>82.0</td>\n",
       "      <td>8.3</td>\n",
       "      <td>E</td>\n",
       "      <td>35.52</td>\n",
       "    </tr>\n",
       "    <tr>\n",
       "      <th>3</th>\n",
       "      <td>Wii Sports Resort</td>\n",
       "      <td>Wii</td>\n",
       "      <td>2009</td>\n",
       "      <td>Sports</td>\n",
       "      <td>15.61</td>\n",
       "      <td>10.93</td>\n",
       "      <td>3.28</td>\n",
       "      <td>2.95</td>\n",
       "      <td>80.0</td>\n",
       "      <td>8.0</td>\n",
       "      <td>E</td>\n",
       "      <td>32.77</td>\n",
       "    </tr>\n",
       "    <tr>\n",
       "      <th>4</th>\n",
       "      <td>Pokemon Red/Pokemon Blue</td>\n",
       "      <td>GB</td>\n",
       "      <td>1996</td>\n",
       "      <td>Role-Playing</td>\n",
       "      <td>11.27</td>\n",
       "      <td>8.89</td>\n",
       "      <td>10.22</td>\n",
       "      <td>1.00</td>\n",
       "      <td>NaN</td>\n",
       "      <td>NaN</td>\n",
       "      <td>unknown</td>\n",
       "      <td>31.38</td>\n",
       "    </tr>\n",
       "  </tbody>\n",
       "</table>\n",
       "</div>"
      ],
      "text/plain": [
       "                       name platform  year_of_release         genre  na_sales  \\\n",
       "0                Wii Sports      Wii             2006        Sports     41.36   \n",
       "1         Super Mario Bros.      NES             1985      Platform     29.08   \n",
       "2            Mario Kart Wii      Wii             2008        Racing     15.68   \n",
       "3         Wii Sports Resort      Wii             2009        Sports     15.61   \n",
       "4  Pokemon Red/Pokemon Blue       GB             1996  Role-Playing     11.27   \n",
       "\n",
       "   eu_sales  jp_sales  other_sales  critic_score  user_score   rating  \\\n",
       "0     28.96      3.77         8.45          76.0         8.0        E   \n",
       "1      3.58      6.81         0.77           NaN         NaN  unknown   \n",
       "2     12.76      3.79         3.29          82.0         8.3        E   \n",
       "3     10.93      3.28         2.95          80.0         8.0        E   \n",
       "4      8.89     10.22         1.00           NaN         NaN  unknown   \n",
       "\n",
       "   total_sales  \n",
       "0        82.54  \n",
       "1        40.24  \n",
       "2        35.52  \n",
       "3        32.77  \n",
       "4        31.38  "
      ]
     },
     "execution_count": 49,
     "metadata": {},
     "output_type": "execute_result"
    }
   ],
   "source": [
    "data['total_sales']=data[['na_sales','eu_sales','jp_sales', 'other_sales']].sum(axis = 1)\n",
    "# проверка\n",
    "data.head()"
   ]
  },
  {
   "cell_type": "markdown",
   "metadata": {},
   "source": [
    "Вывод: Наименования солбцов были приведены к нижнему регистру. Из столбцов с наименованиями и годом выпуска были удалены строки, т.к. эти данные невозможно востановить. Пропуски в других столбцах не привели к удалению строк,но и не были заполненны т.к. это может повлечь за собой некорректные расчеты. Создан  дополнительный столбец с суммарными продажами по всем регионам. Все данные приведены к удобным для работы форматам."
   ]
  },
  {
   "cell_type": "code",
   "execution_count": 50,
   "metadata": {},
   "outputs": [
    {
     "data": {
      "text/plain": [
       "0"
      ]
     },
     "execution_count": 50,
     "metadata": {},
     "output_type": "execute_result"
    }
   ],
   "source": [
    "#проверка на явные дубли\n",
    "data.duplicated().sum()"
   ]
  },
  {
   "cell_type": "markdown",
   "metadata": {},
   "source": [
    "### Исследовательский анализ данных"
   ]
  },
  {
   "cell_type": "markdown",
   "metadata": {},
   "source": [
    "Посмотрим, сколько игр выпускалось в разные годы. "
   ]
  },
  {
   "cell_type": "code",
   "execution_count": 52,
   "metadata": {},
   "outputs": [
    {
     "data": {
      "image/png": "[encoded data removed]",
      "text/plain": [
       "<Figure size 1440x576 with 1 Axes>"
      ]
     },
     "metadata": {
      "needs_background": "light"
     },
     "output_type": "display_data"
    }
   ],
   "source": [
    "data.groupby(by='year_of_release')['year_of_release'].count().plot(kind='bar', \n",
    "                                                                   ylabel = 'count', \n",
    "                                                                   title='Колличество выпущенных игр по годам',\n",
    "                                                                   figsize=(20,8));"
   ]
  },
  {
   "cell_type": "markdown",
   "metadata": {},
   "source": [
    " Можно отметить резкие скачки в 1994, а затем в 2002 году. А уже с 2010 наблюдется устойчивый спад, в колличестве выпускаемых игр.\n",
    "Такм образом данные до 1994 года можно отбросить. Наибольший интерес для нас будут представялять игры выпущенные с 2014 до 2016 года."
   ]
  },
  {
   "cell_type": "markdown",
   "metadata": {},
   "source": [
    "Рассмотрим, как менялись продажи по платформам."
   ]
  },
  {
   "cell_type": "markdown",
   "metadata": {},
   "source": [
    "Выберем платформы с наибольшими суммарными продажами."
   ]
  },
  {
   "cell_type": "code",
   "execution_count": 23,
   "metadata": {},
   "outputs": [
    {
     "data": {
      "image/png": "[encoded data removed]",
      "text/plain": [
       "<Figure size 1440x720 with 1 Axes>"
      ]
     },
     "metadata": {
      "needs_background": "light"
     },
     "output_type": "display_data"
    }
   ],
   "source": [
    "data.groupby(by='platform')['total_sales'].sum().plot(kind='bar', ylabel = 'sum', figsize=(20,10));"
   ]
  },
  {
   "cell_type": "code",
   "execution_count": 53,
   "metadata": {},
   "outputs": [
    {
     "data": {
      "text/html": [
       "<div>\n",
       "<style scoped>\n",
       "    .dataframe tbody tr th:only-of-type {\n",
       "        vertical-align: middle;\n",
       "    }\n",
       "\n",
       "    .dataframe tbody tr th {\n",
       "        vertical-align: top;\n",
       "    }\n",
       "\n",
       "    .dataframe thead th {\n",
       "        text-align: right;\n",
       "    }\n",
       "</style>\n",
       "<table border=\"1\" class=\"dataframe\">\n",
       "  <thead>\n",
       "    <tr style=\"text-align: right;\">\n",
       "      <th></th>\n",
       "      <th>total_sales</th>\n",
       "    </tr>\n",
       "    <tr>\n",
       "      <th>platform</th>\n",
       "      <th></th>\n",
       "    </tr>\n",
       "  </thead>\n",
       "  <tbody>\n",
       "    <tr>\n",
       "      <th>PS2</th>\n",
       "      <td>1233.56</td>\n",
       "    </tr>\n",
       "    <tr>\n",
       "      <th>X360</th>\n",
       "      <td>961.24</td>\n",
       "    </tr>\n",
       "    <tr>\n",
       "      <th>PS3</th>\n",
       "      <td>931.34</td>\n",
       "    </tr>\n",
       "    <tr>\n",
       "      <th>Wii</th>\n",
       "      <td>891.18</td>\n",
       "    </tr>\n",
       "    <tr>\n",
       "      <th>DS</th>\n",
       "      <td>802.78</td>\n",
       "    </tr>\n",
       "    <tr>\n",
       "      <th>PS</th>\n",
       "      <td>727.58</td>\n",
       "    </tr>\n",
       "    <tr>\n",
       "      <th>PS4</th>\n",
       "      <td>314.14</td>\n",
       "    </tr>\n",
       "    <tr>\n",
       "      <th>GBA</th>\n",
       "      <td>312.88</td>\n",
       "    </tr>\n",
       "    <tr>\n",
       "      <th>PSP</th>\n",
       "      <td>289.53</td>\n",
       "    </tr>\n",
       "    <tr>\n",
       "      <th>3DS</th>\n",
       "      <td>257.81</td>\n",
       "    </tr>\n",
       "    <tr>\n",
       "      <th>PC</th>\n",
       "      <td>255.76</td>\n",
       "    </tr>\n",
       "    <tr>\n",
       "      <th>GB</th>\n",
       "      <td>254.43</td>\n",
       "    </tr>\n",
       "    <tr>\n",
       "      <th>XB</th>\n",
       "      <td>251.57</td>\n",
       "    </tr>\n",
       "    <tr>\n",
       "      <th>NES</th>\n",
       "      <td>251.05</td>\n",
       "    </tr>\n",
       "    <tr>\n",
       "      <th>N64</th>\n",
       "      <td>218.01</td>\n",
       "    </tr>\n",
       "    <tr>\n",
       "      <th>SNES</th>\n",
       "      <td>200.04</td>\n",
       "    </tr>\n",
       "    <tr>\n",
       "      <th>GC</th>\n",
       "      <td>196.73</td>\n",
       "    </tr>\n",
       "    <tr>\n",
       "      <th>XOne</th>\n",
       "      <td>159.32</td>\n",
       "    </tr>\n",
       "    <tr>\n",
       "      <th>2600</th>\n",
       "      <td>86.48</td>\n",
       "    </tr>\n",
       "    <tr>\n",
       "      <th>WiiU</th>\n",
       "      <td>82.19</td>\n",
       "    </tr>\n",
       "    <tr>\n",
       "      <th>PSV</th>\n",
       "      <td>53.81</td>\n",
       "    </tr>\n",
       "    <tr>\n",
       "      <th>SAT</th>\n",
       "      <td>33.59</td>\n",
       "    </tr>\n",
       "    <tr>\n",
       "      <th>GEN</th>\n",
       "      <td>28.35</td>\n",
       "    </tr>\n",
       "    <tr>\n",
       "      <th>DC</th>\n",
       "      <td>15.95</td>\n",
       "    </tr>\n",
       "    <tr>\n",
       "      <th>SCD</th>\n",
       "      <td>1.86</td>\n",
       "    </tr>\n",
       "    <tr>\n",
       "      <th>NG</th>\n",
       "      <td>1.44</td>\n",
       "    </tr>\n",
       "    <tr>\n",
       "      <th>WS</th>\n",
       "      <td>1.42</td>\n",
       "    </tr>\n",
       "    <tr>\n",
       "      <th>TG16</th>\n",
       "      <td>0.16</td>\n",
       "    </tr>\n",
       "    <tr>\n",
       "      <th>3DO</th>\n",
       "      <td>0.10</td>\n",
       "    </tr>\n",
       "    <tr>\n",
       "      <th>GG</th>\n",
       "      <td>0.04</td>\n",
       "    </tr>\n",
       "    <tr>\n",
       "      <th>PCFX</th>\n",
       "      <td>0.03</td>\n",
       "    </tr>\n",
       "  </tbody>\n",
       "</table>\n",
       "</div>"
      ],
      "text/plain": [
       "          total_sales\n",
       "platform             \n",
       "PS2           1233.56\n",
       "X360           961.24\n",
       "PS3            931.34\n",
       "Wii            891.18\n",
       "DS             802.78\n",
       "PS             727.58\n",
       "PS4            314.14\n",
       "GBA            312.88\n",
       "PSP            289.53\n",
       "3DS            257.81\n",
       "PC             255.76\n",
       "GB             254.43\n",
       "XB             251.57\n",
       "NES            251.05\n",
       "N64            218.01\n",
       "SNES           200.04\n",
       "GC             196.73\n",
       "XOne           159.32\n",
       "2600            86.48\n",
       "WiiU            82.19\n",
       "PSV             53.81\n",
       "SAT             33.59\n",
       "GEN             28.35\n",
       "DC              15.95\n",
       "SCD              1.86\n",
       "NG               1.44\n",
       "WS               1.42\n",
       "TG16             0.16\n",
       "3DO              0.10\n",
       "GG               0.04\n",
       "PCFX             0.03"
      ]
     },
     "execution_count": 53,
     "metadata": {},
     "output_type": "execute_result"
    }
   ],
   "source": [
    "(\n",
    "    data.pivot_table(index = 'platform', values = 'total_sales', aggfunc = 'sum')\n",
    "    .sort_values(by = 'total_sales', ascending = False)\n",
    ")"
   ]
  },
  {
   "cell_type": "markdown",
   "metadata": {},
   "source": [
    "Исходя из иформации представленно на графике, можно выделить Топ-10 наиболее популярных платформ.\n",
    "\n",
    "Топ-10:\n",
    "- PS2\n",
    "- X360\n",
    "- PS3\n",
    "- Wii\n",
    "- DS\n",
    "- PS\n",
    "- PS4\t\n",
    "- GBA\t\n",
    "- PSP\t\n",
    "- 3DS"
   ]
  },
  {
   "cell_type": "markdown",
   "metadata": {},
   "source": [
    "Построим распределение по годам для топ-10 платформ. "
   ]
  },
  {
   "cell_type": "code",
   "execution_count": 54,
   "metadata": {},
   "outputs": [
    {
     "data": {
      "image/png": "[encoded data removed]",
      "text/plain": [
       "<Figure size 1440x360 with 1 Axes>"
      ]
     },
     "metadata": {
      "needs_background": "light"
     },
     "output_type": "display_data"
    }
   ],
   "source": [
    "top_p = data.groupby('platform').sum()['total_sales'].sort_values(ascending=False).index.values[:10]\n",
    "\n",
    "popular_p = data[data.platform.isin(top_p)]\n",
    "popular_p = popular_p.pivot_table(index='year_of_release', columns='platform', values='total_sales', aggfunc='sum')\n",
    "popular_p.plot(figsize=(20,5));"
   ]
  },
  {
   "cell_type": "markdown",
   "metadata": {},
   "source": [
    "Вывод: Судя по графику в среднем каждые 5 лет на рынке появляется от 1 до 3 новых платформ. При этом средний срок жизни платформы составляет примерно 10 лет. На графике видно, что большинство платформ из нашего списка (топ по продажам за весь период существования) к 2016 году потеряли былую популярность. Только PS4 показывет относительно высокие продажи, но сохраняет тенденцию к падению. Также следует отметить, что на даных график могли не попасть молодые активно растущие платформы, которые составляют для нас наибольший интерес."
   ]
  },
  {
   "cell_type": "markdown",
   "metadata": {},
   "source": [
    "Для постороения прогноза на 2017 год, необходимо обратиться к данным отражающим современную рыночную ситуацию.  \n",
    "Наиболее актуальным периодом представляется 3 года (с 2014 по 2016). \n",
    "Данные за предыдущие годы учитывать не будем. "
   ]
  },
  {
   "cell_type": "code",
   "execution_count": 55,
   "metadata": {},
   "outputs": [
    {
     "data": {
      "text/plain": [
       "array(['PS4', '3DS', 'XOne', 'WiiU', 'PS3', 'X360', 'PC', 'Wii', 'PSV',\n",
       "       'PSP'], dtype=object)"
      ]
     },
     "execution_count": 55,
     "metadata": {},
     "output_type": "execute_result"
    }
   ],
   "source": [
    "# создадим урезанную версию датасета только с данными за актуальные годы\n",
    "new_data = data.query('year_of_release >= 2014')\n",
    "# посмотрим коллиечтво уникальных платформ\n",
    "new_data['platform'].unique()"
   ]
  },
  {
   "cell_type": "markdown",
   "metadata": {},
   "source": [
    "Какие платформы лидируют по продажам, растут или падают"
   ]
  },
  {
   "cell_type": "code",
   "execution_count": 56,
   "metadata": {},
   "outputs": [
    {
     "data": {
      "image/png": "[encoded data removed]",
      "text/plain": [
       "<Figure size 1440x360 with 1 Axes>"
      ]
     },
     "metadata": {
      "needs_background": "light"
     },
     "output_type": "display_data"
    }
   ],
   "source": [
    "new_data_pivot_table = new_data.pivot_table(index='year_of_release', columns='platform', values='total_sales', aggfunc='sum')\n",
    "new_data_pivot_table.plot(figsize=(20,5));"
   ]
  },
  {
   "cell_type": "markdown",
   "metadata": {},
   "source": [
    "К 2016 году все платформы испытывают спад. Данные могут быть несколько искажены, т.к. по 2016 могут быть не полными.\n",
    "\n",
    "Платформа окончательно PSP окончательно потеряла своих клиентов.\n",
    "\n",
    "Наиболее высокие продажи показывают PS4,3DS и XOne.\n",
    "\n",
    "Несмотря на относительно низкие продажи PSV и PC уже достаточно долго сохраняют свои позиции на рынке на одном уровне.\n",
    "\n",
    "Наиболее вероятные кандидаты на уход с рынка в ближайшем будующем PS3, X360, WiiU и Wii"
   ]
  },
  {
   "cell_type": "markdown",
   "metadata": {},
   "source": [
    "Таким образом к потенциально прибыльным платформам можно отнести PS4,3DS и XOne. А так же PSV и PC, т.к. им удается сохранять лояльность своей аудитории длительный срок."
   ]
  },
  {
   "cell_type": "markdown",
   "metadata": {},
   "source": [
    "Построим график «ящик с усами» по глобальным продажам игр в разбивке по платформам. "
   ]
  },
  {
   "cell_type": "code",
   "execution_count": 57,
   "metadata": {},
   "outputs": [
    {
     "data": {
      "image/png": "[encoded data removed]",
      "text/plain": [
       "<Figure size 720x576 with 1 Axes>"
      ]
     },
     "metadata": {
      "needs_background": "light"
     },
     "output_type": "display_data"
    }
   ],
   "source": [
    "new_data_pivot_table.plot(kind='box',figsize=(10,8));"
   ]
  },
  {
   "cell_type": "markdown",
   "metadata": {},
   "source": [
    "Согласно графику больше всего игр в период с 2012 по 2016 годы продали PS4, X360, PS3, XOne и 3DS.\n",
    "При этом самый высокий медианный паказатель у PS4, что характеризует эту платформу как потенциально наиболее прибыльную."
   ]
  },
  {
   "cell_type": "markdown",
   "metadata": {},
   "source": [
    "Посмотрим, как влияют на продажи внутри PS4 отзывы пользователей и критиков. \n",
    "\n",
    "Построим диаграмму рассеяния "
   ]
  },
  {
   "cell_type": "code",
   "execution_count": 58,
   "metadata": {},
   "outputs": [
    {
     "data": {
      "image/png": "[encoded data removed]",
      "text/plain": [
       "<Figure size 432x288 with 1 Axes>"
      ]
     },
     "metadata": {
      "needs_background": "light"
     },
     "output_type": "display_data"
    },
    {
     "data": {
      "image/png": "[encoded data removed]",
      "text/plain": [
       "<Figure size 432x288 with 1 Axes>"
      ]
     },
     "metadata": {
      "needs_background": "light"
     },
     "output_type": "display_data"
    }
   ],
   "source": [
    "PS4 = data.query('platform == \"PS4\"')\n",
    "PS4.plot(x='user_score', y='total_sales', kind='scatter');\n",
    "PS4.plot(x='critic_score', y='total_sales', kind='scatter');"
   ]
  },
  {
   "cell_type": "markdown",
   "metadata": {},
   "source": [
    "Посчитаем корреляцию между отзывами и продажами."
   ]
  },
  {
   "cell_type": "code",
   "execution_count": 59,
   "metadata": {},
   "outputs": [
    {
     "data": {
      "text/html": [
       "<div>\n",
       "<style scoped>\n",
       "    .dataframe tbody tr th:only-of-type {\n",
       "        vertical-align: middle;\n",
       "    }\n",
       "\n",
       "    .dataframe tbody tr th {\n",
       "        vertical-align: top;\n",
       "    }\n",
       "\n",
       "    .dataframe thead th {\n",
       "        text-align: right;\n",
       "    }\n",
       "</style>\n",
       "<table border=\"1\" class=\"dataframe\">\n",
       "  <thead>\n",
       "    <tr style=\"text-align: right;\">\n",
       "      <th></th>\n",
       "      <th>critic_score</th>\n",
       "      <th>user_score</th>\n",
       "      <th>total_sales</th>\n",
       "    </tr>\n",
       "  </thead>\n",
       "  <tbody>\n",
       "    <tr>\n",
       "      <th>critic_score</th>\n",
       "      <td>1.000000</td>\n",
       "      <td>0.557654</td>\n",
       "      <td>0.406568</td>\n",
       "    </tr>\n",
       "    <tr>\n",
       "      <th>user_score</th>\n",
       "      <td>0.557654</td>\n",
       "      <td>1.000000</td>\n",
       "      <td>-0.031957</td>\n",
       "    </tr>\n",
       "    <tr>\n",
       "      <th>total_sales</th>\n",
       "      <td>0.406568</td>\n",
       "      <td>-0.031957</td>\n",
       "      <td>1.000000</td>\n",
       "    </tr>\n",
       "  </tbody>\n",
       "</table>\n",
       "</div>"
      ],
      "text/plain": [
       "              critic_score  user_score  total_sales\n",
       "critic_score      1.000000    0.557654     0.406568\n",
       "user_score        0.557654    1.000000    -0.031957\n",
       "total_sales       0.406568   -0.031957     1.000000"
      ]
     },
     "execution_count": 59,
     "metadata": {},
     "output_type": "execute_result"
    }
   ],
   "source": [
    "PS4_cor = PS4[['critic_score','user_score', 'total_sales']]\n",
    "PS4_cor.corr()"
   ]
  },
  {
   "cell_type": "markdown",
   "metadata": {},
   "source": [
    "Исходя из расчета корреляции мы видим слабую взаимосвязь между оценкой критиков и уровнем продаж. Но усиановать причинно-следственную связь не возможно. Уделяют ли внимание критики только самым продоваемым играм? оказываются ли самые продоваемые игры максимально качественными?\n",
    "\n",
    "В тоже время оценка игроков с уровнем продаж практически не взаимосвязанна.\n",
    "Посмотрим на корреляцию критики с продажами игр на других платформах из нашего топа."
   ]
  },
  {
   "cell_type": "code",
   "execution_count": 60,
   "metadata": {},
   "outputs": [
    {
     "data": {
      "text/html": [
       "<div>\n",
       "<style scoped>\n",
       "    .dataframe tbody tr th:only-of-type {\n",
       "        vertical-align: middle;\n",
       "    }\n",
       "\n",
       "    .dataframe tbody tr th {\n",
       "        vertical-align: top;\n",
       "    }\n",
       "\n",
       "    .dataframe thead th {\n",
       "        text-align: right;\n",
       "    }\n",
       "</style>\n",
       "<table border=\"1\" class=\"dataframe\">\n",
       "  <thead>\n",
       "    <tr style=\"text-align: right;\">\n",
       "      <th></th>\n",
       "      <th>critic_score</th>\n",
       "      <th>user_score</th>\n",
       "      <th>total_sales</th>\n",
       "    </tr>\n",
       "  </thead>\n",
       "  <tbody>\n",
       "    <tr>\n",
       "      <th>critic_score</th>\n",
       "      <td>1.000000</td>\n",
       "      <td>0.613633</td>\n",
       "      <td>0.401241</td>\n",
       "    </tr>\n",
       "    <tr>\n",
       "      <th>user_score</th>\n",
       "      <td>0.613633</td>\n",
       "      <td>1.000000</td>\n",
       "      <td>0.118579</td>\n",
       "    </tr>\n",
       "    <tr>\n",
       "      <th>total_sales</th>\n",
       "      <td>0.401241</td>\n",
       "      <td>0.118579</td>\n",
       "      <td>1.000000</td>\n",
       "    </tr>\n",
       "  </tbody>\n",
       "</table>\n",
       "</div>"
      ],
      "text/plain": [
       "              critic_score  user_score  total_sales\n",
       "critic_score      1.000000    0.613633     0.401241\n",
       "user_score        0.613633    1.000000     0.118579\n",
       "total_sales       0.401241    0.118579     1.000000"
      ]
     },
     "execution_count": 60,
     "metadata": {},
     "output_type": "execute_result"
    }
   ],
   "source": [
    "all_corr = data.query('platform == [ \"XOne\", \"PS3\", \"X360\", \"3DS\" ]')\n",
    "all_corr = all_corr[['platform','critic_score','user_score', 'total_sales']]\n",
    "all_corr.corr()"
   ]
  },
  {
   "cell_type": "markdown",
   "metadata": {},
   "source": [
    "Картина сохранилась для всех платформ"
   ]
  },
  {
   "cell_type": "markdown",
   "metadata": {},
   "source": [
    "Посмотрим на общее распределение игр по жанрам.  "
   ]
  },
  {
   "cell_type": "code",
   "execution_count": 65,
   "metadata": {},
   "outputs": [
    {
     "data": {
      "image/png": "[encoded data removed]",
      "text/plain": [
       "<Figure size 720x360 with 1 Axes>"
      ]
     },
     "metadata": {
      "needs_background": "light"
     },
     "output_type": "display_data"
    }
   ],
   "source": [
    "(\n",
    "    new_data.groupby(by='genre')['genre']\n",
    "         .count()\n",
    "         .sort_values(ascending=False)\n",
    "         .plot(kind='bar',ylabel = 'count',title='Колличество игр по жанрам', figsize=(10,5))\n",
    ");"
   ]
  },
  {
   "cell_type": "markdown",
   "metadata": {},
   "source": [
    "Лидерами по колличеству продаж являются игры в жанрах:\n",
    "- Action\n",
    "- Role-Playing\n",
    "- Adventure"
   ]
  },
  {
   "cell_type": "markdown",
   "metadata": {},
   "source": [
    "Рассмотрим самые прибыльные жанры"
   ]
  },
  {
   "cell_type": "code",
   "execution_count": 118,
   "metadata": {},
   "outputs": [
    {
     "data": {
      "image/png": "[encoded data removed]",
      "text/plain": [
       "<Figure size 720x360 with 1 Axes>"
      ]
     },
     "metadata": {
      "needs_background": "light"
     },
     "output_type": "display_data"
    }
   ],
   "source": [
    "(\n",
    "    new_data.groupby(by='genre')['total_sales']\n",
    "         .median()\n",
    "         .sort_values(ascending=False)\n",
    "         .plot(kind='bar',ylabel = 'median of sales',title='Колличество игр по жанрам', figsize=(10,5))\n",
    ");"
   ]
  },
  {
   "cell_type": "markdown",
   "metadata": {},
   "source": [
    "Наиболее прибыльными жанрами можно назвать:\n",
    "- Shooter\n",
    "- Sports\n",
    "- Platform\n",
    "- Fighting\n",
    "- Role - Playing\n",
    "\n",
    "При этом игры в жанре Shooter значительно выделяются на фоне остальных, а игры в остальных жанрах значительно отстают в уровне продаж от лидера."
   ]
  },
  {
   "cell_type": "markdown",
   "metadata": {},
   "source": [
    "### Составим портрет пользователя каждого региона"
   ]
  },
  {
   "cell_type": "markdown",
   "metadata": {},
   "source": [
    "Определим самые популярные платформы (топ-5) и жанры (топ -5 )для пользователя каждого региона (NA, EU, JP):"
   ]
  },
  {
   "cell_type": "markdown",
   "metadata": {},
   "source": [
    "na_sales — продажи в Северной Америке "
   ]
  },
  {
   "cell_type": "code",
   "execution_count": 76,
   "metadata": {},
   "outputs": [
    {
     "data": {
      "image/png": "[encoded data removed]",
      "text/plain": [
       "<Figure size 720x360 with 1 Axes>"
      ]
     },
     "metadata": {
      "needs_background": "light"
     },
     "output_type": "display_data"
    }
   ],
   "source": [
    "na_top= (\n",
    "    new_data.groupby(by='genre')['na_sales']\n",
    "         .median()\n",
    "         .sort_values(ascending=False)      \n",
    ")\n",
    "na_top.plot(kind='bar',ylabel = 'median',title='Самые продаваемые жанры игр в Северной Америке', figsize=(10,5));"
   ]
  },
  {
   "cell_type": "markdown",
   "metadata": {},
   "source": [
    "Топ - 5 популярных жанров в Северной Америке:\n",
    "\n",
    "- Shooter\n",
    "- Platform\n",
    "- Sports\n",
    "- Fighting\n",
    "- Racing"
   ]
  },
  {
   "cell_type": "markdown",
   "metadata": {},
   "source": [
    "Найдем Топ-5 популярных платформ в Северной Америке "
   ]
  },
  {
   "cell_type": "code",
   "execution_count": 113,
   "metadata": {},
   "outputs": [
    {
     "data": {
      "text/plain": [
       "platform\n",
       "X360    0.10\n",
       "XOne    0.10\n",
       "WiiU    0.09\n",
       "PS4     0.05\n",
       "Wii     0.04\n",
       "Name: na_sales, dtype: float64"
      ]
     },
     "execution_count": 113,
     "metadata": {},
     "output_type": "execute_result"
    }
   ],
   "source": [
    "na_pop_platforms = new_data.groupby('platform').na_sales.median().sort_values(ascending=False)\n",
    "na_pop_platforms[:5]"
   ]
  },
  {
   "cell_type": "markdown",
   "metadata": {},
   "source": [
    "eu_sales — продажи в Европе"
   ]
  },
  {
   "cell_type": "code",
   "execution_count": 78,
   "metadata": {},
   "outputs": [
    {
     "data": {
      "image/png": "[encoded data removed]",
      "text/plain": [
       "<Figure size 720x360 with 1 Axes>"
      ]
     },
     "metadata": {
      "needs_background": "light"
     },
     "output_type": "display_data"
    }
   ],
   "source": [
    "eu_top = (\n",
    "    new_data.groupby(by='genre')['eu_sales']\n",
    "         .median()\n",
    "         .sort_values(ascending=False)         \n",
    ")\n",
    "eu_top.plot(kind='bar',ylabel = 'median',title='Самые продаваемые жанры игр в Европе', figsize=(10,5));"
   ]
  },
  {
   "cell_type": "markdown",
   "metadata": {},
   "source": [
    "Топ - 5 популярных жанров в Европе:\n",
    "- Shooter\n",
    "- Platform\n",
    "- Racing\n",
    "- Sports\n",
    "- Simulation"
   ]
  },
  {
   "cell_type": "markdown",
   "metadata": {},
   "source": [
    "Найдем Топ-5 самых поулярных платформ в Европе"
   ]
  },
  {
   "cell_type": "code",
   "execution_count": 115,
   "metadata": {},
   "outputs": [
    {
     "data": {
      "text/plain": [
       "platform\n",
       "Wii     0.12\n",
       "PS4     0.07\n",
       "XOne    0.07\n",
       "WiiU    0.06\n",
       "PC      0.05\n",
       "Name: eu_sales, dtype: float64"
      ]
     },
     "execution_count": 115,
     "metadata": {},
     "output_type": "execute_result"
    }
   ],
   "source": [
    "eu_pop_platforms = new_data.groupby('platform').eu_sales.median().sort_values(ascending=False)\n",
    "eu_pop_platforms[:5]"
   ]
  },
  {
   "cell_type": "markdown",
   "metadata": {},
   "source": [
    "jp_sales — продажи в Японии "
   ]
  },
  {
   "cell_type": "code",
   "execution_count": 87,
   "metadata": {},
   "outputs": [
    {
     "data": {
      "image/png": "[encoded data removed]",
      "text/plain": [
       "<Figure size 720x360 with 1 Axes>"
      ]
     },
     "metadata": {
      "needs_background": "light"
     },
     "output_type": "display_data"
    }
   ],
   "source": [
    "jp_top= (\n",
    "    new_data.groupby(by='genre')['jp_sales']\n",
    "         .median()\n",
    "         .sort_values(ascending=False)         \n",
    ")\n",
    "\n",
    "jp_top.plot(kind='bar',ylabel = 'median',title='Самые продаваемые жанры игр в Японии', figsize=(10,5));"
   ]
  },
  {
   "cell_type": "markdown",
   "metadata": {},
   "source": [
    "Топ - 5 популярных жанров в Японии:\n",
    "- Role-Playing\n",
    "- Fighting\n",
    "- Puzzle\n",
    "- Action\n",
    "- Adventure\n"
   ]
  },
  {
   "cell_type": "markdown",
   "metadata": {},
   "source": [
    "Найдем Топ-5 популрных платформ в Японии"
   ]
  },
  {
   "cell_type": "code",
   "execution_count": 114,
   "metadata": {},
   "outputs": [
    {
     "data": {
      "text/plain": [
       "platform\n",
       "3DS    0.055\n",
       "PSV    0.030\n",
       "PS3    0.020\n",
       "PSP    0.020\n",
       "PS4    0.015\n",
       "Name: jp_sales, dtype: float64"
      ]
     },
     "execution_count": 114,
     "metadata": {},
     "output_type": "execute_result"
    }
   ],
   "source": [
    "jp_pop_platforms = new_data.groupby('platform').jp_sales.median().sort_values(ascending=False)\n",
    "jp_pop_platforms[:5]"
   ]
  },
  {
   "cell_type": "markdown",
   "metadata": {},
   "source": [
    "Рассмотрим различия в долях продаж по платформам\n"
   ]
  },
  {
   "cell_type": "code",
   "execution_count": 133,
   "metadata": {},
   "outputs": [],
   "source": [
    "pop_data = pd.DataFrame(data=[na_pop_platforms,eu_pop_platforms, jp_pop_platforms])#.T\n",
    "#pop_data.plot(kind='pie',subplots=True, autopct='%0.0f%%', figsize=(20,10));\n"
   ]
  },
  {
   "cell_type": "code",
   "execution_count": 134,
   "metadata": {},
   "outputs": [
    {
     "data": {
      "image/png": "[encoded data removed]",
      "text/plain": [
       "<Figure size 720x576 with 1 Axes>"
      ]
     },
     "metadata": {
      "needs_background": "light"
     },
     "output_type": "display_data"
    }
   ],
   "source": [
    "pop_data.plot(kind='bar', figsize=(10,8));"
   ]
  },
  {
   "cell_type": "markdown",
   "metadata": {},
   "source": [
    "Несмотря на то, что пользователи в Америке и Европе отдают предпочтение схожему набору платформ, фавориты в этих регионах различаются.\n",
    "\n",
    "Так, в среде Американских пользователей со значительным отрывом лидируют: X360,XOne и WiiU.\n",
    "На Европейском рынке абсолютным фаворитом является Wii. Второе место делят XOne и РS4.Также на Европейском рынке значительно колличество пользователей по прежнему сохраняют лояльность к платформе РС. \n",
    "\n",
    "Аудитория Японии значительно отличается. Наиболее популярные в Европе и Америке платформы практически не представленны на Японском рынке и занимают значительно меньший сегмент.\n",
    "Судя по всему Японские пользователи предпочитают пользоваться продуктами локальных разрабочиков или имеют игровые привычки связанные с использованием других устройств. \n",
    "Так, фаворитами на рынке Японии являются: 3DS и PSV. А практически потерявшая популярность на рынке Европы и Америки PS3, делит третье место с не представленной на этих рынках PSV.\n",
    "\n",
    "Исходя из данных отраженных на графике можно предположить, что платформы позволяющие охватить аудиторию всех рассматриваемых регионов - WiiU,РS4 и PS3."
   ]
  },
  {
   "cell_type": "markdown",
   "metadata": {},
   "source": [
    "Рассмотрим разницу в популярности жанров"
   ]
  },
  {
   "cell_type": "code",
   "execution_count": 135,
   "metadata": {},
   "outputs": [
    {
     "data": {
      "image/png": "[encoded data removed]",
      "text/plain": [
       "<Figure size 720x576 with 1 Axes>"
      ]
     },
     "metadata": {
      "needs_background": "light"
     },
     "output_type": "display_data"
    }
   ],
   "source": [
    "top_data = pd.DataFrame(data=[na_top,eu_top, jp_top]).T\n",
    "top_data.plot(kind='bar',figsize=(10,8));"
   ]
  },
  {
   "cell_type": "markdown",
   "metadata": {},
   "source": [
    "Можно отметить, что игровые предпочтения жителей Америки и Европы схожи.\n",
    "Со значительным отрывом на этих рынках лидируют игры в жанре Shooter. Игроки в Японии предпочитают игры в жанре Role-Playing, Puzzle и Fighting, а жанр Shooter их совершенно не интересует. Практически не интерессны всем группам игроков игры в жанре Adventutr и Strategy.\n",
    "\n",
    "Мы наблюдаем полное пересечение интересов аудитории в жанрах: Fighting, Playing, Action и Music.\n"
   ]
  },
  {
   "cell_type": "markdown",
   "metadata": {},
   "source": [
    "Рассмотрим влияет ли рейтинг ESRB на продажи в отдельном регионе."
   ]
  },
  {
   "cell_type": "code",
   "execution_count": 138,
   "metadata": {},
   "outputs": [
    {
     "data": {
      "text/html": [
       "<div>\n",
       "<style scoped>\n",
       "    .dataframe tbody tr th:only-of-type {\n",
       "        vertical-align: middle;\n",
       "    }\n",
       "\n",
       "    .dataframe tbody tr th {\n",
       "        vertical-align: top;\n",
       "    }\n",
       "\n",
       "    .dataframe thead th {\n",
       "        text-align: right;\n",
       "    }\n",
       "</style>\n",
       "<table border=\"1\" class=\"dataframe\">\n",
       "  <thead>\n",
       "    <tr style=\"text-align: right;\">\n",
       "      <th></th>\n",
       "      <th>eu_sales</th>\n",
       "      <th>jp_sales</th>\n",
       "      <th>na_sales</th>\n",
       "    </tr>\n",
       "    <tr>\n",
       "      <th>rating</th>\n",
       "      <th></th>\n",
       "      <th></th>\n",
       "      <th></th>\n",
       "    </tr>\n",
       "  </thead>\n",
       "  <tbody>\n",
       "    <tr>\n",
       "      <th>E</th>\n",
       "      <td>58.06</td>\n",
       "      <td>8.94</td>\n",
       "      <td>50.74</td>\n",
       "    </tr>\n",
       "    <tr>\n",
       "      <th>E10+</th>\n",
       "      <td>26.16</td>\n",
       "      <td>4.46</td>\n",
       "      <td>33.23</td>\n",
       "    </tr>\n",
       "    <tr>\n",
       "      <th>M</th>\n",
       "      <td>93.44</td>\n",
       "      <td>8.01</td>\n",
       "      <td>96.42</td>\n",
       "    </tr>\n",
       "    <tr>\n",
       "      <th>T</th>\n",
       "      <td>34.07</td>\n",
       "      <td>14.78</td>\n",
       "      <td>38.95</td>\n",
       "    </tr>\n",
       "    <tr>\n",
       "      <th>unknown</th>\n",
       "      <td>58.95</td>\n",
       "      <td>56.90</td>\n",
       "      <td>64.72</td>\n",
       "    </tr>\n",
       "  </tbody>\n",
       "</table>\n",
       "</div>"
      ],
      "text/plain": [
       "         eu_sales  jp_sales  na_sales\n",
       "rating                               \n",
       "E           58.06      8.94     50.74\n",
       "E10+        26.16      4.46     33.23\n",
       "M           93.44      8.01     96.42\n",
       "T           34.07     14.78     38.95\n",
       "unknown     58.95     56.90     64.72"
      ]
     },
     "execution_count": 138,
     "metadata": {},
     "output_type": "execute_result"
    }
   ],
   "source": [
    "ESRB = new_data.pivot_table(index = 'rating', values = ['eu_sales','jp_sales','na_sales'], aggfunc = 'sum')\n",
    "ESRB"
   ]
  },
  {
   "cell_type": "markdown",
   "metadata": {},
   "source": [
    "Расшифровка рейтингов:\n",
    "\n",
    "- «E» («Everyone») — «Для всех» 6+\n",
    "- «E10+» («Everyone 10 and older») — «Для всех старше 10 лет»\n",
    "- «M» («Mature») — «От 17 лет»\n",
    "- «T» («Teen») — «Подросткам 13—19 лет»\n",
    "- unknown - отсутствие рейтинговой отметки"
   ]
  },
  {
   "cell_type": "markdown",
   "metadata": {},
   "source": [
    "На рынках Америки и Европы преобладают прожади игр с рейтингом M.\n",
    "\n",
    "Проекты с данным рейтингом могут содержать достаточно жестокое насилие, большое количество крови с расчленением, непристойные сексуальные сцены или грубую ненормативную лексику, нежелательную для младшей аудитории. Данная пометка позволяет оградить подростковую аудиторию от подобного контента и при этом не относить игру в дейтинг АО, что могло бы накладывать определенные ограничения на продажу и значительно сузить аудиторию.\n",
    "\n",
    "На втром месте на рынках Америки и Европы оказались игры из заданной нами группы unknown.Эта же группа охватыает игры наиболее популярные в Японии, но это может быть связанно с локальной системой рейтингов, которая гораздо строже ESRB."
   ]
  },
  {
   "cell_type": "markdown",
   "metadata": {},
   "source": [
    "### Проверим гипотезы"
   ]
  },
  {
   "cell_type": "markdown",
   "metadata": {},
   "source": [
    "**Пояснения:**\n",
    "\n",
    "Нулевые и альтернативные гипотезы были сформулированны основываясь на том,что H₀ всегда формулируется так, чтобы использовать знак равенства.\n",
    "\n",
    "Так как рассматриваемые параметры не зависимы друг от друга - используем специальный метод для проверки гипотезы о равенстве среднего двух генеральных совокупностей по взятым из них выборкам: scipy.stats.ttest_ind (array1, array2, equal_var)\n",
    "Значению equal_var укажем параметр False, т.к. есть сомнения, что дисперсии у совокупностей одинаковые.\n",
    "\n",
    "Пороговое значение alpha установим на уровне 0.01"
   ]
  },
  {
   "cell_type": "markdown",
   "metadata": {},
   "source": [
    "Сравним средние значения рейтингов пользовательских платформ Xbox One и PC"
   ]
  },
  {
   "cell_type": "code",
   "execution_count": 140,
   "metadata": {},
   "outputs": [
    {
     "name": "stdout",
     "output_type": "stream",
     "text": [
      "Средний рейтинг пользовательской платформы XOne: 6.594545454545456\n",
      "Средний рейтинг пользовательской платформы PC: 6.298360655737705\n"
     ]
    }
   ],
   "source": [
    "XOne = new_data[new_data['platform'] =='XOne'].user_score.dropna().values\n",
    "PC = new_data[new_data['platform'] =='PC'].user_score.dropna().values\n",
    "print('Средний рейтинг пользовательской платформы XOne:', XOne.mean())\n",
    "print('Средний рейтинг пользовательской платформы PC:', PC.mean())"
   ]
  },
  {
   "cell_type": "markdown",
   "metadata": {},
   "source": [
    "**Проверим гипотезу:** Средние пользовательские рейтинги платформ Xbox One и PC одинаковые\n",
    "```\n",
    "Нулевая гипотеза: Средний пользовательский рейтинг платформ Xbox One = среднему пользовательскому рейтингу платформы PC \n",
    "\n",
    "Альтернативная гипотеза: Средний пользовательский рейтинг платформ Xbox One ≠ среднему пользовательскому рейтингу платформы PC \n",
    "\n",
    "\n",
    "```"
   ]
  },
  {
   "cell_type": "code",
   "execution_count": 142,
   "metadata": {},
   "outputs": [
    {
     "name": "stdout",
     "output_type": "stream",
     "text": [
      "Значение p-value: 0.11601398086668832\n",
      "Не получилось отвергнуть нулевую гипотезу\n"
     ]
    }
   ],
   "source": [
    "# results = вызов метода для проверки гипотезы\n",
    "results = st.ttest_ind(XOne,PC, equal_var = False)\n",
    "# alpha = задаем значение уровня значимости\n",
    "alpha =.01\n",
    "\n",
    "print('Значение p-value:',results.pvalue)\n",
    "\n",
    "if results.pvalue < alpha:\n",
    "    print(\"Отвергаем нулевую гипотезу\")\n",
    "else:\n",
    "    print(\"Не получилось отвергнуть нулевую гипотезу\") "
   ]
  },
  {
   "cell_type": "markdown",
   "metadata": {},
   "source": [
    "Гипотеза подтвердилась. Средние пользовательские рейтинги платформ Xbox One и PC одинаковые"
   ]
  },
  {
   "cell_type": "markdown",
   "metadata": {},
   "source": [
    "Сравним средние пользовательские рейтинги жанров Action и Sports"
   ]
  },
  {
   "cell_type": "code",
   "execution_count": 143,
   "metadata": {},
   "outputs": [
    {
     "name": "stdout",
     "output_type": "stream",
     "text": [
      "Средний пользовательский рейтинг жанра Action: 6.760606060606061\n",
      "Средний пользовательский рейтинг жанра Sports: 5.2251968503937\n"
     ]
    }
   ],
   "source": [
    "Action = new_data[new_data['genre'] =='Action'].user_score.dropna().values \n",
    "Sports = new_data[new_data['genre'] =='Sports'].user_score.dropna().values\n",
    "print('Средний пользовательский рейтинг жанра Action:', Action.mean())\n",
    "print('Средний пользовательский рейтинг жанра Sports:', Sports.mean())"
   ]
  },
  {
   "cell_type": "markdown",
   "metadata": {},
   "source": [
    "**Проверим гипотезу:** Средние пользовательские рейтинги жанров Action (англ. «действие», экшен-игры) и Sports (англ. «спортивные соревнования») разные.\n",
    "```\n",
    "Нулевая гипотеза: Средний пользовательский рейтинг жанра Action = среднему пользовательскому рейтингу жанра Sports \n",
    "\n",
    "Альтернативная гипотеза: Средний пользовательский рейтинг жанра Action ≠ среднему пользовательскому рейтингу жанра Sports\n",
    "\n",
    "```"
   ]
  },
  {
   "cell_type": "code",
   "execution_count": 145,
   "metadata": {},
   "outputs": [
    {
     "name": "stdout",
     "output_type": "stream",
     "text": [
      "Значение p-value: 1.1825550382644557e-14\n",
      "Отвергаем нулевую гипотезу\n"
     ]
    }
   ],
   "source": [
    "# results = вызов метода для проверки гипотезы\n",
    "results = st.ttest_ind(Action, Sports, equal_var = False )\n",
    "# alpha = задаем значение уровня значимости\n",
    "alpha =.01\n",
    "\n",
    "print('Значение p-value:',results.pvalue)\n",
    "\n",
    "if results.pvalue < alpha:\n",
    "    print(\"Отвергаем нулевую гипотезу\")\n",
    "else:\n",
    "    print(\"Не получилось отвергнуть нулевую гипотезу\")"
   ]
  },
  {
   "cell_type": "markdown",
   "metadata": {},
   "source": [
    "Гипотеза подтвердилась. Средние пользовательские рейтинги жанров Action и Sports разные"
   ]
  },
  {
   "cell_type": "markdown",
   "metadata": {},
   "source": [
    "### Общий вывод"
   ]
  },
  {
   "cell_type": "markdown",
   "metadata": {},
   "source": [
    "В ходе исследования был изучен датасет содержащий 16 715 строк и 11 столбцов. Строки в которых были пропущенны значения name и year_of_release были удалены. Пропущенные значения в столбцах critic_score и user_score сохранены, т.к. это отражает поведение пользователей на различных платформах.Пропущенные значения к столбце rating были заменены новым значением unknown. Типы данных столбцов были приведены к удобному для анализа виду. Наименования столбцов для удобства приведены к нижнему регистру. Создан дополнительный столбец с суммарными продажами по всем регионам. \n"
   ]
  },
  {
   "cell_type": "markdown",
   "metadata": {},
   "source": [
    "Резкие увеличения колличества выпускаемых игр наблюдались в 1994 и 2002 году. Но уже с 2010 наблюдется устойчивый спад. Для анализа был выбран период с 2014 до 2016 год. \n",
    "\n",
    "В среднем каждые 5 лет на рынке появляется от 1 до 3 новых игровых платформ. При этом средний срок жизни платформы составляет около 10 лет. По состоянию на 2016 год, только PS4 показывет относительно высокие продажи, но сохраняет тенденцию к падению. "
   ]
  },
  {
   "cell_type": "markdown",
   "metadata": {},
   "source": [
    "К 2016 году все платформы испытывают спад. Наиболее высокие продажи показывают PS4,3DS и XOne.\n",
    "Несмотря на относительно низкие продажи PSV и PC уже достаточно долго сохраняют свои позиции на рынке на одном уровне.\n",
    "Наиболее вероятные кандидаты на уход с рынка в ближайшем будующем PS3, X360, WiiU и Wii\n",
    "Таким образом к потенциально прибыльным платформам можно отнести PS4,3DS и XOne. А так же PSV и PC, т.к. им удается сохранять лояльность своей аудитории длительный срок."
   ]
  },
  {
   "cell_type": "markdown",
   "metadata": {},
   "source": [
    "Согласно графику больше всего игр в период с 2012 по 2016 годы продали PS4, X360, PS3, XOne и 3DS. При этом самый высокий медианный паказатель у PS4, что характеризует эту платформу как потенциально наиболее прибыльную."
   ]
  },
  {
   "cell_type": "markdown",
   "metadata": {},
   "source": [
    "Исходя из расчета корреляции мы видим слабую взаимосвязь между оценкой критиков и уровнем продаж. \n",
    "В тоже время оценка игроков с уровнем продаж практически не взаимосвязанна."
   ]
  },
  {
   "cell_type": "markdown",
   "metadata": {},
   "source": [
    "Наиболее прибыльными жанрами можно назвать:Shooter,Sports,Platform,\n",
    "При этом игры в жанре Shooter значительно выделяются на фоне остальных, а игры в остальных жанрах значительно отстают в уровне продаж от лидера."
   ]
  },
  {
   "cell_type": "markdown",
   "metadata": {},
   "source": [
    "**Портрет пользователя в Северной Америке:**\n",
    "\n",
    "Популярные жанры:Shooter, Platform, Sports, Fighting, Racing.\n",
    "\n",
    "Популярные платформы: X360, XOne, WiiU, PS4, Wii.\n",
    "\n",
    "**Портрет пользователя в Европе:**\n",
    "\n",
    "Популярные жанры:Shooter, Platform, Racing, Sports, Simulation.\n",
    "\n",
    "Популярные платформы: Wii, PS4, XOne, WiiU, PC.\n",
    "\n",
    "\n",
    "**Портрет пользователя в Японии:**\n",
    "\n",
    "Популярные жанры: Role-Playing, Fighting, Puzzle, Action, Adventure.\n",
    "\n",
    "Популярные платформы: 3DS, PSV, PS3, PSP, PS4.\n"
   ]
  },
  {
   "cell_type": "markdown",
   "metadata": {},
   "source": [
    "Несмотря на то, что пользователи в Америке и Европе отдают предпочтение схожему набору платформ, фавориты в этих регионах различаются.\n",
    "Так, в среде Американских пользователей со значительным отрывом лидируют: X360,XOne и WiiU. \n",
    "\n",
    "На Европейском рынке абсолютным фаворитом является Wii. Второе место делят XOne и РS4.Также на Европейском рынке значительно колличество пользователей по прежнему сохраняют лояльность к платформе РС.\n",
    "\n",
    "Аудитория Японии значительно отличается. Наиболее популярные в Европе и Америке платформы практически не представленны на Японском рынке и занимают значительно меньший сегмент. Судя по всему Японские пользователи предпочитают пользоваться продуктами локальных разрабочиков или имеют игровые привычки связанные с использованием других устройств. \n",
    "\n",
    "Так, фаворитами на рынке Японии являются: 3DS и PSV. А практически потерявшая популярность на рынке Европы и Америки PS3, делит третье место с не представленной на этих рынках PSV.\n",
    "\n",
    "\n",
    "Исходя из данных отраженных на графике можно предположить, что платформы позволяющие охватить аудиторию всех рассматриваемых регионов - WiiU,РS4 и PS3."
   ]
  },
  {
   "cell_type": "markdown",
   "metadata": {},
   "source": [
    "Можно отметить, что игровые предпочтения жителей Америки и Европы схожи. Со значительным отрывом на этих рынках лидируют игры в жанре Shooter. Игроки в Японии предпочитают игры в жанре Role-Playing, Puzzle и Fighting, а жанр Shooter их совершенно не интересует. Практически не интерессны всем группам игроков игры в жанре Adventutr и Strategy.\n",
    "\n",
    "Мы наблюдаем полное пересечение интересов аудитории в жанрах: Fighting, Playing, Action и Music."
   ]
  },
  {
   "cell_type": "markdown",
   "metadata": {},
   "source": [
    "На рынках Америки и Европы преобладают прожади игр с рейтингом M.\n",
    "Проекты с данным рейтингом могут содержать достаточно жестокое насилие, большое количество крови с расчленением, непристойные сексуальные сцены или грубую ненормативную лексику, нежелательную для младшей аудитории. Данная пометка позволяет оградить подростковую аудиторию от подобного контента и при этом не относить игру в рейтинг АО, что могло бы накладывать определенные ограничения на продажу и значительно сузить аудиторию.\n",
    "На втром месте на рынках Америки и Европы оказались игры из заданной нами группы unknown.Эта же группа охватыает игры наиболее популярные в Японии, но это может быть связанно с локальной системой рейтингов, которая гораздо строже ESRB."
   ]
  },
  {
   "cell_type": "markdown",
   "metadata": {},
   "source": [
    "Определяющей успешность игры закономерностью явлеяется разработка игр в наиболее популярном в регионе жанре с учетом особенностей игрового поведения заключающихся в выборе игровой платформы."
   ]
  },
  {
   "cell_type": "markdown",
   "metadata": {},
   "source": [
    "Таким образом можно предположить популярность:\n",
    "\n",
    "Одновременно для рынков Америки, Европы и Японии игры в жанре Fighting на платформе  WiiU или РS4 с рейтингом М.\n",
    "\n",
    "Для рынков Америки и Европы игры в жанре Shooter на платформе XOne и PC с рейтингом М.\n",
    "\n",
    "Для рынка Японии игры в жанре Role-Playing на платформе 3DS или PSV с учетом локальных особенностей присвоения рейтинга."
   ]
  },
  {
   "cell_type": "code",
   "execution_count": null,
   "metadata": {},
   "outputs": [],
   "source": []
  }
 ],
 "metadata": {
  "ExecuteTimeLog": [
   {
    "duration": 1538,
    "start_time": "2022-12-26T08:11:19.378Z"
   },
   {
    "duration": 44,
    "start_time": "2022-12-26T08:11:33.026Z"
   },
   {
    "duration": 151,
    "start_time": "2022-12-26T08:12:12.082Z"
   },
   {
    "duration": 162,
    "start_time": "2022-12-26T08:12:45.360Z"
   },
   {
    "duration": 152,
    "start_time": "2022-12-26T08:13:11.106Z"
   },
   {
    "duration": 87,
    "start_time": "2022-12-26T08:13:15.382Z"
   },
   {
    "duration": 61,
    "start_time": "2022-12-26T08:13:28.058Z"
   },
   {
    "duration": 43,
    "start_time": "2022-12-26T08:15:32.323Z"
   },
   {
    "duration": 765,
    "start_time": "2022-12-26T08:19:23.541Z"
   },
   {
    "duration": 638,
    "start_time": "2022-12-26T08:19:36.343Z"
   },
   {
    "duration": 716,
    "start_time": "2022-12-26T08:20:20.231Z"
   },
   {
    "duration": 638,
    "start_time": "2022-12-26T08:20:30.140Z"
   },
   {
    "duration": 53,
    "start_time": "2022-12-26T08:21:53.209Z"
   },
   {
    "duration": 19,
    "start_time": "2022-12-26T08:22:28.291Z"
   },
   {
    "duration": 16,
    "start_time": "2022-12-26T08:22:34.301Z"
   },
   {
    "duration": 4,
    "start_time": "2022-12-26T08:26:56.929Z"
   },
   {
    "duration": 22,
    "start_time": "2022-12-26T08:27:01.318Z"
   },
   {
    "duration": 6,
    "start_time": "2022-12-26T08:33:30.712Z"
   },
   {
    "duration": 5,
    "start_time": "2022-12-26T08:39:10.092Z"
   },
   {
    "duration": 5,
    "start_time": "2022-12-26T08:43:59.384Z"
   },
   {
    "duration": 4,
    "start_time": "2022-12-26T08:44:04.435Z"
   },
   {
    "duration": 60,
    "start_time": "2022-12-26T08:44:14.849Z"
   },
   {
    "duration": 40,
    "start_time": "2022-12-26T08:44:16.532Z"
   },
   {
    "duration": 639,
    "start_time": "2022-12-26T08:44:17.266Z"
   },
   {
    "duration": 15,
    "start_time": "2022-12-26T08:44:17.908Z"
   },
   {
    "duration": 5,
    "start_time": "2022-12-26T08:44:21.504Z"
   },
   {
    "duration": 22,
    "start_time": "2022-12-26T08:44:22.538Z"
   },
   {
    "duration": 19,
    "start_time": "2022-12-26T08:44:35.016Z"
   },
   {
    "duration": 42,
    "start_time": "2022-12-26T08:46:11.713Z"
   },
   {
    "duration": 5,
    "start_time": "2022-12-26T08:47:35.430Z"
   },
   {
    "duration": 45,
    "start_time": "2022-12-26T08:47:47.302Z"
   },
   {
    "duration": 10,
    "start_time": "2022-12-26T08:51:19.186Z"
   },
   {
    "duration": 28,
    "start_time": "2022-12-26T08:51:28.783Z"
   },
   {
    "duration": 12,
    "start_time": "2022-12-26T08:51:45.571Z"
   },
   {
    "duration": 16,
    "start_time": "2022-12-26T08:52:57.922Z"
   },
   {
    "duration": 13,
    "start_time": "2022-12-26T08:53:12.838Z"
   },
   {
    "duration": 7,
    "start_time": "2022-12-26T08:53:19.035Z"
   },
   {
    "duration": 9,
    "start_time": "2022-12-26T08:53:36.940Z"
   },
   {
    "duration": 7,
    "start_time": "2022-12-26T08:53:41.220Z"
   },
   {
    "duration": 5,
    "start_time": "2022-12-26T08:53:48.199Z"
   },
   {
    "duration": 6,
    "start_time": "2022-12-26T08:53:52.554Z"
   },
   {
    "duration": 8,
    "start_time": "2022-12-26T08:57:47.773Z"
   },
   {
    "duration": 12,
    "start_time": "2022-12-26T08:58:43.372Z"
   },
   {
    "duration": 8,
    "start_time": "2022-12-26T09:00:21.766Z"
   },
   {
    "duration": 3,
    "start_time": "2022-12-26T09:07:03.942Z"
   },
   {
    "duration": 23,
    "start_time": "2022-12-26T09:07:08.470Z"
   },
   {
    "duration": 7,
    "start_time": "2022-12-26T09:07:57.688Z"
   },
   {
    "duration": 25,
    "start_time": "2022-12-26T09:10:12.432Z"
   },
   {
    "duration": 24,
    "start_time": "2022-12-26T09:10:30.850Z"
   },
   {
    "duration": 30,
    "start_time": "2022-12-26T09:11:33.961Z"
   },
   {
    "duration": 16,
    "start_time": "2022-12-26T09:11:50.645Z"
   },
   {
    "duration": 12,
    "start_time": "2022-12-26T09:11:56.931Z"
   },
   {
    "duration": 13,
    "start_time": "2022-12-26T09:16:51.642Z"
   },
   {
    "duration": 9,
    "start_time": "2022-12-26T09:17:05.102Z"
   },
   {
    "duration": 5,
    "start_time": "2022-12-26T09:17:14.752Z"
   },
   {
    "duration": 29,
    "start_time": "2022-12-26T09:17:48.964Z"
   },
   {
    "duration": 27,
    "start_time": "2022-12-26T09:18:04.193Z"
   },
   {
    "duration": 28,
    "start_time": "2022-12-26T09:18:25.363Z"
   },
   {
    "duration": 26,
    "start_time": "2022-12-26T09:18:45.615Z"
   },
   {
    "duration": 28,
    "start_time": "2022-12-26T09:19:07.477Z"
   },
   {
    "duration": 1426,
    "start_time": "2022-12-26T13:13:54.856Z"
   },
   {
    "duration": 46,
    "start_time": "2022-12-26T13:13:57.982Z"
   },
   {
    "duration": 646,
    "start_time": "2022-12-26T13:13:58.267Z"
   },
   {
    "duration": 56,
    "start_time": "2022-12-26T13:13:58.916Z"
   },
   {
    "duration": 5,
    "start_time": "2022-12-26T13:13:59.513Z"
   },
   {
    "duration": 4,
    "start_time": "2022-12-26T13:13:59.793Z"
   },
   {
    "duration": 12,
    "start_time": "2022-12-26T13:14:01.925Z"
   },
   {
    "duration": 11,
    "start_time": "2022-12-26T13:14:03.413Z"
   },
   {
    "duration": 10,
    "start_time": "2022-12-26T13:14:04.745Z"
   },
   {
    "duration": 7,
    "start_time": "2022-12-26T13:14:06.585Z"
   },
   {
    "duration": 6,
    "start_time": "2022-12-26T13:14:07.685Z"
   },
   {
    "duration": 26,
    "start_time": "2022-12-26T13:14:08.717Z"
   },
   {
    "duration": 5,
    "start_time": "2022-12-26T13:20:37.267Z"
   },
   {
    "duration": 32,
    "start_time": "2022-12-26T13:21:35.486Z"
   },
   {
    "duration": 25,
    "start_time": "2022-12-26T13:22:14.278Z"
   },
   {
    "duration": 28,
    "start_time": "2022-12-26T13:22:18.767Z"
   },
   {
    "duration": 27,
    "start_time": "2022-12-26T13:23:09.375Z"
   },
   {
    "duration": 3,
    "start_time": "2022-12-26T13:26:14.173Z"
   },
   {
    "duration": 5,
    "start_time": "2022-12-26T13:26:27.503Z"
   },
   {
    "duration": 19,
    "start_time": "2022-12-26T13:26:35.164Z"
   },
   {
    "duration": 1084,
    "start_time": "2022-12-26T13:26:52.097Z"
   },
   {
    "duration": 3,
    "start_time": "2022-12-26T13:26:53.519Z"
   },
   {
    "duration": 1207,
    "start_time": "2022-12-26T13:27:18.362Z"
   },
   {
    "duration": 28,
    "start_time": "2022-12-26T13:27:52.539Z"
   },
   {
    "duration": 23,
    "start_time": "2022-12-26T13:28:23.161Z"
   },
   {
    "duration": 17,
    "start_time": "2022-12-26T13:30:12.059Z"
   },
   {
    "duration": 8,
    "start_time": "2022-12-26T13:32:55.882Z"
   },
   {
    "duration": 11,
    "start_time": "2022-12-26T13:33:21.158Z"
   },
   {
    "duration": 1379,
    "start_time": "2022-12-26T13:33:43.819Z"
   },
   {
    "duration": 42,
    "start_time": "2022-12-26T13:33:45.200Z"
   },
   {
    "duration": 789,
    "start_time": "2022-12-26T13:33:45.244Z"
   },
   {
    "duration": 88,
    "start_time": "2022-12-26T13:33:46.035Z"
   },
   {
    "duration": 19,
    "start_time": "2022-12-26T13:33:46.125Z"
   },
   {
    "duration": 5,
    "start_time": "2022-12-26T13:33:46.146Z"
   },
   {
    "duration": 19,
    "start_time": "2022-12-26T13:33:46.154Z"
   },
   {
    "duration": 20,
    "start_time": "2022-12-26T13:33:46.175Z"
   },
   {
    "duration": 24,
    "start_time": "2022-12-26T13:33:46.198Z"
   },
   {
    "duration": 9,
    "start_time": "2022-12-26T13:33:46.226Z"
   },
   {
    "duration": 12,
    "start_time": "2022-12-26T13:33:46.237Z"
   },
   {
    "duration": 6,
    "start_time": "2022-12-26T13:33:46.251Z"
   },
   {
    "duration": 71,
    "start_time": "2022-12-26T13:33:46.261Z"
   },
   {
    "duration": 13,
    "start_time": "2022-12-26T13:33:46.334Z"
   },
   {
    "duration": 10,
    "start_time": "2022-12-26T13:35:35.882Z"
   },
   {
    "duration": 31,
    "start_time": "2022-12-26T13:37:03.974Z"
   },
   {
    "duration": 15,
    "start_time": "2022-12-26T13:39:08.128Z"
   },
   {
    "duration": 11,
    "start_time": "2022-12-26T13:46:41.657Z"
   },
   {
    "duration": 12,
    "start_time": "2022-12-26T13:47:59.522Z"
   },
   {
    "duration": 135,
    "start_time": "2022-12-26T13:51:59.113Z"
   },
   {
    "duration": 8,
    "start_time": "2022-12-26T13:52:08.906Z"
   },
   {
    "duration": 715,
    "start_time": "2022-12-26T13:52:25.057Z"
   },
   {
    "duration": 5,
    "start_time": "2022-12-26T13:52:36.827Z"
   },
   {
    "duration": 11,
    "start_time": "2022-12-26T13:55:18.311Z"
   },
   {
    "duration": 10,
    "start_time": "2022-12-26T13:55:31.903Z"
   },
   {
    "duration": 9,
    "start_time": "2022-12-26T13:58:14.635Z"
   },
   {
    "duration": 10,
    "start_time": "2022-12-26T13:58:29.215Z"
   },
   {
    "duration": 8,
    "start_time": "2022-12-26T14:00:41.672Z"
   },
   {
    "duration": 6,
    "start_time": "2022-12-26T14:07:26.635Z"
   },
   {
    "duration": 1288,
    "start_time": "2022-12-26T14:35:58.909Z"
   },
   {
    "duration": 1290,
    "start_time": "2022-12-26T14:36:05.069Z"
   },
   {
    "duration": 64,
    "start_time": "2022-12-26T14:36:07.742Z"
   },
   {
    "duration": 41,
    "start_time": "2022-12-26T14:36:10.116Z"
   },
   {
    "duration": 608,
    "start_time": "2022-12-26T14:36:10.525Z"
   },
   {
    "duration": 53,
    "start_time": "2022-12-26T14:36:11.135Z"
   },
   {
    "duration": 18,
    "start_time": "2022-12-26T14:36:11.454Z"
   },
   {
    "duration": 5,
    "start_time": "2022-12-26T14:36:12.509Z"
   },
   {
    "duration": 6,
    "start_time": "2022-12-26T14:36:12.761Z"
   },
   {
    "duration": 15,
    "start_time": "2022-12-26T14:36:13.264Z"
   },
   {
    "duration": 11,
    "start_time": "2022-12-26T14:36:13.760Z"
   },
   {
    "duration": 8,
    "start_time": "2022-12-26T14:36:14.241Z"
   },
   {
    "duration": 7,
    "start_time": "2022-12-26T14:36:14.921Z"
   },
   {
    "duration": 6,
    "start_time": "2022-12-26T14:36:15.147Z"
   },
   {
    "duration": 12,
    "start_time": "2022-12-26T14:36:15.381Z"
   },
   {
    "duration": 7,
    "start_time": "2022-12-26T14:36:15.825Z"
   },
   {
    "duration": 15,
    "start_time": "2022-12-26T14:36:16.265Z"
   },
   {
    "duration": 12,
    "start_time": "2022-12-26T14:36:16.722Z"
   },
   {
    "duration": 11,
    "start_time": "2022-12-26T14:36:17.797Z"
   },
   {
    "duration": 8,
    "start_time": "2022-12-26T14:36:19.544Z"
   },
   {
    "duration": 12,
    "start_time": "2022-12-26T14:36:23.080Z"
   },
   {
    "duration": 128,
    "start_time": "2022-12-26T14:36:45.090Z"
   },
   {
    "duration": 16,
    "start_time": "2022-12-26T14:36:49.792Z"
   },
   {
    "duration": 8,
    "start_time": "2022-12-26T14:36:56.822Z"
   },
   {
    "duration": 11,
    "start_time": "2022-12-26T14:40:10.936Z"
   },
   {
    "duration": 10,
    "start_time": "2022-12-26T14:40:36.810Z"
   },
   {
    "duration": 11,
    "start_time": "2022-12-26T14:40:51.954Z"
   },
   {
    "duration": 14,
    "start_time": "2022-12-26T14:41:11.099Z"
   },
   {
    "duration": 7,
    "start_time": "2022-12-26T14:41:53.692Z"
   },
   {
    "duration": 14,
    "start_time": "2022-12-26T14:51:09.913Z"
   },
   {
    "duration": 10,
    "start_time": "2022-12-26T14:51:25.006Z"
   },
   {
    "duration": 1238,
    "start_time": "2022-12-26T14:51:39.333Z"
   },
   {
    "duration": 66,
    "start_time": "2022-12-26T14:51:42.303Z"
   },
   {
    "duration": 41,
    "start_time": "2022-12-26T14:51:43.461Z"
   },
   {
    "duration": 634,
    "start_time": "2022-12-26T14:51:43.790Z"
   },
   {
    "duration": 76,
    "start_time": "2022-12-26T14:51:44.426Z"
   },
   {
    "duration": 16,
    "start_time": "2022-12-26T14:51:44.647Z"
   },
   {
    "duration": 5,
    "start_time": "2022-12-26T14:51:45.617Z"
   },
   {
    "duration": 4,
    "start_time": "2022-12-26T14:51:45.896Z"
   },
   {
    "duration": 12,
    "start_time": "2022-12-26T14:51:46.388Z"
   },
   {
    "duration": 13,
    "start_time": "2022-12-26T14:51:46.859Z"
   },
   {
    "duration": 8,
    "start_time": "2022-12-26T14:51:47.365Z"
   },
   {
    "duration": 7,
    "start_time": "2022-12-26T14:51:48.113Z"
   },
   {
    "duration": 6,
    "start_time": "2022-12-26T14:51:48.369Z"
   },
   {
    "duration": 14,
    "start_time": "2022-12-26T14:51:48.585Z"
   },
   {
    "duration": 9,
    "start_time": "2022-12-26T14:51:49.144Z"
   },
   {
    "duration": 13,
    "start_time": "2022-12-26T14:51:49.669Z"
   },
   {
    "duration": 13,
    "start_time": "2022-12-26T14:51:50.121Z"
   },
   {
    "duration": 10,
    "start_time": "2022-12-26T14:51:50.584Z"
   },
   {
    "duration": 9,
    "start_time": "2022-12-26T14:51:51.329Z"
   },
   {
    "duration": 12,
    "start_time": "2022-12-26T14:51:51.977Z"
   },
   {
    "duration": 8,
    "start_time": "2022-12-26T14:51:52.553Z"
   },
   {
    "duration": 29,
    "start_time": "2022-12-26T14:55:45.244Z"
   },
   {
    "duration": 19,
    "start_time": "2022-12-26T15:00:53.843Z"
   },
   {
    "duration": 7,
    "start_time": "2022-12-26T15:18:21.120Z"
   },
   {
    "duration": 295,
    "start_time": "2022-12-26T15:20:27.850Z"
   },
   {
    "duration": 321,
    "start_time": "2022-12-26T15:23:01.619Z"
   },
   {
    "duration": 385,
    "start_time": "2022-12-26T15:23:07.410Z"
   },
   {
    "duration": 291,
    "start_time": "2022-12-26T15:23:32.639Z"
   },
   {
    "duration": 308,
    "start_time": "2022-12-26T15:23:52.684Z"
   },
   {
    "duration": 284,
    "start_time": "2022-12-26T15:24:04.960Z"
   },
   {
    "duration": 308,
    "start_time": "2022-12-26T15:24:24.801Z"
   },
   {
    "duration": 96,
    "start_time": "2022-12-26T15:25:22.256Z"
   },
   {
    "duration": 383,
    "start_time": "2022-12-26T15:25:28.538Z"
   },
   {
    "duration": 325,
    "start_time": "2022-12-26T15:26:08.350Z"
   },
   {
    "duration": 304,
    "start_time": "2022-12-26T15:26:16.793Z"
   },
   {
    "duration": 333,
    "start_time": "2022-12-26T15:27:09.917Z"
   },
   {
    "duration": 1551,
    "start_time": "2022-12-27T07:42:14.518Z"
   },
   {
    "duration": 48,
    "start_time": "2022-12-27T07:42:19.050Z"
   },
   {
    "duration": 589,
    "start_time": "2022-12-27T07:42:19.559Z"
   },
   {
    "duration": 49,
    "start_time": "2022-12-27T07:42:20.149Z"
   },
   {
    "duration": 15,
    "start_time": "2022-12-27T07:42:21.701Z"
   },
   {
    "duration": 5,
    "start_time": "2022-12-27T07:42:23.513Z"
   },
   {
    "duration": 4,
    "start_time": "2022-12-27T07:42:24.014Z"
   },
   {
    "duration": 13,
    "start_time": "2022-12-27T07:42:24.915Z"
   },
   {
    "duration": 10,
    "start_time": "2022-12-27T07:42:25.770Z"
   },
   {
    "duration": 8,
    "start_time": "2022-12-27T07:42:26.537Z"
   },
   {
    "duration": 7,
    "start_time": "2022-12-27T07:42:27.729Z"
   },
   {
    "duration": 5,
    "start_time": "2022-12-27T07:42:28.149Z"
   },
   {
    "duration": 10,
    "start_time": "2022-12-27T07:42:28.537Z"
   },
   {
    "duration": 7,
    "start_time": "2022-12-27T07:42:29.357Z"
   },
   {
    "duration": 11,
    "start_time": "2022-12-27T07:42:30.229Z"
   },
   {
    "duration": 10,
    "start_time": "2022-12-27T07:42:31.194Z"
   },
   {
    "duration": 10,
    "start_time": "2022-12-27T07:42:32.061Z"
   },
   {
    "duration": 7,
    "start_time": "2022-12-27T07:42:44.103Z"
   },
   {
    "duration": 11,
    "start_time": "2022-12-27T07:43:01.736Z"
   },
   {
    "duration": 7,
    "start_time": "2022-12-27T07:43:05.368Z"
   },
   {
    "duration": 17,
    "start_time": "2022-12-27T07:43:13.596Z"
   },
   {
    "duration": 360,
    "start_time": "2022-12-27T07:43:31.410Z"
   },
   {
    "duration": 278,
    "start_time": "2022-12-27T07:52:49.409Z"
   },
   {
    "duration": 374,
    "start_time": "2022-12-27T07:54:24.230Z"
   },
   {
    "duration": 12,
    "start_time": "2022-12-27T07:55:35.782Z"
   },
   {
    "duration": 7402,
    "start_time": "2022-12-27T07:56:23.347Z"
   },
   {
    "duration": 1192,
    "start_time": "2022-12-27T08:05:53.865Z"
   },
   {
    "duration": 37,
    "start_time": "2022-12-27T08:05:56.309Z"
   },
   {
    "duration": 591,
    "start_time": "2022-12-27T08:05:56.510Z"
   },
   {
    "duration": 55,
    "start_time": "2022-12-27T08:05:57.103Z"
   },
   {
    "duration": 15,
    "start_time": "2022-12-27T08:05:57.160Z"
   },
   {
    "duration": 5,
    "start_time": "2022-12-27T08:05:57.667Z"
   },
   {
    "duration": 5,
    "start_time": "2022-12-27T08:05:57.827Z"
   },
   {
    "duration": 11,
    "start_time": "2022-12-27T08:05:58.174Z"
   },
   {
    "duration": 10,
    "start_time": "2022-12-27T08:05:58.512Z"
   },
   {
    "duration": 7,
    "start_time": "2022-12-27T08:05:58.858Z"
   },
   {
    "duration": 5,
    "start_time": "2022-12-27T08:05:59.349Z"
   },
   {
    "duration": 5,
    "start_time": "2022-12-27T08:05:59.533Z"
   },
   {
    "duration": 10,
    "start_time": "2022-12-27T08:05:59.705Z"
   },
   {
    "duration": 7,
    "start_time": "2022-12-27T08:06:00.081Z"
   },
   {
    "duration": 14,
    "start_time": "2022-12-27T08:06:00.746Z"
   },
   {
    "duration": 11,
    "start_time": "2022-12-27T08:06:01.400Z"
   },
   {
    "duration": 11,
    "start_time": "2022-12-27T08:06:01.870Z"
   },
   {
    "duration": 8,
    "start_time": "2022-12-27T08:06:02.870Z"
   },
   {
    "duration": 11,
    "start_time": "2022-12-27T08:06:03.527Z"
   },
   {
    "duration": 7,
    "start_time": "2022-12-27T08:06:04.146Z"
   },
   {
    "duration": 16,
    "start_time": "2022-12-27T08:06:04.806Z"
   },
   {
    "duration": 310,
    "start_time": "2022-12-27T08:06:06.451Z"
   },
   {
    "duration": 12,
    "start_time": "2022-12-27T08:06:08.867Z"
   },
   {
    "duration": 46,
    "start_time": "2022-12-27T08:07:47.529Z"
   },
   {
    "duration": 6,
    "start_time": "2022-12-27T08:07:56.860Z"
   },
   {
    "duration": 1202,
    "start_time": "2022-12-27T08:08:04.281Z"
   },
   {
    "duration": 67,
    "start_time": "2022-12-27T08:08:08.145Z"
   },
   {
    "duration": 37,
    "start_time": "2022-12-27T08:08:08.545Z"
   },
   {
    "duration": 578,
    "start_time": "2022-12-27T08:08:08.780Z"
   },
   {
    "duration": 49,
    "start_time": "2022-12-27T08:08:09.360Z"
   },
   {
    "duration": 20,
    "start_time": "2022-12-27T08:08:09.411Z"
   },
   {
    "duration": 5,
    "start_time": "2022-12-27T08:08:10.008Z"
   },
   {
    "duration": 4,
    "start_time": "2022-12-27T08:08:10.176Z"
   },
   {
    "duration": 11,
    "start_time": "2022-12-27T08:08:10.539Z"
   },
   {
    "duration": 10,
    "start_time": "2022-12-27T08:08:10.902Z"
   },
   {
    "duration": 10,
    "start_time": "2022-12-27T08:08:11.631Z"
   },
   {
    "duration": 6,
    "start_time": "2022-12-27T08:08:12.885Z"
   },
   {
    "duration": 5,
    "start_time": "2022-12-27T08:08:13.332Z"
   },
   {
    "duration": 10,
    "start_time": "2022-12-27T08:08:13.651Z"
   },
   {
    "duration": 7,
    "start_time": "2022-12-27T08:08:14.208Z"
   },
   {
    "duration": 12,
    "start_time": "2022-12-27T08:08:14.747Z"
   },
   {
    "duration": 10,
    "start_time": "2022-12-27T08:08:15.247Z"
   },
   {
    "duration": 10,
    "start_time": "2022-12-27T08:08:15.752Z"
   },
   {
    "duration": 7,
    "start_time": "2022-12-27T08:08:16.549Z"
   },
   {
    "duration": 12,
    "start_time": "2022-12-27T08:08:17.203Z"
   },
   {
    "duration": 6,
    "start_time": "2022-12-27T08:08:17.801Z"
   },
   {
    "duration": 16,
    "start_time": "2022-12-27T08:08:18.682Z"
   },
   {
    "duration": 318,
    "start_time": "2022-12-27T08:08:20.672Z"
   },
   {
    "duration": 14,
    "start_time": "2022-12-27T08:08:22.431Z"
   },
   {
    "duration": 261,
    "start_time": "2022-12-27T08:08:22.889Z"
   },
   {
    "duration": 335,
    "start_time": "2022-12-27T08:08:36.612Z"
   },
   {
    "duration": 16,
    "start_time": "2022-12-27T08:16:01.376Z"
   },
   {
    "duration": 16,
    "start_time": "2022-12-27T08:17:08.216Z"
   },
   {
    "duration": 10,
    "start_time": "2022-12-27T08:19:06.753Z"
   },
   {
    "duration": 16,
    "start_time": "2022-12-27T08:19:21.458Z"
   },
   {
    "duration": 15,
    "start_time": "2022-12-27T08:19:32.976Z"
   },
   {
    "duration": 76,
    "start_time": "2022-12-27T08:19:59.312Z"
   },
   {
    "duration": 15,
    "start_time": "2022-12-27T08:20:09.688Z"
   },
   {
    "duration": 74,
    "start_time": "2022-12-27T08:21:26.421Z"
   },
   {
    "duration": 22,
    "start_time": "2022-12-27T08:21:45.013Z"
   },
   {
    "duration": 21,
    "start_time": "2022-12-27T08:21:58.101Z"
   },
   {
    "duration": 15,
    "start_time": "2022-12-27T08:22:10.817Z"
   },
   {
    "duration": 24,
    "start_time": "2022-12-27T08:24:41.100Z"
   },
   {
    "duration": 199,
    "start_time": "2022-12-27T08:29:54.924Z"
   },
   {
    "duration": 22,
    "start_time": "2022-12-27T08:30:16.987Z"
   },
   {
    "duration": 1155,
    "start_time": "2022-12-27T08:39:35.649Z"
   },
   {
    "duration": 1190,
    "start_time": "2022-12-27T08:39:50.990Z"
   },
   {
    "duration": 19,
    "start_time": "2022-12-27T08:40:21.964Z"
   },
   {
    "duration": 15,
    "start_time": "2022-12-27T08:40:40.536Z"
   },
   {
    "duration": 20,
    "start_time": "2022-12-27T08:40:42.224Z"
   },
   {
    "duration": 21,
    "start_time": "2022-12-27T08:42:11.534Z"
   },
   {
    "duration": 4,
    "start_time": "2022-12-27T08:43:46.138Z"
   },
   {
    "duration": 10,
    "start_time": "2022-12-27T08:43:55.577Z"
   },
   {
    "duration": 10,
    "start_time": "2022-12-27T08:50:07.560Z"
   },
   {
    "duration": 447,
    "start_time": "2022-12-27T08:50:14.851Z"
   },
   {
    "duration": 16,
    "start_time": "2022-12-27T08:54:27.878Z"
   },
   {
    "duration": 17,
    "start_time": "2022-12-27T08:54:46.820Z"
   },
   {
    "duration": 18,
    "start_time": "2022-12-27T08:55:15.315Z"
   },
   {
    "duration": 18,
    "start_time": "2022-12-27T08:55:29.608Z"
   },
   {
    "duration": 19,
    "start_time": "2022-12-27T08:55:47.613Z"
   },
   {
    "duration": 16,
    "start_time": "2022-12-27T08:56:11.115Z"
   },
   {
    "duration": 14,
    "start_time": "2022-12-27T08:56:20.080Z"
   },
   {
    "duration": 18,
    "start_time": "2022-12-27T08:56:47.123Z"
   },
   {
    "duration": 126,
    "start_time": "2022-12-27T08:57:13.202Z"
   },
   {
    "duration": 59,
    "start_time": "2022-12-27T09:17:30.653Z"
   },
   {
    "duration": 39,
    "start_time": "2022-12-27T09:17:30.714Z"
   },
   {
    "duration": 576,
    "start_time": "2022-12-27T09:17:30.755Z"
   },
   {
    "duration": 16,
    "start_time": "2022-12-27T09:17:31.333Z"
   },
   {
    "duration": 28,
    "start_time": "2022-12-27T09:17:31.350Z"
   },
   {
    "duration": 5,
    "start_time": "2022-12-27T09:17:31.379Z"
   },
   {
    "duration": 23,
    "start_time": "2022-12-27T09:17:31.385Z"
   },
   {
    "duration": 25,
    "start_time": "2022-12-27T09:17:31.409Z"
   },
   {
    "duration": 24,
    "start_time": "2022-12-27T09:17:31.436Z"
   },
   {
    "duration": 27,
    "start_time": "2022-12-27T09:17:31.463Z"
   },
   {
    "duration": 36,
    "start_time": "2022-12-27T09:17:31.492Z"
   },
   {
    "duration": 41,
    "start_time": "2022-12-27T09:17:31.530Z"
   },
   {
    "duration": 21,
    "start_time": "2022-12-27T09:17:31.573Z"
   },
   {
    "duration": 32,
    "start_time": "2022-12-27T09:17:31.597Z"
   },
   {
    "duration": 48,
    "start_time": "2022-12-27T09:17:31.630Z"
   },
   {
    "duration": 70,
    "start_time": "2022-12-27T09:17:31.681Z"
   },
   {
    "duration": 16,
    "start_time": "2022-12-27T09:17:31.753Z"
   },
   {
    "duration": 15,
    "start_time": "2022-12-27T09:17:31.771Z"
   },
   {
    "duration": 26,
    "start_time": "2022-12-27T09:17:31.788Z"
   },
   {
    "duration": 30,
    "start_time": "2022-12-27T09:17:31.816Z"
   },
   {
    "duration": 28,
    "start_time": "2022-12-27T09:17:31.848Z"
   },
   {
    "duration": 328,
    "start_time": "2022-12-27T09:17:31.878Z"
   },
   {
    "duration": 11,
    "start_time": "2022-12-27T09:17:32.208Z"
   },
   {
    "duration": 290,
    "start_time": "2022-12-27T09:17:32.220Z"
   },
   {
    "duration": 30,
    "start_time": "2022-12-27T09:17:32.512Z"
   },
   {
    "duration": 13,
    "start_time": "2022-12-27T09:17:32.544Z"
   },
   {
    "duration": 331,
    "start_time": "2022-12-27T09:17:32.559Z"
   },
   {
    "duration": 151,
    "start_time": "2022-12-27T09:17:32.892Z"
   },
   {
    "duration": 478,
    "start_time": "2022-12-27T09:17:33.045Z"
   },
   {
    "duration": 57,
    "start_time": "2022-12-27T09:17:43.552Z"
   },
   {
    "duration": 13,
    "start_time": "2022-12-27T09:18:01.395Z"
   },
   {
    "duration": 10,
    "start_time": "2022-12-27T09:18:03.311Z"
   },
   {
    "duration": 12,
    "start_time": "2022-12-27T09:18:12.544Z"
   },
   {
    "duration": 15,
    "start_time": "2022-12-27T09:18:25.226Z"
   },
   {
    "duration": 11,
    "start_time": "2022-12-27T09:18:29.165Z"
   },
   {
    "duration": 11,
    "start_time": "2022-12-27T09:18:33.917Z"
   },
   {
    "duration": 58,
    "start_time": "2022-12-27T09:18:40.515Z"
   },
   {
    "duration": 45,
    "start_time": "2022-12-27T09:18:41.059Z"
   },
   {
    "duration": 627,
    "start_time": "2022-12-27T09:18:41.363Z"
   },
   {
    "duration": 15,
    "start_time": "2022-12-27T09:18:41.992Z"
   },
   {
    "duration": 27,
    "start_time": "2022-12-27T09:18:42.009Z"
   },
   {
    "duration": 5,
    "start_time": "2022-12-27T09:18:42.426Z"
   },
   {
    "duration": 4,
    "start_time": "2022-12-27T09:18:42.592Z"
   },
   {
    "duration": 13,
    "start_time": "2022-12-27T09:18:42.914Z"
   },
   {
    "duration": 9,
    "start_time": "2022-12-27T09:18:43.285Z"
   },
   {
    "duration": 7,
    "start_time": "2022-12-27T09:18:43.617Z"
   },
   {
    "duration": 6,
    "start_time": "2022-12-27T09:18:44.117Z"
   },
   {
    "duration": 5,
    "start_time": "2022-12-27T09:18:44.281Z"
   },
   {
    "duration": 10,
    "start_time": "2022-12-27T09:18:44.464Z"
   },
   {
    "duration": 7,
    "start_time": "2022-12-27T09:18:44.816Z"
   },
   {
    "duration": 14,
    "start_time": "2022-12-27T09:18:45.172Z"
   },
   {
    "duration": 14,
    "start_time": "2022-12-27T09:18:45.536Z"
   },
   {
    "duration": 15,
    "start_time": "2022-12-27T09:18:45.944Z"
   },
   {
    "duration": 6,
    "start_time": "2022-12-27T09:18:46.845Z"
   },
   {
    "duration": 12,
    "start_time": "2022-12-27T09:18:47.352Z"
   },
   {
    "duration": 8,
    "start_time": "2022-12-27T09:18:47.845Z"
   },
   {
    "duration": 17,
    "start_time": "2022-12-27T09:18:48.662Z"
   },
   {
    "duration": 312,
    "start_time": "2022-12-27T09:18:50.713Z"
   },
   {
    "duration": 12,
    "start_time": "2022-12-27T09:18:52.157Z"
   },
   {
    "duration": 263,
    "start_time": "2022-12-27T09:18:53.421Z"
   },
   {
    "duration": 15,
    "start_time": "2022-12-27T09:18:54.375Z"
   },
   {
    "duration": 13,
    "start_time": "2022-12-27T09:18:57.246Z"
   },
   {
    "duration": 224,
    "start_time": "2022-12-27T09:18:58.982Z"
   },
   {
    "duration": 288,
    "start_time": "2022-12-27T09:19:07.587Z"
   },
   {
    "duration": 255,
    "start_time": "2022-12-27T09:20:11.354Z"
   },
   {
    "duration": 191,
    "start_time": "2022-12-27T09:20:20.739Z"
   },
   {
    "duration": 208,
    "start_time": "2022-12-27T09:20:30.114Z"
   },
   {
    "duration": 203,
    "start_time": "2022-12-27T09:20:40.912Z"
   },
   {
    "duration": 225,
    "start_time": "2022-12-27T09:22:08.291Z"
   },
   {
    "duration": 212,
    "start_time": "2022-12-27T09:22:29.808Z"
   },
   {
    "duration": 25,
    "start_time": "2022-12-27T09:23:38.427Z"
   },
   {
    "duration": 1168,
    "start_time": "2022-12-27T09:44:21.286Z"
   },
   {
    "duration": 35,
    "start_time": "2022-12-27T09:44:23.959Z"
   },
   {
    "duration": 580,
    "start_time": "2022-12-27T09:44:24.223Z"
   },
   {
    "duration": 58,
    "start_time": "2022-12-27T09:44:24.804Z"
   },
   {
    "duration": 14,
    "start_time": "2022-12-27T09:44:24.864Z"
   },
   {
    "duration": 4,
    "start_time": "2022-12-27T09:44:25.342Z"
   },
   {
    "duration": 4,
    "start_time": "2022-12-27T09:44:25.520Z"
   },
   {
    "duration": 11,
    "start_time": "2022-12-27T09:44:25.858Z"
   },
   {
    "duration": 11,
    "start_time": "2022-12-27T09:44:26.190Z"
   },
   {
    "duration": 7,
    "start_time": "2022-12-27T09:44:26.576Z"
   },
   {
    "duration": 6,
    "start_time": "2022-12-27T09:44:27.090Z"
   },
   {
    "duration": 5,
    "start_time": "2022-12-27T09:44:27.266Z"
   },
   {
    "duration": 10,
    "start_time": "2022-12-27T09:44:27.448Z"
   },
   {
    "duration": 7,
    "start_time": "2022-12-27T09:44:27.815Z"
   },
   {
    "duration": 14,
    "start_time": "2022-12-27T09:44:28.166Z"
   },
   {
    "duration": 18,
    "start_time": "2022-12-27T09:44:28.524Z"
   },
   {
    "duration": 9,
    "start_time": "2022-12-27T09:44:28.870Z"
   },
   {
    "duration": 13,
    "start_time": "2022-12-27T09:44:29.429Z"
   },
   {
    "duration": 11,
    "start_time": "2022-12-27T09:44:29.765Z"
   },
   {
    "duration": 6,
    "start_time": "2022-12-27T09:44:30.150Z"
   },
   {
    "duration": 17,
    "start_time": "2022-12-27T09:44:30.500Z"
   },
   {
    "duration": 308,
    "start_time": "2022-12-27T09:44:31.714Z"
   },
   {
    "duration": 13,
    "start_time": "2022-12-27T09:44:32.692Z"
   },
   {
    "duration": 289,
    "start_time": "2022-12-27T09:44:33.246Z"
   },
   {
    "duration": 18,
    "start_time": "2022-12-27T09:44:33.537Z"
   },
   {
    "duration": 315,
    "start_time": "2022-12-27T09:44:34.638Z"
   },
   {
    "duration": 242,
    "start_time": "2022-12-27T09:44:40.483Z"
   },
   {
    "duration": 250,
    "start_time": "2022-12-27T09:46:52.779Z"
   },
   {
    "duration": 55,
    "start_time": "2022-12-27T10:48:24.610Z"
   },
   {
    "duration": 35,
    "start_time": "2022-12-27T10:48:26.879Z"
   },
   {
    "duration": 530,
    "start_time": "2022-12-27T10:48:27.155Z"
   },
   {
    "duration": 14,
    "start_time": "2022-12-27T10:48:27.687Z"
   },
   {
    "duration": 25,
    "start_time": "2022-12-27T10:48:27.702Z"
   },
   {
    "duration": 5,
    "start_time": "2022-12-27T10:48:28.399Z"
   },
   {
    "duration": 3,
    "start_time": "2022-12-27T10:48:28.584Z"
   },
   {
    "duration": 11,
    "start_time": "2022-12-27T10:48:28.937Z"
   },
   {
    "duration": 8,
    "start_time": "2022-12-27T10:48:29.247Z"
   },
   {
    "duration": 6,
    "start_time": "2022-12-27T10:48:29.588Z"
   },
   {
    "duration": 6,
    "start_time": "2022-12-27T10:48:30.095Z"
   },
   {
    "duration": 4,
    "start_time": "2022-12-27T10:48:30.265Z"
   },
   {
    "duration": 9,
    "start_time": "2022-12-27T10:48:30.440Z"
   },
   {
    "duration": 7,
    "start_time": "2022-12-27T10:48:30.783Z"
   },
   {
    "duration": 11,
    "start_time": "2022-12-27T10:48:31.139Z"
   },
   {
    "duration": 10,
    "start_time": "2022-12-27T10:48:31.515Z"
   },
   {
    "duration": 8,
    "start_time": "2022-12-27T10:48:31.905Z"
   },
   {
    "duration": 7,
    "start_time": "2022-12-27T10:48:32.451Z"
   },
   {
    "duration": 11,
    "start_time": "2022-12-27T10:48:32.842Z"
   },
   {
    "duration": 6,
    "start_time": "2022-12-27T10:48:33.198Z"
   },
   {
    "duration": 15,
    "start_time": "2022-12-27T10:48:33.587Z"
   },
   {
    "duration": 341,
    "start_time": "2022-12-27T10:48:35.303Z"
   },
   {
    "duration": 12,
    "start_time": "2022-12-27T10:48:36.367Z"
   },
   {
    "duration": 244,
    "start_time": "2022-12-27T10:48:36.883Z"
   },
   {
    "duration": 16,
    "start_time": "2022-12-27T10:48:37.129Z"
   },
   {
    "duration": 229,
    "start_time": "2022-12-27T10:48:37.851Z"
   },
   {
    "duration": 8,
    "start_time": "2022-12-27T10:53:13.491Z"
   },
   {
    "duration": 109,
    "start_time": "2022-12-27T10:53:19.484Z"
   },
   {
    "duration": 8,
    "start_time": "2022-12-27T10:53:49.018Z"
   },
   {
    "duration": 7,
    "start_time": "2022-12-27T10:54:22.274Z"
   },
   {
    "duration": 315,
    "start_time": "2022-12-27T11:04:49.975Z"
   },
   {
    "duration": 61,
    "start_time": "2022-12-27T11:05:08.438Z"
   },
   {
    "duration": 8,
    "start_time": "2022-12-27T11:05:17.056Z"
   },
   {
    "duration": 1164,
    "start_time": "2022-12-27T11:05:31.815Z"
   },
   {
    "duration": 41,
    "start_time": "2022-12-27T11:05:35.004Z"
   },
   {
    "duration": 679,
    "start_time": "2022-12-27T11:05:35.277Z"
   },
   {
    "duration": 46,
    "start_time": "2022-12-27T11:05:35.958Z"
   },
   {
    "duration": 36,
    "start_time": "2022-12-27T11:05:36.006Z"
   },
   {
    "duration": 4,
    "start_time": "2022-12-27T11:05:36.346Z"
   },
   {
    "duration": 4,
    "start_time": "2022-12-27T11:05:36.508Z"
   },
   {
    "duration": 12,
    "start_time": "2022-12-27T11:05:36.840Z"
   },
   {
    "duration": 9,
    "start_time": "2022-12-27T11:05:37.161Z"
   },
   {
    "duration": 7,
    "start_time": "2022-12-27T11:05:37.505Z"
   },
   {
    "duration": 6,
    "start_time": "2022-12-27T11:05:38.013Z"
   },
   {
    "duration": 5,
    "start_time": "2022-12-27T11:05:38.198Z"
   },
   {
    "duration": 10,
    "start_time": "2022-12-27T11:05:38.385Z"
   },
   {
    "duration": 7,
    "start_time": "2022-12-27T11:05:38.761Z"
   },
   {
    "duration": 12,
    "start_time": "2022-12-27T11:05:39.113Z"
   },
   {
    "duration": 9,
    "start_time": "2022-12-27T11:05:39.538Z"
   },
   {
    "duration": 9,
    "start_time": "2022-12-27T11:05:40.005Z"
   },
   {
    "duration": 6,
    "start_time": "2022-12-27T11:05:40.673Z"
   },
   {
    "duration": 11,
    "start_time": "2022-12-27T11:05:41.105Z"
   },
   {
    "duration": 7,
    "start_time": "2022-12-27T11:05:41.549Z"
   },
   {
    "duration": 15,
    "start_time": "2022-12-27T11:05:41.986Z"
   },
   {
    "duration": 317,
    "start_time": "2022-12-27T11:05:43.490Z"
   },
   {
    "duration": 13,
    "start_time": "2022-12-27T11:05:44.398Z"
   },
   {
    "duration": 253,
    "start_time": "2022-12-27T11:05:44.899Z"
   },
   {
    "duration": 15,
    "start_time": "2022-12-27T11:05:45.153Z"
   },
   {
    "duration": 335,
    "start_time": "2022-12-27T11:05:46.466Z"
   },
   {
    "duration": 9,
    "start_time": "2022-12-27T11:05:49.298Z"
   },
   {
    "duration": 361,
    "start_time": "2022-12-27T11:05:50.962Z"
   },
   {
    "duration": 95,
    "start_time": "2022-12-27T11:05:56.596Z"
   },
   {
    "duration": 7,
    "start_time": "2022-12-27T11:06:01.438Z"
   },
   {
    "duration": 311,
    "start_time": "2022-12-27T11:06:04.308Z"
   },
   {
    "duration": 1169,
    "start_time": "2022-12-27T11:17:36.220Z"
   },
   {
    "duration": 40,
    "start_time": "2022-12-27T11:17:38.390Z"
   },
   {
    "duration": 557,
    "start_time": "2022-12-27T11:17:38.667Z"
   },
   {
    "duration": 46,
    "start_time": "2022-12-27T11:17:39.227Z"
   },
   {
    "duration": 24,
    "start_time": "2022-12-27T11:17:39.274Z"
   },
   {
    "duration": 5,
    "start_time": "2022-12-27T11:17:39.775Z"
   },
   {
    "duration": 4,
    "start_time": "2022-12-27T11:17:39.951Z"
   },
   {
    "duration": 12,
    "start_time": "2022-12-27T11:17:40.438Z"
   },
   {
    "duration": 9,
    "start_time": "2022-12-27T11:17:40.723Z"
   },
   {
    "duration": 7,
    "start_time": "2022-12-27T11:17:41.120Z"
   },
   {
    "duration": 6,
    "start_time": "2022-12-27T11:17:41.755Z"
   },
   {
    "duration": 5,
    "start_time": "2022-12-27T11:17:41.950Z"
   },
   {
    "duration": 10,
    "start_time": "2022-12-27T11:17:42.138Z"
   },
   {
    "duration": 7,
    "start_time": "2022-12-27T11:17:42.511Z"
   },
   {
    "duration": 12,
    "start_time": "2022-12-27T11:17:42.799Z"
   },
   {
    "duration": 10,
    "start_time": "2022-12-27T11:17:43.269Z"
   },
   {
    "duration": 10,
    "start_time": "2022-12-27T11:17:43.610Z"
   },
   {
    "duration": 7,
    "start_time": "2022-12-27T11:17:44.033Z"
   },
   {
    "duration": 11,
    "start_time": "2022-12-27T11:17:44.388Z"
   },
   {
    "duration": 6,
    "start_time": "2022-12-27T11:17:44.750Z"
   },
   {
    "duration": 16,
    "start_time": "2022-12-27T11:17:45.116Z"
   },
   {
    "duration": 293,
    "start_time": "2022-12-27T11:17:45.863Z"
   },
   {
    "duration": 12,
    "start_time": "2022-12-27T11:17:46.633Z"
   },
   {
    "duration": 242,
    "start_time": "2022-12-27T11:17:47.084Z"
   },
   {
    "duration": 15,
    "start_time": "2022-12-27T11:17:47.339Z"
   },
   {
    "duration": 321,
    "start_time": "2022-12-27T11:17:48.144Z"
   },
   {
    "duration": 8,
    "start_time": "2022-12-27T11:17:49.559Z"
   },
   {
    "duration": 301,
    "start_time": "2022-12-27T11:17:50.588Z"
   },
   {
    "duration": 7,
    "start_time": "2022-12-27T11:21:22.642Z"
   },
   {
    "duration": 298,
    "start_time": "2022-12-27T11:21:24.308Z"
   },
   {
    "duration": 8,
    "start_time": "2022-12-27T11:21:54.635Z"
   },
   {
    "duration": 289,
    "start_time": "2022-12-27T11:22:16.436Z"
   },
   {
    "duration": 9,
    "start_time": "2022-12-27T11:22:42.762Z"
   },
   {
    "duration": 293,
    "start_time": "2022-12-27T11:22:45.064Z"
   },
   {
    "duration": 7,
    "start_time": "2022-12-27T11:23:42.356Z"
   },
   {
    "duration": 287,
    "start_time": "2022-12-27T11:23:44.063Z"
   },
   {
    "duration": 101,
    "start_time": "2022-12-27T11:36:59.719Z"
   },
   {
    "duration": 16,
    "start_time": "2022-12-27T11:37:11.988Z"
   },
   {
    "duration": 11,
    "start_time": "2022-12-27T11:37:14.902Z"
   },
   {
    "duration": 1188,
    "start_time": "2022-12-27T11:37:27.398Z"
   },
   {
    "duration": 39,
    "start_time": "2022-12-27T11:37:29.513Z"
   },
   {
    "duration": 591,
    "start_time": "2022-12-27T11:37:29.795Z"
   },
   {
    "duration": 74,
    "start_time": "2022-12-27T11:37:30.388Z"
   },
   {
    "duration": 24,
    "start_time": "2022-12-27T11:37:30.465Z"
   },
   {
    "duration": 4,
    "start_time": "2022-12-27T11:37:30.961Z"
   },
   {
    "duration": 4,
    "start_time": "2022-12-27T11:37:31.137Z"
   },
   {
    "duration": 12,
    "start_time": "2022-12-27T11:37:31.509Z"
   },
   {
    "duration": 10,
    "start_time": "2022-12-27T11:37:32.004Z"
   },
   {
    "duration": 7,
    "start_time": "2022-12-27T11:37:32.249Z"
   },
   {
    "duration": 6,
    "start_time": "2022-12-27T11:37:32.789Z"
   },
   {
    "duration": 6,
    "start_time": "2022-12-27T11:37:32.963Z"
   },
   {
    "duration": 10,
    "start_time": "2022-12-27T11:37:33.169Z"
   },
   {
    "duration": 7,
    "start_time": "2022-12-27T11:37:33.545Z"
   },
   {
    "duration": 16,
    "start_time": "2022-12-27T11:37:33.909Z"
   },
   {
    "duration": 12,
    "start_time": "2022-12-27T11:37:34.264Z"
   },
   {
    "duration": 10,
    "start_time": "2022-12-27T11:37:34.624Z"
   },
   {
    "duration": 7,
    "start_time": "2022-12-27T11:37:35.164Z"
   },
   {
    "duration": 13,
    "start_time": "2022-12-27T11:37:35.521Z"
   },
   {
    "duration": 8,
    "start_time": "2022-12-27T11:37:35.864Z"
   },
   {
    "duration": 16,
    "start_time": "2022-12-27T11:37:36.235Z"
   },
   {
    "duration": 375,
    "start_time": "2022-12-27T11:37:37.021Z"
   },
   {
    "duration": 13,
    "start_time": "2022-12-27T11:37:37.629Z"
   },
   {
    "duration": 267,
    "start_time": "2022-12-27T11:37:38.026Z"
   },
   {
    "duration": 15,
    "start_time": "2022-12-27T11:37:38.295Z"
   },
   {
    "duration": 348,
    "start_time": "2022-12-27T11:37:39.249Z"
   },
   {
    "duration": 11,
    "start_time": "2022-12-27T11:37:41.341Z"
   },
   {
    "duration": 290,
    "start_time": "2022-12-27T11:37:44.679Z"
   },
   {
    "duration": 108,
    "start_time": "2022-12-27T11:37:52.941Z"
   },
   {
    "duration": 14,
    "start_time": "2022-12-27T11:38:06.894Z"
   },
   {
    "duration": 15,
    "start_time": "2022-12-27T11:38:20.468Z"
   },
   {
    "duration": 16,
    "start_time": "2022-12-27T11:38:41.996Z"
   },
   {
    "duration": 10,
    "start_time": "2022-12-27T11:38:48.340Z"
   },
   {
    "duration": 10,
    "start_time": "2022-12-27T11:38:52.977Z"
   },
   {
    "duration": 237,
    "start_time": "2022-12-27T11:38:58.941Z"
   },
   {
    "duration": 8,
    "start_time": "2022-12-27T11:39:01.663Z"
   },
   {
    "duration": 307,
    "start_time": "2022-12-27T11:39:03.269Z"
   },
   {
    "duration": 15,
    "start_time": "2022-12-27T11:39:06.493Z"
   },
   {
    "duration": 14,
    "start_time": "2022-12-27T11:39:31.524Z"
   },
   {
    "duration": 13,
    "start_time": "2022-12-27T11:40:00.331Z"
   },
   {
    "duration": 12,
    "start_time": "2022-12-27T11:40:14.814Z"
   },
   {
    "duration": 11,
    "start_time": "2022-12-27T11:40:21.693Z"
   },
   {
    "duration": 11,
    "start_time": "2022-12-27T11:40:23.696Z"
   },
   {
    "duration": 12,
    "start_time": "2022-12-27T11:40:30.379Z"
   },
   {
    "duration": 79,
    "start_time": "2022-12-27T11:40:36.762Z"
   },
   {
    "duration": 38,
    "start_time": "2022-12-27T11:40:37.886Z"
   },
   {
    "duration": 570,
    "start_time": "2022-12-27T11:40:38.168Z"
   },
   {
    "duration": 15,
    "start_time": "2022-12-27T11:40:38.740Z"
   },
   {
    "duration": 13,
    "start_time": "2022-12-27T11:40:38.757Z"
   },
   {
    "duration": 5,
    "start_time": "2022-12-27T11:40:39.340Z"
   },
   {
    "duration": 4,
    "start_time": "2022-12-27T11:40:39.528Z"
   },
   {
    "duration": 11,
    "start_time": "2022-12-27T11:40:39.865Z"
   },
   {
    "duration": 10,
    "start_time": "2022-12-27T11:40:40.229Z"
   },
   {
    "duration": 7,
    "start_time": "2022-12-27T11:40:40.649Z"
   },
   {
    "duration": 6,
    "start_time": "2022-12-27T11:40:41.229Z"
   },
   {
    "duration": 5,
    "start_time": "2022-12-27T11:40:41.413Z"
   },
   {
    "duration": 13,
    "start_time": "2022-12-27T11:40:41.612Z"
   },
   {
    "duration": 8,
    "start_time": "2022-12-27T11:40:41.968Z"
   },
   {
    "duration": 14,
    "start_time": "2022-12-27T11:40:42.304Z"
   },
   {
    "duration": 11,
    "start_time": "2022-12-27T11:40:42.649Z"
   },
   {
    "duration": 26,
    "start_time": "2022-12-27T11:40:43.005Z"
   },
   {
    "duration": 9,
    "start_time": "2022-12-27T11:40:43.516Z"
   },
   {
    "duration": 12,
    "start_time": "2022-12-27T11:40:43.864Z"
   },
   {
    "duration": 7,
    "start_time": "2022-12-27T11:40:44.206Z"
   },
   {
    "duration": 17,
    "start_time": "2022-12-27T11:40:44.551Z"
   },
   {
    "duration": 336,
    "start_time": "2022-12-27T11:40:45.265Z"
   },
   {
    "duration": 19,
    "start_time": "2022-12-27T11:40:45.813Z"
   },
   {
    "duration": 268,
    "start_time": "2022-12-27T11:40:46.180Z"
   },
   {
    "duration": 16,
    "start_time": "2022-12-27T11:40:46.450Z"
   },
   {
    "duration": 348,
    "start_time": "2022-12-27T11:40:46.917Z"
   },
   {
    "duration": 9,
    "start_time": "2022-12-27T11:40:47.609Z"
   },
   {
    "duration": 291,
    "start_time": "2022-12-27T11:40:48.053Z"
   },
   {
    "duration": 10,
    "start_time": "2022-12-27T11:40:49.093Z"
   },
   {
    "duration": 13,
    "start_time": "2022-12-27T11:41:10.769Z"
   },
   {
    "duration": 231,
    "start_time": "2022-12-27T11:41:39.252Z"
   },
   {
    "duration": 203,
    "start_time": "2022-12-27T11:42:02.546Z"
   },
   {
    "duration": 232,
    "start_time": "2022-12-27T11:42:26.455Z"
   },
   {
    "duration": 206,
    "start_time": "2022-12-27T11:42:37.374Z"
   },
   {
    "duration": 351,
    "start_time": "2022-12-27T11:42:45.255Z"
   },
   {
    "duration": 14,
    "start_time": "2022-12-27T12:00:52.355Z"
   },
   {
    "duration": 8,
    "start_time": "2022-12-27T12:02:27.502Z"
   },
   {
    "duration": 17,
    "start_time": "2022-12-27T12:02:35.646Z"
   },
   {
    "duration": 28,
    "start_time": "2022-12-27T12:02:51.599Z"
   },
   {
    "duration": 12278,
    "start_time": "2022-12-27T12:04:18.800Z"
   },
   {
    "duration": 12159,
    "start_time": "2022-12-27T12:04:45.353Z"
   },
   {
    "duration": 24,
    "start_time": "2022-12-27T12:04:57.514Z"
   },
   {
    "duration": 42,
    "start_time": "2022-12-27T12:04:57.541Z"
   },
   {
    "duration": 1105,
    "start_time": "2022-12-27T12:05:07.186Z"
   },
   {
    "duration": 35,
    "start_time": "2022-12-27T12:05:09.182Z"
   },
   {
    "duration": 593,
    "start_time": "2022-12-27T12:05:09.481Z"
   },
   {
    "duration": 60,
    "start_time": "2022-12-27T12:05:10.076Z"
   },
   {
    "duration": 17,
    "start_time": "2022-12-27T12:05:10.138Z"
   },
   {
    "duration": 6,
    "start_time": "2022-12-27T12:05:10.621Z"
   },
   {
    "duration": 4,
    "start_time": "2022-12-27T12:05:10.797Z"
   },
   {
    "duration": 15,
    "start_time": "2022-12-27T12:05:11.157Z"
   },
   {
    "duration": 15,
    "start_time": "2022-12-27T12:05:11.521Z"
   },
   {
    "duration": 7,
    "start_time": "2022-12-27T12:05:11.875Z"
   },
   {
    "duration": 8,
    "start_time": "2022-12-27T12:05:12.421Z"
   },
   {
    "duration": 5,
    "start_time": "2022-12-27T12:05:12.596Z"
   },
   {
    "duration": 11,
    "start_time": "2022-12-27T12:05:12.782Z"
   },
   {
    "duration": 7,
    "start_time": "2022-12-27T12:05:13.104Z"
   },
   {
    "duration": 13,
    "start_time": "2022-12-27T12:05:13.456Z"
   },
   {
    "duration": 14,
    "start_time": "2022-12-27T12:05:13.836Z"
   },
   {
    "duration": 10,
    "start_time": "2022-12-27T12:05:14.196Z"
   },
   {
    "duration": 7,
    "start_time": "2022-12-27T12:05:14.740Z"
   },
   {
    "duration": 20,
    "start_time": "2022-12-27T12:05:15.121Z"
   },
   {
    "duration": 8,
    "start_time": "2022-12-27T12:05:15.485Z"
   },
   {
    "duration": 16,
    "start_time": "2022-12-27T12:05:15.859Z"
   },
   {
    "duration": 322,
    "start_time": "2022-12-27T12:05:16.845Z"
   },
   {
    "duration": 23,
    "start_time": "2022-12-27T12:05:17.618Z"
   },
   {
    "duration": 262,
    "start_time": "2022-12-27T12:05:18.109Z"
   },
   {
    "duration": 15,
    "start_time": "2022-12-27T12:05:18.373Z"
   },
   {
    "duration": 387,
    "start_time": "2022-12-27T12:05:19.054Z"
   },
   {
    "duration": 13,
    "start_time": "2022-12-27T12:05:20.126Z"
   },
   {
    "duration": 309,
    "start_time": "2022-12-27T12:05:20.665Z"
   },
   {
    "duration": 217,
    "start_time": "2022-12-27T12:05:22.101Z"
   },
   {
    "duration": 11,
    "start_time": "2022-12-27T12:05:24.981Z"
   },
   {
    "duration": 9,
    "start_time": "2022-12-27T12:05:25.665Z"
   },
   {
    "duration": 11297,
    "start_time": "2022-12-27T12:05:26.282Z"
   },
   {
    "duration": 12,
    "start_time": "2022-12-27T12:07:29.585Z"
   },
   {
    "duration": 144,
    "start_time": "2022-12-27T12:07:39.617Z"
   },
   {
    "duration": 143,
    "start_time": "2022-12-27T12:07:44.243Z"
   },
   {
    "duration": 102,
    "start_time": "2022-12-27T12:09:36.335Z"
   },
   {
    "duration": 13,
    "start_time": "2022-12-27T12:09:57.668Z"
   },
   {
    "duration": 20,
    "start_time": "2022-12-27T12:10:16.092Z"
   },
   {
    "duration": 84,
    "start_time": "2022-12-27T12:10:40.913Z"
   },
   {
    "duration": 8,
    "start_time": "2022-12-27T12:11:05.282Z"
   },
   {
    "duration": 90,
    "start_time": "2022-12-27T12:12:46.259Z"
   },
   {
    "duration": 11,
    "start_time": "2022-12-27T12:13:14.992Z"
   },
   {
    "duration": 6,
    "start_time": "2022-12-27T12:13:29.900Z"
   },
   {
    "duration": 7,
    "start_time": "2022-12-27T12:14:32.264Z"
   },
   {
    "duration": 7,
    "start_time": "2022-12-27T12:14:49.559Z"
   },
   {
    "duration": 97,
    "start_time": "2022-12-27T12:15:04.702Z"
   },
   {
    "duration": 70,
    "start_time": "2022-12-27T12:15:09.245Z"
   },
   {
    "duration": 79,
    "start_time": "2022-12-27T12:15:13.343Z"
   },
   {
    "duration": 6,
    "start_time": "2022-12-27T12:15:24.666Z"
   },
   {
    "duration": 9,
    "start_time": "2022-12-27T12:15:56.051Z"
   },
   {
    "duration": 12,
    "start_time": "2022-12-27T12:16:27.421Z"
   },
   {
    "duration": 143,
    "start_time": "2022-12-27T12:17:36.912Z"
   },
   {
    "duration": 151,
    "start_time": "2022-12-27T12:17:49.916Z"
   },
   {
    "duration": 262,
    "start_time": "2022-12-27T12:18:39.181Z"
   },
   {
    "duration": 7,
    "start_time": "2022-12-27T12:20:16.966Z"
   },
   {
    "duration": 10,
    "start_time": "2022-12-27T12:21:03.128Z"
   },
   {
    "duration": 8,
    "start_time": "2022-12-27T12:21:19.867Z"
   },
   {
    "duration": 12,
    "start_time": "2022-12-27T12:25:58.861Z"
   },
   {
    "duration": 10,
    "start_time": "2022-12-27T12:29:00.180Z"
   },
   {
    "duration": 34,
    "start_time": "2022-12-27T12:30:17.917Z"
   },
   {
    "duration": 729,
    "start_time": "2022-12-27T12:30:34.210Z"
   },
   {
    "duration": 6,
    "start_time": "2022-12-27T12:30:48.154Z"
   },
   {
    "duration": 23,
    "start_time": "2022-12-27T12:30:54.038Z"
   },
   {
    "duration": 28,
    "start_time": "2022-12-27T12:32:01.535Z"
   },
   {
    "duration": 9,
    "start_time": "2022-12-27T12:32:37.059Z"
   },
   {
    "duration": 15,
    "start_time": "2022-12-27T12:33:22.163Z"
   },
   {
    "duration": 12,
    "start_time": "2022-12-27T12:33:36.248Z"
   },
   {
    "duration": 21,
    "start_time": "2022-12-27T12:33:37.633Z"
   },
   {
    "duration": 14,
    "start_time": "2022-12-27T12:33:56.051Z"
   },
   {
    "duration": 12,
    "start_time": "2022-12-27T12:35:55.453Z"
   },
   {
    "duration": 11,
    "start_time": "2022-12-27T12:37:08.568Z"
   },
   {
    "duration": 13,
    "start_time": "2022-12-27T12:40:25.334Z"
   },
   {
    "duration": 248,
    "start_time": "2022-12-27T12:41:44.698Z"
   },
   {
    "duration": 265,
    "start_time": "2022-12-27T12:42:17.858Z"
   },
   {
    "duration": 262,
    "start_time": "2022-12-27T12:42:33.767Z"
   },
   {
    "duration": 5,
    "start_time": "2022-12-27T12:42:54.704Z"
   },
   {
    "duration": 440,
    "start_time": "2022-12-27T12:43:01.655Z"
   },
   {
    "duration": 9,
    "start_time": "2022-12-27T12:43:03.897Z"
   },
   {
    "duration": 15,
    "start_time": "2022-12-27T12:43:05.652Z"
   },
   {
    "duration": 14,
    "start_time": "2022-12-27T12:43:28.220Z"
   },
   {
    "duration": 26,
    "start_time": "2022-12-27T12:43:47.335Z"
   },
   {
    "duration": 27,
    "start_time": "2022-12-27T12:43:55.367Z"
   },
   {
    "duration": 31,
    "start_time": "2022-12-27T12:44:02.256Z"
   },
   {
    "duration": 28,
    "start_time": "2022-12-27T12:44:17.133Z"
   },
   {
    "duration": 43,
    "start_time": "2022-12-27T12:44:45.613Z"
   },
   {
    "duration": 119,
    "start_time": "2022-12-27T12:44:51.853Z"
   },
   {
    "duration": 28,
    "start_time": "2022-12-27T12:44:55.705Z"
   },
   {
    "duration": 12,
    "start_time": "2022-12-27T12:45:05.720Z"
   },
   {
    "duration": 27,
    "start_time": "2022-12-27T12:45:17.218Z"
   },
   {
    "duration": 29,
    "start_time": "2022-12-27T12:45:29.626Z"
   },
   {
    "duration": 253,
    "start_time": "2022-12-27T12:45:53.564Z"
   },
   {
    "duration": 287,
    "start_time": "2022-12-27T12:46:54.887Z"
   },
   {
    "duration": 330,
    "start_time": "2022-12-27T12:47:01.667Z"
   },
   {
    "duration": 726,
    "start_time": "2022-12-27T12:47:13.126Z"
   },
   {
    "duration": 10,
    "start_time": "2022-12-27T12:47:38.253Z"
   },
   {
    "duration": 319,
    "start_time": "2022-12-27T12:47:41.315Z"
   },
   {
    "duration": 10,
    "start_time": "2022-12-27T12:47:47.122Z"
   },
   {
    "duration": 1243,
    "start_time": "2022-12-27T12:48:01.939Z"
   },
   {
    "duration": 37,
    "start_time": "2022-12-27T12:48:05.406Z"
   },
   {
    "duration": 633,
    "start_time": "2022-12-27T12:48:06.629Z"
   },
   {
    "duration": 54,
    "start_time": "2022-12-27T12:48:13.849Z"
   },
   {
    "duration": 15,
    "start_time": "2022-12-27T12:48:15.321Z"
   },
   {
    "duration": 5,
    "start_time": "2022-12-27T12:48:17.090Z"
   },
   {
    "duration": 4,
    "start_time": "2022-12-27T12:48:17.706Z"
   },
   {
    "duration": 12,
    "start_time": "2022-12-27T12:48:18.458Z"
   },
   {
    "duration": 10,
    "start_time": "2022-12-27T12:48:19.394Z"
   },
   {
    "duration": 8,
    "start_time": "2022-12-27T12:48:21.481Z"
   },
   {
    "duration": 6,
    "start_time": "2022-12-27T12:48:26.746Z"
   },
   {
    "duration": 5,
    "start_time": "2022-12-27T12:48:27.374Z"
   },
   {
    "duration": 9,
    "start_time": "2022-12-27T12:48:27.786Z"
   },
   {
    "duration": 7,
    "start_time": "2022-12-27T12:48:29.703Z"
   },
   {
    "duration": 13,
    "start_time": "2022-12-27T12:48:30.970Z"
   },
   {
    "duration": 13,
    "start_time": "2022-12-27T12:48:33.669Z"
   },
   {
    "duration": 13,
    "start_time": "2022-12-27T12:48:34.695Z"
   },
   {
    "duration": 7,
    "start_time": "2022-12-27T12:48:36.823Z"
   },
   {
    "duration": 11,
    "start_time": "2022-12-27T12:48:37.234Z"
   },
   {
    "duration": 7,
    "start_time": "2022-12-27T12:48:39.359Z"
   },
   {
    "duration": 318,
    "start_time": "2022-12-27T12:48:46.248Z"
   },
   {
    "duration": 97,
    "start_time": "2022-12-27T12:49:02.179Z"
   },
   {
    "duration": 12,
    "start_time": "2022-12-27T12:49:08.488Z"
   },
   {
    "duration": 1113,
    "start_time": "2022-12-27T12:49:17.521Z"
   },
   {
    "duration": 1166,
    "start_time": "2022-12-27T12:49:40.548Z"
   },
   {
    "duration": 39,
    "start_time": "2022-12-27T12:49:41.716Z"
   },
   {
    "duration": 593,
    "start_time": "2022-12-27T12:49:41.757Z"
   },
   {
    "duration": 46,
    "start_time": "2022-12-27T12:49:42.352Z"
   },
   {
    "duration": 29,
    "start_time": "2022-12-27T12:49:42.400Z"
   },
   {
    "duration": 5,
    "start_time": "2022-12-27T12:49:42.431Z"
   },
   {
    "duration": 27,
    "start_time": "2022-12-27T12:49:42.437Z"
   },
   {
    "duration": 19,
    "start_time": "2022-12-27T12:49:42.466Z"
   },
   {
    "duration": 14,
    "start_time": "2022-12-27T12:49:42.487Z"
   },
   {
    "duration": 8,
    "start_time": "2022-12-27T12:49:42.503Z"
   },
   {
    "duration": 5,
    "start_time": "2022-12-27T12:49:42.513Z"
   },
   {
    "duration": 10,
    "start_time": "2022-12-27T12:49:42.519Z"
   },
   {
    "duration": 12,
    "start_time": "2022-12-27T12:49:42.530Z"
   },
   {
    "duration": 11,
    "start_time": "2022-12-27T12:49:42.544Z"
   },
   {
    "duration": 22,
    "start_time": "2022-12-27T12:49:42.557Z"
   },
   {
    "duration": 10,
    "start_time": "2022-12-27T12:49:42.580Z"
   },
   {
    "duration": 9,
    "start_time": "2022-12-27T12:49:42.591Z"
   },
   {
    "duration": 27,
    "start_time": "2022-12-27T12:49:42.602Z"
   },
   {
    "duration": 12,
    "start_time": "2022-12-27T12:49:42.631Z"
   },
   {
    "duration": 8,
    "start_time": "2022-12-27T12:49:42.645Z"
   },
   {
    "duration": 17,
    "start_time": "2022-12-27T12:49:42.654Z"
   },
   {
    "duration": 357,
    "start_time": "2022-12-27T12:49:42.673Z"
   },
   {
    "duration": 303,
    "start_time": "2022-12-27T12:49:43.032Z"
   },
   {
    "duration": 16,
    "start_time": "2022-12-27T12:49:43.336Z"
   },
   {
    "duration": 364,
    "start_time": "2022-12-27T12:49:43.353Z"
   },
   {
    "duration": 8,
    "start_time": "2022-12-27T12:49:43.719Z"
   },
   {
    "duration": 278,
    "start_time": "2022-12-27T12:49:43.728Z"
   },
   {
    "duration": 213,
    "start_time": "2022-12-27T12:49:44.009Z"
   },
   {
    "duration": 90,
    "start_time": "2022-12-27T12:49:44.226Z"
   },
   {
    "duration": 0,
    "start_time": "2022-12-27T12:49:44.318Z"
   },
   {
    "duration": 0,
    "start_time": "2022-12-27T12:49:44.325Z"
   },
   {
    "duration": 0,
    "start_time": "2022-12-27T12:49:44.327Z"
   },
   {
    "duration": 9,
    "start_time": "2022-12-27T12:50:16.256Z"
   },
   {
    "duration": 268,
    "start_time": "2022-12-27T12:50:23.101Z"
   },
   {
    "duration": 11,
    "start_time": "2022-12-27T12:50:26.704Z"
   },
   {
    "duration": 14,
    "start_time": "2022-12-27T12:50:28.192Z"
   },
   {
    "duration": 13,
    "start_time": "2022-12-27T12:52:21.960Z"
   },
   {
    "duration": 7,
    "start_time": "2022-12-27T12:52:28.142Z"
   },
   {
    "duration": 285,
    "start_time": "2022-12-27T12:52:30.018Z"
   },
   {
    "duration": 209,
    "start_time": "2022-12-27T12:52:35.606Z"
   },
   {
    "duration": 206,
    "start_time": "2022-12-27T12:52:44.311Z"
   },
   {
    "duration": 110,
    "start_time": "2022-12-27T12:53:03.453Z"
   },
   {
    "duration": 17,
    "start_time": "2022-12-27T12:53:23.994Z"
   },
   {
    "duration": 291,
    "start_time": "2022-12-27T12:54:52.961Z"
   },
   {
    "duration": 161,
    "start_time": "2022-12-27T12:55:03.190Z"
   },
   {
    "duration": 181,
    "start_time": "2022-12-27T12:55:10.910Z"
   },
   {
    "duration": 149,
    "start_time": "2022-12-27T12:55:16.162Z"
   },
   {
    "duration": 116,
    "start_time": "2022-12-27T12:59:29.102Z"
   },
   {
    "duration": 150,
    "start_time": "2022-12-27T12:59:43.601Z"
   },
   {
    "duration": 79,
    "start_time": "2022-12-27T13:00:49.880Z"
   },
   {
    "duration": 164,
    "start_time": "2022-12-27T13:00:56.505Z"
   },
   {
    "duration": 164,
    "start_time": "2022-12-27T13:01:07.520Z"
   },
   {
    "duration": 164,
    "start_time": "2022-12-27T13:01:19.956Z"
   },
   {
    "duration": 324,
    "start_time": "2022-12-27T13:02:41.662Z"
   },
   {
    "duration": 314,
    "start_time": "2022-12-27T13:02:49.193Z"
   },
   {
    "duration": 377,
    "start_time": "2022-12-27T13:03:02.867Z"
   },
   {
    "duration": 272,
    "start_time": "2022-12-27T13:03:09.297Z"
   },
   {
    "duration": 297,
    "start_time": "2022-12-27T13:03:16.728Z"
   },
   {
    "duration": 77,
    "start_time": "2022-12-27T13:07:13.523Z"
   },
   {
    "duration": 346,
    "start_time": "2022-12-27T13:07:21.402Z"
   },
   {
    "duration": 265,
    "start_time": "2022-12-27T13:07:59.449Z"
   },
   {
    "duration": 313,
    "start_time": "2022-12-27T13:08:08.358Z"
   },
   {
    "duration": 306,
    "start_time": "2022-12-27T13:08:16.982Z"
   },
   {
    "duration": 446,
    "start_time": "2022-12-27T13:08:21.291Z"
   },
   {
    "duration": 333,
    "start_time": "2022-12-27T13:08:25.953Z"
   },
   {
    "duration": 159,
    "start_time": "2022-12-27T13:09:04.864Z"
   },
   {
    "duration": 148,
    "start_time": "2022-12-27T13:09:30.170Z"
   },
   {
    "duration": 5,
    "start_time": "2022-12-27T13:11:08.842Z"
   },
   {
    "duration": 100,
    "start_time": "2022-12-27T13:12:07.078Z"
   },
   {
    "duration": 14,
    "start_time": "2022-12-27T13:32:43.742Z"
   },
   {
    "duration": 262,
    "start_time": "2022-12-27T13:33:32.481Z"
   },
   {
    "duration": 2216,
    "start_time": "2022-12-27T13:33:54.049Z"
   },
   {
    "duration": 2363,
    "start_time": "2022-12-27T13:34:11.807Z"
   },
   {
    "duration": 156,
    "start_time": "2022-12-27T13:34:23.577Z"
   },
   {
    "duration": 160,
    "start_time": "2022-12-27T13:34:32.079Z"
   },
   {
    "duration": 179,
    "start_time": "2022-12-27T13:34:40.734Z"
   },
   {
    "duration": 154,
    "start_time": "2022-12-27T13:35:00.415Z"
   },
   {
    "duration": 157,
    "start_time": "2022-12-27T13:35:09.230Z"
   },
   {
    "duration": 161,
    "start_time": "2022-12-27T13:35:21.904Z"
   },
   {
    "duration": 167,
    "start_time": "2022-12-27T13:36:22.876Z"
   },
   {
    "duration": 5,
    "start_time": "2022-12-27T13:37:20.461Z"
   },
   {
    "duration": 172,
    "start_time": "2022-12-27T13:38:34.480Z"
   },
   {
    "duration": 169,
    "start_time": "2022-12-27T13:38:48.086Z"
   },
   {
    "duration": 255,
    "start_time": "2022-12-27T13:39:54.632Z"
   },
   {
    "duration": 72,
    "start_time": "2022-12-27T13:41:43.796Z"
   },
   {
    "duration": 176,
    "start_time": "2022-12-27T13:41:48.436Z"
   },
   {
    "duration": 153,
    "start_time": "2022-12-27T13:42:00.978Z"
   },
   {
    "duration": 167,
    "start_time": "2022-12-27T13:42:14.146Z"
   },
   {
    "duration": 7,
    "start_time": "2022-12-27T13:51:29.783Z"
   },
   {
    "duration": 7,
    "start_time": "2022-12-27T13:53:02.963Z"
   },
   {
    "duration": 8,
    "start_time": "2022-12-27T13:53:52.407Z"
   },
   {
    "duration": 7,
    "start_time": "2022-12-27T13:54:02.192Z"
   },
   {
    "duration": 1473,
    "start_time": "2022-12-28T06:51:34.363Z"
   },
   {
    "duration": 40,
    "start_time": "2022-12-28T06:51:39.347Z"
   },
   {
    "duration": 593,
    "start_time": "2022-12-28T06:51:39.720Z"
   },
   {
    "duration": 56,
    "start_time": "2022-12-28T06:51:40.315Z"
   },
   {
    "duration": 18,
    "start_time": "2022-12-28T06:51:40.767Z"
   },
   {
    "duration": 5,
    "start_time": "2022-12-28T06:51:42.036Z"
   },
   {
    "duration": 3,
    "start_time": "2022-12-28T06:51:42.325Z"
   },
   {
    "duration": 11,
    "start_time": "2022-12-28T06:51:42.848Z"
   },
   {
    "duration": 10,
    "start_time": "2022-12-28T06:51:43.302Z"
   },
   {
    "duration": 7,
    "start_time": "2022-12-28T06:51:43.734Z"
   },
   {
    "duration": 5,
    "start_time": "2022-12-28T06:51:44.366Z"
   },
   {
    "duration": 5,
    "start_time": "2022-12-28T06:51:44.575Z"
   },
   {
    "duration": 10,
    "start_time": "2022-12-28T06:51:44.800Z"
   },
   {
    "duration": 7,
    "start_time": "2022-12-28T06:51:45.204Z"
   },
   {
    "duration": 12,
    "start_time": "2022-12-28T06:51:45.617Z"
   },
   {
    "duration": 9,
    "start_time": "2022-12-28T06:51:46.016Z"
   },
   {
    "duration": 10,
    "start_time": "2022-12-28T06:51:46.435Z"
   },
   {
    "duration": 8,
    "start_time": "2022-12-28T06:51:47.039Z"
   },
   {
    "duration": 12,
    "start_time": "2022-12-28T06:51:47.472Z"
   },
   {
    "duration": 7,
    "start_time": "2022-12-28T06:51:47.883Z"
   },
   {
    "duration": 16,
    "start_time": "2022-12-28T06:51:48.313Z"
   },
   {
    "duration": 327,
    "start_time": "2022-12-28T06:51:49.606Z"
   },
   {
    "duration": 285,
    "start_time": "2022-12-28T06:51:50.488Z"
   },
   {
    "duration": 16,
    "start_time": "2022-12-28T06:51:50.775Z"
   },
   {
    "duration": 362,
    "start_time": "2022-12-28T06:51:51.321Z"
   },
   {
    "duration": 9,
    "start_time": "2022-12-28T06:51:51.971Z"
   },
   {
    "duration": 276,
    "start_time": "2022-12-28T06:51:52.441Z"
   },
   {
    "duration": 217,
    "start_time": "2022-12-28T06:51:53.311Z"
   },
   {
    "duration": 278,
    "start_time": "2022-12-28T06:51:53.995Z"
   },
   {
    "duration": 9,
    "start_time": "2022-12-28T06:51:54.436Z"
   },
   {
    "duration": 14,
    "start_time": "2022-12-28T06:51:54.849Z"
   },
   {
    "duration": 167,
    "start_time": "2022-12-28T06:51:55.535Z"
   },
   {
    "duration": 173,
    "start_time": "2022-12-28T06:51:56.213Z"
   },
   {
    "duration": 174,
    "start_time": "2022-12-28T06:51:57.322Z"
   },
   {
    "duration": 7,
    "start_time": "2022-12-28T06:51:57.946Z"
   },
   {
    "duration": 188,
    "start_time": "2022-12-28T06:51:58.332Z"
   },
   {
    "duration": 8,
    "start_time": "2022-12-28T06:51:59.031Z"
   },
   {
    "duration": 178,
    "start_time": "2022-12-28T06:51:59.431Z"
   },
   {
    "duration": 8,
    "start_time": "2022-12-28T06:52:00.094Z"
   },
   {
    "duration": 17,
    "start_time": "2022-12-28T06:53:42.932Z"
   },
   {
    "duration": 10,
    "start_time": "2022-12-28T06:55:21.062Z"
   },
   {
    "duration": 15,
    "start_time": "2022-12-28T06:55:25.799Z"
   },
   {
    "duration": 212,
    "start_time": "2022-12-28T06:55:57.041Z"
   },
   {
    "duration": 264,
    "start_time": "2022-12-28T06:56:32.268Z"
   },
   {
    "duration": 200,
    "start_time": "2022-12-28T06:56:57.382Z"
   },
   {
    "duration": 114,
    "start_time": "2022-12-28T07:01:39.488Z"
   },
   {
    "duration": 178,
    "start_time": "2022-12-28T07:02:19.096Z"
   },
   {
    "duration": 175,
    "start_time": "2022-12-28T07:02:44.942Z"
   },
   {
    "duration": 190,
    "start_time": "2022-12-28T07:03:07.143Z"
   },
   {
    "duration": 260,
    "start_time": "2022-12-28T07:03:13.233Z"
   },
   {
    "duration": 270,
    "start_time": "2022-12-28T07:03:34.041Z"
   },
   {
    "duration": 11,
    "start_time": "2022-12-28T07:04:43.659Z"
   },
   {
    "duration": 663,
    "start_time": "2022-12-28T07:05:00.595Z"
   },
   {
    "duration": 606,
    "start_time": "2022-12-28T07:05:10.540Z"
   },
   {
    "duration": 1105,
    "start_time": "2022-12-28T07:28:07.649Z"
   },
   {
    "duration": 12,
    "start_time": "2022-12-28T07:29:40.636Z"
   },
   {
    "duration": 15,
    "start_time": "2022-12-28T07:33:21.795Z"
   },
   {
    "duration": 521,
    "start_time": "2022-12-28T07:35:09.669Z"
   },
   {
    "duration": 522,
    "start_time": "2022-12-28T07:35:23.277Z"
   },
   {
    "duration": 494,
    "start_time": "2022-12-28T07:35:29.504Z"
   },
   {
    "duration": 515,
    "start_time": "2022-12-28T07:35:35.144Z"
   },
   {
    "duration": 622,
    "start_time": "2022-12-28T07:35:46.033Z"
   },
   {
    "duration": 513,
    "start_time": "2022-12-28T07:36:10.657Z"
   },
   {
    "duration": 598,
    "start_time": "2022-12-28T07:39:01.221Z"
   },
   {
    "duration": 638,
    "start_time": "2022-12-28T07:39:23.667Z"
   },
   {
    "duration": 560,
    "start_time": "2022-12-28T07:39:32.055Z"
   },
   {
    "duration": 697,
    "start_time": "2022-12-28T07:39:46.402Z"
   },
   {
    "duration": 582,
    "start_time": "2022-12-28T07:40:02.332Z"
   },
   {
    "duration": 582,
    "start_time": "2022-12-28T07:40:16.773Z"
   },
   {
    "duration": 579,
    "start_time": "2022-12-28T07:40:24.413Z"
   },
   {
    "duration": 5,
    "start_time": "2022-12-28T07:58:02.600Z"
   },
   {
    "duration": 6,
    "start_time": "2022-12-28T07:58:21.413Z"
   },
   {
    "duration": 15,
    "start_time": "2022-12-28T08:03:46.029Z"
   },
   {
    "duration": 6,
    "start_time": "2022-12-28T08:06:14.498Z"
   },
   {
    "duration": 4,
    "start_time": "2022-12-28T08:06:25.624Z"
   },
   {
    "duration": 16,
    "start_time": "2022-12-28T08:08:15.200Z"
   },
   {
    "duration": 15,
    "start_time": "2022-12-28T08:08:30.339Z"
   },
   {
    "duration": 22,
    "start_time": "2022-12-28T08:08:42.100Z"
   },
   {
    "duration": 7,
    "start_time": "2022-12-28T08:09:27.533Z"
   },
   {
    "duration": 15,
    "start_time": "2022-12-28T08:10:32.535Z"
   },
   {
    "duration": 15,
    "start_time": "2022-12-28T08:10:41.964Z"
   },
   {
    "duration": 8,
    "start_time": "2022-12-28T08:16:36.432Z"
   },
   {
    "duration": 7,
    "start_time": "2022-12-28T08:16:57.695Z"
   },
   {
    "duration": 18,
    "start_time": "2022-12-28T08:17:07.354Z"
   },
   {
    "duration": 5,
    "start_time": "2022-12-28T08:17:16.690Z"
   },
   {
    "duration": 58,
    "start_time": "2022-12-28T08:53:21.364Z"
   },
   {
    "duration": 1135,
    "start_time": "2022-12-28T08:56:04.012Z"
   },
   {
    "duration": 1201,
    "start_time": "2022-12-28T08:56:21.501Z"
   },
   {
    "duration": 40,
    "start_time": "2022-12-28T08:56:22.703Z"
   },
   {
    "duration": 633,
    "start_time": "2022-12-28T08:56:22.744Z"
   },
   {
    "duration": 63,
    "start_time": "2022-12-28T08:56:23.380Z"
   },
   {
    "duration": 15,
    "start_time": "2022-12-28T08:56:23.445Z"
   },
   {
    "duration": 8,
    "start_time": "2022-12-28T08:56:23.462Z"
   },
   {
    "duration": 6,
    "start_time": "2022-12-28T08:56:23.472Z"
   },
   {
    "duration": 23,
    "start_time": "2022-12-28T08:56:23.479Z"
   },
   {
    "duration": 24,
    "start_time": "2022-12-28T08:56:23.504Z"
   },
   {
    "duration": 18,
    "start_time": "2022-12-28T08:56:23.530Z"
   },
   {
    "duration": 15,
    "start_time": "2022-12-28T08:56:23.550Z"
   },
   {
    "duration": 38,
    "start_time": "2022-12-28T08:56:23.567Z"
   },
   {
    "duration": 26,
    "start_time": "2022-12-28T08:56:23.606Z"
   },
   {
    "duration": 19,
    "start_time": "2022-12-28T08:56:23.634Z"
   },
   {
    "duration": 8,
    "start_time": "2022-12-28T08:56:23.655Z"
   },
   {
    "duration": 16,
    "start_time": "2022-12-28T08:56:23.664Z"
   },
   {
    "duration": 11,
    "start_time": "2022-12-28T08:56:23.681Z"
   },
   {
    "duration": 10,
    "start_time": "2022-12-28T08:56:23.693Z"
   },
   {
    "duration": 21,
    "start_time": "2022-12-28T08:56:23.705Z"
   },
   {
    "duration": 35,
    "start_time": "2022-12-28T08:56:23.728Z"
   },
   {
    "duration": 12,
    "start_time": "2022-12-28T08:56:23.765Z"
   },
   {
    "duration": 22,
    "start_time": "2022-12-28T08:56:23.779Z"
   },
   {
    "duration": 380,
    "start_time": "2022-12-28T08:56:23.803Z"
   },
   {
    "duration": 350,
    "start_time": "2022-12-28T08:56:24.185Z"
   },
   {
    "duration": 20,
    "start_time": "2022-12-28T08:56:24.537Z"
   },
   {
    "duration": 369,
    "start_time": "2022-12-28T08:56:24.559Z"
   },
   {
    "duration": 13,
    "start_time": "2022-12-28T08:56:24.929Z"
   },
   {
    "duration": 291,
    "start_time": "2022-12-28T08:56:24.946Z"
   },
   {
    "duration": 223,
    "start_time": "2022-12-28T08:56:25.239Z"
   },
   {
    "duration": 277,
    "start_time": "2022-12-28T08:56:25.464Z"
   },
   {
    "duration": 9,
    "start_time": "2022-12-28T08:56:25.743Z"
   },
   {
    "duration": 26,
    "start_time": "2022-12-28T08:56:25.754Z"
   },
   {
    "duration": 198,
    "start_time": "2022-12-28T08:56:25.782Z"
   },
   {
    "duration": 175,
    "start_time": "2022-12-28T08:56:25.982Z"
   },
   {
    "duration": 191,
    "start_time": "2022-12-28T08:56:26.158Z"
   },
   {
    "duration": 7,
    "start_time": "2022-12-28T08:56:26.351Z"
   },
   {
    "duration": 192,
    "start_time": "2022-12-28T08:56:26.360Z"
   },
   {
    "duration": 8,
    "start_time": "2022-12-28T08:56:26.554Z"
   },
   {
    "duration": 203,
    "start_time": "2022-12-28T08:56:26.564Z"
   },
   {
    "duration": 7,
    "start_time": "2022-12-28T08:56:26.769Z"
   },
   {
    "duration": 638,
    "start_time": "2022-12-28T08:56:26.778Z"
   },
   {
    "duration": 250,
    "start_time": "2022-12-28T08:56:27.417Z"
   },
   {
    "duration": 5,
    "start_time": "2022-12-28T08:56:27.670Z"
   },
   {
    "duration": 21,
    "start_time": "2022-12-28T08:56:27.677Z"
   },
   {
    "duration": 23,
    "start_time": "2022-12-28T08:56:27.700Z"
   },
   {
    "duration": 115,
    "start_time": "2022-12-28T08:56:27.725Z"
   },
   {
    "duration": 0,
    "start_time": "2022-12-28T08:56:27.842Z"
   },
   {
    "duration": 8,
    "start_time": "2022-12-28T08:57:11.853Z"
   },
   {
    "duration": 17,
    "start_time": "2022-12-28T08:57:48.376Z"
   },
   {
    "duration": 73,
    "start_time": "2022-12-28T08:58:46.103Z"
   },
   {
    "duration": 8,
    "start_time": "2022-12-28T08:58:56.196Z"
   },
   {
    "duration": 8,
    "start_time": "2022-12-28T09:01:00.309Z"
   },
   {
    "duration": 1217,
    "start_time": "2022-12-28T09:21:42.198Z"
   },
   {
    "duration": 1114,
    "start_time": "2022-12-28T09:21:45.599Z"
   },
   {
    "duration": 8,
    "start_time": "2022-12-28T09:22:04.569Z"
   },
   {
    "duration": 8,
    "start_time": "2022-12-28T09:37:12.201Z"
   },
   {
    "duration": 8,
    "start_time": "2022-12-28T09:37:17.593Z"
   },
   {
    "duration": 8,
    "start_time": "2022-12-28T09:37:25.811Z"
   },
   {
    "duration": 9,
    "start_time": "2022-12-28T09:37:30.730Z"
   },
   {
    "duration": 9,
    "start_time": "2022-12-28T09:54:04.059Z"
   },
   {
    "duration": 7,
    "start_time": "2022-12-28T09:54:13.377Z"
   },
   {
    "duration": 9,
    "start_time": "2022-12-28T09:54:19.863Z"
   },
   {
    "duration": 8,
    "start_time": "2022-12-28T09:54:26.036Z"
   },
   {
    "duration": 8,
    "start_time": "2022-12-28T09:56:20.218Z"
   },
   {
    "duration": 8,
    "start_time": "2022-12-28T09:56:26.003Z"
   },
   {
    "duration": 9,
    "start_time": "2022-12-28T10:08:25.113Z"
   },
   {
    "duration": 8,
    "start_time": "2022-12-28T10:08:30.128Z"
   },
   {
    "duration": 8,
    "start_time": "2022-12-28T10:08:38.880Z"
   },
   {
    "duration": 8,
    "start_time": "2022-12-28T10:08:44.422Z"
   },
   {
    "duration": 9,
    "start_time": "2022-12-28T10:11:24.801Z"
   },
   {
    "duration": 8,
    "start_time": "2022-12-28T10:11:27.607Z"
   },
   {
    "duration": 1287,
    "start_time": "2022-12-28T12:34:42.640Z"
   },
   {
    "duration": 47,
    "start_time": "2022-12-28T12:34:45.373Z"
   },
   {
    "duration": 558,
    "start_time": "2022-12-28T12:34:45.681Z"
   },
   {
    "duration": 47,
    "start_time": "2022-12-28T12:34:46.241Z"
   },
   {
    "duration": 13,
    "start_time": "2022-12-28T12:34:46.290Z"
   },
   {
    "duration": 5,
    "start_time": "2022-12-28T12:34:46.874Z"
   },
   {
    "duration": 4,
    "start_time": "2022-12-28T12:34:47.064Z"
   },
   {
    "duration": 10,
    "start_time": "2022-12-28T12:34:47.441Z"
   },
   {
    "duration": 8,
    "start_time": "2022-12-28T12:34:47.842Z"
   },
   {
    "duration": 7,
    "start_time": "2022-12-28T12:34:48.211Z"
   },
   {
    "duration": 5,
    "start_time": "2022-12-28T12:34:48.843Z"
   },
   {
    "duration": 5,
    "start_time": "2022-12-28T12:34:48.990Z"
   },
   {
    "duration": 2,
    "start_time": "2022-12-28T12:34:49.172Z"
   },
   {
    "duration": 9,
    "start_time": "2022-12-28T12:34:49.391Z"
   },
   {
    "duration": 7,
    "start_time": "2022-12-28T12:34:49.743Z"
   },
   {
    "duration": 11,
    "start_time": "2022-12-28T12:34:50.114Z"
   },
   {
    "duration": 10,
    "start_time": "2022-12-28T12:34:50.479Z"
   },
   {
    "duration": 9,
    "start_time": "2022-12-28T12:34:50.863Z"
   },
   {
    "duration": 7,
    "start_time": "2022-12-28T12:34:51.410Z"
   },
   {
    "duration": 11,
    "start_time": "2022-12-28T12:34:51.790Z"
   },
   {
    "duration": 6,
    "start_time": "2022-12-28T12:34:52.199Z"
   },
   {
    "duration": 15,
    "start_time": "2022-12-28T12:34:52.553Z"
   },
   {
    "duration": 302,
    "start_time": "2022-12-28T12:34:53.300Z"
   },
   {
    "duration": 273,
    "start_time": "2022-12-28T12:34:54.072Z"
   },
   {
    "duration": 16,
    "start_time": "2022-12-28T12:34:54.347Z"
   },
   {
    "duration": 332,
    "start_time": "2022-12-28T12:34:54.836Z"
   },
   {
    "duration": 9,
    "start_time": "2022-12-28T12:34:55.347Z"
   },
   {
    "duration": 293,
    "start_time": "2022-12-28T12:34:55.675Z"
   },
   {
    "duration": 200,
    "start_time": "2022-12-28T12:34:56.441Z"
   },
   {
    "duration": 235,
    "start_time": "2022-12-28T12:34:57.009Z"
   },
   {
    "duration": 9,
    "start_time": "2022-12-28T12:34:57.440Z"
   },
   {
    "duration": 12,
    "start_time": "2022-12-28T12:34:57.840Z"
   },
   {
    "duration": 152,
    "start_time": "2022-12-28T12:34:58.381Z"
   },
   {
    "duration": 153,
    "start_time": "2022-12-28T12:34:58.907Z"
   },
   {
    "duration": 169,
    "start_time": "2022-12-28T12:35:01.000Z"
   },
   {
    "duration": 7,
    "start_time": "2022-12-28T12:35:01.661Z"
   },
   {
    "duration": 167,
    "start_time": "2022-12-28T12:35:02.100Z"
   },
   {
    "duration": 8,
    "start_time": "2022-12-28T12:35:02.696Z"
   },
   {
    "duration": 163,
    "start_time": "2022-12-28T12:35:03.049Z"
   },
   {
    "duration": 7,
    "start_time": "2022-12-28T12:35:03.633Z"
   },
   {
    "duration": 614,
    "start_time": "2022-12-28T12:35:04.043Z"
   },
   {
    "duration": 241,
    "start_time": "2022-12-28T12:35:08.408Z"
   },
   {
    "duration": 5,
    "start_time": "2022-12-28T12:35:08.758Z"
   },
   {
    "duration": 18,
    "start_time": "2022-12-28T12:35:09.710Z"
   },
   {
    "duration": 14,
    "start_time": "2022-12-28T12:35:18.461Z"
   },
   {
    "duration": 5,
    "start_time": "2022-12-28T12:35:41.805Z"
   },
   {
    "duration": 92,
    "start_time": "2022-12-28T12:35:52.273Z"
   },
   {
    "duration": 5,
    "start_time": "2022-12-28T12:36:07.540Z"
   },
   {
    "duration": 54,
    "start_time": "2022-12-28T12:42:40.410Z"
   },
   {
    "duration": 20,
    "start_time": "2022-12-28T12:47:54.563Z"
   },
   {
    "duration": 8,
    "start_time": "2022-12-28T12:55:58.760Z"
   },
   {
    "duration": 7,
    "start_time": "2022-12-28T12:56:10.415Z"
   },
   {
    "duration": 14,
    "start_time": "2022-12-28T13:08:57.605Z"
   },
   {
    "duration": 1227,
    "start_time": "2022-12-28T13:43:43.832Z"
   },
   {
    "duration": 47,
    "start_time": "2022-12-28T13:43:45.175Z"
   },
   {
    "duration": 675,
    "start_time": "2022-12-28T13:44:08.658Z"
   },
   {
    "duration": 62,
    "start_time": "2022-12-28T13:44:09.335Z"
   },
   {
    "duration": 16,
    "start_time": "2022-12-28T13:44:13.555Z"
   },
   {
    "duration": 7,
    "start_time": "2022-12-28T13:45:07.697Z"
   },
   {
    "duration": 4,
    "start_time": "2022-12-28T13:45:17.643Z"
   },
   {
    "duration": 16,
    "start_time": "2022-12-28T13:45:18.321Z"
   },
   {
    "duration": 14,
    "start_time": "2022-12-28T13:45:27.917Z"
   },
   {
    "duration": 9,
    "start_time": "2022-12-28T13:46:04.759Z"
   },
   {
    "duration": 8,
    "start_time": "2022-12-28T13:46:10.924Z"
   },
   {
    "duration": 7,
    "start_time": "2022-12-28T13:46:11.675Z"
   },
   {
    "duration": 11,
    "start_time": "2022-12-28T13:46:11.929Z"
   },
   {
    "duration": 6,
    "start_time": "2022-12-28T13:46:37.469Z"
   },
   {
    "duration": 31,
    "start_time": "2022-12-28T13:46:49.023Z"
   },
   {
    "duration": 12,
    "start_time": "2022-12-28T13:47:17.383Z"
   },
   {
    "duration": 11,
    "start_time": "2022-12-28T13:47:28.582Z"
   },
   {
    "duration": 9,
    "start_time": "2022-12-28T13:48:23.604Z"
   },
   {
    "duration": 12,
    "start_time": "2022-12-28T13:48:26.581Z"
   },
   {
    "duration": 8,
    "start_time": "2022-12-28T13:48:58.223Z"
   },
   {
    "duration": 18,
    "start_time": "2022-12-28T13:49:00.428Z"
   },
   {
    "duration": 385,
    "start_time": "2022-12-28T13:51:06.983Z"
   },
   {
    "duration": 408,
    "start_time": "2022-12-28T13:51:42.166Z"
   },
   {
    "duration": 26,
    "start_time": "2022-12-28T13:51:50.719Z"
   },
   {
    "duration": 456,
    "start_time": "2022-12-28T13:51:55.770Z"
   },
   {
    "duration": 10,
    "start_time": "2022-12-28T13:52:33.335Z"
   },
   {
    "duration": 348,
    "start_time": "2022-12-28T13:52:35.373Z"
   },
   {
    "duration": 257,
    "start_time": "2022-12-28T13:52:37.791Z"
   },
   {
    "duration": 347,
    "start_time": "2022-12-28T13:53:22.212Z"
   },
   {
    "duration": 13,
    "start_time": "2022-12-28T13:53:27.391Z"
   },
   {
    "duration": 19,
    "start_time": "2022-12-28T13:53:28.177Z"
   },
   {
    "duration": 175,
    "start_time": "2022-12-28T13:54:47.271Z"
   },
   {
    "duration": 191,
    "start_time": "2022-12-28T13:54:49.039Z"
   },
   {
    "duration": 184,
    "start_time": "2022-12-28T13:55:10.871Z"
   },
   {
    "duration": 8,
    "start_time": "2022-12-28T13:55:13.244Z"
   },
   {
    "duration": 202,
    "start_time": "2022-12-28T13:55:13.849Z"
   },
   {
    "duration": 11,
    "start_time": "2022-12-28T13:55:16.204Z"
   },
   {
    "duration": 187,
    "start_time": "2022-12-28T13:55:18.318Z"
   },
   {
    "duration": 8,
    "start_time": "2022-12-28T13:55:50.293Z"
   },
   {
    "duration": 755,
    "start_time": "2022-12-28T13:55:51.291Z"
   },
   {
    "duration": 288,
    "start_time": "2022-12-28T13:56:55.741Z"
   },
   {
    "duration": 5,
    "start_time": "2022-12-28T13:57:02.106Z"
   },
   {
    "duration": 8,
    "start_time": "2022-12-28T13:58:07.141Z"
   },
   {
    "duration": 8,
    "start_time": "2022-12-28T13:58:12.360Z"
   },
   {
    "duration": 56,
    "start_time": "2022-12-28T15:07:28.883Z"
   },
   {
    "duration": 42,
    "start_time": "2022-12-28T15:08:10.470Z"
   },
   {
    "duration": 1398,
    "start_time": "2022-12-28T15:08:15.677Z"
   },
   {
    "duration": 51,
    "start_time": "2022-12-28T15:08:20.219Z"
   },
   {
    "duration": 611,
    "start_time": "2022-12-28T15:08:21.239Z"
   },
   {
    "duration": 67,
    "start_time": "2022-12-28T15:08:21.852Z"
   },
   {
    "duration": 22,
    "start_time": "2022-12-28T15:08:23.944Z"
   },
   {
    "duration": 20,
    "start_time": "2022-12-28T15:08:30.845Z"
   },
   {
    "duration": 5,
    "start_time": "2022-12-28T15:08:34.635Z"
   },
   {
    "duration": 4,
    "start_time": "2022-12-28T15:08:35.273Z"
   },
   {
    "duration": 12,
    "start_time": "2022-12-28T15:08:38.365Z"
   },
   {
    "duration": 11,
    "start_time": "2022-12-28T15:08:40.979Z"
   },
   {
    "duration": 8,
    "start_time": "2022-12-28T15:08:43.163Z"
   },
   {
    "duration": 7,
    "start_time": "2022-12-28T15:08:45.604Z"
   },
   {
    "duration": 5,
    "start_time": "2022-12-28T15:08:46.144Z"
   },
   {
    "duration": 10,
    "start_time": "2022-12-28T15:08:46.872Z"
   },
   {
    "duration": 14,
    "start_time": "2022-12-28T15:09:18.547Z"
   },
   {
    "duration": 4,
    "start_time": "2022-12-28T15:14:12.933Z"
   },
   {
    "duration": 6,
    "start_time": "2022-12-28T15:14:21.509Z"
   },
   {
    "duration": 16,
    "start_time": "2022-12-28T15:17:37.095Z"
   },
   {
    "duration": 17,
    "start_time": "2022-12-28T15:18:23.437Z"
   },
   {
    "duration": 9,
    "start_time": "2022-12-28T15:19:46.808Z"
   },
   {
    "duration": 307,
    "start_time": "2022-12-28T15:21:05.705Z"
   },
   {
    "duration": 198,
    "start_time": "2022-12-28T15:24:22.879Z"
   },
   {
    "duration": 86,
    "start_time": "2022-12-28T15:24:32.729Z"
   },
   {
    "duration": 14,
    "start_time": "2022-12-28T15:24:39.856Z"
   },
   {
    "duration": 130,
    "start_time": "2022-12-28T15:24:56.029Z"
   },
   {
    "duration": 68,
    "start_time": "2022-12-28T15:25:04.282Z"
   },
   {
    "duration": 48,
    "start_time": "2022-12-28T15:25:06.412Z"
   },
   {
    "duration": 732,
    "start_time": "2022-12-28T15:25:07.363Z"
   },
   {
    "duration": 15,
    "start_time": "2022-12-28T15:25:08.097Z"
   },
   {
    "duration": 14,
    "start_time": "2022-12-28T15:25:08.480Z"
   },
   {
    "duration": 5,
    "start_time": "2022-12-28T15:25:10.084Z"
   },
   {
    "duration": 5,
    "start_time": "2022-12-28T15:25:10.440Z"
   },
   {
    "duration": 14,
    "start_time": "2022-12-28T15:25:11.376Z"
   },
   {
    "duration": 10,
    "start_time": "2022-12-28T15:25:12.129Z"
   },
   {
    "duration": 7,
    "start_time": "2022-12-28T15:25:13.929Z"
   },
   {
    "duration": 6,
    "start_time": "2022-12-28T15:25:15.329Z"
   },
   {
    "duration": 7,
    "start_time": "2022-12-28T15:25:15.840Z"
   },
   {
    "duration": 13,
    "start_time": "2022-12-28T15:25:16.300Z"
   },
   {
    "duration": 7,
    "start_time": "2022-12-28T15:25:17.459Z"
   },
   {
    "duration": 15,
    "start_time": "2022-12-28T15:25:18.259Z"
   },
   {
    "duration": 15,
    "start_time": "2022-12-28T15:25:18.973Z"
   },
   {
    "duration": 12,
    "start_time": "2022-12-28T15:25:19.684Z"
   },
   {
    "duration": 8,
    "start_time": "2022-12-28T15:25:21.168Z"
   },
   {
    "duration": 14,
    "start_time": "2022-12-28T15:25:22.088Z"
   },
   {
    "duration": 7,
    "start_time": "2022-12-28T15:25:24.537Z"
   },
   {
    "duration": 7,
    "start_time": "2022-12-28T15:25:25.461Z"
   },
   {
    "duration": 17,
    "start_time": "2022-12-28T15:25:29.693Z"
   },
   {
    "duration": 16,
    "start_time": "2022-12-28T15:25:43.761Z"
   },
   {
    "duration": 8,
    "start_time": "2022-12-28T15:26:04.027Z"
   },
   {
    "duration": 364,
    "start_time": "2022-12-28T15:26:17.816Z"
   },
   {
    "duration": 18,
    "start_time": "2022-12-28T15:26:41.872Z"
   },
   {
    "duration": 314,
    "start_time": "2022-12-28T15:26:47.992Z"
   },
   {
    "duration": 10,
    "start_time": "2022-12-28T15:26:51.868Z"
   },
   {
    "duration": 305,
    "start_time": "2022-12-28T15:27:03.468Z"
   },
   {
    "duration": 222,
    "start_time": "2022-12-28T15:27:08.606Z"
   },
   {
    "duration": 278,
    "start_time": "2022-12-28T15:27:57.297Z"
   },
   {
    "duration": 14,
    "start_time": "2022-12-28T15:28:03.476Z"
   },
   {
    "duration": 13,
    "start_time": "2022-12-28T15:28:07.404Z"
   },
   {
    "duration": 15,
    "start_time": "2022-12-28T15:28:12.268Z"
   },
   {
    "duration": 18,
    "start_time": "2022-12-28T15:28:17.266Z"
   },
   {
    "duration": 180,
    "start_time": "2022-12-28T15:28:33.274Z"
   },
   {
    "duration": 28,
    "start_time": "2022-12-28T15:28:37.673Z"
   },
   {
    "duration": 177,
    "start_time": "2022-12-28T15:36:33.045Z"
   },
   {
    "duration": 254,
    "start_time": "2022-12-28T15:41:03.211Z"
   },
   {
    "duration": 7,
    "start_time": "2022-12-28T15:41:15.576Z"
   },
   {
    "duration": 163,
    "start_time": "2022-12-28T15:41:23.084Z"
   },
   {
    "duration": 7,
    "start_time": "2022-12-28T15:41:27.996Z"
   },
   {
    "duration": 171,
    "start_time": "2022-12-28T15:41:31.630Z"
   },
   {
    "duration": 8,
    "start_time": "2022-12-28T15:41:38.980Z"
   },
   {
    "duration": 610,
    "start_time": "2022-12-28T15:41:56.181Z"
   },
   {
    "duration": 610,
    "start_time": "2022-12-28T15:42:19.787Z"
   },
   {
    "duration": 9,
    "start_time": "2022-12-28T15:45:16.797Z"
   },
   {
    "duration": 7,
    "start_time": "2022-12-28T15:45:25.448Z"
   },
   {
    "duration": 169,
    "start_time": "2022-12-28T15:45:52.240Z"
   },
   {
    "duration": 8,
    "start_time": "2022-12-28T15:46:01.405Z"
   },
   {
    "duration": 194,
    "start_time": "2022-12-28T15:46:22.584Z"
   },
   {
    "duration": 9,
    "start_time": "2022-12-28T15:46:36.016Z"
   },
   {
    "duration": 264,
    "start_time": "2022-12-28T15:46:55.618Z"
   },
   {
    "duration": 570,
    "start_time": "2022-12-28T15:47:01.478Z"
   },
   {
    "duration": 10,
    "start_time": "2022-12-28T15:47:26.891Z"
   },
   {
    "duration": 14,
    "start_time": "2022-12-28T15:49:27.810Z"
   },
   {
    "duration": 727,
    "start_time": "2022-12-28T15:49:34.468Z"
   },
   {
    "duration": 757,
    "start_time": "2022-12-28T15:49:46.922Z"
   },
   {
    "duration": 594,
    "start_time": "2022-12-28T15:50:02.383Z"
   },
   {
    "duration": 182,
    "start_time": "2022-12-28T15:50:25.385Z"
   },
   {
    "duration": 8,
    "start_time": "2022-12-28T15:51:08.542Z"
   },
   {
    "duration": 7,
    "start_time": "2022-12-28T15:51:27.745Z"
   },
   {
    "duration": 8,
    "start_time": "2022-12-28T15:51:36.174Z"
   },
   {
    "duration": 595,
    "start_time": "2022-12-28T15:51:43.826Z"
   },
   {
    "duration": 9,
    "start_time": "2022-12-28T15:51:57.369Z"
   },
   {
    "duration": 13,
    "start_time": "2022-12-28T15:52:30.823Z"
   },
   {
    "duration": 93,
    "start_time": "2022-12-28T15:52:49.729Z"
   },
   {
    "duration": 7,
    "start_time": "2022-12-28T15:55:58.729Z"
   },
   {
    "duration": 8,
    "start_time": "2022-12-28T15:56:22.499Z"
   },
   {
    "duration": 9,
    "start_time": "2022-12-28T15:56:51.634Z"
   },
   {
    "duration": 7,
    "start_time": "2022-12-28T15:57:12.163Z"
   },
   {
    "duration": 8,
    "start_time": "2022-12-28T15:58:05.970Z"
   },
   {
    "duration": 7,
    "start_time": "2022-12-28T15:58:23.259Z"
   },
   {
    "duration": 9,
    "start_time": "2022-12-28T15:58:36.380Z"
   },
   {
    "duration": 7,
    "start_time": "2022-12-28T15:58:46.804Z"
   },
   {
    "duration": 7,
    "start_time": "2022-12-28T15:58:57.892Z"
   },
   {
    "duration": 8,
    "start_time": "2022-12-28T15:59:13.297Z"
   },
   {
    "duration": 860,
    "start_time": "2022-12-28T15:59:16.401Z"
   },
   {
    "duration": 9,
    "start_time": "2022-12-28T15:59:43.419Z"
   },
   {
    "duration": 8,
    "start_time": "2022-12-28T15:59:52.575Z"
   },
   {
    "duration": 8,
    "start_time": "2022-12-28T16:00:02.723Z"
   },
   {
    "duration": 909,
    "start_time": "2022-12-28T16:00:07.919Z"
   },
   {
    "duration": 6,
    "start_time": "2022-12-28T16:01:00.439Z"
   },
   {
    "duration": 9,
    "start_time": "2022-12-28T16:01:21.172Z"
   },
   {
    "duration": 238,
    "start_time": "2022-12-28T16:01:42.512Z"
   },
   {
    "duration": 9,
    "start_time": "2022-12-28T16:11:08.828Z"
   },
   {
    "duration": 8,
    "start_time": "2022-12-28T16:11:24.429Z"
   },
   {
    "duration": 7,
    "start_time": "2022-12-28T16:11:26.872Z"
   },
   {
    "duration": 782,
    "start_time": "2022-12-28T16:11:29.026Z"
   },
   {
    "duration": 21,
    "start_time": "2022-12-28T16:12:35.399Z"
   },
   {
    "duration": 180,
    "start_time": "2022-12-28T17:09:30.935Z"
   },
   {
    "duration": 726,
    "start_time": "2022-12-28T17:12:02.698Z"
   },
   {
    "duration": 5,
    "start_time": "2022-12-28T17:14:17.935Z"
   },
   {
    "duration": 214,
    "start_time": "2022-12-28T17:14:42.192Z"
   },
   {
    "duration": 5,
    "start_time": "2022-12-28T17:14:56.290Z"
   },
   {
    "duration": 321,
    "start_time": "2022-12-28T17:15:00.920Z"
   },
   {
    "duration": 124,
    "start_time": "2022-12-28T17:15:41.836Z"
   },
   {
    "duration": 257,
    "start_time": "2022-12-28T17:15:55.647Z"
   },
   {
    "duration": 255,
    "start_time": "2022-12-28T17:17:04.364Z"
   },
   {
    "duration": 258,
    "start_time": "2022-12-28T17:17:23.509Z"
   },
   {
    "duration": 267,
    "start_time": "2022-12-28T17:17:29.090Z"
   },
   {
    "duration": 231,
    "start_time": "2022-12-28T17:17:52.264Z"
   },
   {
    "duration": 228,
    "start_time": "2022-12-28T17:18:02.926Z"
   },
   {
    "duration": 1027,
    "start_time": "2022-12-28T17:18:26.522Z"
   },
   {
    "duration": 745,
    "start_time": "2022-12-28T17:18:43.358Z"
   },
   {
    "duration": 5,
    "start_time": "2022-12-28T17:19:06.962Z"
   },
   {
    "duration": 263,
    "start_time": "2022-12-28T17:19:09.112Z"
   },
   {
    "duration": 232,
    "start_time": "2022-12-28T17:31:12.954Z"
   },
   {
    "duration": 15,
    "start_time": "2022-12-28T17:35:22.427Z"
   },
   {
    "duration": 16,
    "start_time": "2022-12-28T17:35:42.351Z"
   },
   {
    "duration": 15,
    "start_time": "2022-12-28T17:36:29.542Z"
   },
   {
    "duration": 6,
    "start_time": "2022-12-28T18:02:15.906Z"
   },
   {
    "duration": 7,
    "start_time": "2022-12-28T18:04:52.291Z"
   },
   {
    "duration": 7,
    "start_time": "2022-12-28T18:05:23.116Z"
   },
   {
    "duration": 5,
    "start_time": "2022-12-28T18:05:50.597Z"
   },
   {
    "duration": 7,
    "start_time": "2022-12-28T18:08:02.749Z"
   },
   {
    "duration": 8,
    "start_time": "2022-12-28T18:08:11.224Z"
   },
   {
    "duration": 6,
    "start_time": "2022-12-28T18:08:34.250Z"
   },
   {
    "duration": 50,
    "start_time": "2022-12-28T18:24:47.031Z"
   }
  ],
  "kernelspec": {
   "display_name": "Python 3 (ipykernel)",
   "language": "python",
   "name": "python3"
  },
  "language_info": {
   "codemirror_mode": {
    "name": "ipython",
    "version": 3
   },
   "file_extension": ".py",
   "mimetype": "text/x-python",
   "name": "python",
   "nbconvert_exporter": "python",
   "pygments_lexer": "ipython3",
   "version": "3.9.13"
  },
  "toc": {
   "base_numbering": 1,
   "nav_menu": {},
   "number_sections": true,
   "sideBar": true,
   "skip_h1_title": true,
   "title_cell": "Table of Contents",
   "title_sidebar": "Contents",
   "toc_cell": false,
   "toc_position": {
    "height": "calc(100% - 180px)",
    "left": "10px",
    "top": "150px",
    "width": "165px"
   },
   "toc_section_display": true,
   "toc_window_display": false
  }
 },
 "nbformat": 4,
 "nbformat_minor": 2
}
