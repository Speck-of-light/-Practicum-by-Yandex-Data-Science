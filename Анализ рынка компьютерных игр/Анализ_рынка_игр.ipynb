{
 "cells": [
  {
   "cell_type": "markdown",
   "metadata": {},
   "source": [
    "На основе данных о продажах игр, оценках пользователей и экспертов, жанрах и платформах поведем исследование рынка компьютерных игр.  \n",
    "\n",
    "Цель исследования — выявление определяющих успешность игры закономерностей\n",
    "\n",
    "Данные о поведении пользователей получены из ткрытых источников и представленны в файле games.csv.\n",
    "\n",
    "Исследование пройдёт в четыре этапа: \n",
    "- Обзор данных. \n",
    "- Предобработка данных. \n",
    "- Проведение исследовательского анализа данных. \n",
    "- Проверка статистических гипотез"
   ]
  },
  {
   "cell_type": "markdown",
   "metadata": {},
   "source": [
    "###  Откроем файл с данными и изучим общую информацию"
   ]
  },
  {
   "cell_type": "code",
   "execution_count": 3,
   "metadata": {},
   "outputs": [
    {
     "data": {
      "text/html": [
       "<div>\n",
       "<style scoped>\n",
       "    .dataframe tbody tr th:only-of-type {\n",
       "        vertical-align: middle;\n",
       "    }\n",
       "\n",
       "    .dataframe tbody tr th {\n",
       "        vertical-align: top;\n",
       "    }\n",
       "\n",
       "    .dataframe thead th {\n",
       "        text-align: right;\n",
       "    }\n",
       "</style>\n",
       "<table border=\"1\" class=\"dataframe\">\n",
       "  <thead>\n",
       "    <tr style=\"text-align: right;\">\n",
       "      <th></th>\n",
       "      <th>Name</th>\n",
       "      <th>Platform</th>\n",
       "      <th>Year_of_Release</th>\n",
       "      <th>Genre</th>\n",
       "      <th>NA_sales</th>\n",
       "      <th>EU_sales</th>\n",
       "      <th>JP_sales</th>\n",
       "      <th>Other_sales</th>\n",
       "      <th>Critic_Score</th>\n",
       "      <th>User_Score</th>\n",
       "      <th>Rating</th>\n",
       "    </tr>\n",
       "  </thead>\n",
       "  <tbody>\n",
       "    <tr>\n",
       "      <th>0</th>\n",
       "      <td>Wii Sports</td>\n",
       "      <td>Wii</td>\n",
       "      <td>2006.0</td>\n",
       "      <td>Sports</td>\n",
       "      <td>41.36</td>\n",
       "      <td>28.96</td>\n",
       "      <td>3.77</td>\n",
       "      <td>8.45</td>\n",
       "      <td>76.0</td>\n",
       "      <td>8</td>\n",
       "      <td>E</td>\n",
       "    </tr>\n",
       "    <tr>\n",
       "      <th>1</th>\n",
       "      <td>Super Mario Bros.</td>\n",
       "      <td>NES</td>\n",
       "      <td>1985.0</td>\n",
       "      <td>Platform</td>\n",
       "      <td>29.08</td>\n",
       "      <td>3.58</td>\n",
       "      <td>6.81</td>\n",
       "      <td>0.77</td>\n",
       "      <td>NaN</td>\n",
       "      <td>NaN</td>\n",
       "      <td>NaN</td>\n",
       "    </tr>\n",
       "    <tr>\n",
       "      <th>2</th>\n",
       "      <td>Mario Kart Wii</td>\n",
       "      <td>Wii</td>\n",
       "      <td>2008.0</td>\n",
       "      <td>Racing</td>\n",
       "      <td>15.68</td>\n",
       "      <td>12.76</td>\n",
       "      <td>3.79</td>\n",
       "      <td>3.29</td>\n",
       "      <td>82.0</td>\n",
       "      <td>8.3</td>\n",
       "      <td>E</td>\n",
       "    </tr>\n",
       "    <tr>\n",
       "      <th>3</th>\n",
       "      <td>Wii Sports Resort</td>\n",
       "      <td>Wii</td>\n",
       "      <td>2009.0</td>\n",
       "      <td>Sports</td>\n",
       "      <td>15.61</td>\n",
       "      <td>10.93</td>\n",
       "      <td>3.28</td>\n",
       "      <td>2.95</td>\n",
       "      <td>80.0</td>\n",
       "      <td>8</td>\n",
       "      <td>E</td>\n",
       "    </tr>\n",
       "    <tr>\n",
       "      <th>4</th>\n",
       "      <td>Pokemon Red/Pokemon Blue</td>\n",
       "      <td>GB</td>\n",
       "      <td>1996.0</td>\n",
       "      <td>Role-Playing</td>\n",
       "      <td>11.27</td>\n",
       "      <td>8.89</td>\n",
       "      <td>10.22</td>\n",
       "      <td>1.00</td>\n",
       "      <td>NaN</td>\n",
       "      <td>NaN</td>\n",
       "      <td>NaN</td>\n",
       "    </tr>\n",
       "  </tbody>\n",
       "</table>\n",
       "</div>"
      ],
      "text/plain": [
       "                       Name Platform  Year_of_Release         Genre  NA_sales  \\\n",
       "0                Wii Sports      Wii           2006.0        Sports     41.36   \n",
       "1         Super Mario Bros.      NES           1985.0      Platform     29.08   \n",
       "2            Mario Kart Wii      Wii           2008.0        Racing     15.68   \n",
       "3         Wii Sports Resort      Wii           2009.0        Sports     15.61   \n",
       "4  Pokemon Red/Pokemon Blue       GB           1996.0  Role-Playing     11.27   \n",
       "\n",
       "   EU_sales  JP_sales  Other_sales  Critic_Score User_Score Rating  \n",
       "0     28.96      3.77         8.45          76.0          8      E  \n",
       "1      3.58      6.81         0.77           NaN        NaN    NaN  \n",
       "2     12.76      3.79         3.29          82.0        8.3      E  \n",
       "3     10.93      3.28         2.95          80.0          8      E  \n",
       "4      8.89     10.22         1.00           NaN        NaN    NaN  "
      ]
     },
     "execution_count": 3,
     "metadata": {},
     "output_type": "execute_result"
    }
   ],
   "source": [
    "# импортируем библиотеки и загрузим датасет\n",
    "# рассмотрим первые 5 строк таблицы\n",
    "import pandas as pd\n",
    "import numpy as np\n",
    "import matplotlib.pyplot as plt\n",
    "import seaborn as sns\n",
    "\n",
    "import warnings\n",
    "warnings.filterwarnings(\"ignore\")\n",
    "\n",
    "try:\n",
    "    data=pd.read_csv('/datasets/games.csv')\n",
    "except:\n",
    "    data=pd.read_csv('https://code.s3.yandex.net/datasets/games.csv')\n",
    "\n",
    "data.head()"
   ]
  },
  {
   "cell_type": "markdown",
   "metadata": {},
   "source": [
    "Рассмотрим общую информацию о датасете"
   ]
  },
  {
   "cell_type": "code",
   "execution_count": 4,
   "metadata": {},
   "outputs": [
    {
     "name": "stdout",
     "output_type": "stream",
     "text": [
      "<class 'pandas.core.frame.DataFrame'>\n",
      "RangeIndex: 16715 entries, 0 to 16714\n",
      "Data columns (total 11 columns):\n",
      " #   Column           Non-Null Count  Dtype  \n",
      "---  ------           --------------  -----  \n",
      " 0   Name             16713 non-null  object \n",
      " 1   Platform         16715 non-null  object \n",
      " 2   Year_of_Release  16446 non-null  float64\n",
      " 3   Genre            16713 non-null  object \n",
      " 4   NA_sales         16715 non-null  float64\n",
      " 5   EU_sales         16715 non-null  float64\n",
      " 6   JP_sales         16715 non-null  float64\n",
      " 7   Other_sales      16715 non-null  float64\n",
      " 8   Critic_Score     8137 non-null   float64\n",
      " 9   User_Score       10014 non-null  object \n",
      " 10  Rating           9949 non-null   object \n",
      "dtypes: float64(6), object(5)\n",
      "memory usage: 1.4+ MB\n"
     ]
    },
    {
     "data": {
      "text/html": [
       "<div>\n",
       "<style scoped>\n",
       "    .dataframe tbody tr th:only-of-type {\n",
       "        vertical-align: middle;\n",
       "    }\n",
       "\n",
       "    .dataframe tbody tr th {\n",
       "        vertical-align: top;\n",
       "    }\n",
       "\n",
       "    .dataframe thead th {\n",
       "        text-align: right;\n",
       "    }\n",
       "</style>\n",
       "<table border=\"1\" class=\"dataframe\">\n",
       "  <thead>\n",
       "    <tr style=\"text-align: right;\">\n",
       "      <th></th>\n",
       "      <th>Year_of_Release</th>\n",
       "      <th>NA_sales</th>\n",
       "      <th>EU_sales</th>\n",
       "      <th>JP_sales</th>\n",
       "      <th>Other_sales</th>\n",
       "      <th>Critic_Score</th>\n",
       "    </tr>\n",
       "  </thead>\n",
       "  <tbody>\n",
       "    <tr>\n",
       "      <th>count</th>\n",
       "      <td>16446.000000</td>\n",
       "      <td>16715.000000</td>\n",
       "      <td>16715.000000</td>\n",
       "      <td>16715.000000</td>\n",
       "      <td>16715.000000</td>\n",
       "      <td>8137.000000</td>\n",
       "    </tr>\n",
       "    <tr>\n",
       "      <th>mean</th>\n",
       "      <td>2006.484616</td>\n",
       "      <td>0.263377</td>\n",
       "      <td>0.145060</td>\n",
       "      <td>0.077617</td>\n",
       "      <td>0.047342</td>\n",
       "      <td>68.967679</td>\n",
       "    </tr>\n",
       "    <tr>\n",
       "      <th>std</th>\n",
       "      <td>5.877050</td>\n",
       "      <td>0.813604</td>\n",
       "      <td>0.503339</td>\n",
       "      <td>0.308853</td>\n",
       "      <td>0.186731</td>\n",
       "      <td>13.938165</td>\n",
       "    </tr>\n",
       "    <tr>\n",
       "      <th>min</th>\n",
       "      <td>1980.000000</td>\n",
       "      <td>0.000000</td>\n",
       "      <td>0.000000</td>\n",
       "      <td>0.000000</td>\n",
       "      <td>0.000000</td>\n",
       "      <td>13.000000</td>\n",
       "    </tr>\n",
       "    <tr>\n",
       "      <th>25%</th>\n",
       "      <td>2003.000000</td>\n",
       "      <td>0.000000</td>\n",
       "      <td>0.000000</td>\n",
       "      <td>0.000000</td>\n",
       "      <td>0.000000</td>\n",
       "      <td>60.000000</td>\n",
       "    </tr>\n",
       "    <tr>\n",
       "      <th>50%</th>\n",
       "      <td>2007.000000</td>\n",
       "      <td>0.080000</td>\n",
       "      <td>0.020000</td>\n",
       "      <td>0.000000</td>\n",
       "      <td>0.010000</td>\n",
       "      <td>71.000000</td>\n",
       "    </tr>\n",
       "    <tr>\n",
       "      <th>75%</th>\n",
       "      <td>2010.000000</td>\n",
       "      <td>0.240000</td>\n",
       "      <td>0.110000</td>\n",
       "      <td>0.040000</td>\n",
       "      <td>0.030000</td>\n",
       "      <td>79.000000</td>\n",
       "    </tr>\n",
       "    <tr>\n",
       "      <th>max</th>\n",
       "      <td>2016.000000</td>\n",
       "      <td>41.360000</td>\n",
       "      <td>28.960000</td>\n",
       "      <td>10.220000</td>\n",
       "      <td>10.570000</td>\n",
       "      <td>98.000000</td>\n",
       "    </tr>\n",
       "  </tbody>\n",
       "</table>\n",
       "</div>"
      ],
      "text/plain": [
       "       Year_of_Release      NA_sales      EU_sales      JP_sales  \\\n",
       "count     16446.000000  16715.000000  16715.000000  16715.000000   \n",
       "mean       2006.484616      0.263377      0.145060      0.077617   \n",
       "std           5.877050      0.813604      0.503339      0.308853   \n",
       "min        1980.000000      0.000000      0.000000      0.000000   \n",
       "25%        2003.000000      0.000000      0.000000      0.000000   \n",
       "50%        2007.000000      0.080000      0.020000      0.000000   \n",
       "75%        2010.000000      0.240000      0.110000      0.040000   \n",
       "max        2016.000000     41.360000     28.960000     10.220000   \n",
       "\n",
       "        Other_sales  Critic_Score  \n",
       "count  16715.000000   8137.000000  \n",
       "mean       0.047342     68.967679  \n",
       "std        0.186731     13.938165  \n",
       "min        0.000000     13.000000  \n",
       "25%        0.000000     60.000000  \n",
       "50%        0.010000     71.000000  \n",
       "75%        0.030000     79.000000  \n",
       "max       10.570000     98.000000  "
      ]
     },
     "execution_count": 4,
     "metadata": {},
     "output_type": "execute_result"
    }
   ],
   "source": [
    "data.info()\n",
    "data.describe()"
   ]
  },
  {
   "cell_type": "code",
   "execution_count": 5,
   "metadata": {},
   "outputs": [
    {
     "data": {
      "image/png": "[encoded data removed]",
      "text/plain": [
       "<Figure size 1000x800 with 6 Axes>"
      ]
     },
     "metadata": {},
     "output_type": "display_data"
    }
   ],
   "source": [
    "data.hist(figsize=(10, 8));"
   ]
  },
  {
   "cell_type": "code",
   "execution_count": 6,
   "metadata": {},
   "outputs": [
    {
     "data": {
      "text/html": [
       "<style type=\"text/css\">\n",
       "#T_cb273_row0_col0, #T_cb273_row1_col0, #T_cb273_row3_col0, #T_cb273_row4_col0, #T_cb273_row5_col0, #T_cb273_row6_col0, #T_cb273_row7_col0 {\n",
       "  background-color: #3b4cc0;\n",
       "  color: #f1f1f1;\n",
       "}\n",
       "#T_cb273_row2_col0 {\n",
       "  background-color: #4358cb;\n",
       "  color: #f1f1f1;\n",
       "}\n",
       "#T_cb273_row8_col0 {\n",
       "  background-color: #b40426;\n",
       "  color: #f1f1f1;\n",
       "}\n",
       "#T_cb273_row9_col0 {\n",
       "  background-color: #f08b6e;\n",
       "  color: #f1f1f1;\n",
       "}\n",
       "#T_cb273_row10_col0 {\n",
       "  background-color: #ef886b;\n",
       "  color: #f1f1f1;\n",
       "}\n",
       "</style>\n",
       "<table id=\"T_cb273\">\n",
       "  <thead>\n",
       "    <tr>\n",
       "      <th class=\"blank level0\" >&nbsp;</th>\n",
       "      <th id=\"T_cb273_level0_col0\" class=\"col_heading level0 col0\" >0</th>\n",
       "    </tr>\n",
       "  </thead>\n",
       "  <tbody>\n",
       "    <tr>\n",
       "      <th id=\"T_cb273_level0_row0\" class=\"row_heading level0 row0\" >Name</th>\n",
       "      <td id=\"T_cb273_row0_col0\" class=\"data row0 col0\" >0.000000</td>\n",
       "    </tr>\n",
       "    <tr>\n",
       "      <th id=\"T_cb273_level0_row1\" class=\"row_heading level0 row1\" >Platform</th>\n",
       "      <td id=\"T_cb273_row1_col0\" class=\"data row1 col0\" >0.000000</td>\n",
       "    </tr>\n",
       "    <tr>\n",
       "      <th id=\"T_cb273_level0_row2\" class=\"row_heading level0 row2\" >Year_of_Release</th>\n",
       "      <td id=\"T_cb273_row2_col0\" class=\"data row2 col0\" >1.600000</td>\n",
       "    </tr>\n",
       "    <tr>\n",
       "      <th id=\"T_cb273_level0_row3\" class=\"row_heading level0 row3\" >Genre</th>\n",
       "      <td id=\"T_cb273_row3_col0\" class=\"data row3 col0\" >0.000000</td>\n",
       "    </tr>\n",
       "    <tr>\n",
       "      <th id=\"T_cb273_level0_row4\" class=\"row_heading level0 row4\" >NA_sales</th>\n",
       "      <td id=\"T_cb273_row4_col0\" class=\"data row4 col0\" >0.000000</td>\n",
       "    </tr>\n",
       "    <tr>\n",
       "      <th id=\"T_cb273_level0_row5\" class=\"row_heading level0 row5\" >EU_sales</th>\n",
       "      <td id=\"T_cb273_row5_col0\" class=\"data row5 col0\" >0.000000</td>\n",
       "    </tr>\n",
       "    <tr>\n",
       "      <th id=\"T_cb273_level0_row6\" class=\"row_heading level0 row6\" >JP_sales</th>\n",
       "      <td id=\"T_cb273_row6_col0\" class=\"data row6 col0\" >0.000000</td>\n",
       "    </tr>\n",
       "    <tr>\n",
       "      <th id=\"T_cb273_level0_row7\" class=\"row_heading level0 row7\" >Other_sales</th>\n",
       "      <td id=\"T_cb273_row7_col0\" class=\"data row7 col0\" >0.000000</td>\n",
       "    </tr>\n",
       "    <tr>\n",
       "      <th id=\"T_cb273_level0_row8\" class=\"row_heading level0 row8\" >Critic_Score</th>\n",
       "      <td id=\"T_cb273_row8_col0\" class=\"data row8 col0\" >51.300000</td>\n",
       "    </tr>\n",
       "    <tr>\n",
       "      <th id=\"T_cb273_level0_row9\" class=\"row_heading level0 row9\" >User_Score</th>\n",
       "      <td id=\"T_cb273_row9_col0\" class=\"data row9 col0\" >40.100000</td>\n",
       "    </tr>\n",
       "    <tr>\n",
       "      <th id=\"T_cb273_level0_row10\" class=\"row_heading level0 row10\" >Rating</th>\n",
       "      <td id=\"T_cb273_row10_col0\" class=\"data row10 col0\" >40.500000</td>\n",
       "    </tr>\n",
       "  </tbody>\n",
       "</table>\n"
      ],
      "text/plain": [
       "<pandas.io.formats.style.Styler at 0x7fc1d2aea610>"
      ]
     },
     "execution_count": 6,
     "metadata": {},
     "output_type": "execute_result"
    }
   ],
   "source": [
    "# Оценим полноту данных\n",
    "pd.DataFrame(round(data.isna().mean()*100,1)).style.background_gradient('coolwarm')"
   ]
  },
  {
   "cell_type": "markdown",
   "metadata": {},
   "source": [
    "Проверим на наличие явных дубликатов"
   ]
  },
  {
   "cell_type": "code",
   "execution_count": 7,
   "metadata": {},
   "outputs": [
    {
     "data": {
      "text/plain": [
       "0"
      ]
     },
     "execution_count": 7,
     "metadata": {},
     "output_type": "execute_result"
    }
   ],
   "source": [
    "data.duplicated().sum()"
   ]
  },
  {
   "cell_type": "markdown",
   "metadata": {},
   "source": [
    "Вывод: В датасете 16 715 строк и 11 столбцов. В некоторых столбцах пропущенные значения достигают 51%. ряд столбцов содержит некорректный тип данных. Наименования столбцов для удобства следует привести к нижнему регистру."
   ]
  },
  {
   "cell_type": "markdown",
   "metadata": {},
   "source": [
    "### Предобработка данных"
   ]
  },
  {
   "cell_type": "markdown",
   "metadata": {},
   "source": [
    "Заменим названия столбцов и приведем их к нижнему регистру."
   ]
  },
  {
   "cell_type": "code",
   "execution_count": 8,
   "metadata": {},
   "outputs": [
    {
     "data": {
      "text/plain": [
       "Index(['name', 'platform', 'year_of_release', 'genre', 'na_sales', 'eu_sales',\n",
       "       'jp_sales', 'other_sales', 'critic_score', 'user_score', 'rating'],\n",
       "      dtype='object')"
      ]
     },
     "execution_count": 8,
     "metadata": {},
     "output_type": "execute_result"
    }
   ],
   "source": [
    "#переименование колонок (исправление стиля)\n",
    "data.columns = data.columns.map(lambda x: x.lower())\n",
    "\n",
    "#проверим внесение изменений:\n",
    "data.columns"
   ]
  },
  {
   "cell_type": "code",
   "execution_count": 9,
   "metadata": {},
   "outputs": [],
   "source": [
    "#чтобы избежать повторяющихся действий создадим функцию для описания столбцов\n",
    "def description(column):\n",
    "    print('наименование столбца:',column)\n",
    "    print('тип данных:', data[column].dtypes)\n",
    "    print('пропущенно значений:',data[column].isna().sum())\n",
    "    if data[column].dtypes == 'object':\n",
    "        print('уникальные значения:', '\\n', data[column].value_counts())\n",
    "    else:\n",
    "        print('минимальное значение:',data[column].min())\n",
    "        print('максимальное значение:', data[column].max())"
   ]
  },
  {
   "cell_type": "markdown",
   "metadata": {},
   "source": [
    "Вначале оценим столбец с названиями игр (name)"
   ]
  },
  {
   "cell_type": "code",
   "execution_count": 10,
   "metadata": {},
   "outputs": [
    {
     "name": "stdout",
     "output_type": "stream",
     "text": [
      "наименование столбца: name\n",
      "тип данных: object\n",
      "пропущенно значений: 2\n",
      "уникальные значения: \n",
      " Need for Speed: Most Wanted                         12\n",
      "Ratatouille                                          9\n",
      "LEGO Marvel Super Heroes                             9\n",
      "FIFA 14                                              9\n",
      "Madden NFL 07                                        9\n",
      "                                                    ..\n",
      "Jewels of the Tropical Lost Island                   1\n",
      "Sherlock Holmes and the Mystery of Osborne House     1\n",
      "The King of Fighters '95 (CD)                        1\n",
      "Megamind: Mega Team Unite                            1\n",
      "Haitaka no Psychedelica                              1\n",
      "Name: name, Length: 11559, dtype: int64\n"
     ]
    }
   ],
   "source": [
    "description('name')"
   ]
  },
  {
   "cell_type": "markdown",
   "metadata": {},
   "source": [
    "Пропущенно всего 2 значения. "
   ]
  },
  {
   "cell_type": "code",
   "execution_count": 11,
   "metadata": {},
   "outputs": [
    {
     "data": {
      "text/plain": [
       "0"
      ]
     },
     "execution_count": 11,
     "metadata": {},
     "output_type": "execute_result"
    }
   ],
   "source": [
    "# Удаляем записи, где отсутствует название игры (невозможно востановить данную информацию)\n",
    "data.dropna(subset=['name'], inplace=True)\n",
    "# контрольная проверка наличия пропусков в столбце\n",
    "data['name'].isnull().sum()"
   ]
  },
  {
   "cell_type": "markdown",
   "metadata": {},
   "source": [
    "Рассмотрим столбец с указанием платформы (platform)"
   ]
  },
  {
   "cell_type": "code",
   "execution_count": 12,
   "metadata": {},
   "outputs": [
    {
     "name": "stdout",
     "output_type": "stream",
     "text": [
      "наименование столбца: platform\n",
      "тип данных: object\n",
      "пропущенно значений: 0\n",
      "уникальные значения: \n",
      " PS2     2161\n",
      "DS      2151\n",
      "PS3     1331\n",
      "Wii     1320\n",
      "X360    1262\n",
      "PSP     1209\n",
      "PS      1197\n",
      "PC       974\n",
      "XB       824\n",
      "GBA      822\n",
      "GC       556\n",
      "3DS      520\n",
      "PSV      430\n",
      "PS4      392\n",
      "N64      319\n",
      "XOne     247\n",
      "SNES     239\n",
      "SAT      173\n",
      "WiiU     147\n",
      "2600     133\n",
      "NES       98\n",
      "GB        98\n",
      "DC        52\n",
      "GEN       27\n",
      "NG        12\n",
      "SCD        6\n",
      "WS         6\n",
      "3DO        3\n",
      "TG16       2\n",
      "GG         1\n",
      "PCFX       1\n",
      "Name: platform, dtype: int64\n"
     ]
    }
   ],
   "source": [
    "description('platform')"
   ]
  },
  {
   "cell_type": "markdown",
   "metadata": {},
   "source": [
    "Пропущенных значений нет. Возникли сомнения в правильности записи наименования платформы '2600'. Поиск информации показал, что это не опечатка а сокращенное наименование 'Atari 2600' (популярная с 1977 по 1990 приставка)"
   ]
  },
  {
   "cell_type": "markdown",
   "metadata": {},
   "source": [
    "Рассмотрим столбец с указанием года выхода (year_of_release)"
   ]
  },
  {
   "cell_type": "code",
   "execution_count": 13,
   "metadata": {},
   "outputs": [
    {
     "name": "stdout",
     "output_type": "stream",
     "text": [
      "наименование столбца: year_of_release\n",
      "тип данных: float64\n",
      "пропущенно значений: 269\n",
      "минимальное значение: 1980.0\n",
      "максимальное значение: 2016.0\n"
     ]
    }
   ],
   "source": [
    "description('year_of_release')"
   ]
  },
  {
   "cell_type": "code",
   "execution_count": 14,
   "metadata": {},
   "outputs": [
    {
     "data": {
      "text/plain": [
       "array([2006., 1985., 2008., 2009., 1996., 1989., 1984., 2005., 1999.,\n",
       "       2007., 2010., 2013., 2004., 1990., 1988., 2002., 2001., 2011.,\n",
       "       1998., 2015., 2012., 2014., 1992., 1997., 1993., 1994., 1982.,\n",
       "       2016., 2003., 1986., 2000.,   nan, 1995., 1991., 1981., 1987.,\n",
       "       1980., 1983.])"
      ]
     },
     "execution_count": 14,
     "metadata": {},
     "output_type": "execute_result"
    }
   ],
   "source": [
    "data['year_of_release'].unique()"
   ]
  },
  {
   "cell_type": "code",
   "execution_count": 15,
   "metadata": {},
   "outputs": [
    {
     "data": {
      "text/plain": [
       "array([2006, 1985, 2008, 2009, 1996, 1989, 1984, 2005, 1999, 2007, 2010,\n",
       "       2013, 2004, 1990, 1988, 2002, 2001, 2011, 1998, 2015, 2012, 2014,\n",
       "       1992, 1997, 1993, 1994, 1982, 2016, 2003, 1986, 2000, 1995, 1991,\n",
       "       1981, 1987, 1980, 1983])"
      ]
     },
     "execution_count": 15,
     "metadata": {},
     "output_type": "execute_result"
    }
   ],
   "source": [
    "# Приводим в целочисленный тип год выхода игры\n",
    "# Удалим попущенные значения\n",
    "data.dropna(subset=['year_of_release'], inplace=True)\n",
    "data['year_of_release'] = data['year_of_release'].astype(int)\n",
    "\n",
    "# Проверим \n",
    "data['year_of_release'].unique()"
   ]
  },
  {
   "cell_type": "markdown",
   "metadata": {},
   "source": [
    "Рассмотрим столбец с указанием жанра (genre)"
   ]
  },
  {
   "cell_type": "code",
   "execution_count": 16,
   "metadata": {},
   "outputs": [
    {
     "name": "stdout",
     "output_type": "stream",
     "text": [
      "наименование столбца: genre\n",
      "тип данных: object\n",
      "пропущенно значений: 0\n",
      "уникальные значения: \n",
      " Action          3307\n",
      "Sports          2306\n",
      "Misc            1721\n",
      "Role-Playing    1481\n",
      "Shooter         1296\n",
      "Adventure       1293\n",
      "Racing          1226\n",
      "Platform         878\n",
      "Simulation       857\n",
      "Fighting         837\n",
      "Strategy         673\n",
      "Puzzle           569\n",
      "Name: genre, dtype: int64\n"
     ]
    }
   ],
   "source": [
    "description('genre')"
   ]
  },
  {
   "cell_type": "markdown",
   "metadata": {},
   "source": [
    "Рассмотрим столбцы по продажам(na_sales,eu_sales,jp_sales,other_sales )\n",
    "Данные записанны в миллионах проданных копий"
   ]
  },
  {
   "cell_type": "code",
   "execution_count": 17,
   "metadata": {},
   "outputs": [
    {
     "name": "stdout",
     "output_type": "stream",
     "text": [
      "наименование столбца: na_sales\n",
      "тип данных: float64\n",
      "пропущенно значений: 0\n",
      "минимальное значение: 0.0\n",
      "максимальное значение: 41.36\n",
      "------------------------------\n",
      "наименование столбца: eu_sales\n",
      "тип данных: float64\n",
      "пропущенно значений: 0\n",
      "минимальное значение: 0.0\n",
      "максимальное значение: 28.96\n",
      "------------------------------\n",
      "наименование столбца: jp_sales\n",
      "тип данных: float64\n",
      "пропущенно значений: 0\n",
      "минимальное значение: 0.0\n",
      "максимальное значение: 10.22\n",
      "------------------------------\n",
      "наименование столбца: other_sales\n",
      "тип данных: float64\n",
      "пропущенно значений: 0\n",
      "минимальное значение: 0.0\n",
      "максимальное значение: 10.57\n"
     ]
    }
   ],
   "source": [
    "description('na_sales')\n",
    "print('-'* 30)\n",
    "description('eu_sales')\n",
    "print('-'* 30)\n",
    "description('jp_sales')\n",
    "print('-'* 30)\n",
    "description('other_sales')"
   ]
  },
  {
   "cell_type": "markdown",
   "metadata": {},
   "source": [
    "Рассмотрим оценки критиков и игроков (critic_score, user_score)"
   ]
  },
  {
   "cell_type": "code",
   "execution_count": 18,
   "metadata": {},
   "outputs": [
    {
     "name": "stdout",
     "output_type": "stream",
     "text": [
      "наименование столбца: critic_score\n",
      "тип данных: float64\n",
      "пропущенно значений: 8461\n",
      "минимальное значение: 13.0\n",
      "максимальное значение: 98.0\n",
      "------------------------------\n",
      "наименование столбца: user_score\n",
      "тип данных: object\n",
      "пропущенно значений: 6605\n",
      "уникальные значения: \n",
      " tbd    2376\n",
      "7.8     322\n",
      "8       285\n",
      "8.2     276\n",
      "8.3     252\n",
      "       ... \n",
      "1.1       2\n",
      "1.9       2\n",
      "9.6       2\n",
      "0         1\n",
      "9.7       1\n",
      "Name: user_score, Length: 96, dtype: int64\n"
     ]
    }
   ],
   "source": [
    "description('critic_score')\n",
    "print('-'* 30)\n",
    "description('user_score')"
   ]
  },
  {
   "cell_type": "markdown",
   "metadata": {},
   "source": [
    "В оценках критиков мы видим 8 461 пропуск. Это может быть вызванно не правильной загрузкой данных или тем, что игра относительно новая и еще не успела получить оценку.\n",
    "\n",
    "В оценках пользлвателей мы видим необычный показатель tbd \"будет определено позже\". Также необходимо изменить тип данных на float."
   ]
  },
  {
   "cell_type": "code",
   "execution_count": 19,
   "metadata": {},
   "outputs": [
    {
     "data": {
      "text/plain": [
       "array([8. , nan, 8.3, 8.5, 6.6, 8.4, 8.6, 7.7, 6.3, 7.4, 8.2, 9. , 7.9,\n",
       "       8.1, 8.7, 7.1, 3.4, 5.3, 4.8, 3.2, 8.9, 6.4, 7.8, 7.5, 2.6, 7.2,\n",
       "       9.2, 7. , 7.3, 4.3, 7.6, 5.7, 5. , 9.1, 6.5, 8.8, 6.9, 9.4, 6.8,\n",
       "       6.1, 6.7, 5.4, 4. , 4.9, 4.5, 9.3, 6.2, 4.2, 6. , 3.7, 4.1, 5.8,\n",
       "       5.6, 5.5, 4.4, 4.6, 5.9, 3.9, 3.1, 2.9, 5.2, 3.3, 4.7, 5.1, 3.5,\n",
       "       2.5, 1.9, 3. , 2.7, 2.2, 2. , 9.5, 2.1, 3.6, 2.8, 1.8, 3.8, 0. ,\n",
       "       1.6, 9.6, 2.4, 1.7, 1.1, 0.3, 1.5, 0.7, 1.2, 2.3, 0.5, 1.3, 0.2,\n",
       "       0.6, 1.4, 0.9, 1. , 9.7])"
      ]
     },
     "execution_count": 19,
     "metadata": {},
     "output_type": "execute_result"
    }
   ],
   "source": [
    "# заменим tbd на nan.\n",
    "data.loc[data['user_score'] == 'tbd', 'user_score'] = np.nan\n",
    "# Изменим тип данных на float\n",
    "data['user_score'] = data['user_score'].astype('float')\n",
    "data['user_score'].unique()"
   ]
  },
  {
   "cell_type": "markdown",
   "metadata": {},
   "source": [
    "Мы не стали удалять пропущенные значения, т.к. они составляют практически половину датасета и это может сильно исказить другие вычисления."
   ]
  },
  {
   "cell_type": "markdown",
   "metadata": {},
   "source": [
    "Рассмотрим столбец с обозначением рейтинга от организации ESRB (rating)"
   ]
  },
  {
   "cell_type": "code",
   "execution_count": 20,
   "metadata": {},
   "outputs": [
    {
     "name": "stdout",
     "output_type": "stream",
     "text": [
      "наименование столбца: rating\n",
      "тип данных: object\n",
      "пропущенно значений: 6676\n",
      "уникальные значения: \n",
      " E       3921\n",
      "T       2905\n",
      "M       1536\n",
      "E10+    1393\n",
      "EC         8\n",
      "K-A        3\n",
      "AO         1\n",
      "RP         1\n",
      "Name: rating, dtype: int64\n"
     ]
    }
   ],
   "source": [
    "description('rating')"
   ]
  },
  {
   "cell_type": "markdown",
   "metadata": {},
   "source": [
    "Рейтинг К-А присваивали играм, содержащим контент, подходящий для широкой аудитории. Этот рейтинг использовался до 1998 года, когда он был переименован в E. Заменим значение К-А на Е для единообразия."
   ]
  },
  {
   "cell_type": "code",
   "execution_count": 21,
   "metadata": {},
   "outputs": [
    {
     "data": {
      "text/plain": [
       "array(['E', nan, 'M', 'T', 'E10+', 'AO', 'EC', 'RP'], dtype=object)"
      ]
     },
     "execution_count": 21,
     "metadata": {},
     "output_type": "execute_result"
    }
   ],
   "source": [
    "data['rating']= data['rating'].str.replace('K-A', 'E')\n",
    "# проверка\n",
    "data['rating'].unique()"
   ]
  },
  {
   "cell_type": "markdown",
   "metadata": {},
   "source": [
    "Мы видим 6676 пропусков. Возможно это данные по играм выпущенным до 1994 года (год создания рейтингового агентства)."
   ]
  },
  {
   "cell_type": "code",
   "execution_count": 22,
   "metadata": {},
   "outputs": [
    {
     "data": {
      "text/plain": [
       "year_of_release\n",
       "1980       0\n",
       "1981       0\n",
       "1982       0\n",
       "1983       0\n",
       "1984       0\n",
       "1985       1\n",
       "1986       0\n",
       "1987       0\n",
       "1988       1\n",
       "1989       0\n",
       "1990       0\n",
       "1991       0\n",
       "1992       2\n",
       "1993       0\n",
       "1994       1\n",
       "1995       0\n",
       "1996       7\n",
       "1997      19\n",
       "1998      32\n",
       "1999      42\n",
       "2000     148\n",
       "2001     339\n",
       "2002     655\n",
       "2003     613\n",
       "2004     598\n",
       "2005     706\n",
       "2006     678\n",
       "2007     821\n",
       "2008     981\n",
       "2009    1011\n",
       "2010     799\n",
       "2011     703\n",
       "2012     355\n",
       "2013     316\n",
       "2014     345\n",
       "2015     315\n",
       "2016     280\n",
       "Name: rating, dtype: int64"
      ]
     },
     "execution_count": 22,
     "metadata": {},
     "output_type": "execute_result"
    }
   ],
   "source": [
    "data.groupby(['year_of_release'])['rating'].count()"
   ]
  },
  {
   "cell_type": "markdown",
   "metadata": {},
   "source": [
    "Расчитаем суммарные продажи во всех регионах и запишим их в отдельный столбец."
   ]
  },
  {
   "cell_type": "code",
   "execution_count": 23,
   "metadata": {},
   "outputs": [
    {
     "data": {
      "text/html": [
       "<div>\n",
       "<style scoped>\n",
       "    .dataframe tbody tr th:only-of-type {\n",
       "        vertical-align: middle;\n",
       "    }\n",
       "\n",
       "    .dataframe tbody tr th {\n",
       "        vertical-align: top;\n",
       "    }\n",
       "\n",
       "    .dataframe thead th {\n",
       "        text-align: right;\n",
       "    }\n",
       "</style>\n",
       "<table border=\"1\" class=\"dataframe\">\n",
       "  <thead>\n",
       "    <tr style=\"text-align: right;\">\n",
       "      <th></th>\n",
       "      <th>name</th>\n",
       "      <th>platform</th>\n",
       "      <th>year_of_release</th>\n",
       "      <th>genre</th>\n",
       "      <th>na_sales</th>\n",
       "      <th>eu_sales</th>\n",
       "      <th>jp_sales</th>\n",
       "      <th>other_sales</th>\n",
       "      <th>critic_score</th>\n",
       "      <th>user_score</th>\n",
       "      <th>rating</th>\n",
       "      <th>total_sales</th>\n",
       "    </tr>\n",
       "  </thead>\n",
       "  <tbody>\n",
       "    <tr>\n",
       "      <th>0</th>\n",
       "      <td>Wii Sports</td>\n",
       "      <td>Wii</td>\n",
       "      <td>2006</td>\n",
       "      <td>Sports</td>\n",
       "      <td>41.36</td>\n",
       "      <td>28.96</td>\n",
       "      <td>3.77</td>\n",
       "      <td>8.45</td>\n",
       "      <td>76.0</td>\n",
       "      <td>8.0</td>\n",
       "      <td>E</td>\n",
       "      <td>82.54</td>\n",
       "    </tr>\n",
       "    <tr>\n",
       "      <th>1</th>\n",
       "      <td>Super Mario Bros.</td>\n",
       "      <td>NES</td>\n",
       "      <td>1985</td>\n",
       "      <td>Platform</td>\n",
       "      <td>29.08</td>\n",
       "      <td>3.58</td>\n",
       "      <td>6.81</td>\n",
       "      <td>0.77</td>\n",
       "      <td>NaN</td>\n",
       "      <td>NaN</td>\n",
       "      <td>NaN</td>\n",
       "      <td>40.24</td>\n",
       "    </tr>\n",
       "    <tr>\n",
       "      <th>2</th>\n",
       "      <td>Mario Kart Wii</td>\n",
       "      <td>Wii</td>\n",
       "      <td>2008</td>\n",
       "      <td>Racing</td>\n",
       "      <td>15.68</td>\n",
       "      <td>12.76</td>\n",
       "      <td>3.79</td>\n",
       "      <td>3.29</td>\n",
       "      <td>82.0</td>\n",
       "      <td>8.3</td>\n",
       "      <td>E</td>\n",
       "      <td>35.52</td>\n",
       "    </tr>\n",
       "    <tr>\n",
       "      <th>3</th>\n",
       "      <td>Wii Sports Resort</td>\n",
       "      <td>Wii</td>\n",
       "      <td>2009</td>\n",
       "      <td>Sports</td>\n",
       "      <td>15.61</td>\n",
       "      <td>10.93</td>\n",
       "      <td>3.28</td>\n",
       "      <td>2.95</td>\n",
       "      <td>80.0</td>\n",
       "      <td>8.0</td>\n",
       "      <td>E</td>\n",
       "      <td>32.77</td>\n",
       "    </tr>\n",
       "    <tr>\n",
       "      <th>4</th>\n",
       "      <td>Pokemon Red/Pokemon Blue</td>\n",
       "      <td>GB</td>\n",
       "      <td>1996</td>\n",
       "      <td>Role-Playing</td>\n",
       "      <td>11.27</td>\n",
       "      <td>8.89</td>\n",
       "      <td>10.22</td>\n",
       "      <td>1.00</td>\n",
       "      <td>NaN</td>\n",
       "      <td>NaN</td>\n",
       "      <td>NaN</td>\n",
       "      <td>31.38</td>\n",
       "    </tr>\n",
       "  </tbody>\n",
       "</table>\n",
       "</div>"
      ],
      "text/plain": [
       "                       name platform  year_of_release         genre  na_sales  \\\n",
       "0                Wii Sports      Wii             2006        Sports     41.36   \n",
       "1         Super Mario Bros.      NES             1985      Platform     29.08   \n",
       "2            Mario Kart Wii      Wii             2008        Racing     15.68   \n",
       "3         Wii Sports Resort      Wii             2009        Sports     15.61   \n",
       "4  Pokemon Red/Pokemon Blue       GB             1996  Role-Playing     11.27   \n",
       "\n",
       "   eu_sales  jp_sales  other_sales  critic_score  user_score rating  \\\n",
       "0     28.96      3.77         8.45          76.0         8.0      E   \n",
       "1      3.58      6.81         0.77           NaN         NaN    NaN   \n",
       "2     12.76      3.79         3.29          82.0         8.3      E   \n",
       "3     10.93      3.28         2.95          80.0         8.0      E   \n",
       "4      8.89     10.22         1.00           NaN         NaN    NaN   \n",
       "\n",
       "   total_sales  \n",
       "0        82.54  \n",
       "1        40.24  \n",
       "2        35.52  \n",
       "3        32.77  \n",
       "4        31.38  "
      ]
     },
     "execution_count": 23,
     "metadata": {},
     "output_type": "execute_result"
    }
   ],
   "source": [
    "data['total_sales'] = data['na_sales'] + data['eu_sales'] + data['jp_sales'] + data['other_sales']\n",
    "# проверка\n",
    "data.head()"
   ]
  },
  {
   "cell_type": "markdown",
   "metadata": {},
   "source": [
    "Вывод: Наименования солбцов были приведены к нижнему регистру. Из столбцов с наименованиями и годом выпуска были удалены строки, т.к. эти данные невозможно востановить. Пропуски в других столбцах не привели к удалению строк,но и не были заполненны т.к. это может повлечь за собой некорректные расчеты. Создан  дополнительный столбец с суммарными продажами по всем регионам. Все данные приведены к удобным для работы форматам."
   ]
  },
  {
   "cell_type": "markdown",
   "metadata": {},
   "source": [
    "### Исследовательский анализ данных"
   ]
  },
  {
   "cell_type": "markdown",
   "metadata": {},
   "source": [
    "Посмотрим, сколько игр выпускалось в разные годы. "
   ]
  },
  {
   "cell_type": "code",
   "execution_count": 24,
   "metadata": {},
   "outputs": [
    {
     "data": {
      "image/png": "[encoded data removed]",
      "text/plain": [
       "<Figure size 1000x1000 with 1 Axes>"
      ]
     },
     "metadata": {},
     "output_type": "display_data"
    }
   ],
   "source": [
    "data.groupby(by='year_of_release')['year_of_release'].count().plot(kind='bar', \n",
    "                                                                   ylabel = 'count', \n",
    "                                                                   title='Колличество выпущенных игр по годам',\n",
    "                                                                   figsize=(10,10));"
   ]
  },
  {
   "cell_type": "markdown",
   "metadata": {},
   "source": [
    "Можно отметить резкие скачки в 1994, а затем в 2002 году. А уже с 2010 наблюдется устойчивый спад, в колличестве выпускаемых игр.\n",
    "Такм образом данные до 1994 года можно отбросить. Наибольший интерес для нас будут представялять игры выпущенные с 2007 (год пика выпуска игр), до 2016 соответсвенно."
   ]
  },
  {
   "cell_type": "markdown",
   "metadata": {},
   "source": [
    "Рассмотрим, как менялись продажи по платформам."
   ]
  },
  {
   "cell_type": "code",
   "execution_count": 25,
   "metadata": {},
   "outputs": [
    {
     "data": {
      "text/html": [
       "<div>\n",
       "<style scoped>\n",
       "    .dataframe tbody tr th:only-of-type {\n",
       "        vertical-align: middle;\n",
       "    }\n",
       "\n",
       "    .dataframe tbody tr th {\n",
       "        vertical-align: top;\n",
       "    }\n",
       "\n",
       "    .dataframe thead th {\n",
       "        text-align: right;\n",
       "    }\n",
       "</style>\n",
       "<table border=\"1\" class=\"dataframe\">\n",
       "  <thead>\n",
       "    <tr style=\"text-align: right;\">\n",
       "      <th></th>\n",
       "      <th>name</th>\n",
       "      <th>platform</th>\n",
       "      <th>year_of_release</th>\n",
       "      <th>genre</th>\n",
       "      <th>na_sales</th>\n",
       "      <th>eu_sales</th>\n",
       "      <th>jp_sales</th>\n",
       "      <th>other_sales</th>\n",
       "      <th>critic_score</th>\n",
       "      <th>user_score</th>\n",
       "      <th>rating</th>\n",
       "      <th>total_sales</th>\n",
       "    </tr>\n",
       "  </thead>\n",
       "  <tbody>\n",
       "    <tr>\n",
       "      <th>0</th>\n",
       "      <td>Wii Sports</td>\n",
       "      <td>Wii</td>\n",
       "      <td>2006</td>\n",
       "      <td>Sports</td>\n",
       "      <td>41.36</td>\n",
       "      <td>28.96</td>\n",
       "      <td>3.77</td>\n",
       "      <td>8.45</td>\n",
       "      <td>76.0</td>\n",
       "      <td>8.0</td>\n",
       "      <td>E</td>\n",
       "      <td>82.54</td>\n",
       "    </tr>\n",
       "  </tbody>\n",
       "</table>\n",
       "</div>"
      ],
      "text/plain": [
       "         name platform  year_of_release   genre  na_sales  eu_sales  jp_sales  \\\n",
       "0  Wii Sports      Wii             2006  Sports     41.36     28.96      3.77   \n",
       "\n",
       "   other_sales  critic_score  user_score rating  total_sales  \n",
       "0         8.45          76.0         8.0      E        82.54  "
      ]
     },
     "execution_count": 25,
     "metadata": {},
     "output_type": "execute_result"
    }
   ],
   "source": [
    "data.head(1)"
   ]
  },
  {
   "cell_type": "markdown",
   "metadata": {},
   "source": [
    "Выберем платформы с наибольшими суммарными продажами."
   ]
  },
  {
   "cell_type": "code",
   "execution_count": 26,
   "metadata": {},
   "outputs": [
    {
     "data": {
      "image/png": "[encoded data removed]",
      "text/plain": [
       "<Figure size 1000x1000 with 1 Axes>"
      ]
     },
     "metadata": {},
     "output_type": "display_data"
    }
   ],
   "source": [
    "data.groupby(by='platform')['total_sales'].sum().plot(kind='bar', ylabel = 'sum', figsize=(10,10));"
   ]
  },
  {
   "cell_type": "code",
   "execution_count": 27,
   "metadata": {},
   "outputs": [
    {
     "data": {
      "text/html": [
       "<div>\n",
       "<style scoped>\n",
       "    .dataframe tbody tr th:only-of-type {\n",
       "        vertical-align: middle;\n",
       "    }\n",
       "\n",
       "    .dataframe tbody tr th {\n",
       "        vertical-align: top;\n",
       "    }\n",
       "\n",
       "    .dataframe thead th {\n",
       "        text-align: right;\n",
       "    }\n",
       "</style>\n",
       "<table border=\"1\" class=\"dataframe\">\n",
       "  <thead>\n",
       "    <tr style=\"text-align: right;\">\n",
       "      <th></th>\n",
       "      <th>total_sales</th>\n",
       "    </tr>\n",
       "    <tr>\n",
       "      <th>platform</th>\n",
       "      <th></th>\n",
       "    </tr>\n",
       "  </thead>\n",
       "  <tbody>\n",
       "    <tr>\n",
       "      <th>PS2</th>\n",
       "      <td>1233.56</td>\n",
       "    </tr>\n",
       "    <tr>\n",
       "      <th>X360</th>\n",
       "      <td>961.24</td>\n",
       "    </tr>\n",
       "    <tr>\n",
       "      <th>PS3</th>\n",
       "      <td>931.34</td>\n",
       "    </tr>\n",
       "    <tr>\n",
       "      <th>Wii</th>\n",
       "      <td>891.18</td>\n",
       "    </tr>\n",
       "    <tr>\n",
       "      <th>DS</th>\n",
       "      <td>802.78</td>\n",
       "    </tr>\n",
       "    <tr>\n",
       "      <th>PS</th>\n",
       "      <td>727.58</td>\n",
       "    </tr>\n",
       "    <tr>\n",
       "      <th>PS4</th>\n",
       "      <td>314.14</td>\n",
       "    </tr>\n",
       "    <tr>\n",
       "      <th>GBA</th>\n",
       "      <td>312.88</td>\n",
       "    </tr>\n",
       "    <tr>\n",
       "      <th>PSP</th>\n",
       "      <td>289.53</td>\n",
       "    </tr>\n",
       "    <tr>\n",
       "      <th>3DS</th>\n",
       "      <td>257.81</td>\n",
       "    </tr>\n",
       "    <tr>\n",
       "      <th>PC</th>\n",
       "      <td>255.76</td>\n",
       "    </tr>\n",
       "    <tr>\n",
       "      <th>GB</th>\n",
       "      <td>254.43</td>\n",
       "    </tr>\n",
       "    <tr>\n",
       "      <th>XB</th>\n",
       "      <td>251.57</td>\n",
       "    </tr>\n",
       "    <tr>\n",
       "      <th>NES</th>\n",
       "      <td>251.05</td>\n",
       "    </tr>\n",
       "    <tr>\n",
       "      <th>N64</th>\n",
       "      <td>218.01</td>\n",
       "    </tr>\n",
       "    <tr>\n",
       "      <th>SNES</th>\n",
       "      <td>200.04</td>\n",
       "    </tr>\n",
       "    <tr>\n",
       "      <th>GC</th>\n",
       "      <td>196.73</td>\n",
       "    </tr>\n",
       "    <tr>\n",
       "      <th>XOne</th>\n",
       "      <td>159.32</td>\n",
       "    </tr>\n",
       "    <tr>\n",
       "      <th>2600</th>\n",
       "      <td>86.48</td>\n",
       "    </tr>\n",
       "    <tr>\n",
       "      <th>WiiU</th>\n",
       "      <td>82.19</td>\n",
       "    </tr>\n",
       "    <tr>\n",
       "      <th>PSV</th>\n",
       "      <td>53.81</td>\n",
       "    </tr>\n",
       "    <tr>\n",
       "      <th>SAT</th>\n",
       "      <td>33.59</td>\n",
       "    </tr>\n",
       "    <tr>\n",
       "      <th>GEN</th>\n",
       "      <td>28.35</td>\n",
       "    </tr>\n",
       "    <tr>\n",
       "      <th>DC</th>\n",
       "      <td>15.95</td>\n",
       "    </tr>\n",
       "    <tr>\n",
       "      <th>SCD</th>\n",
       "      <td>1.86</td>\n",
       "    </tr>\n",
       "    <tr>\n",
       "      <th>NG</th>\n",
       "      <td>1.44</td>\n",
       "    </tr>\n",
       "    <tr>\n",
       "      <th>WS</th>\n",
       "      <td>1.42</td>\n",
       "    </tr>\n",
       "    <tr>\n",
       "      <th>TG16</th>\n",
       "      <td>0.16</td>\n",
       "    </tr>\n",
       "    <tr>\n",
       "      <th>3DO</th>\n",
       "      <td>0.10</td>\n",
       "    </tr>\n",
       "    <tr>\n",
       "      <th>GG</th>\n",
       "      <td>0.04</td>\n",
       "    </tr>\n",
       "    <tr>\n",
       "      <th>PCFX</th>\n",
       "      <td>0.03</td>\n",
       "    </tr>\n",
       "  </tbody>\n",
       "</table>\n",
       "</div>"
      ],
      "text/plain": [
       "          total_sales\n",
       "platform             \n",
       "PS2           1233.56\n",
       "X360           961.24\n",
       "PS3            931.34\n",
       "Wii            891.18\n",
       "DS             802.78\n",
       "PS             727.58\n",
       "PS4            314.14\n",
       "GBA            312.88\n",
       "PSP            289.53\n",
       "3DS            257.81\n",
       "PC             255.76\n",
       "GB             254.43\n",
       "XB             251.57\n",
       "NES            251.05\n",
       "N64            218.01\n",
       "SNES           200.04\n",
       "GC             196.73\n",
       "XOne           159.32\n",
       "2600            86.48\n",
       "WiiU            82.19\n",
       "PSV             53.81\n",
       "SAT             33.59\n",
       "GEN             28.35\n",
       "DC              15.95\n",
       "SCD              1.86\n",
       "NG               1.44\n",
       "WS               1.42\n",
       "TG16             0.16\n",
       "3DO              0.10\n",
       "GG               0.04\n",
       "PCFX             0.03"
      ]
     },
     "execution_count": 27,
     "metadata": {},
     "output_type": "execute_result"
    }
   ],
   "source": [
    "(\n",
    "    data.pivot_table(index = 'platform', values = 'total_sales', aggfunc = 'sum')\n",
    "    .sort_values(by = 'total_sales', ascending = False)\n",
    ")"
   ]
  },
  {
   "cell_type": "markdown",
   "metadata": {},
   "source": [
    "Исходя из иформации представленно на графике, можно выделить Топ-10 наиболее популярных платформ.\n",
    "\n",
    "Топ-6:\n",
    "- PS2\n",
    "- X360\n",
    "- PS3\n",
    "- Wii\n",
    "- DS\n",
    "- PS\n",
    "- PS4\n",
    "- GBA\n",
    "- PSP\n",
    "- 3DS"
   ]
  },
  {
   "cell_type": "markdown",
   "metadata": {},
   "source": [
    "Построим распределение по годам для топ-6 платформ. "
   ]
  },
  {
   "cell_type": "code",
   "execution_count": 33,
   "metadata": {},
   "outputs": [
    {
     "data": {
      "image/png": "[encoded data removed]",
      "text/plain": [
       "<Figure size 2000x500 with 1 Axes>"
      ]
     },
     "metadata": {},
     "output_type": "display_data"
    }
   ],
   "source": [
    "top_p = data.groupby('platform').sum()['total_sales'].sort_values(ascending=False).index.values[:10]\n",
    "\n",
    "popular_p = data[data.platform.isin(top_p)]\n",
    "popular_p = popular_p.pivot_table(index='year_of_release', columns='platform', values='total_sales', aggfunc='sum')\n",
    "popular_p.plot(figsize=(20,5));"
   ]
  },
  {
   "cell_type": "code",
   "execution_count": 34,
   "metadata": {},
   "outputs": [
    {
     "data": {
      "image/png": "[encoded data removed]",
      "text/plain": [
       "<Figure size 2000x500 with 1 Axes>"
      ]
     },
     "metadata": {},
     "output_type": "display_data"
    }
   ],
   "source": [
    "top_p = data.groupby('platform').sum()['total_sales'].sort_values(ascending=False).index\n",
    "\n",
    "popular_p = data[data.platform.isin(top_p)]\n",
    "popular_p = popular_p.pivot_table(index='year_of_release', columns='platform', values='total_sales', aggfunc='sum')\n",
    "popular_p.plot(figsize=(20,5));"
   ]
  },
  {
   "cell_type": "markdown",
   "metadata": {},
   "source": [
    "Вывод: За какой характерный срок появляются новые и исчезают старые платформы?"
   ]
  },
  {
   "cell_type": "markdown",
   "metadata": {},
   "source": [
    "  \n",
    "Возьмите данные за соответствующий актуальный период. Актуальный период определите самостоятельно в результате исследования предыдущих вопросов. Основной фактор — эти данные помогут построить прогноз на 2017 год.\n",
    "Не учитывайте в работе данные за предыдущие годы. \n",
    "\n",
    "ОБРАЗАТЬ ДАТАСЕТ С 2007 года"
   ]
  },
  {
   "cell_type": "markdown",
   "metadata": {},
   "source": [
    "Какие платформы лидируют по продажам, растут или падают? Выберите несколько потенциально прибыльных платформ.\n",
    "Постройте график «ящик с усами» по глобальным продажам игр в разбивке по платформам. Опишите результат."
   ]
  },
  {
   "cell_type": "markdown",
   "metadata": {},
   "source": [
    "Посмотрите, как влияют на продажи внутри одной популярной платформы отзывы пользователей и критиков. Постройте диаграмму рассеяния и посчитайте корреляцию между отзывами и продажами. Сформулируйте выводы.\n",
    "Соотнесите выводы с продажами игр на других платформах."
   ]
  },
  {
   "cell_type": "markdown",
   "metadata": {},
   "source": [
    "Посмотрите на общее распределение игр по жанрам. Что можно сказать о самых прибыльных жанрах? Выделяются ли жанры с высокими и низкими продажами?"
   ]
  },
  {
   "cell_type": "markdown",
   "metadata": {},
   "source": [
    "Шаг 4. Составьте портрет пользователя каждого региона\n",
    "Определите для пользователя каждого региона (NA, EU, JP):\n",
    "Самые популярные платформы (топ-5). Опишите различия в долях продаж.\n",
    "Самые популярные жанры (топ-5). Поясните разницу.\n",
    "Влияет ли рейтинг ESRB на продажи в отдельном регионе?"
   ]
  },
  {
   "cell_type": "markdown",
   "metadata": {},
   "source": [
    "Шаг 5. Проверьте гипотезы\n",
    "Средние пользовательские рейтинги платформ Xbox One и PC одинаковые;\n",
    "Средние пользовательские рейтинги жанров Action (англ. «действие», экшен-игры) и Sports (англ. «спортивные соревнования») разные.\n",
    "Задайте самостоятельно пороговое значение alpha.\n",
    "Поясните:\n",
    "Как вы сформулировали нулевую и альтернативную гипотезы;\n",
    "Какой критерий применили для проверки гипотез и почему.\n"
   ]
  },
  {
   "cell_type": "markdown",
   "metadata": {},
   "source": [
    "Шаг 6. Напишите общий вывод"
   ]
  },
  {
   "cell_type": "code",
   "execution_count": null,
   "metadata": {},
   "outputs": [],
   "source": []
  }
 ],
 "metadata": {
  "ExecuteTimeLog": [
   {
    "duration": 1538,
    "start_time": "2022-12-26T08:11:19.378Z"
   },
   {
    "duration": 44,
    "start_time": "2022-12-26T08:11:33.026Z"
   },
   {
    "duration": 151,
    "start_time": "2022-12-26T08:12:12.082Z"
   },
   {
    "duration": 162,
    "start_time": "2022-12-26T08:12:45.360Z"
   },
   {
    "duration": 152,
    "start_time": "2022-12-26T08:13:11.106Z"
   },
   {
    "duration": 87,
    "start_time": "2022-12-26T08:13:15.382Z"
   },
   {
    "duration": 61,
    "start_time": "2022-12-26T08:13:28.058Z"
   },
   {
    "duration": 43,
    "start_time": "2022-12-26T08:15:32.323Z"
   },
   {
    "duration": 765,
    "start_time": "2022-12-26T08:19:23.541Z"
   },
   {
    "duration": 638,
    "start_time": "2022-12-26T08:19:36.343Z"
   },
   {
    "duration": 716,
    "start_time": "2022-12-26T08:20:20.231Z"
   },
   {
    "duration": 638,
    "start_time": "2022-12-26T08:20:30.140Z"
   },
   {
    "duration": 53,
    "start_time": "2022-12-26T08:21:53.209Z"
   },
   {
    "duration": 19,
    "start_time": "2022-12-26T08:22:28.291Z"
   },
   {
    "duration": 16,
    "start_time": "2022-12-26T08:22:34.301Z"
   },
   {
    "duration": 4,
    "start_time": "2022-12-26T08:26:56.929Z"
   },
   {
    "duration": 22,
    "start_time": "2022-12-26T08:27:01.318Z"
   },
   {
    "duration": 6,
    "start_time": "2022-12-26T08:33:30.712Z"
   },
   {
    "duration": 5,
    "start_time": "2022-12-26T08:39:10.092Z"
   },
   {
    "duration": 5,
    "start_time": "2022-12-26T08:43:59.384Z"
   },
   {
    "duration": 4,
    "start_time": "2022-12-26T08:44:04.435Z"
   },
   {
    "duration": 60,
    "start_time": "2022-12-26T08:44:14.849Z"
   },
   {
    "duration": 40,
    "start_time": "2022-12-26T08:44:16.532Z"
   },
   {
    "duration": 639,
    "start_time": "2022-12-26T08:44:17.266Z"
   },
   {
    "duration": 15,
    "start_time": "2022-12-26T08:44:17.908Z"
   },
   {
    "duration": 5,
    "start_time": "2022-12-26T08:44:21.504Z"
   },
   {
    "duration": 22,
    "start_time": "2022-12-26T08:44:22.538Z"
   },
   {
    "duration": 19,
    "start_time": "2022-12-26T08:44:35.016Z"
   },
   {
    "duration": 42,
    "start_time": "2022-12-26T08:46:11.713Z"
   },
   {
    "duration": 5,
    "start_time": "2022-12-26T08:47:35.430Z"
   },
   {
    "duration": 45,
    "start_time": "2022-12-26T08:47:47.302Z"
   },
   {
    "duration": 10,
    "start_time": "2022-12-26T08:51:19.186Z"
   },
   {
    "duration": 28,
    "start_time": "2022-12-26T08:51:28.783Z"
   },
   {
    "duration": 12,
    "start_time": "2022-12-26T08:51:45.571Z"
   },
   {
    "duration": 16,
    "start_time": "2022-12-26T08:52:57.922Z"
   },
   {
    "duration": 13,
    "start_time": "2022-12-26T08:53:12.838Z"
   },
   {
    "duration": 7,
    "start_time": "2022-12-26T08:53:19.035Z"
   },
   {
    "duration": 9,
    "start_time": "2022-12-26T08:53:36.940Z"
   },
   {
    "duration": 7,
    "start_time": "2022-12-26T08:53:41.220Z"
   },
   {
    "duration": 5,
    "start_time": "2022-12-26T08:53:48.199Z"
   },
   {
    "duration": 6,
    "start_time": "2022-12-26T08:53:52.554Z"
   },
   {
    "duration": 8,
    "start_time": "2022-12-26T08:57:47.773Z"
   },
   {
    "duration": 12,
    "start_time": "2022-12-26T08:58:43.372Z"
   },
   {
    "duration": 8,
    "start_time": "2022-12-26T09:00:21.766Z"
   },
   {
    "duration": 3,
    "start_time": "2022-12-26T09:07:03.942Z"
   },
   {
    "duration": 23,
    "start_time": "2022-12-26T09:07:08.470Z"
   },
   {
    "duration": 7,
    "start_time": "2022-12-26T09:07:57.688Z"
   },
   {
    "duration": 25,
    "start_time": "2022-12-26T09:10:12.432Z"
   },
   {
    "duration": 24,
    "start_time": "2022-12-26T09:10:30.850Z"
   },
   {
    "duration": 30,
    "start_time": "2022-12-26T09:11:33.961Z"
   },
   {
    "duration": 16,
    "start_time": "2022-12-26T09:11:50.645Z"
   },
   {
    "duration": 12,
    "start_time": "2022-12-26T09:11:56.931Z"
   },
   {
    "duration": 13,
    "start_time": "2022-12-26T09:16:51.642Z"
   },
   {
    "duration": 9,
    "start_time": "2022-12-26T09:17:05.102Z"
   },
   {
    "duration": 5,
    "start_time": "2022-12-26T09:17:14.752Z"
   },
   {
    "duration": 29,
    "start_time": "2022-12-26T09:17:48.964Z"
   },
   {
    "duration": 27,
    "start_time": "2022-12-26T09:18:04.193Z"
   },
   {
    "duration": 28,
    "start_time": "2022-12-26T09:18:25.363Z"
   },
   {
    "duration": 26,
    "start_time": "2022-12-26T09:18:45.615Z"
   },
   {
    "duration": 28,
    "start_time": "2022-12-26T09:19:07.477Z"
   },
   {
    "duration": 1426,
    "start_time": "2022-12-26T13:13:54.856Z"
   },
   {
    "duration": 46,
    "start_time": "2022-12-26T13:13:57.982Z"
   },
   {
    "duration": 646,
    "start_time": "2022-12-26T13:13:58.267Z"
   },
   {
    "duration": 56,
    "start_time": "2022-12-26T13:13:58.916Z"
   },
   {
    "duration": 5,
    "start_time": "2022-12-26T13:13:59.513Z"
   },
   {
    "duration": 4,
    "start_time": "2022-12-26T13:13:59.793Z"
   },
   {
    "duration": 12,
    "start_time": "2022-12-26T13:14:01.925Z"
   },
   {
    "duration": 11,
    "start_time": "2022-12-26T13:14:03.413Z"
   },
   {
    "duration": 10,
    "start_time": "2022-12-26T13:14:04.745Z"
   },
   {
    "duration": 7,
    "start_time": "2022-12-26T13:14:06.585Z"
   },
   {
    "duration": 6,
    "start_time": "2022-12-26T13:14:07.685Z"
   },
   {
    "duration": 26,
    "start_time": "2022-12-26T13:14:08.717Z"
   },
   {
    "duration": 5,
    "start_time": "2022-12-26T13:20:37.267Z"
   },
   {
    "duration": 32,
    "start_time": "2022-12-26T13:21:35.486Z"
   },
   {
    "duration": 25,
    "start_time": "2022-12-26T13:22:14.278Z"
   },
   {
    "duration": 28,
    "start_time": "2022-12-26T13:22:18.767Z"
   },
   {
    "duration": 27,
    "start_time": "2022-12-26T13:23:09.375Z"
   },
   {
    "duration": 3,
    "start_time": "2022-12-26T13:26:14.173Z"
   },
   {
    "duration": 5,
    "start_time": "2022-12-26T13:26:27.503Z"
   },
   {
    "duration": 19,
    "start_time": "2022-12-26T13:26:35.164Z"
   },
   {
    "duration": 1084,
    "start_time": "2022-12-26T13:26:52.097Z"
   },
   {
    "duration": 3,
    "start_time": "2022-12-26T13:26:53.519Z"
   },
   {
    "duration": 1207,
    "start_time": "2022-12-26T13:27:18.362Z"
   },
   {
    "duration": 28,
    "start_time": "2022-12-26T13:27:52.539Z"
   },
   {
    "duration": 23,
    "start_time": "2022-12-26T13:28:23.161Z"
   },
   {
    "duration": 17,
    "start_time": "2022-12-26T13:30:12.059Z"
   },
   {
    "duration": 8,
    "start_time": "2022-12-26T13:32:55.882Z"
   },
   {
    "duration": 11,
    "start_time": "2022-12-26T13:33:21.158Z"
   },
   {
    "duration": 1379,
    "start_time": "2022-12-26T13:33:43.819Z"
   },
   {
    "duration": 42,
    "start_time": "2022-12-26T13:33:45.200Z"
   },
   {
    "duration": 789,
    "start_time": "2022-12-26T13:33:45.244Z"
   },
   {
    "duration": 88,
    "start_time": "2022-12-26T13:33:46.035Z"
   },
   {
    "duration": 19,
    "start_time": "2022-12-26T13:33:46.125Z"
   },
   {
    "duration": 5,
    "start_time": "2022-12-26T13:33:46.146Z"
   },
   {
    "duration": 19,
    "start_time": "2022-12-26T13:33:46.154Z"
   },
   {
    "duration": 20,
    "start_time": "2022-12-26T13:33:46.175Z"
   },
   {
    "duration": 24,
    "start_time": "2022-12-26T13:33:46.198Z"
   },
   {
    "duration": 9,
    "start_time": "2022-12-26T13:33:46.226Z"
   },
   {
    "duration": 12,
    "start_time": "2022-12-26T13:33:46.237Z"
   },
   {
    "duration": 6,
    "start_time": "2022-12-26T13:33:46.251Z"
   },
   {
    "duration": 71,
    "start_time": "2022-12-26T13:33:46.261Z"
   },
   {
    "duration": 13,
    "start_time": "2022-12-26T13:33:46.334Z"
   },
   {
    "duration": 10,
    "start_time": "2022-12-26T13:35:35.882Z"
   },
   {
    "duration": 31,
    "start_time": "2022-12-26T13:37:03.974Z"
   },
   {
    "duration": 15,
    "start_time": "2022-12-26T13:39:08.128Z"
   },
   {
    "duration": 11,
    "start_time": "2022-12-26T13:46:41.657Z"
   },
   {
    "duration": 12,
    "start_time": "2022-12-26T13:47:59.522Z"
   },
   {
    "duration": 135,
    "start_time": "2022-12-26T13:51:59.113Z"
   },
   {
    "duration": 8,
    "start_time": "2022-12-26T13:52:08.906Z"
   },
   {
    "duration": 715,
    "start_time": "2022-12-26T13:52:25.057Z"
   },
   {
    "duration": 5,
    "start_time": "2022-12-26T13:52:36.827Z"
   },
   {
    "duration": 11,
    "start_time": "2022-12-26T13:55:18.311Z"
   },
   {
    "duration": 10,
    "start_time": "2022-12-26T13:55:31.903Z"
   },
   {
    "duration": 9,
    "start_time": "2022-12-26T13:58:14.635Z"
   },
   {
    "duration": 10,
    "start_time": "2022-12-26T13:58:29.215Z"
   },
   {
    "duration": 8,
    "start_time": "2022-12-26T14:00:41.672Z"
   },
   {
    "duration": 6,
    "start_time": "2022-12-26T14:07:26.635Z"
   },
   {
    "duration": 1288,
    "start_time": "2022-12-26T14:35:58.909Z"
   },
   {
    "duration": 1290,
    "start_time": "2022-12-26T14:36:05.069Z"
   },
   {
    "duration": 64,
    "start_time": "2022-12-26T14:36:07.742Z"
   },
   {
    "duration": 41,
    "start_time": "2022-12-26T14:36:10.116Z"
   },
   {
    "duration": 608,
    "start_time": "2022-12-26T14:36:10.525Z"
   },
   {
    "duration": 53,
    "start_time": "2022-12-26T14:36:11.135Z"
   },
   {
    "duration": 18,
    "start_time": "2022-12-26T14:36:11.454Z"
   },
   {
    "duration": 5,
    "start_time": "2022-12-26T14:36:12.509Z"
   },
   {
    "duration": 6,
    "start_time": "2022-12-26T14:36:12.761Z"
   },
   {
    "duration": 15,
    "start_time": "2022-12-26T14:36:13.264Z"
   },
   {
    "duration": 11,
    "start_time": "2022-12-26T14:36:13.760Z"
   },
   {
    "duration": 8,
    "start_time": "2022-12-26T14:36:14.241Z"
   },
   {
    "duration": 7,
    "start_time": "2022-12-26T14:36:14.921Z"
   },
   {
    "duration": 6,
    "start_time": "2022-12-26T14:36:15.147Z"
   },
   {
    "duration": 12,
    "start_time": "2022-12-26T14:36:15.381Z"
   },
   {
    "duration": 7,
    "start_time": "2022-12-26T14:36:15.825Z"
   },
   {
    "duration": 15,
    "start_time": "2022-12-26T14:36:16.265Z"
   },
   {
    "duration": 12,
    "start_time": "2022-12-26T14:36:16.722Z"
   },
   {
    "duration": 11,
    "start_time": "2022-12-26T14:36:17.797Z"
   },
   {
    "duration": 8,
    "start_time": "2022-12-26T14:36:19.544Z"
   },
   {
    "duration": 12,
    "start_time": "2022-12-26T14:36:23.080Z"
   },
   {
    "duration": 128,
    "start_time": "2022-12-26T14:36:45.090Z"
   },
   {
    "duration": 16,
    "start_time": "2022-12-26T14:36:49.792Z"
   },
   {
    "duration": 8,
    "start_time": "2022-12-26T14:36:56.822Z"
   },
   {
    "duration": 11,
    "start_time": "2022-12-26T14:40:10.936Z"
   },
   {
    "duration": 10,
    "start_time": "2022-12-26T14:40:36.810Z"
   },
   {
    "duration": 11,
    "start_time": "2022-12-26T14:40:51.954Z"
   },
   {
    "duration": 14,
    "start_time": "2022-12-26T14:41:11.099Z"
   },
   {
    "duration": 7,
    "start_time": "2022-12-26T14:41:53.692Z"
   },
   {
    "duration": 14,
    "start_time": "2022-12-26T14:51:09.913Z"
   },
   {
    "duration": 10,
    "start_time": "2022-12-26T14:51:25.006Z"
   },
   {
    "duration": 1238,
    "start_time": "2022-12-26T14:51:39.333Z"
   },
   {
    "duration": 66,
    "start_time": "2022-12-26T14:51:42.303Z"
   },
   {
    "duration": 41,
    "start_time": "2022-12-26T14:51:43.461Z"
   },
   {
    "duration": 634,
    "start_time": "2022-12-26T14:51:43.790Z"
   },
   {
    "duration": 76,
    "start_time": "2022-12-26T14:51:44.426Z"
   },
   {
    "duration": 16,
    "start_time": "2022-12-26T14:51:44.647Z"
   },
   {
    "duration": 5,
    "start_time": "2022-12-26T14:51:45.617Z"
   },
   {
    "duration": 4,
    "start_time": "2022-12-26T14:51:45.896Z"
   },
   {
    "duration": 12,
    "start_time": "2022-12-26T14:51:46.388Z"
   },
   {
    "duration": 13,
    "start_time": "2022-12-26T14:51:46.859Z"
   },
   {
    "duration": 8,
    "start_time": "2022-12-26T14:51:47.365Z"
   },
   {
    "duration": 7,
    "start_time": "2022-12-26T14:51:48.113Z"
   },
   {
    "duration": 6,
    "start_time": "2022-12-26T14:51:48.369Z"
   },
   {
    "duration": 14,
    "start_time": "2022-12-26T14:51:48.585Z"
   },
   {
    "duration": 9,
    "start_time": "2022-12-26T14:51:49.144Z"
   },
   {
    "duration": 13,
    "start_time": "2022-12-26T14:51:49.669Z"
   },
   {
    "duration": 13,
    "start_time": "2022-12-26T14:51:50.121Z"
   },
   {
    "duration": 10,
    "start_time": "2022-12-26T14:51:50.584Z"
   },
   {
    "duration": 9,
    "start_time": "2022-12-26T14:51:51.329Z"
   },
   {
    "duration": 12,
    "start_time": "2022-12-26T14:51:51.977Z"
   },
   {
    "duration": 8,
    "start_time": "2022-12-26T14:51:52.553Z"
   },
   {
    "duration": 29,
    "start_time": "2022-12-26T14:55:45.244Z"
   },
   {
    "duration": 19,
    "start_time": "2022-12-26T15:00:53.843Z"
   },
   {
    "duration": 7,
    "start_time": "2022-12-26T15:18:21.120Z"
   },
   {
    "duration": 295,
    "start_time": "2022-12-26T15:20:27.850Z"
   },
   {
    "duration": 321,
    "start_time": "2022-12-26T15:23:01.619Z"
   },
   {
    "duration": 385,
    "start_time": "2022-12-26T15:23:07.410Z"
   },
   {
    "duration": 291,
    "start_time": "2022-12-26T15:23:32.639Z"
   },
   {
    "duration": 308,
    "start_time": "2022-12-26T15:23:52.684Z"
   },
   {
    "duration": 284,
    "start_time": "2022-12-26T15:24:04.960Z"
   },
   {
    "duration": 308,
    "start_time": "2022-12-26T15:24:24.801Z"
   },
   {
    "duration": 96,
    "start_time": "2022-12-26T15:25:22.256Z"
   },
   {
    "duration": 383,
    "start_time": "2022-12-26T15:25:28.538Z"
   },
   {
    "duration": 325,
    "start_time": "2022-12-26T15:26:08.350Z"
   },
   {
    "duration": 304,
    "start_time": "2022-12-26T15:26:16.793Z"
   },
   {
    "duration": 333,
    "start_time": "2022-12-26T15:27:09.917Z"
   },
   {
    "duration": 1551,
    "start_time": "2022-12-27T07:42:14.518Z"
   },
   {
    "duration": 48,
    "start_time": "2022-12-27T07:42:19.050Z"
   },
   {
    "duration": 589,
    "start_time": "2022-12-27T07:42:19.559Z"
   },
   {
    "duration": 49,
    "start_time": "2022-12-27T07:42:20.149Z"
   },
   {
    "duration": 15,
    "start_time": "2022-12-27T07:42:21.701Z"
   },
   {
    "duration": 5,
    "start_time": "2022-12-27T07:42:23.513Z"
   },
   {
    "duration": 4,
    "start_time": "2022-12-27T07:42:24.014Z"
   },
   {
    "duration": 13,
    "start_time": "2022-12-27T07:42:24.915Z"
   },
   {
    "duration": 10,
    "start_time": "2022-12-27T07:42:25.770Z"
   },
   {
    "duration": 8,
    "start_time": "2022-12-27T07:42:26.537Z"
   },
   {
    "duration": 7,
    "start_time": "2022-12-27T07:42:27.729Z"
   },
   {
    "duration": 5,
    "start_time": "2022-12-27T07:42:28.149Z"
   },
   {
    "duration": 10,
    "start_time": "2022-12-27T07:42:28.537Z"
   },
   {
    "duration": 7,
    "start_time": "2022-12-27T07:42:29.357Z"
   },
   {
    "duration": 11,
    "start_time": "2022-12-27T07:42:30.229Z"
   },
   {
    "duration": 10,
    "start_time": "2022-12-27T07:42:31.194Z"
   },
   {
    "duration": 10,
    "start_time": "2022-12-27T07:42:32.061Z"
   },
   {
    "duration": 7,
    "start_time": "2022-12-27T07:42:44.103Z"
   },
   {
    "duration": 11,
    "start_time": "2022-12-27T07:43:01.736Z"
   },
   {
    "duration": 7,
    "start_time": "2022-12-27T07:43:05.368Z"
   },
   {
    "duration": 17,
    "start_time": "2022-12-27T07:43:13.596Z"
   },
   {
    "duration": 360,
    "start_time": "2022-12-27T07:43:31.410Z"
   },
   {
    "duration": 278,
    "start_time": "2022-12-27T07:52:49.409Z"
   },
   {
    "duration": 374,
    "start_time": "2022-12-27T07:54:24.230Z"
   },
   {
    "duration": 12,
    "start_time": "2022-12-27T07:55:35.782Z"
   },
   {
    "duration": 7402,
    "start_time": "2022-12-27T07:56:23.347Z"
   },
   {
    "duration": 1192,
    "start_time": "2022-12-27T08:05:53.865Z"
   },
   {
    "duration": 37,
    "start_time": "2022-12-27T08:05:56.309Z"
   },
   {
    "duration": 591,
    "start_time": "2022-12-27T08:05:56.510Z"
   },
   {
    "duration": 55,
    "start_time": "2022-12-27T08:05:57.103Z"
   },
   {
    "duration": 15,
    "start_time": "2022-12-27T08:05:57.160Z"
   },
   {
    "duration": 5,
    "start_time": "2022-12-27T08:05:57.667Z"
   },
   {
    "duration": 5,
    "start_time": "2022-12-27T08:05:57.827Z"
   },
   {
    "duration": 11,
    "start_time": "2022-12-27T08:05:58.174Z"
   },
   {
    "duration": 10,
    "start_time": "2022-12-27T08:05:58.512Z"
   },
   {
    "duration": 7,
    "start_time": "2022-12-27T08:05:58.858Z"
   },
   {
    "duration": 5,
    "start_time": "2022-12-27T08:05:59.349Z"
   },
   {
    "duration": 5,
    "start_time": "2022-12-27T08:05:59.533Z"
   },
   {
    "duration": 10,
    "start_time": "2022-12-27T08:05:59.705Z"
   },
   {
    "duration": 7,
    "start_time": "2022-12-27T08:06:00.081Z"
   },
   {
    "duration": 14,
    "start_time": "2022-12-27T08:06:00.746Z"
   },
   {
    "duration": 11,
    "start_time": "2022-12-27T08:06:01.400Z"
   },
   {
    "duration": 11,
    "start_time": "2022-12-27T08:06:01.870Z"
   },
   {
    "duration": 8,
    "start_time": "2022-12-27T08:06:02.870Z"
   },
   {
    "duration": 11,
    "start_time": "2022-12-27T08:06:03.527Z"
   },
   {
    "duration": 7,
    "start_time": "2022-12-27T08:06:04.146Z"
   },
   {
    "duration": 16,
    "start_time": "2022-12-27T08:06:04.806Z"
   },
   {
    "duration": 310,
    "start_time": "2022-12-27T08:06:06.451Z"
   },
   {
    "duration": 12,
    "start_time": "2022-12-27T08:06:08.867Z"
   },
   {
    "duration": 46,
    "start_time": "2022-12-27T08:07:47.529Z"
   },
   {
    "duration": 6,
    "start_time": "2022-12-27T08:07:56.860Z"
   },
   {
    "duration": 1202,
    "start_time": "2022-12-27T08:08:04.281Z"
   },
   {
    "duration": 67,
    "start_time": "2022-12-27T08:08:08.145Z"
   },
   {
    "duration": 37,
    "start_time": "2022-12-27T08:08:08.545Z"
   },
   {
    "duration": 578,
    "start_time": "2022-12-27T08:08:08.780Z"
   },
   {
    "duration": 49,
    "start_time": "2022-12-27T08:08:09.360Z"
   },
   {
    "duration": 20,
    "start_time": "2022-12-27T08:08:09.411Z"
   },
   {
    "duration": 5,
    "start_time": "2022-12-27T08:08:10.008Z"
   },
   {
    "duration": 4,
    "start_time": "2022-12-27T08:08:10.176Z"
   },
   {
    "duration": 11,
    "start_time": "2022-12-27T08:08:10.539Z"
   },
   {
    "duration": 10,
    "start_time": "2022-12-27T08:08:10.902Z"
   },
   {
    "duration": 10,
    "start_time": "2022-12-27T08:08:11.631Z"
   },
   {
    "duration": 6,
    "start_time": "2022-12-27T08:08:12.885Z"
   },
   {
    "duration": 5,
    "start_time": "2022-12-27T08:08:13.332Z"
   },
   {
    "duration": 10,
    "start_time": "2022-12-27T08:08:13.651Z"
   },
   {
    "duration": 7,
    "start_time": "2022-12-27T08:08:14.208Z"
   },
   {
    "duration": 12,
    "start_time": "2022-12-27T08:08:14.747Z"
   },
   {
    "duration": 10,
    "start_time": "2022-12-27T08:08:15.247Z"
   },
   {
    "duration": 10,
    "start_time": "2022-12-27T08:08:15.752Z"
   },
   {
    "duration": 7,
    "start_time": "2022-12-27T08:08:16.549Z"
   },
   {
    "duration": 12,
    "start_time": "2022-12-27T08:08:17.203Z"
   },
   {
    "duration": 6,
    "start_time": "2022-12-27T08:08:17.801Z"
   },
   {
    "duration": 16,
    "start_time": "2022-12-27T08:08:18.682Z"
   },
   {
    "duration": 318,
    "start_time": "2022-12-27T08:08:20.672Z"
   },
   {
    "duration": 14,
    "start_time": "2022-12-27T08:08:22.431Z"
   },
   {
    "duration": 261,
    "start_time": "2022-12-27T08:08:22.889Z"
   },
   {
    "duration": 335,
    "start_time": "2022-12-27T08:08:36.612Z"
   },
   {
    "duration": 16,
    "start_time": "2022-12-27T08:16:01.376Z"
   },
   {
    "duration": 16,
    "start_time": "2022-12-27T08:17:08.216Z"
   },
   {
    "duration": 10,
    "start_time": "2022-12-27T08:19:06.753Z"
   },
   {
    "duration": 16,
    "start_time": "2022-12-27T08:19:21.458Z"
   },
   {
    "duration": 15,
    "start_time": "2022-12-27T08:19:32.976Z"
   },
   {
    "duration": 76,
    "start_time": "2022-12-27T08:19:59.312Z"
   },
   {
    "duration": 15,
    "start_time": "2022-12-27T08:20:09.688Z"
   },
   {
    "duration": 74,
    "start_time": "2022-12-27T08:21:26.421Z"
   },
   {
    "duration": 22,
    "start_time": "2022-12-27T08:21:45.013Z"
   },
   {
    "duration": 21,
    "start_time": "2022-12-27T08:21:58.101Z"
   },
   {
    "duration": 15,
    "start_time": "2022-12-27T08:22:10.817Z"
   },
   {
    "duration": 24,
    "start_time": "2022-12-27T08:24:41.100Z"
   },
   {
    "duration": 199,
    "start_time": "2022-12-27T08:29:54.924Z"
   },
   {
    "duration": 22,
    "start_time": "2022-12-27T08:30:16.987Z"
   },
   {
    "duration": 1155,
    "start_time": "2022-12-27T08:39:35.649Z"
   },
   {
    "duration": 1190,
    "start_time": "2022-12-27T08:39:50.990Z"
   },
   {
    "duration": 19,
    "start_time": "2022-12-27T08:40:21.964Z"
   },
   {
    "duration": 15,
    "start_time": "2022-12-27T08:40:40.536Z"
   },
   {
    "duration": 20,
    "start_time": "2022-12-27T08:40:42.224Z"
   },
   {
    "duration": 21,
    "start_time": "2022-12-27T08:42:11.534Z"
   },
   {
    "duration": 4,
    "start_time": "2022-12-27T08:43:46.138Z"
   },
   {
    "duration": 10,
    "start_time": "2022-12-27T08:43:55.577Z"
   },
   {
    "duration": 10,
    "start_time": "2022-12-27T08:50:07.560Z"
   },
   {
    "duration": 447,
    "start_time": "2022-12-27T08:50:14.851Z"
   },
   {
    "duration": 16,
    "start_time": "2022-12-27T08:54:27.878Z"
   },
   {
    "duration": 17,
    "start_time": "2022-12-27T08:54:46.820Z"
   },
   {
    "duration": 18,
    "start_time": "2022-12-27T08:55:15.315Z"
   },
   {
    "duration": 18,
    "start_time": "2022-12-27T08:55:29.608Z"
   },
   {
    "duration": 19,
    "start_time": "2022-12-27T08:55:47.613Z"
   },
   {
    "duration": 16,
    "start_time": "2022-12-27T08:56:11.115Z"
   },
   {
    "duration": 14,
    "start_time": "2022-12-27T08:56:20.080Z"
   },
   {
    "duration": 18,
    "start_time": "2022-12-27T08:56:47.123Z"
   },
   {
    "duration": 126,
    "start_time": "2022-12-27T08:57:13.202Z"
   },
   {
    "duration": 59,
    "start_time": "2022-12-27T09:17:30.653Z"
   },
   {
    "duration": 39,
    "start_time": "2022-12-27T09:17:30.714Z"
   },
   {
    "duration": 576,
    "start_time": "2022-12-27T09:17:30.755Z"
   },
   {
    "duration": 16,
    "start_time": "2022-12-27T09:17:31.333Z"
   },
   {
    "duration": 28,
    "start_time": "2022-12-27T09:17:31.350Z"
   },
   {
    "duration": 5,
    "start_time": "2022-12-27T09:17:31.379Z"
   },
   {
    "duration": 23,
    "start_time": "2022-12-27T09:17:31.385Z"
   },
   {
    "duration": 25,
    "start_time": "2022-12-27T09:17:31.409Z"
   },
   {
    "duration": 24,
    "start_time": "2022-12-27T09:17:31.436Z"
   },
   {
    "duration": 27,
    "start_time": "2022-12-27T09:17:31.463Z"
   },
   {
    "duration": 36,
    "start_time": "2022-12-27T09:17:31.492Z"
   },
   {
    "duration": 41,
    "start_time": "2022-12-27T09:17:31.530Z"
   },
   {
    "duration": 21,
    "start_time": "2022-12-27T09:17:31.573Z"
   },
   {
    "duration": 32,
    "start_time": "2022-12-27T09:17:31.597Z"
   },
   {
    "duration": 48,
    "start_time": "2022-12-27T09:17:31.630Z"
   },
   {
    "duration": 70,
    "start_time": "2022-12-27T09:17:31.681Z"
   },
   {
    "duration": 16,
    "start_time": "2022-12-27T09:17:31.753Z"
   },
   {
    "duration": 15,
    "start_time": "2022-12-27T09:17:31.771Z"
   },
   {
    "duration": 26,
    "start_time": "2022-12-27T09:17:31.788Z"
   },
   {
    "duration": 30,
    "start_time": "2022-12-27T09:17:31.816Z"
   },
   {
    "duration": 28,
    "start_time": "2022-12-27T09:17:31.848Z"
   },
   {
    "duration": 328,
    "start_time": "2022-12-27T09:17:31.878Z"
   },
   {
    "duration": 11,
    "start_time": "2022-12-27T09:17:32.208Z"
   },
   {
    "duration": 290,
    "start_time": "2022-12-27T09:17:32.220Z"
   },
   {
    "duration": 30,
    "start_time": "2022-12-27T09:17:32.512Z"
   },
   {
    "duration": 13,
    "start_time": "2022-12-27T09:17:32.544Z"
   },
   {
    "duration": 331,
    "start_time": "2022-12-27T09:17:32.559Z"
   },
   {
    "duration": 151,
    "start_time": "2022-12-27T09:17:32.892Z"
   },
   {
    "duration": 478,
    "start_time": "2022-12-27T09:17:33.045Z"
   },
   {
    "duration": 57,
    "start_time": "2022-12-27T09:17:43.552Z"
   },
   {
    "duration": 13,
    "start_time": "2022-12-27T09:18:01.395Z"
   },
   {
    "duration": 10,
    "start_time": "2022-12-27T09:18:03.311Z"
   },
   {
    "duration": 12,
    "start_time": "2022-12-27T09:18:12.544Z"
   },
   {
    "duration": 15,
    "start_time": "2022-12-27T09:18:25.226Z"
   },
   {
    "duration": 11,
    "start_time": "2022-12-27T09:18:29.165Z"
   },
   {
    "duration": 11,
    "start_time": "2022-12-27T09:18:33.917Z"
   },
   {
    "duration": 58,
    "start_time": "2022-12-27T09:18:40.515Z"
   },
   {
    "duration": 45,
    "start_time": "2022-12-27T09:18:41.059Z"
   },
   {
    "duration": 627,
    "start_time": "2022-12-27T09:18:41.363Z"
   },
   {
    "duration": 15,
    "start_time": "2022-12-27T09:18:41.992Z"
   },
   {
    "duration": 27,
    "start_time": "2022-12-27T09:18:42.009Z"
   },
   {
    "duration": 5,
    "start_time": "2022-12-27T09:18:42.426Z"
   },
   {
    "duration": 4,
    "start_time": "2022-12-27T09:18:42.592Z"
   },
   {
    "duration": 13,
    "start_time": "2022-12-27T09:18:42.914Z"
   },
   {
    "duration": 9,
    "start_time": "2022-12-27T09:18:43.285Z"
   },
   {
    "duration": 7,
    "start_time": "2022-12-27T09:18:43.617Z"
   },
   {
    "duration": 6,
    "start_time": "2022-12-27T09:18:44.117Z"
   },
   {
    "duration": 5,
    "start_time": "2022-12-27T09:18:44.281Z"
   },
   {
    "duration": 10,
    "start_time": "2022-12-27T09:18:44.464Z"
   },
   {
    "duration": 7,
    "start_time": "2022-12-27T09:18:44.816Z"
   },
   {
    "duration": 14,
    "start_time": "2022-12-27T09:18:45.172Z"
   },
   {
    "duration": 14,
    "start_time": "2022-12-27T09:18:45.536Z"
   },
   {
    "duration": 15,
    "start_time": "2022-12-27T09:18:45.944Z"
   },
   {
    "duration": 6,
    "start_time": "2022-12-27T09:18:46.845Z"
   },
   {
    "duration": 12,
    "start_time": "2022-12-27T09:18:47.352Z"
   },
   {
    "duration": 8,
    "start_time": "2022-12-27T09:18:47.845Z"
   },
   {
    "duration": 17,
    "start_time": "2022-12-27T09:18:48.662Z"
   },
   {
    "duration": 312,
    "start_time": "2022-12-27T09:18:50.713Z"
   },
   {
    "duration": 12,
    "start_time": "2022-12-27T09:18:52.157Z"
   },
   {
    "duration": 263,
    "start_time": "2022-12-27T09:18:53.421Z"
   },
   {
    "duration": 15,
    "start_time": "2022-12-27T09:18:54.375Z"
   },
   {
    "duration": 13,
    "start_time": "2022-12-27T09:18:57.246Z"
   },
   {
    "duration": 224,
    "start_time": "2022-12-27T09:18:58.982Z"
   },
   {
    "duration": 288,
    "start_time": "2022-12-27T09:19:07.587Z"
   },
   {
    "duration": 255,
    "start_time": "2022-12-27T09:20:11.354Z"
   },
   {
    "duration": 191,
    "start_time": "2022-12-27T09:20:20.739Z"
   },
   {
    "duration": 208,
    "start_time": "2022-12-27T09:20:30.114Z"
   },
   {
    "duration": 203,
    "start_time": "2022-12-27T09:20:40.912Z"
   },
   {
    "duration": 225,
    "start_time": "2022-12-27T09:22:08.291Z"
   },
   {
    "duration": 212,
    "start_time": "2022-12-27T09:22:29.808Z"
   },
   {
    "duration": 25,
    "start_time": "2022-12-27T09:23:38.427Z"
   }
  ],
  "kernelspec": {
   "display_name": "Python 3 (ipykernel)",
   "language": "python",
   "name": "python3"
  },
  "language_info": {
   "codemirror_mode": {
    "name": "ipython",
    "version": 3
   },
   "file_extension": ".py",
   "mimetype": "text/x-python",
   "name": "python",
   "nbconvert_exporter": "python",
   "pygments_lexer": "ipython3",
   "version": "3.9.13"
  },
  "toc": {
   "base_numbering": 1,
   "nav_menu": {},
   "number_sections": true,
   "sideBar": true,
   "skip_h1_title": true,
   "title_cell": "Table of Contents",
   "title_sidebar": "Contents",
   "toc_cell": false,
   "toc_position": {},
   "toc_section_display": true,
   "toc_window_display": false
  }
 },
 "nbformat": 4,
 "nbformat_minor": 2
}
