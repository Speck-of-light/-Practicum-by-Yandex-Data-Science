{
 "cells": [
  {
   "cell_type": "markdown",
   "metadata": {},
   "source": [
    "# Восстановление золота из руды"
   ]
  },
  {
   "cell_type": "markdown",
   "metadata": {},
   "source": [
    "Необходимо подготовить прототип модели машинного обучения для компании «Цифры». Компания разрабатывает решения для эффективной работы промышленных предприятий.\n",
    "Модель должна предсказать коэффициент восстановления золота из золотосодержащей руды.\n",
    "Модель поможет оптимизировать производство, чтобы не запускать предприятие с убыточными характеристиками."
   ]
  },
  {
   "cell_type": "markdown",
   "metadata": {},
   "source": [
    "В нашем распоряжении 3 файла с сырыми данными.\n",
    "\n",
    "- gold_recovery_full_new.csv. - содержит весь объем данных \n",
    "- gold_recovery_train_new.csv. и gold_recovery_test_new.csv. - это условная разбивка полного датасета на тренировочную и тесвую выборки\n",
    "\n",
    "Столбцы представленые в датасетах - это различные параметры с 4-х последовательных этапов процесса извлечения золота из руды:\n",
    "\n",
    "* rougher — флотация (после прохождения данного этапа мы получаем черновой концентрат)\n",
    "\n",
    "* primary_cleaner — первичная очистка\n",
    "* secondary_cleaner — вторичная очистка\n",
    "* final — финальные характеристики ( на данном этапе мы получаем - финальный концентрат)\n",
    "\n",
    "Наименование признаков в столбцах должно быть такое:\n",
    "\n",
    "[этап].[тип_параметра].[название_параметра]\n",
    "\n",
    "Возможные значения для блока [этап]:\n",
    "\n",
    "- rougher — флотация\n",
    "- primary_cleaner — первичная очистка \n",
    "- secondary_cleaner — вторичная очистка \n",
    "- final — финальные характеристики \n",
    "\n",
    "Возможные значения для блока [тип_параметра]:\n",
    "\n",
    "- input — параметры сырья\n",
    "- output — параметры продукта\n",
    "- state — параметры, характеризующие текущее состояние этапа\n",
    "- calculation — расчётные характеристики\n",
    "\n",
    "\n",
    "Условные обозначения для блока [название_параметра]:\n",
    "\n",
    "- Xanthate — ксантогенат (промотер, или активатор флотации);\n",
    "- Sulphate — сульфат (на данном производстве сульфид натрия);\n",
    "- Depressant — депрессант (силикат натрия). \n",
    "\n",
    "- Rougher tails — отвальные хвосты\n",
    "- Float banks — флотационная установка\n",
    "- Cleaner process — очистка\n",
    "- Rougher Au — черновой концентрат золота\n",
    "- Final Au — финальный концентрат золота\n",
    "\n",
    "- air amount — объём воздуха\n",
    "- fluid levels — уровень жидкости\n",
    "- feed size — размер гранул сырья\n",
    "- feed rate — скорость подачи"
   ]
  },
  {
   "cell_type": "markdown",
   "metadata": {},
   "source": [
    "## Подготовка данных"
   ]
  },
  {
   "cell_type": "code",
   "execution_count": 1,
   "metadata": {},
   "outputs": [],
   "source": [
    "# импортируем библиотеки  \n",
    "\n",
    "import pandas as pd\n",
    "pd.set_option('display.max_columns', None) \n",
    "import numpy as np\n",
    "from numpy.random import RandomState\n",
    "\n",
    "import matplotlib.pyplot as plt\n",
    "import seaborn as sns\n",
    "import collections\n",
    "from scipy.stats import kstest\n",
    "#!pip install pandas-profiling[notebook]\n",
    "#from pandas_profiling import ProfileReport\n",
    "\n",
    "#from sklearn.model_selection import train_test_split\n",
    "from sklearn.preprocessing import StandardScaler\n",
    "from sklearn.tree import DecisionTreeRegressor\n",
    "from sklearn.ensemble import RandomForestRegressor\n",
    "from sklearn.linear_model import LinearRegression\n",
    "from sklearn.dummy import DummyRegressor\n",
    "from sklearn.model_selection import GridSearchCV\n",
    "from sklearn.metrics import mean_absolute_error, make_scorer\n",
    "\n",
    "#from sklearn.model_selection import cross_val_score\n",
    "#from sklearn.metrics import mean_squared_error\n",
    "#import scipy.stats as st\n",
    "#from sklearn.metrics import confusion_matrix\n",
    "\n",
    "\n",
    "pd.options.mode.chained_assignment = None\n",
    "\n",
    "import warnings\n",
    "warnings.filterwarnings(\"ignore\")"
   ]
  },
  {
   "cell_type": "markdown",
   "metadata": {},
   "source": [
    "1.1. Откроем файлы и изучим их."
   ]
  },
  {
   "cell_type": "code",
   "execution_count": 2,
   "metadata": {},
   "outputs": [],
   "source": [
    "# загрузим датасеты\n",
    "# Данные индексируются датой и временем получения информации (признак date).\n",
    "try:\n",
    "    gold_train=pd.read_csv('/datasets/gold_recovery_train_new.csv', index_col='date') # обучающая выборка;\n",
    "    gold_test=pd.read_csv('datasets/gold_recovery_test_new.csv', index_col='date') # тестовая выборка;\n",
    "    gold_full=pd.read_csv('/datasets/gold_recovery_full_new.csv', index_col='date') # исходные данные.\n",
    "except:\n",
    "    gold_train=pd.read_csv('https://code.s3.yandex.net//datasets/gold_recovery_train_new.csv', index_col='date')\n",
    "    gold_test=pd.read_csv('https://code.s3.yandex.net/datasets/gold_recovery_test_new.csv', index_col='date')\n",
    "    gold_full=pd.read_csv('https://code.s3.yandex.net//datasets/gold_recovery_full_new.csv', index_col='date')\n",
    "\n",
    "# переменная со списком всех датасетов\n",
    "all_data = [gold_full, gold_train, gold_test]"
   ]
  },
  {
   "cell_type": "markdown",
   "metadata": {},
   "source": [
    "Функции:"
   ]
  },
  {
   "cell_type": "code",
   "execution_count": 3,
   "metadata": {},
   "outputs": [],
   "source": [
    "def description(i):\n",
    "# фунция выводит первые 3 строки датасета\n",
    "# общую информацию о столбцах и типах данных в них\n",
    "# основные описательные статистики\n",
    "# колличество полных дубликатов строк\n",
    "# коллисечтво пропусков\n",
    "    display(i.head(3))\n",
    "    print()\n",
    "    display(i.info())\n",
    "    print()\n",
    "    display(i.describe())\n",
    "    print()\n",
    "    print('Полных дубликатов:', i.duplicated().sum())  \n",
    "    print()\n",
    "    return pd.DataFrame(round(i.isna().mean()*100,2)).style.background_gradient('coolwarm')"
   ]
  },
  {
   "cell_type": "code",
   "execution_count": 4,
   "metadata": {},
   "outputs": [],
   "source": [
    "def search (word, where):\n",
    "# функция для поиска и вывода строк содержащих заданное слово\n",
    "# на вход подается: \"искомое_слово\" , место_поиска    \n",
    "    for i in (where):\n",
    "        if word in i:\n",
    "            print(i)"
   ]
  },
  {
   "cell_type": "markdown",
   "metadata": {},
   "source": [
    "Приступим к изучению данных."
   ]
  },
  {
   "cell_type": "code",
   "execution_count": 5,
   "metadata": {
    "scrolled": true
   },
   "outputs": [
    {
     "data": {
      "text/html": [
       "<div>\n",
       "<style scoped>\n",
       "    .dataframe tbody tr th:only-of-type {\n",
       "        vertical-align: middle;\n",
       "    }\n",
       "\n",
       "    .dataframe tbody tr th {\n",
       "        vertical-align: top;\n",
       "    }\n",
       "\n",
       "    .dataframe thead th {\n",
       "        text-align: right;\n",
       "    }\n",
       "</style>\n",
       "<table border=\"1\" class=\"dataframe\">\n",
       "  <thead>\n",
       "    <tr style=\"text-align: right;\">\n",
       "      <th></th>\n",
       "      <th>final.output.concentrate_ag</th>\n",
       "      <th>final.output.concentrate_pb</th>\n",
       "      <th>final.output.concentrate_sol</th>\n",
       "      <th>final.output.concentrate_au</th>\n",
       "      <th>final.output.recovery</th>\n",
       "      <th>final.output.tail_ag</th>\n",
       "      <th>final.output.tail_pb</th>\n",
       "      <th>final.output.tail_sol</th>\n",
       "      <th>final.output.tail_au</th>\n",
       "      <th>primary_cleaner.input.sulfate</th>\n",
       "      <th>primary_cleaner.input.depressant</th>\n",
       "      <th>primary_cleaner.input.feed_size</th>\n",
       "      <th>primary_cleaner.input.xanthate</th>\n",
       "      <th>primary_cleaner.output.concentrate_ag</th>\n",
       "      <th>primary_cleaner.output.concentrate_pb</th>\n",
       "      <th>primary_cleaner.output.concentrate_sol</th>\n",
       "      <th>primary_cleaner.output.concentrate_au</th>\n",
       "      <th>primary_cleaner.output.tail_ag</th>\n",
       "      <th>primary_cleaner.output.tail_pb</th>\n",
       "      <th>primary_cleaner.output.tail_sol</th>\n",
       "      <th>primary_cleaner.output.tail_au</th>\n",
       "      <th>primary_cleaner.state.floatbank8_a_air</th>\n",
       "      <th>primary_cleaner.state.floatbank8_a_level</th>\n",
       "      <th>primary_cleaner.state.floatbank8_b_air</th>\n",
       "      <th>primary_cleaner.state.floatbank8_b_level</th>\n",
       "      <th>primary_cleaner.state.floatbank8_c_air</th>\n",
       "      <th>primary_cleaner.state.floatbank8_c_level</th>\n",
       "      <th>primary_cleaner.state.floatbank8_d_air</th>\n",
       "      <th>primary_cleaner.state.floatbank8_d_level</th>\n",
       "      <th>rougher.calculation.sulfate_to_au_concentrate</th>\n",
       "      <th>rougher.calculation.floatbank10_sulfate_to_au_feed</th>\n",
       "      <th>rougher.calculation.floatbank11_sulfate_to_au_feed</th>\n",
       "      <th>rougher.calculation.au_pb_ratio</th>\n",
       "      <th>rougher.input.feed_ag</th>\n",
       "      <th>rougher.input.feed_pb</th>\n",
       "      <th>rougher.input.feed_rate</th>\n",
       "      <th>rougher.input.feed_size</th>\n",
       "      <th>rougher.input.feed_sol</th>\n",
       "      <th>rougher.input.feed_au</th>\n",
       "      <th>rougher.input.floatbank10_sulfate</th>\n",
       "      <th>rougher.input.floatbank10_xanthate</th>\n",
       "      <th>rougher.input.floatbank11_sulfate</th>\n",
       "      <th>rougher.input.floatbank11_xanthate</th>\n",
       "      <th>rougher.output.concentrate_ag</th>\n",
       "      <th>rougher.output.concentrate_pb</th>\n",
       "      <th>rougher.output.concentrate_sol</th>\n",
       "      <th>rougher.output.concentrate_au</th>\n",
       "      <th>rougher.output.recovery</th>\n",
       "      <th>rougher.output.tail_ag</th>\n",
       "      <th>rougher.output.tail_pb</th>\n",
       "      <th>rougher.output.tail_sol</th>\n",
       "      <th>rougher.output.tail_au</th>\n",
       "      <th>rougher.state.floatbank10_a_air</th>\n",
       "      <th>rougher.state.floatbank10_a_level</th>\n",
       "      <th>rougher.state.floatbank10_b_air</th>\n",
       "      <th>rougher.state.floatbank10_b_level</th>\n",
       "      <th>rougher.state.floatbank10_c_air</th>\n",
       "      <th>rougher.state.floatbank10_c_level</th>\n",
       "      <th>rougher.state.floatbank10_d_air</th>\n",
       "      <th>rougher.state.floatbank10_d_level</th>\n",
       "      <th>rougher.state.floatbank10_e_air</th>\n",
       "      <th>rougher.state.floatbank10_e_level</th>\n",
       "      <th>rougher.state.floatbank10_f_air</th>\n",
       "      <th>rougher.state.floatbank10_f_level</th>\n",
       "      <th>secondary_cleaner.output.tail_ag</th>\n",
       "      <th>secondary_cleaner.output.tail_pb</th>\n",
       "      <th>secondary_cleaner.output.tail_sol</th>\n",
       "      <th>secondary_cleaner.output.tail_au</th>\n",
       "      <th>secondary_cleaner.state.floatbank2_a_air</th>\n",
       "      <th>secondary_cleaner.state.floatbank2_a_level</th>\n",
       "      <th>secondary_cleaner.state.floatbank2_b_air</th>\n",
       "      <th>secondary_cleaner.state.floatbank2_b_level</th>\n",
       "      <th>secondary_cleaner.state.floatbank3_a_air</th>\n",
       "      <th>secondary_cleaner.state.floatbank3_a_level</th>\n",
       "      <th>secondary_cleaner.state.floatbank3_b_air</th>\n",
       "      <th>secondary_cleaner.state.floatbank3_b_level</th>\n",
       "      <th>secondary_cleaner.state.floatbank4_a_air</th>\n",
       "      <th>secondary_cleaner.state.floatbank4_a_level</th>\n",
       "      <th>secondary_cleaner.state.floatbank4_b_air</th>\n",
       "      <th>secondary_cleaner.state.floatbank4_b_level</th>\n",
       "      <th>secondary_cleaner.state.floatbank5_a_air</th>\n",
       "      <th>secondary_cleaner.state.floatbank5_a_level</th>\n",
       "      <th>secondary_cleaner.state.floatbank5_b_air</th>\n",
       "      <th>secondary_cleaner.state.floatbank5_b_level</th>\n",
       "      <th>secondary_cleaner.state.floatbank6_a_air</th>\n",
       "      <th>secondary_cleaner.state.floatbank6_a_level</th>\n",
       "    </tr>\n",
       "    <tr>\n",
       "      <th>date</th>\n",
       "      <th></th>\n",
       "      <th></th>\n",
       "      <th></th>\n",
       "      <th></th>\n",
       "      <th></th>\n",
       "      <th></th>\n",
       "      <th></th>\n",
       "      <th></th>\n",
       "      <th></th>\n",
       "      <th></th>\n",
       "      <th></th>\n",
       "      <th></th>\n",
       "      <th></th>\n",
       "      <th></th>\n",
       "      <th></th>\n",
       "      <th></th>\n",
       "      <th></th>\n",
       "      <th></th>\n",
       "      <th></th>\n",
       "      <th></th>\n",
       "      <th></th>\n",
       "      <th></th>\n",
       "      <th></th>\n",
       "      <th></th>\n",
       "      <th></th>\n",
       "      <th></th>\n",
       "      <th></th>\n",
       "      <th></th>\n",
       "      <th></th>\n",
       "      <th></th>\n",
       "      <th></th>\n",
       "      <th></th>\n",
       "      <th></th>\n",
       "      <th></th>\n",
       "      <th></th>\n",
       "      <th></th>\n",
       "      <th></th>\n",
       "      <th></th>\n",
       "      <th></th>\n",
       "      <th></th>\n",
       "      <th></th>\n",
       "      <th></th>\n",
       "      <th></th>\n",
       "      <th></th>\n",
       "      <th></th>\n",
       "      <th></th>\n",
       "      <th></th>\n",
       "      <th></th>\n",
       "      <th></th>\n",
       "      <th></th>\n",
       "      <th></th>\n",
       "      <th></th>\n",
       "      <th></th>\n",
       "      <th></th>\n",
       "      <th></th>\n",
       "      <th></th>\n",
       "      <th></th>\n",
       "      <th></th>\n",
       "      <th></th>\n",
       "      <th></th>\n",
       "      <th></th>\n",
       "      <th></th>\n",
       "      <th></th>\n",
       "      <th></th>\n",
       "      <th></th>\n",
       "      <th></th>\n",
       "      <th></th>\n",
       "      <th></th>\n",
       "      <th></th>\n",
       "      <th></th>\n",
       "      <th></th>\n",
       "      <th></th>\n",
       "      <th></th>\n",
       "      <th></th>\n",
       "      <th></th>\n",
       "      <th></th>\n",
       "      <th></th>\n",
       "      <th></th>\n",
       "      <th></th>\n",
       "      <th></th>\n",
       "      <th></th>\n",
       "      <th></th>\n",
       "      <th></th>\n",
       "      <th></th>\n",
       "      <th></th>\n",
       "      <th></th>\n",
       "    </tr>\n",
       "  </thead>\n",
       "  <tbody>\n",
       "    <tr>\n",
       "      <th>2016-01-15 00:00:00</th>\n",
       "      <td>6.055403</td>\n",
       "      <td>9.889648</td>\n",
       "      <td>5.507324</td>\n",
       "      <td>42.192020</td>\n",
       "      <td>70.541216</td>\n",
       "      <td>10.411962</td>\n",
       "      <td>0.895447</td>\n",
       "      <td>16.904297</td>\n",
       "      <td>2.143149</td>\n",
       "      <td>127.092003</td>\n",
       "      <td>10.128295</td>\n",
       "      <td>7.25</td>\n",
       "      <td>0.988759</td>\n",
       "      <td>8.547551</td>\n",
       "      <td>10.389648</td>\n",
       "      <td>19.529297</td>\n",
       "      <td>34.174427</td>\n",
       "      <td>14.936526</td>\n",
       "      <td>2.534912</td>\n",
       "      <td>7.476074</td>\n",
       "      <td>2.106679</td>\n",
       "      <td>1549.775757</td>\n",
       "      <td>-498.912140</td>\n",
       "      <td>1551.434204</td>\n",
       "      <td>-516.403442</td>\n",
       "      <td>1549.873901</td>\n",
       "      <td>-498.666595</td>\n",
       "      <td>1554.367432</td>\n",
       "      <td>-493.428131</td>\n",
       "      <td>41885.707031</td>\n",
       "      <td>3481.779053</td>\n",
       "      <td>3520.337158</td>\n",
       "      <td>2.838687</td>\n",
       "      <td>6.100378</td>\n",
       "      <td>2.284912</td>\n",
       "      <td>523.546326</td>\n",
       "      <td>55.486599</td>\n",
       "      <td>36.808594</td>\n",
       "      <td>6.486150</td>\n",
       "      <td>11.986616</td>\n",
       "      <td>6.007990</td>\n",
       "      <td>11.836743</td>\n",
       "      <td>6.005818</td>\n",
       "      <td>11.500771</td>\n",
       "      <td>7.101074</td>\n",
       "      <td>28.029297</td>\n",
       "      <td>19.793808</td>\n",
       "      <td>87.107763</td>\n",
       "      <td>5.008018</td>\n",
       "      <td>0.508728</td>\n",
       "      <td>19.154297</td>\n",
       "      <td>1.170244</td>\n",
       "      <td>999.706909</td>\n",
       "      <td>-404.066986</td>\n",
       "      <td>1603.011353</td>\n",
       "      <td>-434.715027</td>\n",
       "      <td>1602.375000</td>\n",
       "      <td>-442.204468</td>\n",
       "      <td>1598.937256</td>\n",
       "      <td>-451.294128</td>\n",
       "      <td>1404.472046</td>\n",
       "      <td>-455.462982</td>\n",
       "      <td>1416.354980</td>\n",
       "      <td>-451.939636</td>\n",
       "      <td>14.500184</td>\n",
       "      <td>4.694824</td>\n",
       "      <td>8.764648</td>\n",
       "      <td>2.606185</td>\n",
       "      <td>25.853109</td>\n",
       "      <td>-498.526489</td>\n",
       "      <td>23.893660</td>\n",
       "      <td>-501.406281</td>\n",
       "      <td>23.961798</td>\n",
       "      <td>-495.262817</td>\n",
       "      <td>21.940409</td>\n",
       "      <td>-499.340973</td>\n",
       "      <td>14.016835</td>\n",
       "      <td>-502.488007</td>\n",
       "      <td>12.099931</td>\n",
       "      <td>-504.715942</td>\n",
       "      <td>9.925633</td>\n",
       "      <td>-498.310211</td>\n",
       "      <td>8.079666</td>\n",
       "      <td>-500.470978</td>\n",
       "      <td>14.151341</td>\n",
       "      <td>-605.841980</td>\n",
       "    </tr>\n",
       "    <tr>\n",
       "      <th>2016-01-15 01:00:00</th>\n",
       "      <td>6.029369</td>\n",
       "      <td>9.968944</td>\n",
       "      <td>5.257781</td>\n",
       "      <td>42.701629</td>\n",
       "      <td>69.266198</td>\n",
       "      <td>10.462676</td>\n",
       "      <td>0.927452</td>\n",
       "      <td>16.634514</td>\n",
       "      <td>2.224930</td>\n",
       "      <td>125.629232</td>\n",
       "      <td>10.296251</td>\n",
       "      <td>7.25</td>\n",
       "      <td>1.002663</td>\n",
       "      <td>8.558743</td>\n",
       "      <td>10.497069</td>\n",
       "      <td>19.369147</td>\n",
       "      <td>34.118526</td>\n",
       "      <td>16.250511</td>\n",
       "      <td>3.049646</td>\n",
       "      <td>6.733907</td>\n",
       "      <td>2.353017</td>\n",
       "      <td>1576.166671</td>\n",
       "      <td>-500.904965</td>\n",
       "      <td>1575.950626</td>\n",
       "      <td>-499.865889</td>\n",
       "      <td>1575.994189</td>\n",
       "      <td>-499.315107</td>\n",
       "      <td>1574.479259</td>\n",
       "      <td>-498.931665</td>\n",
       "      <td>42050.861809</td>\n",
       "      <td>3498.370979</td>\n",
       "      <td>3489.981857</td>\n",
       "      <td>2.858998</td>\n",
       "      <td>6.161113</td>\n",
       "      <td>2.266033</td>\n",
       "      <td>525.290581</td>\n",
       "      <td>57.278666</td>\n",
       "      <td>35.753385</td>\n",
       "      <td>6.478583</td>\n",
       "      <td>11.971193</td>\n",
       "      <td>6.005766</td>\n",
       "      <td>11.996163</td>\n",
       "      <td>6.012594</td>\n",
       "      <td>11.615865</td>\n",
       "      <td>7.278807</td>\n",
       "      <td>28.067063</td>\n",
       "      <td>20.050975</td>\n",
       "      <td>86.843261</td>\n",
       "      <td>4.955378</td>\n",
       "      <td>0.536689</td>\n",
       "      <td>18.965234</td>\n",
       "      <td>1.184827</td>\n",
       "      <td>1000.286398</td>\n",
       "      <td>-400.065196</td>\n",
       "      <td>1600.754587</td>\n",
       "      <td>-449.953435</td>\n",
       "      <td>1600.479580</td>\n",
       "      <td>-449.830646</td>\n",
       "      <td>1600.527589</td>\n",
       "      <td>-449.953649</td>\n",
       "      <td>1399.227084</td>\n",
       "      <td>-450.869848</td>\n",
       "      <td>1399.719514</td>\n",
       "      <td>-450.119001</td>\n",
       "      <td>14.265474</td>\n",
       "      <td>4.592547</td>\n",
       "      <td>9.001494</td>\n",
       "      <td>2.488248</td>\n",
       "      <td>25.880539</td>\n",
       "      <td>-499.989656</td>\n",
       "      <td>23.889530</td>\n",
       "      <td>-500.372428</td>\n",
       "      <td>23.970550</td>\n",
       "      <td>-500.085473</td>\n",
       "      <td>22.085714</td>\n",
       "      <td>-499.446897</td>\n",
       "      <td>13.992281</td>\n",
       "      <td>-505.503262</td>\n",
       "      <td>11.950531</td>\n",
       "      <td>-501.331529</td>\n",
       "      <td>10.039245</td>\n",
       "      <td>-500.169983</td>\n",
       "      <td>7.984757</td>\n",
       "      <td>-500.582168</td>\n",
       "      <td>13.998353</td>\n",
       "      <td>-599.787184</td>\n",
       "    </tr>\n",
       "    <tr>\n",
       "      <th>2016-01-15 02:00:00</th>\n",
       "      <td>6.055926</td>\n",
       "      <td>10.213995</td>\n",
       "      <td>5.383759</td>\n",
       "      <td>42.657501</td>\n",
       "      <td>68.116445</td>\n",
       "      <td>10.507046</td>\n",
       "      <td>0.953716</td>\n",
       "      <td>16.208849</td>\n",
       "      <td>2.257889</td>\n",
       "      <td>123.819808</td>\n",
       "      <td>11.316280</td>\n",
       "      <td>7.25</td>\n",
       "      <td>0.991265</td>\n",
       "      <td>8.603505</td>\n",
       "      <td>10.354494</td>\n",
       "      <td>19.167579</td>\n",
       "      <td>33.969464</td>\n",
       "      <td>16.491823</td>\n",
       "      <td>3.124664</td>\n",
       "      <td>6.471768</td>\n",
       "      <td>2.416800</td>\n",
       "      <td>1601.556163</td>\n",
       "      <td>-499.997791</td>\n",
       "      <td>1600.386685</td>\n",
       "      <td>-500.607762</td>\n",
       "      <td>1602.003542</td>\n",
       "      <td>-500.870069</td>\n",
       "      <td>1599.541515</td>\n",
       "      <td>-499.827444</td>\n",
       "      <td>42018.101184</td>\n",
       "      <td>3495.348910</td>\n",
       "      <td>3502.359819</td>\n",
       "      <td>2.945989</td>\n",
       "      <td>6.116455</td>\n",
       "      <td>2.159622</td>\n",
       "      <td>530.026610</td>\n",
       "      <td>57.510649</td>\n",
       "      <td>35.971630</td>\n",
       "      <td>6.362222</td>\n",
       "      <td>11.920603</td>\n",
       "      <td>6.197377</td>\n",
       "      <td>11.920305</td>\n",
       "      <td>6.204633</td>\n",
       "      <td>11.695753</td>\n",
       "      <td>7.216833</td>\n",
       "      <td>27.454037</td>\n",
       "      <td>19.737170</td>\n",
       "      <td>86.842308</td>\n",
       "      <td>4.843460</td>\n",
       "      <td>0.546416</td>\n",
       "      <td>18.808533</td>\n",
       "      <td>1.162562</td>\n",
       "      <td>999.719565</td>\n",
       "      <td>-400.074028</td>\n",
       "      <td>1599.337330</td>\n",
       "      <td>-450.008530</td>\n",
       "      <td>1599.672797</td>\n",
       "      <td>-449.954491</td>\n",
       "      <td>1599.849325</td>\n",
       "      <td>-449.954185</td>\n",
       "      <td>1399.180945</td>\n",
       "      <td>-449.937588</td>\n",
       "      <td>1400.316682</td>\n",
       "      <td>-450.527147</td>\n",
       "      <td>14.115662</td>\n",
       "      <td>4.624775</td>\n",
       "      <td>8.842896</td>\n",
       "      <td>2.458187</td>\n",
       "      <td>26.005245</td>\n",
       "      <td>-499.929616</td>\n",
       "      <td>23.886657</td>\n",
       "      <td>-499.951928</td>\n",
       "      <td>23.913535</td>\n",
       "      <td>-499.442343</td>\n",
       "      <td>23.957717</td>\n",
       "      <td>-499.901982</td>\n",
       "      <td>14.015015</td>\n",
       "      <td>-502.520901</td>\n",
       "      <td>11.912783</td>\n",
       "      <td>-501.133383</td>\n",
       "      <td>10.070913</td>\n",
       "      <td>-500.129135</td>\n",
       "      <td>8.013877</td>\n",
       "      <td>-500.517572</td>\n",
       "      <td>14.028663</td>\n",
       "      <td>-601.427363</td>\n",
       "    </tr>\n",
       "  </tbody>\n",
       "</table>\n",
       "</div>"
      ],
      "text/plain": [
       "                     final.output.concentrate_ag  final.output.concentrate_pb  \\\n",
       "date                                                                            \n",
       "2016-01-15 00:00:00                     6.055403                     9.889648   \n",
       "2016-01-15 01:00:00                     6.029369                     9.968944   \n",
       "2016-01-15 02:00:00                     6.055926                    10.213995   \n",
       "\n",
       "                     final.output.concentrate_sol  \\\n",
       "date                                                \n",
       "2016-01-15 00:00:00                      5.507324   \n",
       "2016-01-15 01:00:00                      5.257781   \n",
       "2016-01-15 02:00:00                      5.383759   \n",
       "\n",
       "                     final.output.concentrate_au  final.output.recovery  \\\n",
       "date                                                                      \n",
       "2016-01-15 00:00:00                    42.192020              70.541216   \n",
       "2016-01-15 01:00:00                    42.701629              69.266198   \n",
       "2016-01-15 02:00:00                    42.657501              68.116445   \n",
       "\n",
       "                     final.output.tail_ag  final.output.tail_pb  \\\n",
       "date                                                              \n",
       "2016-01-15 00:00:00             10.411962              0.895447   \n",
       "2016-01-15 01:00:00             10.462676              0.927452   \n",
       "2016-01-15 02:00:00             10.507046              0.953716   \n",
       "\n",
       "                     final.output.tail_sol  final.output.tail_au  \\\n",
       "date                                                               \n",
       "2016-01-15 00:00:00              16.904297              2.143149   \n",
       "2016-01-15 01:00:00              16.634514              2.224930   \n",
       "2016-01-15 02:00:00              16.208849              2.257889   \n",
       "\n",
       "                     primary_cleaner.input.sulfate  \\\n",
       "date                                                 \n",
       "2016-01-15 00:00:00                     127.092003   \n",
       "2016-01-15 01:00:00                     125.629232   \n",
       "2016-01-15 02:00:00                     123.819808   \n",
       "\n",
       "                     primary_cleaner.input.depressant  \\\n",
       "date                                                    \n",
       "2016-01-15 00:00:00                         10.128295   \n",
       "2016-01-15 01:00:00                         10.296251   \n",
       "2016-01-15 02:00:00                         11.316280   \n",
       "\n",
       "                     primary_cleaner.input.feed_size  \\\n",
       "date                                                   \n",
       "2016-01-15 00:00:00                             7.25   \n",
       "2016-01-15 01:00:00                             7.25   \n",
       "2016-01-15 02:00:00                             7.25   \n",
       "\n",
       "                     primary_cleaner.input.xanthate  \\\n",
       "date                                                  \n",
       "2016-01-15 00:00:00                        0.988759   \n",
       "2016-01-15 01:00:00                        1.002663   \n",
       "2016-01-15 02:00:00                        0.991265   \n",
       "\n",
       "                     primary_cleaner.output.concentrate_ag  \\\n",
       "date                                                         \n",
       "2016-01-15 00:00:00                               8.547551   \n",
       "2016-01-15 01:00:00                               8.558743   \n",
       "2016-01-15 02:00:00                               8.603505   \n",
       "\n",
       "                     primary_cleaner.output.concentrate_pb  \\\n",
       "date                                                         \n",
       "2016-01-15 00:00:00                              10.389648   \n",
       "2016-01-15 01:00:00                              10.497069   \n",
       "2016-01-15 02:00:00                              10.354494   \n",
       "\n",
       "                     primary_cleaner.output.concentrate_sol  \\\n",
       "date                                                          \n",
       "2016-01-15 00:00:00                               19.529297   \n",
       "2016-01-15 01:00:00                               19.369147   \n",
       "2016-01-15 02:00:00                               19.167579   \n",
       "\n",
       "                     primary_cleaner.output.concentrate_au  \\\n",
       "date                                                         \n",
       "2016-01-15 00:00:00                              34.174427   \n",
       "2016-01-15 01:00:00                              34.118526   \n",
       "2016-01-15 02:00:00                              33.969464   \n",
       "\n",
       "                     primary_cleaner.output.tail_ag  \\\n",
       "date                                                  \n",
       "2016-01-15 00:00:00                       14.936526   \n",
       "2016-01-15 01:00:00                       16.250511   \n",
       "2016-01-15 02:00:00                       16.491823   \n",
       "\n",
       "                     primary_cleaner.output.tail_pb  \\\n",
       "date                                                  \n",
       "2016-01-15 00:00:00                        2.534912   \n",
       "2016-01-15 01:00:00                        3.049646   \n",
       "2016-01-15 02:00:00                        3.124664   \n",
       "\n",
       "                     primary_cleaner.output.tail_sol  \\\n",
       "date                                                   \n",
       "2016-01-15 00:00:00                         7.476074   \n",
       "2016-01-15 01:00:00                         6.733907   \n",
       "2016-01-15 02:00:00                         6.471768   \n",
       "\n",
       "                     primary_cleaner.output.tail_au  \\\n",
       "date                                                  \n",
       "2016-01-15 00:00:00                        2.106679   \n",
       "2016-01-15 01:00:00                        2.353017   \n",
       "2016-01-15 02:00:00                        2.416800   \n",
       "\n",
       "                     primary_cleaner.state.floatbank8_a_air  \\\n",
       "date                                                          \n",
       "2016-01-15 00:00:00                             1549.775757   \n",
       "2016-01-15 01:00:00                             1576.166671   \n",
       "2016-01-15 02:00:00                             1601.556163   \n",
       "\n",
       "                     primary_cleaner.state.floatbank8_a_level  \\\n",
       "date                                                            \n",
       "2016-01-15 00:00:00                               -498.912140   \n",
       "2016-01-15 01:00:00                               -500.904965   \n",
       "2016-01-15 02:00:00                               -499.997791   \n",
       "\n",
       "                     primary_cleaner.state.floatbank8_b_air  \\\n",
       "date                                                          \n",
       "2016-01-15 00:00:00                             1551.434204   \n",
       "2016-01-15 01:00:00                             1575.950626   \n",
       "2016-01-15 02:00:00                             1600.386685   \n",
       "\n",
       "                     primary_cleaner.state.floatbank8_b_level  \\\n",
       "date                                                            \n",
       "2016-01-15 00:00:00                               -516.403442   \n",
       "2016-01-15 01:00:00                               -499.865889   \n",
       "2016-01-15 02:00:00                               -500.607762   \n",
       "\n",
       "                     primary_cleaner.state.floatbank8_c_air  \\\n",
       "date                                                          \n",
       "2016-01-15 00:00:00                             1549.873901   \n",
       "2016-01-15 01:00:00                             1575.994189   \n",
       "2016-01-15 02:00:00                             1602.003542   \n",
       "\n",
       "                     primary_cleaner.state.floatbank8_c_level  \\\n",
       "date                                                            \n",
       "2016-01-15 00:00:00                               -498.666595   \n",
       "2016-01-15 01:00:00                               -499.315107   \n",
       "2016-01-15 02:00:00                               -500.870069   \n",
       "\n",
       "                     primary_cleaner.state.floatbank8_d_air  \\\n",
       "date                                                          \n",
       "2016-01-15 00:00:00                             1554.367432   \n",
       "2016-01-15 01:00:00                             1574.479259   \n",
       "2016-01-15 02:00:00                             1599.541515   \n",
       "\n",
       "                     primary_cleaner.state.floatbank8_d_level  \\\n",
       "date                                                            \n",
       "2016-01-15 00:00:00                               -493.428131   \n",
       "2016-01-15 01:00:00                               -498.931665   \n",
       "2016-01-15 02:00:00                               -499.827444   \n",
       "\n",
       "                     rougher.calculation.sulfate_to_au_concentrate  \\\n",
       "date                                                                 \n",
       "2016-01-15 00:00:00                                   41885.707031   \n",
       "2016-01-15 01:00:00                                   42050.861809   \n",
       "2016-01-15 02:00:00                                   42018.101184   \n",
       "\n",
       "                     rougher.calculation.floatbank10_sulfate_to_au_feed  \\\n",
       "date                                                                      \n",
       "2016-01-15 00:00:00                                        3481.779053    \n",
       "2016-01-15 01:00:00                                        3498.370979    \n",
       "2016-01-15 02:00:00                                        3495.348910    \n",
       "\n",
       "                     rougher.calculation.floatbank11_sulfate_to_au_feed  \\\n",
       "date                                                                      \n",
       "2016-01-15 00:00:00                                        3520.337158    \n",
       "2016-01-15 01:00:00                                        3489.981857    \n",
       "2016-01-15 02:00:00                                        3502.359819    \n",
       "\n",
       "                     rougher.calculation.au_pb_ratio  rougher.input.feed_ag  \\\n",
       "date                                                                          \n",
       "2016-01-15 00:00:00                         2.838687               6.100378   \n",
       "2016-01-15 01:00:00                         2.858998               6.161113   \n",
       "2016-01-15 02:00:00                         2.945989               6.116455   \n",
       "\n",
       "                     rougher.input.feed_pb  rougher.input.feed_rate  \\\n",
       "date                                                                  \n",
       "2016-01-15 00:00:00               2.284912               523.546326   \n",
       "2016-01-15 01:00:00               2.266033               525.290581   \n",
       "2016-01-15 02:00:00               2.159622               530.026610   \n",
       "\n",
       "                     rougher.input.feed_size  rougher.input.feed_sol  \\\n",
       "date                                                                   \n",
       "2016-01-15 00:00:00                55.486599               36.808594   \n",
       "2016-01-15 01:00:00                57.278666               35.753385   \n",
       "2016-01-15 02:00:00                57.510649               35.971630   \n",
       "\n",
       "                     rougher.input.feed_au  rougher.input.floatbank10_sulfate  \\\n",
       "date                                                                            \n",
       "2016-01-15 00:00:00               6.486150                          11.986616   \n",
       "2016-01-15 01:00:00               6.478583                          11.971193   \n",
       "2016-01-15 02:00:00               6.362222                          11.920603   \n",
       "\n",
       "                     rougher.input.floatbank10_xanthate  \\\n",
       "date                                                      \n",
       "2016-01-15 00:00:00                            6.007990   \n",
       "2016-01-15 01:00:00                            6.005766   \n",
       "2016-01-15 02:00:00                            6.197377   \n",
       "\n",
       "                     rougher.input.floatbank11_sulfate  \\\n",
       "date                                                     \n",
       "2016-01-15 00:00:00                          11.836743   \n",
       "2016-01-15 01:00:00                          11.996163   \n",
       "2016-01-15 02:00:00                          11.920305   \n",
       "\n",
       "                     rougher.input.floatbank11_xanthate  \\\n",
       "date                                                      \n",
       "2016-01-15 00:00:00                            6.005818   \n",
       "2016-01-15 01:00:00                            6.012594   \n",
       "2016-01-15 02:00:00                            6.204633   \n",
       "\n",
       "                     rougher.output.concentrate_ag  \\\n",
       "date                                                 \n",
       "2016-01-15 00:00:00                      11.500771   \n",
       "2016-01-15 01:00:00                      11.615865   \n",
       "2016-01-15 02:00:00                      11.695753   \n",
       "\n",
       "                     rougher.output.concentrate_pb  \\\n",
       "date                                                 \n",
       "2016-01-15 00:00:00                       7.101074   \n",
       "2016-01-15 01:00:00                       7.278807   \n",
       "2016-01-15 02:00:00                       7.216833   \n",
       "\n",
       "                     rougher.output.concentrate_sol  \\\n",
       "date                                                  \n",
       "2016-01-15 00:00:00                       28.029297   \n",
       "2016-01-15 01:00:00                       28.067063   \n",
       "2016-01-15 02:00:00                       27.454037   \n",
       "\n",
       "                     rougher.output.concentrate_au  rougher.output.recovery  \\\n",
       "date                                                                          \n",
       "2016-01-15 00:00:00                      19.793808                87.107763   \n",
       "2016-01-15 01:00:00                      20.050975                86.843261   \n",
       "2016-01-15 02:00:00                      19.737170                86.842308   \n",
       "\n",
       "                     rougher.output.tail_ag  rougher.output.tail_pb  \\\n",
       "date                                                                  \n",
       "2016-01-15 00:00:00                5.008018                0.508728   \n",
       "2016-01-15 01:00:00                4.955378                0.536689   \n",
       "2016-01-15 02:00:00                4.843460                0.546416   \n",
       "\n",
       "                     rougher.output.tail_sol  rougher.output.tail_au  \\\n",
       "date                                                                   \n",
       "2016-01-15 00:00:00                19.154297                1.170244   \n",
       "2016-01-15 01:00:00                18.965234                1.184827   \n",
       "2016-01-15 02:00:00                18.808533                1.162562   \n",
       "\n",
       "                     rougher.state.floatbank10_a_air  \\\n",
       "date                                                   \n",
       "2016-01-15 00:00:00                       999.706909   \n",
       "2016-01-15 01:00:00                      1000.286398   \n",
       "2016-01-15 02:00:00                       999.719565   \n",
       "\n",
       "                     rougher.state.floatbank10_a_level  \\\n",
       "date                                                     \n",
       "2016-01-15 00:00:00                        -404.066986   \n",
       "2016-01-15 01:00:00                        -400.065196   \n",
       "2016-01-15 02:00:00                        -400.074028   \n",
       "\n",
       "                     rougher.state.floatbank10_b_air  \\\n",
       "date                                                   \n",
       "2016-01-15 00:00:00                      1603.011353   \n",
       "2016-01-15 01:00:00                      1600.754587   \n",
       "2016-01-15 02:00:00                      1599.337330   \n",
       "\n",
       "                     rougher.state.floatbank10_b_level  \\\n",
       "date                                                     \n",
       "2016-01-15 00:00:00                        -434.715027   \n",
       "2016-01-15 01:00:00                        -449.953435   \n",
       "2016-01-15 02:00:00                        -450.008530   \n",
       "\n",
       "                     rougher.state.floatbank10_c_air  \\\n",
       "date                                                   \n",
       "2016-01-15 00:00:00                      1602.375000   \n",
       "2016-01-15 01:00:00                      1600.479580   \n",
       "2016-01-15 02:00:00                      1599.672797   \n",
       "\n",
       "                     rougher.state.floatbank10_c_level  \\\n",
       "date                                                     \n",
       "2016-01-15 00:00:00                        -442.204468   \n",
       "2016-01-15 01:00:00                        -449.830646   \n",
       "2016-01-15 02:00:00                        -449.954491   \n",
       "\n",
       "                     rougher.state.floatbank10_d_air  \\\n",
       "date                                                   \n",
       "2016-01-15 00:00:00                      1598.937256   \n",
       "2016-01-15 01:00:00                      1600.527589   \n",
       "2016-01-15 02:00:00                      1599.849325   \n",
       "\n",
       "                     rougher.state.floatbank10_d_level  \\\n",
       "date                                                     \n",
       "2016-01-15 00:00:00                        -451.294128   \n",
       "2016-01-15 01:00:00                        -449.953649   \n",
       "2016-01-15 02:00:00                        -449.954185   \n",
       "\n",
       "                     rougher.state.floatbank10_e_air  \\\n",
       "date                                                   \n",
       "2016-01-15 00:00:00                      1404.472046   \n",
       "2016-01-15 01:00:00                      1399.227084   \n",
       "2016-01-15 02:00:00                      1399.180945   \n",
       "\n",
       "                     rougher.state.floatbank10_e_level  \\\n",
       "date                                                     \n",
       "2016-01-15 00:00:00                        -455.462982   \n",
       "2016-01-15 01:00:00                        -450.869848   \n",
       "2016-01-15 02:00:00                        -449.937588   \n",
       "\n",
       "                     rougher.state.floatbank10_f_air  \\\n",
       "date                                                   \n",
       "2016-01-15 00:00:00                      1416.354980   \n",
       "2016-01-15 01:00:00                      1399.719514   \n",
       "2016-01-15 02:00:00                      1400.316682   \n",
       "\n",
       "                     rougher.state.floatbank10_f_level  \\\n",
       "date                                                     \n",
       "2016-01-15 00:00:00                        -451.939636   \n",
       "2016-01-15 01:00:00                        -450.119001   \n",
       "2016-01-15 02:00:00                        -450.527147   \n",
       "\n",
       "                     secondary_cleaner.output.tail_ag  \\\n",
       "date                                                    \n",
       "2016-01-15 00:00:00                         14.500184   \n",
       "2016-01-15 01:00:00                         14.265474   \n",
       "2016-01-15 02:00:00                         14.115662   \n",
       "\n",
       "                     secondary_cleaner.output.tail_pb  \\\n",
       "date                                                    \n",
       "2016-01-15 00:00:00                          4.694824   \n",
       "2016-01-15 01:00:00                          4.592547   \n",
       "2016-01-15 02:00:00                          4.624775   \n",
       "\n",
       "                     secondary_cleaner.output.tail_sol  \\\n",
       "date                                                     \n",
       "2016-01-15 00:00:00                           8.764648   \n",
       "2016-01-15 01:00:00                           9.001494   \n",
       "2016-01-15 02:00:00                           8.842896   \n",
       "\n",
       "                     secondary_cleaner.output.tail_au  \\\n",
       "date                                                    \n",
       "2016-01-15 00:00:00                          2.606185   \n",
       "2016-01-15 01:00:00                          2.488248   \n",
       "2016-01-15 02:00:00                          2.458187   \n",
       "\n",
       "                     secondary_cleaner.state.floatbank2_a_air  \\\n",
       "date                                                            \n",
       "2016-01-15 00:00:00                                 25.853109   \n",
       "2016-01-15 01:00:00                                 25.880539   \n",
       "2016-01-15 02:00:00                                 26.005245   \n",
       "\n",
       "                     secondary_cleaner.state.floatbank2_a_level  \\\n",
       "date                                                              \n",
       "2016-01-15 00:00:00                                 -498.526489   \n",
       "2016-01-15 01:00:00                                 -499.989656   \n",
       "2016-01-15 02:00:00                                 -499.929616   \n",
       "\n",
       "                     secondary_cleaner.state.floatbank2_b_air  \\\n",
       "date                                                            \n",
       "2016-01-15 00:00:00                                 23.893660   \n",
       "2016-01-15 01:00:00                                 23.889530   \n",
       "2016-01-15 02:00:00                                 23.886657   \n",
       "\n",
       "                     secondary_cleaner.state.floatbank2_b_level  \\\n",
       "date                                                              \n",
       "2016-01-15 00:00:00                                 -501.406281   \n",
       "2016-01-15 01:00:00                                 -500.372428   \n",
       "2016-01-15 02:00:00                                 -499.951928   \n",
       "\n",
       "                     secondary_cleaner.state.floatbank3_a_air  \\\n",
       "date                                                            \n",
       "2016-01-15 00:00:00                                 23.961798   \n",
       "2016-01-15 01:00:00                                 23.970550   \n",
       "2016-01-15 02:00:00                                 23.913535   \n",
       "\n",
       "                     secondary_cleaner.state.floatbank3_a_level  \\\n",
       "date                                                              \n",
       "2016-01-15 00:00:00                                 -495.262817   \n",
       "2016-01-15 01:00:00                                 -500.085473   \n",
       "2016-01-15 02:00:00                                 -499.442343   \n",
       "\n",
       "                     secondary_cleaner.state.floatbank3_b_air  \\\n",
       "date                                                            \n",
       "2016-01-15 00:00:00                                 21.940409   \n",
       "2016-01-15 01:00:00                                 22.085714   \n",
       "2016-01-15 02:00:00                                 23.957717   \n",
       "\n",
       "                     secondary_cleaner.state.floatbank3_b_level  \\\n",
       "date                                                              \n",
       "2016-01-15 00:00:00                                 -499.340973   \n",
       "2016-01-15 01:00:00                                 -499.446897   \n",
       "2016-01-15 02:00:00                                 -499.901982   \n",
       "\n",
       "                     secondary_cleaner.state.floatbank4_a_air  \\\n",
       "date                                                            \n",
       "2016-01-15 00:00:00                                 14.016835   \n",
       "2016-01-15 01:00:00                                 13.992281   \n",
       "2016-01-15 02:00:00                                 14.015015   \n",
       "\n",
       "                     secondary_cleaner.state.floatbank4_a_level  \\\n",
       "date                                                              \n",
       "2016-01-15 00:00:00                                 -502.488007   \n",
       "2016-01-15 01:00:00                                 -505.503262   \n",
       "2016-01-15 02:00:00                                 -502.520901   \n",
       "\n",
       "                     secondary_cleaner.state.floatbank4_b_air  \\\n",
       "date                                                            \n",
       "2016-01-15 00:00:00                                 12.099931   \n",
       "2016-01-15 01:00:00                                 11.950531   \n",
       "2016-01-15 02:00:00                                 11.912783   \n",
       "\n",
       "                     secondary_cleaner.state.floatbank4_b_level  \\\n",
       "date                                                              \n",
       "2016-01-15 00:00:00                                 -504.715942   \n",
       "2016-01-15 01:00:00                                 -501.331529   \n",
       "2016-01-15 02:00:00                                 -501.133383   \n",
       "\n",
       "                     secondary_cleaner.state.floatbank5_a_air  \\\n",
       "date                                                            \n",
       "2016-01-15 00:00:00                                  9.925633   \n",
       "2016-01-15 01:00:00                                 10.039245   \n",
       "2016-01-15 02:00:00                                 10.070913   \n",
       "\n",
       "                     secondary_cleaner.state.floatbank5_a_level  \\\n",
       "date                                                              \n",
       "2016-01-15 00:00:00                                 -498.310211   \n",
       "2016-01-15 01:00:00                                 -500.169983   \n",
       "2016-01-15 02:00:00                                 -500.129135   \n",
       "\n",
       "                     secondary_cleaner.state.floatbank5_b_air  \\\n",
       "date                                                            \n",
       "2016-01-15 00:00:00                                  8.079666   \n",
       "2016-01-15 01:00:00                                  7.984757   \n",
       "2016-01-15 02:00:00                                  8.013877   \n",
       "\n",
       "                     secondary_cleaner.state.floatbank5_b_level  \\\n",
       "date                                                              \n",
       "2016-01-15 00:00:00                                 -500.470978   \n",
       "2016-01-15 01:00:00                                 -500.582168   \n",
       "2016-01-15 02:00:00                                 -500.517572   \n",
       "\n",
       "                     secondary_cleaner.state.floatbank6_a_air  \\\n",
       "date                                                            \n",
       "2016-01-15 00:00:00                                 14.151341   \n",
       "2016-01-15 01:00:00                                 13.998353   \n",
       "2016-01-15 02:00:00                                 14.028663   \n",
       "\n",
       "                     secondary_cleaner.state.floatbank6_a_level  \n",
       "date                                                             \n",
       "2016-01-15 00:00:00                                 -605.841980  \n",
       "2016-01-15 01:00:00                                 -599.787184  \n",
       "2016-01-15 02:00:00                                 -601.427363  "
      ]
     },
     "metadata": {},
     "output_type": "display_data"
    },
    {
     "name": "stdout",
     "output_type": "stream",
     "text": [
      "\n",
      "<class 'pandas.core.frame.DataFrame'>\n",
      "Index: 19439 entries, 2016-01-15 00:00:00 to 2018-08-18 10:59:59\n",
      "Data columns (total 86 columns):\n",
      " #   Column                                              Non-Null Count  Dtype  \n",
      "---  ------                                              --------------  -----  \n",
      " 0   final.output.concentrate_ag                         19438 non-null  float64\n",
      " 1   final.output.concentrate_pb                         19438 non-null  float64\n",
      " 2   final.output.concentrate_sol                        19228 non-null  float64\n",
      " 3   final.output.concentrate_au                         19439 non-null  float64\n",
      " 4   final.output.recovery                               19439 non-null  float64\n",
      " 5   final.output.tail_ag                                19438 non-null  float64\n",
      " 6   final.output.tail_pb                                19338 non-null  float64\n",
      " 7   final.output.tail_sol                               19433 non-null  float64\n",
      " 8   final.output.tail_au                                19439 non-null  float64\n",
      " 9   primary_cleaner.input.sulfate                       19415 non-null  float64\n",
      " 10  primary_cleaner.input.depressant                    19402 non-null  float64\n",
      " 11  primary_cleaner.input.feed_size                     19439 non-null  float64\n",
      " 12  primary_cleaner.input.xanthate                      19335 non-null  float64\n",
      " 13  primary_cleaner.output.concentrate_ag               19439 non-null  float64\n",
      " 14  primary_cleaner.output.concentrate_pb               19323 non-null  float64\n",
      " 15  primary_cleaner.output.concentrate_sol              19069 non-null  float64\n",
      " 16  primary_cleaner.output.concentrate_au               19439 non-null  float64\n",
      " 17  primary_cleaner.output.tail_ag                      19435 non-null  float64\n",
      " 18  primary_cleaner.output.tail_pb                      19418 non-null  float64\n",
      " 19  primary_cleaner.output.tail_sol                     19377 non-null  float64\n",
      " 20  primary_cleaner.output.tail_au                      19439 non-null  float64\n",
      " 21  primary_cleaner.state.floatbank8_a_air              19435 non-null  float64\n",
      " 22  primary_cleaner.state.floatbank8_a_level            19438 non-null  float64\n",
      " 23  primary_cleaner.state.floatbank8_b_air              19435 non-null  float64\n",
      " 24  primary_cleaner.state.floatbank8_b_level            19438 non-null  float64\n",
      " 25  primary_cleaner.state.floatbank8_c_air              19437 non-null  float64\n",
      " 26  primary_cleaner.state.floatbank8_c_level            19438 non-null  float64\n",
      " 27  primary_cleaner.state.floatbank8_d_air              19436 non-null  float64\n",
      " 28  primary_cleaner.state.floatbank8_d_level            19438 non-null  float64\n",
      " 29  rougher.calculation.sulfate_to_au_concentrate       19437 non-null  float64\n",
      " 30  rougher.calculation.floatbank10_sulfate_to_au_feed  19437 non-null  float64\n",
      " 31  rougher.calculation.floatbank11_sulfate_to_au_feed  19437 non-null  float64\n",
      " 32  rougher.calculation.au_pb_ratio                     19439 non-null  float64\n",
      " 33  rougher.input.feed_ag                               19439 non-null  float64\n",
      " 34  rougher.input.feed_pb                               19339 non-null  float64\n",
      " 35  rougher.input.feed_rate                             19428 non-null  float64\n",
      " 36  rougher.input.feed_size                             19294 non-null  float64\n",
      " 37  rougher.input.feed_sol                              19340 non-null  float64\n",
      " 38  rougher.input.feed_au                               19439 non-null  float64\n",
      " 39  rougher.input.floatbank10_sulfate                   19405 non-null  float64\n",
      " 40  rougher.input.floatbank10_xanthate                  19431 non-null  float64\n",
      " 41  rougher.input.floatbank11_sulfate                   19395 non-null  float64\n",
      " 42  rougher.input.floatbank11_xanthate                  18986 non-null  float64\n",
      " 43  rougher.output.concentrate_ag                       19439 non-null  float64\n",
      " 44  rougher.output.concentrate_pb                       19439 non-null  float64\n",
      " 45  rougher.output.concentrate_sol                      19416 non-null  float64\n",
      " 46  rougher.output.concentrate_au                       19439 non-null  float64\n",
      " 47  rougher.output.recovery                             19439 non-null  float64\n",
      " 48  rougher.output.tail_ag                              19438 non-null  float64\n",
      " 49  rougher.output.tail_pb                              19439 non-null  float64\n",
      " 50  rougher.output.tail_sol                             19439 non-null  float64\n",
      " 51  rougher.output.tail_au                              19439 non-null  float64\n",
      " 52  rougher.state.floatbank10_a_air                     19438 non-null  float64\n",
      " 53  rougher.state.floatbank10_a_level                   19438 non-null  float64\n",
      " 54  rougher.state.floatbank10_b_air                     19438 non-null  float64\n",
      " 55  rougher.state.floatbank10_b_level                   19438 non-null  float64\n",
      " 56  rougher.state.floatbank10_c_air                     19438 non-null  float64\n",
      " 57  rougher.state.floatbank10_c_level                   19438 non-null  float64\n",
      " 58  rougher.state.floatbank10_d_air                     19439 non-null  float64\n",
      " 59  rougher.state.floatbank10_d_level                   19439 non-null  float64\n",
      " 60  rougher.state.floatbank10_e_air                     19003 non-null  float64\n",
      " 61  rougher.state.floatbank10_e_level                   19439 non-null  float64\n",
      " 62  rougher.state.floatbank10_f_air                     19439 non-null  float64\n",
      " 63  rougher.state.floatbank10_f_level                   19439 non-null  float64\n",
      " 64  secondary_cleaner.output.tail_ag                    19437 non-null  float64\n",
      " 65  secondary_cleaner.output.tail_pb                    19427 non-null  float64\n",
      " 66  secondary_cleaner.output.tail_sol                   17691 non-null  float64\n",
      " 67  secondary_cleaner.output.tail_au                    19439 non-null  float64\n",
      " 68  secondary_cleaner.state.floatbank2_a_air            19219 non-null  float64\n",
      " 69  secondary_cleaner.state.floatbank2_a_level          19438 non-null  float64\n",
      " 70  secondary_cleaner.state.floatbank2_b_air            19416 non-null  float64\n",
      " 71  secondary_cleaner.state.floatbank2_b_level          19438 non-null  float64\n",
      " 72  secondary_cleaner.state.floatbank3_a_air            19426 non-null  float64\n",
      " 73  secondary_cleaner.state.floatbank3_a_level          19438 non-null  float64\n",
      " 74  secondary_cleaner.state.floatbank3_b_air            19438 non-null  float64\n",
      " 75  secondary_cleaner.state.floatbank3_b_level          19438 non-null  float64\n",
      " 76  secondary_cleaner.state.floatbank4_a_air            19433 non-null  float64\n",
      " 77  secondary_cleaner.state.floatbank4_a_level          19438 non-null  float64\n",
      " 78  secondary_cleaner.state.floatbank4_b_air            19438 non-null  float64\n",
      " 79  secondary_cleaner.state.floatbank4_b_level          19438 non-null  float64\n",
      " 80  secondary_cleaner.state.floatbank5_a_air            19438 non-null  float64\n",
      " 81  secondary_cleaner.state.floatbank5_a_level          19438 non-null  float64\n",
      " 82  secondary_cleaner.state.floatbank5_b_air            19438 non-null  float64\n",
      " 83  secondary_cleaner.state.floatbank5_b_level          19438 non-null  float64\n",
      " 84  secondary_cleaner.state.floatbank6_a_air            19437 non-null  float64\n",
      " 85  secondary_cleaner.state.floatbank6_a_level          19438 non-null  float64\n",
      "dtypes: float64(86)\n",
      "memory usage: 12.9+ MB\n"
     ]
    },
    {
     "data": {
      "text/plain": [
       "None"
      ]
     },
     "metadata": {},
     "output_type": "display_data"
    },
    {
     "name": "stdout",
     "output_type": "stream",
     "text": [
      "\n"
     ]
    },
    {
     "data": {
      "text/html": [
       "<div>\n",
       "<style scoped>\n",
       "    .dataframe tbody tr th:only-of-type {\n",
       "        vertical-align: middle;\n",
       "    }\n",
       "\n",
       "    .dataframe tbody tr th {\n",
       "        vertical-align: top;\n",
       "    }\n",
       "\n",
       "    .dataframe thead th {\n",
       "        text-align: right;\n",
       "    }\n",
       "</style>\n",
       "<table border=\"1\" class=\"dataframe\">\n",
       "  <thead>\n",
       "    <tr style=\"text-align: right;\">\n",
       "      <th></th>\n",
       "      <th>final.output.concentrate_ag</th>\n",
       "      <th>final.output.concentrate_pb</th>\n",
       "      <th>final.output.concentrate_sol</th>\n",
       "      <th>final.output.concentrate_au</th>\n",
       "      <th>final.output.recovery</th>\n",
       "      <th>final.output.tail_ag</th>\n",
       "      <th>final.output.tail_pb</th>\n",
       "      <th>final.output.tail_sol</th>\n",
       "      <th>final.output.tail_au</th>\n",
       "      <th>primary_cleaner.input.sulfate</th>\n",
       "      <th>primary_cleaner.input.depressant</th>\n",
       "      <th>primary_cleaner.input.feed_size</th>\n",
       "      <th>primary_cleaner.input.xanthate</th>\n",
       "      <th>primary_cleaner.output.concentrate_ag</th>\n",
       "      <th>primary_cleaner.output.concentrate_pb</th>\n",
       "      <th>primary_cleaner.output.concentrate_sol</th>\n",
       "      <th>primary_cleaner.output.concentrate_au</th>\n",
       "      <th>primary_cleaner.output.tail_ag</th>\n",
       "      <th>primary_cleaner.output.tail_pb</th>\n",
       "      <th>primary_cleaner.output.tail_sol</th>\n",
       "      <th>primary_cleaner.output.tail_au</th>\n",
       "      <th>primary_cleaner.state.floatbank8_a_air</th>\n",
       "      <th>primary_cleaner.state.floatbank8_a_level</th>\n",
       "      <th>primary_cleaner.state.floatbank8_b_air</th>\n",
       "      <th>primary_cleaner.state.floatbank8_b_level</th>\n",
       "      <th>primary_cleaner.state.floatbank8_c_air</th>\n",
       "      <th>primary_cleaner.state.floatbank8_c_level</th>\n",
       "      <th>primary_cleaner.state.floatbank8_d_air</th>\n",
       "      <th>primary_cleaner.state.floatbank8_d_level</th>\n",
       "      <th>rougher.calculation.sulfate_to_au_concentrate</th>\n",
       "      <th>rougher.calculation.floatbank10_sulfate_to_au_feed</th>\n",
       "      <th>rougher.calculation.floatbank11_sulfate_to_au_feed</th>\n",
       "      <th>rougher.calculation.au_pb_ratio</th>\n",
       "      <th>rougher.input.feed_ag</th>\n",
       "      <th>rougher.input.feed_pb</th>\n",
       "      <th>rougher.input.feed_rate</th>\n",
       "      <th>rougher.input.feed_size</th>\n",
       "      <th>rougher.input.feed_sol</th>\n",
       "      <th>rougher.input.feed_au</th>\n",
       "      <th>rougher.input.floatbank10_sulfate</th>\n",
       "      <th>rougher.input.floatbank10_xanthate</th>\n",
       "      <th>rougher.input.floatbank11_sulfate</th>\n",
       "      <th>rougher.input.floatbank11_xanthate</th>\n",
       "      <th>rougher.output.concentrate_ag</th>\n",
       "      <th>rougher.output.concentrate_pb</th>\n",
       "      <th>rougher.output.concentrate_sol</th>\n",
       "      <th>rougher.output.concentrate_au</th>\n",
       "      <th>rougher.output.recovery</th>\n",
       "      <th>rougher.output.tail_ag</th>\n",
       "      <th>rougher.output.tail_pb</th>\n",
       "      <th>rougher.output.tail_sol</th>\n",
       "      <th>rougher.output.tail_au</th>\n",
       "      <th>rougher.state.floatbank10_a_air</th>\n",
       "      <th>rougher.state.floatbank10_a_level</th>\n",
       "      <th>rougher.state.floatbank10_b_air</th>\n",
       "      <th>rougher.state.floatbank10_b_level</th>\n",
       "      <th>rougher.state.floatbank10_c_air</th>\n",
       "      <th>rougher.state.floatbank10_c_level</th>\n",
       "      <th>rougher.state.floatbank10_d_air</th>\n",
       "      <th>rougher.state.floatbank10_d_level</th>\n",
       "      <th>rougher.state.floatbank10_e_air</th>\n",
       "      <th>rougher.state.floatbank10_e_level</th>\n",
       "      <th>rougher.state.floatbank10_f_air</th>\n",
       "      <th>rougher.state.floatbank10_f_level</th>\n",
       "      <th>secondary_cleaner.output.tail_ag</th>\n",
       "      <th>secondary_cleaner.output.tail_pb</th>\n",
       "      <th>secondary_cleaner.output.tail_sol</th>\n",
       "      <th>secondary_cleaner.output.tail_au</th>\n",
       "      <th>secondary_cleaner.state.floatbank2_a_air</th>\n",
       "      <th>secondary_cleaner.state.floatbank2_a_level</th>\n",
       "      <th>secondary_cleaner.state.floatbank2_b_air</th>\n",
       "      <th>secondary_cleaner.state.floatbank2_b_level</th>\n",
       "      <th>secondary_cleaner.state.floatbank3_a_air</th>\n",
       "      <th>secondary_cleaner.state.floatbank3_a_level</th>\n",
       "      <th>secondary_cleaner.state.floatbank3_b_air</th>\n",
       "      <th>secondary_cleaner.state.floatbank3_b_level</th>\n",
       "      <th>secondary_cleaner.state.floatbank4_a_air</th>\n",
       "      <th>secondary_cleaner.state.floatbank4_a_level</th>\n",
       "      <th>secondary_cleaner.state.floatbank4_b_air</th>\n",
       "      <th>secondary_cleaner.state.floatbank4_b_level</th>\n",
       "      <th>secondary_cleaner.state.floatbank5_a_air</th>\n",
       "      <th>secondary_cleaner.state.floatbank5_a_level</th>\n",
       "      <th>secondary_cleaner.state.floatbank5_b_air</th>\n",
       "      <th>secondary_cleaner.state.floatbank5_b_level</th>\n",
       "      <th>secondary_cleaner.state.floatbank6_a_air</th>\n",
       "      <th>secondary_cleaner.state.floatbank6_a_level</th>\n",
       "    </tr>\n",
       "  </thead>\n",
       "  <tbody>\n",
       "    <tr>\n",
       "      <th>count</th>\n",
       "      <td>19438.000000</td>\n",
       "      <td>19438.000000</td>\n",
       "      <td>19228.000000</td>\n",
       "      <td>19439.000000</td>\n",
       "      <td>19439.000000</td>\n",
       "      <td>19438.000000</td>\n",
       "      <td>19338.000000</td>\n",
       "      <td>19433.000000</td>\n",
       "      <td>19439.000000</td>\n",
       "      <td>19415.000000</td>\n",
       "      <td>19402.000000</td>\n",
       "      <td>19439.000000</td>\n",
       "      <td>19335.000000</td>\n",
       "      <td>19439.000000</td>\n",
       "      <td>19323.000000</td>\n",
       "      <td>19069.000000</td>\n",
       "      <td>19439.000000</td>\n",
       "      <td>19435.000000</td>\n",
       "      <td>19418.000000</td>\n",
       "      <td>19377.000000</td>\n",
       "      <td>19439.000000</td>\n",
       "      <td>1.943500e+04</td>\n",
       "      <td>19438.000000</td>\n",
       "      <td>1.943500e+04</td>\n",
       "      <td>19438.000000</td>\n",
       "      <td>1.943700e+04</td>\n",
       "      <td>19438.000000</td>\n",
       "      <td>1.943600e+04</td>\n",
       "      <td>19438.000000</td>\n",
       "      <td>1.943700e+04</td>\n",
       "      <td>19437.000000</td>\n",
       "      <td>19437.000000</td>\n",
       "      <td>19439.000000</td>\n",
       "      <td>19439.000000</td>\n",
       "      <td>19339.000000</td>\n",
       "      <td>19428.000000</td>\n",
       "      <td>19294.000000</td>\n",
       "      <td>19340.000000</td>\n",
       "      <td>19439.000000</td>\n",
       "      <td>19405.000000</td>\n",
       "      <td>19431.000000</td>\n",
       "      <td>19395.000000</td>\n",
       "      <td>18986.000000</td>\n",
       "      <td>19439.000000</td>\n",
       "      <td>19439.000000</td>\n",
       "      <td>19416.000000</td>\n",
       "      <td>19439.000000</td>\n",
       "      <td>19439.000000</td>\n",
       "      <td>19438.000000</td>\n",
       "      <td>19439.000000</td>\n",
       "      <td>19439.000000</td>\n",
       "      <td>19439.000000</td>\n",
       "      <td>19438.000000</td>\n",
       "      <td>19438.000000</td>\n",
       "      <td>19438.000000</td>\n",
       "      <td>19438.000000</td>\n",
       "      <td>19438.000000</td>\n",
       "      <td>19438.000000</td>\n",
       "      <td>19439.000000</td>\n",
       "      <td>19439.000000</td>\n",
       "      <td>19003.000000</td>\n",
       "      <td>19439.000000</td>\n",
       "      <td>19439.000000</td>\n",
       "      <td>19439.000000</td>\n",
       "      <td>19437.000000</td>\n",
       "      <td>19427.000000</td>\n",
       "      <td>17691.000000</td>\n",
       "      <td>19439.000000</td>\n",
       "      <td>19219.000000</td>\n",
       "      <td>19438.000000</td>\n",
       "      <td>19416.000000</td>\n",
       "      <td>19438.000000</td>\n",
       "      <td>19426.000000</td>\n",
       "      <td>19438.000000</td>\n",
       "      <td>19438.000000</td>\n",
       "      <td>19438.000000</td>\n",
       "      <td>19433.000000</td>\n",
       "      <td>19438.000000</td>\n",
       "      <td>19438.000000</td>\n",
       "      <td>19438.000000</td>\n",
       "      <td>19438.000000</td>\n",
       "      <td>19438.000000</td>\n",
       "      <td>19438.000000</td>\n",
       "      <td>19438.000000</td>\n",
       "      <td>19437.000000</td>\n",
       "      <td>19438.000000</td>\n",
       "    </tr>\n",
       "    <tr>\n",
       "      <th>mean</th>\n",
       "      <td>5.168470</td>\n",
       "      <td>9.978895</td>\n",
       "      <td>9.501224</td>\n",
       "      <td>44.076513</td>\n",
       "      <td>67.050208</td>\n",
       "      <td>9.688589</td>\n",
       "      <td>2.705795</td>\n",
       "      <td>10.583728</td>\n",
       "      <td>3.042467</td>\n",
       "      <td>144.624774</td>\n",
       "      <td>8.817039</td>\n",
       "      <td>7.307078</td>\n",
       "      <td>1.021795</td>\n",
       "      <td>8.442408</td>\n",
       "      <td>9.829530</td>\n",
       "      <td>10.489499</td>\n",
       "      <td>32.119400</td>\n",
       "      <td>16.145826</td>\n",
       "      <td>3.435656</td>\n",
       "      <td>7.973209</td>\n",
       "      <td>3.914179</td>\n",
       "      <td>1.589354e+03</td>\n",
       "      <td>-491.195012</td>\n",
       "      <td>1.591344e+03</td>\n",
       "      <td>-492.192978</td>\n",
       "      <td>1.586669e+03</td>\n",
       "      <td>-491.980070</td>\n",
       "      <td>1.542912e+03</td>\n",
       "      <td>-488.017382</td>\n",
       "      <td>4.217119e+04</td>\n",
       "      <td>3393.052498</td>\n",
       "      <td>3256.854171</td>\n",
       "      <td>2.420119</td>\n",
       "      <td>8.794927</td>\n",
       "      <td>3.598085</td>\n",
       "      <td>478.320042</td>\n",
       "      <td>58.970310</td>\n",
       "      <td>36.695114</td>\n",
       "      <td>8.266097</td>\n",
       "      <td>12.334373</td>\n",
       "      <td>6.021474</td>\n",
       "      <td>12.064140</td>\n",
       "      <td>6.065533</td>\n",
       "      <td>11.994759</td>\n",
       "      <td>7.606272</td>\n",
       "      <td>28.805571</td>\n",
       "      <td>19.772000</td>\n",
       "      <td>83.328587</td>\n",
       "      <td>5.588982</td>\n",
       "      <td>0.645782</td>\n",
       "      <td>18.057106</td>\n",
       "      <td>1.816391</td>\n",
       "      <td>1105.315068</td>\n",
       "      <td>-376.610690</td>\n",
       "      <td>1320.221139</td>\n",
       "      <td>-467.247826</td>\n",
       "      <td>1299.968799</td>\n",
       "      <td>-467.716946</td>\n",
       "      <td>1211.563299</td>\n",
       "      <td>-468.239912</td>\n",
       "      <td>1080.869685</td>\n",
       "      <td>-466.037742</td>\n",
       "      <td>1025.274256</td>\n",
       "      <td>-466.265327</td>\n",
       "      <td>14.586833</td>\n",
       "      <td>5.777703</td>\n",
       "      <td>7.167247</td>\n",
       "      <td>4.339625</td>\n",
       "      <td>28.705564</td>\n",
       "      <td>-502.367331</td>\n",
       "      <td>24.106800</td>\n",
       "      <td>-503.230712</td>\n",
       "      <td>28.199338</td>\n",
       "      <td>-486.203350</td>\n",
       "      <td>22.200645</td>\n",
       "      <td>-493.742107</td>\n",
       "      <td>18.987674</td>\n",
       "      <td>-485.894516</td>\n",
       "      <td>15.010366</td>\n",
       "      <td>-461.078636</td>\n",
       "      <td>15.694452</td>\n",
       "      <td>-488.684065</td>\n",
       "      <td>12.198224</td>\n",
       "      <td>-487.149827</td>\n",
       "      <td>18.959024</td>\n",
       "      <td>-505.436305</td>\n",
       "    </tr>\n",
       "    <tr>\n",
       "      <th>std</th>\n",
       "      <td>1.372348</td>\n",
       "      <td>1.669240</td>\n",
       "      <td>2.787537</td>\n",
       "      <td>5.129784</td>\n",
       "      <td>10.125840</td>\n",
       "      <td>2.328642</td>\n",
       "      <td>0.949077</td>\n",
       "      <td>2.868782</td>\n",
       "      <td>0.922808</td>\n",
       "      <td>44.464071</td>\n",
       "      <td>3.286186</td>\n",
       "      <td>0.613509</td>\n",
       "      <td>0.513254</td>\n",
       "      <td>2.054465</td>\n",
       "      <td>2.556843</td>\n",
       "      <td>3.909639</td>\n",
       "      <td>5.627611</td>\n",
       "      <td>3.548598</td>\n",
       "      <td>1.392536</td>\n",
       "      <td>2.212677</td>\n",
       "      <td>1.593034</td>\n",
       "      <td>1.289968e+02</td>\n",
       "      <td>32.431842</td>\n",
       "      <td>1.318109e+02</td>\n",
       "      <td>33.794822</td>\n",
       "      <td>1.361114e+02</td>\n",
       "      <td>32.711455</td>\n",
       "      <td>2.461996e+02</td>\n",
       "      <td>43.959780</td>\n",
       "      <td>3.243621e+05</td>\n",
       "      <td>4943.845943</td>\n",
       "      <td>5781.423659</td>\n",
       "      <td>0.814935</td>\n",
       "      <td>1.936847</td>\n",
       "      <td>1.049486</td>\n",
       "      <td>105.373758</td>\n",
       "      <td>21.634478</td>\n",
       "      <td>5.145445</td>\n",
       "      <td>1.955092</td>\n",
       "      <td>3.427317</td>\n",
       "      <td>1.127263</td>\n",
       "      <td>3.784221</td>\n",
       "      <td>1.099118</td>\n",
       "      <td>2.733862</td>\n",
       "      <td>1.796757</td>\n",
       "      <td>5.944207</td>\n",
       "      <td>3.753600</td>\n",
       "      <td>14.148086</td>\n",
       "      <td>1.111288</td>\n",
       "      <td>0.251526</td>\n",
       "      <td>3.449218</td>\n",
       "      <td>0.680046</td>\n",
       "      <td>160.826798</td>\n",
       "      <td>93.909667</td>\n",
       "      <td>176.287095</td>\n",
       "      <td>54.673142</td>\n",
       "      <td>202.804325</td>\n",
       "      <td>53.534825</td>\n",
       "      <td>204.019326</td>\n",
       "      <td>53.921458</td>\n",
       "      <td>172.149992</td>\n",
       "      <td>57.384424</td>\n",
       "      <td>164.487837</td>\n",
       "      <td>57.850263</td>\n",
       "      <td>4.265202</td>\n",
       "      <td>2.774598</td>\n",
       "      <td>3.916079</td>\n",
       "      <td>2.326751</td>\n",
       "      <td>5.458789</td>\n",
       "      <td>53.571950</td>\n",
       "      <td>5.749616</td>\n",
       "      <td>56.567724</td>\n",
       "      <td>6.134908</td>\n",
       "      <td>54.412349</td>\n",
       "      <td>5.574001</td>\n",
       "      <td>43.372158</td>\n",
       "      <td>5.411058</td>\n",
       "      <td>47.758570</td>\n",
       "      <td>4.890228</td>\n",
       "      <td>67.405524</td>\n",
       "      <td>5.510974</td>\n",
       "      <td>34.533396</td>\n",
       "      <td>5.333024</td>\n",
       "      <td>38.347312</td>\n",
       "      <td>5.550498</td>\n",
       "      <td>37.689057</td>\n",
       "    </tr>\n",
       "    <tr>\n",
       "      <th>min</th>\n",
       "      <td>0.000000</td>\n",
       "      <td>0.000000</td>\n",
       "      <td>0.000000</td>\n",
       "      <td>0.000000</td>\n",
       "      <td>0.000000</td>\n",
       "      <td>0.000000</td>\n",
       "      <td>0.000000</td>\n",
       "      <td>0.000000</td>\n",
       "      <td>0.000000</td>\n",
       "      <td>0.003112</td>\n",
       "      <td>0.000000</td>\n",
       "      <td>1.080000</td>\n",
       "      <td>0.000005</td>\n",
       "      <td>0.000000</td>\n",
       "      <td>0.000000</td>\n",
       "      <td>0.000000</td>\n",
       "      <td>0.000000</td>\n",
       "      <td>0.000000</td>\n",
       "      <td>0.000000</td>\n",
       "      <td>0.000000</td>\n",
       "      <td>0.000000</td>\n",
       "      <td>5.445860e-32</td>\n",
       "      <td>-798.641662</td>\n",
       "      <td>6.647490e-32</td>\n",
       "      <td>-799.997015</td>\n",
       "      <td>4.033736e-32</td>\n",
       "      <td>-799.960571</td>\n",
       "      <td>4.039220e-32</td>\n",
       "      <td>-799.794250</td>\n",
       "      <td>-4.223520e+07</td>\n",
       "      <td>-486.598675</td>\n",
       "      <td>-264.982785</td>\n",
       "      <td>-0.010548</td>\n",
       "      <td>0.010000</td>\n",
       "      <td>0.010000</td>\n",
       "      <td>0.002986</td>\n",
       "      <td>0.046369</td>\n",
       "      <td>0.010000</td>\n",
       "      <td>0.010000</td>\n",
       "      <td>0.001083</td>\n",
       "      <td>0.000568</td>\n",
       "      <td>0.000077</td>\n",
       "      <td>0.000290</td>\n",
       "      <td>0.000000</td>\n",
       "      <td>0.000000</td>\n",
       "      <td>0.000000</td>\n",
       "      <td>0.000000</td>\n",
       "      <td>0.000000</td>\n",
       "      <td>0.594562</td>\n",
       "      <td>0.007566</td>\n",
       "      <td>10.014648</td>\n",
       "      <td>0.020676</td>\n",
       "      <td>-0.042069</td>\n",
       "      <td>-657.949759</td>\n",
       "      <td>-0.721806</td>\n",
       "      <td>-650.260008</td>\n",
       "      <td>-0.056636</td>\n",
       "      <td>-647.544439</td>\n",
       "      <td>-0.992219</td>\n",
       "      <td>-648.390665</td>\n",
       "      <td>-1.982295</td>\n",
       "      <td>-649.443911</td>\n",
       "      <td>-2.593390</td>\n",
       "      <td>-649.949283</td>\n",
       "      <td>0.000000</td>\n",
       "      <td>0.000000</td>\n",
       "      <td>0.000000</td>\n",
       "      <td>0.000000</td>\n",
       "      <td>0.077503</td>\n",
       "      <td>-799.606441</td>\n",
       "      <td>0.000000</td>\n",
       "      <td>-799.873878</td>\n",
       "      <td>0.000000</td>\n",
       "      <td>-799.755798</td>\n",
       "      <td>0.000000</td>\n",
       "      <td>-809.333008</td>\n",
       "      <td>0.000000</td>\n",
       "      <td>-799.798523</td>\n",
       "      <td>0.000000</td>\n",
       "      <td>-800.836914</td>\n",
       "      <td>-0.372054</td>\n",
       "      <td>-797.323986</td>\n",
       "      <td>0.528083</td>\n",
       "      <td>-800.220337</td>\n",
       "      <td>-0.079426</td>\n",
       "      <td>-809.741464</td>\n",
       "    </tr>\n",
       "    <tr>\n",
       "      <th>25%</th>\n",
       "      <td>4.251240</td>\n",
       "      <td>9.137262</td>\n",
       "      <td>7.722820</td>\n",
       "      <td>43.402215</td>\n",
       "      <td>63.299712</td>\n",
       "      <td>8.062878</td>\n",
       "      <td>2.040119</td>\n",
       "      <td>8.938947</td>\n",
       "      <td>2.461138</td>\n",
       "      <td>114.107029</td>\n",
       "      <td>6.076909</td>\n",
       "      <td>6.940000</td>\n",
       "      <td>0.697224</td>\n",
       "      <td>7.263288</td>\n",
       "      <td>8.702328</td>\n",
       "      <td>7.893893</td>\n",
       "      <td>30.463140</td>\n",
       "      <td>14.017742</td>\n",
       "      <td>2.504365</td>\n",
       "      <td>6.747483</td>\n",
       "      <td>2.924844</td>\n",
       "      <td>1.505063e+03</td>\n",
       "      <td>-500.308544</td>\n",
       "      <td>1.503630e+03</td>\n",
       "      <td>-500.437171</td>\n",
       "      <td>1.500927e+03</td>\n",
       "      <td>-500.703932</td>\n",
       "      <td>1.494219e+03</td>\n",
       "      <td>-500.458365</td>\n",
       "      <td>4.070095e+04</td>\n",
       "      <td>2611.425833</td>\n",
       "      <td>2551.437587</td>\n",
       "      <td>2.035434</td>\n",
       "      <td>7.237967</td>\n",
       "      <td>2.887280</td>\n",
       "      <td>416.525453</td>\n",
       "      <td>47.435103</td>\n",
       "      <td>34.207799</td>\n",
       "      <td>6.854384</td>\n",
       "      <td>10.000362</td>\n",
       "      <td>5.398678</td>\n",
       "      <td>9.998460</td>\n",
       "      <td>5.402368</td>\n",
       "      <td>10.628337</td>\n",
       "      <td>6.725987</td>\n",
       "      <td>27.224120</td>\n",
       "      <td>18.802523</td>\n",
       "      <td>81.037957</td>\n",
       "      <td>4.889892</td>\n",
       "      <td>0.477728</td>\n",
       "      <td>15.822525</td>\n",
       "      <td>1.404207</td>\n",
       "      <td>999.661867</td>\n",
       "      <td>-499.835165</td>\n",
       "      <td>1199.626115</td>\n",
       "      <td>-500.201130</td>\n",
       "      <td>1151.076301</td>\n",
       "      <td>-500.217218</td>\n",
       "      <td>1061.051788</td>\n",
       "      <td>-500.386386</td>\n",
       "      <td>998.675263</td>\n",
       "      <td>-500.232191</td>\n",
       "      <td>900.995511</td>\n",
       "      <td>-500.522553</td>\n",
       "      <td>12.640239</td>\n",
       "      <td>3.864733</td>\n",
       "      <td>3.845475</td>\n",
       "      <td>3.182770</td>\n",
       "      <td>25.048462</td>\n",
       "      <td>-500.233700</td>\n",
       "      <td>20.919853</td>\n",
       "      <td>-500.253794</td>\n",
       "      <td>24.949227</td>\n",
       "      <td>-500.213546</td>\n",
       "      <td>18.995924</td>\n",
       "      <td>-500.123034</td>\n",
       "      <td>14.975734</td>\n",
       "      <td>-500.704892</td>\n",
       "      <td>11.940294</td>\n",
       "      <td>-500.187742</td>\n",
       "      <td>10.988606</td>\n",
       "      <td>-500.458467</td>\n",
       "      <td>8.971105</td>\n",
       "      <td>-500.129462</td>\n",
       "      <td>14.983037</td>\n",
       "      <td>-500.728067</td>\n",
       "    </tr>\n",
       "    <tr>\n",
       "      <th>50%</th>\n",
       "      <td>5.066094</td>\n",
       "      <td>10.102433</td>\n",
       "      <td>9.218961</td>\n",
       "      <td>45.011244</td>\n",
       "      <td>68.172738</td>\n",
       "      <td>9.743623</td>\n",
       "      <td>2.748730</td>\n",
       "      <td>10.622456</td>\n",
       "      <td>2.984909</td>\n",
       "      <td>143.232103</td>\n",
       "      <td>8.038311</td>\n",
       "      <td>7.280000</td>\n",
       "      <td>0.940863</td>\n",
       "      <td>8.507298</td>\n",
       "      <td>10.152433</td>\n",
       "      <td>10.314632</td>\n",
       "      <td>32.841295</td>\n",
       "      <td>15.842836</td>\n",
       "      <td>3.271153</td>\n",
       "      <td>8.183673</td>\n",
       "      <td>3.623234</td>\n",
       "      <td>1.600597e+03</td>\n",
       "      <td>-499.926134</td>\n",
       "      <td>1.600521e+03</td>\n",
       "      <td>-499.956767</td>\n",
       "      <td>1.600254e+03</td>\n",
       "      <td>-499.909524</td>\n",
       "      <td>1.599447e+03</td>\n",
       "      <td>-499.905974</td>\n",
       "      <td>4.469648e+04</td>\n",
       "      <td>3018.353876</td>\n",
       "      <td>2997.218088</td>\n",
       "      <td>2.309665</td>\n",
       "      <td>8.593574</td>\n",
       "      <td>3.534895</td>\n",
       "      <td>499.416120</td>\n",
       "      <td>54.610197</td>\n",
       "      <td>37.202650</td>\n",
       "      <td>8.125839</td>\n",
       "      <td>12.001174</td>\n",
       "      <td>6.008273</td>\n",
       "      <td>12.000204</td>\n",
       "      <td>6.098580</td>\n",
       "      <td>12.098115</td>\n",
       "      <td>7.742580</td>\n",
       "      <td>29.835345</td>\n",
       "      <td>20.280214</td>\n",
       "      <td>86.188892</td>\n",
       "      <td>5.765802</td>\n",
       "      <td>0.617465</td>\n",
       "      <td>18.106867</td>\n",
       "      <td>1.808170</td>\n",
       "      <td>1001.072890</td>\n",
       "      <td>-300.263994</td>\n",
       "      <td>1301.579988</td>\n",
       "      <td>-499.784045</td>\n",
       "      <td>1300.211537</td>\n",
       "      <td>-499.713364</td>\n",
       "      <td>1201.569141</td>\n",
       "      <td>-499.532412</td>\n",
       "      <td>1050.029461</td>\n",
       "      <td>-499.663089</td>\n",
       "      <td>999.924821</td>\n",
       "      <td>-499.471777</td>\n",
       "      <td>15.641902</td>\n",
       "      <td>5.344073</td>\n",
       "      <td>7.685827</td>\n",
       "      <td>4.072412</td>\n",
       "      <td>29.099943</td>\n",
       "      <td>-499.973250</td>\n",
       "      <td>25.043289</td>\n",
       "      <td>-500.015439</td>\n",
       "      <td>27.982129</td>\n",
       "      <td>-499.930680</td>\n",
       "      <td>22.011231</td>\n",
       "      <td>-499.981902</td>\n",
       "      <td>18.017481</td>\n",
       "      <td>-499.837793</td>\n",
       "      <td>14.971014</td>\n",
       "      <td>-499.459786</td>\n",
       "      <td>15.000036</td>\n",
       "      <td>-499.802605</td>\n",
       "      <td>11.019433</td>\n",
       "      <td>-499.935317</td>\n",
       "      <td>19.960541</td>\n",
       "      <td>-500.048400</td>\n",
       "    </tr>\n",
       "    <tr>\n",
       "      <th>75%</th>\n",
       "      <td>5.895527</td>\n",
       "      <td>11.035769</td>\n",
       "      <td>10.947813</td>\n",
       "      <td>46.275313</td>\n",
       "      <td>72.686642</td>\n",
       "      <td>11.134294</td>\n",
       "      <td>3.333216</td>\n",
       "      <td>12.104271</td>\n",
       "      <td>3.571351</td>\n",
       "      <td>175.075656</td>\n",
       "      <td>11.013521</td>\n",
       "      <td>7.670000</td>\n",
       "      <td>1.210990</td>\n",
       "      <td>9.809001</td>\n",
       "      <td>11.424971</td>\n",
       "      <td>13.446702</td>\n",
       "      <td>35.048006</td>\n",
       "      <td>18.013975</td>\n",
       "      <td>4.181748</td>\n",
       "      <td>9.548586</td>\n",
       "      <td>4.585705</td>\n",
       "      <td>1.697658e+03</td>\n",
       "      <td>-499.433950</td>\n",
       "      <td>1.699218e+03</td>\n",
       "      <td>-499.373336</td>\n",
       "      <td>1.699483e+03</td>\n",
       "      <td>-498.857643</td>\n",
       "      <td>1.698525e+03</td>\n",
       "      <td>-499.064695</td>\n",
       "      <td>4.816821e+04</td>\n",
       "      <td>3676.769750</td>\n",
       "      <td>3601.998911</td>\n",
       "      <td>2.731794</td>\n",
       "      <td>10.213771</td>\n",
       "      <td>4.244161</td>\n",
       "      <td>550.172183</td>\n",
       "      <td>65.023044</td>\n",
       "      <td>40.039133</td>\n",
       "      <td>9.769917</td>\n",
       "      <td>14.716595</td>\n",
       "      <td>6.798051</td>\n",
       "      <td>14.636766</td>\n",
       "      <td>6.801233</td>\n",
       "      <td>13.736996</td>\n",
       "      <td>8.565199</td>\n",
       "      <td>32.189933</td>\n",
       "      <td>21.717843</td>\n",
       "      <td>90.010670</td>\n",
       "      <td>6.389234</td>\n",
       "      <td>0.778271</td>\n",
       "      <td>20.088151</td>\n",
       "      <td>2.211861</td>\n",
       "      <td>1205.620588</td>\n",
       "      <td>-299.981998</td>\n",
       "      <td>1448.630789</td>\n",
       "      <td>-400.615589</td>\n",
       "      <td>1449.464001</td>\n",
       "      <td>-400.985743</td>\n",
       "      <td>1352.880320</td>\n",
       "      <td>-401.638550</td>\n",
       "      <td>1199.425140</td>\n",
       "      <td>-401.161191</td>\n",
       "      <td>1099.719692</td>\n",
       "      <td>-401.511042</td>\n",
       "      <td>17.358217</td>\n",
       "      <td>7.788467</td>\n",
       "      <td>10.411296</td>\n",
       "      <td>5.063081</td>\n",
       "      <td>33.012536</td>\n",
       "      <td>-499.671261</td>\n",
       "      <td>28.008197</td>\n",
       "      <td>-499.785698</td>\n",
       "      <td>33.002798</td>\n",
       "      <td>-499.325739</td>\n",
       "      <td>25.998206</td>\n",
       "      <td>-499.812834</td>\n",
       "      <td>23.012470</td>\n",
       "      <td>-498.249730</td>\n",
       "      <td>19.034162</td>\n",
       "      <td>-400.118106</td>\n",
       "      <td>18.026190</td>\n",
       "      <td>-498.384187</td>\n",
       "      <td>14.019088</td>\n",
       "      <td>-499.436708</td>\n",
       "      <td>24.003170</td>\n",
       "      <td>-499.495378</td>\n",
       "    </tr>\n",
       "    <tr>\n",
       "      <th>max</th>\n",
       "      <td>16.001945</td>\n",
       "      <td>17.031899</td>\n",
       "      <td>19.615720</td>\n",
       "      <td>52.756638</td>\n",
       "      <td>100.000000</td>\n",
       "      <td>19.552149</td>\n",
       "      <td>5.804178</td>\n",
       "      <td>22.317730</td>\n",
       "      <td>8.245022</td>\n",
       "      <td>265.983123</td>\n",
       "      <td>40.000000</td>\n",
       "      <td>15.500000</td>\n",
       "      <td>4.102454</td>\n",
       "      <td>16.081632</td>\n",
       "      <td>17.081278</td>\n",
       "      <td>22.458114</td>\n",
       "      <td>45.933934</td>\n",
       "      <td>29.459575</td>\n",
       "      <td>9.634565</td>\n",
       "      <td>22.276364</td>\n",
       "      <td>17.788925</td>\n",
       "      <td>2.103104e+03</td>\n",
       "      <td>-57.195404</td>\n",
       "      <td>2.114907e+03</td>\n",
       "      <td>-142.527229</td>\n",
       "      <td>2.013156e+03</td>\n",
       "      <td>-150.937035</td>\n",
       "      <td>2.398904e+03</td>\n",
       "      <td>-30.601828</td>\n",
       "      <td>3.428099e+06</td>\n",
       "      <td>629638.977914</td>\n",
       "      <td>718684.955855</td>\n",
       "      <td>39.379272</td>\n",
       "      <td>14.596026</td>\n",
       "      <td>7.142594</td>\n",
       "      <td>717.508837</td>\n",
       "      <td>484.967466</td>\n",
       "      <td>53.477742</td>\n",
       "      <td>13.731330</td>\n",
       "      <td>36.118275</td>\n",
       "      <td>9.703448</td>\n",
       "      <td>37.980648</td>\n",
       "      <td>9.698407</td>\n",
       "      <td>24.480271</td>\n",
       "      <td>13.617072</td>\n",
       "      <td>38.351193</td>\n",
       "      <td>28.824507</td>\n",
       "      <td>100.000000</td>\n",
       "      <td>12.719177</td>\n",
       "      <td>3.778064</td>\n",
       "      <td>66.117188</td>\n",
       "      <td>9.688980</td>\n",
       "      <td>1521.980372</td>\n",
       "      <td>-273.776101</td>\n",
       "      <td>1809.194008</td>\n",
       "      <td>-296.383080</td>\n",
       "      <td>2499.129174</td>\n",
       "      <td>-292.155509</td>\n",
       "      <td>1817.199290</td>\n",
       "      <td>-76.397327</td>\n",
       "      <td>1922.636637</td>\n",
       "      <td>-139.753025</td>\n",
       "      <td>1706.307502</td>\n",
       "      <td>-191.718480</td>\n",
       "      <td>23.264738</td>\n",
       "      <td>17.042505</td>\n",
       "      <td>26.000772</td>\n",
       "      <td>26.811643</td>\n",
       "      <td>52.651399</td>\n",
       "      <td>-127.875565</td>\n",
       "      <td>35.152122</td>\n",
       "      <td>-211.999273</td>\n",
       "      <td>44.260464</td>\n",
       "      <td>-191.678810</td>\n",
       "      <td>35.072841</td>\n",
       "      <td>-159.742331</td>\n",
       "      <td>30.115735</td>\n",
       "      <td>-245.239184</td>\n",
       "      <td>31.269706</td>\n",
       "      <td>-6.506986</td>\n",
       "      <td>43.709931</td>\n",
       "      <td>-244.483566</td>\n",
       "      <td>27.926001</td>\n",
       "      <td>-137.740004</td>\n",
       "      <td>32.188906</td>\n",
       "      <td>-104.427459</td>\n",
       "    </tr>\n",
       "  </tbody>\n",
       "</table>\n",
       "</div>"
      ],
      "text/plain": [
       "       final.output.concentrate_ag  final.output.concentrate_pb  \\\n",
       "count                 19438.000000                 19438.000000   \n",
       "mean                      5.168470                     9.978895   \n",
       "std                       1.372348                     1.669240   \n",
       "min                       0.000000                     0.000000   \n",
       "25%                       4.251240                     9.137262   \n",
       "50%                       5.066094                    10.102433   \n",
       "75%                       5.895527                    11.035769   \n",
       "max                      16.001945                    17.031899   \n",
       "\n",
       "       final.output.concentrate_sol  final.output.concentrate_au  \\\n",
       "count                  19228.000000                 19439.000000   \n",
       "mean                       9.501224                    44.076513   \n",
       "std                        2.787537                     5.129784   \n",
       "min                        0.000000                     0.000000   \n",
       "25%                        7.722820                    43.402215   \n",
       "50%                        9.218961                    45.011244   \n",
       "75%                       10.947813                    46.275313   \n",
       "max                       19.615720                    52.756638   \n",
       "\n",
       "       final.output.recovery  final.output.tail_ag  final.output.tail_pb  \\\n",
       "count           19439.000000          19438.000000          19338.000000   \n",
       "mean               67.050208              9.688589              2.705795   \n",
       "std                10.125840              2.328642              0.949077   \n",
       "min                 0.000000              0.000000              0.000000   \n",
       "25%                63.299712              8.062878              2.040119   \n",
       "50%                68.172738              9.743623              2.748730   \n",
       "75%                72.686642             11.134294              3.333216   \n",
       "max               100.000000             19.552149              5.804178   \n",
       "\n",
       "       final.output.tail_sol  final.output.tail_au  \\\n",
       "count           19433.000000          19439.000000   \n",
       "mean               10.583728              3.042467   \n",
       "std                 2.868782              0.922808   \n",
       "min                 0.000000              0.000000   \n",
       "25%                 8.938947              2.461138   \n",
       "50%                10.622456              2.984909   \n",
       "75%                12.104271              3.571351   \n",
       "max                22.317730              8.245022   \n",
       "\n",
       "       primary_cleaner.input.sulfate  primary_cleaner.input.depressant  \\\n",
       "count                   19415.000000                      19402.000000   \n",
       "mean                      144.624774                          8.817039   \n",
       "std                        44.464071                          3.286186   \n",
       "min                         0.003112                          0.000000   \n",
       "25%                       114.107029                          6.076909   \n",
       "50%                       143.232103                          8.038311   \n",
       "75%                       175.075656                         11.013521   \n",
       "max                       265.983123                         40.000000   \n",
       "\n",
       "       primary_cleaner.input.feed_size  primary_cleaner.input.xanthate  \\\n",
       "count                     19439.000000                    19335.000000   \n",
       "mean                          7.307078                        1.021795   \n",
       "std                           0.613509                        0.513254   \n",
       "min                           1.080000                        0.000005   \n",
       "25%                           6.940000                        0.697224   \n",
       "50%                           7.280000                        0.940863   \n",
       "75%                           7.670000                        1.210990   \n",
       "max                          15.500000                        4.102454   \n",
       "\n",
       "       primary_cleaner.output.concentrate_ag  \\\n",
       "count                           19439.000000   \n",
       "mean                                8.442408   \n",
       "std                                 2.054465   \n",
       "min                                 0.000000   \n",
       "25%                                 7.263288   \n",
       "50%                                 8.507298   \n",
       "75%                                 9.809001   \n",
       "max                                16.081632   \n",
       "\n",
       "       primary_cleaner.output.concentrate_pb  \\\n",
       "count                           19323.000000   \n",
       "mean                                9.829530   \n",
       "std                                 2.556843   \n",
       "min                                 0.000000   \n",
       "25%                                 8.702328   \n",
       "50%                                10.152433   \n",
       "75%                                11.424971   \n",
       "max                                17.081278   \n",
       "\n",
       "       primary_cleaner.output.concentrate_sol  \\\n",
       "count                            19069.000000   \n",
       "mean                                10.489499   \n",
       "std                                  3.909639   \n",
       "min                                  0.000000   \n",
       "25%                                  7.893893   \n",
       "50%                                 10.314632   \n",
       "75%                                 13.446702   \n",
       "max                                 22.458114   \n",
       "\n",
       "       primary_cleaner.output.concentrate_au  primary_cleaner.output.tail_ag  \\\n",
       "count                           19439.000000                    19435.000000   \n",
       "mean                               32.119400                       16.145826   \n",
       "std                                 5.627611                        3.548598   \n",
       "min                                 0.000000                        0.000000   \n",
       "25%                                30.463140                       14.017742   \n",
       "50%                                32.841295                       15.842836   \n",
       "75%                                35.048006                       18.013975   \n",
       "max                                45.933934                       29.459575   \n",
       "\n",
       "       primary_cleaner.output.tail_pb  primary_cleaner.output.tail_sol  \\\n",
       "count                    19418.000000                     19377.000000   \n",
       "mean                         3.435656                         7.973209   \n",
       "std                          1.392536                         2.212677   \n",
       "min                          0.000000                         0.000000   \n",
       "25%                          2.504365                         6.747483   \n",
       "50%                          3.271153                         8.183673   \n",
       "75%                          4.181748                         9.548586   \n",
       "max                          9.634565                        22.276364   \n",
       "\n",
       "       primary_cleaner.output.tail_au  primary_cleaner.state.floatbank8_a_air  \\\n",
       "count                    19439.000000                            1.943500e+04   \n",
       "mean                         3.914179                            1.589354e+03   \n",
       "std                          1.593034                            1.289968e+02   \n",
       "min                          0.000000                            5.445860e-32   \n",
       "25%                          2.924844                            1.505063e+03   \n",
       "50%                          3.623234                            1.600597e+03   \n",
       "75%                          4.585705                            1.697658e+03   \n",
       "max                         17.788925                            2.103104e+03   \n",
       "\n",
       "       primary_cleaner.state.floatbank8_a_level  \\\n",
       "count                              19438.000000   \n",
       "mean                                -491.195012   \n",
       "std                                   32.431842   \n",
       "min                                 -798.641662   \n",
       "25%                                 -500.308544   \n",
       "50%                                 -499.926134   \n",
       "75%                                 -499.433950   \n",
       "max                                  -57.195404   \n",
       "\n",
       "       primary_cleaner.state.floatbank8_b_air  \\\n",
       "count                            1.943500e+04   \n",
       "mean                             1.591344e+03   \n",
       "std                              1.318109e+02   \n",
       "min                              6.647490e-32   \n",
       "25%                              1.503630e+03   \n",
       "50%                              1.600521e+03   \n",
       "75%                              1.699218e+03   \n",
       "max                              2.114907e+03   \n",
       "\n",
       "       primary_cleaner.state.floatbank8_b_level  \\\n",
       "count                              19438.000000   \n",
       "mean                                -492.192978   \n",
       "std                                   33.794822   \n",
       "min                                 -799.997015   \n",
       "25%                                 -500.437171   \n",
       "50%                                 -499.956767   \n",
       "75%                                 -499.373336   \n",
       "max                                 -142.527229   \n",
       "\n",
       "       primary_cleaner.state.floatbank8_c_air  \\\n",
       "count                            1.943700e+04   \n",
       "mean                             1.586669e+03   \n",
       "std                              1.361114e+02   \n",
       "min                              4.033736e-32   \n",
       "25%                              1.500927e+03   \n",
       "50%                              1.600254e+03   \n",
       "75%                              1.699483e+03   \n",
       "max                              2.013156e+03   \n",
       "\n",
       "       primary_cleaner.state.floatbank8_c_level  \\\n",
       "count                              19438.000000   \n",
       "mean                                -491.980070   \n",
       "std                                   32.711455   \n",
       "min                                 -799.960571   \n",
       "25%                                 -500.703932   \n",
       "50%                                 -499.909524   \n",
       "75%                                 -498.857643   \n",
       "max                                 -150.937035   \n",
       "\n",
       "       primary_cleaner.state.floatbank8_d_air  \\\n",
       "count                            1.943600e+04   \n",
       "mean                             1.542912e+03   \n",
       "std                              2.461996e+02   \n",
       "min                              4.039220e-32   \n",
       "25%                              1.494219e+03   \n",
       "50%                              1.599447e+03   \n",
       "75%                              1.698525e+03   \n",
       "max                              2.398904e+03   \n",
       "\n",
       "       primary_cleaner.state.floatbank8_d_level  \\\n",
       "count                              19438.000000   \n",
       "mean                                -488.017382   \n",
       "std                                   43.959780   \n",
       "min                                 -799.794250   \n",
       "25%                                 -500.458365   \n",
       "50%                                 -499.905974   \n",
       "75%                                 -499.064695   \n",
       "max                                  -30.601828   \n",
       "\n",
       "       rougher.calculation.sulfate_to_au_concentrate  \\\n",
       "count                                   1.943700e+04   \n",
       "mean                                    4.217119e+04   \n",
       "std                                     3.243621e+05   \n",
       "min                                    -4.223520e+07   \n",
       "25%                                     4.070095e+04   \n",
       "50%                                     4.469648e+04   \n",
       "75%                                     4.816821e+04   \n",
       "max                                     3.428099e+06   \n",
       "\n",
       "       rougher.calculation.floatbank10_sulfate_to_au_feed  \\\n",
       "count                                       19437.000000    \n",
       "mean                                         3393.052498    \n",
       "std                                          4943.845943    \n",
       "min                                          -486.598675    \n",
       "25%                                          2611.425833    \n",
       "50%                                          3018.353876    \n",
       "75%                                          3676.769750    \n",
       "max                                        629638.977914    \n",
       "\n",
       "       rougher.calculation.floatbank11_sulfate_to_au_feed  \\\n",
       "count                                       19437.000000    \n",
       "mean                                         3256.854171    \n",
       "std                                          5781.423659    \n",
       "min                                          -264.982785    \n",
       "25%                                          2551.437587    \n",
       "50%                                          2997.218088    \n",
       "75%                                          3601.998911    \n",
       "max                                        718684.955855    \n",
       "\n",
       "       rougher.calculation.au_pb_ratio  rougher.input.feed_ag  \\\n",
       "count                     19439.000000           19439.000000   \n",
       "mean                          2.420119               8.794927   \n",
       "std                           0.814935               1.936847   \n",
       "min                          -0.010548               0.010000   \n",
       "25%                           2.035434               7.237967   \n",
       "50%                           2.309665               8.593574   \n",
       "75%                           2.731794              10.213771   \n",
       "max                          39.379272              14.596026   \n",
       "\n",
       "       rougher.input.feed_pb  rougher.input.feed_rate  \\\n",
       "count           19339.000000             19428.000000   \n",
       "mean                3.598085               478.320042   \n",
       "std                 1.049486               105.373758   \n",
       "min                 0.010000                 0.002986   \n",
       "25%                 2.887280               416.525453   \n",
       "50%                 3.534895               499.416120   \n",
       "75%                 4.244161               550.172183   \n",
       "max                 7.142594               717.508837   \n",
       "\n",
       "       rougher.input.feed_size  rougher.input.feed_sol  rougher.input.feed_au  \\\n",
       "count             19294.000000            19340.000000           19439.000000   \n",
       "mean                 58.970310               36.695114               8.266097   \n",
       "std                  21.634478                5.145445               1.955092   \n",
       "min                   0.046369                0.010000               0.010000   \n",
       "25%                  47.435103               34.207799               6.854384   \n",
       "50%                  54.610197               37.202650               8.125839   \n",
       "75%                  65.023044               40.039133               9.769917   \n",
       "max                 484.967466               53.477742              13.731330   \n",
       "\n",
       "       rougher.input.floatbank10_sulfate  rougher.input.floatbank10_xanthate  \\\n",
       "count                       19405.000000                        19431.000000   \n",
       "mean                           12.334373                            6.021474   \n",
       "std                             3.427317                            1.127263   \n",
       "min                             0.001083                            0.000568   \n",
       "25%                            10.000362                            5.398678   \n",
       "50%                            12.001174                            6.008273   \n",
       "75%                            14.716595                            6.798051   \n",
       "max                            36.118275                            9.703448   \n",
       "\n",
       "       rougher.input.floatbank11_sulfate  rougher.input.floatbank11_xanthate  \\\n",
       "count                       19395.000000                        18986.000000   \n",
       "mean                           12.064140                            6.065533   \n",
       "std                             3.784221                            1.099118   \n",
       "min                             0.000077                            0.000290   \n",
       "25%                             9.998460                            5.402368   \n",
       "50%                            12.000204                            6.098580   \n",
       "75%                            14.636766                            6.801233   \n",
       "max                            37.980648                            9.698407   \n",
       "\n",
       "       rougher.output.concentrate_ag  rougher.output.concentrate_pb  \\\n",
       "count                   19439.000000                   19439.000000   \n",
       "mean                       11.994759                       7.606272   \n",
       "std                         2.733862                       1.796757   \n",
       "min                         0.000000                       0.000000   \n",
       "25%                        10.628337                       6.725987   \n",
       "50%                        12.098115                       7.742580   \n",
       "75%                        13.736996                       8.565199   \n",
       "max                        24.480271                      13.617072   \n",
       "\n",
       "       rougher.output.concentrate_sol  rougher.output.concentrate_au  \\\n",
       "count                    19416.000000                   19439.000000   \n",
       "mean                        28.805571                      19.772000   \n",
       "std                          5.944207                       3.753600   \n",
       "min                          0.000000                       0.000000   \n",
       "25%                         27.224120                      18.802523   \n",
       "50%                         29.835345                      20.280214   \n",
       "75%                         32.189933                      21.717843   \n",
       "max                         38.351193                      28.824507   \n",
       "\n",
       "       rougher.output.recovery  rougher.output.tail_ag  \\\n",
       "count             19439.000000            19438.000000   \n",
       "mean                 83.328587                5.588982   \n",
       "std                  14.148086                1.111288   \n",
       "min                   0.000000                0.594562   \n",
       "25%                  81.037957                4.889892   \n",
       "50%                  86.188892                5.765802   \n",
       "75%                  90.010670                6.389234   \n",
       "max                 100.000000               12.719177   \n",
       "\n",
       "       rougher.output.tail_pb  rougher.output.tail_sol  \\\n",
       "count            19439.000000             19439.000000   \n",
       "mean                 0.645782                18.057106   \n",
       "std                  0.251526                 3.449218   \n",
       "min                  0.007566                10.014648   \n",
       "25%                  0.477728                15.822525   \n",
       "50%                  0.617465                18.106867   \n",
       "75%                  0.778271                20.088151   \n",
       "max                  3.778064                66.117188   \n",
       "\n",
       "       rougher.output.tail_au  rougher.state.floatbank10_a_air  \\\n",
       "count            19439.000000                     19438.000000   \n",
       "mean                 1.816391                      1105.315068   \n",
       "std                  0.680046                       160.826798   \n",
       "min                  0.020676                        -0.042069   \n",
       "25%                  1.404207                       999.661867   \n",
       "50%                  1.808170                      1001.072890   \n",
       "75%                  2.211861                      1205.620588   \n",
       "max                  9.688980                      1521.980372   \n",
       "\n",
       "       rougher.state.floatbank10_a_level  rougher.state.floatbank10_b_air  \\\n",
       "count                       19438.000000                     19438.000000   \n",
       "mean                         -376.610690                      1320.221139   \n",
       "std                            93.909667                       176.287095   \n",
       "min                          -657.949759                        -0.721806   \n",
       "25%                          -499.835165                      1199.626115   \n",
       "50%                          -300.263994                      1301.579988   \n",
       "75%                          -299.981998                      1448.630789   \n",
       "max                          -273.776101                      1809.194008   \n",
       "\n",
       "       rougher.state.floatbank10_b_level  rougher.state.floatbank10_c_air  \\\n",
       "count                       19438.000000                     19438.000000   \n",
       "mean                         -467.247826                      1299.968799   \n",
       "std                            54.673142                       202.804325   \n",
       "min                          -650.260008                        -0.056636   \n",
       "25%                          -500.201130                      1151.076301   \n",
       "50%                          -499.784045                      1300.211537   \n",
       "75%                          -400.615589                      1449.464001   \n",
       "max                          -296.383080                      2499.129174   \n",
       "\n",
       "       rougher.state.floatbank10_c_level  rougher.state.floatbank10_d_air  \\\n",
       "count                       19438.000000                     19439.000000   \n",
       "mean                         -467.716946                      1211.563299   \n",
       "std                            53.534825                       204.019326   \n",
       "min                          -647.544439                        -0.992219   \n",
       "25%                          -500.217218                      1061.051788   \n",
       "50%                          -499.713364                      1201.569141   \n",
       "75%                          -400.985743                      1352.880320   \n",
       "max                          -292.155509                      1817.199290   \n",
       "\n",
       "       rougher.state.floatbank10_d_level  rougher.state.floatbank10_e_air  \\\n",
       "count                       19439.000000                     19003.000000   \n",
       "mean                         -468.239912                      1080.869685   \n",
       "std                            53.921458                       172.149992   \n",
       "min                          -648.390665                        -1.982295   \n",
       "25%                          -500.386386                       998.675263   \n",
       "50%                          -499.532412                      1050.029461   \n",
       "75%                          -401.638550                      1199.425140   \n",
       "max                           -76.397327                      1922.636637   \n",
       "\n",
       "       rougher.state.floatbank10_e_level  rougher.state.floatbank10_f_air  \\\n",
       "count                       19439.000000                     19439.000000   \n",
       "mean                         -466.037742                      1025.274256   \n",
       "std                            57.384424                       164.487837   \n",
       "min                          -649.443911                        -2.593390   \n",
       "25%                          -500.232191                       900.995511   \n",
       "50%                          -499.663089                       999.924821   \n",
       "75%                          -401.161191                      1099.719692   \n",
       "max                          -139.753025                      1706.307502   \n",
       "\n",
       "       rougher.state.floatbank10_f_level  secondary_cleaner.output.tail_ag  \\\n",
       "count                       19439.000000                      19437.000000   \n",
       "mean                         -466.265327                         14.586833   \n",
       "std                            57.850263                          4.265202   \n",
       "min                          -649.949283                          0.000000   \n",
       "25%                          -500.522553                         12.640239   \n",
       "50%                          -499.471777                         15.641902   \n",
       "75%                          -401.511042                         17.358217   \n",
       "max                          -191.718480                         23.264738   \n",
       "\n",
       "       secondary_cleaner.output.tail_pb  secondary_cleaner.output.tail_sol  \\\n",
       "count                      19427.000000                       17691.000000   \n",
       "mean                           5.777703                           7.167247   \n",
       "std                            2.774598                           3.916079   \n",
       "min                            0.000000                           0.000000   \n",
       "25%                            3.864733                           3.845475   \n",
       "50%                            5.344073                           7.685827   \n",
       "75%                            7.788467                          10.411296   \n",
       "max                           17.042505                          26.000772   \n",
       "\n",
       "       secondary_cleaner.output.tail_au  \\\n",
       "count                      19439.000000   \n",
       "mean                           4.339625   \n",
       "std                            2.326751   \n",
       "min                            0.000000   \n",
       "25%                            3.182770   \n",
       "50%                            4.072412   \n",
       "75%                            5.063081   \n",
       "max                           26.811643   \n",
       "\n",
       "       secondary_cleaner.state.floatbank2_a_air  \\\n",
       "count                              19219.000000   \n",
       "mean                                  28.705564   \n",
       "std                                    5.458789   \n",
       "min                                    0.077503   \n",
       "25%                                   25.048462   \n",
       "50%                                   29.099943   \n",
       "75%                                   33.012536   \n",
       "max                                   52.651399   \n",
       "\n",
       "       secondary_cleaner.state.floatbank2_a_level  \\\n",
       "count                                19438.000000   \n",
       "mean                                  -502.367331   \n",
       "std                                     53.571950   \n",
       "min                                   -799.606441   \n",
       "25%                                   -500.233700   \n",
       "50%                                   -499.973250   \n",
       "75%                                   -499.671261   \n",
       "max                                   -127.875565   \n",
       "\n",
       "       secondary_cleaner.state.floatbank2_b_air  \\\n",
       "count                              19416.000000   \n",
       "mean                                  24.106800   \n",
       "std                                    5.749616   \n",
       "min                                    0.000000   \n",
       "25%                                   20.919853   \n",
       "50%                                   25.043289   \n",
       "75%                                   28.008197   \n",
       "max                                   35.152122   \n",
       "\n",
       "       secondary_cleaner.state.floatbank2_b_level  \\\n",
       "count                                19438.000000   \n",
       "mean                                  -503.230712   \n",
       "std                                     56.567724   \n",
       "min                                   -799.873878   \n",
       "25%                                   -500.253794   \n",
       "50%                                   -500.015439   \n",
       "75%                                   -499.785698   \n",
       "max                                   -211.999273   \n",
       "\n",
       "       secondary_cleaner.state.floatbank3_a_air  \\\n",
       "count                              19426.000000   \n",
       "mean                                  28.199338   \n",
       "std                                    6.134908   \n",
       "min                                    0.000000   \n",
       "25%                                   24.949227   \n",
       "50%                                   27.982129   \n",
       "75%                                   33.002798   \n",
       "max                                   44.260464   \n",
       "\n",
       "       secondary_cleaner.state.floatbank3_a_level  \\\n",
       "count                                19438.000000   \n",
       "mean                                  -486.203350   \n",
       "std                                     54.412349   \n",
       "min                                   -799.755798   \n",
       "25%                                   -500.213546   \n",
       "50%                                   -499.930680   \n",
       "75%                                   -499.325739   \n",
       "max                                   -191.678810   \n",
       "\n",
       "       secondary_cleaner.state.floatbank3_b_air  \\\n",
       "count                              19438.000000   \n",
       "mean                                  22.200645   \n",
       "std                                    5.574001   \n",
       "min                                    0.000000   \n",
       "25%                                   18.995924   \n",
       "50%                                   22.011231   \n",
       "75%                                   25.998206   \n",
       "max                                   35.072841   \n",
       "\n",
       "       secondary_cleaner.state.floatbank3_b_level  \\\n",
       "count                                19438.000000   \n",
       "mean                                  -493.742107   \n",
       "std                                     43.372158   \n",
       "min                                   -809.333008   \n",
       "25%                                   -500.123034   \n",
       "50%                                   -499.981902   \n",
       "75%                                   -499.812834   \n",
       "max                                   -159.742331   \n",
       "\n",
       "       secondary_cleaner.state.floatbank4_a_air  \\\n",
       "count                              19433.000000   \n",
       "mean                                  18.987674   \n",
       "std                                    5.411058   \n",
       "min                                    0.000000   \n",
       "25%                                   14.975734   \n",
       "50%                                   18.017481   \n",
       "75%                                   23.012470   \n",
       "max                                   30.115735   \n",
       "\n",
       "       secondary_cleaner.state.floatbank4_a_level  \\\n",
       "count                                19438.000000   \n",
       "mean                                  -485.894516   \n",
       "std                                     47.758570   \n",
       "min                                   -799.798523   \n",
       "25%                                   -500.704892   \n",
       "50%                                   -499.837793   \n",
       "75%                                   -498.249730   \n",
       "max                                   -245.239184   \n",
       "\n",
       "       secondary_cleaner.state.floatbank4_b_air  \\\n",
       "count                              19438.000000   \n",
       "mean                                  15.010366   \n",
       "std                                    4.890228   \n",
       "min                                    0.000000   \n",
       "25%                                   11.940294   \n",
       "50%                                   14.971014   \n",
       "75%                                   19.034162   \n",
       "max                                   31.269706   \n",
       "\n",
       "       secondary_cleaner.state.floatbank4_b_level  \\\n",
       "count                                19438.000000   \n",
       "mean                                  -461.078636   \n",
       "std                                     67.405524   \n",
       "min                                   -800.836914   \n",
       "25%                                   -500.187742   \n",
       "50%                                   -499.459786   \n",
       "75%                                   -400.118106   \n",
       "max                                     -6.506986   \n",
       "\n",
       "       secondary_cleaner.state.floatbank5_a_air  \\\n",
       "count                              19438.000000   \n",
       "mean                                  15.694452   \n",
       "std                                    5.510974   \n",
       "min                                   -0.372054   \n",
       "25%                                   10.988606   \n",
       "50%                                   15.000036   \n",
       "75%                                   18.026190   \n",
       "max                                   43.709931   \n",
       "\n",
       "       secondary_cleaner.state.floatbank5_a_level  \\\n",
       "count                                19438.000000   \n",
       "mean                                  -488.684065   \n",
       "std                                     34.533396   \n",
       "min                                   -797.323986   \n",
       "25%                                   -500.458467   \n",
       "50%                                   -499.802605   \n",
       "75%                                   -498.384187   \n",
       "max                                   -244.483566   \n",
       "\n",
       "       secondary_cleaner.state.floatbank5_b_air  \\\n",
       "count                              19438.000000   \n",
       "mean                                  12.198224   \n",
       "std                                    5.333024   \n",
       "min                                    0.528083   \n",
       "25%                                    8.971105   \n",
       "50%                                   11.019433   \n",
       "75%                                   14.019088   \n",
       "max                                   27.926001   \n",
       "\n",
       "       secondary_cleaner.state.floatbank5_b_level  \\\n",
       "count                                19438.000000   \n",
       "mean                                  -487.149827   \n",
       "std                                     38.347312   \n",
       "min                                   -800.220337   \n",
       "25%                                   -500.129462   \n",
       "50%                                   -499.935317   \n",
       "75%                                   -499.436708   \n",
       "max                                   -137.740004   \n",
       "\n",
       "       secondary_cleaner.state.floatbank6_a_air  \\\n",
       "count                              19437.000000   \n",
       "mean                                  18.959024   \n",
       "std                                    5.550498   \n",
       "min                                   -0.079426   \n",
       "25%                                   14.983037   \n",
       "50%                                   19.960541   \n",
       "75%                                   24.003170   \n",
       "max                                   32.188906   \n",
       "\n",
       "       secondary_cleaner.state.floatbank6_a_level  \n",
       "count                                19438.000000  \n",
       "mean                                  -505.436305  \n",
       "std                                     37.689057  \n",
       "min                                   -809.741464  \n",
       "25%                                   -500.728067  \n",
       "50%                                   -500.048400  \n",
       "75%                                   -499.495378  \n",
       "max                                   -104.427459  "
      ]
     },
     "metadata": {},
     "output_type": "display_data"
    },
    {
     "name": "stdout",
     "output_type": "stream",
     "text": [
      "\n",
      "Полных дубликатов: 0\n",
      "\n"
     ]
    },
    {
     "data": {
      "text/html": [
       "<style  type=\"text/css\" >\n",
       "#T_ee4b4_row0_col0,#T_ee4b4_row1_col0,#T_ee4b4_row3_col0,#T_ee4b4_row4_col0,#T_ee4b4_row5_col0,#T_ee4b4_row7_col0,#T_ee4b4_row8_col0,#T_ee4b4_row11_col0,#T_ee4b4_row13_col0,#T_ee4b4_row16_col0,#T_ee4b4_row17_col0,#T_ee4b4_row20_col0,#T_ee4b4_row21_col0,#T_ee4b4_row22_col0,#T_ee4b4_row23_col0,#T_ee4b4_row24_col0,#T_ee4b4_row25_col0,#T_ee4b4_row26_col0,#T_ee4b4_row27_col0,#T_ee4b4_row28_col0,#T_ee4b4_row29_col0,#T_ee4b4_row30_col0,#T_ee4b4_row31_col0,#T_ee4b4_row32_col0,#T_ee4b4_row33_col0,#T_ee4b4_row38_col0,#T_ee4b4_row43_col0,#T_ee4b4_row44_col0,#T_ee4b4_row46_col0,#T_ee4b4_row47_col0,#T_ee4b4_row48_col0,#T_ee4b4_row49_col0,#T_ee4b4_row50_col0,#T_ee4b4_row51_col0,#T_ee4b4_row52_col0,#T_ee4b4_row53_col0,#T_ee4b4_row54_col0,#T_ee4b4_row55_col0,#T_ee4b4_row56_col0,#T_ee4b4_row57_col0,#T_ee4b4_row58_col0,#T_ee4b4_row59_col0,#T_ee4b4_row61_col0,#T_ee4b4_row62_col0,#T_ee4b4_row63_col0,#T_ee4b4_row64_col0,#T_ee4b4_row67_col0,#T_ee4b4_row69_col0,#T_ee4b4_row71_col0,#T_ee4b4_row73_col0,#T_ee4b4_row74_col0,#T_ee4b4_row75_col0,#T_ee4b4_row76_col0,#T_ee4b4_row77_col0,#T_ee4b4_row78_col0,#T_ee4b4_row79_col0,#T_ee4b4_row80_col0,#T_ee4b4_row81_col0,#T_ee4b4_row82_col0,#T_ee4b4_row83_col0,#T_ee4b4_row84_col0,#T_ee4b4_row85_col0{\n",
       "            background-color:  #3b4cc0;\n",
       "            color:  #f1f1f1;\n",
       "        }#T_ee4b4_row2_col0{\n",
       "            background-color:  #6180e9;\n",
       "            color:  #000000;\n",
       "        }#T_ee4b4_row6_col0,#T_ee4b4_row34_col0,#T_ee4b4_row37_col0{\n",
       "            background-color:  #4b64d5;\n",
       "            color:  #f1f1f1;\n",
       "        }#T_ee4b4_row9_col0,#T_ee4b4_row18_col0,#T_ee4b4_row45_col0,#T_ee4b4_row70_col0{\n",
       "            background-color:  #3e51c5;\n",
       "            color:  #f1f1f1;\n",
       "        }#T_ee4b4_row10_col0{\n",
       "            background-color:  #4055c8;\n",
       "            color:  #f1f1f1;\n",
       "        }#T_ee4b4_row12_col0{\n",
       "            background-color:  #4c66d6;\n",
       "            color:  #000000;\n",
       "        }#T_ee4b4_row14_col0{\n",
       "            background-color:  #4f69d9;\n",
       "            color:  #000000;\n",
       "        }#T_ee4b4_row15_col0{\n",
       "            background-color:  #80a3fa;\n",
       "            color:  #000000;\n",
       "        }#T_ee4b4_row19_col0{\n",
       "            background-color:  #455cce;\n",
       "            color:  #f1f1f1;\n",
       "        }#T_ee4b4_row35_col0,#T_ee4b4_row40_col0,#T_ee4b4_row65_col0,#T_ee4b4_row72_col0{\n",
       "            background-color:  #3c4ec2;\n",
       "            color:  #f1f1f1;\n",
       "        }#T_ee4b4_row36_col0{\n",
       "            background-color:  #5470de;\n",
       "            color:  #000000;\n",
       "        }#T_ee4b4_row39_col0{\n",
       "            background-color:  #3f53c6;\n",
       "            color:  #f1f1f1;\n",
       "        }#T_ee4b4_row41_col0{\n",
       "            background-color:  #4257c9;\n",
       "            color:  #f1f1f1;\n",
       "        }#T_ee4b4_row42_col0{\n",
       "            background-color:  #90b2fe;\n",
       "            color:  #000000;\n",
       "        }#T_ee4b4_row60_col0{\n",
       "            background-color:  #8caffe;\n",
       "            color:  #000000;\n",
       "        }#T_ee4b4_row66_col0{\n",
       "            background-color:  #b40426;\n",
       "            color:  #f1f1f1;\n",
       "        }#T_ee4b4_row68_col0{\n",
       "            background-color:  #6282ea;\n",
       "            color:  #000000;\n",
       "        }</style><table id=\"T_ee4b4_\" ><thead>    <tr>        <th class=\"blank level0\" ></th>        <th class=\"col_heading level0 col0\" >0</th>    </tr></thead><tbody>\n",
       "                <tr>\n",
       "                        <th id=\"T_ee4b4_level0_row0\" class=\"row_heading level0 row0\" >final.output.concentrate_ag</th>\n",
       "                        <td id=\"T_ee4b4_row0_col0\" class=\"data row0 col0\" >0.010000</td>\n",
       "            </tr>\n",
       "            <tr>\n",
       "                        <th id=\"T_ee4b4_level0_row1\" class=\"row_heading level0 row1\" >final.output.concentrate_pb</th>\n",
       "                        <td id=\"T_ee4b4_row1_col0\" class=\"data row1 col0\" >0.010000</td>\n",
       "            </tr>\n",
       "            <tr>\n",
       "                        <th id=\"T_ee4b4_level0_row2\" class=\"row_heading level0 row2\" >final.output.concentrate_sol</th>\n",
       "                        <td id=\"T_ee4b4_row2_col0\" class=\"data row2 col0\" >1.090000</td>\n",
       "            </tr>\n",
       "            <tr>\n",
       "                        <th id=\"T_ee4b4_level0_row3\" class=\"row_heading level0 row3\" >final.output.concentrate_au</th>\n",
       "                        <td id=\"T_ee4b4_row3_col0\" class=\"data row3 col0\" >0.000000</td>\n",
       "            </tr>\n",
       "            <tr>\n",
       "                        <th id=\"T_ee4b4_level0_row4\" class=\"row_heading level0 row4\" >final.output.recovery</th>\n",
       "                        <td id=\"T_ee4b4_row4_col0\" class=\"data row4 col0\" >0.000000</td>\n",
       "            </tr>\n",
       "            <tr>\n",
       "                        <th id=\"T_ee4b4_level0_row5\" class=\"row_heading level0 row5\" >final.output.tail_ag</th>\n",
       "                        <td id=\"T_ee4b4_row5_col0\" class=\"data row5 col0\" >0.010000</td>\n",
       "            </tr>\n",
       "            <tr>\n",
       "                        <th id=\"T_ee4b4_level0_row6\" class=\"row_heading level0 row6\" >final.output.tail_pb</th>\n",
       "                        <td id=\"T_ee4b4_row6_col0\" class=\"data row6 col0\" >0.520000</td>\n",
       "            </tr>\n",
       "            <tr>\n",
       "                        <th id=\"T_ee4b4_level0_row7\" class=\"row_heading level0 row7\" >final.output.tail_sol</th>\n",
       "                        <td id=\"T_ee4b4_row7_col0\" class=\"data row7 col0\" >0.030000</td>\n",
       "            </tr>\n",
       "            <tr>\n",
       "                        <th id=\"T_ee4b4_level0_row8\" class=\"row_heading level0 row8\" >final.output.tail_au</th>\n",
       "                        <td id=\"T_ee4b4_row8_col0\" class=\"data row8 col0\" >0.000000</td>\n",
       "            </tr>\n",
       "            <tr>\n",
       "                        <th id=\"T_ee4b4_level0_row9\" class=\"row_heading level0 row9\" >primary_cleaner.input.sulfate</th>\n",
       "                        <td id=\"T_ee4b4_row9_col0\" class=\"data row9 col0\" >0.120000</td>\n",
       "            </tr>\n",
       "            <tr>\n",
       "                        <th id=\"T_ee4b4_level0_row10\" class=\"row_heading level0 row10\" >primary_cleaner.input.depressant</th>\n",
       "                        <td id=\"T_ee4b4_row10_col0\" class=\"data row10 col0\" >0.190000</td>\n",
       "            </tr>\n",
       "            <tr>\n",
       "                        <th id=\"T_ee4b4_level0_row11\" class=\"row_heading level0 row11\" >primary_cleaner.input.feed_size</th>\n",
       "                        <td id=\"T_ee4b4_row11_col0\" class=\"data row11 col0\" >0.000000</td>\n",
       "            </tr>\n",
       "            <tr>\n",
       "                        <th id=\"T_ee4b4_level0_row12\" class=\"row_heading level0 row12\" >primary_cleaner.input.xanthate</th>\n",
       "                        <td id=\"T_ee4b4_row12_col0\" class=\"data row12 col0\" >0.540000</td>\n",
       "            </tr>\n",
       "            <tr>\n",
       "                        <th id=\"T_ee4b4_level0_row13\" class=\"row_heading level0 row13\" >primary_cleaner.output.concentrate_ag</th>\n",
       "                        <td id=\"T_ee4b4_row13_col0\" class=\"data row13 col0\" >0.000000</td>\n",
       "            </tr>\n",
       "            <tr>\n",
       "                        <th id=\"T_ee4b4_level0_row14\" class=\"row_heading level0 row14\" >primary_cleaner.output.concentrate_pb</th>\n",
       "                        <td id=\"T_ee4b4_row14_col0\" class=\"data row14 col0\" >0.600000</td>\n",
       "            </tr>\n",
       "            <tr>\n",
       "                        <th id=\"T_ee4b4_level0_row15\" class=\"row_heading level0 row15\" >primary_cleaner.output.concentrate_sol</th>\n",
       "                        <td id=\"T_ee4b4_row15_col0\" class=\"data row15 col0\" >1.900000</td>\n",
       "            </tr>\n",
       "            <tr>\n",
       "                        <th id=\"T_ee4b4_level0_row16\" class=\"row_heading level0 row16\" >primary_cleaner.output.concentrate_au</th>\n",
       "                        <td id=\"T_ee4b4_row16_col0\" class=\"data row16 col0\" >0.000000</td>\n",
       "            </tr>\n",
       "            <tr>\n",
       "                        <th id=\"T_ee4b4_level0_row17\" class=\"row_heading level0 row17\" >primary_cleaner.output.tail_ag</th>\n",
       "                        <td id=\"T_ee4b4_row17_col0\" class=\"data row17 col0\" >0.020000</td>\n",
       "            </tr>\n",
       "            <tr>\n",
       "                        <th id=\"T_ee4b4_level0_row18\" class=\"row_heading level0 row18\" >primary_cleaner.output.tail_pb</th>\n",
       "                        <td id=\"T_ee4b4_row18_col0\" class=\"data row18 col0\" >0.110000</td>\n",
       "            </tr>\n",
       "            <tr>\n",
       "                        <th id=\"T_ee4b4_level0_row19\" class=\"row_heading level0 row19\" >primary_cleaner.output.tail_sol</th>\n",
       "                        <td id=\"T_ee4b4_row19_col0\" class=\"data row19 col0\" >0.320000</td>\n",
       "            </tr>\n",
       "            <tr>\n",
       "                        <th id=\"T_ee4b4_level0_row20\" class=\"row_heading level0 row20\" >primary_cleaner.output.tail_au</th>\n",
       "                        <td id=\"T_ee4b4_row20_col0\" class=\"data row20 col0\" >0.000000</td>\n",
       "            </tr>\n",
       "            <tr>\n",
       "                        <th id=\"T_ee4b4_level0_row21\" class=\"row_heading level0 row21\" >primary_cleaner.state.floatbank8_a_air</th>\n",
       "                        <td id=\"T_ee4b4_row21_col0\" class=\"data row21 col0\" >0.020000</td>\n",
       "            </tr>\n",
       "            <tr>\n",
       "                        <th id=\"T_ee4b4_level0_row22\" class=\"row_heading level0 row22\" >primary_cleaner.state.floatbank8_a_level</th>\n",
       "                        <td id=\"T_ee4b4_row22_col0\" class=\"data row22 col0\" >0.010000</td>\n",
       "            </tr>\n",
       "            <tr>\n",
       "                        <th id=\"T_ee4b4_level0_row23\" class=\"row_heading level0 row23\" >primary_cleaner.state.floatbank8_b_air</th>\n",
       "                        <td id=\"T_ee4b4_row23_col0\" class=\"data row23 col0\" >0.020000</td>\n",
       "            </tr>\n",
       "            <tr>\n",
       "                        <th id=\"T_ee4b4_level0_row24\" class=\"row_heading level0 row24\" >primary_cleaner.state.floatbank8_b_level</th>\n",
       "                        <td id=\"T_ee4b4_row24_col0\" class=\"data row24 col0\" >0.010000</td>\n",
       "            </tr>\n",
       "            <tr>\n",
       "                        <th id=\"T_ee4b4_level0_row25\" class=\"row_heading level0 row25\" >primary_cleaner.state.floatbank8_c_air</th>\n",
       "                        <td id=\"T_ee4b4_row25_col0\" class=\"data row25 col0\" >0.010000</td>\n",
       "            </tr>\n",
       "            <tr>\n",
       "                        <th id=\"T_ee4b4_level0_row26\" class=\"row_heading level0 row26\" >primary_cleaner.state.floatbank8_c_level</th>\n",
       "                        <td id=\"T_ee4b4_row26_col0\" class=\"data row26 col0\" >0.010000</td>\n",
       "            </tr>\n",
       "            <tr>\n",
       "                        <th id=\"T_ee4b4_level0_row27\" class=\"row_heading level0 row27\" >primary_cleaner.state.floatbank8_d_air</th>\n",
       "                        <td id=\"T_ee4b4_row27_col0\" class=\"data row27 col0\" >0.020000</td>\n",
       "            </tr>\n",
       "            <tr>\n",
       "                        <th id=\"T_ee4b4_level0_row28\" class=\"row_heading level0 row28\" >primary_cleaner.state.floatbank8_d_level</th>\n",
       "                        <td id=\"T_ee4b4_row28_col0\" class=\"data row28 col0\" >0.010000</td>\n",
       "            </tr>\n",
       "            <tr>\n",
       "                        <th id=\"T_ee4b4_level0_row29\" class=\"row_heading level0 row29\" >rougher.calculation.sulfate_to_au_concentrate</th>\n",
       "                        <td id=\"T_ee4b4_row29_col0\" class=\"data row29 col0\" >0.010000</td>\n",
       "            </tr>\n",
       "            <tr>\n",
       "                        <th id=\"T_ee4b4_level0_row30\" class=\"row_heading level0 row30\" >rougher.calculation.floatbank10_sulfate_to_au_feed</th>\n",
       "                        <td id=\"T_ee4b4_row30_col0\" class=\"data row30 col0\" >0.010000</td>\n",
       "            </tr>\n",
       "            <tr>\n",
       "                        <th id=\"T_ee4b4_level0_row31\" class=\"row_heading level0 row31\" >rougher.calculation.floatbank11_sulfate_to_au_feed</th>\n",
       "                        <td id=\"T_ee4b4_row31_col0\" class=\"data row31 col0\" >0.010000</td>\n",
       "            </tr>\n",
       "            <tr>\n",
       "                        <th id=\"T_ee4b4_level0_row32\" class=\"row_heading level0 row32\" >rougher.calculation.au_pb_ratio</th>\n",
       "                        <td id=\"T_ee4b4_row32_col0\" class=\"data row32 col0\" >0.000000</td>\n",
       "            </tr>\n",
       "            <tr>\n",
       "                        <th id=\"T_ee4b4_level0_row33\" class=\"row_heading level0 row33\" >rougher.input.feed_ag</th>\n",
       "                        <td id=\"T_ee4b4_row33_col0\" class=\"data row33 col0\" >0.000000</td>\n",
       "            </tr>\n",
       "            <tr>\n",
       "                        <th id=\"T_ee4b4_level0_row34\" class=\"row_heading level0 row34\" >rougher.input.feed_pb</th>\n",
       "                        <td id=\"T_ee4b4_row34_col0\" class=\"data row34 col0\" >0.510000</td>\n",
       "            </tr>\n",
       "            <tr>\n",
       "                        <th id=\"T_ee4b4_level0_row35\" class=\"row_heading level0 row35\" >rougher.input.feed_rate</th>\n",
       "                        <td id=\"T_ee4b4_row35_col0\" class=\"data row35 col0\" >0.060000</td>\n",
       "            </tr>\n",
       "            <tr>\n",
       "                        <th id=\"T_ee4b4_level0_row36\" class=\"row_heading level0 row36\" >rougher.input.feed_size</th>\n",
       "                        <td id=\"T_ee4b4_row36_col0\" class=\"data row36 col0\" >0.750000</td>\n",
       "            </tr>\n",
       "            <tr>\n",
       "                        <th id=\"T_ee4b4_level0_row37\" class=\"row_heading level0 row37\" >rougher.input.feed_sol</th>\n",
       "                        <td id=\"T_ee4b4_row37_col0\" class=\"data row37 col0\" >0.510000</td>\n",
       "            </tr>\n",
       "            <tr>\n",
       "                        <th id=\"T_ee4b4_level0_row38\" class=\"row_heading level0 row38\" >rougher.input.feed_au</th>\n",
       "                        <td id=\"T_ee4b4_row38_col0\" class=\"data row38 col0\" >0.000000</td>\n",
       "            </tr>\n",
       "            <tr>\n",
       "                        <th id=\"T_ee4b4_level0_row39\" class=\"row_heading level0 row39\" >rougher.input.floatbank10_sulfate</th>\n",
       "                        <td id=\"T_ee4b4_row39_col0\" class=\"data row39 col0\" >0.170000</td>\n",
       "            </tr>\n",
       "            <tr>\n",
       "                        <th id=\"T_ee4b4_level0_row40\" class=\"row_heading level0 row40\" >rougher.input.floatbank10_xanthate</th>\n",
       "                        <td id=\"T_ee4b4_row40_col0\" class=\"data row40 col0\" >0.040000</td>\n",
       "            </tr>\n",
       "            <tr>\n",
       "                        <th id=\"T_ee4b4_level0_row41\" class=\"row_heading level0 row41\" >rougher.input.floatbank11_sulfate</th>\n",
       "                        <td id=\"T_ee4b4_row41_col0\" class=\"data row41 col0\" >0.230000</td>\n",
       "            </tr>\n",
       "            <tr>\n",
       "                        <th id=\"T_ee4b4_level0_row42\" class=\"row_heading level0 row42\" >rougher.input.floatbank11_xanthate</th>\n",
       "                        <td id=\"T_ee4b4_row42_col0\" class=\"data row42 col0\" >2.330000</td>\n",
       "            </tr>\n",
       "            <tr>\n",
       "                        <th id=\"T_ee4b4_level0_row43\" class=\"row_heading level0 row43\" >rougher.output.concentrate_ag</th>\n",
       "                        <td id=\"T_ee4b4_row43_col0\" class=\"data row43 col0\" >0.000000</td>\n",
       "            </tr>\n",
       "            <tr>\n",
       "                        <th id=\"T_ee4b4_level0_row44\" class=\"row_heading level0 row44\" >rougher.output.concentrate_pb</th>\n",
       "                        <td id=\"T_ee4b4_row44_col0\" class=\"data row44 col0\" >0.000000</td>\n",
       "            </tr>\n",
       "            <tr>\n",
       "                        <th id=\"T_ee4b4_level0_row45\" class=\"row_heading level0 row45\" >rougher.output.concentrate_sol</th>\n",
       "                        <td id=\"T_ee4b4_row45_col0\" class=\"data row45 col0\" >0.120000</td>\n",
       "            </tr>\n",
       "            <tr>\n",
       "                        <th id=\"T_ee4b4_level0_row46\" class=\"row_heading level0 row46\" >rougher.output.concentrate_au</th>\n",
       "                        <td id=\"T_ee4b4_row46_col0\" class=\"data row46 col0\" >0.000000</td>\n",
       "            </tr>\n",
       "            <tr>\n",
       "                        <th id=\"T_ee4b4_level0_row47\" class=\"row_heading level0 row47\" >rougher.output.recovery</th>\n",
       "                        <td id=\"T_ee4b4_row47_col0\" class=\"data row47 col0\" >0.000000</td>\n",
       "            </tr>\n",
       "            <tr>\n",
       "                        <th id=\"T_ee4b4_level0_row48\" class=\"row_heading level0 row48\" >rougher.output.tail_ag</th>\n",
       "                        <td id=\"T_ee4b4_row48_col0\" class=\"data row48 col0\" >0.010000</td>\n",
       "            </tr>\n",
       "            <tr>\n",
       "                        <th id=\"T_ee4b4_level0_row49\" class=\"row_heading level0 row49\" >rougher.output.tail_pb</th>\n",
       "                        <td id=\"T_ee4b4_row49_col0\" class=\"data row49 col0\" >0.000000</td>\n",
       "            </tr>\n",
       "            <tr>\n",
       "                        <th id=\"T_ee4b4_level0_row50\" class=\"row_heading level0 row50\" >rougher.output.tail_sol</th>\n",
       "                        <td id=\"T_ee4b4_row50_col0\" class=\"data row50 col0\" >0.000000</td>\n",
       "            </tr>\n",
       "            <tr>\n",
       "                        <th id=\"T_ee4b4_level0_row51\" class=\"row_heading level0 row51\" >rougher.output.tail_au</th>\n",
       "                        <td id=\"T_ee4b4_row51_col0\" class=\"data row51 col0\" >0.000000</td>\n",
       "            </tr>\n",
       "            <tr>\n",
       "                        <th id=\"T_ee4b4_level0_row52\" class=\"row_heading level0 row52\" >rougher.state.floatbank10_a_air</th>\n",
       "                        <td id=\"T_ee4b4_row52_col0\" class=\"data row52 col0\" >0.010000</td>\n",
       "            </tr>\n",
       "            <tr>\n",
       "                        <th id=\"T_ee4b4_level0_row53\" class=\"row_heading level0 row53\" >rougher.state.floatbank10_a_level</th>\n",
       "                        <td id=\"T_ee4b4_row53_col0\" class=\"data row53 col0\" >0.010000</td>\n",
       "            </tr>\n",
       "            <tr>\n",
       "                        <th id=\"T_ee4b4_level0_row54\" class=\"row_heading level0 row54\" >rougher.state.floatbank10_b_air</th>\n",
       "                        <td id=\"T_ee4b4_row54_col0\" class=\"data row54 col0\" >0.010000</td>\n",
       "            </tr>\n",
       "            <tr>\n",
       "                        <th id=\"T_ee4b4_level0_row55\" class=\"row_heading level0 row55\" >rougher.state.floatbank10_b_level</th>\n",
       "                        <td id=\"T_ee4b4_row55_col0\" class=\"data row55 col0\" >0.010000</td>\n",
       "            </tr>\n",
       "            <tr>\n",
       "                        <th id=\"T_ee4b4_level0_row56\" class=\"row_heading level0 row56\" >rougher.state.floatbank10_c_air</th>\n",
       "                        <td id=\"T_ee4b4_row56_col0\" class=\"data row56 col0\" >0.010000</td>\n",
       "            </tr>\n",
       "            <tr>\n",
       "                        <th id=\"T_ee4b4_level0_row57\" class=\"row_heading level0 row57\" >rougher.state.floatbank10_c_level</th>\n",
       "                        <td id=\"T_ee4b4_row57_col0\" class=\"data row57 col0\" >0.010000</td>\n",
       "            </tr>\n",
       "            <tr>\n",
       "                        <th id=\"T_ee4b4_level0_row58\" class=\"row_heading level0 row58\" >rougher.state.floatbank10_d_air</th>\n",
       "                        <td id=\"T_ee4b4_row58_col0\" class=\"data row58 col0\" >0.000000</td>\n",
       "            </tr>\n",
       "            <tr>\n",
       "                        <th id=\"T_ee4b4_level0_row59\" class=\"row_heading level0 row59\" >rougher.state.floatbank10_d_level</th>\n",
       "                        <td id=\"T_ee4b4_row59_col0\" class=\"data row59 col0\" >0.000000</td>\n",
       "            </tr>\n",
       "            <tr>\n",
       "                        <th id=\"T_ee4b4_level0_row60\" class=\"row_heading level0 row60\" >rougher.state.floatbank10_e_air</th>\n",
       "                        <td id=\"T_ee4b4_row60_col0\" class=\"data row60 col0\" >2.240000</td>\n",
       "            </tr>\n",
       "            <tr>\n",
       "                        <th id=\"T_ee4b4_level0_row61\" class=\"row_heading level0 row61\" >rougher.state.floatbank10_e_level</th>\n",
       "                        <td id=\"T_ee4b4_row61_col0\" class=\"data row61 col0\" >0.000000</td>\n",
       "            </tr>\n",
       "            <tr>\n",
       "                        <th id=\"T_ee4b4_level0_row62\" class=\"row_heading level0 row62\" >rougher.state.floatbank10_f_air</th>\n",
       "                        <td id=\"T_ee4b4_row62_col0\" class=\"data row62 col0\" >0.000000</td>\n",
       "            </tr>\n",
       "            <tr>\n",
       "                        <th id=\"T_ee4b4_level0_row63\" class=\"row_heading level0 row63\" >rougher.state.floatbank10_f_level</th>\n",
       "                        <td id=\"T_ee4b4_row63_col0\" class=\"data row63 col0\" >0.000000</td>\n",
       "            </tr>\n",
       "            <tr>\n",
       "                        <th id=\"T_ee4b4_level0_row64\" class=\"row_heading level0 row64\" >secondary_cleaner.output.tail_ag</th>\n",
       "                        <td id=\"T_ee4b4_row64_col0\" class=\"data row64 col0\" >0.010000</td>\n",
       "            </tr>\n",
       "            <tr>\n",
       "                        <th id=\"T_ee4b4_level0_row65\" class=\"row_heading level0 row65\" >secondary_cleaner.output.tail_pb</th>\n",
       "                        <td id=\"T_ee4b4_row65_col0\" class=\"data row65 col0\" >0.060000</td>\n",
       "            </tr>\n",
       "            <tr>\n",
       "                        <th id=\"T_ee4b4_level0_row66\" class=\"row_heading level0 row66\" >secondary_cleaner.output.tail_sol</th>\n",
       "                        <td id=\"T_ee4b4_row66_col0\" class=\"data row66 col0\" >8.990000</td>\n",
       "            </tr>\n",
       "            <tr>\n",
       "                        <th id=\"T_ee4b4_level0_row67\" class=\"row_heading level0 row67\" >secondary_cleaner.output.tail_au</th>\n",
       "                        <td id=\"T_ee4b4_row67_col0\" class=\"data row67 col0\" >0.000000</td>\n",
       "            </tr>\n",
       "            <tr>\n",
       "                        <th id=\"T_ee4b4_level0_row68\" class=\"row_heading level0 row68\" >secondary_cleaner.state.floatbank2_a_air</th>\n",
       "                        <td id=\"T_ee4b4_row68_col0\" class=\"data row68 col0\" >1.130000</td>\n",
       "            </tr>\n",
       "            <tr>\n",
       "                        <th id=\"T_ee4b4_level0_row69\" class=\"row_heading level0 row69\" >secondary_cleaner.state.floatbank2_a_level</th>\n",
       "                        <td id=\"T_ee4b4_row69_col0\" class=\"data row69 col0\" >0.010000</td>\n",
       "            </tr>\n",
       "            <tr>\n",
       "                        <th id=\"T_ee4b4_level0_row70\" class=\"row_heading level0 row70\" >secondary_cleaner.state.floatbank2_b_air</th>\n",
       "                        <td id=\"T_ee4b4_row70_col0\" class=\"data row70 col0\" >0.120000</td>\n",
       "            </tr>\n",
       "            <tr>\n",
       "                        <th id=\"T_ee4b4_level0_row71\" class=\"row_heading level0 row71\" >secondary_cleaner.state.floatbank2_b_level</th>\n",
       "                        <td id=\"T_ee4b4_row71_col0\" class=\"data row71 col0\" >0.010000</td>\n",
       "            </tr>\n",
       "            <tr>\n",
       "                        <th id=\"T_ee4b4_level0_row72\" class=\"row_heading level0 row72\" >secondary_cleaner.state.floatbank3_a_air</th>\n",
       "                        <td id=\"T_ee4b4_row72_col0\" class=\"data row72 col0\" >0.070000</td>\n",
       "            </tr>\n",
       "            <tr>\n",
       "                        <th id=\"T_ee4b4_level0_row73\" class=\"row_heading level0 row73\" >secondary_cleaner.state.floatbank3_a_level</th>\n",
       "                        <td id=\"T_ee4b4_row73_col0\" class=\"data row73 col0\" >0.010000</td>\n",
       "            </tr>\n",
       "            <tr>\n",
       "                        <th id=\"T_ee4b4_level0_row74\" class=\"row_heading level0 row74\" >secondary_cleaner.state.floatbank3_b_air</th>\n",
       "                        <td id=\"T_ee4b4_row74_col0\" class=\"data row74 col0\" >0.010000</td>\n",
       "            </tr>\n",
       "            <tr>\n",
       "                        <th id=\"T_ee4b4_level0_row75\" class=\"row_heading level0 row75\" >secondary_cleaner.state.floatbank3_b_level</th>\n",
       "                        <td id=\"T_ee4b4_row75_col0\" class=\"data row75 col0\" >0.010000</td>\n",
       "            </tr>\n",
       "            <tr>\n",
       "                        <th id=\"T_ee4b4_level0_row76\" class=\"row_heading level0 row76\" >secondary_cleaner.state.floatbank4_a_air</th>\n",
       "                        <td id=\"T_ee4b4_row76_col0\" class=\"data row76 col0\" >0.030000</td>\n",
       "            </tr>\n",
       "            <tr>\n",
       "                        <th id=\"T_ee4b4_level0_row77\" class=\"row_heading level0 row77\" >secondary_cleaner.state.floatbank4_a_level</th>\n",
       "                        <td id=\"T_ee4b4_row77_col0\" class=\"data row77 col0\" >0.010000</td>\n",
       "            </tr>\n",
       "            <tr>\n",
       "                        <th id=\"T_ee4b4_level0_row78\" class=\"row_heading level0 row78\" >secondary_cleaner.state.floatbank4_b_air</th>\n",
       "                        <td id=\"T_ee4b4_row78_col0\" class=\"data row78 col0\" >0.010000</td>\n",
       "            </tr>\n",
       "            <tr>\n",
       "                        <th id=\"T_ee4b4_level0_row79\" class=\"row_heading level0 row79\" >secondary_cleaner.state.floatbank4_b_level</th>\n",
       "                        <td id=\"T_ee4b4_row79_col0\" class=\"data row79 col0\" >0.010000</td>\n",
       "            </tr>\n",
       "            <tr>\n",
       "                        <th id=\"T_ee4b4_level0_row80\" class=\"row_heading level0 row80\" >secondary_cleaner.state.floatbank5_a_air</th>\n",
       "                        <td id=\"T_ee4b4_row80_col0\" class=\"data row80 col0\" >0.010000</td>\n",
       "            </tr>\n",
       "            <tr>\n",
       "                        <th id=\"T_ee4b4_level0_row81\" class=\"row_heading level0 row81\" >secondary_cleaner.state.floatbank5_a_level</th>\n",
       "                        <td id=\"T_ee4b4_row81_col0\" class=\"data row81 col0\" >0.010000</td>\n",
       "            </tr>\n",
       "            <tr>\n",
       "                        <th id=\"T_ee4b4_level0_row82\" class=\"row_heading level0 row82\" >secondary_cleaner.state.floatbank5_b_air</th>\n",
       "                        <td id=\"T_ee4b4_row82_col0\" class=\"data row82 col0\" >0.010000</td>\n",
       "            </tr>\n",
       "            <tr>\n",
       "                        <th id=\"T_ee4b4_level0_row83\" class=\"row_heading level0 row83\" >secondary_cleaner.state.floatbank5_b_level</th>\n",
       "                        <td id=\"T_ee4b4_row83_col0\" class=\"data row83 col0\" >0.010000</td>\n",
       "            </tr>\n",
       "            <tr>\n",
       "                        <th id=\"T_ee4b4_level0_row84\" class=\"row_heading level0 row84\" >secondary_cleaner.state.floatbank6_a_air</th>\n",
       "                        <td id=\"T_ee4b4_row84_col0\" class=\"data row84 col0\" >0.010000</td>\n",
       "            </tr>\n",
       "            <tr>\n",
       "                        <th id=\"T_ee4b4_level0_row85\" class=\"row_heading level0 row85\" >secondary_cleaner.state.floatbank6_a_level</th>\n",
       "                        <td id=\"T_ee4b4_row85_col0\" class=\"data row85 col0\" >0.010000</td>\n",
       "            </tr>\n",
       "    </tbody></table>"
      ],
      "text/plain": [
       "<pandas.io.formats.style.Styler at 0x7f6c1e4d64f0>"
      ]
     },
     "execution_count": 5,
     "metadata": {},
     "output_type": "execute_result"
    }
   ],
   "source": [
    "description(gold_full)"
   ]
  },
  {
   "cell_type": "markdown",
   "metadata": {},
   "source": [
    "Датасет full содержит 86 столбцов и 19440 строк. Для ряда столбцов является нормальным наличие отрицательных значений. Такими столбцами являются признаки технологического процесса, - уровень жидкости и давление воздуха. В нескольких столбцах есть пропуски, наибольшее колличество в secondary_cleaner.output.tail_sol.\n",
    "\n",
    "Дополнительно видно, что у ряда признаков имеются нулевые значения, необходимо детальнее рассмотреть их значимость."
   ]
  },
  {
   "cell_type": "code",
   "execution_count": 6,
   "metadata": {
    "scrolled": true
   },
   "outputs": [
    {
     "data": {
      "text/html": [
       "<div>\n",
       "<style scoped>\n",
       "    .dataframe tbody tr th:only-of-type {\n",
       "        vertical-align: middle;\n",
       "    }\n",
       "\n",
       "    .dataframe tbody tr th {\n",
       "        vertical-align: top;\n",
       "    }\n",
       "\n",
       "    .dataframe thead th {\n",
       "        text-align: right;\n",
       "    }\n",
       "</style>\n",
       "<table border=\"1\" class=\"dataframe\">\n",
       "  <thead>\n",
       "    <tr style=\"text-align: right;\">\n",
       "      <th></th>\n",
       "      <th>final.output.concentrate_ag</th>\n",
       "      <th>final.output.concentrate_pb</th>\n",
       "      <th>final.output.concentrate_sol</th>\n",
       "      <th>final.output.concentrate_au</th>\n",
       "      <th>final.output.recovery</th>\n",
       "      <th>final.output.tail_ag</th>\n",
       "      <th>final.output.tail_pb</th>\n",
       "      <th>final.output.tail_sol</th>\n",
       "      <th>final.output.tail_au</th>\n",
       "      <th>primary_cleaner.input.sulfate</th>\n",
       "      <th>primary_cleaner.input.depressant</th>\n",
       "      <th>primary_cleaner.input.feed_size</th>\n",
       "      <th>primary_cleaner.input.xanthate</th>\n",
       "      <th>primary_cleaner.output.concentrate_ag</th>\n",
       "      <th>primary_cleaner.output.concentrate_pb</th>\n",
       "      <th>primary_cleaner.output.concentrate_sol</th>\n",
       "      <th>primary_cleaner.output.concentrate_au</th>\n",
       "      <th>primary_cleaner.output.tail_ag</th>\n",
       "      <th>primary_cleaner.output.tail_pb</th>\n",
       "      <th>primary_cleaner.output.tail_sol</th>\n",
       "      <th>primary_cleaner.output.tail_au</th>\n",
       "      <th>primary_cleaner.state.floatbank8_a_air</th>\n",
       "      <th>primary_cleaner.state.floatbank8_a_level</th>\n",
       "      <th>primary_cleaner.state.floatbank8_b_air</th>\n",
       "      <th>primary_cleaner.state.floatbank8_b_level</th>\n",
       "      <th>primary_cleaner.state.floatbank8_c_air</th>\n",
       "      <th>primary_cleaner.state.floatbank8_c_level</th>\n",
       "      <th>primary_cleaner.state.floatbank8_d_air</th>\n",
       "      <th>primary_cleaner.state.floatbank8_d_level</th>\n",
       "      <th>rougher.calculation.sulfate_to_au_concentrate</th>\n",
       "      <th>rougher.calculation.floatbank10_sulfate_to_au_feed</th>\n",
       "      <th>rougher.calculation.floatbank11_sulfate_to_au_feed</th>\n",
       "      <th>rougher.calculation.au_pb_ratio</th>\n",
       "      <th>rougher.input.feed_ag</th>\n",
       "      <th>rougher.input.feed_pb</th>\n",
       "      <th>rougher.input.feed_rate</th>\n",
       "      <th>rougher.input.feed_size</th>\n",
       "      <th>rougher.input.feed_sol</th>\n",
       "      <th>rougher.input.feed_au</th>\n",
       "      <th>rougher.input.floatbank10_sulfate</th>\n",
       "      <th>rougher.input.floatbank10_xanthate</th>\n",
       "      <th>rougher.input.floatbank11_sulfate</th>\n",
       "      <th>rougher.input.floatbank11_xanthate</th>\n",
       "      <th>rougher.output.concentrate_ag</th>\n",
       "      <th>rougher.output.concentrate_pb</th>\n",
       "      <th>rougher.output.concentrate_sol</th>\n",
       "      <th>rougher.output.concentrate_au</th>\n",
       "      <th>rougher.output.recovery</th>\n",
       "      <th>rougher.output.tail_ag</th>\n",
       "      <th>rougher.output.tail_pb</th>\n",
       "      <th>rougher.output.tail_sol</th>\n",
       "      <th>rougher.output.tail_au</th>\n",
       "      <th>rougher.state.floatbank10_a_air</th>\n",
       "      <th>rougher.state.floatbank10_a_level</th>\n",
       "      <th>rougher.state.floatbank10_b_air</th>\n",
       "      <th>rougher.state.floatbank10_b_level</th>\n",
       "      <th>rougher.state.floatbank10_c_air</th>\n",
       "      <th>rougher.state.floatbank10_c_level</th>\n",
       "      <th>rougher.state.floatbank10_d_air</th>\n",
       "      <th>rougher.state.floatbank10_d_level</th>\n",
       "      <th>rougher.state.floatbank10_e_air</th>\n",
       "      <th>rougher.state.floatbank10_e_level</th>\n",
       "      <th>rougher.state.floatbank10_f_air</th>\n",
       "      <th>rougher.state.floatbank10_f_level</th>\n",
       "      <th>secondary_cleaner.output.tail_ag</th>\n",
       "      <th>secondary_cleaner.output.tail_pb</th>\n",
       "      <th>secondary_cleaner.output.tail_sol</th>\n",
       "      <th>secondary_cleaner.output.tail_au</th>\n",
       "      <th>secondary_cleaner.state.floatbank2_a_air</th>\n",
       "      <th>secondary_cleaner.state.floatbank2_a_level</th>\n",
       "      <th>secondary_cleaner.state.floatbank2_b_air</th>\n",
       "      <th>secondary_cleaner.state.floatbank2_b_level</th>\n",
       "      <th>secondary_cleaner.state.floatbank3_a_air</th>\n",
       "      <th>secondary_cleaner.state.floatbank3_a_level</th>\n",
       "      <th>secondary_cleaner.state.floatbank3_b_air</th>\n",
       "      <th>secondary_cleaner.state.floatbank3_b_level</th>\n",
       "      <th>secondary_cleaner.state.floatbank4_a_air</th>\n",
       "      <th>secondary_cleaner.state.floatbank4_a_level</th>\n",
       "      <th>secondary_cleaner.state.floatbank4_b_air</th>\n",
       "      <th>secondary_cleaner.state.floatbank4_b_level</th>\n",
       "      <th>secondary_cleaner.state.floatbank5_a_air</th>\n",
       "      <th>secondary_cleaner.state.floatbank5_a_level</th>\n",
       "      <th>secondary_cleaner.state.floatbank5_b_air</th>\n",
       "      <th>secondary_cleaner.state.floatbank5_b_level</th>\n",
       "      <th>secondary_cleaner.state.floatbank6_a_air</th>\n",
       "      <th>secondary_cleaner.state.floatbank6_a_level</th>\n",
       "    </tr>\n",
       "    <tr>\n",
       "      <th>date</th>\n",
       "      <th></th>\n",
       "      <th></th>\n",
       "      <th></th>\n",
       "      <th></th>\n",
       "      <th></th>\n",
       "      <th></th>\n",
       "      <th></th>\n",
       "      <th></th>\n",
       "      <th></th>\n",
       "      <th></th>\n",
       "      <th></th>\n",
       "      <th></th>\n",
       "      <th></th>\n",
       "      <th></th>\n",
       "      <th></th>\n",
       "      <th></th>\n",
       "      <th></th>\n",
       "      <th></th>\n",
       "      <th></th>\n",
       "      <th></th>\n",
       "      <th></th>\n",
       "      <th></th>\n",
       "      <th></th>\n",
       "      <th></th>\n",
       "      <th></th>\n",
       "      <th></th>\n",
       "      <th></th>\n",
       "      <th></th>\n",
       "      <th></th>\n",
       "      <th></th>\n",
       "      <th></th>\n",
       "      <th></th>\n",
       "      <th></th>\n",
       "      <th></th>\n",
       "      <th></th>\n",
       "      <th></th>\n",
       "      <th></th>\n",
       "      <th></th>\n",
       "      <th></th>\n",
       "      <th></th>\n",
       "      <th></th>\n",
       "      <th></th>\n",
       "      <th></th>\n",
       "      <th></th>\n",
       "      <th></th>\n",
       "      <th></th>\n",
       "      <th></th>\n",
       "      <th></th>\n",
       "      <th></th>\n",
       "      <th></th>\n",
       "      <th></th>\n",
       "      <th></th>\n",
       "      <th></th>\n",
       "      <th></th>\n",
       "      <th></th>\n",
       "      <th></th>\n",
       "      <th></th>\n",
       "      <th></th>\n",
       "      <th></th>\n",
       "      <th></th>\n",
       "      <th></th>\n",
       "      <th></th>\n",
       "      <th></th>\n",
       "      <th></th>\n",
       "      <th></th>\n",
       "      <th></th>\n",
       "      <th></th>\n",
       "      <th></th>\n",
       "      <th></th>\n",
       "      <th></th>\n",
       "      <th></th>\n",
       "      <th></th>\n",
       "      <th></th>\n",
       "      <th></th>\n",
       "      <th></th>\n",
       "      <th></th>\n",
       "      <th></th>\n",
       "      <th></th>\n",
       "      <th></th>\n",
       "      <th></th>\n",
       "      <th></th>\n",
       "      <th></th>\n",
       "      <th></th>\n",
       "      <th></th>\n",
       "      <th></th>\n",
       "      <th></th>\n",
       "    </tr>\n",
       "  </thead>\n",
       "  <tbody>\n",
       "    <tr>\n",
       "      <th>2016-01-15 00:00:00</th>\n",
       "      <td>6.055403</td>\n",
       "      <td>9.889648</td>\n",
       "      <td>5.507324</td>\n",
       "      <td>42.192020</td>\n",
       "      <td>70.541216</td>\n",
       "      <td>10.411962</td>\n",
       "      <td>0.895447</td>\n",
       "      <td>16.904297</td>\n",
       "      <td>2.143149</td>\n",
       "      <td>127.092003</td>\n",
       "      <td>10.128295</td>\n",
       "      <td>7.25</td>\n",
       "      <td>0.988759</td>\n",
       "      <td>8.547551</td>\n",
       "      <td>10.389648</td>\n",
       "      <td>19.529297</td>\n",
       "      <td>34.174427</td>\n",
       "      <td>14.936526</td>\n",
       "      <td>2.534912</td>\n",
       "      <td>7.476074</td>\n",
       "      <td>2.106679</td>\n",
       "      <td>1549.775757</td>\n",
       "      <td>-498.912140</td>\n",
       "      <td>1551.434204</td>\n",
       "      <td>-516.403442</td>\n",
       "      <td>1549.873901</td>\n",
       "      <td>-498.666595</td>\n",
       "      <td>1554.367432</td>\n",
       "      <td>-493.428131</td>\n",
       "      <td>41885.707031</td>\n",
       "      <td>3481.779053</td>\n",
       "      <td>3520.337158</td>\n",
       "      <td>2.838687</td>\n",
       "      <td>6.100378</td>\n",
       "      <td>2.284912</td>\n",
       "      <td>523.546326</td>\n",
       "      <td>55.486599</td>\n",
       "      <td>36.808594</td>\n",
       "      <td>6.486150</td>\n",
       "      <td>11.986616</td>\n",
       "      <td>6.007990</td>\n",
       "      <td>11.836743</td>\n",
       "      <td>6.005818</td>\n",
       "      <td>11.500771</td>\n",
       "      <td>7.101074</td>\n",
       "      <td>28.029297</td>\n",
       "      <td>19.793808</td>\n",
       "      <td>87.107763</td>\n",
       "      <td>5.008018</td>\n",
       "      <td>0.508728</td>\n",
       "      <td>19.154297</td>\n",
       "      <td>1.170244</td>\n",
       "      <td>999.706909</td>\n",
       "      <td>-404.066986</td>\n",
       "      <td>1603.011353</td>\n",
       "      <td>-434.715027</td>\n",
       "      <td>1602.375000</td>\n",
       "      <td>-442.204468</td>\n",
       "      <td>1598.937256</td>\n",
       "      <td>-451.294128</td>\n",
       "      <td>1404.472046</td>\n",
       "      <td>-455.462982</td>\n",
       "      <td>1416.354980</td>\n",
       "      <td>-451.939636</td>\n",
       "      <td>14.500184</td>\n",
       "      <td>4.694824</td>\n",
       "      <td>8.764648</td>\n",
       "      <td>2.606185</td>\n",
       "      <td>25.853109</td>\n",
       "      <td>-498.526489</td>\n",
       "      <td>23.893660</td>\n",
       "      <td>-501.406281</td>\n",
       "      <td>23.961798</td>\n",
       "      <td>-495.262817</td>\n",
       "      <td>21.940409</td>\n",
       "      <td>-499.340973</td>\n",
       "      <td>14.016835</td>\n",
       "      <td>-502.488007</td>\n",
       "      <td>12.099931</td>\n",
       "      <td>-504.715942</td>\n",
       "      <td>9.925633</td>\n",
       "      <td>-498.310211</td>\n",
       "      <td>8.079666</td>\n",
       "      <td>-500.470978</td>\n",
       "      <td>14.151341</td>\n",
       "      <td>-605.841980</td>\n",
       "    </tr>\n",
       "    <tr>\n",
       "      <th>2016-01-15 01:00:00</th>\n",
       "      <td>6.029369</td>\n",
       "      <td>9.968944</td>\n",
       "      <td>5.257781</td>\n",
       "      <td>42.701629</td>\n",
       "      <td>69.266198</td>\n",
       "      <td>10.462676</td>\n",
       "      <td>0.927452</td>\n",
       "      <td>16.634514</td>\n",
       "      <td>2.224930</td>\n",
       "      <td>125.629232</td>\n",
       "      <td>10.296251</td>\n",
       "      <td>7.25</td>\n",
       "      <td>1.002663</td>\n",
       "      <td>8.558743</td>\n",
       "      <td>10.497069</td>\n",
       "      <td>19.369147</td>\n",
       "      <td>34.118526</td>\n",
       "      <td>16.250511</td>\n",
       "      <td>3.049646</td>\n",
       "      <td>6.733907</td>\n",
       "      <td>2.353017</td>\n",
       "      <td>1576.166671</td>\n",
       "      <td>-500.904965</td>\n",
       "      <td>1575.950626</td>\n",
       "      <td>-499.865889</td>\n",
       "      <td>1575.994189</td>\n",
       "      <td>-499.315107</td>\n",
       "      <td>1574.479259</td>\n",
       "      <td>-498.931665</td>\n",
       "      <td>42050.861809</td>\n",
       "      <td>3498.370979</td>\n",
       "      <td>3489.981857</td>\n",
       "      <td>2.858998</td>\n",
       "      <td>6.161113</td>\n",
       "      <td>2.266033</td>\n",
       "      <td>525.290581</td>\n",
       "      <td>57.278666</td>\n",
       "      <td>35.753385</td>\n",
       "      <td>6.478583</td>\n",
       "      <td>11.971193</td>\n",
       "      <td>6.005766</td>\n",
       "      <td>11.996163</td>\n",
       "      <td>6.012594</td>\n",
       "      <td>11.615865</td>\n",
       "      <td>7.278807</td>\n",
       "      <td>28.067063</td>\n",
       "      <td>20.050975</td>\n",
       "      <td>86.843261</td>\n",
       "      <td>4.955378</td>\n",
       "      <td>0.536689</td>\n",
       "      <td>18.965234</td>\n",
       "      <td>1.184827</td>\n",
       "      <td>1000.286398</td>\n",
       "      <td>-400.065196</td>\n",
       "      <td>1600.754587</td>\n",
       "      <td>-449.953435</td>\n",
       "      <td>1600.479580</td>\n",
       "      <td>-449.830646</td>\n",
       "      <td>1600.527589</td>\n",
       "      <td>-449.953649</td>\n",
       "      <td>1399.227084</td>\n",
       "      <td>-450.869848</td>\n",
       "      <td>1399.719514</td>\n",
       "      <td>-450.119001</td>\n",
       "      <td>14.265474</td>\n",
       "      <td>4.592547</td>\n",
       "      <td>9.001494</td>\n",
       "      <td>2.488248</td>\n",
       "      <td>25.880539</td>\n",
       "      <td>-499.989656</td>\n",
       "      <td>23.889530</td>\n",
       "      <td>-500.372428</td>\n",
       "      <td>23.970550</td>\n",
       "      <td>-500.085473</td>\n",
       "      <td>22.085714</td>\n",
       "      <td>-499.446897</td>\n",
       "      <td>13.992281</td>\n",
       "      <td>-505.503262</td>\n",
       "      <td>11.950531</td>\n",
       "      <td>-501.331529</td>\n",
       "      <td>10.039245</td>\n",
       "      <td>-500.169983</td>\n",
       "      <td>7.984757</td>\n",
       "      <td>-500.582168</td>\n",
       "      <td>13.998353</td>\n",
       "      <td>-599.787184</td>\n",
       "    </tr>\n",
       "    <tr>\n",
       "      <th>2016-01-15 02:00:00</th>\n",
       "      <td>6.055926</td>\n",
       "      <td>10.213995</td>\n",
       "      <td>5.383759</td>\n",
       "      <td>42.657501</td>\n",
       "      <td>68.116445</td>\n",
       "      <td>10.507046</td>\n",
       "      <td>0.953716</td>\n",
       "      <td>16.208849</td>\n",
       "      <td>2.257889</td>\n",
       "      <td>123.819808</td>\n",
       "      <td>11.316280</td>\n",
       "      <td>7.25</td>\n",
       "      <td>0.991265</td>\n",
       "      <td>8.603505</td>\n",
       "      <td>10.354494</td>\n",
       "      <td>19.167579</td>\n",
       "      <td>33.969464</td>\n",
       "      <td>16.491823</td>\n",
       "      <td>3.124664</td>\n",
       "      <td>6.471768</td>\n",
       "      <td>2.416800</td>\n",
       "      <td>1601.556163</td>\n",
       "      <td>-499.997791</td>\n",
       "      <td>1600.386685</td>\n",
       "      <td>-500.607762</td>\n",
       "      <td>1602.003542</td>\n",
       "      <td>-500.870069</td>\n",
       "      <td>1599.541515</td>\n",
       "      <td>-499.827444</td>\n",
       "      <td>42018.101184</td>\n",
       "      <td>3495.348910</td>\n",
       "      <td>3502.359819</td>\n",
       "      <td>2.945989</td>\n",
       "      <td>6.116455</td>\n",
       "      <td>2.159622</td>\n",
       "      <td>530.026610</td>\n",
       "      <td>57.510649</td>\n",
       "      <td>35.971630</td>\n",
       "      <td>6.362222</td>\n",
       "      <td>11.920603</td>\n",
       "      <td>6.197377</td>\n",
       "      <td>11.920305</td>\n",
       "      <td>6.204633</td>\n",
       "      <td>11.695753</td>\n",
       "      <td>7.216833</td>\n",
       "      <td>27.454037</td>\n",
       "      <td>19.737170</td>\n",
       "      <td>86.842308</td>\n",
       "      <td>4.843460</td>\n",
       "      <td>0.546416</td>\n",
       "      <td>18.808533</td>\n",
       "      <td>1.162562</td>\n",
       "      <td>999.719565</td>\n",
       "      <td>-400.074028</td>\n",
       "      <td>1599.337330</td>\n",
       "      <td>-450.008530</td>\n",
       "      <td>1599.672797</td>\n",
       "      <td>-449.954491</td>\n",
       "      <td>1599.849325</td>\n",
       "      <td>-449.954185</td>\n",
       "      <td>1399.180945</td>\n",
       "      <td>-449.937588</td>\n",
       "      <td>1400.316682</td>\n",
       "      <td>-450.527147</td>\n",
       "      <td>14.115662</td>\n",
       "      <td>4.624775</td>\n",
       "      <td>8.842896</td>\n",
       "      <td>2.458187</td>\n",
       "      <td>26.005245</td>\n",
       "      <td>-499.929616</td>\n",
       "      <td>23.886657</td>\n",
       "      <td>-499.951928</td>\n",
       "      <td>23.913535</td>\n",
       "      <td>-499.442343</td>\n",
       "      <td>23.957717</td>\n",
       "      <td>-499.901982</td>\n",
       "      <td>14.015015</td>\n",
       "      <td>-502.520901</td>\n",
       "      <td>11.912783</td>\n",
       "      <td>-501.133383</td>\n",
       "      <td>10.070913</td>\n",
       "      <td>-500.129135</td>\n",
       "      <td>8.013877</td>\n",
       "      <td>-500.517572</td>\n",
       "      <td>14.028663</td>\n",
       "      <td>-601.427363</td>\n",
       "    </tr>\n",
       "  </tbody>\n",
       "</table>\n",
       "</div>"
      ],
      "text/plain": [
       "                     final.output.concentrate_ag  final.output.concentrate_pb  \\\n",
       "date                                                                            \n",
       "2016-01-15 00:00:00                     6.055403                     9.889648   \n",
       "2016-01-15 01:00:00                     6.029369                     9.968944   \n",
       "2016-01-15 02:00:00                     6.055926                    10.213995   \n",
       "\n",
       "                     final.output.concentrate_sol  \\\n",
       "date                                                \n",
       "2016-01-15 00:00:00                      5.507324   \n",
       "2016-01-15 01:00:00                      5.257781   \n",
       "2016-01-15 02:00:00                      5.383759   \n",
       "\n",
       "                     final.output.concentrate_au  final.output.recovery  \\\n",
       "date                                                                      \n",
       "2016-01-15 00:00:00                    42.192020              70.541216   \n",
       "2016-01-15 01:00:00                    42.701629              69.266198   \n",
       "2016-01-15 02:00:00                    42.657501              68.116445   \n",
       "\n",
       "                     final.output.tail_ag  final.output.tail_pb  \\\n",
       "date                                                              \n",
       "2016-01-15 00:00:00             10.411962              0.895447   \n",
       "2016-01-15 01:00:00             10.462676              0.927452   \n",
       "2016-01-15 02:00:00             10.507046              0.953716   \n",
       "\n",
       "                     final.output.tail_sol  final.output.tail_au  \\\n",
       "date                                                               \n",
       "2016-01-15 00:00:00              16.904297              2.143149   \n",
       "2016-01-15 01:00:00              16.634514              2.224930   \n",
       "2016-01-15 02:00:00              16.208849              2.257889   \n",
       "\n",
       "                     primary_cleaner.input.sulfate  \\\n",
       "date                                                 \n",
       "2016-01-15 00:00:00                     127.092003   \n",
       "2016-01-15 01:00:00                     125.629232   \n",
       "2016-01-15 02:00:00                     123.819808   \n",
       "\n",
       "                     primary_cleaner.input.depressant  \\\n",
       "date                                                    \n",
       "2016-01-15 00:00:00                         10.128295   \n",
       "2016-01-15 01:00:00                         10.296251   \n",
       "2016-01-15 02:00:00                         11.316280   \n",
       "\n",
       "                     primary_cleaner.input.feed_size  \\\n",
       "date                                                   \n",
       "2016-01-15 00:00:00                             7.25   \n",
       "2016-01-15 01:00:00                             7.25   \n",
       "2016-01-15 02:00:00                             7.25   \n",
       "\n",
       "                     primary_cleaner.input.xanthate  \\\n",
       "date                                                  \n",
       "2016-01-15 00:00:00                        0.988759   \n",
       "2016-01-15 01:00:00                        1.002663   \n",
       "2016-01-15 02:00:00                        0.991265   \n",
       "\n",
       "                     primary_cleaner.output.concentrate_ag  \\\n",
       "date                                                         \n",
       "2016-01-15 00:00:00                               8.547551   \n",
       "2016-01-15 01:00:00                               8.558743   \n",
       "2016-01-15 02:00:00                               8.603505   \n",
       "\n",
       "                     primary_cleaner.output.concentrate_pb  \\\n",
       "date                                                         \n",
       "2016-01-15 00:00:00                              10.389648   \n",
       "2016-01-15 01:00:00                              10.497069   \n",
       "2016-01-15 02:00:00                              10.354494   \n",
       "\n",
       "                     primary_cleaner.output.concentrate_sol  \\\n",
       "date                                                          \n",
       "2016-01-15 00:00:00                               19.529297   \n",
       "2016-01-15 01:00:00                               19.369147   \n",
       "2016-01-15 02:00:00                               19.167579   \n",
       "\n",
       "                     primary_cleaner.output.concentrate_au  \\\n",
       "date                                                         \n",
       "2016-01-15 00:00:00                              34.174427   \n",
       "2016-01-15 01:00:00                              34.118526   \n",
       "2016-01-15 02:00:00                              33.969464   \n",
       "\n",
       "                     primary_cleaner.output.tail_ag  \\\n",
       "date                                                  \n",
       "2016-01-15 00:00:00                       14.936526   \n",
       "2016-01-15 01:00:00                       16.250511   \n",
       "2016-01-15 02:00:00                       16.491823   \n",
       "\n",
       "                     primary_cleaner.output.tail_pb  \\\n",
       "date                                                  \n",
       "2016-01-15 00:00:00                        2.534912   \n",
       "2016-01-15 01:00:00                        3.049646   \n",
       "2016-01-15 02:00:00                        3.124664   \n",
       "\n",
       "                     primary_cleaner.output.tail_sol  \\\n",
       "date                                                   \n",
       "2016-01-15 00:00:00                         7.476074   \n",
       "2016-01-15 01:00:00                         6.733907   \n",
       "2016-01-15 02:00:00                         6.471768   \n",
       "\n",
       "                     primary_cleaner.output.tail_au  \\\n",
       "date                                                  \n",
       "2016-01-15 00:00:00                        2.106679   \n",
       "2016-01-15 01:00:00                        2.353017   \n",
       "2016-01-15 02:00:00                        2.416800   \n",
       "\n",
       "                     primary_cleaner.state.floatbank8_a_air  \\\n",
       "date                                                          \n",
       "2016-01-15 00:00:00                             1549.775757   \n",
       "2016-01-15 01:00:00                             1576.166671   \n",
       "2016-01-15 02:00:00                             1601.556163   \n",
       "\n",
       "                     primary_cleaner.state.floatbank8_a_level  \\\n",
       "date                                                            \n",
       "2016-01-15 00:00:00                               -498.912140   \n",
       "2016-01-15 01:00:00                               -500.904965   \n",
       "2016-01-15 02:00:00                               -499.997791   \n",
       "\n",
       "                     primary_cleaner.state.floatbank8_b_air  \\\n",
       "date                                                          \n",
       "2016-01-15 00:00:00                             1551.434204   \n",
       "2016-01-15 01:00:00                             1575.950626   \n",
       "2016-01-15 02:00:00                             1600.386685   \n",
       "\n",
       "                     primary_cleaner.state.floatbank8_b_level  \\\n",
       "date                                                            \n",
       "2016-01-15 00:00:00                               -516.403442   \n",
       "2016-01-15 01:00:00                               -499.865889   \n",
       "2016-01-15 02:00:00                               -500.607762   \n",
       "\n",
       "                     primary_cleaner.state.floatbank8_c_air  \\\n",
       "date                                                          \n",
       "2016-01-15 00:00:00                             1549.873901   \n",
       "2016-01-15 01:00:00                             1575.994189   \n",
       "2016-01-15 02:00:00                             1602.003542   \n",
       "\n",
       "                     primary_cleaner.state.floatbank8_c_level  \\\n",
       "date                                                            \n",
       "2016-01-15 00:00:00                               -498.666595   \n",
       "2016-01-15 01:00:00                               -499.315107   \n",
       "2016-01-15 02:00:00                               -500.870069   \n",
       "\n",
       "                     primary_cleaner.state.floatbank8_d_air  \\\n",
       "date                                                          \n",
       "2016-01-15 00:00:00                             1554.367432   \n",
       "2016-01-15 01:00:00                             1574.479259   \n",
       "2016-01-15 02:00:00                             1599.541515   \n",
       "\n",
       "                     primary_cleaner.state.floatbank8_d_level  \\\n",
       "date                                                            \n",
       "2016-01-15 00:00:00                               -493.428131   \n",
       "2016-01-15 01:00:00                               -498.931665   \n",
       "2016-01-15 02:00:00                               -499.827444   \n",
       "\n",
       "                     rougher.calculation.sulfate_to_au_concentrate  \\\n",
       "date                                                                 \n",
       "2016-01-15 00:00:00                                   41885.707031   \n",
       "2016-01-15 01:00:00                                   42050.861809   \n",
       "2016-01-15 02:00:00                                   42018.101184   \n",
       "\n",
       "                     rougher.calculation.floatbank10_sulfate_to_au_feed  \\\n",
       "date                                                                      \n",
       "2016-01-15 00:00:00                                        3481.779053    \n",
       "2016-01-15 01:00:00                                        3498.370979    \n",
       "2016-01-15 02:00:00                                        3495.348910    \n",
       "\n",
       "                     rougher.calculation.floatbank11_sulfate_to_au_feed  \\\n",
       "date                                                                      \n",
       "2016-01-15 00:00:00                                        3520.337158    \n",
       "2016-01-15 01:00:00                                        3489.981857    \n",
       "2016-01-15 02:00:00                                        3502.359819    \n",
       "\n",
       "                     rougher.calculation.au_pb_ratio  rougher.input.feed_ag  \\\n",
       "date                                                                          \n",
       "2016-01-15 00:00:00                         2.838687               6.100378   \n",
       "2016-01-15 01:00:00                         2.858998               6.161113   \n",
       "2016-01-15 02:00:00                         2.945989               6.116455   \n",
       "\n",
       "                     rougher.input.feed_pb  rougher.input.feed_rate  \\\n",
       "date                                                                  \n",
       "2016-01-15 00:00:00               2.284912               523.546326   \n",
       "2016-01-15 01:00:00               2.266033               525.290581   \n",
       "2016-01-15 02:00:00               2.159622               530.026610   \n",
       "\n",
       "                     rougher.input.feed_size  rougher.input.feed_sol  \\\n",
       "date                                                                   \n",
       "2016-01-15 00:00:00                55.486599               36.808594   \n",
       "2016-01-15 01:00:00                57.278666               35.753385   \n",
       "2016-01-15 02:00:00                57.510649               35.971630   \n",
       "\n",
       "                     rougher.input.feed_au  rougher.input.floatbank10_sulfate  \\\n",
       "date                                                                            \n",
       "2016-01-15 00:00:00               6.486150                          11.986616   \n",
       "2016-01-15 01:00:00               6.478583                          11.971193   \n",
       "2016-01-15 02:00:00               6.362222                          11.920603   \n",
       "\n",
       "                     rougher.input.floatbank10_xanthate  \\\n",
       "date                                                      \n",
       "2016-01-15 00:00:00                            6.007990   \n",
       "2016-01-15 01:00:00                            6.005766   \n",
       "2016-01-15 02:00:00                            6.197377   \n",
       "\n",
       "                     rougher.input.floatbank11_sulfate  \\\n",
       "date                                                     \n",
       "2016-01-15 00:00:00                          11.836743   \n",
       "2016-01-15 01:00:00                          11.996163   \n",
       "2016-01-15 02:00:00                          11.920305   \n",
       "\n",
       "                     rougher.input.floatbank11_xanthate  \\\n",
       "date                                                      \n",
       "2016-01-15 00:00:00                            6.005818   \n",
       "2016-01-15 01:00:00                            6.012594   \n",
       "2016-01-15 02:00:00                            6.204633   \n",
       "\n",
       "                     rougher.output.concentrate_ag  \\\n",
       "date                                                 \n",
       "2016-01-15 00:00:00                      11.500771   \n",
       "2016-01-15 01:00:00                      11.615865   \n",
       "2016-01-15 02:00:00                      11.695753   \n",
       "\n",
       "                     rougher.output.concentrate_pb  \\\n",
       "date                                                 \n",
       "2016-01-15 00:00:00                       7.101074   \n",
       "2016-01-15 01:00:00                       7.278807   \n",
       "2016-01-15 02:00:00                       7.216833   \n",
       "\n",
       "                     rougher.output.concentrate_sol  \\\n",
       "date                                                  \n",
       "2016-01-15 00:00:00                       28.029297   \n",
       "2016-01-15 01:00:00                       28.067063   \n",
       "2016-01-15 02:00:00                       27.454037   \n",
       "\n",
       "                     rougher.output.concentrate_au  rougher.output.recovery  \\\n",
       "date                                                                          \n",
       "2016-01-15 00:00:00                      19.793808                87.107763   \n",
       "2016-01-15 01:00:00                      20.050975                86.843261   \n",
       "2016-01-15 02:00:00                      19.737170                86.842308   \n",
       "\n",
       "                     rougher.output.tail_ag  rougher.output.tail_pb  \\\n",
       "date                                                                  \n",
       "2016-01-15 00:00:00                5.008018                0.508728   \n",
       "2016-01-15 01:00:00                4.955378                0.536689   \n",
       "2016-01-15 02:00:00                4.843460                0.546416   \n",
       "\n",
       "                     rougher.output.tail_sol  rougher.output.tail_au  \\\n",
       "date                                                                   \n",
       "2016-01-15 00:00:00                19.154297                1.170244   \n",
       "2016-01-15 01:00:00                18.965234                1.184827   \n",
       "2016-01-15 02:00:00                18.808533                1.162562   \n",
       "\n",
       "                     rougher.state.floatbank10_a_air  \\\n",
       "date                                                   \n",
       "2016-01-15 00:00:00                       999.706909   \n",
       "2016-01-15 01:00:00                      1000.286398   \n",
       "2016-01-15 02:00:00                       999.719565   \n",
       "\n",
       "                     rougher.state.floatbank10_a_level  \\\n",
       "date                                                     \n",
       "2016-01-15 00:00:00                        -404.066986   \n",
       "2016-01-15 01:00:00                        -400.065196   \n",
       "2016-01-15 02:00:00                        -400.074028   \n",
       "\n",
       "                     rougher.state.floatbank10_b_air  \\\n",
       "date                                                   \n",
       "2016-01-15 00:00:00                      1603.011353   \n",
       "2016-01-15 01:00:00                      1600.754587   \n",
       "2016-01-15 02:00:00                      1599.337330   \n",
       "\n",
       "                     rougher.state.floatbank10_b_level  \\\n",
       "date                                                     \n",
       "2016-01-15 00:00:00                        -434.715027   \n",
       "2016-01-15 01:00:00                        -449.953435   \n",
       "2016-01-15 02:00:00                        -450.008530   \n",
       "\n",
       "                     rougher.state.floatbank10_c_air  \\\n",
       "date                                                   \n",
       "2016-01-15 00:00:00                      1602.375000   \n",
       "2016-01-15 01:00:00                      1600.479580   \n",
       "2016-01-15 02:00:00                      1599.672797   \n",
       "\n",
       "                     rougher.state.floatbank10_c_level  \\\n",
       "date                                                     \n",
       "2016-01-15 00:00:00                        -442.204468   \n",
       "2016-01-15 01:00:00                        -449.830646   \n",
       "2016-01-15 02:00:00                        -449.954491   \n",
       "\n",
       "                     rougher.state.floatbank10_d_air  \\\n",
       "date                                                   \n",
       "2016-01-15 00:00:00                      1598.937256   \n",
       "2016-01-15 01:00:00                      1600.527589   \n",
       "2016-01-15 02:00:00                      1599.849325   \n",
       "\n",
       "                     rougher.state.floatbank10_d_level  \\\n",
       "date                                                     \n",
       "2016-01-15 00:00:00                        -451.294128   \n",
       "2016-01-15 01:00:00                        -449.953649   \n",
       "2016-01-15 02:00:00                        -449.954185   \n",
       "\n",
       "                     rougher.state.floatbank10_e_air  \\\n",
       "date                                                   \n",
       "2016-01-15 00:00:00                      1404.472046   \n",
       "2016-01-15 01:00:00                      1399.227084   \n",
       "2016-01-15 02:00:00                      1399.180945   \n",
       "\n",
       "                     rougher.state.floatbank10_e_level  \\\n",
       "date                                                     \n",
       "2016-01-15 00:00:00                        -455.462982   \n",
       "2016-01-15 01:00:00                        -450.869848   \n",
       "2016-01-15 02:00:00                        -449.937588   \n",
       "\n",
       "                     rougher.state.floatbank10_f_air  \\\n",
       "date                                                   \n",
       "2016-01-15 00:00:00                      1416.354980   \n",
       "2016-01-15 01:00:00                      1399.719514   \n",
       "2016-01-15 02:00:00                      1400.316682   \n",
       "\n",
       "                     rougher.state.floatbank10_f_level  \\\n",
       "date                                                     \n",
       "2016-01-15 00:00:00                        -451.939636   \n",
       "2016-01-15 01:00:00                        -450.119001   \n",
       "2016-01-15 02:00:00                        -450.527147   \n",
       "\n",
       "                     secondary_cleaner.output.tail_ag  \\\n",
       "date                                                    \n",
       "2016-01-15 00:00:00                         14.500184   \n",
       "2016-01-15 01:00:00                         14.265474   \n",
       "2016-01-15 02:00:00                         14.115662   \n",
       "\n",
       "                     secondary_cleaner.output.tail_pb  \\\n",
       "date                                                    \n",
       "2016-01-15 00:00:00                          4.694824   \n",
       "2016-01-15 01:00:00                          4.592547   \n",
       "2016-01-15 02:00:00                          4.624775   \n",
       "\n",
       "                     secondary_cleaner.output.tail_sol  \\\n",
       "date                                                     \n",
       "2016-01-15 00:00:00                           8.764648   \n",
       "2016-01-15 01:00:00                           9.001494   \n",
       "2016-01-15 02:00:00                           8.842896   \n",
       "\n",
       "                     secondary_cleaner.output.tail_au  \\\n",
       "date                                                    \n",
       "2016-01-15 00:00:00                          2.606185   \n",
       "2016-01-15 01:00:00                          2.488248   \n",
       "2016-01-15 02:00:00                          2.458187   \n",
       "\n",
       "                     secondary_cleaner.state.floatbank2_a_air  \\\n",
       "date                                                            \n",
       "2016-01-15 00:00:00                                 25.853109   \n",
       "2016-01-15 01:00:00                                 25.880539   \n",
       "2016-01-15 02:00:00                                 26.005245   \n",
       "\n",
       "                     secondary_cleaner.state.floatbank2_a_level  \\\n",
       "date                                                              \n",
       "2016-01-15 00:00:00                                 -498.526489   \n",
       "2016-01-15 01:00:00                                 -499.989656   \n",
       "2016-01-15 02:00:00                                 -499.929616   \n",
       "\n",
       "                     secondary_cleaner.state.floatbank2_b_air  \\\n",
       "date                                                            \n",
       "2016-01-15 00:00:00                                 23.893660   \n",
       "2016-01-15 01:00:00                                 23.889530   \n",
       "2016-01-15 02:00:00                                 23.886657   \n",
       "\n",
       "                     secondary_cleaner.state.floatbank2_b_level  \\\n",
       "date                                                              \n",
       "2016-01-15 00:00:00                                 -501.406281   \n",
       "2016-01-15 01:00:00                                 -500.372428   \n",
       "2016-01-15 02:00:00                                 -499.951928   \n",
       "\n",
       "                     secondary_cleaner.state.floatbank3_a_air  \\\n",
       "date                                                            \n",
       "2016-01-15 00:00:00                                 23.961798   \n",
       "2016-01-15 01:00:00                                 23.970550   \n",
       "2016-01-15 02:00:00                                 23.913535   \n",
       "\n",
       "                     secondary_cleaner.state.floatbank3_a_level  \\\n",
       "date                                                              \n",
       "2016-01-15 00:00:00                                 -495.262817   \n",
       "2016-01-15 01:00:00                                 -500.085473   \n",
       "2016-01-15 02:00:00                                 -499.442343   \n",
       "\n",
       "                     secondary_cleaner.state.floatbank3_b_air  \\\n",
       "date                                                            \n",
       "2016-01-15 00:00:00                                 21.940409   \n",
       "2016-01-15 01:00:00                                 22.085714   \n",
       "2016-01-15 02:00:00                                 23.957717   \n",
       "\n",
       "                     secondary_cleaner.state.floatbank3_b_level  \\\n",
       "date                                                              \n",
       "2016-01-15 00:00:00                                 -499.340973   \n",
       "2016-01-15 01:00:00                                 -499.446897   \n",
       "2016-01-15 02:00:00                                 -499.901982   \n",
       "\n",
       "                     secondary_cleaner.state.floatbank4_a_air  \\\n",
       "date                                                            \n",
       "2016-01-15 00:00:00                                 14.016835   \n",
       "2016-01-15 01:00:00                                 13.992281   \n",
       "2016-01-15 02:00:00                                 14.015015   \n",
       "\n",
       "                     secondary_cleaner.state.floatbank4_a_level  \\\n",
       "date                                                              \n",
       "2016-01-15 00:00:00                                 -502.488007   \n",
       "2016-01-15 01:00:00                                 -505.503262   \n",
       "2016-01-15 02:00:00                                 -502.520901   \n",
       "\n",
       "                     secondary_cleaner.state.floatbank4_b_air  \\\n",
       "date                                                            \n",
       "2016-01-15 00:00:00                                 12.099931   \n",
       "2016-01-15 01:00:00                                 11.950531   \n",
       "2016-01-15 02:00:00                                 11.912783   \n",
       "\n",
       "                     secondary_cleaner.state.floatbank4_b_level  \\\n",
       "date                                                              \n",
       "2016-01-15 00:00:00                                 -504.715942   \n",
       "2016-01-15 01:00:00                                 -501.331529   \n",
       "2016-01-15 02:00:00                                 -501.133383   \n",
       "\n",
       "                     secondary_cleaner.state.floatbank5_a_air  \\\n",
       "date                                                            \n",
       "2016-01-15 00:00:00                                  9.925633   \n",
       "2016-01-15 01:00:00                                 10.039245   \n",
       "2016-01-15 02:00:00                                 10.070913   \n",
       "\n",
       "                     secondary_cleaner.state.floatbank5_a_level  \\\n",
       "date                                                              \n",
       "2016-01-15 00:00:00                                 -498.310211   \n",
       "2016-01-15 01:00:00                                 -500.169983   \n",
       "2016-01-15 02:00:00                                 -500.129135   \n",
       "\n",
       "                     secondary_cleaner.state.floatbank5_b_air  \\\n",
       "date                                                            \n",
       "2016-01-15 00:00:00                                  8.079666   \n",
       "2016-01-15 01:00:00                                  7.984757   \n",
       "2016-01-15 02:00:00                                  8.013877   \n",
       "\n",
       "                     secondary_cleaner.state.floatbank5_b_level  \\\n",
       "date                                                              \n",
       "2016-01-15 00:00:00                                 -500.470978   \n",
       "2016-01-15 01:00:00                                 -500.582168   \n",
       "2016-01-15 02:00:00                                 -500.517572   \n",
       "\n",
       "                     secondary_cleaner.state.floatbank6_a_air  \\\n",
       "date                                                            \n",
       "2016-01-15 00:00:00                                 14.151341   \n",
       "2016-01-15 01:00:00                                 13.998353   \n",
       "2016-01-15 02:00:00                                 14.028663   \n",
       "\n",
       "                     secondary_cleaner.state.floatbank6_a_level  \n",
       "date                                                             \n",
       "2016-01-15 00:00:00                                 -605.841980  \n",
       "2016-01-15 01:00:00                                 -599.787184  \n",
       "2016-01-15 02:00:00                                 -601.427363  "
      ]
     },
     "metadata": {},
     "output_type": "display_data"
    },
    {
     "name": "stdout",
     "output_type": "stream",
     "text": [
      "\n",
      "<class 'pandas.core.frame.DataFrame'>\n",
      "Index: 14149 entries, 2016-01-15 00:00:00 to 2018-08-18 10:59:59\n",
      "Data columns (total 86 columns):\n",
      " #   Column                                              Non-Null Count  Dtype  \n",
      "---  ------                                              --------------  -----  \n",
      " 0   final.output.concentrate_ag                         14148 non-null  float64\n",
      " 1   final.output.concentrate_pb                         14148 non-null  float64\n",
      " 2   final.output.concentrate_sol                        13938 non-null  float64\n",
      " 3   final.output.concentrate_au                         14149 non-null  float64\n",
      " 4   final.output.recovery                               14149 non-null  float64\n",
      " 5   final.output.tail_ag                                14149 non-null  float64\n",
      " 6   final.output.tail_pb                                14049 non-null  float64\n",
      " 7   final.output.tail_sol                               14144 non-null  float64\n",
      " 8   final.output.tail_au                                14149 non-null  float64\n",
      " 9   primary_cleaner.input.sulfate                       14129 non-null  float64\n",
      " 10  primary_cleaner.input.depressant                    14117 non-null  float64\n",
      " 11  primary_cleaner.input.feed_size                     14149 non-null  float64\n",
      " 12  primary_cleaner.input.xanthate                      14049 non-null  float64\n",
      " 13  primary_cleaner.output.concentrate_ag               14149 non-null  float64\n",
      " 14  primary_cleaner.output.concentrate_pb               14063 non-null  float64\n",
      " 15  primary_cleaner.output.concentrate_sol              13863 non-null  float64\n",
      " 16  primary_cleaner.output.concentrate_au               14149 non-null  float64\n",
      " 17  primary_cleaner.output.tail_ag                      14148 non-null  float64\n",
      " 18  primary_cleaner.output.tail_pb                      14134 non-null  float64\n",
      " 19  primary_cleaner.output.tail_sol                     14103 non-null  float64\n",
      " 20  primary_cleaner.output.tail_au                      14149 non-null  float64\n",
      " 21  primary_cleaner.state.floatbank8_a_air              14145 non-null  float64\n",
      " 22  primary_cleaner.state.floatbank8_a_level            14148 non-null  float64\n",
      " 23  primary_cleaner.state.floatbank8_b_air              14145 non-null  float64\n",
      " 24  primary_cleaner.state.floatbank8_b_level            14148 non-null  float64\n",
      " 25  primary_cleaner.state.floatbank8_c_air              14147 non-null  float64\n",
      " 26  primary_cleaner.state.floatbank8_c_level            14148 non-null  float64\n",
      " 27  primary_cleaner.state.floatbank8_d_air              14146 non-null  float64\n",
      " 28  primary_cleaner.state.floatbank8_d_level            14148 non-null  float64\n",
      " 29  rougher.calculation.sulfate_to_au_concentrate       14148 non-null  float64\n",
      " 30  rougher.calculation.floatbank10_sulfate_to_au_feed  14148 non-null  float64\n",
      " 31  rougher.calculation.floatbank11_sulfate_to_au_feed  14148 non-null  float64\n",
      " 32  rougher.calculation.au_pb_ratio                     14149 non-null  float64\n",
      " 33  rougher.input.feed_ag                               14149 non-null  float64\n",
      " 34  rougher.input.feed_pb                               14049 non-null  float64\n",
      " 35  rougher.input.feed_rate                             14141 non-null  float64\n",
      " 36  rougher.input.feed_size                             14005 non-null  float64\n",
      " 37  rougher.input.feed_sol                              14071 non-null  float64\n",
      " 38  rougher.input.feed_au                               14149 non-null  float64\n",
      " 39  rougher.input.floatbank10_sulfate                   14120 non-null  float64\n",
      " 40  rougher.input.floatbank10_xanthate                  14141 non-null  float64\n",
      " 41  rougher.input.floatbank11_sulfate                   14113 non-null  float64\n",
      " 42  rougher.input.floatbank11_xanthate                  13721 non-null  float64\n",
      " 43  rougher.output.concentrate_ag                       14149 non-null  float64\n",
      " 44  rougher.output.concentrate_pb                       14149 non-null  float64\n",
      " 45  rougher.output.concentrate_sol                      14127 non-null  float64\n",
      " 46  rougher.output.concentrate_au                       14149 non-null  float64\n",
      " 47  rougher.output.recovery                             14149 non-null  float64\n",
      " 48  rougher.output.tail_ag                              14148 non-null  float64\n",
      " 49  rougher.output.tail_pb                              14149 non-null  float64\n",
      " 50  rougher.output.tail_sol                             14149 non-null  float64\n",
      " 51  rougher.output.tail_au                              14149 non-null  float64\n",
      " 52  rougher.state.floatbank10_a_air                     14148 non-null  float64\n",
      " 53  rougher.state.floatbank10_a_level                   14148 non-null  float64\n",
      " 54  rougher.state.floatbank10_b_air                     14148 non-null  float64\n",
      " 55  rougher.state.floatbank10_b_level                   14148 non-null  float64\n",
      " 56  rougher.state.floatbank10_c_air                     14148 non-null  float64\n",
      " 57  rougher.state.floatbank10_c_level                   14148 non-null  float64\n",
      " 58  rougher.state.floatbank10_d_air                     14149 non-null  float64\n",
      " 59  rougher.state.floatbank10_d_level                   14149 non-null  float64\n",
      " 60  rougher.state.floatbank10_e_air                     13713 non-null  float64\n",
      " 61  rougher.state.floatbank10_e_level                   14149 non-null  float64\n",
      " 62  rougher.state.floatbank10_f_air                     14149 non-null  float64\n",
      " 63  rougher.state.floatbank10_f_level                   14149 non-null  float64\n",
      " 64  secondary_cleaner.output.tail_ag                    14147 non-null  float64\n",
      " 65  secondary_cleaner.output.tail_pb                    14139 non-null  float64\n",
      " 66  secondary_cleaner.output.tail_sol                   12544 non-null  float64\n",
      " 67  secondary_cleaner.output.tail_au                    14149 non-null  float64\n",
      " 68  secondary_cleaner.state.floatbank2_a_air            13932 non-null  float64\n",
      " 69  secondary_cleaner.state.floatbank2_a_level          14148 non-null  float64\n",
      " 70  secondary_cleaner.state.floatbank2_b_air            14128 non-null  float64\n",
      " 71  secondary_cleaner.state.floatbank2_b_level          14148 non-null  float64\n",
      " 72  secondary_cleaner.state.floatbank3_a_air            14145 non-null  float64\n",
      " 73  secondary_cleaner.state.floatbank3_a_level          14148 non-null  float64\n",
      " 74  secondary_cleaner.state.floatbank3_b_air            14148 non-null  float64\n",
      " 75  secondary_cleaner.state.floatbank3_b_level          14148 non-null  float64\n",
      " 76  secondary_cleaner.state.floatbank4_a_air            14143 non-null  float64\n",
      " 77  secondary_cleaner.state.floatbank4_a_level          14148 non-null  float64\n",
      " 78  secondary_cleaner.state.floatbank4_b_air            14148 non-null  float64\n",
      " 79  secondary_cleaner.state.floatbank4_b_level          14148 non-null  float64\n",
      " 80  secondary_cleaner.state.floatbank5_a_air            14148 non-null  float64\n",
      " 81  secondary_cleaner.state.floatbank5_a_level          14148 non-null  float64\n",
      " 82  secondary_cleaner.state.floatbank5_b_air            14148 non-null  float64\n",
      " 83  secondary_cleaner.state.floatbank5_b_level          14148 non-null  float64\n",
      " 84  secondary_cleaner.state.floatbank6_a_air            14147 non-null  float64\n",
      " 85  secondary_cleaner.state.floatbank6_a_level          14148 non-null  float64\n",
      "dtypes: float64(86)\n",
      "memory usage: 9.4+ MB\n"
     ]
    },
    {
     "data": {
      "text/plain": [
       "None"
      ]
     },
     "metadata": {},
     "output_type": "display_data"
    },
    {
     "name": "stdout",
     "output_type": "stream",
     "text": [
      "\n"
     ]
    },
    {
     "data": {
      "text/html": [
       "<div>\n",
       "<style scoped>\n",
       "    .dataframe tbody tr th:only-of-type {\n",
       "        vertical-align: middle;\n",
       "    }\n",
       "\n",
       "    .dataframe tbody tr th {\n",
       "        vertical-align: top;\n",
       "    }\n",
       "\n",
       "    .dataframe thead th {\n",
       "        text-align: right;\n",
       "    }\n",
       "</style>\n",
       "<table border=\"1\" class=\"dataframe\">\n",
       "  <thead>\n",
       "    <tr style=\"text-align: right;\">\n",
       "      <th></th>\n",
       "      <th>final.output.concentrate_ag</th>\n",
       "      <th>final.output.concentrate_pb</th>\n",
       "      <th>final.output.concentrate_sol</th>\n",
       "      <th>final.output.concentrate_au</th>\n",
       "      <th>final.output.recovery</th>\n",
       "      <th>final.output.tail_ag</th>\n",
       "      <th>final.output.tail_pb</th>\n",
       "      <th>final.output.tail_sol</th>\n",
       "      <th>final.output.tail_au</th>\n",
       "      <th>primary_cleaner.input.sulfate</th>\n",
       "      <th>primary_cleaner.input.depressant</th>\n",
       "      <th>primary_cleaner.input.feed_size</th>\n",
       "      <th>primary_cleaner.input.xanthate</th>\n",
       "      <th>primary_cleaner.output.concentrate_ag</th>\n",
       "      <th>primary_cleaner.output.concentrate_pb</th>\n",
       "      <th>primary_cleaner.output.concentrate_sol</th>\n",
       "      <th>primary_cleaner.output.concentrate_au</th>\n",
       "      <th>primary_cleaner.output.tail_ag</th>\n",
       "      <th>primary_cleaner.output.tail_pb</th>\n",
       "      <th>primary_cleaner.output.tail_sol</th>\n",
       "      <th>primary_cleaner.output.tail_au</th>\n",
       "      <th>primary_cleaner.state.floatbank8_a_air</th>\n",
       "      <th>primary_cleaner.state.floatbank8_a_level</th>\n",
       "      <th>primary_cleaner.state.floatbank8_b_air</th>\n",
       "      <th>primary_cleaner.state.floatbank8_b_level</th>\n",
       "      <th>primary_cleaner.state.floatbank8_c_air</th>\n",
       "      <th>primary_cleaner.state.floatbank8_c_level</th>\n",
       "      <th>primary_cleaner.state.floatbank8_d_air</th>\n",
       "      <th>primary_cleaner.state.floatbank8_d_level</th>\n",
       "      <th>rougher.calculation.sulfate_to_au_concentrate</th>\n",
       "      <th>rougher.calculation.floatbank10_sulfate_to_au_feed</th>\n",
       "      <th>rougher.calculation.floatbank11_sulfate_to_au_feed</th>\n",
       "      <th>rougher.calculation.au_pb_ratio</th>\n",
       "      <th>rougher.input.feed_ag</th>\n",
       "      <th>rougher.input.feed_pb</th>\n",
       "      <th>rougher.input.feed_rate</th>\n",
       "      <th>rougher.input.feed_size</th>\n",
       "      <th>rougher.input.feed_sol</th>\n",
       "      <th>rougher.input.feed_au</th>\n",
       "      <th>rougher.input.floatbank10_sulfate</th>\n",
       "      <th>rougher.input.floatbank10_xanthate</th>\n",
       "      <th>rougher.input.floatbank11_sulfate</th>\n",
       "      <th>rougher.input.floatbank11_xanthate</th>\n",
       "      <th>rougher.output.concentrate_ag</th>\n",
       "      <th>rougher.output.concentrate_pb</th>\n",
       "      <th>rougher.output.concentrate_sol</th>\n",
       "      <th>rougher.output.concentrate_au</th>\n",
       "      <th>rougher.output.recovery</th>\n",
       "      <th>rougher.output.tail_ag</th>\n",
       "      <th>rougher.output.tail_pb</th>\n",
       "      <th>rougher.output.tail_sol</th>\n",
       "      <th>rougher.output.tail_au</th>\n",
       "      <th>rougher.state.floatbank10_a_air</th>\n",
       "      <th>rougher.state.floatbank10_a_level</th>\n",
       "      <th>rougher.state.floatbank10_b_air</th>\n",
       "      <th>rougher.state.floatbank10_b_level</th>\n",
       "      <th>rougher.state.floatbank10_c_air</th>\n",
       "      <th>rougher.state.floatbank10_c_level</th>\n",
       "      <th>rougher.state.floatbank10_d_air</th>\n",
       "      <th>rougher.state.floatbank10_d_level</th>\n",
       "      <th>rougher.state.floatbank10_e_air</th>\n",
       "      <th>rougher.state.floatbank10_e_level</th>\n",
       "      <th>rougher.state.floatbank10_f_air</th>\n",
       "      <th>rougher.state.floatbank10_f_level</th>\n",
       "      <th>secondary_cleaner.output.tail_ag</th>\n",
       "      <th>secondary_cleaner.output.tail_pb</th>\n",
       "      <th>secondary_cleaner.output.tail_sol</th>\n",
       "      <th>secondary_cleaner.output.tail_au</th>\n",
       "      <th>secondary_cleaner.state.floatbank2_a_air</th>\n",
       "      <th>secondary_cleaner.state.floatbank2_a_level</th>\n",
       "      <th>secondary_cleaner.state.floatbank2_b_air</th>\n",
       "      <th>secondary_cleaner.state.floatbank2_b_level</th>\n",
       "      <th>secondary_cleaner.state.floatbank3_a_air</th>\n",
       "      <th>secondary_cleaner.state.floatbank3_a_level</th>\n",
       "      <th>secondary_cleaner.state.floatbank3_b_air</th>\n",
       "      <th>secondary_cleaner.state.floatbank3_b_level</th>\n",
       "      <th>secondary_cleaner.state.floatbank4_a_air</th>\n",
       "      <th>secondary_cleaner.state.floatbank4_a_level</th>\n",
       "      <th>secondary_cleaner.state.floatbank4_b_air</th>\n",
       "      <th>secondary_cleaner.state.floatbank4_b_level</th>\n",
       "      <th>secondary_cleaner.state.floatbank5_a_air</th>\n",
       "      <th>secondary_cleaner.state.floatbank5_a_level</th>\n",
       "      <th>secondary_cleaner.state.floatbank5_b_air</th>\n",
       "      <th>secondary_cleaner.state.floatbank5_b_level</th>\n",
       "      <th>secondary_cleaner.state.floatbank6_a_air</th>\n",
       "      <th>secondary_cleaner.state.floatbank6_a_level</th>\n",
       "    </tr>\n",
       "  </thead>\n",
       "  <tbody>\n",
       "    <tr>\n",
       "      <th>count</th>\n",
       "      <td>14148.000000</td>\n",
       "      <td>14148.000000</td>\n",
       "      <td>13938.000000</td>\n",
       "      <td>14149.000000</td>\n",
       "      <td>14149.000000</td>\n",
       "      <td>14149.000000</td>\n",
       "      <td>14049.000000</td>\n",
       "      <td>14144.000000</td>\n",
       "      <td>14149.000000</td>\n",
       "      <td>14129.000000</td>\n",
       "      <td>14117.000000</td>\n",
       "      <td>14149.000000</td>\n",
       "      <td>14049.000000</td>\n",
       "      <td>14149.000000</td>\n",
       "      <td>14063.000000</td>\n",
       "      <td>13863.000000</td>\n",
       "      <td>14149.000000</td>\n",
       "      <td>14148.000000</td>\n",
       "      <td>14134.000000</td>\n",
       "      <td>14103.000000</td>\n",
       "      <td>14149.000000</td>\n",
       "      <td>14145.000000</td>\n",
       "      <td>14148.000000</td>\n",
       "      <td>14145.000000</td>\n",
       "      <td>14148.000000</td>\n",
       "      <td>14147.000000</td>\n",
       "      <td>14148.000000</td>\n",
       "      <td>14146.000000</td>\n",
       "      <td>14148.000000</td>\n",
       "      <td>1.414800e+04</td>\n",
       "      <td>14148.000000</td>\n",
       "      <td>14148.000000</td>\n",
       "      <td>14149.000000</td>\n",
       "      <td>14149.000000</td>\n",
       "      <td>14049.000000</td>\n",
       "      <td>14141.000000</td>\n",
       "      <td>14005.000000</td>\n",
       "      <td>14071.000000</td>\n",
       "      <td>14149.000000</td>\n",
       "      <td>14120.000000</td>\n",
       "      <td>14141.000000</td>\n",
       "      <td>14113.000000</td>\n",
       "      <td>13721.000000</td>\n",
       "      <td>14149.000000</td>\n",
       "      <td>14149.000000</td>\n",
       "      <td>14127.000000</td>\n",
       "      <td>14149.000000</td>\n",
       "      <td>14149.000000</td>\n",
       "      <td>14148.000000</td>\n",
       "      <td>14149.000000</td>\n",
       "      <td>14149.000000</td>\n",
       "      <td>14149.000000</td>\n",
       "      <td>14148.000000</td>\n",
       "      <td>14148.000000</td>\n",
       "      <td>14148.000000</td>\n",
       "      <td>14148.000000</td>\n",
       "      <td>14148.000000</td>\n",
       "      <td>14148.000000</td>\n",
       "      <td>14149.000000</td>\n",
       "      <td>14149.000000</td>\n",
       "      <td>13713.000000</td>\n",
       "      <td>14149.000000</td>\n",
       "      <td>14149.000000</td>\n",
       "      <td>14149.000000</td>\n",
       "      <td>14147.000000</td>\n",
       "      <td>14139.000000</td>\n",
       "      <td>12544.000000</td>\n",
       "      <td>14149.000000</td>\n",
       "      <td>13932.000000</td>\n",
       "      <td>14148.000000</td>\n",
       "      <td>14128.000000</td>\n",
       "      <td>14148.000000</td>\n",
       "      <td>14145.000000</td>\n",
       "      <td>14148.000000</td>\n",
       "      <td>14148.000000</td>\n",
       "      <td>14148.000000</td>\n",
       "      <td>14143.000000</td>\n",
       "      <td>14148.000000</td>\n",
       "      <td>14148.000000</td>\n",
       "      <td>14148.000000</td>\n",
       "      <td>14148.000000</td>\n",
       "      <td>14148.000000</td>\n",
       "      <td>14148.000000</td>\n",
       "      <td>14148.000000</td>\n",
       "      <td>14147.000000</td>\n",
       "      <td>14148.000000</td>\n",
       "    </tr>\n",
       "    <tr>\n",
       "      <th>mean</th>\n",
       "      <td>5.142034</td>\n",
       "      <td>10.132960</td>\n",
       "      <td>9.202849</td>\n",
       "      <td>44.003792</td>\n",
       "      <td>66.518832</td>\n",
       "      <td>9.607035</td>\n",
       "      <td>2.597298</td>\n",
       "      <td>10.512122</td>\n",
       "      <td>2.918421</td>\n",
       "      <td>133.320659</td>\n",
       "      <td>8.866996</td>\n",
       "      <td>7.322310</td>\n",
       "      <td>0.885588</td>\n",
       "      <td>8.200916</td>\n",
       "      <td>9.588862</td>\n",
       "      <td>10.114745</td>\n",
       "      <td>32.386836</td>\n",
       "      <td>16.303929</td>\n",
       "      <td>3.443398</td>\n",
       "      <td>7.533566</td>\n",
       "      <td>3.839637</td>\n",
       "      <td>1608.000064</td>\n",
       "      <td>-488.775525</td>\n",
       "      <td>1608.610983</td>\n",
       "      <td>-489.171786</td>\n",
       "      <td>1608.879407</td>\n",
       "      <td>-489.605549</td>\n",
       "      <td>1542.189963</td>\n",
       "      <td>-483.462423</td>\n",
       "      <td>4.038265e+04</td>\n",
       "      <td>3456.608298</td>\n",
       "      <td>3253.356387</td>\n",
       "      <td>2.367314</td>\n",
       "      <td>8.579195</td>\n",
       "      <td>3.522778</td>\n",
       "      <td>474.027714</td>\n",
       "      <td>60.110518</td>\n",
       "      <td>36.312593</td>\n",
       "      <td>7.866577</td>\n",
       "      <td>11.764931</td>\n",
       "      <td>5.854529</td>\n",
       "      <td>11.368685</td>\n",
       "      <td>5.894176</td>\n",
       "      <td>11.775812</td>\n",
       "      <td>7.664555</td>\n",
       "      <td>28.302715</td>\n",
       "      <td>19.439958</td>\n",
       "      <td>82.704502</td>\n",
       "      <td>5.567124</td>\n",
       "      <td>0.653277</td>\n",
       "      <td>17.882853</td>\n",
       "      <td>1.757473</td>\n",
       "      <td>1124.726280</td>\n",
       "      <td>-369.460950</td>\n",
       "      <td>1320.705069</td>\n",
       "      <td>-464.258983</td>\n",
       "      <td>1299.360578</td>\n",
       "      <td>-465.054849</td>\n",
       "      <td>1210.335236</td>\n",
       "      <td>-465.457377</td>\n",
       "      <td>1090.213187</td>\n",
       "      <td>-464.919119</td>\n",
       "      <td>1035.490299</td>\n",
       "      <td>-464.688631</td>\n",
       "      <td>14.281629</td>\n",
       "      <td>5.848863</td>\n",
       "      <td>6.938693</td>\n",
       "      <td>4.246961</td>\n",
       "      <td>29.613649</td>\n",
       "      <td>-502.223914</td>\n",
       "      <td>24.914403</td>\n",
       "      <td>-503.695706</td>\n",
       "      <td>29.243372</td>\n",
       "      <td>-478.244059</td>\n",
       "      <td>22.656261</td>\n",
       "      <td>-488.924046</td>\n",
       "      <td>19.985454</td>\n",
       "      <td>-478.696836</td>\n",
       "      <td>15.487065</td>\n",
       "      <td>-460.229416</td>\n",
       "      <td>16.775136</td>\n",
       "      <td>-483.956022</td>\n",
       "      <td>13.064590</td>\n",
       "      <td>-483.966564</td>\n",
       "      <td>19.577539</td>\n",
       "      <td>-506.798480</td>\n",
       "    </tr>\n",
       "    <tr>\n",
       "      <th>std</th>\n",
       "      <td>1.369586</td>\n",
       "      <td>1.654930</td>\n",
       "      <td>2.790516</td>\n",
       "      <td>4.905261</td>\n",
       "      <td>10.295402</td>\n",
       "      <td>2.319069</td>\n",
       "      <td>0.971843</td>\n",
       "      <td>3.003617</td>\n",
       "      <td>0.903712</td>\n",
       "      <td>39.431659</td>\n",
       "      <td>3.361589</td>\n",
       "      <td>0.614062</td>\n",
       "      <td>0.372714</td>\n",
       "      <td>2.005185</td>\n",
       "      <td>2.694296</td>\n",
       "      <td>4.064076</td>\n",
       "      <td>5.798843</td>\n",
       "      <td>3.739843</td>\n",
       "      <td>1.490106</td>\n",
       "      <td>2.133220</td>\n",
       "      <td>1.603544</td>\n",
       "      <td>128.394355</td>\n",
       "      <td>35.704184</td>\n",
       "      <td>131.112729</td>\n",
       "      <td>33.604449</td>\n",
       "      <td>134.266898</td>\n",
       "      <td>35.624002</td>\n",
       "      <td>278.316132</td>\n",
       "      <td>47.100934</td>\n",
       "      <td>3.801436e+05</td>\n",
       "      <td>5772.510248</td>\n",
       "      <td>6753.290662</td>\n",
       "      <td>0.873551</td>\n",
       "      <td>1.896284</td>\n",
       "      <td>1.073394</td>\n",
       "      <td>104.039838</td>\n",
       "      <td>22.418485</td>\n",
       "      <td>4.956057</td>\n",
       "      <td>1.919506</td>\n",
       "      <td>3.278813</td>\n",
       "      <td>1.104263</td>\n",
       "      <td>3.743672</td>\n",
       "      <td>1.124233</td>\n",
       "      <td>2.731747</td>\n",
       "      <td>1.856279</td>\n",
       "      <td>6.102982</td>\n",
       "      <td>3.765192</td>\n",
       "      <td>14.479156</td>\n",
       "      <td>1.039136</td>\n",
       "      <td>0.263766</td>\n",
       "      <td>3.432859</td>\n",
       "      <td>0.713187</td>\n",
       "      <td>169.310825</td>\n",
       "      <td>93.952787</td>\n",
       "      <td>183.155975</td>\n",
       "      <td>57.401954</td>\n",
       "      <td>213.404094</td>\n",
       "      <td>55.904716</td>\n",
       "      <td>210.431555</td>\n",
       "      <td>55.771393</td>\n",
       "      <td>184.610118</td>\n",
       "      <td>56.602962</td>\n",
       "      <td>175.052279</td>\n",
       "      <td>56.645965</td>\n",
       "      <td>4.477126</td>\n",
       "      <td>2.861799</td>\n",
       "      <td>4.155487</td>\n",
       "      <td>2.389060</td>\n",
       "      <td>5.800494</td>\n",
       "      <td>60.281705</td>\n",
       "      <td>5.994959</td>\n",
       "      <td>62.837357</td>\n",
       "      <td>5.637309</td>\n",
       "      <td>54.655143</td>\n",
       "      <td>4.996017</td>\n",
       "      <td>41.928112</td>\n",
       "      <td>5.657723</td>\n",
       "      <td>50.736021</td>\n",
       "      <td>5.255655</td>\n",
       "      <td>58.843586</td>\n",
       "      <td>5.831906</td>\n",
       "      <td>37.892788</td>\n",
       "      <td>5.765617</td>\n",
       "      <td>39.207913</td>\n",
       "      <td>5.764417</td>\n",
       "      <td>37.079249</td>\n",
       "    </tr>\n",
       "    <tr>\n",
       "      <th>min</th>\n",
       "      <td>0.000000</td>\n",
       "      <td>0.000000</td>\n",
       "      <td>0.000000</td>\n",
       "      <td>0.000000</td>\n",
       "      <td>0.000000</td>\n",
       "      <td>0.000000</td>\n",
       "      <td>0.000000</td>\n",
       "      <td>0.000000</td>\n",
       "      <td>0.000000</td>\n",
       "      <td>0.003112</td>\n",
       "      <td>0.000000</td>\n",
       "      <td>1.080000</td>\n",
       "      <td>0.000005</td>\n",
       "      <td>0.000000</td>\n",
       "      <td>0.000000</td>\n",
       "      <td>0.000000</td>\n",
       "      <td>0.000000</td>\n",
       "      <td>0.000000</td>\n",
       "      <td>0.000000</td>\n",
       "      <td>0.000000</td>\n",
       "      <td>0.000000</td>\n",
       "      <td>0.006352</td>\n",
       "      <td>-798.641662</td>\n",
       "      <td>0.008700</td>\n",
       "      <td>-740.122129</td>\n",
       "      <td>0.015159</td>\n",
       "      <td>-799.803073</td>\n",
       "      <td>0.008655</td>\n",
       "      <td>-799.788598</td>\n",
       "      <td>-4.223520e+07</td>\n",
       "      <td>-486.598675</td>\n",
       "      <td>-264.982785</td>\n",
       "      <td>-0.010548</td>\n",
       "      <td>0.010000</td>\n",
       "      <td>0.010000</td>\n",
       "      <td>0.012786</td>\n",
       "      <td>9.659576</td>\n",
       "      <td>0.010000</td>\n",
       "      <td>0.010000</td>\n",
       "      <td>0.001083</td>\n",
       "      <td>0.001428</td>\n",
       "      <td>0.000098</td>\n",
       "      <td>0.000290</td>\n",
       "      <td>0.000000</td>\n",
       "      <td>0.000000</td>\n",
       "      <td>0.000000</td>\n",
       "      <td>0.000000</td>\n",
       "      <td>0.000000</td>\n",
       "      <td>0.594562</td>\n",
       "      <td>0.007566</td>\n",
       "      <td>10.014648</td>\n",
       "      <td>0.020676</td>\n",
       "      <td>-0.041078</td>\n",
       "      <td>-650.202881</td>\n",
       "      <td>-0.653384</td>\n",
       "      <td>-650.260008</td>\n",
       "      <td>-0.035112</td>\n",
       "      <td>-640.995627</td>\n",
       "      <td>-0.554299</td>\n",
       "      <td>-640.519003</td>\n",
       "      <td>-1.970275</td>\n",
       "      <td>-649.443911</td>\n",
       "      <td>-2.430587</td>\n",
       "      <td>-649.880981</td>\n",
       "      <td>0.000000</td>\n",
       "      <td>0.000000</td>\n",
       "      <td>0.000000</td>\n",
       "      <td>0.000000</td>\n",
       "      <td>0.077503</td>\n",
       "      <td>-799.606441</td>\n",
       "      <td>0.000000</td>\n",
       "      <td>-799.873878</td>\n",
       "      <td>0.000000</td>\n",
       "      <td>-799.613013</td>\n",
       "      <td>0.000000</td>\n",
       "      <td>-759.177381</td>\n",
       "      <td>0.000000</td>\n",
       "      <td>-799.709069</td>\n",
       "      <td>0.000000</td>\n",
       "      <td>-799.889113</td>\n",
       "      <td>-0.372054</td>\n",
       "      <td>-797.142475</td>\n",
       "      <td>0.646208</td>\n",
       "      <td>-800.006180</td>\n",
       "      <td>0.195324</td>\n",
       "      <td>-809.398668</td>\n",
       "    </tr>\n",
       "    <tr>\n",
       "      <th>25%</th>\n",
       "      <td>4.211620</td>\n",
       "      <td>9.297355</td>\n",
       "      <td>7.484645</td>\n",
       "      <td>43.276111</td>\n",
       "      <td>62.545817</td>\n",
       "      <td>7.997429</td>\n",
       "      <td>1.905973</td>\n",
       "      <td>8.811324</td>\n",
       "      <td>2.368607</td>\n",
       "      <td>107.006651</td>\n",
       "      <td>6.040604</td>\n",
       "      <td>6.960000</td>\n",
       "      <td>0.607021</td>\n",
       "      <td>7.107126</td>\n",
       "      <td>8.333489</td>\n",
       "      <td>7.488139</td>\n",
       "      <td>30.857764</td>\n",
       "      <td>13.873147</td>\n",
       "      <td>2.420259</td>\n",
       "      <td>6.332548</td>\n",
       "      <td>2.867957</td>\n",
       "      <td>1595.695815</td>\n",
       "      <td>-500.287952</td>\n",
       "      <td>1558.959943</td>\n",
       "      <td>-500.375645</td>\n",
       "      <td>1549.871886</td>\n",
       "      <td>-500.601718</td>\n",
       "      <td>1452.678767</td>\n",
       "      <td>-500.459917</td>\n",
       "      <td>3.999430e+04</td>\n",
       "      <td>2527.093354</td>\n",
       "      <td>2512.200873</td>\n",
       "      <td>1.999588</td>\n",
       "      <td>7.132802</td>\n",
       "      <td>2.780010</td>\n",
       "      <td>420.781913</td>\n",
       "      <td>48.973027</td>\n",
       "      <td>34.117635</td>\n",
       "      <td>6.596217</td>\n",
       "      <td>9.861100</td>\n",
       "      <td>5.117359</td>\n",
       "      <td>9.505507</td>\n",
       "      <td>5.199168</td>\n",
       "      <td>10.486871</td>\n",
       "      <td>6.850501</td>\n",
       "      <td>26.703554</td>\n",
       "      <td>18.432161</td>\n",
       "      <td>79.993067</td>\n",
       "      <td>4.921647</td>\n",
       "      <td>0.474047</td>\n",
       "      <td>15.688727</td>\n",
       "      <td>1.310800</td>\n",
       "      <td>999.799166</td>\n",
       "      <td>-499.787867</td>\n",
       "      <td>1199.366448</td>\n",
       "      <td>-500.183028</td>\n",
       "      <td>1103.095071</td>\n",
       "      <td>-500.211863</td>\n",
       "      <td>1059.708509</td>\n",
       "      <td>-500.359197</td>\n",
       "      <td>997.183864</td>\n",
       "      <td>-500.250033</td>\n",
       "      <td>900.966986</td>\n",
       "      <td>-500.476526</td>\n",
       "      <td>12.177364</td>\n",
       "      <td>3.982298</td>\n",
       "      <td>3.225486</td>\n",
       "      <td>3.153122</td>\n",
       "      <td>25.099584</td>\n",
       "      <td>-500.248814</td>\n",
       "      <td>22.048294</td>\n",
       "      <td>-500.270997</td>\n",
       "      <td>24.991662</td>\n",
       "      <td>-500.175065</td>\n",
       "      <td>19.948436</td>\n",
       "      <td>-500.110581</td>\n",
       "      <td>14.990775</td>\n",
       "      <td>-500.628656</td>\n",
       "      <td>11.894558</td>\n",
       "      <td>-500.149000</td>\n",
       "      <td>11.083980</td>\n",
       "      <td>-500.363177</td>\n",
       "      <td>8.994405</td>\n",
       "      <td>-500.105994</td>\n",
       "      <td>14.989304</td>\n",
       "      <td>-500.745104</td>\n",
       "    </tr>\n",
       "    <tr>\n",
       "      <th>50%</th>\n",
       "      <td>4.994652</td>\n",
       "      <td>10.297144</td>\n",
       "      <td>8.845462</td>\n",
       "      <td>44.872436</td>\n",
       "      <td>67.432775</td>\n",
       "      <td>9.480270</td>\n",
       "      <td>2.592022</td>\n",
       "      <td>10.514621</td>\n",
       "      <td>2.851025</td>\n",
       "      <td>133.018328</td>\n",
       "      <td>8.035811</td>\n",
       "      <td>7.290000</td>\n",
       "      <td>0.888749</td>\n",
       "      <td>8.226247</td>\n",
       "      <td>9.933520</td>\n",
       "      <td>9.726566</td>\n",
       "      <td>33.225835</td>\n",
       "      <td>15.800604</td>\n",
       "      <td>3.218374</td>\n",
       "      <td>7.714419</td>\n",
       "      <td>3.510337</td>\n",
       "      <td>1601.824410</td>\n",
       "      <td>-499.909375</td>\n",
       "      <td>1601.818514</td>\n",
       "      <td>-499.938003</td>\n",
       "      <td>1601.574628</td>\n",
       "      <td>-499.871346</td>\n",
       "      <td>1600.168346</td>\n",
       "      <td>-499.831833</td>\n",
       "      <td>4.368431e+04</td>\n",
       "      <td>2975.892211</td>\n",
       "      <td>2899.807724</td>\n",
       "      <td>2.249275</td>\n",
       "      <td>8.156092</td>\n",
       "      <td>3.422677</td>\n",
       "      <td>499.454777</td>\n",
       "      <td>55.373885</td>\n",
       "      <td>37.020345</td>\n",
       "      <td>7.649138</td>\n",
       "      <td>11.688702</td>\n",
       "      <td>5.951071</td>\n",
       "      <td>11.384283</td>\n",
       "      <td>5.998460</td>\n",
       "      <td>11.747362</td>\n",
       "      <td>7.760435</td>\n",
       "      <td>29.257545</td>\n",
       "      <td>19.947312</td>\n",
       "      <td>85.299462</td>\n",
       "      <td>5.722018</td>\n",
       "      <td>0.625805</td>\n",
       "      <td>18.015894</td>\n",
       "      <td>1.745513</td>\n",
       "      <td>1001.685708</td>\n",
       "      <td>-300.175125</td>\n",
       "      <td>1301.365123</td>\n",
       "      <td>-499.764620</td>\n",
       "      <td>1300.213385</td>\n",
       "      <td>-499.682528</td>\n",
       "      <td>1200.744308</td>\n",
       "      <td>-499.465285</td>\n",
       "      <td>1050.496363</td>\n",
       "      <td>-499.611447</td>\n",
       "      <td>1000.053757</td>\n",
       "      <td>-499.364335</td>\n",
       "      <td>15.357951</td>\n",
       "      <td>5.442310</td>\n",
       "      <td>7.302639</td>\n",
       "      <td>3.980210</td>\n",
       "      <td>30.027721</td>\n",
       "      <td>-499.959206</td>\n",
       "      <td>27.022783</td>\n",
       "      <td>-500.014092</td>\n",
       "      <td>28.016530</td>\n",
       "      <td>-499.877837</td>\n",
       "      <td>22.037270</td>\n",
       "      <td>-499.966809</td>\n",
       "      <td>20.001789</td>\n",
       "      <td>-499.681450</td>\n",
       "      <td>14.975536</td>\n",
       "      <td>-499.388738</td>\n",
       "      <td>17.932223</td>\n",
       "      <td>-499.702452</td>\n",
       "      <td>11.997547</td>\n",
       "      <td>-499.914556</td>\n",
       "      <td>19.984175</td>\n",
       "      <td>-500.061431</td>\n",
       "    </tr>\n",
       "    <tr>\n",
       "      <th>75%</th>\n",
       "      <td>5.859540</td>\n",
       "      <td>11.170603</td>\n",
       "      <td>10.487508</td>\n",
       "      <td>46.166425</td>\n",
       "      <td>72.346428</td>\n",
       "      <td>11.003707</td>\n",
       "      <td>3.241723</td>\n",
       "      <td>11.933009</td>\n",
       "      <td>3.434764</td>\n",
       "      <td>159.825396</td>\n",
       "      <td>11.522173</td>\n",
       "      <td>7.700000</td>\n",
       "      <td>1.100933</td>\n",
       "      <td>9.504924</td>\n",
       "      <td>11.310817</td>\n",
       "      <td>13.052807</td>\n",
       "      <td>35.330145</td>\n",
       "      <td>18.450109</td>\n",
       "      <td>4.253218</td>\n",
       "      <td>8.910664</td>\n",
       "      <td>4.492470</td>\n",
       "      <td>1699.716408</td>\n",
       "      <td>-499.378551</td>\n",
       "      <td>1700.215351</td>\n",
       "      <td>-499.389658</td>\n",
       "      <td>1700.464037</td>\n",
       "      <td>-498.801774</td>\n",
       "      <td>1699.358771</td>\n",
       "      <td>-498.480341</td>\n",
       "      <td>4.776041e+04</td>\n",
       "      <td>3716.360822</td>\n",
       "      <td>3596.534806</td>\n",
       "      <td>2.660896</td>\n",
       "      <td>9.918304</td>\n",
       "      <td>4.226107</td>\n",
       "      <td>547.334973</td>\n",
       "      <td>66.080172</td>\n",
       "      <td>39.423265</td>\n",
       "      <td>9.066976</td>\n",
       "      <td>13.607115</td>\n",
       "      <td>6.602533</td>\n",
       "      <td>13.497134</td>\n",
       "      <td>6.699006</td>\n",
       "      <td>13.426419</td>\n",
       "      <td>8.601927</td>\n",
       "      <td>31.743913</td>\n",
       "      <td>21.392714</td>\n",
       "      <td>90.165021</td>\n",
       "      <td>6.310633</td>\n",
       "      <td>0.794326</td>\n",
       "      <td>19.938672</td>\n",
       "      <td>2.186790</td>\n",
       "      <td>1299.505513</td>\n",
       "      <td>-299.963153</td>\n",
       "      <td>1449.553689</td>\n",
       "      <td>-400.425493</td>\n",
       "      <td>1450.350668</td>\n",
       "      <td>-400.664736</td>\n",
       "      <td>1344.378462</td>\n",
       "      <td>-401.052891</td>\n",
       "      <td>1200.047746</td>\n",
       "      <td>-400.596104</td>\n",
       "      <td>1100.165435</td>\n",
       "      <td>-401.014951</td>\n",
       "      <td>17.230151</td>\n",
       "      <td>7.797948</td>\n",
       "      <td>10.547068</td>\n",
       "      <td>4.883943</td>\n",
       "      <td>34.893057</td>\n",
       "      <td>-499.593198</td>\n",
       "      <td>28.939454</td>\n",
       "      <td>-499.764112</td>\n",
       "      <td>34.990095</td>\n",
       "      <td>-436.923166</td>\n",
       "      <td>25.970365</td>\n",
       "      <td>-499.757501</td>\n",
       "      <td>24.990826</td>\n",
       "      <td>-477.472413</td>\n",
       "      <td>20.059375</td>\n",
       "      <td>-400.039008</td>\n",
       "      <td>21.346550</td>\n",
       "      <td>-487.712108</td>\n",
       "      <td>17.982903</td>\n",
       "      <td>-453.186936</td>\n",
       "      <td>24.991623</td>\n",
       "      <td>-499.536466</td>\n",
       "    </tr>\n",
       "    <tr>\n",
       "      <th>max</th>\n",
       "      <td>16.001945</td>\n",
       "      <td>17.031899</td>\n",
       "      <td>18.124851</td>\n",
       "      <td>52.756638</td>\n",
       "      <td>100.000000</td>\n",
       "      <td>19.552149</td>\n",
       "      <td>5.639565</td>\n",
       "      <td>22.317730</td>\n",
       "      <td>8.197408</td>\n",
       "      <td>250.127834</td>\n",
       "      <td>20.052255</td>\n",
       "      <td>10.470000</td>\n",
       "      <td>2.512968</td>\n",
       "      <td>16.081632</td>\n",
       "      <td>17.081278</td>\n",
       "      <td>22.280845</td>\n",
       "      <td>45.933934</td>\n",
       "      <td>29.459575</td>\n",
       "      <td>9.634565</td>\n",
       "      <td>20.620833</td>\n",
       "      <td>17.788925</td>\n",
       "      <td>2079.531340</td>\n",
       "      <td>-330.134203</td>\n",
       "      <td>2114.906758</td>\n",
       "      <td>-347.354380</td>\n",
       "      <td>2013.156457</td>\n",
       "      <td>-346.653450</td>\n",
       "      <td>2398.903635</td>\n",
       "      <td>-30.601828</td>\n",
       "      <td>3.428099e+06</td>\n",
       "      <td>629638.977914</td>\n",
       "      <td>718684.955855</td>\n",
       "      <td>39.379272</td>\n",
       "      <td>14.596026</td>\n",
       "      <td>7.142594</td>\n",
       "      <td>717.508837</td>\n",
       "      <td>484.967466</td>\n",
       "      <td>48.363177</td>\n",
       "      <td>13.126043</td>\n",
       "      <td>36.118275</td>\n",
       "      <td>9.703448</td>\n",
       "      <td>37.980648</td>\n",
       "      <td>9.698407</td>\n",
       "      <td>24.480271</td>\n",
       "      <td>13.617072</td>\n",
       "      <td>38.351193</td>\n",
       "      <td>28.146838</td>\n",
       "      <td>100.000000</td>\n",
       "      <td>12.719177</td>\n",
       "      <td>3.778064</td>\n",
       "      <td>66.117188</td>\n",
       "      <td>9.688980</td>\n",
       "      <td>1521.980372</td>\n",
       "      <td>-281.039299</td>\n",
       "      <td>1809.194008</td>\n",
       "      <td>-296.383080</td>\n",
       "      <td>2499.129174</td>\n",
       "      <td>-292.155509</td>\n",
       "      <td>1817.199290</td>\n",
       "      <td>-208.330673</td>\n",
       "      <td>1922.636637</td>\n",
       "      <td>-272.199598</td>\n",
       "      <td>1706.307502</td>\n",
       "      <td>-191.718480</td>\n",
       "      <td>23.264738</td>\n",
       "      <td>17.042505</td>\n",
       "      <td>17.976171</td>\n",
       "      <td>26.811643</td>\n",
       "      <td>52.651399</td>\n",
       "      <td>-127.875565</td>\n",
       "      <td>35.152122</td>\n",
       "      <td>-212.064665</td>\n",
       "      <td>44.260464</td>\n",
       "      <td>-191.678810</td>\n",
       "      <td>35.072841</td>\n",
       "      <td>-159.742331</td>\n",
       "      <td>30.115735</td>\n",
       "      <td>-245.239184</td>\n",
       "      <td>24.007913</td>\n",
       "      <td>-145.071088</td>\n",
       "      <td>43.709931</td>\n",
       "      <td>-275.073125</td>\n",
       "      <td>27.926001</td>\n",
       "      <td>-157.396071</td>\n",
       "      <td>32.188906</td>\n",
       "      <td>-104.427459</td>\n",
       "    </tr>\n",
       "  </tbody>\n",
       "</table>\n",
       "</div>"
      ],
      "text/plain": [
       "       final.output.concentrate_ag  final.output.concentrate_pb  \\\n",
       "count                 14148.000000                 14148.000000   \n",
       "mean                      5.142034                    10.132960   \n",
       "std                       1.369586                     1.654930   \n",
       "min                       0.000000                     0.000000   \n",
       "25%                       4.211620                     9.297355   \n",
       "50%                       4.994652                    10.297144   \n",
       "75%                       5.859540                    11.170603   \n",
       "max                      16.001945                    17.031899   \n",
       "\n",
       "       final.output.concentrate_sol  final.output.concentrate_au  \\\n",
       "count                  13938.000000                 14149.000000   \n",
       "mean                       9.202849                    44.003792   \n",
       "std                        2.790516                     4.905261   \n",
       "min                        0.000000                     0.000000   \n",
       "25%                        7.484645                    43.276111   \n",
       "50%                        8.845462                    44.872436   \n",
       "75%                       10.487508                    46.166425   \n",
       "max                       18.124851                    52.756638   \n",
       "\n",
       "       final.output.recovery  final.output.tail_ag  final.output.tail_pb  \\\n",
       "count           14149.000000          14149.000000          14049.000000   \n",
       "mean               66.518832              9.607035              2.597298   \n",
       "std                10.295402              2.319069              0.971843   \n",
       "min                 0.000000              0.000000              0.000000   \n",
       "25%                62.545817              7.997429              1.905973   \n",
       "50%                67.432775              9.480270              2.592022   \n",
       "75%                72.346428             11.003707              3.241723   \n",
       "max               100.000000             19.552149              5.639565   \n",
       "\n",
       "       final.output.tail_sol  final.output.tail_au  \\\n",
       "count           14144.000000          14149.000000   \n",
       "mean               10.512122              2.918421   \n",
       "std                 3.003617              0.903712   \n",
       "min                 0.000000              0.000000   \n",
       "25%                 8.811324              2.368607   \n",
       "50%                10.514621              2.851025   \n",
       "75%                11.933009              3.434764   \n",
       "max                22.317730              8.197408   \n",
       "\n",
       "       primary_cleaner.input.sulfate  primary_cleaner.input.depressant  \\\n",
       "count                   14129.000000                      14117.000000   \n",
       "mean                      133.320659                          8.866996   \n",
       "std                        39.431659                          3.361589   \n",
       "min                         0.003112                          0.000000   \n",
       "25%                       107.006651                          6.040604   \n",
       "50%                       133.018328                          8.035811   \n",
       "75%                       159.825396                         11.522173   \n",
       "max                       250.127834                         20.052255   \n",
       "\n",
       "       primary_cleaner.input.feed_size  primary_cleaner.input.xanthate  \\\n",
       "count                     14149.000000                    14049.000000   \n",
       "mean                          7.322310                        0.885588   \n",
       "std                           0.614062                        0.372714   \n",
       "min                           1.080000                        0.000005   \n",
       "25%                           6.960000                        0.607021   \n",
       "50%                           7.290000                        0.888749   \n",
       "75%                           7.700000                        1.100933   \n",
       "max                          10.470000                        2.512968   \n",
       "\n",
       "       primary_cleaner.output.concentrate_ag  \\\n",
       "count                           14149.000000   \n",
       "mean                                8.200916   \n",
       "std                                 2.005185   \n",
       "min                                 0.000000   \n",
       "25%                                 7.107126   \n",
       "50%                                 8.226247   \n",
       "75%                                 9.504924   \n",
       "max                                16.081632   \n",
       "\n",
       "       primary_cleaner.output.concentrate_pb  \\\n",
       "count                           14063.000000   \n",
       "mean                                9.588862   \n",
       "std                                 2.694296   \n",
       "min                                 0.000000   \n",
       "25%                                 8.333489   \n",
       "50%                                 9.933520   \n",
       "75%                                11.310817   \n",
       "max                                17.081278   \n",
       "\n",
       "       primary_cleaner.output.concentrate_sol  \\\n",
       "count                            13863.000000   \n",
       "mean                                10.114745   \n",
       "std                                  4.064076   \n",
       "min                                  0.000000   \n",
       "25%                                  7.488139   \n",
       "50%                                  9.726566   \n",
       "75%                                 13.052807   \n",
       "max                                 22.280845   \n",
       "\n",
       "       primary_cleaner.output.concentrate_au  primary_cleaner.output.tail_ag  \\\n",
       "count                           14149.000000                    14148.000000   \n",
       "mean                               32.386836                       16.303929   \n",
       "std                                 5.798843                        3.739843   \n",
       "min                                 0.000000                        0.000000   \n",
       "25%                                30.857764                       13.873147   \n",
       "50%                                33.225835                       15.800604   \n",
       "75%                                35.330145                       18.450109   \n",
       "max                                45.933934                       29.459575   \n",
       "\n",
       "       primary_cleaner.output.tail_pb  primary_cleaner.output.tail_sol  \\\n",
       "count                    14134.000000                     14103.000000   \n",
       "mean                         3.443398                         7.533566   \n",
       "std                          1.490106                         2.133220   \n",
       "min                          0.000000                         0.000000   \n",
       "25%                          2.420259                         6.332548   \n",
       "50%                          3.218374                         7.714419   \n",
       "75%                          4.253218                         8.910664   \n",
       "max                          9.634565                        20.620833   \n",
       "\n",
       "       primary_cleaner.output.tail_au  primary_cleaner.state.floatbank8_a_air  \\\n",
       "count                    14149.000000                            14145.000000   \n",
       "mean                         3.839637                             1608.000064   \n",
       "std                          1.603544                              128.394355   \n",
       "min                          0.000000                                0.006352   \n",
       "25%                          2.867957                             1595.695815   \n",
       "50%                          3.510337                             1601.824410   \n",
       "75%                          4.492470                             1699.716408   \n",
       "max                         17.788925                             2079.531340   \n",
       "\n",
       "       primary_cleaner.state.floatbank8_a_level  \\\n",
       "count                              14148.000000   \n",
       "mean                                -488.775525   \n",
       "std                                   35.704184   \n",
       "min                                 -798.641662   \n",
       "25%                                 -500.287952   \n",
       "50%                                 -499.909375   \n",
       "75%                                 -499.378551   \n",
       "max                                 -330.134203   \n",
       "\n",
       "       primary_cleaner.state.floatbank8_b_air  \\\n",
       "count                            14145.000000   \n",
       "mean                              1608.610983   \n",
       "std                                131.112729   \n",
       "min                                  0.008700   \n",
       "25%                               1558.959943   \n",
       "50%                               1601.818514   \n",
       "75%                               1700.215351   \n",
       "max                               2114.906758   \n",
       "\n",
       "       primary_cleaner.state.floatbank8_b_level  \\\n",
       "count                              14148.000000   \n",
       "mean                                -489.171786   \n",
       "std                                   33.604449   \n",
       "min                                 -740.122129   \n",
       "25%                                 -500.375645   \n",
       "50%                                 -499.938003   \n",
       "75%                                 -499.389658   \n",
       "max                                 -347.354380   \n",
       "\n",
       "       primary_cleaner.state.floatbank8_c_air  \\\n",
       "count                            14147.000000   \n",
       "mean                              1608.879407   \n",
       "std                                134.266898   \n",
       "min                                  0.015159   \n",
       "25%                               1549.871886   \n",
       "50%                               1601.574628   \n",
       "75%                               1700.464037   \n",
       "max                               2013.156457   \n",
       "\n",
       "       primary_cleaner.state.floatbank8_c_level  \\\n",
       "count                              14148.000000   \n",
       "mean                                -489.605549   \n",
       "std                                   35.624002   \n",
       "min                                 -799.803073   \n",
       "25%                                 -500.601718   \n",
       "50%                                 -499.871346   \n",
       "75%                                 -498.801774   \n",
       "max                                 -346.653450   \n",
       "\n",
       "       primary_cleaner.state.floatbank8_d_air  \\\n",
       "count                            14146.000000   \n",
       "mean                              1542.189963   \n",
       "std                                278.316132   \n",
       "min                                  0.008655   \n",
       "25%                               1452.678767   \n",
       "50%                               1600.168346   \n",
       "75%                               1699.358771   \n",
       "max                               2398.903635   \n",
       "\n",
       "       primary_cleaner.state.floatbank8_d_level  \\\n",
       "count                              14148.000000   \n",
       "mean                                -483.462423   \n",
       "std                                   47.100934   \n",
       "min                                 -799.788598   \n",
       "25%                                 -500.459917   \n",
       "50%                                 -499.831833   \n",
       "75%                                 -498.480341   \n",
       "max                                  -30.601828   \n",
       "\n",
       "       rougher.calculation.sulfate_to_au_concentrate  \\\n",
       "count                                   1.414800e+04   \n",
       "mean                                    4.038265e+04   \n",
       "std                                     3.801436e+05   \n",
       "min                                    -4.223520e+07   \n",
       "25%                                     3.999430e+04   \n",
       "50%                                     4.368431e+04   \n",
       "75%                                     4.776041e+04   \n",
       "max                                     3.428099e+06   \n",
       "\n",
       "       rougher.calculation.floatbank10_sulfate_to_au_feed  \\\n",
       "count                                       14148.000000    \n",
       "mean                                         3456.608298    \n",
       "std                                          5772.510248    \n",
       "min                                          -486.598675    \n",
       "25%                                          2527.093354    \n",
       "50%                                          2975.892211    \n",
       "75%                                          3716.360822    \n",
       "max                                        629638.977914    \n",
       "\n",
       "       rougher.calculation.floatbank11_sulfate_to_au_feed  \\\n",
       "count                                       14148.000000    \n",
       "mean                                         3253.356387    \n",
       "std                                          6753.290662    \n",
       "min                                          -264.982785    \n",
       "25%                                          2512.200873    \n",
       "50%                                          2899.807724    \n",
       "75%                                          3596.534806    \n",
       "max                                        718684.955855    \n",
       "\n",
       "       rougher.calculation.au_pb_ratio  rougher.input.feed_ag  \\\n",
       "count                     14149.000000           14149.000000   \n",
       "mean                          2.367314               8.579195   \n",
       "std                           0.873551               1.896284   \n",
       "min                          -0.010548               0.010000   \n",
       "25%                           1.999588               7.132802   \n",
       "50%                           2.249275               8.156092   \n",
       "75%                           2.660896               9.918304   \n",
       "max                          39.379272              14.596026   \n",
       "\n",
       "       rougher.input.feed_pb  rougher.input.feed_rate  \\\n",
       "count           14049.000000             14141.000000   \n",
       "mean                3.522778               474.027714   \n",
       "std                 1.073394               104.039838   \n",
       "min                 0.010000                 0.012786   \n",
       "25%                 2.780010               420.781913   \n",
       "50%                 3.422677               499.454777   \n",
       "75%                 4.226107               547.334973   \n",
       "max                 7.142594               717.508837   \n",
       "\n",
       "       rougher.input.feed_size  rougher.input.feed_sol  rougher.input.feed_au  \\\n",
       "count             14005.000000            14071.000000           14149.000000   \n",
       "mean                 60.110518               36.312593               7.866577   \n",
       "std                  22.418485                4.956057               1.919506   \n",
       "min                   9.659576                0.010000               0.010000   \n",
       "25%                  48.973027               34.117635               6.596217   \n",
       "50%                  55.373885               37.020345               7.649138   \n",
       "75%                  66.080172               39.423265               9.066976   \n",
       "max                 484.967466               48.363177              13.126043   \n",
       "\n",
       "       rougher.input.floatbank10_sulfate  rougher.input.floatbank10_xanthate  \\\n",
       "count                       14120.000000                        14141.000000   \n",
       "mean                           11.764931                            5.854529   \n",
       "std                             3.278813                            1.104263   \n",
       "min                             0.001083                            0.001428   \n",
       "25%                             9.861100                            5.117359   \n",
       "50%                            11.688702                            5.951071   \n",
       "75%                            13.607115                            6.602533   \n",
       "max                            36.118275                            9.703448   \n",
       "\n",
       "       rougher.input.floatbank11_sulfate  rougher.input.floatbank11_xanthate  \\\n",
       "count                       14113.000000                        13721.000000   \n",
       "mean                           11.368685                            5.894176   \n",
       "std                             3.743672                            1.124233   \n",
       "min                             0.000098                            0.000290   \n",
       "25%                             9.505507                            5.199168   \n",
       "50%                            11.384283                            5.998460   \n",
       "75%                            13.497134                            6.699006   \n",
       "max                            37.980648                            9.698407   \n",
       "\n",
       "       rougher.output.concentrate_ag  rougher.output.concentrate_pb  \\\n",
       "count                   14149.000000                   14149.000000   \n",
       "mean                       11.775812                       7.664555   \n",
       "std                         2.731747                       1.856279   \n",
       "min                         0.000000                       0.000000   \n",
       "25%                        10.486871                       6.850501   \n",
       "50%                        11.747362                       7.760435   \n",
       "75%                        13.426419                       8.601927   \n",
       "max                        24.480271                      13.617072   \n",
       "\n",
       "       rougher.output.concentrate_sol  rougher.output.concentrate_au  \\\n",
       "count                    14127.000000                   14149.000000   \n",
       "mean                        28.302715                      19.439958   \n",
       "std                          6.102982                       3.765192   \n",
       "min                          0.000000                       0.000000   \n",
       "25%                         26.703554                      18.432161   \n",
       "50%                         29.257545                      19.947312   \n",
       "75%                         31.743913                      21.392714   \n",
       "max                         38.351193                      28.146838   \n",
       "\n",
       "       rougher.output.recovery  rougher.output.tail_ag  \\\n",
       "count             14149.000000            14148.000000   \n",
       "mean                 82.704502                5.567124   \n",
       "std                  14.479156                1.039136   \n",
       "min                   0.000000                0.594562   \n",
       "25%                  79.993067                4.921647   \n",
       "50%                  85.299462                5.722018   \n",
       "75%                  90.165021                6.310633   \n",
       "max                 100.000000               12.719177   \n",
       "\n",
       "       rougher.output.tail_pb  rougher.output.tail_sol  \\\n",
       "count            14149.000000             14149.000000   \n",
       "mean                 0.653277                17.882853   \n",
       "std                  0.263766                 3.432859   \n",
       "min                  0.007566                10.014648   \n",
       "25%                  0.474047                15.688727   \n",
       "50%                  0.625805                18.015894   \n",
       "75%                  0.794326                19.938672   \n",
       "max                  3.778064                66.117188   \n",
       "\n",
       "       rougher.output.tail_au  rougher.state.floatbank10_a_air  \\\n",
       "count            14149.000000                     14148.000000   \n",
       "mean                 1.757473                      1124.726280   \n",
       "std                  0.713187                       169.310825   \n",
       "min                  0.020676                        -0.041078   \n",
       "25%                  1.310800                       999.799166   \n",
       "50%                  1.745513                      1001.685708   \n",
       "75%                  2.186790                      1299.505513   \n",
       "max                  9.688980                      1521.980372   \n",
       "\n",
       "       rougher.state.floatbank10_a_level  rougher.state.floatbank10_b_air  \\\n",
       "count                       14148.000000                     14148.000000   \n",
       "mean                         -369.460950                      1320.705069   \n",
       "std                            93.952787                       183.155975   \n",
       "min                          -650.202881                        -0.653384   \n",
       "25%                          -499.787867                      1199.366448   \n",
       "50%                          -300.175125                      1301.365123   \n",
       "75%                          -299.963153                      1449.553689   \n",
       "max                          -281.039299                      1809.194008   \n",
       "\n",
       "       rougher.state.floatbank10_b_level  rougher.state.floatbank10_c_air  \\\n",
       "count                       14148.000000                     14148.000000   \n",
       "mean                         -464.258983                      1299.360578   \n",
       "std                            57.401954                       213.404094   \n",
       "min                          -650.260008                        -0.035112   \n",
       "25%                          -500.183028                      1103.095071   \n",
       "50%                          -499.764620                      1300.213385   \n",
       "75%                          -400.425493                      1450.350668   \n",
       "max                          -296.383080                      2499.129174   \n",
       "\n",
       "       rougher.state.floatbank10_c_level  rougher.state.floatbank10_d_air  \\\n",
       "count                       14148.000000                     14149.000000   \n",
       "mean                         -465.054849                      1210.335236   \n",
       "std                            55.904716                       210.431555   \n",
       "min                          -640.995627                        -0.554299   \n",
       "25%                          -500.211863                      1059.708509   \n",
       "50%                          -499.682528                      1200.744308   \n",
       "75%                          -400.664736                      1344.378462   \n",
       "max                          -292.155509                      1817.199290   \n",
       "\n",
       "       rougher.state.floatbank10_d_level  rougher.state.floatbank10_e_air  \\\n",
       "count                       14149.000000                     13713.000000   \n",
       "mean                         -465.457377                      1090.213187   \n",
       "std                            55.771393                       184.610118   \n",
       "min                          -640.519003                        -1.970275   \n",
       "25%                          -500.359197                       997.183864   \n",
       "50%                          -499.465285                      1050.496363   \n",
       "75%                          -401.052891                      1200.047746   \n",
       "max                          -208.330673                      1922.636637   \n",
       "\n",
       "       rougher.state.floatbank10_e_level  rougher.state.floatbank10_f_air  \\\n",
       "count                       14149.000000                     14149.000000   \n",
       "mean                         -464.919119                      1035.490299   \n",
       "std                            56.602962                       175.052279   \n",
       "min                          -649.443911                        -2.430587   \n",
       "25%                          -500.250033                       900.966986   \n",
       "50%                          -499.611447                      1000.053757   \n",
       "75%                          -400.596104                      1100.165435   \n",
       "max                          -272.199598                      1706.307502   \n",
       "\n",
       "       rougher.state.floatbank10_f_level  secondary_cleaner.output.tail_ag  \\\n",
       "count                       14149.000000                      14147.000000   \n",
       "mean                         -464.688631                         14.281629   \n",
       "std                            56.645965                          4.477126   \n",
       "min                          -649.880981                          0.000000   \n",
       "25%                          -500.476526                         12.177364   \n",
       "50%                          -499.364335                         15.357951   \n",
       "75%                          -401.014951                         17.230151   \n",
       "max                          -191.718480                         23.264738   \n",
       "\n",
       "       secondary_cleaner.output.tail_pb  secondary_cleaner.output.tail_sol  \\\n",
       "count                      14139.000000                       12544.000000   \n",
       "mean                           5.848863                           6.938693   \n",
       "std                            2.861799                           4.155487   \n",
       "min                            0.000000                           0.000000   \n",
       "25%                            3.982298                           3.225486   \n",
       "50%                            5.442310                           7.302639   \n",
       "75%                            7.797948                          10.547068   \n",
       "max                           17.042505                          17.976171   \n",
       "\n",
       "       secondary_cleaner.output.tail_au  \\\n",
       "count                      14149.000000   \n",
       "mean                           4.246961   \n",
       "std                            2.389060   \n",
       "min                            0.000000   \n",
       "25%                            3.153122   \n",
       "50%                            3.980210   \n",
       "75%                            4.883943   \n",
       "max                           26.811643   \n",
       "\n",
       "       secondary_cleaner.state.floatbank2_a_air  \\\n",
       "count                              13932.000000   \n",
       "mean                                  29.613649   \n",
       "std                                    5.800494   \n",
       "min                                    0.077503   \n",
       "25%                                   25.099584   \n",
       "50%                                   30.027721   \n",
       "75%                                   34.893057   \n",
       "max                                   52.651399   \n",
       "\n",
       "       secondary_cleaner.state.floatbank2_a_level  \\\n",
       "count                                14148.000000   \n",
       "mean                                  -502.223914   \n",
       "std                                     60.281705   \n",
       "min                                   -799.606441   \n",
       "25%                                   -500.248814   \n",
       "50%                                   -499.959206   \n",
       "75%                                   -499.593198   \n",
       "max                                   -127.875565   \n",
       "\n",
       "       secondary_cleaner.state.floatbank2_b_air  \\\n",
       "count                              14128.000000   \n",
       "mean                                  24.914403   \n",
       "std                                    5.994959   \n",
       "min                                    0.000000   \n",
       "25%                                   22.048294   \n",
       "50%                                   27.022783   \n",
       "75%                                   28.939454   \n",
       "max                                   35.152122   \n",
       "\n",
       "       secondary_cleaner.state.floatbank2_b_level  \\\n",
       "count                                14148.000000   \n",
       "mean                                  -503.695706   \n",
       "std                                     62.837357   \n",
       "min                                   -799.873878   \n",
       "25%                                   -500.270997   \n",
       "50%                                   -500.014092   \n",
       "75%                                   -499.764112   \n",
       "max                                   -212.064665   \n",
       "\n",
       "       secondary_cleaner.state.floatbank3_a_air  \\\n",
       "count                              14145.000000   \n",
       "mean                                  29.243372   \n",
       "std                                    5.637309   \n",
       "min                                    0.000000   \n",
       "25%                                   24.991662   \n",
       "50%                                   28.016530   \n",
       "75%                                   34.990095   \n",
       "max                                   44.260464   \n",
       "\n",
       "       secondary_cleaner.state.floatbank3_a_level  \\\n",
       "count                                14148.000000   \n",
       "mean                                  -478.244059   \n",
       "std                                     54.655143   \n",
       "min                                   -799.613013   \n",
       "25%                                   -500.175065   \n",
       "50%                                   -499.877837   \n",
       "75%                                   -436.923166   \n",
       "max                                   -191.678810   \n",
       "\n",
       "       secondary_cleaner.state.floatbank3_b_air  \\\n",
       "count                              14148.000000   \n",
       "mean                                  22.656261   \n",
       "std                                    4.996017   \n",
       "min                                    0.000000   \n",
       "25%                                   19.948436   \n",
       "50%                                   22.037270   \n",
       "75%                                   25.970365   \n",
       "max                                   35.072841   \n",
       "\n",
       "       secondary_cleaner.state.floatbank3_b_level  \\\n",
       "count                                14148.000000   \n",
       "mean                                  -488.924046   \n",
       "std                                     41.928112   \n",
       "min                                   -759.177381   \n",
       "25%                                   -500.110581   \n",
       "50%                                   -499.966809   \n",
       "75%                                   -499.757501   \n",
       "max                                   -159.742331   \n",
       "\n",
       "       secondary_cleaner.state.floatbank4_a_air  \\\n",
       "count                              14143.000000   \n",
       "mean                                  19.985454   \n",
       "std                                    5.657723   \n",
       "min                                    0.000000   \n",
       "25%                                   14.990775   \n",
       "50%                                   20.001789   \n",
       "75%                                   24.990826   \n",
       "max                                   30.115735   \n",
       "\n",
       "       secondary_cleaner.state.floatbank4_a_level  \\\n",
       "count                                14148.000000   \n",
       "mean                                  -478.696836   \n",
       "std                                     50.736021   \n",
       "min                                   -799.709069   \n",
       "25%                                   -500.628656   \n",
       "50%                                   -499.681450   \n",
       "75%                                   -477.472413   \n",
       "max                                   -245.239184   \n",
       "\n",
       "       secondary_cleaner.state.floatbank4_b_air  \\\n",
       "count                              14148.000000   \n",
       "mean                                  15.487065   \n",
       "std                                    5.255655   \n",
       "min                                    0.000000   \n",
       "25%                                   11.894558   \n",
       "50%                                   14.975536   \n",
       "75%                                   20.059375   \n",
       "max                                   24.007913   \n",
       "\n",
       "       secondary_cleaner.state.floatbank4_b_level  \\\n",
       "count                                14148.000000   \n",
       "mean                                  -460.229416   \n",
       "std                                     58.843586   \n",
       "min                                   -799.889113   \n",
       "25%                                   -500.149000   \n",
       "50%                                   -499.388738   \n",
       "75%                                   -400.039008   \n",
       "max                                   -145.071088   \n",
       "\n",
       "       secondary_cleaner.state.floatbank5_a_air  \\\n",
       "count                              14148.000000   \n",
       "mean                                  16.775136   \n",
       "std                                    5.831906   \n",
       "min                                   -0.372054   \n",
       "25%                                   11.083980   \n",
       "50%                                   17.932223   \n",
       "75%                                   21.346550   \n",
       "max                                   43.709931   \n",
       "\n",
       "       secondary_cleaner.state.floatbank5_a_level  \\\n",
       "count                                14148.000000   \n",
       "mean                                  -483.956022   \n",
       "std                                     37.892788   \n",
       "min                                   -797.142475   \n",
       "25%                                   -500.363177   \n",
       "50%                                   -499.702452   \n",
       "75%                                   -487.712108   \n",
       "max                                   -275.073125   \n",
       "\n",
       "       secondary_cleaner.state.floatbank5_b_air  \\\n",
       "count                              14148.000000   \n",
       "mean                                  13.064590   \n",
       "std                                    5.765617   \n",
       "min                                    0.646208   \n",
       "25%                                    8.994405   \n",
       "50%                                   11.997547   \n",
       "75%                                   17.982903   \n",
       "max                                   27.926001   \n",
       "\n",
       "       secondary_cleaner.state.floatbank5_b_level  \\\n",
       "count                                14148.000000   \n",
       "mean                                  -483.966564   \n",
       "std                                     39.207913   \n",
       "min                                   -800.006180   \n",
       "25%                                   -500.105994   \n",
       "50%                                   -499.914556   \n",
       "75%                                   -453.186936   \n",
       "max                                   -157.396071   \n",
       "\n",
       "       secondary_cleaner.state.floatbank6_a_air  \\\n",
       "count                              14147.000000   \n",
       "mean                                  19.577539   \n",
       "std                                    5.764417   \n",
       "min                                    0.195324   \n",
       "25%                                   14.989304   \n",
       "50%                                   19.984175   \n",
       "75%                                   24.991623   \n",
       "max                                   32.188906   \n",
       "\n",
       "       secondary_cleaner.state.floatbank6_a_level  \n",
       "count                                14148.000000  \n",
       "mean                                  -506.798480  \n",
       "std                                     37.079249  \n",
       "min                                   -809.398668  \n",
       "25%                                   -500.745104  \n",
       "50%                                   -500.061431  \n",
       "75%                                   -499.536466  \n",
       "max                                   -104.427459  "
      ]
     },
     "metadata": {},
     "output_type": "display_data"
    },
    {
     "name": "stdout",
     "output_type": "stream",
     "text": [
      "\n",
      "Полных дубликатов: 0\n",
      "\n"
     ]
    },
    {
     "data": {
      "text/html": [
       "<style  type=\"text/css\" >\n",
       "#T_9916c_row0_col0,#T_9916c_row1_col0,#T_9916c_row3_col0,#T_9916c_row4_col0,#T_9916c_row5_col0,#T_9916c_row7_col0,#T_9916c_row8_col0,#T_9916c_row11_col0,#T_9916c_row13_col0,#T_9916c_row16_col0,#T_9916c_row17_col0,#T_9916c_row20_col0,#T_9916c_row21_col0,#T_9916c_row22_col0,#T_9916c_row23_col0,#T_9916c_row24_col0,#T_9916c_row25_col0,#T_9916c_row26_col0,#T_9916c_row27_col0,#T_9916c_row28_col0,#T_9916c_row29_col0,#T_9916c_row30_col0,#T_9916c_row31_col0,#T_9916c_row32_col0,#T_9916c_row33_col0,#T_9916c_row38_col0,#T_9916c_row43_col0,#T_9916c_row44_col0,#T_9916c_row46_col0,#T_9916c_row47_col0,#T_9916c_row48_col0,#T_9916c_row49_col0,#T_9916c_row50_col0,#T_9916c_row51_col0,#T_9916c_row52_col0,#T_9916c_row53_col0,#T_9916c_row54_col0,#T_9916c_row55_col0,#T_9916c_row56_col0,#T_9916c_row57_col0,#T_9916c_row58_col0,#T_9916c_row59_col0,#T_9916c_row61_col0,#T_9916c_row62_col0,#T_9916c_row63_col0,#T_9916c_row64_col0,#T_9916c_row67_col0,#T_9916c_row69_col0,#T_9916c_row71_col0,#T_9916c_row72_col0,#T_9916c_row73_col0,#T_9916c_row74_col0,#T_9916c_row75_col0,#T_9916c_row76_col0,#T_9916c_row77_col0,#T_9916c_row78_col0,#T_9916c_row79_col0,#T_9916c_row80_col0,#T_9916c_row81_col0,#T_9916c_row82_col0,#T_9916c_row83_col0,#T_9916c_row84_col0,#T_9916c_row85_col0{\n",
       "            background-color:  #3b4cc0;\n",
       "            color:  #f1f1f1;\n",
       "        }#T_9916c_row2_col0{\n",
       "            background-color:  #6384eb;\n",
       "            color:  #000000;\n",
       "        }#T_9916c_row6_col0,#T_9916c_row12_col0,#T_9916c_row34_col0{\n",
       "            background-color:  #4e68d8;\n",
       "            color:  #000000;\n",
       "        }#T_9916c_row9_col0,#T_9916c_row45_col0,#T_9916c_row70_col0{\n",
       "            background-color:  #3e51c5;\n",
       "            color:  #f1f1f1;\n",
       "        }#T_9916c_row10_col0,#T_9916c_row41_col0{\n",
       "            background-color:  #4055c8;\n",
       "            color:  #f1f1f1;\n",
       "        }#T_9916c_row14_col0{\n",
       "            background-color:  #4a63d3;\n",
       "            color:  #f1f1f1;\n",
       "        }#T_9916c_row15_col0{\n",
       "            background-color:  #7396f5;\n",
       "            color:  #000000;\n",
       "        }#T_9916c_row18_col0{\n",
       "            background-color:  #3d50c3;\n",
       "            color:  #f1f1f1;\n",
       "        }#T_9916c_row19_col0{\n",
       "            background-color:  #4358cb;\n",
       "            color:  #f1f1f1;\n",
       "        }#T_9916c_row35_col0,#T_9916c_row40_col0,#T_9916c_row65_col0{\n",
       "            background-color:  #3c4ec2;\n",
       "            color:  #f1f1f1;\n",
       "        }#T_9916c_row36_col0{\n",
       "            background-color:  #5673e0;\n",
       "            color:  #000000;\n",
       "        }#T_9916c_row37_col0{\n",
       "            background-color:  #4961d2;\n",
       "            color:  #f1f1f1;\n",
       "        }#T_9916c_row39_col0{\n",
       "            background-color:  #3f53c6;\n",
       "            color:  #f1f1f1;\n",
       "        }#T_9916c_row42_col0{\n",
       "            background-color:  #93b5fe;\n",
       "            color:  #000000;\n",
       "        }#T_9916c_row60_col0{\n",
       "            background-color:  #94b6ff;\n",
       "            color:  #000000;\n",
       "        }#T_9916c_row66_col0{\n",
       "            background-color:  #b40426;\n",
       "            color:  #f1f1f1;\n",
       "        }#T_9916c_row68_col0{\n",
       "            background-color:  #6485ec;\n",
       "            color:  #000000;\n",
       "        }</style><table id=\"T_9916c_\" ><thead>    <tr>        <th class=\"blank level0\" ></th>        <th class=\"col_heading level0 col0\" >0</th>    </tr></thead><tbody>\n",
       "                <tr>\n",
       "                        <th id=\"T_9916c_level0_row0\" class=\"row_heading level0 row0\" >final.output.concentrate_ag</th>\n",
       "                        <td id=\"T_9916c_row0_col0\" class=\"data row0 col0\" >0.010000</td>\n",
       "            </tr>\n",
       "            <tr>\n",
       "                        <th id=\"T_9916c_level0_row1\" class=\"row_heading level0 row1\" >final.output.concentrate_pb</th>\n",
       "                        <td id=\"T_9916c_row1_col0\" class=\"data row1 col0\" >0.010000</td>\n",
       "            </tr>\n",
       "            <tr>\n",
       "                        <th id=\"T_9916c_level0_row2\" class=\"row_heading level0 row2\" >final.output.concentrate_sol</th>\n",
       "                        <td id=\"T_9916c_row2_col0\" class=\"data row2 col0\" >1.490000</td>\n",
       "            </tr>\n",
       "            <tr>\n",
       "                        <th id=\"T_9916c_level0_row3\" class=\"row_heading level0 row3\" >final.output.concentrate_au</th>\n",
       "                        <td id=\"T_9916c_row3_col0\" class=\"data row3 col0\" >0.000000</td>\n",
       "            </tr>\n",
       "            <tr>\n",
       "                        <th id=\"T_9916c_level0_row4\" class=\"row_heading level0 row4\" >final.output.recovery</th>\n",
       "                        <td id=\"T_9916c_row4_col0\" class=\"data row4 col0\" >0.000000</td>\n",
       "            </tr>\n",
       "            <tr>\n",
       "                        <th id=\"T_9916c_level0_row5\" class=\"row_heading level0 row5\" >final.output.tail_ag</th>\n",
       "                        <td id=\"T_9916c_row5_col0\" class=\"data row5 col0\" >0.000000</td>\n",
       "            </tr>\n",
       "            <tr>\n",
       "                        <th id=\"T_9916c_level0_row6\" class=\"row_heading level0 row6\" >final.output.tail_pb</th>\n",
       "                        <td id=\"T_9916c_row6_col0\" class=\"data row6 col0\" >0.710000</td>\n",
       "            </tr>\n",
       "            <tr>\n",
       "                        <th id=\"T_9916c_level0_row7\" class=\"row_heading level0 row7\" >final.output.tail_sol</th>\n",
       "                        <td id=\"T_9916c_row7_col0\" class=\"data row7 col0\" >0.040000</td>\n",
       "            </tr>\n",
       "            <tr>\n",
       "                        <th id=\"T_9916c_level0_row8\" class=\"row_heading level0 row8\" >final.output.tail_au</th>\n",
       "                        <td id=\"T_9916c_row8_col0\" class=\"data row8 col0\" >0.000000</td>\n",
       "            </tr>\n",
       "            <tr>\n",
       "                        <th id=\"T_9916c_level0_row9\" class=\"row_heading level0 row9\" >primary_cleaner.input.sulfate</th>\n",
       "                        <td id=\"T_9916c_row9_col0\" class=\"data row9 col0\" >0.140000</td>\n",
       "            </tr>\n",
       "            <tr>\n",
       "                        <th id=\"T_9916c_level0_row10\" class=\"row_heading level0 row10\" >primary_cleaner.input.depressant</th>\n",
       "                        <td id=\"T_9916c_row10_col0\" class=\"data row10 col0\" >0.230000</td>\n",
       "            </tr>\n",
       "            <tr>\n",
       "                        <th id=\"T_9916c_level0_row11\" class=\"row_heading level0 row11\" >primary_cleaner.input.feed_size</th>\n",
       "                        <td id=\"T_9916c_row11_col0\" class=\"data row11 col0\" >0.000000</td>\n",
       "            </tr>\n",
       "            <tr>\n",
       "                        <th id=\"T_9916c_level0_row12\" class=\"row_heading level0 row12\" >primary_cleaner.input.xanthate</th>\n",
       "                        <td id=\"T_9916c_row12_col0\" class=\"data row12 col0\" >0.710000</td>\n",
       "            </tr>\n",
       "            <tr>\n",
       "                        <th id=\"T_9916c_level0_row13\" class=\"row_heading level0 row13\" >primary_cleaner.output.concentrate_ag</th>\n",
       "                        <td id=\"T_9916c_row13_col0\" class=\"data row13 col0\" >0.000000</td>\n",
       "            </tr>\n",
       "            <tr>\n",
       "                        <th id=\"T_9916c_level0_row14\" class=\"row_heading level0 row14\" >primary_cleaner.output.concentrate_pb</th>\n",
       "                        <td id=\"T_9916c_row14_col0\" class=\"data row14 col0\" >0.610000</td>\n",
       "            </tr>\n",
       "            <tr>\n",
       "                        <th id=\"T_9916c_level0_row15\" class=\"row_heading level0 row15\" >primary_cleaner.output.concentrate_sol</th>\n",
       "                        <td id=\"T_9916c_row15_col0\" class=\"data row15 col0\" >2.020000</td>\n",
       "            </tr>\n",
       "            <tr>\n",
       "                        <th id=\"T_9916c_level0_row16\" class=\"row_heading level0 row16\" >primary_cleaner.output.concentrate_au</th>\n",
       "                        <td id=\"T_9916c_row16_col0\" class=\"data row16 col0\" >0.000000</td>\n",
       "            </tr>\n",
       "            <tr>\n",
       "                        <th id=\"T_9916c_level0_row17\" class=\"row_heading level0 row17\" >primary_cleaner.output.tail_ag</th>\n",
       "                        <td id=\"T_9916c_row17_col0\" class=\"data row17 col0\" >0.010000</td>\n",
       "            </tr>\n",
       "            <tr>\n",
       "                        <th id=\"T_9916c_level0_row18\" class=\"row_heading level0 row18\" >primary_cleaner.output.tail_pb</th>\n",
       "                        <td id=\"T_9916c_row18_col0\" class=\"data row18 col0\" >0.110000</td>\n",
       "            </tr>\n",
       "            <tr>\n",
       "                        <th id=\"T_9916c_level0_row19\" class=\"row_heading level0 row19\" >primary_cleaner.output.tail_sol</th>\n",
       "                        <td id=\"T_9916c_row19_col0\" class=\"data row19 col0\" >0.330000</td>\n",
       "            </tr>\n",
       "            <tr>\n",
       "                        <th id=\"T_9916c_level0_row20\" class=\"row_heading level0 row20\" >primary_cleaner.output.tail_au</th>\n",
       "                        <td id=\"T_9916c_row20_col0\" class=\"data row20 col0\" >0.000000</td>\n",
       "            </tr>\n",
       "            <tr>\n",
       "                        <th id=\"T_9916c_level0_row21\" class=\"row_heading level0 row21\" >primary_cleaner.state.floatbank8_a_air</th>\n",
       "                        <td id=\"T_9916c_row21_col0\" class=\"data row21 col0\" >0.030000</td>\n",
       "            </tr>\n",
       "            <tr>\n",
       "                        <th id=\"T_9916c_level0_row22\" class=\"row_heading level0 row22\" >primary_cleaner.state.floatbank8_a_level</th>\n",
       "                        <td id=\"T_9916c_row22_col0\" class=\"data row22 col0\" >0.010000</td>\n",
       "            </tr>\n",
       "            <tr>\n",
       "                        <th id=\"T_9916c_level0_row23\" class=\"row_heading level0 row23\" >primary_cleaner.state.floatbank8_b_air</th>\n",
       "                        <td id=\"T_9916c_row23_col0\" class=\"data row23 col0\" >0.030000</td>\n",
       "            </tr>\n",
       "            <tr>\n",
       "                        <th id=\"T_9916c_level0_row24\" class=\"row_heading level0 row24\" >primary_cleaner.state.floatbank8_b_level</th>\n",
       "                        <td id=\"T_9916c_row24_col0\" class=\"data row24 col0\" >0.010000</td>\n",
       "            </tr>\n",
       "            <tr>\n",
       "                        <th id=\"T_9916c_level0_row25\" class=\"row_heading level0 row25\" >primary_cleaner.state.floatbank8_c_air</th>\n",
       "                        <td id=\"T_9916c_row25_col0\" class=\"data row25 col0\" >0.010000</td>\n",
       "            </tr>\n",
       "            <tr>\n",
       "                        <th id=\"T_9916c_level0_row26\" class=\"row_heading level0 row26\" >primary_cleaner.state.floatbank8_c_level</th>\n",
       "                        <td id=\"T_9916c_row26_col0\" class=\"data row26 col0\" >0.010000</td>\n",
       "            </tr>\n",
       "            <tr>\n",
       "                        <th id=\"T_9916c_level0_row27\" class=\"row_heading level0 row27\" >primary_cleaner.state.floatbank8_d_air</th>\n",
       "                        <td id=\"T_9916c_row27_col0\" class=\"data row27 col0\" >0.020000</td>\n",
       "            </tr>\n",
       "            <tr>\n",
       "                        <th id=\"T_9916c_level0_row28\" class=\"row_heading level0 row28\" >primary_cleaner.state.floatbank8_d_level</th>\n",
       "                        <td id=\"T_9916c_row28_col0\" class=\"data row28 col0\" >0.010000</td>\n",
       "            </tr>\n",
       "            <tr>\n",
       "                        <th id=\"T_9916c_level0_row29\" class=\"row_heading level0 row29\" >rougher.calculation.sulfate_to_au_concentrate</th>\n",
       "                        <td id=\"T_9916c_row29_col0\" class=\"data row29 col0\" >0.010000</td>\n",
       "            </tr>\n",
       "            <tr>\n",
       "                        <th id=\"T_9916c_level0_row30\" class=\"row_heading level0 row30\" >rougher.calculation.floatbank10_sulfate_to_au_feed</th>\n",
       "                        <td id=\"T_9916c_row30_col0\" class=\"data row30 col0\" >0.010000</td>\n",
       "            </tr>\n",
       "            <tr>\n",
       "                        <th id=\"T_9916c_level0_row31\" class=\"row_heading level0 row31\" >rougher.calculation.floatbank11_sulfate_to_au_feed</th>\n",
       "                        <td id=\"T_9916c_row31_col0\" class=\"data row31 col0\" >0.010000</td>\n",
       "            </tr>\n",
       "            <tr>\n",
       "                        <th id=\"T_9916c_level0_row32\" class=\"row_heading level0 row32\" >rougher.calculation.au_pb_ratio</th>\n",
       "                        <td id=\"T_9916c_row32_col0\" class=\"data row32 col0\" >0.000000</td>\n",
       "            </tr>\n",
       "            <tr>\n",
       "                        <th id=\"T_9916c_level0_row33\" class=\"row_heading level0 row33\" >rougher.input.feed_ag</th>\n",
       "                        <td id=\"T_9916c_row33_col0\" class=\"data row33 col0\" >0.000000</td>\n",
       "            </tr>\n",
       "            <tr>\n",
       "                        <th id=\"T_9916c_level0_row34\" class=\"row_heading level0 row34\" >rougher.input.feed_pb</th>\n",
       "                        <td id=\"T_9916c_row34_col0\" class=\"data row34 col0\" >0.710000</td>\n",
       "            </tr>\n",
       "            <tr>\n",
       "                        <th id=\"T_9916c_level0_row35\" class=\"row_heading level0 row35\" >rougher.input.feed_rate</th>\n",
       "                        <td id=\"T_9916c_row35_col0\" class=\"data row35 col0\" >0.060000</td>\n",
       "            </tr>\n",
       "            <tr>\n",
       "                        <th id=\"T_9916c_level0_row36\" class=\"row_heading level0 row36\" >rougher.input.feed_size</th>\n",
       "                        <td id=\"T_9916c_row36_col0\" class=\"data row36 col0\" >1.020000</td>\n",
       "            </tr>\n",
       "            <tr>\n",
       "                        <th id=\"T_9916c_level0_row37\" class=\"row_heading level0 row37\" >rougher.input.feed_sol</th>\n",
       "                        <td id=\"T_9916c_row37_col0\" class=\"data row37 col0\" >0.550000</td>\n",
       "            </tr>\n",
       "            <tr>\n",
       "                        <th id=\"T_9916c_level0_row38\" class=\"row_heading level0 row38\" >rougher.input.feed_au</th>\n",
       "                        <td id=\"T_9916c_row38_col0\" class=\"data row38 col0\" >0.000000</td>\n",
       "            </tr>\n",
       "            <tr>\n",
       "                        <th id=\"T_9916c_level0_row39\" class=\"row_heading level0 row39\" >rougher.input.floatbank10_sulfate</th>\n",
       "                        <td id=\"T_9916c_row39_col0\" class=\"data row39 col0\" >0.200000</td>\n",
       "            </tr>\n",
       "            <tr>\n",
       "                        <th id=\"T_9916c_level0_row40\" class=\"row_heading level0 row40\" >rougher.input.floatbank10_xanthate</th>\n",
       "                        <td id=\"T_9916c_row40_col0\" class=\"data row40 col0\" >0.060000</td>\n",
       "            </tr>\n",
       "            <tr>\n",
       "                        <th id=\"T_9916c_level0_row41\" class=\"row_heading level0 row41\" >rougher.input.floatbank11_sulfate</th>\n",
       "                        <td id=\"T_9916c_row41_col0\" class=\"data row41 col0\" >0.250000</td>\n",
       "            </tr>\n",
       "            <tr>\n",
       "                        <th id=\"T_9916c_level0_row42\" class=\"row_heading level0 row42\" >rougher.input.floatbank11_xanthate</th>\n",
       "                        <td id=\"T_9916c_row42_col0\" class=\"data row42 col0\" >3.020000</td>\n",
       "            </tr>\n",
       "            <tr>\n",
       "                        <th id=\"T_9916c_level0_row43\" class=\"row_heading level0 row43\" >rougher.output.concentrate_ag</th>\n",
       "                        <td id=\"T_9916c_row43_col0\" class=\"data row43 col0\" >0.000000</td>\n",
       "            </tr>\n",
       "            <tr>\n",
       "                        <th id=\"T_9916c_level0_row44\" class=\"row_heading level0 row44\" >rougher.output.concentrate_pb</th>\n",
       "                        <td id=\"T_9916c_row44_col0\" class=\"data row44 col0\" >0.000000</td>\n",
       "            </tr>\n",
       "            <tr>\n",
       "                        <th id=\"T_9916c_level0_row45\" class=\"row_heading level0 row45\" >rougher.output.concentrate_sol</th>\n",
       "                        <td id=\"T_9916c_row45_col0\" class=\"data row45 col0\" >0.160000</td>\n",
       "            </tr>\n",
       "            <tr>\n",
       "                        <th id=\"T_9916c_level0_row46\" class=\"row_heading level0 row46\" >rougher.output.concentrate_au</th>\n",
       "                        <td id=\"T_9916c_row46_col0\" class=\"data row46 col0\" >0.000000</td>\n",
       "            </tr>\n",
       "            <tr>\n",
       "                        <th id=\"T_9916c_level0_row47\" class=\"row_heading level0 row47\" >rougher.output.recovery</th>\n",
       "                        <td id=\"T_9916c_row47_col0\" class=\"data row47 col0\" >0.000000</td>\n",
       "            </tr>\n",
       "            <tr>\n",
       "                        <th id=\"T_9916c_level0_row48\" class=\"row_heading level0 row48\" >rougher.output.tail_ag</th>\n",
       "                        <td id=\"T_9916c_row48_col0\" class=\"data row48 col0\" >0.010000</td>\n",
       "            </tr>\n",
       "            <tr>\n",
       "                        <th id=\"T_9916c_level0_row49\" class=\"row_heading level0 row49\" >rougher.output.tail_pb</th>\n",
       "                        <td id=\"T_9916c_row49_col0\" class=\"data row49 col0\" >0.000000</td>\n",
       "            </tr>\n",
       "            <tr>\n",
       "                        <th id=\"T_9916c_level0_row50\" class=\"row_heading level0 row50\" >rougher.output.tail_sol</th>\n",
       "                        <td id=\"T_9916c_row50_col0\" class=\"data row50 col0\" >0.000000</td>\n",
       "            </tr>\n",
       "            <tr>\n",
       "                        <th id=\"T_9916c_level0_row51\" class=\"row_heading level0 row51\" >rougher.output.tail_au</th>\n",
       "                        <td id=\"T_9916c_row51_col0\" class=\"data row51 col0\" >0.000000</td>\n",
       "            </tr>\n",
       "            <tr>\n",
       "                        <th id=\"T_9916c_level0_row52\" class=\"row_heading level0 row52\" >rougher.state.floatbank10_a_air</th>\n",
       "                        <td id=\"T_9916c_row52_col0\" class=\"data row52 col0\" >0.010000</td>\n",
       "            </tr>\n",
       "            <tr>\n",
       "                        <th id=\"T_9916c_level0_row53\" class=\"row_heading level0 row53\" >rougher.state.floatbank10_a_level</th>\n",
       "                        <td id=\"T_9916c_row53_col0\" class=\"data row53 col0\" >0.010000</td>\n",
       "            </tr>\n",
       "            <tr>\n",
       "                        <th id=\"T_9916c_level0_row54\" class=\"row_heading level0 row54\" >rougher.state.floatbank10_b_air</th>\n",
       "                        <td id=\"T_9916c_row54_col0\" class=\"data row54 col0\" >0.010000</td>\n",
       "            </tr>\n",
       "            <tr>\n",
       "                        <th id=\"T_9916c_level0_row55\" class=\"row_heading level0 row55\" >rougher.state.floatbank10_b_level</th>\n",
       "                        <td id=\"T_9916c_row55_col0\" class=\"data row55 col0\" >0.010000</td>\n",
       "            </tr>\n",
       "            <tr>\n",
       "                        <th id=\"T_9916c_level0_row56\" class=\"row_heading level0 row56\" >rougher.state.floatbank10_c_air</th>\n",
       "                        <td id=\"T_9916c_row56_col0\" class=\"data row56 col0\" >0.010000</td>\n",
       "            </tr>\n",
       "            <tr>\n",
       "                        <th id=\"T_9916c_level0_row57\" class=\"row_heading level0 row57\" >rougher.state.floatbank10_c_level</th>\n",
       "                        <td id=\"T_9916c_row57_col0\" class=\"data row57 col0\" >0.010000</td>\n",
       "            </tr>\n",
       "            <tr>\n",
       "                        <th id=\"T_9916c_level0_row58\" class=\"row_heading level0 row58\" >rougher.state.floatbank10_d_air</th>\n",
       "                        <td id=\"T_9916c_row58_col0\" class=\"data row58 col0\" >0.000000</td>\n",
       "            </tr>\n",
       "            <tr>\n",
       "                        <th id=\"T_9916c_level0_row59\" class=\"row_heading level0 row59\" >rougher.state.floatbank10_d_level</th>\n",
       "                        <td id=\"T_9916c_row59_col0\" class=\"data row59 col0\" >0.000000</td>\n",
       "            </tr>\n",
       "            <tr>\n",
       "                        <th id=\"T_9916c_level0_row60\" class=\"row_heading level0 row60\" >rougher.state.floatbank10_e_air</th>\n",
       "                        <td id=\"T_9916c_row60_col0\" class=\"data row60 col0\" >3.080000</td>\n",
       "            </tr>\n",
       "            <tr>\n",
       "                        <th id=\"T_9916c_level0_row61\" class=\"row_heading level0 row61\" >rougher.state.floatbank10_e_level</th>\n",
       "                        <td id=\"T_9916c_row61_col0\" class=\"data row61 col0\" >0.000000</td>\n",
       "            </tr>\n",
       "            <tr>\n",
       "                        <th id=\"T_9916c_level0_row62\" class=\"row_heading level0 row62\" >rougher.state.floatbank10_f_air</th>\n",
       "                        <td id=\"T_9916c_row62_col0\" class=\"data row62 col0\" >0.000000</td>\n",
       "            </tr>\n",
       "            <tr>\n",
       "                        <th id=\"T_9916c_level0_row63\" class=\"row_heading level0 row63\" >rougher.state.floatbank10_f_level</th>\n",
       "                        <td id=\"T_9916c_row63_col0\" class=\"data row63 col0\" >0.000000</td>\n",
       "            </tr>\n",
       "            <tr>\n",
       "                        <th id=\"T_9916c_level0_row64\" class=\"row_heading level0 row64\" >secondary_cleaner.output.tail_ag</th>\n",
       "                        <td id=\"T_9916c_row64_col0\" class=\"data row64 col0\" >0.010000</td>\n",
       "            </tr>\n",
       "            <tr>\n",
       "                        <th id=\"T_9916c_level0_row65\" class=\"row_heading level0 row65\" >secondary_cleaner.output.tail_pb</th>\n",
       "                        <td id=\"T_9916c_row65_col0\" class=\"data row65 col0\" >0.070000</td>\n",
       "            </tr>\n",
       "            <tr>\n",
       "                        <th id=\"T_9916c_level0_row66\" class=\"row_heading level0 row66\" >secondary_cleaner.output.tail_sol</th>\n",
       "                        <td id=\"T_9916c_row66_col0\" class=\"data row66 col0\" >11.340000</td>\n",
       "            </tr>\n",
       "            <tr>\n",
       "                        <th id=\"T_9916c_level0_row67\" class=\"row_heading level0 row67\" >secondary_cleaner.output.tail_au</th>\n",
       "                        <td id=\"T_9916c_row67_col0\" class=\"data row67 col0\" >0.000000</td>\n",
       "            </tr>\n",
       "            <tr>\n",
       "                        <th id=\"T_9916c_level0_row68\" class=\"row_heading level0 row68\" >secondary_cleaner.state.floatbank2_a_air</th>\n",
       "                        <td id=\"T_9916c_row68_col0\" class=\"data row68 col0\" >1.530000</td>\n",
       "            </tr>\n",
       "            <tr>\n",
       "                        <th id=\"T_9916c_level0_row69\" class=\"row_heading level0 row69\" >secondary_cleaner.state.floatbank2_a_level</th>\n",
       "                        <td id=\"T_9916c_row69_col0\" class=\"data row69 col0\" >0.010000</td>\n",
       "            </tr>\n",
       "            <tr>\n",
       "                        <th id=\"T_9916c_level0_row70\" class=\"row_heading level0 row70\" >secondary_cleaner.state.floatbank2_b_air</th>\n",
       "                        <td id=\"T_9916c_row70_col0\" class=\"data row70 col0\" >0.150000</td>\n",
       "            </tr>\n",
       "            <tr>\n",
       "                        <th id=\"T_9916c_level0_row71\" class=\"row_heading level0 row71\" >secondary_cleaner.state.floatbank2_b_level</th>\n",
       "                        <td id=\"T_9916c_row71_col0\" class=\"data row71 col0\" >0.010000</td>\n",
       "            </tr>\n",
       "            <tr>\n",
       "                        <th id=\"T_9916c_level0_row72\" class=\"row_heading level0 row72\" >secondary_cleaner.state.floatbank3_a_air</th>\n",
       "                        <td id=\"T_9916c_row72_col0\" class=\"data row72 col0\" >0.030000</td>\n",
       "            </tr>\n",
       "            <tr>\n",
       "                        <th id=\"T_9916c_level0_row73\" class=\"row_heading level0 row73\" >secondary_cleaner.state.floatbank3_a_level</th>\n",
       "                        <td id=\"T_9916c_row73_col0\" class=\"data row73 col0\" >0.010000</td>\n",
       "            </tr>\n",
       "            <tr>\n",
       "                        <th id=\"T_9916c_level0_row74\" class=\"row_heading level0 row74\" >secondary_cleaner.state.floatbank3_b_air</th>\n",
       "                        <td id=\"T_9916c_row74_col0\" class=\"data row74 col0\" >0.010000</td>\n",
       "            </tr>\n",
       "            <tr>\n",
       "                        <th id=\"T_9916c_level0_row75\" class=\"row_heading level0 row75\" >secondary_cleaner.state.floatbank3_b_level</th>\n",
       "                        <td id=\"T_9916c_row75_col0\" class=\"data row75 col0\" >0.010000</td>\n",
       "            </tr>\n",
       "            <tr>\n",
       "                        <th id=\"T_9916c_level0_row76\" class=\"row_heading level0 row76\" >secondary_cleaner.state.floatbank4_a_air</th>\n",
       "                        <td id=\"T_9916c_row76_col0\" class=\"data row76 col0\" >0.040000</td>\n",
       "            </tr>\n",
       "            <tr>\n",
       "                        <th id=\"T_9916c_level0_row77\" class=\"row_heading level0 row77\" >secondary_cleaner.state.floatbank4_a_level</th>\n",
       "                        <td id=\"T_9916c_row77_col0\" class=\"data row77 col0\" >0.010000</td>\n",
       "            </tr>\n",
       "            <tr>\n",
       "                        <th id=\"T_9916c_level0_row78\" class=\"row_heading level0 row78\" >secondary_cleaner.state.floatbank4_b_air</th>\n",
       "                        <td id=\"T_9916c_row78_col0\" class=\"data row78 col0\" >0.010000</td>\n",
       "            </tr>\n",
       "            <tr>\n",
       "                        <th id=\"T_9916c_level0_row79\" class=\"row_heading level0 row79\" >secondary_cleaner.state.floatbank4_b_level</th>\n",
       "                        <td id=\"T_9916c_row79_col0\" class=\"data row79 col0\" >0.010000</td>\n",
       "            </tr>\n",
       "            <tr>\n",
       "                        <th id=\"T_9916c_level0_row80\" class=\"row_heading level0 row80\" >secondary_cleaner.state.floatbank5_a_air</th>\n",
       "                        <td id=\"T_9916c_row80_col0\" class=\"data row80 col0\" >0.010000</td>\n",
       "            </tr>\n",
       "            <tr>\n",
       "                        <th id=\"T_9916c_level0_row81\" class=\"row_heading level0 row81\" >secondary_cleaner.state.floatbank5_a_level</th>\n",
       "                        <td id=\"T_9916c_row81_col0\" class=\"data row81 col0\" >0.010000</td>\n",
       "            </tr>\n",
       "            <tr>\n",
       "                        <th id=\"T_9916c_level0_row82\" class=\"row_heading level0 row82\" >secondary_cleaner.state.floatbank5_b_air</th>\n",
       "                        <td id=\"T_9916c_row82_col0\" class=\"data row82 col0\" >0.010000</td>\n",
       "            </tr>\n",
       "            <tr>\n",
       "                        <th id=\"T_9916c_level0_row83\" class=\"row_heading level0 row83\" >secondary_cleaner.state.floatbank5_b_level</th>\n",
       "                        <td id=\"T_9916c_row83_col0\" class=\"data row83 col0\" >0.010000</td>\n",
       "            </tr>\n",
       "            <tr>\n",
       "                        <th id=\"T_9916c_level0_row84\" class=\"row_heading level0 row84\" >secondary_cleaner.state.floatbank6_a_air</th>\n",
       "                        <td id=\"T_9916c_row84_col0\" class=\"data row84 col0\" >0.010000</td>\n",
       "            </tr>\n",
       "            <tr>\n",
       "                        <th id=\"T_9916c_level0_row85\" class=\"row_heading level0 row85\" >secondary_cleaner.state.floatbank6_a_level</th>\n",
       "                        <td id=\"T_9916c_row85_col0\" class=\"data row85 col0\" >0.010000</td>\n",
       "            </tr>\n",
       "    </tbody></table>"
      ],
      "text/plain": [
       "<pandas.io.formats.style.Styler at 0x7f6c1e6f3a90>"
      ]
     },
     "execution_count": 6,
     "metadata": {},
     "output_type": "execute_result"
    }
   ],
   "source": [
    "description(gold_train)"
   ]
  },
  {
   "cell_type": "markdown",
   "metadata": {},
   "source": [
    "Датасет gold_train содержит  86 строк и 14150 строк. Данные в подходящам для дальнейшего исследрвания формате. Ряд колонок содержит пропуски. Дубликотов не выявленно."
   ]
  },
  {
   "cell_type": "code",
   "execution_count": 7,
   "metadata": {
    "scrolled": true
   },
   "outputs": [
    {
     "data": {
      "text/html": [
       "<div>\n",
       "<style scoped>\n",
       "    .dataframe tbody tr th:only-of-type {\n",
       "        vertical-align: middle;\n",
       "    }\n",
       "\n",
       "    .dataframe tbody tr th {\n",
       "        vertical-align: top;\n",
       "    }\n",
       "\n",
       "    .dataframe thead th {\n",
       "        text-align: right;\n",
       "    }\n",
       "</style>\n",
       "<table border=\"1\" class=\"dataframe\">\n",
       "  <thead>\n",
       "    <tr style=\"text-align: right;\">\n",
       "      <th></th>\n",
       "      <th>primary_cleaner.input.sulfate</th>\n",
       "      <th>primary_cleaner.input.depressant</th>\n",
       "      <th>primary_cleaner.input.feed_size</th>\n",
       "      <th>primary_cleaner.input.xanthate</th>\n",
       "      <th>primary_cleaner.state.floatbank8_a_air</th>\n",
       "      <th>primary_cleaner.state.floatbank8_a_level</th>\n",
       "      <th>primary_cleaner.state.floatbank8_b_air</th>\n",
       "      <th>primary_cleaner.state.floatbank8_b_level</th>\n",
       "      <th>primary_cleaner.state.floatbank8_c_air</th>\n",
       "      <th>primary_cleaner.state.floatbank8_c_level</th>\n",
       "      <th>primary_cleaner.state.floatbank8_d_air</th>\n",
       "      <th>primary_cleaner.state.floatbank8_d_level</th>\n",
       "      <th>rougher.input.feed_ag</th>\n",
       "      <th>rougher.input.feed_pb</th>\n",
       "      <th>rougher.input.feed_rate</th>\n",
       "      <th>rougher.input.feed_size</th>\n",
       "      <th>rougher.input.feed_sol</th>\n",
       "      <th>rougher.input.feed_au</th>\n",
       "      <th>rougher.input.floatbank10_sulfate</th>\n",
       "      <th>rougher.input.floatbank10_xanthate</th>\n",
       "      <th>rougher.input.floatbank11_sulfate</th>\n",
       "      <th>rougher.input.floatbank11_xanthate</th>\n",
       "      <th>rougher.state.floatbank10_a_air</th>\n",
       "      <th>rougher.state.floatbank10_a_level</th>\n",
       "      <th>rougher.state.floatbank10_b_air</th>\n",
       "      <th>rougher.state.floatbank10_b_level</th>\n",
       "      <th>rougher.state.floatbank10_c_air</th>\n",
       "      <th>rougher.state.floatbank10_c_level</th>\n",
       "      <th>rougher.state.floatbank10_d_air</th>\n",
       "      <th>rougher.state.floatbank10_d_level</th>\n",
       "      <th>rougher.state.floatbank10_e_air</th>\n",
       "      <th>rougher.state.floatbank10_e_level</th>\n",
       "      <th>rougher.state.floatbank10_f_air</th>\n",
       "      <th>rougher.state.floatbank10_f_level</th>\n",
       "      <th>secondary_cleaner.state.floatbank2_a_air</th>\n",
       "      <th>secondary_cleaner.state.floatbank2_a_level</th>\n",
       "      <th>secondary_cleaner.state.floatbank2_b_air</th>\n",
       "      <th>secondary_cleaner.state.floatbank2_b_level</th>\n",
       "      <th>secondary_cleaner.state.floatbank3_a_air</th>\n",
       "      <th>secondary_cleaner.state.floatbank3_a_level</th>\n",
       "      <th>secondary_cleaner.state.floatbank3_b_air</th>\n",
       "      <th>secondary_cleaner.state.floatbank3_b_level</th>\n",
       "      <th>secondary_cleaner.state.floatbank4_a_air</th>\n",
       "      <th>secondary_cleaner.state.floatbank4_a_level</th>\n",
       "      <th>secondary_cleaner.state.floatbank4_b_air</th>\n",
       "      <th>secondary_cleaner.state.floatbank4_b_level</th>\n",
       "      <th>secondary_cleaner.state.floatbank5_a_air</th>\n",
       "      <th>secondary_cleaner.state.floatbank5_a_level</th>\n",
       "      <th>secondary_cleaner.state.floatbank5_b_air</th>\n",
       "      <th>secondary_cleaner.state.floatbank5_b_level</th>\n",
       "      <th>secondary_cleaner.state.floatbank6_a_air</th>\n",
       "      <th>secondary_cleaner.state.floatbank6_a_level</th>\n",
       "    </tr>\n",
       "    <tr>\n",
       "      <th>date</th>\n",
       "      <th></th>\n",
       "      <th></th>\n",
       "      <th></th>\n",
       "      <th></th>\n",
       "      <th></th>\n",
       "      <th></th>\n",
       "      <th></th>\n",
       "      <th></th>\n",
       "      <th></th>\n",
       "      <th></th>\n",
       "      <th></th>\n",
       "      <th></th>\n",
       "      <th></th>\n",
       "      <th></th>\n",
       "      <th></th>\n",
       "      <th></th>\n",
       "      <th></th>\n",
       "      <th></th>\n",
       "      <th></th>\n",
       "      <th></th>\n",
       "      <th></th>\n",
       "      <th></th>\n",
       "      <th></th>\n",
       "      <th></th>\n",
       "      <th></th>\n",
       "      <th></th>\n",
       "      <th></th>\n",
       "      <th></th>\n",
       "      <th></th>\n",
       "      <th></th>\n",
       "      <th></th>\n",
       "      <th></th>\n",
       "      <th></th>\n",
       "      <th></th>\n",
       "      <th></th>\n",
       "      <th></th>\n",
       "      <th></th>\n",
       "      <th></th>\n",
       "      <th></th>\n",
       "      <th></th>\n",
       "      <th></th>\n",
       "      <th></th>\n",
       "      <th></th>\n",
       "      <th></th>\n",
       "      <th></th>\n",
       "      <th></th>\n",
       "      <th></th>\n",
       "      <th></th>\n",
       "      <th></th>\n",
       "      <th></th>\n",
       "      <th></th>\n",
       "      <th></th>\n",
       "    </tr>\n",
       "  </thead>\n",
       "  <tbody>\n",
       "    <tr>\n",
       "      <th>2016-09-01 00:59:59</th>\n",
       "      <td>210.800909</td>\n",
       "      <td>14.993118</td>\n",
       "      <td>8.080000</td>\n",
       "      <td>1.005021</td>\n",
       "      <td>1398.981301</td>\n",
       "      <td>-500.225577</td>\n",
       "      <td>1399.144926</td>\n",
       "      <td>-499.919735</td>\n",
       "      <td>1400.102998</td>\n",
       "      <td>-500.704369</td>\n",
       "      <td>1399.001695</td>\n",
       "      <td>-499.485144</td>\n",
       "      <td>13.128569</td>\n",
       "      <td>5.636710</td>\n",
       "      <td>489.793655</td>\n",
       "      <td>62.710452</td>\n",
       "      <td>42.022440</td>\n",
       "      <td>12.084103</td>\n",
       "      <td>16.922877</td>\n",
       "      <td>6.153479</td>\n",
       "      <td>16.867518</td>\n",
       "      <td>6.150709</td>\n",
       "      <td>1001.849317</td>\n",
       "      <td>-350.301265</td>\n",
       "      <td>1249.738612</td>\n",
       "      <td>-399.107531</td>\n",
       "      <td>1249.750520</td>\n",
       "      <td>-399.396730</td>\n",
       "      <td>1198.287855</td>\n",
       "      <td>-399.488594</td>\n",
       "      <td>999.472250</td>\n",
       "      <td>-399.530962</td>\n",
       "      <td>949.566189</td>\n",
       "      <td>-398.180807</td>\n",
       "      <td>24.938200</td>\n",
       "      <td>-500.490963</td>\n",
       "      <td>14.947607</td>\n",
       "      <td>-500.013837</td>\n",
       "      <td>20.018166</td>\n",
       "      <td>-450.395995</td>\n",
       "      <td>13.987058</td>\n",
       "      <td>-449.831513</td>\n",
       "      <td>12.023554</td>\n",
       "      <td>-497.795834</td>\n",
       "      <td>8.016656</td>\n",
       "      <td>-501.289139</td>\n",
       "      <td>7.946562</td>\n",
       "      <td>-432.317850</td>\n",
       "      <td>4.872511</td>\n",
       "      <td>-500.037437</td>\n",
       "      <td>26.705889</td>\n",
       "      <td>-499.709414</td>\n",
       "    </tr>\n",
       "    <tr>\n",
       "      <th>2016-09-01 01:59:59</th>\n",
       "      <td>215.392455</td>\n",
       "      <td>14.987471</td>\n",
       "      <td>8.080000</td>\n",
       "      <td>0.990469</td>\n",
       "      <td>1398.777912</td>\n",
       "      <td>-500.057435</td>\n",
       "      <td>1398.055362</td>\n",
       "      <td>-499.778182</td>\n",
       "      <td>1396.151033</td>\n",
       "      <td>-499.240168</td>\n",
       "      <td>1399.508091</td>\n",
       "      <td>-500.416324</td>\n",
       "      <td>13.036280</td>\n",
       "      <td>5.526065</td>\n",
       "      <td>490.104534</td>\n",
       "      <td>61.961163</td>\n",
       "      <td>41.187903</td>\n",
       "      <td>11.918977</td>\n",
       "      <td>17.002532</td>\n",
       "      <td>5.999043</td>\n",
       "      <td>16.996063</td>\n",
       "      <td>6.002315</td>\n",
       "      <td>998.690785</td>\n",
       "      <td>-350.425704</td>\n",
       "      <td>1248.395457</td>\n",
       "      <td>-399.946025</td>\n",
       "      <td>1249.514451</td>\n",
       "      <td>-399.630810</td>\n",
       "      <td>1200.506459</td>\n",
       "      <td>-399.942434</td>\n",
       "      <td>1000.002114</td>\n",
       "      <td>-399.491528</td>\n",
       "      <td>950.200009</td>\n",
       "      <td>-405.787514</td>\n",
       "      <td>24.923466</td>\n",
       "      <td>-499.813963</td>\n",
       "      <td>14.930873</td>\n",
       "      <td>-500.764452</td>\n",
       "      <td>19.988503</td>\n",
       "      <td>-450.114024</td>\n",
       "      <td>14.092981</td>\n",
       "      <td>-450.059163</td>\n",
       "      <td>12.058140</td>\n",
       "      <td>-498.695773</td>\n",
       "      <td>8.130979</td>\n",
       "      <td>-499.634209</td>\n",
       "      <td>7.958270</td>\n",
       "      <td>-525.839648</td>\n",
       "      <td>4.878850</td>\n",
       "      <td>-500.162375</td>\n",
       "      <td>25.019940</td>\n",
       "      <td>-499.819438</td>\n",
       "    </tr>\n",
       "    <tr>\n",
       "      <th>2016-09-01 02:59:59</th>\n",
       "      <td>215.259946</td>\n",
       "      <td>12.884934</td>\n",
       "      <td>7.786667</td>\n",
       "      <td>0.996043</td>\n",
       "      <td>1398.493666</td>\n",
       "      <td>-500.868360</td>\n",
       "      <td>1398.860436</td>\n",
       "      <td>-499.764529</td>\n",
       "      <td>1398.075709</td>\n",
       "      <td>-502.151509</td>\n",
       "      <td>1399.497088</td>\n",
       "      <td>-499.715479</td>\n",
       "      <td>13.138412</td>\n",
       "      <td>5.426561</td>\n",
       "      <td>489.617969</td>\n",
       "      <td>66.903807</td>\n",
       "      <td>42.546294</td>\n",
       "      <td>12.091332</td>\n",
       "      <td>16.992520</td>\n",
       "      <td>5.850632</td>\n",
       "      <td>16.982096</td>\n",
       "      <td>5.853594</td>\n",
       "      <td>998.516720</td>\n",
       "      <td>-349.783538</td>\n",
       "      <td>1247.440748</td>\n",
       "      <td>-400.264330</td>\n",
       "      <td>1248.207204</td>\n",
       "      <td>-401.074405</td>\n",
       "      <td>1199.770026</td>\n",
       "      <td>-400.790582</td>\n",
       "      <td>999.925519</td>\n",
       "      <td>-399.236999</td>\n",
       "      <td>950.320481</td>\n",
       "      <td>-400.864340</td>\n",
       "      <td>24.908732</td>\n",
       "      <td>-500.304035</td>\n",
       "      <td>14.996511</td>\n",
       "      <td>-500.993821</td>\n",
       "      <td>20.039689</td>\n",
       "      <td>-450.263164</td>\n",
       "      <td>14.077881</td>\n",
       "      <td>-449.660997</td>\n",
       "      <td>11.962366</td>\n",
       "      <td>-498.767484</td>\n",
       "      <td>8.096893</td>\n",
       "      <td>-500.827423</td>\n",
       "      <td>8.071056</td>\n",
       "      <td>-500.801673</td>\n",
       "      <td>4.905125</td>\n",
       "      <td>-499.828510</td>\n",
       "      <td>24.994862</td>\n",
       "      <td>-500.622559</td>\n",
       "    </tr>\n",
       "  </tbody>\n",
       "</table>\n",
       "</div>"
      ],
      "text/plain": [
       "                     primary_cleaner.input.sulfate  \\\n",
       "date                                                 \n",
       "2016-09-01 00:59:59                     210.800909   \n",
       "2016-09-01 01:59:59                     215.392455   \n",
       "2016-09-01 02:59:59                     215.259946   \n",
       "\n",
       "                     primary_cleaner.input.depressant  \\\n",
       "date                                                    \n",
       "2016-09-01 00:59:59                         14.993118   \n",
       "2016-09-01 01:59:59                         14.987471   \n",
       "2016-09-01 02:59:59                         12.884934   \n",
       "\n",
       "                     primary_cleaner.input.feed_size  \\\n",
       "date                                                   \n",
       "2016-09-01 00:59:59                         8.080000   \n",
       "2016-09-01 01:59:59                         8.080000   \n",
       "2016-09-01 02:59:59                         7.786667   \n",
       "\n",
       "                     primary_cleaner.input.xanthate  \\\n",
       "date                                                  \n",
       "2016-09-01 00:59:59                        1.005021   \n",
       "2016-09-01 01:59:59                        0.990469   \n",
       "2016-09-01 02:59:59                        0.996043   \n",
       "\n",
       "                     primary_cleaner.state.floatbank8_a_air  \\\n",
       "date                                                          \n",
       "2016-09-01 00:59:59                             1398.981301   \n",
       "2016-09-01 01:59:59                             1398.777912   \n",
       "2016-09-01 02:59:59                             1398.493666   \n",
       "\n",
       "                     primary_cleaner.state.floatbank8_a_level  \\\n",
       "date                                                            \n",
       "2016-09-01 00:59:59                               -500.225577   \n",
       "2016-09-01 01:59:59                               -500.057435   \n",
       "2016-09-01 02:59:59                               -500.868360   \n",
       "\n",
       "                     primary_cleaner.state.floatbank8_b_air  \\\n",
       "date                                                          \n",
       "2016-09-01 00:59:59                             1399.144926   \n",
       "2016-09-01 01:59:59                             1398.055362   \n",
       "2016-09-01 02:59:59                             1398.860436   \n",
       "\n",
       "                     primary_cleaner.state.floatbank8_b_level  \\\n",
       "date                                                            \n",
       "2016-09-01 00:59:59                               -499.919735   \n",
       "2016-09-01 01:59:59                               -499.778182   \n",
       "2016-09-01 02:59:59                               -499.764529   \n",
       "\n",
       "                     primary_cleaner.state.floatbank8_c_air  \\\n",
       "date                                                          \n",
       "2016-09-01 00:59:59                             1400.102998   \n",
       "2016-09-01 01:59:59                             1396.151033   \n",
       "2016-09-01 02:59:59                             1398.075709   \n",
       "\n",
       "                     primary_cleaner.state.floatbank8_c_level  \\\n",
       "date                                                            \n",
       "2016-09-01 00:59:59                               -500.704369   \n",
       "2016-09-01 01:59:59                               -499.240168   \n",
       "2016-09-01 02:59:59                               -502.151509   \n",
       "\n",
       "                     primary_cleaner.state.floatbank8_d_air  \\\n",
       "date                                                          \n",
       "2016-09-01 00:59:59                             1399.001695   \n",
       "2016-09-01 01:59:59                             1399.508091   \n",
       "2016-09-01 02:59:59                             1399.497088   \n",
       "\n",
       "                     primary_cleaner.state.floatbank8_d_level  \\\n",
       "date                                                            \n",
       "2016-09-01 00:59:59                               -499.485144   \n",
       "2016-09-01 01:59:59                               -500.416324   \n",
       "2016-09-01 02:59:59                               -499.715479   \n",
       "\n",
       "                     rougher.input.feed_ag  rougher.input.feed_pb  \\\n",
       "date                                                                \n",
       "2016-09-01 00:59:59              13.128569               5.636710   \n",
       "2016-09-01 01:59:59              13.036280               5.526065   \n",
       "2016-09-01 02:59:59              13.138412               5.426561   \n",
       "\n",
       "                     rougher.input.feed_rate  rougher.input.feed_size  \\\n",
       "date                                                                    \n",
       "2016-09-01 00:59:59               489.793655                62.710452   \n",
       "2016-09-01 01:59:59               490.104534                61.961163   \n",
       "2016-09-01 02:59:59               489.617969                66.903807   \n",
       "\n",
       "                     rougher.input.feed_sol  rougher.input.feed_au  \\\n",
       "date                                                                 \n",
       "2016-09-01 00:59:59               42.022440              12.084103   \n",
       "2016-09-01 01:59:59               41.187903              11.918977   \n",
       "2016-09-01 02:59:59               42.546294              12.091332   \n",
       "\n",
       "                     rougher.input.floatbank10_sulfate  \\\n",
       "date                                                     \n",
       "2016-09-01 00:59:59                          16.922877   \n",
       "2016-09-01 01:59:59                          17.002532   \n",
       "2016-09-01 02:59:59                          16.992520   \n",
       "\n",
       "                     rougher.input.floatbank10_xanthate  \\\n",
       "date                                                      \n",
       "2016-09-01 00:59:59                            6.153479   \n",
       "2016-09-01 01:59:59                            5.999043   \n",
       "2016-09-01 02:59:59                            5.850632   \n",
       "\n",
       "                     rougher.input.floatbank11_sulfate  \\\n",
       "date                                                     \n",
       "2016-09-01 00:59:59                          16.867518   \n",
       "2016-09-01 01:59:59                          16.996063   \n",
       "2016-09-01 02:59:59                          16.982096   \n",
       "\n",
       "                     rougher.input.floatbank11_xanthate  \\\n",
       "date                                                      \n",
       "2016-09-01 00:59:59                            6.150709   \n",
       "2016-09-01 01:59:59                            6.002315   \n",
       "2016-09-01 02:59:59                            5.853594   \n",
       "\n",
       "                     rougher.state.floatbank10_a_air  \\\n",
       "date                                                   \n",
       "2016-09-01 00:59:59                      1001.849317   \n",
       "2016-09-01 01:59:59                       998.690785   \n",
       "2016-09-01 02:59:59                       998.516720   \n",
       "\n",
       "                     rougher.state.floatbank10_a_level  \\\n",
       "date                                                     \n",
       "2016-09-01 00:59:59                        -350.301265   \n",
       "2016-09-01 01:59:59                        -350.425704   \n",
       "2016-09-01 02:59:59                        -349.783538   \n",
       "\n",
       "                     rougher.state.floatbank10_b_air  \\\n",
       "date                                                   \n",
       "2016-09-01 00:59:59                      1249.738612   \n",
       "2016-09-01 01:59:59                      1248.395457   \n",
       "2016-09-01 02:59:59                      1247.440748   \n",
       "\n",
       "                     rougher.state.floatbank10_b_level  \\\n",
       "date                                                     \n",
       "2016-09-01 00:59:59                        -399.107531   \n",
       "2016-09-01 01:59:59                        -399.946025   \n",
       "2016-09-01 02:59:59                        -400.264330   \n",
       "\n",
       "                     rougher.state.floatbank10_c_air  \\\n",
       "date                                                   \n",
       "2016-09-01 00:59:59                      1249.750520   \n",
       "2016-09-01 01:59:59                      1249.514451   \n",
       "2016-09-01 02:59:59                      1248.207204   \n",
       "\n",
       "                     rougher.state.floatbank10_c_level  \\\n",
       "date                                                     \n",
       "2016-09-01 00:59:59                        -399.396730   \n",
       "2016-09-01 01:59:59                        -399.630810   \n",
       "2016-09-01 02:59:59                        -401.074405   \n",
       "\n",
       "                     rougher.state.floatbank10_d_air  \\\n",
       "date                                                   \n",
       "2016-09-01 00:59:59                      1198.287855   \n",
       "2016-09-01 01:59:59                      1200.506459   \n",
       "2016-09-01 02:59:59                      1199.770026   \n",
       "\n",
       "                     rougher.state.floatbank10_d_level  \\\n",
       "date                                                     \n",
       "2016-09-01 00:59:59                        -399.488594   \n",
       "2016-09-01 01:59:59                        -399.942434   \n",
       "2016-09-01 02:59:59                        -400.790582   \n",
       "\n",
       "                     rougher.state.floatbank10_e_air  \\\n",
       "date                                                   \n",
       "2016-09-01 00:59:59                       999.472250   \n",
       "2016-09-01 01:59:59                      1000.002114   \n",
       "2016-09-01 02:59:59                       999.925519   \n",
       "\n",
       "                     rougher.state.floatbank10_e_level  \\\n",
       "date                                                     \n",
       "2016-09-01 00:59:59                        -399.530962   \n",
       "2016-09-01 01:59:59                        -399.491528   \n",
       "2016-09-01 02:59:59                        -399.236999   \n",
       "\n",
       "                     rougher.state.floatbank10_f_air  \\\n",
       "date                                                   \n",
       "2016-09-01 00:59:59                       949.566189   \n",
       "2016-09-01 01:59:59                       950.200009   \n",
       "2016-09-01 02:59:59                       950.320481   \n",
       "\n",
       "                     rougher.state.floatbank10_f_level  \\\n",
       "date                                                     \n",
       "2016-09-01 00:59:59                        -398.180807   \n",
       "2016-09-01 01:59:59                        -405.787514   \n",
       "2016-09-01 02:59:59                        -400.864340   \n",
       "\n",
       "                     secondary_cleaner.state.floatbank2_a_air  \\\n",
       "date                                                            \n",
       "2016-09-01 00:59:59                                 24.938200   \n",
       "2016-09-01 01:59:59                                 24.923466   \n",
       "2016-09-01 02:59:59                                 24.908732   \n",
       "\n",
       "                     secondary_cleaner.state.floatbank2_a_level  \\\n",
       "date                                                              \n",
       "2016-09-01 00:59:59                                 -500.490963   \n",
       "2016-09-01 01:59:59                                 -499.813963   \n",
       "2016-09-01 02:59:59                                 -500.304035   \n",
       "\n",
       "                     secondary_cleaner.state.floatbank2_b_air  \\\n",
       "date                                                            \n",
       "2016-09-01 00:59:59                                 14.947607   \n",
       "2016-09-01 01:59:59                                 14.930873   \n",
       "2016-09-01 02:59:59                                 14.996511   \n",
       "\n",
       "                     secondary_cleaner.state.floatbank2_b_level  \\\n",
       "date                                                              \n",
       "2016-09-01 00:59:59                                 -500.013837   \n",
       "2016-09-01 01:59:59                                 -500.764452   \n",
       "2016-09-01 02:59:59                                 -500.993821   \n",
       "\n",
       "                     secondary_cleaner.state.floatbank3_a_air  \\\n",
       "date                                                            \n",
       "2016-09-01 00:59:59                                 20.018166   \n",
       "2016-09-01 01:59:59                                 19.988503   \n",
       "2016-09-01 02:59:59                                 20.039689   \n",
       "\n",
       "                     secondary_cleaner.state.floatbank3_a_level  \\\n",
       "date                                                              \n",
       "2016-09-01 00:59:59                                 -450.395995   \n",
       "2016-09-01 01:59:59                                 -450.114024   \n",
       "2016-09-01 02:59:59                                 -450.263164   \n",
       "\n",
       "                     secondary_cleaner.state.floatbank3_b_air  \\\n",
       "date                                                            \n",
       "2016-09-01 00:59:59                                 13.987058   \n",
       "2016-09-01 01:59:59                                 14.092981   \n",
       "2016-09-01 02:59:59                                 14.077881   \n",
       "\n",
       "                     secondary_cleaner.state.floatbank3_b_level  \\\n",
       "date                                                              \n",
       "2016-09-01 00:59:59                                 -449.831513   \n",
       "2016-09-01 01:59:59                                 -450.059163   \n",
       "2016-09-01 02:59:59                                 -449.660997   \n",
       "\n",
       "                     secondary_cleaner.state.floatbank4_a_air  \\\n",
       "date                                                            \n",
       "2016-09-01 00:59:59                                 12.023554   \n",
       "2016-09-01 01:59:59                                 12.058140   \n",
       "2016-09-01 02:59:59                                 11.962366   \n",
       "\n",
       "                     secondary_cleaner.state.floatbank4_a_level  \\\n",
       "date                                                              \n",
       "2016-09-01 00:59:59                                 -497.795834   \n",
       "2016-09-01 01:59:59                                 -498.695773   \n",
       "2016-09-01 02:59:59                                 -498.767484   \n",
       "\n",
       "                     secondary_cleaner.state.floatbank4_b_air  \\\n",
       "date                                                            \n",
       "2016-09-01 00:59:59                                  8.016656   \n",
       "2016-09-01 01:59:59                                  8.130979   \n",
       "2016-09-01 02:59:59                                  8.096893   \n",
       "\n",
       "                     secondary_cleaner.state.floatbank4_b_level  \\\n",
       "date                                                              \n",
       "2016-09-01 00:59:59                                 -501.289139   \n",
       "2016-09-01 01:59:59                                 -499.634209   \n",
       "2016-09-01 02:59:59                                 -500.827423   \n",
       "\n",
       "                     secondary_cleaner.state.floatbank5_a_air  \\\n",
       "date                                                            \n",
       "2016-09-01 00:59:59                                  7.946562   \n",
       "2016-09-01 01:59:59                                  7.958270   \n",
       "2016-09-01 02:59:59                                  8.071056   \n",
       "\n",
       "                     secondary_cleaner.state.floatbank5_a_level  \\\n",
       "date                                                              \n",
       "2016-09-01 00:59:59                                 -432.317850   \n",
       "2016-09-01 01:59:59                                 -525.839648   \n",
       "2016-09-01 02:59:59                                 -500.801673   \n",
       "\n",
       "                     secondary_cleaner.state.floatbank5_b_air  \\\n",
       "date                                                            \n",
       "2016-09-01 00:59:59                                  4.872511   \n",
       "2016-09-01 01:59:59                                  4.878850   \n",
       "2016-09-01 02:59:59                                  4.905125   \n",
       "\n",
       "                     secondary_cleaner.state.floatbank5_b_level  \\\n",
       "date                                                              \n",
       "2016-09-01 00:59:59                                 -500.037437   \n",
       "2016-09-01 01:59:59                                 -500.162375   \n",
       "2016-09-01 02:59:59                                 -499.828510   \n",
       "\n",
       "                     secondary_cleaner.state.floatbank6_a_air  \\\n",
       "date                                                            \n",
       "2016-09-01 00:59:59                                 26.705889   \n",
       "2016-09-01 01:59:59                                 25.019940   \n",
       "2016-09-01 02:59:59                                 24.994862   \n",
       "\n",
       "                     secondary_cleaner.state.floatbank6_a_level  \n",
       "date                                                             \n",
       "2016-09-01 00:59:59                                 -499.709414  \n",
       "2016-09-01 01:59:59                                 -499.819438  \n",
       "2016-09-01 02:59:59                                 -500.622559  "
      ]
     },
     "metadata": {},
     "output_type": "display_data"
    },
    {
     "name": "stdout",
     "output_type": "stream",
     "text": [
      "\n",
      "<class 'pandas.core.frame.DataFrame'>\n",
      "Index: 5290 entries, 2016-09-01 00:59:59 to 2017-12-31 23:59:59\n",
      "Data columns (total 52 columns):\n",
      " #   Column                                      Non-Null Count  Dtype  \n",
      "---  ------                                      --------------  -----  \n",
      " 0   primary_cleaner.input.sulfate               5286 non-null   float64\n",
      " 1   primary_cleaner.input.depressant            5285 non-null   float64\n",
      " 2   primary_cleaner.input.feed_size             5290 non-null   float64\n",
      " 3   primary_cleaner.input.xanthate              5286 non-null   float64\n",
      " 4   primary_cleaner.state.floatbank8_a_air      5290 non-null   float64\n",
      " 5   primary_cleaner.state.floatbank8_a_level    5290 non-null   float64\n",
      " 6   primary_cleaner.state.floatbank8_b_air      5290 non-null   float64\n",
      " 7   primary_cleaner.state.floatbank8_b_level    5290 non-null   float64\n",
      " 8   primary_cleaner.state.floatbank8_c_air      5290 non-null   float64\n",
      " 9   primary_cleaner.state.floatbank8_c_level    5290 non-null   float64\n",
      " 10  primary_cleaner.state.floatbank8_d_air      5290 non-null   float64\n",
      " 11  primary_cleaner.state.floatbank8_d_level    5290 non-null   float64\n",
      " 12  rougher.input.feed_ag                       5290 non-null   float64\n",
      " 13  rougher.input.feed_pb                       5290 non-null   float64\n",
      " 14  rougher.input.feed_rate                     5287 non-null   float64\n",
      " 15  rougher.input.feed_size                     5289 non-null   float64\n",
      " 16  rougher.input.feed_sol                      5269 non-null   float64\n",
      " 17  rougher.input.feed_au                       5290 non-null   float64\n",
      " 18  rougher.input.floatbank10_sulfate           5285 non-null   float64\n",
      " 19  rougher.input.floatbank10_xanthate          5290 non-null   float64\n",
      " 20  rougher.input.floatbank11_sulfate           5282 non-null   float64\n",
      " 21  rougher.input.floatbank11_xanthate          5265 non-null   float64\n",
      " 22  rougher.state.floatbank10_a_air             5290 non-null   float64\n",
      " 23  rougher.state.floatbank10_a_level           5290 non-null   float64\n",
      " 24  rougher.state.floatbank10_b_air             5290 non-null   float64\n",
      " 25  rougher.state.floatbank10_b_level           5290 non-null   float64\n",
      " 26  rougher.state.floatbank10_c_air             5290 non-null   float64\n",
      " 27  rougher.state.floatbank10_c_level           5290 non-null   float64\n",
      " 28  rougher.state.floatbank10_d_air             5290 non-null   float64\n",
      " 29  rougher.state.floatbank10_d_level           5290 non-null   float64\n",
      " 30  rougher.state.floatbank10_e_air             5290 non-null   float64\n",
      " 31  rougher.state.floatbank10_e_level           5290 non-null   float64\n",
      " 32  rougher.state.floatbank10_f_air             5290 non-null   float64\n",
      " 33  rougher.state.floatbank10_f_level           5290 non-null   float64\n",
      " 34  secondary_cleaner.state.floatbank2_a_air    5287 non-null   float64\n",
      " 35  secondary_cleaner.state.floatbank2_a_level  5290 non-null   float64\n",
      " 36  secondary_cleaner.state.floatbank2_b_air    5288 non-null   float64\n",
      " 37  secondary_cleaner.state.floatbank2_b_level  5290 non-null   float64\n",
      " 38  secondary_cleaner.state.floatbank3_a_air    5281 non-null   float64\n",
      " 39  secondary_cleaner.state.floatbank3_a_level  5290 non-null   float64\n",
      " 40  secondary_cleaner.state.floatbank3_b_air    5290 non-null   float64\n",
      " 41  secondary_cleaner.state.floatbank3_b_level  5290 non-null   float64\n",
      " 42  secondary_cleaner.state.floatbank4_a_air    5290 non-null   float64\n",
      " 43  secondary_cleaner.state.floatbank4_a_level  5290 non-null   float64\n",
      " 44  secondary_cleaner.state.floatbank4_b_air    5290 non-null   float64\n",
      " 45  secondary_cleaner.state.floatbank4_b_level  5290 non-null   float64\n",
      " 46  secondary_cleaner.state.floatbank5_a_air    5290 non-null   float64\n",
      " 47  secondary_cleaner.state.floatbank5_a_level  5290 non-null   float64\n",
      " 48  secondary_cleaner.state.floatbank5_b_air    5290 non-null   float64\n",
      " 49  secondary_cleaner.state.floatbank5_b_level  5290 non-null   float64\n",
      " 50  secondary_cleaner.state.floatbank6_a_air    5290 non-null   float64\n",
      " 51  secondary_cleaner.state.floatbank6_a_level  5290 non-null   float64\n",
      "dtypes: float64(52)\n",
      "memory usage: 2.1+ MB\n"
     ]
    },
    {
     "data": {
      "text/plain": [
       "None"
      ]
     },
     "metadata": {},
     "output_type": "display_data"
    },
    {
     "name": "stdout",
     "output_type": "stream",
     "text": [
      "\n"
     ]
    },
    {
     "data": {
      "text/html": [
       "<div>\n",
       "<style scoped>\n",
       "    .dataframe tbody tr th:only-of-type {\n",
       "        vertical-align: middle;\n",
       "    }\n",
       "\n",
       "    .dataframe tbody tr th {\n",
       "        vertical-align: top;\n",
       "    }\n",
       "\n",
       "    .dataframe thead th {\n",
       "        text-align: right;\n",
       "    }\n",
       "</style>\n",
       "<table border=\"1\" class=\"dataframe\">\n",
       "  <thead>\n",
       "    <tr style=\"text-align: right;\">\n",
       "      <th></th>\n",
       "      <th>primary_cleaner.input.sulfate</th>\n",
       "      <th>primary_cleaner.input.depressant</th>\n",
       "      <th>primary_cleaner.input.feed_size</th>\n",
       "      <th>primary_cleaner.input.xanthate</th>\n",
       "      <th>primary_cleaner.state.floatbank8_a_air</th>\n",
       "      <th>primary_cleaner.state.floatbank8_a_level</th>\n",
       "      <th>primary_cleaner.state.floatbank8_b_air</th>\n",
       "      <th>primary_cleaner.state.floatbank8_b_level</th>\n",
       "      <th>primary_cleaner.state.floatbank8_c_air</th>\n",
       "      <th>primary_cleaner.state.floatbank8_c_level</th>\n",
       "      <th>primary_cleaner.state.floatbank8_d_air</th>\n",
       "      <th>primary_cleaner.state.floatbank8_d_level</th>\n",
       "      <th>rougher.input.feed_ag</th>\n",
       "      <th>rougher.input.feed_pb</th>\n",
       "      <th>rougher.input.feed_rate</th>\n",
       "      <th>rougher.input.feed_size</th>\n",
       "      <th>rougher.input.feed_sol</th>\n",
       "      <th>rougher.input.feed_au</th>\n",
       "      <th>rougher.input.floatbank10_sulfate</th>\n",
       "      <th>rougher.input.floatbank10_xanthate</th>\n",
       "      <th>rougher.input.floatbank11_sulfate</th>\n",
       "      <th>rougher.input.floatbank11_xanthate</th>\n",
       "      <th>rougher.state.floatbank10_a_air</th>\n",
       "      <th>rougher.state.floatbank10_a_level</th>\n",
       "      <th>rougher.state.floatbank10_b_air</th>\n",
       "      <th>rougher.state.floatbank10_b_level</th>\n",
       "      <th>rougher.state.floatbank10_c_air</th>\n",
       "      <th>rougher.state.floatbank10_c_level</th>\n",
       "      <th>rougher.state.floatbank10_d_air</th>\n",
       "      <th>rougher.state.floatbank10_d_level</th>\n",
       "      <th>rougher.state.floatbank10_e_air</th>\n",
       "      <th>rougher.state.floatbank10_e_level</th>\n",
       "      <th>rougher.state.floatbank10_f_air</th>\n",
       "      <th>rougher.state.floatbank10_f_level</th>\n",
       "      <th>secondary_cleaner.state.floatbank2_a_air</th>\n",
       "      <th>secondary_cleaner.state.floatbank2_a_level</th>\n",
       "      <th>secondary_cleaner.state.floatbank2_b_air</th>\n",
       "      <th>secondary_cleaner.state.floatbank2_b_level</th>\n",
       "      <th>secondary_cleaner.state.floatbank3_a_air</th>\n",
       "      <th>secondary_cleaner.state.floatbank3_a_level</th>\n",
       "      <th>secondary_cleaner.state.floatbank3_b_air</th>\n",
       "      <th>secondary_cleaner.state.floatbank3_b_level</th>\n",
       "      <th>secondary_cleaner.state.floatbank4_a_air</th>\n",
       "      <th>secondary_cleaner.state.floatbank4_a_level</th>\n",
       "      <th>secondary_cleaner.state.floatbank4_b_air</th>\n",
       "      <th>secondary_cleaner.state.floatbank4_b_level</th>\n",
       "      <th>secondary_cleaner.state.floatbank5_a_air</th>\n",
       "      <th>secondary_cleaner.state.floatbank5_a_level</th>\n",
       "      <th>secondary_cleaner.state.floatbank5_b_air</th>\n",
       "      <th>secondary_cleaner.state.floatbank5_b_level</th>\n",
       "      <th>secondary_cleaner.state.floatbank6_a_air</th>\n",
       "      <th>secondary_cleaner.state.floatbank6_a_level</th>\n",
       "    </tr>\n",
       "  </thead>\n",
       "  <tbody>\n",
       "    <tr>\n",
       "      <th>count</th>\n",
       "      <td>5286.000000</td>\n",
       "      <td>5285.000000</td>\n",
       "      <td>5290.000000</td>\n",
       "      <td>5286.000000</td>\n",
       "      <td>5.290000e+03</td>\n",
       "      <td>5290.000000</td>\n",
       "      <td>5.290000e+03</td>\n",
       "      <td>5290.000000</td>\n",
       "      <td>5.290000e+03</td>\n",
       "      <td>5290.000000</td>\n",
       "      <td>5.290000e+03</td>\n",
       "      <td>5290.000000</td>\n",
       "      <td>5290.000000</td>\n",
       "      <td>5290.000000</td>\n",
       "      <td>5287.000000</td>\n",
       "      <td>5289.000000</td>\n",
       "      <td>5269.000000</td>\n",
       "      <td>5290.000000</td>\n",
       "      <td>5285.000000</td>\n",
       "      <td>5290.000000</td>\n",
       "      <td>5282.000000</td>\n",
       "      <td>5265.000000</td>\n",
       "      <td>5290.000000</td>\n",
       "      <td>5290.000000</td>\n",
       "      <td>5290.000000</td>\n",
       "      <td>5290.000000</td>\n",
       "      <td>5290.000000</td>\n",
       "      <td>5290.000000</td>\n",
       "      <td>5290.000000</td>\n",
       "      <td>5290.000000</td>\n",
       "      <td>5290.000000</td>\n",
       "      <td>5290.000000</td>\n",
       "      <td>5290.000000</td>\n",
       "      <td>5290.000000</td>\n",
       "      <td>5287.000000</td>\n",
       "      <td>5290.000000</td>\n",
       "      <td>5288.000000</td>\n",
       "      <td>5290.000000</td>\n",
       "      <td>5281.000000</td>\n",
       "      <td>5290.000000</td>\n",
       "      <td>5.290000e+03</td>\n",
       "      <td>5290.000000</td>\n",
       "      <td>5.290000e+03</td>\n",
       "      <td>5290.000000</td>\n",
       "      <td>5.290000e+03</td>\n",
       "      <td>5290.000000</td>\n",
       "      <td>5290.000000</td>\n",
       "      <td>5290.000000</td>\n",
       "      <td>5290.000000</td>\n",
       "      <td>5290.000000</td>\n",
       "      <td>5290.000000</td>\n",
       "      <td>5290.000000</td>\n",
       "    </tr>\n",
       "    <tr>\n",
       "      <th>mean</th>\n",
       "      <td>174.839652</td>\n",
       "      <td>8.683596</td>\n",
       "      <td>7.266339</td>\n",
       "      <td>1.383803</td>\n",
       "      <td>1.539494e+03</td>\n",
       "      <td>-497.665883</td>\n",
       "      <td>1.545174e+03</td>\n",
       "      <td>-500.273098</td>\n",
       "      <td>1.527272e+03</td>\n",
       "      <td>-498.330680</td>\n",
       "      <td>1.544844e+03</td>\n",
       "      <td>-500.199527</td>\n",
       "      <td>9.371940</td>\n",
       "      <td>3.798082</td>\n",
       "      <td>489.800620</td>\n",
       "      <td>55.951097</td>\n",
       "      <td>37.716648</td>\n",
       "      <td>9.334682</td>\n",
       "      <td>13.855759</td>\n",
       "      <td>6.467745</td>\n",
       "      <td>13.922328</td>\n",
       "      <td>6.512103</td>\n",
       "      <td>1053.400166</td>\n",
       "      <td>-395.732530</td>\n",
       "      <td>1318.926879</td>\n",
       "      <td>-475.241428</td>\n",
       "      <td>1301.595477</td>\n",
       "      <td>-474.836671</td>\n",
       "      <td>1214.847960</td>\n",
       "      <td>-475.682272</td>\n",
       "      <td>1056.648995</td>\n",
       "      <td>-469.029688</td>\n",
       "      <td>997.949719</td>\n",
       "      <td>-470.482465</td>\n",
       "      <td>26.312630</td>\n",
       "      <td>-502.750897</td>\n",
       "      <td>21.949119</td>\n",
       "      <td>-501.987097</td>\n",
       "      <td>25.402926</td>\n",
       "      <td>-507.490314</td>\n",
       "      <td>2.098211e+01</td>\n",
       "      <td>-506.627916</td>\n",
       "      <td>1.632007e+01</td>\n",
       "      <td>-505.144570</td>\n",
       "      <td>1.373544e+01</td>\n",
       "      <td>-463.349858</td>\n",
       "      <td>12.804186</td>\n",
       "      <td>-501.329122</td>\n",
       "      <td>9.881145</td>\n",
       "      <td>-495.663398</td>\n",
       "      <td>17.304935</td>\n",
       "      <td>-501.793193</td>\n",
       "    </tr>\n",
       "    <tr>\n",
       "      <th>std</th>\n",
       "      <td>43.027080</td>\n",
       "      <td>3.072050</td>\n",
       "      <td>0.610219</td>\n",
       "      <td>0.643474</td>\n",
       "      <td>1.167979e+02</td>\n",
       "      <td>19.952431</td>\n",
       "      <td>1.222246e+02</td>\n",
       "      <td>32.968307</td>\n",
       "      <td>1.225380e+02</td>\n",
       "      <td>21.964876</td>\n",
       "      <td>1.247731e+02</td>\n",
       "      <td>31.045257</td>\n",
       "      <td>1.926264</td>\n",
       "      <td>0.954859</td>\n",
       "      <td>108.036326</td>\n",
       "      <td>19.081758</td>\n",
       "      <td>5.491415</td>\n",
       "      <td>1.619521</td>\n",
       "      <td>3.350852</td>\n",
       "      <td>1.065114</td>\n",
       "      <td>3.223769</td>\n",
       "      <td>0.886989</td>\n",
       "      <td>121.139309</td>\n",
       "      <td>91.085505</td>\n",
       "      <td>156.450366</td>\n",
       "      <td>45.649466</td>\n",
       "      <td>171.269667</td>\n",
       "      <td>45.859866</td>\n",
       "      <td>185.763319</td>\n",
       "      <td>47.844967</td>\n",
       "      <td>131.542839</td>\n",
       "      <td>59.325990</td>\n",
       "      <td>128.218869</td>\n",
       "      <td>60.759318</td>\n",
       "      <td>3.429852</td>\n",
       "      <td>28.756505</td>\n",
       "      <td>4.354961</td>\n",
       "      <td>34.582722</td>\n",
       "      <td>6.526457</td>\n",
       "      <td>47.620908</td>\n",
       "      <td>6.736179e+00</td>\n",
       "      <td>44.528673</td>\n",
       "      <td>3.493583e+00</td>\n",
       "      <td>31.427337</td>\n",
       "      <td>3.430484e+00</td>\n",
       "      <td>86.189107</td>\n",
       "      <td>3.026591</td>\n",
       "      <td>17.951495</td>\n",
       "      <td>2.868205</td>\n",
       "      <td>34.535007</td>\n",
       "      <td>4.536544</td>\n",
       "      <td>39.044215</td>\n",
       "    </tr>\n",
       "    <tr>\n",
       "      <th>min</th>\n",
       "      <td>2.566156</td>\n",
       "      <td>0.003839</td>\n",
       "      <td>5.650000</td>\n",
       "      <td>0.004984</td>\n",
       "      <td>5.445860e-32</td>\n",
       "      <td>-795.316337</td>\n",
       "      <td>6.647490e-32</td>\n",
       "      <td>-799.997015</td>\n",
       "      <td>4.033736e-32</td>\n",
       "      <td>-799.960571</td>\n",
       "      <td>4.039220e-32</td>\n",
       "      <td>-799.794250</td>\n",
       "      <td>0.568441</td>\n",
       "      <td>0.273677</td>\n",
       "      <td>0.002986</td>\n",
       "      <td>0.046369</td>\n",
       "      <td>1.393488</td>\n",
       "      <td>0.568632</td>\n",
       "      <td>0.001147</td>\n",
       "      <td>0.000568</td>\n",
       "      <td>0.000077</td>\n",
       "      <td>0.006985</td>\n",
       "      <td>-0.042069</td>\n",
       "      <td>-657.949759</td>\n",
       "      <td>-0.721806</td>\n",
       "      <td>-650.245277</td>\n",
       "      <td>-0.056636</td>\n",
       "      <td>-647.544439</td>\n",
       "      <td>-0.992219</td>\n",
       "      <td>-648.390665</td>\n",
       "      <td>-1.982295</td>\n",
       "      <td>-649.267537</td>\n",
       "      <td>-2.593390</td>\n",
       "      <td>-649.949283</td>\n",
       "      <td>0.205329</td>\n",
       "      <td>-784.091091</td>\n",
       "      <td>0.006064</td>\n",
       "      <td>-797.783989</td>\n",
       "      <td>0.000000</td>\n",
       "      <td>-799.755798</td>\n",
       "      <td>1.521587e-17</td>\n",
       "      <td>-809.333008</td>\n",
       "      <td>1.079872e-16</td>\n",
       "      <td>-799.798523</td>\n",
       "      <td>2.489718e-17</td>\n",
       "      <td>-800.836914</td>\n",
       "      <td>0.069227</td>\n",
       "      <td>-797.323986</td>\n",
       "      <td>0.528083</td>\n",
       "      <td>-800.220337</td>\n",
       "      <td>-0.079426</td>\n",
       "      <td>-809.741464</td>\n",
       "    </tr>\n",
       "    <tr>\n",
       "      <th>25%</th>\n",
       "      <td>147.121401</td>\n",
       "      <td>6.489555</td>\n",
       "      <td>6.890000</td>\n",
       "      <td>0.907623</td>\n",
       "      <td>1.498936e+03</td>\n",
       "      <td>-500.357298</td>\n",
       "      <td>1.498971e+03</td>\n",
       "      <td>-500.703002</td>\n",
       "      <td>1.473230e+03</td>\n",
       "      <td>-501.018117</td>\n",
       "      <td>1.499481e+03</td>\n",
       "      <td>-500.452469</td>\n",
       "      <td>8.112434</td>\n",
       "      <td>3.240251</td>\n",
       "      <td>407.020883</td>\n",
       "      <td>43.906347</td>\n",
       "      <td>34.505576</td>\n",
       "      <td>8.207814</td>\n",
       "      <td>11.995006</td>\n",
       "      <td>5.998779</td>\n",
       "      <td>11.997200</td>\n",
       "      <td>5.999157</td>\n",
       "      <td>999.205344</td>\n",
       "      <td>-499.920565</td>\n",
       "      <td>1200.871883</td>\n",
       "      <td>-500.256114</td>\n",
       "      <td>1199.651371</td>\n",
       "      <td>-500.233831</td>\n",
       "      <td>1093.368068</td>\n",
       "      <td>-500.440610</td>\n",
       "      <td>999.361403</td>\n",
       "      <td>-500.190639</td>\n",
       "      <td>901.024994</td>\n",
       "      <td>-500.624783</td>\n",
       "      <td>24.942328</td>\n",
       "      <td>-500.206517</td>\n",
       "      <td>20.002315</td>\n",
       "      <td>-500.218030</td>\n",
       "      <td>22.982288</td>\n",
       "      <td>-500.297951</td>\n",
       "      <td>1.796786e+01</td>\n",
       "      <td>-500.145128</td>\n",
       "      <td>1.403618e+01</td>\n",
       "      <td>-500.868258</td>\n",
       "      <td>1.202862e+01</td>\n",
       "      <td>-500.323028</td>\n",
       "      <td>10.914838</td>\n",
       "      <td>-500.726841</td>\n",
       "      <td>8.036719</td>\n",
       "      <td>-500.194668</td>\n",
       "      <td>13.997317</td>\n",
       "      <td>-500.690984</td>\n",
       "    </tr>\n",
       "    <tr>\n",
       "      <th>50%</th>\n",
       "      <td>177.828489</td>\n",
       "      <td>8.052207</td>\n",
       "      <td>7.250000</td>\n",
       "      <td>1.197610</td>\n",
       "      <td>1.585129e+03</td>\n",
       "      <td>-499.969164</td>\n",
       "      <td>1.595622e+03</td>\n",
       "      <td>-500.028514</td>\n",
       "      <td>1.549595e+03</td>\n",
       "      <td>-500.017711</td>\n",
       "      <td>1.594579e+03</td>\n",
       "      <td>-500.023307</td>\n",
       "      <td>9.762654</td>\n",
       "      <td>3.740716</td>\n",
       "      <td>499.051440</td>\n",
       "      <td>50.841029</td>\n",
       "      <td>37.980276</td>\n",
       "      <td>9.593766</td>\n",
       "      <td>14.003126</td>\n",
       "      <td>6.498181</td>\n",
       "      <td>14.004371</td>\n",
       "      <td>6.498744</td>\n",
       "      <td>1000.472055</td>\n",
       "      <td>-399.693363</td>\n",
       "      <td>1302.254995</td>\n",
       "      <td>-499.837803</td>\n",
       "      <td>1300.202274</td>\n",
       "      <td>-499.777222</td>\n",
       "      <td>1207.014092</td>\n",
       "      <td>-499.691917</td>\n",
       "      <td>1047.495449</td>\n",
       "      <td>-499.765796</td>\n",
       "      <td>999.441879</td>\n",
       "      <td>-499.680986</td>\n",
       "      <td>26.910569</td>\n",
       "      <td>-500.003902</td>\n",
       "      <td>22.942603</td>\n",
       "      <td>-500.019058</td>\n",
       "      <td>25.010105</td>\n",
       "      <td>-500.034578</td>\n",
       "      <td>2.100316e+01</td>\n",
       "      <td>-500.013819</td>\n",
       "      <td>1.700847e+01</td>\n",
       "      <td>-500.115727</td>\n",
       "      <td>1.496486e+01</td>\n",
       "      <td>-499.576513</td>\n",
       "      <td>12.954182</td>\n",
       "      <td>-499.990332</td>\n",
       "      <td>10.004301</td>\n",
       "      <td>-499.990535</td>\n",
       "      <td>16.014935</td>\n",
       "      <td>-500.007126</td>\n",
       "    </tr>\n",
       "    <tr>\n",
       "      <th>75%</th>\n",
       "      <td>208.125438</td>\n",
       "      <td>10.027764</td>\n",
       "      <td>7.600000</td>\n",
       "      <td>1.797819</td>\n",
       "      <td>1.602077e+03</td>\n",
       "      <td>-499.568951</td>\n",
       "      <td>1.602324e+03</td>\n",
       "      <td>-499.293257</td>\n",
       "      <td>1.601144e+03</td>\n",
       "      <td>-498.994130</td>\n",
       "      <td>1.600965e+03</td>\n",
       "      <td>-499.607040</td>\n",
       "      <td>10.652297</td>\n",
       "      <td>4.282634</td>\n",
       "      <td>575.307213</td>\n",
       "      <td>62.431047</td>\n",
       "      <td>41.635385</td>\n",
       "      <td>10.463538</td>\n",
       "      <td>16.974284</td>\n",
       "      <td>7.085457</td>\n",
       "      <td>16.959671</td>\n",
       "      <td>7.091808</td>\n",
       "      <td>1006.254299</td>\n",
       "      <td>-300.060056</td>\n",
       "      <td>1433.955649</td>\n",
       "      <td>-450.749619</td>\n",
       "      <td>1406.594956</td>\n",
       "      <td>-451.153188</td>\n",
       "      <td>1391.497269</td>\n",
       "      <td>-452.483463</td>\n",
       "      <td>1101.365315</td>\n",
       "      <td>-450.957513</td>\n",
       "      <td>1050.433005</td>\n",
       "      <td>-451.986460</td>\n",
       "      <td>28.091885</td>\n",
       "      <td>-499.791639</td>\n",
       "      <td>24.985013</td>\n",
       "      <td>-499.831532</td>\n",
       "      <td>30.002063</td>\n",
       "      <td>-499.780163</td>\n",
       "      <td>2.697698e+01</td>\n",
       "      <td>-499.890608</td>\n",
       "      <td>1.803862e+01</td>\n",
       "      <td>-499.404224</td>\n",
       "      <td>1.596213e+01</td>\n",
       "      <td>-400.933805</td>\n",
       "      <td>15.097528</td>\n",
       "      <td>-499.283191</td>\n",
       "      <td>11.997467</td>\n",
       "      <td>-499.719913</td>\n",
       "      <td>21.020013</td>\n",
       "      <td>-499.373018</td>\n",
       "    </tr>\n",
       "    <tr>\n",
       "      <th>max</th>\n",
       "      <td>265.983123</td>\n",
       "      <td>40.000000</td>\n",
       "      <td>15.500000</td>\n",
       "      <td>4.102454</td>\n",
       "      <td>2.103104e+03</td>\n",
       "      <td>-57.195404</td>\n",
       "      <td>1.813084e+03</td>\n",
       "      <td>-142.527229</td>\n",
       "      <td>1.715054e+03</td>\n",
       "      <td>-150.937035</td>\n",
       "      <td>1.913257e+03</td>\n",
       "      <td>-158.950573</td>\n",
       "      <td>14.406130</td>\n",
       "      <td>6.905684</td>\n",
       "      <td>707.364020</td>\n",
       "      <td>392.494040</td>\n",
       "      <td>53.477742</td>\n",
       "      <td>13.731330</td>\n",
       "      <td>24.280636</td>\n",
       "      <td>8.910468</td>\n",
       "      <td>24.280966</td>\n",
       "      <td>8.621338</td>\n",
       "      <td>1423.274687</td>\n",
       "      <td>-273.776101</td>\n",
       "      <td>1706.640419</td>\n",
       "      <td>-298.200051</td>\n",
       "      <td>1731.017788</td>\n",
       "      <td>-298.036852</td>\n",
       "      <td>1775.218584</td>\n",
       "      <td>-76.397327</td>\n",
       "      <td>1467.184843</td>\n",
       "      <td>-139.753025</td>\n",
       "      <td>1476.588107</td>\n",
       "      <td>-249.801043</td>\n",
       "      <td>32.138727</td>\n",
       "      <td>-300.343670</td>\n",
       "      <td>28.165864</td>\n",
       "      <td>-211.999273</td>\n",
       "      <td>40.041997</td>\n",
       "      <td>-313.866425</td>\n",
       "      <td>3.203936e+01</td>\n",
       "      <td>-202.277366</td>\n",
       "      <td>3.005180e+01</td>\n",
       "      <td>-401.565212</td>\n",
       "      <td>3.126971e+01</td>\n",
       "      <td>-6.506986</td>\n",
       "      <td>25.258848</td>\n",
       "      <td>-244.483566</td>\n",
       "      <td>14.086866</td>\n",
       "      <td>-137.740004</td>\n",
       "      <td>26.705889</td>\n",
       "      <td>-123.307487</td>\n",
       "    </tr>\n",
       "  </tbody>\n",
       "</table>\n",
       "</div>"
      ],
      "text/plain": [
       "       primary_cleaner.input.sulfate  primary_cleaner.input.depressant  \\\n",
       "count                    5286.000000                       5285.000000   \n",
       "mean                      174.839652                          8.683596   \n",
       "std                        43.027080                          3.072050   \n",
       "min                         2.566156                          0.003839   \n",
       "25%                       147.121401                          6.489555   \n",
       "50%                       177.828489                          8.052207   \n",
       "75%                       208.125438                         10.027764   \n",
       "max                       265.983123                         40.000000   \n",
       "\n",
       "       primary_cleaner.input.feed_size  primary_cleaner.input.xanthate  \\\n",
       "count                      5290.000000                     5286.000000   \n",
       "mean                          7.266339                        1.383803   \n",
       "std                           0.610219                        0.643474   \n",
       "min                           5.650000                        0.004984   \n",
       "25%                           6.890000                        0.907623   \n",
       "50%                           7.250000                        1.197610   \n",
       "75%                           7.600000                        1.797819   \n",
       "max                          15.500000                        4.102454   \n",
       "\n",
       "       primary_cleaner.state.floatbank8_a_air  \\\n",
       "count                            5.290000e+03   \n",
       "mean                             1.539494e+03   \n",
       "std                              1.167979e+02   \n",
       "min                              5.445860e-32   \n",
       "25%                              1.498936e+03   \n",
       "50%                              1.585129e+03   \n",
       "75%                              1.602077e+03   \n",
       "max                              2.103104e+03   \n",
       "\n",
       "       primary_cleaner.state.floatbank8_a_level  \\\n",
       "count                               5290.000000   \n",
       "mean                                -497.665883   \n",
       "std                                   19.952431   \n",
       "min                                 -795.316337   \n",
       "25%                                 -500.357298   \n",
       "50%                                 -499.969164   \n",
       "75%                                 -499.568951   \n",
       "max                                  -57.195404   \n",
       "\n",
       "       primary_cleaner.state.floatbank8_b_air  \\\n",
       "count                            5.290000e+03   \n",
       "mean                             1.545174e+03   \n",
       "std                              1.222246e+02   \n",
       "min                              6.647490e-32   \n",
       "25%                              1.498971e+03   \n",
       "50%                              1.595622e+03   \n",
       "75%                              1.602324e+03   \n",
       "max                              1.813084e+03   \n",
       "\n",
       "       primary_cleaner.state.floatbank8_b_level  \\\n",
       "count                               5290.000000   \n",
       "mean                                -500.273098   \n",
       "std                                   32.968307   \n",
       "min                                 -799.997015   \n",
       "25%                                 -500.703002   \n",
       "50%                                 -500.028514   \n",
       "75%                                 -499.293257   \n",
       "max                                 -142.527229   \n",
       "\n",
       "       primary_cleaner.state.floatbank8_c_air  \\\n",
       "count                            5.290000e+03   \n",
       "mean                             1.527272e+03   \n",
       "std                              1.225380e+02   \n",
       "min                              4.033736e-32   \n",
       "25%                              1.473230e+03   \n",
       "50%                              1.549595e+03   \n",
       "75%                              1.601144e+03   \n",
       "max                              1.715054e+03   \n",
       "\n",
       "       primary_cleaner.state.floatbank8_c_level  \\\n",
       "count                               5290.000000   \n",
       "mean                                -498.330680   \n",
       "std                                   21.964876   \n",
       "min                                 -799.960571   \n",
       "25%                                 -501.018117   \n",
       "50%                                 -500.017711   \n",
       "75%                                 -498.994130   \n",
       "max                                 -150.937035   \n",
       "\n",
       "       primary_cleaner.state.floatbank8_d_air  \\\n",
       "count                            5.290000e+03   \n",
       "mean                             1.544844e+03   \n",
       "std                              1.247731e+02   \n",
       "min                              4.039220e-32   \n",
       "25%                              1.499481e+03   \n",
       "50%                              1.594579e+03   \n",
       "75%                              1.600965e+03   \n",
       "max                              1.913257e+03   \n",
       "\n",
       "       primary_cleaner.state.floatbank8_d_level  rougher.input.feed_ag  \\\n",
       "count                               5290.000000            5290.000000   \n",
       "mean                                -500.199527               9.371940   \n",
       "std                                   31.045257               1.926264   \n",
       "min                                 -799.794250               0.568441   \n",
       "25%                                 -500.452469               8.112434   \n",
       "50%                                 -500.023307               9.762654   \n",
       "75%                                 -499.607040              10.652297   \n",
       "max                                 -158.950573              14.406130   \n",
       "\n",
       "       rougher.input.feed_pb  rougher.input.feed_rate  \\\n",
       "count            5290.000000              5287.000000   \n",
       "mean                3.798082               489.800620   \n",
       "std                 0.954859               108.036326   \n",
       "min                 0.273677                 0.002986   \n",
       "25%                 3.240251               407.020883   \n",
       "50%                 3.740716               499.051440   \n",
       "75%                 4.282634               575.307213   \n",
       "max                 6.905684               707.364020   \n",
       "\n",
       "       rougher.input.feed_size  rougher.input.feed_sol  rougher.input.feed_au  \\\n",
       "count              5289.000000             5269.000000            5290.000000   \n",
       "mean                 55.951097               37.716648               9.334682   \n",
       "std                  19.081758                5.491415               1.619521   \n",
       "min                   0.046369                1.393488               0.568632   \n",
       "25%                  43.906347               34.505576               8.207814   \n",
       "50%                  50.841029               37.980276               9.593766   \n",
       "75%                  62.431047               41.635385              10.463538   \n",
       "max                 392.494040               53.477742              13.731330   \n",
       "\n",
       "       rougher.input.floatbank10_sulfate  rougher.input.floatbank10_xanthate  \\\n",
       "count                        5285.000000                         5290.000000   \n",
       "mean                           13.855759                            6.467745   \n",
       "std                             3.350852                            1.065114   \n",
       "min                             0.001147                            0.000568   \n",
       "25%                            11.995006                            5.998779   \n",
       "50%                            14.003126                            6.498181   \n",
       "75%                            16.974284                            7.085457   \n",
       "max                            24.280636                            8.910468   \n",
       "\n",
       "       rougher.input.floatbank11_sulfate  rougher.input.floatbank11_xanthate  \\\n",
       "count                        5282.000000                         5265.000000   \n",
       "mean                           13.922328                            6.512103   \n",
       "std                             3.223769                            0.886989   \n",
       "min                             0.000077                            0.006985   \n",
       "25%                            11.997200                            5.999157   \n",
       "50%                            14.004371                            6.498744   \n",
       "75%                            16.959671                            7.091808   \n",
       "max                            24.280966                            8.621338   \n",
       "\n",
       "       rougher.state.floatbank10_a_air  rougher.state.floatbank10_a_level  \\\n",
       "count                      5290.000000                        5290.000000   \n",
       "mean                       1053.400166                        -395.732530   \n",
       "std                         121.139309                          91.085505   \n",
       "min                          -0.042069                        -657.949759   \n",
       "25%                         999.205344                        -499.920565   \n",
       "50%                        1000.472055                        -399.693363   \n",
       "75%                        1006.254299                        -300.060056   \n",
       "max                        1423.274687                        -273.776101   \n",
       "\n",
       "       rougher.state.floatbank10_b_air  rougher.state.floatbank10_b_level  \\\n",
       "count                      5290.000000                        5290.000000   \n",
       "mean                       1318.926879                        -475.241428   \n",
       "std                         156.450366                          45.649466   \n",
       "min                          -0.721806                        -650.245277   \n",
       "25%                        1200.871883                        -500.256114   \n",
       "50%                        1302.254995                        -499.837803   \n",
       "75%                        1433.955649                        -450.749619   \n",
       "max                        1706.640419                        -298.200051   \n",
       "\n",
       "       rougher.state.floatbank10_c_air  rougher.state.floatbank10_c_level  \\\n",
       "count                      5290.000000                        5290.000000   \n",
       "mean                       1301.595477                        -474.836671   \n",
       "std                         171.269667                          45.859866   \n",
       "min                          -0.056636                        -647.544439   \n",
       "25%                        1199.651371                        -500.233831   \n",
       "50%                        1300.202274                        -499.777222   \n",
       "75%                        1406.594956                        -451.153188   \n",
       "max                        1731.017788                        -298.036852   \n",
       "\n",
       "       rougher.state.floatbank10_d_air  rougher.state.floatbank10_d_level  \\\n",
       "count                      5290.000000                        5290.000000   \n",
       "mean                       1214.847960                        -475.682272   \n",
       "std                         185.763319                          47.844967   \n",
       "min                          -0.992219                        -648.390665   \n",
       "25%                        1093.368068                        -500.440610   \n",
       "50%                        1207.014092                        -499.691917   \n",
       "75%                        1391.497269                        -452.483463   \n",
       "max                        1775.218584                         -76.397327   \n",
       "\n",
       "       rougher.state.floatbank10_e_air  rougher.state.floatbank10_e_level  \\\n",
       "count                      5290.000000                        5290.000000   \n",
       "mean                       1056.648995                        -469.029688   \n",
       "std                         131.542839                          59.325990   \n",
       "min                          -1.982295                        -649.267537   \n",
       "25%                         999.361403                        -500.190639   \n",
       "50%                        1047.495449                        -499.765796   \n",
       "75%                        1101.365315                        -450.957513   \n",
       "max                        1467.184843                        -139.753025   \n",
       "\n",
       "       rougher.state.floatbank10_f_air  rougher.state.floatbank10_f_level  \\\n",
       "count                      5290.000000                        5290.000000   \n",
       "mean                        997.949719                        -470.482465   \n",
       "std                         128.218869                          60.759318   \n",
       "min                          -2.593390                        -649.949283   \n",
       "25%                         901.024994                        -500.624783   \n",
       "50%                         999.441879                        -499.680986   \n",
       "75%                        1050.433005                        -451.986460   \n",
       "max                        1476.588107                        -249.801043   \n",
       "\n",
       "       secondary_cleaner.state.floatbank2_a_air  \\\n",
       "count                               5287.000000   \n",
       "mean                                  26.312630   \n",
       "std                                    3.429852   \n",
       "min                                    0.205329   \n",
       "25%                                   24.942328   \n",
       "50%                                   26.910569   \n",
       "75%                                   28.091885   \n",
       "max                                   32.138727   \n",
       "\n",
       "       secondary_cleaner.state.floatbank2_a_level  \\\n",
       "count                                 5290.000000   \n",
       "mean                                  -502.750897   \n",
       "std                                     28.756505   \n",
       "min                                   -784.091091   \n",
       "25%                                   -500.206517   \n",
       "50%                                   -500.003902   \n",
       "75%                                   -499.791639   \n",
       "max                                   -300.343670   \n",
       "\n",
       "       secondary_cleaner.state.floatbank2_b_air  \\\n",
       "count                               5288.000000   \n",
       "mean                                  21.949119   \n",
       "std                                    4.354961   \n",
       "min                                    0.006064   \n",
       "25%                                   20.002315   \n",
       "50%                                   22.942603   \n",
       "75%                                   24.985013   \n",
       "max                                   28.165864   \n",
       "\n",
       "       secondary_cleaner.state.floatbank2_b_level  \\\n",
       "count                                 5290.000000   \n",
       "mean                                  -501.987097   \n",
       "std                                     34.582722   \n",
       "min                                   -797.783989   \n",
       "25%                                   -500.218030   \n",
       "50%                                   -500.019058   \n",
       "75%                                   -499.831532   \n",
       "max                                   -211.999273   \n",
       "\n",
       "       secondary_cleaner.state.floatbank3_a_air  \\\n",
       "count                               5281.000000   \n",
       "mean                                  25.402926   \n",
       "std                                    6.526457   \n",
       "min                                    0.000000   \n",
       "25%                                   22.982288   \n",
       "50%                                   25.010105   \n",
       "75%                                   30.002063   \n",
       "max                                   40.041997   \n",
       "\n",
       "       secondary_cleaner.state.floatbank3_a_level  \\\n",
       "count                                 5290.000000   \n",
       "mean                                  -507.490314   \n",
       "std                                     47.620908   \n",
       "min                                   -799.755798   \n",
       "25%                                   -500.297951   \n",
       "50%                                   -500.034578   \n",
       "75%                                   -499.780163   \n",
       "max                                   -313.866425   \n",
       "\n",
       "       secondary_cleaner.state.floatbank3_b_air  \\\n",
       "count                              5.290000e+03   \n",
       "mean                               2.098211e+01   \n",
       "std                                6.736179e+00   \n",
       "min                                1.521587e-17   \n",
       "25%                                1.796786e+01   \n",
       "50%                                2.100316e+01   \n",
       "75%                                2.697698e+01   \n",
       "max                                3.203936e+01   \n",
       "\n",
       "       secondary_cleaner.state.floatbank3_b_level  \\\n",
       "count                                 5290.000000   \n",
       "mean                                  -506.627916   \n",
       "std                                     44.528673   \n",
       "min                                   -809.333008   \n",
       "25%                                   -500.145128   \n",
       "50%                                   -500.013819   \n",
       "75%                                   -499.890608   \n",
       "max                                   -202.277366   \n",
       "\n",
       "       secondary_cleaner.state.floatbank4_a_air  \\\n",
       "count                              5.290000e+03   \n",
       "mean                               1.632007e+01   \n",
       "std                                3.493583e+00   \n",
       "min                                1.079872e-16   \n",
       "25%                                1.403618e+01   \n",
       "50%                                1.700847e+01   \n",
       "75%                                1.803862e+01   \n",
       "max                                3.005180e+01   \n",
       "\n",
       "       secondary_cleaner.state.floatbank4_a_level  \\\n",
       "count                                 5290.000000   \n",
       "mean                                  -505.144570   \n",
       "std                                     31.427337   \n",
       "min                                   -799.798523   \n",
       "25%                                   -500.868258   \n",
       "50%                                   -500.115727   \n",
       "75%                                   -499.404224   \n",
       "max                                   -401.565212   \n",
       "\n",
       "       secondary_cleaner.state.floatbank4_b_air  \\\n",
       "count                              5.290000e+03   \n",
       "mean                               1.373544e+01   \n",
       "std                                3.430484e+00   \n",
       "min                                2.489718e-17   \n",
       "25%                                1.202862e+01   \n",
       "50%                                1.496486e+01   \n",
       "75%                                1.596213e+01   \n",
       "max                                3.126971e+01   \n",
       "\n",
       "       secondary_cleaner.state.floatbank4_b_level  \\\n",
       "count                                 5290.000000   \n",
       "mean                                  -463.349858   \n",
       "std                                     86.189107   \n",
       "min                                   -800.836914   \n",
       "25%                                   -500.323028   \n",
       "50%                                   -499.576513   \n",
       "75%                                   -400.933805   \n",
       "max                                     -6.506986   \n",
       "\n",
       "       secondary_cleaner.state.floatbank5_a_air  \\\n",
       "count                               5290.000000   \n",
       "mean                                  12.804186   \n",
       "std                                    3.026591   \n",
       "min                                    0.069227   \n",
       "25%                                   10.914838   \n",
       "50%                                   12.954182   \n",
       "75%                                   15.097528   \n",
       "max                                   25.258848   \n",
       "\n",
       "       secondary_cleaner.state.floatbank5_a_level  \\\n",
       "count                                 5290.000000   \n",
       "mean                                  -501.329122   \n",
       "std                                     17.951495   \n",
       "min                                   -797.323986   \n",
       "25%                                   -500.726841   \n",
       "50%                                   -499.990332   \n",
       "75%                                   -499.283191   \n",
       "max                                   -244.483566   \n",
       "\n",
       "       secondary_cleaner.state.floatbank5_b_air  \\\n",
       "count                               5290.000000   \n",
       "mean                                   9.881145   \n",
       "std                                    2.868205   \n",
       "min                                    0.528083   \n",
       "25%                                    8.036719   \n",
       "50%                                   10.004301   \n",
       "75%                                   11.997467   \n",
       "max                                   14.086866   \n",
       "\n",
       "       secondary_cleaner.state.floatbank5_b_level  \\\n",
       "count                                 5290.000000   \n",
       "mean                                  -495.663398   \n",
       "std                                     34.535007   \n",
       "min                                   -800.220337   \n",
       "25%                                   -500.194668   \n",
       "50%                                   -499.990535   \n",
       "75%                                   -499.719913   \n",
       "max                                   -137.740004   \n",
       "\n",
       "       secondary_cleaner.state.floatbank6_a_air  \\\n",
       "count                               5290.000000   \n",
       "mean                                  17.304935   \n",
       "std                                    4.536544   \n",
       "min                                   -0.079426   \n",
       "25%                                   13.997317   \n",
       "50%                                   16.014935   \n",
       "75%                                   21.020013   \n",
       "max                                   26.705889   \n",
       "\n",
       "       secondary_cleaner.state.floatbank6_a_level  \n",
       "count                                 5290.000000  \n",
       "mean                                  -501.793193  \n",
       "std                                     39.044215  \n",
       "min                                   -809.741464  \n",
       "25%                                   -500.690984  \n",
       "50%                                   -500.007126  \n",
       "75%                                   -499.373018  \n",
       "max                                   -123.307487  "
      ]
     },
     "metadata": {},
     "output_type": "display_data"
    },
    {
     "name": "stdout",
     "output_type": "stream",
     "text": [
      "\n",
      "Полных дубликатов: 0\n",
      "\n"
     ]
    },
    {
     "data": {
      "text/html": [
       "<style  type=\"text/css\" >\n",
       "#T_20db5_row0_col0,#T_20db5_row3_col0{\n",
       "            background-color:  #7093f3;\n",
       "            color:  #000000;\n",
       "        }#T_20db5_row1_col0,#T_20db5_row18_col0{\n",
       "            background-color:  #799cf8;\n",
       "            color:  #000000;\n",
       "        }#T_20db5_row2_col0,#T_20db5_row4_col0,#T_20db5_row5_col0,#T_20db5_row6_col0,#T_20db5_row7_col0,#T_20db5_row8_col0,#T_20db5_row9_col0,#T_20db5_row10_col0,#T_20db5_row11_col0,#T_20db5_row12_col0,#T_20db5_row13_col0,#T_20db5_row17_col0,#T_20db5_row19_col0,#T_20db5_row22_col0,#T_20db5_row23_col0,#T_20db5_row24_col0,#T_20db5_row25_col0,#T_20db5_row26_col0,#T_20db5_row27_col0,#T_20db5_row28_col0,#T_20db5_row29_col0,#T_20db5_row30_col0,#T_20db5_row31_col0,#T_20db5_row32_col0,#T_20db5_row33_col0,#T_20db5_row35_col0,#T_20db5_row37_col0,#T_20db5_row39_col0,#T_20db5_row40_col0,#T_20db5_row41_col0,#T_20db5_row42_col0,#T_20db5_row43_col0,#T_20db5_row44_col0,#T_20db5_row45_col0,#T_20db5_row46_col0,#T_20db5_row47_col0,#T_20db5_row48_col0,#T_20db5_row49_col0,#T_20db5_row50_col0,#T_20db5_row51_col0{\n",
       "            background-color:  #3b4cc0;\n",
       "            color:  #f1f1f1;\n",
       "        }#T_20db5_row14_col0,#T_20db5_row34_col0{\n",
       "            background-color:  #6282ea;\n",
       "            color:  #000000;\n",
       "        }#T_20db5_row15_col0{\n",
       "            background-color:  #465ecf;\n",
       "            color:  #f1f1f1;\n",
       "        }#T_20db5_row16_col0{\n",
       "            background-color:  #e36c55;\n",
       "            color:  #000000;\n",
       "        }#T_20db5_row20_col0{\n",
       "            background-color:  #a5c3fe;\n",
       "            color:  #000000;\n",
       "        }#T_20db5_row21_col0{\n",
       "            background-color:  #b40426;\n",
       "            color:  #f1f1f1;\n",
       "        }#T_20db5_row36_col0{\n",
       "            background-color:  #5470de;\n",
       "            color:  #000000;\n",
       "        }#T_20db5_row38_col0{\n",
       "            background-color:  #b3cdfb;\n",
       "            color:  #000000;\n",
       "        }</style><table id=\"T_20db5_\" ><thead>    <tr>        <th class=\"blank level0\" ></th>        <th class=\"col_heading level0 col0\" >0</th>    </tr></thead><tbody>\n",
       "                <tr>\n",
       "                        <th id=\"T_20db5_level0_row0\" class=\"row_heading level0 row0\" >primary_cleaner.input.sulfate</th>\n",
       "                        <td id=\"T_20db5_row0_col0\" class=\"data row0 col0\" >0.080000</td>\n",
       "            </tr>\n",
       "            <tr>\n",
       "                        <th id=\"T_20db5_level0_row1\" class=\"row_heading level0 row1\" >primary_cleaner.input.depressant</th>\n",
       "                        <td id=\"T_20db5_row1_col0\" class=\"data row1 col0\" >0.090000</td>\n",
       "            </tr>\n",
       "            <tr>\n",
       "                        <th id=\"T_20db5_level0_row2\" class=\"row_heading level0 row2\" >primary_cleaner.input.feed_size</th>\n",
       "                        <td id=\"T_20db5_row2_col0\" class=\"data row2 col0\" >0.000000</td>\n",
       "            </tr>\n",
       "            <tr>\n",
       "                        <th id=\"T_20db5_level0_row3\" class=\"row_heading level0 row3\" >primary_cleaner.input.xanthate</th>\n",
       "                        <td id=\"T_20db5_row3_col0\" class=\"data row3 col0\" >0.080000</td>\n",
       "            </tr>\n",
       "            <tr>\n",
       "                        <th id=\"T_20db5_level0_row4\" class=\"row_heading level0 row4\" >primary_cleaner.state.floatbank8_a_air</th>\n",
       "                        <td id=\"T_20db5_row4_col0\" class=\"data row4 col0\" >0.000000</td>\n",
       "            </tr>\n",
       "            <tr>\n",
       "                        <th id=\"T_20db5_level0_row5\" class=\"row_heading level0 row5\" >primary_cleaner.state.floatbank8_a_level</th>\n",
       "                        <td id=\"T_20db5_row5_col0\" class=\"data row5 col0\" >0.000000</td>\n",
       "            </tr>\n",
       "            <tr>\n",
       "                        <th id=\"T_20db5_level0_row6\" class=\"row_heading level0 row6\" >primary_cleaner.state.floatbank8_b_air</th>\n",
       "                        <td id=\"T_20db5_row6_col0\" class=\"data row6 col0\" >0.000000</td>\n",
       "            </tr>\n",
       "            <tr>\n",
       "                        <th id=\"T_20db5_level0_row7\" class=\"row_heading level0 row7\" >primary_cleaner.state.floatbank8_b_level</th>\n",
       "                        <td id=\"T_20db5_row7_col0\" class=\"data row7 col0\" >0.000000</td>\n",
       "            </tr>\n",
       "            <tr>\n",
       "                        <th id=\"T_20db5_level0_row8\" class=\"row_heading level0 row8\" >primary_cleaner.state.floatbank8_c_air</th>\n",
       "                        <td id=\"T_20db5_row8_col0\" class=\"data row8 col0\" >0.000000</td>\n",
       "            </tr>\n",
       "            <tr>\n",
       "                        <th id=\"T_20db5_level0_row9\" class=\"row_heading level0 row9\" >primary_cleaner.state.floatbank8_c_level</th>\n",
       "                        <td id=\"T_20db5_row9_col0\" class=\"data row9 col0\" >0.000000</td>\n",
       "            </tr>\n",
       "            <tr>\n",
       "                        <th id=\"T_20db5_level0_row10\" class=\"row_heading level0 row10\" >primary_cleaner.state.floatbank8_d_air</th>\n",
       "                        <td id=\"T_20db5_row10_col0\" class=\"data row10 col0\" >0.000000</td>\n",
       "            </tr>\n",
       "            <tr>\n",
       "                        <th id=\"T_20db5_level0_row11\" class=\"row_heading level0 row11\" >primary_cleaner.state.floatbank8_d_level</th>\n",
       "                        <td id=\"T_20db5_row11_col0\" class=\"data row11 col0\" >0.000000</td>\n",
       "            </tr>\n",
       "            <tr>\n",
       "                        <th id=\"T_20db5_level0_row12\" class=\"row_heading level0 row12\" >rougher.input.feed_ag</th>\n",
       "                        <td id=\"T_20db5_row12_col0\" class=\"data row12 col0\" >0.000000</td>\n",
       "            </tr>\n",
       "            <tr>\n",
       "                        <th id=\"T_20db5_level0_row13\" class=\"row_heading level0 row13\" >rougher.input.feed_pb</th>\n",
       "                        <td id=\"T_20db5_row13_col0\" class=\"data row13 col0\" >0.000000</td>\n",
       "            </tr>\n",
       "            <tr>\n",
       "                        <th id=\"T_20db5_level0_row14\" class=\"row_heading level0 row14\" >rougher.input.feed_rate</th>\n",
       "                        <td id=\"T_20db5_row14_col0\" class=\"data row14 col0\" >0.060000</td>\n",
       "            </tr>\n",
       "            <tr>\n",
       "                        <th id=\"T_20db5_level0_row15\" class=\"row_heading level0 row15\" >rougher.input.feed_size</th>\n",
       "                        <td id=\"T_20db5_row15_col0\" class=\"data row15 col0\" >0.020000</td>\n",
       "            </tr>\n",
       "            <tr>\n",
       "                        <th id=\"T_20db5_level0_row16\" class=\"row_heading level0 row16\" >rougher.input.feed_sol</th>\n",
       "                        <td id=\"T_20db5_row16_col0\" class=\"data row16 col0\" >0.400000</td>\n",
       "            </tr>\n",
       "            <tr>\n",
       "                        <th id=\"T_20db5_level0_row17\" class=\"row_heading level0 row17\" >rougher.input.feed_au</th>\n",
       "                        <td id=\"T_20db5_row17_col0\" class=\"data row17 col0\" >0.000000</td>\n",
       "            </tr>\n",
       "            <tr>\n",
       "                        <th id=\"T_20db5_level0_row18\" class=\"row_heading level0 row18\" >rougher.input.floatbank10_sulfate</th>\n",
       "                        <td id=\"T_20db5_row18_col0\" class=\"data row18 col0\" >0.090000</td>\n",
       "            </tr>\n",
       "            <tr>\n",
       "                        <th id=\"T_20db5_level0_row19\" class=\"row_heading level0 row19\" >rougher.input.floatbank10_xanthate</th>\n",
       "                        <td id=\"T_20db5_row19_col0\" class=\"data row19 col0\" >0.000000</td>\n",
       "            </tr>\n",
       "            <tr>\n",
       "                        <th id=\"T_20db5_level0_row20\" class=\"row_heading level0 row20\" >rougher.input.floatbank11_sulfate</th>\n",
       "                        <td id=\"T_20db5_row20_col0\" class=\"data row20 col0\" >0.150000</td>\n",
       "            </tr>\n",
       "            <tr>\n",
       "                        <th id=\"T_20db5_level0_row21\" class=\"row_heading level0 row21\" >rougher.input.floatbank11_xanthate</th>\n",
       "                        <td id=\"T_20db5_row21_col0\" class=\"data row21 col0\" >0.470000</td>\n",
       "            </tr>\n",
       "            <tr>\n",
       "                        <th id=\"T_20db5_level0_row22\" class=\"row_heading level0 row22\" >rougher.state.floatbank10_a_air</th>\n",
       "                        <td id=\"T_20db5_row22_col0\" class=\"data row22 col0\" >0.000000</td>\n",
       "            </tr>\n",
       "            <tr>\n",
       "                        <th id=\"T_20db5_level0_row23\" class=\"row_heading level0 row23\" >rougher.state.floatbank10_a_level</th>\n",
       "                        <td id=\"T_20db5_row23_col0\" class=\"data row23 col0\" >0.000000</td>\n",
       "            </tr>\n",
       "            <tr>\n",
       "                        <th id=\"T_20db5_level0_row24\" class=\"row_heading level0 row24\" >rougher.state.floatbank10_b_air</th>\n",
       "                        <td id=\"T_20db5_row24_col0\" class=\"data row24 col0\" >0.000000</td>\n",
       "            </tr>\n",
       "            <tr>\n",
       "                        <th id=\"T_20db5_level0_row25\" class=\"row_heading level0 row25\" >rougher.state.floatbank10_b_level</th>\n",
       "                        <td id=\"T_20db5_row25_col0\" class=\"data row25 col0\" >0.000000</td>\n",
       "            </tr>\n",
       "            <tr>\n",
       "                        <th id=\"T_20db5_level0_row26\" class=\"row_heading level0 row26\" >rougher.state.floatbank10_c_air</th>\n",
       "                        <td id=\"T_20db5_row26_col0\" class=\"data row26 col0\" >0.000000</td>\n",
       "            </tr>\n",
       "            <tr>\n",
       "                        <th id=\"T_20db5_level0_row27\" class=\"row_heading level0 row27\" >rougher.state.floatbank10_c_level</th>\n",
       "                        <td id=\"T_20db5_row27_col0\" class=\"data row27 col0\" >0.000000</td>\n",
       "            </tr>\n",
       "            <tr>\n",
       "                        <th id=\"T_20db5_level0_row28\" class=\"row_heading level0 row28\" >rougher.state.floatbank10_d_air</th>\n",
       "                        <td id=\"T_20db5_row28_col0\" class=\"data row28 col0\" >0.000000</td>\n",
       "            </tr>\n",
       "            <tr>\n",
       "                        <th id=\"T_20db5_level0_row29\" class=\"row_heading level0 row29\" >rougher.state.floatbank10_d_level</th>\n",
       "                        <td id=\"T_20db5_row29_col0\" class=\"data row29 col0\" >0.000000</td>\n",
       "            </tr>\n",
       "            <tr>\n",
       "                        <th id=\"T_20db5_level0_row30\" class=\"row_heading level0 row30\" >rougher.state.floatbank10_e_air</th>\n",
       "                        <td id=\"T_20db5_row30_col0\" class=\"data row30 col0\" >0.000000</td>\n",
       "            </tr>\n",
       "            <tr>\n",
       "                        <th id=\"T_20db5_level0_row31\" class=\"row_heading level0 row31\" >rougher.state.floatbank10_e_level</th>\n",
       "                        <td id=\"T_20db5_row31_col0\" class=\"data row31 col0\" >0.000000</td>\n",
       "            </tr>\n",
       "            <tr>\n",
       "                        <th id=\"T_20db5_level0_row32\" class=\"row_heading level0 row32\" >rougher.state.floatbank10_f_air</th>\n",
       "                        <td id=\"T_20db5_row32_col0\" class=\"data row32 col0\" >0.000000</td>\n",
       "            </tr>\n",
       "            <tr>\n",
       "                        <th id=\"T_20db5_level0_row33\" class=\"row_heading level0 row33\" >rougher.state.floatbank10_f_level</th>\n",
       "                        <td id=\"T_20db5_row33_col0\" class=\"data row33 col0\" >0.000000</td>\n",
       "            </tr>\n",
       "            <tr>\n",
       "                        <th id=\"T_20db5_level0_row34\" class=\"row_heading level0 row34\" >secondary_cleaner.state.floatbank2_a_air</th>\n",
       "                        <td id=\"T_20db5_row34_col0\" class=\"data row34 col0\" >0.060000</td>\n",
       "            </tr>\n",
       "            <tr>\n",
       "                        <th id=\"T_20db5_level0_row35\" class=\"row_heading level0 row35\" >secondary_cleaner.state.floatbank2_a_level</th>\n",
       "                        <td id=\"T_20db5_row35_col0\" class=\"data row35 col0\" >0.000000</td>\n",
       "            </tr>\n",
       "            <tr>\n",
       "                        <th id=\"T_20db5_level0_row36\" class=\"row_heading level0 row36\" >secondary_cleaner.state.floatbank2_b_air</th>\n",
       "                        <td id=\"T_20db5_row36_col0\" class=\"data row36 col0\" >0.040000</td>\n",
       "            </tr>\n",
       "            <tr>\n",
       "                        <th id=\"T_20db5_level0_row37\" class=\"row_heading level0 row37\" >secondary_cleaner.state.floatbank2_b_level</th>\n",
       "                        <td id=\"T_20db5_row37_col0\" class=\"data row37 col0\" >0.000000</td>\n",
       "            </tr>\n",
       "            <tr>\n",
       "                        <th id=\"T_20db5_level0_row38\" class=\"row_heading level0 row38\" >secondary_cleaner.state.floatbank3_a_air</th>\n",
       "                        <td id=\"T_20db5_row38_col0\" class=\"data row38 col0\" >0.170000</td>\n",
       "            </tr>\n",
       "            <tr>\n",
       "                        <th id=\"T_20db5_level0_row39\" class=\"row_heading level0 row39\" >secondary_cleaner.state.floatbank3_a_level</th>\n",
       "                        <td id=\"T_20db5_row39_col0\" class=\"data row39 col0\" >0.000000</td>\n",
       "            </tr>\n",
       "            <tr>\n",
       "                        <th id=\"T_20db5_level0_row40\" class=\"row_heading level0 row40\" >secondary_cleaner.state.floatbank3_b_air</th>\n",
       "                        <td id=\"T_20db5_row40_col0\" class=\"data row40 col0\" >0.000000</td>\n",
       "            </tr>\n",
       "            <tr>\n",
       "                        <th id=\"T_20db5_level0_row41\" class=\"row_heading level0 row41\" >secondary_cleaner.state.floatbank3_b_level</th>\n",
       "                        <td id=\"T_20db5_row41_col0\" class=\"data row41 col0\" >0.000000</td>\n",
       "            </tr>\n",
       "            <tr>\n",
       "                        <th id=\"T_20db5_level0_row42\" class=\"row_heading level0 row42\" >secondary_cleaner.state.floatbank4_a_air</th>\n",
       "                        <td id=\"T_20db5_row42_col0\" class=\"data row42 col0\" >0.000000</td>\n",
       "            </tr>\n",
       "            <tr>\n",
       "                        <th id=\"T_20db5_level0_row43\" class=\"row_heading level0 row43\" >secondary_cleaner.state.floatbank4_a_level</th>\n",
       "                        <td id=\"T_20db5_row43_col0\" class=\"data row43 col0\" >0.000000</td>\n",
       "            </tr>\n",
       "            <tr>\n",
       "                        <th id=\"T_20db5_level0_row44\" class=\"row_heading level0 row44\" >secondary_cleaner.state.floatbank4_b_air</th>\n",
       "                        <td id=\"T_20db5_row44_col0\" class=\"data row44 col0\" >0.000000</td>\n",
       "            </tr>\n",
       "            <tr>\n",
       "                        <th id=\"T_20db5_level0_row45\" class=\"row_heading level0 row45\" >secondary_cleaner.state.floatbank4_b_level</th>\n",
       "                        <td id=\"T_20db5_row45_col0\" class=\"data row45 col0\" >0.000000</td>\n",
       "            </tr>\n",
       "            <tr>\n",
       "                        <th id=\"T_20db5_level0_row46\" class=\"row_heading level0 row46\" >secondary_cleaner.state.floatbank5_a_air</th>\n",
       "                        <td id=\"T_20db5_row46_col0\" class=\"data row46 col0\" >0.000000</td>\n",
       "            </tr>\n",
       "            <tr>\n",
       "                        <th id=\"T_20db5_level0_row47\" class=\"row_heading level0 row47\" >secondary_cleaner.state.floatbank5_a_level</th>\n",
       "                        <td id=\"T_20db5_row47_col0\" class=\"data row47 col0\" >0.000000</td>\n",
       "            </tr>\n",
       "            <tr>\n",
       "                        <th id=\"T_20db5_level0_row48\" class=\"row_heading level0 row48\" >secondary_cleaner.state.floatbank5_b_air</th>\n",
       "                        <td id=\"T_20db5_row48_col0\" class=\"data row48 col0\" >0.000000</td>\n",
       "            </tr>\n",
       "            <tr>\n",
       "                        <th id=\"T_20db5_level0_row49\" class=\"row_heading level0 row49\" >secondary_cleaner.state.floatbank5_b_level</th>\n",
       "                        <td id=\"T_20db5_row49_col0\" class=\"data row49 col0\" >0.000000</td>\n",
       "            </tr>\n",
       "            <tr>\n",
       "                        <th id=\"T_20db5_level0_row50\" class=\"row_heading level0 row50\" >secondary_cleaner.state.floatbank6_a_air</th>\n",
       "                        <td id=\"T_20db5_row50_col0\" class=\"data row50 col0\" >0.000000</td>\n",
       "            </tr>\n",
       "            <tr>\n",
       "                        <th id=\"T_20db5_level0_row51\" class=\"row_heading level0 row51\" >secondary_cleaner.state.floatbank6_a_level</th>\n",
       "                        <td id=\"T_20db5_row51_col0\" class=\"data row51 col0\" >0.000000</td>\n",
       "            </tr>\n",
       "    </tbody></table>"
      ],
      "text/plain": [
       "<pandas.io.formats.style.Styler at 0x7f6ca41613a0>"
      ]
     },
     "execution_count": 7,
     "metadata": {},
     "output_type": "execute_result"
    }
   ],
   "source": [
    "description(gold_test)"
   ]
  },
  {
   "cell_type": "markdown",
   "metadata": {},
   "source": [
    "Датасет gold_test содержит 52 столбца и 5290 строк. Видим, что в тестовой выборке отсутствует часть столбцов. "
   ]
  },
  {
   "cell_type": "markdown",
   "metadata": {},
   "source": [
    "1.2. Проверим, что эффективность обогащения рассчитана правильно.\n",
    "\n",
    "Вычислим её на обучающей выборке для признака rougher.output.recovery.\n",
    "\n",
    "recovery = ((C(F-T))/(FC-T))*100%, где:\n",
    "\n",
    "- С - доля золота в концентрате после фильтрации/очитски (rougher.output.concentrate_au)\n",
    "- F - доля золота в сырье/концентрате до флотации/очистки (rougher.input.feed_au)\n",
    "- T - доля золота в отвальных хвостах после фильтрации/очистки (rougher.output.tail_au)"
   ]
  },
  {
   "cell_type": "code",
   "execution_count": 8,
   "metadata": {},
   "outputs": [
    {
     "name": "stdout",
     "output_type": "stream",
     "text": [
      "Средняя расчетная эф-ть обогащения на обучающей выборке: 82.70450164550293\n",
      "Средняя эф-ть обогацения в признаке rougher.output.recovery: 82.70450164550293\n"
     ]
    }
   ],
   "source": [
    "c = gold_train['rougher.output.concentrate_au']\n",
    "f = gold_train['rougher.input.feed_au']\n",
    "t = gold_train['rougher.output.tail_au']\n",
    "recovery = ((c*(f-t))/(f*(c-t))) * 100\n",
    "\n",
    "print('Средняя расчетная эф-ть обогащения на обучающей выборке:',recovery.mean())\n",
    "print('Средняя эф-ть обогацения в признаке rougher.output.recovery:',gold_train['rougher.output.recovery'].mean())"
   ]
  },
  {
   "cell_type": "markdown",
   "metadata": {},
   "source": [
    "Значения совпадают. Можно предположить, что эффективнсть рассчитанна верно."
   ]
  },
  {
   "cell_type": "markdown",
   "metadata": {},
   "source": [
    " Найдем MAE между полученными значениями (recovery) и значением признака (rougher.output.recovery)."
   ]
  },
  {
   "cell_type": "code",
   "execution_count": 9,
   "metadata": {},
   "outputs": [
    {
     "name": "stdout",
     "output_type": "stream",
     "text": [
      "MAE: 9.73512347450521e-15\n"
     ]
    }
   ],
   "source": [
    "print('MAE:', mean_absolute_error(gold_train['rougher.output.recovery'], recovery))"
   ]
  },
  {
   "cell_type": "markdown",
   "metadata": {},
   "source": [
    "Значение MAE очень маленькое, это подтверждает наше предположение о том, что эффективность обогащения рассчитана верно."
   ]
  },
  {
   "cell_type": "markdown",
   "metadata": {},
   "source": [
    "1.3. Проанализируем признаки, недоступные в тестовой выборке. Что это за параметры? К какому типу относятся?"
   ]
  },
  {
   "cell_type": "code",
   "execution_count": 10,
   "metadata": {},
   "outputs": [
    {
     "data": {
      "text/plain": [
       "['final.output.concentrate_sol',\n",
       " 'rougher.output.tail_au',\n",
       " 'secondary_cleaner.output.tail_ag',\n",
       " 'final.output.recovery',\n",
       " 'rougher.output.tail_sol',\n",
       " 'rougher.output.recovery',\n",
       " 'rougher.output.concentrate_sol',\n",
       " 'rougher.calculation.floatbank11_sulfate_to_au_feed',\n",
       " 'rougher.output.concentrate_au',\n",
       " 'final.output.tail_au',\n",
       " 'primary_cleaner.output.concentrate_sol',\n",
       " 'rougher.calculation.sulfate_to_au_concentrate',\n",
       " 'rougher.calculation.floatbank10_sulfate_to_au_feed',\n",
       " 'primary_cleaner.output.concentrate_au',\n",
       " 'primary_cleaner.output.tail_au',\n",
       " 'primary_cleaner.output.concentrate_ag',\n",
       " 'final.output.tail_sol',\n",
       " 'rougher.output.concentrate_pb',\n",
       " 'primary_cleaner.output.tail_pb',\n",
       " 'secondary_cleaner.output.tail_sol',\n",
       " 'final.output.tail_pb',\n",
       " 'rougher.output.tail_pb',\n",
       " 'final.output.concentrate_ag',\n",
       " 'final.output.concentrate_au',\n",
       " 'rougher.output.concentrate_ag',\n",
       " 'final.output.concentrate_pb',\n",
       " 'rougher.calculation.au_pb_ratio',\n",
       " 'final.output.tail_ag',\n",
       " 'primary_cleaner.output.concentrate_pb',\n",
       " 'secondary_cleaner.output.tail_au',\n",
       " 'secondary_cleaner.output.tail_pb',\n",
       " 'primary_cleaner.output.tail_ag',\n",
       " 'rougher.output.tail_ag',\n",
       " 'primary_cleaner.output.tail_sol']"
      ]
     },
     "execution_count": 10,
     "metadata": {},
     "output_type": "execute_result"
    }
   ],
   "source": [
    "different_columns = list(set(gold_train.columns) - set(gold_test.columns))\n",
    "different_columns"
   ]
  },
  {
   "cell_type": "code",
   "execution_count": 11,
   "metadata": {},
   "outputs": [
    {
     "name": "stdout",
     "output_type": "stream",
     "text": [
      "Обучающая выборка сожержит 34 колонки не вошедшие в тестовую\n"
     ]
    }
   ],
   "source": [
    "print('Обучающая выборка сожержит {} колонки не вошедшие в тестовую'.format(len(different_columns)))"
   ]
  },
  {
   "cell_type": "code",
   "execution_count": 12,
   "metadata": {},
   "outputs": [
    {
     "name": "stdout",
     "output_type": "stream",
     "text": [
      "[этап]: Counter({'rougher': 13, 'final': 9, 'primary_cleaner': 8, 'secondary_cleaner': 4})\n",
      "\n",
      "[тип_параметра]: Counter({'output': 30, 'calculation': 4})\n",
      "\n",
      "[название_параметра]: Counter({'tail_au': 4, 'tail_ag': 4, 'tail_sol': 4, 'tail_pb': 4, 'concentrate_sol': 3, 'concentrate_au': 3, 'concentrate_ag': 3, 'concentrate_pb': 3, 'recovery': 2, 'floatbank11_sulfate_to_au_feed': 1, 'sulfate_to_au_concentrate': 1, 'floatbank10_sulfate_to_au_feed': 1, 'au_pb_ratio': 1})\n"
     ]
    }
   ],
   "source": [
    "#Наименование признаков:\n",
    "#[этап].[тип_параметра].[название_параметра]\n",
    "stage = collections.Counter()\n",
    "parameter_type = collections.Counter()\n",
    "parameter_name = collections.Counter()\n",
    "\n",
    "for i in different_columns:\n",
    "    words = list(map(str,i.split(\".\")))\n",
    "    stage[words[0]] += 1\n",
    "    parameter_type[words[1]] += 1\n",
    "    parameter_name[words[2]] += 1\n",
    "    \n",
    "print('[этап]:',stage)\n",
    "print('\\n[тип_параметра]:',parameter_type)\n",
    "print('\\n[название_параметра]:',parameter_name)"
   ]
  },
  {
   "cell_type": "markdown",
   "metadata": {},
   "source": [
    "Видим, что в тестовой выборке отсутствуют:\n",
    "\n",
    "- 9 столбцов, характеризующие финальные характеристики продукта (final.output);\n",
    "- 8 столбцов, характеризующие продукт на этапе первичной очистки (primary_cleaner.output); \n",
    "- 4 столбца, характеризующих расчетные характеристики на этапе флотации (rougher.calculation); \n",
    "- 9 столбцов, характеризующих продукт посте этапа флотации (rougher.output); \n",
    "- 4 столбца, характеризующие продукт на этапе вторичной очистки (secondary_cleaner.output). \n",
    "\n",
    "- 30 - содержат тип параметра output (параметр продукта)\n",
    "- 4 - содержат тип параметра calculation (расчетные характеистики)\n",
    "\n",
    "\n",
    "Также при изучении датасетов видно, что признаки обладают различным масштабом, поэтому потребуется применить масштабирование.\n",
    "\n",
    "Отметим, что при обучении модели лишние признаки не должны быть включены в обучающую выборку. Но они могут понадобится для исследовательского анализа данных."
   ]
  },
  {
   "cell_type": "markdown",
   "metadata": {},
   "source": [
    "1.4.Проведем предобработку данных."
   ]
  },
  {
   "cell_type": "markdown",
   "metadata": {},
   "source": [
    "Зная, что данные индексируются датой и временем получения информации и соседние по времени параметры часто похожи, заполним пропуски соответствующими значениями в предъидущем ряду методом ffil.\n"
   ]
  },
  {
   "cell_type": "code",
   "execution_count": 13,
   "metadata": {},
   "outputs": [],
   "source": [
    "#заполняем пропуски\n",
    "for i in all_data:\n",
    "    i.ffill(axis='rows', inplace=True)"
   ]
  },
  {
   "cell_type": "code",
   "execution_count": 14,
   "metadata": {},
   "outputs": [
    {
     "name": "stdout",
     "output_type": "stream",
     "text": [
      "rougher.state.floatbank10_a_level  secondary_cleaner.output.tail_sol   -0.630015\n",
      "rougher.state.floatbank10_d_air    primary_cleaner.output.tail_pb      -0.591734\n",
      "rougher.state.floatbank10_c_air    primary_cleaner.output.tail_pb      -0.586921\n",
      "primary_cleaner.output.tail_pb     rougher.state.floatbank10_b_air     -0.553605\n",
      "rougher.state.floatbank10_c_air    primary_cleaner.output.tail_ag      -0.517098\n",
      "                                                                          ...   \n",
      "rougher.state.floatbank10_d_level  rougher.state.floatbank10_b_level    0.971205\n",
      "rougher.state.floatbank10_c_level  rougher.state.floatbank10_d_level    0.980911\n",
      "rougher.state.floatbank10_f_level  rougher.state.floatbank10_e_level    0.980917\n",
      "rougher.state.floatbank10_b_level  rougher.state.floatbank10_c_level    0.987836\n",
      "final.output.concentrate_ag        final.output.concentrate_ag          1.000000\n",
      "Length: 3656, dtype: float64\n"
     ]
    }
   ],
   "source": [
    "#Проверим данные на мультиколлениарность.\n",
    "corr_table = gold_full.corr().unstack().sort_values().drop_duplicates()\n",
    "#display(corr_table)\n",
    "print(corr_table)\n",
    "#corr_table[(corr_table > 0.7) | (corr_table < -0.7)].count()"
   ]
  },
  {
   "cell_type": "code",
   "execution_count": 15,
   "metadata": {},
   "outputs": [
    {
     "name": "stdout",
     "output_type": "stream",
     "text": [
      "0\n",
      "0\n",
      "0\n"
     ]
    }
   ],
   "source": [
    "#Еще раз проверим на наличие явных дубликатов\n",
    "for i in all_data:\n",
    "    print(i.duplicated().sum())"
   ]
  },
  {
   "cell_type": "code",
   "execution_count": 16,
   "metadata": {},
   "outputs": [
    {
     "name": "stdout",
     "output_type": "stream",
     "text": [
      "Размер тестовой выборки:(5290, 52)\n",
      "Размер тренировочной выборки:(14149, 86)\n"
     ]
    }
   ],
   "source": [
    "print('Размер тестовой выборки:{}\\nРазмер тренировочной выборки:{}'.format(gold_test.shape, gold_train.shape))"
   ]
  },
  {
   "cell_type": "markdown",
   "metadata": {},
   "source": [
    "В данном разделе открыты файлы и изучены основные данные.\n",
    "\n",
    "У некоторых признаков видно значимое число значений в области нуля. Вероятно это выбросы. В дальнейшем анализе нужно обратить на них внимание.\n",
    "\n",
    "Проверен расчёт эффективности обогащения. Вычислено значение MAE между данными и расчётными значениями эффективности. Полученные значения МАЕ близки к 0. Это означаем, что эффективность обогащения рассчитана правильно. \n",
    "\n",
    "Рассмотренны поля недоступные в тестовой выборке, где отсутствуют целевые признаки для моделей 'rougher.output.recovery', 'final.output.recovery', а также значения output по всем операциям по всем элементам. Это концентрации элементов после основных операций. Предположительно эти даные, возможно получить только после реальных измерений. Поэтому для постороения прогноза  в файле test этих данных быть не должно .\n",
    "\n",
    "Дубликаты не выявленны. Пропуски заполненны соседними значениями."
   ]
  },
  {
   "cell_type": "markdown",
   "metadata": {},
   "source": [
    "## Анализ данных"
   ]
  },
  {
   "cell_type": "markdown",
   "metadata": {},
   "source": [
    "2.1.Посмотрим, как меняется концентрация металлов (Au, Ag, Pb) на различных этапах очистки.\n",
    "Рассматривать будем данные из полного датасета gold_full\n",
    "\n",
    "Металлы:\n",
    "- Au - золото\n",
    "- Ag - серебро\n",
    "- Pb - свинец\n",
    "- Sol - примеси\n",
    "\n",
    "Этапы:\n",
    "- rougher — флотация\n",
    "- primary_cleaner — первичная очистка\n",
    "- secondary_cleaner — вторичная очистка\n",
    "- final — финальные характеристики"
   ]
  },
  {
   "cell_type": "code",
   "execution_count": 17,
   "metadata": {},
   "outputs": [
    {
     "name": "stdout",
     "output_type": "stream",
     "text": [
      "final.output.concentrate_ag\n",
      "final.output.concentrate_pb\n",
      "final.output.concentrate_sol\n",
      "final.output.concentrate_au\n",
      "primary_cleaner.output.concentrate_ag\n",
      "primary_cleaner.output.concentrate_pb\n",
      "primary_cleaner.output.concentrate_sol\n",
      "primary_cleaner.output.concentrate_au\n",
      "rougher.output.concentrate_ag\n",
      "rougher.output.concentrate_pb\n",
      "rougher.output.concentrate_sol\n",
      "rougher.output.concentrate_au\n"
     ]
    }
   ],
   "source": [
    "search ('output.concentrate', gold_full)"
   ]
  },
  {
   "cell_type": "code",
   "execution_count": 18,
   "metadata": {},
   "outputs": [
    {
     "name": "stdout",
     "output_type": "stream",
     "text": [
      "primary_cleaner.input.feed_size\n",
      "rougher.input.feed_ag\n",
      "rougher.input.feed_pb\n",
      "rougher.input.feed_rate\n",
      "rougher.input.feed_size\n",
      "rougher.input.feed_sol\n",
      "rougher.input.feed_au\n"
     ]
    }
   ],
   "source": [
    "search ('input.feed', gold_full)"
   ]
  },
  {
   "cell_type": "code",
   "execution_count": 19,
   "metadata": {},
   "outputs": [],
   "source": [
    "# золото\n",
    "au_concentrate = gold_full[['rougher.input.feed_au',\n",
    "                            'rougher.output.concentrate_au',\n",
    "                            'primary_cleaner.output.concentrate_au',\n",
    "                            'final.output.concentrate_au']]\n",
    "#серебро\n",
    "ag_concentrate = gold_full[['rougher.input.feed_ag',\n",
    "                            'rougher.output.concentrate_ag',\n",
    "                     'primary_cleaner.output.concentrate_ag',\n",
    "                            'final.output.concentrate_ag']]\n",
    "# свинец\n",
    "pb_concentrate = gold_full[['rougher.input.feed_pb',\n",
    "                            'rougher.output.concentrate_pb',\n",
    "                     'primary_cleaner.output.concentrate_pb',\n",
    "                     'final.output.concentrate_pb']]"
   ]
  },
  {
   "cell_type": "code",
   "execution_count": 20,
   "metadata": {},
   "outputs": [
    {
     "data": {
      "image/png": "[encoded data removed]",
      "text/plain": [
       "<Figure size 720x360 with 1 Axes>"
      ]
     },
     "metadata": {
      "needs_background": "light"
     },
     "output_type": "display_data"
    },
    {
     "data": {
      "image/png": "[encoded data removed]",
      "text/plain": [
       "<Figure size 720x360 with 1 Axes>"
      ]
     },
     "metadata": {
      "needs_background": "light"
     },
     "output_type": "display_data"
    },
    {
     "data": {
      "image/png": "[encoded data removed]",
      "text/plain": [
       "<Figure size 720x360 with 1 Axes>"
      ]
     },
     "metadata": {
      "needs_background": "light"
     },
     "output_type": "display_data"
    }
   ],
   "source": [
    "( au_concentrate.plot( kind ='kde',figsize=(10, 5), linewidth = 2)\n",
    "                .set_title('Изменения концентрации золота Au на различных этапах')\n",
    ");\n",
    "( ag_concentrate.plot(kind ='kde',figsize=(10, 5), linewidth = 2)\n",
    "                .set_title('Изменения концентрации серебра Ag на различных этапах')\n",
    ");\n",
    "( pb_concentrate.plot(kind ='kde',figsize=(10, 5), linewidth = 2)\n",
    "                .set_title('Изменения концентрации свинца Pg на различных этапах')\n",
    ");"
   ]
  },
  {
   "cell_type": "markdown",
   "metadata": {},
   "source": [
    "2.2. Сравните распределения размеров гранул сырья на обучающей и тестовой выборках. Если распределения сильно отличаются друг от друга, оценка модели будет неправильной."
   ]
  },
  {
   "cell_type": "code",
   "execution_count": 22,
   "metadata": {},
   "outputs": [
    {
     "data": {
      "image/png": "[encoded data removed]",
      "text/plain": [
       "<Figure size 1080x360 with 1 Axes>"
      ]
     },
     "metadata": {
      "needs_background": "light"
     },
     "output_type": "display_data"
    }
   ],
   "source": [
    "# Перед флотацией\n",
    "plt.figure(figsize=[15,5])\n",
    "sns.kdeplot(gold_train['rougher.input.feed_size'],label = 'Train rougher.input.feed_size', alpha=.5, shade = True)\n",
    "sns.kdeplot(gold_test['rougher.input.feed_size'],label = 'Test rougher.input.feed_size', alpha=.7, shade = True)\n",
    "plt.xlim([0,175])\n",
    "plt.xlabel(\"Размер гранул сырья\")\n",
    "plt.ylabel(\"Количество результатов\")\n",
    "plt.legend(loc='upper right', fontsize='x-large')\n",
    "plt.title(\"Гистограмма распределения размера гранул сырья перед флотацией\")\n",
    "plt.show()"
   ]
  },
  {
   "cell_type": "code",
   "execution_count": 23,
   "metadata": {},
   "outputs": [
    {
     "data": {
      "image/png": "[encoded data removed]",
      "text/plain": [
       "<Figure size 1080x360 with 1 Axes>"
      ]
     },
     "metadata": {
      "needs_background": "light"
     },
     "output_type": "display_data"
    }
   ],
   "source": [
    "# После флотации\n",
    "plt.figure(figsize=[15,5])\n",
    "sns.kdeplot(gold_train['primary_cleaner.input.feed_size'],label = 'Train primary_cleaner.input.feed_size',\\\n",
    "            alpha=.5, shade = True)\n",
    "sns.kdeplot(gold_test['primary_cleaner.input.feed_size'],label = 'Test primary_cleaner.input.feed_size',\\\n",
    "            alpha=.7, shade = True)\n",
    "plt.xlim([0,15])\n",
    "plt.xlabel(\"Размер гранул сырья\")\n",
    "plt.ylabel(\"Количество результатов\")\n",
    "plt.legend(loc='upper right', fontsize='x-large')\n",
    "plt.title(\"Гистограмма распределения размера гранул сырья после флотации\")\n",
    "plt.show()"
   ]
  },
  {
   "cell_type": "code",
   "execution_count": 24,
   "metadata": {},
   "outputs": [
    {
     "name": "stdout",
     "output_type": "stream",
     "text": [
      " Kolmogorov-Smirnov Test: statistic=0.059, p-value=0.000\n"
     ]
    }
   ],
   "source": [
    "# выполним статистический тест Колмогорова-Смирнова\n",
    "stat, p_value = kstest(gold_train['primary_cleaner.input.feed_size'],gold_test['primary_cleaner.input.feed_size'])\n",
    "print(f\" Kolmogorov-Smirnov Test: statistic={stat:.3f}, p-value={p_value:.3f}\")"
   ]
  },
  {
   "cell_type": "markdown",
   "metadata": {},
   "source": [
    "2.3. Исследуйте суммарную концентрацию всех веществ на разных стадиях: в сырье, в черновом и финальном концентратах. "
   ]
  },
  {
   "cell_type": "code",
   "execution_count": 25,
   "metadata": {},
   "outputs": [],
   "source": [
    "\n",
    "rougher_input_feed_sum_full = (gold_full['rougher.input.feed_ag']+\n",
    "                          gold_full['rougher.input.feed_pb']+\n",
    "                          gold_full['rougher.input.feed_sol']+\n",
    "                          gold_full['rougher.input.feed_au'])\n",
    "\n",
    "rougher_output_concentrate_sum_full = (gold_full['rougher.output.concentrate_au'] + \n",
    "                                        gold_full['rougher.output.concentrate_ag'] + \n",
    "                                        gold_full['rougher.output.concentrate_pb'] +\n",
    "                                        gold_full['rougher.output.concentrate_sol'])\n",
    "primary_cleaner_output_concentrate_sum_full = (gold_full['primary_cleaner.output.concentrate_au'] + \n",
    "                                                gold_full['primary_cleaner.output.concentrate_ag'] + \n",
    "                                                gold_full['primary_cleaner.output.concentrate_pb'] +\n",
    "                                                gold_full['primary_cleaner.output.concentrate_sol'])\n",
    "final_output_concentrate_sum_full = (gold_full['final.output.concentrate_au'] + \n",
    "                                      gold_full['final.output.concentrate_ag'] + \n",
    "                                      gold_full['final.output.concentrate_pb'] +\n",
    "                                      gold_full['final.output.concentrate_sol'])\n"
   ]
  },
  {
   "cell_type": "code",
   "execution_count": 27,
   "metadata": {},
   "outputs": [
    {
     "data": {
      "image/png": "[encoded data removed]",
      "text/plain": [
       "<Figure size 1080x360 with 1 Axes>"
      ]
     },
     "metadata": {
      "needs_background": "light"
     },
     "output_type": "display_data"
    }
   ],
   "source": [
    "plt.figure(figsize=[15,5])\n",
    "\n",
    "#plt.hist(primary_cleaner_output_concentrate_sum_train, bins=100, label = 'Черновой концентрат', alpha=.4)\n",
    "#plt.hist(rougher_output_concentrate_sum_train, bins=100, label = 'Сырьевой концентрат', alpha=.4)\n",
    "#plt.hist(final_output_concentrate_sum_train, bins=100, label = 'Финальный концентрат', alpha=.4)\n",
    "\n",
    "sns.kdeplot(rougher_input_feed_sum_full,label = 'Исходное сырье',alpha=.7, shade = True)\n",
    "sns.kdeplot(primary_cleaner_output_concentrate_sum_full,label = 'Черновой концентрат',alpha=.7, shade = True)\n",
    "sns.kdeplot(rougher_output_concentrate_sum_full,label = 'Сырьевой концентрат',alpha=.7, shade = True)\n",
    "sns.kdeplot(final_output_concentrate_sum_full,label = 'Финальный концентрат',alpha=.7, shade = True)\n",
    "\n",
    "plt.xlabel(\"Суммарная концентраця\")\n",
    "plt.ylabel(\"Количество результатов\")\n",
    "\n",
    "plt.legend(loc='upper left', fontsize='x-large')\n",
    "\n",
    "plt.title(\"Гистограмма распределения концентраций на разных этапах очистки\")\n",
    "plt.show()"
   ]
  },
  {
   "cell_type": "markdown",
   "metadata": {},
   "source": [
    "Удалим 0 выбросы"
   ]
  },
  {
   "cell_type": "code",
   "execution_count": 28,
   "metadata": {},
   "outputs": [],
   "source": [
    "gold_train = gold_train[(gold_train['rougher.output.concentrate_au'] != 0) &\\\n",
    "                        (gold_train['rougher.output.concentrate_ag'] != 0) &\\\n",
    "                        (gold_train['rougher.output.concentrate_pb'] != 0) &\\\n",
    "                        (gold_train['rougher.output.concentrate_sol'] != 0)]\n",
    "gold_train = gold_train[(gold_train['final.output.concentrate_au'] != 0) &\\\n",
    "                        (gold_train['final.output.concentrate_ag'] != 0) &\\\n",
    "                        (gold_train['final.output.concentrate_pb'] != 0) &\\\n",
    "                        (gold_train['final.output.concentrate_sol'] != 0)]\n",
    "\n",
    "gold_full = gold_full[(gold_full['rougher.output.concentrate_au'] != 0) &\\\n",
    "                      (gold_full['rougher.output.concentrate_ag'] != 0) &\\\n",
    "                      (gold_full['rougher.output.concentrate_pb'] != 0) &\\\n",
    "                      (gold_full['rougher.output.concentrate_sol'] != 0)]\n",
    "gold_full = gold_full[(gold_full['final.output.concentrate_au'] != 0) &\\\n",
    "                      (gold_full['final.output.concentrate_ag'] != 0) &\\\n",
    "                      (gold_full['final.output.concentrate_pb'] != 0) &\\\n",
    "                      (gold_full['final.output.concentrate_sol'] != 0)]"
   ]
  },
  {
   "cell_type": "code",
   "execution_count": 29,
   "metadata": {},
   "outputs": [
    {
     "data": {
      "text/plain": [
       "['final.output.recovery', 'rougher.output.recovery']"
      ]
     },
     "execution_count": 29,
     "metadata": {},
     "output_type": "execute_result"
    }
   ],
   "source": [
    "#создадим датасет для целевых признаков, недостающих в тестовой выборке\n",
    "df_target = gold_full[['rougher.output.recovery', 'final.output.recovery']]\n",
    "#добавим эти признаки в тестовую выборку из полной\n",
    "gold_test = gold_test.merge(df_target, how = 'left', on = 'date')\n",
    "#удалим из тренировочной выборки те признаки, которых нет в тестовой\n",
    "gold_train = gold_train.drop(set(gold_train.columns)-set(gold_test.columns), axis=1)\n",
    "# список признаков для обучения модели\n",
    "features_columns = list(gold_test.columns)[1:-2]\n",
    "# список целевых признаков\n",
    "target_columns = list(reversed(list(gold_test.columns)[-2:]))\n",
    "target_columns"
   ]
  },
  {
   "cell_type": "code",
   "execution_count": 30,
   "metadata": {},
   "outputs": [
    {
     "name": "stdout",
     "output_type": "stream",
     "text": [
      "(13792, 51)\n",
      "(5290, 51)\n",
      "(13792,)\n",
      "(13792,)\n",
      "(5290,)\n",
      "(5290,)\n"
     ]
    }
   ],
   "source": [
    "#извлекаем матрицу признаков\n",
    "features_train = gold_train[features_columns]\n",
    "features_test = gold_test[features_columns]\n",
    "# извлекаем целевой признак\n",
    "\n",
    "target_final_train = gold_train['final.output.recovery']\n",
    "target_rougher_train = gold_train['rougher.output.recovery']\n",
    "\n",
    "target_final_test = gold_test['final.output.recovery']\n",
    "target_rougher_test = gold_test['rougher.output.recovery']\n",
    "\n",
    "# оценим размеры\n",
    "for _ in [features_train,features_test, target_final_train, target_rougher_train,\\\n",
    "          target_final_test,target_rougher_test]:\n",
    "    print(_.shape)"
   ]
  },
  {
   "cell_type": "markdown",
   "metadata": {},
   "source": [
    "Концентрация золота Au показывает 2 пика, на этапах флотации и финальном этапе.\n",
    "\n",
    "Концентрация серебра Ag показывает постепенный рост от этапа к этапу.\n",
    "\n",
    "Концентрация свинца Pb показываем максимальные показатели на этапе флотации, затем происходит постепенное падение.\n",
    "\n",
    "На всех графиках концентрации сырья видны значения равные нулю. Судя по распределению, это выбросы. Было принято решение об их удалении."
   ]
  },
  {
   "cell_type": "markdown",
   "metadata": {},
   "source": [
    "Построены графики распределения плотности вероятности значений размеров гранул на входе в этапы флотации и финальной очистки выборок train и test. Распределения очень похожи, что позволяет предположить однородность данных размеров сырья в выборках train и test."
   ]
  },
  {
   "cell_type": "markdown",
   "metadata": {},
   "source": [
    "Исследованна суммарная концентрация всех веществ на разных стадиях: в сырье, в черновом и финальном концентратах.\n",
    "Суммарная концентрация колеблеца в диапазоне от 40 до 90."
   ]
  },
  {
   "cell_type": "markdown",
   "metadata": {},
   "source": [
    "Для проверки качества оценки модели поля 'rougher.output.recovery', 'final.output.recovery' добавлены в тестовый файл gold_test для формирования выборок target_rougher_test и target_final_test."
   ]
  },
  {
   "cell_type": "markdown",
   "metadata": {},
   "source": [
    "## Модель"
   ]
  },
  {
   "cell_type": "markdown",
   "metadata": {},
   "source": [
    "3.1. Напишим функцию для вычисления итоговой sMAPE.\n"
   ]
  },
  {
   "cell_type": "code",
   "execution_count": 31,
   "metadata": {},
   "outputs": [],
   "source": [
    "#функция для вычисления sMAPE:\n",
    "def sMAPE (target, predict):\n",
    "    smape = np.mean(abs(target - predict) / ((abs(target) + abs(predict)) / 2)) * 100\n",
    "    return smape"
   ]
  },
  {
   "cell_type": "code",
   "execution_count": 32,
   "metadata": {},
   "outputs": [],
   "source": [
    "# функция для вычисления итогового sMAPE:\n",
    "def all_sMAPE (rougher,final):\n",
    "    return abs(0.25*rougher + 0.75*final)"
   ]
  },
  {
   "cell_type": "code",
   "execution_count": 33,
   "metadata": {},
   "outputs": [],
   "source": [
    "#Стандартизируем численные признаки\n",
    "scaler = StandardScaler()\n",
    "scaler.fit(features_train)\n",
    "features_train = scaler.transform(features_train)\n",
    "features_test = scaler.transform(features_test)"
   ]
  },
  {
   "cell_type": "code",
   "execution_count": 34,
   "metadata": {},
   "outputs": [],
   "source": [
    "# модели\n",
    "model_rf =  RandomForestRegressor()\n",
    "model_dt = DecisionTreeRegressor()\n",
    "model_lr = LinearRegression()"
   ]
  },
  {
   "cell_type": "code",
   "execution_count": 35,
   "metadata": {},
   "outputs": [],
   "source": [
    "# зададим параметры для моделей\n",
    "score = make_scorer(sMAPE, greater_is_better = False) \n",
    "state = RandomState(123)\n",
    "parameters_rf = {'n_estimators':[x for x in range(1,8)],\n",
    "                 'max_depth':[x for x in range(2,12,3)],\n",
    "                'random_state':[123]}\n",
    "parameters_dt = {'max_depth':[x for x in range(2,12,3)],\n",
    "                'min_samples_leaf':[x for x in range(2,12,3)],\n",
    "                'random_state':[123]}\n",
    "parameters_lr = {'normalize': [False]}"
   ]
  },
  {
   "cell_type": "markdown",
   "metadata": {},
   "source": [
    "3.2. Обучим разные модели и оцените их качество кросс-валидацией. Выберим лучшую модель и проверим её на тестовой выборке."
   ]
  },
  {
   "cell_type": "code",
   "execution_count": null,
   "metadata": {},
   "outputs": [],
   "source": [
    "%%time\n",
    "# перебор гипперпараметров и обучение модели\n",
    "grid_rf = GridSearchCV(model_rf, parameters_rf, cv=5,scoring =score ) #RandomForestRegressor\n",
    "grid_rf_rougher = grid_rf.fit(features_train, target_rougher_train)\n",
    "grid_rf_final = grid_rf.fit(features_train, target_final_train)"
   ]
  },
  {
   "cell_type": "code",
   "execution_count": null,
   "metadata": {},
   "outputs": [],
   "source": [
    "%%time\n",
    "# перебор гипперпараметров и обучение модели\n",
    "grid_dt = GridSearchCV(model_dt, parameters_dt, cv=5,scoring =score ) #DecisionTreeRegressor\n",
    "grid_dt_rougher = grid_dt.fit(features_train, target_rougher_train)\n",
    "grid_dt_final = grid_dt.fit(features_train, target_final_train)"
   ]
  },
  {
   "cell_type": "code",
   "execution_count": null,
   "metadata": {},
   "outputs": [],
   "source": [
    "%%time\n",
    "# перебор гипперпараметров и обучение модели\n",
    "grid_lr = GridSearchCV(model_lr, parameters_lr, cv=5,scoring =score ) #LinearRegression\n",
    "grid_lr_rougher = grid_lr.fit(features_train, target_rougher_train)\n",
    "grid_lr_final = grid_lr.fit(features_train, target_final_train)"
   ]
  },
  {
   "cell_type": "code",
   "execution_count": null,
   "metadata": {},
   "outputs": [],
   "source": [
    "#определяю лучшую из моделей для 2 целевых признаков: \n",
    "best_score_grid_rf_rougher = grid_rf_rougher.best_score_\n",
    "best_score_grid_rf_final = grid_rf_final.best_score_\n",
    "\n",
    "best_score_grid_dt_rougher = grid_dt_rougher.best_score_\n",
    "best_score_grid_dt_final = grid_dt_final.best_score_\n",
    "\n",
    "best_score_grid_lr_rougher = grid_lr_rougher.best_score_\n",
    "best_score_grid_lr_final = grid_lr_final.best_score_\n",
    "\n",
    "print('RandomForestRegressor',(all_sMAPE(best_score_grid_rf_rougher, best_score_grid_rf_final)))\n",
    "print()\n",
    "print('DecisionTreeRegressor',(all_sMAPE(best_score_grid_dt_rougher, best_score_grid_dt_final)))\n",
    "print()\n",
    "print('LinearRegression ',(all_sMAPE(best_score_grid_lr_rougher, best_score_grid_lr_final)))"
   ]
  },
  {
   "cell_type": "markdown",
   "metadata": {},
   "source": [
    "Лучший показатель sMAPE у модели RandomForestRegressor. Подберем для нее лучшие парраметры."
   ]
  },
  {
   "cell_type": "code",
   "execution_count": null,
   "metadata": {},
   "outputs": [],
   "source": [
    "%%time\n",
    "print('Для модели RandomForestRegressor лучший результат на этапе флотации rougher:',grid_rf_rougher.best_params_)\n",
    "print('Для модели RandomForestRegressor лучший результат на финальном этапе final:', grid_rf_final.best_params_)"
   ]
  },
  {
   "cell_type": "code",
   "execution_count": null,
   "metadata": {},
   "outputs": [],
   "source": [
    "#%%time\n",
    "#print('Для модели DecisionTreeRegressor лучший результат на этапе флотации rougher:',grid_dt_rougher.best_params_)\n",
    "#print('Для модели DecisionTreeRegressor лучший результат на финальном этапе final:', grid_dt_final.best_params_)"
   ]
  },
  {
   "cell_type": "code",
   "execution_count": null,
   "metadata": {},
   "outputs": [],
   "source": [
    "#%%time\n",
    "#print('Для модели LinearRegression лучший результат на этапе флотации rougher:',grid_lr_rougher.best_params_)\n",
    "#print('Для модели LinearRegression лучший результат на финальном этапе final:', grid_lr_final.best_params_)"
   ]
  },
  {
   "cell_type": "code",
   "execution_count": 57,
   "metadata": {},
   "outputs": [],
   "source": [
    "#%%time\n",
    "# сделаем кросс-валидацию методом cross_val_score для  RandomForestRegressor \n",
    "#rougher_rf = cross_val_score(model_rf, features_train, target_rougher_train, scoring=score, cv=5)\n",
    "#final_rf =  cross_val_score(model_rf, features_train, target_final_train, scoring=score, cv=5)\n",
    "#print('Итоговое sMape для RandomForestRegressor:', all_sMAPE(rougher_rf, final_rf).mean())"
   ]
  },
  {
   "cell_type": "code",
   "execution_count": 58,
   "metadata": {},
   "outputs": [],
   "source": [
    "#%%time\n",
    "# сделаем кросс-валидацию методом cross_val_score для  DecisionTreeRegressor \n",
    "#rougher_dt = cross_val_score(model_dt, features_train, target_rougher_train, scoring=score, cv=5)\n",
    "#final_dt =  cross_val_score(model_dt, features_train, target_final_train, scoring=score, cv=5)\n",
    "#print('Итоговое sMape для DecisionTreeRegressor:',all_sMAPE(rougher_dt, final_dt).mean())"
   ]
  },
  {
   "cell_type": "code",
   "execution_count": 59,
   "metadata": {},
   "outputs": [],
   "source": [
    "#%%time\n",
    "# сделаем кросс-валидацию методом cross_val_score для линейной регрессии \n",
    "#rougher_lr = cross_val_score(model_lr, features_train, target_rougher_train, scoring=score, cv=5)\n",
    "#final_lr =  cross_val_score(model_lr, features_train, target_final_train, scoring=score, cv=5)\n",
    "#print('Итоговое sMape для линейной регрессии:', all_sMAPE(rougher_lr, final_lr).mean())"
   ]
  },
  {
   "cell_type": "markdown",
   "metadata": {},
   "source": [
    "Проверим на тестовой выборке модель показавшую лучший результат sMape с лучшими гипперпараметрами.\n",
    "Ей стала RandomForestRegressor с параметрами:"
   ]
  },
  {
   "cell_type": "code",
   "execution_count": null,
   "metadata": {},
   "outputs": [],
   "source": [
    "%%time\n",
    "model_rf = RandomForestRegressor(max_depth = 5, n_estimators = 7, random_state = state)\n",
    "model_rf_r = model_rf.fit(features_train, target_rougher_train)\n",
    "model_rf_f = model_rf.fit(features_train, target_final_train)\n",
    "prediction_rf_r = model_rf_r.predict(features_test)\n",
    "prediction_rf_f = model_rf_f.predict(features_test)\n",
    "\n",
    "sMAPE_1= sMAPE(target_rougher_test, prediction_rf_r).mean()\n",
    "sMAPE_2= sMAPE(target_final_test,prediction_rf_f).mean()\n",
    "print('Симметричная средняя абсолютная процентная ошибка sMape на тестовой выборке:',\\\n",
    "      round(all_sMAPE(sMAPE_1, sMAPE_2),3))"
   ]
  },
  {
   "cell_type": "markdown",
   "metadata": {},
   "source": [
    "Проверим модель на адекватность"
   ]
  },
  {
   "cell_type": "code",
   "execution_count": null,
   "metadata": {},
   "outputs": [],
   "source": [
    "dummy_model_r = DummyRegressor(strategy=\"mean\")\n",
    "dummy_model_f = DummyRegressor(strategy=\"mean\")\n",
    "dummy_model_r.fit(features_train, target_rougher_train)\n",
    "dummy_model_f.fit(features_train, target_final_train)\n",
    "test_predictions_r = dummy_model_r.predict(features_test)\n",
    "test_predictions_f = dummy_model_f.predict(features_test)\n",
    "\n",
    "dummy_sMAPE_1= sMAPE(target_rougher_test, test_predictions_r).mean()\n",
    "dummy_sMAPE_2= sMAPE(target_final_test,test_predictions_f).mean()\n",
    "\n",
    "print('Итоговое sMAPE для DummyRegressor:',\\\n",
    "      round(all_sMAPE(dummy_sMAPE_1, dummy_sMAPE_2),3))"
   ]
  },
  {
   "cell_type": "markdown",
   "metadata": {},
   "source": [
    "На данных train обучены модели линейной регрессии, дерева решений, а также случайного леса. Проведена оценка каждой модели.\n",
    "В результате сравнения результатов, для дальнейшего прогнозирования выбрана модель случайного леса с параметрами:\n",
    "\n",
    "- для этапа rougher глубина 5, количество деревьев 7.\n",
    "- для этапа final глубина 5, количество деревьев 7.\n",
    "\n",
    "Эти параметры позволяют получить на на тестовой выборке sMAPE равный 11.822\n",
    "Проведена проверка модели на адекватность на тестовых данных равна 7.765, что лучше чем результаты любой другой модели.\n",
    "\n",
    "Перебор гипперпараметров/выбор другого метода кросс-валидации не дал лучшего результата."
   ]
  },
  {
   "cell_type": "markdown",
   "metadata": {},
   "source": [
    "Итоговый вывод:"
   ]
  },
  {
   "cell_type": "markdown",
   "metadata": {},
   "source": [
    "Нам были предоставленны файты с сырыми данными:\n",
    "- gold_recovery_train_new.csv — обучающая выборка;\n",
    "- gold_recovery_test_new.csv — тестовая выборка;\n",
    "- gold_recovery_full_new.csv — исходные данные.\n",
    "\n",
    "В ходе предобработки и анализа данных:\n",
    "Была проверенна корректность расчета эффективности обогащения.\n",
    "Проанализированы поля недоступные в тестовой выборке, где отсутствуют целевые признаки для моделей 'rougher.output.recovery', 'final.output.recovery', а также значения output по всем операциям по всем элементам. Было определенно, что это концентрации элементов после основных операций. Это фактические данные, которые мы можем получить только по факту реальных измерений. Поэтому в реальности у нас и не может оказаться этих данных в файле test.\n",
    "Пропуски заполненны соседними значениями.\n",
    "\n",
    "Был произведен анализ концентрации металлов (Au, Ag, Pb) на различных этапах очистки. Опишите выводы.\n",
    "Концентрация золота Au показывает 2 пика, на этапах флотации и финальном этапе.\n",
    "Концентрация серебра Ag показывает постепенный рост от этапа к этапу.\n",
    "Концентрация свинца Pb показываем максимальные показатели на этапе флотации, затем происходит постепенное падение.\n",
    "На всех графиках концентрации сырья были видны значения равные нулю. Было принято решение об их удалении.\n",
    "\n",
    "Построены графики распределения плотности вероятности значений размеров гранул сырья  на входе в этапы флотации и финальной очистки выборок train и test. Что позволило предположить однородность данных размеров сырья в выборках train и test. \n",
    "\n",
    "Исследованна суммарная концентрация всех веществ на разных стадиях: в сырье, в черновом и финальном концентратах. Суммарная концентрация колеблеца в диапазоне от 40 до 90.\n",
    "Для проверки качества оценки модели поля 'rougher.output.recovery', 'final.output.recovery' добавлены в тестовый файл gold_test для формирования выборок target_rougher_test и target_final_test.\n",
    "\n",
    "Для оценки качества моделей были использованнаы sMAPE и кросс-валидация (GridSearchCV).\n",
    "\n",
    "На данных train обучены модели линейной регрессии, дерева решений, а также случайного леса. \n",
    "Проведена оценка каждой модели. В результате сравнения результатов, для дальнейшего прогнозирования выбрана модель случайного леса с параметрами:\n",
    "для этапа rougher глубина 5, количество деревьев 7.\n",
    "для этапа final глубина 5, количество деревьев 7.\n",
    "Эти параметры позволяют получить на на тестовой выборке sMAPE равный 11.822 Проведена проверка модели на адекватность на тестовых данных равна 7.765, что лучше чем результаты любой другой модели.\n",
    "Перебор гипперпараметров/выбор другого метода кросс-валидации не дал лучшего результата.\n",
    "\n",
    "Можно прийти к выводу, что в использовании сложных моделей на данном наборе данных нет смысла. И наилучший результат можно получить пуьем применения константной модели."
   ]
  }
 ],
 "metadata": {
  "ExecuteTimeLog": [
   {
    "duration": 400,
    "start_time": "2023-02-27T12:32:43.930Z"
   },
   {
    "duration": 2982,
    "start_time": "2023-02-27T12:32:44.575Z"
   },
   {
    "duration": 730,
    "start_time": "2023-02-27T12:33:22.125Z"
   },
   {
    "duration": 648,
    "start_time": "2023-02-27T12:34:03.416Z"
   },
   {
    "duration": 43,
    "start_time": "2023-02-27T12:34:13.290Z"
   },
   {
    "duration": 426,
    "start_time": "2023-02-27T13:22:07.597Z"
   },
   {
    "duration": 2202,
    "start_time": "2023-02-27T13:22:09.815Z"
   },
   {
    "duration": 28,
    "start_time": "2023-02-27T13:22:12.020Z"
   },
   {
    "duration": 14,
    "start_time": "2023-02-27T13:27:40.845Z"
   },
   {
    "duration": 23,
    "start_time": "2023-02-27T13:27:45.192Z"
   },
   {
    "duration": 13,
    "start_time": "2023-02-27T13:32:32.762Z"
   },
   {
    "duration": 232,
    "start_time": "2023-02-27T13:33:12.846Z"
   },
   {
    "duration": 54,
    "start_time": "2023-02-27T13:33:49.440Z"
   },
   {
    "duration": 30,
    "start_time": "2023-02-27T13:34:24.778Z"
   },
   {
    "duration": 1892,
    "start_time": "2023-02-27T13:49:36.420Z"
   },
   {
    "duration": 10,
    "start_time": "2023-02-27T13:49:38.319Z"
   },
   {
    "duration": 859,
    "start_time": "2023-02-27T13:49:48.681Z"
   },
   {
    "duration": 482,
    "start_time": "2023-02-27T14:41:28.110Z"
   },
   {
    "duration": 1978,
    "start_time": "2023-02-27T14:41:30.449Z"
   },
   {
    "duration": 742,
    "start_time": "2023-02-27T14:41:35.309Z"
   },
   {
    "duration": 689,
    "start_time": "2023-02-27T14:42:00.651Z"
   },
   {
    "duration": 793,
    "start_time": "2023-02-27T14:42:51.572Z"
   },
   {
    "duration": 511,
    "start_time": "2023-02-27T14:58:51.706Z"
   },
   {
    "duration": 25,
    "start_time": "2023-02-27T14:59:14.046Z"
   },
   {
    "duration": 4,
    "start_time": "2023-02-27T15:01:18.449Z"
   },
   {
    "duration": 90,
    "start_time": "2023-02-27T15:01:35.004Z"
   },
   {
    "duration": 10,
    "start_time": "2023-02-27T15:01:47.309Z"
   },
   {
    "duration": 19,
    "start_time": "2023-02-27T15:02:05.298Z"
   },
   {
    "duration": 6,
    "start_time": "2023-02-27T15:02:46.355Z"
   },
   {
    "duration": 36,
    "start_time": "2023-02-27T15:02:46.890Z"
   },
   {
    "duration": 425,
    "start_time": "2023-02-27T15:04:52.978Z"
   },
   {
    "duration": 15,
    "start_time": "2023-02-27T15:04:59.052Z"
   },
   {
    "duration": 4,
    "start_time": "2023-02-27T15:05:07.801Z"
   },
   {
    "duration": 296,
    "start_time": "2023-02-27T15:05:12.819Z"
   },
   {
    "duration": 1427,
    "start_time": "2023-02-28T08:24:15.088Z"
   },
   {
    "duration": 2469,
    "start_time": "2023-02-28T08:24:18.437Z"
   },
   {
    "duration": 380,
    "start_time": "2023-02-28T08:24:21.490Z"
   },
   {
    "duration": 52,
    "start_time": "2023-02-28T08:24:57.740Z"
   },
   {
    "duration": 1216,
    "start_time": "2023-02-28T08:25:02.595Z"
   },
   {
    "duration": 1617,
    "start_time": "2023-02-28T08:25:05.320Z"
   },
   {
    "duration": 370,
    "start_time": "2023-02-28T08:25:06.940Z"
   },
   {
    "duration": 1176,
    "start_time": "2023-02-28T08:26:05.052Z"
   },
   {
    "duration": 1594,
    "start_time": "2023-02-28T08:26:07.301Z"
   },
   {
    "duration": 374,
    "start_time": "2023-02-28T08:26:08.897Z"
   },
   {
    "duration": 53936,
    "start_time": "2023-02-28T08:26:10.284Z"
   },
   {
    "duration": 56399,
    "start_time": "2023-02-28T08:28:30.760Z"
   },
   {
    "duration": 99,
    "start_time": "2023-02-28T08:30:14.051Z"
   },
   {
    "duration": 4340,
    "start_time": "2023-02-28T08:31:51.844Z"
   },
   {
    "duration": 570,
    "start_time": "2023-02-28T08:32:01.320Z"
   },
   {
    "duration": 527,
    "start_time": "2023-02-28T08:32:23.648Z"
   },
   {
    "duration": 2792,
    "start_time": "2023-02-28T08:34:03.767Z"
   },
   {
    "duration": 3,
    "start_time": "2023-02-28T08:40:08.605Z"
   },
   {
    "duration": 4,
    "start_time": "2023-02-28T08:40:14.326Z"
   },
   {
    "duration": 10,
    "start_time": "2023-02-28T08:40:27.181Z"
   },
   {
    "duration": 9,
    "start_time": "2023-02-28T08:40:38.990Z"
   },
   {
    "duration": 4,
    "start_time": "2023-02-28T08:40:59.213Z"
   },
   {
    "duration": 1611,
    "start_time": "2023-02-28T10:56:14.213Z"
   },
   {
    "duration": 2637,
    "start_time": "2023-02-28T10:56:18.335Z"
   },
   {
    "duration": 919,
    "start_time": "2023-02-28T10:56:56.625Z"
   },
   {
    "duration": 924,
    "start_time": "2023-02-28T10:57:29.744Z"
   },
   {
    "duration": 909,
    "start_time": "2023-02-28T10:57:52.183Z"
   },
   {
    "duration": 2,
    "start_time": "2023-02-28T10:58:45.480Z"
   },
   {
    "duration": 2532,
    "start_time": "2023-02-28T11:03:18.641Z"
   },
   {
    "duration": 2781,
    "start_time": "2023-02-28T11:10:33.652Z"
   },
   {
    "duration": 4,
    "start_time": "2023-02-28T11:10:44.637Z"
   },
   {
    "duration": 2752,
    "start_time": "2023-02-28T11:10:47.233Z"
   },
   {
    "duration": 2580,
    "start_time": "2023-02-28T11:16:59.000Z"
   },
   {
    "duration": 1175,
    "start_time": "2023-02-28T11:17:04.310Z"
   },
   {
    "duration": 2553,
    "start_time": "2023-02-28T11:17:06.697Z"
   },
   {
    "duration": 103,
    "start_time": "2023-02-28T11:17:16.387Z"
   },
   {
    "duration": 1351,
    "start_time": "2023-02-28T11:17:26.100Z"
   },
   {
    "duration": 12,
    "start_time": "2023-02-28T11:17:44.537Z"
   },
   {
    "duration": 4,
    "start_time": "2023-02-28T11:17:51.260Z"
   },
   {
    "duration": 14,
    "start_time": "2023-02-28T11:17:52.092Z"
   },
   {
    "duration": 11,
    "start_time": "2023-02-28T11:17:59.733Z"
   },
   {
    "duration": 2586,
    "start_time": "2023-02-28T11:18:11.770Z"
   },
   {
    "duration": 22,
    "start_time": "2023-02-28T11:18:17.757Z"
   },
   {
    "duration": 11,
    "start_time": "2023-02-28T11:25:07.933Z"
   },
   {
    "duration": 4,
    "start_time": "2023-02-28T11:25:13.382Z"
   },
   {
    "duration": 1887,
    "start_time": "2023-02-28T11:25:14.856Z"
   },
   {
    "duration": 913,
    "start_time": "2023-02-28T11:25:16.745Z"
   },
   {
    "duration": 11,
    "start_time": "2023-02-28T11:25:17.724Z"
   },
   {
    "duration": 815,
    "start_time": "2023-02-28T11:25:23.477Z"
   },
   {
    "duration": 12,
    "start_time": "2023-02-28T11:26:38.100Z"
   },
   {
    "duration": 20,
    "start_time": "2023-02-28T11:26:56.813Z"
   },
   {
    "duration": 1169,
    "start_time": "2023-02-28T11:27:09.063Z"
   },
   {
    "duration": 1770,
    "start_time": "2023-02-28T11:27:11.259Z"
   },
   {
    "duration": 866,
    "start_time": "2023-02-28T11:27:13.726Z"
   },
   {
    "duration": 95,
    "start_time": "2023-02-28T11:27:17.575Z"
   },
   {
    "duration": 9,
    "start_time": "2023-02-28T11:27:32.993Z"
   },
   {
    "duration": 13,
    "start_time": "2023-02-28T11:27:56.926Z"
   },
   {
    "duration": 899,
    "start_time": "2023-02-28T11:28:00.836Z"
   },
   {
    "duration": 51,
    "start_time": "2023-02-28T11:29:57.378Z"
   },
   {
    "duration": 49,
    "start_time": "2023-02-28T11:30:01.479Z"
   },
   {
    "duration": 28,
    "start_time": "2023-02-28T11:30:09.684Z"
   },
   {
    "duration": 58,
    "start_time": "2023-02-28T11:30:31.710Z"
   },
   {
    "duration": 30,
    "start_time": "2023-02-28T11:30:54.795Z"
   },
   {
    "duration": 35,
    "start_time": "2023-02-28T11:31:16.625Z"
   },
   {
    "duration": 822,
    "start_time": "2023-02-28T11:31:33.034Z"
   },
   {
    "duration": 37,
    "start_time": "2023-02-28T11:31:49.886Z"
   },
   {
    "duration": 83,
    "start_time": "2023-02-28T11:34:52.842Z"
   },
   {
    "duration": 23,
    "start_time": "2023-02-28T11:35:01.044Z"
   },
   {
    "duration": 19,
    "start_time": "2023-02-28T11:36:01.627Z"
   },
   {
    "duration": 5,
    "start_time": "2023-02-28T11:36:58.909Z"
   },
   {
    "duration": 199,
    "start_time": "2023-02-28T11:39:39.255Z"
   },
   {
    "duration": 11,
    "start_time": "2023-02-28T11:44:40.398Z"
   },
   {
    "duration": 216,
    "start_time": "2023-02-28T11:44:47.778Z"
   },
   {
    "duration": 55,
    "start_time": "2023-02-28T11:44:52.598Z"
   },
   {
    "duration": 2,
    "start_time": "2023-02-28T11:48:38.910Z"
   },
   {
    "duration": 2328,
    "start_time": "2023-02-28T11:54:08.730Z"
   },
   {
    "duration": 3,
    "start_time": "2023-02-28T11:55:52.589Z"
   },
   {
    "duration": 4,
    "start_time": "2023-02-28T11:55:57.987Z"
   },
   {
    "duration": 5,
    "start_time": "2023-02-28T11:56:13.174Z"
   },
   {
    "duration": 12,
    "start_time": "2023-02-28T11:59:39.410Z"
   },
   {
    "duration": 11,
    "start_time": "2023-02-28T12:01:35.184Z"
   },
   {
    "duration": 13,
    "start_time": "2023-02-28T12:01:47.219Z"
   },
   {
    "duration": 16,
    "start_time": "2023-02-28T12:01:54.927Z"
   },
   {
    "duration": 8,
    "start_time": "2023-02-28T12:03:51.361Z"
   },
   {
    "duration": 11,
    "start_time": "2023-02-28T12:04:02.388Z"
   },
   {
    "duration": 4,
    "start_time": "2023-02-28T12:04:11.304Z"
   },
   {
    "duration": 9,
    "start_time": "2023-02-28T12:04:46.594Z"
   },
   {
    "duration": 9,
    "start_time": "2023-02-28T12:04:55.464Z"
   },
   {
    "duration": 4,
    "start_time": "2023-02-28T12:05:35.101Z"
   },
   {
    "duration": 19,
    "start_time": "2023-02-28T12:06:47.294Z"
   },
   {
    "duration": 8,
    "start_time": "2023-02-28T12:07:03.184Z"
   },
   {
    "duration": 3,
    "start_time": "2023-02-28T12:07:56.098Z"
   },
   {
    "duration": 14,
    "start_time": "2023-02-28T12:08:16.550Z"
   },
   {
    "duration": 11,
    "start_time": "2023-02-28T12:08:23.157Z"
   },
   {
    "duration": 12,
    "start_time": "2023-02-28T12:08:39.321Z"
   },
   {
    "duration": 11,
    "start_time": "2023-02-28T12:08:48.627Z"
   },
   {
    "duration": 19,
    "start_time": "2023-02-28T12:08:55.890Z"
   },
   {
    "duration": 14,
    "start_time": "2023-02-28T12:09:28.859Z"
   },
   {
    "duration": 8,
    "start_time": "2023-02-28T12:09:43.463Z"
   },
   {
    "duration": 5,
    "start_time": "2023-02-28T12:10:35.859Z"
   },
   {
    "duration": 11,
    "start_time": "2023-02-28T12:11:48.460Z"
   },
   {
    "duration": 6,
    "start_time": "2023-02-28T12:11:57.892Z"
   },
   {
    "duration": 11,
    "start_time": "2023-02-28T12:12:11.525Z"
   },
   {
    "duration": 9,
    "start_time": "2023-02-28T12:12:16.780Z"
   },
   {
    "duration": 11,
    "start_time": "2023-02-28T12:12:35.690Z"
   },
   {
    "duration": 10,
    "start_time": "2023-02-28T12:12:41.358Z"
   },
   {
    "duration": 7,
    "start_time": "2023-02-28T12:13:05.611Z"
   },
   {
    "duration": 5,
    "start_time": "2023-02-28T12:17:30.362Z"
   },
   {
    "duration": 6,
    "start_time": "2023-02-28T12:18:25.571Z"
   },
   {
    "duration": 4,
    "start_time": "2023-02-28T12:18:43.445Z"
   },
   {
    "duration": 4,
    "start_time": "2023-02-28T12:20:07.490Z"
   },
   {
    "duration": 4,
    "start_time": "2023-02-28T12:20:10.227Z"
   },
   {
    "duration": 5,
    "start_time": "2023-02-28T12:20:26.922Z"
   },
   {
    "duration": 12,
    "start_time": "2023-02-28T12:21:01.668Z"
   },
   {
    "duration": 4,
    "start_time": "2023-02-28T12:21:06.308Z"
   },
   {
    "duration": 5,
    "start_time": "2023-02-28T12:21:15.882Z"
   },
   {
    "duration": 4,
    "start_time": "2023-02-28T12:21:56.002Z"
   },
   {
    "duration": 4,
    "start_time": "2023-02-28T12:21:59.065Z"
   },
   {
    "duration": 1341,
    "start_time": "2023-02-28T12:24:19.530Z"
   },
   {
    "duration": 2173,
    "start_time": "2023-02-28T12:24:22.282Z"
   },
   {
    "duration": 70,
    "start_time": "2023-02-28T12:24:24.457Z"
   },
   {
    "duration": 54,
    "start_time": "2023-02-28T12:24:26.178Z"
   },
   {
    "duration": 785,
    "start_time": "2023-02-28T12:24:28.882Z"
   },
   {
    "duration": 59,
    "start_time": "2023-02-28T12:24:32.120Z"
   },
   {
    "duration": 15,
    "start_time": "2023-02-28T12:24:51.120Z"
   },
   {
    "duration": 201,
    "start_time": "2023-02-28T12:25:08.444Z"
   },
   {
    "duration": 100,
    "start_time": "2023-02-28T12:27:19.073Z"
   },
   {
    "duration": 12,
    "start_time": "2023-02-28T12:27:28.206Z"
   },
   {
    "duration": 2,
    "start_time": "2023-02-28T12:27:28.730Z"
   },
   {
    "duration": 214,
    "start_time": "2023-02-28T12:27:29.465Z"
   },
   {
    "duration": 2,
    "start_time": "2023-02-28T12:27:30.491Z"
   },
   {
    "duration": 5,
    "start_time": "2023-02-28T12:27:33.034Z"
   },
   {
    "duration": 4,
    "start_time": "2023-02-28T12:27:33.770Z"
   },
   {
    "duration": 4,
    "start_time": "2023-02-28T12:27:34.222Z"
   },
   {
    "duration": 6,
    "start_time": "2023-02-28T12:27:35.978Z"
   },
   {
    "duration": 4,
    "start_time": "2023-02-28T12:28:22.493Z"
   },
   {
    "duration": 4,
    "start_time": "2023-02-28T12:28:37.357Z"
   },
   {
    "duration": 77,
    "start_time": "2023-02-28T12:32:01.200Z"
   },
   {
    "duration": 2,
    "start_time": "2023-02-28T12:32:16.285Z"
   },
   {
    "duration": 9,
    "start_time": "2023-02-28T12:32:30.260Z"
   },
   {
    "duration": 3,
    "start_time": "2023-02-28T12:32:35.229Z"
   },
   {
    "duration": 2,
    "start_time": "2023-02-28T12:32:37.879Z"
   },
   {
    "duration": 3,
    "start_time": "2023-02-28T12:32:47.361Z"
   },
   {
    "duration": 4,
    "start_time": "2023-02-28T12:32:48.025Z"
   },
   {
    "duration": 11,
    "start_time": "2023-02-28T12:32:52.893Z"
   },
   {
    "duration": 3,
    "start_time": "2023-02-28T12:33:08.137Z"
   },
   {
    "duration": 9,
    "start_time": "2023-02-28T12:33:26.932Z"
   },
   {
    "duration": 9,
    "start_time": "2023-02-28T12:33:39.861Z"
   },
   {
    "duration": 4,
    "start_time": "2023-02-28T12:33:45.584Z"
   },
   {
    "duration": 3,
    "start_time": "2023-02-28T12:34:43.754Z"
   },
   {
    "duration": 4,
    "start_time": "2023-02-28T12:35:03.495Z"
   },
   {
    "duration": 10,
    "start_time": "2023-02-28T12:42:47.959Z"
   },
   {
    "duration": 11,
    "start_time": "2023-02-28T12:43:38.735Z"
   },
   {
    "duration": 14,
    "start_time": "2023-02-28T12:45:08.489Z"
   },
   {
    "duration": 5,
    "start_time": "2023-02-28T12:45:22.170Z"
   },
   {
    "duration": 5,
    "start_time": "2023-02-28T12:45:38.381Z"
   },
   {
    "duration": 6,
    "start_time": "2023-02-28T12:46:26.974Z"
   },
   {
    "duration": 5,
    "start_time": "2023-02-28T12:47:30.523Z"
   },
   {
    "duration": 458,
    "start_time": "2023-02-28T12:51:00.541Z"
   },
   {
    "duration": 3,
    "start_time": "2023-02-28T12:51:37.475Z"
   },
   {
    "duration": 874,
    "start_time": "2023-02-28T12:51:49.574Z"
   },
   {
    "duration": 4,
    "start_time": "2023-02-28T12:52:41.101Z"
   },
   {
    "duration": 830,
    "start_time": "2023-02-28T12:52:41.896Z"
   },
   {
    "duration": 5,
    "start_time": "2023-02-28T12:53:25.910Z"
   },
   {
    "duration": 431,
    "start_time": "2023-02-28T12:53:27.393Z"
   },
   {
    "duration": 4,
    "start_time": "2023-02-28T12:54:09.693Z"
   },
   {
    "duration": 371,
    "start_time": "2023-02-28T12:54:10.594Z"
   },
   {
    "duration": 4,
    "start_time": "2023-02-28T12:55:30.510Z"
   },
   {
    "duration": 344,
    "start_time": "2023-02-28T12:55:31.110Z"
   },
   {
    "duration": 4,
    "start_time": "2023-02-28T12:55:52.436Z"
   },
   {
    "duration": 877,
    "start_time": "2023-02-28T12:55:55.177Z"
   },
   {
    "duration": 6,
    "start_time": "2023-02-28T12:57:27.486Z"
   },
   {
    "duration": 14,
    "start_time": "2023-02-28T12:57:31.786Z"
   },
   {
    "duration": 11,
    "start_time": "2023-02-28T12:57:39.321Z"
   },
   {
    "duration": 4,
    "start_time": "2023-02-28T12:57:51.109Z"
   },
   {
    "duration": 331,
    "start_time": "2023-02-28T12:57:51.617Z"
   },
   {
    "duration": 354,
    "start_time": "2023-02-28T12:58:31.624Z"
   },
   {
    "duration": 178,
    "start_time": "2023-02-28T12:58:32.241Z"
   },
   {
    "duration": 12,
    "start_time": "2023-02-28T12:58:34.881Z"
   },
   {
    "duration": 2,
    "start_time": "2023-02-28T12:58:35.678Z"
   },
   {
    "duration": 224,
    "start_time": "2023-02-28T12:58:36.878Z"
   },
   {
    "duration": 2,
    "start_time": "2023-02-28T12:58:38.043Z"
   },
   {
    "duration": 9,
    "start_time": "2023-02-28T12:58:40.540Z"
   },
   {
    "duration": 5,
    "start_time": "2023-02-28T12:58:55.259Z"
   },
   {
    "duration": 4,
    "start_time": "2023-02-28T12:58:56.398Z"
   },
   {
    "duration": 4,
    "start_time": "2023-02-28T12:59:08.074Z"
   },
   {
    "duration": 3,
    "start_time": "2023-02-28T12:59:08.783Z"
   },
   {
    "duration": 5,
    "start_time": "2023-02-28T13:00:22.038Z"
   },
   {
    "duration": 4,
    "start_time": "2023-02-28T13:00:36.565Z"
   },
   {
    "duration": 4,
    "start_time": "2023-02-28T13:03:03.677Z"
   },
   {
    "duration": 3,
    "start_time": "2023-02-28T13:03:26.230Z"
   },
   {
    "duration": 5,
    "start_time": "2023-02-28T13:05:38.116Z"
   },
   {
    "duration": 93,
    "start_time": "2023-02-28T13:05:51.609Z"
   },
   {
    "duration": 75,
    "start_time": "2023-02-28T13:06:00.712Z"
   },
   {
    "duration": 4,
    "start_time": "2023-02-28T13:06:05.569Z"
   },
   {
    "duration": 3,
    "start_time": "2023-02-28T13:06:29.013Z"
   },
   {
    "duration": 3,
    "start_time": "2023-02-28T13:06:30.935Z"
   },
   {
    "duration": 4,
    "start_time": "2023-02-28T13:06:35.490Z"
   },
   {
    "duration": 3,
    "start_time": "2023-02-28T13:11:32.723Z"
   },
   {
    "duration": 6,
    "start_time": "2023-02-28T13:21:23.629Z"
   },
   {
    "duration": 5,
    "start_time": "2023-02-28T13:21:24.640Z"
   },
   {
    "duration": 3,
    "start_time": "2023-02-28T13:22:38.427Z"
   },
   {
    "duration": 4,
    "start_time": "2023-02-28T13:23:16.180Z"
   },
   {
    "duration": 5,
    "start_time": "2023-02-28T13:23:23.305Z"
   },
   {
    "duration": 4,
    "start_time": "2023-02-28T13:23:44.597Z"
   },
   {
    "duration": 3,
    "start_time": "2023-02-28T13:23:57.679Z"
   },
   {
    "duration": 3,
    "start_time": "2023-02-28T13:24:05.562Z"
   },
   {
    "duration": 3,
    "start_time": "2023-02-28T13:24:14.717Z"
   },
   {
    "duration": 4,
    "start_time": "2023-02-28T13:24:18.279Z"
   },
   {
    "duration": 3,
    "start_time": "2023-02-28T13:24:35.762Z"
   },
   {
    "duration": 3,
    "start_time": "2023-02-28T13:24:47.717Z"
   },
   {
    "duration": 7,
    "start_time": "2023-02-28T13:25:00.063Z"
   },
   {
    "duration": 7,
    "start_time": "2023-02-28T13:27:18.505Z"
   },
   {
    "duration": 5,
    "start_time": "2023-02-28T13:27:28.078Z"
   },
   {
    "duration": 5,
    "start_time": "2023-02-28T13:27:54.319Z"
   },
   {
    "duration": 4,
    "start_time": "2023-02-28T13:28:10.590Z"
   },
   {
    "duration": 5,
    "start_time": "2023-02-28T13:28:35.540Z"
   },
   {
    "duration": 7,
    "start_time": "2023-02-28T13:28:50.245Z"
   },
   {
    "duration": 4,
    "start_time": "2023-02-28T13:29:08.601Z"
   },
   {
    "duration": 1406,
    "start_time": "2023-02-28T14:36:00.799Z"
   },
   {
    "duration": 1882,
    "start_time": "2023-02-28T14:36:05.345Z"
   },
   {
    "duration": 3,
    "start_time": "2023-02-28T14:36:07.827Z"
   },
   {
    "duration": 426,
    "start_time": "2023-02-28T14:36:11.089Z"
   },
   {
    "duration": 371,
    "start_time": "2023-02-28T14:36:12.396Z"
   },
   {
    "duration": 167,
    "start_time": "2023-02-28T14:36:13.524Z"
   },
   {
    "duration": 12,
    "start_time": "2023-02-28T14:36:16.782Z"
   },
   {
    "duration": 2,
    "start_time": "2023-02-28T14:36:18.502Z"
   },
   {
    "duration": 220,
    "start_time": "2023-02-28T14:36:21.006Z"
   },
   {
    "duration": 2,
    "start_time": "2023-02-28T14:36:22.039Z"
   },
   {
    "duration": 5,
    "start_time": "2023-02-28T14:36:23.795Z"
   },
   {
    "duration": 8,
    "start_time": "2023-02-28T14:36:25.108Z"
   },
   {
    "duration": 4,
    "start_time": "2023-02-28T14:36:27.403Z"
   },
   {
    "duration": 3,
    "start_time": "2023-02-28T14:36:27.932Z"
   },
   {
    "duration": 5,
    "start_time": "2023-02-28T14:36:30.384Z"
   },
   {
    "duration": 103,
    "start_time": "2023-02-28T14:36:35.579Z"
   },
   {
    "duration": 4,
    "start_time": "2023-02-28T14:36:46.568Z"
   },
   {
    "duration": 4,
    "start_time": "2023-02-28T14:37:04.485Z"
   },
   {
    "duration": 4,
    "start_time": "2023-02-28T14:39:41.104Z"
   },
   {
    "duration": 5,
    "start_time": "2023-02-28T14:39:56.997Z"
   },
   {
    "duration": 11,
    "start_time": "2023-02-28T14:40:20.704Z"
   },
   {
    "duration": 5,
    "start_time": "2023-02-28T14:40:28.976Z"
   },
   {
    "duration": 6,
    "start_time": "2023-02-28T14:40:56.172Z"
   },
   {
    "duration": 1390,
    "start_time": "2023-02-28T15:43:10.102Z"
   },
   {
    "duration": 2016,
    "start_time": "2023-02-28T15:43:13.519Z"
   },
   {
    "duration": 4,
    "start_time": "2023-02-28T15:43:17.138Z"
   },
   {
    "duration": 469,
    "start_time": "2023-02-28T15:43:19.418Z"
   },
   {
    "duration": 384,
    "start_time": "2023-02-28T15:43:21.377Z"
   },
   {
    "duration": 214,
    "start_time": "2023-02-28T15:43:23.289Z"
   },
   {
    "duration": 12,
    "start_time": "2023-02-28T15:43:27.107Z"
   },
   {
    "duration": 2,
    "start_time": "2023-02-28T15:43:28.669Z"
   },
   {
    "duration": 235,
    "start_time": "2023-02-28T15:43:35.048Z"
   },
   {
    "duration": 6,
    "start_time": "2023-02-28T15:43:39.504Z"
   },
   {
    "duration": 8,
    "start_time": "2023-02-28T15:43:40.659Z"
   },
   {
    "duration": 6,
    "start_time": "2023-02-28T15:44:08.665Z"
   },
   {
    "duration": 130,
    "start_time": "2023-02-28T16:10:38.213Z"
   },
   {
    "duration": 11,
    "start_time": "2023-02-28T16:10:44.559Z"
   },
   {
    "duration": 12,
    "start_time": "2023-02-28T16:15:31.828Z"
   },
   {
    "duration": 1407,
    "start_time": "2023-02-28T17:32:34.010Z"
   },
   {
    "duration": 2055,
    "start_time": "2023-02-28T17:32:36.405Z"
   },
   {
    "duration": 4,
    "start_time": "2023-02-28T17:32:38.462Z"
   },
   {
    "duration": 442,
    "start_time": "2023-02-28T17:32:38.467Z"
   },
   {
    "duration": 357,
    "start_time": "2023-02-28T17:32:39.399Z"
   },
   {
    "duration": 174,
    "start_time": "2023-02-28T17:32:39.975Z"
   },
   {
    "duration": 12,
    "start_time": "2023-02-28T17:32:41.019Z"
   },
   {
    "duration": 2,
    "start_time": "2023-02-28T17:32:41.124Z"
   },
   {
    "duration": 7,
    "start_time": "2023-02-28T17:32:42.108Z"
   },
   {
    "duration": 268,
    "start_time": "2023-02-28T17:32:43.174Z"
   },
   {
    "duration": 3,
    "start_time": "2023-02-28T17:32:44.183Z"
   },
   {
    "duration": 5,
    "start_time": "2023-02-28T17:32:45.217Z"
   },
   {
    "duration": 7,
    "start_time": "2023-02-28T17:32:46.257Z"
   },
   {
    "duration": 4,
    "start_time": "2023-02-28T17:32:48.120Z"
   },
   {
    "duration": 5,
    "start_time": "2023-02-28T17:32:48.757Z"
   },
   {
    "duration": 5,
    "start_time": "2023-02-28T17:32:49.322Z"
   },
   {
    "duration": 3,
    "start_time": "2023-02-28T17:32:52.886Z"
   },
   {
    "duration": 4,
    "start_time": "2023-02-28T17:32:55.389Z"
   },
   {
    "duration": 103,
    "start_time": "2023-02-28T17:55:48.887Z"
   },
   {
    "duration": 359,
    "start_time": "2023-02-28T17:56:07.357Z"
   },
   {
    "duration": 85,
    "start_time": "2023-02-28T18:45:38.810Z"
   },
   {
    "duration": 5,
    "start_time": "2023-02-28T18:45:45.841Z"
   },
   {
    "duration": 392,
    "start_time": "2023-02-28T18:45:46.978Z"
   },
   {
    "duration": 5,
    "start_time": "2023-02-28T18:46:11.703Z"
   },
   {
    "duration": 365,
    "start_time": "2023-02-28T18:46:12.794Z"
   },
   {
    "duration": 1688,
    "start_time": "2023-03-01T08:20:39.406Z"
   },
   {
    "duration": 3504,
    "start_time": "2023-03-01T08:20:42.992Z"
   },
   {
    "duration": 4,
    "start_time": "2023-03-01T08:20:46.499Z"
   },
   {
    "duration": 555,
    "start_time": "2023-03-01T08:20:46.504Z"
   },
   {
    "duration": 483,
    "start_time": "2023-03-01T08:21:11.498Z"
   },
   {
    "duration": 501,
    "start_time": "2023-03-01T08:21:13.459Z"
   },
   {
    "duration": 234,
    "start_time": "2023-03-01T08:21:18.390Z"
   },
   {
    "duration": 12,
    "start_time": "2023-03-01T08:21:25.205Z"
   },
   {
    "duration": 2,
    "start_time": "2023-03-01T08:21:26.627Z"
   },
   {
    "duration": 5,
    "start_time": "2023-03-01T08:21:28.057Z"
   },
   {
    "duration": 257,
    "start_time": "2023-03-01T08:21:40.347Z"
   },
   {
    "duration": 2,
    "start_time": "2023-03-01T08:21:41.539Z"
   },
   {
    "duration": 5,
    "start_time": "2023-03-01T08:21:42.689Z"
   },
   {
    "duration": 7,
    "start_time": "2023-03-01T08:21:44.381Z"
   },
   {
    "duration": 4,
    "start_time": "2023-03-01T08:21:46.551Z"
   },
   {
    "duration": 3,
    "start_time": "2023-03-01T08:21:47.243Z"
   },
   {
    "duration": 5,
    "start_time": "2023-03-01T08:21:48.139Z"
   },
   {
    "duration": 3,
    "start_time": "2023-03-01T08:21:51.281Z"
   },
   {
    "duration": 3,
    "start_time": "2023-03-01T08:21:54.762Z"
   },
   {
    "duration": 346,
    "start_time": "2023-03-01T08:22:12.646Z"
   },
   {
    "duration": 53,
    "start_time": "2023-03-01T09:43:33.706Z"
   },
   {
    "duration": 44,
    "start_time": "2023-03-01T09:43:43.123Z"
   },
   {
    "duration": 49,
    "start_time": "2023-03-01T09:46:19.276Z"
   },
   {
    "duration": 5,
    "start_time": "2023-03-01T09:47:17.324Z"
   },
   {
    "duration": 1391,
    "start_time": "2023-03-01T10:16:06.606Z"
   },
   {
    "duration": 2827,
    "start_time": "2023-03-01T10:16:10.380Z"
   },
   {
    "duration": 4,
    "start_time": "2023-03-01T10:16:14.920Z"
   },
   {
    "duration": 6,
    "start_time": "2023-03-01T10:16:15.793Z"
   },
   {
    "duration": 537,
    "start_time": "2023-03-01T10:16:18.663Z"
   },
   {
    "duration": 515,
    "start_time": "2023-03-01T10:16:29.722Z"
   },
   {
    "duration": 265,
    "start_time": "2023-03-01T10:16:32.072Z"
   },
   {
    "duration": 2,
    "start_time": "2023-03-01T10:16:36.112Z"
   },
   {
    "duration": 6,
    "start_time": "2023-03-01T10:16:37.786Z"
   },
   {
    "duration": 7,
    "start_time": "2023-03-01T10:16:39.313Z"
   },
   {
    "duration": 15,
    "start_time": "2023-03-01T10:16:40.136Z"
   },
   {
    "duration": 10,
    "start_time": "2023-03-01T10:17:30.540Z"
   },
   {
    "duration": 220,
    "start_time": "2023-03-01T10:17:31.853Z"
   },
   {
    "duration": 6,
    "start_time": "2023-03-01T10:19:53.684Z"
   },
   {
    "duration": 13,
    "start_time": "2023-03-01T10:20:09.524Z"
   },
   {
    "duration": 8,
    "start_time": "2023-03-01T10:20:24.056Z"
   },
   {
    "duration": 8,
    "start_time": "2023-03-01T10:22:31.579Z"
   },
   {
    "duration": 342,
    "start_time": "2023-03-01T10:27:36.118Z"
   },
   {
    "duration": 1612,
    "start_time": "2023-03-01T14:18:54.562Z"
   },
   {
    "duration": 2548,
    "start_time": "2023-03-01T14:18:57.173Z"
   },
   {
    "duration": 4,
    "start_time": "2023-03-01T14:18:59.723Z"
   },
   {
    "duration": 12,
    "start_time": "2023-03-01T14:18:59.729Z"
   },
   {
    "duration": 544,
    "start_time": "2023-03-01T14:18:59.748Z"
   },
   {
    "duration": 505,
    "start_time": "2023-03-01T14:19:00.294Z"
   },
   {
    "duration": 266,
    "start_time": "2023-03-01T14:19:00.801Z"
   },
   {
    "duration": 2,
    "start_time": "2023-03-01T14:19:01.070Z"
   },
   {
    "duration": 8,
    "start_time": "2023-03-01T14:19:01.609Z"
   },
   {
    "duration": 6,
    "start_time": "2023-03-01T14:19:02.392Z"
   },
   {
    "duration": 9,
    "start_time": "2023-03-01T14:19:03.562Z"
   },
   {
    "duration": 3,
    "start_time": "2023-03-01T14:19:04.085Z"
   },
   {
    "duration": 5,
    "start_time": "2023-03-01T14:19:04.469Z"
   },
   {
    "duration": 13,
    "start_time": "2023-03-01T14:19:06.164Z"
   },
   {
    "duration": 340,
    "start_time": "2023-03-01T14:19:06.606Z"
   },
   {
    "duration": 212,
    "start_time": "2023-03-01T14:19:07.034Z"
   },
   {
    "duration": 3,
    "start_time": "2023-03-01T14:19:08.397Z"
   },
   {
    "duration": 86,
    "start_time": "2023-03-01T14:20:24.497Z"
   },
   {
    "duration": 5,
    "start_time": "2023-03-01T14:20:36.001Z"
   },
   {
    "duration": 115,
    "start_time": "2023-03-01T14:21:00.820Z"
   },
   {
    "duration": 5,
    "start_time": "2023-03-01T14:21:07.161Z"
   },
   {
    "duration": 8,
    "start_time": "2023-03-01T14:23:15.599Z"
   },
   {
    "duration": 14,
    "start_time": "2023-03-01T14:24:11.413Z"
   },
   {
    "duration": 9,
    "start_time": "2023-03-01T14:24:20.824Z"
   },
   {
    "duration": 2,
    "start_time": "2023-03-01T14:24:32.315Z"
   },
   {
    "duration": 2,
    "start_time": "2023-03-01T14:24:35.185Z"
   },
   {
    "duration": 3,
    "start_time": "2023-03-01T14:24:41.787Z"
   },
   {
    "duration": 3,
    "start_time": "2023-03-01T14:24:45.063Z"
   },
   {
    "duration": 2,
    "start_time": "2023-03-01T14:24:53.216Z"
   },
   {
    "duration": 5,
    "start_time": "2023-03-01T14:24:58.316Z"
   },
   {
    "duration": 4,
    "start_time": "2023-03-01T14:25:03.824Z"
   },
   {
    "duration": 6,
    "start_time": "2023-03-01T14:28:32.706Z"
   },
   {
    "duration": 7,
    "start_time": "2023-03-01T14:28:52.381Z"
   },
   {
    "duration": 6,
    "start_time": "2023-03-01T14:30:26.293Z"
   },
   {
    "duration": 6,
    "start_time": "2023-03-01T14:31:51.063Z"
   },
   {
    "duration": 6,
    "start_time": "2023-03-01T14:32:02.930Z"
   },
   {
    "duration": 4,
    "start_time": "2023-03-01T14:34:40.116Z"
   },
   {
    "duration": 6,
    "start_time": "2023-03-01T14:35:48.641Z"
   },
   {
    "duration": 420,
    "start_time": "2023-03-01T14:36:54.644Z"
   },
   {
    "duration": 551,
    "start_time": "2023-03-01T14:39:06.718Z"
   },
   {
    "duration": 462,
    "start_time": "2023-03-01T14:39:46.130Z"
   },
   {
    "duration": 5,
    "start_time": "2023-03-01T14:46:58.253Z"
   },
   {
    "duration": 542,
    "start_time": "2023-03-01T14:47:06.257Z"
   },
   {
    "duration": 483,
    "start_time": "2023-03-01T14:47:19.237Z"
   },
   {
    "duration": 895,
    "start_time": "2023-03-01T14:47:26.605Z"
   },
   {
    "duration": 296,
    "start_time": "2023-03-01T14:47:34.453Z"
   },
   {
    "duration": 1588,
    "start_time": "2023-03-01T14:48:37.981Z"
   },
   {
    "duration": 4686,
    "start_time": "2023-03-01T14:49:23.040Z"
   },
   {
    "duration": 4375,
    "start_time": "2023-03-01T14:49:48.498Z"
   },
   {
    "duration": 4481,
    "start_time": "2023-03-01T14:53:16.753Z"
   },
   {
    "duration": 4790,
    "start_time": "2023-03-01T14:55:01.878Z"
   },
   {
    "duration": 4450,
    "start_time": "2023-03-01T14:55:14.260Z"
   },
   {
    "duration": 4281,
    "start_time": "2023-03-01T14:55:38.097Z"
   },
   {
    "duration": 4633,
    "start_time": "2023-03-01T14:55:52.097Z"
   },
   {
    "duration": 4619,
    "start_time": "2023-03-01T14:56:03.438Z"
   },
   {
    "duration": 4817,
    "start_time": "2023-03-01T14:56:17.160Z"
   },
   {
    "duration": 4319,
    "start_time": "2023-03-01T14:56:34.079Z"
   },
   {
    "duration": 72,
    "start_time": "2023-03-01T14:56:46.318Z"
   },
   {
    "duration": 4419,
    "start_time": "2023-03-01T14:57:05.246Z"
   },
   {
    "duration": 4415,
    "start_time": "2023-03-01T14:58:04.891Z"
   },
   {
    "duration": 4603,
    "start_time": "2023-03-01T14:58:25.173Z"
   },
   {
    "duration": 4451,
    "start_time": "2023-03-01T14:58:41.110Z"
   },
   {
    "duration": 4770,
    "start_time": "2023-03-01T14:59:59.597Z"
   },
   {
    "duration": 4429,
    "start_time": "2023-03-01T15:00:58.847Z"
   },
   {
    "duration": 1430,
    "start_time": "2023-03-01T15:02:50.169Z"
   },
   {
    "duration": 1241,
    "start_time": "2023-03-01T15:03:05.997Z"
   },
   {
    "duration": 203,
    "start_time": "2023-03-01T15:03:19.040Z"
   },
   {
    "duration": 4393,
    "start_time": "2023-03-01T15:05:37.821Z"
   },
   {
    "duration": 4519,
    "start_time": "2023-03-01T15:05:54.998Z"
   },
   {
    "duration": 4198,
    "start_time": "2023-03-01T15:06:14.484Z"
   },
   {
    "duration": 22,
    "start_time": "2023-03-01T15:10:51.088Z"
   },
   {
    "duration": 215,
    "start_time": "2023-03-01T15:11:39.320Z"
   },
   {
    "duration": 4699,
    "start_time": "2023-03-01T15:12:24.912Z"
   },
   {
    "duration": 221,
    "start_time": "2023-03-01T15:12:29.613Z"
   },
   {
    "duration": 326,
    "start_time": "2023-03-01T15:12:46.009Z"
   },
   {
    "duration": 217,
    "start_time": "2023-03-01T15:12:49.850Z"
   },
   {
    "duration": 215,
    "start_time": "2023-03-01T15:13:05.403Z"
   },
   {
    "duration": 206,
    "start_time": "2023-03-01T15:13:12.942Z"
   },
   {
    "duration": 239,
    "start_time": "2023-03-01T15:13:20.581Z"
   },
   {
    "duration": 204,
    "start_time": "2023-03-01T15:14:16.290Z"
   },
   {
    "duration": 236,
    "start_time": "2023-03-01T15:14:35.031Z"
   },
   {
    "duration": 352,
    "start_time": "2023-03-01T15:14:47.610Z"
   },
   {
    "duration": 255,
    "start_time": "2023-03-01T15:14:55.680Z"
   },
   {
    "duration": 4,
    "start_time": "2023-03-01T17:22:44.303Z"
   },
   {
    "duration": 3704,
    "start_time": "2023-03-01T17:22:45.819Z"
   },
   {
    "duration": 3,
    "start_time": "2023-03-01T17:22:49.525Z"
   },
   {
    "duration": 1355,
    "start_time": "2023-03-01T17:23:20.853Z"
   },
   {
    "duration": 1691,
    "start_time": "2023-03-01T17:23:22.979Z"
   },
   {
    "duration": 3,
    "start_time": "2023-03-01T17:23:24.672Z"
   },
   {
    "duration": 8,
    "start_time": "2023-03-01T17:23:24.676Z"
   },
   {
    "duration": 498,
    "start_time": "2023-03-01T17:23:24.686Z"
   },
   {
    "duration": 435,
    "start_time": "2023-03-01T17:23:25.403Z"
   },
   {
    "duration": 233,
    "start_time": "2023-03-01T17:23:26.537Z"
   },
   {
    "duration": 2,
    "start_time": "2023-03-01T17:23:27.409Z"
   },
   {
    "duration": 7,
    "start_time": "2023-03-01T17:23:27.607Z"
   },
   {
    "duration": 6,
    "start_time": "2023-03-01T17:23:27.893Z"
   },
   {
    "duration": 5,
    "start_time": "2023-03-01T17:23:28.158Z"
   },
   {
    "duration": 3,
    "start_time": "2023-03-01T17:23:28.356Z"
   },
   {
    "duration": 5,
    "start_time": "2023-03-01T17:23:28.528Z"
   },
   {
    "duration": 11,
    "start_time": "2023-03-01T17:23:28.971Z"
   },
   {
    "duration": 339,
    "start_time": "2023-03-01T17:23:29.204Z"
   },
   {
    "duration": 234,
    "start_time": "2023-03-01T17:23:29.547Z"
   },
   {
    "duration": 3,
    "start_time": "2023-03-01T17:23:30.141Z"
   },
   {
    "duration": 5,
    "start_time": "2023-03-01T17:23:32.363Z"
   },
   {
    "duration": 6,
    "start_time": "2023-03-01T17:23:32.619Z"
   },
   {
    "duration": 4773,
    "start_time": "2023-03-01T17:23:32.864Z"
   },
   {
    "duration": 309,
    "start_time": "2023-03-01T17:23:37.639Z"
   },
   {
    "duration": 1465,
    "start_time": "2023-03-01T19:26:24.738Z"
   },
   {
    "duration": 1959,
    "start_time": "2023-03-01T19:26:27.404Z"
   },
   {
    "duration": 5,
    "start_time": "2023-03-01T19:26:30.387Z"
   },
   {
    "duration": 3,
    "start_time": "2023-03-01T19:26:30.709Z"
   },
   {
    "duration": 517,
    "start_time": "2023-03-01T19:26:31.401Z"
   },
   {
    "duration": 476,
    "start_time": "2023-03-01T19:26:32.889Z"
   },
   {
    "duration": 202,
    "start_time": "2023-03-01T19:26:34.002Z"
   },
   {
    "duration": 3,
    "start_time": "2023-03-01T19:26:34.853Z"
   },
   {
    "duration": 11,
    "start_time": "2023-03-01T19:26:35.220Z"
   },
   {
    "duration": 6,
    "start_time": "2023-03-01T19:26:36.608Z"
   },
   {
    "duration": 4,
    "start_time": "2023-03-01T19:26:37.851Z"
   },
   {
    "duration": 3,
    "start_time": "2023-03-01T19:26:38.401Z"
   },
   {
    "duration": 6,
    "start_time": "2023-03-01T19:26:38.883Z"
   },
   {
    "duration": 15,
    "start_time": "2023-03-01T19:26:41.024Z"
   },
   {
    "duration": 337,
    "start_time": "2023-03-01T19:26:41.499Z"
   },
   {
    "duration": 208,
    "start_time": "2023-03-01T19:26:42.068Z"
   },
   {
    "duration": 4,
    "start_time": "2023-03-01T19:26:43.707Z"
   },
   {
    "duration": 5,
    "start_time": "2023-03-01T19:26:48.051Z"
   },
   {
    "duration": 7,
    "start_time": "2023-03-01T19:26:48.635Z"
   },
   {
    "duration": 4449,
    "start_time": "2023-03-01T19:26:49.208Z"
   },
   {
    "duration": 106,
    "start_time": "2023-03-01T19:26:53.659Z"
   },
   {
    "duration": 75,
    "start_time": "2023-03-01T19:28:06.704Z"
   },
   {
    "duration": 4507,
    "start_time": "2023-03-01T19:28:18.193Z"
   },
   {
    "duration": 4467,
    "start_time": "2023-03-01T19:30:10.809Z"
   },
   {
    "duration": 73,
    "start_time": "2023-03-01T19:31:02.154Z"
   },
   {
    "duration": 4370,
    "start_time": "2023-03-01T19:31:12.997Z"
   },
   {
    "duration": 4429,
    "start_time": "2023-03-01T19:31:59.982Z"
   },
   {
    "duration": 4418,
    "start_time": "2023-03-01T19:32:14.301Z"
   },
   {
    "duration": 362,
    "start_time": "2023-03-01T19:56:29.733Z"
   },
   {
    "duration": 563,
    "start_time": "2023-03-01T19:56:45.175Z"
   },
   {
    "duration": 457,
    "start_time": "2023-03-01T19:57:32.817Z"
   },
   {
    "duration": 441,
    "start_time": "2023-03-01T19:57:52.646Z"
   },
   {
    "duration": 450,
    "start_time": "2023-03-01T19:57:59.818Z"
   },
   {
    "duration": 423,
    "start_time": "2023-03-01T19:58:05.943Z"
   },
   {
    "duration": 398,
    "start_time": "2023-03-01T19:58:20.761Z"
   },
   {
    "duration": 386,
    "start_time": "2023-03-01T19:58:28.399Z"
   },
   {
    "duration": 429,
    "start_time": "2023-03-01T19:59:13.422Z"
   },
   {
    "duration": 416,
    "start_time": "2023-03-01T19:59:20.562Z"
   },
   {
    "duration": 498,
    "start_time": "2023-03-01T19:59:29.477Z"
   },
   {
    "duration": 437,
    "start_time": "2023-03-01T19:59:33.838Z"
   },
   {
    "duration": 405,
    "start_time": "2023-03-01T19:59:42.268Z"
   },
   {
    "duration": 543,
    "start_time": "2023-03-01T19:59:58.303Z"
   },
   {
    "duration": 9,
    "start_time": "2023-03-01T20:18:15.404Z"
   },
   {
    "duration": 317,
    "start_time": "2023-03-01T20:50:26.695Z"
   },
   {
    "duration": 458,
    "start_time": "2023-03-01T20:50:42.427Z"
   },
   {
    "duration": 8,
    "start_time": "2023-03-01T20:53:15.185Z"
   },
   {
    "duration": 12,
    "start_time": "2023-03-01T20:53:29.746Z"
   },
   {
    "duration": 14,
    "start_time": "2023-03-01T20:53:43.643Z"
   },
   {
    "duration": 13,
    "start_time": "2023-03-01T20:54:28.245Z"
   },
   {
    "duration": 9,
    "start_time": "2023-03-01T20:55:27.796Z"
   },
   {
    "duration": 360,
    "start_time": "2023-03-01T20:56:25.833Z"
   },
   {
    "duration": 420,
    "start_time": "2023-03-01T20:56:36.722Z"
   },
   {
    "duration": 4,
    "start_time": "2023-03-01T21:04:40.548Z"
   },
   {
    "duration": 437,
    "start_time": "2023-03-01T21:05:50.827Z"
   },
   {
    "duration": 488,
    "start_time": "2023-03-01T21:05:59.905Z"
   },
   {
    "duration": 12,
    "start_time": "2023-03-01T21:06:29.162Z"
   },
   {
    "duration": 391,
    "start_time": "2023-03-01T21:07:05.403Z"
   },
   {
    "duration": 11,
    "start_time": "2023-03-01T21:20:28.924Z"
   },
   {
    "duration": 1335,
    "start_time": "2023-03-01T21:20:46.232Z"
   },
   {
    "duration": 1850,
    "start_time": "2023-03-01T21:20:48.791Z"
   },
   {
    "duration": 5,
    "start_time": "2023-03-01T21:20:50.643Z"
   },
   {
    "duration": 3,
    "start_time": "2023-03-01T21:20:50.971Z"
   },
   {
    "duration": 528,
    "start_time": "2023-03-01T21:20:52.061Z"
   },
   {
    "duration": 490,
    "start_time": "2023-03-01T21:20:53.229Z"
   },
   {
    "duration": 207,
    "start_time": "2023-03-01T21:20:54.094Z"
   },
   {
    "duration": 2,
    "start_time": "2023-03-01T21:20:54.974Z"
   },
   {
    "duration": 6,
    "start_time": "2023-03-01T21:20:55.735Z"
   },
   {
    "duration": 8,
    "start_time": "2023-03-01T21:20:57.143Z"
   },
   {
    "duration": 4,
    "start_time": "2023-03-01T21:20:58.399Z"
   },
   {
    "duration": 4,
    "start_time": "2023-03-01T21:20:58.907Z"
   },
   {
    "duration": 5,
    "start_time": "2023-03-01T21:20:59.278Z"
   },
   {
    "duration": 12,
    "start_time": "2023-03-01T21:21:00.915Z"
   },
   {
    "duration": 360,
    "start_time": "2023-03-01T21:21:01.334Z"
   },
   {
    "duration": 229,
    "start_time": "2023-03-01T21:21:01.775Z"
   },
   {
    "duration": 4,
    "start_time": "2023-03-01T21:21:03.286Z"
   },
   {
    "duration": 5,
    "start_time": "2023-03-01T21:21:06.670Z"
   },
   {
    "duration": 6,
    "start_time": "2023-03-01T21:21:07.139Z"
   },
   {
    "duration": 4698,
    "start_time": "2023-03-01T21:21:07.583Z"
   },
   {
    "duration": 568,
    "start_time": "2023-03-01T21:21:19.008Z"
   },
   {
    "duration": 9,
    "start_time": "2023-03-01T21:21:20.308Z"
   },
   {
    "duration": 402,
    "start_time": "2023-03-01T21:21:21.488Z"
   },
   {
    "duration": 400,
    "start_time": "2023-03-01T21:21:41.205Z"
   },
   {
    "duration": 124,
    "start_time": "2023-03-01T21:23:46.020Z"
   },
   {
    "duration": 9,
    "start_time": "2023-03-01T21:24:08.869Z"
   },
   {
    "duration": 546,
    "start_time": "2023-03-01T21:27:18.370Z"
   },
   {
    "duration": 602,
    "start_time": "2023-03-01T21:27:29.432Z"
   },
   {
    "duration": 1389,
    "start_time": "2023-03-01T21:45:16.143Z"
   },
   {
    "duration": 2020,
    "start_time": "2023-03-01T21:45:17.534Z"
   },
   {
    "duration": 3,
    "start_time": "2023-03-01T21:45:19.556Z"
   },
   {
    "duration": 6,
    "start_time": "2023-03-01T21:45:19.561Z"
   },
   {
    "duration": 495,
    "start_time": "2023-03-01T21:45:19.569Z"
   },
   {
    "duration": 437,
    "start_time": "2023-03-01T21:45:20.066Z"
   },
   {
    "duration": 212,
    "start_time": "2023-03-01T21:45:20.505Z"
   },
   {
    "duration": 2,
    "start_time": "2023-03-01T21:45:20.718Z"
   },
   {
    "duration": 12,
    "start_time": "2023-03-01T21:45:20.721Z"
   },
   {
    "duration": 13,
    "start_time": "2023-03-01T21:45:20.736Z"
   },
   {
    "duration": 6,
    "start_time": "2023-03-01T21:45:20.751Z"
   },
   {
    "duration": 5,
    "start_time": "2023-03-01T21:45:20.758Z"
   },
   {
    "duration": 8,
    "start_time": "2023-03-01T21:45:20.764Z"
   },
   {
    "duration": 17,
    "start_time": "2023-03-01T21:45:20.774Z"
   },
   {
    "duration": 343,
    "start_time": "2023-03-01T21:45:20.792Z"
   },
   {
    "duration": 213,
    "start_time": "2023-03-01T21:45:21.137Z"
   },
   {
    "duration": 3,
    "start_time": "2023-03-01T21:45:21.351Z"
   },
   {
    "duration": 10,
    "start_time": "2023-03-01T21:45:21.355Z"
   },
   {
    "duration": 6,
    "start_time": "2023-03-01T21:45:21.366Z"
   },
   {
    "duration": 4359,
    "start_time": "2023-03-01T21:45:21.373Z"
   },
   {
    "duration": 597,
    "start_time": "2023-03-01T21:45:25.734Z"
   },
   {
    "duration": 8,
    "start_time": "2023-03-01T21:45:26.333Z"
   },
   {
    "duration": 402,
    "start_time": "2023-03-01T21:45:26.348Z"
   },
   {
    "duration": 10,
    "start_time": "2023-03-01T21:45:26.752Z"
   },
   {
    "duration": 6,
    "start_time": "2023-03-01T21:45:26.763Z"
   },
   {
    "duration": 536,
    "start_time": "2023-03-01T21:45:26.770Z"
   },
   {
    "duration": 497,
    "start_time": "2023-03-01T21:45:47.413Z"
   },
   {
    "duration": 735,
    "start_time": "2023-03-01T21:46:26.439Z"
   },
   {
    "duration": 1503,
    "start_time": "2023-03-02T05:36:21.927Z"
   },
   {
    "duration": 2429,
    "start_time": "2023-03-02T05:36:25.183Z"
   },
   {
    "duration": 4,
    "start_time": "2023-03-02T05:36:27.613Z"
   },
   {
    "duration": 14,
    "start_time": "2023-03-02T05:36:27.618Z"
   },
   {
    "duration": 459,
    "start_time": "2023-03-02T05:36:28.412Z"
   },
   {
    "duration": 439,
    "start_time": "2023-03-02T05:36:29.456Z"
   },
   {
    "duration": 189,
    "start_time": "2023-03-02T05:36:30.313Z"
   },
   {
    "duration": 2,
    "start_time": "2023-03-02T05:36:31.110Z"
   },
   {
    "duration": 6,
    "start_time": "2023-03-02T05:36:31.355Z"
   },
   {
    "duration": 6,
    "start_time": "2023-03-02T05:36:32.049Z"
   },
   {
    "duration": 6,
    "start_time": "2023-03-02T05:36:32.874Z"
   },
   {
    "duration": 4,
    "start_time": "2023-03-02T05:36:33.128Z"
   },
   {
    "duration": 5,
    "start_time": "2023-03-02T05:36:33.409Z"
   },
   {
    "duration": 10,
    "start_time": "2023-03-02T05:36:34.501Z"
   },
   {
    "duration": 321,
    "start_time": "2023-03-02T05:36:34.779Z"
   },
   {
    "duration": 253,
    "start_time": "2023-03-02T05:36:35.102Z"
   },
   {
    "duration": 3,
    "start_time": "2023-03-02T05:36:35.804Z"
   },
   {
    "duration": 5,
    "start_time": "2023-03-02T05:36:37.680Z"
   },
   {
    "duration": 6,
    "start_time": "2023-03-02T05:36:37.916Z"
   },
   {
    "duration": 4491,
    "start_time": "2023-03-02T05:36:38.138Z"
   },
   {
    "duration": 511,
    "start_time": "2023-03-02T05:36:42.631Z"
   },
   {
    "duration": 9,
    "start_time": "2023-03-02T05:36:43.362Z"
   },
   {
    "duration": 425,
    "start_time": "2023-03-02T05:36:44.704Z"
   },
   {
    "duration": 10,
    "start_time": "2023-03-02T05:36:45.279Z"
   },
   {
    "duration": 5,
    "start_time": "2023-03-02T05:36:48.304Z"
   },
   {
    "duration": 564,
    "start_time": "2023-03-02T05:36:49.497Z"
   },
   {
    "duration": 843,
    "start_time": "2023-03-02T05:36:55.013Z"
   },
   {
    "duration": 795,
    "start_time": "2023-03-02T05:37:13.645Z"
   },
   {
    "duration": 91,
    "start_time": "2023-03-02T05:37:35.565Z"
   },
   {
    "duration": 621,
    "start_time": "2023-03-02T05:37:46.427Z"
   },
   {
    "duration": 772,
    "start_time": "2023-03-02T05:38:28.265Z"
   },
   {
    "duration": 26,
    "start_time": "2023-03-02T05:43:23.660Z"
   },
   {
    "duration": 22,
    "start_time": "2023-03-02T05:44:14.303Z"
   },
   {
    "duration": 60,
    "start_time": "2023-03-02T05:44:30.866Z"
   },
   {
    "duration": 8,
    "start_time": "2023-03-02T05:45:26.374Z"
   },
   {
    "duration": 6,
    "start_time": "2023-03-02T05:45:52.474Z"
   },
   {
    "duration": 1366,
    "start_time": "2023-03-02T06:09:46.878Z"
   },
   {
    "duration": 1983,
    "start_time": "2023-03-02T06:09:48.246Z"
   },
   {
    "duration": 4,
    "start_time": "2023-03-02T06:09:50.231Z"
   },
   {
    "duration": 27,
    "start_time": "2023-03-02T06:09:50.247Z"
   },
   {
    "duration": 468,
    "start_time": "2023-03-02T06:09:50.276Z"
   },
   {
    "duration": 431,
    "start_time": "2023-03-02T06:09:50.745Z"
   },
   {
    "duration": 221,
    "start_time": "2023-03-02T06:09:51.178Z"
   },
   {
    "duration": 2,
    "start_time": "2023-03-02T06:09:51.401Z"
   },
   {
    "duration": 10,
    "start_time": "2023-03-02T06:09:51.405Z"
   },
   {
    "duration": 8,
    "start_time": "2023-03-02T06:09:51.417Z"
   },
   {
    "duration": 27,
    "start_time": "2023-03-02T06:09:51.427Z"
   },
   {
    "duration": 9,
    "start_time": "2023-03-02T06:09:51.455Z"
   },
   {
    "duration": 11,
    "start_time": "2023-03-02T06:09:51.466Z"
   },
   {
    "duration": 24,
    "start_time": "2023-03-02T06:09:51.479Z"
   },
   {
    "duration": 311,
    "start_time": "2023-03-02T06:09:51.504Z"
   },
   {
    "duration": 217,
    "start_time": "2023-03-02T06:09:51.817Z"
   },
   {
    "duration": 3,
    "start_time": "2023-03-02T06:09:52.035Z"
   },
   {
    "duration": 10,
    "start_time": "2023-03-02T06:09:52.048Z"
   },
   {
    "duration": 15,
    "start_time": "2023-03-02T06:09:52.063Z"
   },
   {
    "duration": 4571,
    "start_time": "2023-03-02T06:09:52.079Z"
   },
   {
    "duration": 498,
    "start_time": "2023-03-02T06:09:56.651Z"
   },
   {
    "duration": 8,
    "start_time": "2023-03-02T06:09:57.151Z"
   },
   {
    "duration": 391,
    "start_time": "2023-03-02T06:09:57.160Z"
   },
   {
    "duration": 11,
    "start_time": "2023-03-02T06:09:57.553Z"
   },
   {
    "duration": 7,
    "start_time": "2023-03-02T06:09:57.566Z"
   },
   {
    "duration": 744,
    "start_time": "2023-03-02T06:09:57.574Z"
   },
   {
    "duration": 33,
    "start_time": "2023-03-02T06:09:58.320Z"
   },
   {
    "duration": 7,
    "start_time": "2023-03-02T06:09:58.356Z"
   },
   {
    "duration": 13,
    "start_time": "2023-03-02T06:10:11.879Z"
   },
   {
    "duration": 7,
    "start_time": "2023-03-02T06:10:29.169Z"
   },
   {
    "duration": 8,
    "start_time": "2023-03-02T06:20:02.475Z"
   },
   {
    "duration": 913,
    "start_time": "2023-03-02T06:20:03.345Z"
   },
   {
    "duration": 6,
    "start_time": "2023-03-02T06:20:20.025Z"
   },
   {
    "duration": 898,
    "start_time": "2023-03-02T06:20:40.033Z"
   },
   {
    "duration": 1417,
    "start_time": "2023-03-02T06:25:24.318Z"
   },
   {
    "duration": 2152,
    "start_time": "2023-03-02T06:25:25.736Z"
   },
   {
    "duration": 3,
    "start_time": "2023-03-02T06:25:27.890Z"
   },
   {
    "duration": 9,
    "start_time": "2023-03-02T06:25:27.895Z"
   },
   {
    "duration": 485,
    "start_time": "2023-03-02T06:25:27.906Z"
   },
   {
    "duration": 506,
    "start_time": "2023-03-02T06:25:28.392Z"
   },
   {
    "duration": 250,
    "start_time": "2023-03-02T06:25:28.899Z"
   },
   {
    "duration": 2,
    "start_time": "2023-03-02T06:25:29.151Z"
   },
   {
    "duration": 12,
    "start_time": "2023-03-02T06:25:29.155Z"
   },
   {
    "duration": 6,
    "start_time": "2023-03-02T06:25:29.169Z"
   },
   {
    "duration": 7,
    "start_time": "2023-03-02T06:25:29.176Z"
   },
   {
    "duration": 6,
    "start_time": "2023-03-02T06:25:29.185Z"
   },
   {
    "duration": 7,
    "start_time": "2023-03-02T06:25:29.193Z"
   },
   {
    "duration": 15,
    "start_time": "2023-03-02T06:25:29.201Z"
   },
   {
    "duration": 397,
    "start_time": "2023-03-02T06:25:29.218Z"
   },
   {
    "duration": 256,
    "start_time": "2023-03-02T06:25:29.617Z"
   },
   {
    "duration": 3,
    "start_time": "2023-03-02T06:25:29.875Z"
   },
   {
    "duration": 9,
    "start_time": "2023-03-02T06:25:29.879Z"
   },
   {
    "duration": 6,
    "start_time": "2023-03-02T06:25:29.890Z"
   },
   {
    "duration": 4941,
    "start_time": "2023-03-02T06:25:29.898Z"
   },
   {
    "duration": 620,
    "start_time": "2023-03-02T06:25:34.840Z"
   },
   {
    "duration": 12,
    "start_time": "2023-03-02T06:25:35.463Z"
   },
   {
    "duration": 522,
    "start_time": "2023-03-02T06:25:35.478Z"
   },
   {
    "duration": 11,
    "start_time": "2023-03-02T06:25:36.002Z"
   },
   {
    "duration": 66,
    "start_time": "2023-03-02T06:25:36.014Z"
   },
   {
    "duration": 959,
    "start_time": "2023-03-02T06:25:36.082Z"
   },
   {
    "duration": 5,
    "start_time": "2023-03-02T06:25:37.043Z"
   },
   {
    "duration": 21,
    "start_time": "2023-03-02T06:25:37.051Z"
   },
   {
    "duration": 956,
    "start_time": "2023-03-02T06:27:32.395Z"
   },
   {
    "duration": 8,
    "start_time": "2023-03-02T06:27:44.413Z"
   },
   {
    "duration": 919,
    "start_time": "2023-03-02T06:27:45.130Z"
   },
   {
    "duration": 26,
    "start_time": "2023-03-02T06:30:13.846Z"
   },
   {
    "duration": 12,
    "start_time": "2023-03-02T07:36:11.296Z"
   },
   {
    "duration": 20,
    "start_time": "2023-03-02T07:37:36.664Z"
   },
   {
    "duration": 5,
    "start_time": "2023-03-02T07:38:40.067Z"
   },
   {
    "duration": 114,
    "start_time": "2023-03-02T07:38:51.884Z"
   },
   {
    "duration": 37,
    "start_time": "2023-03-02T07:39:10.816Z"
   },
   {
    "duration": 37,
    "start_time": "2023-03-02T07:39:38.773Z"
   },
   {
    "duration": 51,
    "start_time": "2023-03-02T07:44:17.764Z"
   },
   {
    "duration": 50,
    "start_time": "2023-03-02T07:44:22.573Z"
   },
   {
    "duration": 1522,
    "start_time": "2023-03-02T08:16:02.510Z"
   },
   {
    "duration": 2422,
    "start_time": "2023-03-02T08:16:04.034Z"
   },
   {
    "duration": 5,
    "start_time": "2023-03-02T08:16:06.458Z"
   },
   {
    "duration": 14,
    "start_time": "2023-03-02T08:16:06.464Z"
   },
   {
    "duration": 522,
    "start_time": "2023-03-02T08:16:06.479Z"
   },
   {
    "duration": 489,
    "start_time": "2023-03-02T08:16:07.003Z"
   },
   {
    "duration": 225,
    "start_time": "2023-03-02T08:16:07.493Z"
   },
   {
    "duration": 3,
    "start_time": "2023-03-02T08:16:07.720Z"
   },
   {
    "duration": 25,
    "start_time": "2023-03-02T08:16:07.724Z"
   },
   {
    "duration": 9,
    "start_time": "2023-03-02T08:16:07.750Z"
   },
   {
    "duration": 7,
    "start_time": "2023-03-02T08:16:07.763Z"
   },
   {
    "duration": 8,
    "start_time": "2023-03-02T08:16:07.772Z"
   },
   {
    "duration": 8,
    "start_time": "2023-03-02T08:16:07.782Z"
   },
   {
    "duration": 18,
    "start_time": "2023-03-02T08:16:07.792Z"
   },
   {
    "duration": 372,
    "start_time": "2023-03-02T08:16:07.812Z"
   },
   {
    "duration": 229,
    "start_time": "2023-03-02T08:16:08.186Z"
   },
   {
    "duration": 3,
    "start_time": "2023-03-02T08:16:08.417Z"
   },
   {
    "duration": 8,
    "start_time": "2023-03-02T08:16:08.422Z"
   },
   {
    "duration": 25,
    "start_time": "2023-03-02T08:16:08.432Z"
   },
   {
    "duration": 5120,
    "start_time": "2023-03-02T08:16:08.459Z"
   },
   {
    "duration": 525,
    "start_time": "2023-03-02T08:16:13.581Z"
   },
   {
    "duration": 9,
    "start_time": "2023-03-02T08:16:14.109Z"
   },
   {
    "duration": 479,
    "start_time": "2023-03-02T08:16:14.120Z"
   },
   {
    "duration": 53,
    "start_time": "2023-03-02T08:16:14.600Z"
   },
   {
    "duration": 8,
    "start_time": "2023-03-02T08:16:14.657Z"
   },
   {
    "duration": 936,
    "start_time": "2023-03-02T08:16:14.667Z"
   },
   {
    "duration": 25,
    "start_time": "2023-03-02T08:16:15.605Z"
   },
   {
    "duration": 3,
    "start_time": "2023-03-02T08:16:15.631Z"
   },
   {
    "duration": 9,
    "start_time": "2023-03-02T08:16:15.647Z"
   },
   {
    "duration": 24,
    "start_time": "2023-03-02T08:16:15.658Z"
   },
   {
    "duration": 36,
    "start_time": "2023-03-02T08:16:15.684Z"
   },
   {
    "duration": 111,
    "start_time": "2023-03-02T08:16:15.722Z"
   },
   {
    "duration": 0,
    "start_time": "2023-03-02T08:16:15.835Z"
   },
   {
    "duration": 7,
    "start_time": "2023-03-02T08:16:57.092Z"
   },
   {
    "duration": 7,
    "start_time": "2023-03-02T08:31:09.094Z"
   },
   {
    "duration": 10,
    "start_time": "2023-03-02T08:31:11.758Z"
   },
   {
    "duration": 4,
    "start_time": "2023-03-02T08:34:57.839Z"
   },
   {
    "duration": 4,
    "start_time": "2023-03-02T08:35:14.806Z"
   },
   {
    "duration": 25,
    "start_time": "2023-03-02T08:36:27.223Z"
   },
   {
    "duration": 51,
    "start_time": "2023-03-02T08:37:56.970Z"
   },
   {
    "duration": 3,
    "start_time": "2023-03-02T09:27:32.791Z"
   },
   {
    "duration": 3,
    "start_time": "2023-03-02T09:28:23.543Z"
   },
   {
    "duration": 14,
    "start_time": "2023-03-02T09:28:24.214Z"
   },
   {
    "duration": 25222,
    "start_time": "2023-03-02T09:29:04.159Z"
   },
   {
    "duration": 25254,
    "start_time": "2023-03-02T09:32:09.770Z"
   },
   {
    "duration": 3,
    "start_time": "2023-03-02T09:33:40.615Z"
   },
   {
    "duration": 14,
    "start_time": "2023-03-02T09:33:41.520Z"
   },
   {
    "duration": 2,
    "start_time": "2023-03-02T09:33:44.896Z"
   },
   {
    "duration": 4,
    "start_time": "2023-03-02T09:33:45.633Z"
   },
   {
    "duration": 27899,
    "start_time": "2023-03-02T09:33:46.440Z"
   },
   {
    "duration": 13,
    "start_time": "2023-03-02T09:41:37.081Z"
   },
   {
    "duration": 17,
    "start_time": "2023-03-02T09:41:43.645Z"
   },
   {
    "duration": 10,
    "start_time": "2023-03-02T09:42:11.757Z"
   },
   {
    "duration": 10,
    "start_time": "2023-03-02T09:42:12.362Z"
   },
   {
    "duration": 3,
    "start_time": "2023-03-02T09:43:05.985Z"
   },
   {
    "duration": 13,
    "start_time": "2023-03-02T09:43:07.292Z"
   },
   {
    "duration": 5,
    "start_time": "2023-03-02T09:51:31.319Z"
   },
   {
    "duration": 13,
    "start_time": "2023-03-02T09:51:34.693Z"
   },
   {
    "duration": 10,
    "start_time": "2023-03-02T09:51:57.871Z"
   },
   {
    "duration": 4,
    "start_time": "2023-03-02T09:52:51.581Z"
   },
   {
    "duration": 4,
    "start_time": "2023-03-02T09:53:05.570Z"
   },
   {
    "duration": 4,
    "start_time": "2023-03-02T09:53:07.042Z"
   },
   {
    "duration": 2,
    "start_time": "2023-03-02T09:53:09.196Z"
   },
   {
    "duration": 14,
    "start_time": "2023-03-02T09:53:13.297Z"
   },
   {
    "duration": 21125,
    "start_time": "2023-03-02T09:54:01.928Z"
   },
   {
    "duration": 4,
    "start_time": "2023-03-02T09:54:40.898Z"
   },
   {
    "duration": 415,
    "start_time": "2023-03-02T09:55:09.600Z"
   },
   {
    "duration": 38,
    "start_time": "2023-03-02T09:56:15.535Z"
   },
   {
    "duration": 3,
    "start_time": "2023-03-02T09:56:46.180Z"
   },
   {
    "duration": 19,
    "start_time": "2023-03-02T09:56:48.594Z"
   },
   {
    "duration": 6,
    "start_time": "2023-03-02T09:57:11.869Z"
   },
   {
    "duration": 19,
    "start_time": "2023-03-02T09:57:14.624Z"
   },
   {
    "duration": 3,
    "start_time": "2023-03-02T09:57:48.086Z"
   },
   {
    "duration": 20,
    "start_time": "2023-03-02T09:57:51.163Z"
   },
   {
    "duration": 3,
    "start_time": "2023-03-02T09:58:01.139Z"
   },
   {
    "duration": 22,
    "start_time": "2023-03-02T09:58:04.180Z"
   },
   {
    "duration": 8,
    "start_time": "2023-03-02T09:58:18.330Z"
   },
   {
    "duration": 3,
    "start_time": "2023-03-02T10:00:08.360Z"
   },
   {
    "duration": 76,
    "start_time": "2023-03-02T10:00:10.725Z"
   },
   {
    "duration": 1351,
    "start_time": "2023-03-02T10:00:51.730Z"
   },
   {
    "duration": 2151,
    "start_time": "2023-03-02T10:00:53.083Z"
   },
   {
    "duration": 7,
    "start_time": "2023-03-02T10:00:55.236Z"
   },
   {
    "duration": 23,
    "start_time": "2023-03-02T10:00:55.251Z"
   },
   {
    "duration": 509,
    "start_time": "2023-03-02T10:00:55.276Z"
   },
   {
    "duration": 482,
    "start_time": "2023-03-02T10:00:55.786Z"
   },
   {
    "duration": 213,
    "start_time": "2023-03-02T10:00:56.270Z"
   },
   {
    "duration": 3,
    "start_time": "2023-03-02T10:00:56.485Z"
   },
   {
    "duration": 10,
    "start_time": "2023-03-02T10:00:56.490Z"
   },
   {
    "duration": 4,
    "start_time": "2023-03-02T10:00:56.503Z"
   },
   {
    "duration": 6,
    "start_time": "2023-03-02T10:00:56.509Z"
   },
   {
    "duration": 5,
    "start_time": "2023-03-02T10:00:56.516Z"
   },
   {
    "duration": 35,
    "start_time": "2023-03-02T10:00:56.523Z"
   },
   {
    "duration": 17,
    "start_time": "2023-03-02T10:00:56.560Z"
   },
   {
    "duration": 316,
    "start_time": "2023-03-02T10:00:56.579Z"
   },
   {
    "duration": 212,
    "start_time": "2023-03-02T10:00:56.897Z"
   },
   {
    "duration": 3,
    "start_time": "2023-03-02T10:00:57.110Z"
   },
   {
    "duration": 28,
    "start_time": "2023-03-02T10:00:57.115Z"
   },
   {
    "duration": 22,
    "start_time": "2023-03-02T10:00:57.145Z"
   },
   {
    "duration": 4700,
    "start_time": "2023-03-02T10:00:57.169Z"
   },
   {
    "duration": 395,
    "start_time": "2023-03-02T10:01:01.873Z"
   },
   {
    "duration": 8,
    "start_time": "2023-03-02T10:01:02.270Z"
   },
   {
    "duration": 491,
    "start_time": "2023-03-02T10:01:02.279Z"
   },
   {
    "duration": 11,
    "start_time": "2023-03-02T10:01:02.772Z"
   },
   {
    "duration": 39,
    "start_time": "2023-03-02T10:01:02.784Z"
   },
   {
    "duration": 1041,
    "start_time": "2023-03-02T10:01:02.826Z"
   },
   {
    "duration": 28,
    "start_time": "2023-03-02T10:01:03.868Z"
   },
   {
    "duration": 3,
    "start_time": "2023-03-02T10:01:03.900Z"
   },
   {
    "duration": 6,
    "start_time": "2023-03-02T10:01:03.904Z"
   },
   {
    "duration": 19,
    "start_time": "2023-03-02T10:01:03.911Z"
   },
   {
    "duration": 8,
    "start_time": "2023-03-02T10:01:03.958Z"
   },
   {
    "duration": 24,
    "start_time": "2023-03-02T10:01:03.967Z"
   },
   {
    "duration": 21,
    "start_time": "2023-03-02T10:01:03.992Z"
   },
   {
    "duration": 5,
    "start_time": "2023-03-02T10:01:34.766Z"
   },
   {
    "duration": 3,
    "start_time": "2023-03-02T10:01:41.308Z"
   },
   {
    "duration": 118,
    "start_time": "2023-03-02T10:01:45.677Z"
   },
   {
    "duration": 5,
    "start_time": "2023-03-02T10:02:30.463Z"
   },
   {
    "duration": 3,
    "start_time": "2023-03-02T10:02:47.875Z"
   },
   {
    "duration": 3,
    "start_time": "2023-03-02T10:02:50.828Z"
   },
   {
    "duration": 81,
    "start_time": "2023-03-02T10:02:53.695Z"
   },
   {
    "duration": 3,
    "start_time": "2023-03-02T10:03:34.368Z"
   },
   {
    "duration": 6,
    "start_time": "2023-03-02T10:03:55.519Z"
   },
   {
    "duration": 200931,
    "start_time": "2023-03-02T10:04:42.816Z"
   },
   {
    "duration": 440166,
    "start_time": "2023-03-02T10:32:07.962Z"
   },
   {
    "duration": 5799,
    "start_time": "2023-03-02T10:39:28.130Z"
   },
   {
    "duration": 5437,
    "start_time": "2023-03-02T10:39:33.931Z"
   },
   {
    "duration": 1438,
    "start_time": "2023-03-02T10:58:52.128Z"
   },
   {
    "duration": 2267,
    "start_time": "2023-03-02T10:58:53.568Z"
   },
   {
    "duration": 4,
    "start_time": "2023-03-02T10:58:55.836Z"
   },
   {
    "duration": 10,
    "start_time": "2023-03-02T10:58:55.847Z"
   },
   {
    "duration": 532,
    "start_time": "2023-03-02T10:58:55.859Z"
   },
   {
    "duration": 476,
    "start_time": "2023-03-02T10:58:56.392Z"
   },
   {
    "duration": 225,
    "start_time": "2023-03-02T10:58:56.869Z"
   },
   {
    "duration": 6,
    "start_time": "2023-03-02T10:58:57.096Z"
   },
   {
    "duration": 8,
    "start_time": "2023-03-02T10:58:57.103Z"
   },
   {
    "duration": 6,
    "start_time": "2023-03-02T10:58:57.112Z"
   },
   {
    "duration": 6,
    "start_time": "2023-03-02T10:58:57.119Z"
   },
   {
    "duration": 33,
    "start_time": "2023-03-02T10:58:57.127Z"
   },
   {
    "duration": 23,
    "start_time": "2023-03-02T10:58:57.162Z"
   },
   {
    "duration": 352,
    "start_time": "2023-03-02T10:58:57.189Z"
   },
   {
    "duration": 226,
    "start_time": "2023-03-02T10:58:57.543Z"
   },
   {
    "duration": 4,
    "start_time": "2023-03-02T10:58:57.771Z"
   },
   {
    "duration": 8,
    "start_time": "2023-03-02T10:58:57.776Z"
   },
   {
    "duration": 10,
    "start_time": "2023-03-02T10:58:57.785Z"
   },
   {
    "duration": 4900,
    "start_time": "2023-03-02T10:58:57.797Z"
   },
   {
    "duration": 487,
    "start_time": "2023-03-02T10:59:02.698Z"
   },
   {
    "duration": 9,
    "start_time": "2023-03-02T10:59:03.187Z"
   },
   {
    "duration": 508,
    "start_time": "2023-03-02T10:59:03.198Z"
   },
   {
    "duration": 12,
    "start_time": "2023-03-02T10:59:03.708Z"
   },
   {
    "duration": 45,
    "start_time": "2023-03-02T10:59:03.722Z"
   },
   {
    "duration": 900,
    "start_time": "2023-03-02T10:59:03.768Z"
   },
   {
    "duration": 27,
    "start_time": "2023-03-02T10:59:04.670Z"
   },
   {
    "duration": 3,
    "start_time": "2023-03-02T10:59:04.699Z"
   },
   {
    "duration": 64,
    "start_time": "2023-03-02T10:59:04.705Z"
   },
   {
    "duration": 32,
    "start_time": "2023-03-02T10:59:04.771Z"
   },
   {
    "duration": 17,
    "start_time": "2023-03-02T10:59:04.805Z"
   },
   {
    "duration": 11,
    "start_time": "2023-03-02T10:59:04.824Z"
   },
   {
    "duration": 29,
    "start_time": "2023-03-02T10:59:04.837Z"
   },
   {
    "duration": 10,
    "start_time": "2023-03-02T10:59:04.867Z"
   },
   {
    "duration": 21,
    "start_time": "2023-03-02T10:59:04.879Z"
   },
   {
    "duration": 3,
    "start_time": "2023-03-02T10:59:04.902Z"
   },
   {
    "duration": 5,
    "start_time": "2023-03-02T10:59:04.907Z"
   },
   {
    "duration": 1563,
    "start_time": "2023-03-02T11:44:55.163Z"
   },
   {
    "duration": 1878,
    "start_time": "2023-03-02T11:44:56.728Z"
   },
   {
    "duration": 4,
    "start_time": "2023-03-02T11:44:58.607Z"
   },
   {
    "duration": 6,
    "start_time": "2023-03-02T11:44:58.613Z"
   },
   {
    "duration": 484,
    "start_time": "2023-03-02T11:44:58.621Z"
   },
   {
    "duration": 498,
    "start_time": "2023-03-02T11:44:59.107Z"
   },
   {
    "duration": 239,
    "start_time": "2023-03-02T11:44:59.607Z"
   },
   {
    "duration": 20,
    "start_time": "2023-03-02T11:44:59.847Z"
   },
   {
    "duration": 19,
    "start_time": "2023-03-02T11:44:59.870Z"
   },
   {
    "duration": 6,
    "start_time": "2023-03-02T11:44:59.892Z"
   },
   {
    "duration": 11,
    "start_time": "2023-03-02T11:44:59.900Z"
   },
   {
    "duration": 13,
    "start_time": "2023-03-02T11:44:59.913Z"
   },
   {
    "duration": 34,
    "start_time": "2023-03-02T11:44:59.927Z"
   },
   {
    "duration": 326,
    "start_time": "2023-03-02T11:44:59.963Z"
   },
   {
    "duration": 223,
    "start_time": "2023-03-02T11:45:00.291Z"
   },
   {
    "duration": 3,
    "start_time": "2023-03-02T11:45:00.516Z"
   },
   {
    "duration": 56,
    "start_time": "2023-03-02T11:45:00.521Z"
   },
   {
    "duration": 65,
    "start_time": "2023-03-02T11:45:00.579Z"
   },
   {
    "duration": 5115,
    "start_time": "2023-03-02T11:45:00.645Z"
   },
   {
    "duration": 410,
    "start_time": "2023-03-02T11:45:05.762Z"
   },
   {
    "duration": 9,
    "start_time": "2023-03-02T11:45:06.173Z"
   },
   {
    "duration": 490,
    "start_time": "2023-03-02T11:45:06.183Z"
   },
   {
    "duration": 9,
    "start_time": "2023-03-02T11:45:06.675Z"
   },
   {
    "duration": 12,
    "start_time": "2023-03-02T11:45:06.685Z"
   },
   {
    "duration": 942,
    "start_time": "2023-03-02T11:45:06.699Z"
   },
   {
    "duration": 31,
    "start_time": "2023-03-02T11:45:07.649Z"
   },
   {
    "duration": 3,
    "start_time": "2023-03-02T11:45:07.681Z"
   },
   {
    "duration": 8,
    "start_time": "2023-03-02T11:45:07.687Z"
   },
   {
    "duration": 24,
    "start_time": "2023-03-02T11:45:07.696Z"
   },
   {
    "duration": 7,
    "start_time": "2023-03-02T11:45:07.722Z"
   },
   {
    "duration": 8,
    "start_time": "2023-03-02T11:45:07.731Z"
   },
   {
    "duration": 19,
    "start_time": "2023-03-02T11:45:07.748Z"
   },
   {
    "duration": 6,
    "start_time": "2023-03-02T11:45:07.769Z"
   },
   {
    "duration": 19,
    "start_time": "2023-03-02T11:45:07.777Z"
   },
   {
    "duration": 3,
    "start_time": "2023-03-02T11:45:07.797Z"
   },
   {
    "duration": 10,
    "start_time": "2023-03-02T11:45:07.801Z"
   },
   {
    "duration": 839393,
    "start_time": "2023-03-02T11:45:07.812Z"
   },
   {
    "duration": 9155,
    "start_time": "2023-03-02T11:59:07.207Z"
   },
   {
    "duration": 100,
    "start_time": "2023-03-02T11:59:16.364Z"
   },
   {
    "duration": 199,
    "start_time": "2023-03-02T11:59:16.469Z"
   },
   {
    "duration": 81,
    "start_time": "2023-03-02T12:05:05.064Z"
   },
   {
    "duration": 13,
    "start_time": "2023-03-02T12:05:17.748Z"
   },
   {
    "duration": 5,
    "start_time": "2023-03-02T12:08:17.659Z"
   },
   {
    "duration": 4,
    "start_time": "2023-03-02T12:09:52.807Z"
   },
   {
    "duration": 10430,
    "start_time": "2023-03-02T12:10:33.331Z"
   },
   {
    "duration": 11056,
    "start_time": "2023-03-02T12:11:15.594Z"
   },
   {
    "duration": 12,
    "start_time": "2023-03-02T12:27:10.816Z"
   },
   {
    "duration": 20281,
    "start_time": "2023-03-02T12:27:39.608Z"
   },
   {
    "duration": 20018,
    "start_time": "2023-03-02T12:28:54.008Z"
   },
   {
    "duration": 20140,
    "start_time": "2023-03-02T12:29:32.973Z"
   },
   {
    "duration": 20187,
    "start_time": "2023-03-02T12:33:13.639Z"
   },
   {
    "duration": 4,
    "start_time": "2023-03-02T12:33:35.587Z"
   },
   {
    "duration": 4,
    "start_time": "2023-03-02T12:34:53.699Z"
   },
   {
    "duration": 2692,
    "start_time": "2023-03-02T12:39:28.219Z"
   },
   {
    "duration": 85,
    "start_time": "2023-03-02T12:40:13.198Z"
   },
   {
    "duration": 78,
    "start_time": "2023-03-02T12:40:40.907Z"
   },
   {
    "duration": 7,
    "start_time": "2023-03-02T12:40:50.725Z"
   },
   {
    "duration": 4,
    "start_time": "2023-03-02T12:40:52.506Z"
   },
   {
    "duration": 6,
    "start_time": "2023-03-02T12:41:25.567Z"
   },
   {
    "duration": 91,
    "start_time": "2023-03-02T12:43:33.819Z"
   },
   {
    "duration": 14,
    "start_time": "2023-03-02T12:43:47.646Z"
   },
   {
    "duration": 92,
    "start_time": "2023-03-02T12:44:38.926Z"
   },
   {
    "duration": 13,
    "start_time": "2023-03-02T12:44:43.215Z"
   },
   {
    "duration": 1489,
    "start_time": "2023-03-02T12:46:15.129Z"
   },
   {
    "duration": 2117,
    "start_time": "2023-03-02T12:46:16.620Z"
   },
   {
    "duration": 4,
    "start_time": "2023-03-02T12:46:18.738Z"
   },
   {
    "duration": 24,
    "start_time": "2023-03-02T12:46:18.747Z"
   },
   {
    "duration": 521,
    "start_time": "2023-03-02T12:46:18.773Z"
   },
   {
    "duration": 490,
    "start_time": "2023-03-02T12:46:19.296Z"
   },
   {
    "duration": 234,
    "start_time": "2023-03-02T12:46:19.787Z"
   },
   {
    "duration": 7,
    "start_time": "2023-03-02T12:46:20.022Z"
   },
   {
    "duration": 32,
    "start_time": "2023-03-02T12:46:20.030Z"
   },
   {
    "duration": 4,
    "start_time": "2023-03-02T12:46:20.065Z"
   },
   {
    "duration": 15,
    "start_time": "2023-03-02T12:46:20.071Z"
   },
   {
    "duration": 9,
    "start_time": "2023-03-02T12:46:20.088Z"
   },
   {
    "duration": 19,
    "start_time": "2023-03-02T12:46:20.099Z"
   },
   {
    "duration": 343,
    "start_time": "2023-03-02T12:46:20.120Z"
   },
   {
    "duration": 228,
    "start_time": "2023-03-02T12:46:20.465Z"
   },
   {
    "duration": 3,
    "start_time": "2023-03-02T12:46:20.695Z"
   },
   {
    "duration": 20,
    "start_time": "2023-03-02T12:46:20.700Z"
   },
   {
    "duration": 16,
    "start_time": "2023-03-02T12:46:20.722Z"
   },
   {
    "duration": 5049,
    "start_time": "2023-03-02T12:46:20.739Z"
   },
   {
    "duration": 489,
    "start_time": "2023-03-02T12:46:25.790Z"
   },
   {
    "duration": 9,
    "start_time": "2023-03-02T12:46:26.281Z"
   },
   {
    "duration": 503,
    "start_time": "2023-03-02T12:46:26.293Z"
   },
   {
    "duration": 10,
    "start_time": "2023-03-02T12:46:26.798Z"
   },
   {
    "duration": 13,
    "start_time": "2023-03-02T12:46:26.810Z"
   },
   {
    "duration": 947,
    "start_time": "2023-03-02T12:46:26.825Z"
   },
   {
    "duration": 28,
    "start_time": "2023-03-02T12:46:27.774Z"
   },
   {
    "duration": 3,
    "start_time": "2023-03-02T12:46:27.804Z"
   },
   {
    "duration": 7,
    "start_time": "2023-03-02T12:46:27.811Z"
   },
   {
    "duration": 29,
    "start_time": "2023-03-02T12:46:27.820Z"
   },
   {
    "duration": 11,
    "start_time": "2023-03-02T12:46:27.854Z"
   },
   {
    "duration": 13,
    "start_time": "2023-03-02T12:46:27.867Z"
   },
   {
    "duration": 12,
    "start_time": "2023-03-02T12:46:27.882Z"
   },
   {
    "duration": 7,
    "start_time": "2023-03-02T12:46:27.896Z"
   },
   {
    "duration": 30,
    "start_time": "2023-03-02T12:46:27.904Z"
   },
   {
    "duration": 13,
    "start_time": "2023-03-02T12:46:27.936Z"
   },
   {
    "duration": 22,
    "start_time": "2023-03-02T12:46:27.951Z"
   },
   {
    "duration": 154,
    "start_time": "2023-03-02T12:46:27.975Z"
   },
   {
    "duration": 0,
    "start_time": "2023-03-02T12:46:28.131Z"
   },
   {
    "duration": 0,
    "start_time": "2023-03-02T12:46:28.132Z"
   },
   {
    "duration": 0,
    "start_time": "2023-03-02T12:46:28.133Z"
   },
   {
    "duration": 0,
    "start_time": "2023-03-02T12:46:28.134Z"
   },
   {
    "duration": 0,
    "start_time": "2023-03-02T12:46:28.136Z"
   },
   {
    "duration": 4,
    "start_time": "2023-03-02T12:57:35.718Z"
   },
   {
    "duration": 25,
    "start_time": "2023-03-02T12:57:36.637Z"
   },
   {
    "duration": 13,
    "start_time": "2023-03-02T12:57:55.466Z"
   },
   {
    "duration": 14,
    "start_time": "2023-03-02T12:57:56.166Z"
   },
   {
    "duration": 4,
    "start_time": "2023-03-02T12:58:06.879Z"
   },
   {
    "duration": 5,
    "start_time": "2023-03-02T12:58:15.059Z"
   },
   {
    "duration": 5,
    "start_time": "2023-03-02T12:58:31.528Z"
   },
   {
    "duration": 12,
    "start_time": "2023-03-02T12:58:32.386Z"
   },
   {
    "duration": 9,
    "start_time": "2023-03-02T12:59:34.284Z"
   },
   {
    "duration": 9,
    "start_time": "2023-03-02T12:59:37.223Z"
   },
   {
    "duration": 4,
    "start_time": "2023-03-02T12:59:39.273Z"
   },
   {
    "duration": 18,
    "start_time": "2023-03-02T12:59:40.618Z"
   },
   {
    "duration": 4,
    "start_time": "2023-03-02T12:59:45.552Z"
   },
   {
    "duration": 4,
    "start_time": "2023-03-02T12:59:47.259Z"
   },
   {
    "duration": 11,
    "start_time": "2023-03-02T12:59:53.475Z"
   },
   {
    "duration": 22,
    "start_time": "2023-03-02T13:00:06.038Z"
   },
   {
    "duration": 6,
    "start_time": "2023-03-02T13:00:31.740Z"
   },
   {
    "duration": 4,
    "start_time": "2023-03-02T13:00:33.326Z"
   },
   {
    "duration": 17,
    "start_time": "2023-03-02T13:00:33.595Z"
   },
   {
    "duration": 4,
    "start_time": "2023-03-02T13:00:33.787Z"
   },
   {
    "duration": 4,
    "start_time": "2023-03-02T13:00:34.059Z"
   },
   {
    "duration": 12,
    "start_time": "2023-03-02T13:00:34.284Z"
   },
   {
    "duration": 16701,
    "start_time": "2023-03-02T13:00:34.588Z"
   },
   {
    "duration": 11061,
    "start_time": "2023-03-02T13:00:51.290Z"
   },
   {
    "duration": 17976,
    "start_time": "2023-03-02T13:01:02.353Z"
   },
   {
    "duration": 3,
    "start_time": "2023-03-02T13:01:20.331Z"
   },
   {
    "duration": 10216,
    "start_time": "2023-03-02T13:01:20.335Z"
   },
   {
    "duration": 15554,
    "start_time": "2023-03-02T13:01:40.939Z"
   },
   {
    "duration": 9817,
    "start_time": "2023-03-02T13:02:20.746Z"
   },
   {
    "duration": 17788,
    "start_time": "2023-03-02T13:02:44.040Z"
   },
   {
    "duration": 3,
    "start_time": "2023-03-02T13:03:01.830Z"
   },
   {
    "duration": 1930,
    "start_time": "2023-03-03T12:17:29.914Z"
   },
   {
    "duration": 3761,
    "start_time": "2023-03-03T12:17:33.175Z"
   },
   {
    "duration": 5,
    "start_time": "2023-03-03T12:17:36.942Z"
   },
   {
    "duration": 3,
    "start_time": "2023-03-03T12:17:41.279Z"
   },
   {
    "duration": 605,
    "start_time": "2023-03-03T12:17:43.043Z"
   },
   {
    "duration": 528,
    "start_time": "2023-03-03T12:17:46.132Z"
   },
   {
    "duration": 230,
    "start_time": "2023-03-03T12:17:48.850Z"
   },
   {
    "duration": 7,
    "start_time": "2023-03-03T12:17:51.573Z"
   },
   {
    "duration": 6,
    "start_time": "2023-03-03T12:17:53.562Z"
   },
   {
    "duration": 4,
    "start_time": "2023-03-03T12:17:55.990Z"
   },
   {
    "duration": 8,
    "start_time": "2023-03-03T12:17:57.130Z"
   },
   {
    "duration": 6,
    "start_time": "2023-03-03T12:17:57.673Z"
   },
   {
    "duration": 10,
    "start_time": "2023-03-03T12:18:08.869Z"
   },
   {
    "duration": 386,
    "start_time": "2023-03-03T12:18:10.629Z"
   },
   {
    "duration": 247,
    "start_time": "2023-03-03T12:18:14.034Z"
   },
   {
    "duration": 6,
    "start_time": "2023-03-03T12:18:17.085Z"
   },
   {
    "duration": 5,
    "start_time": "2023-03-03T12:18:19.859Z"
   },
   {
    "duration": 5,
    "start_time": "2023-03-03T12:18:20.567Z"
   },
   {
    "duration": 5194,
    "start_time": "2023-03-03T12:18:21.364Z"
   },
   {
    "duration": 488,
    "start_time": "2023-03-03T12:18:33.460Z"
   },
   {
    "duration": 10,
    "start_time": "2023-03-03T12:18:36.478Z"
   },
   {
    "duration": 495,
    "start_time": "2023-03-03T12:18:45.883Z"
   },
   {
    "duration": 11,
    "start_time": "2023-03-03T12:18:47.438Z"
   },
   {
    "duration": 7,
    "start_time": "2023-03-03T12:19:13.854Z"
   },
   {
    "duration": 1066,
    "start_time": "2023-03-03T12:19:15.899Z"
   },
   {
    "duration": 43,
    "start_time": "2023-03-03T12:19:21.408Z"
   },
   {
    "duration": 3,
    "start_time": "2023-03-03T12:19:24.759Z"
   },
   {
    "duration": 3,
    "start_time": "2023-03-03T12:19:25.554Z"
   },
   {
    "duration": 19,
    "start_time": "2023-03-03T12:19:28.129Z"
   },
   {
    "duration": 8,
    "start_time": "2023-03-03T12:19:30.793Z"
   },
   {
    "duration": 17,
    "start_time": "2023-03-03T12:19:33.032Z"
   },
   {
    "duration": 10,
    "start_time": "2023-03-03T12:19:34.180Z"
   },
   {
    "duration": 5,
    "start_time": "2023-03-03T12:19:41.852Z"
   },
   {
    "duration": 28,
    "start_time": "2023-03-03T12:19:43.088Z"
   },
   {
    "duration": 3,
    "start_time": "2023-03-03T12:19:44.695Z"
   },
   {
    "duration": 4,
    "start_time": "2023-03-03T12:19:46.454Z"
   },
   {
    "duration": 136,
    "start_time": "2023-03-03T12:19:52.537Z"
   },
   {
    "duration": 4,
    "start_time": "2023-03-03T12:21:11.154Z"
   },
   {
    "duration": 21,
    "start_time": "2023-03-03T12:21:12.443Z"
   },
   {
    "duration": 3,
    "start_time": "2023-03-03T12:21:27.554Z"
   },
   {
    "duration": 981203,
    "start_time": "2023-03-03T12:21:28.280Z"
   },
   {
    "duration": 18382,
    "start_time": "2023-03-03T12:37:49.485Z"
   },
   {
    "duration": 11,
    "start_time": "2023-03-03T12:38:07.868Z"
   },
   {
    "duration": 11,
    "start_time": "2023-03-03T12:44:23.334Z"
   },
   {
    "duration": 12126,
    "start_time": "2023-03-03T12:44:30.280Z"
   },
   {
    "duration": 21029,
    "start_time": "2023-03-03T12:46:12.532Z"
   },
   {
    "duration": 12,
    "start_time": "2023-03-03T12:46:57.909Z"
   },
   {
    "duration": 11946,
    "start_time": "2023-03-03T12:49:32.504Z"
   },
   {
    "duration": 31882,
    "start_time": "2023-03-03T12:50:22.754Z"
   },
   {
    "duration": 9897,
    "start_time": "2023-03-03T12:51:16.636Z"
   },
   {
    "duration": 1217,
    "start_time": "2023-03-03T12:51:49.233Z"
   },
   {
    "duration": 7806,
    "start_time": "2023-03-03T12:52:35.132Z"
   },
   {
    "duration": 12509,
    "start_time": "2023-03-03T12:52:53.335Z"
   },
   {
    "duration": 21478,
    "start_time": "2023-03-03T12:53:19.496Z"
   },
   {
    "duration": 4,
    "start_time": "2023-03-03T12:53:44.095Z"
   },
   {
    "duration": 15,
    "start_time": "2023-03-03T12:58:28.366Z"
   },
   {
    "duration": 7,
    "start_time": "2023-03-03T12:58:29.047Z"
   },
   {
    "duration": 21104,
    "start_time": "2023-03-03T13:06:36.532Z"
   },
   {
    "duration": 20371,
    "start_time": "2023-03-03T13:09:22.194Z"
   },
   {
    "duration": 3,
    "start_time": "2023-03-03T13:09:46.538Z"
   },
   {
    "duration": 21605,
    "start_time": "2023-03-03T13:11:54.133Z"
   },
   {
    "duration": 90,
    "start_time": "2023-03-03T13:37:31.007Z"
   },
   {
    "duration": 19347,
    "start_time": "2023-03-03T13:37:49.559Z"
   },
   {
    "duration": 15857,
    "start_time": "2023-03-03T13:40:15.221Z"
   },
   {
    "duration": 1323,
    "start_time": "2023-03-03T15:06:06.979Z"
   },
   {
    "duration": 1604,
    "start_time": "2023-03-03T15:06:32.386Z"
   },
   {
    "duration": 2339,
    "start_time": "2023-03-03T15:06:33.992Z"
   },
   {
    "duration": 3,
    "start_time": "2023-03-03T15:06:36.333Z"
   },
   {
    "duration": 12,
    "start_time": "2023-03-03T15:06:36.339Z"
   },
   {
    "duration": 686,
    "start_time": "2023-03-03T15:06:36.353Z"
   },
   {
    "duration": 533,
    "start_time": "2023-03-03T15:06:37.041Z"
   },
   {
    "duration": 250,
    "start_time": "2023-03-03T15:06:37.576Z"
   },
   {
    "duration": 8,
    "start_time": "2023-03-03T15:06:37.828Z"
   },
   {
    "duration": 10,
    "start_time": "2023-03-03T15:06:37.838Z"
   },
   {
    "duration": 6,
    "start_time": "2023-03-03T15:06:37.851Z"
   },
   {
    "duration": 4,
    "start_time": "2023-03-03T15:06:37.859Z"
   },
   {
    "duration": 45,
    "start_time": "2023-03-03T15:06:37.865Z"
   },
   {
    "duration": 15,
    "start_time": "2023-03-03T15:06:37.912Z"
   },
   {
    "duration": 393,
    "start_time": "2023-03-03T15:06:37.930Z"
   },
   {
    "duration": 244,
    "start_time": "2023-03-03T15:06:38.324Z"
   },
   {
    "duration": 4,
    "start_time": "2023-03-03T15:06:38.570Z"
   },
   {
    "duration": 10,
    "start_time": "2023-03-03T15:06:38.575Z"
   },
   {
    "duration": 32,
    "start_time": "2023-03-03T15:06:38.587Z"
   },
   {
    "duration": 5077,
    "start_time": "2023-03-03T15:06:38.624Z"
   },
   {
    "duration": 432,
    "start_time": "2023-03-03T15:06:43.704Z"
   },
   {
    "duration": 10,
    "start_time": "2023-03-03T15:06:44.138Z"
   },
   {
    "duration": 504,
    "start_time": "2023-03-03T15:06:44.150Z"
   },
   {
    "duration": 11,
    "start_time": "2023-03-03T15:06:44.656Z"
   },
   {
    "duration": 7,
    "start_time": "2023-03-03T15:06:44.668Z"
   },
   {
    "duration": 1149,
    "start_time": "2023-03-03T15:06:44.676Z"
   },
   {
    "duration": 32,
    "start_time": "2023-03-03T15:06:45.826Z"
   },
   {
    "duration": 4,
    "start_time": "2023-03-03T15:06:45.860Z"
   },
   {
    "duration": 5,
    "start_time": "2023-03-03T15:06:45.866Z"
   },
   {
    "duration": 41,
    "start_time": "2023-03-03T15:06:45.873Z"
   },
   {
    "duration": 8,
    "start_time": "2023-03-03T15:06:45.915Z"
   },
   {
    "duration": 13,
    "start_time": "2023-03-03T15:06:45.924Z"
   },
   {
    "duration": 9,
    "start_time": "2023-03-03T15:07:12.520Z"
   },
   {
    "duration": 3,
    "start_time": "2023-03-03T15:09:39.632Z"
   },
   {
    "duration": 7,
    "start_time": "2023-03-03T15:20:53.419Z"
   },
   {
    "duration": 154,
    "start_time": "2023-03-03T15:20:54.079Z"
   },
   {
    "duration": 19,
    "start_time": "2023-03-03T15:22:17.594Z"
   },
   {
    "duration": 14,
    "start_time": "2023-03-03T15:22:27.020Z"
   },
   {
    "duration": 16,
    "start_time": "2023-03-03T15:23:18.394Z"
   },
   {
    "duration": 4,
    "start_time": "2023-03-03T15:24:05.413Z"
   },
   {
    "duration": 492,
    "start_time": "2023-03-03T15:24:14.717Z"
   },
   {
    "duration": 622,
    "start_time": "2023-03-03T15:24:23.498Z"
   },
   {
    "duration": 260,
    "start_time": "2023-03-03T15:24:35.568Z"
   },
   {
    "duration": 543,
    "start_time": "2023-03-03T15:28:01.687Z"
   },
   {
    "duration": 437,
    "start_time": "2023-03-03T15:29:25.498Z"
   },
   {
    "duration": 4,
    "start_time": "2023-03-03T15:43:22.368Z"
   },
   {
    "duration": 9,
    "start_time": "2023-03-03T15:57:02.479Z"
   },
   {
    "duration": 4,
    "start_time": "2023-03-03T16:03:16.592Z"
   },
   {
    "duration": 7,
    "start_time": "2023-03-03T16:04:09.186Z"
   },
   {
    "duration": 13,
    "start_time": "2023-03-03T16:04:23.608Z"
   },
   {
    "duration": 4,
    "start_time": "2023-03-03T16:08:40.196Z"
   },
   {
    "duration": 4,
    "start_time": "2023-03-03T16:09:08.732Z"
   },
   {
    "duration": 4,
    "start_time": "2023-03-03T16:09:11.187Z"
   },
   {
    "duration": 19,
    "start_time": "2023-03-03T16:10:31.725Z"
   },
   {
    "duration": 22,
    "start_time": "2023-03-03T16:10:42.588Z"
   },
   {
    "duration": 20,
    "start_time": "2023-03-03T16:12:11.200Z"
   },
   {
    "duration": 24,
    "start_time": "2023-03-03T16:12:17.086Z"
   },
   {
    "duration": 30,
    "start_time": "2023-03-03T16:12:21.787Z"
   },
   {
    "duration": 1417,
    "start_time": "2023-03-03T16:13:20.683Z"
   },
   {
    "duration": 2150,
    "start_time": "2023-03-03T16:13:23.543Z"
   },
   {
    "duration": 4,
    "start_time": "2023-03-03T16:13:27.382Z"
   },
   {
    "duration": 3,
    "start_time": "2023-03-03T16:13:28.487Z"
   },
   {
    "duration": 522,
    "start_time": "2023-03-03T16:13:29.629Z"
   },
   {
    "duration": 522,
    "start_time": "2023-03-03T16:13:30.888Z"
   },
   {
    "duration": 232,
    "start_time": "2023-03-03T16:13:32.134Z"
   },
   {
    "duration": 7,
    "start_time": "2023-03-03T16:13:33.434Z"
   },
   {
    "duration": 6,
    "start_time": "2023-03-03T16:13:34.795Z"
   },
   {
    "duration": 5,
    "start_time": "2023-03-03T16:13:36.422Z"
   },
   {
    "duration": 7,
    "start_time": "2023-03-03T16:13:37.013Z"
   },
   {
    "duration": 6,
    "start_time": "2023-03-03T16:13:37.493Z"
   },
   {
    "duration": 11,
    "start_time": "2023-03-03T16:13:39.474Z"
   },
   {
    "duration": 363,
    "start_time": "2023-03-03T16:13:39.983Z"
   },
   {
    "duration": 227,
    "start_time": "2023-03-03T16:13:40.566Z"
   },
   {
    "duration": 10,
    "start_time": "2023-03-03T16:13:41.303Z"
   },
   {
    "duration": 4,
    "start_time": "2023-03-03T16:13:44.594Z"
   },
   {
    "duration": 6,
    "start_time": "2023-03-03T16:13:45.183Z"
   },
   {
    "duration": 5207,
    "start_time": "2023-03-03T16:13:45.719Z"
   },
   {
    "duration": 419,
    "start_time": "2023-03-03T16:13:52.635Z"
   },
   {
    "duration": 433,
    "start_time": "2023-03-03T16:13:53.298Z"
   },
   {
    "duration": 14,
    "start_time": "2023-03-03T16:13:53.903Z"
   },
   {
    "duration": 8,
    "start_time": "2023-03-03T16:13:56.831Z"
   },
   {
    "duration": 897,
    "start_time": "2023-03-03T16:13:57.927Z"
   },
   {
    "duration": 35,
    "start_time": "2023-03-03T16:14:00.317Z"
   },
   {
    "duration": 3,
    "start_time": "2023-03-03T16:14:04.477Z"
   },
   {
    "duration": 129,
    "start_time": "2023-03-03T16:14:05.125Z"
   },
   {
    "duration": 252,
    "start_time": "2023-03-03T16:14:29.982Z"
   },
   {
    "duration": 13,
    "start_time": "2023-03-03T16:14:30.612Z"
   },
   {
    "duration": 3,
    "start_time": "2023-03-03T16:14:38.123Z"
   },
   {
    "duration": 3,
    "start_time": "2023-03-03T16:14:39.579Z"
   },
   {
    "duration": 4,
    "start_time": "2023-03-03T16:14:40.338Z"
   },
   {
    "duration": 18,
    "start_time": "2023-03-03T16:14:43.719Z"
   },
   {
    "duration": 10,
    "start_time": "2023-03-03T16:14:46.827Z"
   },
   {
    "duration": 20,
    "start_time": "2023-03-03T16:14:53.343Z"
   },
   {
    "duration": 14,
    "start_time": "2023-03-03T16:15:18.036Z"
   },
   {
    "duration": 3,
    "start_time": "2023-03-03T16:16:47.923Z"
   },
   {
    "duration": 4,
    "start_time": "2023-03-03T16:18:04.436Z"
   },
   {
    "duration": 5,
    "start_time": "2023-03-03T16:22:20.519Z"
   },
   {
    "duration": 661223,
    "start_time": "2023-03-03T16:24:12.128Z"
   },
   {
    "duration": 1467,
    "start_time": "2023-03-03T16:36:01.477Z"
   },
   {
    "duration": 2800,
    "start_time": "2023-03-03T16:36:06.331Z"
   },
   {
    "duration": 4,
    "start_time": "2023-03-03T16:36:10.780Z"
   },
   {
    "duration": 4,
    "start_time": "2023-03-03T16:36:12.561Z"
   },
   {
    "duration": 551,
    "start_time": "2023-03-03T16:36:14.107Z"
   },
   {
    "duration": 527,
    "start_time": "2023-03-03T16:36:17.180Z"
   },
   {
    "duration": 263,
    "start_time": "2023-03-03T16:36:20.230Z"
   },
   {
    "duration": 9,
    "start_time": "2023-03-03T16:36:22.831Z"
   },
   {
    "duration": 7,
    "start_time": "2023-03-03T16:36:24.989Z"
   },
   {
    "duration": 5,
    "start_time": "2023-03-03T16:36:28.889Z"
   },
   {
    "duration": 4,
    "start_time": "2023-03-03T16:36:29.633Z"
   },
   {
    "duration": 7,
    "start_time": "2023-03-03T16:36:30.229Z"
   },
   {
    "duration": 17,
    "start_time": "2023-03-03T16:36:32.423Z"
   },
   {
    "duration": 372,
    "start_time": "2023-03-03T16:36:33.231Z"
   },
   {
    "duration": 250,
    "start_time": "2023-03-03T16:36:34.337Z"
   },
   {
    "duration": 6,
    "start_time": "2023-03-03T16:36:35.015Z"
   },
   {
    "duration": 5,
    "start_time": "2023-03-03T16:36:37.584Z"
   },
   {
    "duration": 6,
    "start_time": "2023-03-03T16:36:38.296Z"
   },
   {
    "duration": 5306,
    "start_time": "2023-03-03T16:36:38.905Z"
   },
   {
    "duration": 503,
    "start_time": "2023-03-03T16:36:46.773Z"
   },
   {
    "duration": 455,
    "start_time": "2023-03-03T16:36:47.535Z"
   },
   {
    "duration": 17,
    "start_time": "2023-03-03T16:36:48.896Z"
   },
   {
    "duration": 7,
    "start_time": "2023-03-03T16:36:50.872Z"
   },
   {
    "duration": 1025,
    "start_time": "2023-03-03T16:36:53.308Z"
   },
   {
    "duration": 33,
    "start_time": "2023-03-03T16:36:55.880Z"
   },
   {
    "duration": 3,
    "start_time": "2023-03-03T16:36:58.780Z"
   },
   {
    "duration": 3,
    "start_time": "2023-03-03T16:36:59.472Z"
   },
   {
    "duration": 4,
    "start_time": "2023-03-03T16:37:00.697Z"
   },
   {
    "duration": 17,
    "start_time": "2023-03-03T16:37:08.584Z"
   },
   {
    "duration": 9,
    "start_time": "2023-03-03T16:37:11.734Z"
   },
   {
    "duration": 31,
    "start_time": "2023-03-03T16:37:12.592Z"
   },
   {
    "duration": 3,
    "start_time": "2023-03-03T16:37:13.760Z"
   },
   {
    "duration": 12,
    "start_time": "2023-03-03T16:37:14.402Z"
   },
   {
    "duration": 413108,
    "start_time": "2023-03-03T16:37:16.540Z"
   },
   {
    "duration": 30158,
    "start_time": "2023-03-03T16:44:39.160Z"
   },
   {
    "duration": 4,
    "start_time": "2023-03-03T16:48:45.981Z"
   },
   {
    "duration": 11,
    "start_time": "2023-03-03T16:48:57.220Z"
   },
   {
    "duration": 124,
    "start_time": "2023-03-03T16:49:24.392Z"
   },
   {
    "duration": 4,
    "start_time": "2023-03-03T16:49:52.095Z"
   },
   {
    "duration": 47937,
    "start_time": "2023-03-03T16:49:56.396Z"
   },
   {
    "duration": 4,
    "start_time": "2023-03-03T16:51:05.568Z"
   },
   {
    "duration": 49532,
    "start_time": "2023-03-03T16:51:09.583Z"
   },
   {
    "duration": 3,
    "start_time": "2023-03-03T16:52:46.596Z"
   },
   {
    "duration": 1713,
    "start_time": "2023-03-03T16:59:04.683Z"
   },
   {
    "duration": 2681,
    "start_time": "2023-03-03T16:59:06.398Z"
   },
   {
    "duration": 3,
    "start_time": "2023-03-03T16:59:09.081Z"
   },
   {
    "duration": 14,
    "start_time": "2023-03-03T16:59:09.086Z"
   },
   {
    "duration": 656,
    "start_time": "2023-03-03T16:59:09.102Z"
   },
   {
    "duration": 587,
    "start_time": "2023-03-03T16:59:09.759Z"
   },
   {
    "duration": 273,
    "start_time": "2023-03-03T16:59:10.348Z"
   },
   {
    "duration": 13,
    "start_time": "2023-03-03T16:59:10.624Z"
   },
   {
    "duration": 21,
    "start_time": "2023-03-03T16:59:10.646Z"
   },
   {
    "duration": 4,
    "start_time": "2023-03-03T16:59:10.671Z"
   },
   {
    "duration": 8,
    "start_time": "2023-03-03T16:59:10.676Z"
   },
   {
    "duration": 6,
    "start_time": "2023-03-03T16:59:10.685Z"
   },
   {
    "duration": 72,
    "start_time": "2023-03-03T16:59:10.693Z"
   },
   {
    "duration": 432,
    "start_time": "2023-03-03T16:59:10.767Z"
   },
   {
    "duration": 287,
    "start_time": "2023-03-03T16:59:11.200Z"
   },
   {
    "duration": 4,
    "start_time": "2023-03-03T16:59:11.489Z"
   },
   {
    "duration": 11,
    "start_time": "2023-03-03T16:59:11.494Z"
   },
   {
    "duration": 47,
    "start_time": "2023-03-03T16:59:11.507Z"
   },
   {
    "duration": 5855,
    "start_time": "2023-03-03T16:59:11.556Z"
   },
   {
    "duration": 530,
    "start_time": "2023-03-03T16:59:17.415Z"
   },
   {
    "duration": 545,
    "start_time": "2023-03-03T16:59:17.946Z"
   },
   {
    "duration": 22,
    "start_time": "2023-03-03T16:59:18.493Z"
   },
   {
    "duration": 35,
    "start_time": "2023-03-03T16:59:18.517Z"
   },
   {
    "duration": 1013,
    "start_time": "2023-03-03T16:59:18.554Z"
   },
   {
    "duration": 31,
    "start_time": "2023-03-03T16:59:19.569Z"
   },
   {
    "duration": 15,
    "start_time": "2023-03-03T16:59:19.602Z"
   },
   {
    "duration": 38,
    "start_time": "2023-03-03T16:59:19.620Z"
   },
   {
    "duration": 5,
    "start_time": "2023-03-03T16:59:19.662Z"
   },
   {
    "duration": 25,
    "start_time": "2023-03-03T16:59:19.669Z"
   },
   {
    "duration": 13,
    "start_time": "2023-03-03T16:59:19.696Z"
   },
   {
    "duration": 64,
    "start_time": "2023-03-03T16:59:19.710Z"
   },
   {
    "duration": 3,
    "start_time": "2023-03-03T16:59:19.776Z"
   },
   {
    "duration": 6,
    "start_time": "2023-03-03T16:59:19.781Z"
   },
   {
    "duration": 36591,
    "start_time": "2023-03-03T16:59:44.623Z"
   },
   {
    "duration": 8,
    "start_time": "2023-03-03T17:00:21.217Z"
   },
   {
    "duration": 4,
    "start_time": "2023-03-03T17:00:24.294Z"
   },
   {
    "duration": 328331,
    "start_time": "2023-03-03T17:00:26.462Z"
   },
   {
    "duration": 3,
    "start_time": "2023-03-03T17:05:56.292Z"
   },
   {
    "duration": 77052,
    "start_time": "2023-03-03T17:05:57.029Z"
   },
   {
    "duration": 14,
    "start_time": "2023-03-03T17:07:14.082Z"
   },
   {
    "duration": 14,
    "start_time": "2023-03-03T17:07:18.123Z"
   },
   {
    "duration": 16,
    "start_time": "2023-03-03T17:12:28.596Z"
   },
   {
    "duration": 5,
    "start_time": "2023-03-03T17:12:52.684Z"
   },
   {
    "duration": 506532,
    "start_time": "2023-03-03T17:13:02.037Z"
   },
   {
    "duration": 4,
    "start_time": "2023-03-03T17:45:02.356Z"
   },
   {
    "duration": 3,
    "start_time": "2023-03-03T17:46:03.886Z"
   },
   {
    "duration": 10,
    "start_time": "2023-03-03T17:46:36.183Z"
   },
   {
    "duration": 5,
    "start_time": "2023-03-03T19:41:32.394Z"
   },
   {
    "duration": 1363,
    "start_time": "2023-03-03T19:41:50.021Z"
   },
   {
    "duration": 2139,
    "start_time": "2023-03-03T19:41:52.414Z"
   },
   {
    "duration": 4,
    "start_time": "2023-03-03T19:41:54.555Z"
   },
   {
    "duration": 33,
    "start_time": "2023-03-03T19:41:54.561Z"
   },
   {
    "duration": 516,
    "start_time": "2023-03-03T19:41:54.596Z"
   },
   {
    "duration": 477,
    "start_time": "2023-03-03T19:41:55.114Z"
   },
   {
    "duration": 208,
    "start_time": "2023-03-03T19:41:56.541Z"
   },
   {
    "duration": 7,
    "start_time": "2023-03-03T19:41:57.460Z"
   },
   {
    "duration": 6,
    "start_time": "2023-03-03T19:41:57.787Z"
   },
   {
    "duration": 4,
    "start_time": "2023-03-03T19:41:58.159Z"
   },
   {
    "duration": 3,
    "start_time": "2023-03-03T19:41:58.395Z"
   },
   {
    "duration": 5,
    "start_time": "2023-03-03T19:41:58.610Z"
   },
   {
    "duration": 11,
    "start_time": "2023-03-03T19:41:59.422Z"
   },
   {
    "duration": 320,
    "start_time": "2023-03-03T19:41:59.762Z"
   },
   {
    "duration": 227,
    "start_time": "2023-03-03T19:42:00.085Z"
   },
   {
    "duration": 4,
    "start_time": "2023-03-03T19:42:00.380Z"
   },
   {
    "duration": 4,
    "start_time": "2023-03-03T19:42:01.509Z"
   },
   {
    "duration": 5,
    "start_time": "2023-03-03T19:42:01.786Z"
   },
   {
    "duration": 4865,
    "start_time": "2023-03-03T19:42:02.029Z"
   },
   {
    "duration": 423,
    "start_time": "2023-03-03T19:42:06.897Z"
   },
   {
    "duration": 407,
    "start_time": "2023-03-03T19:42:07.322Z"
   },
   {
    "duration": 10,
    "start_time": "2023-03-03T19:42:07.731Z"
   },
   {
    "duration": 11,
    "start_time": "2023-03-03T19:42:07.742Z"
   },
   {
    "duration": 951,
    "start_time": "2023-03-03T19:42:07.754Z"
   },
   {
    "duration": 29,
    "start_time": "2023-03-03T19:42:08.706Z"
   },
   {
    "duration": 17,
    "start_time": "2023-03-03T19:42:08.737Z"
   },
   {
    "duration": 9,
    "start_time": "2023-03-03T19:42:08.756Z"
   },
   {
    "duration": 3,
    "start_time": "2023-03-03T19:42:13.482Z"
   },
   {
    "duration": 3,
    "start_time": "2023-03-03T19:42:14.560Z"
   },
   {
    "duration": 22,
    "start_time": "2023-03-03T19:42:17.005Z"
   },
   {
    "duration": 3,
    "start_time": "2023-03-03T19:42:21.510Z"
   },
   {
    "duration": 4,
    "start_time": "2023-03-03T19:42:26.020Z"
   },
   {
    "duration": 260430,
    "start_time": "2023-03-03T19:43:00.727Z"
   },
   {
    "duration": 5,
    "start_time": "2023-03-03T19:47:29.785Z"
   },
   {
    "duration": 42997,
    "start_time": "2023-03-03T19:47:44.616Z"
   },
   {
    "duration": 71,
    "start_time": "2023-03-03T19:48:27.619Z"
   },
   {
    "duration": 1,
    "start_time": "2023-03-03T19:48:27.691Z"
   },
   {
    "duration": 0,
    "start_time": "2023-03-03T19:48:27.693Z"
   },
   {
    "duration": 253021,
    "start_time": "2023-03-03T19:48:38.801Z"
   },
   {
    "duration": 0,
    "start_time": "2023-03-03T19:52:51.825Z"
   },
   {
    "duration": 5,
    "start_time": "2023-03-03T19:53:04.801Z"
   },
   {
    "duration": 68365,
    "start_time": "2023-03-03T19:53:09.677Z"
   },
   {
    "duration": 230043,
    "start_time": "2023-03-03T19:54:27.893Z"
   },
   {
    "duration": 0,
    "start_time": "2023-03-03T19:58:17.938Z"
   },
   {
    "duration": 0,
    "start_time": "2023-03-03T19:58:17.939Z"
   },
   {
    "duration": 11,
    "start_time": "2023-03-03T19:58:22.428Z"
   },
   {
    "duration": 6,
    "start_time": "2023-03-03T19:59:38.930Z"
   },
   {
    "duration": 1460,
    "start_time": "2023-03-03T20:06:14.451Z"
   },
   {
    "duration": 2169,
    "start_time": "2023-03-03T20:06:15.915Z"
   },
   {
    "duration": 4,
    "start_time": "2023-03-03T20:06:18.086Z"
   },
   {
    "duration": 46,
    "start_time": "2023-03-03T20:06:18.092Z"
   },
   {
    "duration": 526,
    "start_time": "2023-03-03T20:06:18.140Z"
   },
   {
    "duration": 491,
    "start_time": "2023-03-03T20:06:18.667Z"
   },
   {
    "duration": 232,
    "start_time": "2023-03-03T20:06:19.159Z"
   },
   {
    "duration": 24,
    "start_time": "2023-03-03T20:06:19.392Z"
   },
   {
    "duration": 26,
    "start_time": "2023-03-03T20:06:19.417Z"
   },
   {
    "duration": 11,
    "start_time": "2023-03-03T20:06:19.446Z"
   },
   {
    "duration": 31,
    "start_time": "2023-03-03T20:06:19.458Z"
   },
   {
    "duration": 32,
    "start_time": "2023-03-03T20:06:19.490Z"
   },
   {
    "duration": 56,
    "start_time": "2023-03-03T20:06:19.523Z"
   },
   {
    "duration": 357,
    "start_time": "2023-03-03T20:06:19.581Z"
   },
   {
    "duration": 237,
    "start_time": "2023-03-03T20:06:19.939Z"
   },
   {
    "duration": 4,
    "start_time": "2023-03-03T20:06:20.178Z"
   },
   {
    "duration": 23,
    "start_time": "2023-03-03T20:06:20.185Z"
   },
   {
    "duration": 37,
    "start_time": "2023-03-03T20:06:20.217Z"
   },
   {
    "duration": 4984,
    "start_time": "2023-03-03T20:06:20.256Z"
   },
   {
    "duration": 492,
    "start_time": "2023-03-03T20:06:25.242Z"
   },
   {
    "duration": 501,
    "start_time": "2023-03-03T20:06:25.736Z"
   },
   {
    "duration": 11,
    "start_time": "2023-03-03T20:06:26.239Z"
   },
   {
    "duration": 7,
    "start_time": "2023-03-03T20:06:26.252Z"
   },
   {
    "duration": 970,
    "start_time": "2023-03-03T20:06:26.260Z"
   },
   {
    "duration": 30,
    "start_time": "2023-03-03T20:06:27.232Z"
   },
   {
    "duration": 19,
    "start_time": "2023-03-03T20:06:27.264Z"
   },
   {
    "duration": 35,
    "start_time": "2023-03-03T20:06:27.285Z"
   },
   {
    "duration": 5,
    "start_time": "2023-03-03T20:06:27.323Z"
   },
   {
    "duration": 5,
    "start_time": "2023-03-03T20:06:27.330Z"
   },
   {
    "duration": 22,
    "start_time": "2023-03-03T20:06:27.337Z"
   },
   {
    "duration": 3,
    "start_time": "2023-03-03T20:06:27.360Z"
   },
   {
    "duration": 7,
    "start_time": "2023-03-03T20:06:27.364Z"
   },
   {
    "duration": 68478,
    "start_time": "2023-03-03T20:06:27.373Z"
   },
   {
    "duration": 46011,
    "start_time": "2023-03-03T20:07:35.853Z"
   },
   {
    "duration": 4,
    "start_time": "2023-03-03T20:08:21.866Z"
   },
   {
    "duration": 11,
    "start_time": "2023-03-03T20:08:21.871Z"
   },
   {
    "duration": 25,
    "start_time": "2023-03-03T20:08:21.884Z"
   },
   {
    "duration": 0,
    "start_time": "2023-03-03T20:16:26.225Z"
   },
   {
    "duration": 0,
    "start_time": "2023-03-03T20:16:26.226Z"
   },
   {
    "duration": 0,
    "start_time": "2023-03-03T20:16:26.228Z"
   },
   {
    "duration": 231950,
    "start_time": "2023-03-03T20:16:55.987Z"
   },
   {
    "duration": 6822,
    "start_time": "2023-03-03T20:20:52.989Z"
   },
   {
    "duration": 10,
    "start_time": "2023-03-03T20:21:02.289Z"
   },
   {
    "duration": 98,
    "start_time": "2023-03-03T20:21:26.889Z"
   },
   {
    "duration": 103,
    "start_time": "2023-03-03T20:21:33.967Z"
   },
   {
    "duration": 4,
    "start_time": "2023-03-03T20:22:00.263Z"
   },
   {
    "duration": 86,
    "start_time": "2023-03-03T20:22:03.272Z"
   },
   {
    "duration": 5,
    "start_time": "2023-03-03T20:22:15.253Z"
   },
   {
    "duration": 7668,
    "start_time": "2023-03-03T20:22:17.566Z"
   },
   {
    "duration": 4,
    "start_time": "2023-03-03T20:22:30.591Z"
   },
   {
    "duration": 5,
    "start_time": "2023-03-03T20:22:36.367Z"
   },
   {
    "duration": 5,
    "start_time": "2023-03-03T20:23:01.052Z"
   },
   {
    "duration": 5,
    "start_time": "2023-03-03T20:23:10.932Z"
   },
   {
    "duration": 123,
    "start_time": "2023-03-03T20:23:24.003Z"
   },
   {
    "duration": 9114,
    "start_time": "2023-03-03T20:23:32.066Z"
   },
   {
    "duration": 9516,
    "start_time": "2023-03-03T20:23:51.966Z"
   },
   {
    "duration": 79676,
    "start_time": "2023-03-03T20:24:07.404Z"
   },
   {
    "duration": 0,
    "start_time": "2023-03-03T20:25:27.082Z"
   },
   {
    "duration": 97,
    "start_time": "2023-03-03T20:25:33.469Z"
   },
   {
    "duration": 20234,
    "start_time": "2023-03-03T20:25:48.702Z"
   },
   {
    "duration": 10,
    "start_time": "2023-03-03T20:32:29.591Z"
   },
   {
    "duration": 4,
    "start_time": "2023-03-03T20:33:00.589Z"
   },
   {
    "duration": 9,
    "start_time": "2023-03-03T20:33:12.469Z"
   },
   {
    "duration": 88914,
    "start_time": "2023-03-03T20:34:31.880Z"
   },
   {
    "duration": 8724,
    "start_time": "2023-03-03T20:36:16.851Z"
   },
   {
    "duration": 13157,
    "start_time": "2023-03-03T20:36:34.658Z"
   },
   {
    "duration": 2054,
    "start_time": "2023-03-03T20:37:15.759Z"
   },
   {
    "duration": 3802,
    "start_time": "2023-03-03T20:37:22.462Z"
   },
   {
    "duration": 3954,
    "start_time": "2023-03-03T20:37:30.178Z"
   },
   {
    "duration": 5521,
    "start_time": "2023-03-03T20:37:39.455Z"
   },
   {
    "duration": 7348,
    "start_time": "2023-03-03T20:37:49.078Z"
   },
   {
    "duration": 2823,
    "start_time": "2023-03-03T20:38:03.457Z"
   },
   {
    "duration": 3289,
    "start_time": "2023-03-03T20:38:10.564Z"
   },
   {
    "duration": 3878,
    "start_time": "2023-03-03T20:38:17.341Z"
   },
   {
    "duration": 4426,
    "start_time": "2023-03-03T20:38:26.655Z"
   },
   {
    "duration": 4182,
    "start_time": "2023-03-03T20:38:37.660Z"
   },
   {
    "duration": 42005,
    "start_time": "2023-03-03T20:38:52.855Z"
   },
   {
    "duration": 55707,
    "start_time": "2023-03-03T20:40:05.894Z"
   },
   {
    "duration": 10,
    "start_time": "2023-03-03T20:41:44.024Z"
   },
   {
    "duration": 4,
    "start_time": "2023-03-03T20:48:05.732Z"
   },
   {
    "duration": 70954,
    "start_time": "2023-03-03T20:48:11.224Z"
   },
   {
    "duration": 9911,
    "start_time": "2023-03-03T20:50:25.299Z"
   },
   {
    "duration": 6846,
    "start_time": "2023-03-03T20:50:50.695Z"
   },
   {
    "duration": 5,
    "start_time": "2023-03-03T20:51:04.472Z"
   },
   {
    "duration": 4,
    "start_time": "2023-03-03T20:51:05.769Z"
   },
   {
    "duration": 10,
    "start_time": "2023-03-03T20:51:07.105Z"
   },
   {
    "duration": 6,
    "start_time": "2023-03-03T20:51:13.836Z"
   },
   {
    "duration": 212565,
    "start_time": "2023-03-03T20:51:17.389Z"
   },
   {
    "duration": 9000,
    "start_time": "2023-03-03T20:54:49.956Z"
   },
   {
    "duration": 6458,
    "start_time": "2023-03-03T20:54:58.958Z"
   },
   {
    "duration": 7013,
    "start_time": "2023-03-03T20:55:05.421Z"
   },
   {
    "duration": 9,
    "start_time": "2023-03-03T20:55:44.058Z"
   },
   {
    "duration": 130077,
    "start_time": "2023-03-03T20:56:12.091Z"
   },
   {
    "duration": 130127,
    "start_time": "2023-03-03T20:58:43.604Z"
   },
   {
    "duration": 7020,
    "start_time": "2023-03-03T21:05:45.980Z"
   },
   {
    "duration": 8788,
    "start_time": "2023-03-03T21:06:16.536Z"
   },
   {
    "duration": 8796,
    "start_time": "2023-03-03T21:06:38.469Z"
   },
   {
    "duration": 8534,
    "start_time": "2023-03-03T21:07:08.920Z"
   },
   {
    "duration": 6756,
    "start_time": "2023-03-03T21:07:37.797Z"
   },
   {
    "duration": 6841,
    "start_time": "2023-03-03T21:07:55.020Z"
   },
   {
    "duration": 6810,
    "start_time": "2023-03-03T21:08:12.159Z"
   },
   {
    "duration": 1584,
    "start_time": "2023-03-04T08:23:52.183Z"
   },
   {
    "duration": 2455,
    "start_time": "2023-03-04T08:23:53.769Z"
   },
   {
    "duration": 4,
    "start_time": "2023-03-04T08:23:56.225Z"
   },
   {
    "duration": 14,
    "start_time": "2023-03-04T08:23:56.231Z"
   },
   {
    "duration": 496,
    "start_time": "2023-03-04T08:23:56.248Z"
   },
   {
    "duration": 463,
    "start_time": "2023-03-04T08:23:56.747Z"
   },
   {
    "duration": 211,
    "start_time": "2023-03-04T08:23:57.212Z"
   },
   {
    "duration": 5,
    "start_time": "2023-03-04T08:23:57.425Z"
   },
   {
    "duration": 28,
    "start_time": "2023-03-04T08:23:57.432Z"
   },
   {
    "duration": 19,
    "start_time": "2023-03-04T08:23:57.461Z"
   },
   {
    "duration": 7,
    "start_time": "2023-03-04T08:23:57.481Z"
   },
   {
    "duration": 8,
    "start_time": "2023-03-04T08:23:57.489Z"
   },
   {
    "duration": 31,
    "start_time": "2023-03-04T08:23:57.498Z"
   },
   {
    "duration": 345,
    "start_time": "2023-03-04T08:23:57.531Z"
   },
   {
    "duration": 214,
    "start_time": "2023-03-04T08:23:57.878Z"
   },
   {
    "duration": 3,
    "start_time": "2023-03-04T08:23:58.094Z"
   },
   {
    "duration": 14,
    "start_time": "2023-03-04T08:23:58.099Z"
   },
   {
    "duration": 17,
    "start_time": "2023-03-04T08:23:58.114Z"
   },
   {
    "duration": 4720,
    "start_time": "2023-03-04T08:23:58.133Z"
   },
   {
    "duration": 422,
    "start_time": "2023-03-04T08:24:02.855Z"
   },
   {
    "duration": 482,
    "start_time": "2023-03-04T08:24:03.280Z"
   },
   {
    "duration": 12,
    "start_time": "2023-03-04T08:24:03.764Z"
   },
   {
    "duration": 7,
    "start_time": "2023-03-04T08:24:03.778Z"
   },
   {
    "duration": 967,
    "start_time": "2023-03-04T08:24:03.787Z"
   },
   {
    "duration": 30,
    "start_time": "2023-03-04T08:24:04.756Z"
   },
   {
    "duration": 19,
    "start_time": "2023-03-04T08:24:04.787Z"
   },
   {
    "duration": 9,
    "start_time": "2023-03-04T08:24:04.807Z"
   },
   {
    "duration": 15,
    "start_time": "2023-03-04T08:24:04.818Z"
   },
   {
    "duration": 15,
    "start_time": "2023-03-04T08:24:04.834Z"
   },
   {
    "duration": 55,
    "start_time": "2023-03-04T08:24:04.851Z"
   },
   {
    "duration": 3,
    "start_time": "2023-03-04T08:24:04.907Z"
   },
   {
    "duration": 8,
    "start_time": "2023-03-04T08:24:04.911Z"
   },
   {
    "duration": 60374,
    "start_time": "2023-03-04T08:24:04.920Z"
   },
   {
    "duration": 8673,
    "start_time": "2023-03-04T08:25:05.298Z"
   },
   {
    "duration": 4200,
    "start_time": "2023-03-04T08:25:13.973Z"
   },
   {
    "duration": 6,
    "start_time": "2023-03-04T08:25:18.250Z"
   },
   {
    "duration": 99,
    "start_time": "2023-03-04T08:25:18.258Z"
   },
   {
    "duration": 13,
    "start_time": "2023-03-04T08:25:18.359Z"
   },
   {
    "duration": 19,
    "start_time": "2023-03-04T08:25:18.374Z"
   },
   {
    "duration": 455499,
    "start_time": "2023-03-04T08:25:18.395Z"
   },
   {
    "duration": 7686,
    "start_time": "2023-03-04T08:32:53.898Z"
   },
   {
    "duration": 2169,
    "start_time": "2023-03-04T08:33:01.586Z"
   },
   {
    "duration": 5349,
    "start_time": "2023-03-04T08:33:03.758Z"
   },
   {
    "duration": 0,
    "start_time": "2023-03-04T08:33:09.109Z"
   },
   {
    "duration": 0,
    "start_time": "2023-03-04T08:33:09.110Z"
   },
   {
    "duration": 0,
    "start_time": "2023-03-04T08:33:09.111Z"
   },
   {
    "duration": 3,
    "start_time": "2023-03-04T08:33:18.204Z"
   },
   {
    "duration": 3,
    "start_time": "2023-03-04T08:33:20.111Z"
   },
   {
    "duration": 3,
    "start_time": "2023-03-04T08:33:26.775Z"
   },
   {
    "duration": 4,
    "start_time": "2023-03-04T08:33:28.579Z"
   },
   {
    "duration": 58957,
    "start_time": "2023-03-04T08:33:50.235Z"
   },
   {
    "duration": 8711,
    "start_time": "2023-03-04T08:35:18.915Z"
   },
   {
    "duration": 2779,
    "start_time": "2023-03-04T08:35:31.670Z"
   },
   {
    "duration": 12,
    "start_time": "2023-03-04T08:35:43.079Z"
   },
   {
    "duration": 4,
    "start_time": "2023-03-04T08:36:07.721Z"
   },
   {
    "duration": 2,
    "start_time": "2023-03-04T08:36:09.198Z"
   },
   {
    "duration": 15429,
    "start_time": "2023-03-04T08:36:13.274Z"
   },
   {
    "duration": 14,
    "start_time": "2023-03-04T08:36:28.705Z"
   },
   {
    "duration": 10,
    "start_time": "2023-03-04T08:36:35.089Z"
   },
   {
    "duration": 3,
    "start_time": "2023-03-04T08:37:02.254Z"
   },
   {
    "duration": 3,
    "start_time": "2023-03-04T08:37:02.902Z"
   },
   {
    "duration": 16,
    "start_time": "2023-03-04T08:37:03.486Z"
   },
   {
    "duration": 4,
    "start_time": "2023-03-04T08:37:04.185Z"
   },
   {
    "duration": 5,
    "start_time": "2023-03-04T08:37:04.663Z"
   },
   {
    "duration": 64106,
    "start_time": "2023-03-04T08:37:05.539Z"
   },
   {
    "duration": 8599,
    "start_time": "2023-03-04T08:38:09.648Z"
   },
   {
    "duration": 2998,
    "start_time": "2023-03-04T08:38:18.249Z"
   },
   {
    "duration": 4,
    "start_time": "2023-03-04T08:38:21.251Z"
   },
   {
    "duration": 99,
    "start_time": "2023-03-04T08:38:21.257Z"
   },
   {
    "duration": 10,
    "start_time": "2023-03-04T08:38:21.358Z"
   },
   {
    "duration": 11,
    "start_time": "2023-03-04T08:38:21.369Z"
   },
   {
    "duration": 329414,
    "start_time": "2023-03-04T08:38:21.381Z"
   },
   {
    "duration": 1682,
    "start_time": "2023-03-04T08:43:50.796Z"
   },
   {
    "duration": 3580,
    "start_time": "2023-03-04T08:43:52.481Z"
   },
   {
    "duration": 541,
    "start_time": "2023-03-04T08:43:56.066Z"
   },
   {
    "duration": 0,
    "start_time": "2023-03-04T08:43:56.609Z"
   },
   {
    "duration": 0,
    "start_time": "2023-03-04T08:43:56.610Z"
   },
   {
    "duration": 0,
    "start_time": "2023-03-04T08:43:56.611Z"
   },
   {
    "duration": 5,
    "start_time": "2023-03-04T08:44:14.323Z"
   },
   {
    "duration": 570372,
    "start_time": "2023-03-04T08:44:18.243Z"
   },
   {
    "duration": 10,
    "start_time": "2023-03-04T08:53:48.617Z"
   },
   {
    "duration": 9,
    "start_time": "2023-03-04T08:54:15.044Z"
   },
   {
    "duration": 11,
    "start_time": "2023-03-04T08:54:16.385Z"
   },
   {
    "duration": 47518,
    "start_time": "2023-03-04T08:54:45.482Z"
   },
   {
    "duration": 2621,
    "start_time": "2023-03-04T09:00:44.928Z"
   },
   {
    "duration": 4,
    "start_time": "2023-03-04T09:00:56.554Z"
   },
   {
    "duration": 6,
    "start_time": "2023-03-04T09:01:25.001Z"
   },
   {
    "duration": 1399,
    "start_time": "2023-03-04T09:10:49.323Z"
   },
   {
    "duration": 2066,
    "start_time": "2023-03-04T09:10:50.724Z"
   },
   {
    "duration": 3,
    "start_time": "2023-03-04T09:10:52.792Z"
   },
   {
    "duration": 10,
    "start_time": "2023-03-04T09:10:52.797Z"
   },
   {
    "duration": 559,
    "start_time": "2023-03-04T09:10:52.808Z"
   },
   {
    "duration": 508,
    "start_time": "2023-03-04T09:10:53.369Z"
   },
   {
    "duration": 235,
    "start_time": "2023-03-04T09:10:53.879Z"
   },
   {
    "duration": 6,
    "start_time": "2023-03-04T09:10:54.116Z"
   },
   {
    "duration": 23,
    "start_time": "2023-03-04T09:10:54.123Z"
   },
   {
    "duration": 17,
    "start_time": "2023-03-04T09:10:54.151Z"
   },
   {
    "duration": 9,
    "start_time": "2023-03-04T09:10:54.170Z"
   },
   {
    "duration": 7,
    "start_time": "2023-03-04T09:10:54.181Z"
   },
   {
    "duration": 20,
    "start_time": "2023-03-04T09:10:54.189Z"
   },
   {
    "duration": 352,
    "start_time": "2023-03-04T09:10:54.211Z"
   },
   {
    "duration": 213,
    "start_time": "2023-03-04T09:10:54.564Z"
   },
   {
    "duration": 4,
    "start_time": "2023-03-04T09:10:54.779Z"
   },
   {
    "duration": 7,
    "start_time": "2023-03-04T09:10:54.784Z"
   },
   {
    "duration": 7,
    "start_time": "2023-03-04T09:10:54.793Z"
   },
   {
    "duration": 4895,
    "start_time": "2023-03-04T09:10:54.802Z"
   },
   {
    "duration": 472,
    "start_time": "2023-03-04T09:10:59.700Z"
   },
   {
    "duration": 408,
    "start_time": "2023-03-04T09:11:00.174Z"
   },
   {
    "duration": 11,
    "start_time": "2023-03-04T09:11:00.584Z"
   },
   {
    "duration": 69,
    "start_time": "2023-03-04T09:11:00.597Z"
   },
   {
    "duration": 895,
    "start_time": "2023-03-04T09:11:00.669Z"
   },
   {
    "duration": 34,
    "start_time": "2023-03-04T09:11:01.566Z"
   },
   {
    "duration": 31,
    "start_time": "2023-03-04T09:11:01.603Z"
   },
   {
    "duration": 11,
    "start_time": "2023-03-04T09:11:01.635Z"
   },
   {
    "duration": 38,
    "start_time": "2023-03-04T09:11:01.649Z"
   },
   {
    "duration": 30,
    "start_time": "2023-03-04T09:11:01.689Z"
   },
   {
    "duration": 41,
    "start_time": "2023-03-04T09:11:01.721Z"
   },
   {
    "duration": 3,
    "start_time": "2023-03-04T09:11:12.861Z"
   },
   {
    "duration": 4,
    "start_time": "2023-03-04T09:11:13.823Z"
   },
   {
    "duration": 279685,
    "start_time": "2023-03-04T09:11:17.631Z"
   },
   {
    "duration": 5,
    "start_time": "2023-03-04T09:17:55.570Z"
   },
   {
    "duration": 89774,
    "start_time": "2023-03-04T09:17:57.916Z"
   },
   {
    "duration": 4,
    "start_time": "2023-03-04T09:19:41.717Z"
   },
   {
    "duration": 231308,
    "start_time": "2023-03-04T09:19:43.617Z"
   },
   {
    "duration": 5,
    "start_time": "2023-03-04T09:23:34.927Z"
   },
   {
    "duration": 4,
    "start_time": "2023-03-04T09:23:37.715Z"
   },
   {
    "duration": 126794,
    "start_time": "2023-03-04T09:23:39.963Z"
   },
   {
    "duration": 5,
    "start_time": "2023-03-04T09:25:46.760Z"
   },
   {
    "duration": 5,
    "start_time": "2023-03-04T09:25:48.334Z"
   },
   {
    "duration": 101,
    "start_time": "2023-03-04T09:25:50.725Z"
   },
   {
    "duration": 109,
    "start_time": "2023-03-04T09:25:58.988Z"
   },
   {
    "duration": 5,
    "start_time": "2023-03-04T09:26:14.302Z"
   },
   {
    "duration": 101,
    "start_time": "2023-03-04T09:26:16.319Z"
   },
   {
    "duration": 5,
    "start_time": "2023-03-04T09:27:00.589Z"
   },
   {
    "duration": 48399,
    "start_time": "2023-03-04T09:27:05.162Z"
   },
   {
    "duration": 207857,
    "start_time": "2023-03-04T09:30:02.062Z"
   },
   {
    "duration": 13,
    "start_time": "2023-03-04T09:36:03.652Z"
   },
   {
    "duration": 109,
    "start_time": "2023-03-04T09:36:19.307Z"
   },
   {
    "duration": 5,
    "start_time": "2023-03-04T09:36:50.252Z"
   },
   {
    "duration": 3206,
    "start_time": "2023-03-04T09:36:55.753Z"
   },
   {
    "duration": 3335,
    "start_time": "2023-03-04T09:38:50.214Z"
   },
   {
    "duration": 5,
    "start_time": "2023-03-04T09:38:54.527Z"
   },
   {
    "duration": 5,
    "start_time": "2023-03-04T09:39:57.057Z"
   },
   {
    "duration": 3,
    "start_time": "2023-03-04T09:40:14.523Z"
   },
   {
    "duration": 4,
    "start_time": "2023-03-04T09:40:19.223Z"
   },
   {
    "duration": 3,
    "start_time": "2023-03-04T09:40:23.989Z"
   },
   {
    "duration": 6,
    "start_time": "2023-03-04T09:41:06.084Z"
   },
   {
    "duration": 2848,
    "start_time": "2023-03-04T09:41:13.136Z"
   },
   {
    "duration": 10,
    "start_time": "2023-03-04T09:41:20.920Z"
   },
   {
    "duration": 6,
    "start_time": "2023-03-04T12:01:11.780Z"
   },
   {
    "duration": 1780,
    "start_time": "2023-03-05T13:00:38.302Z"
   },
   {
    "duration": 2726,
    "start_time": "2023-03-05T13:00:40.916Z"
   },
   {
    "duration": 4,
    "start_time": "2023-03-05T13:00:44.742Z"
   },
   {
    "duration": 3,
    "start_time": "2023-03-05T13:00:46.222Z"
   },
   {
    "duration": 585,
    "start_time": "2023-03-05T13:00:47.911Z"
   },
   {
    "duration": 540,
    "start_time": "2023-03-05T13:00:50.182Z"
   },
   {
    "duration": 271,
    "start_time": "2023-03-05T13:00:53.038Z"
   },
   {
    "duration": 8,
    "start_time": "2023-03-05T13:00:56.321Z"
   },
   {
    "duration": 8,
    "start_time": "2023-03-05T13:00:58.171Z"
   },
   {
    "duration": 6,
    "start_time": "2023-03-05T13:01:00.315Z"
   },
   {
    "duration": 4,
    "start_time": "2023-03-05T13:01:00.986Z"
   },
   {
    "duration": 8,
    "start_time": "2023-03-05T13:01:01.437Z"
   },
   {
    "duration": 12,
    "start_time": "2023-03-05T13:01:04.101Z"
   },
   {
    "duration": 378,
    "start_time": "2023-03-05T13:01:04.765Z"
   },
   {
    "duration": 258,
    "start_time": "2023-03-05T13:01:05.875Z"
   },
   {
    "duration": 4,
    "start_time": "2023-03-05T13:01:06.397Z"
   },
   {
    "duration": 6,
    "start_time": "2023-03-05T13:01:09.845Z"
   },
   {
    "duration": 5,
    "start_time": "2023-03-05T13:01:26.856Z"
   },
   {
    "duration": 8,
    "start_time": "2023-03-05T13:05:09.696Z"
   },
   {
    "duration": 6675,
    "start_time": "2023-03-05T13:05:12.655Z"
   },
   {
    "duration": 5,
    "start_time": "2023-03-05T13:09:22.201Z"
   },
   {
    "duration": 483,
    "start_time": "2023-03-05T13:17:24.418Z"
   },
   {
    "duration": 444,
    "start_time": "2023-03-05T13:17:25.975Z"
   },
   {
    "duration": 11,
    "start_time": "2023-03-05T13:17:27.304Z"
   },
   {
    "duration": 9,
    "start_time": "2023-03-05T13:17:29.979Z"
   },
   {
    "duration": 983,
    "start_time": "2023-03-05T13:17:31.413Z"
   },
   {
    "duration": 1212,
    "start_time": "2023-03-05T13:18:23.080Z"
   },
   {
    "duration": 30,
    "start_time": "2023-03-05T13:19:48.697Z"
   },
   {
    "duration": 20,
    "start_time": "2023-03-05T13:19:49.414Z"
   },
   {
    "duration": 10,
    "start_time": "2023-03-05T13:19:50.562Z"
   },
   {
    "duration": 3,
    "start_time": "2023-03-05T13:19:54.471Z"
   },
   {
    "duration": 5,
    "start_time": "2023-03-05T13:19:55.753Z"
   },
   {
    "duration": 19,
    "start_time": "2023-03-05T13:19:56.809Z"
   },
   {
    "duration": 3,
    "start_time": "2023-03-05T13:19:57.522Z"
   },
   {
    "duration": 7,
    "start_time": "2023-03-05T13:19:58.332Z"
   }
  ],
  "kernelspec": {
   "display_name": "Python 3 (ipykernel)",
   "language": "python",
   "name": "python3"
  },
  "language_info": {
   "codemirror_mode": {
    "name": "ipython",
    "version": 3
   },
   "file_extension": ".py",
   "mimetype": "text/x-python",
   "name": "python",
   "nbconvert_exporter": "python",
   "pygments_lexer": "ipython3",
   "version": "3.9.13"
  },
  "toc": {
   "base_numbering": 1,
   "nav_menu": {},
   "number_sections": true,
   "sideBar": true,
   "skip_h1_title": true,
   "title_cell": "Содержание",
   "title_sidebar": "Contents",
   "toc_cell": true,
   "toc_position": {
    "height": "calc(100% - 180px)",
    "left": "10px",
    "top": "150px",
    "width": "236.188px"
   },
   "toc_section_display": true,
   "toc_window_display": false
  }
 },
 "nbformat": 4,
 "nbformat_minor": 4
}
