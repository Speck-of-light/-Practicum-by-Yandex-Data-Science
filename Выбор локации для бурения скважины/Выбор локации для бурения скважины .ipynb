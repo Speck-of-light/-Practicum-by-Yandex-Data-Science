{
 "cells": [
  {
   "cell_type": "markdown",
   "metadata": {},
   "source": [
    "# Выбор локации для скважины"
   ]
  },
  {
   "cell_type": "markdown",
   "metadata": {},
   "source": [
    "Необходимо принять решение о месте бурения новой скважины.\n",
    "\n",
    "Нам предоставлены пробы нефти в трёх регионах: в каждом 10 000 месторождений, где измерили качество нефти и объём её запасов. \n",
    "\n",
    "Необходимо построить модель машинного обучения, которая поможет определить регион, где добыча принесёт наибольшую прибыль. \n",
    "Шаги для выбора локации:\n",
    "\n",
    "- В избранном регионе ищут месторождения, для каждого определяют значения признаков;\n",
    "- Строят модель и оценивают объём запасов;\n",
    "- Выбирают месторождения с самым высокими оценками значений. Количество месторождений зависит от бюджета компании и стоимости разработки одной скважины;\n",
    "- Прибыль равна суммарной прибыли отобранных месторождений."
   ]
  },
  {
   "cell_type": "markdown",
   "metadata": {},
   "source": [
    "## Загрузка и подготовка данных"
   ]
  },
  {
   "cell_type": "code",
   "execution_count": 1,
   "metadata": {},
   "outputs": [],
   "source": [
    "# импортируем библиотеки  \n",
    "\n",
    "import pandas as pd\n",
    "import numpy as np\n",
    "from sklearn.model_selection import train_test_split\n",
    "import matplotlib.pyplot as plt\n",
    "import seaborn as sns\n",
    "\n",
    "from sklearn.preprocessing import StandardScaler\n",
    "from sklearn.linear_model import LinearRegression\n",
    "from sklearn.metrics import mean_squared_error\n",
    "#import scipy.stats as st\n",
    "#from sklearn.metrics import confusion_matrix\n",
    "\n",
    "pd.options.mode.chained_assignment = None\n",
    "\n",
    "import warnings\n",
    "warnings.filterwarnings(\"ignore\")"
   ]
  },
  {
   "cell_type": "code",
   "execution_count": 2,
   "metadata": {},
   "outputs": [],
   "source": [
    "# загрузим датасеты\n",
    "try:\n",
    "    data_0=pd.read_csv('/datasets/geo_data_0.csv')\n",
    "    data_1=pd.read_csv('datasets/geo_data_1.csv')\n",
    "    data_2=pd.read_csv('/datasets/geo_data_2.csv')\n",
    "except:\n",
    "    data_0=pd.read_csv('https://code.s3.yandex.net//datasets/geo_data_0.csv')\n",
    "    data_1=pd.read_csv('https://code.s3.yandex.net//datasets/geo_data_1.csv')\n",
    "    data_2=pd.read_csv('https://code.s3.yandex.net//datasets/geo_data_2.csv')"
   ]
  },
  {
   "cell_type": "code",
   "execution_count": 3,
   "metadata": {},
   "outputs": [
    {
     "name": "stdout",
     "output_type": "stream",
     "text": [
      "\n",
      "       id        f0        f1        f2     product\n",
      "0  txEyH  0.705745 -0.497823  1.221170  105.280062\n",
      "1  2acmU  1.334711 -0.340164  4.365080   73.037750\n",
      "2  409Wp  1.022732  0.151990  1.419926   85.265647\n",
      "3  iJLyR -0.032172  0.139033  2.978566  168.620776\n",
      "4  Xdl7t  1.988431  0.155413  4.751769  154.036647 \n",
      "\n",
      "<class 'pandas.core.frame.DataFrame'>\n",
      "RangeIndex: 100000 entries, 0 to 99999\n",
      "Data columns (total 5 columns):\n",
      " #   Column   Non-Null Count   Dtype  \n",
      "---  ------   --------------   -----  \n",
      " 0   id       100000 non-null  object \n",
      " 1   f0       100000 non-null  float64\n",
      " 2   f1       100000 non-null  float64\n",
      " 3   f2       100000 non-null  float64\n",
      " 4   product  100000 non-null  float64\n",
      "dtypes: float64(4), object(1)\n",
      "memory usage: 3.8+ MB\n",
      "None \n",
      "\n",
      "            id             f0             f1             f2        product\n",
      "count   100000  100000.000000  100000.000000  100000.000000  100000.000000\n",
      "unique   99990            NaN            NaN            NaN            NaN\n",
      "top      bsk9y            NaN            NaN            NaN            NaN\n",
      "freq         2            NaN            NaN            NaN            NaN\n",
      "mean       NaN       0.500419       0.250143       2.502647      92.500000\n",
      "std        NaN       0.871832       0.504433       3.248248      44.288691\n",
      "min        NaN      -1.408605      -0.848218     -12.088328       0.000000\n",
      "25%        NaN      -0.072580      -0.200881       0.287748      56.497507\n",
      "50%        NaN       0.502360       0.250252       2.515969      91.849972\n",
      "75%        NaN       1.073581       0.700646       4.715088     128.564089\n",
      "max        NaN       2.362331       1.343769      16.003790     185.364347\n",
      "_ _ __ _ __ _ __ _ __ _ __ _ __ _ __ _ __ _ __ _ __ _ __ _ __ _ __ _ __ _ __ _ __ _ __ _ __ _ __ _ _\n",
      "\n",
      "       id         f0         f1        f2     product\n",
      "0  kBEdx -15.001348  -8.276000 -0.005876    3.179103\n",
      "1  62mP7  14.272088  -3.475083  0.999183   26.953261\n",
      "2  vyE1P   6.263187  -5.948386  5.001160  134.766305\n",
      "3  KcrkZ -13.081196 -11.506057  4.999415  137.945408\n",
      "4  AHL4O  12.702195  -8.147433  5.004363  134.766305 \n",
      "\n",
      "<class 'pandas.core.frame.DataFrame'>\n",
      "RangeIndex: 100000 entries, 0 to 99999\n",
      "Data columns (total 5 columns):\n",
      " #   Column   Non-Null Count   Dtype  \n",
      "---  ------   --------------   -----  \n",
      " 0   id       100000 non-null  object \n",
      " 1   f0       100000 non-null  float64\n",
      " 2   f1       100000 non-null  float64\n",
      " 3   f2       100000 non-null  float64\n",
      " 4   product  100000 non-null  float64\n",
      "dtypes: float64(4), object(1)\n",
      "memory usage: 3.8+ MB\n",
      "None \n",
      "\n",
      "            id             f0             f1             f2        product\n",
      "count   100000  100000.000000  100000.000000  100000.000000  100000.000000\n",
      "unique   99996            NaN            NaN            NaN            NaN\n",
      "top      wt4Uk            NaN            NaN            NaN            NaN\n",
      "freq         2            NaN            NaN            NaN            NaN\n",
      "mean       NaN       1.141296      -4.796579       2.494541      68.825000\n",
      "std        NaN       8.965932       5.119872       1.703572      45.944423\n",
      "min        NaN     -31.609576     -26.358598      -0.018144       0.000000\n",
      "25%        NaN      -6.298551      -8.267985       1.000021      26.953261\n",
      "50%        NaN       1.153055      -4.813172       2.011479      57.085625\n",
      "75%        NaN       8.621015      -1.332816       3.999904     107.813044\n",
      "max        NaN      29.421755      18.734063       5.019721     137.945408\n",
      "_ _ __ _ __ _ __ _ __ _ __ _ __ _ __ _ __ _ __ _ __ _ __ _ __ _ __ _ __ _ __ _ __ _ __ _ __ _ __ _ _\n",
      "\n",
      "       id        f0        f1        f2     product\n",
      "0  fwXo0 -1.146987  0.963328 -0.828965   27.758673\n",
      "1  WJtFt  0.262778  0.269839 -2.530187   56.069697\n",
      "2  ovLUW  0.194587  0.289035 -5.586433   62.871910\n",
      "3  q6cA6  2.236060 -0.553760  0.930038  114.572842\n",
      "4  WPMUX -0.515993  1.716266  5.899011  149.600746 \n",
      "\n",
      "<class 'pandas.core.frame.DataFrame'>\n",
      "RangeIndex: 100000 entries, 0 to 99999\n",
      "Data columns (total 5 columns):\n",
      " #   Column   Non-Null Count   Dtype  \n",
      "---  ------   --------------   -----  \n",
      " 0   id       100000 non-null  object \n",
      " 1   f0       100000 non-null  float64\n",
      " 2   f1       100000 non-null  float64\n",
      " 3   f2       100000 non-null  float64\n",
      " 4   product  100000 non-null  float64\n",
      "dtypes: float64(4), object(1)\n",
      "memory usage: 3.8+ MB\n",
      "None \n",
      "\n",
      "            id             f0             f1             f2        product\n",
      "count   100000  100000.000000  100000.000000  100000.000000  100000.000000\n",
      "unique   99996            NaN            NaN            NaN            NaN\n",
      "top      KUPhW            NaN            NaN            NaN            NaN\n",
      "freq         2            NaN            NaN            NaN            NaN\n",
      "mean       NaN       0.002023      -0.002081       2.495128      95.000000\n",
      "std        NaN       1.732045       1.730417       3.473445      44.749921\n",
      "min        NaN      -8.760004      -7.084020     -11.970335       0.000000\n",
      "25%        NaN      -1.162288      -1.174820       0.130359      59.450441\n",
      "50%        NaN       0.009424      -0.009482       2.484236      94.925613\n",
      "75%        NaN       1.158535       1.163678       4.858794     130.595027\n",
      "max        NaN       7.238262       7.844801      16.739402     190.029838\n",
      "_ _ __ _ __ _ __ _ __ _ __ _ __ _ __ _ __ _ __ _ __ _ __ _ __ _ __ _ __ _ __ _ __ _ __ _ __ _ __ _ _\n"
     ]
    }
   ],
   "source": [
    "all_data = [data_0,data_1,data_2]\n",
    "for i in all_data:\n",
    "    print('\\n',i.head(),'\\n')\n",
    "    print(i.info(),'\\n')\n",
    "    print(i.describe(include='all'))\n",
    "    print('_ _ _'*20)"
   ]
  },
  {
   "cell_type": "markdown",
   "metadata": {},
   "source": [
    "Видим наличие дубликотов в id скажин. Хотя в устовиях указанно, что данный показатель - уникальный. Посмотрим подробнее. "
   ]
  },
  {
   "cell_type": "code",
   "execution_count": 4,
   "metadata": {},
   "outputs": [
    {
     "data": {
      "text/html": [
       "<div>\n",
       "<style scoped>\n",
       "    .dataframe tbody tr th:only-of-type {\n",
       "        vertical-align: middle;\n",
       "    }\n",
       "\n",
       "    .dataframe tbody tr th {\n",
       "        vertical-align: top;\n",
       "    }\n",
       "\n",
       "    .dataframe thead th {\n",
       "        text-align: right;\n",
       "    }\n",
       "</style>\n",
       "<table border=\"1\" class=\"dataframe\">\n",
       "  <thead>\n",
       "    <tr style=\"text-align: right;\">\n",
       "      <th></th>\n",
       "      <th>id</th>\n",
       "      <th>f0</th>\n",
       "      <th>f1</th>\n",
       "      <th>f2</th>\n",
       "      <th>product</th>\n",
       "    </tr>\n",
       "  </thead>\n",
       "  <tbody>\n",
       "    <tr>\n",
       "      <th>931</th>\n",
       "      <td>HZww2</td>\n",
       "      <td>0.755284</td>\n",
       "      <td>0.368511</td>\n",
       "      <td>1.863211</td>\n",
       "      <td>30.681774</td>\n",
       "    </tr>\n",
       "    <tr>\n",
       "      <th>1364</th>\n",
       "      <td>bxg6G</td>\n",
       "      <td>0.411645</td>\n",
       "      <td>0.856830</td>\n",
       "      <td>-3.653440</td>\n",
       "      <td>73.604260</td>\n",
       "    </tr>\n",
       "    <tr>\n",
       "      <th>1949</th>\n",
       "      <td>QcMuo</td>\n",
       "      <td>0.506563</td>\n",
       "      <td>-0.323775</td>\n",
       "      <td>-2.215583</td>\n",
       "      <td>75.496502</td>\n",
       "    </tr>\n",
       "    <tr>\n",
       "      <th>3389</th>\n",
       "      <td>A5aEY</td>\n",
       "      <td>-0.039949</td>\n",
       "      <td>0.156872</td>\n",
       "      <td>0.209861</td>\n",
       "      <td>89.249364</td>\n",
       "    </tr>\n",
       "    <tr>\n",
       "      <th>7530</th>\n",
       "      <td>HZww2</td>\n",
       "      <td>1.061194</td>\n",
       "      <td>-0.373969</td>\n",
       "      <td>10.430210</td>\n",
       "      <td>158.828695</td>\n",
       "    </tr>\n",
       "    <tr>\n",
       "      <th>16633</th>\n",
       "      <td>fiKDv</td>\n",
       "      <td>0.157341</td>\n",
       "      <td>1.028359</td>\n",
       "      <td>5.585586</td>\n",
       "      <td>95.817889</td>\n",
       "    </tr>\n",
       "    <tr>\n",
       "      <th>21426</th>\n",
       "      <td>Tdehs</td>\n",
       "      <td>0.829407</td>\n",
       "      <td>0.298807</td>\n",
       "      <td>-0.049563</td>\n",
       "      <td>96.035308</td>\n",
       "    </tr>\n",
       "    <tr>\n",
       "      <th>41724</th>\n",
       "      <td>bxg6G</td>\n",
       "      <td>-0.823752</td>\n",
       "      <td>0.546319</td>\n",
       "      <td>3.630479</td>\n",
       "      <td>93.007798</td>\n",
       "    </tr>\n",
       "    <tr>\n",
       "      <th>42529</th>\n",
       "      <td>AGS9W</td>\n",
       "      <td>1.454747</td>\n",
       "      <td>-0.479651</td>\n",
       "      <td>0.683380</td>\n",
       "      <td>126.370504</td>\n",
       "    </tr>\n",
       "    <tr>\n",
       "      <th>51970</th>\n",
       "      <td>A5aEY</td>\n",
       "      <td>-0.180335</td>\n",
       "      <td>0.935548</td>\n",
       "      <td>-2.094773</td>\n",
       "      <td>33.020205</td>\n",
       "    </tr>\n",
       "    <tr>\n",
       "      <th>60140</th>\n",
       "      <td>TtcGQ</td>\n",
       "      <td>0.569276</td>\n",
       "      <td>-0.104876</td>\n",
       "      <td>6.440215</td>\n",
       "      <td>85.350186</td>\n",
       "    </tr>\n",
       "    <tr>\n",
       "      <th>63593</th>\n",
       "      <td>QcMuo</td>\n",
       "      <td>0.635635</td>\n",
       "      <td>-0.473422</td>\n",
       "      <td>0.862670</td>\n",
       "      <td>64.578675</td>\n",
       "    </tr>\n",
       "    <tr>\n",
       "      <th>64022</th>\n",
       "      <td>74z30</td>\n",
       "      <td>0.741456</td>\n",
       "      <td>0.459229</td>\n",
       "      <td>5.153109</td>\n",
       "      <td>140.771492</td>\n",
       "    </tr>\n",
       "    <tr>\n",
       "      <th>66136</th>\n",
       "      <td>74z30</td>\n",
       "      <td>1.084962</td>\n",
       "      <td>-0.312358</td>\n",
       "      <td>6.990771</td>\n",
       "      <td>127.643327</td>\n",
       "    </tr>\n",
       "    <tr>\n",
       "      <th>69163</th>\n",
       "      <td>AGS9W</td>\n",
       "      <td>-0.933795</td>\n",
       "      <td>0.116194</td>\n",
       "      <td>-3.655896</td>\n",
       "      <td>19.230453</td>\n",
       "    </tr>\n",
       "    <tr>\n",
       "      <th>75715</th>\n",
       "      <td>Tdehs</td>\n",
       "      <td>0.112079</td>\n",
       "      <td>0.430296</td>\n",
       "      <td>3.218993</td>\n",
       "      <td>60.964018</td>\n",
       "    </tr>\n",
       "    <tr>\n",
       "      <th>89582</th>\n",
       "      <td>bsk9y</td>\n",
       "      <td>0.398908</td>\n",
       "      <td>-0.400253</td>\n",
       "      <td>10.122376</td>\n",
       "      <td>163.433078</td>\n",
       "    </tr>\n",
       "    <tr>\n",
       "      <th>90815</th>\n",
       "      <td>fiKDv</td>\n",
       "      <td>0.049883</td>\n",
       "      <td>0.841313</td>\n",
       "      <td>6.394613</td>\n",
       "      <td>137.346586</td>\n",
       "    </tr>\n",
       "    <tr>\n",
       "      <th>92341</th>\n",
       "      <td>TtcGQ</td>\n",
       "      <td>0.110711</td>\n",
       "      <td>1.022689</td>\n",
       "      <td>0.911381</td>\n",
       "      <td>101.318008</td>\n",
       "    </tr>\n",
       "    <tr>\n",
       "      <th>97785</th>\n",
       "      <td>bsk9y</td>\n",
       "      <td>0.378429</td>\n",
       "      <td>0.005837</td>\n",
       "      <td>0.160827</td>\n",
       "      <td>160.637302</td>\n",
       "    </tr>\n",
       "  </tbody>\n",
       "</table>\n",
       "</div>"
      ],
      "text/plain": [
       "          id        f0        f1         f2     product\n",
       "931    HZww2  0.755284  0.368511   1.863211   30.681774\n",
       "1364   bxg6G  0.411645  0.856830  -3.653440   73.604260\n",
       "1949   QcMuo  0.506563 -0.323775  -2.215583   75.496502\n",
       "3389   A5aEY -0.039949  0.156872   0.209861   89.249364\n",
       "7530   HZww2  1.061194 -0.373969  10.430210  158.828695\n",
       "16633  fiKDv  0.157341  1.028359   5.585586   95.817889\n",
       "21426  Tdehs  0.829407  0.298807  -0.049563   96.035308\n",
       "41724  bxg6G -0.823752  0.546319   3.630479   93.007798\n",
       "42529  AGS9W  1.454747 -0.479651   0.683380  126.370504\n",
       "51970  A5aEY -0.180335  0.935548  -2.094773   33.020205\n",
       "60140  TtcGQ  0.569276 -0.104876   6.440215   85.350186\n",
       "63593  QcMuo  0.635635 -0.473422   0.862670   64.578675\n",
       "64022  74z30  0.741456  0.459229   5.153109  140.771492\n",
       "66136  74z30  1.084962 -0.312358   6.990771  127.643327\n",
       "69163  AGS9W -0.933795  0.116194  -3.655896   19.230453\n",
       "75715  Tdehs  0.112079  0.430296   3.218993   60.964018\n",
       "89582  bsk9y  0.398908 -0.400253  10.122376  163.433078\n",
       "90815  fiKDv  0.049883  0.841313   6.394613  137.346586\n",
       "92341  TtcGQ  0.110711  1.022689   0.911381  101.318008\n",
       "97785  bsk9y  0.378429  0.005837   0.160827  160.637302"
      ]
     },
     "execution_count": 4,
     "metadata": {},
     "output_type": "execute_result"
    }
   ],
   "source": [
    "data_0[data_0['id'].duplicated(keep=False)]"
   ]
  },
  {
   "cell_type": "code",
   "execution_count": 5,
   "metadata": {},
   "outputs": [
    {
     "data": {
      "text/html": [
       "<div>\n",
       "<style scoped>\n",
       "    .dataframe tbody tr th:only-of-type {\n",
       "        vertical-align: middle;\n",
       "    }\n",
       "\n",
       "    .dataframe tbody tr th {\n",
       "        vertical-align: top;\n",
       "    }\n",
       "\n",
       "    .dataframe thead th {\n",
       "        text-align: right;\n",
       "    }\n",
       "</style>\n",
       "<table border=\"1\" class=\"dataframe\">\n",
       "  <thead>\n",
       "    <tr style=\"text-align: right;\">\n",
       "      <th></th>\n",
       "      <th>id</th>\n",
       "      <th>f0</th>\n",
       "      <th>f1</th>\n",
       "      <th>f2</th>\n",
       "      <th>product</th>\n",
       "    </tr>\n",
       "  </thead>\n",
       "  <tbody>\n",
       "    <tr>\n",
       "      <th>1305</th>\n",
       "      <td>LHZR0</td>\n",
       "      <td>11.170835</td>\n",
       "      <td>-1.945066</td>\n",
       "      <td>3.002872</td>\n",
       "      <td>80.859783</td>\n",
       "    </tr>\n",
       "    <tr>\n",
       "      <th>2721</th>\n",
       "      <td>bfPNe</td>\n",
       "      <td>-9.494442</td>\n",
       "      <td>-5.463692</td>\n",
       "      <td>4.006042</td>\n",
       "      <td>110.992147</td>\n",
       "    </tr>\n",
       "    <tr>\n",
       "      <th>5849</th>\n",
       "      <td>5ltQ6</td>\n",
       "      <td>-3.435401</td>\n",
       "      <td>-12.296043</td>\n",
       "      <td>1.999796</td>\n",
       "      <td>57.085625</td>\n",
       "    </tr>\n",
       "    <tr>\n",
       "      <th>41906</th>\n",
       "      <td>LHZR0</td>\n",
       "      <td>-8.989672</td>\n",
       "      <td>-4.286607</td>\n",
       "      <td>2.009139</td>\n",
       "      <td>57.085625</td>\n",
       "    </tr>\n",
       "    <tr>\n",
       "      <th>47591</th>\n",
       "      <td>wt4Uk</td>\n",
       "      <td>-9.091098</td>\n",
       "      <td>-8.109279</td>\n",
       "      <td>-0.002314</td>\n",
       "      <td>3.179103</td>\n",
       "    </tr>\n",
       "    <tr>\n",
       "      <th>82178</th>\n",
       "      <td>bfPNe</td>\n",
       "      <td>-6.202799</td>\n",
       "      <td>-4.820045</td>\n",
       "      <td>2.995107</td>\n",
       "      <td>84.038886</td>\n",
       "    </tr>\n",
       "    <tr>\n",
       "      <th>82873</th>\n",
       "      <td>wt4Uk</td>\n",
       "      <td>10.259972</td>\n",
       "      <td>-9.376355</td>\n",
       "      <td>4.994297</td>\n",
       "      <td>134.766305</td>\n",
       "    </tr>\n",
       "    <tr>\n",
       "      <th>84461</th>\n",
       "      <td>5ltQ6</td>\n",
       "      <td>18.213839</td>\n",
       "      <td>2.191999</td>\n",
       "      <td>3.993869</td>\n",
       "      <td>107.813044</td>\n",
       "    </tr>\n",
       "  </tbody>\n",
       "</table>\n",
       "</div>"
      ],
      "text/plain": [
       "          id         f0         f1        f2     product\n",
       "1305   LHZR0  11.170835  -1.945066  3.002872   80.859783\n",
       "2721   bfPNe  -9.494442  -5.463692  4.006042  110.992147\n",
       "5849   5ltQ6  -3.435401 -12.296043  1.999796   57.085625\n",
       "41906  LHZR0  -8.989672  -4.286607  2.009139   57.085625\n",
       "47591  wt4Uk  -9.091098  -8.109279 -0.002314    3.179103\n",
       "82178  bfPNe  -6.202799  -4.820045  2.995107   84.038886\n",
       "82873  wt4Uk  10.259972  -9.376355  4.994297  134.766305\n",
       "84461  5ltQ6  18.213839   2.191999  3.993869  107.813044"
      ]
     },
     "execution_count": 5,
     "metadata": {},
     "output_type": "execute_result"
    }
   ],
   "source": [
    "data_1[data_1['id'].duplicated(keep=False)]"
   ]
  },
  {
   "cell_type": "code",
   "execution_count": 6,
   "metadata": {},
   "outputs": [
    {
     "data": {
      "text/html": [
       "<div>\n",
       "<style scoped>\n",
       "    .dataframe tbody tr th:only-of-type {\n",
       "        vertical-align: middle;\n",
       "    }\n",
       "\n",
       "    .dataframe tbody tr th {\n",
       "        vertical-align: top;\n",
       "    }\n",
       "\n",
       "    .dataframe thead th {\n",
       "        text-align: right;\n",
       "    }\n",
       "</style>\n",
       "<table border=\"1\" class=\"dataframe\">\n",
       "  <thead>\n",
       "    <tr style=\"text-align: right;\">\n",
       "      <th></th>\n",
       "      <th>id</th>\n",
       "      <th>f0</th>\n",
       "      <th>f1</th>\n",
       "      <th>f2</th>\n",
       "      <th>product</th>\n",
       "    </tr>\n",
       "  </thead>\n",
       "  <tbody>\n",
       "    <tr>\n",
       "      <th>11449</th>\n",
       "      <td>VF7Jo</td>\n",
       "      <td>2.122656</td>\n",
       "      <td>-0.858275</td>\n",
       "      <td>5.746001</td>\n",
       "      <td>181.716817</td>\n",
       "    </tr>\n",
       "    <tr>\n",
       "      <th>28039</th>\n",
       "      <td>xCHr8</td>\n",
       "      <td>1.633027</td>\n",
       "      <td>0.368135</td>\n",
       "      <td>-2.378367</td>\n",
       "      <td>6.120525</td>\n",
       "    </tr>\n",
       "    <tr>\n",
       "      <th>43233</th>\n",
       "      <td>xCHr8</td>\n",
       "      <td>-0.847066</td>\n",
       "      <td>2.101796</td>\n",
       "      <td>5.597130</td>\n",
       "      <td>184.388641</td>\n",
       "    </tr>\n",
       "    <tr>\n",
       "      <th>44378</th>\n",
       "      <td>Vcm5J</td>\n",
       "      <td>-1.229484</td>\n",
       "      <td>-2.439204</td>\n",
       "      <td>1.222909</td>\n",
       "      <td>137.968290</td>\n",
       "    </tr>\n",
       "    <tr>\n",
       "      <th>45404</th>\n",
       "      <td>KUPhW</td>\n",
       "      <td>0.231846</td>\n",
       "      <td>-1.698941</td>\n",
       "      <td>4.990775</td>\n",
       "      <td>11.716299</td>\n",
       "    </tr>\n",
       "    <tr>\n",
       "      <th>49564</th>\n",
       "      <td>VF7Jo</td>\n",
       "      <td>-0.883115</td>\n",
       "      <td>0.560537</td>\n",
       "      <td>0.723601</td>\n",
       "      <td>136.233420</td>\n",
       "    </tr>\n",
       "    <tr>\n",
       "      <th>55967</th>\n",
       "      <td>KUPhW</td>\n",
       "      <td>1.211150</td>\n",
       "      <td>3.176408</td>\n",
       "      <td>5.543540</td>\n",
       "      <td>132.831802</td>\n",
       "    </tr>\n",
       "    <tr>\n",
       "      <th>95090</th>\n",
       "      <td>Vcm5J</td>\n",
       "      <td>2.587702</td>\n",
       "      <td>1.986875</td>\n",
       "      <td>2.482245</td>\n",
       "      <td>92.327572</td>\n",
       "    </tr>\n",
       "  </tbody>\n",
       "</table>\n",
       "</div>"
      ],
      "text/plain": [
       "          id        f0        f1        f2     product\n",
       "11449  VF7Jo  2.122656 -0.858275  5.746001  181.716817\n",
       "28039  xCHr8  1.633027  0.368135 -2.378367    6.120525\n",
       "43233  xCHr8 -0.847066  2.101796  5.597130  184.388641\n",
       "44378  Vcm5J -1.229484 -2.439204  1.222909  137.968290\n",
       "45404  KUPhW  0.231846 -1.698941  4.990775   11.716299\n",
       "49564  VF7Jo -0.883115  0.560537  0.723601  136.233420\n",
       "55967  KUPhW  1.211150  3.176408  5.543540  132.831802\n",
       "95090  Vcm5J  2.587702  1.986875  2.482245   92.327572"
      ]
     },
     "execution_count": 6,
     "metadata": {},
     "output_type": "execute_result"
    }
   ],
   "source": [
    "data_2[data_2['id'].duplicated(keep=False)]"
   ]
  },
  {
   "cell_type": "markdown",
   "metadata": {},
   "source": [
    "Строки не являются полными дубликатами. В реальной работе следовало бы запросить уточнение по возникшей ошибке. В данной работе будем считать, что это ошибка при именовании и мы имеем дело с разными скважинами. Т.к. в дальнейшем столбец с id использоваться не будет - не будем удалять строки."
   ]
  },
  {
   "cell_type": "code",
   "execution_count": 7,
   "metadata": {},
   "outputs": [
    {
     "name": "stdout",
     "output_type": "stream",
     "text": [
      "               f0        f1        f2   product\n",
      "f0       1.000000 -0.440723 -0.003153  0.143536\n",
      "f1      -0.440723  1.000000  0.001724 -0.192356\n",
      "f2      -0.003153  0.001724  1.000000  0.483663\n",
      "product  0.143536 -0.192356  0.483663  1.000000 \n",
      "\n",
      "               f0        f1        f2   product\n",
      "f0       1.000000  0.182287 -0.001777 -0.030491\n",
      "f1       0.182287  1.000000 -0.002595 -0.010155\n",
      "f2      -0.001777 -0.002595  1.000000  0.999397\n",
      "product -0.030491 -0.010155  0.999397  1.000000 \n",
      "\n",
      "               f0        f1        f2   product\n",
      "f0       1.000000  0.000528 -0.000448 -0.001987\n",
      "f1       0.000528  1.000000  0.000779 -0.001012\n",
      "f2      -0.000448  0.000779  1.000000  0.445871\n",
      "product -0.001987 -0.001012  0.445871  1.000000 \n",
      "\n"
     ]
    }
   ],
   "source": [
    "for i in all_data:\n",
    "    print(i.corr(), '\\n')    "
   ]
  },
  {
   "cell_type": "code",
   "execution_count": 8,
   "metadata": {},
   "outputs": [
    {
     "data": {
      "image/png": "[encoded data removed]",
      "text/plain": [
       "<Figure size 1152x360 with 6 Axes>"
      ]
     },
     "metadata": {
      "needs_background": "light"
     },
     "output_type": "display_data"
    }
   ],
   "source": [
    "fig, ax = plt.subplots(1,3,figsize=(16,5))\n",
    "for i,j in zip (all_data,range(3)):           \n",
    "    sns.heatmap(i.corr(),annot=True, linewidths=.1, fmt= '.1f', ax=ax[j],  cmap=\"RdBu\")             \n",
    "    ax[j].set_title(str(j))\n",
    "    #pd.plotting.scatter_matrix(i.drop('id', axis=1), figsize=(9, 9))"
   ]
  },
  {
   "cell_type": "markdown",
   "metadata": {},
   "source": [
    "В регионе 1 высокая линейная зависимость между признаком в колонке 'f2' и целевым признаком."
   ]
  },
  {
   "cell_type": "code",
   "execution_count": 9,
   "metadata": {},
   "outputs": [
    {
     "name": "stdout",
     "output_type": "stream",
     "text": [
      "         f0        f1        f2     product\n",
      "0  0.705745 -0.497823  1.221170  105.280062\n",
      "1  1.334711 -0.340164  4.365080   73.037750\n",
      "2  1.022732  0.151990  1.419926   85.265647 \n",
      "           f0        f1        f2     product\n",
      "0 -15.001348 -8.276000 -0.005876    3.179103\n",
      "1  14.272088 -3.475083  0.999183   26.953261\n",
      "2   6.263187 -5.948386  5.001160  134.766305 \n",
      "          f0        f1        f2    product\n",
      "0 -1.146987  0.963328 -0.828965  27.758673\n",
      "1  0.262778  0.269839 -2.530187  56.069697\n",
      "2  0.194587  0.289035 -5.586433  62.871910\n"
     ]
    }
   ],
   "source": [
    "#удалим столбцы неинформативные для обучения моделей (id)\n",
    "data_0 = data_0.drop(['id'], axis=1)\n",
    "data_1 = data_1.drop(['id'], axis=1)\n",
    "data_2 = data_2.drop(['id'], axis=1)\n",
    "print(data_0.head(3),'\\n',data_1.head(3),'\\n',data_2.head(3),)"
   ]
  },
  {
   "cell_type": "code",
   "execution_count": 10,
   "metadata": {},
   "outputs": [
    {
     "name": "stdout",
     "output_type": "stream",
     "text": [
      "0\n",
      "0\n",
      "0\n"
     ]
    }
   ],
   "source": [
    "#Проверим на наличие явных дубликатов\n",
    "for i in all_data:\n",
    "    print(i.duplicated().sum())"
   ]
  },
  {
   "cell_type": "code",
   "execution_count": 11,
   "metadata": {},
   "outputs": [
    {
     "name": "stdout",
     "output_type": "stream",
     "text": [
      "100000\n",
      "12\n",
      "100000\n"
     ]
    }
   ],
   "source": [
    "# рассмотрим коллиечество уникальных значений целевого признака\n",
    "for i in all_data:\n",
    "    a =  i['product'].unique()\n",
    "    print(len(a))"
   ]
  },
  {
   "cell_type": "markdown",
   "metadata": {},
   "source": [
    "Пропусков в данных не обнаружено Корреляции признаков всех трех месторождений различны В регионе 1 наиболее высокая линейная зависимость между признаком в колонке 'f2' и целевым признаком. Были выявлены не полные дубликаты (предположительно ошибка кодировки id скважин или повторные заборы для анализа) Было принято решение не удалять дубликаты. Размер трех выборок одинаковый Уникальных значений целевого признака в датасете 1 - всего 12, это может вызвать искажения при прогнозах. Все признаки являются численными\n"
   ]
  },
  {
   "cell_type": "markdown",
   "metadata": {},
   "source": [
    "\n",
    "\n",
    "\n"
   ]
  },
  {
   "cell_type": "markdown",
   "metadata": {},
   "source": [
    "## Обучение и проверка модели"
   ]
  },
  {
   "cell_type": "code",
   "execution_count": 12,
   "metadata": {},
   "outputs": [],
   "source": [
    "# извлекаем матрицу признаков\n",
    "features_0 = data_0.drop(['product'], axis=1) \n",
    "features_1 = data_1.drop(['product'], axis=1) \n",
    "features_2 = data_2.drop(['product'], axis=1) \n",
    "# извлекаем целевой признак\n",
    "target_0 = data_0['product']\n",
    "target_1 = data_1['product']\n",
    "target_2 = data_2['product']"
   ]
  },
  {
   "cell_type": "markdown",
   "metadata": {},
   "source": [
    "Разделим данные на обучающую и валидационную выборки в соотношении 75:25.\n",
    " "
   ]
  },
  {
   "cell_type": "code",
   "execution_count": 13,
   "metadata": {},
   "outputs": [
    {
     "name": "stdout",
     "output_type": "stream",
     "text": [
      "Регион 0\n",
      "features_train_0  75000\n",
      "features_valid_0  25000 \n",
      "\n",
      "Регион 1\n",
      "features_train_1  75000\n",
      "features_valid_1  25000 \n",
      "\n",
      "Регион 2\n",
      "features_train_2  75000\n",
      "features_valid_2  25000 \n",
      "\n"
     ]
    }
   ],
   "source": [
    "# отделим 25% данных для обучающей и валидационной выборок\n",
    "features_train_0, features_valid_0, target_train_0, target_valid_0 = train_test_split(\n",
    "    features_0, target_0, test_size=0.25, random_state=321)\n",
    "print('Регион 0')\n",
    "print('features_train_0','',features_train_0.shape[0])\n",
    "print('features_valid_0','',features_valid_0.shape[0],'\\n')\n",
    "\n",
    "features_train_1, features_valid_1, target_train_1, target_valid_1 = train_test_split(\n",
    "    features_1, target_1, test_size=0.25, random_state=321)\n",
    "print('Регион 1')\n",
    "print('features_train_1','',features_train_1.shape[0])\n",
    "print('features_valid_1','',features_valid_1.shape[0],'\\n')\n",
    "\n",
    "features_train_2, features_valid_2, target_train_2, target_valid_2 = train_test_split(\n",
    "    features_2, target_2, test_size=0.25, random_state=321)\n",
    "print('Регион 2')\n",
    "print('features_train_2','',features_train_2.shape[0])\n",
    "print('features_valid_2','',features_valid_2.shape[0],'\\n')"
   ]
  },
  {
   "cell_type": "markdown",
   "metadata": {},
   "source": [
    "Нормализуем"
   ]
  },
  {
   "cell_type": "code",
   "execution_count": 14,
   "metadata": {},
   "outputs": [],
   "source": [
    "scaler = StandardScaler()\n",
    "scaler.fit(features_train_0)\n",
    "features_train_0 = scaler.transform(features_train_0)\n",
    "features_valid_0 = scaler.transform(features_valid_0)\n",
    "\n",
    "scaler.fit(features_train_1)\n",
    "features_train_1 = scaler.transform(features_train_1)\n",
    "features_valid_1 = scaler.transform(features_valid_1)\n",
    "\n",
    "scaler.fit(features_train_2)\n",
    "features_train_2 = scaler.transform(features_train_2)\n",
    "features_valid_2 = scaler.transform(features_valid_2)"
   ]
  },
  {
   "cell_type": "markdown",
   "metadata": {},
   "source": [
    "Для обучения модели подходит только линейная регрессия (остальные — недостаточно предсказуемые).\n",
    "Обучим модели и сделаем предсказания на валидационных выборках."
   ]
  },
  {
   "cell_type": "code",
   "execution_count": 15,
   "metadata": {},
   "outputs": [],
   "source": [
    "model_0 = LinearRegression(normalize=True).fit(features_train_0, target_train_0)\n",
    "predictions_0 = model_0.predict(features_valid_0)\n",
    "\n",
    "model_1 = LinearRegression(normalize=True).fit(features_train_1, target_train_1)\n",
    "predictions_1 = model_1.predict(features_valid_1)\n",
    "\n",
    "model_2 = LinearRegression(normalize=True).fit(features_train_2, target_train_2)\n",
    "predictions_2 = model_2.predict(features_valid_2)"
   ]
  },
  {
   "cell_type": "markdown",
   "metadata": {},
   "source": [
    "Сохраним предсказания,правильные ответы на валидационной выборке, объем топлива указанный в данных и предсказанный моделью."
   ]
  },
  {
   "cell_type": "code",
   "execution_count": 16,
   "metadata": {},
   "outputs": [],
   "source": [
    "rmse_0 = (mean_squared_error(target_valid_0, predictions_0)**0.5).round(2)\n",
    "predictions_mean_0 = predictions_0.mean().round(2)\n",
    "target_valid_sum_0 = target_valid_0.sum().round(2)\n",
    "predictions_sum_0 = predictions_0.sum().round(2)\n",
    "\n",
    "rmse_1 = (mean_squared_error(target_valid_1, predictions_1)**0.5).round(2)\n",
    "predictions_mean_1 = predictions_1.mean().round(2)\n",
    "target_valid_sum_1 = target_valid_1.sum().round(2)\n",
    "predictions_sum_1 = predictions_1.sum().round(2)\n",
    "\n",
    "rmse_2 = (mean_squared_error(target_valid_2, predictions_2)**0.5).round(2)\n",
    "predictions_mean_2 = predictions_2.mean().round(2)\n",
    "target_valid_sum_2 = target_valid_2.sum().round(2)\n",
    "predictions_sum_2 = predictions_2.sum().round(2)"
   ]
  },
  {
   "cell_type": "markdown",
   "metadata": {},
   "source": [
    "Оформим данные в таблицу"
   ]
  },
  {
   "cell_type": "code",
   "execution_count": 17,
   "metadata": {},
   "outputs": [
    {
     "data": {
      "text/html": [
       "<div>\n",
       "<style scoped>\n",
       "    .dataframe tbody tr th:only-of-type {\n",
       "        vertical-align: middle;\n",
       "    }\n",
       "\n",
       "    .dataframe tbody tr th {\n",
       "        vertical-align: top;\n",
       "    }\n",
       "\n",
       "    .dataframe thead th {\n",
       "        text-align: right;\n",
       "    }\n",
       "</style>\n",
       "<table border=\"1\" class=\"dataframe\">\n",
       "  <thead>\n",
       "    <tr style=\"text-align: right;\">\n",
       "      <th></th>\n",
       "      <th>meen_predictions</th>\n",
       "      <th>rmse</th>\n",
       "      <th>sum_target</th>\n",
       "      <th>sum_predictions</th>\n",
       "    </tr>\n",
       "  </thead>\n",
       "  <tbody>\n",
       "    <tr>\n",
       "      <th>0</th>\n",
       "      <td>92.70</td>\n",
       "      <td>37.83</td>\n",
       "      <td>2315733.67</td>\n",
       "      <td>2317605.38</td>\n",
       "    </tr>\n",
       "    <tr>\n",
       "      <th>1</th>\n",
       "      <td>68.78</td>\n",
       "      <td>0.89</td>\n",
       "      <td>1719404.36</td>\n",
       "      <td>1719437.23</td>\n",
       "    </tr>\n",
       "    <tr>\n",
       "      <th>2</th>\n",
       "      <td>95.06</td>\n",
       "      <td>39.73</td>\n",
       "      <td>2365254.51</td>\n",
       "      <td>2376475.40</td>\n",
       "    </tr>\n",
       "  </tbody>\n",
       "</table>\n",
       "</div>"
      ],
      "text/plain": [
       "   meen_predictions   rmse  sum_target  sum_predictions\n",
       "0             92.70  37.83  2315733.67       2317605.38\n",
       "1             68.78   0.89  1719404.36       1719437.23\n",
       "2             95.06  39.73  2365254.51       2376475.40"
      ]
     },
     "execution_count": 17,
     "metadata": {},
     "output_type": "execute_result"
    }
   ],
   "source": [
    "all_rmse =[rmse_0,rmse_1,rmse_2]\n",
    "all_meen_predictions = [predictions_mean_0,predictions_mean_1,predictions_mean_2]\n",
    "all_sum_target = [target_valid_sum_0,target_valid_sum_1,target_valid_sum_2]\n",
    "all_sum_predictions = [predictions_sum_0,predictions_sum_1,predictions_sum_2]\n",
    "\n",
    "df = {'rmse': all_rmse,\n",
    "       'meen_predictions': all_meen_predictions,\n",
    "     'sum_target':all_sum_target,\n",
    "      'sum_predictions':all_sum_predictions\n",
    "     }\n",
    "df = pd.DataFrame(df, columns = ['meen_predictions','rmse', 'sum_target','sum_predictions'])\n",
    "df"
   ]
  },
  {
   "cell_type": "markdown",
   "metadata": {},
   "source": [
    "- meen_predictions -  средний запас предсказанного сырья в одной скважине\n",
    "- rmse - отклонение\n",
    "- sum_target - суммарный реальный запас \n",
    "- sum_predictions - суммарный предсказанный запас "
   ]
  },
  {
   "cell_type": "markdown",
   "metadata": {},
   "source": [
    "ВЫВОД\n",
    "\n"
   ]
  },
  {
   "cell_type": "markdown",
   "metadata": {},
   "source": [
    "Было произведено обучение линейной регрессии на данных трех регионов. Лучшие показатели модели в регионе 1 (RMSE = 0.89) Модели в регионе 0 и 2 показали приблизительно одинаковые результаты (RMSE = 37.83 и 39.73) Показатели суммарного реального и прогнозируемого запаса очень близки. Средние запасы сырья в месторождениях по регионам (0,1,2) = 92.7 тыс, 68.78 тыс и 95.06 тыс баррелей соответственно. У модели 1 региона - хорошие результаты, однако у целевого признака было всего 12 значений из 100 000, что ставит под вопрос целесообразность ее использования."
   ]
  },
  {
   "cell_type": "markdown",
   "metadata": {},
   "source": [
    "## Подготовка к расчёту прибыли"
   ]
  },
  {
   "cell_type": "markdown",
   "metadata": {},
   "source": [
    "Все ключевые значения для расчётов сохраним в отдельных переменных.\n"
   ]
  },
  {
   "cell_type": "code",
   "execution_count": 22,
   "metadata": {},
   "outputs": [],
   "source": [
    "budget = 10000000000 #Бюджет на разработку скважин в регионе — 10 млрд рублей.\n",
    "profit_per_barrel = 450 #При нынешних ценах один баррель сырья приносит 450 рублей дохода.\n",
    "profit_barrel = 450000 #Доход с каждой единицы продукта составляет 450 тыс. рублей,т.к.объём указан в тыс баррелей.\n",
    "total_counts = 500 # При разведке региона исследуют 500 точек \n",
    "counts = 200 # C помощью машинного обучения выбирают 200 лучших точек для разработки.\n",
    "probability_of_losses = 0.025 # порог вероятности убытков \n",
    "bootstrap_samples = 1000 #количество выборок"
   ]
  },
  {
   "cell_type": "markdown",
   "metadata": {},
   "source": [
    "Рассчитайте достаточный объём сырья для безубыточной разработки новой скважины. "
   ]
  },
  {
   "cell_type": "code",
   "execution_count": 23,
   "metadata": {},
   "outputs": [
    {
     "name": "stdout",
     "output_type": "stream",
     "text": [
      "Достаточный объем добычи для безубыточной разработки скважины: 111.11111111111111\n"
     ]
    }
   ],
   "source": [
    "break_even_point = (budget/profit_barrel)/counts\n",
    "print('Достаточный объем добычи для безубыточной разработки скважины:',break_even_point)"
   ]
  },
  {
   "cell_type": "code",
   "execution_count": 24,
   "metadata": {},
   "outputs": [
    {
     "name": "stdout",
     "output_type": "stream",
     "text": [
      "Бюджет на разработку одной скважины: 50000.0 млн.руб\n"
     ]
    }
   ],
   "source": [
    "budget_per_point=(budget/counts)\n",
    "print('Бюджет на разработку одной скважины:', budget_per_point/1000,'млн.руб')"
   ]
  },
  {
   "cell_type": "markdown",
   "metadata": {},
   "source": [
    "Сравним полученный объём сырья со средним запасом в каждом регионе. "
   ]
  },
  {
   "cell_type": "code",
   "execution_count": 25,
   "metadata": {},
   "outputs": [
    {
     "name": "stdout",
     "output_type": "stream",
     "text": [
      "Достаточный объем добычи для безубыточной разработки скважины: 111.11\n",
      "Средний запас сырья в скважине в 0 регионе: 92.7\n",
      "Средний запас сырья в скважине в 1 регионе: 68.78\n",
      "Средний запас сырья в скважине в 2 регионе: 95.06\n"
     ]
    }
   ],
   "source": [
    "print('Достаточный объем добычи для безубыточной разработки скважины:',round(break_even_point,2))\n",
    "print('Средний запас сырья в скважине в 0 регионе:',predictions_mean_0)\n",
    "print('Средний запас сырья в скважине в 1 регионе:',predictions_mean_1)\n",
    "print('Средний запас сырья в скважине в 2 регионе:',predictions_mean_2)"
   ]
  },
  {
   "cell_type": "markdown",
   "metadata": {},
   "source": [
    "Минимальный объем сырья в каждой скважине должен составлять 111 тыс баррелей. Ни в одном из регионов средний запас в скважинах не преодолевает минимальный порог\n"
   ]
  },
  {
   "cell_type": "markdown",
   "metadata": {},
   "source": [
    "## Расчёт прибыли и рисков "
   ]
  },
  {
   "cell_type": "markdown",
   "metadata": {},
   "source": [
    "Создадим функцию для расчёта прибыли по выбранным скважинам и предсказаниям модели:\n",
    " Выберем скважины с максимальными значениями предсказаний.\n",
    " Просуммируем целевое значение объёма сырья, соответствующее этим предсказаниям.\n",
    " Рассчитаем прибыль для полученного объёма сырья."
   ]
  },
  {
   "cell_type": "code",
   "execution_count": 28,
   "metadata": {},
   "outputs": [],
   "source": [
    "def profit (predictions_x, target_x):\n",
    "    top_prediction = pd.Series(predictions_x).reset_index(drop = True).sort_values(ascending=False)[:counts] \n",
    "    top_target = (target_x.reset_index(drop = True)[top_prediction.index])\n",
    "    #print(len(top_target))\n",
    "    #selected_max = top_prediction[:counts].sum()\n",
    "    return round(((top_target.sum() * profit_barrel) - budget),2)\n",
    "    #print('Суммарный запас сырья в 200 лучших скважинах составит: %.2f тыс.баррелей'%selected_max)\n",
    "   # print('Прибыль от залежей сырья составит: %.2f млн.рублей'%\n",
    "   #       (((top_target.sum()*profit_barrel)-budget)/1000))"
   ]
  },
  {
   "cell_type": "code",
   "execution_count": 29,
   "metadata": {},
   "outputs": [
    {
     "name": "stdout",
     "output_type": "stream",
     "text": [
      "Прибыль от залежей сырья для скважин в 0 регионе: 3201859753.4\n",
      "Прибыль от залежей сырья для скважин 1 регионе: 2415086696.68\n",
      "Прибыль от залежей сырья для скважин в 2 регионе: 2849964981.21\n"
     ]
    }
   ],
   "source": [
    "print(\"Прибыль от залежей сырья для скважин в 0 регионе:\", profit(predictions_0,target_valid_0))\n",
    "print(\"Прибыль от залежей сырья для скважин 1 регионе:\",profit(predictions_1,target_valid_1))\n",
    "print(\"Прибыль от залежей сырья для скважин в 2 регионе:\", profit(predictions_2,target_valid_2))"
   ]
  },
  {
   "cell_type": "markdown",
   "metadata": {},
   "source": [
    "Все три региона потенциально прибыльные, для определения наиболее выгодного с точки зрения окупаемости вложений и рисков убытка - расчитаем риски и прибыль для каждого региона.\n",
    "\n",
    "Применим технику Bootstrap с 1000 выборок, чтобы найти распределение прибыли. Найдем среднюю прибыль, 95%-й доверительный интервал и риск убытков. Убыток — это отрицательная прибыль."
   ]
  },
  {
   "cell_type": "code",
   "execution_count": 36,
   "metadata": {},
   "outputs": [],
   "source": [
    "state = np.random.RandomState(123)\n",
    "def risks_profits(predictions, target):\n",
    "    predictions = pd.Series(predictions).reset_index(drop=True) \n",
    "    target = pd.Series(target).reset_index(drop=True)#inplace = True\n",
    "    #print(target)\n",
    "    #print(predictions)\n",
    "    revenue = []\n",
    "    for i in range(bootstrap_samples):\n",
    "        target_sample = target.sample(n = total_counts, replace=True, random_state=state)\n",
    "        predictions_sample = predictions[target_sample.index]       \n",
    "        revenue.append(profit(predictions_sample, target_sample))       \n",
    "    revenue = pd.Series(revenue)\n",
    "    lower = revenue.quantile(0.025)\n",
    "    upper = revenue.quantile(0.975)\n",
    "    mean_revenue = int(sum(revenue) / len(revenue))\n",
    "    #risk = st.percentileofscore(revenue, 0)\n",
    "    risk= (revenue < 0).mean()\n",
    "\n",
    "    return (\"Средняя выручка:{:.2f}\".format(mean_revenue),\n",
    "'95% доверительный интервал: {:.2f} - {:.2f}'.format(lower, upper),\n",
    "'Риск убытков: {:.2%}'.format(risk))        "
   ]
  },
  {
   "cell_type": "code",
   "execution_count": 37,
   "metadata": {},
   "outputs": [
    {
     "data": {
      "text/plain": [
       "('Средняя выручка:389439292.00',\n",
       " '95% доверительный интервал: -90387923.76 - 864209205.95',\n",
       " 'Риск убытков: 6.20%')"
      ]
     },
     "execution_count": 37,
     "metadata": {},
     "output_type": "execute_result"
    }
   ],
   "source": [
    "risks_profits(predictions_0,target_valid_0)"
   ]
  },
  {
   "cell_type": "code",
   "execution_count": 38,
   "metadata": {},
   "outputs": [
    {
     "data": {
      "text/plain": [
       "('Средняя выручка:446151227.00',\n",
       " '95% доверительный интервал: 53136667.59 - 851693890.47',\n",
       " 'Риск убытков: 1.40%')"
      ]
     },
     "execution_count": 38,
     "metadata": {},
     "output_type": "execute_result"
    }
   ],
   "source": [
    "risks_profits(predictions_1,target_valid_1)"
   ]
  },
  {
   "cell_type": "code",
   "execution_count": 39,
   "metadata": {},
   "outputs": [
    {
     "data": {
      "text/plain": [
       "('Средняя выручка:336586803.00',\n",
       " '95% доверительный интервал: -202976037.50 - 852841326.63',\n",
       " 'Риск убытков: 11.60%')"
      ]
     },
     "execution_count": 39,
     "metadata": {},
     "output_type": "execute_result"
    }
   ],
   "source": [
    "risks_profits(predictions_2,target_valid_2)"
   ]
  },
  {
   "cell_type": "markdown",
   "metadata": {},
   "source": [
    "Согласно условиям задачи \"После оценки рисков нужно оставить лишь те регионы, в которых вероятность убытков меньше 2.5%\" Данному критерию соответствует регион 1, средняя прибыль в этом регионе составил 446.15 млн.рублей.Два других региона не подошли по указанному критерию."
   ]
  },
  {
   "cell_type": "markdown",
   "metadata": {},
   "source": [
    "ВЫВОД\n",
    "\n",
    "Были рассмотрены данные геологоразведки трёх регионов. Все таблицы одного размера и содержат 5 столбцов по 100 000 строк. Пропусков в данных не обнаружено. Корреляции признаков всех трех месторождений различны. В регионе 1 была выявлена наиболее высокая линейная зависимость между признаком в колонке 'f2' и целевым признаком. Были выявлены не полные дубликаты (предположительно ошибка кодировки id скважин или повторные заборы для анализа) Было принято решение не удалять дубликаты. Уникальных значений целевого признака в регионе 1 - всего 12, это может вызвать искажения при прогнозах. Все признаки являются численными. \n",
    "\n",
    "Было определено, что минимальный объем сырья в каждой скважине должен составлять 111 тыс баррелей. При первичном исследовании ни в одном из регионов средний запас в скважинах не приближался к данному показателю. Было принято терешин рассматривать возможность разработки 200 наиболее перспективных скважин в каждом регионе.\n",
    "\n",
    "Данные были разбиты на тестовую и валидационную выборки в соотношении 75:25 и нормализованы. Было произведено обучение модели линейной регрессии, а также применена техника Bootstrap с 1000 выборок. \n",
    "Вероятность убытков приемлемая для дальнейшей работы составила 2,5%. \n",
    "\n",
    "Таким образом наиболее перспективным для дальнейшей разработки является регион 1. Несмотря на небольшие запасы сырья 68.78 млн бар. относительно других регионов, риск убытков составляет 1,4% при потенциальной средней прибыли в 446 151 227.00 руб\n"
   ]
  }
 ],
 "metadata": {
  "ExecuteTimeLog": [
   {
    "duration": 1242,
    "start_time": "2023-02-15T09:01:38.400Z"
   },
   {
    "duration": 530,
    "start_time": "2023-02-15T09:01:46.791Z"
   },
   {
    "duration": 367,
    "start_time": "2023-02-15T09:10:09.765Z"
   },
   {
    "duration": 166,
    "start_time": "2023-02-15T09:10:16.647Z"
   },
   {
    "duration": 81,
    "start_time": "2023-02-15T09:10:57.312Z"
   },
   {
    "duration": 109,
    "start_time": "2023-02-15T09:11:04.317Z"
   },
   {
    "duration": 4,
    "start_time": "2023-02-15T09:11:19.907Z"
   },
   {
    "duration": 56,
    "start_time": "2023-02-15T09:17:41.001Z"
   },
   {
    "duration": 403,
    "start_time": "2023-02-15T09:17:51.447Z"
   },
   {
    "duration": 4,
    "start_time": "2023-02-15T09:17:53.509Z"
   },
   {
    "duration": 8,
    "start_time": "2023-02-15T09:18:07.474Z"
   },
   {
    "duration": 38,
    "start_time": "2023-02-15T09:18:27.068Z"
   },
   {
    "duration": 275,
    "start_time": "2023-02-15T09:18:51.266Z"
   },
   {
    "duration": 14,
    "start_time": "2023-02-15T09:18:53.190Z"
   },
   {
    "duration": 246,
    "start_time": "2023-02-15T09:20:30.738Z"
   },
   {
    "duration": 10,
    "start_time": "2023-02-15T09:21:08.332Z"
   },
   {
    "duration": 9,
    "start_time": "2023-02-15T09:21:25.061Z"
   },
   {
    "duration": 12,
    "start_time": "2023-02-15T09:22:33.957Z"
   },
   {
    "duration": 8,
    "start_time": "2023-02-15T09:22:37.366Z"
   },
   {
    "duration": 316,
    "start_time": "2023-02-15T09:22:44.025Z"
   },
   {
    "duration": 15,
    "start_time": "2023-02-15T09:22:45.599Z"
   },
   {
    "duration": 251,
    "start_time": "2023-02-15T09:22:55.735Z"
   },
   {
    "duration": 12,
    "start_time": "2023-02-15T09:23:01.766Z"
   },
   {
    "duration": 124,
    "start_time": "2023-02-15T09:24:39.433Z"
   },
   {
    "duration": 226,
    "start_time": "2023-02-15T09:25:05.714Z"
   },
   {
    "duration": 8,
    "start_time": "2023-02-15T09:25:10.994Z"
   },
   {
    "duration": 9,
    "start_time": "2023-02-15T09:25:16.216Z"
   },
   {
    "duration": 341,
    "start_time": "2023-02-15T09:25:47.924Z"
   },
   {
    "duration": 11,
    "start_time": "2023-02-15T09:25:49.084Z"
   },
   {
    "duration": 3,
    "start_time": "2023-02-15T09:26:31.173Z"
   },
   {
    "duration": 153,
    "start_time": "2023-02-15T09:27:13.991Z"
   },
   {
    "duration": 120,
    "start_time": "2023-02-15T09:53:31.099Z"
   },
   {
    "duration": 125,
    "start_time": "2023-02-15T09:53:49.949Z"
   },
   {
    "duration": 56,
    "start_time": "2023-02-15T09:54:15.202Z"
   },
   {
    "duration": 130,
    "start_time": "2023-02-15T09:54:28.074Z"
   },
   {
    "duration": 129,
    "start_time": "2023-02-15T10:04:57.631Z"
   },
   {
    "duration": 127,
    "start_time": "2023-02-15T10:05:32.876Z"
   },
   {
    "duration": 118,
    "start_time": "2023-02-15T10:05:59.109Z"
   },
   {
    "duration": 7,
    "start_time": "2023-02-15T10:43:22.286Z"
   },
   {
    "duration": 102,
    "start_time": "2023-02-15T10:43:23.681Z"
   },
   {
    "duration": 108,
    "start_time": "2023-02-15T10:43:34.918Z"
   },
   {
    "duration": 14,
    "start_time": "2023-02-15T10:43:47.430Z"
   },
   {
    "duration": 13,
    "start_time": "2023-02-15T10:44:03.753Z"
   },
   {
    "duration": 3,
    "start_time": "2023-02-15T12:25:14.874Z"
   },
   {
    "duration": 1169,
    "start_time": "2023-02-15T12:25:23.809Z"
   },
   {
    "duration": 395,
    "start_time": "2023-02-15T12:25:25.632Z"
   },
   {
    "duration": 147,
    "start_time": "2023-02-15T12:25:30.282Z"
   },
   {
    "duration": 16,
    "start_time": "2023-02-15T12:25:34.291Z"
   },
   {
    "duration": 148,
    "start_time": "2023-02-15T12:25:34.881Z"
   },
   {
    "duration": 95,
    "start_time": "2023-02-15T12:25:37.469Z"
   },
   {
    "duration": 15,
    "start_time": "2023-02-15T12:25:47.380Z"
   },
   {
    "duration": 10,
    "start_time": "2023-02-15T12:25:49.523Z"
   },
   {
    "duration": 11,
    "start_time": "2023-02-15T12:26:07.459Z"
   },
   {
    "duration": 12,
    "start_time": "2023-02-15T12:26:13.629Z"
   },
   {
    "duration": 378,
    "start_time": "2023-02-15T12:26:20.802Z"
   },
   {
    "duration": 9,
    "start_time": "2023-02-15T12:31:09.368Z"
   },
   {
    "duration": 1132,
    "start_time": "2023-02-15T12:31:25.447Z"
   },
   {
    "duration": 124,
    "start_time": "2023-02-15T12:31:27.315Z"
   },
   {
    "duration": 14,
    "start_time": "2023-02-15T12:31:41.862Z"
   },
   {
    "duration": 106,
    "start_time": "2023-02-15T12:31:45.901Z"
   },
   {
    "duration": 15,
    "start_time": "2023-02-15T12:31:57.902Z"
   },
   {
    "duration": 416,
    "start_time": "2023-02-15T12:32:48.541Z"
   },
   {
    "duration": 11,
    "start_time": "2023-02-15T12:36:22.032Z"
   },
   {
    "duration": 10,
    "start_time": "2023-02-15T12:36:35.128Z"
   },
   {
    "duration": 10,
    "start_time": "2023-02-15T12:37:08.443Z"
   },
   {
    "duration": 35,
    "start_time": "2023-02-15T12:37:17.047Z"
   },
   {
    "duration": 19,
    "start_time": "2023-02-15T12:37:34.822Z"
   },
   {
    "duration": 107,
    "start_time": "2023-02-15T12:37:36.762Z"
   },
   {
    "duration": 11,
    "start_time": "2023-02-15T12:37:38.094Z"
   },
   {
    "duration": 45,
    "start_time": "2023-02-15T12:37:39.364Z"
   },
   {
    "duration": 9,
    "start_time": "2023-02-15T12:38:30.194Z"
   },
   {
    "duration": 8,
    "start_time": "2023-02-15T12:38:46.651Z"
   },
   {
    "duration": 26,
    "start_time": "2023-02-15T12:40:53.959Z"
   },
   {
    "duration": 1065,
    "start_time": "2023-02-15T12:41:01.928Z"
   },
   {
    "duration": 1399,
    "start_time": "2023-02-15T12:41:04.265Z"
   },
   {
    "duration": 129,
    "start_time": "2023-02-15T12:41:05.666Z"
   },
   {
    "duration": 13,
    "start_time": "2023-02-15T12:41:07.202Z"
   },
   {
    "duration": 129,
    "start_time": "2023-02-15T12:41:08.022Z"
   },
   {
    "duration": 10,
    "start_time": "2023-02-15T12:41:10.346Z"
   },
   {
    "duration": 110,
    "start_time": "2023-02-15T12:44:40.380Z"
   },
   {
    "duration": 24,
    "start_time": "2023-02-15T12:45:27.137Z"
   },
   {
    "duration": 37,
    "start_time": "2023-02-15T12:47:29.858Z"
   },
   {
    "duration": 48,
    "start_time": "2023-02-15T12:48:38.479Z"
   },
   {
    "duration": 32,
    "start_time": "2023-02-15T12:58:27.310Z"
   },
   {
    "duration": 8,
    "start_time": "2023-02-15T12:59:18.852Z"
   },
   {
    "duration": 17,
    "start_time": "2023-02-15T13:00:58.689Z"
   },
   {
    "duration": 15,
    "start_time": "2023-02-15T13:01:29.964Z"
   },
   {
    "duration": 1086,
    "start_time": "2023-02-15T13:01:48.009Z"
   },
   {
    "duration": 1781,
    "start_time": "2023-02-15T13:01:50.091Z"
   },
   {
    "duration": 137,
    "start_time": "2023-02-15T13:01:51.874Z"
   },
   {
    "duration": 14,
    "start_time": "2023-02-15T13:01:59.462Z"
   },
   {
    "duration": 129,
    "start_time": "2023-02-15T13:02:00.334Z"
   },
   {
    "duration": 7,
    "start_time": "2023-02-15T13:02:02.550Z"
   },
   {
    "duration": 30,
    "start_time": "2023-02-15T13:02:03.823Z"
   },
   {
    "duration": 36,
    "start_time": "2023-02-15T13:02:04.960Z"
   },
   {
    "duration": 253,
    "start_time": "2023-02-15T13:02:15.949Z"
   },
   {
    "duration": 1358,
    "start_time": "2023-02-15T14:07:50.359Z"
   },
   {
    "duration": 3,
    "start_time": "2023-02-15T14:07:51.719Z"
   },
   {
    "duration": 1117,
    "start_time": "2023-02-15T14:07:54.251Z"
   },
   {
    "duration": 124,
    "start_time": "2023-02-15T14:07:55.403Z"
   },
   {
    "duration": 15,
    "start_time": "2023-02-15T14:07:55.847Z"
   },
   {
    "duration": 103,
    "start_time": "2023-02-15T14:07:56.439Z"
   },
   {
    "duration": 8,
    "start_time": "2023-02-15T14:07:58.442Z"
   },
   {
    "duration": 30,
    "start_time": "2023-02-15T14:07:59.698Z"
   },
   {
    "duration": 75,
    "start_time": "2023-02-15T14:08:01.134Z"
   },
   {
    "duration": 8,
    "start_time": "2023-02-15T14:08:01.861Z"
   },
   {
    "duration": 7,
    "start_time": "2023-02-15T14:08:37.533Z"
   },
   {
    "duration": 3,
    "start_time": "2023-02-15T14:09:54.189Z"
   },
   {
    "duration": 6,
    "start_time": "2023-02-15T14:10:01.712Z"
   },
   {
    "duration": 7,
    "start_time": "2023-02-15T14:10:46.709Z"
   },
   {
    "duration": 1017,
    "start_time": "2023-02-15T14:13:29.725Z"
   },
   {
    "duration": 1736,
    "start_time": "2023-02-15T14:13:31.450Z"
   },
   {
    "duration": 125,
    "start_time": "2023-02-15T14:13:36.828Z"
   },
   {
    "duration": 14,
    "start_time": "2023-02-15T14:13:40.591Z"
   },
   {
    "duration": 112,
    "start_time": "2023-02-15T14:13:50.038Z"
   },
   {
    "duration": 8,
    "start_time": "2023-02-15T14:13:54.562Z"
   },
   {
    "duration": 46,
    "start_time": "2023-02-15T14:13:57.714Z"
   },
   {
    "duration": 315,
    "start_time": "2023-02-15T14:13:59.088Z"
   },
   {
    "duration": 11,
    "start_time": "2023-02-15T14:14:39.512Z"
   },
   {
    "duration": 96,
    "start_time": "2023-02-15T14:16:28.813Z"
   },
   {
    "duration": 10,
    "start_time": "2023-02-15T14:16:54.781Z"
   },
   {
    "duration": 9,
    "start_time": "2023-02-15T14:18:11.328Z"
   },
   {
    "duration": 20,
    "start_time": "2023-02-15T14:31:28.263Z"
   },
   {
    "duration": 3,
    "start_time": "2023-02-15T14:32:02.164Z"
   },
   {
    "duration": 25,
    "start_time": "2023-02-15T14:32:07.978Z"
   },
   {
    "duration": 323,
    "start_time": "2023-02-15T14:45:47.979Z"
   },
   {
    "duration": 740,
    "start_time": "2023-02-15T14:46:26.712Z"
   },
   {
    "duration": 1136,
    "start_time": "2023-02-16T10:15:49.834Z"
   },
   {
    "duration": 1583,
    "start_time": "2023-02-16T10:15:51.943Z"
   },
   {
    "duration": 156,
    "start_time": "2023-02-16T10:15:55.167Z"
   },
   {
    "duration": 19,
    "start_time": "2023-02-16T10:16:05.693Z"
   },
   {
    "duration": 114,
    "start_time": "2023-02-16T10:16:12.904Z"
   },
   {
    "duration": 8,
    "start_time": "2023-02-16T10:16:16.985Z"
   },
   {
    "duration": 31,
    "start_time": "2023-02-16T10:16:24.305Z"
   },
   {
    "duration": 128,
    "start_time": "2023-02-16T10:16:52.764Z"
   },
   {
    "duration": 1818,
    "start_time": "2023-02-16T10:16:58.023Z"
   },
   {
    "duration": 4,
    "start_time": "2023-02-16T10:25:06.251Z"
   },
   {
    "duration": 11,
    "start_time": "2023-02-16T10:25:44.847Z"
   },
   {
    "duration": 102,
    "start_time": "2023-02-16T10:43:15.941Z"
   },
   {
    "duration": 8,
    "start_time": "2023-02-16T10:43:30.447Z"
   },
   {
    "duration": 14,
    "start_time": "2023-02-16T10:43:38.964Z"
   },
   {
    "duration": 10,
    "start_time": "2023-02-16T10:48:26.978Z"
   },
   {
    "duration": 9,
    "start_time": "2023-02-16T10:48:32.440Z"
   },
   {
    "duration": 276,
    "start_time": "2023-02-16T10:48:38.127Z"
   },
   {
    "duration": 3,
    "start_time": "2023-02-16T10:48:42.227Z"
   },
   {
    "duration": 1068,
    "start_time": "2023-02-16T10:48:42.988Z"
   },
   {
    "duration": 149,
    "start_time": "2023-02-16T10:48:44.058Z"
   },
   {
    "duration": 14,
    "start_time": "2023-02-16T10:48:44.209Z"
   },
   {
    "duration": 146,
    "start_time": "2023-02-16T10:48:44.225Z"
   },
   {
    "duration": 8,
    "start_time": "2023-02-16T10:48:44.557Z"
   },
   {
    "duration": 36,
    "start_time": "2023-02-16T10:48:46.431Z"
   },
   {
    "duration": 251,
    "start_time": "2023-02-16T10:48:47.442Z"
   },
   {
    "duration": 20,
    "start_time": "2023-02-16T10:48:47.793Z"
   },
   {
    "duration": 6,
    "start_time": "2023-02-16T10:49:37.268Z"
   },
   {
    "duration": 2,
    "start_time": "2023-02-16T10:49:41.327Z"
   },
   {
    "duration": 10,
    "start_time": "2023-02-16T10:50:20.147Z"
   },
   {
    "duration": 10,
    "start_time": "2023-02-16T10:56:27.289Z"
   },
   {
    "duration": 15,
    "start_time": "2023-02-16T10:56:27.987Z"
   },
   {
    "duration": 5,
    "start_time": "2023-02-16T10:58:08.150Z"
   },
   {
    "duration": 4,
    "start_time": "2023-02-16T10:58:39.890Z"
   },
   {
    "duration": 9,
    "start_time": "2023-02-16T11:18:36.631Z"
   },
   {
    "duration": 10,
    "start_time": "2023-02-16T11:18:37.387Z"
   },
   {
    "duration": 13,
    "start_time": "2023-02-16T11:19:07.476Z"
   },
   {
    "duration": 4,
    "start_time": "2023-02-16T11:19:19.622Z"
   },
   {
    "duration": 4,
    "start_time": "2023-02-16T11:19:34.614Z"
   },
   {
    "duration": 11,
    "start_time": "2023-02-16T11:19:43.062Z"
   },
   {
    "duration": 9,
    "start_time": "2023-02-16T11:20:37.186Z"
   },
   {
    "duration": 11,
    "start_time": "2023-02-16T11:20:47.239Z"
   },
   {
    "duration": 10,
    "start_time": "2023-02-16T11:29:11.235Z"
   },
   {
    "duration": 7,
    "start_time": "2023-02-16T11:29:52.165Z"
   },
   {
    "duration": 17,
    "start_time": "2023-02-16T11:29:52.932Z"
   },
   {
    "duration": 8,
    "start_time": "2023-02-16T11:30:03.215Z"
   },
   {
    "duration": 11,
    "start_time": "2023-02-16T11:30:03.772Z"
   },
   {
    "duration": 10,
    "start_time": "2023-02-16T11:30:14.498Z"
   },
   {
    "duration": 8,
    "start_time": "2023-02-16T11:30:36.128Z"
   },
   {
    "duration": 8,
    "start_time": "2023-02-16T11:30:49.722Z"
   },
   {
    "duration": 12,
    "start_time": "2023-02-16T11:30:51.752Z"
   },
   {
    "duration": 185,
    "start_time": "2023-02-16T11:41:48.513Z"
   },
   {
    "duration": 8,
    "start_time": "2023-02-16T11:43:00.851Z"
   },
   {
    "duration": 12,
    "start_time": "2023-02-16T11:44:46.325Z"
   },
   {
    "duration": 14,
    "start_time": "2023-02-16T11:56:36.615Z"
   },
   {
    "duration": 307,
    "start_time": "2023-02-16T11:56:50.596Z"
   },
   {
    "duration": 3,
    "start_time": "2023-02-16T12:07:37.018Z"
   },
   {
    "duration": 1116,
    "start_time": "2023-02-16T12:29:50.504Z"
   },
   {
    "duration": 1245,
    "start_time": "2023-02-16T12:29:54.173Z"
   },
   {
    "duration": 128,
    "start_time": "2023-02-16T12:29:55.420Z"
   },
   {
    "duration": 22,
    "start_time": "2023-02-16T12:29:56.692Z"
   },
   {
    "duration": 21,
    "start_time": "2023-02-16T12:30:06.667Z"
   },
   {
    "duration": 17,
    "start_time": "2023-02-16T12:30:23.082Z"
   },
   {
    "duration": 17,
    "start_time": "2023-02-16T12:30:23.767Z"
   },
   {
    "duration": 1066,
    "start_time": "2023-02-16T12:37:21.750Z"
   },
   {
    "duration": 1217,
    "start_time": "2023-02-16T12:37:23.451Z"
   },
   {
    "duration": 158,
    "start_time": "2023-02-16T12:37:27.321Z"
   },
   {
    "duration": 371,
    "start_time": "2023-02-16T12:38:16.482Z"
   },
   {
    "duration": 19,
    "start_time": "2023-02-16T12:43:00.944Z"
   },
   {
    "duration": 23,
    "start_time": "2023-02-16T12:43:52.724Z"
   },
   {
    "duration": 41,
    "start_time": "2023-02-16T12:46:26.461Z"
   },
   {
    "duration": 43,
    "start_time": "2023-02-16T12:49:17.058Z"
   },
   {
    "duration": 26,
    "start_time": "2023-02-16T12:49:26.346Z"
   },
   {
    "duration": 3,
    "start_time": "2023-02-16T13:36:22.753Z"
   },
   {
    "duration": 1047,
    "start_time": "2023-02-16T13:36:24.125Z"
   },
   {
    "duration": 278,
    "start_time": "2023-02-16T13:36:25.313Z"
   },
   {
    "duration": 27,
    "start_time": "2023-02-16T13:36:26.141Z"
   },
   {
    "duration": 24,
    "start_time": "2023-02-16T13:36:26.558Z"
   },
   {
    "duration": 25,
    "start_time": "2023-02-16T13:36:26.947Z"
   },
   {
    "duration": 14,
    "start_time": "2023-02-16T13:36:27.701Z"
   },
   {
    "duration": 108,
    "start_time": "2023-02-16T13:36:28.177Z"
   },
   {
    "duration": 8,
    "start_time": "2023-02-16T13:36:29.944Z"
   },
   {
    "duration": 29,
    "start_time": "2023-02-16T13:36:30.824Z"
   },
   {
    "duration": 120,
    "start_time": "2023-02-16T13:36:31.673Z"
   },
   {
    "duration": 7,
    "start_time": "2023-02-16T13:36:32.466Z"
   },
   {
    "duration": 11,
    "start_time": "2023-02-16T13:36:33.322Z"
   },
   {
    "duration": 3,
    "start_time": "2023-02-16T13:36:39.225Z"
   },
   {
    "duration": 91,
    "start_time": "2023-02-16T13:55:06.639Z"
   },
   {
    "duration": 4,
    "start_time": "2023-02-16T13:55:11.910Z"
   },
   {
    "duration": 3,
    "start_time": "2023-02-16T13:55:47.413Z"
   },
   {
    "duration": 4,
    "start_time": "2023-02-16T13:55:48.375Z"
   },
   {
    "duration": 4,
    "start_time": "2023-02-16T13:56:23.115Z"
   },
   {
    "duration": 4,
    "start_time": "2023-02-16T14:00:38.736Z"
   },
   {
    "duration": 4,
    "start_time": "2023-02-16T14:09:35.096Z"
   },
   {
    "duration": 4,
    "start_time": "2023-02-16T14:10:08.734Z"
   },
   {
    "duration": 4,
    "start_time": "2023-02-16T14:10:20.010Z"
   },
   {
    "duration": 4,
    "start_time": "2023-02-16T14:33:42.008Z"
   },
   {
    "duration": 4,
    "start_time": "2023-02-16T14:33:45.809Z"
   },
   {
    "duration": 4,
    "start_time": "2023-02-16T14:38:48.672Z"
   },
   {
    "duration": 3,
    "start_time": "2023-02-16T14:40:12.692Z"
   },
   {
    "duration": 4,
    "start_time": "2023-02-16T14:40:19.764Z"
   },
   {
    "duration": 4,
    "start_time": "2023-02-16T14:48:26.737Z"
   },
   {
    "duration": 4,
    "start_time": "2023-02-16T14:48:28.012Z"
   },
   {
    "duration": 4,
    "start_time": "2023-02-16T14:51:48.790Z"
   },
   {
    "duration": 3,
    "start_time": "2023-02-16T14:52:06.924Z"
   },
   {
    "duration": 5,
    "start_time": "2023-02-16T14:52:08.077Z"
   },
   {
    "duration": 3,
    "start_time": "2023-02-16T14:52:12.544Z"
   },
   {
    "duration": 3,
    "start_time": "2023-02-16T14:52:13.082Z"
   },
   {
    "duration": 5,
    "start_time": "2023-02-16T14:52:14.039Z"
   },
   {
    "duration": 3,
    "start_time": "2023-02-16T14:55:09.407Z"
   },
   {
    "duration": 4,
    "start_time": "2023-02-16T14:55:11.067Z"
   },
   {
    "duration": 4,
    "start_time": "2023-02-16T14:55:42.532Z"
   },
   {
    "duration": 12,
    "start_time": "2023-02-16T15:22:54.640Z"
   },
   {
    "duration": 5,
    "start_time": "2023-02-16T15:23:00.212Z"
   },
   {
    "duration": 9,
    "start_time": "2023-02-16T15:24:31.644Z"
   },
   {
    "duration": 8,
    "start_time": "2023-02-16T15:25:26.181Z"
   },
   {
    "duration": 4,
    "start_time": "2023-02-16T15:25:32.904Z"
   },
   {
    "duration": 4,
    "start_time": "2023-02-16T15:26:46.168Z"
   },
   {
    "duration": 1066,
    "start_time": "2023-02-16T16:05:10.435Z"
   },
   {
    "duration": 1211,
    "start_time": "2023-02-16T16:05:12.424Z"
   },
   {
    "duration": 308,
    "start_time": "2023-02-16T16:05:13.637Z"
   },
   {
    "duration": 45,
    "start_time": "2023-02-16T16:05:13.947Z"
   },
   {
    "duration": 23,
    "start_time": "2023-02-16T16:05:14.356Z"
   },
   {
    "duration": 25,
    "start_time": "2023-02-16T16:05:14.720Z"
   },
   {
    "duration": 16,
    "start_time": "2023-02-16T16:05:15.184Z"
   },
   {
    "duration": 136,
    "start_time": "2023-02-16T16:05:15.413Z"
   },
   {
    "duration": 8,
    "start_time": "2023-02-16T16:05:16.234Z"
   },
   {
    "duration": 38,
    "start_time": "2023-02-16T16:05:16.642Z"
   },
   {
    "duration": 143,
    "start_time": "2023-02-16T16:05:17.056Z"
   },
   {
    "duration": 8,
    "start_time": "2023-02-16T16:05:17.441Z"
   },
   {
    "duration": 12,
    "start_time": "2023-02-16T16:05:17.831Z"
   },
   {
    "duration": 4,
    "start_time": "2023-02-16T16:05:19.798Z"
   },
   {
    "duration": 4,
    "start_time": "2023-02-16T16:05:20.745Z"
   },
   {
    "duration": 4,
    "start_time": "2023-02-16T16:05:21.676Z"
   },
   {
    "duration": 105,
    "start_time": "2023-02-16T16:05:25.588Z"
   },
   {
    "duration": 16,
    "start_time": "2023-02-16T16:06:18.818Z"
   },
   {
    "duration": 17,
    "start_time": "2023-02-16T16:06:43.488Z"
   },
   {
    "duration": 12,
    "start_time": "2023-02-16T16:07:42.256Z"
   },
   {
    "duration": 9,
    "start_time": "2023-02-16T16:07:48.368Z"
   },
   {
    "duration": 13,
    "start_time": "2023-02-16T16:08:06.387Z"
   },
   {
    "duration": 10,
    "start_time": "2023-02-16T16:09:21.163Z"
   },
   {
    "duration": 14,
    "start_time": "2023-02-16T16:09:51.846Z"
   },
   {
    "duration": 5,
    "start_time": "2023-02-16T16:10:41.666Z"
   },
   {
    "duration": 5,
    "start_time": "2023-02-16T16:10:47.007Z"
   },
   {
    "duration": 5,
    "start_time": "2023-02-16T16:10:49.903Z"
   },
   {
    "duration": 7,
    "start_time": "2023-02-16T16:11:37.331Z"
   },
   {
    "duration": 78,
    "start_time": "2023-02-16T16:11:55.403Z"
   },
   {
    "duration": 7,
    "start_time": "2023-02-16T16:12:04.146Z"
   },
   {
    "duration": 7,
    "start_time": "2023-02-16T16:12:17.347Z"
   },
   {
    "duration": 6,
    "start_time": "2023-02-16T16:12:36.055Z"
   },
   {
    "duration": 9,
    "start_time": "2023-02-16T16:18:19.752Z"
   },
   {
    "duration": 14,
    "start_time": "2023-02-16T16:18:31.805Z"
   },
   {
    "duration": 2,
    "start_time": "2023-02-16T16:20:23.767Z"
   },
   {
    "duration": 4,
    "start_time": "2023-02-16T16:32:17.609Z"
   },
   {
    "duration": 3,
    "start_time": "2023-02-16T16:35:50.575Z"
   },
   {
    "duration": 12,
    "start_time": "2023-02-16T16:37:55.601Z"
   },
   {
    "duration": 3,
    "start_time": "2023-02-16T16:38:24.427Z"
   },
   {
    "duration": 24,
    "start_time": "2023-02-16T16:38:26.572Z"
   },
   {
    "duration": 3,
    "start_time": "2023-02-16T16:41:34.585Z"
   },
   {
    "duration": 12,
    "start_time": "2023-02-16T16:41:37.952Z"
   },
   {
    "duration": 4,
    "start_time": "2023-02-16T16:50:33.569Z"
   },
   {
    "duration": 18,
    "start_time": "2023-02-16T16:50:34.203Z"
   },
   {
    "duration": 3,
    "start_time": "2023-02-16T16:50:57.684Z"
   },
   {
    "duration": 29,
    "start_time": "2023-02-16T16:50:58.289Z"
   },
   {
    "duration": 3,
    "start_time": "2023-02-16T16:51:15.137Z"
   },
   {
    "duration": 16,
    "start_time": "2023-02-16T16:51:15.764Z"
   },
   {
    "duration": 1096,
    "start_time": "2023-02-17T07:14:11.884Z"
   },
   {
    "duration": 2044,
    "start_time": "2023-02-17T07:14:13.792Z"
   },
   {
    "duration": 301,
    "start_time": "2023-02-17T07:14:15.838Z"
   },
   {
    "duration": 34,
    "start_time": "2023-02-17T07:14:17.677Z"
   },
   {
    "duration": 28,
    "start_time": "2023-02-17T07:14:19.037Z"
   },
   {
    "duration": 30,
    "start_time": "2023-02-17T07:14:19.354Z"
   },
   {
    "duration": 16,
    "start_time": "2023-02-17T07:14:20.216Z"
   },
   {
    "duration": 121,
    "start_time": "2023-02-17T07:14:20.842Z"
   },
   {
    "duration": 7,
    "start_time": "2023-02-17T07:14:23.081Z"
   },
   {
    "duration": 30,
    "start_time": "2023-02-17T07:14:24.689Z"
   },
   {
    "duration": 65,
    "start_time": "2023-02-17T07:14:25.838Z"
   },
   {
    "duration": 11,
    "start_time": "2023-02-17T07:14:27.401Z"
   },
   {
    "duration": 16,
    "start_time": "2023-02-17T07:14:28.589Z"
   },
   {
    "duration": 4,
    "start_time": "2023-02-17T07:14:32.587Z"
   },
   {
    "duration": 3,
    "start_time": "2023-02-17T07:14:33.815Z"
   },
   {
    "duration": 5,
    "start_time": "2023-02-17T07:14:35.509Z"
   },
   {
    "duration": 5,
    "start_time": "2023-02-17T07:14:40.269Z"
   },
   {
    "duration": 4,
    "start_time": "2023-02-17T07:20:23.569Z"
   },
   {
    "duration": 106,
    "start_time": "2023-02-17T07:20:24.719Z"
   },
   {
    "duration": 3,
    "start_time": "2023-02-17T07:20:46.539Z"
   },
   {
    "duration": 21,
    "start_time": "2023-02-17T07:20:47.261Z"
   },
   {
    "duration": 3,
    "start_time": "2023-02-17T07:22:12.857Z"
   },
   {
    "duration": 21,
    "start_time": "2023-02-17T07:22:13.948Z"
   },
   {
    "duration": 4,
    "start_time": "2023-02-17T07:23:15.859Z"
   },
   {
    "duration": 18,
    "start_time": "2023-02-17T07:23:16.763Z"
   },
   {
    "duration": 16,
    "start_time": "2023-02-17T07:23:41.913Z"
   },
   {
    "duration": 6,
    "start_time": "2023-02-17T07:51:10.581Z"
   },
   {
    "duration": 11,
    "start_time": "2023-02-17T07:52:37.535Z"
   },
   {
    "duration": 3,
    "start_time": "2023-02-17T07:52:51.824Z"
   },
   {
    "duration": 3,
    "start_time": "2023-02-17T07:52:52.462Z"
   },
   {
    "duration": 4,
    "start_time": "2023-02-17T07:52:52.832Z"
   },
   {
    "duration": 4,
    "start_time": "2023-02-17T07:52:54.005Z"
   },
   {
    "duration": 16,
    "start_time": "2023-02-17T07:52:55.380Z"
   },
   {
    "duration": 4,
    "start_time": "2023-02-17T07:52:58.516Z"
   },
   {
    "duration": 13,
    "start_time": "2023-02-17T07:52:59.176Z"
   },
   {
    "duration": 4,
    "start_time": "2023-02-17T07:53:46.562Z"
   },
   {
    "duration": 12,
    "start_time": "2023-02-17T07:53:47.242Z"
   },
   {
    "duration": 5,
    "start_time": "2023-02-17T07:56:43.403Z"
   },
   {
    "duration": 14,
    "start_time": "2023-02-17T07:56:44.186Z"
   },
   {
    "duration": 5,
    "start_time": "2023-02-17T07:57:15.245Z"
   },
   {
    "duration": 16,
    "start_time": "2023-02-17T07:57:15.960Z"
   },
   {
    "duration": 4,
    "start_time": "2023-02-17T07:57:28.256Z"
   },
   {
    "duration": 22,
    "start_time": "2023-02-17T07:57:28.937Z"
   },
   {
    "duration": 4,
    "start_time": "2023-02-17T07:59:29.101Z"
   },
   {
    "duration": 14,
    "start_time": "2023-02-17T07:59:29.645Z"
   },
   {
    "duration": 6,
    "start_time": "2023-02-17T08:00:22.848Z"
   },
   {
    "duration": 13,
    "start_time": "2023-02-17T08:00:23.348Z"
   },
   {
    "duration": 5,
    "start_time": "2023-02-17T08:00:52.110Z"
   },
   {
    "duration": 13,
    "start_time": "2023-02-17T08:00:52.583Z"
   },
   {
    "duration": 4,
    "start_time": "2023-02-17T08:05:23.280Z"
   },
   {
    "duration": 19,
    "start_time": "2023-02-17T08:05:26.748Z"
   },
   {
    "duration": 11,
    "start_time": "2023-02-17T08:08:18.274Z"
   },
   {
    "duration": 3,
    "start_time": "2023-02-17T08:08:48.470Z"
   },
   {
    "duration": 4,
    "start_time": "2023-02-17T08:08:54.848Z"
   },
   {
    "duration": 12,
    "start_time": "2023-02-17T08:08:57.823Z"
   },
   {
    "duration": 5,
    "start_time": "2023-02-17T08:09:19.683Z"
   },
   {
    "duration": 12,
    "start_time": "2023-02-17T08:09:21.844Z"
   },
   {
    "duration": 6,
    "start_time": "2023-02-17T08:09:59.088Z"
   },
   {
    "duration": 12,
    "start_time": "2023-02-17T08:10:01.682Z"
   },
   {
    "duration": 6,
    "start_time": "2023-02-17T08:10:24.035Z"
   },
   {
    "duration": 14,
    "start_time": "2023-02-17T08:10:26.236Z"
   },
   {
    "duration": 4,
    "start_time": "2023-02-17T08:11:09.287Z"
   },
   {
    "duration": 14,
    "start_time": "2023-02-17T08:11:20.145Z"
   },
   {
    "duration": 6,
    "start_time": "2023-02-17T08:29:41.808Z"
   },
   {
    "duration": 17,
    "start_time": "2023-02-17T08:29:44.579Z"
   },
   {
    "duration": 5,
    "start_time": "2023-02-17T08:31:06.186Z"
   },
   {
    "duration": 18,
    "start_time": "2023-02-17T08:31:08.716Z"
   },
   {
    "duration": 4,
    "start_time": "2023-02-17T08:31:18.969Z"
   },
   {
    "duration": 12,
    "start_time": "2023-02-17T08:31:21.227Z"
   },
   {
    "duration": 5,
    "start_time": "2023-02-17T08:33:27.644Z"
   },
   {
    "duration": 14,
    "start_time": "2023-02-17T08:33:30.376Z"
   },
   {
    "duration": 6,
    "start_time": "2023-02-17T08:35:39.098Z"
   },
   {
    "duration": 13,
    "start_time": "2023-02-17T08:35:41.474Z"
   },
   {
    "duration": 6,
    "start_time": "2023-02-17T08:36:46.614Z"
   },
   {
    "duration": 15,
    "start_time": "2023-02-17T08:36:48.892Z"
   },
   {
    "duration": 7,
    "start_time": "2023-02-17T08:37:09.824Z"
   },
   {
    "duration": 15,
    "start_time": "2023-02-17T08:37:12.616Z"
   },
   {
    "duration": 1070,
    "start_time": "2023-02-17T08:59:21.845Z"
   },
   {
    "duration": 3000,
    "start_time": "2023-02-17T08:59:23.452Z"
   },
   {
    "duration": 365,
    "start_time": "2023-02-17T08:59:26.454Z"
   },
   {
    "duration": 36,
    "start_time": "2023-02-17T08:59:26.821Z"
   },
   {
    "duration": 25,
    "start_time": "2023-02-17T08:59:26.859Z"
   },
   {
    "duration": 47,
    "start_time": "2023-02-17T08:59:26.886Z"
   },
   {
    "duration": 16,
    "start_time": "2023-02-17T08:59:26.934Z"
   },
   {
    "duration": 174,
    "start_time": "2023-02-17T08:59:26.952Z"
   },
   {
    "duration": 10,
    "start_time": "2023-02-17T08:59:34.821Z"
   },
   {
    "duration": 41,
    "start_time": "2023-02-17T08:59:35.490Z"
   },
   {
    "duration": 98,
    "start_time": "2023-02-17T08:59:36.217Z"
   },
   {
    "duration": 9,
    "start_time": "2023-02-17T08:59:36.718Z"
   },
   {
    "duration": 11,
    "start_time": "2023-02-17T08:59:37.246Z"
   },
   {
    "duration": 3,
    "start_time": "2023-02-17T08:59:40.122Z"
   },
   {
    "duration": 4,
    "start_time": "2023-02-17T08:59:41.058Z"
   },
   {
    "duration": 6,
    "start_time": "2023-02-17T08:59:41.922Z"
   },
   {
    "duration": 5,
    "start_time": "2023-02-17T08:59:44.374Z"
   },
   {
    "duration": 25,
    "start_time": "2023-02-17T08:59:45.097Z"
   },
   {
    "duration": 7,
    "start_time": "2023-02-17T08:59:48.426Z"
   },
   {
    "duration": 114,
    "start_time": "2023-02-17T08:59:49.486Z"
   },
   {
    "duration": 16,
    "start_time": "2023-02-17T09:00:12.896Z"
   },
   {
    "duration": 18,
    "start_time": "2023-02-17T09:00:14.376Z"
   },
   {
    "duration": 7,
    "start_time": "2023-02-17T09:00:45.088Z"
   },
   {
    "duration": 12,
    "start_time": "2023-02-17T09:00:45.564Z"
   },
   {
    "duration": 4,
    "start_time": "2023-02-17T09:01:28.415Z"
   },
   {
    "duration": 31,
    "start_time": "2023-02-17T09:01:29.083Z"
   },
   {
    "duration": 6,
    "start_time": "2023-02-17T09:02:13.422Z"
   },
   {
    "duration": 22,
    "start_time": "2023-02-17T09:02:14.064Z"
   },
   {
    "duration": 7,
    "start_time": "2023-02-17T09:06:49.613Z"
   },
   {
    "duration": 24,
    "start_time": "2023-02-17T09:06:52.052Z"
   },
   {
    "duration": 11,
    "start_time": "2023-02-17T09:12:46.408Z"
   },
   {
    "duration": 3,
    "start_time": "2023-02-17T09:13:21.942Z"
   },
   {
    "duration": 4,
    "start_time": "2023-02-17T09:13:54.520Z"
   },
   {
    "duration": 23,
    "start_time": "2023-02-17T09:14:09.338Z"
   },
   {
    "duration": 4,
    "start_time": "2023-02-17T09:24:29.891Z"
   },
   {
    "duration": 10,
    "start_time": "2023-02-17T09:24:44.573Z"
   },
   {
    "duration": 4,
    "start_time": "2023-02-17T09:24:51.526Z"
   },
   {
    "duration": 6,
    "start_time": "2023-02-17T09:26:24.565Z"
   },
   {
    "duration": 6,
    "start_time": "2023-02-17T09:26:29.711Z"
   },
   {
    "duration": 5,
    "start_time": "2023-02-17T09:28:37.992Z"
   },
   {
    "duration": 22,
    "start_time": "2023-02-17T09:28:37.998Z"
   },
   {
    "duration": 5,
    "start_time": "2023-02-17T09:29:18.125Z"
   },
   {
    "duration": 13,
    "start_time": "2023-02-17T09:29:19.915Z"
   },
   {
    "duration": 4,
    "start_time": "2023-02-17T09:34:52.732Z"
   },
   {
    "duration": 15,
    "start_time": "2023-02-17T09:34:53.736Z"
   },
   {
    "duration": 5,
    "start_time": "2023-02-17T09:42:19.489Z"
   },
   {
    "duration": 23,
    "start_time": "2023-02-17T09:43:27.288Z"
   },
   {
    "duration": 8,
    "start_time": "2023-02-17T09:43:49.618Z"
   },
   {
    "duration": 26,
    "start_time": "2023-02-17T09:43:50.168Z"
   },
   {
    "duration": 5,
    "start_time": "2023-02-17T09:45:09.278Z"
   },
   {
    "duration": 21,
    "start_time": "2023-02-17T09:45:09.859Z"
   },
   {
    "duration": 6,
    "start_time": "2023-02-17T10:02:30.559Z"
   },
   {
    "duration": 22,
    "start_time": "2023-02-17T10:02:31.393Z"
   },
   {
    "duration": 5,
    "start_time": "2023-02-17T10:53:13.309Z"
   },
   {
    "duration": 11,
    "start_time": "2023-02-17T10:53:14.624Z"
   },
   {
    "duration": 3,
    "start_time": "2023-02-17T10:53:24.722Z"
   },
   {
    "duration": 5,
    "start_time": "2023-02-17T10:53:27.680Z"
   },
   {
    "duration": 18,
    "start_time": "2023-02-17T10:53:28.653Z"
   },
   {
    "duration": 3,
    "start_time": "2023-02-17T10:55:32.137Z"
   },
   {
    "duration": 1233,
    "start_time": "2023-02-17T10:55:33.720Z"
   },
   {
    "duration": 334,
    "start_time": "2023-02-17T10:55:34.955Z"
   },
   {
    "duration": 32,
    "start_time": "2023-02-17T10:55:35.290Z"
   },
   {
    "duration": 28,
    "start_time": "2023-02-17T10:55:35.325Z"
   },
   {
    "duration": 1068,
    "start_time": "2023-02-17T10:55:46.322Z"
   },
   {
    "duration": 1106,
    "start_time": "2023-02-17T10:55:48.077Z"
   },
   {
    "duration": 357,
    "start_time": "2023-02-17T10:55:49.185Z"
   },
   {
    "duration": 35,
    "start_time": "2023-02-17T10:55:50.382Z"
   },
   {
    "duration": 25,
    "start_time": "2023-02-17T10:55:51.188Z"
   },
   {
    "duration": 25,
    "start_time": "2023-02-17T10:55:51.513Z"
   },
   {
    "duration": 16,
    "start_time": "2023-02-17T10:55:51.943Z"
   },
   {
    "duration": 116,
    "start_time": "2023-02-17T10:55:52.140Z"
   },
   {
    "duration": 7,
    "start_time": "2023-02-17T10:55:52.880Z"
   },
   {
    "duration": 33,
    "start_time": "2023-02-17T10:55:53.252Z"
   },
   {
    "duration": 108,
    "start_time": "2023-02-17T10:55:53.596Z"
   },
   {
    "duration": 10,
    "start_time": "2023-02-17T10:55:53.976Z"
   },
   {
    "duration": 13,
    "start_time": "2023-02-17T10:55:54.372Z"
   },
   {
    "duration": 3,
    "start_time": "2023-02-17T10:55:55.652Z"
   },
   {
    "duration": 3,
    "start_time": "2023-02-17T10:55:56.256Z"
   },
   {
    "duration": 4,
    "start_time": "2023-02-17T10:55:57.013Z"
   },
   {
    "duration": 4,
    "start_time": "2023-02-17T10:55:58.431Z"
   },
   {
    "duration": 15,
    "start_time": "2023-02-17T10:55:58.802Z"
   },
   {
    "duration": 5,
    "start_time": "2023-02-17T10:56:00.156Z"
   },
   {
    "duration": 115,
    "start_time": "2023-02-17T10:56:00.964Z"
   },
   {
    "duration": 6,
    "start_time": "2023-02-17T10:56:48.849Z"
   },
   {
    "duration": 11,
    "start_time": "2023-02-17T10:56:49.839Z"
   },
   {
    "duration": 5,
    "start_time": "2023-02-17T10:57:00.579Z"
   },
   {
    "duration": 14,
    "start_time": "2023-02-17T10:57:01.086Z"
   },
   {
    "duration": 7,
    "start_time": "2023-02-17T10:57:10.026Z"
   },
   {
    "duration": 14,
    "start_time": "2023-02-17T10:57:10.515Z"
   },
   {
    "duration": 6,
    "start_time": "2023-02-17T10:57:23.668Z"
   },
   {
    "duration": 19,
    "start_time": "2023-02-17T10:57:24.371Z"
   },
   {
    "duration": 8,
    "start_time": "2023-02-17T10:57:32.384Z"
   },
   {
    "duration": 20,
    "start_time": "2023-02-17T10:57:32.913Z"
   },
   {
    "duration": 5,
    "start_time": "2023-02-17T10:57:38.299Z"
   },
   {
    "duration": 16,
    "start_time": "2023-02-17T10:57:38.725Z"
   },
   {
    "duration": 6,
    "start_time": "2023-02-17T10:57:56.214Z"
   },
   {
    "duration": 18,
    "start_time": "2023-02-17T10:57:56.767Z"
   },
   {
    "duration": 5,
    "start_time": "2023-02-17T10:58:15.306Z"
   },
   {
    "duration": 11,
    "start_time": "2023-02-17T10:58:16.131Z"
   },
   {
    "duration": 5,
    "start_time": "2023-02-17T11:21:47.427Z"
   },
   {
    "duration": 12,
    "start_time": "2023-02-17T11:21:48.934Z"
   },
   {
    "duration": 4,
    "start_time": "2023-02-17T11:22:35.413Z"
   },
   {
    "duration": 6,
    "start_time": "2023-02-17T11:22:43.652Z"
   },
   {
    "duration": 6,
    "start_time": "2023-02-17T11:23:12.946Z"
   },
   {
    "duration": 6,
    "start_time": "2023-02-17T11:23:31.620Z"
   },
   {
    "duration": 21,
    "start_time": "2023-02-17T11:23:37.179Z"
   },
   {
    "duration": 5,
    "start_time": "2023-02-17T11:24:03.635Z"
   },
   {
    "duration": 6,
    "start_time": "2023-02-17T11:24:04.248Z"
   },
   {
    "duration": 5,
    "start_time": "2023-02-17T11:24:05.582Z"
   },
   {
    "duration": 13,
    "start_time": "2023-02-17T11:24:06.800Z"
   },
   {
    "duration": 7,
    "start_time": "2023-02-17T11:24:45.433Z"
   },
   {
    "duration": 14,
    "start_time": "2023-02-17T11:24:47.968Z"
   },
   {
    "duration": 6,
    "start_time": "2023-02-17T11:24:57.830Z"
   },
   {
    "duration": 5,
    "start_time": "2023-02-17T11:24:58.652Z"
   },
   {
    "duration": 14,
    "start_time": "2023-02-17T11:24:59.333Z"
   },
   {
    "duration": 5,
    "start_time": "2023-02-17T11:25:02.598Z"
   },
   {
    "duration": 6,
    "start_time": "2023-02-17T11:25:02.985Z"
   },
   {
    "duration": 5,
    "start_time": "2023-02-17T11:25:03.770Z"
   },
   {
    "duration": 5,
    "start_time": "2023-02-17T11:29:52.436Z"
   },
   {
    "duration": 13,
    "start_time": "2023-02-17T11:29:54.966Z"
   },
   {
    "duration": 5,
    "start_time": "2023-02-17T11:30:17.790Z"
   },
   {
    "duration": 21,
    "start_time": "2023-02-17T11:30:18.525Z"
   },
   {
    "duration": 5,
    "start_time": "2023-02-17T11:31:11.049Z"
   },
   {
    "duration": 20,
    "start_time": "2023-02-17T11:31:11.768Z"
   },
   {
    "duration": 8,
    "start_time": "2023-02-17T11:35:51.767Z"
   },
   {
    "duration": 36,
    "start_time": "2023-02-17T11:35:52.691Z"
   },
   {
    "duration": 12,
    "start_time": "2023-02-17T11:36:08.596Z"
   },
   {
    "duration": 27,
    "start_time": "2023-02-17T11:36:09.120Z"
   },
   {
    "duration": 5,
    "start_time": "2023-02-17T11:37:27.424Z"
   },
   {
    "duration": 105,
    "start_time": "2023-02-17T11:37:28.089Z"
   },
   {
    "duration": 7,
    "start_time": "2023-02-17T11:37:48.632Z"
   },
   {
    "duration": 39,
    "start_time": "2023-02-17T11:37:49.257Z"
   },
   {
    "duration": 6,
    "start_time": "2023-02-17T11:38:36.336Z"
   },
   {
    "duration": 25,
    "start_time": "2023-02-17T11:38:36.779Z"
   },
   {
    "duration": 8,
    "start_time": "2023-02-17T12:05:31.512Z"
   },
   {
    "duration": 13,
    "start_time": "2023-02-17T12:05:32.230Z"
   },
   {
    "duration": 41,
    "start_time": "2023-02-17T12:05:32.898Z"
   },
   {
    "duration": 15,
    "start_time": "2023-02-17T12:08:45.224Z"
   },
   {
    "duration": 1409,
    "start_time": "2023-02-17T12:09:04.521Z"
   },
   {
    "duration": 1504,
    "start_time": "2023-02-17T12:09:06.649Z"
   },
   {
    "duration": 477,
    "start_time": "2023-02-17T12:09:08.156Z"
   },
   {
    "duration": 45,
    "start_time": "2023-02-17T12:09:09.834Z"
   },
   {
    "duration": 31,
    "start_time": "2023-02-17T12:09:10.482Z"
   },
   {
    "duration": 44,
    "start_time": "2023-02-17T12:09:10.974Z"
   },
   {
    "duration": 21,
    "start_time": "2023-02-17T12:09:11.893Z"
   },
   {
    "duration": 147,
    "start_time": "2023-02-17T12:09:12.217Z"
   },
   {
    "duration": 7,
    "start_time": "2023-02-17T12:09:13.853Z"
   },
   {
    "duration": 46,
    "start_time": "2023-02-17T12:09:14.581Z"
   },
   {
    "duration": 360,
    "start_time": "2023-02-17T12:09:15.444Z"
   },
   {
    "duration": 11,
    "start_time": "2023-02-17T12:09:16.347Z"
   },
   {
    "duration": 16,
    "start_time": "2023-02-17T12:09:17.537Z"
   },
   {
    "duration": 3,
    "start_time": "2023-02-17T12:09:29.590Z"
   },
   {
    "duration": 3,
    "start_time": "2023-02-17T12:09:30.841Z"
   },
   {
    "duration": 6,
    "start_time": "2023-02-17T12:09:33.895Z"
   },
   {
    "duration": 5,
    "start_time": "2023-02-17T12:09:37.640Z"
   },
   {
    "duration": 147,
    "start_time": "2023-02-17T12:09:44.494Z"
   },
   {
    "duration": 11,
    "start_time": "2023-02-17T12:09:56.934Z"
   },
   {
    "duration": 5,
    "start_time": "2023-02-17T12:10:03.726Z"
   },
   {
    "duration": 13,
    "start_time": "2023-02-17T12:10:06.646Z"
   },
   {
    "duration": 19,
    "start_time": "2023-02-17T12:10:07.163Z"
   },
   {
    "duration": 26,
    "start_time": "2023-02-17T12:10:07.764Z"
   },
   {
    "duration": 1218,
    "start_time": "2023-02-17T14:02:49.420Z"
   },
   {
    "duration": 2649,
    "start_time": "2023-02-17T14:02:51.216Z"
   },
   {
    "duration": 384,
    "start_time": "2023-02-17T14:02:53.867Z"
   },
   {
    "duration": 39,
    "start_time": "2023-02-17T14:02:55.182Z"
   },
   {
    "duration": 40,
    "start_time": "2023-02-17T14:02:55.505Z"
   },
   {
    "duration": 37,
    "start_time": "2023-02-17T14:02:55.802Z"
   },
   {
    "duration": 22,
    "start_time": "2023-02-17T14:02:56.358Z"
   },
   {
    "duration": 175,
    "start_time": "2023-02-17T14:02:56.625Z"
   },
   {
    "duration": 9,
    "start_time": "2023-02-17T14:02:57.773Z"
   },
   {
    "duration": 41,
    "start_time": "2023-02-17T14:02:58.534Z"
   },
   {
    "duration": 51,
    "start_time": "2023-02-17T14:02:59.687Z"
   },
   {
    "duration": 11,
    "start_time": "2023-02-17T14:03:00.549Z"
   },
   {
    "duration": 12,
    "start_time": "2023-02-17T14:03:02.157Z"
   },
   {
    "duration": 4,
    "start_time": "2023-02-17T14:03:06.359Z"
   },
   {
    "duration": 5,
    "start_time": "2023-02-17T14:03:07.266Z"
   },
   {
    "duration": 7,
    "start_time": "2023-02-17T14:03:08.146Z"
   },
   {
    "duration": 4,
    "start_time": "2023-02-17T14:03:11.375Z"
   },
   {
    "duration": 17,
    "start_time": "2023-02-17T14:03:11.789Z"
   },
   {
    "duration": 6,
    "start_time": "2023-02-17T14:03:14.789Z"
   },
   {
    "duration": 127,
    "start_time": "2023-02-17T14:03:20.572Z"
   },
   {
    "duration": 6,
    "start_time": "2023-02-17T14:03:55.889Z"
   },
   {
    "duration": 16,
    "start_time": "2023-02-17T14:03:59.404Z"
   },
   {
    "duration": 19,
    "start_time": "2023-02-17T14:04:54.475Z"
   },
   {
    "duration": 19,
    "start_time": "2023-02-17T14:04:57.815Z"
   },
   {
    "duration": 5,
    "start_time": "2023-02-17T14:05:08.140Z"
   },
   {
    "duration": 18,
    "start_time": "2023-02-17T14:05:10.668Z"
   },
   {
    "duration": 1179,
    "start_time": "2023-02-17T14:55:35.342Z"
   },
   {
    "duration": 1440,
    "start_time": "2023-02-17T14:55:37.769Z"
   },
   {
    "duration": 393,
    "start_time": "2023-02-17T14:55:39.212Z"
   },
   {
    "duration": 46,
    "start_time": "2023-02-17T14:55:39.607Z"
   },
   {
    "duration": 50,
    "start_time": "2023-02-17T14:55:39.655Z"
   },
   {
    "duration": 61,
    "start_time": "2023-02-17T14:55:39.707Z"
   },
   {
    "duration": 21,
    "start_time": "2023-02-17T14:55:39.770Z"
   },
   {
    "duration": 138,
    "start_time": "2023-02-17T14:55:39.793Z"
   },
   {
    "duration": 9,
    "start_time": "2023-02-17T14:55:40.698Z"
   },
   {
    "duration": 53,
    "start_time": "2023-02-17T14:55:45.689Z"
   },
   {
    "duration": 177,
    "start_time": "2023-02-17T14:55:46.550Z"
   },
   {
    "duration": 9,
    "start_time": "2023-02-17T14:55:47.029Z"
   },
   {
    "duration": 13,
    "start_time": "2023-02-17T14:55:47.416Z"
   },
   {
    "duration": 4,
    "start_time": "2023-02-17T14:55:48.762Z"
   },
   {
    "duration": 4,
    "start_time": "2023-02-17T14:55:51.379Z"
   },
   {
    "duration": 5,
    "start_time": "2023-02-17T14:55:52.434Z"
   },
   {
    "duration": 5,
    "start_time": "2023-02-17T14:55:54.399Z"
   },
   {
    "duration": 22,
    "start_time": "2023-02-17T14:55:54.884Z"
   },
   {
    "duration": 5,
    "start_time": "2023-02-17T14:55:58.014Z"
   },
   {
    "duration": 109,
    "start_time": "2023-02-17T14:56:07.828Z"
   },
   {
    "duration": 7,
    "start_time": "2023-02-17T15:00:13.388Z"
   },
   {
    "duration": 43,
    "start_time": "2023-02-17T15:00:15.023Z"
   },
   {
    "duration": 7,
    "start_time": "2023-02-17T15:00:53.738Z"
   },
   {
    "duration": 20,
    "start_time": "2023-02-17T15:00:54.520Z"
   },
   {
    "duration": 5,
    "start_time": "2023-02-17T15:01:52.175Z"
   },
   {
    "duration": 22,
    "start_time": "2023-02-17T15:01:52.812Z"
   },
   {
    "duration": 3,
    "start_time": "2023-02-17T15:02:54.255Z"
   },
   {
    "duration": 6,
    "start_time": "2023-02-17T15:02:56.375Z"
   },
   {
    "duration": 19,
    "start_time": "2023-02-17T15:02:59.087Z"
   },
   {
    "duration": 5,
    "start_time": "2023-02-17T15:06:50.031Z"
   },
   {
    "duration": 18,
    "start_time": "2023-02-17T15:06:52.792Z"
   },
   {
    "duration": 1118,
    "start_time": "2023-02-18T10:06:54.070Z"
   },
   {
    "duration": 1160,
    "start_time": "2023-02-18T10:06:57.170Z"
   },
   {
    "duration": 273,
    "start_time": "2023-02-18T10:06:58.332Z"
   },
   {
    "duration": 35,
    "start_time": "2023-02-18T10:07:00.119Z"
   },
   {
    "duration": 25,
    "start_time": "2023-02-18T10:07:00.698Z"
   },
   {
    "duration": 27,
    "start_time": "2023-02-18T10:07:01.155Z"
   },
   {
    "duration": 16,
    "start_time": "2023-02-18T10:07:01.824Z"
   },
   {
    "duration": 107,
    "start_time": "2023-02-18T10:07:02.106Z"
   },
   {
    "duration": 7,
    "start_time": "2023-02-18T10:07:03.141Z"
   },
   {
    "duration": 33,
    "start_time": "2023-02-18T10:07:03.717Z"
   },
   {
    "duration": 151,
    "start_time": "2023-02-18T10:07:04.254Z"
   },
   {
    "duration": 9,
    "start_time": "2023-02-18T10:07:04.677Z"
   },
   {
    "duration": 11,
    "start_time": "2023-02-18T10:07:05.267Z"
   },
   {
    "duration": 3,
    "start_time": "2023-02-18T10:07:07.000Z"
   },
   {
    "duration": 3,
    "start_time": "2023-02-18T10:07:07.584Z"
   },
   {
    "duration": 4,
    "start_time": "2023-02-18T10:07:08.131Z"
   },
   {
    "duration": 3,
    "start_time": "2023-02-18T10:07:09.152Z"
   },
   {
    "duration": 15,
    "start_time": "2023-02-18T10:07:09.417Z"
   },
   {
    "duration": 4,
    "start_time": "2023-02-18T10:07:10.229Z"
   },
   {
    "duration": 1628,
    "start_time": "2023-02-18T10:07:11.460Z"
   },
   {
    "duration": 3,
    "start_time": "2023-02-18T10:07:32.576Z"
   },
   {
    "duration": 16,
    "start_time": "2023-02-18T10:07:33.098Z"
   },
   {
    "duration": 5,
    "start_time": "2023-02-18T10:08:17.744Z"
   },
   {
    "duration": 1179,
    "start_time": "2023-02-18T10:08:18.384Z"
   },
   {
    "duration": 5,
    "start_time": "2023-02-18T10:08:25.940Z"
   },
   {
    "duration": 1224,
    "start_time": "2023-02-18T10:08:26.460Z"
   },
   {
    "duration": 0,
    "start_time": "2023-02-18T10:08:27.686Z"
   },
   {
    "duration": 3,
    "start_time": "2023-02-18T10:09:42.321Z"
   },
   {
    "duration": 10,
    "start_time": "2023-02-18T10:09:49.607Z"
   },
   {
    "duration": 1264,
    "start_time": "2023-02-18T10:09:50.093Z"
   },
   {
    "duration": 28,
    "start_time": "2023-02-18T10:16:38.825Z"
   },
   {
    "duration": 28,
    "start_time": "2023-02-18T10:18:57.845Z"
   },
   {
    "duration": 15336,
    "start_time": "2023-02-18T10:32:24.890Z"
   },
   {
    "duration": 15348,
    "start_time": "2023-02-18T10:33:36.183Z"
   },
   {
    "duration": 15216,
    "start_time": "2023-02-18T10:34:01.137Z"
   },
   {
    "duration": 18,
    "start_time": "2023-02-18T10:56:21.673Z"
   },
   {
    "duration": 4,
    "start_time": "2023-02-18T10:56:43.758Z"
   },
   {
    "duration": 17,
    "start_time": "2023-02-18T10:56:49.566Z"
   },
   {
    "duration": 25,
    "start_time": "2023-02-18T10:57:14.957Z"
   },
   {
    "duration": 21,
    "start_time": "2023-02-18T10:57:20.679Z"
   },
   {
    "duration": 169,
    "start_time": "2023-02-18T10:57:24.055Z"
   },
   {
    "duration": 7,
    "start_time": "2023-02-18T10:57:26.365Z"
   },
   {
    "duration": 131,
    "start_time": "2023-02-18T10:57:29.069Z"
   },
   {
    "duration": 93,
    "start_time": "2023-02-18T11:19:58.409Z"
   },
   {
    "duration": 125,
    "start_time": "2023-02-18T11:20:06.534Z"
   },
   {
    "duration": 95,
    "start_time": "2023-02-18T11:20:17.555Z"
   },
   {
    "duration": 112,
    "start_time": "2023-02-18T11:20:50.196Z"
   },
   {
    "duration": 6,
    "start_time": "2023-02-18T11:22:04.040Z"
   },
   {
    "duration": 1208,
    "start_time": "2023-02-18T11:22:05.153Z"
   },
   {
    "duration": 113,
    "start_time": "2023-02-18T11:22:42.441Z"
   },
   {
    "duration": 106,
    "start_time": "2023-02-18T11:22:51.041Z"
   },
   {
    "duration": 102,
    "start_time": "2023-02-18T11:23:13.520Z"
   },
   {
    "duration": 5,
    "start_time": "2023-02-18T11:23:19.985Z"
   },
   {
    "duration": 1198,
    "start_time": "2023-02-18T11:23:20.755Z"
   },
   {
    "duration": 12,
    "start_time": "2023-02-18T11:24:05.462Z"
   },
   {
    "duration": 6,
    "start_time": "2023-02-18T11:24:38.473Z"
   },
   {
    "duration": 1175,
    "start_time": "2023-02-18T11:24:39.596Z"
   },
   {
    "duration": 12,
    "start_time": "2023-02-18T11:24:48.979Z"
   },
   {
    "duration": 5,
    "start_time": "2023-02-18T11:25:02.929Z"
   },
   {
    "duration": 5,
    "start_time": "2023-02-18T11:25:15.663Z"
   },
   {
    "duration": 1204,
    "start_time": "2023-02-18T11:25:16.663Z"
   },
   {
    "duration": 1211,
    "start_time": "2023-02-18T11:26:00.827Z"
   },
   {
    "duration": 1159,
    "start_time": "2023-02-18T11:26:02.788Z"
   },
   {
    "duration": 1140,
    "start_time": "2023-02-20T07:00:09.300Z"
   },
   {
    "duration": 1754,
    "start_time": "2023-02-20T07:00:21.436Z"
   },
   {
    "duration": 317,
    "start_time": "2023-02-20T07:00:23.514Z"
   },
   {
    "duration": 36,
    "start_time": "2023-02-20T07:00:27.996Z"
   },
   {
    "duration": 26,
    "start_time": "2023-02-20T07:00:28.574Z"
   },
   {
    "duration": 26,
    "start_time": "2023-02-20T07:00:29.045Z"
   },
   {
    "duration": 15205,
    "start_time": "2023-02-20T07:00:29.906Z"
   },
   {
    "duration": 20,
    "start_time": "2023-02-20T07:00:47.779Z"
   },
   {
    "duration": 126,
    "start_time": "2023-02-20T07:00:49.731Z"
   },
   {
    "duration": 8,
    "start_time": "2023-02-20T07:00:55.380Z"
   },
   {
    "duration": 46,
    "start_time": "2023-02-20T07:00:58.060Z"
   },
   {
    "duration": 29,
    "start_time": "2023-02-20T07:01:00.132Z"
   },
   {
    "duration": 208,
    "start_time": "2023-02-20T07:01:03.728Z"
   },
   {
    "duration": 9,
    "start_time": "2023-02-20T07:01:08.166Z"
   },
   {
    "duration": 13,
    "start_time": "2023-02-20T07:01:11.210Z"
   },
   {
    "duration": 140,
    "start_time": "2023-02-20T07:05:26.979Z"
   },
   {
    "duration": 38,
    "start_time": "2023-02-20T07:06:28.596Z"
   },
   {
    "duration": 9,
    "start_time": "2023-02-20T07:08:04.546Z"
   },
   {
    "duration": 28,
    "start_time": "2023-02-20T07:08:05.399Z"
   },
   {
    "duration": 25,
    "start_time": "2023-02-20T07:08:06.464Z"
   },
   {
    "duration": 198,
    "start_time": "2023-02-20T07:08:07.651Z"
   },
   {
    "duration": 10,
    "start_time": "2023-02-20T07:08:08.985Z"
   },
   {
    "duration": 13,
    "start_time": "2023-02-20T07:08:10.496Z"
   },
   {
    "duration": 30,
    "start_time": "2023-02-20T07:32:58.153Z"
   },
   {
    "duration": 16805,
    "start_time": "2023-02-20T07:32:59.683Z"
   },
   {
    "duration": 11,
    "start_time": "2023-02-20T07:40:38.177Z"
   },
   {
    "duration": 4,
    "start_time": "2023-02-20T07:40:57.514Z"
   },
   {
    "duration": 273,
    "start_time": "2023-02-20T07:41:02.757Z"
   },
   {
    "duration": 71,
    "start_time": "2023-02-20T07:41:17.926Z"
   },
   {
    "duration": 907,
    "start_time": "2023-02-20T07:41:21.495Z"
   },
   {
    "duration": 1089,
    "start_time": "2023-02-20T07:42:12.598Z"
   },
   {
    "duration": 975,
    "start_time": "2023-02-20T07:42:38.713Z"
   },
   {
    "duration": 2636,
    "start_time": "2023-02-20T07:44:42.872Z"
   },
   {
    "duration": 5374,
    "start_time": "2023-02-20T07:45:14.288Z"
   },
   {
    "duration": 2552,
    "start_time": "2023-02-20T07:45:45.727Z"
   },
   {
    "duration": 58,
    "start_time": "2023-02-20T07:46:55.557Z"
   },
   {
    "duration": 1935,
    "start_time": "2023-02-20T07:47:00.686Z"
   },
   {
    "duration": 1726,
    "start_time": "2023-02-20T07:47:22.518Z"
   },
   {
    "duration": 719,
    "start_time": "2023-02-20T07:47:44.911Z"
   },
   {
    "duration": 1722,
    "start_time": "2023-02-20T07:48:13.524Z"
   },
   {
    "duration": 69,
    "start_time": "2023-02-20T07:48:42.523Z"
   },
   {
    "duration": 5391,
    "start_time": "2023-02-20T07:48:48.974Z"
   },
   {
    "duration": 2724,
    "start_time": "2023-02-20T07:49:24.165Z"
   },
   {
    "duration": 2631,
    "start_time": "2023-02-20T07:49:53.977Z"
   },
   {
    "duration": 313,
    "start_time": "2023-02-20T07:50:48.091Z"
   },
   {
    "duration": 288,
    "start_time": "2023-02-20T07:51:07.955Z"
   },
   {
    "duration": 1151,
    "start_time": "2023-02-20T07:51:28.658Z"
   },
   {
    "duration": 176,
    "start_time": "2023-02-20T07:56:55.871Z"
   },
   {
    "duration": 9,
    "start_time": "2023-02-20T07:56:56.905Z"
   },
   {
    "duration": 16,
    "start_time": "2023-02-20T07:56:58.257Z"
   },
   {
    "duration": 95,
    "start_time": "2023-02-20T07:57:45.764Z"
   },
   {
    "duration": 77,
    "start_time": "2023-02-20T07:57:51.869Z"
   },
   {
    "duration": 10,
    "start_time": "2023-02-20T07:57:53.016Z"
   },
   {
    "duration": 17,
    "start_time": "2023-02-20T07:57:53.764Z"
   },
   {
    "duration": 20,
    "start_time": "2023-02-20T08:05:58.520Z"
   },
   {
    "duration": 31,
    "start_time": "2023-02-20T08:07:10.681Z"
   },
   {
    "duration": 179,
    "start_time": "2023-02-20T08:07:18.596Z"
   },
   {
    "duration": 9,
    "start_time": "2023-02-20T08:18:10.685Z"
   },
   {
    "duration": 23,
    "start_time": "2023-02-20T08:18:18.518Z"
   },
   {
    "duration": 9,
    "start_time": "2023-02-20T08:18:28.483Z"
   },
   {
    "duration": 5,
    "start_time": "2023-02-20T08:18:37.891Z"
   },
   {
    "duration": 9,
    "start_time": "2023-02-20T08:18:47.812Z"
   },
   {
    "duration": 9,
    "start_time": "2023-02-20T08:19:08.061Z"
   },
   {
    "duration": 13,
    "start_time": "2023-02-20T08:19:15.703Z"
   },
   {
    "duration": 15,
    "start_time": "2023-02-20T08:19:20.699Z"
   },
   {
    "duration": 10,
    "start_time": "2023-02-20T08:19:35.002Z"
   },
   {
    "duration": 4,
    "start_time": "2023-02-20T08:19:44.568Z"
   },
   {
    "duration": 10,
    "start_time": "2023-02-20T08:19:48.724Z"
   },
   {
    "duration": 21,
    "start_time": "2023-02-20T08:21:03.525Z"
   },
   {
    "duration": 34,
    "start_time": "2023-02-20T08:21:23.415Z"
   },
   {
    "duration": 21,
    "start_time": "2023-02-20T08:21:44.513Z"
   },
   {
    "duration": 12,
    "start_time": "2023-02-20T08:21:51.368Z"
   },
   {
    "duration": 23,
    "start_time": "2023-02-20T08:22:44.321Z"
   },
   {
    "duration": 10,
    "start_time": "2023-02-20T08:46:40.477Z"
   },
   {
    "duration": 14,
    "start_time": "2023-02-20T08:46:41.275Z"
   },
   {
    "duration": 3,
    "start_time": "2023-02-20T08:46:54.409Z"
   },
   {
    "duration": 3,
    "start_time": "2023-02-20T08:46:55.164Z"
   },
   {
    "duration": 5,
    "start_time": "2023-02-20T08:46:55.676Z"
   },
   {
    "duration": 267,
    "start_time": "2023-02-20T08:46:55.933Z"
   },
   {
    "duration": 5,
    "start_time": "2023-02-20T08:47:14.457Z"
   },
   {
    "duration": 276,
    "start_time": "2023-02-20T08:47:15.099Z"
   },
   {
    "duration": 10,
    "start_time": "2023-02-20T08:47:16.844Z"
   },
   {
    "duration": 18,
    "start_time": "2023-02-20T08:47:17.469Z"
   },
   {
    "duration": 6,
    "start_time": "2023-02-20T08:47:19.009Z"
   },
   {
    "duration": 1418,
    "start_time": "2023-02-20T08:47:19.581Z"
   },
   {
    "duration": 8,
    "start_time": "2023-02-20T08:47:42.622Z"
   },
   {
    "duration": 1363,
    "start_time": "2023-02-20T08:47:43.122Z"
   },
   {
    "duration": 1337,
    "start_time": "2023-02-20T08:47:47.879Z"
   },
   {
    "duration": 1397,
    "start_time": "2023-02-20T08:47:49.218Z"
   },
   {
    "duration": 4,
    "start_time": "2023-02-20T08:50:19.472Z"
   },
   {
    "duration": 298,
    "start_time": "2023-02-20T08:50:20.278Z"
   },
   {
    "duration": 23,
    "start_time": "2023-02-20T08:50:30.722Z"
   },
   {
    "duration": 289,
    "start_time": "2023-02-20T08:51:10.901Z"
   },
   {
    "duration": 63,
    "start_time": "2023-02-20T08:52:13.500Z"
   },
   {
    "duration": 297,
    "start_time": "2023-02-20T08:52:26.773Z"
   },
   {
    "duration": 15,
    "start_time": "2023-02-20T08:52:34.508Z"
   },
   {
    "duration": 250,
    "start_time": "2023-02-20T08:52:35.156Z"
   },
   {
    "duration": 379,
    "start_time": "2023-02-20T08:53:09.284Z"
   },
   {
    "duration": 5,
    "start_time": "2023-02-20T08:54:08.372Z"
   },
   {
    "duration": 1397,
    "start_time": "2023-02-20T08:54:08.912Z"
   },
   {
    "duration": 1402,
    "start_time": "2023-02-20T08:54:11.178Z"
   },
   {
    "duration": 1482,
    "start_time": "2023-02-20T08:54:13.423Z"
   },
   {
    "duration": 6,
    "start_time": "2023-02-20T08:55:01.268Z"
   },
   {
    "duration": 1340,
    "start_time": "2023-02-20T08:55:02.184Z"
   },
   {
    "duration": 1423,
    "start_time": "2023-02-20T08:55:06.202Z"
   },
   {
    "duration": 1407,
    "start_time": "2023-02-20T08:55:09.059Z"
   },
   {
    "duration": 7,
    "start_time": "2023-02-20T08:55:31.143Z"
   },
   {
    "duration": 1343,
    "start_time": "2023-02-20T08:55:32.576Z"
   },
   {
    "duration": 1305,
    "start_time": "2023-02-20T08:55:35.235Z"
   },
   {
    "duration": 1302,
    "start_time": "2023-02-20T08:55:37.684Z"
   },
   {
    "duration": 7,
    "start_time": "2023-02-20T08:57:18.153Z"
   },
   {
    "duration": 1306,
    "start_time": "2023-02-20T08:57:18.724Z"
   },
   {
    "duration": 5,
    "start_time": "2023-02-20T08:57:28.380Z"
   },
   {
    "duration": 1466,
    "start_time": "2023-02-20T08:57:29.221Z"
   },
   {
    "duration": 1328,
    "start_time": "2023-02-20T08:57:31.689Z"
   },
   {
    "duration": 1569,
    "start_time": "2023-02-20T08:57:34.102Z"
   },
   {
    "duration": 3926,
    "start_time": "2023-02-20T09:01:20.914Z"
   },
   {
    "duration": 4,
    "start_time": "2023-02-20T09:02:31.719Z"
   },
   {
    "duration": 9,
    "start_time": "2023-02-20T09:02:42.303Z"
   },
   {
    "duration": 9,
    "start_time": "2023-02-20T09:03:28.055Z"
   },
   {
    "duration": 1262,
    "start_time": "2023-02-20T09:04:18.876Z"
   },
   {
    "duration": 1356,
    "start_time": "2023-02-20T09:04:20.143Z"
   },
   {
    "duration": 1352,
    "start_time": "2023-02-20T09:04:24.303Z"
   },
   {
    "duration": 6,
    "start_time": "2023-02-20T09:05:16.980Z"
   },
   {
    "duration": 1326,
    "start_time": "2023-02-20T09:05:18.152Z"
   },
   {
    "duration": 1350,
    "start_time": "2023-02-20T09:05:21.704Z"
   },
   {
    "duration": 1264,
    "start_time": "2023-02-20T09:05:24.584Z"
   },
   {
    "duration": 6,
    "start_time": "2023-02-20T09:05:35.993Z"
   },
   {
    "duration": 1276,
    "start_time": "2023-02-20T09:05:37.317Z"
   },
   {
    "duration": 1367,
    "start_time": "2023-02-20T09:06:04.875Z"
   },
   {
    "duration": 1332,
    "start_time": "2023-02-20T09:06:06.254Z"
   },
   {
    "duration": 1368,
    "start_time": "2023-02-20T09:06:07.588Z"
   },
   {
    "duration": 1564,
    "start_time": "2023-02-20T10:57:38.022Z"
   },
   {
    "duration": 1371,
    "start_time": "2023-02-20T10:57:39.589Z"
   },
   {
    "duration": 308,
    "start_time": "2023-02-20T10:57:40.962Z"
   },
   {
    "duration": 29,
    "start_time": "2023-02-20T10:57:42.555Z"
   },
   {
    "duration": 23,
    "start_time": "2023-02-20T10:57:43.337Z"
   },
   {
    "duration": 22,
    "start_time": "2023-02-20T10:57:43.665Z"
   },
   {
    "duration": 39,
    "start_time": "2023-02-20T10:57:44.174Z"
   },
   {
    "duration": 919,
    "start_time": "2023-02-20T10:57:44.397Z"
   },
   {
    "duration": 15,
    "start_time": "2023-02-20T10:57:45.318Z"
   },
   {
    "duration": 106,
    "start_time": "2023-02-20T10:57:45.656Z"
   },
   {
    "duration": 12,
    "start_time": "2023-02-20T10:57:46.297Z"
   },
   {
    "duration": 7,
    "start_time": "2023-02-20T10:57:48.399Z"
   },
   {
    "duration": 96,
    "start_time": "2023-02-20T10:57:49.461Z"
   },
   {
    "duration": 35,
    "start_time": "2023-02-20T10:57:50.425Z"
   },
   {
    "duration": 246,
    "start_time": "2023-02-20T10:57:51.513Z"
   },
   {
    "duration": 8,
    "start_time": "2023-02-20T10:57:57.145Z"
   },
   {
    "duration": 12,
    "start_time": "2023-02-20T10:57:58.129Z"
   },
   {
    "duration": 3,
    "start_time": "2023-02-20T10:58:08.459Z"
   },
   {
    "duration": 4,
    "start_time": "2023-02-20T10:58:09.361Z"
   },
   {
    "duration": 5,
    "start_time": "2023-02-20T10:58:10.167Z"
   },
   {
    "duration": 4,
    "start_time": "2023-02-20T10:58:11.665Z"
   },
   {
    "duration": 15,
    "start_time": "2023-02-20T10:58:12.029Z"
   },
   {
    "duration": 6,
    "start_time": "2023-02-20T10:58:13.129Z"
   },
   {
    "duration": 1181,
    "start_time": "2023-02-20T10:58:13.489Z"
   },
   {
    "duration": 1091,
    "start_time": "2023-02-20T10:58:14.672Z"
   },
   {
    "duration": 1026,
    "start_time": "2023-02-20T10:58:15.765Z"
   },
   {
    "duration": 6,
    "start_time": "2023-02-20T11:07:04.955Z"
   },
   {
    "duration": 1057,
    "start_time": "2023-02-20T11:07:05.595Z"
   },
   {
    "duration": 1020,
    "start_time": "2023-02-20T11:07:07.694Z"
   },
   {
    "duration": 1057,
    "start_time": "2023-02-20T11:07:09.450Z"
   },
   {
    "duration": 6,
    "start_time": "2023-02-20T11:07:16.736Z"
   },
   {
    "duration": 1049,
    "start_time": "2023-02-20T11:07:19.038Z"
   },
   {
    "duration": 1083,
    "start_time": "2023-02-20T11:07:22.132Z"
   },
   {
    "duration": 1071,
    "start_time": "2023-02-20T11:07:23.863Z"
   },
   {
    "duration": 7,
    "start_time": "2023-02-20T11:07:35.299Z"
   },
   {
    "duration": 1071,
    "start_time": "2023-02-20T11:07:35.802Z"
   },
   {
    "duration": 1115,
    "start_time": "2023-02-20T11:07:36.875Z"
   },
   {
    "duration": 1028,
    "start_time": "2023-02-20T11:07:37.991Z"
   },
   {
    "duration": 120,
    "start_time": "2023-02-20T11:12:51.962Z"
   },
   {
    "duration": 4,
    "start_time": "2023-02-20T11:13:06.368Z"
   },
   {
    "duration": 1329,
    "start_time": "2023-02-20T11:30:10.409Z"
   },
   {
    "duration": 873,
    "start_time": "2023-02-20T11:30:11.740Z"
   },
   {
    "duration": 279,
    "start_time": "2023-02-20T11:30:12.615Z"
   },
   {
    "duration": 30,
    "start_time": "2023-02-20T11:30:12.897Z"
   },
   {
    "duration": 37,
    "start_time": "2023-02-20T11:30:12.929Z"
   },
   {
    "duration": 26,
    "start_time": "2023-02-20T11:30:12.968Z"
   },
   {
    "duration": 26,
    "start_time": "2023-02-20T11:30:12.996Z"
   },
   {
    "duration": 846,
    "start_time": "2023-02-20T11:30:13.024Z"
   },
   {
    "duration": 15,
    "start_time": "2023-02-20T11:30:13.872Z"
   },
   {
    "duration": 126,
    "start_time": "2023-02-20T11:30:13.889Z"
   },
   {
    "duration": 12,
    "start_time": "2023-02-20T11:30:14.016Z"
   },
   {
    "duration": 18,
    "start_time": "2023-02-20T11:30:14.030Z"
   },
   {
    "duration": 49,
    "start_time": "2023-02-20T11:30:14.049Z"
   },
   {
    "duration": 27,
    "start_time": "2023-02-20T11:30:14.099Z"
   },
   {
    "duration": 229,
    "start_time": "2023-02-20T11:30:14.128Z"
   },
   {
    "duration": 97,
    "start_time": "2023-02-20T11:30:14.359Z"
   },
   {
    "duration": 112,
    "start_time": "2023-02-20T11:30:14.458Z"
   },
   {
    "duration": 42,
    "start_time": "2023-02-20T11:30:14.571Z"
   },
   {
    "duration": 42,
    "start_time": "2023-02-20T11:30:14.615Z"
   },
   {
    "duration": 16,
    "start_time": "2023-02-20T11:30:14.659Z"
   },
   {
    "duration": 19,
    "start_time": "2023-02-20T11:30:14.677Z"
   },
   {
    "duration": 24,
    "start_time": "2023-02-20T11:30:14.697Z"
   },
   {
    "duration": 126,
    "start_time": "2023-02-20T11:30:14.723Z"
   },
   {
    "duration": 0,
    "start_time": "2023-02-20T11:30:14.850Z"
   },
   {
    "duration": 0,
    "start_time": "2023-02-20T11:30:14.851Z"
   },
   {
    "duration": 0,
    "start_time": "2023-02-20T11:30:14.852Z"
   },
   {
    "duration": 0,
    "start_time": "2023-02-20T11:30:14.853Z"
   },
   {
    "duration": 4,
    "start_time": "2023-02-20T11:30:33.160Z"
   },
   {
    "duration": 17,
    "start_time": "2023-02-20T11:30:34.354Z"
   },
   {
    "duration": 3,
    "start_time": "2023-02-20T11:30:58.451Z"
   },
   {
    "duration": 19,
    "start_time": "2023-02-20T11:30:59.474Z"
   },
   {
    "duration": 4,
    "start_time": "2023-02-20T11:32:33.047Z"
   },
   {
    "duration": 15,
    "start_time": "2023-02-20T11:32:33.731Z"
   },
   {
    "duration": 4,
    "start_time": "2023-02-20T11:32:44.683Z"
   },
   {
    "duration": 15,
    "start_time": "2023-02-20T11:32:47.825Z"
   },
   {
    "duration": 14,
    "start_time": "2023-02-20T11:34:03.795Z"
   },
   {
    "duration": 3,
    "start_time": "2023-02-20T11:34:25.760Z"
   },
   {
    "duration": 15,
    "start_time": "2023-02-20T11:34:26.455Z"
   },
   {
    "duration": 74,
    "start_time": "2023-02-20T11:34:42.059Z"
   },
   {
    "duration": 95,
    "start_time": "2023-02-20T11:34:49.845Z"
   },
   {
    "duration": 11,
    "start_time": "2023-02-20T11:34:58.533Z"
   },
   {
    "duration": 4,
    "start_time": "2023-02-20T11:35:13.253Z"
   },
   {
    "duration": 19,
    "start_time": "2023-02-20T11:35:15.887Z"
   },
   {
    "duration": 3,
    "start_time": "2023-02-20T11:35:37.388Z"
   },
   {
    "duration": 16,
    "start_time": "2023-02-20T11:35:42.272Z"
   },
   {
    "duration": 15,
    "start_time": "2023-02-20T11:36:04.279Z"
   },
   {
    "duration": 144,
    "start_time": "2023-02-20T11:36:12.680Z"
   },
   {
    "duration": 73,
    "start_time": "2023-02-20T11:36:16.085Z"
   },
   {
    "duration": 10,
    "start_time": "2023-02-20T11:36:20.426Z"
   },
   {
    "duration": 16,
    "start_time": "2023-02-20T11:36:36.498Z"
   },
   {
    "duration": 3,
    "start_time": "2023-02-20T11:37:06.599Z"
   },
   {
    "duration": 16,
    "start_time": "2023-02-20T11:37:07.251Z"
   },
   {
    "duration": 77,
    "start_time": "2023-02-20T11:37:20.192Z"
   },
   {
    "duration": 7,
    "start_time": "2023-02-20T11:37:35.012Z"
   },
   {
    "duration": 15,
    "start_time": "2023-02-20T11:37:35.976Z"
   },
   {
    "duration": 4,
    "start_time": "2023-02-20T11:39:08.024Z"
   },
   {
    "duration": 14,
    "start_time": "2023-02-20T11:39:11.496Z"
   },
   {
    "duration": 4,
    "start_time": "2023-02-20T11:39:37.588Z"
   },
   {
    "duration": 15,
    "start_time": "2023-02-20T11:39:38.817Z"
   },
   {
    "duration": 5,
    "start_time": "2023-02-20T11:41:37.636Z"
   },
   {
    "duration": 1635,
    "start_time": "2023-02-20T11:41:39.597Z"
   },
   {
    "duration": 4,
    "start_time": "2023-02-20T11:44:03.809Z"
   },
   {
    "duration": 15,
    "start_time": "2023-02-20T11:44:04.646Z"
   },
   {
    "duration": 15,
    "start_time": "2023-02-20T11:44:31.158Z"
   },
   {
    "duration": 14,
    "start_time": "2023-02-20T11:45:00.671Z"
   },
   {
    "duration": 21,
    "start_time": "2023-02-20T11:45:34.417Z"
   },
   {
    "duration": 15,
    "start_time": "2023-02-20T11:45:47.750Z"
   },
   {
    "duration": 5,
    "start_time": "2023-02-20T11:45:52.558Z"
   },
   {
    "duration": 1134,
    "start_time": "2023-02-20T11:45:52.880Z"
   },
   {
    "duration": 1179,
    "start_time": "2023-02-20T11:45:54.052Z"
   },
   {
    "duration": 1136,
    "start_time": "2023-02-20T11:45:55.472Z"
   },
   {
    "duration": 16,
    "start_time": "2023-02-20T12:04:12.437Z"
   },
   {
    "duration": 4,
    "start_time": "2023-02-20T12:29:06.292Z"
   },
   {
    "duration": 1346,
    "start_time": "2023-02-20T12:29:13.286Z"
   },
   {
    "duration": 1799,
    "start_time": "2023-02-20T12:29:15.461Z"
   },
   {
    "duration": 304,
    "start_time": "2023-02-20T12:29:17.263Z"
   },
   {
    "duration": 29,
    "start_time": "2023-02-20T12:29:18.953Z"
   },
   {
    "duration": 24,
    "start_time": "2023-02-20T12:29:19.562Z"
   },
   {
    "duration": 26,
    "start_time": "2023-02-20T12:29:20.014Z"
   },
   {
    "duration": 28,
    "start_time": "2023-02-20T12:29:20.752Z"
   },
   {
    "duration": 915,
    "start_time": "2023-02-20T12:29:21.229Z"
   },
   {
    "duration": 17,
    "start_time": "2023-02-20T12:29:22.286Z"
   },
   {
    "duration": 127,
    "start_time": "2023-02-20T12:29:23.633Z"
   },
   {
    "duration": 12,
    "start_time": "2023-02-20T12:29:24.910Z"
   },
   {
    "duration": 9,
    "start_time": "2023-02-20T12:30:22.292Z"
   },
   {
    "duration": 30,
    "start_time": "2023-02-20T12:30:24.305Z"
   },
   {
    "duration": 26,
    "start_time": "2023-02-20T12:30:25.238Z"
   },
   {
    "duration": 101,
    "start_time": "2023-02-20T12:30:26.355Z"
   },
   {
    "duration": 8,
    "start_time": "2023-02-20T12:30:28.159Z"
   },
   {
    "duration": 13,
    "start_time": "2023-02-20T12:30:30.125Z"
   },
   {
    "duration": 4,
    "start_time": "2023-02-20T12:32:05.897Z"
   },
   {
    "duration": 3,
    "start_time": "2023-02-20T12:32:07.851Z"
   },
   {
    "duration": 3,
    "start_time": "2023-02-20T12:32:08.657Z"
   },
   {
    "duration": 4,
    "start_time": "2023-02-20T12:32:10.275Z"
   },
   {
    "duration": 4,
    "start_time": "2023-02-20T12:32:27.408Z"
   },
   {
    "duration": 3,
    "start_time": "2023-02-20T12:32:28.931Z"
   },
   {
    "duration": 3,
    "start_time": "2023-02-20T12:32:28.950Z"
   },
   {
    "duration": 4,
    "start_time": "2023-02-20T12:32:30.216Z"
   },
   {
    "duration": 3,
    "start_time": "2023-02-20T12:33:07.063Z"
   },
   {
    "duration": 16,
    "start_time": "2023-02-20T12:33:08.051Z"
   },
   {
    "duration": 3,
    "start_time": "2023-02-20T12:33:24.046Z"
   },
   {
    "duration": 16,
    "start_time": "2023-02-20T12:33:25.775Z"
   },
   {
    "duration": 112,
    "start_time": "2023-02-20T12:34:20.541Z"
   },
   {
    "duration": 4,
    "start_time": "2023-02-20T12:35:02.854Z"
   },
   {
    "duration": 1302,
    "start_time": "2023-02-20T12:35:03.682Z"
   },
   {
    "duration": 1300,
    "start_time": "2023-02-20T12:35:07.780Z"
   },
   {
    "duration": 1252,
    "start_time": "2023-02-20T12:35:09.714Z"
   },
   {
    "duration": 4,
    "start_time": "2023-02-20T12:35:30.095Z"
   },
   {
    "duration": 5,
    "start_time": "2023-02-20T12:35:36.344Z"
   },
   {
    "duration": 1087,
    "start_time": "2023-02-20T12:35:37.305Z"
   },
   {
    "duration": 1076,
    "start_time": "2023-02-20T12:35:39.165Z"
   },
   {
    "duration": 1035,
    "start_time": "2023-02-20T12:35:40.737Z"
   },
   {
    "duration": 3067,
    "start_time": "2023-02-20T15:28:15.969Z"
   },
   {
    "duration": 594,
    "start_time": "2023-02-20T15:28:23.046Z"
   }
  ],
  "kernelspec": {
   "display_name": "Python 3 (ipykernel)",
   "language": "python",
   "name": "python3"
  },
  "language_info": {
   "codemirror_mode": {
    "name": "ipython",
    "version": 3
   },
   "file_extension": ".py",
   "mimetype": "text/x-python",
   "name": "python",
   "nbconvert_exporter": "python",
   "pygments_lexer": "ipython3",
   "version": "3.9.13"
  },
  "toc": {
   "base_numbering": 1,
   "nav_menu": {},
   "number_sections": true,
   "sideBar": true,
   "skip_h1_title": true,
   "title_cell": "Table of Contents",
   "title_sidebar": "Contents",
   "toc_cell": false,
   "toc_position": {
    "height": "calc(100% - 180px)",
    "left": "10px",
    "top": "150px",
    "width": "165px"
   },
   "toc_section_display": true,
   "toc_window_display": false
  }
 },
 "nbformat": 4,
 "nbformat_minor": 4
}
