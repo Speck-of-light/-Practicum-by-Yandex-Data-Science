{
 "cells": [
  {
   "cell_type": "markdown",
   "metadata": {
    "toc": true
   },
   "source": [
    "<h1>Содержание<span class=\"tocSkip\"></span></h1>\n",
    "<div class=\"toc\"><ul class=\"toc-item\"><li><span><a href=\"#Подготовка\" data-toc-modified-id=\"Подготовка-1\"><span class=\"toc-item-num\">1&nbsp;&nbsp;</span>Подготовка</a></span></li><li><span><a href=\"#Обучение\" data-toc-modified-id=\"Обучение-2\"><span class=\"toc-item-num\">2&nbsp;&nbsp;</span>Обучение</a></span><ul class=\"toc-item\"><li><span><a href=\"#Продожлим-исследование-без-учета-дисбаланса-классов\" data-toc-modified-id=\"Продожлим-исследование-без-учета-дисбаланса-классов-2.1\"><span class=\"toc-item-num\">2.1&nbsp;&nbsp;</span>Продожлим исследование без учета дисбаланса классов</a></span><ul class=\"toc-item\"><li><span><a href=\"#LogisticRegression\" data-toc-modified-id=\"LogisticRegression-2.1.1\"><span class=\"toc-item-num\">2.1.1&nbsp;&nbsp;</span>LogisticRegression</a></span></li><li><span><a href=\"#DecisionTreeClassifier\" data-toc-modified-id=\"DecisionTreeClassifier-2.1.2\"><span class=\"toc-item-num\">2.1.2&nbsp;&nbsp;</span>DecisionTreeClassifier</a></span></li><li><span><a href=\"#CatBoost-Classifier\" data-toc-modified-id=\"CatBoost-Classifier-2.1.3\"><span class=\"toc-item-num\">2.1.3&nbsp;&nbsp;</span>CatBoost Classifier</a></span></li></ul></li><li><span><a href=\"#Проверим-на-тестовой-выборке-модель-показавшую-лучший-результат-F1-с-лучшими-гипперпараметрами.\" data-toc-modified-id=\"Проверим-на-тестовой-выборке-модель-показавшую-лучший-результат-F1-с-лучшими-гипперпараметрами.-2.2\"><span class=\"toc-item-num\">2.2&nbsp;&nbsp;</span>Проверим на тестовой выборке модель показавшую лучший результат F1 с лучшими гипперпараметрами.</a></span></li></ul></li><li><span><a href=\"#Выводы\" data-toc-modified-id=\"Выводы-3\"><span class=\"toc-item-num\">3&nbsp;&nbsp;</span>Выводы</a></span></li><li><span><a href=\"#Чек-лист-проверки\" data-toc-modified-id=\"Чек-лист-проверки-4\"><span class=\"toc-item-num\">4&nbsp;&nbsp;</span>Чек-лист проверки</a></span></li></ul></div>"
   ]
  },
  {
   "cell_type": "markdown",
   "metadata": {},
   "source": [
    "# Проект для «Викишоп»"
   ]
  },
  {
   "cell_type": "markdown",
   "metadata": {},
   "source": [
    "Интернет-магазин «Викишоп» запускает новый сервис. Теперь пользователи могут редактировать и дополнять описания товаров, как в вики-сообществах. То есть клиенты предлагают свои правки и комментируют изменения других. Магазину нужен инструмент, который будет искать токсичные комментарии и отправлять их на модерацию. \n",
    "\n",
    "Обучите модель классифицировать комментарии на позитивные и негативные. В вашем распоряжении набор данных с разметкой о токсичности правок.\n",
    "\n",
    "Постройте модель со значением метрики качества *F1* не меньше 0.75. \n",
    "\n",
    "**Инструкция по выполнению проекта**\n",
    "\n",
    "1. Загрузите и подготовьте данные.\n",
    "2. Обучите разные модели. \n",
    "3. Сделайте выводы.\n",
    "\n",
    "\n",
    "\n",
    "**Описание данных**\n",
    "\n",
    "Данные находятся в файле `toxic_comments.csv`. Столбец *text* в нём содержит текст комментария, а *toxic* — целевой признак."
   ]
  },
  {
   "cell_type": "markdown",
   "metadata": {},
   "source": [
    "## Подготовка"
   ]
  },
  {
   "cell_type": "code",
   "execution_count": 1,
   "metadata": {},
   "outputs": [
    {
     "name": "stderr",
     "output_type": "stream",
     "text": [
      "[nltk_data] Downloading package stopwords to /home/jovyan/nltk_data...\n",
      "[nltk_data]   Package stopwords is already up-to-date!\n"
     ]
    }
   ],
   "source": [
    "import matplotlib.pyplot as plt\n",
    "import pandas as pd\n",
    "import numpy as np\n",
    "import seaborn as sns\n",
    "import time\n",
    "import re\n",
    "\n",
    "import warnings\n",
    "warnings.filterwarnings('ignore')\n",
    "\n",
    "import nltk\n",
    "#from nltk.stem import WordNetLemmatizer\n",
    "import spacy\n",
    "from nltk.corpus import stopwords\n",
    "nltk.download('stopwords')\n",
    "\n",
    "from sklearn.model_selection import train_test_split, GridSearchCV\n",
    "from sklearn.metrics import plot_confusion_matrix , f1_score, make_scorer\n",
    "\n",
    "from sklearn.feature_extraction.text import TfidfVectorizer\n",
    "from sklearn.linear_model import LogisticRegression\n",
    "from sklearn.tree import DecisionTreeClassifier\n",
    "from sklearn.dummy import DummyClassifier\n",
    "\n",
    "from catboost import CatBoostClassifier\n",
    "\n",
    "from tqdm.notebook import tqdm\n",
    "tqdm.pandas()\n",
    "\n",
    "from sklearn.pipeline import Pipeline"
   ]
  },
  {
   "cell_type": "code",
   "execution_count": 2,
   "metadata": {},
   "outputs": [],
   "source": [
    "# загрузим датасеты\n",
    "try:\n",
    "    data_toxic=pd.read_csv('/datasets/toxic_comments.csv')\n",
    "except:\n",
    "    data_toxic=pd.read_csv('https://code.s3.yandex.net//datasets//toxic_comments.csv')"
   ]
  },
  {
   "cell_type": "code",
   "execution_count": 3,
   "metadata": {},
   "outputs": [
    {
     "data": {
      "text/html": [
       "<div>\n",
       "<style scoped>\n",
       "    .dataframe tbody tr th:only-of-type {\n",
       "        vertical-align: middle;\n",
       "    }\n",
       "\n",
       "    .dataframe tbody tr th {\n",
       "        vertical-align: top;\n",
       "    }\n",
       "\n",
       "    .dataframe thead th {\n",
       "        text-align: right;\n",
       "    }\n",
       "</style>\n",
       "<table border=\"1\" class=\"dataframe\">\n",
       "  <thead>\n",
       "    <tr style=\"text-align: right;\">\n",
       "      <th></th>\n",
       "      <th>Unnamed: 0</th>\n",
       "      <th>text</th>\n",
       "      <th>toxic</th>\n",
       "    </tr>\n",
       "  </thead>\n",
       "  <tbody>\n",
       "    <tr>\n",
       "      <th>0</th>\n",
       "      <td>0</td>\n",
       "      <td>Explanation\\nWhy the edits made under my usern...</td>\n",
       "      <td>0</td>\n",
       "    </tr>\n",
       "    <tr>\n",
       "      <th>1</th>\n",
       "      <td>1</td>\n",
       "      <td>D'aww! He matches this background colour I'm s...</td>\n",
       "      <td>0</td>\n",
       "    </tr>\n",
       "    <tr>\n",
       "      <th>2</th>\n",
       "      <td>2</td>\n",
       "      <td>Hey man, I'm really not trying to edit war. It...</td>\n",
       "      <td>0</td>\n",
       "    </tr>\n",
       "    <tr>\n",
       "      <th>3</th>\n",
       "      <td>3</td>\n",
       "      <td>\"\\nMore\\nI can't make any real suggestions on ...</td>\n",
       "      <td>0</td>\n",
       "    </tr>\n",
       "    <tr>\n",
       "      <th>4</th>\n",
       "      <td>4</td>\n",
       "      <td>You, sir, are my hero. Any chance you remember...</td>\n",
       "      <td>0</td>\n",
       "    </tr>\n",
       "  </tbody>\n",
       "</table>\n",
       "</div>"
      ],
      "text/plain": [
       "   Unnamed: 0                                               text  toxic\n",
       "0           0  Explanation\\nWhy the edits made under my usern...      0\n",
       "1           1  D'aww! He matches this background colour I'm s...      0\n",
       "2           2  Hey man, I'm really not trying to edit war. It...      0\n",
       "3           3  \"\\nMore\\nI can't make any real suggestions on ...      0\n",
       "4           4  You, sir, are my hero. Any chance you remember...      0"
      ]
     },
     "execution_count": 3,
     "metadata": {},
     "output_type": "execute_result"
    }
   ],
   "source": [
    "data_toxic.head()"
   ]
  },
  {
   "cell_type": "code",
   "execution_count": 4,
   "metadata": {},
   "outputs": [
    {
     "name": "stdout",
     "output_type": "stream",
     "text": [
      "<class 'pandas.core.frame.DataFrame'>\n",
      "RangeIndex: 159292 entries, 0 to 159291\n",
      "Data columns (total 3 columns):\n",
      " #   Column      Non-Null Count   Dtype \n",
      "---  ------      --------------   ----- \n",
      " 0   Unnamed: 0  159292 non-null  int64 \n",
      " 1   text        159292 non-null  object\n",
      " 2   toxic       159292 non-null  int64 \n",
      "dtypes: int64(2), object(1)\n",
      "memory usage: 3.6+ MB\n"
     ]
    }
   ],
   "source": [
    "data_toxic.info()"
   ]
  },
  {
   "cell_type": "code",
   "execution_count": 5,
   "metadata": {},
   "outputs": [
    {
     "data": {
      "text/html": [
       "<div>\n",
       "<style scoped>\n",
       "    .dataframe tbody tr th:only-of-type {\n",
       "        vertical-align: middle;\n",
       "    }\n",
       "\n",
       "    .dataframe tbody tr th {\n",
       "        vertical-align: top;\n",
       "    }\n",
       "\n",
       "    .dataframe thead th {\n",
       "        text-align: right;\n",
       "    }\n",
       "</style>\n",
       "<table border=\"1\" class=\"dataframe\">\n",
       "  <thead>\n",
       "    <tr style=\"text-align: right;\">\n",
       "      <th></th>\n",
       "      <th>Unnamed: 0</th>\n",
       "      <th>text</th>\n",
       "      <th>toxic</th>\n",
       "    </tr>\n",
       "  </thead>\n",
       "  <tbody>\n",
       "    <tr>\n",
       "      <th>count</th>\n",
       "      <td>159292.000000</td>\n",
       "      <td>159292</td>\n",
       "      <td>159292.000000</td>\n",
       "    </tr>\n",
       "    <tr>\n",
       "      <th>unique</th>\n",
       "      <td>NaN</td>\n",
       "      <td>159292</td>\n",
       "      <td>NaN</td>\n",
       "    </tr>\n",
       "    <tr>\n",
       "      <th>top</th>\n",
       "      <td>NaN</td>\n",
       "      <td>RIP \\n\\nThe wikipedia community has lost one o...</td>\n",
       "      <td>NaN</td>\n",
       "    </tr>\n",
       "    <tr>\n",
       "      <th>freq</th>\n",
       "      <td>NaN</td>\n",
       "      <td>1</td>\n",
       "      <td>NaN</td>\n",
       "    </tr>\n",
       "    <tr>\n",
       "      <th>mean</th>\n",
       "      <td>79725.697242</td>\n",
       "      <td>NaN</td>\n",
       "      <td>0.101612</td>\n",
       "    </tr>\n",
       "    <tr>\n",
       "      <th>std</th>\n",
       "      <td>46028.837471</td>\n",
       "      <td>NaN</td>\n",
       "      <td>0.302139</td>\n",
       "    </tr>\n",
       "    <tr>\n",
       "      <th>min</th>\n",
       "      <td>0.000000</td>\n",
       "      <td>NaN</td>\n",
       "      <td>0.000000</td>\n",
       "    </tr>\n",
       "    <tr>\n",
       "      <th>25%</th>\n",
       "      <td>39872.750000</td>\n",
       "      <td>NaN</td>\n",
       "      <td>0.000000</td>\n",
       "    </tr>\n",
       "    <tr>\n",
       "      <th>50%</th>\n",
       "      <td>79721.500000</td>\n",
       "      <td>NaN</td>\n",
       "      <td>0.000000</td>\n",
       "    </tr>\n",
       "    <tr>\n",
       "      <th>75%</th>\n",
       "      <td>119573.250000</td>\n",
       "      <td>NaN</td>\n",
       "      <td>0.000000</td>\n",
       "    </tr>\n",
       "    <tr>\n",
       "      <th>max</th>\n",
       "      <td>159450.000000</td>\n",
       "      <td>NaN</td>\n",
       "      <td>1.000000</td>\n",
       "    </tr>\n",
       "  </tbody>\n",
       "</table>\n",
       "</div>"
      ],
      "text/plain": [
       "           Unnamed: 0                                               text  \\\n",
       "count   159292.000000                                             159292   \n",
       "unique            NaN                                             159292   \n",
       "top               NaN  RIP \\n\\nThe wikipedia community has lost one o...   \n",
       "freq              NaN                                                  1   \n",
       "mean     79725.697242                                                NaN   \n",
       "std      46028.837471                                                NaN   \n",
       "min          0.000000                                                NaN   \n",
       "25%      39872.750000                                                NaN   \n",
       "50%      79721.500000                                                NaN   \n",
       "75%     119573.250000                                                NaN   \n",
       "max     159450.000000                                                NaN   \n",
       "\n",
       "                toxic  \n",
       "count   159292.000000  \n",
       "unique            NaN  \n",
       "top               NaN  \n",
       "freq              NaN  \n",
       "mean         0.101612  \n",
       "std          0.302139  \n",
       "min          0.000000  \n",
       "25%          0.000000  \n",
       "50%          0.000000  \n",
       "75%          0.000000  \n",
       "max          1.000000  "
      ]
     },
     "execution_count": 5,
     "metadata": {},
     "output_type": "execute_result"
    }
   ],
   "source": [
    "data_toxic.describe(include='all')"
   ]
  },
  {
   "cell_type": "markdown",
   "metadata": {},
   "source": [
    "Можно было предположить, что столбец Unnamed: 0 соответсвует индексам, но при рассмотрении выяснилось, что нумерация в нем не последовательна. Принято решение его удалить."
   ]
  },
  {
   "cell_type": "code",
   "execution_count": 6,
   "metadata": {},
   "outputs": [
    {
     "data": {
      "text/html": [
       "<div>\n",
       "<style scoped>\n",
       "    .dataframe tbody tr th:only-of-type {\n",
       "        vertical-align: middle;\n",
       "    }\n",
       "\n",
       "    .dataframe tbody tr th {\n",
       "        vertical-align: top;\n",
       "    }\n",
       "\n",
       "    .dataframe thead th {\n",
       "        text-align: right;\n",
       "    }\n",
       "</style>\n",
       "<table border=\"1\" class=\"dataframe\">\n",
       "  <thead>\n",
       "    <tr style=\"text-align: right;\">\n",
       "      <th></th>\n",
       "      <th>Unnamed: 0</th>\n",
       "      <th>text</th>\n",
       "      <th>toxic</th>\n",
       "    </tr>\n",
       "  </thead>\n",
       "  <tbody>\n",
       "  </tbody>\n",
       "</table>\n",
       "</div>"
      ],
      "text/plain": [
       "Empty DataFrame\n",
       "Columns: [Unnamed: 0, text, toxic]\n",
       "Index: []"
      ]
     },
     "execution_count": 6,
     "metadata": {},
     "output_type": "execute_result"
    }
   ],
   "source": [
    "data_toxic[data_toxic['Unnamed: 0'].duplicated(keep=False)]"
   ]
  },
  {
   "cell_type": "code",
   "execution_count": 7,
   "metadata": {},
   "outputs": [],
   "source": [
    "data_toxic = data_toxic.drop(['Unnamed: 0'], axis=1)"
   ]
  },
  {
   "cell_type": "code",
   "execution_count": 8,
   "metadata": {},
   "outputs": [
    {
     "data": {
      "text/plain": [
       "0"
      ]
     },
     "execution_count": 8,
     "metadata": {},
     "output_type": "execute_result"
    }
   ],
   "source": [
    "data_toxic.duplicated().sum()"
   ]
  },
  {
   "cell_type": "code",
   "execution_count": 9,
   "metadata": {},
   "outputs": [
    {
     "data": {
      "text/plain": [
       "0    143106\n",
       "1     16186\n",
       "Name: toxic, dtype: int64"
      ]
     },
     "execution_count": 9,
     "metadata": {},
     "output_type": "execute_result"
    }
   ],
   "source": [
    "data_toxic['toxic'].value_counts()"
   ]
  },
  {
   "cell_type": "markdown",
   "metadata": {},
   "source": [
    "Лематизируем текст"
   ]
  },
  {
   "cell_type": "code",
   "execution_count": 10,
   "metadata": {},
   "outputs": [
    {
     "data": {
      "text/html": [
       "<div>\n",
       "<style scoped>\n",
       "    .dataframe tbody tr th:only-of-type {\n",
       "        vertical-align: middle;\n",
       "    }\n",
       "\n",
       "    .dataframe tbody tr th {\n",
       "        vertical-align: top;\n",
       "    }\n",
       "\n",
       "    .dataframe thead th {\n",
       "        text-align: right;\n",
       "    }\n",
       "</style>\n",
       "<table border=\"1\" class=\"dataframe\">\n",
       "  <thead>\n",
       "    <tr style=\"text-align: right;\">\n",
       "      <th></th>\n",
       "      <th>text</th>\n",
       "      <th>toxic</th>\n",
       "      <th>cleared_text</th>\n",
       "    </tr>\n",
       "  </thead>\n",
       "  <tbody>\n",
       "    <tr>\n",
       "      <th>0</th>\n",
       "      <td>Explanation\\nWhy the edits made under my usern...</td>\n",
       "      <td>0</td>\n",
       "      <td>[explanation, why, the, edits, made, under, my...</td>\n",
       "    </tr>\n",
       "    <tr>\n",
       "      <th>1</th>\n",
       "      <td>D'aww! He matches this background colour I'm s...</td>\n",
       "      <td>0</td>\n",
       "      <td>[d, aww, he, matches, this, background, colour...</td>\n",
       "    </tr>\n",
       "    <tr>\n",
       "      <th>2</th>\n",
       "      <td>Hey man, I'm really not trying to edit war. It...</td>\n",
       "      <td>0</td>\n",
       "      <td>[hey, man, i, m, really, not, trying, to, edit...</td>\n",
       "    </tr>\n",
       "    <tr>\n",
       "      <th>3</th>\n",
       "      <td>\"\\nMore\\nI can't make any real suggestions on ...</td>\n",
       "      <td>0</td>\n",
       "      <td>[more, i, can, t, make, any, real, suggestions...</td>\n",
       "    </tr>\n",
       "    <tr>\n",
       "      <th>4</th>\n",
       "      <td>You, sir, are my hero. Any chance you remember...</td>\n",
       "      <td>0</td>\n",
       "      <td>[you, sir, are, my, hero, any, chance, you, re...</td>\n",
       "    </tr>\n",
       "  </tbody>\n",
       "</table>\n",
       "</div>"
      ],
      "text/plain": [
       "                                                text  toxic  \\\n",
       "0  Explanation\\nWhy the edits made under my usern...      0   \n",
       "1  D'aww! He matches this background colour I'm s...      0   \n",
       "2  Hey man, I'm really not trying to edit war. It...      0   \n",
       "3  \"\\nMore\\nI can't make any real suggestions on ...      0   \n",
       "4  You, sir, are my hero. Any chance you remember...      0   \n",
       "\n",
       "                                        cleared_text  \n",
       "0  [explanation, why, the, edits, made, under, my...  \n",
       "1  [d, aww, he, matches, this, background, colour...  \n",
       "2  [hey, man, i, m, really, not, trying, to, edit...  \n",
       "3  [more, i, can, t, make, any, real, suggestions...  \n",
       "4  [you, sir, are, my, hero, any, chance, you, re...  "
      ]
     },
     "execution_count": 10,
     "metadata": {},
     "output_type": "execute_result"
    }
   ],
   "source": [
    "# создадим функцию для очистки текста и приведения его к нижнему регистру\n",
    "def clear_text(text):\n",
    "    text = text.lower()\n",
    "    cleared_text = re.sub(r'[^a-zA-Z]', ' ', text)\n",
    "    split_cleared_text = cleared_text.split()\n",
    "    return split_cleared_text\n",
    "data_toxic['cleared_text'] = data_toxic['text'].apply(clear_text)\n",
    "data_toxic.head()"
   ]
  },
  {
   "cell_type": "markdown",
   "metadata": {},
   "source": [
    "Укажем стоп-слова. В работу возьмем те слова которые не находятся в списке стоп-слов"
   ]
  },
  {
   "cell_type": "code",
   "execution_count": 11,
   "metadata": {},
   "outputs": [
    {
     "data": {
      "text/html": [
       "<div>\n",
       "<style scoped>\n",
       "    .dataframe tbody tr th:only-of-type {\n",
       "        vertical-align: middle;\n",
       "    }\n",
       "\n",
       "    .dataframe tbody tr th {\n",
       "        vertical-align: top;\n",
       "    }\n",
       "\n",
       "    .dataframe thead th {\n",
       "        text-align: right;\n",
       "    }\n",
       "</style>\n",
       "<table border=\"1\" class=\"dataframe\">\n",
       "  <thead>\n",
       "    <tr style=\"text-align: right;\">\n",
       "      <th></th>\n",
       "      <th>text</th>\n",
       "      <th>toxic</th>\n",
       "      <th>cleared_text</th>\n",
       "      <th>non_stop_text</th>\n",
       "    </tr>\n",
       "  </thead>\n",
       "  <tbody>\n",
       "    <tr>\n",
       "      <th>0</th>\n",
       "      <td>Explanation\\nWhy the edits made under my usern...</td>\n",
       "      <td>0</td>\n",
       "      <td>[explanation, why, the, edits, made, under, my...</td>\n",
       "      <td>[explanation, edits, made, username, hardcore,...</td>\n",
       "    </tr>\n",
       "    <tr>\n",
       "      <th>1</th>\n",
       "      <td>D'aww! He matches this background colour I'm s...</td>\n",
       "      <td>0</td>\n",
       "      <td>[d, aww, he, matches, this, background, colour...</td>\n",
       "      <td>[aww, matches, background, colour, seemingly, ...</td>\n",
       "    </tr>\n",
       "    <tr>\n",
       "      <th>2</th>\n",
       "      <td>Hey man, I'm really not trying to edit war. It...</td>\n",
       "      <td>0</td>\n",
       "      <td>[hey, man, i, m, really, not, trying, to, edit...</td>\n",
       "      <td>[hey, man, really, trying, edit, war, guy, con...</td>\n",
       "    </tr>\n",
       "    <tr>\n",
       "      <th>3</th>\n",
       "      <td>\"\\nMore\\nI can't make any real suggestions on ...</td>\n",
       "      <td>0</td>\n",
       "      <td>[more, i, can, t, make, any, real, suggestions...</td>\n",
       "      <td>[make, real, suggestions, improvement, wondere...</td>\n",
       "    </tr>\n",
       "    <tr>\n",
       "      <th>4</th>\n",
       "      <td>You, sir, are my hero. Any chance you remember...</td>\n",
       "      <td>0</td>\n",
       "      <td>[you, sir, are, my, hero, any, chance, you, re...</td>\n",
       "      <td>[sir, hero, chance, remember, page]</td>\n",
       "    </tr>\n",
       "  </tbody>\n",
       "</table>\n",
       "</div>"
      ],
      "text/plain": [
       "                                                text  toxic  \\\n",
       "0  Explanation\\nWhy the edits made under my usern...      0   \n",
       "1  D'aww! He matches this background colour I'm s...      0   \n",
       "2  Hey man, I'm really not trying to edit war. It...      0   \n",
       "3  \"\\nMore\\nI can't make any real suggestions on ...      0   \n",
       "4  You, sir, are my hero. Any chance you remember...      0   \n",
       "\n",
       "                                        cleared_text  \\\n",
       "0  [explanation, why, the, edits, made, under, my...   \n",
       "1  [d, aww, he, matches, this, background, colour...   \n",
       "2  [hey, man, i, m, really, not, trying, to, edit...   \n",
       "3  [more, i, can, t, make, any, real, suggestions...   \n",
       "4  [you, sir, are, my, hero, any, chance, you, re...   \n",
       "\n",
       "                                       non_stop_text  \n",
       "0  [explanation, edits, made, username, hardcore,...  \n",
       "1  [aww, matches, background, colour, seemingly, ...  \n",
       "2  [hey, man, really, trying, edit, war, guy, con...  \n",
       "3  [make, real, suggestions, improvement, wondere...  \n",
       "4                [sir, hero, chance, remember, page]  "
      ]
     },
     "execution_count": 11,
     "metadata": {},
     "output_type": "execute_result"
    }
   ],
   "source": [
    "stop_words = set(stopwords.words('english')) \n",
    "data_toxic['non_stop_text'] = data_toxic['cleared_text'].map(lambda x: [word for word in x if word not in stop_words])\n",
    "data_toxic.head()"
   ]
  },
  {
   "cell_type": "code",
   "execution_count": 12,
   "metadata": {},
   "outputs": [],
   "source": [
    "#удалим столбцы предварительной обработки\n",
    "data_toxic = data_toxic.drop(['text','cleared_text'], axis=1)"
   ]
  },
  {
   "cell_type": "code",
   "execution_count": 14,
   "metadata": {},
   "outputs": [
    {
     "data": {
      "application/vnd.jupyter.widget-view+json": {
       "model_id": "df146bd551a747389dbf14554d38dc4c",
       "version_major": 2,
       "version_minor": 0
      },
      "text/plain": [
       "  0%|          | 0/159292 [00:00<?, ?it/s]"
      ]
     },
     "metadata": {},
     "output_type": "display_data"
    },
    {
     "name": "stdout",
     "output_type": "stream",
     "text": [
      "0         explanation edit make username hardcore metall...\n",
      "1         aww match background colour seemingly stick th...\n",
      "2         hey man really try edit war guy constantly rem...\n",
      "3         make real suggestion improvement wonder sectio...\n",
      "4                             sir hero chance remember page\n",
      "                                ...                        \n",
      "159287    second time ask view completely contradict cov...\n",
      "159288                 ashamed horrible thing put talk page\n",
      "159289    spitzer umm there s actual article prostitutio...\n",
      "159290    look like actually put speedy first version de...\n",
      "159291    really think understand come idea bad right aw...\n",
      "Name: lemmatized, Length: 159292, dtype: object\n"
     ]
    }
   ],
   "source": [
    "import spacy\n",
    "\n",
    "nlp = spacy.load(\"en_core_web_sm\")\n",
    "\n",
    "# функция для лемматизации текста\n",
    "def lemmatize_text(text):\n",
    "    text_str = ' '.join(text)  # преобразуем список в строку\n",
    "    doc = nlp(text_str)\n",
    "    lemm_text = \" \".join([token.lemma_ for token in doc])\n",
    "    return lemm_text\n",
    "\n",
    "\n",
    "# лемматизируем столбец 'non_stop_text' и сохраняем результат в новый столбец 'lemmatized'\n",
    "data_toxic['lemmatized'] = data_toxic['non_stop_text'].progress_apply(lemmatize_text)\n",
    "\n",
    "print(data_toxic['lemmatized'])  # выводим результат."
   ]
  },
  {
   "cell_type": "code",
   "execution_count": null,
   "metadata": {},
   "outputs": [],
   "source": [
    "# устала каждый раз лемматизировать\n",
    "data_toxic.to_csv('data_toxic.csv')\n",
    "#data_toxic= pd.read_csv('data_toxic.csv')"
   ]
  },
  {
   "cell_type": "code",
   "execution_count": 41,
   "metadata": {},
   "outputs": [
    {
     "data": {
      "text/html": [
       "<div>\n",
       "<style scoped>\n",
       "    .dataframe tbody tr th:only-of-type {\n",
       "        vertical-align: middle;\n",
       "    }\n",
       "\n",
       "    .dataframe tbody tr th {\n",
       "        vertical-align: top;\n",
       "    }\n",
       "\n",
       "    .dataframe thead th {\n",
       "        text-align: right;\n",
       "    }\n",
       "</style>\n",
       "<table border=\"1\" class=\"dataframe\">\n",
       "  <thead>\n",
       "    <tr style=\"text-align: right;\">\n",
       "      <th></th>\n",
       "      <th>toxic</th>\n",
       "      <th>non_stop_text</th>\n",
       "      <th>lemmatized</th>\n",
       "    </tr>\n",
       "  </thead>\n",
       "  <tbody>\n",
       "    <tr>\n",
       "      <th>0</th>\n",
       "      <td>0</td>\n",
       "      <td>[explanation, edits, made, username, hardcore,...</td>\n",
       "      <td>explanation edit make username hardcore metall...</td>\n",
       "    </tr>\n",
       "    <tr>\n",
       "      <th>1</th>\n",
       "      <td>0</td>\n",
       "      <td>[aww, matches, background, colour, seemingly, ...</td>\n",
       "      <td>aww match background colour seemingly stick th...</td>\n",
       "    </tr>\n",
       "    <tr>\n",
       "      <th>2</th>\n",
       "      <td>0</td>\n",
       "      <td>[hey, man, really, trying, edit, war, guy, con...</td>\n",
       "      <td>hey man really try edit war guy constantly rem...</td>\n",
       "    </tr>\n",
       "    <tr>\n",
       "      <th>3</th>\n",
       "      <td>0</td>\n",
       "      <td>[make, real, suggestions, improvement, wondere...</td>\n",
       "      <td>make real suggestion improvement wonder sectio...</td>\n",
       "    </tr>\n",
       "    <tr>\n",
       "      <th>4</th>\n",
       "      <td>0</td>\n",
       "      <td>[sir, hero, chance, remember, page]</td>\n",
       "      <td>sir hero chance remember page</td>\n",
       "    </tr>\n",
       "    <tr>\n",
       "      <th>...</th>\n",
       "      <td>...</td>\n",
       "      <td>...</td>\n",
       "      <td>...</td>\n",
       "    </tr>\n",
       "    <tr>\n",
       "      <th>159287</th>\n",
       "      <td>0</td>\n",
       "      <td>[second, time, asking, view, completely, contr...</td>\n",
       "      <td>second time ask view completely contradict cov...</td>\n",
       "    </tr>\n",
       "    <tr>\n",
       "      <th>159288</th>\n",
       "      <td>0</td>\n",
       "      <td>[ashamed, horrible, thing, put, talk, page]</td>\n",
       "      <td>ashamed horrible thing put talk page</td>\n",
       "    </tr>\n",
       "    <tr>\n",
       "      <th>159289</th>\n",
       "      <td>0</td>\n",
       "      <td>[spitzer, umm, theres, actual, article, prosti...</td>\n",
       "      <td>spitzer umm there s actual article prostitutio...</td>\n",
       "    </tr>\n",
       "    <tr>\n",
       "      <th>159290</th>\n",
       "      <td>0</td>\n",
       "      <td>[looks, like, actually, put, speedy, first, ve...</td>\n",
       "      <td>look like actually put speedy first version de...</td>\n",
       "    </tr>\n",
       "    <tr>\n",
       "      <th>159291</th>\n",
       "      <td>0</td>\n",
       "      <td>[really, think, understand, came, idea, bad, r...</td>\n",
       "      <td>really think understand come idea bad right aw...</td>\n",
       "    </tr>\n",
       "  </tbody>\n",
       "</table>\n",
       "<p>159231 rows × 3 columns</p>\n",
       "</div>"
      ],
      "text/plain": [
       "        toxic                                      non_stop_text  \\\n",
       "0           0  [explanation, edits, made, username, hardcore,...   \n",
       "1           0  [aww, matches, background, colour, seemingly, ...   \n",
       "2           0  [hey, man, really, trying, edit, war, guy, con...   \n",
       "3           0  [make, real, suggestions, improvement, wondere...   \n",
       "4           0                [sir, hero, chance, remember, page]   \n",
       "...       ...                                                ...   \n",
       "159287      0  [second, time, asking, view, completely, contr...   \n",
       "159288      0        [ashamed, horrible, thing, put, talk, page]   \n",
       "159289      0  [spitzer, umm, theres, actual, article, prosti...   \n",
       "159290      0  [looks, like, actually, put, speedy, first, ve...   \n",
       "159291      0  [really, think, understand, came, idea, bad, r...   \n",
       "\n",
       "                                               lemmatized  \n",
       "0       explanation edit make username hardcore metall...  \n",
       "1       aww match background colour seemingly stick th...  \n",
       "2       hey man really try edit war guy constantly rem...  \n",
       "3       make real suggestion improvement wonder sectio...  \n",
       "4                           sir hero chance remember page  \n",
       "...                                                   ...  \n",
       "159287  second time ask view completely contradict cov...  \n",
       "159288               ashamed horrible thing put talk page  \n",
       "159289  spitzer umm there s actual article prostitutio...  \n",
       "159290  look like actually put speedy first version de...  \n",
       "159291  really think understand come idea bad right aw...  \n",
       "\n",
       "[159231 rows x 3 columns]"
      ]
     },
     "execution_count": 41,
     "metadata": {},
     "output_type": "execute_result"
    }
   ],
   "source": [
    "data_toxic"
   ]
  },
  {
   "cell_type": "markdown",
   "metadata": {},
   "source": [
    "Проверим текст на длинну строк и удалим пустые"
   ]
  },
  {
   "cell_type": "code",
   "execution_count": 42,
   "metadata": {},
   "outputs": [],
   "source": [
    "# удалим пустые строки\n",
    "data_toxic['lemmatized'].replace(r'^\\s*$', np.nan, regex=True, inplace=True)\n",
    "result = data_toxic[data_toxic['lemmatized'].isna()]\n",
    "data_toxic = data_toxic.drop(result.index)"
   ]
  },
  {
   "cell_type": "code",
   "execution_count": 43,
   "metadata": {},
   "outputs": [
    {
     "name": "stdout",
     "output_type": "stream",
     "text": [
      "toxic            0\n",
      "non_stop_text    0\n",
      "lemmatized       0\n",
      "dtype: int64\n"
     ]
    }
   ],
   "source": [
    "print(data_toxic.isna().sum())"
   ]
  },
  {
   "cell_type": "markdown",
   "metadata": {},
   "source": [
    "Разбиение данных на выборки\n",
    "\n",
    "Разделим исходные данные на три выборки: обучающую (60%), валидационную (20%) и тестовую (20%)."
   ]
  },
  {
   "cell_type": "code",
   "execution_count": 44,
   "metadata": {},
   "outputs": [],
   "source": [
    "STATE = 123"
   ]
  },
  {
   "cell_type": "code",
   "execution_count": 45,
   "metadata": {},
   "outputs": [],
   "source": [
    "target = data_toxic['toxic']\n",
    "features = data_toxic['lemmatized']"
   ]
  },
  {
   "cell_type": "code",
   "execution_count": 46,
   "metadata": {},
   "outputs": [],
   "source": [
    "features_train, features_test, target_train, target_test = train_test_split(features, \n",
    "                                                                              target, \n",
    "                                                                              train_size=0.90, \n",
    "                                                                              test_size=0.10, \n",
    "                                                                              random_state=STATE)"
   ]
  },
  {
   "cell_type": "code",
   "execution_count": 47,
   "metadata": {},
   "outputs": [
    {
     "name": "stdout",
     "output_type": "stream",
     "text": [
      "(143307,)\n",
      "(15924,)\n",
      "(143307,)\n",
      "(15924,)\n"
     ]
    }
   ],
   "source": [
    "# оценим размеры\n",
    "for _ in [features_train,features_test, target_train,target_test]:\n",
    "    print(_.shape)\n"
   ]
  },
  {
   "cell_type": "code",
   "execution_count": 48,
   "metadata": {},
   "outputs": [
    {
     "data": {
      "image/png": "[encoded data removed]",
      "text/plain": [
       "<Figure size 396x396 with 1 Axes>"
      ]
     },
     "metadata": {},
     "output_type": "display_data"
    }
   ],
   "source": [
    "#Проверим распределение класов в тренировочной выборке.\n",
    "\n",
    "target_train.value_counts(normalize=True).plot(kind='pie',figsize=[5.5,5.5], \n",
    "                                               legend=False, autopct='%1.1f%%',\n",
    "                                               labels=['Отзыв не токсичный, класс [0]',\n",
    "                                                       'Отзыв токсичный, класс [1]'])\n",
    "plt.title('Баланс распределения классов в тренировочной выборке')\n",
    "plt.ylabel('')\n",
    "plt.show()"
   ]
  },
  {
   "cell_type": "markdown",
   "metadata": {},
   "source": [
    "Явный дисбаланс классов. Учтем это при постороении моделей и используем class_weight= 'balanced'"
   ]
  },
  {
   "cell_type": "markdown",
   "metadata": {},
   "source": [
    "Переведем тексты в векторный формат с помощью TF-IDF меры. В этой модели вес некоторого слова пропорционален частоте употребления этого слова в документе и обратно пропорционален частоте употребления слова во всех документах коллекции"
   ]
  },
  {
   "cell_type": "markdown",
   "metadata": {},
   "source": [
    "## Обучение"
   ]
  },
  {
   "cell_type": "code",
   "execution_count": 49,
   "metadata": {},
   "outputs": [],
   "source": [
    "# для обощения результатов\n",
    "results = []"
   ]
  },
  {
   "cell_type": "code",
   "execution_count": 50,
   "metadata": {},
   "outputs": [],
   "source": [
    "# функция для постороения матрицы ошибок \n",
    "def matrix(model, test, target):\n",
    "    fig, ax = plt.subplots(figsize=(6,6)) \n",
    "    plot_confusion_matrix(model, test, target, cmap=plt.cm.OrRd, ax=ax);"
   ]
  },
  {
   "cell_type": "code",
   "execution_count": 51,
   "metadata": {},
   "outputs": [],
   "source": [
    "# функция для вычисления  F1:\n",
    "def F1(target, predicted):\n",
    "    return f1_score(target, predicted) "
   ]
  },
  {
   "cell_type": "code",
   "execution_count": 52,
   "metadata": {},
   "outputs": [],
   "source": [
    "score = make_scorer(F1, greater_is_better = True) \n",
    "CV = 5"
   ]
  },
  {
   "cell_type": "markdown",
   "metadata": {},
   "source": [
    "### Продожлим исследование без учета дисбаланса классов"
   ]
  },
  {
   "cell_type": "markdown",
   "metadata": {},
   "source": [
    "#### LogisticRegression"
   ]
  },
  {
   "cell_type": "code",
   "execution_count": 53,
   "metadata": {},
   "outputs": [],
   "source": [
    "pipeline_lr = Pipeline([\n",
    "    ('tf_idf', TfidfVectorizer()),\n",
    "    ('model_lr', LogisticRegression(random_state=STATE))\n",
    "])"
   ]
  },
  {
   "cell_type": "code",
   "execution_count": 54,
   "metadata": {},
   "outputs": [],
   "source": [
    "param_grid_lr = {\n",
    "    'model_lr__C': [4,10],\n",
    "    'model_lr__class_weight': ['balanced', None]\n",
    "}"
   ]
  },
  {
   "cell_type": "code",
   "execution_count": 55,
   "metadata": {},
   "outputs": [],
   "source": [
    "grid_search_lr = GridSearchCV(estimator=pipeline_lr, param_grid=param_grid_lr,cv=CV,scoring= score)"
   ]
  },
  {
   "cell_type": "code",
   "execution_count": 56,
   "metadata": {},
   "outputs": [
    {
     "data": {
      "text/plain": [
       "GridSearchCV(cv=5,\n",
       "             estimator=Pipeline(steps=[('tf_idf', TfidfVectorizer()),\n",
       "                                       ('model_lr',\n",
       "                                        LogisticRegression(random_state=123))]),\n",
       "             param_grid={'model_lr__C': [4, 10],\n",
       "                         'model_lr__class_weight': ['balanced', None]},\n",
       "             scoring='f1')"
      ]
     },
     "execution_count": 56,
     "metadata": {},
     "output_type": "execute_result"
    }
   ],
   "source": [
    "%%time\n",
    "grid_search_lr.fit(features_train, target_train)"
   ]
  },
  {
   "cell_type": "code",
   "execution_count": 62,
   "metadata": {},
   "outputs": [
    {
     "data": {
      "text/html": [
       "<div>\n",
       "<style scoped>\n",
       "    .dataframe tbody tr th:only-of-type {\n",
       "        vertical-align: middle;\n",
       "    }\n",
       "\n",
       "    .dataframe tbody tr th {\n",
       "        vertical-align: top;\n",
       "    }\n",
       "\n",
       "    .dataframe thead th {\n",
       "        text-align: right;\n",
       "    }\n",
       "</style>\n",
       "<table border=\"1\" class=\"dataframe\">\n",
       "  <thead>\n",
       "    <tr style=\"text-align: right;\">\n",
       "      <th></th>\n",
       "      <th>Модель</th>\n",
       "      <th>Параметры</th>\n",
       "      <th>F1</th>\n",
       "    </tr>\n",
       "  </thead>\n",
       "  <tbody>\n",
       "    <tr>\n",
       "      <th>0</th>\n",
       "      <td>LogisticRegression</td>\n",
       "      <td>{'model_lr__C': 10, 'model_lr__class_weight': ...</td>\n",
       "      <td>(1, 2)</td>\n",
       "    </tr>\n",
       "    <tr>\n",
       "      <th>1</th>\n",
       "      <td>LogisticRegression</td>\n",
       "      <td>{'model_lr__C': 10, 'model_lr__class_weight': ...</td>\n",
       "      <td>0.779292</td>\n",
       "    </tr>\n",
       "  </tbody>\n",
       "</table>\n",
       "</div>"
      ],
      "text/plain": [
       "               Модель                                          Параметры  \\\n",
       "0  LogisticRegression  {'model_lr__C': 10, 'model_lr__class_weight': ...   \n",
       "1  LogisticRegression  {'model_lr__C': 10, 'model_lr__class_weight': ...   \n",
       "\n",
       "         F1  \n",
       "0    (1, 2)  \n",
       "1  0.779292  "
      ]
     },
     "execution_count": 62,
     "metadata": {},
     "output_type": "execute_result"
    }
   ],
   "source": [
    "results.append({'Модель': 'LogisticRegression', \n",
    "                'Параметры':grid_search_lr.best_params_, \n",
    "                'F1': grid_search_lr.best_score_})\n",
    "\n",
    "pd.DataFrame(results)"
   ]
  },
  {
   "cell_type": "markdown",
   "metadata": {},
   "source": [
    "#### DecisionTreeClassifier"
   ]
  },
  {
   "cell_type": "code",
   "execution_count": 63,
   "metadata": {},
   "outputs": [],
   "source": [
    "# зададим параметры для моделей\n",
    "parameters_dt = {'model_dt__max_depth':[100,150,200]}\n",
    "                #'model_dt__class_weight':['balanced']}\n"
   ]
  },
  {
   "cell_type": "code",
   "execution_count": 64,
   "metadata": {},
   "outputs": [],
   "source": [
    "pipeline_dt = Pipeline([\n",
    "    ('tf_idf', TfidfVectorizer()),\n",
    "    ('model_dt', DecisionTreeClassifier(random_state=STATE, class_weight = 'balanced'))\n",
    "])"
   ]
  },
  {
   "cell_type": "code",
   "execution_count": 65,
   "metadata": {},
   "outputs": [],
   "source": [
    "gs_dt = GridSearchCV(pipeline_dt, parameters_dt, scoring= score, cv=CV)"
   ]
  },
  {
   "cell_type": "code",
   "execution_count": 66,
   "metadata": {},
   "outputs": [
    {
     "name": "stdout",
     "output_type": "stream",
     "text": [
      "CPU times: user 19min 14s, sys: 984 ms, total: 19min 15s\n",
      "Wall time: 19min 16s\n"
     ]
    },
    {
     "data": {
      "text/plain": [
       "GridSearchCV(cv=5,\n",
       "             estimator=Pipeline(steps=[('tf_idf', TfidfVectorizer()),\n",
       "                                       ('model_dt',\n",
       "                                        DecisionTreeClassifier(class_weight='balanced',\n",
       "                                                               random_state=123))]),\n",
       "             param_grid={'model_dt__max_depth': [100, 150, 200]},\n",
       "             scoring=make_scorer(F1))"
      ]
     },
     "execution_count": 66,
     "metadata": {},
     "output_type": "execute_result"
    }
   ],
   "source": [
    "%%time\n",
    "gs_dt.fit(features_train, target_train)    "
   ]
  },
  {
   "cell_type": "code",
   "execution_count": 67,
   "metadata": {
    "scrolled": true
   },
   "outputs": [
    {
     "data": {
      "text/html": [
       "<div>\n",
       "<style scoped>\n",
       "    .dataframe tbody tr th:only-of-type {\n",
       "        vertical-align: middle;\n",
       "    }\n",
       "\n",
       "    .dataframe tbody tr th {\n",
       "        vertical-align: top;\n",
       "    }\n",
       "\n",
       "    .dataframe thead th {\n",
       "        text-align: right;\n",
       "    }\n",
       "</style>\n",
       "<table border=\"1\" class=\"dataframe\">\n",
       "  <thead>\n",
       "    <tr style=\"text-align: right;\">\n",
       "      <th></th>\n",
       "      <th>Модель</th>\n",
       "      <th>Параметры</th>\n",
       "      <th>F1</th>\n",
       "    </tr>\n",
       "  </thead>\n",
       "  <tbody>\n",
       "    <tr>\n",
       "      <th>0</th>\n",
       "      <td>LogisticRegression</td>\n",
       "      <td>{'model_lr__C': 10, 'model_lr__class_weight': ...</td>\n",
       "      <td>(1, 2)</td>\n",
       "    </tr>\n",
       "    <tr>\n",
       "      <th>1</th>\n",
       "      <td>LogisticRegression</td>\n",
       "      <td>{'model_lr__C': 10, 'model_lr__class_weight': ...</td>\n",
       "      <td>0.779292</td>\n",
       "    </tr>\n",
       "    <tr>\n",
       "      <th>2</th>\n",
       "      <td>DecisionTreeClassifier</td>\n",
       "      <td>{'model_dt__max_depth': 200}</td>\n",
       "      <td>0.663434</td>\n",
       "    </tr>\n",
       "  </tbody>\n",
       "</table>\n",
       "</div>"
      ],
      "text/plain": [
       "                   Модель                                          Параметры  \\\n",
       "0      LogisticRegression  {'model_lr__C': 10, 'model_lr__class_weight': ...   \n",
       "1      LogisticRegression  {'model_lr__C': 10, 'model_lr__class_weight': ...   \n",
       "2  DecisionTreeClassifier                       {'model_dt__max_depth': 200}   \n",
       "\n",
       "         F1  \n",
       "0    (1, 2)  \n",
       "1  0.779292  \n",
       "2  0.663434  "
      ]
     },
     "execution_count": 67,
     "metadata": {},
     "output_type": "execute_result"
    }
   ],
   "source": [
    "results.append({'Модель': 'DecisionTreeClassifier', \n",
    "                'Параметры':gs_dt.best_params_, \n",
    "                'F1': gs_dt.best_score_})\n",
    "\n",
    "pd.DataFrame(results)"
   ]
  },
  {
   "cell_type": "markdown",
   "metadata": {},
   "source": [
    "#### CatBoost Classifier"
   ]
  },
  {
   "cell_type": "code",
   "execution_count": 87,
   "metadata": {},
   "outputs": [],
   "source": [
    "# зададим параметры для моделей\n",
    "parameters_cat = {'model_cat__depth':[3,6],\n",
    "                  'model_cat__iterations':[300]\n",
    "                 #'eval_metric':['F1']\n",
    "                 }"
   ]
  },
  {
   "cell_type": "code",
   "execution_count": 88,
   "metadata": {},
   "outputs": [],
   "source": [
    "pipeline_cat = Pipeline([\n",
    "    ('tf_idf', TfidfVectorizer()),\n",
    "    ('model_cat', CatBoostClassifier(random_state=STATE))\n",
    "])"
   ]
  },
  {
   "cell_type": "code",
   "execution_count": 89,
   "metadata": {},
   "outputs": [],
   "source": [
    "gs_cat = GridSearchCV(pipeline_cat, parameters_cat, scoring= score, cv=CV)"
   ]
  },
  {
   "cell_type": "code",
   "execution_count": 91,
   "metadata": {},
   "outputs": [
    {
     "name": "stdout",
     "output_type": "stream",
     "text": [
      "Learning rate set to 0.235374\n",
      "0:\tlearn: 0.4844377\ttotal: 904ms\tremaining: 4m 30s\n",
      "1:\tlearn: 0.3769876\ttotal: 1.67s\tremaining: 4m 9s\n",
      "2:\tlearn: 0.3203486\ttotal: 2.44s\tremaining: 4m 2s\n",
      "3:\tlearn: 0.2884626\ttotal: 3.21s\tremaining: 3m 57s\n",
      "4:\tlearn: 0.2688187\ttotal: 4.02s\tremaining: 3m 57s\n",
      "5:\tlearn: 0.2559956\ttotal: 4.79s\tremaining: 3m 54s\n",
      "6:\tlearn: 0.2465013\ttotal: 5.63s\tremaining: 3m 55s\n",
      "7:\tlearn: 0.2398870\ttotal: 6.43s\tremaining: 3m 54s\n",
      "8:\tlearn: 0.2359240\ttotal: 7.33s\tremaining: 3m 57s\n",
      "9:\tlearn: 0.2316866\ttotal: 8.13s\tremaining: 3m 55s\n",
      "10:\tlearn: 0.2283006\ttotal: 8.88s\tremaining: 3m 53s\n",
      "11:\tlearn: 0.2256884\ttotal: 9.63s\tremaining: 3m 51s\n",
      "12:\tlearn: 0.2232321\ttotal: 10.4s\tremaining: 3m 50s\n",
      "13:\tlearn: 0.2209754\ttotal: 11.2s\tremaining: 3m 49s\n",
      "14:\tlearn: 0.2190595\ttotal: 12.1s\tremaining: 3m 49s\n",
      "15:\tlearn: 0.2165732\ttotal: 12.8s\tremaining: 3m 47s\n",
      "16:\tlearn: 0.2130933\ttotal: 13.7s\tremaining: 3m 47s\n",
      "17:\tlearn: 0.2114511\ttotal: 14.5s\tremaining: 3m 46s\n",
      "18:\tlearn: 0.2099124\ttotal: 15.2s\tremaining: 3m 44s\n",
      "19:\tlearn: 0.2086600\ttotal: 16s\tremaining: 3m 43s\n",
      "20:\tlearn: 0.2072763\ttotal: 16.8s\tremaining: 3m 42s\n",
      "21:\tlearn: 0.2060411\ttotal: 17.6s\tremaining: 3m 42s\n",
      "22:\tlearn: 0.2047582\ttotal: 18.4s\tremaining: 3m 41s\n",
      "23:\tlearn: 0.2030332\ttotal: 19.1s\tremaining: 3m 40s\n",
      "24:\tlearn: 0.2011237\ttotal: 20s\tremaining: 3m 39s\n",
      "25:\tlearn: 0.2001161\ttotal: 20.8s\tremaining: 3m 38s\n",
      "26:\tlearn: 0.1991125\ttotal: 21.6s\tremaining: 3m 38s\n",
      "27:\tlearn: 0.1977547\ttotal: 22.4s\tremaining: 3m 37s\n",
      "28:\tlearn: 0.1966140\ttotal: 23.2s\tremaining: 3m 36s\n",
      "29:\tlearn: 0.1954335\ttotal: 24s\tremaining: 3m 36s\n",
      "30:\tlearn: 0.1945624\ttotal: 24.8s\tremaining: 3m 34s\n",
      "31:\tlearn: 0.1937754\ttotal: 25.5s\tremaining: 3m 33s\n",
      "32:\tlearn: 0.1928290\ttotal: 26.3s\tremaining: 3m 32s\n",
      "33:\tlearn: 0.1920016\ttotal: 27.2s\tremaining: 3m 32s\n",
      "34:\tlearn: 0.1912213\ttotal: 27.9s\tremaining: 3m 31s\n",
      "35:\tlearn: 0.1904349\ttotal: 28.8s\tremaining: 3m 30s\n",
      "36:\tlearn: 0.1897464\ttotal: 29.6s\tremaining: 3m 30s\n",
      "37:\tlearn: 0.1882192\ttotal: 30.6s\tremaining: 3m 30s\n",
      "38:\tlearn: 0.1873196\ttotal: 31.4s\tremaining: 3m 30s\n",
      "39:\tlearn: 0.1866395\ttotal: 32.3s\tremaining: 3m 29s\n",
      "40:\tlearn: 0.1860172\ttotal: 33s\tremaining: 3m 28s\n",
      "41:\tlearn: 0.1849514\ttotal: 33.8s\tremaining: 3m 27s\n",
      "42:\tlearn: 0.1844081\ttotal: 34.7s\tremaining: 3m 27s\n",
      "43:\tlearn: 0.1837301\ttotal: 35.5s\tremaining: 3m 26s\n",
      "44:\tlearn: 0.1826795\ttotal: 36.3s\tremaining: 3m 25s\n",
      "45:\tlearn: 0.1817892\ttotal: 37.2s\tremaining: 3m 25s\n",
      "46:\tlearn: 0.1811870\ttotal: 38s\tremaining: 3m 24s\n",
      "47:\tlearn: 0.1805180\ttotal: 38.7s\tremaining: 3m 23s\n",
      "48:\tlearn: 0.1800380\ttotal: 39.5s\tremaining: 3m 22s\n",
      "49:\tlearn: 0.1792918\ttotal: 40.3s\tremaining: 3m 21s\n",
      "50:\tlearn: 0.1787325\ttotal: 41s\tremaining: 3m 20s\n",
      "51:\tlearn: 0.1780963\ttotal: 41.9s\tremaining: 3m 19s\n",
      "52:\tlearn: 0.1776350\ttotal: 42.6s\tremaining: 3m 18s\n",
      "53:\tlearn: 0.1771323\ttotal: 43.4s\tremaining: 3m 17s\n",
      "54:\tlearn: 0.1766287\ttotal: 44.1s\tremaining: 3m 16s\n",
      "55:\tlearn: 0.1761258\ttotal: 44.9s\tremaining: 3m 15s\n",
      "56:\tlearn: 0.1756154\ttotal: 45.6s\tremaining: 3m 14s\n",
      "57:\tlearn: 0.1748884\ttotal: 46.4s\tremaining: 3m 13s\n",
      "58:\tlearn: 0.1743517\ttotal: 47.2s\tremaining: 3m 12s\n",
      "59:\tlearn: 0.1738970\ttotal: 48s\tremaining: 3m 11s\n",
      "60:\tlearn: 0.1735212\ttotal: 48.7s\tremaining: 3m 10s\n",
      "61:\tlearn: 0.1727355\ttotal: 49.5s\tremaining: 3m 9s\n",
      "62:\tlearn: 0.1722044\ttotal: 50.2s\tremaining: 3m 9s\n",
      "63:\tlearn: 0.1717612\ttotal: 51s\tremaining: 3m 8s\n",
      "64:\tlearn: 0.1713049\ttotal: 51.8s\tremaining: 3m 7s\n",
      "65:\tlearn: 0.1708164\ttotal: 52.5s\tremaining: 3m 6s\n",
      "66:\tlearn: 0.1704555\ttotal: 53.3s\tremaining: 3m 5s\n",
      "67:\tlearn: 0.1700156\ttotal: 54.1s\tremaining: 3m 4s\n",
      "68:\tlearn: 0.1696813\ttotal: 54.8s\tremaining: 3m 3s\n",
      "69:\tlearn: 0.1693157\ttotal: 55.6s\tremaining: 3m 2s\n",
      "70:\tlearn: 0.1687594\ttotal: 56.4s\tremaining: 3m 1s\n",
      "71:\tlearn: 0.1682833\ttotal: 57.2s\tremaining: 3m 1s\n",
      "72:\tlearn: 0.1676574\ttotal: 58s\tremaining: 3m\n",
      "73:\tlearn: 0.1670454\ttotal: 58.7s\tremaining: 2m 59s\n",
      "74:\tlearn: 0.1666712\ttotal: 59.7s\tremaining: 2m 59s\n",
      "75:\tlearn: 0.1663550\ttotal: 1m\tremaining: 2m 58s\n",
      "76:\tlearn: 0.1660794\ttotal: 1m 1s\tremaining: 2m 57s\n",
      "77:\tlearn: 0.1656806\ttotal: 1m 2s\tremaining: 2m 56s\n",
      "78:\tlearn: 0.1653315\ttotal: 1m 2s\tremaining: 2m 55s\n",
      "79:\tlearn: 0.1650135\ttotal: 1m 3s\tremaining: 2m 54s\n",
      "80:\tlearn: 0.1647067\ttotal: 1m 4s\tremaining: 2m 53s\n",
      "81:\tlearn: 0.1639841\ttotal: 1m 5s\tremaining: 2m 53s\n",
      "82:\tlearn: 0.1636644\ttotal: 1m 5s\tremaining: 2m 52s\n",
      "83:\tlearn: 0.1631945\ttotal: 1m 6s\tremaining: 2m 51s\n",
      "84:\tlearn: 0.1629492\ttotal: 1m 7s\tremaining: 2m 50s\n",
      "85:\tlearn: 0.1626347\ttotal: 1m 8s\tremaining: 2m 49s\n",
      "86:\tlearn: 0.1622234\ttotal: 1m 8s\tremaining: 2m 48s\n",
      "87:\tlearn: 0.1617327\ttotal: 1m 9s\tremaining: 2m 47s\n",
      "88:\tlearn: 0.1615093\ttotal: 1m 10s\tremaining: 2m 47s\n",
      "89:\tlearn: 0.1612419\ttotal: 1m 11s\tremaining: 2m 46s\n",
      "90:\tlearn: 0.1608885\ttotal: 1m 12s\tremaining: 2m 45s\n",
      "91:\tlearn: 0.1605989\ttotal: 1m 12s\tremaining: 2m 44s\n",
      "92:\tlearn: 0.1603328\ttotal: 1m 13s\tremaining: 2m 43s\n",
      "93:\tlearn: 0.1598688\ttotal: 1m 14s\tremaining: 2m 42s\n",
      "94:\tlearn: 0.1594177\ttotal: 1m 15s\tremaining: 2m 42s\n",
      "95:\tlearn: 0.1591220\ttotal: 1m 15s\tremaining: 2m 41s\n",
      "96:\tlearn: 0.1587957\ttotal: 1m 16s\tremaining: 2m 40s\n",
      "97:\tlearn: 0.1584854\ttotal: 1m 17s\tremaining: 2m 39s\n",
      "98:\tlearn: 0.1582092\ttotal: 1m 18s\tremaining: 2m 38s\n",
      "99:\tlearn: 0.1579794\ttotal: 1m 19s\tremaining: 2m 38s\n",
      "100:\tlearn: 0.1577371\ttotal: 1m 19s\tremaining: 2m 37s\n",
      "101:\tlearn: 0.1574874\ttotal: 1m 20s\tremaining: 2m 36s\n",
      "102:\tlearn: 0.1572156\ttotal: 1m 21s\tremaining: 2m 35s\n",
      "103:\tlearn: 0.1569472\ttotal: 1m 22s\tremaining: 2m 34s\n",
      "104:\tlearn: 0.1564446\ttotal: 1m 22s\tremaining: 2m 34s\n",
      "105:\tlearn: 0.1562445\ttotal: 1m 23s\tremaining: 2m 33s\n",
      "106:\tlearn: 0.1559988\ttotal: 1m 24s\tremaining: 2m 32s\n",
      "107:\tlearn: 0.1557276\ttotal: 1m 25s\tremaining: 2m 31s\n",
      "108:\tlearn: 0.1554996\ttotal: 1m 26s\tremaining: 2m 30s\n",
      "109:\tlearn: 0.1552271\ttotal: 1m 26s\tremaining: 2m 29s\n",
      "110:\tlearn: 0.1548163\ttotal: 1m 27s\tremaining: 2m 29s\n",
      "111:\tlearn: 0.1545901\ttotal: 1m 28s\tremaining: 2m 28s\n",
      "112:\tlearn: 0.1541917\ttotal: 1m 29s\tremaining: 2m 27s\n",
      "113:\tlearn: 0.1537079\ttotal: 1m 30s\tremaining: 2m 27s\n",
      "114:\tlearn: 0.1535291\ttotal: 1m 30s\tremaining: 2m 26s\n",
      "115:\tlearn: 0.1532813\ttotal: 1m 31s\tremaining: 2m 25s\n",
      "116:\tlearn: 0.1530851\ttotal: 1m 32s\tremaining: 2m 24s\n",
      "117:\tlearn: 0.1526028\ttotal: 1m 33s\tremaining: 2m 23s\n",
      "118:\tlearn: 0.1522093\ttotal: 1m 34s\tremaining: 2m 23s\n",
      "119:\tlearn: 0.1519520\ttotal: 1m 34s\tremaining: 2m 22s\n",
      "120:\tlearn: 0.1516699\ttotal: 1m 35s\tremaining: 2m 21s\n",
      "121:\tlearn: 0.1512397\ttotal: 1m 36s\tremaining: 2m 20s\n",
      "122:\tlearn: 0.1509077\ttotal: 1m 37s\tremaining: 2m 20s\n",
      "123:\tlearn: 0.1506700\ttotal: 1m 38s\tremaining: 2m 19s\n",
      "124:\tlearn: 0.1505306\ttotal: 1m 38s\tremaining: 2m 18s\n",
      "125:\tlearn: 0.1503277\ttotal: 1m 39s\tremaining: 2m 17s\n",
      "126:\tlearn: 0.1500871\ttotal: 1m 40s\tremaining: 2m 16s\n",
      "127:\tlearn: 0.1499278\ttotal: 1m 41s\tremaining: 2m 15s\n",
      "128:\tlearn: 0.1496657\ttotal: 1m 41s\tremaining: 2m 15s\n",
      "129:\tlearn: 0.1495222\ttotal: 1m 42s\tremaining: 2m 14s\n",
      "130:\tlearn: 0.1491553\ttotal: 1m 43s\tremaining: 2m 13s\n",
      "131:\tlearn: 0.1488066\ttotal: 1m 44s\tremaining: 2m 12s\n",
      "132:\tlearn: 0.1485122\ttotal: 1m 45s\tremaining: 2m 11s\n",
      "133:\tlearn: 0.1482556\ttotal: 1m 45s\tremaining: 2m 11s\n",
      "134:\tlearn: 0.1480517\ttotal: 1m 46s\tremaining: 2m 10s\n",
      "135:\tlearn: 0.1479006\ttotal: 1m 47s\tremaining: 2m 9s\n",
      "136:\tlearn: 0.1477201\ttotal: 1m 48s\tremaining: 2m 8s\n",
      "137:\tlearn: 0.1473786\ttotal: 1m 48s\tremaining: 2m 7s\n",
      "138:\tlearn: 0.1471750\ttotal: 1m 49s\tremaining: 2m 7s\n",
      "139:\tlearn: 0.1469712\ttotal: 1m 50s\tremaining: 2m 6s\n",
      "140:\tlearn: 0.1467874\ttotal: 1m 51s\tremaining: 2m 5s\n",
      "141:\tlearn: 0.1465496\ttotal: 1m 51s\tremaining: 2m 4s\n",
      "142:\tlearn: 0.1463662\ttotal: 1m 52s\tremaining: 2m 3s\n",
      "143:\tlearn: 0.1462341\ttotal: 1m 53s\tremaining: 2m 2s\n",
      "144:\tlearn: 0.1460564\ttotal: 1m 54s\tremaining: 2m 2s\n",
      "145:\tlearn: 0.1458716\ttotal: 1m 55s\tremaining: 2m 1s\n",
      "146:\tlearn: 0.1457585\ttotal: 1m 55s\tremaining: 2m\n",
      "147:\tlearn: 0.1455773\ttotal: 1m 56s\tremaining: 1m 59s\n",
      "148:\tlearn: 0.1453677\ttotal: 1m 57s\tremaining: 1m 58s\n",
      "149:\tlearn: 0.1452034\ttotal: 1m 58s\tremaining: 1m 58s\n",
      "150:\tlearn: 0.1450406\ttotal: 1m 58s\tremaining: 1m 57s\n",
      "151:\tlearn: 0.1447905\ttotal: 1m 59s\tremaining: 1m 56s\n",
      "152:\tlearn: 0.1444496\ttotal: 2m\tremaining: 1m 55s\n",
      "153:\tlearn: 0.1440738\ttotal: 2m 1s\tremaining: 1m 54s\n",
      "154:\tlearn: 0.1438669\ttotal: 2m 2s\tremaining: 1m 54s\n",
      "155:\tlearn: 0.1437201\ttotal: 2m 2s\tremaining: 1m 53s\n",
      "156:\tlearn: 0.1435656\ttotal: 2m 3s\tremaining: 1m 52s\n",
      "157:\tlearn: 0.1434176\ttotal: 2m 4s\tremaining: 1m 51s\n",
      "158:\tlearn: 0.1432285\ttotal: 2m 5s\tremaining: 1m 50s\n",
      "159:\tlearn: 0.1430878\ttotal: 2m 5s\tremaining: 1m 50s\n",
      "160:\tlearn: 0.1428019\ttotal: 2m 6s\tremaining: 1m 49s\n",
      "161:\tlearn: 0.1426456\ttotal: 2m 7s\tremaining: 1m 48s\n",
      "162:\tlearn: 0.1424355\ttotal: 2m 8s\tremaining: 1m 47s\n",
      "163:\tlearn: 0.1420847\ttotal: 2m 9s\tremaining: 1m 47s\n",
      "164:\tlearn: 0.1419783\ttotal: 2m 9s\tremaining: 1m 46s\n",
      "165:\tlearn: 0.1418357\ttotal: 2m 10s\tremaining: 1m 45s\n",
      "166:\tlearn: 0.1414692\ttotal: 2m 11s\tremaining: 1m 44s\n",
      "167:\tlearn: 0.1413632\ttotal: 2m 12s\tremaining: 1m 43s\n",
      "168:\tlearn: 0.1412098\ttotal: 2m 12s\tremaining: 1m 43s\n",
      "169:\tlearn: 0.1410774\ttotal: 2m 13s\tremaining: 1m 42s\n",
      "170:\tlearn: 0.1409828\ttotal: 2m 14s\tremaining: 1m 41s\n",
      "171:\tlearn: 0.1407966\ttotal: 2m 15s\tremaining: 1m 40s\n",
      "172:\tlearn: 0.1406400\ttotal: 2m 16s\tremaining: 1m 39s\n",
      "173:\tlearn: 0.1405143\ttotal: 2m 16s\tremaining: 1m 39s\n",
      "174:\tlearn: 0.1403882\ttotal: 2m 17s\tremaining: 1m 38s\n",
      "175:\tlearn: 0.1402601\ttotal: 2m 18s\tremaining: 1m 37s\n",
      "176:\tlearn: 0.1401348\ttotal: 2m 19s\tremaining: 1m 36s\n",
      "177:\tlearn: 0.1399869\ttotal: 2m 19s\tremaining: 1m 35s\n",
      "178:\tlearn: 0.1397012\ttotal: 2m 20s\tremaining: 1m 35s\n",
      "179:\tlearn: 0.1395916\ttotal: 2m 21s\tremaining: 1m 34s\n",
      "180:\tlearn: 0.1394044\ttotal: 2m 22s\tremaining: 1m 33s\n",
      "181:\tlearn: 0.1393045\ttotal: 2m 23s\tremaining: 1m 32s\n",
      "182:\tlearn: 0.1391849\ttotal: 2m 23s\tremaining: 1m 31s\n",
      "183:\tlearn: 0.1390900\ttotal: 2m 24s\tremaining: 1m 31s\n",
      "184:\tlearn: 0.1389357\ttotal: 2m 25s\tremaining: 1m 30s\n",
      "185:\tlearn: 0.1388370\ttotal: 2m 26s\tremaining: 1m 29s\n",
      "186:\tlearn: 0.1387408\ttotal: 2m 26s\tremaining: 1m 28s\n",
      "187:\tlearn: 0.1385725\ttotal: 2m 27s\tremaining: 1m 28s\n",
      "188:\tlearn: 0.1384212\ttotal: 2m 28s\tremaining: 1m 27s\n",
      "189:\tlearn: 0.1382865\ttotal: 2m 29s\tremaining: 1m 26s\n",
      "190:\tlearn: 0.1381922\ttotal: 2m 30s\tremaining: 1m 25s\n",
      "191:\tlearn: 0.1380997\ttotal: 2m 31s\tremaining: 1m 24s\n",
      "192:\tlearn: 0.1380123\ttotal: 2m 31s\tremaining: 1m 24s\n",
      "193:\tlearn: 0.1379322\ttotal: 2m 32s\tremaining: 1m 23s\n",
      "194:\tlearn: 0.1378685\ttotal: 2m 33s\tremaining: 1m 22s\n",
      "195:\tlearn: 0.1377443\ttotal: 2m 34s\tremaining: 1m 21s\n",
      "196:\tlearn: 0.1376302\ttotal: 2m 35s\tremaining: 1m 21s\n",
      "197:\tlearn: 0.1375286\ttotal: 2m 35s\tremaining: 1m 20s\n",
      "198:\tlearn: 0.1373811\ttotal: 2m 36s\tremaining: 1m 19s\n",
      "199:\tlearn: 0.1372513\ttotal: 2m 37s\tremaining: 1m 18s\n",
      "200:\tlearn: 0.1371551\ttotal: 2m 38s\tremaining: 1m 17s\n",
      "201:\tlearn: 0.1370341\ttotal: 2m 38s\tremaining: 1m 17s\n",
      "202:\tlearn: 0.1369055\ttotal: 2m 39s\tremaining: 1m 16s\n",
      "203:\tlearn: 0.1367359\ttotal: 2m 40s\tremaining: 1m 15s\n",
      "204:\tlearn: 0.1366317\ttotal: 2m 41s\tremaining: 1m 14s\n",
      "205:\tlearn: 0.1365011\ttotal: 2m 42s\tremaining: 1m 13s\n",
      "206:\tlearn: 0.1363459\ttotal: 2m 42s\tremaining: 1m 13s\n",
      "207:\tlearn: 0.1362093\ttotal: 2m 43s\tremaining: 1m 12s\n",
      "208:\tlearn: 0.1361033\ttotal: 2m 44s\tremaining: 1m 11s\n",
      "209:\tlearn: 0.1360281\ttotal: 2m 45s\tremaining: 1m 10s\n",
      "210:\tlearn: 0.1359361\ttotal: 2m 45s\tremaining: 1m 9s\n",
      "211:\tlearn: 0.1357872\ttotal: 2m 46s\tremaining: 1m 9s\n",
      "212:\tlearn: 0.1356765\ttotal: 2m 47s\tremaining: 1m 8s\n",
      "213:\tlearn: 0.1355732\ttotal: 2m 48s\tremaining: 1m 7s\n",
      "214:\tlearn: 0.1354862\ttotal: 2m 48s\tremaining: 1m 6s\n",
      "215:\tlearn: 0.1352168\ttotal: 2m 49s\tremaining: 1m 6s\n",
      "216:\tlearn: 0.1350533\ttotal: 2m 50s\tremaining: 1m 5s\n",
      "217:\tlearn: 0.1349546\ttotal: 2m 51s\tremaining: 1m 4s\n",
      "218:\tlearn: 0.1347999\ttotal: 2m 52s\tremaining: 1m 3s\n",
      "219:\tlearn: 0.1346389\ttotal: 2m 52s\tremaining: 1m 2s\n",
      "220:\tlearn: 0.1345380\ttotal: 2m 53s\tremaining: 1m 2s\n",
      "221:\tlearn: 0.1344190\ttotal: 2m 54s\tremaining: 1m 1s\n",
      "222:\tlearn: 0.1343400\ttotal: 2m 55s\tremaining: 1m\n",
      "223:\tlearn: 0.1342462\ttotal: 2m 55s\tremaining: 59.6s\n",
      "224:\tlearn: 0.1341539\ttotal: 2m 56s\tremaining: 58.8s\n",
      "225:\tlearn: 0.1340883\ttotal: 2m 57s\tremaining: 58s\n",
      "226:\tlearn: 0.1339921\ttotal: 2m 58s\tremaining: 57.3s\n",
      "227:\tlearn: 0.1339062\ttotal: 2m 58s\tremaining: 56.5s\n",
      "228:\tlearn: 0.1338004\ttotal: 2m 59s\tremaining: 55.7s\n",
      "229:\tlearn: 0.1337279\ttotal: 3m\tremaining: 54.9s\n",
      "230:\tlearn: 0.1336638\ttotal: 3m 1s\tremaining: 54.1s\n",
      "231:\tlearn: 0.1335164\ttotal: 3m 1s\tremaining: 53.3s\n",
      "232:\tlearn: 0.1334262\ttotal: 3m 2s\tremaining: 52.5s\n",
      "233:\tlearn: 0.1333633\ttotal: 3m 3s\tremaining: 51.7s\n",
      "234:\tlearn: 0.1332888\ttotal: 3m 4s\tremaining: 51s\n",
      "235:\tlearn: 0.1332174\ttotal: 3m 5s\tremaining: 50.2s\n",
      "236:\tlearn: 0.1329451\ttotal: 3m 5s\tremaining: 49.4s\n",
      "237:\tlearn: 0.1326999\ttotal: 3m 6s\tremaining: 48.6s\n",
      "238:\tlearn: 0.1326298\ttotal: 3m 7s\tremaining: 47.9s\n",
      "239:\tlearn: 0.1325659\ttotal: 3m 8s\tremaining: 47.1s\n",
      "240:\tlearn: 0.1324808\ttotal: 3m 8s\tremaining: 46.3s\n",
      "241:\tlearn: 0.1321692\ttotal: 3m 9s\tremaining: 45.5s\n",
      "242:\tlearn: 0.1320240\ttotal: 3m 10s\tremaining: 44.7s\n",
      "243:\tlearn: 0.1318818\ttotal: 3m 11s\tremaining: 43.9s\n",
      "244:\tlearn: 0.1317970\ttotal: 3m 12s\tremaining: 43.1s\n",
      "245:\tlearn: 0.1316928\ttotal: 3m 12s\tremaining: 42.3s\n",
      "246:\tlearn: 0.1315577\ttotal: 3m 13s\tremaining: 41.5s\n",
      "247:\tlearn: 0.1314949\ttotal: 3m 14s\tremaining: 40.7s\n",
      "248:\tlearn: 0.1314031\ttotal: 3m 15s\tremaining: 40s\n",
      "249:\tlearn: 0.1313358\ttotal: 3m 15s\tremaining: 39.2s\n",
      "250:\tlearn: 0.1312760\ttotal: 3m 16s\tremaining: 38.4s\n",
      "251:\tlearn: 0.1310844\ttotal: 3m 17s\tremaining: 37.6s\n",
      "252:\tlearn: 0.1309982\ttotal: 3m 18s\tremaining: 36.8s\n",
      "253:\tlearn: 0.1309281\ttotal: 3m 18s\tremaining: 36s\n",
      "254:\tlearn: 0.1308597\ttotal: 3m 19s\tremaining: 35.2s\n",
      "255:\tlearn: 0.1307950\ttotal: 3m 20s\tremaining: 34.4s\n",
      "256:\tlearn: 0.1307197\ttotal: 3m 21s\tremaining: 33.7s\n",
      "257:\tlearn: 0.1306557\ttotal: 3m 21s\tremaining: 32.9s\n",
      "258:\tlearn: 0.1305245\ttotal: 3m 22s\tremaining: 32.1s\n",
      "259:\tlearn: 0.1304679\ttotal: 3m 23s\tremaining: 31.3s\n",
      "260:\tlearn: 0.1303505\ttotal: 3m 24s\tremaining: 30.5s\n",
      "261:\tlearn: 0.1301642\ttotal: 3m 25s\tremaining: 29.7s\n",
      "262:\tlearn: 0.1300808\ttotal: 3m 25s\tremaining: 29s\n",
      "263:\tlearn: 0.1299856\ttotal: 3m 26s\tremaining: 28.2s\n",
      "264:\tlearn: 0.1298565\ttotal: 3m 27s\tremaining: 27.4s\n",
      "265:\tlearn: 0.1298078\ttotal: 3m 28s\tremaining: 26.6s\n",
      "266:\tlearn: 0.1296101\ttotal: 3m 29s\tremaining: 25.8s\n",
      "267:\tlearn: 0.1295548\ttotal: 3m 29s\tremaining: 25.1s\n",
      "268:\tlearn: 0.1294924\ttotal: 3m 30s\tremaining: 24.3s\n",
      "269:\tlearn: 0.1294279\ttotal: 3m 31s\tremaining: 23.5s\n",
      "270:\tlearn: 0.1293353\ttotal: 3m 32s\tremaining: 22.7s\n",
      "271:\tlearn: 0.1292702\ttotal: 3m 33s\tremaining: 21.9s\n",
      "272:\tlearn: 0.1291252\ttotal: 3m 34s\tremaining: 21.2s\n",
      "273:\tlearn: 0.1290735\ttotal: 3m 34s\tremaining: 20.4s\n",
      "274:\tlearn: 0.1290129\ttotal: 3m 35s\tremaining: 19.6s\n",
      "275:\tlearn: 0.1289144\ttotal: 3m 36s\tremaining: 18.8s\n",
      "276:\tlearn: 0.1287776\ttotal: 3m 37s\tremaining: 18s\n",
      "277:\tlearn: 0.1287056\ttotal: 3m 37s\tremaining: 17.2s\n",
      "278:\tlearn: 0.1286547\ttotal: 3m 38s\tremaining: 16.5s\n",
      "279:\tlearn: 0.1284798\ttotal: 3m 39s\tremaining: 15.7s\n",
      "280:\tlearn: 0.1284288\ttotal: 3m 40s\tremaining: 14.9s\n",
      "281:\tlearn: 0.1282533\ttotal: 3m 40s\tremaining: 14.1s\n",
      "282:\tlearn: 0.1280889\ttotal: 3m 41s\tremaining: 13.3s\n",
      "283:\tlearn: 0.1279224\ttotal: 3m 42s\tremaining: 12.5s\n",
      "284:\tlearn: 0.1276910\ttotal: 3m 43s\tremaining: 11.8s\n",
      "285:\tlearn: 0.1275761\ttotal: 3m 44s\tremaining: 11s\n",
      "286:\tlearn: 0.1274952\ttotal: 3m 44s\tremaining: 10.2s\n",
      "287:\tlearn: 0.1274478\ttotal: 3m 45s\tremaining: 9.4s\n",
      "288:\tlearn: 0.1273268\ttotal: 3m 46s\tremaining: 8.61s\n",
      "289:\tlearn: 0.1271734\ttotal: 3m 47s\tremaining: 7.83s\n",
      "290:\tlearn: 0.1271215\ttotal: 3m 47s\tremaining: 7.05s\n",
      "291:\tlearn: 0.1270247\ttotal: 3m 48s\tremaining: 6.26s\n",
      "292:\tlearn: 0.1268730\ttotal: 3m 49s\tremaining: 5.48s\n",
      "293:\tlearn: 0.1268109\ttotal: 3m 50s\tremaining: 4.7s\n",
      "294:\tlearn: 0.1267496\ttotal: 3m 50s\tremaining: 3.91s\n",
      "295:\tlearn: 0.1266958\ttotal: 3m 51s\tremaining: 3.13s\n",
      "296:\tlearn: 0.1265700\ttotal: 3m 52s\tremaining: 2.35s\n",
      "297:\tlearn: 0.1265244\ttotal: 3m 53s\tremaining: 1.56s\n",
      "298:\tlearn: 0.1264004\ttotal: 3m 53s\tremaining: 783ms\n",
      "299:\tlearn: 0.1262531\ttotal: 3m 54s\tremaining: 0us\n",
      "Learning rate set to 0.235374\n",
      "0:\tlearn: 0.4881508\ttotal: 890ms\tremaining: 4m 26s\n",
      "1:\tlearn: 0.3783878\ttotal: 1.68s\tremaining: 4m 10s\n",
      "2:\tlearn: 0.3224580\ttotal: 2.48s\tremaining: 4m 5s\n",
      "3:\tlearn: 0.2890331\ttotal: 3.27s\tremaining: 4m 1s\n",
      "4:\tlearn: 0.2685836\ttotal: 4.04s\tremaining: 3m 58s\n",
      "5:\tlearn: 0.2550514\ttotal: 4.82s\tremaining: 3m 56s\n",
      "6:\tlearn: 0.2472344\ttotal: 5.58s\tremaining: 3m 53s\n",
      "7:\tlearn: 0.2417120\ttotal: 6.36s\tremaining: 3m 52s\n",
      "8:\tlearn: 0.2353520\ttotal: 7.22s\tremaining: 3m 53s\n",
      "9:\tlearn: 0.2311298\ttotal: 7.99s\tremaining: 3m 51s\n",
      "10:\tlearn: 0.2282894\ttotal: 8.76s\tremaining: 3m 50s\n",
      "11:\tlearn: 0.2251929\ttotal: 9.51s\tremaining: 3m 48s\n",
      "12:\tlearn: 0.2229165\ttotal: 10.3s\tremaining: 3m 47s\n",
      "13:\tlearn: 0.2212023\ttotal: 11.1s\tremaining: 3m 46s\n",
      "14:\tlearn: 0.2185567\ttotal: 11.8s\tremaining: 3m 45s\n",
      "15:\tlearn: 0.2164935\ttotal: 12.6s\tremaining: 3m 43s\n",
      "16:\tlearn: 0.2136408\ttotal: 13.4s\tremaining: 3m 43s\n",
      "17:\tlearn: 0.2120886\ttotal: 14.2s\tremaining: 3m 42s\n",
      "18:\tlearn: 0.2098765\ttotal: 15s\tremaining: 3m 41s\n",
      "19:\tlearn: 0.2084339\ttotal: 15.8s\tremaining: 3m 40s\n",
      "20:\tlearn: 0.2070139\ttotal: 16.6s\tremaining: 3m 40s\n",
      "21:\tlearn: 0.2058188\ttotal: 17.4s\tremaining: 3m 39s\n",
      "22:\tlearn: 0.2044149\ttotal: 18.1s\tremaining: 3m 38s\n",
      "23:\tlearn: 0.2032335\ttotal: 18.9s\tremaining: 3m 37s\n",
      "24:\tlearn: 0.2015610\ttotal: 19.8s\tremaining: 3m 37s\n",
      "25:\tlearn: 0.1998702\ttotal: 20.6s\tremaining: 3m 37s\n",
      "26:\tlearn: 0.1985489\ttotal: 21.4s\tremaining: 3m 36s\n",
      "27:\tlearn: 0.1968233\ttotal: 22.3s\tremaining: 3m 36s\n",
      "28:\tlearn: 0.1959187\ttotal: 23s\tremaining: 3m 35s\n",
      "29:\tlearn: 0.1950863\ttotal: 23.8s\tremaining: 3m 34s\n",
      "30:\tlearn: 0.1942765\ttotal: 24.6s\tremaining: 3m 33s\n",
      "31:\tlearn: 0.1934222\ttotal: 25.3s\tremaining: 3m 31s\n",
      "32:\tlearn: 0.1925109\ttotal: 26.1s\tremaining: 3m 30s\n",
      "33:\tlearn: 0.1911732\ttotal: 26.9s\tremaining: 3m 30s\n",
      "34:\tlearn: 0.1899604\ttotal: 27.7s\tremaining: 3m 29s\n",
      "35:\tlearn: 0.1886218\ttotal: 28.4s\tremaining: 3m 28s\n",
      "36:\tlearn: 0.1876877\ttotal: 29.2s\tremaining: 3m 27s\n",
      "37:\tlearn: 0.1864518\ttotal: 30s\tremaining: 3m 26s\n",
      "38:\tlearn: 0.1857984\ttotal: 30.8s\tremaining: 3m 26s\n",
      "39:\tlearn: 0.1852910\ttotal: 31.6s\tremaining: 3m 25s\n",
      "40:\tlearn: 0.1844287\ttotal: 32.3s\tremaining: 3m 24s\n",
      "41:\tlearn: 0.1838472\ttotal: 33.1s\tremaining: 3m 23s\n",
      "42:\tlearn: 0.1831535\ttotal: 33.9s\tremaining: 3m 22s\n",
      "43:\tlearn: 0.1824340\ttotal: 34.6s\tremaining: 3m 21s\n",
      "44:\tlearn: 0.1817522\ttotal: 35.4s\tremaining: 3m 20s\n",
      "45:\tlearn: 0.1810484\ttotal: 36.2s\tremaining: 3m 19s\n",
      "46:\tlearn: 0.1804685\ttotal: 37s\tremaining: 3m 18s\n",
      "47:\tlearn: 0.1799784\ttotal: 37.7s\tremaining: 3m 17s\n",
      "48:\tlearn: 0.1789742\ttotal: 38.5s\tremaining: 3m 17s\n",
      "49:\tlearn: 0.1784289\ttotal: 39.3s\tremaining: 3m 16s\n",
      "50:\tlearn: 0.1779434\ttotal: 40.1s\tremaining: 3m 15s\n",
      "51:\tlearn: 0.1774016\ttotal: 40.9s\tremaining: 3m 14s\n",
      "52:\tlearn: 0.1767883\ttotal: 41.6s\tremaining: 3m 14s\n",
      "53:\tlearn: 0.1763702\ttotal: 42.4s\tremaining: 3m 13s\n",
      "54:\tlearn: 0.1757850\ttotal: 43.2s\tremaining: 3m 12s\n",
      "55:\tlearn: 0.1753725\ttotal: 44s\tremaining: 3m 11s\n",
      "56:\tlearn: 0.1749359\ttotal: 44.8s\tremaining: 3m 10s\n",
      "57:\tlearn: 0.1744353\ttotal: 45.5s\tremaining: 3m 9s\n",
      "58:\tlearn: 0.1740063\ttotal: 46.3s\tremaining: 3m 9s\n",
      "59:\tlearn: 0.1736211\ttotal: 47.1s\tremaining: 3m 8s\n",
      "60:\tlearn: 0.1731902\ttotal: 48s\tremaining: 3m 7s\n",
      "61:\tlearn: 0.1728044\ttotal: 48.8s\tremaining: 3m 7s\n",
      "62:\tlearn: 0.1720089\ttotal: 49.7s\tremaining: 3m 6s\n",
      "63:\tlearn: 0.1716019\ttotal: 50.5s\tremaining: 3m 6s\n",
      "64:\tlearn: 0.1712470\ttotal: 51.3s\tremaining: 3m 5s\n",
      "65:\tlearn: 0.1707978\ttotal: 52.2s\tremaining: 3m 4s\n",
      "66:\tlearn: 0.1700348\ttotal: 53.1s\tremaining: 3m 4s\n",
      "67:\tlearn: 0.1695788\ttotal: 53.9s\tremaining: 3m 3s\n",
      "68:\tlearn: 0.1690917\ttotal: 54.7s\tremaining: 3m 3s\n",
      "69:\tlearn: 0.1686959\ttotal: 55.5s\tremaining: 3m 2s\n",
      "70:\tlearn: 0.1682820\ttotal: 56.4s\tremaining: 3m 1s\n",
      "71:\tlearn: 0.1674494\ttotal: 57.2s\tremaining: 3m 1s\n",
      "72:\tlearn: 0.1671037\ttotal: 58s\tremaining: 3m\n",
      "73:\tlearn: 0.1666843\ttotal: 58.8s\tremaining: 2m 59s\n",
      "74:\tlearn: 0.1662758\ttotal: 59.6s\tremaining: 2m 58s\n",
      "75:\tlearn: 0.1658535\ttotal: 1m\tremaining: 2m 57s\n",
      "76:\tlearn: 0.1655286\ttotal: 1m 1s\tremaining: 2m 56s\n",
      "77:\tlearn: 0.1648889\ttotal: 1m 1s\tremaining: 2m 56s\n",
      "78:\tlearn: 0.1645818\ttotal: 1m 2s\tremaining: 2m 55s\n",
      "79:\tlearn: 0.1642512\ttotal: 1m 3s\tremaining: 2m 54s\n",
      "80:\tlearn: 0.1638901\ttotal: 1m 4s\tremaining: 2m 53s\n",
      "81:\tlearn: 0.1636700\ttotal: 1m 4s\tremaining: 2m 52s\n",
      "82:\tlearn: 0.1633044\ttotal: 1m 5s\tremaining: 2m 51s\n",
      "83:\tlearn: 0.1627653\ttotal: 1m 6s\tremaining: 2m 50s\n",
      "84:\tlearn: 0.1621826\ttotal: 1m 7s\tremaining: 2m 50s\n",
      "85:\tlearn: 0.1618379\ttotal: 1m 8s\tremaining: 2m 49s\n",
      "86:\tlearn: 0.1614063\ttotal: 1m 8s\tremaining: 2m 48s\n",
      "87:\tlearn: 0.1611944\ttotal: 1m 9s\tremaining: 2m 47s\n",
      "88:\tlearn: 0.1609217\ttotal: 1m 10s\tremaining: 2m 46s\n",
      "89:\tlearn: 0.1606469\ttotal: 1m 11s\tremaining: 2m 45s\n",
      "90:\tlearn: 0.1603438\ttotal: 1m 11s\tremaining: 2m 45s\n",
      "91:\tlearn: 0.1599063\ttotal: 1m 12s\tremaining: 2m 44s\n",
      "92:\tlearn: 0.1596029\ttotal: 1m 13s\tremaining: 2m 43s\n",
      "93:\tlearn: 0.1591876\ttotal: 1m 14s\tremaining: 2m 42s\n",
      "94:\tlearn: 0.1586589\ttotal: 1m 14s\tremaining: 2m 41s\n",
      "95:\tlearn: 0.1583313\ttotal: 1m 15s\tremaining: 2m 40s\n",
      "96:\tlearn: 0.1576563\ttotal: 1m 16s\tremaining: 2m 40s\n",
      "97:\tlearn: 0.1573888\ttotal: 1m 17s\tremaining: 2m 39s\n",
      "98:\tlearn: 0.1571507\ttotal: 1m 18s\tremaining: 2m 38s\n",
      "99:\tlearn: 0.1568601\ttotal: 1m 18s\tremaining: 2m 37s\n",
      "100:\tlearn: 0.1565144\ttotal: 1m 19s\tremaining: 2m 36s\n",
      "101:\tlearn: 0.1562277\ttotal: 1m 20s\tremaining: 2m 35s\n",
      "102:\tlearn: 0.1559725\ttotal: 1m 21s\tremaining: 2m 35s\n",
      "103:\tlearn: 0.1557627\ttotal: 1m 21s\tremaining: 2m 34s\n",
      "104:\tlearn: 0.1550703\ttotal: 1m 22s\tremaining: 2m 33s\n",
      "105:\tlearn: 0.1548646\ttotal: 1m 23s\tremaining: 2m 32s\n",
      "106:\tlearn: 0.1545937\ttotal: 1m 24s\tremaining: 2m 31s\n",
      "107:\tlearn: 0.1543496\ttotal: 1m 24s\tremaining: 2m 31s\n",
      "108:\tlearn: 0.1540789\ttotal: 1m 25s\tremaining: 2m 30s\n",
      "109:\tlearn: 0.1536825\ttotal: 1m 26s\tremaining: 2m 29s\n",
      "110:\tlearn: 0.1534388\ttotal: 1m 27s\tremaining: 2m 28s\n",
      "111:\tlearn: 0.1531144\ttotal: 1m 28s\tremaining: 2m 27s\n",
      "112:\tlearn: 0.1529059\ttotal: 1m 28s\tremaining: 2m 26s\n",
      "113:\tlearn: 0.1526138\ttotal: 1m 29s\tremaining: 2m 26s\n",
      "114:\tlearn: 0.1523820\ttotal: 1m 30s\tremaining: 2m 25s\n",
      "115:\tlearn: 0.1519824\ttotal: 1m 31s\tremaining: 2m 24s\n",
      "116:\tlearn: 0.1515283\ttotal: 1m 31s\tremaining: 2m 23s\n",
      "117:\tlearn: 0.1512619\ttotal: 1m 32s\tremaining: 2m 22s\n",
      "118:\tlearn: 0.1509992\ttotal: 1m 33s\tremaining: 2m 22s\n",
      "119:\tlearn: 0.1507319\ttotal: 1m 34s\tremaining: 2m 21s\n",
      "120:\tlearn: 0.1504800\ttotal: 1m 34s\tremaining: 2m 20s\n",
      "121:\tlearn: 0.1503027\ttotal: 1m 35s\tremaining: 2m 19s\n",
      "122:\tlearn: 0.1500919\ttotal: 1m 36s\tremaining: 2m 18s\n",
      "123:\tlearn: 0.1499156\ttotal: 1m 37s\tremaining: 2m 18s\n",
      "124:\tlearn: 0.1497391\ttotal: 1m 38s\tremaining: 2m 17s\n",
      "125:\tlearn: 0.1494832\ttotal: 1m 38s\tremaining: 2m 16s\n",
      "126:\tlearn: 0.1493208\ttotal: 1m 39s\tremaining: 2m 15s\n",
      "127:\tlearn: 0.1491218\ttotal: 1m 40s\tremaining: 2m 14s\n",
      "128:\tlearn: 0.1488821\ttotal: 1m 41s\tremaining: 2m 14s\n",
      "129:\tlearn: 0.1486112\ttotal: 1m 41s\tremaining: 2m 13s\n",
      "130:\tlearn: 0.1483247\ttotal: 1m 42s\tremaining: 2m 12s\n",
      "131:\tlearn: 0.1481738\ttotal: 1m 43s\tremaining: 2m 11s\n",
      "132:\tlearn: 0.1478766\ttotal: 1m 44s\tremaining: 2m 10s\n",
      "133:\tlearn: 0.1475260\ttotal: 1m 45s\tremaining: 2m 10s\n",
      "134:\tlearn: 0.1472545\ttotal: 1m 45s\tremaining: 2m 9s\n",
      "135:\tlearn: 0.1470985\ttotal: 1m 46s\tremaining: 2m 8s\n",
      "136:\tlearn: 0.1468922\ttotal: 1m 47s\tremaining: 2m 7s\n",
      "137:\tlearn: 0.1466618\ttotal: 1m 48s\tremaining: 2m 7s\n",
      "138:\tlearn: 0.1464934\ttotal: 1m 49s\tremaining: 2m 6s\n",
      "139:\tlearn: 0.1462700\ttotal: 1m 49s\tremaining: 2m 5s\n",
      "140:\tlearn: 0.1459773\ttotal: 1m 50s\tremaining: 2m 4s\n",
      "141:\tlearn: 0.1458336\ttotal: 1m 51s\tremaining: 2m 4s\n",
      "142:\tlearn: 0.1456074\ttotal: 1m 52s\tremaining: 2m 3s\n",
      "143:\tlearn: 0.1454156\ttotal: 1m 53s\tremaining: 2m 2s\n",
      "144:\tlearn: 0.1452522\ttotal: 1m 54s\tremaining: 2m 2s\n",
      "145:\tlearn: 0.1450293\ttotal: 1m 54s\tremaining: 2m 1s\n",
      "146:\tlearn: 0.1448427\ttotal: 1m 55s\tremaining: 2m\n",
      "147:\tlearn: 0.1447215\ttotal: 1m 56s\tremaining: 1m 59s\n",
      "148:\tlearn: 0.1445169\ttotal: 1m 57s\tremaining: 1m 59s\n",
      "149:\tlearn: 0.1443883\ttotal: 1m 58s\tremaining: 1m 58s\n",
      "150:\tlearn: 0.1442079\ttotal: 1m 59s\tremaining: 1m 57s\n",
      "151:\tlearn: 0.1439751\ttotal: 1m 59s\tremaining: 1m 56s\n",
      "152:\tlearn: 0.1436692\ttotal: 2m\tremaining: 1m 55s\n",
      "153:\tlearn: 0.1434746\ttotal: 2m 1s\tremaining: 1m 54s\n",
      "154:\tlearn: 0.1433455\ttotal: 2m 2s\tremaining: 1m 54s\n",
      "155:\tlearn: 0.1430581\ttotal: 2m 2s\tremaining: 1m 53s\n",
      "156:\tlearn: 0.1428852\ttotal: 2m 3s\tremaining: 1m 52s\n",
      "157:\tlearn: 0.1427386\ttotal: 2m 4s\tremaining: 1m 51s\n",
      "158:\tlearn: 0.1426339\ttotal: 2m 5s\tremaining: 1m 50s\n",
      "159:\tlearn: 0.1424210\ttotal: 2m 5s\tremaining: 1m 50s\n",
      "160:\tlearn: 0.1423012\ttotal: 2m 6s\tremaining: 1m 49s\n",
      "161:\tlearn: 0.1421994\ttotal: 2m 7s\tremaining: 1m 48s\n",
      "162:\tlearn: 0.1420069\ttotal: 2m 8s\tremaining: 1m 47s\n",
      "163:\tlearn: 0.1418559\ttotal: 2m 8s\tremaining: 1m 46s\n",
      "164:\tlearn: 0.1417309\ttotal: 2m 9s\tremaining: 1m 46s\n",
      "165:\tlearn: 0.1416278\ttotal: 2m 10s\tremaining: 1m 45s\n",
      "166:\tlearn: 0.1415114\ttotal: 2m 11s\tremaining: 1m 44s\n",
      "167:\tlearn: 0.1414302\ttotal: 2m 11s\tremaining: 1m 43s\n",
      "168:\tlearn: 0.1412436\ttotal: 2m 12s\tremaining: 1m 42s\n",
      "169:\tlearn: 0.1410584\ttotal: 2m 13s\tremaining: 1m 42s\n",
      "170:\tlearn: 0.1408953\ttotal: 2m 14s\tremaining: 1m 41s\n",
      "171:\tlearn: 0.1406860\ttotal: 2m 15s\tremaining: 1m 40s\n",
      "172:\tlearn: 0.1405633\ttotal: 2m 15s\tremaining: 1m 39s\n",
      "173:\tlearn: 0.1404586\ttotal: 2m 16s\tremaining: 1m 38s\n",
      "174:\tlearn: 0.1402630\ttotal: 2m 17s\tremaining: 1m 38s\n",
      "175:\tlearn: 0.1401149\ttotal: 2m 18s\tremaining: 1m 37s\n",
      "176:\tlearn: 0.1399762\ttotal: 2m 18s\tremaining: 1m 36s\n",
      "177:\tlearn: 0.1397793\ttotal: 2m 19s\tremaining: 1m 35s\n",
      "178:\tlearn: 0.1396227\ttotal: 2m 20s\tremaining: 1m 34s\n",
      "179:\tlearn: 0.1393417\ttotal: 2m 21s\tremaining: 1m 34s\n",
      "180:\tlearn: 0.1392116\ttotal: 2m 22s\tremaining: 1m 33s\n",
      "181:\tlearn: 0.1391143\ttotal: 2m 22s\tremaining: 1m 32s\n",
      "182:\tlearn: 0.1390070\ttotal: 2m 23s\tremaining: 1m 31s\n",
      "183:\tlearn: 0.1389001\ttotal: 2m 24s\tremaining: 1m 30s\n",
      "184:\tlearn: 0.1387991\ttotal: 2m 25s\tremaining: 1m 30s\n",
      "185:\tlearn: 0.1386641\ttotal: 2m 25s\tremaining: 1m 29s\n",
      "186:\tlearn: 0.1384155\ttotal: 2m 26s\tremaining: 1m 28s\n",
      "187:\tlearn: 0.1382592\ttotal: 2m 27s\tremaining: 1m 27s\n",
      "188:\tlearn: 0.1381561\ttotal: 2m 28s\tremaining: 1m 26s\n",
      "189:\tlearn: 0.1380603\ttotal: 2m 28s\tremaining: 1m 26s\n",
      "190:\tlearn: 0.1379699\ttotal: 2m 29s\tremaining: 1m 25s\n",
      "191:\tlearn: 0.1378804\ttotal: 2m 30s\tremaining: 1m 24s\n",
      "192:\tlearn: 0.1377287\ttotal: 2m 31s\tremaining: 1m 23s\n",
      "193:\tlearn: 0.1376473\ttotal: 2m 31s\tremaining: 1m 22s\n",
      "194:\tlearn: 0.1375698\ttotal: 2m 32s\tremaining: 1m 22s\n",
      "195:\tlearn: 0.1374632\ttotal: 2m 33s\tremaining: 1m 21s\n",
      "196:\tlearn: 0.1373836\ttotal: 2m 34s\tremaining: 1m 20s\n",
      "197:\tlearn: 0.1372510\ttotal: 2m 34s\tremaining: 1m 19s\n",
      "198:\tlearn: 0.1371130\ttotal: 2m 35s\tremaining: 1m 19s\n",
      "199:\tlearn: 0.1370181\ttotal: 2m 36s\tremaining: 1m 18s\n",
      "200:\tlearn: 0.1368751\ttotal: 2m 37s\tremaining: 1m 17s\n",
      "201:\tlearn: 0.1366451\ttotal: 2m 38s\tremaining: 1m 16s\n",
      "202:\tlearn: 0.1365376\ttotal: 2m 38s\tremaining: 1m 15s\n",
      "203:\tlearn: 0.1364132\ttotal: 2m 39s\tremaining: 1m 15s\n",
      "204:\tlearn: 0.1362824\ttotal: 2m 40s\tremaining: 1m 14s\n",
      "205:\tlearn: 0.1361681\ttotal: 2m 41s\tremaining: 1m 13s\n",
      "206:\tlearn: 0.1359554\ttotal: 2m 41s\tremaining: 1m 12s\n",
      "207:\tlearn: 0.1358297\ttotal: 2m 42s\tremaining: 1m 11s\n",
      "208:\tlearn: 0.1357134\ttotal: 2m 43s\tremaining: 1m 11s\n",
      "209:\tlearn: 0.1356201\ttotal: 2m 44s\tremaining: 1m 10s\n",
      "210:\tlearn: 0.1355153\ttotal: 2m 44s\tremaining: 1m 9s\n",
      "211:\tlearn: 0.1354412\ttotal: 2m 45s\tremaining: 1m 8s\n",
      "212:\tlearn: 0.1352121\ttotal: 2m 46s\tremaining: 1m 7s\n",
      "213:\tlearn: 0.1351241\ttotal: 2m 47s\tremaining: 1m 7s\n",
      "214:\tlearn: 0.1350179\ttotal: 2m 48s\tremaining: 1m 6s\n",
      "215:\tlearn: 0.1349384\ttotal: 2m 48s\tremaining: 1m 5s\n",
      "216:\tlearn: 0.1347928\ttotal: 2m 49s\tremaining: 1m 4s\n",
      "217:\tlearn: 0.1346389\ttotal: 2m 50s\tremaining: 1m 4s\n",
      "218:\tlearn: 0.1344287\ttotal: 2m 51s\tremaining: 1m 3s\n",
      "219:\tlearn: 0.1343737\ttotal: 2m 52s\tremaining: 1m 2s\n",
      "220:\tlearn: 0.1342751\ttotal: 2m 53s\tremaining: 1m 1s\n",
      "221:\tlearn: 0.1341103\ttotal: 2m 53s\tremaining: 1m 1s\n",
      "222:\tlearn: 0.1340331\ttotal: 2m 54s\tremaining: 1m\n",
      "223:\tlearn: 0.1338929\ttotal: 2m 55s\tremaining: 59.6s\n",
      "224:\tlearn: 0.1337803\ttotal: 2m 56s\tremaining: 58.8s\n",
      "225:\tlearn: 0.1336831\ttotal: 2m 57s\tremaining: 58.1s\n",
      "226:\tlearn: 0.1335784\ttotal: 2m 58s\tremaining: 57.3s\n",
      "227:\tlearn: 0.1334251\ttotal: 2m 58s\tremaining: 56.5s\n",
      "228:\tlearn: 0.1333535\ttotal: 2m 59s\tremaining: 55.7s\n",
      "229:\tlearn: 0.1332837\ttotal: 3m\tremaining: 54.9s\n",
      "230:\tlearn: 0.1331690\ttotal: 3m 1s\tremaining: 54.1s\n",
      "231:\tlearn: 0.1329309\ttotal: 3m 2s\tremaining: 53.3s\n",
      "232:\tlearn: 0.1328329\ttotal: 3m 2s\tremaining: 52.5s\n",
      "233:\tlearn: 0.1325958\ttotal: 3m 3s\tremaining: 51.8s\n",
      "234:\tlearn: 0.1324529\ttotal: 3m 4s\tremaining: 51s\n",
      "235:\tlearn: 0.1323157\ttotal: 3m 5s\tremaining: 50.2s\n",
      "236:\tlearn: 0.1322161\ttotal: 3m 5s\tremaining: 49.4s\n",
      "237:\tlearn: 0.1321509\ttotal: 3m 6s\tremaining: 48.6s\n",
      "238:\tlearn: 0.1320379\ttotal: 3m 7s\tremaining: 47.8s\n",
      "239:\tlearn: 0.1318294\ttotal: 3m 8s\tremaining: 47s\n",
      "240:\tlearn: 0.1317645\ttotal: 3m 8s\tremaining: 46.2s\n",
      "241:\tlearn: 0.1315965\ttotal: 3m 9s\tremaining: 45.5s\n",
      "242:\tlearn: 0.1314594\ttotal: 3m 10s\tremaining: 44.7s\n",
      "243:\tlearn: 0.1313273\ttotal: 3m 11s\tremaining: 43.9s\n",
      "244:\tlearn: 0.1312145\ttotal: 3m 11s\tremaining: 43.1s\n",
      "245:\tlearn: 0.1311561\ttotal: 3m 12s\tremaining: 42.3s\n",
      "246:\tlearn: 0.1310825\ttotal: 3m 13s\tremaining: 41.5s\n",
      "247:\tlearn: 0.1310146\ttotal: 3m 14s\tremaining: 40.7s\n",
      "248:\tlearn: 0.1309433\ttotal: 3m 14s\tremaining: 39.9s\n",
      "249:\tlearn: 0.1308809\ttotal: 3m 15s\tremaining: 39.1s\n",
      "250:\tlearn: 0.1307986\ttotal: 3m 16s\tremaining: 38.4s\n",
      "251:\tlearn: 0.1306886\ttotal: 3m 17s\tremaining: 37.6s\n",
      "252:\tlearn: 0.1305409\ttotal: 3m 18s\tremaining: 36.8s\n",
      "253:\tlearn: 0.1304763\ttotal: 3m 18s\tremaining: 36s\n",
      "254:\tlearn: 0.1303828\ttotal: 3m 19s\tremaining: 35.2s\n",
      "255:\tlearn: 0.1303052\ttotal: 3m 20s\tremaining: 34.4s\n",
      "256:\tlearn: 0.1302315\ttotal: 3m 21s\tremaining: 33.6s\n",
      "257:\tlearn: 0.1300460\ttotal: 3m 21s\tremaining: 32.9s\n",
      "258:\tlearn: 0.1299578\ttotal: 3m 22s\tremaining: 32.1s\n",
      "259:\tlearn: 0.1296239\ttotal: 3m 23s\tremaining: 31.3s\n",
      "260:\tlearn: 0.1295666\ttotal: 3m 24s\tremaining: 30.5s\n",
      "261:\tlearn: 0.1294971\ttotal: 3m 24s\tremaining: 29.7s\n",
      "262:\tlearn: 0.1293118\ttotal: 3m 25s\tremaining: 28.9s\n",
      "263:\tlearn: 0.1292327\ttotal: 3m 26s\tremaining: 28.2s\n",
      "264:\tlearn: 0.1291220\ttotal: 3m 27s\tremaining: 27.4s\n",
      "265:\tlearn: 0.1289556\ttotal: 3m 27s\tremaining: 26.6s\n",
      "266:\tlearn: 0.1288970\ttotal: 3m 28s\tremaining: 25.8s\n",
      "267:\tlearn: 0.1287738\ttotal: 3m 29s\tremaining: 25s\n",
      "268:\tlearn: 0.1287292\ttotal: 3m 30s\tremaining: 24.2s\n",
      "269:\tlearn: 0.1286604\ttotal: 3m 31s\tremaining: 23.5s\n",
      "270:\tlearn: 0.1286001\ttotal: 3m 31s\tremaining: 22.7s\n",
      "271:\tlearn: 0.1285491\ttotal: 3m 32s\tremaining: 21.9s\n",
      "272:\tlearn: 0.1285059\ttotal: 3m 33s\tremaining: 21.1s\n",
      "273:\tlearn: 0.1284458\ttotal: 3m 34s\tremaining: 20.3s\n",
      "274:\tlearn: 0.1283164\ttotal: 3m 35s\tremaining: 19.6s\n",
      "275:\tlearn: 0.1282505\ttotal: 3m 35s\tremaining: 18.8s\n",
      "276:\tlearn: 0.1281900\ttotal: 3m 36s\tremaining: 18s\n",
      "277:\tlearn: 0.1280439\ttotal: 3m 37s\tremaining: 17.2s\n",
      "278:\tlearn: 0.1278451\ttotal: 3m 38s\tremaining: 16.4s\n",
      "279:\tlearn: 0.1275330\ttotal: 3m 39s\tremaining: 15.7s\n",
      "280:\tlearn: 0.1274048\ttotal: 3m 40s\tremaining: 14.9s\n",
      "281:\tlearn: 0.1273627\ttotal: 3m 40s\tremaining: 14.1s\n",
      "282:\tlearn: 0.1273278\ttotal: 3m 41s\tremaining: 13.3s\n",
      "283:\tlearn: 0.1271485\ttotal: 3m 42s\tremaining: 12.5s\n",
      "284:\tlearn: 0.1270904\ttotal: 3m 43s\tremaining: 11.7s\n",
      "285:\tlearn: 0.1270398\ttotal: 3m 44s\tremaining: 11s\n",
      "286:\tlearn: 0.1269875\ttotal: 3m 44s\tremaining: 10.2s\n",
      "287:\tlearn: 0.1269357\ttotal: 3m 45s\tremaining: 9.4s\n",
      "288:\tlearn: 0.1268344\ttotal: 3m 46s\tremaining: 8.62s\n",
      "289:\tlearn: 0.1267414\ttotal: 3m 47s\tremaining: 7.84s\n",
      "290:\tlearn: 0.1266292\ttotal: 3m 48s\tremaining: 7.06s\n",
      "291:\tlearn: 0.1265791\ttotal: 3m 49s\tremaining: 6.27s\n",
      "292:\tlearn: 0.1265335\ttotal: 3m 49s\tremaining: 5.49s\n",
      "293:\tlearn: 0.1264641\ttotal: 3m 50s\tremaining: 4.71s\n",
      "294:\tlearn: 0.1263475\ttotal: 3m 51s\tremaining: 3.92s\n",
      "295:\tlearn: 0.1263003\ttotal: 3m 52s\tremaining: 3.14s\n",
      "296:\tlearn: 0.1261874\ttotal: 3m 53s\tremaining: 2.36s\n",
      "297:\tlearn: 0.1261380\ttotal: 3m 54s\tremaining: 1.57s\n",
      "298:\tlearn: 0.1260873\ttotal: 3m 54s\tremaining: 786ms\n",
      "299:\tlearn: 0.1260431\ttotal: 3m 55s\tremaining: 0us\n",
      "Learning rate set to 0.235375\n",
      "0:\tlearn: 0.4852459\ttotal: 921ms\tremaining: 4m 35s\n",
      "1:\tlearn: 0.3781059\ttotal: 1.78s\tremaining: 4m 26s\n",
      "2:\tlearn: 0.3222836\ttotal: 2.57s\tremaining: 4m 14s\n",
      "3:\tlearn: 0.2893508\ttotal: 3.36s\tremaining: 4m 8s\n",
      "4:\tlearn: 0.2701378\ttotal: 4.14s\tremaining: 4m 4s\n",
      "5:\tlearn: 0.2562456\ttotal: 4.97s\tremaining: 4m 3s\n",
      "6:\tlearn: 0.2486969\ttotal: 5.83s\tremaining: 4m 3s\n",
      "7:\tlearn: 0.2424270\ttotal: 6.71s\tremaining: 4m 4s\n",
      "8:\tlearn: 0.2378537\ttotal: 7.58s\tremaining: 4m 5s\n",
      "9:\tlearn: 0.2325563\ttotal: 8.52s\tremaining: 4m 6s\n",
      "10:\tlearn: 0.2287128\ttotal: 9.36s\tremaining: 4m 6s\n",
      "11:\tlearn: 0.2258913\ttotal: 10.2s\tremaining: 4m 5s\n",
      "12:\tlearn: 0.2235508\ttotal: 11.1s\tremaining: 4m 4s\n",
      "13:\tlearn: 0.2206835\ttotal: 11.9s\tremaining: 4m 3s\n",
      "14:\tlearn: 0.2175872\ttotal: 12.8s\tremaining: 4m 3s\n",
      "15:\tlearn: 0.2157485\ttotal: 13.6s\tremaining: 4m 1s\n",
      "16:\tlearn: 0.2137983\ttotal: 14.5s\tremaining: 4m 1s\n",
      "17:\tlearn: 0.2122500\ttotal: 15.3s\tremaining: 4m\n",
      "18:\tlearn: 0.2100956\ttotal: 16.2s\tremaining: 3m 59s\n",
      "19:\tlearn: 0.2087071\ttotal: 17s\tremaining: 3m 57s\n",
      "20:\tlearn: 0.2072326\ttotal: 17.7s\tremaining: 3m 55s\n",
      "21:\tlearn: 0.2057916\ttotal: 18.5s\tremaining: 3m 53s\n",
      "22:\tlearn: 0.2035794\ttotal: 19.3s\tremaining: 3m 51s\n",
      "23:\tlearn: 0.2023075\ttotal: 20s\tremaining: 3m 50s\n",
      "24:\tlearn: 0.2011955\ttotal: 20.8s\tremaining: 3m 48s\n",
      "25:\tlearn: 0.2001512\ttotal: 21.6s\tremaining: 3m 47s\n",
      "26:\tlearn: 0.1986920\ttotal: 22.3s\tremaining: 3m 45s\n",
      "27:\tlearn: 0.1971041\ttotal: 23.2s\tremaining: 3m 44s\n",
      "28:\tlearn: 0.1961550\ttotal: 23.9s\tremaining: 3m 43s\n",
      "29:\tlearn: 0.1952064\ttotal: 24.7s\tremaining: 3m 42s\n",
      "30:\tlearn: 0.1942370\ttotal: 25.5s\tremaining: 3m 41s\n",
      "31:\tlearn: 0.1927154\ttotal: 26.3s\tremaining: 3m 40s\n",
      "32:\tlearn: 0.1919785\ttotal: 27s\tremaining: 3m 38s\n",
      "33:\tlearn: 0.1910324\ttotal: 27.8s\tremaining: 3m 37s\n",
      "34:\tlearn: 0.1902264\ttotal: 28.5s\tremaining: 3m 36s\n",
      "35:\tlearn: 0.1895144\ttotal: 29.3s\tremaining: 3m 34s\n",
      "36:\tlearn: 0.1886807\ttotal: 30.1s\tremaining: 3m 33s\n",
      "37:\tlearn: 0.1878889\ttotal: 30.8s\tremaining: 3m 32s\n",
      "38:\tlearn: 0.1863683\ttotal: 31.6s\tremaining: 3m 31s\n",
      "39:\tlearn: 0.1855301\ttotal: 32.3s\tremaining: 3m 30s\n",
      "40:\tlearn: 0.1848548\ttotal: 33.1s\tremaining: 3m 29s\n",
      "41:\tlearn: 0.1841469\ttotal: 33.9s\tremaining: 3m 28s\n",
      "42:\tlearn: 0.1834541\ttotal: 34.7s\tremaining: 3m 27s\n",
      "43:\tlearn: 0.1828667\ttotal: 35.4s\tremaining: 3m 26s\n",
      "44:\tlearn: 0.1823137\ttotal: 36.2s\tremaining: 3m 24s\n",
      "45:\tlearn: 0.1817681\ttotal: 36.9s\tremaining: 3m 23s\n",
      "46:\tlearn: 0.1807309\ttotal: 37.7s\tremaining: 3m 22s\n",
      "47:\tlearn: 0.1801701\ttotal: 38.4s\tremaining: 3m 21s\n",
      "48:\tlearn: 0.1795066\ttotal: 39.2s\tremaining: 3m 20s\n",
      "49:\tlearn: 0.1786443\ttotal: 40s\tremaining: 3m 19s\n",
      "50:\tlearn: 0.1781382\ttotal: 40.7s\tremaining: 3m 18s\n",
      "51:\tlearn: 0.1776256\ttotal: 41.5s\tremaining: 3m 17s\n",
      "52:\tlearn: 0.1771508\ttotal: 42.2s\tremaining: 3m 16s\n",
      "53:\tlearn: 0.1764903\ttotal: 43s\tremaining: 3m 15s\n",
      "54:\tlearn: 0.1760553\ttotal: 43.7s\tremaining: 3m 14s\n",
      "55:\tlearn: 0.1752917\ttotal: 44.5s\tremaining: 3m 13s\n",
      "56:\tlearn: 0.1746917\ttotal: 45.3s\tremaining: 3m 12s\n",
      "57:\tlearn: 0.1742621\ttotal: 46s\tremaining: 3m 11s\n",
      "58:\tlearn: 0.1737754\ttotal: 46.8s\tremaining: 3m 11s\n",
      "59:\tlearn: 0.1732892\ttotal: 47.5s\tremaining: 3m 10s\n",
      "60:\tlearn: 0.1726434\ttotal: 48.3s\tremaining: 3m 9s\n",
      "61:\tlearn: 0.1722723\ttotal: 49s\tremaining: 3m 8s\n",
      "62:\tlearn: 0.1718351\ttotal: 49.8s\tremaining: 3m 7s\n",
      "63:\tlearn: 0.1714593\ttotal: 50.6s\tremaining: 3m 6s\n",
      "64:\tlearn: 0.1710153\ttotal: 51.3s\tremaining: 3m 5s\n",
      "65:\tlearn: 0.1706638\ttotal: 52.1s\tremaining: 3m 4s\n",
      "66:\tlearn: 0.1703426\ttotal: 52.8s\tremaining: 3m 3s\n",
      "67:\tlearn: 0.1698754\ttotal: 53.6s\tremaining: 3m 2s\n",
      "68:\tlearn: 0.1691530\ttotal: 54.4s\tremaining: 3m 1s\n",
      "69:\tlearn: 0.1688128\ttotal: 55.1s\tremaining: 3m 1s\n",
      "70:\tlearn: 0.1684100\ttotal: 55.9s\tremaining: 3m\n",
      "71:\tlearn: 0.1678646\ttotal: 56.6s\tremaining: 2m 59s\n",
      "72:\tlearn: 0.1675254\ttotal: 57.4s\tremaining: 2m 58s\n",
      "73:\tlearn: 0.1669280\ttotal: 58.1s\tremaining: 2m 57s\n",
      "74:\tlearn: 0.1663406\ttotal: 58.9s\tremaining: 2m 56s\n",
      "75:\tlearn: 0.1660422\ttotal: 59.6s\tremaining: 2m 55s\n",
      "76:\tlearn: 0.1657307\ttotal: 1m\tremaining: 2m 55s\n",
      "77:\tlearn: 0.1654119\ttotal: 1m 1s\tremaining: 2m 54s\n",
      "78:\tlearn: 0.1650818\ttotal: 1m 2s\tremaining: 2m 53s\n",
      "79:\tlearn: 0.1646216\ttotal: 1m 2s\tremaining: 2m 52s\n",
      "80:\tlearn: 0.1642714\ttotal: 1m 3s\tremaining: 2m 51s\n",
      "81:\tlearn: 0.1639528\ttotal: 1m 4s\tremaining: 2m 51s\n",
      "82:\tlearn: 0.1632172\ttotal: 1m 5s\tremaining: 2m 50s\n",
      "83:\tlearn: 0.1628779\ttotal: 1m 5s\tremaining: 2m 49s\n",
      "84:\tlearn: 0.1625124\ttotal: 1m 6s\tremaining: 2m 48s\n",
      "85:\tlearn: 0.1621027\ttotal: 1m 7s\tremaining: 2m 47s\n",
      "86:\tlearn: 0.1618435\ttotal: 1m 8s\tremaining: 2m 46s\n",
      "87:\tlearn: 0.1613476\ttotal: 1m 8s\tremaining: 2m 46s\n",
      "88:\tlearn: 0.1610938\ttotal: 1m 9s\tremaining: 2m 45s\n",
      "89:\tlearn: 0.1607183\ttotal: 1m 10s\tremaining: 2m 44s\n",
      "90:\tlearn: 0.1604006\ttotal: 1m 11s\tremaining: 2m 43s\n",
      "91:\tlearn: 0.1599102\ttotal: 1m 11s\tremaining: 2m 42s\n",
      "92:\tlearn: 0.1596001\ttotal: 1m 12s\tremaining: 2m 41s\n",
      "93:\tlearn: 0.1591873\ttotal: 1m 13s\tremaining: 2m 40s\n",
      "94:\tlearn: 0.1588922\ttotal: 1m 14s\tremaining: 2m 40s\n",
      "95:\tlearn: 0.1586048\ttotal: 1m 14s\tremaining: 2m 39s\n",
      "96:\tlearn: 0.1583570\ttotal: 1m 15s\tremaining: 2m 38s\n",
      "97:\tlearn: 0.1581197\ttotal: 1m 16s\tremaining: 2m 37s\n",
      "98:\tlearn: 0.1576288\ttotal: 1m 17s\tremaining: 2m 36s\n",
      "99:\tlearn: 0.1570986\ttotal: 1m 18s\tremaining: 2m 36s\n",
      "100:\tlearn: 0.1567343\ttotal: 1m 18s\tremaining: 2m 35s\n",
      "101:\tlearn: 0.1563023\ttotal: 1m 19s\tremaining: 2m 34s\n",
      "102:\tlearn: 0.1560255\ttotal: 1m 20s\tremaining: 2m 33s\n",
      "103:\tlearn: 0.1557429\ttotal: 1m 21s\tremaining: 2m 32s\n",
      "104:\tlearn: 0.1555275\ttotal: 1m 21s\tremaining: 2m 31s\n",
      "105:\tlearn: 0.1553116\ttotal: 1m 22s\tremaining: 2m 31s\n",
      "106:\tlearn: 0.1549978\ttotal: 1m 23s\tremaining: 2m 30s\n",
      "107:\tlearn: 0.1545839\ttotal: 1m 24s\tremaining: 2m 29s\n",
      "108:\tlearn: 0.1542625\ttotal: 1m 24s\tremaining: 2m 28s\n",
      "109:\tlearn: 0.1540405\ttotal: 1m 25s\tremaining: 2m 27s\n",
      "110:\tlearn: 0.1538794\ttotal: 1m 26s\tremaining: 2m 27s\n",
      "111:\tlearn: 0.1535465\ttotal: 1m 27s\tremaining: 2m 26s\n",
      "112:\tlearn: 0.1532123\ttotal: 1m 27s\tremaining: 2m 25s\n",
      "113:\tlearn: 0.1527246\ttotal: 1m 28s\tremaining: 2m 24s\n",
      "114:\tlearn: 0.1525154\ttotal: 1m 29s\tremaining: 2m 23s\n",
      "115:\tlearn: 0.1522715\ttotal: 1m 30s\tremaining: 2m 22s\n",
      "116:\tlearn: 0.1520842\ttotal: 1m 30s\tremaining: 2m 22s\n",
      "117:\tlearn: 0.1518464\ttotal: 1m 31s\tremaining: 2m 21s\n",
      "118:\tlearn: 0.1515585\ttotal: 1m 32s\tremaining: 2m 20s\n",
      "119:\tlearn: 0.1513830\ttotal: 1m 33s\tremaining: 2m 19s\n",
      "120:\tlearn: 0.1509777\ttotal: 1m 33s\tremaining: 2m 18s\n",
      "121:\tlearn: 0.1507862\ttotal: 1m 34s\tremaining: 2m 17s\n",
      "122:\tlearn: 0.1504496\ttotal: 1m 35s\tremaining: 2m 17s\n",
      "123:\tlearn: 0.1501996\ttotal: 1m 36s\tremaining: 2m 16s\n",
      "124:\tlearn: 0.1499770\ttotal: 1m 36s\tremaining: 2m 15s\n",
      "125:\tlearn: 0.1497766\ttotal: 1m 37s\tremaining: 2m 14s\n",
      "126:\tlearn: 0.1496130\ttotal: 1m 38s\tremaining: 2m 13s\n",
      "127:\tlearn: 0.1493895\ttotal: 1m 39s\tremaining: 2m 13s\n",
      "128:\tlearn: 0.1492337\ttotal: 1m 39s\tremaining: 2m 12s\n",
      "129:\tlearn: 0.1489895\ttotal: 1m 40s\tremaining: 2m 11s\n",
      "130:\tlearn: 0.1487490\ttotal: 1m 41s\tremaining: 2m 10s\n",
      "131:\tlearn: 0.1483327\ttotal: 1m 42s\tremaining: 2m 9s\n",
      "132:\tlearn: 0.1481798\ttotal: 1m 42s\tremaining: 2m 9s\n",
      "133:\tlearn: 0.1480272\ttotal: 1m 43s\tremaining: 2m 8s\n",
      "134:\tlearn: 0.1478132\ttotal: 1m 44s\tremaining: 2m 7s\n",
      "135:\tlearn: 0.1476228\ttotal: 1m 45s\tremaining: 2m 6s\n",
      "136:\tlearn: 0.1472700\ttotal: 1m 45s\tremaining: 2m 5s\n",
      "137:\tlearn: 0.1470927\ttotal: 1m 46s\tremaining: 2m 5s\n",
      "138:\tlearn: 0.1469508\ttotal: 1m 47s\tremaining: 2m 4s\n",
      "139:\tlearn: 0.1467717\ttotal: 1m 48s\tremaining: 2m 3s\n",
      "140:\tlearn: 0.1465354\ttotal: 1m 48s\tremaining: 2m 2s\n",
      "141:\tlearn: 0.1461743\ttotal: 1m 49s\tremaining: 2m 1s\n",
      "142:\tlearn: 0.1459838\ttotal: 1m 50s\tremaining: 2m 1s\n",
      "143:\tlearn: 0.1457138\ttotal: 1m 51s\tremaining: 2m\n",
      "144:\tlearn: 0.1455701\ttotal: 1m 51s\tremaining: 1m 59s\n",
      "145:\tlearn: 0.1454035\ttotal: 1m 52s\tremaining: 1m 58s\n",
      "146:\tlearn: 0.1452576\ttotal: 1m 53s\tremaining: 1m 57s\n",
      "147:\tlearn: 0.1451501\ttotal: 1m 54s\tremaining: 1m 57s\n",
      "148:\tlearn: 0.1449993\ttotal: 1m 54s\tremaining: 1m 56s\n",
      "149:\tlearn: 0.1447746\ttotal: 1m 55s\tremaining: 1m 55s\n",
      "150:\tlearn: 0.1445376\ttotal: 1m 56s\tremaining: 1m 54s\n",
      "151:\tlearn: 0.1443387\ttotal: 1m 57s\tremaining: 1m 53s\n",
      "152:\tlearn: 0.1442167\ttotal: 1m 57s\tremaining: 1m 53s\n",
      "153:\tlearn: 0.1440418\ttotal: 1m 58s\tremaining: 1m 52s\n",
      "154:\tlearn: 0.1436856\ttotal: 1m 59s\tremaining: 1m 51s\n",
      "155:\tlearn: 0.1432789\ttotal: 2m\tremaining: 1m 51s\n",
      "156:\tlearn: 0.1429435\ttotal: 2m 1s\tremaining: 1m 50s\n",
      "157:\tlearn: 0.1427665\ttotal: 2m 1s\tremaining: 1m 49s\n",
      "158:\tlearn: 0.1425659\ttotal: 2m 2s\tremaining: 1m 48s\n",
      "159:\tlearn: 0.1423816\ttotal: 2m 3s\tremaining: 1m 47s\n",
      "160:\tlearn: 0.1422719\ttotal: 2m 4s\tremaining: 1m 47s\n",
      "161:\tlearn: 0.1421580\ttotal: 2m 4s\tremaining: 1m 46s\n",
      "162:\tlearn: 0.1419802\ttotal: 2m 5s\tremaining: 1m 45s\n",
      "163:\tlearn: 0.1417237\ttotal: 2m 6s\tremaining: 1m 45s\n",
      "164:\tlearn: 0.1415437\ttotal: 2m 7s\tremaining: 1m 44s\n",
      "165:\tlearn: 0.1413320\ttotal: 2m 8s\tremaining: 1m 43s\n",
      "166:\tlearn: 0.1412088\ttotal: 2m 9s\tremaining: 1m 42s\n",
      "167:\tlearn: 0.1409234\ttotal: 2m 9s\tremaining: 1m 42s\n",
      "168:\tlearn: 0.1407545\ttotal: 2m 10s\tremaining: 1m 41s\n",
      "169:\tlearn: 0.1406156\ttotal: 2m 11s\tremaining: 1m 40s\n",
      "170:\tlearn: 0.1404740\ttotal: 2m 12s\tremaining: 1m 39s\n",
      "171:\tlearn: 0.1402885\ttotal: 2m 13s\tremaining: 1m 39s\n",
      "172:\tlearn: 0.1400000\ttotal: 2m 14s\tremaining: 1m 38s\n",
      "173:\tlearn: 0.1398070\ttotal: 2m 15s\tremaining: 1m 37s\n",
      "174:\tlearn: 0.1396384\ttotal: 2m 15s\tremaining: 1m 37s\n",
      "175:\tlearn: 0.1395266\ttotal: 2m 16s\tremaining: 1m 36s\n",
      "176:\tlearn: 0.1393622\ttotal: 2m 17s\tremaining: 1m 35s\n",
      "177:\tlearn: 0.1391957\ttotal: 2m 18s\tremaining: 1m 34s\n",
      "178:\tlearn: 0.1390982\ttotal: 2m 18s\tremaining: 1m 33s\n",
      "179:\tlearn: 0.1389701\ttotal: 2m 19s\tremaining: 1m 33s\n",
      "180:\tlearn: 0.1388650\ttotal: 2m 20s\tremaining: 1m 32s\n",
      "181:\tlearn: 0.1387558\ttotal: 2m 21s\tremaining: 1m 31s\n",
      "182:\tlearn: 0.1386214\ttotal: 2m 21s\tremaining: 1m 30s\n",
      "183:\tlearn: 0.1384580\ttotal: 2m 22s\tremaining: 1m 29s\n",
      "184:\tlearn: 0.1383797\ttotal: 2m 23s\tremaining: 1m 29s\n",
      "185:\tlearn: 0.1382037\ttotal: 2m 24s\tremaining: 1m 28s\n",
      "186:\tlearn: 0.1380960\ttotal: 2m 25s\tremaining: 1m 27s\n",
      "187:\tlearn: 0.1379202\ttotal: 2m 25s\tremaining: 1m 26s\n",
      "188:\tlearn: 0.1378416\ttotal: 2m 26s\tremaining: 1m 26s\n",
      "189:\tlearn: 0.1376804\ttotal: 2m 27s\tremaining: 1m 25s\n",
      "190:\tlearn: 0.1374934\ttotal: 2m 28s\tremaining: 1m 24s\n",
      "191:\tlearn: 0.1373566\ttotal: 2m 28s\tremaining: 1m 23s\n",
      "192:\tlearn: 0.1372740\ttotal: 2m 29s\tremaining: 1m 22s\n",
      "193:\tlearn: 0.1371734\ttotal: 2m 30s\tremaining: 1m 22s\n",
      "194:\tlearn: 0.1368811\ttotal: 2m 31s\tremaining: 1m 21s\n",
      "195:\tlearn: 0.1367442\ttotal: 2m 31s\tremaining: 1m 20s\n",
      "196:\tlearn: 0.1366144\ttotal: 2m 32s\tremaining: 1m 19s\n",
      "197:\tlearn: 0.1364973\ttotal: 2m 33s\tremaining: 1m 19s\n",
      "198:\tlearn: 0.1363130\ttotal: 2m 34s\tremaining: 1m 18s\n",
      "199:\tlearn: 0.1362054\ttotal: 2m 34s\tremaining: 1m 17s\n",
      "200:\tlearn: 0.1361337\ttotal: 2m 35s\tremaining: 1m 16s\n",
      "201:\tlearn: 0.1359705\ttotal: 2m 36s\tremaining: 1m 15s\n",
      "202:\tlearn: 0.1358378\ttotal: 2m 37s\tremaining: 1m 15s\n",
      "203:\tlearn: 0.1357514\ttotal: 2m 37s\tremaining: 1m 14s\n",
      "204:\tlearn: 0.1356026\ttotal: 2m 38s\tremaining: 1m 13s\n",
      "205:\tlearn: 0.1355225\ttotal: 2m 39s\tremaining: 1m 12s\n",
      "206:\tlearn: 0.1353766\ttotal: 2m 40s\tremaining: 1m 11s\n",
      "207:\tlearn: 0.1352608\ttotal: 2m 41s\tremaining: 1m 11s\n",
      "208:\tlearn: 0.1351668\ttotal: 2m 41s\tremaining: 1m 10s\n",
      "209:\tlearn: 0.1349800\ttotal: 2m 42s\tremaining: 1m 9s\n",
      "210:\tlearn: 0.1349093\ttotal: 2m 43s\tremaining: 1m 8s\n",
      "211:\tlearn: 0.1348348\ttotal: 2m 44s\tremaining: 1m 8s\n",
      "212:\tlearn: 0.1346763\ttotal: 2m 44s\tremaining: 1m 7s\n",
      "213:\tlearn: 0.1345531\ttotal: 2m 45s\tremaining: 1m 6s\n",
      "214:\tlearn: 0.1344397\ttotal: 2m 46s\tremaining: 1m 5s\n",
      "215:\tlearn: 0.1343234\ttotal: 2m 47s\tremaining: 1m 4s\n",
      "216:\tlearn: 0.1342368\ttotal: 2m 47s\tremaining: 1m 4s\n",
      "217:\tlearn: 0.1341332\ttotal: 2m 48s\tremaining: 1m 3s\n",
      "218:\tlearn: 0.1340353\ttotal: 2m 49s\tremaining: 1m 2s\n",
      "219:\tlearn: 0.1338775\ttotal: 2m 50s\tremaining: 1m 1s\n",
      "220:\tlearn: 0.1337491\ttotal: 2m 50s\tremaining: 1m 1s\n",
      "221:\tlearn: 0.1335398\ttotal: 2m 51s\tremaining: 1m\n",
      "222:\tlearn: 0.1334079\ttotal: 2m 52s\tremaining: 59.5s\n",
      "223:\tlearn: 0.1332425\ttotal: 2m 53s\tremaining: 58.8s\n",
      "224:\tlearn: 0.1330225\ttotal: 2m 53s\tremaining: 58s\n",
      "225:\tlearn: 0.1328961\ttotal: 2m 54s\tremaining: 57.2s\n",
      "226:\tlearn: 0.1328241\ttotal: 2m 55s\tremaining: 56.4s\n",
      "227:\tlearn: 0.1327465\ttotal: 2m 56s\tremaining: 55.7s\n",
      "228:\tlearn: 0.1326116\ttotal: 2m 57s\tremaining: 54.9s\n",
      "229:\tlearn: 0.1325201\ttotal: 2m 57s\tremaining: 54.1s\n",
      "230:\tlearn: 0.1322361\ttotal: 2m 58s\tremaining: 53.3s\n",
      "231:\tlearn: 0.1321676\ttotal: 2m 59s\tremaining: 52.6s\n",
      "232:\tlearn: 0.1321088\ttotal: 3m\tremaining: 51.8s\n",
      "233:\tlearn: 0.1319284\ttotal: 3m 1s\tremaining: 51.1s\n",
      "234:\tlearn: 0.1318699\ttotal: 3m 1s\tremaining: 50.3s\n",
      "235:\tlearn: 0.1317997\ttotal: 3m 2s\tremaining: 49.5s\n",
      "236:\tlearn: 0.1317130\ttotal: 3m 3s\tremaining: 48.7s\n",
      "237:\tlearn: 0.1316407\ttotal: 3m 4s\tremaining: 48s\n",
      "238:\tlearn: 0.1313830\ttotal: 3m 4s\tremaining: 47.2s\n",
      "239:\tlearn: 0.1312342\ttotal: 3m 5s\tremaining: 46.4s\n",
      "240:\tlearn: 0.1311583\ttotal: 3m 6s\tremaining: 45.6s\n",
      "241:\tlearn: 0.1310439\ttotal: 3m 7s\tremaining: 44.9s\n",
      "242:\tlearn: 0.1309702\ttotal: 3m 7s\tremaining: 44.1s\n",
      "243:\tlearn: 0.1308955\ttotal: 3m 8s\tremaining: 43.3s\n",
      "244:\tlearn: 0.1308050\ttotal: 3m 9s\tremaining: 42.5s\n",
      "245:\tlearn: 0.1307367\ttotal: 3m 10s\tremaining: 41.7s\n",
      "246:\tlearn: 0.1306013\ttotal: 3m 10s\tremaining: 41s\n",
      "247:\tlearn: 0.1304735\ttotal: 3m 11s\tremaining: 40.2s\n",
      "248:\tlearn: 0.1303223\ttotal: 3m 12s\tremaining: 39.4s\n",
      "249:\tlearn: 0.1302591\ttotal: 3m 13s\tremaining: 38.6s\n",
      "250:\tlearn: 0.1301398\ttotal: 3m 14s\tremaining: 37.9s\n",
      "251:\tlearn: 0.1300629\ttotal: 3m 14s\tremaining: 37.1s\n",
      "252:\tlearn: 0.1299719\ttotal: 3m 15s\tremaining: 36.3s\n",
      "253:\tlearn: 0.1299096\ttotal: 3m 16s\tremaining: 35.5s\n",
      "254:\tlearn: 0.1298432\ttotal: 3m 17s\tremaining: 34.8s\n",
      "255:\tlearn: 0.1297747\ttotal: 3m 17s\tremaining: 34s\n",
      "256:\tlearn: 0.1296717\ttotal: 3m 18s\tremaining: 33.2s\n",
      "257:\tlearn: 0.1296060\ttotal: 3m 19s\tremaining: 32.4s\n",
      "258:\tlearn: 0.1293844\ttotal: 3m 20s\tremaining: 31.7s\n",
      "259:\tlearn: 0.1293341\ttotal: 3m 20s\tremaining: 30.9s\n",
      "260:\tlearn: 0.1292112\ttotal: 3m 21s\tremaining: 30.1s\n",
      "261:\tlearn: 0.1291489\ttotal: 3m 22s\tremaining: 29.3s\n",
      "262:\tlearn: 0.1290843\ttotal: 3m 23s\tremaining: 28.6s\n",
      "263:\tlearn: 0.1289425\ttotal: 3m 23s\tremaining: 27.8s\n",
      "264:\tlearn: 0.1287925\ttotal: 3m 24s\tremaining: 27s\n",
      "265:\tlearn: 0.1286789\ttotal: 3m 25s\tremaining: 26.3s\n",
      "266:\tlearn: 0.1286208\ttotal: 3m 26s\tremaining: 25.5s\n",
      "267:\tlearn: 0.1285572\ttotal: 3m 27s\tremaining: 24.7s\n",
      "268:\tlearn: 0.1284788\ttotal: 3m 27s\tremaining: 23.9s\n",
      "269:\tlearn: 0.1283590\ttotal: 3m 28s\tremaining: 23.2s\n",
      "270:\tlearn: 0.1283055\ttotal: 3m 29s\tremaining: 22.4s\n",
      "271:\tlearn: 0.1282442\ttotal: 3m 30s\tremaining: 21.6s\n",
      "272:\tlearn: 0.1281930\ttotal: 3m 30s\tremaining: 20.8s\n",
      "273:\tlearn: 0.1280907\ttotal: 3m 31s\tremaining: 20.1s\n",
      "274:\tlearn: 0.1280130\ttotal: 3m 32s\tremaining: 19.3s\n",
      "275:\tlearn: 0.1278740\ttotal: 3m 33s\tremaining: 18.5s\n",
      "276:\tlearn: 0.1277721\ttotal: 3m 33s\tremaining: 17.8s\n",
      "277:\tlearn: 0.1276689\ttotal: 3m 34s\tremaining: 17s\n",
      "278:\tlearn: 0.1276216\ttotal: 3m 35s\tremaining: 16.2s\n",
      "279:\tlearn: 0.1274867\ttotal: 3m 36s\tremaining: 15.4s\n",
      "280:\tlearn: 0.1273291\ttotal: 3m 37s\tremaining: 14.7s\n",
      "281:\tlearn: 0.1272501\ttotal: 3m 37s\tremaining: 13.9s\n",
      "282:\tlearn: 0.1271418\ttotal: 3m 38s\tremaining: 13.1s\n",
      "283:\tlearn: 0.1269151\ttotal: 3m 39s\tremaining: 12.4s\n",
      "284:\tlearn: 0.1268723\ttotal: 3m 40s\tremaining: 11.6s\n",
      "285:\tlearn: 0.1267713\ttotal: 3m 40s\tremaining: 10.8s\n",
      "286:\tlearn: 0.1266804\ttotal: 3m 41s\tremaining: 10s\n",
      "287:\tlearn: 0.1266278\ttotal: 3m 42s\tremaining: 9.27s\n",
      "288:\tlearn: 0.1265668\ttotal: 3m 43s\tremaining: 8.49s\n",
      "289:\tlearn: 0.1265155\ttotal: 3m 43s\tremaining: 7.72s\n",
      "290:\tlearn: 0.1264151\ttotal: 3m 44s\tremaining: 6.95s\n",
      "291:\tlearn: 0.1263120\ttotal: 3m 45s\tremaining: 6.17s\n",
      "292:\tlearn: 0.1262179\ttotal: 3m 46s\tremaining: 5.4s\n",
      "293:\tlearn: 0.1261549\ttotal: 3m 46s\tremaining: 4.63s\n",
      "294:\tlearn: 0.1260671\ttotal: 3m 47s\tremaining: 3.86s\n",
      "295:\tlearn: 0.1260126\ttotal: 3m 48s\tremaining: 3.09s\n",
      "296:\tlearn: 0.1259263\ttotal: 3m 49s\tremaining: 2.31s\n",
      "297:\tlearn: 0.1258695\ttotal: 3m 49s\tremaining: 1.54s\n",
      "298:\tlearn: 0.1258191\ttotal: 3m 50s\tremaining: 772ms\n",
      "299:\tlearn: 0.1257641\ttotal: 3m 51s\tremaining: 0us\n",
      "Learning rate set to 0.235375\n",
      "0:\tlearn: 0.4850969\ttotal: 869ms\tremaining: 4m 19s\n",
      "1:\tlearn: 0.3794563\ttotal: 1.66s\tremaining: 4m 8s\n",
      "2:\tlearn: 0.3231301\ttotal: 2.46s\tremaining: 4m 3s\n",
      "3:\tlearn: 0.2897703\ttotal: 3.26s\tremaining: 4m 1s\n",
      "4:\tlearn: 0.2699559\ttotal: 4.05s\tremaining: 3m 59s\n",
      "5:\tlearn: 0.2572573\ttotal: 4.83s\tremaining: 3m 56s\n",
      "6:\tlearn: 0.2485462\ttotal: 5.6s\tremaining: 3m 54s\n"
     ]
    },
    {
     "ename": "KeyboardInterrupt",
     "evalue": "",
     "output_type": "error",
     "traceback": [
      "\u001b[0;31m---------------------------------------------------------------------------\u001b[0m",
      "\u001b[0;31mKeyboardInterrupt\u001b[0m                         Traceback (most recent call last)",
      "\u001b[0;32m<timed eval>\u001b[0m in \u001b[0;36m<module>\u001b[0;34m\u001b[0m\n",
      "\u001b[0;32m/opt/conda/lib/python3.9/site-packages/sklearn/utils/validation.py\u001b[0m in \u001b[0;36minner_f\u001b[0;34m(*args, **kwargs)\u001b[0m\n\u001b[1;32m     61\u001b[0m             \u001b[0mextra_args\u001b[0m \u001b[0;34m=\u001b[0m \u001b[0mlen\u001b[0m\u001b[0;34m(\u001b[0m\u001b[0margs\u001b[0m\u001b[0;34m)\u001b[0m \u001b[0;34m-\u001b[0m \u001b[0mlen\u001b[0m\u001b[0;34m(\u001b[0m\u001b[0mall_args\u001b[0m\u001b[0;34m)\u001b[0m\u001b[0;34m\u001b[0m\u001b[0;34m\u001b[0m\u001b[0m\n\u001b[1;32m     62\u001b[0m             \u001b[0;32mif\u001b[0m \u001b[0mextra_args\u001b[0m \u001b[0;34m<=\u001b[0m \u001b[0;36m0\u001b[0m\u001b[0;34m:\u001b[0m\u001b[0;34m\u001b[0m\u001b[0;34m\u001b[0m\u001b[0m\n\u001b[0;32m---> 63\u001b[0;31m                 \u001b[0;32mreturn\u001b[0m \u001b[0mf\u001b[0m\u001b[0;34m(\u001b[0m\u001b[0;34m*\u001b[0m\u001b[0margs\u001b[0m\u001b[0;34m,\u001b[0m \u001b[0;34m**\u001b[0m\u001b[0mkwargs\u001b[0m\u001b[0;34m)\u001b[0m\u001b[0;34m\u001b[0m\u001b[0;34m\u001b[0m\u001b[0m\n\u001b[0m\u001b[1;32m     64\u001b[0m \u001b[0;34m\u001b[0m\u001b[0m\n\u001b[1;32m     65\u001b[0m             \u001b[0;31m# extra_args > 0\u001b[0m\u001b[0;34m\u001b[0m\u001b[0;34m\u001b[0m\u001b[0;34m\u001b[0m\u001b[0m\n",
      "\u001b[0;32m/opt/conda/lib/python3.9/site-packages/sklearn/model_selection/_search.py\u001b[0m in \u001b[0;36mfit\u001b[0;34m(self, X, y, groups, **fit_params)\u001b[0m\n\u001b[1;32m    839\u001b[0m                 \u001b[0;32mreturn\u001b[0m \u001b[0mresults\u001b[0m\u001b[0;34m\u001b[0m\u001b[0;34m\u001b[0m\u001b[0m\n\u001b[1;32m    840\u001b[0m \u001b[0;34m\u001b[0m\u001b[0m\n\u001b[0;32m--> 841\u001b[0;31m             \u001b[0mself\u001b[0m\u001b[0;34m.\u001b[0m\u001b[0m_run_search\u001b[0m\u001b[0;34m(\u001b[0m\u001b[0mevaluate_candidates\u001b[0m\u001b[0;34m)\u001b[0m\u001b[0;34m\u001b[0m\u001b[0;34m\u001b[0m\u001b[0m\n\u001b[0m\u001b[1;32m    842\u001b[0m \u001b[0;34m\u001b[0m\u001b[0m\n\u001b[1;32m    843\u001b[0m             \u001b[0;31m# multimetric is determined here because in the case of a callable\u001b[0m\u001b[0;34m\u001b[0m\u001b[0;34m\u001b[0m\u001b[0;34m\u001b[0m\u001b[0m\n",
      "\u001b[0;32m/opt/conda/lib/python3.9/site-packages/sklearn/model_selection/_search.py\u001b[0m in \u001b[0;36m_run_search\u001b[0;34m(self, evaluate_candidates)\u001b[0m\n\u001b[1;32m   1286\u001b[0m     \u001b[0;32mdef\u001b[0m \u001b[0m_run_search\u001b[0m\u001b[0;34m(\u001b[0m\u001b[0mself\u001b[0m\u001b[0;34m,\u001b[0m \u001b[0mevaluate_candidates\u001b[0m\u001b[0;34m)\u001b[0m\u001b[0;34m:\u001b[0m\u001b[0;34m\u001b[0m\u001b[0;34m\u001b[0m\u001b[0m\n\u001b[1;32m   1287\u001b[0m         \u001b[0;34m\"\"\"Search all candidates in param_grid\"\"\"\u001b[0m\u001b[0;34m\u001b[0m\u001b[0;34m\u001b[0m\u001b[0m\n\u001b[0;32m-> 1288\u001b[0;31m         \u001b[0mevaluate_candidates\u001b[0m\u001b[0;34m(\u001b[0m\u001b[0mParameterGrid\u001b[0m\u001b[0;34m(\u001b[0m\u001b[0mself\u001b[0m\u001b[0;34m.\u001b[0m\u001b[0mparam_grid\u001b[0m\u001b[0;34m)\u001b[0m\u001b[0;34m)\u001b[0m\u001b[0;34m\u001b[0m\u001b[0;34m\u001b[0m\u001b[0m\n\u001b[0m\u001b[1;32m   1289\u001b[0m \u001b[0;34m\u001b[0m\u001b[0m\n\u001b[1;32m   1290\u001b[0m \u001b[0;34m\u001b[0m\u001b[0m\n",
      "\u001b[0;32m/opt/conda/lib/python3.9/site-packages/sklearn/model_selection/_search.py\u001b[0m in \u001b[0;36mevaluate_candidates\u001b[0;34m(candidate_params, cv, more_results)\u001b[0m\n\u001b[1;32m    793\u001b[0m                               n_splits, n_candidates, n_candidates * n_splits))\n\u001b[1;32m    794\u001b[0m \u001b[0;34m\u001b[0m\u001b[0m\n\u001b[0;32m--> 795\u001b[0;31m                 out = parallel(delayed(_fit_and_score)(clone(base_estimator),\n\u001b[0m\u001b[1;32m    796\u001b[0m                                                        \u001b[0mX\u001b[0m\u001b[0;34m,\u001b[0m \u001b[0my\u001b[0m\u001b[0;34m,\u001b[0m\u001b[0;34m\u001b[0m\u001b[0;34m\u001b[0m\u001b[0m\n\u001b[1;32m    797\u001b[0m                                                        \u001b[0mtrain\u001b[0m\u001b[0;34m=\u001b[0m\u001b[0mtrain\u001b[0m\u001b[0;34m,\u001b[0m \u001b[0mtest\u001b[0m\u001b[0;34m=\u001b[0m\u001b[0mtest\u001b[0m\u001b[0;34m,\u001b[0m\u001b[0;34m\u001b[0m\u001b[0;34m\u001b[0m\u001b[0m\n",
      "\u001b[0;32m/opt/conda/lib/python3.9/site-packages/joblib/parallel.py\u001b[0m in \u001b[0;36m__call__\u001b[0;34m(self, iterable)\u001b[0m\n\u001b[1;32m   1044\u001b[0m                 \u001b[0mself\u001b[0m\u001b[0;34m.\u001b[0m\u001b[0m_iterating\u001b[0m \u001b[0;34m=\u001b[0m \u001b[0mself\u001b[0m\u001b[0;34m.\u001b[0m\u001b[0m_original_iterator\u001b[0m \u001b[0;32mis\u001b[0m \u001b[0;32mnot\u001b[0m \u001b[0;32mNone\u001b[0m\u001b[0;34m\u001b[0m\u001b[0;34m\u001b[0m\u001b[0m\n\u001b[1;32m   1045\u001b[0m \u001b[0;34m\u001b[0m\u001b[0m\n\u001b[0;32m-> 1046\u001b[0;31m             \u001b[0;32mwhile\u001b[0m \u001b[0mself\u001b[0m\u001b[0;34m.\u001b[0m\u001b[0mdispatch_one_batch\u001b[0m\u001b[0;34m(\u001b[0m\u001b[0miterator\u001b[0m\u001b[0;34m)\u001b[0m\u001b[0;34m:\u001b[0m\u001b[0;34m\u001b[0m\u001b[0;34m\u001b[0m\u001b[0m\n\u001b[0m\u001b[1;32m   1047\u001b[0m                 \u001b[0;32mpass\u001b[0m\u001b[0;34m\u001b[0m\u001b[0;34m\u001b[0m\u001b[0m\n\u001b[1;32m   1048\u001b[0m \u001b[0;34m\u001b[0m\u001b[0m\n",
      "\u001b[0;32m/opt/conda/lib/python3.9/site-packages/joblib/parallel.py\u001b[0m in \u001b[0;36mdispatch_one_batch\u001b[0;34m(self, iterator)\u001b[0m\n\u001b[1;32m    859\u001b[0m                 \u001b[0;32mreturn\u001b[0m \u001b[0;32mFalse\u001b[0m\u001b[0;34m\u001b[0m\u001b[0;34m\u001b[0m\u001b[0m\n\u001b[1;32m    860\u001b[0m             \u001b[0;32melse\u001b[0m\u001b[0;34m:\u001b[0m\u001b[0;34m\u001b[0m\u001b[0;34m\u001b[0m\u001b[0m\n\u001b[0;32m--> 861\u001b[0;31m                 \u001b[0mself\u001b[0m\u001b[0;34m.\u001b[0m\u001b[0m_dispatch\u001b[0m\u001b[0;34m(\u001b[0m\u001b[0mtasks\u001b[0m\u001b[0;34m)\u001b[0m\u001b[0;34m\u001b[0m\u001b[0;34m\u001b[0m\u001b[0m\n\u001b[0m\u001b[1;32m    862\u001b[0m                 \u001b[0;32mreturn\u001b[0m \u001b[0;32mTrue\u001b[0m\u001b[0;34m\u001b[0m\u001b[0;34m\u001b[0m\u001b[0m\n\u001b[1;32m    863\u001b[0m \u001b[0;34m\u001b[0m\u001b[0m\n",
      "\u001b[0;32m/opt/conda/lib/python3.9/site-packages/joblib/parallel.py\u001b[0m in \u001b[0;36m_dispatch\u001b[0;34m(self, batch)\u001b[0m\n\u001b[1;32m    777\u001b[0m         \u001b[0;32mwith\u001b[0m \u001b[0mself\u001b[0m\u001b[0;34m.\u001b[0m\u001b[0m_lock\u001b[0m\u001b[0;34m:\u001b[0m\u001b[0;34m\u001b[0m\u001b[0;34m\u001b[0m\u001b[0m\n\u001b[1;32m    778\u001b[0m             \u001b[0mjob_idx\u001b[0m \u001b[0;34m=\u001b[0m \u001b[0mlen\u001b[0m\u001b[0;34m(\u001b[0m\u001b[0mself\u001b[0m\u001b[0;34m.\u001b[0m\u001b[0m_jobs\u001b[0m\u001b[0;34m)\u001b[0m\u001b[0;34m\u001b[0m\u001b[0;34m\u001b[0m\u001b[0m\n\u001b[0;32m--> 779\u001b[0;31m             \u001b[0mjob\u001b[0m \u001b[0;34m=\u001b[0m \u001b[0mself\u001b[0m\u001b[0;34m.\u001b[0m\u001b[0m_backend\u001b[0m\u001b[0;34m.\u001b[0m\u001b[0mapply_async\u001b[0m\u001b[0;34m(\u001b[0m\u001b[0mbatch\u001b[0m\u001b[0;34m,\u001b[0m \u001b[0mcallback\u001b[0m\u001b[0;34m=\u001b[0m\u001b[0mcb\u001b[0m\u001b[0;34m)\u001b[0m\u001b[0;34m\u001b[0m\u001b[0;34m\u001b[0m\u001b[0m\n\u001b[0m\u001b[1;32m    780\u001b[0m             \u001b[0;31m# A job can complete so quickly than its callback is\u001b[0m\u001b[0;34m\u001b[0m\u001b[0;34m\u001b[0m\u001b[0;34m\u001b[0m\u001b[0m\n\u001b[1;32m    781\u001b[0m             \u001b[0;31m# called before we get here, causing self._jobs to\u001b[0m\u001b[0;34m\u001b[0m\u001b[0;34m\u001b[0m\u001b[0;34m\u001b[0m\u001b[0m\n",
      "\u001b[0;32m/opt/conda/lib/python3.9/site-packages/joblib/_parallel_backends.py\u001b[0m in \u001b[0;36mapply_async\u001b[0;34m(self, func, callback)\u001b[0m\n\u001b[1;32m    206\u001b[0m     \u001b[0;32mdef\u001b[0m \u001b[0mapply_async\u001b[0m\u001b[0;34m(\u001b[0m\u001b[0mself\u001b[0m\u001b[0;34m,\u001b[0m \u001b[0mfunc\u001b[0m\u001b[0;34m,\u001b[0m \u001b[0mcallback\u001b[0m\u001b[0;34m=\u001b[0m\u001b[0;32mNone\u001b[0m\u001b[0;34m)\u001b[0m\u001b[0;34m:\u001b[0m\u001b[0;34m\u001b[0m\u001b[0;34m\u001b[0m\u001b[0m\n\u001b[1;32m    207\u001b[0m         \u001b[0;34m\"\"\"Schedule a func to be run\"\"\"\u001b[0m\u001b[0;34m\u001b[0m\u001b[0;34m\u001b[0m\u001b[0m\n\u001b[0;32m--> 208\u001b[0;31m         \u001b[0mresult\u001b[0m \u001b[0;34m=\u001b[0m \u001b[0mImmediateResult\u001b[0m\u001b[0;34m(\u001b[0m\u001b[0mfunc\u001b[0m\u001b[0;34m)\u001b[0m\u001b[0;34m\u001b[0m\u001b[0;34m\u001b[0m\u001b[0m\n\u001b[0m\u001b[1;32m    209\u001b[0m         \u001b[0;32mif\u001b[0m \u001b[0mcallback\u001b[0m\u001b[0;34m:\u001b[0m\u001b[0;34m\u001b[0m\u001b[0;34m\u001b[0m\u001b[0m\n\u001b[1;32m    210\u001b[0m             \u001b[0mcallback\u001b[0m\u001b[0;34m(\u001b[0m\u001b[0mresult\u001b[0m\u001b[0;34m)\u001b[0m\u001b[0;34m\u001b[0m\u001b[0;34m\u001b[0m\u001b[0m\n",
      "\u001b[0;32m/opt/conda/lib/python3.9/site-packages/joblib/_parallel_backends.py\u001b[0m in \u001b[0;36m__init__\u001b[0;34m(self, batch)\u001b[0m\n\u001b[1;32m    570\u001b[0m         \u001b[0;31m# Don't delay the application, to avoid keeping the input\u001b[0m\u001b[0;34m\u001b[0m\u001b[0;34m\u001b[0m\u001b[0;34m\u001b[0m\u001b[0m\n\u001b[1;32m    571\u001b[0m         \u001b[0;31m# arguments in memory\u001b[0m\u001b[0;34m\u001b[0m\u001b[0;34m\u001b[0m\u001b[0;34m\u001b[0m\u001b[0m\n\u001b[0;32m--> 572\u001b[0;31m         \u001b[0mself\u001b[0m\u001b[0;34m.\u001b[0m\u001b[0mresults\u001b[0m \u001b[0;34m=\u001b[0m \u001b[0mbatch\u001b[0m\u001b[0;34m(\u001b[0m\u001b[0;34m)\u001b[0m\u001b[0;34m\u001b[0m\u001b[0;34m\u001b[0m\u001b[0m\n\u001b[0m\u001b[1;32m    573\u001b[0m \u001b[0;34m\u001b[0m\u001b[0m\n\u001b[1;32m    574\u001b[0m     \u001b[0;32mdef\u001b[0m \u001b[0mget\u001b[0m\u001b[0;34m(\u001b[0m\u001b[0mself\u001b[0m\u001b[0;34m)\u001b[0m\u001b[0;34m:\u001b[0m\u001b[0;34m\u001b[0m\u001b[0;34m\u001b[0m\u001b[0m\n",
      "\u001b[0;32m/opt/conda/lib/python3.9/site-packages/joblib/parallel.py\u001b[0m in \u001b[0;36m__call__\u001b[0;34m(self)\u001b[0m\n\u001b[1;32m    260\u001b[0m         \u001b[0;31m# change the default number of processes to -1\u001b[0m\u001b[0;34m\u001b[0m\u001b[0;34m\u001b[0m\u001b[0;34m\u001b[0m\u001b[0m\n\u001b[1;32m    261\u001b[0m         \u001b[0;32mwith\u001b[0m \u001b[0mparallel_backend\u001b[0m\u001b[0;34m(\u001b[0m\u001b[0mself\u001b[0m\u001b[0;34m.\u001b[0m\u001b[0m_backend\u001b[0m\u001b[0;34m,\u001b[0m \u001b[0mn_jobs\u001b[0m\u001b[0;34m=\u001b[0m\u001b[0mself\u001b[0m\u001b[0;34m.\u001b[0m\u001b[0m_n_jobs\u001b[0m\u001b[0;34m)\u001b[0m\u001b[0;34m:\u001b[0m\u001b[0;34m\u001b[0m\u001b[0;34m\u001b[0m\u001b[0m\n\u001b[0;32m--> 262\u001b[0;31m             return [func(*args, **kwargs)\n\u001b[0m\u001b[1;32m    263\u001b[0m                     for func, args, kwargs in self.items]\n\u001b[1;32m    264\u001b[0m \u001b[0;34m\u001b[0m\u001b[0m\n",
      "\u001b[0;32m/opt/conda/lib/python3.9/site-packages/joblib/parallel.py\u001b[0m in \u001b[0;36m<listcomp>\u001b[0;34m(.0)\u001b[0m\n\u001b[1;32m    260\u001b[0m         \u001b[0;31m# change the default number of processes to -1\u001b[0m\u001b[0;34m\u001b[0m\u001b[0;34m\u001b[0m\u001b[0;34m\u001b[0m\u001b[0m\n\u001b[1;32m    261\u001b[0m         \u001b[0;32mwith\u001b[0m \u001b[0mparallel_backend\u001b[0m\u001b[0;34m(\u001b[0m\u001b[0mself\u001b[0m\u001b[0;34m.\u001b[0m\u001b[0m_backend\u001b[0m\u001b[0;34m,\u001b[0m \u001b[0mn_jobs\u001b[0m\u001b[0;34m=\u001b[0m\u001b[0mself\u001b[0m\u001b[0;34m.\u001b[0m\u001b[0m_n_jobs\u001b[0m\u001b[0;34m)\u001b[0m\u001b[0;34m:\u001b[0m\u001b[0;34m\u001b[0m\u001b[0;34m\u001b[0m\u001b[0m\n\u001b[0;32m--> 262\u001b[0;31m             return [func(*args, **kwargs)\n\u001b[0m\u001b[1;32m    263\u001b[0m                     for func, args, kwargs in self.items]\n\u001b[1;32m    264\u001b[0m \u001b[0;34m\u001b[0m\u001b[0m\n",
      "\u001b[0;32m/opt/conda/lib/python3.9/site-packages/sklearn/utils/fixes.py\u001b[0m in \u001b[0;36m__call__\u001b[0;34m(self, *args, **kwargs)\u001b[0m\n\u001b[1;32m    220\u001b[0m     \u001b[0;32mdef\u001b[0m \u001b[0m__call__\u001b[0m\u001b[0;34m(\u001b[0m\u001b[0mself\u001b[0m\u001b[0;34m,\u001b[0m \u001b[0;34m*\u001b[0m\u001b[0margs\u001b[0m\u001b[0;34m,\u001b[0m \u001b[0;34m**\u001b[0m\u001b[0mkwargs\u001b[0m\u001b[0;34m)\u001b[0m\u001b[0;34m:\u001b[0m\u001b[0;34m\u001b[0m\u001b[0;34m\u001b[0m\u001b[0m\n\u001b[1;32m    221\u001b[0m         \u001b[0;32mwith\u001b[0m \u001b[0mconfig_context\u001b[0m\u001b[0;34m(\u001b[0m\u001b[0;34m**\u001b[0m\u001b[0mself\u001b[0m\u001b[0;34m.\u001b[0m\u001b[0mconfig\u001b[0m\u001b[0;34m)\u001b[0m\u001b[0;34m:\u001b[0m\u001b[0;34m\u001b[0m\u001b[0;34m\u001b[0m\u001b[0m\n\u001b[0;32m--> 222\u001b[0;31m             \u001b[0;32mreturn\u001b[0m \u001b[0mself\u001b[0m\u001b[0;34m.\u001b[0m\u001b[0mfunction\u001b[0m\u001b[0;34m(\u001b[0m\u001b[0;34m*\u001b[0m\u001b[0margs\u001b[0m\u001b[0;34m,\u001b[0m \u001b[0;34m**\u001b[0m\u001b[0mkwargs\u001b[0m\u001b[0;34m)\u001b[0m\u001b[0;34m\u001b[0m\u001b[0;34m\u001b[0m\u001b[0m\n\u001b[0m",
      "\u001b[0;32m/opt/conda/lib/python3.9/site-packages/sklearn/model_selection/_validation.py\u001b[0m in \u001b[0;36m_fit_and_score\u001b[0;34m(estimator, X, y, scorer, train, test, verbose, parameters, fit_params, return_train_score, return_parameters, return_n_test_samples, return_times, return_estimator, split_progress, candidate_progress, error_score)\u001b[0m\n\u001b[1;32m    591\u001b[0m             \u001b[0mestimator\u001b[0m\u001b[0;34m.\u001b[0m\u001b[0mfit\u001b[0m\u001b[0;34m(\u001b[0m\u001b[0mX_train\u001b[0m\u001b[0;34m,\u001b[0m \u001b[0;34m**\u001b[0m\u001b[0mfit_params\u001b[0m\u001b[0;34m)\u001b[0m\u001b[0;34m\u001b[0m\u001b[0;34m\u001b[0m\u001b[0m\n\u001b[1;32m    592\u001b[0m         \u001b[0;32melse\u001b[0m\u001b[0;34m:\u001b[0m\u001b[0;34m\u001b[0m\u001b[0;34m\u001b[0m\u001b[0m\n\u001b[0;32m--> 593\u001b[0;31m             \u001b[0mestimator\u001b[0m\u001b[0;34m.\u001b[0m\u001b[0mfit\u001b[0m\u001b[0;34m(\u001b[0m\u001b[0mX_train\u001b[0m\u001b[0;34m,\u001b[0m \u001b[0my_train\u001b[0m\u001b[0;34m,\u001b[0m \u001b[0;34m**\u001b[0m\u001b[0mfit_params\u001b[0m\u001b[0;34m)\u001b[0m\u001b[0;34m\u001b[0m\u001b[0;34m\u001b[0m\u001b[0m\n\u001b[0m\u001b[1;32m    594\u001b[0m \u001b[0;34m\u001b[0m\u001b[0m\n\u001b[1;32m    595\u001b[0m     \u001b[0;32mexcept\u001b[0m \u001b[0mException\u001b[0m \u001b[0;32mas\u001b[0m \u001b[0me\u001b[0m\u001b[0;34m:\u001b[0m\u001b[0;34m\u001b[0m\u001b[0;34m\u001b[0m\u001b[0m\n",
      "\u001b[0;32m/opt/conda/lib/python3.9/site-packages/sklearn/pipeline.py\u001b[0m in \u001b[0;36mfit\u001b[0;34m(self, X, y, **fit_params)\u001b[0m\n\u001b[1;32m    344\u001b[0m             \u001b[0;32mif\u001b[0m \u001b[0mself\u001b[0m\u001b[0;34m.\u001b[0m\u001b[0m_final_estimator\u001b[0m \u001b[0;34m!=\u001b[0m \u001b[0;34m'passthrough'\u001b[0m\u001b[0;34m:\u001b[0m\u001b[0;34m\u001b[0m\u001b[0;34m\u001b[0m\u001b[0m\n\u001b[1;32m    345\u001b[0m                 \u001b[0mfit_params_last_step\u001b[0m \u001b[0;34m=\u001b[0m \u001b[0mfit_params_steps\u001b[0m\u001b[0;34m[\u001b[0m\u001b[0mself\u001b[0m\u001b[0;34m.\u001b[0m\u001b[0msteps\u001b[0m\u001b[0;34m[\u001b[0m\u001b[0;34m-\u001b[0m\u001b[0;36m1\u001b[0m\u001b[0;34m]\u001b[0m\u001b[0;34m[\u001b[0m\u001b[0;36m0\u001b[0m\u001b[0;34m]\u001b[0m\u001b[0;34m]\u001b[0m\u001b[0;34m\u001b[0m\u001b[0;34m\u001b[0m\u001b[0m\n\u001b[0;32m--> 346\u001b[0;31m                 \u001b[0mself\u001b[0m\u001b[0;34m.\u001b[0m\u001b[0m_final_estimator\u001b[0m\u001b[0;34m.\u001b[0m\u001b[0mfit\u001b[0m\u001b[0;34m(\u001b[0m\u001b[0mXt\u001b[0m\u001b[0;34m,\u001b[0m \u001b[0my\u001b[0m\u001b[0;34m,\u001b[0m \u001b[0;34m**\u001b[0m\u001b[0mfit_params_last_step\u001b[0m\u001b[0;34m)\u001b[0m\u001b[0;34m\u001b[0m\u001b[0;34m\u001b[0m\u001b[0m\n\u001b[0m\u001b[1;32m    347\u001b[0m \u001b[0;34m\u001b[0m\u001b[0m\n\u001b[1;32m    348\u001b[0m         \u001b[0;32mreturn\u001b[0m \u001b[0mself\u001b[0m\u001b[0;34m\u001b[0m\u001b[0;34m\u001b[0m\u001b[0m\n",
      "\u001b[0;32m/opt/conda/lib/python3.9/site-packages/catboost/core.py\u001b[0m in \u001b[0;36mfit\u001b[0;34m(self, X, y, cat_features, text_features, embedding_features, sample_weight, baseline, use_best_model, eval_set, verbose, logging_level, plot, column_description, verbose_eval, metric_period, silent, early_stopping_rounds, save_snapshot, snapshot_file, snapshot_interval, init_model, callbacks, log_cout, log_cerr)\u001b[0m\n\u001b[1;32m   4714\u001b[0m             \u001b[0mCatBoostClassifier\u001b[0m\u001b[0;34m.\u001b[0m\u001b[0m_check_is_compatible_loss\u001b[0m\u001b[0;34m(\u001b[0m\u001b[0mparams\u001b[0m\u001b[0;34m[\u001b[0m\u001b[0;34m'loss_function'\u001b[0m\u001b[0;34m]\u001b[0m\u001b[0;34m)\u001b[0m\u001b[0;34m\u001b[0m\u001b[0;34m\u001b[0m\u001b[0m\n\u001b[1;32m   4715\u001b[0m \u001b[0;34m\u001b[0m\u001b[0m\n\u001b[0;32m-> 4716\u001b[0;31m         self._fit(X, y, cat_features, text_features, embedding_features, None, sample_weight, None, None, None, None, baseline, use_best_model,\n\u001b[0m\u001b[1;32m   4717\u001b[0m                   \u001b[0meval_set\u001b[0m\u001b[0;34m,\u001b[0m \u001b[0mverbose\u001b[0m\u001b[0;34m,\u001b[0m \u001b[0mlogging_level\u001b[0m\u001b[0;34m,\u001b[0m \u001b[0mplot\u001b[0m\u001b[0;34m,\u001b[0m \u001b[0mcolumn_description\u001b[0m\u001b[0;34m,\u001b[0m \u001b[0mverbose_eval\u001b[0m\u001b[0;34m,\u001b[0m \u001b[0mmetric_period\u001b[0m\u001b[0;34m,\u001b[0m\u001b[0;34m\u001b[0m\u001b[0;34m\u001b[0m\u001b[0m\n\u001b[1;32m   4718\u001b[0m                   silent, early_stopping_rounds, save_snapshot, snapshot_file, snapshot_interval, init_model, callbacks, log_cout, log_cerr)\n",
      "\u001b[0;32m/opt/conda/lib/python3.9/site-packages/catboost/core.py\u001b[0m in \u001b[0;36m_fit\u001b[0;34m(self, X, y, cat_features, text_features, embedding_features, pairs, sample_weight, group_id, group_weight, subgroup_id, pairs_weight, baseline, use_best_model, eval_set, verbose, logging_level, plot, column_description, verbose_eval, metric_period, silent, early_stopping_rounds, save_snapshot, snapshot_file, snapshot_interval, init_model, callbacks, log_cout, log_cerr)\u001b[0m\n\u001b[1;32m   2035\u001b[0m         \u001b[0;32mwith\u001b[0m \u001b[0mlog_fixup\u001b[0m\u001b[0;34m(\u001b[0m\u001b[0mlog_cout\u001b[0m\u001b[0;34m,\u001b[0m \u001b[0mlog_cerr\u001b[0m\u001b[0;34m)\u001b[0m\u001b[0;34m,\u001b[0m\u001b[0;31m \u001b[0m\u001b[0;31m\\\u001b[0m\u001b[0;34m\u001b[0m\u001b[0;34m\u001b[0m\u001b[0m\n\u001b[1;32m   2036\u001b[0m             \u001b[0mplot_wrapper\u001b[0m\u001b[0;34m(\u001b[0m\u001b[0mplot\u001b[0m\u001b[0;34m,\u001b[0m \u001b[0;34m[\u001b[0m\u001b[0m_get_train_dir\u001b[0m\u001b[0;34m(\u001b[0m\u001b[0mself\u001b[0m\u001b[0;34m.\u001b[0m\u001b[0mget_params\u001b[0m\u001b[0;34m(\u001b[0m\u001b[0;34m)\u001b[0m\u001b[0;34m)\u001b[0m\u001b[0;34m]\u001b[0m\u001b[0;34m)\u001b[0m\u001b[0;34m:\u001b[0m\u001b[0;34m\u001b[0m\u001b[0;34m\u001b[0m\u001b[0m\n\u001b[0;32m-> 2037\u001b[0;31m             self._train(\n\u001b[0m\u001b[1;32m   2038\u001b[0m                 \u001b[0mtrain_pool\u001b[0m\u001b[0;34m,\u001b[0m\u001b[0;34m\u001b[0m\u001b[0;34m\u001b[0m\u001b[0m\n\u001b[1;32m   2039\u001b[0m                 \u001b[0mtrain_params\u001b[0m\u001b[0;34m[\u001b[0m\u001b[0;34m\"eval_sets\"\u001b[0m\u001b[0;34m]\u001b[0m\u001b[0;34m,\u001b[0m\u001b[0;34m\u001b[0m\u001b[0;34m\u001b[0m\u001b[0m\n",
      "\u001b[0;32m/opt/conda/lib/python3.9/site-packages/catboost/core.py\u001b[0m in \u001b[0;36m_train\u001b[0;34m(self, train_pool, test_pool, params, allow_clear_pool, init_model)\u001b[0m\n\u001b[1;32m   1462\u001b[0m \u001b[0;34m\u001b[0m\u001b[0m\n\u001b[1;32m   1463\u001b[0m     \u001b[0;32mdef\u001b[0m \u001b[0m_train\u001b[0m\u001b[0;34m(\u001b[0m\u001b[0mself\u001b[0m\u001b[0;34m,\u001b[0m \u001b[0mtrain_pool\u001b[0m\u001b[0;34m,\u001b[0m \u001b[0mtest_pool\u001b[0m\u001b[0;34m,\u001b[0m \u001b[0mparams\u001b[0m\u001b[0;34m,\u001b[0m \u001b[0mallow_clear_pool\u001b[0m\u001b[0;34m,\u001b[0m \u001b[0minit_model\u001b[0m\u001b[0;34m)\u001b[0m\u001b[0;34m:\u001b[0m\u001b[0;34m\u001b[0m\u001b[0;34m\u001b[0m\u001b[0m\n\u001b[0;32m-> 1464\u001b[0;31m         \u001b[0mself\u001b[0m\u001b[0;34m.\u001b[0m\u001b[0m_object\u001b[0m\u001b[0;34m.\u001b[0m\u001b[0m_train\u001b[0m\u001b[0;34m(\u001b[0m\u001b[0mtrain_pool\u001b[0m\u001b[0;34m,\u001b[0m \u001b[0mtest_pool\u001b[0m\u001b[0;34m,\u001b[0m \u001b[0mparams\u001b[0m\u001b[0;34m,\u001b[0m \u001b[0mallow_clear_pool\u001b[0m\u001b[0;34m,\u001b[0m \u001b[0minit_model\u001b[0m\u001b[0;34m.\u001b[0m\u001b[0m_object\u001b[0m \u001b[0;32mif\u001b[0m \u001b[0minit_model\u001b[0m \u001b[0;32melse\u001b[0m \u001b[0;32mNone\u001b[0m\u001b[0;34m)\u001b[0m\u001b[0;34m\u001b[0m\u001b[0;34m\u001b[0m\u001b[0m\n\u001b[0m\u001b[1;32m   1465\u001b[0m         \u001b[0mself\u001b[0m\u001b[0;34m.\u001b[0m\u001b[0m_set_trained_model_attributes\u001b[0m\u001b[0;34m(\u001b[0m\u001b[0;34m)\u001b[0m\u001b[0;34m\u001b[0m\u001b[0;34m\u001b[0m\u001b[0m\n\u001b[1;32m   1466\u001b[0m \u001b[0;34m\u001b[0m\u001b[0m\n",
      "\u001b[0;32m_catboost.pyx\u001b[0m in \u001b[0;36m_catboost._CatBoost._train\u001b[0;34m()\u001b[0m\n",
      "\u001b[0;32m_catboost.pyx\u001b[0m in \u001b[0;36m_catboost._CatBoost._train\u001b[0;34m()\u001b[0m\n",
      "\u001b[0;31mKeyboardInterrupt\u001b[0m: "
     ]
    }
   ],
   "source": [
    "%%time\n",
    "gs_cat.fit(features_train, target_train)"
   ]
  },
  {
   "cell_type": "code",
   "execution_count": null,
   "metadata": {},
   "outputs": [],
   "source": [
    "results.append({'Модель': 'CatBoostClassifier', \n",
    "                'Параметры':gs_cat.best_params_, \n",
    "                'F1': gs_cat.best_score_})\n",
    "\n",
    "pd.DataFrame(results)"
   ]
  },
  {
   "cell_type": "markdown",
   "metadata": {},
   "source": [
    "Для всех заявленных в работу моделей подобранны наилушие параметры. Перейдем к анализу результатов."
   ]
  },
  {
   "cell_type": "markdown",
   "metadata": {},
   "source": [
    "### Проверим на тестовой выборке модель показавшую лучший результат F1 с лучшими гипперпараметрами."
   ]
  },
  {
   "cell_type": "code",
   "execution_count": 92,
   "metadata": {},
   "outputs": [
    {
     "data": {
      "text/html": [
       "<div>\n",
       "<style scoped>\n",
       "    .dataframe tbody tr th:only-of-type {\n",
       "        vertical-align: middle;\n",
       "    }\n",
       "\n",
       "    .dataframe tbody tr th {\n",
       "        vertical-align: top;\n",
       "    }\n",
       "\n",
       "    .dataframe thead th {\n",
       "        text-align: right;\n",
       "    }\n",
       "</style>\n",
       "<table border=\"1\" class=\"dataframe\">\n",
       "  <thead>\n",
       "    <tr style=\"text-align: right;\">\n",
       "      <th></th>\n",
       "      <th>Модель</th>\n",
       "      <th>Параметры</th>\n",
       "      <th>F1</th>\n",
       "    </tr>\n",
       "  </thead>\n",
       "  <tbody>\n",
       "    <tr>\n",
       "      <th>0</th>\n",
       "      <td>LogisticRegression</td>\n",
       "      <td>{'model_lr__C': 10, 'model_lr__class_weight': ...</td>\n",
       "      <td>(1, 2)</td>\n",
       "    </tr>\n",
       "    <tr>\n",
       "      <th>1</th>\n",
       "      <td>LogisticRegression</td>\n",
       "      <td>{'model_lr__C': 10, 'model_lr__class_weight': ...</td>\n",
       "      <td>0.779292</td>\n",
       "    </tr>\n",
       "    <tr>\n",
       "      <th>2</th>\n",
       "      <td>DecisionTreeClassifier</td>\n",
       "      <td>{'model_dt__max_depth': 200}</td>\n",
       "      <td>0.663434</td>\n",
       "    </tr>\n",
       "  </tbody>\n",
       "</table>\n",
       "</div>"
      ],
      "text/plain": [
       "                   Модель                                          Параметры  \\\n",
       "0      LogisticRegression  {'model_lr__C': 10, 'model_lr__class_weight': ...   \n",
       "1      LogisticRegression  {'model_lr__C': 10, 'model_lr__class_weight': ...   \n",
       "2  DecisionTreeClassifier                       {'model_dt__max_depth': 200}   \n",
       "\n",
       "         F1  \n",
       "0    (1, 2)  \n",
       "1  0.779292  \n",
       "2  0.663434  "
      ]
     },
     "execution_count": 92,
     "metadata": {},
     "output_type": "execute_result"
    }
   ],
   "source": [
    "pd.DataFrame(results)"
   ]
  },
  {
   "cell_type": "markdown",
   "metadata": {},
   "source": [
    "Этой моделью стала LogisticRegression"
   ]
  },
  {
   "cell_type": "code",
   "execution_count": 98,
   "metadata": {},
   "outputs": [],
   "source": [
    "test_predictions_lr = grid_search_lr.predict(features_test)"
   ]
  },
  {
   "cell_type": "code",
   "execution_count": 101,
   "metadata": {},
   "outputs": [
    {
     "data": {
      "text/html": [
       "<div>\n",
       "<style scoped>\n",
       "    .dataframe tbody tr th:only-of-type {\n",
       "        vertical-align: middle;\n",
       "    }\n",
       "\n",
       "    .dataframe tbody tr th {\n",
       "        vertical-align: top;\n",
       "    }\n",
       "\n",
       "    .dataframe thead th {\n",
       "        text-align: right;\n",
       "    }\n",
       "</style>\n",
       "<table border=\"1\" class=\"dataframe\">\n",
       "  <thead>\n",
       "    <tr style=\"text-align: right;\">\n",
       "      <th></th>\n",
       "      <th>Модель</th>\n",
       "      <th>Параметры</th>\n",
       "      <th>F1</th>\n",
       "    </tr>\n",
       "  </thead>\n",
       "  <tbody>\n",
       "    <tr>\n",
       "      <th>0</th>\n",
       "      <td>LogisticRegression</td>\n",
       "      <td>{'model_lr__C': 10, 'model_lr__class_weight': ...</td>\n",
       "      <td>(1, 2)</td>\n",
       "    </tr>\n",
       "    <tr>\n",
       "      <th>1</th>\n",
       "      <td>LogisticRegression</td>\n",
       "      <td>{'model_lr__C': 10, 'model_lr__class_weight': ...</td>\n",
       "      <td>0.779292</td>\n",
       "    </tr>\n",
       "    <tr>\n",
       "      <th>2</th>\n",
       "      <td>DecisionTreeClassifier</td>\n",
       "      <td>{'model_dt__max_depth': 200}</td>\n",
       "      <td>0.663434</td>\n",
       "    </tr>\n",
       "    <tr>\n",
       "      <th>3</th>\n",
       "      <td>LogisticRegression</td>\n",
       "      <td>{'model_lr__C': 10, 'model_lr__class_weight': ...</td>\n",
       "      <td>0.779292</td>\n",
       "    </tr>\n",
       "    <tr>\n",
       "      <th>4</th>\n",
       "      <td>LogisticRegression</td>\n",
       "      <td>{'model_lr__C': 10, 'model_lr__class_weight': ...</td>\n",
       "      <td>0.781239</td>\n",
       "    </tr>\n",
       "  </tbody>\n",
       "</table>\n",
       "</div>"
      ],
      "text/plain": [
       "                   Модель                                          Параметры  \\\n",
       "0      LogisticRegression  {'model_lr__C': 10, 'model_lr__class_weight': ...   \n",
       "1      LogisticRegression  {'model_lr__C': 10, 'model_lr__class_weight': ...   \n",
       "2  DecisionTreeClassifier                       {'model_dt__max_depth': 200}   \n",
       "3      LogisticRegression  {'model_lr__C': 10, 'model_lr__class_weight': ...   \n",
       "4      LogisticRegression  {'model_lr__C': 10, 'model_lr__class_weight': ...   \n",
       "\n",
       "         F1  \n",
       "0    (1, 2)  \n",
       "1  0.779292  \n",
       "2  0.663434  \n",
       "3  0.779292  \n",
       "4  0.781239  "
      ]
     },
     "execution_count": 101,
     "metadata": {},
     "output_type": "execute_result"
    }
   ],
   "source": [
    "results.append({'Модель': 'LogisticRegression', \n",
    "                'Параметры':grid_search_lr.best_params_, \n",
    "                'F1': F1(target_test, test_predictions_lr)})\n",
    "\n",
    "pd.DataFrame(results)"
   ]
  },
  {
   "cell_type": "markdown",
   "metadata": {},
   "source": [
    "Результат контрольной метрики F1 = 0.781239, что немного выше на обучающей выборке"
   ]
  },
  {
   "cell_type": "markdown",
   "metadata": {},
   "source": [
    "Проверим модель на адекватность"
   ]
  },
  {
   "cell_type": "code",
   "execution_count": 102,
   "metadata": {},
   "outputs": [],
   "source": [
    "dummy_model = DummyClassifier(strategy ='uniform')\n",
    "dummy_model.fit(features_train, target_train)\n",
    "\n",
    "test_predictions_dammy = dummy_model.predict(features_test)"
   ]
  },
  {
   "cell_type": "code",
   "execution_count": 103,
   "metadata": {},
   "outputs": [
    {
     "data": {
      "text/html": [
       "<div>\n",
       "<style scoped>\n",
       "    .dataframe tbody tr th:only-of-type {\n",
       "        vertical-align: middle;\n",
       "    }\n",
       "\n",
       "    .dataframe tbody tr th {\n",
       "        vertical-align: top;\n",
       "    }\n",
       "\n",
       "    .dataframe thead th {\n",
       "        text-align: right;\n",
       "    }\n",
       "</style>\n",
       "<table border=\"1\" class=\"dataframe\">\n",
       "  <thead>\n",
       "    <tr style=\"text-align: right;\">\n",
       "      <th></th>\n",
       "      <th>Модель</th>\n",
       "      <th>Параметры</th>\n",
       "      <th>F1</th>\n",
       "    </tr>\n",
       "  </thead>\n",
       "  <tbody>\n",
       "    <tr>\n",
       "      <th>0</th>\n",
       "      <td>LogisticRegression</td>\n",
       "      <td>{'model_lr__C': 10, 'model_lr__class_weight': ...</td>\n",
       "      <td>(1, 2)</td>\n",
       "    </tr>\n",
       "    <tr>\n",
       "      <th>1</th>\n",
       "      <td>LogisticRegression</td>\n",
       "      <td>{'model_lr__C': 10, 'model_lr__class_weight': ...</td>\n",
       "      <td>0.779292</td>\n",
       "    </tr>\n",
       "    <tr>\n",
       "      <th>2</th>\n",
       "      <td>DecisionTreeClassifier</td>\n",
       "      <td>{'model_dt__max_depth': 200}</td>\n",
       "      <td>0.663434</td>\n",
       "    </tr>\n",
       "    <tr>\n",
       "      <th>3</th>\n",
       "      <td>LogisticRegression</td>\n",
       "      <td>{'model_lr__C': 10, 'model_lr__class_weight': ...</td>\n",
       "      <td>0.779292</td>\n",
       "    </tr>\n",
       "    <tr>\n",
       "      <th>4</th>\n",
       "      <td>LogisticRegression</td>\n",
       "      <td>{'model_lr__C': 10, 'model_lr__class_weight': ...</td>\n",
       "      <td>0.781239</td>\n",
       "    </tr>\n",
       "    <tr>\n",
       "      <th>5</th>\n",
       "      <td>DummyClassifier</td>\n",
       "      <td>{'strategy': 'uniform'}</td>\n",
       "      <td>0.16</td>\n",
       "    </tr>\n",
       "  </tbody>\n",
       "</table>\n",
       "</div>"
      ],
      "text/plain": [
       "                   Модель                                          Параметры  \\\n",
       "0      LogisticRegression  {'model_lr__C': 10, 'model_lr__class_weight': ...   \n",
       "1      LogisticRegression  {'model_lr__C': 10, 'model_lr__class_weight': ...   \n",
       "2  DecisionTreeClassifier                       {'model_dt__max_depth': 200}   \n",
       "3      LogisticRegression  {'model_lr__C': 10, 'model_lr__class_weight': ...   \n",
       "4      LogisticRegression  {'model_lr__C': 10, 'model_lr__class_weight': ...   \n",
       "5         DummyClassifier                            {'strategy': 'uniform'}   \n",
       "\n",
       "         F1  \n",
       "0    (1, 2)  \n",
       "1  0.779292  \n",
       "2  0.663434  \n",
       "3  0.779292  \n",
       "4  0.781239  \n",
       "5      0.16  "
      ]
     },
     "execution_count": 103,
     "metadata": {},
     "output_type": "execute_result"
    }
   ],
   "source": [
    "results.append({'Модель': 'DummyClassifier', \n",
    "                'Параметры':{'strategy':'uniform'\n",
    "                            }, \n",
    "                'F1': round(F1(target_test, test_predictions_dammy),2)})\n",
    "\n",
    "pd.DataFrame(results)"
   ]
  },
  {
   "cell_type": "markdown",
   "metadata": {},
   "source": [
    "Показатель F1 у DummyClassifier очень мал, значит наша модель прошла проверку."
   ]
  },
  {
   "cell_type": "markdown",
   "metadata": {},
   "source": [
    "## Выводы"
   ]
  },
  {
   "cell_type": "markdown",
   "metadata": {},
   "source": [
    "В представленном датасете 159292 строк и 3 столбца. После предварителой обработки был удален столбец содержащий не информативные признаки. Текст столбца содержащего комментарии пользователей был лематизирован,приведен в векторный формат с учетом стоп-стов. Выявленные пустые строки были удалены. На этом этапе был выявлен явный дисбаланс классов. При постороении моделей был использован class_weight ='balanced'.\n",
    "\n",
    "Для задачи классификации было решено использовать три модели:\n",
    "- LogistiсRegression\n",
    "- DecisionTreeClassifier\n",
    "- CatBoostClassifier\n",
    "\n",
    "Из трех моделей только LogisticRegression удовлетворяет условиям проекта - метрика F1 не меньше 0.75. После проверки ее качества на тестовой выборке она так же прошла проверку на адекватность  константной моделью.\n",
    "\n",
    "Теоретически возможно добиться лучших показателей метрики у CatBoostClassifier, но у данной модели очень большое время обучения, что опять склоняет наш выбор в сторону LogisticRegression."
   ]
  },
  {
   "cell_type": "markdown",
   "metadata": {},
   "source": [
    "<s>Отдельного внимания заслуживают матрицы ошибок.\n",
    "\n",
    "Матрица ошибок модели LogisticRegression показала:\n",
    " - 1121 ложно отрицательный коментарий ,который будет напрасно отправлен на модерацию\n",
    " - 521 комментарий пропущен и принят за положительный\n",
    " \n",
    "Матрица ошибок модели DecisionTreeClassifier показала, что:\n",
    " - 647 ложно отрицательный коментарий\n",
    " - 997 ложно положительный\n",
    " \n",
    "Матрица ошибок модели CatBoostClassifier показала, что:\n",
    " - 214 ложно отрицательный коментарий\n",
    " - 1183 ложно положительный\n",
    " \n",
    "Таким образом  LogisticRegression даст большую нагрузку на модераторов контента и пропустит меньше всего токсичных комментариев. <\\s>"
   ]
  }
 ],
 "metadata": {
  "ExecuteTimeLog": [
   {
    "duration": 372,
    "start_time": "2023-04-19T12:15:21.565Z"
   },
   {
    "duration": 3525,
    "start_time": "2023-04-19T12:17:17.598Z"
   },
   {
    "duration": 109,
    "start_time": "2023-04-19T12:17:50.054Z"
   },
   {
    "duration": 809,
    "start_time": "2023-04-19T12:17:55.520Z"
   },
   {
    "duration": 22,
    "start_time": "2023-04-19T12:17:56.911Z"
   },
   {
    "duration": 34,
    "start_time": "2023-04-19T12:18:24.473Z"
   },
   {
    "duration": 9,
    "start_time": "2023-04-19T12:18:35.350Z"
   },
   {
    "duration": 40,
    "start_time": "2023-04-19T12:18:36.407Z"
   },
   {
    "duration": 727,
    "start_time": "2023-04-19T12:19:04.278Z"
   },
   {
    "duration": 1086,
    "start_time": "2023-04-19T12:19:16.035Z"
   },
   {
    "duration": 16,
    "start_time": "2023-04-19T12:19:31.623Z"
   },
   {
    "duration": 20,
    "start_time": "2023-04-19T12:19:50.411Z"
   },
   {
    "duration": 19,
    "start_time": "2023-04-19T12:20:00.998Z"
   },
   {
    "duration": 14,
    "start_time": "2023-04-19T12:20:09.272Z"
   },
   {
    "duration": 13,
    "start_time": "2023-04-19T12:20:20.757Z"
   },
   {
    "duration": 13,
    "start_time": "2023-04-19T12:20:25.923Z"
   },
   {
    "duration": 253,
    "start_time": "2023-04-19T12:30:57.751Z"
   },
   {
    "duration": 4,
    "start_time": "2023-04-19T12:32:40.670Z"
   },
   {
    "duration": 3,
    "start_time": "2023-04-19T12:32:55.070Z"
   },
   {
    "duration": 4,
    "start_time": "2023-04-19T12:32:59.842Z"
   },
   {
    "duration": 8,
    "start_time": "2023-04-19T12:33:03.712Z"
   },
   {
    "duration": 4,
    "start_time": "2023-04-19T12:33:05.571Z"
   },
   {
    "duration": 16,
    "start_time": "2023-04-19T12:34:29.012Z"
   },
   {
    "duration": 10,
    "start_time": "2023-04-19T12:34:42.370Z"
   },
   {
    "duration": 7,
    "start_time": "2023-04-19T12:35:49.438Z"
   },
   {
    "duration": 16,
    "start_time": "2023-04-19T12:35:54.705Z"
   },
   {
    "duration": 440,
    "start_time": "2023-04-20T06:36:14.027Z"
   },
   {
    "duration": 2549,
    "start_time": "2023-04-20T06:36:14.984Z"
   },
   {
    "duration": 16,
    "start_time": "2023-04-20T06:36:18.345Z"
   },
   {
    "duration": 27,
    "start_time": "2023-04-20T06:36:19.484Z"
   },
   {
    "duration": 15,
    "start_time": "2023-04-20T06:36:21.284Z"
   },
   {
    "duration": 256,
    "start_time": "2023-04-20T06:36:22.899Z"
   },
   {
    "duration": 12,
    "start_time": "2023-04-20T06:36:30.609Z"
   },
   {
    "duration": 399,
    "start_time": "2023-04-20T06:36:42.227Z"
   },
   {
    "duration": 89,
    "start_time": "2023-04-20T06:36:58.909Z"
   },
   {
    "duration": 11,
    "start_time": "2023-04-20T06:37:07.234Z"
   },
   {
    "duration": 9,
    "start_time": "2023-04-20T06:40:12.062Z"
   },
   {
    "duration": 251,
    "start_time": "2023-04-20T06:40:56.113Z"
   },
   {
    "duration": 2418,
    "start_time": "2023-04-20T06:49:55.029Z"
   },
   {
    "duration": 11,
    "start_time": "2023-04-20T06:56:53.248Z"
   },
   {
    "duration": 434,
    "start_time": "2023-04-20T07:07:09.609Z"
   },
   {
    "duration": 891,
    "start_time": "2023-04-20T07:07:10.045Z"
   },
   {
    "duration": 14,
    "start_time": "2023-04-20T07:07:10.938Z"
   },
   {
    "duration": 32,
    "start_time": "2023-04-20T07:07:10.954Z"
   },
   {
    "duration": 16,
    "start_time": "2023-04-20T07:07:10.988Z"
   },
   {
    "duration": 249,
    "start_time": "2023-04-20T07:07:11.006Z"
   },
   {
    "duration": 11,
    "start_time": "2023-04-20T07:07:11.257Z"
   },
   {
    "duration": 13,
    "start_time": "2023-04-20T07:07:11.270Z"
   },
   {
    "duration": 287,
    "start_time": "2023-04-20T07:07:11.285Z"
   },
   {
    "duration": 5,
    "start_time": "2023-04-20T07:07:11.574Z"
   },
   {
    "duration": 2992,
    "start_time": "2023-04-20T07:23:05.491Z"
   },
   {
    "duration": 5579,
    "start_time": "2023-04-20T07:23:22.865Z"
   },
   {
    "duration": 9,
    "start_time": "2023-04-20T07:23:33.308Z"
   },
   {
    "duration": 4,
    "start_time": "2023-04-20T07:23:56.220Z"
   },
   {
    "duration": 8,
    "start_time": "2023-04-20T07:25:06.479Z"
   },
   {
    "duration": 3985,
    "start_time": "2023-04-20T07:25:16.408Z"
   },
   {
    "duration": 4,
    "start_time": "2023-04-20T07:25:25.671Z"
   },
   {
    "duration": 3,
    "start_time": "2023-04-20T07:25:49.323Z"
   },
   {
    "duration": 65,
    "start_time": "2023-04-20T07:30:28.765Z"
   },
   {
    "duration": 11,
    "start_time": "2023-04-20T07:30:33.620Z"
   },
   {
    "duration": 6,
    "start_time": "2023-04-20T07:31:05.466Z"
   },
   {
    "duration": 6,
    "start_time": "2023-04-20T07:31:21.350Z"
   },
   {
    "duration": 14,
    "start_time": "2023-04-20T07:37:59.047Z"
   },
   {
    "duration": 26,
    "start_time": "2023-04-20T07:38:07.266Z"
   },
   {
    "duration": 10,
    "start_time": "2023-04-20T08:23:59.979Z"
   },
   {
    "duration": 10,
    "start_time": "2023-04-20T08:24:07.277Z"
   },
   {
    "duration": 2208,
    "start_time": "2023-04-20T08:24:27.070Z"
   },
   {
    "duration": 1286,
    "start_time": "2023-04-20T10:53:52.948Z"
   },
   {
    "duration": 930,
    "start_time": "2023-04-20T10:53:54.847Z"
   },
   {
    "duration": 14,
    "start_time": "2023-04-20T10:53:56.323Z"
   },
   {
    "duration": 25,
    "start_time": "2023-04-20T10:53:57.134Z"
   },
   {
    "duration": 207,
    "start_time": "2023-04-20T10:53:59.534Z"
   },
   {
    "duration": 11,
    "start_time": "2023-04-20T10:54:01.890Z"
   },
   {
    "duration": 8,
    "start_time": "2023-04-20T10:54:03.065Z"
   },
   {
    "duration": 237,
    "start_time": "2023-04-20T10:54:04.222Z"
   },
   {
    "duration": 6,
    "start_time": "2023-04-20T10:54:05.732Z"
   },
   {
    "duration": 6619,
    "start_time": "2023-04-20T10:54:06.999Z"
   },
   {
    "duration": 63,
    "start_time": "2023-04-20T10:54:21.179Z"
   },
   {
    "duration": 35,
    "start_time": "2023-04-20T10:54:22.382Z"
   },
   {
    "duration": 25,
    "start_time": "2023-04-20T10:55:03.257Z"
   },
   {
    "duration": 42,
    "start_time": "2023-04-20T10:55:07.873Z"
   },
   {
    "duration": 19,
    "start_time": "2023-04-20T10:55:11.902Z"
   },
   {
    "duration": 26,
    "start_time": "2023-04-20T10:55:13.737Z"
   },
   {
    "duration": 4,
    "start_time": "2023-04-20T10:55:25.626Z"
   },
   {
    "duration": 18,
    "start_time": "2023-04-20T10:55:26.653Z"
   },
   {
    "duration": 24,
    "start_time": "2023-04-20T10:55:27.333Z"
   },
   {
    "duration": 9,
    "start_time": "2023-04-20T10:55:29.302Z"
   },
   {
    "duration": 1480,
    "start_time": "2023-04-20T10:55:59.981Z"
   },
   {
    "duration": 1330,
    "start_time": "2023-04-20T10:56:12.232Z"
   },
   {
    "duration": 916,
    "start_time": "2023-04-20T10:56:13.565Z"
   },
   {
    "duration": 18,
    "start_time": "2023-04-20T10:56:14.483Z"
   },
   {
    "duration": 57,
    "start_time": "2023-04-20T10:56:14.504Z"
   },
   {
    "duration": 274,
    "start_time": "2023-04-20T10:56:14.564Z"
   },
   {
    "duration": 15,
    "start_time": "2023-04-20T10:56:14.839Z"
   },
   {
    "duration": 10,
    "start_time": "2023-04-20T10:56:14.855Z"
   },
   {
    "duration": 276,
    "start_time": "2023-04-20T10:56:14.866Z"
   },
   {
    "duration": 8,
    "start_time": "2023-04-20T10:56:15.144Z"
   },
   {
    "duration": 6817,
    "start_time": "2023-04-20T10:56:15.155Z"
   },
   {
    "duration": 61,
    "start_time": "2023-04-20T10:56:21.973Z"
   },
   {
    "duration": 42,
    "start_time": "2023-04-20T10:56:25.964Z"
   },
   {
    "duration": 1271,
    "start_time": "2023-04-20T18:24:11.594Z"
   },
   {
    "duration": 3155,
    "start_time": "2023-04-20T18:24:12.867Z"
   },
   {
    "duration": 15,
    "start_time": "2023-04-20T18:24:16.024Z"
   },
   {
    "duration": 31,
    "start_time": "2023-04-20T18:24:16.041Z"
   },
   {
    "duration": 258,
    "start_time": "2023-04-20T18:24:16.074Z"
   },
   {
    "duration": 10,
    "start_time": "2023-04-20T18:24:16.333Z"
   },
   {
    "duration": 17,
    "start_time": "2023-04-20T18:24:16.344Z"
   },
   {
    "duration": 221,
    "start_time": "2023-04-20T18:24:16.363Z"
   },
   {
    "duration": 5,
    "start_time": "2023-04-20T18:24:16.586Z"
   },
   {
    "duration": 6205,
    "start_time": "2023-04-20T18:24:16.593Z"
   },
   {
    "duration": 82,
    "start_time": "2023-04-20T18:24:22.799Z"
   },
   {
    "duration": 52,
    "start_time": "2023-04-20T18:24:22.883Z"
   },
   {
    "duration": 2,
    "start_time": "2023-04-20T18:24:22.937Z"
   },
   {
    "duration": 20,
    "start_time": "2023-04-20T18:24:22.941Z"
   },
   {
    "duration": 128,
    "start_time": "2023-04-20T18:24:22.963Z"
   },
   {
    "duration": 1,
    "start_time": "2023-04-20T18:24:23.092Z"
   },
   {
    "duration": 3,
    "start_time": "2023-04-20T18:24:46.985Z"
   },
   {
    "duration": 44,
    "start_time": "2023-04-20T18:24:52.136Z"
   },
   {
    "duration": 3,
    "start_time": "2023-04-20T18:24:53.465Z"
   },
   {
    "duration": 485,
    "start_time": "2023-04-20T18:25:40.113Z"
   },
   {
    "duration": 3,
    "start_time": "2023-04-20T18:25:55.606Z"
   },
   {
    "duration": 133,
    "start_time": "2023-04-20T18:25:59.168Z"
   },
   {
    "duration": 103,
    "start_time": "2023-04-20T18:26:15.525Z"
   },
   {
    "duration": 97,
    "start_time": "2023-04-20T18:26:37.575Z"
   },
   {
    "duration": 12,
    "start_time": "2023-04-20T18:33:03.463Z"
   },
   {
    "duration": 2,
    "start_time": "2023-04-20T18:33:33.678Z"
   },
   {
    "duration": 11,
    "start_time": "2023-04-20T18:33:38.141Z"
   },
   {
    "duration": 11,
    "start_time": "2023-04-20T18:34:37.060Z"
   },
   {
    "duration": 4,
    "start_time": "2023-04-20T18:35:02.498Z"
   },
   {
    "duration": 148,
    "start_time": "2023-04-20T18:35:08.097Z"
   },
   {
    "duration": 1971,
    "start_time": "2023-04-21T15:48:45.200Z"
   },
   {
    "duration": 2713,
    "start_time": "2023-04-21T15:48:47.789Z"
   },
   {
    "duration": 18,
    "start_time": "2023-04-21T15:48:50.504Z"
   },
   {
    "duration": 43,
    "start_time": "2023-04-21T15:48:51.619Z"
   },
   {
    "duration": 330,
    "start_time": "2023-04-21T15:48:52.273Z"
   },
   {
    "duration": 14,
    "start_time": "2023-04-21T15:48:52.973Z"
   },
   {
    "duration": 17,
    "start_time": "2023-04-21T15:48:53.607Z"
   },
   {
    "duration": 267,
    "start_time": "2023-04-21T15:48:54.187Z"
   },
   {
    "duration": 9,
    "start_time": "2023-04-21T15:48:55.078Z"
   },
   {
    "duration": 8091,
    "start_time": "2023-04-21T15:48:56.285Z"
   },
   {
    "duration": 114,
    "start_time": "2023-04-21T15:49:05.592Z"
   },
   {
    "duration": 86,
    "start_time": "2023-04-21T15:49:06.397Z"
   },
   {
    "duration": 4,
    "start_time": "2023-04-21T15:49:07.685Z"
   },
   {
    "duration": 17,
    "start_time": "2023-04-21T15:49:08.483Z"
   },
   {
    "duration": 54,
    "start_time": "2023-04-21T15:49:09.089Z"
   },
   {
    "duration": 6,
    "start_time": "2023-04-21T15:49:10.065Z"
   },
   {
    "duration": 165,
    "start_time": "2023-04-21T15:49:10.931Z"
   },
   {
    "duration": 350,
    "start_time": "2023-04-21T15:49:19.303Z"
   },
   {
    "duration": 3138,
    "start_time": "2023-04-22T13:08:11.819Z"
   },
   {
    "duration": 3212,
    "start_time": "2023-04-22T13:08:14.960Z"
   },
   {
    "duration": 22,
    "start_time": "2023-04-22T13:08:18.174Z"
   },
   {
    "duration": 34,
    "start_time": "2023-04-22T13:08:20.023Z"
   },
   {
    "duration": 348,
    "start_time": "2023-04-22T13:08:20.881Z"
   },
   {
    "duration": 11,
    "start_time": "2023-04-22T13:08:22.264Z"
   },
   {
    "duration": 12,
    "start_time": "2023-04-22T13:08:23.520Z"
   },
   {
    "duration": 302,
    "start_time": "2023-04-22T13:08:26.342Z"
   },
   {
    "duration": 7,
    "start_time": "2023-04-22T13:08:27.818Z"
   },
   {
    "duration": 9688,
    "start_time": "2023-04-22T13:08:31.454Z"
   },
   {
    "duration": 100,
    "start_time": "2023-04-22T13:08:43.380Z"
   },
   {
    "duration": 84,
    "start_time": "2023-04-22T13:08:44.546Z"
   },
   {
    "duration": 4,
    "start_time": "2023-04-22T13:08:46.719Z"
   },
   {
    "duration": 17,
    "start_time": "2023-04-22T13:08:48.054Z"
   },
   {
    "duration": 54,
    "start_time": "2023-04-22T13:08:49.319Z"
   },
   {
    "duration": 9,
    "start_time": "2023-04-22T13:08:52.608Z"
   },
   {
    "duration": 206,
    "start_time": "2023-04-22T13:09:00.564Z"
   },
   {
    "duration": 442,
    "start_time": "2023-04-22T13:09:58.017Z"
   },
   {
    "duration": 11,
    "start_time": "2023-04-22T13:10:40.662Z"
   },
   {
    "duration": 24,
    "start_time": "2023-04-22T13:10:42.413Z"
   },
   {
    "duration": 4,
    "start_time": "2023-04-22T13:13:53.924Z"
   },
   {
    "duration": 20,
    "start_time": "2023-04-22T13:14:09.328Z"
   },
   {
    "duration": 1871,
    "start_time": "2023-04-22T13:17:01.978Z"
   },
   {
    "duration": 1126,
    "start_time": "2023-04-22T13:17:03.852Z"
   },
   {
    "duration": 30,
    "start_time": "2023-04-22T13:17:04.981Z"
   },
   {
    "duration": 54,
    "start_time": "2023-04-22T13:17:05.014Z"
   },
   {
    "duration": 347,
    "start_time": "2023-04-22T13:17:05.071Z"
   },
   {
    "duration": 12,
    "start_time": "2023-04-22T13:17:05.420Z"
   },
   {
    "duration": 22,
    "start_time": "2023-04-22T13:17:05.434Z"
   },
   {
    "duration": 286,
    "start_time": "2023-04-22T13:17:05.458Z"
   },
   {
    "duration": 7,
    "start_time": "2023-04-22T13:17:05.746Z"
   },
   {
    "duration": 9148,
    "start_time": "2023-04-22T13:17:05.756Z"
   },
   {
    "duration": 107,
    "start_time": "2023-04-22T13:17:14.906Z"
   },
   {
    "duration": 76,
    "start_time": "2023-04-22T13:17:15.015Z"
   },
   {
    "duration": 6,
    "start_time": "2023-04-22T13:17:15.093Z"
   },
   {
    "duration": 47,
    "start_time": "2023-04-22T13:17:15.103Z"
   },
   {
    "duration": 81,
    "start_time": "2023-04-22T13:17:15.152Z"
   },
   {
    "duration": 5,
    "start_time": "2023-04-22T13:17:15.236Z"
   },
   {
    "duration": 152,
    "start_time": "2023-04-22T13:17:15.243Z"
   },
   {
    "duration": 266,
    "start_time": "2023-04-22T13:17:15.399Z"
   },
   {
    "duration": 167,
    "start_time": "2023-04-22T13:17:15.668Z"
   },
   {
    "duration": 10,
    "start_time": "2023-04-22T13:19:08.161Z"
   },
   {
    "duration": 1761,
    "start_time": "2023-04-22T13:22:48.170Z"
   },
   {
    "duration": 9,
    "start_time": "2023-04-22T13:22:52.802Z"
   },
   {
    "duration": 1094,
    "start_time": "2023-04-22T13:22:52.815Z"
   },
   {
    "duration": 13,
    "start_time": "2023-04-22T13:22:53.911Z"
   },
   {
    "duration": 46,
    "start_time": "2023-04-22T13:22:53.926Z"
   },
   {
    "duration": 336,
    "start_time": "2023-04-22T13:22:53.975Z"
   },
   {
    "duration": 13,
    "start_time": "2023-04-22T13:22:54.312Z"
   },
   {
    "duration": 11,
    "start_time": "2023-04-22T13:22:54.327Z"
   },
   {
    "duration": 290,
    "start_time": "2023-04-22T13:22:54.340Z"
   },
   {
    "duration": 9,
    "start_time": "2023-04-22T13:22:54.632Z"
   },
   {
    "duration": 8751,
    "start_time": "2023-04-22T13:22:54.643Z"
   },
   {
    "duration": 114,
    "start_time": "2023-04-22T13:23:03.395Z"
   },
   {
    "duration": 63,
    "start_time": "2023-04-22T13:23:03.511Z"
   },
   {
    "duration": 3,
    "start_time": "2023-04-22T13:23:03.576Z"
   },
   {
    "duration": 43,
    "start_time": "2023-04-22T13:23:03.582Z"
   },
   {
    "duration": 47,
    "start_time": "2023-04-22T13:23:03.627Z"
   },
   {
    "duration": 4,
    "start_time": "2023-04-22T13:23:03.676Z"
   },
   {
    "duration": 158,
    "start_time": "2023-04-22T13:23:03.683Z"
   },
   {
    "duration": 226,
    "start_time": "2023-04-22T13:23:03.843Z"
   },
   {
    "duration": 13,
    "start_time": "2023-04-22T13:23:04.072Z"
   },
   {
    "duration": 1833,
    "start_time": "2023-04-22T13:23:19.376Z"
   },
   {
    "duration": 1065,
    "start_time": "2023-04-22T13:23:21.212Z"
   },
   {
    "duration": 24,
    "start_time": "2023-04-22T13:23:22.279Z"
   },
   {
    "duration": 300,
    "start_time": "2023-04-22T13:23:22.305Z"
   },
   {
    "duration": 343,
    "start_time": "2023-04-22T13:23:22.607Z"
   },
   {
    "duration": 16,
    "start_time": "2023-04-22T13:23:22.953Z"
   },
   {
    "duration": 40,
    "start_time": "2023-04-22T13:23:22.971Z"
   },
   {
    "duration": 293,
    "start_time": "2023-04-22T13:23:23.014Z"
   },
   {
    "duration": 8,
    "start_time": "2023-04-22T13:23:23.310Z"
   },
   {
    "duration": 8817,
    "start_time": "2023-04-22T13:23:23.320Z"
   },
   {
    "duration": 106,
    "start_time": "2023-04-22T13:23:32.139Z"
   },
   {
    "duration": 81,
    "start_time": "2023-04-22T13:23:32.247Z"
   },
   {
    "duration": 3,
    "start_time": "2023-04-22T13:23:32.331Z"
   },
   {
    "duration": 19,
    "start_time": "2023-04-22T13:23:32.338Z"
   },
   {
    "duration": 65,
    "start_time": "2023-04-22T13:23:32.359Z"
   },
   {
    "duration": 5,
    "start_time": "2023-04-22T13:23:32.426Z"
   },
   {
    "duration": 175,
    "start_time": "2023-04-22T13:23:32.434Z"
   },
   {
    "duration": 150,
    "start_time": "2023-04-22T13:23:32.611Z"
   },
   {
    "duration": 3,
    "start_time": "2023-04-22T13:23:32.764Z"
   },
   {
    "duration": 2470,
    "start_time": "2023-04-22T13:25:43.727Z"
   },
   {
    "duration": 5,
    "start_time": "2023-04-22T13:26:04.804Z"
   },
   {
    "duration": 148,
    "start_time": "2023-04-22T13:26:41.307Z"
   },
   {
    "duration": 11,
    "start_time": "2023-04-22T13:26:51.127Z"
   },
   {
    "duration": 31,
    "start_time": "2023-04-22T13:28:44.606Z"
   },
   {
    "duration": 1697,
    "start_time": "2023-04-22T13:30:11.642Z"
   },
   {
    "duration": 1037,
    "start_time": "2023-04-22T13:30:13.341Z"
   },
   {
    "duration": 22,
    "start_time": "2023-04-22T13:30:14.380Z"
   },
   {
    "duration": 45,
    "start_time": "2023-04-22T13:30:14.404Z"
   },
   {
    "duration": 324,
    "start_time": "2023-04-22T13:30:14.452Z"
   },
   {
    "duration": 19,
    "start_time": "2023-04-22T13:30:14.778Z"
   },
   {
    "duration": 51,
    "start_time": "2023-04-22T13:30:14.802Z"
   },
   {
    "duration": 273,
    "start_time": "2023-04-22T13:30:14.855Z"
   },
   {
    "duration": 7,
    "start_time": "2023-04-22T13:30:15.129Z"
   },
   {
    "duration": 8396,
    "start_time": "2023-04-22T13:30:15.139Z"
   },
   {
    "duration": 101,
    "start_time": "2023-04-22T13:30:23.537Z"
   },
   {
    "duration": 71,
    "start_time": "2023-04-22T13:30:23.641Z"
   },
   {
    "duration": 3,
    "start_time": "2023-04-22T13:30:23.714Z"
   },
   {
    "duration": 23,
    "start_time": "2023-04-22T13:30:23.718Z"
   },
   {
    "duration": 54,
    "start_time": "2023-04-22T13:30:23.743Z"
   },
   {
    "duration": 4,
    "start_time": "2023-04-22T13:30:23.799Z"
   },
   {
    "duration": 137,
    "start_time": "2023-04-22T13:30:23.805Z"
   },
   {
    "duration": 2231,
    "start_time": "2023-04-22T13:30:23.944Z"
   },
   {
    "duration": 237,
    "start_time": "2023-04-22T13:30:26.177Z"
   },
   {
    "duration": 164,
    "start_time": "2023-04-22T13:30:26.416Z"
   },
   {
    "duration": 5,
    "start_time": "2023-04-22T13:32:35.521Z"
   },
   {
    "duration": 9,
    "start_time": "2023-04-22T13:32:51.382Z"
   },
   {
    "duration": 3,
    "start_time": "2023-04-22T13:33:34.511Z"
   },
   {
    "duration": 16,
    "start_time": "2023-04-22T13:33:52.509Z"
   },
   {
    "duration": 16,
    "start_time": "2023-04-22T13:35:15.840Z"
   },
   {
    "duration": 5,
    "start_time": "2023-04-22T13:35:37.359Z"
   },
   {
    "duration": 15,
    "start_time": "2023-04-22T13:35:43.908Z"
   },
   {
    "duration": 9,
    "start_time": "2023-04-22T13:39:26.562Z"
   },
   {
    "duration": 62,
    "start_time": "2023-04-22T13:39:46.453Z"
   },
   {
    "duration": 2279,
    "start_time": "2023-04-22T13:39:55.337Z"
   },
   {
    "duration": 516,
    "start_time": "2023-04-22T13:40:08.944Z"
   },
   {
    "duration": 2771,
    "start_time": "2023-04-22T13:40:14.884Z"
   },
   {
    "duration": 11,
    "start_time": "2023-04-22T13:40:17.657Z"
   },
   {
    "duration": 48,
    "start_time": "2023-04-22T13:40:17.670Z"
   },
   {
    "duration": 321,
    "start_time": "2023-04-22T13:40:17.720Z"
   },
   {
    "duration": 16,
    "start_time": "2023-04-22T13:40:18.042Z"
   },
   {
    "duration": 43,
    "start_time": "2023-04-22T13:40:18.061Z"
   },
   {
    "duration": 303,
    "start_time": "2023-04-22T13:40:18.107Z"
   },
   {
    "duration": 7,
    "start_time": "2023-04-22T13:40:18.412Z"
   },
   {
    "duration": 8486,
    "start_time": "2023-04-22T13:40:18.420Z"
   },
   {
    "duration": 112,
    "start_time": "2023-04-22T13:40:26.910Z"
   },
   {
    "duration": 71,
    "start_time": "2023-04-22T13:40:27.023Z"
   },
   {
    "duration": 2,
    "start_time": "2023-04-22T13:40:27.095Z"
   },
   {
    "duration": 20,
    "start_time": "2023-04-22T13:40:27.099Z"
   },
   {
    "duration": 42,
    "start_time": "2023-04-22T13:40:27.121Z"
   },
   {
    "duration": 5,
    "start_time": "2023-04-22T13:40:27.165Z"
   },
   {
    "duration": 147,
    "start_time": "2023-04-22T13:40:27.172Z"
   },
   {
    "duration": 1675,
    "start_time": "2023-04-22T13:40:38.675Z"
   },
   {
    "duration": 1108,
    "start_time": "2023-04-22T13:40:40.352Z"
   },
   {
    "duration": 12,
    "start_time": "2023-04-22T13:40:41.462Z"
   },
   {
    "duration": 38,
    "start_time": "2023-04-22T13:40:41.487Z"
   },
   {
    "duration": 326,
    "start_time": "2023-04-22T13:40:41.527Z"
   },
   {
    "duration": 10,
    "start_time": "2023-04-22T13:40:41.855Z"
   },
   {
    "duration": 34,
    "start_time": "2023-04-22T13:40:41.867Z"
   },
   {
    "duration": 270,
    "start_time": "2023-04-22T13:40:41.903Z"
   },
   {
    "duration": 12,
    "start_time": "2023-04-22T13:40:42.175Z"
   },
   {
    "duration": 8257,
    "start_time": "2023-04-22T13:40:42.194Z"
   },
   {
    "duration": 114,
    "start_time": "2023-04-22T13:40:50.453Z"
   },
   {
    "duration": 82,
    "start_time": "2023-04-22T13:40:50.569Z"
   },
   {
    "duration": 4,
    "start_time": "2023-04-22T13:40:50.653Z"
   },
   {
    "duration": 37,
    "start_time": "2023-04-22T13:40:50.659Z"
   },
   {
    "duration": 73,
    "start_time": "2023-04-22T13:40:50.699Z"
   },
   {
    "duration": 5,
    "start_time": "2023-04-22T13:40:50.775Z"
   },
   {
    "duration": 220,
    "start_time": "2023-04-22T13:40:50.782Z"
   },
   {
    "duration": 2223,
    "start_time": "2023-04-22T13:41:04.079Z"
   },
   {
    "duration": 221,
    "start_time": "2023-04-22T13:41:08.329Z"
   },
   {
    "duration": 4,
    "start_time": "2023-04-22T13:41:10.153Z"
   },
   {
    "duration": 10853,
    "start_time": "2023-04-22T13:41:11.260Z"
   },
   {
    "duration": 1865,
    "start_time": "2023-04-24T06:20:26.536Z"
   },
   {
    "duration": 2519,
    "start_time": "2023-04-24T06:20:29.730Z"
   },
   {
    "duration": 13,
    "start_time": "2023-04-24T06:20:32.854Z"
   },
   {
    "duration": 34,
    "start_time": "2023-04-24T06:20:33.593Z"
   },
   {
    "duration": 269,
    "start_time": "2023-04-24T06:20:34.427Z"
   },
   {
    "duration": 11,
    "start_time": "2023-04-24T06:20:35.292Z"
   },
   {
    "duration": 12,
    "start_time": "2023-04-24T06:20:35.583Z"
   },
   {
    "duration": 260,
    "start_time": "2023-04-24T06:20:36.149Z"
   },
   {
    "duration": 7,
    "start_time": "2023-04-24T06:20:36.701Z"
   },
   {
    "duration": 7857,
    "start_time": "2023-04-24T06:20:37.706Z"
   },
   {
    "duration": 89,
    "start_time": "2023-04-24T06:20:45.565Z"
   },
   {
    "duration": 70,
    "start_time": "2023-04-24T06:20:45.656Z"
   },
   {
    "duration": 2,
    "start_time": "2023-04-24T06:20:50.739Z"
   },
   {
    "duration": 11,
    "start_time": "2023-04-24T06:20:51.278Z"
   },
   {
    "duration": 34,
    "start_time": "2023-04-24T06:20:52.548Z"
   },
   {
    "duration": 4,
    "start_time": "2023-04-24T06:20:53.477Z"
   },
   {
    "duration": 119,
    "start_time": "2023-04-24T06:20:54.283Z"
   },
   {
    "duration": 2176,
    "start_time": "2023-04-24T06:20:57.590Z"
   },
   {
    "duration": 161,
    "start_time": "2023-04-24T06:21:01.451Z"
   },
   {
    "duration": 3,
    "start_time": "2023-04-24T06:21:03.312Z"
   },
   {
    "duration": 9882,
    "start_time": "2023-04-24T06:21:04.787Z"
   },
   {
    "duration": 2724,
    "start_time": "2023-04-24T09:52:19.180Z"
   },
   {
    "duration": 4230,
    "start_time": "2023-04-24T09:52:21.908Z"
   },
   {
    "duration": 18,
    "start_time": "2023-04-24T09:52:26.141Z"
   },
   {
    "duration": 107,
    "start_time": "2023-04-24T09:52:26.163Z"
   },
   {
    "duration": 603,
    "start_time": "2023-04-24T09:52:26.277Z"
   },
   {
    "duration": 22,
    "start_time": "2023-04-24T09:52:26.886Z"
   },
   {
    "duration": 109,
    "start_time": "2023-04-24T09:52:26.913Z"
   },
   {
    "duration": 392,
    "start_time": "2023-04-24T09:52:27.024Z"
   },
   {
    "duration": 9,
    "start_time": "2023-04-24T09:52:27.419Z"
   },
   {
    "duration": 12072,
    "start_time": "2023-04-24T09:52:27.446Z"
   },
   {
    "duration": 122,
    "start_time": "2023-04-24T09:52:39.520Z"
   },
   {
    "duration": 88,
    "start_time": "2023-04-24T09:52:39.646Z"
   },
   {
    "duration": 5,
    "start_time": "2023-04-24T09:52:39.743Z"
   },
   {
    "duration": 59,
    "start_time": "2023-04-24T09:52:39.751Z"
   },
   {
    "duration": 72,
    "start_time": "2023-04-24T09:52:39.812Z"
   },
   {
    "duration": 25,
    "start_time": "2023-04-24T09:52:39.886Z"
   },
   {
    "duration": 183,
    "start_time": "2023-04-24T09:52:39.914Z"
   },
   {
    "duration": 2711,
    "start_time": "2023-04-24T09:52:40.100Z"
   },
   {
    "duration": 283,
    "start_time": "2023-04-24T09:52:42.814Z"
   },
   {
    "duration": 44,
    "start_time": "2023-04-24T09:52:43.100Z"
   },
   {
    "duration": 16704,
    "start_time": "2023-04-24T09:52:43.168Z"
   },
   {
    "duration": 23,
    "start_time": "2023-04-24T09:52:59.881Z"
   },
   {
    "duration": 25,
    "start_time": "2023-04-24T09:52:59.906Z"
   },
   {
    "duration": 82,
    "start_time": "2023-04-24T09:52:59.933Z"
   },
   {
    "duration": 65,
    "start_time": "2023-04-24T09:53:00.018Z"
   },
   {
    "duration": 58,
    "start_time": "2023-04-24T09:53:00.089Z"
   },
   {
    "duration": 2494,
    "start_time": "2023-04-24T10:44:12.222Z"
   },
   {
    "duration": 1311,
    "start_time": "2023-04-24T10:44:14.719Z"
   },
   {
    "duration": 24,
    "start_time": "2023-04-24T10:44:16.032Z"
   },
   {
    "duration": 203,
    "start_time": "2023-04-24T10:44:16.059Z"
   },
   {
    "duration": 543,
    "start_time": "2023-04-24T10:44:16.265Z"
   },
   {
    "duration": 16,
    "start_time": "2023-04-24T10:44:16.811Z"
   },
   {
    "duration": 92,
    "start_time": "2023-04-24T10:44:16.830Z"
   },
   {
    "duration": 426,
    "start_time": "2023-04-24T10:44:16.925Z"
   },
   {
    "duration": 8,
    "start_time": "2023-04-24T10:44:17.354Z"
   },
   {
    "duration": 11223,
    "start_time": "2023-04-24T10:44:17.367Z"
   },
   {
    "duration": 129,
    "start_time": "2023-04-24T10:44:28.592Z"
   },
   {
    "duration": 113,
    "start_time": "2023-04-24T10:44:28.724Z"
   },
   {
    "duration": 5,
    "start_time": "2023-04-24T10:44:28.840Z"
   },
   {
    "duration": 68,
    "start_time": "2023-04-24T10:44:28.847Z"
   },
   {
    "duration": 115,
    "start_time": "2023-04-24T10:44:28.917Z"
   },
   {
    "duration": 5,
    "start_time": "2023-04-24T10:44:29.035Z"
   },
   {
    "duration": 250,
    "start_time": "2023-04-24T10:44:29.043Z"
   },
   {
    "duration": 2429,
    "start_time": "2023-04-24T10:44:29.296Z"
   },
   {
    "duration": 270,
    "start_time": "2023-04-24T10:44:31.728Z"
   },
   {
    "duration": 4,
    "start_time": "2023-04-24T10:44:32.001Z"
   },
   {
    "duration": 13847,
    "start_time": "2023-04-24T10:44:32.008Z"
   },
   {
    "duration": 2,
    "start_time": "2023-04-24T10:44:45.857Z"
   },
   {
    "duration": 45,
    "start_time": "2023-04-24T10:44:45.862Z"
   },
   {
    "duration": 68,
    "start_time": "2023-04-24T10:44:45.910Z"
   },
   {
    "duration": 88,
    "start_time": "2023-04-24T10:44:45.983Z"
   },
   {
    "duration": 5,
    "start_time": "2023-04-24T10:44:54.796Z"
   },
   {
    "duration": 2206,
    "start_time": "2023-04-24T11:01:13.175Z"
   },
   {
    "duration": 1118,
    "start_time": "2023-04-24T11:01:15.384Z"
   },
   {
    "duration": 21,
    "start_time": "2023-04-24T11:01:16.504Z"
   },
   {
    "duration": 151,
    "start_time": "2023-04-24T11:01:16.547Z"
   },
   {
    "duration": 513,
    "start_time": "2023-04-24T11:01:16.702Z"
   },
   {
    "duration": 40,
    "start_time": "2023-04-24T11:01:17.219Z"
   },
   {
    "duration": 101,
    "start_time": "2023-04-24T11:01:17.265Z"
   },
   {
    "duration": 338,
    "start_time": "2023-04-24T11:01:17.368Z"
   },
   {
    "duration": 10,
    "start_time": "2023-04-24T11:01:17.709Z"
   },
   {
    "duration": 9770,
    "start_time": "2023-04-24T11:01:17.723Z"
   },
   {
    "duration": 134,
    "start_time": "2023-04-24T11:01:27.495Z"
   },
   {
    "duration": 96,
    "start_time": "2023-04-24T11:01:27.632Z"
   },
   {
    "duration": 14,
    "start_time": "2023-04-24T11:01:27.730Z"
   },
   {
    "duration": 79,
    "start_time": "2023-04-24T11:01:27.749Z"
   },
   {
    "duration": 119,
    "start_time": "2023-04-24T11:01:27.831Z"
   },
   {
    "duration": 6,
    "start_time": "2023-04-24T11:01:27.954Z"
   },
   {
    "duration": 221,
    "start_time": "2023-04-24T11:01:27.962Z"
   },
   {
    "duration": 2366,
    "start_time": "2023-04-24T11:01:28.186Z"
   },
   {
    "duration": 379,
    "start_time": "2023-04-24T11:01:30.554Z"
   },
   {
    "duration": 9,
    "start_time": "2023-04-24T11:01:30.936Z"
   },
   {
    "duration": 13255,
    "start_time": "2023-04-24T11:01:30.949Z"
   },
   {
    "duration": 3,
    "start_time": "2023-04-24T11:01:44.206Z"
   },
   {
    "duration": 10,
    "start_time": "2023-04-24T11:01:44.212Z"
   },
   {
    "duration": 59,
    "start_time": "2023-04-24T11:01:44.224Z"
   },
   {
    "duration": 11,
    "start_time": "2023-04-24T11:01:44.285Z"
   },
   {
    "duration": 19,
    "start_time": "2023-04-24T11:01:44.298Z"
   },
   {
    "duration": 7,
    "start_time": "2023-04-24T11:01:53.363Z"
   },
   {
    "duration": 5,
    "start_time": "2023-04-24T11:01:55.699Z"
   },
   {
    "duration": 14,
    "start_time": "2023-04-24T11:02:03.147Z"
   },
   {
    "duration": 1707,
    "start_time": "2023-04-24T16:33:50.721Z"
   },
   {
    "duration": 2420,
    "start_time": "2023-04-24T16:33:52.430Z"
   },
   {
    "duration": 11,
    "start_time": "2023-04-24T16:33:54.851Z"
   },
   {
    "duration": 25,
    "start_time": "2023-04-24T16:33:54.864Z"
   },
   {
    "duration": 225,
    "start_time": "2023-04-24T16:33:54.891Z"
   },
   {
    "duration": 8,
    "start_time": "2023-04-24T16:33:55.118Z"
   },
   {
    "duration": 8,
    "start_time": "2023-04-24T16:33:55.127Z"
   },
   {
    "duration": 246,
    "start_time": "2023-04-24T16:33:55.136Z"
   },
   {
    "duration": 5,
    "start_time": "2023-04-24T16:33:55.384Z"
   },
   {
    "duration": 6776,
    "start_time": "2023-04-24T16:33:55.392Z"
   },
   {
    "duration": 59,
    "start_time": "2023-04-24T16:34:02.169Z"
   },
   {
    "duration": 50,
    "start_time": "2023-04-24T16:34:02.229Z"
   },
   {
    "duration": 3,
    "start_time": "2023-04-24T16:34:02.281Z"
   },
   {
    "duration": 42,
    "start_time": "2023-04-24T16:34:02.285Z"
   },
   {
    "duration": 51,
    "start_time": "2023-04-24T16:34:02.329Z"
   },
   {
    "duration": 22,
    "start_time": "2023-04-24T16:34:02.382Z"
   },
   {
    "duration": 148,
    "start_time": "2023-04-24T16:34:02.405Z"
   },
   {
    "duration": 1721,
    "start_time": "2023-04-24T16:34:02.556Z"
   },
   {
    "duration": 211,
    "start_time": "2023-04-24T16:34:04.278Z"
   },
   {
    "duration": 3,
    "start_time": "2023-04-24T16:34:04.491Z"
   },
   {
    "duration": 8310,
    "start_time": "2023-04-24T16:34:04.496Z"
   },
   {
    "duration": 3,
    "start_time": "2023-04-24T16:34:12.808Z"
   },
   {
    "duration": 11,
    "start_time": "2023-04-24T16:34:12.812Z"
   },
   {
    "duration": 15,
    "start_time": "2023-04-24T16:34:12.825Z"
   },
   {
    "duration": 21,
    "start_time": "2023-04-24T16:34:12.842Z"
   },
   {
    "duration": 14,
    "start_time": "2023-04-24T16:34:12.864Z"
   },
   {
    "duration": 6,
    "start_time": "2023-04-24T16:34:12.880Z"
   },
   {
    "duration": 31142,
    "start_time": "2023-04-24T16:34:12.889Z"
   },
   {
    "duration": 145258,
    "start_time": "2023-04-24T16:34:49.033Z"
   },
   {
    "duration": 4,
    "start_time": "2023-04-24T16:37:38.271Z"
   },
   {
    "duration": 2,
    "start_time": "2023-04-24T16:37:57.727Z"
   },
   {
    "duration": 285200,
    "start_time": "2023-04-24T16:37:58.378Z"
   },
   {
    "duration": 3,
    "start_time": "2023-04-24T16:42:53.844Z"
   },
   {
    "duration": 2,
    "start_time": "2023-04-24T16:43:10.392Z"
   },
   {
    "duration": 287880,
    "start_time": "2023-04-24T16:43:10.889Z"
   },
   {
    "duration": 4,
    "start_time": "2023-04-24T16:48:07.118Z"
   },
   {
    "duration": 10,
    "start_time": "2023-04-24T16:51:03.595Z"
   },
   {
    "duration": 3,
    "start_time": "2023-04-24T16:51:31.345Z"
   },
   {
    "duration": 1653,
    "start_time": "2023-04-24T17:42:13.922Z"
   },
   {
    "duration": 931,
    "start_time": "2023-04-24T17:42:15.577Z"
   },
   {
    "duration": 11,
    "start_time": "2023-04-24T17:42:16.509Z"
   },
   {
    "duration": 38,
    "start_time": "2023-04-24T17:42:16.522Z"
   },
   {
    "duration": 234,
    "start_time": "2023-04-24T17:42:16.562Z"
   },
   {
    "duration": 20,
    "start_time": "2023-04-24T17:42:16.798Z"
   },
   {
    "duration": 14,
    "start_time": "2023-04-24T17:42:16.822Z"
   },
   {
    "duration": 253,
    "start_time": "2023-04-24T17:42:16.838Z"
   },
   {
    "duration": 5,
    "start_time": "2023-04-24T17:42:17.092Z"
   },
   {
    "duration": 7476,
    "start_time": "2023-04-24T17:42:17.099Z"
   },
   {
    "duration": 92,
    "start_time": "2023-04-24T17:42:24.577Z"
   },
   {
    "duration": 42,
    "start_time": "2023-04-24T17:42:24.676Z"
   },
   {
    "duration": 3,
    "start_time": "2023-04-24T17:42:24.720Z"
   },
   {
    "duration": 44,
    "start_time": "2023-04-24T17:42:24.724Z"
   },
   {
    "duration": 33,
    "start_time": "2023-04-24T17:42:24.780Z"
   },
   {
    "duration": 5,
    "start_time": "2023-04-24T17:42:24.815Z"
   },
   {
    "duration": 146,
    "start_time": "2023-04-24T17:42:24.821Z"
   },
   {
    "duration": 1799,
    "start_time": "2023-04-24T17:42:24.976Z"
   },
   {
    "duration": 206,
    "start_time": "2023-04-24T17:42:26.777Z"
   },
   {
    "duration": 3,
    "start_time": "2023-04-24T17:42:26.985Z"
   },
   {
    "duration": 9212,
    "start_time": "2023-04-24T17:42:26.989Z"
   },
   {
    "duration": 2,
    "start_time": "2023-04-24T17:42:36.203Z"
   },
   {
    "duration": 29,
    "start_time": "2023-04-24T17:42:36.207Z"
   },
   {
    "duration": 33,
    "start_time": "2023-04-24T17:42:36.237Z"
   },
   {
    "duration": 23,
    "start_time": "2023-04-24T17:42:36.272Z"
   },
   {
    "duration": 12,
    "start_time": "2023-04-24T17:42:36.296Z"
   },
   {
    "duration": 17,
    "start_time": "2023-04-24T17:42:36.310Z"
   },
   {
    "duration": 1509,
    "start_time": "2023-04-24T17:49:11.993Z"
   },
   {
    "duration": 932,
    "start_time": "2023-04-24T17:49:13.504Z"
   },
   {
    "duration": 21,
    "start_time": "2023-04-24T17:49:14.438Z"
   },
   {
    "duration": 52,
    "start_time": "2023-04-24T17:49:14.461Z"
   },
   {
    "duration": 252,
    "start_time": "2023-04-24T17:49:14.515Z"
   },
   {
    "duration": 9,
    "start_time": "2023-04-24T17:49:14.769Z"
   },
   {
    "duration": 32,
    "start_time": "2023-04-24T17:49:14.780Z"
   },
   {
    "duration": 268,
    "start_time": "2023-04-24T17:49:14.814Z"
   },
   {
    "duration": 7,
    "start_time": "2023-04-24T17:49:15.084Z"
   },
   {
    "duration": 7382,
    "start_time": "2023-04-24T17:49:15.094Z"
   },
   {
    "duration": 62,
    "start_time": "2023-04-24T17:49:22.478Z"
   },
   {
    "duration": 57,
    "start_time": "2023-04-24T17:49:22.553Z"
   },
   {
    "duration": 2,
    "start_time": "2023-04-24T17:49:22.612Z"
   },
   {
    "duration": 15,
    "start_time": "2023-04-24T17:49:22.616Z"
   },
   {
    "duration": 43,
    "start_time": "2023-04-24T17:49:22.632Z"
   },
   {
    "duration": 5,
    "start_time": "2023-04-24T17:49:22.676Z"
   },
   {
    "duration": 125,
    "start_time": "2023-04-24T17:49:22.682Z"
   },
   {
    "duration": 1780,
    "start_time": "2023-04-24T17:49:22.808Z"
   },
   {
    "duration": 186,
    "start_time": "2023-04-24T17:49:24.590Z"
   },
   {
    "duration": 3,
    "start_time": "2023-04-24T17:49:24.777Z"
   },
   {
    "duration": 9427,
    "start_time": "2023-04-24T17:49:24.782Z"
   },
   {
    "duration": 2,
    "start_time": "2023-04-24T17:49:34.211Z"
   },
   {
    "duration": 19,
    "start_time": "2023-04-24T17:49:34.215Z"
   },
   {
    "duration": 37,
    "start_time": "2023-04-24T17:49:34.236Z"
   },
   {
    "duration": 13,
    "start_time": "2023-04-24T17:49:34.274Z"
   },
   {
    "duration": 34,
    "start_time": "2023-04-24T17:49:34.289Z"
   },
   {
    "duration": 13,
    "start_time": "2023-04-24T17:49:34.325Z"
   },
   {
    "duration": 152279,
    "start_time": "2023-04-24T17:49:34.341Z"
   },
   {
    "duration": 8,
    "start_time": "2023-04-24T17:59:01.452Z"
   },
   {
    "duration": 10,
    "start_time": "2023-04-24T18:06:14.145Z"
   },
   {
    "duration": 1569,
    "start_time": "2023-04-24T18:06:44.771Z"
   },
   {
    "duration": 1061,
    "start_time": "2023-04-24T18:06:46.342Z"
   },
   {
    "duration": 11,
    "start_time": "2023-04-24T18:06:47.404Z"
   },
   {
    "duration": 26,
    "start_time": "2023-04-24T18:06:47.417Z"
   },
   {
    "duration": 224,
    "start_time": "2023-04-24T18:06:47.456Z"
   },
   {
    "duration": 8,
    "start_time": "2023-04-24T18:06:47.682Z"
   },
   {
    "duration": 8,
    "start_time": "2023-04-24T18:06:47.691Z"
   },
   {
    "duration": 279,
    "start_time": "2023-04-24T18:06:47.701Z"
   },
   {
    "duration": 5,
    "start_time": "2023-04-24T18:06:47.982Z"
   },
   {
    "duration": 7481,
    "start_time": "2023-04-24T18:06:47.990Z"
   },
   {
    "duration": 67,
    "start_time": "2023-04-24T18:06:55.472Z"
   },
   {
    "duration": 44,
    "start_time": "2023-04-24T18:06:55.541Z"
   },
   {
    "duration": 3,
    "start_time": "2023-04-24T18:06:55.587Z"
   },
   {
    "duration": 16,
    "start_time": "2023-04-24T18:06:55.592Z"
   },
   {
    "duration": 24,
    "start_time": "2023-04-24T18:06:55.610Z"
   },
   {
    "duration": 34,
    "start_time": "2023-04-24T18:06:55.636Z"
   },
   {
    "duration": 121,
    "start_time": "2023-04-24T18:06:55.672Z"
   },
   {
    "duration": 1802,
    "start_time": "2023-04-24T18:06:55.794Z"
   },
   {
    "duration": 180,
    "start_time": "2023-04-24T18:06:57.599Z"
   },
   {
    "duration": 3,
    "start_time": "2023-04-24T18:06:57.781Z"
   },
   {
    "duration": 9312,
    "start_time": "2023-04-24T18:06:57.786Z"
   },
   {
    "duration": 2,
    "start_time": "2023-04-24T18:07:07.100Z"
   },
   {
    "duration": 10,
    "start_time": "2023-04-24T18:07:07.104Z"
   },
   {
    "duration": 5,
    "start_time": "2023-04-24T18:07:07.115Z"
   },
   {
    "duration": 5,
    "start_time": "2023-04-24T18:07:07.121Z"
   },
   {
    "duration": 5,
    "start_time": "2023-04-24T18:07:07.127Z"
   },
   {
    "duration": 8,
    "start_time": "2023-04-24T18:07:07.133Z"
   },
   {
    "duration": 308618,
    "start_time": "2023-04-24T18:07:07.157Z"
   },
   {
    "duration": 3,
    "start_time": "2023-04-24T18:12:31.870Z"
   },
   {
    "duration": 898,
    "start_time": "2023-04-24T18:12:39.710Z"
   },
   {
    "duration": 250,
    "start_time": "2023-04-24T18:12:43.813Z"
   },
   {
    "duration": 109,
    "start_time": "2023-04-24T18:13:11.712Z"
   },
   {
    "duration": 118,
    "start_time": "2023-04-24T18:13:34.945Z"
   },
   {
    "duration": 20,
    "start_time": "2023-04-24T18:14:24.143Z"
   },
   {
    "duration": 10,
    "start_time": "2023-04-24T18:14:26.986Z"
   },
   {
    "duration": 21,
    "start_time": "2023-04-24T18:14:49.725Z"
   },
   {
    "duration": 1478,
    "start_time": "2023-04-24T18:20:44.997Z"
   },
   {
    "duration": 997,
    "start_time": "2023-04-24T18:20:46.477Z"
   },
   {
    "duration": 11,
    "start_time": "2023-04-24T18:20:47.476Z"
   },
   {
    "duration": 26,
    "start_time": "2023-04-24T18:20:47.488Z"
   },
   {
    "duration": 259,
    "start_time": "2023-04-24T18:20:47.516Z"
   },
   {
    "duration": 9,
    "start_time": "2023-04-24T18:20:47.777Z"
   },
   {
    "duration": 21,
    "start_time": "2023-04-24T18:20:47.787Z"
   },
   {
    "duration": 280,
    "start_time": "2023-04-24T18:20:47.809Z"
   },
   {
    "duration": 6,
    "start_time": "2023-04-24T18:20:48.090Z"
   },
   {
    "duration": 7600,
    "start_time": "2023-04-24T18:20:48.098Z"
   },
   {
    "duration": 75,
    "start_time": "2023-04-24T18:20:55.700Z"
   },
   {
    "duration": 34,
    "start_time": "2023-04-24T18:20:55.777Z"
   },
   {
    "duration": 2,
    "start_time": "2023-04-24T18:20:55.812Z"
   },
   {
    "duration": 13,
    "start_time": "2023-04-24T18:20:55.816Z"
   },
   {
    "duration": 32,
    "start_time": "2023-04-24T18:20:55.831Z"
   },
   {
    "duration": 11,
    "start_time": "2023-04-24T18:20:55.868Z"
   },
   {
    "duration": 135,
    "start_time": "2023-04-24T18:20:55.880Z"
   },
   {
    "duration": 1803,
    "start_time": "2023-04-24T18:20:56.017Z"
   },
   {
    "duration": 221,
    "start_time": "2023-04-24T18:20:57.822Z"
   },
   {
    "duration": 3,
    "start_time": "2023-04-24T18:20:58.044Z"
   },
   {
    "duration": 9311,
    "start_time": "2023-04-24T18:20:58.048Z"
   },
   {
    "duration": 7,
    "start_time": "2023-04-24T18:21:07.360Z"
   },
   {
    "duration": 7,
    "start_time": "2023-04-24T18:21:07.368Z"
   },
   {
    "duration": 9,
    "start_time": "2023-04-24T18:21:07.376Z"
   },
   {
    "duration": 10,
    "start_time": "2023-04-24T18:21:07.386Z"
   },
   {
    "duration": 80,
    "start_time": "2023-04-24T18:21:34.079Z"
   },
   {
    "duration": 67,
    "start_time": "2023-04-24T18:21:42.561Z"
   },
   {
    "duration": 3,
    "start_time": "2023-04-24T18:22:04.030Z"
   },
   {
    "duration": 149,
    "start_time": "2023-04-24T18:22:04.765Z"
   },
   {
    "duration": 55,
    "start_time": "2023-04-24T18:23:13.074Z"
   },
   {
    "duration": 49,
    "start_time": "2023-04-24T18:24:46.184Z"
   },
   {
    "duration": 1503,
    "start_time": "2023-04-24T18:24:51.961Z"
   },
   {
    "duration": 1399,
    "start_time": "2023-04-24T18:24:53.466Z"
   },
   {
    "duration": 14,
    "start_time": "2023-04-24T18:24:54.866Z"
   },
   {
    "duration": 61,
    "start_time": "2023-04-24T18:24:54.882Z"
   },
   {
    "duration": 277,
    "start_time": "2023-04-24T18:24:54.945Z"
   },
   {
    "duration": 9,
    "start_time": "2023-04-24T18:24:55.224Z"
   },
   {
    "duration": 28,
    "start_time": "2023-04-24T18:24:55.235Z"
   },
   {
    "duration": 267,
    "start_time": "2023-04-24T18:24:55.264Z"
   },
   {
    "duration": 7,
    "start_time": "2023-04-24T18:24:55.533Z"
   },
   {
    "duration": 7275,
    "start_time": "2023-04-24T18:24:55.552Z"
   },
   {
    "duration": 74,
    "start_time": "2023-04-24T18:25:02.829Z"
   },
   {
    "duration": 64,
    "start_time": "2023-04-24T18:25:02.904Z"
   },
   {
    "duration": 3,
    "start_time": "2023-04-24T18:25:02.970Z"
   },
   {
    "duration": 32,
    "start_time": "2023-04-24T18:25:02.975Z"
   },
   {
    "duration": 43,
    "start_time": "2023-04-24T18:25:03.008Z"
   },
   {
    "duration": 5,
    "start_time": "2023-04-24T18:25:03.063Z"
   },
   {
    "duration": 155,
    "start_time": "2023-04-24T18:25:03.070Z"
   },
   {
    "duration": 1802,
    "start_time": "2023-04-24T18:25:03.226Z"
   },
   {
    "duration": 242,
    "start_time": "2023-04-24T18:25:05.030Z"
   },
   {
    "duration": 3,
    "start_time": "2023-04-24T18:25:05.273Z"
   },
   {
    "duration": 8783,
    "start_time": "2023-04-24T18:25:05.277Z"
   },
   {
    "duration": 3,
    "start_time": "2023-04-24T18:25:14.061Z"
   },
   {
    "duration": 27,
    "start_time": "2023-04-24T18:25:14.066Z"
   },
   {
    "duration": 17,
    "start_time": "2023-04-24T18:25:14.095Z"
   },
   {
    "duration": 29,
    "start_time": "2023-04-24T18:25:14.114Z"
   },
   {
    "duration": 2,
    "start_time": "2023-04-24T18:25:22.675Z"
   },
   {
    "duration": 3,
    "start_time": "2023-04-24T18:25:23.861Z"
   },
   {
    "duration": 124,
    "start_time": "2023-04-24T18:25:43.090Z"
   },
   {
    "duration": 1513,
    "start_time": "2023-04-24T18:28:58.224Z"
   },
   {
    "duration": 975,
    "start_time": "2023-04-24T18:28:59.739Z"
   },
   {
    "duration": 12,
    "start_time": "2023-04-24T18:29:00.715Z"
   },
   {
    "duration": 74,
    "start_time": "2023-04-24T18:29:00.729Z"
   },
   {
    "duration": 283,
    "start_time": "2023-04-24T18:29:00.805Z"
   },
   {
    "duration": 9,
    "start_time": "2023-04-24T18:29:01.091Z"
   },
   {
    "duration": 30,
    "start_time": "2023-04-24T18:29:01.101Z"
   },
   {
    "duration": 292,
    "start_time": "2023-04-24T18:29:01.132Z"
   },
   {
    "duration": 6,
    "start_time": "2023-04-24T18:29:01.425Z"
   },
   {
    "duration": 7300,
    "start_time": "2023-04-24T18:29:01.434Z"
   },
   {
    "duration": 67,
    "start_time": "2023-04-24T18:29:08.735Z"
   },
   {
    "duration": 57,
    "start_time": "2023-04-24T18:29:08.804Z"
   },
   {
    "duration": 3,
    "start_time": "2023-04-24T18:29:08.863Z"
   },
   {
    "duration": 13,
    "start_time": "2023-04-24T18:29:08.868Z"
   },
   {
    "duration": 28,
    "start_time": "2023-04-24T18:29:08.882Z"
   },
   {
    "duration": 4,
    "start_time": "2023-04-24T18:29:08.912Z"
   },
   {
    "duration": 145,
    "start_time": "2023-04-24T18:29:08.917Z"
   },
   {
    "duration": 1816,
    "start_time": "2023-04-24T18:29:09.064Z"
   },
   {
    "duration": 219,
    "start_time": "2023-04-24T18:29:10.881Z"
   },
   {
    "duration": 3,
    "start_time": "2023-04-24T18:29:11.101Z"
   },
   {
    "duration": 8860,
    "start_time": "2023-04-24T18:29:11.106Z"
   },
   {
    "duration": 3,
    "start_time": "2023-04-24T18:29:19.967Z"
   },
   {
    "duration": 8,
    "start_time": "2023-04-24T18:29:19.972Z"
   },
   {
    "duration": 18,
    "start_time": "2023-04-24T18:29:19.981Z"
   },
   {
    "duration": 28,
    "start_time": "2023-04-24T18:29:20.000Z"
   },
   {
    "duration": 31,
    "start_time": "2023-04-24T18:29:20.029Z"
   },
   {
    "duration": 23,
    "start_time": "2023-04-24T18:29:20.061Z"
   },
   {
    "duration": 2052,
    "start_time": "2023-04-24T18:29:24.340Z"
   },
   {
    "duration": 17,
    "start_time": "2023-04-24T18:29:27.378Z"
   },
   {
    "duration": 4709,
    "start_time": "2023-04-24T18:29:48.127Z"
   },
   {
    "duration": 17,
    "start_time": "2023-04-24T18:29:57.324Z"
   },
   {
    "duration": 33245,
    "start_time": "2023-04-24T18:30:03.035Z"
   },
   {
    "duration": 19,
    "start_time": "2023-04-24T18:30:38.406Z"
   },
   {
    "duration": 29182,
    "start_time": "2023-04-24T18:32:22.762Z"
   },
   {
    "duration": 23,
    "start_time": "2023-04-24T18:32:58.343Z"
   },
   {
    "duration": 30724,
    "start_time": "2023-04-24T18:33:08.648Z"
   },
   {
    "duration": 19,
    "start_time": "2023-04-24T18:33:41.209Z"
   },
   {
    "duration": 35275,
    "start_time": "2023-04-24T18:33:51.507Z"
   },
   {
    "duration": 19,
    "start_time": "2023-04-24T18:34:30.261Z"
   },
   {
    "duration": 38780,
    "start_time": "2023-04-24T18:34:48.109Z"
   },
   {
    "duration": 22,
    "start_time": "2023-04-24T18:35:32.319Z"
   },
   {
    "duration": 24128,
    "start_time": "2023-04-24T18:35:47.018Z"
   },
   {
    "duration": 25,
    "start_time": "2023-04-24T18:36:12.437Z"
   },
   {
    "duration": 80,
    "start_time": "2023-04-24T18:36:21.749Z"
   },
   {
    "duration": 24438,
    "start_time": "2023-04-24T18:36:31.938Z"
   },
   {
    "duration": 21,
    "start_time": "2023-04-24T18:37:12.400Z"
   },
   {
    "duration": 28513,
    "start_time": "2023-04-24T18:37:29.518Z"
   },
   {
    "duration": 24,
    "start_time": "2023-04-24T18:37:58.837Z"
   },
   {
    "duration": 32479,
    "start_time": "2023-04-24T18:38:09.621Z"
   },
   {
    "duration": 21,
    "start_time": "2023-04-24T18:38:44.613Z"
   },
   {
    "duration": 40695,
    "start_time": "2023-04-24T18:38:53.768Z"
   },
   {
    "duration": 19,
    "start_time": "2023-04-24T18:39:48.970Z"
   },
   {
    "duration": 80167,
    "start_time": "2023-04-24T18:40:57.561Z"
   },
   {
    "duration": 21,
    "start_time": "2023-04-24T18:42:20.565Z"
   },
   {
    "duration": 69743,
    "start_time": "2023-04-24T18:42:28.036Z"
   },
   {
    "duration": 31,
    "start_time": "2023-04-24T18:43:48.432Z"
   },
   {
    "duration": 3,
    "start_time": "2023-04-24T18:44:29.988Z"
   },
   {
    "duration": 1653,
    "start_time": "2023-04-24T18:51:53.606Z"
   },
   {
    "duration": 874,
    "start_time": "2023-04-24T18:51:55.262Z"
   },
   {
    "duration": 25,
    "start_time": "2023-04-24T18:51:56.138Z"
   },
   {
    "duration": 28,
    "start_time": "2023-04-24T18:51:56.166Z"
   },
   {
    "duration": 250,
    "start_time": "2023-04-24T18:51:56.195Z"
   },
   {
    "duration": 12,
    "start_time": "2023-04-24T18:51:56.455Z"
   },
   {
    "duration": 23,
    "start_time": "2023-04-24T18:51:56.468Z"
   },
   {
    "duration": 252,
    "start_time": "2023-04-24T18:51:56.492Z"
   },
   {
    "duration": 20,
    "start_time": "2023-04-24T18:51:56.745Z"
   },
   {
    "duration": 7374,
    "start_time": "2023-04-24T18:51:56.768Z"
   },
   {
    "duration": 96,
    "start_time": "2023-04-24T18:52:04.143Z"
   },
   {
    "duration": 55,
    "start_time": "2023-04-24T18:52:04.241Z"
   },
   {
    "duration": 3,
    "start_time": "2023-04-24T18:52:04.298Z"
   },
   {
    "duration": 18,
    "start_time": "2023-04-24T18:52:04.303Z"
   },
   {
    "duration": 46,
    "start_time": "2023-04-24T18:52:04.323Z"
   },
   {
    "duration": 4,
    "start_time": "2023-04-24T18:52:04.371Z"
   },
   {
    "duration": 132,
    "start_time": "2023-04-24T18:52:04.377Z"
   },
   {
    "duration": 1927,
    "start_time": "2023-04-24T18:52:04.511Z"
   },
   {
    "duration": 158,
    "start_time": "2023-04-24T18:52:06.440Z"
   },
   {
    "duration": 2,
    "start_time": "2023-04-24T18:52:06.600Z"
   },
   {
    "duration": 9257,
    "start_time": "2023-04-24T18:52:06.604Z"
   },
   {
    "duration": 3,
    "start_time": "2023-04-24T18:52:15.863Z"
   },
   {
    "duration": 15,
    "start_time": "2023-04-24T18:52:15.868Z"
   },
   {
    "duration": 7,
    "start_time": "2023-04-24T18:52:15.885Z"
   },
   {
    "duration": 11,
    "start_time": "2023-04-24T18:52:15.893Z"
   },
   {
    "duration": 5,
    "start_time": "2023-04-24T18:52:15.905Z"
   },
   {
    "duration": 4,
    "start_time": "2023-04-24T18:52:32.239Z"
   },
   {
    "duration": 166,
    "start_time": "2023-04-24T18:52:34.713Z"
   },
   {
    "duration": 1631,
    "start_time": "2023-04-24T18:58:02.528Z"
   },
   {
    "duration": 914,
    "start_time": "2023-04-24T18:58:04.163Z"
   },
   {
    "duration": 14,
    "start_time": "2023-04-24T18:58:05.079Z"
   },
   {
    "duration": 41,
    "start_time": "2023-04-24T18:58:05.095Z"
   },
   {
    "duration": 312,
    "start_time": "2023-04-24T18:58:05.152Z"
   },
   {
    "duration": 10,
    "start_time": "2023-04-24T18:58:05.466Z"
   },
   {
    "duration": 10,
    "start_time": "2023-04-24T18:58:05.478Z"
   },
   {
    "duration": 289,
    "start_time": "2023-04-24T18:58:05.489Z"
   },
   {
    "duration": 6,
    "start_time": "2023-04-24T18:58:05.779Z"
   },
   {
    "duration": 7391,
    "start_time": "2023-04-24T18:58:05.788Z"
   },
   {
    "duration": 83,
    "start_time": "2023-04-24T18:58:13.181Z"
   },
   {
    "duration": 51,
    "start_time": "2023-04-24T18:58:13.266Z"
   },
   {
    "duration": 3,
    "start_time": "2023-04-24T18:58:13.318Z"
   },
   {
    "duration": 86,
    "start_time": "2023-04-24T18:58:13.323Z"
   },
   {
    "duration": 32,
    "start_time": "2023-04-24T18:58:13.411Z"
   },
   {
    "duration": 10,
    "start_time": "2023-04-24T18:58:13.445Z"
   },
   {
    "duration": 134,
    "start_time": "2023-04-24T18:58:13.468Z"
   },
   {
    "duration": 1914,
    "start_time": "2023-04-24T18:58:13.604Z"
   },
   {
    "duration": 168,
    "start_time": "2023-04-24T18:58:15.520Z"
   },
   {
    "duration": 3,
    "start_time": "2023-04-24T18:58:15.690Z"
   },
   {
    "duration": 9242,
    "start_time": "2023-04-24T18:58:15.695Z"
   },
   {
    "duration": 2,
    "start_time": "2023-04-24T18:58:24.939Z"
   },
   {
    "duration": 17,
    "start_time": "2023-04-24T18:58:24.948Z"
   },
   {
    "duration": 5,
    "start_time": "2023-04-24T18:58:24.967Z"
   },
   {
    "duration": 5,
    "start_time": "2023-04-24T18:58:24.974Z"
   },
   {
    "duration": 9,
    "start_time": "2023-04-24T18:58:24.981Z"
   },
   {
    "duration": 4,
    "start_time": "2023-04-24T18:58:24.991Z"
   },
   {
    "duration": 1714,
    "start_time": "2023-04-24T18:59:42.633Z"
   },
   {
    "duration": 1033,
    "start_time": "2023-04-24T18:59:44.358Z"
   },
   {
    "duration": 11,
    "start_time": "2023-04-24T18:59:45.392Z"
   },
   {
    "duration": 38,
    "start_time": "2023-04-24T18:59:45.405Z"
   },
   {
    "duration": 263,
    "start_time": "2023-04-24T18:59:45.455Z"
   },
   {
    "duration": 10,
    "start_time": "2023-04-24T18:59:45.719Z"
   },
   {
    "duration": 22,
    "start_time": "2023-04-24T18:59:45.730Z"
   },
   {
    "duration": 269,
    "start_time": "2023-04-24T18:59:45.753Z"
   },
   {
    "duration": 6,
    "start_time": "2023-04-24T18:59:46.024Z"
   },
   {
    "duration": 7569,
    "start_time": "2023-04-24T18:59:46.033Z"
   },
   {
    "duration": 76,
    "start_time": "2023-04-24T18:59:53.603Z"
   },
   {
    "duration": 49,
    "start_time": "2023-04-24T18:59:53.681Z"
   },
   {
    "duration": 3,
    "start_time": "2023-04-24T18:59:53.731Z"
   },
   {
    "duration": 46,
    "start_time": "2023-04-24T18:59:53.748Z"
   },
   {
    "duration": 45,
    "start_time": "2023-04-24T18:59:53.796Z"
   },
   {
    "duration": 3,
    "start_time": "2023-04-24T18:59:53.843Z"
   },
   {
    "duration": 128,
    "start_time": "2023-04-24T18:59:53.848Z"
   },
   {
    "duration": 1855,
    "start_time": "2023-04-24T18:59:53.977Z"
   },
   {
    "duration": 145,
    "start_time": "2023-04-24T18:59:55.834Z"
   },
   {
    "duration": 2,
    "start_time": "2023-04-24T18:59:55.981Z"
   },
   {
    "duration": 9228,
    "start_time": "2023-04-24T18:59:55.985Z"
   },
   {
    "duration": 2,
    "start_time": "2023-04-24T19:00:05.215Z"
   },
   {
    "duration": 26,
    "start_time": "2023-04-24T19:00:05.219Z"
   },
   {
    "duration": 27,
    "start_time": "2023-04-24T19:00:05.247Z"
   },
   {
    "duration": 27,
    "start_time": "2023-04-24T19:00:05.275Z"
   },
   {
    "duration": 21,
    "start_time": "2023-04-24T19:00:05.304Z"
   },
   {
    "duration": 18,
    "start_time": "2023-04-24T19:00:05.327Z"
   },
   {
    "duration": 1666,
    "start_time": "2023-04-24T19:04:52.941Z"
   },
   {
    "duration": 951,
    "start_time": "2023-04-24T19:04:54.609Z"
   },
   {
    "duration": 15,
    "start_time": "2023-04-24T19:04:55.561Z"
   },
   {
    "duration": 46,
    "start_time": "2023-04-24T19:04:55.579Z"
   },
   {
    "duration": 237,
    "start_time": "2023-04-24T19:04:55.627Z"
   },
   {
    "duration": 8,
    "start_time": "2023-04-24T19:04:55.866Z"
   },
   {
    "duration": 15,
    "start_time": "2023-04-24T19:04:55.875Z"
   },
   {
    "duration": 272,
    "start_time": "2023-04-24T19:04:55.892Z"
   },
   {
    "duration": 7,
    "start_time": "2023-04-24T19:04:56.166Z"
   },
   {
    "duration": 7183,
    "start_time": "2023-04-24T19:04:56.176Z"
   },
   {
    "duration": 71,
    "start_time": "2023-04-24T19:05:03.361Z"
   },
   {
    "duration": 60,
    "start_time": "2023-04-24T19:05:03.434Z"
   },
   {
    "duration": 3,
    "start_time": "2023-04-24T19:05:03.496Z"
   },
   {
    "duration": 16,
    "start_time": "2023-04-24T19:05:03.500Z"
   },
   {
    "duration": 42,
    "start_time": "2023-04-24T19:05:03.518Z"
   },
   {
    "duration": 4,
    "start_time": "2023-04-24T19:05:03.562Z"
   },
   {
    "duration": 121,
    "start_time": "2023-04-24T19:05:03.568Z"
   },
   {
    "duration": 1908,
    "start_time": "2023-04-24T19:05:03.691Z"
   },
   {
    "duration": 161,
    "start_time": "2023-04-24T19:05:05.601Z"
   },
   {
    "duration": 3,
    "start_time": "2023-04-24T19:05:05.764Z"
   },
   {
    "duration": 8799,
    "start_time": "2023-04-24T19:05:05.769Z"
   },
   {
    "duration": 5,
    "start_time": "2023-04-24T19:05:14.570Z"
   },
   {
    "duration": 37,
    "start_time": "2023-04-24T19:05:14.577Z"
   },
   {
    "duration": 13,
    "start_time": "2023-04-24T19:05:14.616Z"
   },
   {
    "duration": 8,
    "start_time": "2023-04-24T19:05:14.631Z"
   },
   {
    "duration": 43,
    "start_time": "2023-04-24T19:05:14.640Z"
   },
   {
    "duration": 92,
    "start_time": "2023-04-24T19:05:14.684Z"
   },
   {
    "duration": 0,
    "start_time": "2023-04-24T19:05:14.778Z"
   },
   {
    "duration": 0,
    "start_time": "2023-04-24T19:05:14.780Z"
   },
   {
    "duration": 0,
    "start_time": "2023-04-24T19:05:14.781Z"
   },
   {
    "duration": 20,
    "start_time": "2023-04-24T19:05:26.845Z"
   },
   {
    "duration": 3,
    "start_time": "2023-04-24T19:05:33.541Z"
   },
   {
    "duration": 3,
    "start_time": "2023-04-24T19:05:34.082Z"
   },
   {
    "duration": 1572,
    "start_time": "2023-04-24T19:12:45.514Z"
   },
   {
    "duration": 926,
    "start_time": "2023-04-24T19:12:47.089Z"
   },
   {
    "duration": 16,
    "start_time": "2023-04-24T19:12:48.017Z"
   },
   {
    "duration": 54,
    "start_time": "2023-04-24T19:12:48.036Z"
   },
   {
    "duration": 272,
    "start_time": "2023-04-24T19:12:48.092Z"
   },
   {
    "duration": 10,
    "start_time": "2023-04-24T19:12:48.366Z"
   },
   {
    "duration": 9,
    "start_time": "2023-04-24T19:12:48.378Z"
   },
   {
    "duration": 278,
    "start_time": "2023-04-24T19:12:48.389Z"
   },
   {
    "duration": 6,
    "start_time": "2023-04-24T19:12:48.669Z"
   },
   {
    "duration": 7185,
    "start_time": "2023-04-24T19:12:48.677Z"
   },
   {
    "duration": 63,
    "start_time": "2023-04-24T19:12:55.864Z"
   },
   {
    "duration": 53,
    "start_time": "2023-04-24T19:12:55.928Z"
   },
   {
    "duration": 3,
    "start_time": "2023-04-24T19:12:55.983Z"
   },
   {
    "duration": 10,
    "start_time": "2023-04-24T19:12:55.987Z"
   },
   {
    "duration": 31,
    "start_time": "2023-04-24T19:12:55.998Z"
   },
   {
    "duration": 4,
    "start_time": "2023-04-24T19:12:56.031Z"
   },
   {
    "duration": 121,
    "start_time": "2023-04-24T19:12:56.055Z"
   },
   {
    "duration": 1830,
    "start_time": "2023-04-24T19:12:56.178Z"
   },
   {
    "duration": 220,
    "start_time": "2023-04-24T19:12:58.010Z"
   },
   {
    "duration": 2,
    "start_time": "2023-04-24T19:12:58.232Z"
   },
   {
    "duration": 9055,
    "start_time": "2023-04-24T19:12:58.236Z"
   },
   {
    "duration": 3,
    "start_time": "2023-04-24T19:13:07.292Z"
   },
   {
    "duration": 15,
    "start_time": "2023-04-24T19:13:07.297Z"
   },
   {
    "duration": 6,
    "start_time": "2023-04-24T19:13:07.313Z"
   },
   {
    "duration": 4,
    "start_time": "2023-04-24T19:13:07.320Z"
   },
   {
    "duration": 23,
    "start_time": "2023-04-24T19:13:07.325Z"
   },
   {
    "duration": 17,
    "start_time": "2023-04-24T19:13:07.352Z"
   },
   {
    "duration": 345744,
    "start_time": "2023-04-24T19:13:13.011Z"
   },
   {
    "duration": 4,
    "start_time": "2023-04-24T19:20:01.336Z"
   },
   {
    "duration": 83572,
    "start_time": "2023-04-24T19:20:16.287Z"
   },
   {
    "duration": 18,
    "start_time": "2023-04-24T19:22:43.919Z"
   },
   {
    "duration": 255,
    "start_time": "2023-04-24T19:22:52.430Z"
   },
   {
    "duration": 32,
    "start_time": "2023-04-24T19:24:46.547Z"
   },
   {
    "duration": 135,
    "start_time": "2023-04-24T19:33:38.876Z"
   },
   {
    "duration": 10,
    "start_time": "2023-04-24T19:35:53.689Z"
   },
   {
    "duration": 156,
    "start_time": "2023-04-24T19:36:22.874Z"
   },
   {
    "duration": 181,
    "start_time": "2023-04-24T19:36:29.322Z"
   },
   {
    "duration": 237,
    "start_time": "2023-04-24T19:36:50.487Z"
   },
   {
    "duration": 228,
    "start_time": "2023-04-24T19:36:59.370Z"
   },
   {
    "duration": 5,
    "start_time": "2023-04-24T19:37:47.573Z"
   },
   {
    "duration": 213,
    "start_time": "2023-04-24T19:38:04.114Z"
   },
   {
    "duration": 218,
    "start_time": "2023-04-24T19:38:17.192Z"
   },
   {
    "duration": 213,
    "start_time": "2023-04-24T19:38:22.070Z"
   },
   {
    "duration": 162,
    "start_time": "2023-04-24T19:39:06.683Z"
   },
   {
    "duration": 180,
    "start_time": "2023-04-24T19:39:28.110Z"
   },
   {
    "duration": 252,
    "start_time": "2023-04-24T19:39:54.677Z"
   },
   {
    "duration": 210,
    "start_time": "2023-04-24T19:40:24.219Z"
   },
   {
    "duration": 218,
    "start_time": "2023-04-24T19:41:03.990Z"
   },
   {
    "duration": 3,
    "start_time": "2023-04-24T19:42:29.202Z"
   },
   {
    "duration": 241,
    "start_time": "2023-04-24T19:42:33.136Z"
   },
   {
    "duration": 4,
    "start_time": "2023-04-24T19:42:51.925Z"
   },
   {
    "duration": 226,
    "start_time": "2023-04-24T19:42:54.296Z"
   },
   {
    "duration": 121,
    "start_time": "2023-04-24T19:43:43.795Z"
   },
   {
    "duration": 236,
    "start_time": "2023-04-24T19:43:57.738Z"
   },
   {
    "duration": 21,
    "start_time": "2023-04-24T19:45:28.504Z"
   },
   {
    "duration": 3,
    "start_time": "2023-04-24T19:46:01.289Z"
   },
   {
    "duration": 4,
    "start_time": "2023-04-24T19:46:03.434Z"
   },
   {
    "duration": 3,
    "start_time": "2023-04-24T19:46:19.793Z"
   },
   {
    "duration": 2,
    "start_time": "2023-04-24T19:46:20.339Z"
   },
   {
    "duration": 548831,
    "start_time": "2023-04-24T19:46:42.648Z"
   },
   {
    "duration": 4,
    "start_time": "2023-04-24T19:56:00.009Z"
   },
   {
    "duration": 10,
    "start_time": "2023-04-24T20:02:45.788Z"
   },
   {
    "duration": 7040,
    "start_time": "2023-04-24T20:02:55.838Z"
   },
   {
    "duration": 34,
    "start_time": "2023-04-24T20:04:20.435Z"
   },
   {
    "duration": 199,
    "start_time": "2023-04-24T20:04:40.285Z"
   },
   {
    "duration": 19185,
    "start_time": "2023-04-24T20:07:20.874Z"
   },
   {
    "duration": 20,
    "start_time": "2023-04-24T20:07:42.873Z"
   },
   {
    "duration": 23422,
    "start_time": "2023-04-24T20:07:54.837Z"
   },
   {
    "duration": 245,
    "start_time": "2023-04-24T20:08:18.273Z"
   },
   {
    "duration": 18,
    "start_time": "2023-04-24T20:08:40.926Z"
   },
   {
    "duration": 186,
    "start_time": "2023-04-24T20:08:48.600Z"
   },
   {
    "duration": 22680,
    "start_time": "2023-04-24T20:08:59.175Z"
   },
   {
    "duration": 21,
    "start_time": "2023-04-24T20:09:26.670Z"
   },
   {
    "duration": 193,
    "start_time": "2023-04-24T20:09:32.010Z"
   },
   {
    "duration": 15,
    "start_time": "2023-04-24T20:18:09.426Z"
   },
   {
    "duration": 10,
    "start_time": "2023-04-24T20:22:56.645Z"
   },
   {
    "duration": 460552,
    "start_time": "2023-04-24T20:22:58.433Z"
   },
   {
    "duration": 3,
    "start_time": "2023-04-24T20:32:41.115Z"
   },
   {
    "duration": 431954,
    "start_time": "2023-04-24T20:32:42.028Z"
   },
   {
    "duration": 2124,
    "start_time": "2023-04-25T06:32:54.540Z"
   },
   {
    "duration": 1381,
    "start_time": "2023-04-25T06:32:57.998Z"
   },
   {
    "duration": 15,
    "start_time": "2023-04-25T06:32:59.382Z"
   },
   {
    "duration": 46,
    "start_time": "2023-04-25T06:33:00.602Z"
   },
   {
    "duration": 501,
    "start_time": "2023-04-25T06:33:01.151Z"
   },
   {
    "duration": 14,
    "start_time": "2023-04-25T06:33:01.934Z"
   },
   {
    "duration": 21,
    "start_time": "2023-04-25T06:33:02.401Z"
   },
   {
    "duration": 290,
    "start_time": "2023-04-25T06:33:03.123Z"
   },
   {
    "duration": 11,
    "start_time": "2023-04-25T06:33:03.550Z"
   },
   {
    "duration": 8650,
    "start_time": "2023-04-25T06:33:04.494Z"
   },
   {
    "duration": 127,
    "start_time": "2023-04-25T06:33:13.146Z"
   },
   {
    "duration": 81,
    "start_time": "2023-04-25T06:33:13.275Z"
   },
   {
    "duration": 3,
    "start_time": "2023-04-25T06:33:13.359Z"
   },
   {
    "duration": 24,
    "start_time": "2023-04-25T06:33:13.365Z"
   },
   {
    "duration": 70,
    "start_time": "2023-04-25T06:33:13.392Z"
   },
   {
    "duration": 5,
    "start_time": "2023-04-25T06:33:13.464Z"
   },
   {
    "duration": 137,
    "start_time": "2023-04-25T06:33:14.573Z"
   },
   {
    "duration": 2127,
    "start_time": "2023-04-25T06:33:17.506Z"
   },
   {
    "duration": 136,
    "start_time": "2023-04-25T06:33:21.147Z"
   },
   {
    "duration": 7,
    "start_time": "2023-04-25T06:33:23.054Z"
   },
   {
    "duration": 12505,
    "start_time": "2023-04-25T06:33:23.711Z"
   },
   {
    "duration": 3,
    "start_time": "2023-04-25T06:33:40.500Z"
   },
   {
    "duration": 4,
    "start_time": "2023-04-25T06:33:41.426Z"
   },
   {
    "duration": 3,
    "start_time": "2023-04-25T06:33:42.836Z"
   },
   {
    "duration": 3,
    "start_time": "2023-04-25T06:33:44.199Z"
   },
   {
    "duration": 4,
    "start_time": "2023-04-25T06:33:45.248Z"
   },
   {
    "duration": 6,
    "start_time": "2023-04-25T06:34:12.789Z"
   },
   {
    "duration": 477794,
    "start_time": "2023-04-25T06:34:13.740Z"
   },
   {
    "duration": 4,
    "start_time": "2023-04-25T06:42:35.455Z"
   },
   {
    "duration": 16,
    "start_time": "2023-04-25T06:42:54.455Z"
   },
   {
    "duration": 16,
    "start_time": "2023-04-25T06:43:56.394Z"
   },
   {
    "duration": 15,
    "start_time": "2023-04-25T06:44:06.199Z"
   },
   {
    "duration": 16,
    "start_time": "2023-04-25T06:44:12.740Z"
   },
   {
    "duration": 21,
    "start_time": "2023-04-25T06:44:26.068Z"
   },
   {
    "duration": 18,
    "start_time": "2023-04-25T06:44:33.025Z"
   },
   {
    "duration": 15,
    "start_time": "2023-04-25T06:44:40.360Z"
   },
   {
    "duration": 16,
    "start_time": "2023-04-25T06:45:11.946Z"
   },
   {
    "duration": 21,
    "start_time": "2023-04-25T06:45:25.800Z"
   },
   {
    "duration": 18,
    "start_time": "2023-04-25T06:46:01.817Z"
   },
   {
    "duration": 16,
    "start_time": "2023-04-25T06:46:08.996Z"
   },
   {
    "duration": 6106,
    "start_time": "2023-04-25T06:46:12.252Z"
   },
   {
    "duration": 21,
    "start_time": "2023-04-25T06:46:21.718Z"
   },
   {
    "duration": 23,
    "start_time": "2023-04-25T06:46:29.845Z"
   },
   {
    "duration": 24734,
    "start_time": "2023-04-25T06:46:38.009Z"
   },
   {
    "duration": 4,
    "start_time": "2023-04-25T06:47:07.771Z"
   },
   {
    "duration": 0,
    "start_time": "2023-04-25T07:08:03.061Z"
   },
   {
    "duration": 0,
    "start_time": "2023-04-25T07:08:03.063Z"
   },
   {
    "duration": 0,
    "start_time": "2023-04-25T07:08:03.066Z"
   },
   {
    "duration": 5,
    "start_time": "2023-04-25T07:08:06.082Z"
   },
   {
    "duration": 1770463,
    "start_time": "2023-04-25T07:08:06.900Z"
   },
   {
    "duration": 2866,
    "start_time": "2023-04-25T17:57:35.356Z"
   },
   {
    "duration": 5496,
    "start_time": "2023-04-25T17:57:38.225Z"
   },
   {
    "duration": 21,
    "start_time": "2023-04-25T17:57:43.723Z"
   },
   {
    "duration": 38,
    "start_time": "2023-04-25T17:57:43.748Z"
   },
   {
    "duration": 354,
    "start_time": "2023-04-25T17:57:43.788Z"
   },
   {
    "duration": 13,
    "start_time": "2023-04-25T17:57:44.144Z"
   },
   {
    "duration": 15,
    "start_time": "2023-04-25T17:57:44.159Z"
   },
   {
    "duration": 299,
    "start_time": "2023-04-25T17:57:44.176Z"
   },
   {
    "duration": 8,
    "start_time": "2023-04-25T17:57:44.477Z"
   },
   {
    "duration": 9096,
    "start_time": "2023-04-25T17:57:44.489Z"
   },
   {
    "duration": 106,
    "start_time": "2023-04-25T17:57:53.587Z"
   },
   {
    "duration": 86,
    "start_time": "2023-04-25T17:57:53.696Z"
   },
   {
    "duration": 4,
    "start_time": "2023-04-25T17:57:53.791Z"
   },
   {
    "duration": 38,
    "start_time": "2023-04-25T17:57:53.797Z"
   },
   {
    "duration": 42,
    "start_time": "2023-04-25T17:57:53.840Z"
   },
   {
    "duration": 5,
    "start_time": "2023-04-25T17:57:53.885Z"
   },
   {
    "duration": 165,
    "start_time": "2023-04-25T17:57:53.892Z"
   },
   {
    "duration": 6905,
    "start_time": "2023-04-25T17:57:54.060Z"
   },
   {
    "duration": 345,
    "start_time": "2023-04-25T17:58:00.967Z"
   },
   {
    "duration": 4,
    "start_time": "2023-04-25T17:58:01.314Z"
   },
   {
    "duration": 13273,
    "start_time": "2023-04-25T17:58:01.319Z"
   },
   {
    "duration": 3,
    "start_time": "2023-04-25T17:58:14.594Z"
   },
   {
    "duration": 31,
    "start_time": "2023-04-25T17:58:14.599Z"
   },
   {
    "duration": 12,
    "start_time": "2023-04-25T17:58:14.634Z"
   },
   {
    "duration": 21,
    "start_time": "2023-04-25T17:58:14.653Z"
   },
   {
    "duration": 25,
    "start_time": "2023-04-25T17:58:14.677Z"
   },
   {
    "duration": 315493,
    "start_time": "2023-04-25T17:58:14.704Z"
   },
   {
    "duration": 0,
    "start_time": "2023-04-25T18:03:30.200Z"
   },
   {
    "duration": 0,
    "start_time": "2023-04-25T18:03:30.200Z"
   },
   {
    "duration": 0,
    "start_time": "2023-04-25T18:03:30.201Z"
   },
   {
    "duration": 0,
    "start_time": "2023-04-25T18:03:30.203Z"
   },
   {
    "duration": 0,
    "start_time": "2023-04-25T18:03:30.204Z"
   },
   {
    "duration": 0,
    "start_time": "2023-04-25T18:03:30.205Z"
   },
   {
    "duration": 0,
    "start_time": "2023-04-25T18:03:30.207Z"
   },
   {
    "duration": 0,
    "start_time": "2023-04-25T18:03:30.208Z"
   },
   {
    "duration": 0,
    "start_time": "2023-04-25T18:03:30.209Z"
   },
   {
    "duration": 0,
    "start_time": "2023-04-25T18:03:30.210Z"
   },
   {
    "duration": 0,
    "start_time": "2023-04-25T18:03:30.211Z"
   },
   {
    "duration": 0,
    "start_time": "2023-04-25T18:03:30.213Z"
   },
   {
    "duration": 0,
    "start_time": "2023-04-25T18:03:30.214Z"
   },
   {
    "duration": 0,
    "start_time": "2023-04-25T18:03:30.215Z"
   },
   {
    "duration": 0,
    "start_time": "2023-04-25T18:03:30.216Z"
   },
   {
    "duration": 0,
    "start_time": "2023-04-25T18:03:30.217Z"
   },
   {
    "duration": 0,
    "start_time": "2023-04-25T18:03:30.218Z"
   },
   {
    "duration": 0,
    "start_time": "2023-04-25T18:03:30.219Z"
   },
   {
    "duration": 42417,
    "start_time": "2023-04-25T18:03:33.920Z"
   },
   {
    "duration": 25,
    "start_time": "2023-04-25T18:06:04.845Z"
   },
   {
    "duration": 184,
    "start_time": "2023-04-25T18:06:06.250Z"
   },
   {
    "duration": 4,
    "start_time": "2023-04-25T18:06:15.457Z"
   },
   {
    "duration": 3,
    "start_time": "2023-04-25T18:06:15.726Z"
   },
   {
    "duration": 85777,
    "start_time": "2023-04-25T18:06:18.250Z"
   },
   {
    "duration": 21,
    "start_time": "2023-04-25T18:08:31.709Z"
   },
   {
    "duration": 213,
    "start_time": "2023-04-25T18:08:34.035Z"
   },
   {
    "duration": 3,
    "start_time": "2023-04-25T18:08:46.314Z"
   },
   {
    "duration": 3,
    "start_time": "2023-04-25T18:09:04.558Z"
   },
   {
    "duration": 60,
    "start_time": "2023-04-25T18:09:52.516Z"
   },
   {
    "duration": 1693,
    "start_time": "2023-04-26T06:28:49.533Z"
   },
   {
    "duration": 3664,
    "start_time": "2023-04-26T06:28:58.297Z"
   },
   {
    "duration": 10,
    "start_time": "2023-04-26T06:29:02.983Z"
   },
   {
    "duration": 31,
    "start_time": "2023-04-26T06:29:04.510Z"
   },
   {
    "duration": 238,
    "start_time": "2023-04-26T06:29:05.369Z"
   },
   {
    "duration": 11,
    "start_time": "2023-04-26T06:29:06.129Z"
   },
   {
    "duration": 11,
    "start_time": "2023-04-26T06:29:06.752Z"
   },
   {
    "duration": 232,
    "start_time": "2023-04-26T06:29:07.457Z"
   },
   {
    "duration": 6,
    "start_time": "2023-04-26T06:29:07.972Z"
   },
   {
    "duration": 7084,
    "start_time": "2023-04-26T06:29:09.053Z"
   },
   {
    "duration": 87,
    "start_time": "2023-04-26T06:29:16.139Z"
   },
   {
    "duration": 59,
    "start_time": "2023-04-26T06:29:16.228Z"
   },
   {
    "duration": 2,
    "start_time": "2023-04-26T06:29:16.289Z"
   },
   {
    "duration": 20,
    "start_time": "2023-04-26T06:29:16.293Z"
   },
   {
    "duration": 33,
    "start_time": "2023-04-26T06:29:18.309Z"
   },
   {
    "duration": 3,
    "start_time": "2023-04-26T06:29:19.873Z"
   },
   {
    "duration": 111,
    "start_time": "2023-04-26T06:29:22.117Z"
   },
   {
    "duration": 2062,
    "start_time": "2023-04-26T06:29:25.105Z"
   },
   {
    "duration": 146,
    "start_time": "2023-04-26T06:29:29.599Z"
   },
   {
    "duration": 5,
    "start_time": "2023-04-26T06:29:49.187Z"
   },
   {
    "duration": 6,
    "start_time": "2023-04-26T06:29:54.511Z"
   },
   {
    "duration": 3,
    "start_time": "2023-04-26T06:29:55.763Z"
   },
   {
    "duration": 9656,
    "start_time": "2023-04-26T06:29:56.658Z"
   },
   {
    "duration": 3,
    "start_time": "2023-04-26T06:30:12.104Z"
   },
   {
    "duration": 3,
    "start_time": "2023-04-26T06:30:12.775Z"
   },
   {
    "duration": 3,
    "start_time": "2023-04-26T06:30:13.639Z"
   },
   {
    "duration": 3,
    "start_time": "2023-04-26T06:30:15.295Z"
   },
   {
    "duration": 3,
    "start_time": "2023-04-26T06:30:17.091Z"
   },
   {
    "duration": 735134,
    "start_time": "2023-04-26T06:30:18.202Z"
   },
   {
    "duration": 50762,
    "start_time": "2023-04-26T06:42:38.641Z"
   },
   {
    "duration": 17,
    "start_time": "2023-04-26T06:45:32.669Z"
   },
   {
    "duration": 306,
    "start_time": "2023-04-26T06:45:36.692Z"
   },
   {
    "duration": 75982,
    "start_time": "2023-04-26T06:45:45.152Z"
   },
   {
    "duration": 17,
    "start_time": "2023-04-26T06:47:25.383Z"
   },
   {
    "duration": 203,
    "start_time": "2023-04-26T06:47:26.576Z"
   },
   {
    "duration": 1869,
    "start_time": "2023-04-26T06:48:12.966Z"
   },
   {
    "duration": 3620,
    "start_time": "2023-04-26T06:48:16.153Z"
   },
   {
    "duration": 12,
    "start_time": "2023-04-26T06:48:19.775Z"
   },
   {
    "duration": 113,
    "start_time": "2023-04-26T06:48:19.789Z"
   },
   {
    "duration": 254,
    "start_time": "2023-04-26T06:48:19.905Z"
   },
   {
    "duration": 9,
    "start_time": "2023-04-26T06:48:20.161Z"
   },
   {
    "duration": 20,
    "start_time": "2023-04-26T06:48:20.172Z"
   },
   {
    "duration": 227,
    "start_time": "2023-04-26T06:48:20.194Z"
   },
   {
    "duration": 7,
    "start_time": "2023-04-26T06:48:20.423Z"
   },
   {
    "duration": 7066,
    "start_time": "2023-04-26T06:48:20.432Z"
   },
   {
    "duration": 84,
    "start_time": "2023-04-26T06:48:27.501Z"
   },
   {
    "duration": 53,
    "start_time": "2023-04-26T06:48:27.587Z"
   },
   {
    "duration": 3,
    "start_time": "2023-04-26T06:48:27.641Z"
   },
   {
    "duration": 12,
    "start_time": "2023-04-26T06:48:27.645Z"
   },
   {
    "duration": 55,
    "start_time": "2023-04-26T06:48:27.658Z"
   },
   {
    "duration": 4,
    "start_time": "2023-04-26T06:48:27.715Z"
   },
   {
    "duration": 126,
    "start_time": "2023-04-26T06:48:27.720Z"
   },
   {
    "duration": 2075,
    "start_time": "2023-04-26T06:48:27.848Z"
   },
   {
    "duration": 8,
    "start_time": "2023-04-26T06:48:29.925Z"
   },
   {
    "duration": 3,
    "start_time": "2023-04-26T06:48:30.295Z"
   },
   {
    "duration": 9193,
    "start_time": "2023-04-26T06:48:31.378Z"
   },
   {
    "duration": 2,
    "start_time": "2023-04-26T06:48:40.573Z"
   },
   {
    "duration": 5,
    "start_time": "2023-04-26T06:48:40.585Z"
   },
   {
    "duration": 9,
    "start_time": "2023-04-26T06:48:40.592Z"
   },
   {
    "duration": 63,
    "start_time": "2023-04-26T13:30:08.538Z"
   },
   {
    "duration": 4,
    "start_time": "2023-04-26T13:33:52.235Z"
   },
   {
    "duration": 2116,
    "start_time": "2023-04-26T13:38:33.025Z"
   },
   {
    "duration": 3947,
    "start_time": "2023-04-26T13:38:36.437Z"
   },
   {
    "duration": 17,
    "start_time": "2023-04-26T13:38:40.387Z"
   },
   {
    "duration": 33,
    "start_time": "2023-04-26T13:38:41.486Z"
   },
   {
    "duration": 355,
    "start_time": "2023-04-26T13:38:41.978Z"
   },
   {
    "duration": 17,
    "start_time": "2023-04-26T13:38:42.981Z"
   },
   {
    "duration": 10,
    "start_time": "2023-04-26T13:38:43.457Z"
   },
   {
    "duration": 247,
    "start_time": "2023-04-26T13:38:43.824Z"
   },
   {
    "duration": 6,
    "start_time": "2023-04-26T13:38:44.140Z"
   },
   {
    "duration": 7236,
    "start_time": "2023-04-26T13:38:44.756Z"
   },
   {
    "duration": 80,
    "start_time": "2023-04-26T13:38:51.994Z"
   },
   {
    "duration": 71,
    "start_time": "2023-04-26T13:38:52.076Z"
   },
   {
    "duration": 3,
    "start_time": "2023-04-26T13:38:54.154Z"
   },
   {
    "duration": 11,
    "start_time": "2023-04-26T13:38:54.686Z"
   },
   {
    "duration": 37,
    "start_time": "2023-04-26T13:38:55.408Z"
   },
   {
    "duration": 4,
    "start_time": "2023-04-26T13:38:57.036Z"
   },
   {
    "duration": 127,
    "start_time": "2023-04-26T13:38:57.979Z"
   },
   {
    "duration": 2008,
    "start_time": "2023-04-26T13:39:00.246Z"
   },
   {
    "duration": 6,
    "start_time": "2023-04-26T13:39:03.702Z"
   },
   {
    "duration": 2,
    "start_time": "2023-04-26T13:39:04.690Z"
   },
   {
    "duration": 9827,
    "start_time": "2023-04-26T13:39:05.043Z"
   },
   {
    "duration": 3,
    "start_time": "2023-04-26T13:39:16.712Z"
   },
   {
    "duration": 3,
    "start_time": "2023-04-26T13:39:17.338Z"
   },
   {
    "duration": 3,
    "start_time": "2023-04-26T13:39:18.122Z"
   },
   {
    "duration": 3,
    "start_time": "2023-04-26T13:39:18.794Z"
   },
   {
    "duration": 3,
    "start_time": "2023-04-26T13:39:20.914Z"
   },
   {
    "duration": 4,
    "start_time": "2023-04-26T13:39:22.047Z"
   },
   {
    "duration": 430227,
    "start_time": "2023-04-26T13:39:25.551Z"
   },
   {
    "duration": 0,
    "start_time": "2023-04-26T13:46:35.780Z"
   },
   {
    "duration": 3,
    "start_time": "2023-04-26T13:46:42.870Z"
   },
   {
    "duration": 8376,
    "start_time": "2023-04-26T13:46:44.103Z"
   },
   {
    "duration": 3,
    "start_time": "2023-04-26T13:46:58.538Z"
   },
   {
    "duration": 639823,
    "start_time": "2023-04-26T13:47:00.556Z"
   },
   {
    "duration": 4,
    "start_time": "2023-04-26T13:57:40.382Z"
   },
   {
    "duration": 3,
    "start_time": "2023-04-26T13:57:42.460Z"
   },
   {
    "duration": 119147,
    "start_time": "2023-04-26T13:57:44.898Z"
   },
   {
    "duration": 3,
    "start_time": "2023-04-26T13:59:45.932Z"
   },
   {
    "duration": 642258,
    "start_time": "2023-04-26T13:59:47.537Z"
   },
   {
    "duration": 1942,
    "start_time": "2023-04-26T20:04:38.389Z"
   },
   {
    "duration": 6,
    "start_time": "2023-04-26T20:07:01.714Z"
   },
   {
    "duration": 3781,
    "start_time": "2023-04-26T20:07:04.575Z"
   },
   {
    "duration": 14,
    "start_time": "2023-04-26T20:07:09.912Z"
   },
   {
    "duration": 35,
    "start_time": "2023-04-26T20:07:11.042Z"
   },
   {
    "duration": 397,
    "start_time": "2023-04-26T20:07:11.987Z"
   },
   {
    "duration": 16,
    "start_time": "2023-04-26T20:07:13.835Z"
   },
   {
    "duration": 18,
    "start_time": "2023-04-26T20:07:14.455Z"
   },
   {
    "duration": 287,
    "start_time": "2023-04-26T20:07:14.983Z"
   },
   {
    "duration": 7,
    "start_time": "2023-04-26T20:07:15.522Z"
   },
   {
    "duration": 6891,
    "start_time": "2023-04-26T20:07:16.508Z"
   },
   {
    "duration": 96,
    "start_time": "2023-04-26T20:07:23.415Z"
   },
   {
    "duration": 71,
    "start_time": "2023-04-26T20:07:23.513Z"
   },
   {
    "duration": 2,
    "start_time": "2023-04-26T20:07:23.586Z"
   },
   {
    "duration": 15,
    "start_time": "2023-04-26T20:07:23.590Z"
   },
   {
    "duration": 49,
    "start_time": "2023-04-26T20:07:23.607Z"
   },
   {
    "duration": 4,
    "start_time": "2023-04-26T20:07:25.108Z"
   },
   {
    "duration": 114,
    "start_time": "2023-04-26T20:07:25.711Z"
   },
   {
    "duration": 1970,
    "start_time": "2023-04-26T20:07:27.515Z"
   },
   {
    "duration": 7,
    "start_time": "2023-04-26T20:07:29.487Z"
   },
   {
    "duration": 239,
    "start_time": "2023-04-26T20:07:29.524Z"
   },
   {
    "duration": 9178,
    "start_time": "2023-04-26T20:07:30.301Z"
   },
   {
    "duration": 2,
    "start_time": "2023-04-26T20:07:39.481Z"
   },
   {
    "duration": 11,
    "start_time": "2023-04-26T20:07:39.485Z"
   },
   {
    "duration": 5,
    "start_time": "2023-04-26T20:07:39.498Z"
   },
   {
    "duration": 4,
    "start_time": "2023-04-26T20:07:39.505Z"
   },
   {
    "duration": 3,
    "start_time": "2023-04-26T20:07:42.992Z"
   },
   {
    "duration": 3,
    "start_time": "2023-04-26T20:07:43.901Z"
   },
   {
    "duration": 675543,
    "start_time": "2023-04-26T20:07:46.824Z"
   },
   {
    "duration": 4,
    "start_time": "2023-04-26T20:19:11.058Z"
   },
   {
    "duration": 41357,
    "start_time": "2023-04-26T20:19:11.204Z"
   },
   {
    "duration": 19,
    "start_time": "2023-04-26T20:21:41.710Z"
   },
   {
    "duration": 171,
    "start_time": "2023-04-26T20:21:43.610Z"
   },
   {
    "duration": 3,
    "start_time": "2023-04-26T20:22:00.611Z"
   },
   {
    "duration": 3,
    "start_time": "2023-04-26T20:22:01.487Z"
   },
   {
    "duration": 106,
    "start_time": "2023-04-26T20:58:25.462Z"
   },
   {
    "duration": 1876,
    "start_time": "2023-04-26T20:58:33.278Z"
   },
   {
    "duration": 1655,
    "start_time": "2023-04-26T20:58:35.156Z"
   },
   {
    "duration": 11,
    "start_time": "2023-04-26T20:58:36.813Z"
   },
   {
    "duration": 33,
    "start_time": "2023-04-26T20:58:38.006Z"
   },
   {
    "duration": 274,
    "start_time": "2023-04-26T20:58:38.375Z"
   },
   {
    "duration": 10,
    "start_time": "2023-04-26T20:58:38.945Z"
   },
   {
    "duration": 12,
    "start_time": "2023-04-26T20:58:39.320Z"
   },
   {
    "duration": 225,
    "start_time": "2023-04-26T20:58:39.957Z"
   },
   {
    "duration": 6,
    "start_time": "2023-04-26T20:58:40.758Z"
   },
   {
    "duration": 6338,
    "start_time": "2023-04-26T20:58:41.733Z"
   },
   {
    "duration": 75,
    "start_time": "2023-04-26T20:58:48.073Z"
   },
   {
    "duration": 61,
    "start_time": "2023-04-26T20:58:48.156Z"
   },
   {
    "duration": 3,
    "start_time": "2023-04-26T20:58:48.220Z"
   },
   {
    "duration": 14,
    "start_time": "2023-04-26T20:58:48.224Z"
   },
   {
    "duration": 40,
    "start_time": "2023-04-26T20:58:48.257Z"
   },
   {
    "duration": 4,
    "start_time": "2023-04-26T20:58:48.299Z"
   },
   {
    "duration": 119,
    "start_time": "2023-04-26T20:58:50.515Z"
   },
   {
    "duration": 2066,
    "start_time": "2023-04-26T20:58:53.483Z"
   },
   {
    "duration": 6,
    "start_time": "2023-04-26T20:58:55.555Z"
   },
   {
    "duration": 7,
    "start_time": "2023-04-26T20:58:55.563Z"
   },
   {
    "duration": 9503,
    "start_time": "2023-04-26T20:58:56.102Z"
   },
   {
    "duration": 3,
    "start_time": "2023-04-26T20:59:05.607Z"
   },
   {
    "duration": 6,
    "start_time": "2023-04-26T20:59:05.611Z"
   },
   {
    "duration": 18,
    "start_time": "2023-04-26T20:59:05.620Z"
   },
   {
    "duration": 18,
    "start_time": "2023-04-26T20:59:05.640Z"
   },
   {
    "duration": 2276,
    "start_time": "2023-04-26T21:00:05.476Z"
   },
   {
    "duration": 755,
    "start_time": "2023-04-26T21:00:07.755Z"
   },
   {
    "duration": 11,
    "start_time": "2023-04-26T21:00:08.512Z"
   },
   {
    "duration": 47,
    "start_time": "2023-04-26T21:00:08.524Z"
   },
   {
    "duration": 274,
    "start_time": "2023-04-26T21:00:08.572Z"
   },
   {
    "duration": 12,
    "start_time": "2023-04-26T21:00:08.848Z"
   },
   {
    "duration": 30,
    "start_time": "2023-04-26T21:00:08.862Z"
   },
   {
    "duration": 237,
    "start_time": "2023-04-26T21:00:11.651Z"
   },
   {
    "duration": 6,
    "start_time": "2023-04-26T21:00:12.065Z"
   },
   {
    "duration": 6634,
    "start_time": "2023-04-26T21:00:13.340Z"
   },
   {
    "duration": 84,
    "start_time": "2023-04-26T21:00:19.976Z"
   },
   {
    "duration": 59,
    "start_time": "2023-04-26T21:00:20.062Z"
   },
   {
    "duration": 3,
    "start_time": "2023-04-26T21:00:20.123Z"
   },
   {
    "duration": 32,
    "start_time": "2023-04-26T21:00:20.127Z"
   },
   {
    "duration": 54,
    "start_time": "2023-04-26T21:00:20.161Z"
   },
   {
    "duration": 3,
    "start_time": "2023-04-26T21:00:20.217Z"
   },
   {
    "duration": 117,
    "start_time": "2023-04-26T21:00:20.222Z"
   },
   {
    "duration": 2231,
    "start_time": "2023-04-26T21:00:21.854Z"
   },
   {
    "duration": 25,
    "start_time": "2023-04-26T21:00:24.087Z"
   },
   {
    "duration": 4,
    "start_time": "2023-04-26T21:00:24.114Z"
   },
   {
    "duration": 9006,
    "start_time": "2023-04-26T21:00:24.618Z"
   },
   {
    "duration": 3,
    "start_time": "2023-04-26T21:00:33.626Z"
   },
   {
    "duration": 29,
    "start_time": "2023-04-26T21:00:33.631Z"
   },
   {
    "duration": 23,
    "start_time": "2023-04-26T21:00:33.664Z"
   },
   {
    "duration": 17,
    "start_time": "2023-04-26T21:00:33.689Z"
   },
   {
    "duration": 1855,
    "start_time": "2023-04-26T21:01:37.471Z"
   },
   {
    "duration": 3808,
    "start_time": "2023-04-26T21:01:39.329Z"
   },
   {
    "duration": 12,
    "start_time": "2023-04-26T21:01:43.138Z"
   },
   {
    "duration": 36,
    "start_time": "2023-04-26T21:01:43.152Z"
   },
   {
    "duration": 306,
    "start_time": "2023-04-26T21:01:43.190Z"
   },
   {
    "duration": 12,
    "start_time": "2023-04-26T21:01:43.498Z"
   },
   {
    "duration": 11,
    "start_time": "2023-04-26T21:01:43.512Z"
   },
   {
    "duration": 249,
    "start_time": "2023-04-26T21:01:43.525Z"
   },
   {
    "duration": 7,
    "start_time": "2023-04-26T21:01:43.776Z"
   },
   {
    "duration": 6530,
    "start_time": "2023-04-26T21:01:43.785Z"
   },
   {
    "duration": 86,
    "start_time": "2023-04-26T21:01:50.318Z"
   },
   {
    "duration": 69,
    "start_time": "2023-04-26T21:01:50.406Z"
   },
   {
    "duration": 3,
    "start_time": "2023-04-26T21:01:50.478Z"
   },
   {
    "duration": 12,
    "start_time": "2023-04-26T21:01:50.483Z"
   },
   {
    "duration": 44,
    "start_time": "2023-04-26T21:01:50.496Z"
   },
   {
    "duration": 17,
    "start_time": "2023-04-26T21:01:50.542Z"
   },
   {
    "duration": 119,
    "start_time": "2023-04-26T21:01:50.561Z"
   },
   {
    "duration": 2052,
    "start_time": "2023-04-26T21:01:50.681Z"
   },
   {
    "duration": 5,
    "start_time": "2023-04-26T21:01:52.735Z"
   },
   {
    "duration": 16,
    "start_time": "2023-04-26T21:01:52.742Z"
   },
   {
    "duration": 9250,
    "start_time": "2023-04-26T21:01:52.760Z"
   },
   {
    "duration": 2,
    "start_time": "2023-04-26T21:02:02.012Z"
   },
   {
    "duration": 51,
    "start_time": "2023-04-26T21:02:02.017Z"
   },
   {
    "duration": 48,
    "start_time": "2023-04-26T21:02:02.070Z"
   },
   {
    "duration": 29,
    "start_time": "2023-04-26T21:02:02.120Z"
   },
   {
    "duration": 5722,
    "start_time": "2023-04-27T12:06:20.756Z"
   },
   {
    "duration": 3582,
    "start_time": "2023-04-27T16:12:09.114Z"
   },
   {
    "duration": 2636,
    "start_time": "2023-04-27T16:12:12.698Z"
   },
   {
    "duration": 15,
    "start_time": "2023-04-27T16:12:15.336Z"
   },
   {
    "duration": 55,
    "start_time": "2023-04-27T16:12:15.354Z"
   },
   {
    "duration": 369,
    "start_time": "2023-04-27T16:12:15.412Z"
   },
   {
    "duration": 12,
    "start_time": "2023-04-27T16:12:15.783Z"
   },
   {
    "duration": 18,
    "start_time": "2023-04-27T16:12:15.797Z"
   },
   {
    "duration": 293,
    "start_time": "2023-04-27T16:12:15.818Z"
   },
   {
    "duration": 7,
    "start_time": "2023-04-27T16:12:16.113Z"
   },
   {
    "duration": 7826,
    "start_time": "2023-04-27T16:12:16.123Z"
   },
   {
    "duration": 97,
    "start_time": "2023-04-27T16:12:23.951Z"
   },
   {
    "duration": 75,
    "start_time": "2023-04-27T16:12:24.050Z"
   },
   {
    "duration": 15,
    "start_time": "2023-04-27T16:12:24.127Z"
   },
   {
    "duration": 32,
    "start_time": "2023-04-27T16:12:24.144Z"
   },
   {
    "duration": 60,
    "start_time": "2023-04-27T16:12:24.178Z"
   },
   {
    "duration": 5,
    "start_time": "2023-04-27T16:12:24.241Z"
   },
   {
    "duration": 143,
    "start_time": "2023-04-27T16:12:24.248Z"
   },
   {
    "duration": 3295,
    "start_time": "2023-04-27T16:14:11.217Z"
   },
   {
    "duration": 2518,
    "start_time": "2023-04-27T16:14:14.515Z"
   },
   {
    "duration": 19,
    "start_time": "2023-04-27T16:14:17.036Z"
   },
   {
    "duration": 67,
    "start_time": "2023-04-27T16:14:17.059Z"
   },
   {
    "duration": 355,
    "start_time": "2023-04-27T16:14:17.129Z"
   },
   {
    "duration": 13,
    "start_time": "2023-04-27T16:14:17.486Z"
   },
   {
    "duration": 19,
    "start_time": "2023-04-27T16:14:17.501Z"
   },
   {
    "duration": 290,
    "start_time": "2023-04-27T16:14:17.522Z"
   },
   {
    "duration": 8,
    "start_time": "2023-04-27T16:14:17.814Z"
   },
   {
    "duration": 7834,
    "start_time": "2023-04-27T16:14:17.845Z"
   },
   {
    "duration": 98,
    "start_time": "2023-04-27T16:14:25.681Z"
   },
   {
    "duration": 87,
    "start_time": "2023-04-27T16:14:25.781Z"
   },
   {
    "duration": 3,
    "start_time": "2023-04-27T16:14:25.870Z"
   },
   {
    "duration": 35,
    "start_time": "2023-04-27T16:14:25.875Z"
   },
   {
    "duration": 50,
    "start_time": "2023-04-27T16:14:25.912Z"
   },
   {
    "duration": 12,
    "start_time": "2023-04-27T16:14:25.965Z"
   },
   {
    "duration": 173,
    "start_time": "2023-04-27T16:14:25.980Z"
   },
   {
    "duration": 5,
    "start_time": "2023-04-27T16:14:26.156Z"
   },
   {
    "duration": 22,
    "start_time": "2023-04-27T16:14:26.163Z"
   },
   {
    "duration": 19,
    "start_time": "2023-04-27T16:14:26.188Z"
   },
   {
    "duration": 8094,
    "start_time": "2023-04-27T16:14:26.210Z"
   },
   {
    "duration": 3,
    "start_time": "2023-04-27T16:14:34.306Z"
   },
   {
    "duration": 23,
    "start_time": "2023-04-27T16:14:34.312Z"
   },
   {
    "duration": 21,
    "start_time": "2023-04-27T16:14:34.338Z"
   },
   {
    "duration": 21,
    "start_time": "2023-04-27T16:14:34.361Z"
   },
   {
    "duration": 23,
    "start_time": "2023-04-27T16:14:34.384Z"
   },
   {
    "duration": 26,
    "start_time": "2023-04-27T16:14:34.409Z"
   },
   {
    "duration": 729908,
    "start_time": "2023-04-27T16:14:34.439Z"
   },
   {
    "duration": 5,
    "start_time": "2023-04-27T16:26:44.350Z"
   },
   {
    "duration": 48405,
    "start_time": "2023-04-27T16:26:44.443Z"
   },
   {
    "duration": 106,
    "start_time": "2023-04-27T16:27:32.851Z"
   },
   {
    "duration": 206,
    "start_time": "2023-04-27T16:27:32.959Z"
   },
   {
    "duration": 4,
    "start_time": "2023-04-27T16:27:33.167Z"
   },
   {
    "duration": 25,
    "start_time": "2023-04-27T16:27:33.172Z"
   },
   {
    "duration": 58090,
    "start_time": "2023-04-27T16:27:33.199Z"
   },
   {
    "duration": 15,
    "start_time": "2023-04-27T16:28:31.291Z"
   },
   {
    "duration": 0,
    "start_time": "2023-04-27T16:28:31.309Z"
   },
   {
    "duration": 0,
    "start_time": "2023-04-27T16:28:31.310Z"
   },
   {
    "duration": 0,
    "start_time": "2023-04-27T16:28:31.312Z"
   },
   {
    "duration": 0,
    "start_time": "2023-04-27T16:28:31.313Z"
   },
   {
    "duration": 0,
    "start_time": "2023-04-27T16:28:31.315Z"
   },
   {
    "duration": 0,
    "start_time": "2023-04-27T16:28:31.316Z"
   },
   {
    "duration": 0,
    "start_time": "2023-04-27T16:28:31.318Z"
   },
   {
    "duration": 0,
    "start_time": "2023-04-27T16:28:31.319Z"
   },
   {
    "duration": 0,
    "start_time": "2023-04-27T16:28:31.320Z"
   },
   {
    "duration": 0,
    "start_time": "2023-04-27T16:28:31.322Z"
   },
   {
    "duration": 0,
    "start_time": "2023-04-27T16:28:31.323Z"
   },
   {
    "duration": 0,
    "start_time": "2023-04-27T16:28:31.325Z"
   },
   {
    "duration": 0,
    "start_time": "2023-04-27T16:28:31.327Z"
   },
   {
    "duration": 0,
    "start_time": "2023-04-27T16:28:31.329Z"
   },
   {
    "duration": 0,
    "start_time": "2023-04-27T16:28:31.342Z"
   },
   {
    "duration": 8,
    "start_time": "2023-04-27T16:38:07.790Z"
   },
   {
    "duration": 21,
    "start_time": "2023-04-27T16:38:08.773Z"
   },
   {
    "duration": 8,
    "start_time": "2023-04-27T16:38:19.864Z"
   },
   {
    "duration": 23,
    "start_time": "2023-04-27T16:38:20.273Z"
   },
   {
    "duration": 2155,
    "start_time": "2023-04-28T08:37:09.895Z"
   },
   {
    "duration": 2254,
    "start_time": "2023-04-28T08:37:12.925Z"
   },
   {
    "duration": 11,
    "start_time": "2023-04-28T08:37:16.190Z"
   },
   {
    "duration": 32,
    "start_time": "2023-04-28T08:37:17.152Z"
   },
   {
    "duration": 207,
    "start_time": "2023-04-28T08:37:18.544Z"
   },
   {
    "duration": 10,
    "start_time": "2023-04-28T08:37:22.097Z"
   },
   {
    "duration": 8,
    "start_time": "2023-04-28T08:37:22.563Z"
   },
   {
    "duration": 232,
    "start_time": "2023-04-28T08:37:23.116Z"
   },
   {
    "duration": 7,
    "start_time": "2023-04-28T08:37:23.777Z"
   },
   {
    "duration": 1774,
    "start_time": "2023-04-28T10:20:08.357Z"
   },
   {
    "duration": 743,
    "start_time": "2023-04-28T10:20:11.937Z"
   },
   {
    "duration": 9,
    "start_time": "2023-04-28T10:20:13.294Z"
   },
   {
    "duration": 25,
    "start_time": "2023-04-28T10:20:14.284Z"
   },
   {
    "duration": 208,
    "start_time": "2023-04-28T10:20:14.733Z"
   },
   {
    "duration": 9,
    "start_time": "2023-04-28T10:20:16.433Z"
   },
   {
    "duration": 10,
    "start_time": "2023-04-28T10:20:17.074Z"
   },
   {
    "duration": 236,
    "start_time": "2023-04-28T10:20:18.498Z"
   },
   {
    "duration": 5,
    "start_time": "2023-04-28T10:20:18.736Z"
   },
   {
    "duration": 5906,
    "start_time": "2023-04-28T10:20:26.289Z"
   },
   {
    "duration": 432,
    "start_time": "2023-04-28T10:21:10.101Z"
   },
   {
    "duration": 3643,
    "start_time": "2023-04-28T10:21:28.837Z"
   },
   {
    "duration": 4,
    "start_time": "2023-04-28T10:56:32.461Z"
   },
   {
    "duration": 846,
    "start_time": "2023-04-28T10:56:34.746Z"
   },
   {
    "duration": 8,
    "start_time": "2023-04-28T10:56:35.594Z"
   },
   {
    "duration": 66,
    "start_time": "2023-04-28T10:56:35.603Z"
   },
   {
    "duration": 258,
    "start_time": "2023-04-28T10:56:35.671Z"
   },
   {
    "duration": 9,
    "start_time": "2023-04-28T10:56:37.292Z"
   },
   {
    "duration": 8,
    "start_time": "2023-04-28T10:56:37.829Z"
   },
   {
    "duration": 225,
    "start_time": "2023-04-28T10:56:38.364Z"
   },
   {
    "duration": 5,
    "start_time": "2023-04-28T10:56:38.990Z"
   },
   {
    "duration": 3674,
    "start_time": "2023-04-28T10:57:34.191Z"
   },
   {
    "duration": 23,
    "start_time": "2023-04-28T10:59:02.293Z"
   },
   {
    "duration": 1666,
    "start_time": "2023-04-28T11:04:25.330Z"
   },
   {
    "duration": 1633,
    "start_time": "2023-04-28T11:04:37.334Z"
   },
   {
    "duration": 755,
    "start_time": "2023-04-28T11:04:40.677Z"
   },
   {
    "duration": 11,
    "start_time": "2023-04-28T11:04:41.434Z"
   },
   {
    "duration": 26,
    "start_time": "2023-04-28T11:04:41.742Z"
   },
   {
    "duration": 200,
    "start_time": "2023-04-28T11:04:42.629Z"
   },
   {
    "duration": 9,
    "start_time": "2023-04-28T11:04:44.582Z"
   },
   {
    "duration": 8,
    "start_time": "2023-04-28T11:04:45.634Z"
   },
   {
    "duration": 232,
    "start_time": "2023-04-28T11:04:45.953Z"
   },
   {
    "duration": 8,
    "start_time": "2023-04-28T11:04:46.257Z"
   },
   {
    "duration": 3642,
    "start_time": "2023-04-28T11:04:50.131Z"
   },
   {
    "duration": 1598,
    "start_time": "2023-04-28T11:06:36.031Z"
   },
   {
    "duration": 755,
    "start_time": "2023-04-28T11:06:38.612Z"
   },
   {
    "duration": 11,
    "start_time": "2023-04-28T11:06:39.369Z"
   },
   {
    "duration": 25,
    "start_time": "2023-04-28T11:06:39.381Z"
   },
   {
    "duration": 222,
    "start_time": "2023-04-28T11:06:39.408Z"
   },
   {
    "duration": 9,
    "start_time": "2023-04-28T11:06:40.019Z"
   },
   {
    "duration": 8,
    "start_time": "2023-04-28T11:06:42.000Z"
   },
   {
    "duration": 222,
    "start_time": "2023-04-28T11:06:42.460Z"
   },
   {
    "duration": 7,
    "start_time": "2023-04-28T11:06:43.055Z"
   },
   {
    "duration": 118,
    "start_time": "2023-04-28T11:06:44.552Z"
   },
   {
    "duration": 4108,
    "start_time": "2023-04-28T11:06:50.696Z"
   },
   {
    "duration": 1293,
    "start_time": "2023-04-28T11:07:26.883Z"
   },
   {
    "duration": 2109,
    "start_time": "2023-04-28T11:07:36.693Z"
   },
   {
    "duration": 237,
    "start_time": "2023-04-28T11:08:01.607Z"
   },
   {
    "duration": 438,
    "start_time": "2023-04-28T11:08:16.951Z"
   },
   {
    "duration": 2891,
    "start_time": "2023-04-28T11:08:51.325Z"
   },
   {
    "duration": 1427,
    "start_time": "2023-04-28T11:11:59.118Z"
   },
   {
    "duration": 1811,
    "start_time": "2023-04-28T11:12:13.623Z"
   },
   {
    "duration": 3978,
    "start_time": "2023-04-28T11:15:55.258Z"
   },
   {
    "duration": 2553,
    "start_time": "2023-04-28T11:16:42.120Z"
   },
   {
    "duration": 814,
    "start_time": "2023-04-28T11:16:45.988Z"
   },
   {
    "duration": 10,
    "start_time": "2023-04-28T11:16:46.804Z"
   },
   {
    "duration": 28,
    "start_time": "2023-04-28T11:16:46.815Z"
   },
   {
    "duration": 207,
    "start_time": "2023-04-28T11:16:47.078Z"
   },
   {
    "duration": 9,
    "start_time": "2023-04-28T11:16:47.735Z"
   },
   {
    "duration": 9,
    "start_time": "2023-04-28T11:16:48.183Z"
   },
   {
    "duration": 242,
    "start_time": "2023-04-28T11:16:48.323Z"
   },
   {
    "duration": 6,
    "start_time": "2023-04-28T11:16:48.571Z"
   },
   {
    "duration": 4651,
    "start_time": "2023-04-28T11:16:50.704Z"
   },
   {
    "duration": 2591,
    "start_time": "2023-04-28T11:17:01.645Z"
   },
   {
    "duration": 1944,
    "start_time": "2023-04-28T11:17:13.545Z"
   },
   {
    "duration": 42,
    "start_time": "2023-04-28T11:19:13.350Z"
   },
   {
    "duration": 42,
    "start_time": "2023-04-28T11:30:20.750Z"
   },
   {
    "duration": 1296,
    "start_time": "2023-04-28T11:30:28.651Z"
   },
   {
    "duration": 412,
    "start_time": "2023-04-28T11:30:47.376Z"
   },
   {
    "duration": 486,
    "start_time": "2023-04-28T11:32:04.258Z"
   },
   {
    "duration": 7,
    "start_time": "2023-04-28T11:32:17.877Z"
   },
   {
    "duration": 368,
    "start_time": "2023-04-28T11:32:26.278Z"
   },
   {
    "duration": 2142,
    "start_time": "2023-04-28T11:49:11.051Z"
   },
   {
    "duration": 20,
    "start_time": "2023-04-28T11:50:09.562Z"
   },
   {
    "duration": 12,
    "start_time": "2023-04-28T11:52:16.131Z"
   },
   {
    "duration": 36,
    "start_time": "2023-04-28T11:52:26.057Z"
   },
   {
    "duration": 20,
    "start_time": "2023-04-28T11:53:35.819Z"
   },
   {
    "duration": 10,
    "start_time": "2023-04-28T11:54:48.987Z"
   },
   {
    "duration": 10,
    "start_time": "2023-04-28T11:54:59.603Z"
   },
   {
    "duration": 11,
    "start_time": "2023-04-28T11:55:13.415Z"
   },
   {
    "duration": 14,
    "start_time": "2023-04-28T11:55:47.407Z"
   },
   {
    "duration": 19,
    "start_time": "2023-04-28T11:58:29.138Z"
   },
   {
    "duration": 80,
    "start_time": "2023-04-28T12:40:44.360Z"
   },
   {
    "duration": 4,
    "start_time": "2023-04-28T12:40:50.187Z"
   },
   {
    "duration": 1618,
    "start_time": "2023-04-28T12:43:59.632Z"
   },
   {
    "duration": 55827,
    "start_time": "2023-04-28T12:44:14.858Z"
   },
   {
    "duration": 14,
    "start_time": "2023-04-28T12:45:18.638Z"
   },
   {
    "duration": 2011,
    "start_time": "2023-04-28T14:42:24.832Z"
   },
   {
    "duration": 2989,
    "start_time": "2023-04-28T14:42:27.755Z"
   },
   {
    "duration": 9,
    "start_time": "2023-04-28T14:42:30.746Z"
   },
   {
    "duration": 87,
    "start_time": "2023-04-28T14:42:30.756Z"
   },
   {
    "duration": 253,
    "start_time": "2023-04-28T14:42:30.845Z"
   },
   {
    "duration": 12,
    "start_time": "2023-04-28T14:42:31.100Z"
   },
   {
    "duration": 39,
    "start_time": "2023-04-28T14:42:31.114Z"
   },
   {
    "duration": 293,
    "start_time": "2023-04-28T14:42:31.155Z"
   },
   {
    "duration": 6,
    "start_time": "2023-04-28T14:42:34.040Z"
   },
   {
    "duration": 4535,
    "start_time": "2023-04-28T14:42:37.491Z"
   },
   {
    "duration": 2009,
    "start_time": "2023-04-28T14:42:42.028Z"
   },
   {
    "duration": 63,
    "start_time": "2023-04-28T14:42:44.039Z"
   },
   {
    "duration": 2051,
    "start_time": "2023-04-28T14:43:41.915Z"
   },
   {
    "duration": 465,
    "start_time": "2023-04-28T14:44:00.639Z"
   },
   {
    "duration": 1016,
    "start_time": "2023-04-28T14:44:24.089Z"
   },
   {
    "duration": 1316,
    "start_time": "2023-04-28T14:46:31.889Z"
   },
   {
    "duration": 98,
    "start_time": "2023-04-28T14:46:53.809Z"
   },
   {
    "duration": 5,
    "start_time": "2023-04-28T14:48:31.994Z"
   },
   {
    "duration": 14,
    "start_time": "2023-04-28T14:50:09.010Z"
   },
   {
    "duration": 497,
    "start_time": "2023-04-28T14:50:58.444Z"
   },
   {
    "duration": 6,
    "start_time": "2023-04-28T14:57:08.187Z"
   },
   {
    "duration": 11,
    "start_time": "2023-04-28T14:57:09.294Z"
   },
   {
    "duration": 433,
    "start_time": "2023-04-28T14:57:25.450Z"
   },
   {
    "duration": 10,
    "start_time": "2023-04-28T14:58:58.409Z"
   },
   {
    "duration": 5,
    "start_time": "2023-04-28T15:04:19.415Z"
   },
   {
    "duration": 21,
    "start_time": "2023-04-28T15:04:20.572Z"
   },
   {
    "duration": 4,
    "start_time": "2023-04-28T15:06:41.302Z"
   },
   {
    "duration": 51456,
    "start_time": "2023-04-28T15:06:42.137Z"
   },
   {
    "duration": 25,
    "start_time": "2023-04-28T15:07:43.372Z"
   },
   {
    "duration": 6443,
    "start_time": "2023-04-28T15:12:06.068Z"
   },
   {
    "duration": 1329,
    "start_time": "2023-04-28T15:13:26.927Z"
   },
   {
    "duration": 1646,
    "start_time": "2023-04-28T15:14:37.805Z"
   },
   {
    "duration": 1081,
    "start_time": "2023-04-28T15:16:08.745Z"
   },
   {
    "duration": 1431,
    "start_time": "2023-04-28T15:17:26.306Z"
   },
   {
    "duration": 993,
    "start_time": "2023-04-28T15:18:10.003Z"
   },
   {
    "duration": 910,
    "start_time": "2023-04-28T15:21:58.541Z"
   },
   {
    "duration": 3787,
    "start_time": "2023-04-28T15:36:39.380Z"
   },
   {
    "duration": 776,
    "start_time": "2023-04-28T15:36:43.168Z"
   },
   {
    "duration": 11,
    "start_time": "2023-04-28T15:36:43.946Z"
   },
   {
    "duration": 29,
    "start_time": "2023-04-28T15:36:43.959Z"
   },
   {
    "duration": 187,
    "start_time": "2023-04-28T15:36:43.989Z"
   },
   {
    "duration": 7,
    "start_time": "2023-04-28T15:36:44.178Z"
   },
   {
    "duration": 9,
    "start_time": "2023-04-28T15:36:44.187Z"
   },
   {
    "duration": 226,
    "start_time": "2023-04-28T15:36:44.197Z"
   },
   {
    "duration": 5,
    "start_time": "2023-04-28T15:36:44.425Z"
   },
   {
    "duration": 4431,
    "start_time": "2023-04-28T15:36:44.432Z"
   },
   {
    "duration": 1589,
    "start_time": "2023-04-28T15:36:48.864Z"
   },
   {
    "duration": 53,
    "start_time": "2023-04-28T15:36:50.455Z"
   },
   {
    "duration": 3,
    "start_time": "2023-04-28T15:36:50.509Z"
   },
   {
    "duration": 1259556,
    "start_time": "2023-04-28T15:36:50.513Z"
   },
   {
    "duration": 12,
    "start_time": "2023-04-28T15:58:18.230Z"
   },
   {
    "duration": 2,
    "start_time": "2023-04-28T15:58:49.772Z"
   },
   {
    "duration": 308,
    "start_time": "2023-04-28T15:58:52.319Z"
   },
   {
    "duration": 5,
    "start_time": "2023-04-28T15:59:44.750Z"
   },
   {
    "duration": 27,
    "start_time": "2023-04-28T15:59:51.658Z"
   },
   {
    "duration": 76,
    "start_time": "2023-04-28T16:00:39.072Z"
   },
   {
    "duration": 2,
    "start_time": "2023-04-28T16:01:13.761Z"
   },
   {
    "duration": 18,
    "start_time": "2023-04-28T16:02:18.012Z"
   },
   {
    "duration": 16,
    "start_time": "2023-04-28T16:03:44.552Z"
   },
   {
    "duration": 3,
    "start_time": "2023-04-28T16:03:59.133Z"
   },
   {
    "duration": 99,
    "start_time": "2023-04-28T16:04:08.286Z"
   },
   {
    "duration": 2,
    "start_time": "2023-04-28T16:10:01.674Z"
   },
   {
    "duration": 16,
    "start_time": "2023-04-28T16:17:39.913Z"
   },
   {
    "duration": 2,
    "start_time": "2023-04-28T16:17:47.605Z"
   },
   {
    "duration": 15,
    "start_time": "2023-04-28T16:17:48.621Z"
   },
   {
    "duration": 2,
    "start_time": "2023-04-28T16:18:03.877Z"
   },
   {
    "duration": 2,
    "start_time": "2023-04-28T16:18:04.107Z"
   },
   {
    "duration": 2,
    "start_time": "2023-04-28T16:19:34.141Z"
   },
   {
    "duration": 3,
    "start_time": "2023-04-28T16:19:41.070Z"
   },
   {
    "duration": 2,
    "start_time": "2023-04-28T16:19:42.171Z"
   },
   {
    "duration": 3,
    "start_time": "2023-04-28T16:19:51.640Z"
   },
   {
    "duration": 3,
    "start_time": "2023-04-28T16:19:55.955Z"
   },
   {
    "duration": 2,
    "start_time": "2023-04-28T16:19:59.259Z"
   },
   {
    "duration": 6,
    "start_time": "2023-04-28T16:25:26.168Z"
   },
   {
    "duration": 5,
    "start_time": "2023-04-28T16:26:23.203Z"
   },
   {
    "duration": 17,
    "start_time": "2023-04-28T16:26:34.613Z"
   },
   {
    "duration": 16,
    "start_time": "2023-04-28T16:26:57.160Z"
   },
   {
    "duration": 17,
    "start_time": "2023-04-28T16:27:05.451Z"
   },
   {
    "duration": 2,
    "start_time": "2023-04-28T16:27:13.126Z"
   },
   {
    "duration": 3,
    "start_time": "2023-04-28T16:27:17.990Z"
   },
   {
    "duration": 14,
    "start_time": "2023-04-28T16:27:19.777Z"
   },
   {
    "duration": 2,
    "start_time": "2023-04-28T16:27:36.873Z"
   },
   {
    "duration": 4,
    "start_time": "2023-04-28T16:27:41.749Z"
   },
   {
    "duration": 18,
    "start_time": "2023-04-28T16:27:43.013Z"
   },
   {
    "duration": 17,
    "start_time": "2023-04-28T16:28:50.695Z"
   },
   {
    "duration": 21,
    "start_time": "2023-04-28T16:29:16.215Z"
   },
   {
    "duration": 5,
    "start_time": "2023-04-28T16:29:24.642Z"
   },
   {
    "duration": 20,
    "start_time": "2023-04-28T16:29:25.743Z"
   },
   {
    "duration": 45,
    "start_time": "2023-04-28T16:31:19.740Z"
   },
   {
    "duration": 42,
    "start_time": "2023-04-28T16:31:41.888Z"
   },
   {
    "duration": 16,
    "start_time": "2023-04-28T16:34:43.336Z"
   },
   {
    "duration": 279,
    "start_time": "2023-04-28T16:34:55.551Z"
   },
   {
    "duration": 284,
    "start_time": "2023-04-28T16:37:32.443Z"
   },
   {
    "duration": 276,
    "start_time": "2023-04-28T16:37:46.383Z"
   },
   {
    "duration": 3,
    "start_time": "2023-04-28T16:38:58.483Z"
   },
   {
    "duration": 8,
    "start_time": "2023-04-28T16:39:06.220Z"
   },
   {
    "duration": 204,
    "start_time": "2023-04-28T16:39:26.816Z"
   },
   {
    "duration": 272,
    "start_time": "2023-04-28T16:40:54.754Z"
   },
   {
    "duration": 10,
    "start_time": "2023-04-28T16:41:18.296Z"
   },
   {
    "duration": 4,
    "start_time": "2023-04-28T16:41:41.030Z"
   },
   {
    "duration": 14,
    "start_time": "2023-04-28T16:41:55.770Z"
   },
   {
    "duration": 75,
    "start_time": "2023-04-28T16:42:25.709Z"
   },
   {
    "duration": 6,
    "start_time": "2023-04-28T16:42:30.646Z"
   },
   {
    "duration": 2,
    "start_time": "2023-04-28T16:49:13.499Z"
   },
   {
    "duration": 2,
    "start_time": "2023-04-28T16:49:14.019Z"
   },
   {
    "duration": 271,
    "start_time": "2023-04-28T16:49:16.096Z"
   },
   {
    "duration": 274,
    "start_time": "2023-04-28T16:49:25.532Z"
   },
   {
    "duration": 260,
    "start_time": "2023-04-28T16:50:29.867Z"
   },
   {
    "duration": 4,
    "start_time": "2023-04-28T16:51:36.640Z"
   },
   {
    "duration": 561,
    "start_time": "2023-04-28T16:52:04.224Z"
   },
   {
    "duration": 8,
    "start_time": "2023-04-28T16:59:53.740Z"
   },
   {
    "duration": 16,
    "start_time": "2023-04-28T16:59:54.956Z"
   },
   {
    "duration": 3,
    "start_time": "2023-04-28T17:00:06.231Z"
   },
   {
    "duration": 3,
    "start_time": "2023-04-28T17:00:06.468Z"
   },
   {
    "duration": 3,
    "start_time": "2023-04-28T17:00:06.744Z"
   },
   {
    "duration": 3,
    "start_time": "2023-04-28T17:00:06.999Z"
   },
   {
    "duration": 3,
    "start_time": "2023-04-28T17:00:12.330Z"
   },
   {
    "duration": 3,
    "start_time": "2023-04-28T17:00:12.936Z"
   },
   {
    "duration": 285,
    "start_time": "2023-04-28T17:00:13.238Z"
   },
   {
    "duration": 3,
    "start_time": "2023-04-28T17:02:06.565Z"
   },
   {
    "duration": 3,
    "start_time": "2023-04-28T17:02:11.861Z"
   },
   {
    "duration": 2,
    "start_time": "2023-04-28T17:02:12.466Z"
   },
   {
    "duration": 275,
    "start_time": "2023-04-28T17:02:13.154Z"
   },
   {
    "duration": 2,
    "start_time": "2023-04-28T17:06:55.107Z"
   },
   {
    "duration": 3,
    "start_time": "2023-04-28T17:06:55.813Z"
   },
   {
    "duration": 3,
    "start_time": "2023-04-28T17:06:56.469Z"
   },
   {
    "duration": 86,
    "start_time": "2023-04-28T17:07:00.875Z"
   },
   {
    "duration": 148,
    "start_time": "2023-04-28T17:07:19.919Z"
   },
   {
    "duration": 3,
    "start_time": "2023-04-28T17:09:17.084Z"
   },
   {
    "duration": 2,
    "start_time": "2023-04-28T17:09:18.148Z"
   },
   {
    "duration": 579,
    "start_time": "2023-04-28T17:09:19.337Z"
   },
   {
    "duration": 3,
    "start_time": "2023-04-28T17:09:37.329Z"
   },
   {
    "duration": 3,
    "start_time": "2023-04-28T17:09:38.244Z"
   },
   {
    "duration": 115,
    "start_time": "2023-04-28T17:09:39.996Z"
   },
   {
    "duration": 5776,
    "start_time": "2023-04-28T17:09:59.982Z"
   },
   {
    "duration": 8,
    "start_time": "2023-04-28T17:16:34.459Z"
   },
   {
    "duration": 406,
    "start_time": "2023-04-28T17:17:37.243Z"
   },
   {
    "duration": 359,
    "start_time": "2023-04-28T17:17:59.046Z"
   },
   {
    "duration": 7,
    "start_time": "2023-04-28T17:18:28.359Z"
   },
   {
    "duration": 15,
    "start_time": "2023-04-28T17:22:13.341Z"
   },
   {
    "duration": 15,
    "start_time": "2023-04-28T17:22:30.362Z"
   },
   {
    "duration": 18,
    "start_time": "2023-04-28T17:22:40.186Z"
   },
   {
    "duration": 43,
    "start_time": "2023-04-28T17:30:10.781Z"
   },
   {
    "duration": 53,
    "start_time": "2023-04-28T17:30:57.000Z"
   },
   {
    "duration": 338,
    "start_time": "2023-04-28T17:31:46.569Z"
   },
   {
    "duration": 3758,
    "start_time": "2023-04-28T17:36:50.017Z"
   },
   {
    "duration": 765,
    "start_time": "2023-04-28T17:36:55.557Z"
   },
   {
    "duration": 10,
    "start_time": "2023-04-28T17:36:57.042Z"
   },
   {
    "duration": 25,
    "start_time": "2023-04-28T17:36:58.261Z"
   },
   {
    "duration": 181,
    "start_time": "2023-04-28T17:36:59.047Z"
   },
   {
    "duration": 9,
    "start_time": "2023-04-28T17:37:00.829Z"
   },
   {
    "duration": 9,
    "start_time": "2023-04-28T17:37:01.603Z"
   },
   {
    "duration": 220,
    "start_time": "2023-04-28T17:37:02.174Z"
   },
   {
    "duration": 4,
    "start_time": "2023-04-28T17:37:02.730Z"
   },
   {
    "duration": 4484,
    "start_time": "2023-04-28T17:37:08.569Z"
   },
   {
    "duration": 1573,
    "start_time": "2023-04-28T17:37:24.067Z"
   },
   {
    "duration": 47,
    "start_time": "2023-04-28T17:37:34.448Z"
   },
   {
    "duration": 1252152,
    "start_time": "2023-04-28T17:37:42.033Z"
   },
   {
    "duration": 12,
    "start_time": "2023-04-28T17:58:48.018Z"
   },
   {
    "duration": 53,
    "start_time": "2023-04-28T17:58:54.406Z"
   },
   {
    "duration": 706,
    "start_time": "2023-04-28T17:58:55.801Z"
   },
   {
    "duration": 335,
    "start_time": "2023-04-28T17:59:44.885Z"
   },
   {
    "duration": 331,
    "start_time": "2023-04-28T18:01:18.137Z"
   },
   {
    "duration": 335,
    "start_time": "2023-04-28T18:02:40.515Z"
   },
   {
    "duration": 2,
    "start_time": "2023-04-28T18:04:53.659Z"
   },
   {
    "duration": 2,
    "start_time": "2023-04-28T18:04:54.286Z"
   },
   {
    "duration": 20,
    "start_time": "2023-04-28T18:04:55.519Z"
   },
   {
    "duration": 2,
    "start_time": "2023-04-28T18:05:08.182Z"
   },
   {
    "duration": 4,
    "start_time": "2023-04-28T18:05:11.707Z"
   },
   {
    "duration": 101,
    "start_time": "2023-04-28T18:05:12.831Z"
   },
   {
    "duration": 3,
    "start_time": "2023-04-28T18:05:18.867Z"
   },
   {
    "duration": 3,
    "start_time": "2023-04-28T18:05:19.283Z"
   },
   {
    "duration": 3,
    "start_time": "2023-04-28T18:05:19.720Z"
   },
   {
    "duration": 2,
    "start_time": "2023-04-28T18:05:20.211Z"
   },
   {
    "duration": 3,
    "start_time": "2023-04-28T18:05:25.281Z"
   },
   {
    "duration": 2,
    "start_time": "2023-04-28T18:05:26.012Z"
   },
   {
    "duration": 1393,
    "start_time": "2023-04-28T18:05:26.877Z"
   },
   {
    "duration": 55,
    "start_time": "2023-04-28T18:06:52.400Z"
   },
   {
    "duration": 27,
    "start_time": "2023-04-28T18:07:36.470Z"
   },
   {
    "duration": 77,
    "start_time": "2023-04-28T18:09:48.881Z"
   },
   {
    "duration": 16,
    "start_time": "2023-04-28T18:10:03.770Z"
   },
   {
    "duration": 15,
    "start_time": "2023-04-28T18:10:13.147Z"
   },
   {
    "duration": 18,
    "start_time": "2023-04-28T18:10:20.750Z"
   },
   {
    "duration": 3913,
    "start_time": "2023-04-28T18:10:33.833Z"
   },
   {
    "duration": 745,
    "start_time": "2023-04-28T18:10:39.086Z"
   },
   {
    "duration": 10,
    "start_time": "2023-04-28T18:10:39.833Z"
   },
   {
    "duration": 30,
    "start_time": "2023-04-28T18:10:39.844Z"
   },
   {
    "duration": 190,
    "start_time": "2023-04-28T18:10:39.875Z"
   },
   {
    "duration": 9,
    "start_time": "2023-04-28T18:10:40.758Z"
   },
   {
    "duration": 11,
    "start_time": "2023-04-28T18:10:41.266Z"
   },
   {
    "duration": 214,
    "start_time": "2023-04-28T18:10:41.426Z"
   },
   {
    "duration": 5,
    "start_time": "2023-04-28T18:10:41.642Z"
   },
   {
    "duration": 4564,
    "start_time": "2023-04-28T18:10:42.026Z"
   },
   {
    "duration": 1614,
    "start_time": "2023-04-28T18:10:46.593Z"
   },
   {
    "duration": 45,
    "start_time": "2023-04-28T18:10:48.208Z"
   },
   {
    "duration": 3,
    "start_time": "2023-04-28T18:10:48.255Z"
   },
   {
    "duration": 1278261,
    "start_time": "2023-04-28T18:10:48.259Z"
   },
   {
    "duration": 12,
    "start_time": "2023-04-28T18:32:54.725Z"
   },
   {
    "duration": 6,
    "start_time": "2023-04-28T18:33:25.153Z"
   },
   {
    "duration": 12,
    "start_time": "2023-04-28T18:33:30.870Z"
   },
   {
    "duration": 17,
    "start_time": "2023-04-28T18:33:46.222Z"
   },
   {
    "duration": 12,
    "start_time": "2023-04-28T18:33:55.053Z"
   },
   {
    "duration": 25,
    "start_time": "2023-04-28T18:34:28.608Z"
   },
   {
    "duration": 42,
    "start_time": "2023-04-28T18:34:53.734Z"
   },
   {
    "duration": 27,
    "start_time": "2023-04-28T18:35:25.686Z"
   },
   {
    "duration": 43,
    "start_time": "2023-04-28T18:35:28.215Z"
   },
   {
    "duration": 7,
    "start_time": "2023-04-28T18:35:40.488Z"
   },
   {
    "duration": 42,
    "start_time": "2023-04-28T18:35:44.652Z"
   },
   {
    "duration": 25,
    "start_time": "2023-04-28T18:35:57.712Z"
   },
   {
    "duration": 47,
    "start_time": "2023-04-28T18:36:00.156Z"
   },
   {
    "duration": 23,
    "start_time": "2023-04-28T18:36:15.543Z"
   },
   {
    "duration": 47,
    "start_time": "2023-04-28T18:36:19.785Z"
   },
   {
    "duration": 25,
    "start_time": "2023-04-28T18:36:22.741Z"
   },
   {
    "duration": 43,
    "start_time": "2023-04-28T18:36:24.560Z"
   },
   {
    "duration": 307,
    "start_time": "2023-04-28T18:40:29.234Z"
   },
   {
    "duration": 415,
    "start_time": "2023-04-28T18:40:47.450Z"
   },
   {
    "duration": 24,
    "start_time": "2023-04-28T18:40:50.405Z"
   },
   {
    "duration": 45,
    "start_time": "2023-04-28T18:40:51.652Z"
   },
   {
    "duration": 25,
    "start_time": "2023-04-28T18:41:02.722Z"
   },
   {
    "duration": 47,
    "start_time": "2023-04-28T18:41:04.091Z"
   },
   {
    "duration": 333,
    "start_time": "2023-04-28T18:42:25.235Z"
   },
   {
    "duration": 63,
    "start_time": "2023-04-28T18:43:58.033Z"
   },
   {
    "duration": 24,
    "start_time": "2023-04-28T18:43:59.305Z"
   },
   {
    "duration": 46,
    "start_time": "2023-04-28T18:44:00.429Z"
   },
   {
    "duration": 496,
    "start_time": "2023-04-28T18:45:04.007Z"
   },
   {
    "duration": 24,
    "start_time": "2023-04-28T18:45:05.345Z"
   },
   {
    "duration": 54,
    "start_time": "2023-04-28T18:45:06.059Z"
   },
   {
    "duration": 1069,
    "start_time": "2023-04-28T18:46:22.064Z"
   },
   {
    "duration": 14,
    "start_time": "2023-04-28T18:46:52.660Z"
   },
   {
    "duration": 14,
    "start_time": "2023-04-28T18:47:04.158Z"
   },
   {
    "duration": 12,
    "start_time": "2023-04-28T18:47:09.489Z"
   },
   {
    "duration": 25,
    "start_time": "2023-04-28T18:47:14.520Z"
   },
   {
    "duration": 39,
    "start_time": "2023-04-28T18:48:22.926Z"
   },
   {
    "duration": 416,
    "start_time": "2023-04-28T18:49:29.282Z"
   },
   {
    "duration": 37,
    "start_time": "2023-04-28T18:49:30.915Z"
   },
   {
    "duration": 46,
    "start_time": "2023-04-28T18:49:35.159Z"
   },
   {
    "duration": 5,
    "start_time": "2023-04-28T18:49:57.425Z"
   },
   {
    "duration": 2,
    "start_time": "2023-04-28T18:50:36.779Z"
   },
   {
    "duration": 2,
    "start_time": "2023-04-28T18:50:37.415Z"
   },
   {
    "duration": 23,
    "start_time": "2023-04-28T18:50:38.243Z"
   },
   {
    "duration": 3,
    "start_time": "2023-04-28T18:50:41.331Z"
   },
   {
    "duration": 99,
    "start_time": "2023-04-28T18:50:43.343Z"
   },
   {
    "duration": 2,
    "start_time": "2023-04-28T18:50:51.012Z"
   },
   {
    "duration": 2,
    "start_time": "2023-04-28T18:50:51.647Z"
   },
   {
    "duration": 3,
    "start_time": "2023-04-28T18:50:52.305Z"
   },
   {
    "duration": 2,
    "start_time": "2023-04-28T18:50:52.904Z"
   },
   {
    "duration": 2,
    "start_time": "2023-04-28T18:50:58.172Z"
   },
   {
    "duration": 2,
    "start_time": "2023-04-28T18:50:58.831Z"
   },
   {
    "duration": 0,
    "start_time": "2023-04-28T18:59:33.117Z"
   },
   {
    "duration": 0,
    "start_time": "2023-04-28T18:59:33.122Z"
   },
   {
    "duration": 0,
    "start_time": "2023-04-28T18:59:33.122Z"
   },
   {
    "duration": 0,
    "start_time": "2023-04-28T18:59:33.123Z"
   },
   {
    "duration": 0,
    "start_time": "2023-04-28T18:59:33.124Z"
   },
   {
    "duration": 2,
    "start_time": "2023-04-28T18:59:36.376Z"
   },
   {
    "duration": 40324,
    "start_time": "2023-04-28T18:59:40.665Z"
   },
   {
    "duration": 884341,
    "start_time": "2023-04-28T19:00:39.139Z"
   },
   {
    "duration": 5,
    "start_time": "2023-04-28T19:15:23.483Z"
   },
   {
    "duration": 5,
    "start_time": "2023-04-28T19:16:52.903Z"
   },
   {
    "duration": 9,
    "start_time": "2023-04-28T19:19:02.702Z"
   },
   {
    "duration": 2,
    "start_time": "2023-04-28T19:19:15.169Z"
   },
   {
    "duration": 3,
    "start_time": "2023-04-28T19:19:15.903Z"
   },
   {
    "duration": 3,
    "start_time": "2023-04-28T19:19:18.059Z"
   },
   {
    "duration": 3985,
    "start_time": "2023-04-28T19:41:48.656Z"
   },
   {
    "duration": 793,
    "start_time": "2023-04-28T19:41:52.644Z"
   },
   {
    "duration": 12,
    "start_time": "2023-04-28T19:41:53.438Z"
   },
   {
    "duration": 42,
    "start_time": "2023-04-28T19:41:53.452Z"
   },
   {
    "duration": 217,
    "start_time": "2023-04-28T19:41:53.496Z"
   },
   {
    "duration": 8,
    "start_time": "2023-04-28T19:41:53.714Z"
   },
   {
    "duration": 10,
    "start_time": "2023-04-28T19:41:53.723Z"
   },
   {
    "duration": 234,
    "start_time": "2023-04-28T19:41:53.734Z"
   },
   {
    "duration": 15,
    "start_time": "2023-04-28T19:41:53.972Z"
   },
   {
    "duration": 4816,
    "start_time": "2023-04-28T19:41:53.990Z"
   },
   {
    "duration": 1716,
    "start_time": "2023-04-28T19:41:58.807Z"
   },
   {
    "duration": 58,
    "start_time": "2023-04-28T19:42:00.524Z"
   },
   {
    "duration": 18,
    "start_time": "2023-04-28T19:42:00.583Z"
   },
   {
    "duration": 1304237,
    "start_time": "2023-04-28T19:42:00.603Z"
   },
   {
    "duration": 13,
    "start_time": "2023-04-28T20:03:44.842Z"
   },
   {
    "duration": 25,
    "start_time": "2023-04-28T20:03:44.857Z"
   },
   {
    "duration": 503,
    "start_time": "2023-04-28T20:03:44.883Z"
   },
   {
    "duration": 37,
    "start_time": "2023-04-28T20:03:45.389Z"
   },
   {
    "duration": 8,
    "start_time": "2023-04-28T20:03:45.427Z"
   },
   {
    "duration": 7,
    "start_time": "2023-04-28T20:03:45.436Z"
   },
   {
    "duration": 21,
    "start_time": "2023-04-28T20:03:45.445Z"
   },
   {
    "duration": 14,
    "start_time": "2023-04-28T20:03:45.467Z"
   },
   {
    "duration": 115,
    "start_time": "2023-04-28T20:03:45.486Z"
   },
   {
    "duration": 2,
    "start_time": "2023-04-28T20:03:45.603Z"
   },
   {
    "duration": 27,
    "start_time": "2023-04-28T20:03:45.606Z"
   },
   {
    "duration": 21,
    "start_time": "2023-04-28T20:03:45.634Z"
   },
   {
    "duration": 35,
    "start_time": "2023-04-28T20:03:45.657Z"
   },
   {
    "duration": 8,
    "start_time": "2023-04-28T20:03:45.695Z"
   },
   {
    "duration": 21,
    "start_time": "2023-04-28T20:03:45.704Z"
   },
   {
    "duration": 5,
    "start_time": "2023-04-28T20:03:45.726Z"
   },
   {
    "duration": 6,
    "start_time": "2023-04-28T20:03:45.733Z"
   },
   {
    "duration": 5,
    "start_time": "2023-04-28T20:03:45.740Z"
   },
   {
    "duration": 23,
    "start_time": "2023-04-28T20:03:45.747Z"
   },
   {
    "duration": 23,
    "start_time": "2023-04-28T20:03:45.774Z"
   },
   {
    "duration": 12,
    "start_time": "2023-04-28T20:03:45.799Z"
   },
   {
    "duration": 6,
    "start_time": "2023-04-28T20:03:45.813Z"
   },
   {
    "duration": 7,
    "start_time": "2023-04-28T20:03:45.820Z"
   },
   {
    "duration": 5,
    "start_time": "2023-04-28T20:03:45.828Z"
   },
   {
    "duration": 5,
    "start_time": "2023-04-28T20:03:45.834Z"
   },
   {
    "duration": 84982,
    "start_time": "2023-04-28T20:03:45.840Z"
   },
   {
    "duration": 0,
    "start_time": "2023-04-28T20:05:10.824Z"
   },
   {
    "duration": 0,
    "start_time": "2023-04-28T20:05:10.825Z"
   },
   {
    "duration": 0,
    "start_time": "2023-04-28T20:05:10.825Z"
   },
   {
    "duration": 10,
    "start_time": "2023-04-28T20:05:14.711Z"
   },
   {
    "duration": 517,
    "start_time": "2023-04-28T20:05:22.111Z"
   },
   {
    "duration": 26,
    "start_time": "2023-04-28T20:05:23.423Z"
   },
   {
    "duration": 3,
    "start_time": "2023-04-28T20:05:26.710Z"
   },
   {
    "duration": 3,
    "start_time": "2023-04-28T20:05:27.227Z"
   },
   {
    "duration": 20,
    "start_time": "2023-04-28T20:05:27.907Z"
   },
   {
    "duration": 3,
    "start_time": "2023-04-28T20:05:32.371Z"
   },
   {
    "duration": 91,
    "start_time": "2023-04-28T20:05:33.593Z"
   },
   {
    "duration": 2,
    "start_time": "2023-04-28T20:05:39.451Z"
   },
   {
    "duration": 3,
    "start_time": "2023-04-28T20:05:40.109Z"
   },
   {
    "duration": 3,
    "start_time": "2023-04-28T20:05:40.750Z"
   },
   {
    "duration": 2,
    "start_time": "2023-04-28T20:05:41.446Z"
   },
   {
    "duration": 2,
    "start_time": "2023-04-28T20:05:46.369Z"
   },
   {
    "duration": 3,
    "start_time": "2023-04-28T20:05:47.586Z"
   },
   {
    "duration": 2,
    "start_time": "2023-04-28T20:05:49.960Z"
   },
   {
    "duration": 905257,
    "start_time": "2023-04-28T20:05:53.823Z"
   },
   {
    "duration": 105,
    "start_time": "2023-04-28T20:20:59.083Z"
   },
   {
    "duration": 5,
    "start_time": "2023-04-28T20:23:28.241Z"
   },
   {
    "duration": 118,
    "start_time": "2023-04-28T20:24:11.039Z"
   },
   {
    "duration": 8,
    "start_time": "2023-04-28T20:24:19.386Z"
   },
   {
    "duration": 3,
    "start_time": "2023-04-28T20:24:35.854Z"
   },
   {
    "duration": 9,
    "start_time": "2023-04-28T20:24:40.792Z"
   },
   {
    "duration": 3,
    "start_time": "2023-04-28T20:25:10.010Z"
   },
   {
    "duration": 3,
    "start_time": "2023-04-28T20:25:14.526Z"
   },
   {
    "duration": 2,
    "start_time": "2023-04-28T20:25:17.158Z"
   },
   {
    "duration": 1156398,
    "start_time": "2023-04-28T20:25:19.142Z"
   },
   {
    "duration": 12,
    "start_time": "2023-04-28T20:44:48.234Z"
   },
   {
    "duration": 3,
    "start_time": "2023-04-28T20:44:53.331Z"
   },
   {
    "duration": 3,
    "start_time": "2023-04-28T20:44:54.434Z"
   },
   {
    "duration": 4,
    "start_time": "2023-04-28T20:45:10.625Z"
   },
   {
    "duration": 131,
    "start_time": "2023-04-28T20:45:16.031Z"
   },
   {
    "duration": 3,
    "start_time": "2023-04-28T20:45:49.152Z"
   },
   {
    "duration": 3,
    "start_time": "2023-04-28T20:45:49.741Z"
   },
   {
    "duration": 158,
    "start_time": "2023-04-28T20:45:50.867Z"
   },
   {
    "duration": 3,
    "start_time": "2023-04-28T20:46:01.562Z"
   },
   {
    "duration": 4,
    "start_time": "2023-04-28T20:46:03.037Z"
   },
   {
    "duration": 108,
    "start_time": "2023-04-28T20:46:08.726Z"
   },
   {
    "duration": 109,
    "start_time": "2023-04-28T20:49:56.819Z"
   },
   {
    "duration": 15,
    "start_time": "2023-04-28T20:50:09.732Z"
   },
   {
    "duration": 4,
    "start_time": "2023-04-28T20:50:20.726Z"
   },
   {
    "duration": 3,
    "start_time": "2023-04-28T20:51:00.429Z"
   },
   {
    "duration": 4,
    "start_time": "2023-04-28T20:51:01.343Z"
   },
   {
    "duration": 3,
    "start_time": "2023-04-28T20:51:03.989Z"
   },
   {
    "duration": 2,
    "start_time": "2023-04-28T20:51:08.326Z"
   },
   {
    "duration": 116,
    "start_time": "2023-04-28T20:51:16.957Z"
   },
   {
    "duration": 4,
    "start_time": "2023-04-28T20:51:37.253Z"
   },
   {
    "duration": 3,
    "start_time": "2023-04-28T20:52:01.678Z"
   },
   {
    "duration": 3,
    "start_time": "2023-04-28T20:52:02.276Z"
   },
   {
    "duration": 3,
    "start_time": "2023-04-28T20:52:02.962Z"
   },
   {
    "duration": 4,
    "start_time": "2023-04-28T20:52:04.690Z"
   },
   {
    "duration": 889713,
    "start_time": "2023-04-28T20:52:05.550Z"
   },
   {
    "duration": 9,
    "start_time": "2023-04-28T21:07:04.795Z"
   },
   {
    "duration": 426,
    "start_time": "2023-04-28T21:07:08.155Z"
   },
   {
    "duration": 3,
    "start_time": "2023-04-28T21:07:09.653Z"
   },
   {
    "duration": 38,
    "start_time": "2023-04-28T21:07:15.398Z"
   },
   {
    "duration": 404,
    "start_time": "2023-04-28T21:07:51.863Z"
   },
   {
    "duration": 18,
    "start_time": "2023-04-28T21:08:12.794Z"
   },
   {
    "duration": 403,
    "start_time": "2023-04-28T21:08:31.691Z"
   },
   {
    "duration": 16,
    "start_time": "2023-04-28T21:08:37.433Z"
   },
   {
    "duration": 12,
    "start_time": "2023-04-28T21:09:03.718Z"
   },
   {
    "duration": 31,
    "start_time": "2023-04-28T21:09:58.664Z"
   },
   {
    "duration": 7,
    "start_time": "2023-04-28T21:10:51.429Z"
   },
   {
    "duration": 15,
    "start_time": "2023-04-28T21:10:52.196Z"
   }
  ],
  "kernelspec": {
   "display_name": "Python 3 (ipykernel)",
   "language": "python",
   "name": "python3"
  },
  "language_info": {
   "codemirror_mode": {
    "name": "ipython",
    "version": 3
   },
   "file_extension": ".py",
   "mimetype": "text/x-python",
   "name": "python",
   "nbconvert_exporter": "python",
   "pygments_lexer": "ipython3",
   "version": "3.9.13"
  },
  "toc": {
   "base_numbering": 1,
   "nav_menu": {},
   "number_sections": true,
   "sideBar": true,
   "skip_h1_title": true,
   "title_cell": "Содержание",
   "title_sidebar": "Contents",
   "toc_cell": true,
   "toc_position": {
    "height": "calc(100% - 180px)",
    "left": "10px",
    "top": "150px",
    "width": "302.390625px"
   },
   "toc_section_display": true,
   "toc_window_display": false
  }
 },
 "nbformat": 4,
 "nbformat_minor": 2
}
