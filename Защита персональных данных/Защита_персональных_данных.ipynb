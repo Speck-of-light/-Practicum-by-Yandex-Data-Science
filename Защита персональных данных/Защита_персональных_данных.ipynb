{
 "cells": [
  {
   "cell_type": "markdown",
   "metadata": {
    "toc": true
   },
   "source": [
    "<h1>Содержание<span class=\"tocSkip\"></span></h1>\n",
    "<div class=\"toc\"><ul class=\"toc-item\"><li><span><a href=\"#Загрузка-данных\" data-toc-modified-id=\"Загрузка-данных-1\"><span class=\"toc-item-num\">1&nbsp;&nbsp;</span>Загрузка данных</a></span></li><li><span><a href=\"#Умножение-матриц\" data-toc-modified-id=\"Умножение-матриц-2\"><span class=\"toc-item-num\">2&nbsp;&nbsp;</span>Умножение матриц</a></span></li><li><span><a href=\"#Алгоритм-преобразования\" data-toc-modified-id=\"Алгоритм-преобразования-3\"><span class=\"toc-item-num\">3&nbsp;&nbsp;</span>Алгоритм преобразования</a></span></li><li><span><a href=\"#Проверка-алгоритма\" data-toc-modified-id=\"Проверка-алгоритма-4\"><span class=\"toc-item-num\">4&nbsp;&nbsp;</span>Проверка алгоритма</a></span></li><li><span><a href=\"#Чек-лист-проверки\" data-toc-modified-id=\"Чек-лист-проверки-5\"><span class=\"toc-item-num\">5&nbsp;&nbsp;</span>Чек-лист проверки</a></span></li></ul></div>"
   ]
  },
  {
   "cell_type": "markdown",
   "metadata": {},
   "source": [
    "# Защита персональных данных клиентов"
   ]
  },
  {
   "cell_type": "markdown",
   "metadata": {},
   "source": [
    "Вам нужно защитить данные клиентов страховой компании «Хоть потоп». Разработайте такой метод преобразования данных, чтобы по ним было сложно восстановить персональную информацию. Обоснуйте корректность его работы.\n",
    "\n",
    "Нужно защитить данные, чтобы при преобразовании качество моделей машинного обучения не ухудшилось. Подбирать наилучшую модель не требуется."
   ]
  },
  {
   "cell_type": "markdown",
   "metadata": {},
   "source": [
    "## Загрузка данных"
   ]
  },
  {
   "cell_type": "code",
   "execution_count": 50,
   "metadata": {},
   "outputs": [],
   "source": [
    "# импортируем библиотеки  \n",
    "\n",
    "import pandas as pd\n",
    "import numpy as np\n",
    "\n",
    "from sklearn.model_selection import train_test_split\n",
    "\n",
    "import matplotlib.pyplot as plt\n",
    "import seaborn as sns\n",
    "\n",
    "from sklearn.metrics import r2_score"
   ]
  },
  {
   "cell_type": "code",
   "execution_count": 51,
   "metadata": {},
   "outputs": [],
   "source": [
    "try:\n",
    "    data=pd.read_csv('/datasets/insurance.csv') \n",
    "except:\n",
    "    data=pd.read_csv('https://code.s3.yandex.net/datasets/insurance.csv')"
   ]
  },
  {
   "cell_type": "code",
   "execution_count": 52,
   "metadata": {},
   "outputs": [
    {
     "name": "stdout",
     "output_type": "stream",
     "text": [
      "\n",
      "Первые строки датасета\n"
     ]
    },
    {
     "data": {
      "text/html": [
       "<div>\n",
       "<style scoped>\n",
       "    .dataframe tbody tr th:only-of-type {\n",
       "        vertical-align: middle;\n",
       "    }\n",
       "\n",
       "    .dataframe tbody tr th {\n",
       "        vertical-align: top;\n",
       "    }\n",
       "\n",
       "    .dataframe thead th {\n",
       "        text-align: right;\n",
       "    }\n",
       "</style>\n",
       "<table border=\"1\" class=\"dataframe\">\n",
       "  <thead>\n",
       "    <tr style=\"text-align: right;\">\n",
       "      <th></th>\n",
       "      <th>Пол</th>\n",
       "      <th>Возраст</th>\n",
       "      <th>Зарплата</th>\n",
       "      <th>Члены семьи</th>\n",
       "      <th>Страховые выплаты</th>\n",
       "    </tr>\n",
       "  </thead>\n",
       "  <tbody>\n",
       "    <tr>\n",
       "      <th>0</th>\n",
       "      <td>1</td>\n",
       "      <td>41.0</td>\n",
       "      <td>49600.0</td>\n",
       "      <td>1</td>\n",
       "      <td>0</td>\n",
       "    </tr>\n",
       "    <tr>\n",
       "      <th>1</th>\n",
       "      <td>0</td>\n",
       "      <td>46.0</td>\n",
       "      <td>38000.0</td>\n",
       "      <td>1</td>\n",
       "      <td>1</td>\n",
       "    </tr>\n",
       "    <tr>\n",
       "      <th>2</th>\n",
       "      <td>0</td>\n",
       "      <td>29.0</td>\n",
       "      <td>21000.0</td>\n",
       "      <td>0</td>\n",
       "      <td>0</td>\n",
       "    </tr>\n",
       "    <tr>\n",
       "      <th>3</th>\n",
       "      <td>0</td>\n",
       "      <td>21.0</td>\n",
       "      <td>41700.0</td>\n",
       "      <td>2</td>\n",
       "      <td>0</td>\n",
       "    </tr>\n",
       "    <tr>\n",
       "      <th>4</th>\n",
       "      <td>1</td>\n",
       "      <td>28.0</td>\n",
       "      <td>26100.0</td>\n",
       "      <td>0</td>\n",
       "      <td>0</td>\n",
       "    </tr>\n",
       "  </tbody>\n",
       "</table>\n",
       "</div>"
      ],
      "text/plain": [
       "   Пол  Возраст  Зарплата  Члены семьи  Страховые выплаты\n",
       "0    1     41.0   49600.0            1                  0\n",
       "1    0     46.0   38000.0            1                  1\n",
       "2    0     29.0   21000.0            0                  0\n",
       "3    0     21.0   41700.0            2                  0\n",
       "4    1     28.0   26100.0            0                  0"
      ]
     },
     "metadata": {},
     "output_type": "display_data"
    },
    {
     "name": "stdout",
     "output_type": "stream",
     "text": [
      "\n",
      "Общая информация о столбцах и типах данных в них\n",
      "\n",
      "<class 'pandas.core.frame.DataFrame'>\n",
      "RangeIndex: 5000 entries, 0 to 4999\n",
      "Data columns (total 5 columns):\n",
      " #   Column             Non-Null Count  Dtype  \n",
      "---  ------             --------------  -----  \n",
      " 0   Пол                5000 non-null   int64  \n",
      " 1   Возраст            5000 non-null   float64\n",
      " 2   Зарплата           5000 non-null   float64\n",
      " 3   Члены семьи        5000 non-null   int64  \n",
      " 4   Страховые выплаты  5000 non-null   int64  \n",
      "dtypes: float64(2), int64(3)\n",
      "memory usage: 195.4 KB\n"
     ]
    },
    {
     "data": {
      "text/plain": [
       "None"
      ]
     },
     "metadata": {},
     "output_type": "display_data"
    },
    {
     "name": "stdout",
     "output_type": "stream",
     "text": [
      "\n",
      "Основные описательные статистики\n",
      "\n"
     ]
    },
    {
     "data": {
      "text/html": [
       "<div>\n",
       "<style scoped>\n",
       "    .dataframe tbody tr th:only-of-type {\n",
       "        vertical-align: middle;\n",
       "    }\n",
       "\n",
       "    .dataframe tbody tr th {\n",
       "        vertical-align: top;\n",
       "    }\n",
       "\n",
       "    .dataframe thead th {\n",
       "        text-align: right;\n",
       "    }\n",
       "</style>\n",
       "<table border=\"1\" class=\"dataframe\">\n",
       "  <thead>\n",
       "    <tr style=\"text-align: right;\">\n",
       "      <th></th>\n",
       "      <th>Пол</th>\n",
       "      <th>Возраст</th>\n",
       "      <th>Зарплата</th>\n",
       "      <th>Члены семьи</th>\n",
       "      <th>Страховые выплаты</th>\n",
       "    </tr>\n",
       "  </thead>\n",
       "  <tbody>\n",
       "    <tr>\n",
       "      <th>count</th>\n",
       "      <td>5000.000000</td>\n",
       "      <td>5000.000000</td>\n",
       "      <td>5000.000000</td>\n",
       "      <td>5000.000000</td>\n",
       "      <td>5000.000000</td>\n",
       "    </tr>\n",
       "    <tr>\n",
       "      <th>mean</th>\n",
       "      <td>0.499000</td>\n",
       "      <td>30.952800</td>\n",
       "      <td>39916.360000</td>\n",
       "      <td>1.194200</td>\n",
       "      <td>0.148000</td>\n",
       "    </tr>\n",
       "    <tr>\n",
       "      <th>std</th>\n",
       "      <td>0.500049</td>\n",
       "      <td>8.440807</td>\n",
       "      <td>9900.083569</td>\n",
       "      <td>1.091387</td>\n",
       "      <td>0.463183</td>\n",
       "    </tr>\n",
       "    <tr>\n",
       "      <th>min</th>\n",
       "      <td>0.000000</td>\n",
       "      <td>18.000000</td>\n",
       "      <td>5300.000000</td>\n",
       "      <td>0.000000</td>\n",
       "      <td>0.000000</td>\n",
       "    </tr>\n",
       "    <tr>\n",
       "      <th>25%</th>\n",
       "      <td>0.000000</td>\n",
       "      <td>24.000000</td>\n",
       "      <td>33300.000000</td>\n",
       "      <td>0.000000</td>\n",
       "      <td>0.000000</td>\n",
       "    </tr>\n",
       "    <tr>\n",
       "      <th>50%</th>\n",
       "      <td>0.000000</td>\n",
       "      <td>30.000000</td>\n",
       "      <td>40200.000000</td>\n",
       "      <td>1.000000</td>\n",
       "      <td>0.000000</td>\n",
       "    </tr>\n",
       "    <tr>\n",
       "      <th>75%</th>\n",
       "      <td>1.000000</td>\n",
       "      <td>37.000000</td>\n",
       "      <td>46600.000000</td>\n",
       "      <td>2.000000</td>\n",
       "      <td>0.000000</td>\n",
       "    </tr>\n",
       "    <tr>\n",
       "      <th>max</th>\n",
       "      <td>1.000000</td>\n",
       "      <td>65.000000</td>\n",
       "      <td>79000.000000</td>\n",
       "      <td>6.000000</td>\n",
       "      <td>5.000000</td>\n",
       "    </tr>\n",
       "  </tbody>\n",
       "</table>\n",
       "</div>"
      ],
      "text/plain": [
       "               Пол      Возраст      Зарплата  Члены семьи  Страховые выплаты\n",
       "count  5000.000000  5000.000000   5000.000000  5000.000000        5000.000000\n",
       "mean      0.499000    30.952800  39916.360000     1.194200           0.148000\n",
       "std       0.500049     8.440807   9900.083569     1.091387           0.463183\n",
       "min       0.000000    18.000000   5300.000000     0.000000           0.000000\n",
       "25%       0.000000    24.000000  33300.000000     0.000000           0.000000\n",
       "50%       0.000000    30.000000  40200.000000     1.000000           0.000000\n",
       "75%       1.000000    37.000000  46600.000000     2.000000           0.000000\n",
       "max       1.000000    65.000000  79000.000000     6.000000           5.000000"
      ]
     },
     "metadata": {},
     "output_type": "display_data"
    },
    {
     "name": "stdout",
     "output_type": "stream",
     "text": [
      "\n",
      "Полных дубликатов: 153\n",
      "\n",
      "Колличество пропусков\n"
     ]
    },
    {
     "data": {
      "text/html": [
       "<style  type=\"text/css\" >\n",
       "#T_1c442_row0_col0,#T_1c442_row1_col0,#T_1c442_row2_col0,#T_1c442_row3_col0,#T_1c442_row4_col0{\n",
       "            background-color:  #3b4cc0;\n",
       "            color:  #f1f1f1;\n",
       "        }</style><table id=\"T_1c442_\" ><thead>    <tr>        <th class=\"blank level0\" ></th>        <th class=\"col_heading level0 col0\" >0</th>    </tr></thead><tbody>\n",
       "                <tr>\n",
       "                        <th id=\"T_1c442_level0_row0\" class=\"row_heading level0 row0\" >Пол</th>\n",
       "                        <td id=\"T_1c442_row0_col0\" class=\"data row0 col0\" >0.000000</td>\n",
       "            </tr>\n",
       "            <tr>\n",
       "                        <th id=\"T_1c442_level0_row1\" class=\"row_heading level0 row1\" >Возраст</th>\n",
       "                        <td id=\"T_1c442_row1_col0\" class=\"data row1 col0\" >0.000000</td>\n",
       "            </tr>\n",
       "            <tr>\n",
       "                        <th id=\"T_1c442_level0_row2\" class=\"row_heading level0 row2\" >Зарплата</th>\n",
       "                        <td id=\"T_1c442_row2_col0\" class=\"data row2 col0\" >0.000000</td>\n",
       "            </tr>\n",
       "            <tr>\n",
       "                        <th id=\"T_1c442_level0_row3\" class=\"row_heading level0 row3\" >Члены семьи</th>\n",
       "                        <td id=\"T_1c442_row3_col0\" class=\"data row3 col0\" >0.000000</td>\n",
       "            </tr>\n",
       "            <tr>\n",
       "                        <th id=\"T_1c442_level0_row4\" class=\"row_heading level0 row4\" >Страховые выплаты</th>\n",
       "                        <td id=\"T_1c442_row4_col0\" class=\"data row4 col0\" >0.000000</td>\n",
       "            </tr>\n",
       "    </tbody></table>"
      ],
      "text/plain": [
       "<pandas.io.formats.style.Styler at 0x7f68ed177f10>"
      ]
     },
     "execution_count": 52,
     "metadata": {},
     "output_type": "execute_result"
    }
   ],
   "source": [
    "print(\"\\nПервые строки датасета\")\n",
    "display(data.head())\n",
    "print()\n",
    "print('Общая информация о столбцах и типах данных в них\\n')\n",
    "display(data.info())\n",
    "print()\n",
    "print('Основные описательные статистики\\n')\n",
    "display(data.describe())\n",
    "print()\n",
    "print('Полных дубликатов:', data.duplicated().sum())  \n",
    "print('\\nКолличество пропусков')\n",
    "pd.DataFrame(round(data.isna().mean()*100,2)).style.background_gradient('coolwarm')"
   ]
  },
  {
   "cell_type": "code",
   "execution_count": 53,
   "metadata": {},
   "outputs": [
    {
     "data": {
      "image/png": "[encoded data removed]",
      "text/plain": [
       "<Figure size 690.5x576 with 20 Axes>"
      ]
     },
     "metadata": {},
     "output_type": "display_data"
    }
   ],
   "source": [
    "sns.set_style('darkgrid')\n",
    "sns.pairplot(data, hue='Страховые выплаты', height=2, diag_kind='hist')\n",
    "plt.suptitle(\"Графики зависимости объема страховых выплат от параметров в данных\", y=1.02, fontsize=13)\n",
    "plt.show()"
   ]
  },
  {
   "cell_type": "markdown",
   "metadata": {},
   "source": [
    "Данные содержат 5 коллонок и 5 000 строк.\n",
    "\n",
    "Пропусков в данных не обнаруженно. \n",
    "\n",
    "Обнаруженно 153 полных дубликата, но в представленных данных данные строки могут представлять и разных клиентов, поэтому принято решение их не удалять.\n",
    "\n",
    "Основываюсь на графике зависимости параметров можно отметить рост колличества кредитов после 40 лет, явной корреляции с другими признаками не преслеживается."
   ]
  },
  {
   "cell_type": "markdown",
   "metadata": {},
   "source": [
    "## Умножение матриц"
   ]
  },
  {
   "cell_type": "markdown",
   "metadata": {},
   "source": [
    "В этом задании вы можете записывать формулы в *Jupyter Notebook.*\n",
    "\n",
    "Чтобы записать формулу внутри текста, окружите её символами доллара \\\\$; если снаружи —  двойными символами \\\\$\\\\$. Эти формулы записываются на языке вёрстки *LaTeX.* \n",
    "\n",
    "Для примера мы записали формулы линейной регрессии. Можете их скопировать и отредактировать, чтобы решить задачу.\n",
    "\n",
    "Работать в *LaTeX* необязательно."
   ]
  },
  {
   "cell_type": "markdown",
   "metadata": {},
   "source": [
    "Обозначения:\n",
    "\n",
    "- $X$ — матрица признаков (нулевой столбец состоит из единиц)\n",
    "\n",
    "- $y$ — вектор целевого признака\n",
    "\n",
    "- $P$ — матрица, на которую умножаются признаки\n",
    "\n",
    "- $w$ — вектор весов линейной регрессии (нулевой элемент равен сдвигу)"
   ]
  },
  {
   "cell_type": "markdown",
   "metadata": {},
   "source": [
    "Предсказания:\n",
    "\n",
    "$$\n",
    "a = Xw\n",
    "$$\n",
    "\n",
    "Задача обучения:\n",
    "\n",
    "$$\n",
    "w = \\arg\\min_w MSE(Xw, y)\n",
    "$$\n",
    "\n",
    "Формула обучения:\n",
    "\n",
    "$$\n",
    "w = (X^T X)^{-1} X^T y\n",
    "$$"
   ]
  },
  {
   "cell_type": "markdown",
   "metadata": {},
   "source": [
    "**Вопрос:**\n",
    "\n",
    " Признаки умножают на обратимую матрицу. Изменится ли качество линейной регрессии? (Её можно обучить заново.)\n",
    " \n",
    " a. Изменится. Приведите примеры матриц.\n",
    " \n",
    " b. Не изменится. Укажите, как связаны параметры линейной регрессии в исходной задаче и в преобразованной."
   ]
  },
  {
   "cell_type": "markdown",
   "metadata": {},
   "source": [
    "**Ответ:**  Качество линейной регрессии не изменится.\n",
    "\n",
    "**Обоснование:** \n",
    "\n",
    "\n",
    "При умножении признаков матрицы X размерностью (5000 , 4 ) на обратимую произвольную матрицу P размерностью ( 4 , 4 ) , результатом получаем новый (изменённый) набор данных скалярных произведений размернотью ( 5000 , 4 )\n",
    "\n",
    "Запишем новое представление формулы предсказания с учетом домнажения на обратную матрицу:\n",
    "\n",
    "$$\n",
    "a` = XPw`\n",
    "$$\n",
    "\n",
    "Где:\n",
    "$$\n",
    "w` = ((XP)^T XP)^{-1} (XP)^T y = (X^TP^TXP)X^TP^Ty= (X^TX)^{-1}(P^T)^{-1}P^{-1}X^TP^Ty\n",
    "$$\n",
    "\n",
    "Зная, что при умножение матрицы на обратную ей получается единичная матрица (E):\n",
    "\n",
    "$$\n",
    "w` = (X^TX)^{-1}EP^{-1}X^Ty = (X^TX)^{-1}P^{-1}X^Ty\n",
    "$$\n",
    "\n",
    "Так как:\n",
    "\n",
    "$$\n",
    "w = (X^T X)^{-1} X^T y\n",
    "$$\n",
    "$$\n",
    "w` = P^{-1}w\n",
    "$$\n",
    "\n",
    "Таким образом:\n",
    "\n",
    "$$\n",
    "a` = XP(P^{-1}w) = Xw = a\n",
    "$$"
   ]
  },
  {
   "cell_type": "markdown",
   "metadata": {},
   "source": [
    "Исходная формула вектора предсказаний равна формуле вектора предсказаний в случае, когда мы умножаем матрицу признаков на обратимую матрицу. Исходя из этого можно предположить, что качество линейной регрессии не изменится."
   ]
  },
  {
   "cell_type": "markdown",
   "metadata": {},
   "source": [
    "## Алгоритм преобразования"
   ]
  },
  {
   "cell_type": "markdown",
   "metadata": {},
   "source": [
    "**Алгоритм**\n",
    "\n",
    "В соответствие с произведенными вычислениями умножим матрицу признаков(Х) на обратимую матрицу в которой все величины сгенерированы случайно (Р)."
   ]
  },
  {
   "cell_type": "markdown",
   "metadata": {},
   "source": [
    "**Алгоритм 2.0**\n",
    "\n",
    "- Извлечем матрицупризноков и целевой признак\n",
    "- Генерируем случайную квадратную обратимую матрицу размером 4х4\n",
    "- Умножим матрицу признаков на обратимую матрицу Р\n",
    "- Разделим исходные данные на тренировочную и тестовую выборки\n",
    "- Разделим преобразованные данные на тренировочную и тестовую выборки\n",
    "- Создадим класс модели Линейной регрессии\n",
    "- Обучим модель на первоначальной выборке и расчитаем значение R2\n",
    "- Обучим модель на преобразованной выборке\n",
    "- Сравним полученные результаты и сделаем выводы\n",
    "- Дополнительно : Проверим возможность востановления исходных данных."
   ]
  },
  {
   "cell_type": "markdown",
   "metadata": {},
   "source": [
    "**Обоснование**\n",
    "\n",
    "Качество линейной регрессии не изменится при условии, если исходная матрица невырожденная и квадратная (определитель не равен нулю), так как только для квадратной матрицы может существовать обратная ей.\n",
    "\n",
    "Теоретически умножая матрицу Х на случайную матрицу Р и на обратную ей Р` мы получим иходную матрицу, что позволяет нам предположить, что подобный метод позволяет как кодировать так и декодировать признаки.\n",
    "$$\n",
    "X=PP`X\n",
    "$$"
   ]
  },
  {
   "cell_type": "markdown",
   "metadata": {},
   "source": [
    "## Проверка алгоритма"
   ]
  },
  {
   "cell_type": "markdown",
   "metadata": {},
   "source": [
    "Извлекаем матрицу признаков и целевой признак."
   ]
  },
  {
   "cell_type": "code",
   "execution_count": 54,
   "metadata": {},
   "outputs": [],
   "source": [
    "features = data.drop(['Страховые выплаты'], axis=1)\n",
    "target = data['Страховые выплаты']"
   ]
  },
  {
   "cell_type": "code",
   "execution_count": 55,
   "metadata": {},
   "outputs": [],
   "source": [
    "# Создадим рандомную матрицу той же размерности и проверим ее на обратимость\n",
    "#P = np.random.randn(4, 4)\n",
    "#try:\n",
    "#    np.linalg.inv(P)\n",
    "#    print('Матрица обратима')\n",
    "#except:\n",
    "#    print('Матрица не обратима')\n"
   ]
  },
  {
   "cell_type": "markdown",
   "metadata": {},
   "source": [
    "Генерируем случайную квадратную обратимую матрицу P размером 4х4"
   ]
  },
  {
   "cell_type": "code",
   "execution_count": 56,
   "metadata": {},
   "outputs": [],
   "source": [
    "def get_rand_matrix():\n",
    "    det = 0\n",
    "    while det == 0:\n",
    "        matrix = np.random.normal(size=(features.shape[1], features.shape[1]))\n",
    "        det = np.linalg.det(matrix)\n",
    "    return matrix\n"
   ]
  },
  {
   "cell_type": "code",
   "execution_count": 57,
   "metadata": {},
   "outputs": [
    {
     "data": {
      "text/plain": [
       "array([[-1.29473186,  0.22020871,  0.4274611 ,  0.42568623],\n",
       "       [-0.44989336, -1.24472772, -0.8248567 , -0.84556235],\n",
       "       [ 0.39754268, -0.81164525, -1.0851142 ,  1.1045928 ],\n",
       "       [ 0.81041662, -0.67938555,  1.89525873, -2.35448915]])"
      ]
     },
     "execution_count": 57,
     "metadata": {},
     "output_type": "execute_result"
    }
   ],
   "source": [
    "P = get_rand_matrix()\n",
    "P"
   ]
  },
  {
   "cell_type": "markdown",
   "metadata": {},
   "source": [
    "Умножим матрицу признаков на обратимую матрицу Р"
   ]
  },
  {
   "cell_type": "code",
   "execution_count": 58,
   "metadata": {},
   "outputs": [
    {
     "data": {
      "text/html": [
       "<div>\n",
       "<style scoped>\n",
       "    .dataframe tbody tr th:only-of-type {\n",
       "        vertical-align: middle;\n",
       "    }\n",
       "\n",
       "    .dataframe tbody tr th {\n",
       "        vertical-align: top;\n",
       "    }\n",
       "\n",
       "    .dataframe thead th {\n",
       "        text-align: right;\n",
       "    }\n",
       "</style>\n",
       "<table border=\"1\" class=\"dataframe\">\n",
       "  <thead>\n",
       "    <tr style=\"text-align: right;\">\n",
       "      <th></th>\n",
       "      <th>0</th>\n",
       "      <th>1</th>\n",
       "      <th>2</th>\n",
       "      <th>3</th>\n",
       "    </tr>\n",
       "  </thead>\n",
       "  <tbody>\n",
       "    <tr>\n",
       "      <th>0</th>\n",
       "      <td>19699.187033</td>\n",
       "      <td>-40309.097411</td>\n",
       "      <td>-53853.160604</td>\n",
       "      <td>54751.206120</td>\n",
       "    </tr>\n",
       "    <tr>\n",
       "      <th>1</th>\n",
       "      <td>15086.737199</td>\n",
       "      <td>-30900.456358</td>\n",
       "      <td>-41270.387657</td>\n",
       "      <td>41933.276118</td>\n",
       "    </tr>\n",
       "    <tr>\n",
       "      <th>2</th>\n",
       "      <td>8335.349393</td>\n",
       "      <td>-17080.647353</td>\n",
       "      <td>-22811.318993</td>\n",
       "      <td>23171.927534</td>\n",
       "    </tr>\n",
       "    <tr>\n",
       "      <th>3</th>\n",
       "      <td>16569.702869</td>\n",
       "      <td>-33873.104976</td>\n",
       "      <td>-45262.793511</td>\n",
       "      <td>46039.054055</td>\n",
       "    </tr>\n",
       "    <tr>\n",
       "      <th>4</th>\n",
       "      <td>10361.972227</td>\n",
       "      <td>-21218.573191</td>\n",
       "      <td>-28344.149083</td>\n",
       "      <td>28806.622072</td>\n",
       "    </tr>\n",
       "    <tr>\n",
       "      <th>...</th>\n",
       "      <td>...</td>\n",
       "      <td>...</td>\n",
       "      <td>...</td>\n",
       "      <td>...</td>\n",
       "    </tr>\n",
       "    <tr>\n",
       "      <th>4995</th>\n",
       "      <td>14181.297530</td>\n",
       "      <td>-29011.946570</td>\n",
       "      <td>-38757.882323</td>\n",
       "      <td>39405.578307</td>\n",
       "    </tr>\n",
       "    <tr>\n",
       "      <th>4996</th>\n",
       "      <td>20816.750525</td>\n",
       "      <td>-42573.211225</td>\n",
       "      <td>-56886.133821</td>\n",
       "      <td>57849.559215</td>\n",
       "    </tr>\n",
       "    <tr>\n",
       "      <th>4997</th>\n",
       "      <td>13469.319851</td>\n",
       "      <td>-27541.027299</td>\n",
       "      <td>-36798.077914</td>\n",
       "      <td>37424.075762</td>\n",
       "    </tr>\n",
       "    <tr>\n",
       "      <th>4998</th>\n",
       "      <td>12990.884532</td>\n",
       "      <td>-26570.001631</td>\n",
       "      <td>-35495.267870</td>\n",
       "      <td>36094.944472</td>\n",
       "    </tr>\n",
       "    <tr>\n",
       "      <th>4999</th>\n",
       "      <td>16127.151518</td>\n",
       "      <td>-32988.108701</td>\n",
       "      <td>-44076.409688</td>\n",
       "      <td>44820.863212</td>\n",
       "    </tr>\n",
       "  </tbody>\n",
       "</table>\n",
       "<p>5000 rows × 4 columns</p>\n",
       "</div>"
      ],
      "text/plain": [
       "                 0             1             2             3\n",
       "0     19699.187033 -40309.097411 -53853.160604  54751.206120\n",
       "1     15086.737199 -30900.456358 -41270.387657  41933.276118\n",
       "2      8335.349393 -17080.647353 -22811.318993  23171.927534\n",
       "3     16569.702869 -33873.104976 -45262.793511  46039.054055\n",
       "4     10361.972227 -21218.573191 -28344.149083  28806.622072\n",
       "...            ...           ...           ...           ...\n",
       "4995  14181.297530 -29011.946570 -38757.882323  39405.578307\n",
       "4996  20816.750525 -42573.211225 -56886.133821  57849.559215\n",
       "4997  13469.319851 -27541.027299 -36798.077914  37424.075762\n",
       "4998  12990.884532 -26570.001631 -35495.267870  36094.944472\n",
       "4999  16127.151518 -32988.108701 -44076.409688  44820.863212\n",
       "\n",
       "[5000 rows x 4 columns]"
      ]
     },
     "execution_count": 58,
     "metadata": {},
     "output_type": "execute_result"
    }
   ],
   "source": [
    "features_p = features @ P\n",
    "features_p"
   ]
  },
  {
   "cell_type": "markdown",
   "metadata": {},
   "source": [
    "Разделим исходные данные на тренировочную и тестовую выборки"
   ]
  },
  {
   "cell_type": "code",
   "execution_count": 59,
   "metadata": {},
   "outputs": [
    {
     "name": "stdout",
     "output_type": "stream",
     "text": [
      "Размеры выборок\n",
      "features_train  3500\n",
      "features_valid  1500\n"
     ]
    }
   ],
   "source": [
    "features_train, features_test, target_train, target_test = train_test_split(\n",
    "    features, target, test_size=0.30, random_state=321)\n",
    "print('Размеры выборок')\n",
    "print('features_train','',features_train.shape[0])\n",
    "print('features_test','',features_test.shape[0])"
   ]
  },
  {
   "cell_type": "markdown",
   "metadata": {},
   "source": [
    "Разделим преобразованные данные на тренировочную и тестовую выборки "
   ]
  },
  {
   "cell_type": "code",
   "execution_count": 60,
   "metadata": {},
   "outputs": [
    {
     "name": "stdout",
     "output_type": "stream",
     "text": [
      "Размеры выборок\n",
      "p_features_train  3500\n",
      "p_features_test  1500\n"
     ]
    }
   ],
   "source": [
    "p_features_train, p_features_test, p_target_train, p_target_test = train_test_split(\n",
    "    features_p, target, test_size=0.30, random_state=321)\n",
    "print('Размеры выборок')\n",
    "print('p_features_train','',p_features_train.shape[0])\n",
    "print('p_features_test','',p_features_test.shape[0])"
   ]
  },
  {
   "cell_type": "markdown",
   "metadata": {},
   "source": [
    "Создадим класс модели Линейной регрессии"
   ]
  },
  {
   "cell_type": "code",
   "execution_count": 61,
   "metadata": {},
   "outputs": [],
   "source": [
    "class LinearRegression:\n",
    "    def fit(self, train_features, train_target):\n",
    "        X = np.concatenate((np.ones((train_features.shape[0], 1)), train_features), axis=1)\n",
    "        y = train_target\n",
    "        w = np.linalg.inv(X.T.dot(X)).dot(X.T).dot(y)\n",
    "        self.w = w[1:]\n",
    "        self.w0 = w[0]\n",
    "\n",
    "    def predict(self, test_features):\n",
    "        return test_features.dot(self.w) + self.w0"
   ]
  },
  {
   "cell_type": "markdown",
   "metadata": {},
   "source": [
    "Обучим модель на первоначальной выборке и расчитаем значение R2"
   ]
  },
  {
   "cell_type": "code",
   "execution_count": 62,
   "metadata": {},
   "outputs": [
    {
     "name": "stdout",
     "output_type": "stream",
     "text": [
      "Значение метрики R2 на первоначальной выборке:  0.40801\n"
     ]
    }
   ],
   "source": [
    "model = LinearRegression()\n",
    "model.fit(features_train, target_train)\n",
    "predictions = model.predict(features_test)\n",
    "R2 = r2_score(target_test, predictions)\n",
    "print('Значение метрики R2 на первоначальной выборке: ',round(R2,5))"
   ]
  },
  {
   "cell_type": "markdown",
   "metadata": {},
   "source": [
    "Обучим модель на преобразованной выборке"
   ]
  },
  {
   "cell_type": "code",
   "execution_count": 63,
   "metadata": {},
   "outputs": [
    {
     "name": "stdout",
     "output_type": "stream",
     "text": [
      "Значение метрики R2 на преобразованной выборке:  0.40801\n"
     ]
    }
   ],
   "source": [
    "model_p = LinearRegression()\n",
    "model_p.fit(p_features_train,p_target_train)\n",
    "predictions_p = model_p.predict(p_features_test)\n",
    "R2_p = r2_score(p_target_test, predictions_p)\n",
    "print('Значение метрики R2 на преобразованной выборке: ',round(R2_p,5))"
   ]
  },
  {
   "cell_type": "markdown",
   "metadata": {},
   "source": [
    "При умножении признаков на обратимую матрицу качество модели не изменилось."
   ]
  },
  {
   "cell_type": "markdown",
   "metadata": {},
   "source": [
    "Проверим возможность востановления исходных данных."
   ]
  },
  {
   "cell_type": "code",
   "execution_count": 64,
   "metadata": {},
   "outputs": [
    {
     "data": {
      "text/html": [
       "<div>\n",
       "<style scoped>\n",
       "    .dataframe tbody tr th:only-of-type {\n",
       "        vertical-align: middle;\n",
       "    }\n",
       "\n",
       "    .dataframe tbody tr th {\n",
       "        vertical-align: top;\n",
       "    }\n",
       "\n",
       "    .dataframe thead th {\n",
       "        text-align: right;\n",
       "    }\n",
       "</style>\n",
       "<table border=\"1\" class=\"dataframe\">\n",
       "  <thead>\n",
       "    <tr style=\"text-align: right;\">\n",
       "      <th></th>\n",
       "      <th>Пол</th>\n",
       "      <th>Возраст</th>\n",
       "      <th>Зарплата</th>\n",
       "      <th>Члены семьи</th>\n",
       "    </tr>\n",
       "  </thead>\n",
       "  <tbody>\n",
       "    <tr>\n",
       "      <th>0</th>\n",
       "      <td>1</td>\n",
       "      <td>41.0</td>\n",
       "      <td>49600.0</td>\n",
       "      <td>1</td>\n",
       "    </tr>\n",
       "    <tr>\n",
       "      <th>1</th>\n",
       "      <td>0</td>\n",
       "      <td>46.0</td>\n",
       "      <td>38000.0</td>\n",
       "      <td>1</td>\n",
       "    </tr>\n",
       "    <tr>\n",
       "      <th>2</th>\n",
       "      <td>0</td>\n",
       "      <td>29.0</td>\n",
       "      <td>21000.0</td>\n",
       "      <td>0</td>\n",
       "    </tr>\n",
       "    <tr>\n",
       "      <th>3</th>\n",
       "      <td>0</td>\n",
       "      <td>21.0</td>\n",
       "      <td>41700.0</td>\n",
       "      <td>2</td>\n",
       "    </tr>\n",
       "    <tr>\n",
       "      <th>4</th>\n",
       "      <td>1</td>\n",
       "      <td>28.0</td>\n",
       "      <td>26100.0</td>\n",
       "      <td>0</td>\n",
       "    </tr>\n",
       "    <tr>\n",
       "      <th>...</th>\n",
       "      <td>...</td>\n",
       "      <td>...</td>\n",
       "      <td>...</td>\n",
       "      <td>...</td>\n",
       "    </tr>\n",
       "    <tr>\n",
       "      <th>4995</th>\n",
       "      <td>0</td>\n",
       "      <td>28.0</td>\n",
       "      <td>35700.0</td>\n",
       "      <td>2</td>\n",
       "    </tr>\n",
       "    <tr>\n",
       "      <th>4996</th>\n",
       "      <td>0</td>\n",
       "      <td>34.0</td>\n",
       "      <td>52400.0</td>\n",
       "      <td>1</td>\n",
       "    </tr>\n",
       "    <tr>\n",
       "      <th>4997</th>\n",
       "      <td>0</td>\n",
       "      <td>20.0</td>\n",
       "      <td>33900.0</td>\n",
       "      <td>2</td>\n",
       "    </tr>\n",
       "    <tr>\n",
       "      <th>4998</th>\n",
       "      <td>1</td>\n",
       "      <td>22.0</td>\n",
       "      <td>32700.0</td>\n",
       "      <td>3</td>\n",
       "    </tr>\n",
       "    <tr>\n",
       "      <th>4999</th>\n",
       "      <td>1</td>\n",
       "      <td>28.0</td>\n",
       "      <td>40600.0</td>\n",
       "      <td>1</td>\n",
       "    </tr>\n",
       "  </tbody>\n",
       "</table>\n",
       "<p>5000 rows × 4 columns</p>\n",
       "</div>"
      ],
      "text/plain": [
       "      Пол  Возраст  Зарплата  Члены семьи\n",
       "0       1     41.0   49600.0            1\n",
       "1       0     46.0   38000.0            1\n",
       "2       0     29.0   21000.0            0\n",
       "3       0     21.0   41700.0            2\n",
       "4       1     28.0   26100.0            0\n",
       "...   ...      ...       ...          ...\n",
       "4995    0     28.0   35700.0            2\n",
       "4996    0     34.0   52400.0            1\n",
       "4997    0     20.0   33900.0            2\n",
       "4998    1     22.0   32700.0            3\n",
       "4999    1     28.0   40600.0            1\n",
       "\n",
       "[5000 rows x 4 columns]"
      ]
     },
     "metadata": {},
     "output_type": "display_data"
    },
    {
     "data": {
      "text/html": [
       "<div>\n",
       "<style scoped>\n",
       "    .dataframe tbody tr th:only-of-type {\n",
       "        vertical-align: middle;\n",
       "    }\n",
       "\n",
       "    .dataframe tbody tr th {\n",
       "        vertical-align: top;\n",
       "    }\n",
       "\n",
       "    .dataframe thead th {\n",
       "        text-align: right;\n",
       "    }\n",
       "</style>\n",
       "<table border=\"1\" class=\"dataframe\">\n",
       "  <thead>\n",
       "    <tr style=\"text-align: right;\">\n",
       "      <th></th>\n",
       "      <th>0</th>\n",
       "      <th>1</th>\n",
       "      <th>2</th>\n",
       "      <th>3</th>\n",
       "    </tr>\n",
       "  </thead>\n",
       "  <tbody>\n",
       "    <tr>\n",
       "      <th>0</th>\n",
       "      <td>1.000000e+00</td>\n",
       "      <td>41.0</td>\n",
       "      <td>49600.0</td>\n",
       "      <td>1.000000e+00</td>\n",
       "    </tr>\n",
       "    <tr>\n",
       "      <th>1</th>\n",
       "      <td>-4.570639e-12</td>\n",
       "      <td>46.0</td>\n",
       "      <td>38000.0</td>\n",
       "      <td>1.000000e+00</td>\n",
       "    </tr>\n",
       "    <tr>\n",
       "      <th>2</th>\n",
       "      <td>-2.484604e-12</td>\n",
       "      <td>29.0</td>\n",
       "      <td>21000.0</td>\n",
       "      <td>-1.147380e-12</td>\n",
       "    </tr>\n",
       "    <tr>\n",
       "      <th>3</th>\n",
       "      <td>-1.451206e-12</td>\n",
       "      <td>21.0</td>\n",
       "      <td>41700.0</td>\n",
       "      <td>2.000000e+00</td>\n",
       "    </tr>\n",
       "    <tr>\n",
       "      <th>4</th>\n",
       "      <td>1.000000e+00</td>\n",
       "      <td>28.0</td>\n",
       "      <td>26100.0</td>\n",
       "      <td>-1.927767e-12</td>\n",
       "    </tr>\n",
       "    <tr>\n",
       "      <th>...</th>\n",
       "      <td>...</td>\n",
       "      <td>...</td>\n",
       "      <td>...</td>\n",
       "      <td>...</td>\n",
       "    </tr>\n",
       "    <tr>\n",
       "      <th>4995</th>\n",
       "      <td>-2.235601e-12</td>\n",
       "      <td>28.0</td>\n",
       "      <td>35700.0</td>\n",
       "      <td>2.000000e+00</td>\n",
       "    </tr>\n",
       "    <tr>\n",
       "      <th>4996</th>\n",
       "      <td>-7.756185e-12</td>\n",
       "      <td>34.0</td>\n",
       "      <td>52400.0</td>\n",
       "      <td>1.000000e+00</td>\n",
       "    </tr>\n",
       "    <tr>\n",
       "      <th>4997</th>\n",
       "      <td>-2.447793e-12</td>\n",
       "      <td>20.0</td>\n",
       "      <td>33900.0</td>\n",
       "      <td>2.000000e+00</td>\n",
       "    </tr>\n",
       "    <tr>\n",
       "      <th>4998</th>\n",
       "      <td>1.000000e+00</td>\n",
       "      <td>22.0</td>\n",
       "      <td>32700.0</td>\n",
       "      <td>3.000000e+00</td>\n",
       "    </tr>\n",
       "    <tr>\n",
       "      <th>4999</th>\n",
       "      <td>1.000000e+00</td>\n",
       "      <td>28.0</td>\n",
       "      <td>40600.0</td>\n",
       "      <td>1.000000e+00</td>\n",
       "    </tr>\n",
       "  </tbody>\n",
       "</table>\n",
       "<p>5000 rows × 4 columns</p>\n",
       "</div>"
      ],
      "text/plain": [
       "                 0     1        2             3\n",
       "0     1.000000e+00  41.0  49600.0  1.000000e+00\n",
       "1    -4.570639e-12  46.0  38000.0  1.000000e+00\n",
       "2    -2.484604e-12  29.0  21000.0 -1.147380e-12\n",
       "3    -1.451206e-12  21.0  41700.0  2.000000e+00\n",
       "4     1.000000e+00  28.0  26100.0 -1.927767e-12\n",
       "...            ...   ...      ...           ...\n",
       "4995 -2.235601e-12  28.0  35700.0  2.000000e+00\n",
       "4996 -7.756185e-12  34.0  52400.0  1.000000e+00\n",
       "4997 -2.447793e-12  20.0  33900.0  2.000000e+00\n",
       "4998  1.000000e+00  22.0  32700.0  3.000000e+00\n",
       "4999  1.000000e+00  28.0  40600.0  1.000000e+00\n",
       "\n",
       "[5000 rows x 4 columns]"
      ]
     },
     "metadata": {},
     "output_type": "display_data"
    }
   ],
   "source": [
    "display(features,(features_p @ np.linalg.inv(P)))"
   ]
  },
  {
   "cell_type": "markdown",
   "metadata": {},
   "source": [
    "Данные удалось востановить"
   ]
  },
  {
   "cell_type": "markdown",
   "metadata": {},
   "source": [
    "Вывод:\n",
    "Путем умножения на обратимую матрицу P мы зашифровали данные пользователей, не потеряв в качестве модели. "
   ]
  },
  {
   "cell_type": "markdown",
   "metadata": {},
   "source": [
    "**Вывод 2.0**\n",
    "\n",
    "Целью данной работы была обозначенна защита данных клиентов компании «Хоть потоп».\n",
    "\n",
    "Для работы был предоставлен датасет содержащий 5 колонок и 5 000 строк.\n",
    "При первоначальном осмотре пропусков в данных обнаруженно не было. Выявленные полные дубликаты (153 строки) из-за специфики данных были сохранены. При рассмотрении зависимости параметров, можно отметить рост колличества кредитов после 40 лет, явной корреляции с другими признаками не преслеживается.\n",
    "\n",
    "Была поставленна задача разработать метод преобразования данных, ослажняющий восстановление персональной информации, но не ухудшающий качество моделей машинного обучения.\n",
    "\n",
    "С целью реализации данной задачи признаки исходной матрицы X размерностью (5000 , 4 ) были умноженны на обратимую квадратную случайно сгенерированныу матрицу P размерностью ( 4 , 4 ) , результатом был получен новый (изменённый) набор данных скалярных произведений размернотью ( 5000 , 4 ). \n",
    "\n",
    "Это позволило закодирать данные пользователей.\n",
    "\n",
    "С целью проверки корректности работы выбранного нами метода были обученны две модели Линейной регрессии. На исходных и на преобразованных данных. Для проверки корректности была использованна метрика R2, что позволило определить, что качество моделей идентично.\n",
    "\n",
    "Финальной частью исследования стала проверка возможности востановления данных. Декодирование было произведено успешно. Это позволяет утверждать, что цель данной работы была достигнута."
   ]
  }
 ],
 "metadata": {
  "ExecuteTimeLog": [
   {
    "duration": 461,
    "start_time": "2023-03-16T11:38:22.614Z"
   },
   {
    "duration": 124,
    "start_time": "2023-03-16T11:38:23.741Z"
   },
   {
    "duration": 23,
    "start_time": "2023-03-16T11:38:30.614Z"
   },
   {
    "duration": 7,
    "start_time": "2023-03-16T11:39:05.804Z"
   },
   {
    "duration": 13,
    "start_time": "2023-03-16T11:39:21.338Z"
   },
   {
    "duration": 7,
    "start_time": "2023-03-16T11:39:37.205Z"
   },
   {
    "duration": 73,
    "start_time": "2023-03-16T11:41:32.818Z"
   },
   {
    "duration": 63,
    "start_time": "2023-03-16T11:41:46.538Z"
   },
   {
    "duration": 7,
    "start_time": "2023-03-16T11:49:04.085Z"
   },
   {
    "duration": 30,
    "start_time": "2023-03-16T11:49:05.116Z"
   },
   {
    "duration": 44,
    "start_time": "2023-03-16T11:49:05.916Z"
   },
   {
    "duration": 124,
    "start_time": "2023-03-16T11:49:20.214Z"
   },
   {
    "duration": 56,
    "start_time": "2023-03-16T11:49:24.517Z"
   },
   {
    "duration": 51,
    "start_time": "2023-03-16T11:49:33.804Z"
   },
   {
    "duration": 68,
    "start_time": "2023-03-16T11:49:44.276Z"
   },
   {
    "duration": 47,
    "start_time": "2023-03-16T11:49:49.451Z"
   },
   {
    "duration": 50,
    "start_time": "2023-03-16T11:49:58.055Z"
   },
   {
    "duration": 52,
    "start_time": "2023-03-16T11:50:02.750Z"
   },
   {
    "duration": 519,
    "start_time": "2023-03-16T11:51:48.122Z"
   },
   {
    "duration": 65,
    "start_time": "2023-03-16T11:57:43.803Z"
   },
   {
    "duration": 59,
    "start_time": "2023-03-16T11:57:55.286Z"
   },
   {
    "duration": 53,
    "start_time": "2023-03-16T11:58:06.295Z"
   },
   {
    "duration": 56,
    "start_time": "2023-03-16T11:58:22.809Z"
   },
   {
    "duration": 607,
    "start_time": "2023-03-16T12:19:07.335Z"
   },
   {
    "duration": 9379,
    "start_time": "2023-03-16T12:19:08.624Z"
   },
   {
    "duration": 9987,
    "start_time": "2023-03-16T12:34:53.614Z"
   },
   {
    "duration": 11116,
    "start_time": "2023-03-16T12:35:26.337Z"
   },
   {
    "duration": 13120,
    "start_time": "2023-03-16T12:35:47.824Z"
   },
   {
    "duration": 12041,
    "start_time": "2023-03-16T12:36:08.209Z"
   },
   {
    "duration": 10664,
    "start_time": "2023-03-16T12:36:26.623Z"
   },
   {
    "duration": 11499,
    "start_time": "2023-03-16T12:37:06.083Z"
   },
   {
    "duration": 1309,
    "start_time": "2023-03-16T18:21:05.592Z"
   },
   {
    "duration": 86,
    "start_time": "2023-03-16T18:21:07.590Z"
   },
   {
    "duration": 91,
    "start_time": "2023-03-16T18:21:08.482Z"
   },
   {
    "duration": 7959,
    "start_time": "2023-03-16T18:21:21.251Z"
   },
   {
    "duration": 185,
    "start_time": "2023-03-17T08:54:45.482Z"
   },
   {
    "duration": 1368,
    "start_time": "2023-03-17T10:04:01.234Z"
   },
   {
    "duration": 76,
    "start_time": "2023-03-17T10:04:03.419Z"
   },
   {
    "duration": 107,
    "start_time": "2023-03-17T10:04:04.475Z"
   },
   {
    "duration": 8579,
    "start_time": "2023-03-17T10:04:05.644Z"
   },
   {
    "duration": 4,
    "start_time": "2023-03-17T10:06:23.546Z"
   },
   {
    "duration": 268,
    "start_time": "2023-03-17T11:02:14.958Z"
   },
   {
    "duration": 12,
    "start_time": "2023-03-17T11:02:16.613Z"
   },
   {
    "duration": 1470,
    "start_time": "2023-03-17T16:15:13.301Z"
   },
   {
    "duration": 207,
    "start_time": "2023-03-17T16:15:15.608Z"
   },
   {
    "duration": 159,
    "start_time": "2023-03-17T16:15:18.102Z"
   },
   {
    "duration": 8363,
    "start_time": "2023-03-17T16:15:20.671Z"
   },
   {
    "duration": 5,
    "start_time": "2023-03-17T16:16:19.505Z"
   },
   {
    "duration": 196,
    "start_time": "2023-03-17T16:16:36.577Z"
   },
   {
    "duration": 257,
    "start_time": "2023-03-17T16:16:45.469Z"
   },
   {
    "duration": 3,
    "start_time": "2023-03-17T16:16:51.606Z"
   },
   {
    "duration": 6,
    "start_time": "2023-03-17T16:17:05.670Z"
   },
   {
    "duration": 3,
    "start_time": "2023-03-17T16:17:21.098Z"
   },
   {
    "duration": 29,
    "start_time": "2023-03-17T16:17:28.636Z"
   },
   {
    "duration": 3,
    "start_time": "2023-03-17T16:19:09.908Z"
   },
   {
    "duration": 5,
    "start_time": "2023-03-17T16:19:11.078Z"
   },
   {
    "duration": 6,
    "start_time": "2023-03-17T16:19:22.068Z"
   },
   {
    "duration": 5,
    "start_time": "2023-03-17T16:19:25.077Z"
   },
   {
    "duration": 8,
    "start_time": "2023-03-17T16:20:20.689Z"
   },
   {
    "duration": 21,
    "start_time": "2023-03-17T16:23:54.158Z"
   },
   {
    "duration": 12,
    "start_time": "2023-03-17T16:24:05.523Z"
   },
   {
    "duration": 10,
    "start_time": "2023-03-17T16:24:42.081Z"
   },
   {
    "duration": 8,
    "start_time": "2023-03-17T16:24:48.167Z"
   },
   {
    "duration": 11,
    "start_time": "2023-03-17T16:24:55.208Z"
   },
   {
    "duration": 349,
    "start_time": "2023-03-17T16:29:08.807Z"
   },
   {
    "duration": 4,
    "start_time": "2023-03-17T16:31:21.704Z"
   },
   {
    "duration": 78,
    "start_time": "2023-03-17T16:31:47.462Z"
   },
   {
    "duration": 7,
    "start_time": "2023-03-17T16:31:48.331Z"
   },
   {
    "duration": 46,
    "start_time": "2023-03-17T16:33:22.868Z"
   },
   {
    "duration": 15,
    "start_time": "2023-03-17T16:35:03.361Z"
   },
   {
    "duration": 16,
    "start_time": "2023-03-17T16:35:40.911Z"
   },
   {
    "duration": 11,
    "start_time": "2023-03-17T16:36:00.367Z"
   },
   {
    "duration": 7,
    "start_time": "2023-03-17T16:36:07.190Z"
   },
   {
    "duration": 11,
    "start_time": "2023-03-17T16:36:12.696Z"
   },
   {
    "duration": 12,
    "start_time": "2023-03-17T16:36:18.314Z"
   },
   {
    "duration": 8,
    "start_time": "2023-03-17T16:36:46.025Z"
   },
   {
    "duration": 9,
    "start_time": "2023-03-17T16:36:53.368Z"
   },
   {
    "duration": 12,
    "start_time": "2023-03-17T16:38:28.766Z"
   },
   {
    "duration": 9,
    "start_time": "2023-03-17T16:38:37.291Z"
   },
   {
    "duration": 8,
    "start_time": "2023-03-17T16:39:09.116Z"
   },
   {
    "duration": 24,
    "start_time": "2023-03-17T16:42:56.427Z"
   },
   {
    "duration": 26,
    "start_time": "2023-03-17T16:43:36.869Z"
   },
   {
    "duration": 58,
    "start_time": "2023-03-17T16:44:04.592Z"
   },
   {
    "duration": 73,
    "start_time": "2023-03-17T16:45:20.700Z"
   },
   {
    "duration": 37,
    "start_time": "2023-03-17T16:45:26.358Z"
   },
   {
    "duration": 48,
    "start_time": "2023-03-17T16:45:36.233Z"
   },
   {
    "duration": 70,
    "start_time": "2023-03-17T16:45:53.926Z"
   },
   {
    "duration": 22,
    "start_time": "2023-03-17T16:45:58.070Z"
   },
   {
    "duration": 24,
    "start_time": "2023-03-17T16:46:11.514Z"
   },
   {
    "duration": 15,
    "start_time": "2023-03-17T16:57:50.648Z"
   },
   {
    "duration": 3288,
    "start_time": "2023-03-18T14:14:23.640Z"
   },
   {
    "duration": 76,
    "start_time": "2023-03-18T14:14:26.931Z"
   },
   {
    "duration": 181,
    "start_time": "2023-03-18T14:14:27.010Z"
   },
   {
    "duration": 10118,
    "start_time": "2023-03-18T14:14:27.193Z"
   },
   {
    "duration": 5,
    "start_time": "2023-03-18T14:14:37.314Z"
   },
   {
    "duration": 9,
    "start_time": "2023-03-18T14:14:37.322Z"
   },
   {
    "duration": 36,
    "start_time": "2023-03-18T14:14:37.333Z"
   },
   {
    "duration": 26,
    "start_time": "2023-03-18T14:14:37.373Z"
   },
   {
    "duration": 93,
    "start_time": "2023-03-18T14:14:37.404Z"
   },
   {
    "duration": 68,
    "start_time": "2023-03-18T14:14:37.513Z"
   },
   {
    "duration": 182,
    "start_time": "2023-03-18T14:14:37.605Z"
   },
   {
    "duration": 2013,
    "start_time": "2023-03-20T07:18:49.634Z"
   },
   {
    "duration": 79,
    "start_time": "2023-03-20T07:18:52.223Z"
   },
   {
    "duration": 106,
    "start_time": "2023-03-20T07:18:52.944Z"
   },
   {
    "duration": 9177,
    "start_time": "2023-03-20T07:18:53.947Z"
   },
   {
    "duration": 6,
    "start_time": "2023-03-20T07:19:13.492Z"
   },
   {
    "duration": 161,
    "start_time": "2023-03-20T07:26:04.433Z"
   },
   {
    "duration": 15,
    "start_time": "2023-03-20T07:26:24.383Z"
   },
   {
    "duration": 8,
    "start_time": "2023-03-20T07:26:38.814Z"
   },
   {
    "duration": 8,
    "start_time": "2023-03-20T07:26:51.270Z"
   },
   {
    "duration": 9,
    "start_time": "2023-03-20T07:26:56.529Z"
   },
   {
    "duration": 10,
    "start_time": "2023-03-20T07:27:01.440Z"
   },
   {
    "duration": 9,
    "start_time": "2023-03-20T07:27:25.392Z"
   },
   {
    "duration": 3,
    "start_time": "2023-03-20T07:28:18.438Z"
   },
   {
    "duration": 8,
    "start_time": "2023-03-20T07:28:19.206Z"
   },
   {
    "duration": 4,
    "start_time": "2023-03-20T07:28:26.422Z"
   },
   {
    "duration": 6,
    "start_time": "2023-03-20T07:28:30.034Z"
   },
   {
    "duration": 14,
    "start_time": "2023-03-20T07:35:02.617Z"
   },
   {
    "duration": 6,
    "start_time": "2023-03-20T07:35:06.824Z"
   },
   {
    "duration": 5,
    "start_time": "2023-03-20T07:35:24.873Z"
   },
   {
    "duration": 13,
    "start_time": "2023-03-20T07:35:44.167Z"
   },
   {
    "duration": 5,
    "start_time": "2023-03-20T07:39:06.785Z"
   },
   {
    "duration": 6,
    "start_time": "2023-03-20T07:39:10.471Z"
   },
   {
    "duration": 6,
    "start_time": "2023-03-20T07:39:49.937Z"
   },
   {
    "duration": 8,
    "start_time": "2023-03-20T07:39:51.953Z"
   },
   {
    "duration": 7,
    "start_time": "2023-03-20T07:39:52.729Z"
   },
   {
    "duration": 3,
    "start_time": "2023-03-20T07:40:09.991Z"
   },
   {
    "duration": 4,
    "start_time": "2023-03-20T07:41:34.962Z"
   },
   {
    "duration": 5,
    "start_time": "2023-03-20T07:41:35.777Z"
   },
   {
    "duration": 7,
    "start_time": "2023-03-20T07:42:02.813Z"
   },
   {
    "duration": 4,
    "start_time": "2023-03-20T07:42:15.120Z"
   },
   {
    "duration": 17,
    "start_time": "2023-03-20T07:42:38.313Z"
   },
   {
    "duration": 11,
    "start_time": "2023-03-20T07:42:48.121Z"
   },
   {
    "duration": 3,
    "start_time": "2023-03-20T07:43:56.059Z"
   },
   {
    "duration": 3,
    "start_time": "2023-03-20T07:43:56.759Z"
   },
   {
    "duration": 15,
    "start_time": "2023-03-20T07:43:57.609Z"
   },
   {
    "duration": 4,
    "start_time": "2023-03-20T07:44:15.155Z"
   },
   {
    "duration": 14,
    "start_time": "2023-03-20T07:44:15.832Z"
   },
   {
    "duration": 4,
    "start_time": "2023-03-20T07:48:04.289Z"
   },
   {
    "duration": 18,
    "start_time": "2023-03-20T07:48:05.103Z"
   },
   {
    "duration": 4,
    "start_time": "2023-03-20T07:48:13.547Z"
   },
   {
    "duration": 16313,
    "start_time": "2023-03-20T07:48:15.155Z"
   },
   {
    "duration": 5,
    "start_time": "2023-03-20T07:48:40.174Z"
   },
   {
    "duration": 5,
    "start_time": "2023-03-20T07:48:55.255Z"
   },
   {
    "duration": 5,
    "start_time": "2023-03-20T07:48:56.117Z"
   },
   {
    "duration": 5,
    "start_time": "2023-03-20T07:51:19.992Z"
   },
   {
    "duration": 5,
    "start_time": "2023-03-20T07:51:20.520Z"
   },
   {
    "duration": 21,
    "start_time": "2023-03-20T07:52:09.092Z"
   },
   {
    "duration": 9,
    "start_time": "2023-03-20T07:52:43.055Z"
   },
   {
    "duration": 5,
    "start_time": "2023-03-20T07:53:05.829Z"
   },
   {
    "duration": 5,
    "start_time": "2023-03-20T08:11:59.171Z"
   },
   {
    "duration": 33,
    "start_time": "2023-03-20T08:12:01.329Z"
   },
   {
    "duration": 68,
    "start_time": "2023-03-20T08:12:01.992Z"
   },
   {
    "duration": 10055,
    "start_time": "2023-03-20T08:12:02.696Z"
   },
   {
    "duration": 14,
    "start_time": "2023-03-20T08:12:12.754Z"
   },
   {
    "duration": 24,
    "start_time": "2023-03-20T08:12:12.770Z"
   },
   {
    "duration": 11,
    "start_time": "2023-03-20T08:12:12.797Z"
   },
   {
    "duration": 6,
    "start_time": "2023-03-20T08:12:18.589Z"
   },
   {
    "duration": 13,
    "start_time": "2023-03-20T08:12:22.137Z"
   },
   {
    "duration": 9,
    "start_time": "2023-03-20T08:12:25.013Z"
   },
   {
    "duration": 10,
    "start_time": "2023-03-20T08:14:12.635Z"
   },
   {
    "duration": 5,
    "start_time": "2023-03-20T08:15:58.784Z"
   },
   {
    "duration": 9,
    "start_time": "2023-03-20T08:16:53.021Z"
   },
   {
    "duration": 10,
    "start_time": "2023-03-20T08:18:03.436Z"
   },
   {
    "duration": 42,
    "start_time": "2023-03-20T08:18:21.651Z"
   }
  ],
  "kernelspec": {
   "display_name": "Python 3 (ipykernel)",
   "language": "python",
   "name": "python3"
  },
  "language_info": {
   "codemirror_mode": {
    "name": "ipython",
    "version": 3
   },
   "file_extension": ".py",
   "mimetype": "text/x-python",
   "name": "python",
   "nbconvert_exporter": "python",
   "pygments_lexer": "ipython3",
   "version": "3.9.13"
  },
  "toc": {
   "base_numbering": 1,
   "nav_menu": {},
   "number_sections": true,
   "sideBar": true,
   "skip_h1_title": true,
   "title_cell": "Содержание",
   "title_sidebar": "Contents",
   "toc_cell": true,
   "toc_position": {},
   "toc_section_display": true,
   "toc_window_display": false
  }
 },
 "nbformat": 4,
 "nbformat_minor": 2
}
