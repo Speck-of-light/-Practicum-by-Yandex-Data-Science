{
 "cells": [
  {
   "cell_type": "markdown",
   "metadata": {},
   "source": [
    "# Исследование объявлений о продаже квартир\n",
    "\n",
    "В вашем распоряжении данные сервиса Яндекс.Недвижимость — архив объявлений о продаже квартир в Санкт-Петербурге и соседних населённых пунктов за несколько лет. Нужно научиться определять рыночную стоимость объектов недвижимости. Это позволит построить автоматизированную систему: она отследит аномалии и мошенническую деятельность. \n"
   ]
  },
  {
   "cell_type": "markdown",
   "metadata": {},
   "source": [
    "На основе данных Яндекс.Недвижимость поведем исследование рынка недвижимости в Санкт-Петербурге и соседних населённых пунктах за несколько лет. .\n",
    "Цель исследования — проведение исследовательского анализа данных по ряду показателей:\n",
    "\n",
    "- Изучить, как быстро продавались квартиры. Выявить среднюю продолжительность продажи. Определить какие продажи можно считать быстрыми, а какие — необычно долгими.\n",
    " \n",
    "- Выявить факторы больше всего влияющие на стоимость объекта. \n",
    "\n",
    "- Расчитать среднюю цену одного квадратного метра в 10 населённых пунктах с наибольшим числом объявлений. Выделить населённые пункты с самой высокой и низкой стоимостью квадратного метра. \n",
    "\n",
    "- Вычислить как стоимость объектов зависит от расстояния до центра Санкт-Петербурга.\n",
    "\n",
    "Данные о поведении пользователей получены из файла real_estate_data.csv. \n",
    "\n",
    "Исследование пройдёт в три этапа:\n",
    "Обзор данных.\n",
    "Предобработка данных.\n",
    "Проведение исследовательского анализа данных"
   ]
  },
  {
   "cell_type": "markdown",
   "metadata": {},
   "source": [
    "### Откроем файл с данными и изучим общую информацию. "
   ]
  },
  {
   "cell_type": "code",
   "execution_count": 1,
   "metadata": {},
   "outputs": [
    {
     "data": {
      "text/html": [
       "<div>\n",
       "<style scoped>\n",
       "    .dataframe tbody tr th:only-of-type {\n",
       "        vertical-align: middle;\n",
       "    }\n",
       "\n",
       "    .dataframe tbody tr th {\n",
       "        vertical-align: top;\n",
       "    }\n",
       "\n",
       "    .dataframe thead th {\n",
       "        text-align: right;\n",
       "    }\n",
       "</style>\n",
       "<table border=\"1\" class=\"dataframe\">\n",
       "  <thead>\n",
       "    <tr style=\"text-align: right;\">\n",
       "      <th></th>\n",
       "      <th>total_images</th>\n",
       "      <th>last_price</th>\n",
       "      <th>total_area</th>\n",
       "      <th>first_day_exposition</th>\n",
       "      <th>rooms</th>\n",
       "      <th>ceiling_height</th>\n",
       "      <th>floors_total</th>\n",
       "      <th>living_area</th>\n",
       "      <th>floor</th>\n",
       "      <th>is_apartment</th>\n",
       "      <th>...</th>\n",
       "      <th>kitchen_area</th>\n",
       "      <th>balcony</th>\n",
       "      <th>locality_name</th>\n",
       "      <th>airports_nearest</th>\n",
       "      <th>cityCenters_nearest</th>\n",
       "      <th>parks_around3000</th>\n",
       "      <th>parks_nearest</th>\n",
       "      <th>ponds_around3000</th>\n",
       "      <th>ponds_nearest</th>\n",
       "      <th>days_exposition</th>\n",
       "    </tr>\n",
       "  </thead>\n",
       "  <tbody>\n",
       "    <tr>\n",
       "      <th>0</th>\n",
       "      <td>20</td>\n",
       "      <td>13000000.0</td>\n",
       "      <td>108.0</td>\n",
       "      <td>2019-03-07T00:00:00</td>\n",
       "      <td>3</td>\n",
       "      <td>2.70</td>\n",
       "      <td>16.0</td>\n",
       "      <td>51.0</td>\n",
       "      <td>8</td>\n",
       "      <td>NaN</td>\n",
       "      <td>...</td>\n",
       "      <td>25.0</td>\n",
       "      <td>NaN</td>\n",
       "      <td>Санкт-Петербург</td>\n",
       "      <td>18863.0</td>\n",
       "      <td>16028.0</td>\n",
       "      <td>1.0</td>\n",
       "      <td>482.0</td>\n",
       "      <td>2.0</td>\n",
       "      <td>755.0</td>\n",
       "      <td>NaN</td>\n",
       "    </tr>\n",
       "    <tr>\n",
       "      <th>1</th>\n",
       "      <td>7</td>\n",
       "      <td>3350000.0</td>\n",
       "      <td>40.4</td>\n",
       "      <td>2018-12-04T00:00:00</td>\n",
       "      <td>1</td>\n",
       "      <td>NaN</td>\n",
       "      <td>11.0</td>\n",
       "      <td>18.6</td>\n",
       "      <td>1</td>\n",
       "      <td>NaN</td>\n",
       "      <td>...</td>\n",
       "      <td>11.0</td>\n",
       "      <td>2.0</td>\n",
       "      <td>посёлок Шушары</td>\n",
       "      <td>12817.0</td>\n",
       "      <td>18603.0</td>\n",
       "      <td>0.0</td>\n",
       "      <td>NaN</td>\n",
       "      <td>0.0</td>\n",
       "      <td>NaN</td>\n",
       "      <td>81.0</td>\n",
       "    </tr>\n",
       "    <tr>\n",
       "      <th>2</th>\n",
       "      <td>10</td>\n",
       "      <td>5196000.0</td>\n",
       "      <td>56.0</td>\n",
       "      <td>2015-08-20T00:00:00</td>\n",
       "      <td>2</td>\n",
       "      <td>NaN</td>\n",
       "      <td>5.0</td>\n",
       "      <td>34.3</td>\n",
       "      <td>4</td>\n",
       "      <td>NaN</td>\n",
       "      <td>...</td>\n",
       "      <td>8.3</td>\n",
       "      <td>0.0</td>\n",
       "      <td>Санкт-Петербург</td>\n",
       "      <td>21741.0</td>\n",
       "      <td>13933.0</td>\n",
       "      <td>1.0</td>\n",
       "      <td>90.0</td>\n",
       "      <td>2.0</td>\n",
       "      <td>574.0</td>\n",
       "      <td>558.0</td>\n",
       "    </tr>\n",
       "    <tr>\n",
       "      <th>3</th>\n",
       "      <td>0</td>\n",
       "      <td>64900000.0</td>\n",
       "      <td>159.0</td>\n",
       "      <td>2015-07-24T00:00:00</td>\n",
       "      <td>3</td>\n",
       "      <td>NaN</td>\n",
       "      <td>14.0</td>\n",
       "      <td>NaN</td>\n",
       "      <td>9</td>\n",
       "      <td>NaN</td>\n",
       "      <td>...</td>\n",
       "      <td>NaN</td>\n",
       "      <td>0.0</td>\n",
       "      <td>Санкт-Петербург</td>\n",
       "      <td>28098.0</td>\n",
       "      <td>6800.0</td>\n",
       "      <td>2.0</td>\n",
       "      <td>84.0</td>\n",
       "      <td>3.0</td>\n",
       "      <td>234.0</td>\n",
       "      <td>424.0</td>\n",
       "    </tr>\n",
       "    <tr>\n",
       "      <th>4</th>\n",
       "      <td>2</td>\n",
       "      <td>10000000.0</td>\n",
       "      <td>100.0</td>\n",
       "      <td>2018-06-19T00:00:00</td>\n",
       "      <td>2</td>\n",
       "      <td>3.03</td>\n",
       "      <td>14.0</td>\n",
       "      <td>32.0</td>\n",
       "      <td>13</td>\n",
       "      <td>NaN</td>\n",
       "      <td>...</td>\n",
       "      <td>41.0</td>\n",
       "      <td>NaN</td>\n",
       "      <td>Санкт-Петербург</td>\n",
       "      <td>31856.0</td>\n",
       "      <td>8098.0</td>\n",
       "      <td>2.0</td>\n",
       "      <td>112.0</td>\n",
       "      <td>1.0</td>\n",
       "      <td>48.0</td>\n",
       "      <td>121.0</td>\n",
       "    </tr>\n",
       "  </tbody>\n",
       "</table>\n",
       "<p>5 rows × 22 columns</p>\n",
       "</div>"
      ],
      "text/plain": [
       "   total_images  last_price  total_area first_day_exposition  rooms  \\\n",
       "0            20  13000000.0       108.0  2019-03-07T00:00:00      3   \n",
       "1             7   3350000.0        40.4  2018-12-04T00:00:00      1   \n",
       "2            10   5196000.0        56.0  2015-08-20T00:00:00      2   \n",
       "3             0  64900000.0       159.0  2015-07-24T00:00:00      3   \n",
       "4             2  10000000.0       100.0  2018-06-19T00:00:00      2   \n",
       "\n",
       "   ceiling_height  floors_total  living_area  floor is_apartment  ...  \\\n",
       "0            2.70          16.0         51.0      8          NaN  ...   \n",
       "1             NaN          11.0         18.6      1          NaN  ...   \n",
       "2             NaN           5.0         34.3      4          NaN  ...   \n",
       "3             NaN          14.0          NaN      9          NaN  ...   \n",
       "4            3.03          14.0         32.0     13          NaN  ...   \n",
       "\n",
       "   kitchen_area  balcony    locality_name  airports_nearest  \\\n",
       "0          25.0      NaN  Санкт-Петербург           18863.0   \n",
       "1          11.0      2.0   посёлок Шушары           12817.0   \n",
       "2           8.3      0.0  Санкт-Петербург           21741.0   \n",
       "3           NaN      0.0  Санкт-Петербург           28098.0   \n",
       "4          41.0      NaN  Санкт-Петербург           31856.0   \n",
       "\n",
       "  cityCenters_nearest  parks_around3000  parks_nearest  ponds_around3000  \\\n",
       "0             16028.0               1.0          482.0               2.0   \n",
       "1             18603.0               0.0            NaN               0.0   \n",
       "2             13933.0               1.0           90.0               2.0   \n",
       "3              6800.0               2.0           84.0               3.0   \n",
       "4              8098.0               2.0          112.0               1.0   \n",
       "\n",
       "   ponds_nearest  days_exposition  \n",
       "0          755.0              NaN  \n",
       "1            NaN             81.0  \n",
       "2          574.0            558.0  \n",
       "3          234.0            424.0  \n",
       "4           48.0            121.0  \n",
       "\n",
       "[5 rows x 22 columns]"
      ]
     },
     "execution_count": 1,
     "metadata": {},
     "output_type": "execute_result"
    }
   ],
   "source": [
    "# импортируем библиотеки и загрузим датасет\n",
    "# рассмотрим первые 5 строк таблицы\n",
    "import pandas as pd\n",
    "import numpy as np\n",
    "import matplotlib.pyplot as plt\n",
    "import seaborn as sns\n",
    "\n",
    "import warnings\n",
    "warnings.filterwarnings(\"ignore\")\n",
    "\n",
    "data=pd.read_csv('/datasets/real_estate_data.csv', sep='\\t')\n",
    "data.head()"
   ]
  },
  {
   "cell_type": "markdown",
   "metadata": {},
   "source": [
    "Рассмотрим общую информацию о датасете"
   ]
  },
  {
   "cell_type": "code",
   "execution_count": 2,
   "metadata": {},
   "outputs": [
    {
     "name": "stdout",
     "output_type": "stream",
     "text": [
      "<class 'pandas.core.frame.DataFrame'>\n",
      "RangeIndex: 23699 entries, 0 to 23698\n",
      "Data columns (total 22 columns):\n",
      " #   Column                Non-Null Count  Dtype  \n",
      "---  ------                --------------  -----  \n",
      " 0   total_images          23699 non-null  int64  \n",
      " 1   last_price            23699 non-null  float64\n",
      " 2   total_area            23699 non-null  float64\n",
      " 3   first_day_exposition  23699 non-null  object \n",
      " 4   rooms                 23699 non-null  int64  \n",
      " 5   ceiling_height        14504 non-null  float64\n",
      " 6   floors_total          23613 non-null  float64\n",
      " 7   living_area           21796 non-null  float64\n",
      " 8   floor                 23699 non-null  int64  \n",
      " 9   is_apartment          2775 non-null   object \n",
      " 10  studio                23699 non-null  bool   \n",
      " 11  open_plan             23699 non-null  bool   \n",
      " 12  kitchen_area          21421 non-null  float64\n",
      " 13  balcony               12180 non-null  float64\n",
      " 14  locality_name         23650 non-null  object \n",
      " 15  airports_nearest      18157 non-null  float64\n",
      " 16  cityCenters_nearest   18180 non-null  float64\n",
      " 17  parks_around3000      18181 non-null  float64\n",
      " 18  parks_nearest         8079 non-null   float64\n",
      " 19  ponds_around3000      18181 non-null  float64\n",
      " 20  ponds_nearest         9110 non-null   float64\n",
      " 21  days_exposition       20518 non-null  float64\n",
      "dtypes: bool(2), float64(14), int64(3), object(3)\n",
      "memory usage: 3.7+ MB\n"
     ]
    },
    {
     "data": {
      "text/html": [
       "<div>\n",
       "<style scoped>\n",
       "    .dataframe tbody tr th:only-of-type {\n",
       "        vertical-align: middle;\n",
       "    }\n",
       "\n",
       "    .dataframe tbody tr th {\n",
       "        vertical-align: top;\n",
       "    }\n",
       "\n",
       "    .dataframe thead th {\n",
       "        text-align: right;\n",
       "    }\n",
       "</style>\n",
       "<table border=\"1\" class=\"dataframe\">\n",
       "  <thead>\n",
       "    <tr style=\"text-align: right;\">\n",
       "      <th></th>\n",
       "      <th>total_images</th>\n",
       "      <th>last_price</th>\n",
       "      <th>total_area</th>\n",
       "      <th>rooms</th>\n",
       "      <th>ceiling_height</th>\n",
       "      <th>floors_total</th>\n",
       "      <th>living_area</th>\n",
       "      <th>floor</th>\n",
       "      <th>kitchen_area</th>\n",
       "      <th>balcony</th>\n",
       "      <th>airports_nearest</th>\n",
       "      <th>cityCenters_nearest</th>\n",
       "      <th>parks_around3000</th>\n",
       "      <th>parks_nearest</th>\n",
       "      <th>ponds_around3000</th>\n",
       "      <th>ponds_nearest</th>\n",
       "      <th>days_exposition</th>\n",
       "    </tr>\n",
       "  </thead>\n",
       "  <tbody>\n",
       "    <tr>\n",
       "      <th>count</th>\n",
       "      <td>23699.000000</td>\n",
       "      <td>2.369900e+04</td>\n",
       "      <td>23699.000000</td>\n",
       "      <td>23699.000000</td>\n",
       "      <td>14504.000000</td>\n",
       "      <td>23613.000000</td>\n",
       "      <td>21796.000000</td>\n",
       "      <td>23699.000000</td>\n",
       "      <td>21421.000000</td>\n",
       "      <td>12180.000000</td>\n",
       "      <td>18157.000000</td>\n",
       "      <td>18180.000000</td>\n",
       "      <td>18181.000000</td>\n",
       "      <td>8079.000000</td>\n",
       "      <td>18181.000000</td>\n",
       "      <td>9110.000000</td>\n",
       "      <td>20518.000000</td>\n",
       "    </tr>\n",
       "    <tr>\n",
       "      <th>mean</th>\n",
       "      <td>9.858475</td>\n",
       "      <td>6.541549e+06</td>\n",
       "      <td>60.348651</td>\n",
       "      <td>2.070636</td>\n",
       "      <td>2.771499</td>\n",
       "      <td>10.673824</td>\n",
       "      <td>34.457852</td>\n",
       "      <td>5.892358</td>\n",
       "      <td>10.569807</td>\n",
       "      <td>1.150082</td>\n",
       "      <td>28793.672193</td>\n",
       "      <td>14191.277833</td>\n",
       "      <td>0.611408</td>\n",
       "      <td>490.804555</td>\n",
       "      <td>0.770255</td>\n",
       "      <td>517.980900</td>\n",
       "      <td>180.888634</td>\n",
       "    </tr>\n",
       "    <tr>\n",
       "      <th>std</th>\n",
       "      <td>5.682529</td>\n",
       "      <td>1.088701e+07</td>\n",
       "      <td>35.654083</td>\n",
       "      <td>1.078405</td>\n",
       "      <td>1.261056</td>\n",
       "      <td>6.597173</td>\n",
       "      <td>22.030445</td>\n",
       "      <td>4.885249</td>\n",
       "      <td>5.905438</td>\n",
       "      <td>1.071300</td>\n",
       "      <td>12630.880622</td>\n",
       "      <td>8608.386210</td>\n",
       "      <td>0.802074</td>\n",
       "      <td>342.317995</td>\n",
       "      <td>0.938346</td>\n",
       "      <td>277.720643</td>\n",
       "      <td>219.727988</td>\n",
       "    </tr>\n",
       "    <tr>\n",
       "      <th>min</th>\n",
       "      <td>0.000000</td>\n",
       "      <td>1.219000e+04</td>\n",
       "      <td>12.000000</td>\n",
       "      <td>0.000000</td>\n",
       "      <td>1.000000</td>\n",
       "      <td>1.000000</td>\n",
       "      <td>2.000000</td>\n",
       "      <td>1.000000</td>\n",
       "      <td>1.300000</td>\n",
       "      <td>0.000000</td>\n",
       "      <td>0.000000</td>\n",
       "      <td>181.000000</td>\n",
       "      <td>0.000000</td>\n",
       "      <td>1.000000</td>\n",
       "      <td>0.000000</td>\n",
       "      <td>13.000000</td>\n",
       "      <td>1.000000</td>\n",
       "    </tr>\n",
       "    <tr>\n",
       "      <th>25%</th>\n",
       "      <td>6.000000</td>\n",
       "      <td>3.400000e+06</td>\n",
       "      <td>40.000000</td>\n",
       "      <td>1.000000</td>\n",
       "      <td>2.520000</td>\n",
       "      <td>5.000000</td>\n",
       "      <td>18.600000</td>\n",
       "      <td>2.000000</td>\n",
       "      <td>7.000000</td>\n",
       "      <td>0.000000</td>\n",
       "      <td>18585.000000</td>\n",
       "      <td>9238.000000</td>\n",
       "      <td>0.000000</td>\n",
       "      <td>288.000000</td>\n",
       "      <td>0.000000</td>\n",
       "      <td>294.000000</td>\n",
       "      <td>45.000000</td>\n",
       "    </tr>\n",
       "    <tr>\n",
       "      <th>50%</th>\n",
       "      <td>9.000000</td>\n",
       "      <td>4.650000e+06</td>\n",
       "      <td>52.000000</td>\n",
       "      <td>2.000000</td>\n",
       "      <td>2.650000</td>\n",
       "      <td>9.000000</td>\n",
       "      <td>30.000000</td>\n",
       "      <td>4.000000</td>\n",
       "      <td>9.100000</td>\n",
       "      <td>1.000000</td>\n",
       "      <td>26726.000000</td>\n",
       "      <td>13098.500000</td>\n",
       "      <td>0.000000</td>\n",
       "      <td>455.000000</td>\n",
       "      <td>1.000000</td>\n",
       "      <td>502.000000</td>\n",
       "      <td>95.000000</td>\n",
       "    </tr>\n",
       "    <tr>\n",
       "      <th>75%</th>\n",
       "      <td>14.000000</td>\n",
       "      <td>6.800000e+06</td>\n",
       "      <td>69.900000</td>\n",
       "      <td>3.000000</td>\n",
       "      <td>2.800000</td>\n",
       "      <td>16.000000</td>\n",
       "      <td>42.300000</td>\n",
       "      <td>8.000000</td>\n",
       "      <td>12.000000</td>\n",
       "      <td>2.000000</td>\n",
       "      <td>37273.000000</td>\n",
       "      <td>16293.000000</td>\n",
       "      <td>1.000000</td>\n",
       "      <td>612.000000</td>\n",
       "      <td>1.000000</td>\n",
       "      <td>729.000000</td>\n",
       "      <td>232.000000</td>\n",
       "    </tr>\n",
       "    <tr>\n",
       "      <th>max</th>\n",
       "      <td>50.000000</td>\n",
       "      <td>7.630000e+08</td>\n",
       "      <td>900.000000</td>\n",
       "      <td>19.000000</td>\n",
       "      <td>100.000000</td>\n",
       "      <td>60.000000</td>\n",
       "      <td>409.700000</td>\n",
       "      <td>33.000000</td>\n",
       "      <td>112.000000</td>\n",
       "      <td>5.000000</td>\n",
       "      <td>84869.000000</td>\n",
       "      <td>65968.000000</td>\n",
       "      <td>3.000000</td>\n",
       "      <td>3190.000000</td>\n",
       "      <td>3.000000</td>\n",
       "      <td>1344.000000</td>\n",
       "      <td>1580.000000</td>\n",
       "    </tr>\n",
       "  </tbody>\n",
       "</table>\n",
       "</div>"
      ],
      "text/plain": [
       "       total_images    last_price    total_area         rooms  ceiling_height  \\\n",
       "count  23699.000000  2.369900e+04  23699.000000  23699.000000    14504.000000   \n",
       "mean       9.858475  6.541549e+06     60.348651      2.070636        2.771499   \n",
       "std        5.682529  1.088701e+07     35.654083      1.078405        1.261056   \n",
       "min        0.000000  1.219000e+04     12.000000      0.000000        1.000000   \n",
       "25%        6.000000  3.400000e+06     40.000000      1.000000        2.520000   \n",
       "50%        9.000000  4.650000e+06     52.000000      2.000000        2.650000   \n",
       "75%       14.000000  6.800000e+06     69.900000      3.000000        2.800000   \n",
       "max       50.000000  7.630000e+08    900.000000     19.000000      100.000000   \n",
       "\n",
       "       floors_total   living_area         floor  kitchen_area       balcony  \\\n",
       "count  23613.000000  21796.000000  23699.000000  21421.000000  12180.000000   \n",
       "mean      10.673824     34.457852      5.892358     10.569807      1.150082   \n",
       "std        6.597173     22.030445      4.885249      5.905438      1.071300   \n",
       "min        1.000000      2.000000      1.000000      1.300000      0.000000   \n",
       "25%        5.000000     18.600000      2.000000      7.000000      0.000000   \n",
       "50%        9.000000     30.000000      4.000000      9.100000      1.000000   \n",
       "75%       16.000000     42.300000      8.000000     12.000000      2.000000   \n",
       "max       60.000000    409.700000     33.000000    112.000000      5.000000   \n",
       "\n",
       "       airports_nearest  cityCenters_nearest  parks_around3000  parks_nearest  \\\n",
       "count      18157.000000         18180.000000      18181.000000    8079.000000   \n",
       "mean       28793.672193         14191.277833          0.611408     490.804555   \n",
       "std        12630.880622          8608.386210          0.802074     342.317995   \n",
       "min            0.000000           181.000000          0.000000       1.000000   \n",
       "25%        18585.000000          9238.000000          0.000000     288.000000   \n",
       "50%        26726.000000         13098.500000          0.000000     455.000000   \n",
       "75%        37273.000000         16293.000000          1.000000     612.000000   \n",
       "max        84869.000000         65968.000000          3.000000    3190.000000   \n",
       "\n",
       "       ponds_around3000  ponds_nearest  days_exposition  \n",
       "count      18181.000000    9110.000000     20518.000000  \n",
       "mean           0.770255     517.980900       180.888634  \n",
       "std            0.938346     277.720643       219.727988  \n",
       "min            0.000000      13.000000         1.000000  \n",
       "25%            0.000000     294.000000        45.000000  \n",
       "50%            1.000000     502.000000        95.000000  \n",
       "75%            1.000000     729.000000       232.000000  \n",
       "max            3.000000    1344.000000      1580.000000  "
      ]
     },
     "execution_count": 2,
     "metadata": {},
     "output_type": "execute_result"
    }
   ],
   "source": [
    "data.info()\n",
    "data.describe()"
   ]
  },
  {
   "cell_type": "code",
   "execution_count": 3,
   "metadata": {},
   "outputs": [
    {
     "data": {
      "image/png": "[encoded data removed]",
      "text/plain": [
       "<Figure size 1080x1440 with 20 Axes>"
      ]
     },
     "metadata": {
      "needs_background": "light"
     },
     "output_type": "display_data"
    }
   ],
   "source": [
    "data.hist(figsize=(15, 20));"
   ]
  },
  {
   "cell_type": "code",
   "execution_count": 4,
   "metadata": {},
   "outputs": [
    {
     "name": "stdout",
     "output_type": "stream",
     "text": [
      "Процент незаполненных ячеек в столбцах:\n",
      "\n",
      "ceiling_height - 38.8%\n",
      "floors_total - 0.36%\n",
      "living_area - 8.03%\n",
      "is_apartment - 88.29%\n",
      "kitchen_area - 9.61%\n",
      "balcony - 48.61%\n",
      "locality_name - 0.21%\n",
      "airports_nearest - 23.38%\n",
      "cityCenters_nearest - 23.29%\n",
      "parks_around3000 - 23.28%\n",
      "parks_nearest - 65.91%\n",
      "ponds_around3000 - 23.28%\n",
      "ponds_nearest - 61.56%\n",
      "days_exposition - 13.42%\n"
     ]
    }
   ],
   "source": [
    "# Оценим полноту данных\n",
    "mis_columns = data.columns[:21] \n",
    "print('Процент незаполненных ячеек в столбцах:')\n",
    "print()\n",
    "for mis_columns in data.columns:\n",
    "    pct_missing = np.mean(data[mis_columns].isnull())\n",
    "    if pct_missing != 0:\n",
    "        \n",
    "        print('{} - {}%'.format(mis_columns, round(pct_missing*100,2)))"
   ]
  },
  {
   "cell_type": "code",
   "execution_count": 5,
   "metadata": {},
   "outputs": [
    {
     "data": {
      "text/html": [
       "<style  type=\"text/css\" >\n",
       "#T_98505_row0_col0,#T_98505_row1_col0,#T_98505_row2_col0,#T_98505_row3_col0,#T_98505_row4_col0,#T_98505_row8_col0,#T_98505_row10_col0,#T_98505_row11_col0,#T_98505_row14_col0{\n",
       "            background-color:  #3b4cc0;\n",
       "            color:  #f1f1f1;\n",
       "        }#T_98505_row5_col0{\n",
       "            background-color:  #ccd9ed;\n",
       "            color:  #000000;\n",
       "        }#T_98505_row6_col0{\n",
       "            background-color:  #3c4ec2;\n",
       "            color:  #f1f1f1;\n",
       "        }#T_98505_row7_col0{\n",
       "            background-color:  #5673e0;\n",
       "            color:  #000000;\n",
       "        }#T_98505_row9_col0{\n",
       "            background-color:  #b40426;\n",
       "            color:  #f1f1f1;\n",
       "        }#T_98505_row12_col0{\n",
       "            background-color:  #5b7ae5;\n",
       "            color:  #000000;\n",
       "        }#T_98505_row13_col0{\n",
       "            background-color:  #e9d5cb;\n",
       "            color:  #000000;\n",
       "        }#T_98505_row15_col0,#T_98505_row16_col0,#T_98505_row17_col0,#T_98505_row19_col0{\n",
       "            background-color:  #92b4fe;\n",
       "            color:  #000000;\n",
       "        }#T_98505_row18_col0{\n",
       "            background-color:  #f49a7b;\n",
       "            color:  #000000;\n",
       "        }#T_98505_row20_col0{\n",
       "            background-color:  #f7ad90;\n",
       "            color:  #000000;\n",
       "        }#T_98505_row21_col0{\n",
       "            background-color:  #6a8bef;\n",
       "            color:  #000000;\n",
       "        }</style><table id=\"T_98505_\" ><thead>    <tr>        <th class=\"blank level0\" ></th>        <th class=\"col_heading level0 col0\" >0</th>    </tr></thead><tbody>\n",
       "                <tr>\n",
       "                        <th id=\"T_98505_level0_row0\" class=\"row_heading level0 row0\" >total_images</th>\n",
       "                        <td id=\"T_98505_row0_col0\" class=\"data row0 col0\" >0.000000</td>\n",
       "            </tr>\n",
       "            <tr>\n",
       "                        <th id=\"T_98505_level0_row1\" class=\"row_heading level0 row1\" >last_price</th>\n",
       "                        <td id=\"T_98505_row1_col0\" class=\"data row1 col0\" >0.000000</td>\n",
       "            </tr>\n",
       "            <tr>\n",
       "                        <th id=\"T_98505_level0_row2\" class=\"row_heading level0 row2\" >total_area</th>\n",
       "                        <td id=\"T_98505_row2_col0\" class=\"data row2 col0\" >0.000000</td>\n",
       "            </tr>\n",
       "            <tr>\n",
       "                        <th id=\"T_98505_level0_row3\" class=\"row_heading level0 row3\" >first_day_exposition</th>\n",
       "                        <td id=\"T_98505_row3_col0\" class=\"data row3 col0\" >0.000000</td>\n",
       "            </tr>\n",
       "            <tr>\n",
       "                        <th id=\"T_98505_level0_row4\" class=\"row_heading level0 row4\" >rooms</th>\n",
       "                        <td id=\"T_98505_row4_col0\" class=\"data row4 col0\" >0.000000</td>\n",
       "            </tr>\n",
       "            <tr>\n",
       "                        <th id=\"T_98505_level0_row5\" class=\"row_heading level0 row5\" >ceiling_height</th>\n",
       "                        <td id=\"T_98505_row5_col0\" class=\"data row5 col0\" >38.800000</td>\n",
       "            </tr>\n",
       "            <tr>\n",
       "                        <th id=\"T_98505_level0_row6\" class=\"row_heading level0 row6\" >floors_total</th>\n",
       "                        <td id=\"T_98505_row6_col0\" class=\"data row6 col0\" >0.400000</td>\n",
       "            </tr>\n",
       "            <tr>\n",
       "                        <th id=\"T_98505_level0_row7\" class=\"row_heading level0 row7\" >living_area</th>\n",
       "                        <td id=\"T_98505_row7_col0\" class=\"data row7 col0\" >8.000000</td>\n",
       "            </tr>\n",
       "            <tr>\n",
       "                        <th id=\"T_98505_level0_row8\" class=\"row_heading level0 row8\" >floor</th>\n",
       "                        <td id=\"T_98505_row8_col0\" class=\"data row8 col0\" >0.000000</td>\n",
       "            </tr>\n",
       "            <tr>\n",
       "                        <th id=\"T_98505_level0_row9\" class=\"row_heading level0 row9\" >is_apartment</th>\n",
       "                        <td id=\"T_98505_row9_col0\" class=\"data row9 col0\" >88.300000</td>\n",
       "            </tr>\n",
       "            <tr>\n",
       "                        <th id=\"T_98505_level0_row10\" class=\"row_heading level0 row10\" >studio</th>\n",
       "                        <td id=\"T_98505_row10_col0\" class=\"data row10 col0\" >0.000000</td>\n",
       "            </tr>\n",
       "            <tr>\n",
       "                        <th id=\"T_98505_level0_row11\" class=\"row_heading level0 row11\" >open_plan</th>\n",
       "                        <td id=\"T_98505_row11_col0\" class=\"data row11 col0\" >0.000000</td>\n",
       "            </tr>\n",
       "            <tr>\n",
       "                        <th id=\"T_98505_level0_row12\" class=\"row_heading level0 row12\" >kitchen_area</th>\n",
       "                        <td id=\"T_98505_row12_col0\" class=\"data row12 col0\" >9.600000</td>\n",
       "            </tr>\n",
       "            <tr>\n",
       "                        <th id=\"T_98505_level0_row13\" class=\"row_heading level0 row13\" >balcony</th>\n",
       "                        <td id=\"T_98505_row13_col0\" class=\"data row13 col0\" >48.600000</td>\n",
       "            </tr>\n",
       "            <tr>\n",
       "                        <th id=\"T_98505_level0_row14\" class=\"row_heading level0 row14\" >locality_name</th>\n",
       "                        <td id=\"T_98505_row14_col0\" class=\"data row14 col0\" >0.200000</td>\n",
       "            </tr>\n",
       "            <tr>\n",
       "                        <th id=\"T_98505_level0_row15\" class=\"row_heading level0 row15\" >airports_nearest</th>\n",
       "                        <td id=\"T_98505_row15_col0\" class=\"data row15 col0\" >23.400000</td>\n",
       "            </tr>\n",
       "            <tr>\n",
       "                        <th id=\"T_98505_level0_row16\" class=\"row_heading level0 row16\" >cityCenters_nearest</th>\n",
       "                        <td id=\"T_98505_row16_col0\" class=\"data row16 col0\" >23.300000</td>\n",
       "            </tr>\n",
       "            <tr>\n",
       "                        <th id=\"T_98505_level0_row17\" class=\"row_heading level0 row17\" >parks_around3000</th>\n",
       "                        <td id=\"T_98505_row17_col0\" class=\"data row17 col0\" >23.300000</td>\n",
       "            </tr>\n",
       "            <tr>\n",
       "                        <th id=\"T_98505_level0_row18\" class=\"row_heading level0 row18\" >parks_nearest</th>\n",
       "                        <td id=\"T_98505_row18_col0\" class=\"data row18 col0\" >65.900000</td>\n",
       "            </tr>\n",
       "            <tr>\n",
       "                        <th id=\"T_98505_level0_row19\" class=\"row_heading level0 row19\" >ponds_around3000</th>\n",
       "                        <td id=\"T_98505_row19_col0\" class=\"data row19 col0\" >23.300000</td>\n",
       "            </tr>\n",
       "            <tr>\n",
       "                        <th id=\"T_98505_level0_row20\" class=\"row_heading level0 row20\" >ponds_nearest</th>\n",
       "                        <td id=\"T_98505_row20_col0\" class=\"data row20 col0\" >61.600000</td>\n",
       "            </tr>\n",
       "            <tr>\n",
       "                        <th id=\"T_98505_level0_row21\" class=\"row_heading level0 row21\" >days_exposition</th>\n",
       "                        <td id=\"T_98505_row21_col0\" class=\"data row21 col0\" >13.400000</td>\n",
       "            </tr>\n",
       "    </tbody></table>"
      ],
      "text/plain": [
       "<pandas.io.formats.style.Styler at 0x7f2c5ad2c940>"
      ]
     },
     "execution_count": 5,
     "metadata": {},
     "output_type": "execute_result"
    }
   ],
   "source": [
    "pd.DataFrame(round(data.isna().mean()*100,1)).style.background_gradient('coolwarm')"
   ]
  },
  {
   "cell_type": "markdown",
   "metadata": {},
   "source": [
    "В датасете 23 699 строк и 22 столбца. \n",
    "В нкоторых столбцах есть пропущенные значения и некорректный тип данных. Есть значения, которые могут оказаться аномальными и требуют дополнительной проверки. \n"
   ]
  },
  {
   "cell_type": "code",
   "execution_count": 6,
   "metadata": {},
   "outputs": [],
   "source": [
    "#чтобы избежать повторяющихся действий создадим функцию для описания столбцов\n",
    "def description(column):\n",
    "    print('наименование столбца:',column)\n",
    "    print('тип данных:', data[column].dtypes)\n",
    "    print('пропущенно значений:',data[column].isna().sum())\n",
    "    if data[column].dtypes == 'object':\n",
    "        print('уникальные значения:', '\\n', data[column].value_counts())\n",
    "    else:\n",
    "        print('минимальное значение:',data[column].min())\n",
    "        print('максимальное значение:', data[column].max())\n"
   ]
  },
  {
   "cell_type": "markdown",
   "metadata": {},
   "source": [
    "### Предобработка данных"
   ]
  },
  {
   "cell_type": "markdown",
   "metadata": {},
   "source": [
    "Произведем обработку данных"
   ]
  },
  {
   "cell_type": "markdown",
   "metadata": {},
   "source": [
    "Переименуем колонки, чтобы привести их к единому виду"
   ]
  },
  {
   "cell_type": "code",
   "execution_count": 7,
   "metadata": {},
   "outputs": [
    {
     "data": {
      "text/plain": [
       "Index(['total_images', 'last_price', 'total_area', 'first_day_exposition',\n",
       "       'rooms', 'ceiling_height', 'floors_total', 'living_area', 'floor',\n",
       "       'is_apartment', 'studio', 'open_plan', 'kitchen_area', 'balcony',\n",
       "       'locality_name', 'airports_nearest', 'city_centers_nearest',\n",
       "       'parks_around_3000', 'parks_nearest', 'ponds_around_3000',\n",
       "       'ponds_nearest', 'days_exposition'],\n",
       "      dtype='object')"
      ]
     },
     "execution_count": 7,
     "metadata": {},
     "output_type": "execute_result"
    }
   ],
   "source": [
    "#переименование колонок (исправление стиля)\n",
    "data = data.rename(\n",
    "    columns={'parks_around3000':'parks_around_3000', \n",
    "             'ponds_around3000':'ponds_around_3000', \n",
    "             'cityCenters_nearest':'city_centers_nearest'})\n",
    "\n",
    "#проверим внесение изменений:\n",
    "data.columns"
   ]
  },
  {
   "cell_type": "markdown",
   "metadata": {},
   "source": [
    "Изменим формат данных и заполним пропуски 0 там, где это возможно."
   ]
  },
  {
   "cell_type": "code",
   "execution_count": 73,
   "metadata": {},
   "outputs": [],
   "source": [
    "#переведем столбец с датой в формат даты \n",
    "data['first_day_exposition'] = pd.to_datetime(data['first_day_exposition'], format = '%Y-%m-%d')"
   ]
  },
  {
   "cell_type": "code",
   "execution_count": 74,
   "metadata": {},
   "outputs": [],
   "source": [
    "# Приводим в целочисленный тип стоимость квартиры\n",
    "data['last_price'] = data['last_price'].astype(int)"
   ]
  },
  {
   "cell_type": "code",
   "execution_count": 75,
   "metadata": {},
   "outputs": [],
   "source": [
    "# Приводим в целочисленный тип колличество этажей\n",
    "# Заполним пропуски значениями из столбца floor\n",
    "data['floors_total'] = data['floors_total'].fillna(data['floor']).astype(int)"
   ]
  },
  {
   "cell_type": "code",
   "execution_count": 76,
   "metadata": {},
   "outputs": [],
   "source": [
    "# Заменим пропущенные значения на отрицание\n",
    "data['is_apartment'] = data['is_apartment'].fillna(value=False)"
   ]
  },
  {
   "cell_type": "code",
   "execution_count": 77,
   "metadata": {},
   "outputs": [],
   "source": [
    "# Заменим формат object на bool\n",
    "data['is_apartment'] = data['is_apartment'].astype('bool')"
   ]
  },
  {
   "cell_type": "code",
   "execution_count": 78,
   "metadata": {},
   "outputs": [],
   "source": [
    "# Приводим в целочисленный тип количество дней размещения объявления. Заменяем пропущенные значения на 0\n",
    "data['days_exposition'] = data['days_exposition'].fillna(value=0).astype(int)"
   ]
  },
  {
   "cell_type": "code",
   "execution_count": 79,
   "metadata": {},
   "outputs": [],
   "source": [
    "# Приводим в целочисленный тип количество балконов. Заменяем пропущенные значения на 0\n",
    "data['balcony'] = data['balcony'].fillna(value=0).astype(int)"
   ]
  },
  {
   "cell_type": "code",
   "execution_count": 80,
   "metadata": {},
   "outputs": [],
   "source": [
    "# Приводим в целочисленный тип количество парков. Заменяем пропущенные значения на 0\n",
    "data['parks_around_3000'] = data['parks_around_3000'].fillna(value=0).astype(int)"
   ]
  },
  {
   "cell_type": "code",
   "execution_count": 81,
   "metadata": {},
   "outputs": [],
   "source": [
    "# Приводим в целочисленный тип количество прудов. Заменяем пропущенные значения на 0\n",
    "data['ponds_around_3000'] = data['ponds_around_3000'].fillna(value=0).astype(int)"
   ]
  },
  {
   "cell_type": "code",
   "execution_count": 82,
   "metadata": {},
   "outputs": [],
   "source": [
    "# Удаляем записи, где отсутствует название населенного пункта\n",
    "data.dropna(subset=['locality_name'], inplace=True)"
   ]
  },
  {
   "cell_type": "markdown",
   "metadata": {},
   "source": [
    "Применим функцию для описания ко всем столбцам, чтобы оценить пропущенные данные и выявить аномалии."
   ]
  },
  {
   "cell_type": "code",
   "execution_count": 9,
   "metadata": {},
   "outputs": [
    {
     "name": "stdout",
     "output_type": "stream",
     "text": [
      "наименование столбца: total_images\n",
      "тип данных: int64\n",
      "пропущенно значений: 0\n",
      "минимальное значение: 0\n",
      "максимальное значение: 50\n",
      "**********\n",
      "наименование столбца: last_price\n",
      "тип данных: int64\n",
      "пропущенно значений: 0\n",
      "минимальное значение: 12190\n",
      "максимальное значение: 763000000\n",
      "**********\n",
      "наименование столбца: total_area\n",
      "тип данных: float64\n",
      "пропущенно значений: 0\n",
      "минимальное значение: 12.0\n",
      "максимальное значение: 900.0\n",
      "**********\n",
      "наименование столбца: first_day_exposition\n",
      "тип данных: datetime64[ns]\n",
      "пропущенно значений: 0\n",
      "минимальное значение: 2014-11-27 00:00:00\n",
      "максимальное значение: 2019-05-03 00:00:00\n",
      "**********\n",
      "наименование столбца: rooms\n",
      "тип данных: int64\n",
      "пропущенно значений: 0\n",
      "минимальное значение: 0\n",
      "максимальное значение: 19\n",
      "**********\n",
      "наименование столбца: ceiling_height\n",
      "тип данных: float64\n",
      "пропущенно значений: 9160\n",
      "минимальное значение: 1.0\n",
      "максимальное значение: 100.0\n",
      "**********\n",
      "наименование столбца: floors_total\n",
      "тип данных: int64\n",
      "пропущенно значений: 0\n",
      "минимальное значение: 1\n",
      "максимальное значение: 60\n",
      "**********\n",
      "наименование столбца: living_area\n",
      "тип данных: float64\n",
      "пропущенно значений: 1898\n",
      "минимальное значение: 2.0\n",
      "максимальное значение: 409.7\n",
      "**********\n",
      "наименование столбца: floor\n",
      "тип данных: int64\n",
      "пропущенно значений: 0\n",
      "минимальное значение: 1\n",
      "максимальное значение: 33\n",
      "**********\n",
      "наименование столбца: is_apartment\n",
      "тип данных: bool\n",
      "пропущенно значений: 0\n",
      "минимальное значение: False\n",
      "максимальное значение: True\n",
      "**********\n",
      "наименование столбца: studio\n",
      "тип данных: bool\n",
      "пропущенно значений: 0\n",
      "минимальное значение: False\n",
      "максимальное значение: True\n",
      "**********\n",
      "наименование столбца: open_plan\n",
      "тип данных: bool\n",
      "пропущенно значений: 0\n",
      "минимальное значение: False\n",
      "максимальное значение: True\n",
      "**********\n",
      "наименование столбца: kitchen_area\n",
      "тип данных: float64\n",
      "пропущенно значений: 2269\n",
      "минимальное значение: 1.3\n",
      "максимальное значение: 112.0\n",
      "**********\n",
      "наименование столбца: balcony\n",
      "тип данных: int64\n",
      "пропущенно значений: 0\n",
      "минимальное значение: 0\n",
      "максимальное значение: 5\n",
      "**********\n",
      "наименование столбца: locality_name\n",
      "тип данных: object\n",
      "пропущенно значений: 0\n",
      "уникальные значения: \n",
      " Санкт-Петербург                       15721\n",
      "посёлок Мурино                          522\n",
      "посёлок Шушары                          440\n",
      "Всеволожск                              398\n",
      "Пушкин                                  369\n",
      "                                      ...  \n",
      "садовое товарищество Приладожский         1\n",
      "деревня Рапполово                         1\n",
      "село Шум                                  1\n",
      "деревня Новолисино                        1\n",
      "коттеджный поселок Кивеннапа Север        1\n",
      "Name: locality_name, Length: 364, dtype: int64\n",
      "**********\n",
      "наименование столбца: airports_nearest\n",
      "тип данных: float64\n",
      "пропущенно значений: 5534\n",
      "минимальное значение: 0.0\n",
      "максимальное значение: 84869.0\n",
      "**********\n",
      "наименование столбца: city_centers_nearest\n",
      "тип данных: float64\n",
      "пропущенно значений: 5511\n",
      "минимальное значение: 181.0\n",
      "максимальное значение: 65968.0\n",
      "**********\n",
      "наименование столбца: parks_around_3000\n",
      "тип данных: int64\n",
      "пропущенно значений: 0\n",
      "минимальное значение: 0\n",
      "максимальное значение: 3\n",
      "**********\n",
      "наименование столбца: parks_nearest\n",
      "тип данных: float64\n",
      "пропущенно значений: 15586\n",
      "минимальное значение: 1.0\n",
      "максимальное значение: 3190.0\n",
      "**********\n",
      "наименование столбца: ponds_around_3000\n",
      "тип данных: int64\n",
      "пропущенно значений: 0\n",
      "минимальное значение: 0\n",
      "максимальное значение: 3\n",
      "**********\n",
      "наименование столбца: ponds_nearest\n",
      "тип данных: float64\n",
      "пропущенно значений: 14565\n",
      "минимальное значение: 13.0\n",
      "максимальное значение: 1344.0\n",
      "**********\n",
      "наименование столбца: days_exposition\n",
      "тип данных: int64\n",
      "пропущенно значений: 0\n",
      "минимальное значение: 0\n",
      "максимальное значение: 1580\n",
      "**********\n"
     ]
    }
   ],
   "source": [
    "for i in data:\n",
    "   description(i)\n",
    "   print('*' * 10)"
   ]
  },
  {
   "cell_type": "markdown",
   "metadata": {},
   "source": [
    "В столбце last_price аномально низкое минимальное значение 12190, вероятно цена записанна в тыс. руб."
   ]
  },
  {
   "cell_type": "code",
   "execution_count": 10,
   "metadata": {},
   "outputs": [
    {
     "data": {
      "text/html": [
       "<div>\n",
       "<style scoped>\n",
       "    .dataframe tbody tr th:only-of-type {\n",
       "        vertical-align: middle;\n",
       "    }\n",
       "\n",
       "    .dataframe tbody tr th {\n",
       "        vertical-align: top;\n",
       "    }\n",
       "\n",
       "    .dataframe thead th {\n",
       "        text-align: right;\n",
       "    }\n",
       "</style>\n",
       "<table border=\"1\" class=\"dataframe\">\n",
       "  <thead>\n",
       "    <tr style=\"text-align: right;\">\n",
       "      <th></th>\n",
       "      <th>total_images</th>\n",
       "      <th>last_price</th>\n",
       "      <th>total_area</th>\n",
       "      <th>first_day_exposition</th>\n",
       "      <th>rooms</th>\n",
       "      <th>ceiling_height</th>\n",
       "      <th>floors_total</th>\n",
       "      <th>living_area</th>\n",
       "      <th>floor</th>\n",
       "      <th>is_apartment</th>\n",
       "      <th>...</th>\n",
       "      <th>kitchen_area</th>\n",
       "      <th>balcony</th>\n",
       "      <th>locality_name</th>\n",
       "      <th>airports_nearest</th>\n",
       "      <th>city_centers_nearest</th>\n",
       "      <th>parks_around_3000</th>\n",
       "      <th>parks_nearest</th>\n",
       "      <th>ponds_around_3000</th>\n",
       "      <th>ponds_nearest</th>\n",
       "      <th>days_exposition</th>\n",
       "    </tr>\n",
       "  </thead>\n",
       "  <tbody>\n",
       "    <tr>\n",
       "      <th>8793</th>\n",
       "      <td>7</td>\n",
       "      <td>12190</td>\n",
       "      <td>109.0</td>\n",
       "      <td>2019-03-20</td>\n",
       "      <td>2</td>\n",
       "      <td>2.75</td>\n",
       "      <td>25</td>\n",
       "      <td>32.0</td>\n",
       "      <td>25</td>\n",
       "      <td>False</td>\n",
       "      <td>...</td>\n",
       "      <td>40.5</td>\n",
       "      <td>0</td>\n",
       "      <td>Санкт-Петербург</td>\n",
       "      <td>36421.0</td>\n",
       "      <td>9176.0</td>\n",
       "      <td>1</td>\n",
       "      <td>805.0</td>\n",
       "      <td>0</td>\n",
       "      <td>NaN</td>\n",
       "      <td>8</td>\n",
       "    </tr>\n",
       "  </tbody>\n",
       "</table>\n",
       "<p>1 rows × 22 columns</p>\n",
       "</div>"
      ],
      "text/plain": [
       "      total_images  last_price  total_area first_day_exposition  rooms  \\\n",
       "8793             7       12190       109.0           2019-03-20      2   \n",
       "\n",
       "      ceiling_height  floors_total  living_area  floor  is_apartment  ...  \\\n",
       "8793            2.75            25         32.0     25         False  ...   \n",
       "\n",
       "      kitchen_area  balcony    locality_name  airports_nearest  \\\n",
       "8793          40.5        0  Санкт-Петербург           36421.0   \n",
       "\n",
       "     city_centers_nearest  parks_around_3000  parks_nearest  \\\n",
       "8793               9176.0                  1          805.0   \n",
       "\n",
       "      ponds_around_3000  ponds_nearest  days_exposition  \n",
       "8793                  0            NaN                8  \n",
       "\n",
       "[1 rows x 22 columns]"
      ]
     },
     "execution_count": 10,
     "metadata": {},
     "output_type": "execute_result"
    }
   ],
   "source": [
    "data.loc[(data['last_price']<1000000)& (data['locality_name']=='Санкт-Петербург' )]"
   ]
  },
  {
   "cell_type": "code",
   "execution_count": 11,
   "metadata": {},
   "outputs": [
    {
     "data": {
      "text/html": [
       "<div>\n",
       "<style scoped>\n",
       "    .dataframe tbody tr th:only-of-type {\n",
       "        vertical-align: middle;\n",
       "    }\n",
       "\n",
       "    .dataframe tbody tr th {\n",
       "        vertical-align: top;\n",
       "    }\n",
       "\n",
       "    .dataframe thead th {\n",
       "        text-align: right;\n",
       "    }\n",
       "</style>\n",
       "<table border=\"1\" class=\"dataframe\">\n",
       "  <thead>\n",
       "    <tr style=\"text-align: right;\">\n",
       "      <th></th>\n",
       "      <th>total_images</th>\n",
       "      <th>last_price</th>\n",
       "      <th>total_area</th>\n",
       "      <th>first_day_exposition</th>\n",
       "      <th>rooms</th>\n",
       "      <th>ceiling_height</th>\n",
       "      <th>floors_total</th>\n",
       "      <th>living_area</th>\n",
       "      <th>floor</th>\n",
       "      <th>is_apartment</th>\n",
       "      <th>...</th>\n",
       "      <th>kitchen_area</th>\n",
       "      <th>balcony</th>\n",
       "      <th>locality_name</th>\n",
       "      <th>airports_nearest</th>\n",
       "      <th>city_centers_nearest</th>\n",
       "      <th>parks_around_3000</th>\n",
       "      <th>parks_nearest</th>\n",
       "      <th>ponds_around_3000</th>\n",
       "      <th>ponds_nearest</th>\n",
       "      <th>days_exposition</th>\n",
       "    </tr>\n",
       "  </thead>\n",
       "  <tbody>\n",
       "  </tbody>\n",
       "</table>\n",
       "<p>0 rows × 22 columns</p>\n",
       "</div>"
      ],
      "text/plain": [
       "Empty DataFrame\n",
       "Columns: [total_images, last_price, total_area, first_day_exposition, rooms, ceiling_height, floors_total, living_area, floor, is_apartment, studio, open_plan, kitchen_area, balcony, locality_name, airports_nearest, city_centers_nearest, parks_around_3000, parks_nearest, ponds_around_3000, ponds_nearest, days_exposition]\n",
       "Index: []\n",
       "\n",
       "[0 rows x 22 columns]"
      ]
     },
     "execution_count": 11,
     "metadata": {},
     "output_type": "execute_result"
    }
   ],
   "source": [
    "data.loc[8793, 'last_price'] = 12190000\n",
    "data.loc[(data['last_price']<1000000)& (data['locality_name']=='Санкт-Петербург' )]"
   ]
  },
  {
   "cell_type": "code",
   "execution_count": 12,
   "metadata": {},
   "outputs": [
    {
     "data": {
      "image/png": "[encoded data removed]",
      "text/plain": [
       "<Figure size 432x288 with 1 Axes>"
      ]
     },
     "metadata": {
      "needs_background": "light"
     },
     "output_type": "display_data"
    }
   ],
   "source": [
    "data.plot(y = 'last_price', kind = 'hist', bins = 20, grid = True);"
   ]
  },
  {
   "cell_type": "markdown",
   "metadata": {},
   "source": [
    "В столбце rooms минимальный показатель равен 0. Вероятно так обозначены студии и квартиры с открытой планировкой. Проверим данную гипотезу."
   ]
  },
  {
   "cell_type": "code",
   "execution_count": 13,
   "metadata": {},
   "outputs": [
    {
     "data": {
      "text/html": [
       "<div>\n",
       "<style scoped>\n",
       "    .dataframe tbody tr th:only-of-type {\n",
       "        vertical-align: middle;\n",
       "    }\n",
       "\n",
       "    .dataframe tbody tr th {\n",
       "        vertical-align: top;\n",
       "    }\n",
       "\n",
       "    .dataframe thead th {\n",
       "        text-align: right;\n",
       "    }\n",
       "</style>\n",
       "<table border=\"1\" class=\"dataframe\">\n",
       "  <thead>\n",
       "    <tr style=\"text-align: right;\">\n",
       "      <th></th>\n",
       "      <th>total_images</th>\n",
       "      <th>last_price</th>\n",
       "      <th>total_area</th>\n",
       "      <th>first_day_exposition</th>\n",
       "      <th>rooms</th>\n",
       "      <th>ceiling_height</th>\n",
       "      <th>floors_total</th>\n",
       "      <th>living_area</th>\n",
       "      <th>floor</th>\n",
       "      <th>is_apartment</th>\n",
       "      <th>...</th>\n",
       "      <th>kitchen_area</th>\n",
       "      <th>balcony</th>\n",
       "      <th>locality_name</th>\n",
       "      <th>airports_nearest</th>\n",
       "      <th>city_centers_nearest</th>\n",
       "      <th>parks_around_3000</th>\n",
       "      <th>parks_nearest</th>\n",
       "      <th>ponds_around_3000</th>\n",
       "      <th>ponds_nearest</th>\n",
       "      <th>days_exposition</th>\n",
       "    </tr>\n",
       "  </thead>\n",
       "  <tbody>\n",
       "    <tr>\n",
       "      <th>144</th>\n",
       "      <td>1</td>\n",
       "      <td>2450000</td>\n",
       "      <td>27.00</td>\n",
       "      <td>2017-03-30</td>\n",
       "      <td>0</td>\n",
       "      <td>NaN</td>\n",
       "      <td>24</td>\n",
       "      <td>15.50</td>\n",
       "      <td>2</td>\n",
       "      <td>False</td>\n",
       "      <td>...</td>\n",
       "      <td>NaN</td>\n",
       "      <td>2</td>\n",
       "      <td>посёлок Мурино</td>\n",
       "      <td>NaN</td>\n",
       "      <td>NaN</td>\n",
       "      <td>0</td>\n",
       "      <td>NaN</td>\n",
       "      <td>0</td>\n",
       "      <td>NaN</td>\n",
       "      <td>181</td>\n",
       "    </tr>\n",
       "    <tr>\n",
       "      <th>349</th>\n",
       "      <td>4</td>\n",
       "      <td>2320000</td>\n",
       "      <td>25.00</td>\n",
       "      <td>2017-09-27</td>\n",
       "      <td>0</td>\n",
       "      <td>NaN</td>\n",
       "      <td>14</td>\n",
       "      <td>17.00</td>\n",
       "      <td>1</td>\n",
       "      <td>False</td>\n",
       "      <td>...</td>\n",
       "      <td>NaN</td>\n",
       "      <td>0</td>\n",
       "      <td>деревня Кудрово</td>\n",
       "      <td>NaN</td>\n",
       "      <td>NaN</td>\n",
       "      <td>0</td>\n",
       "      <td>NaN</td>\n",
       "      <td>0</td>\n",
       "      <td>NaN</td>\n",
       "      <td>45</td>\n",
       "    </tr>\n",
       "    <tr>\n",
       "      <th>440</th>\n",
       "      <td>8</td>\n",
       "      <td>2480000</td>\n",
       "      <td>27.11</td>\n",
       "      <td>2018-03-12</td>\n",
       "      <td>0</td>\n",
       "      <td>NaN</td>\n",
       "      <td>17</td>\n",
       "      <td>24.75</td>\n",
       "      <td>4</td>\n",
       "      <td>False</td>\n",
       "      <td>...</td>\n",
       "      <td>NaN</td>\n",
       "      <td>2</td>\n",
       "      <td>Санкт-Петербург</td>\n",
       "      <td>38171.0</td>\n",
       "      <td>15015.0</td>\n",
       "      <td>0</td>\n",
       "      <td>NaN</td>\n",
       "      <td>2</td>\n",
       "      <td>982.0</td>\n",
       "      <td>64</td>\n",
       "    </tr>\n",
       "    <tr>\n",
       "      <th>508</th>\n",
       "      <td>0</td>\n",
       "      <td>3375000</td>\n",
       "      <td>34.40</td>\n",
       "      <td>2017-03-28</td>\n",
       "      <td>0</td>\n",
       "      <td>NaN</td>\n",
       "      <td>26</td>\n",
       "      <td>24.30</td>\n",
       "      <td>19</td>\n",
       "      <td>False</td>\n",
       "      <td>...</td>\n",
       "      <td>NaN</td>\n",
       "      <td>1</td>\n",
       "      <td>посёлок Парголово</td>\n",
       "      <td>53115.0</td>\n",
       "      <td>19292.0</td>\n",
       "      <td>0</td>\n",
       "      <td>NaN</td>\n",
       "      <td>1</td>\n",
       "      <td>593.0</td>\n",
       "      <td>430</td>\n",
       "    </tr>\n",
       "    <tr>\n",
       "      <th>608</th>\n",
       "      <td>2</td>\n",
       "      <td>1850000</td>\n",
       "      <td>25.00</td>\n",
       "      <td>2019-02-20</td>\n",
       "      <td>0</td>\n",
       "      <td>NaN</td>\n",
       "      <td>10</td>\n",
       "      <td>NaN</td>\n",
       "      <td>7</td>\n",
       "      <td>False</td>\n",
       "      <td>...</td>\n",
       "      <td>NaN</td>\n",
       "      <td>0</td>\n",
       "      <td>посёлок Шушары</td>\n",
       "      <td>NaN</td>\n",
       "      <td>NaN</td>\n",
       "      <td>0</td>\n",
       "      <td>NaN</td>\n",
       "      <td>0</td>\n",
       "      <td>NaN</td>\n",
       "      <td>29</td>\n",
       "    </tr>\n",
       "    <tr>\n",
       "      <th>...</th>\n",
       "      <td>...</td>\n",
       "      <td>...</td>\n",
       "      <td>...</td>\n",
       "      <td>...</td>\n",
       "      <td>...</td>\n",
       "      <td>...</td>\n",
       "      <td>...</td>\n",
       "      <td>...</td>\n",
       "      <td>...</td>\n",
       "      <td>...</td>\n",
       "      <td>...</td>\n",
       "      <td>...</td>\n",
       "      <td>...</td>\n",
       "      <td>...</td>\n",
       "      <td>...</td>\n",
       "      <td>...</td>\n",
       "      <td>...</td>\n",
       "      <td>...</td>\n",
       "      <td>...</td>\n",
       "      <td>...</td>\n",
       "      <td>...</td>\n",
       "    </tr>\n",
       "    <tr>\n",
       "      <th>23210</th>\n",
       "      <td>7</td>\n",
       "      <td>3200000</td>\n",
       "      <td>26.00</td>\n",
       "      <td>2017-09-01</td>\n",
       "      <td>0</td>\n",
       "      <td>NaN</td>\n",
       "      <td>25</td>\n",
       "      <td>18.00</td>\n",
       "      <td>16</td>\n",
       "      <td>False</td>\n",
       "      <td>...</td>\n",
       "      <td>NaN</td>\n",
       "      <td>0</td>\n",
       "      <td>Санкт-Петербург</td>\n",
       "      <td>11405.0</td>\n",
       "      <td>13222.0</td>\n",
       "      <td>0</td>\n",
       "      <td>NaN</td>\n",
       "      <td>1</td>\n",
       "      <td>623.0</td>\n",
       "      <td>14</td>\n",
       "    </tr>\n",
       "    <tr>\n",
       "      <th>23442</th>\n",
       "      <td>0</td>\n",
       "      <td>2500000</td>\n",
       "      <td>27.70</td>\n",
       "      <td>2017-09-28</td>\n",
       "      <td>0</td>\n",
       "      <td>NaN</td>\n",
       "      <td>24</td>\n",
       "      <td>18.00</td>\n",
       "      <td>4</td>\n",
       "      <td>False</td>\n",
       "      <td>...</td>\n",
       "      <td>NaN</td>\n",
       "      <td>2</td>\n",
       "      <td>посёлок Мурино</td>\n",
       "      <td>NaN</td>\n",
       "      <td>NaN</td>\n",
       "      <td>0</td>\n",
       "      <td>NaN</td>\n",
       "      <td>0</td>\n",
       "      <td>NaN</td>\n",
       "      <td>4</td>\n",
       "    </tr>\n",
       "    <tr>\n",
       "      <th>23554</th>\n",
       "      <td>15</td>\n",
       "      <td>3350000</td>\n",
       "      <td>26.00</td>\n",
       "      <td>2018-09-07</td>\n",
       "      <td>0</td>\n",
       "      <td>NaN</td>\n",
       "      <td>19</td>\n",
       "      <td>NaN</td>\n",
       "      <td>8</td>\n",
       "      <td>False</td>\n",
       "      <td>...</td>\n",
       "      <td>NaN</td>\n",
       "      <td>0</td>\n",
       "      <td>Санкт-Петербург</td>\n",
       "      <td>18090.0</td>\n",
       "      <td>17092.0</td>\n",
       "      <td>0</td>\n",
       "      <td>NaN</td>\n",
       "      <td>2</td>\n",
       "      <td>112.0</td>\n",
       "      <td>31</td>\n",
       "    </tr>\n",
       "    <tr>\n",
       "      <th>23592</th>\n",
       "      <td>10</td>\n",
       "      <td>1450000</td>\n",
       "      <td>29.00</td>\n",
       "      <td>2017-11-11</td>\n",
       "      <td>0</td>\n",
       "      <td>NaN</td>\n",
       "      <td>9</td>\n",
       "      <td>18.00</td>\n",
       "      <td>8</td>\n",
       "      <td>False</td>\n",
       "      <td>...</td>\n",
       "      <td>NaN</td>\n",
       "      <td>2</td>\n",
       "      <td>Никольское</td>\n",
       "      <td>NaN</td>\n",
       "      <td>NaN</td>\n",
       "      <td>0</td>\n",
       "      <td>NaN</td>\n",
       "      <td>0</td>\n",
       "      <td>NaN</td>\n",
       "      <td>82</td>\n",
       "    </tr>\n",
       "    <tr>\n",
       "      <th>23637</th>\n",
       "      <td>8</td>\n",
       "      <td>2350000</td>\n",
       "      <td>26.00</td>\n",
       "      <td>2018-06-26</td>\n",
       "      <td>0</td>\n",
       "      <td>NaN</td>\n",
       "      <td>25</td>\n",
       "      <td>17.00</td>\n",
       "      <td>4</td>\n",
       "      <td>False</td>\n",
       "      <td>...</td>\n",
       "      <td>NaN</td>\n",
       "      <td>2</td>\n",
       "      <td>посёлок Бугры</td>\n",
       "      <td>NaN</td>\n",
       "      <td>NaN</td>\n",
       "      <td>0</td>\n",
       "      <td>NaN</td>\n",
       "      <td>0</td>\n",
       "      <td>NaN</td>\n",
       "      <td>207</td>\n",
       "    </tr>\n",
       "  </tbody>\n",
       "</table>\n",
       "<p>197 rows × 22 columns</p>\n",
       "</div>"
      ],
      "text/plain": [
       "       total_images  last_price  total_area first_day_exposition  rooms  \\\n",
       "144               1     2450000       27.00           2017-03-30      0   \n",
       "349               4     2320000       25.00           2017-09-27      0   \n",
       "440               8     2480000       27.11           2018-03-12      0   \n",
       "508               0     3375000       34.40           2017-03-28      0   \n",
       "608               2     1850000       25.00           2019-02-20      0   \n",
       "...             ...         ...         ...                  ...    ...   \n",
       "23210             7     3200000       26.00           2017-09-01      0   \n",
       "23442             0     2500000       27.70           2017-09-28      0   \n",
       "23554            15     3350000       26.00           2018-09-07      0   \n",
       "23592            10     1450000       29.00           2017-11-11      0   \n",
       "23637             8     2350000       26.00           2018-06-26      0   \n",
       "\n",
       "       ceiling_height  floors_total  living_area  floor  is_apartment  ...  \\\n",
       "144               NaN            24        15.50      2         False  ...   \n",
       "349               NaN            14        17.00      1         False  ...   \n",
       "440               NaN            17        24.75      4         False  ...   \n",
       "508               NaN            26        24.30     19         False  ...   \n",
       "608               NaN            10          NaN      7         False  ...   \n",
       "...               ...           ...          ...    ...           ...  ...   \n",
       "23210             NaN            25        18.00     16         False  ...   \n",
       "23442             NaN            24        18.00      4         False  ...   \n",
       "23554             NaN            19          NaN      8         False  ...   \n",
       "23592             NaN             9        18.00      8         False  ...   \n",
       "23637             NaN            25        17.00      4         False  ...   \n",
       "\n",
       "       kitchen_area  balcony      locality_name  airports_nearest  \\\n",
       "144             NaN        2     посёлок Мурино               NaN   \n",
       "349             NaN        0    деревня Кудрово               NaN   \n",
       "440             NaN        2    Санкт-Петербург           38171.0   \n",
       "508             NaN        1  посёлок Парголово           53115.0   \n",
       "608             NaN        0     посёлок Шушары               NaN   \n",
       "...             ...      ...                ...               ...   \n",
       "23210           NaN        0    Санкт-Петербург           11405.0   \n",
       "23442           NaN        2     посёлок Мурино               NaN   \n",
       "23554           NaN        0    Санкт-Петербург           18090.0   \n",
       "23592           NaN        2         Никольское               NaN   \n",
       "23637           NaN        2      посёлок Бугры               NaN   \n",
       "\n",
       "      city_centers_nearest  parks_around_3000  parks_nearest  \\\n",
       "144                    NaN                  0            NaN   \n",
       "349                    NaN                  0            NaN   \n",
       "440                15015.0                  0            NaN   \n",
       "508                19292.0                  0            NaN   \n",
       "608                    NaN                  0            NaN   \n",
       "...                    ...                ...            ...   \n",
       "23210              13222.0                  0            NaN   \n",
       "23442                  NaN                  0            NaN   \n",
       "23554              17092.0                  0            NaN   \n",
       "23592                  NaN                  0            NaN   \n",
       "23637                  NaN                  0            NaN   \n",
       "\n",
       "       ponds_around_3000  ponds_nearest  days_exposition  \n",
       "144                    0            NaN              181  \n",
       "349                    0            NaN               45  \n",
       "440                    2          982.0               64  \n",
       "508                    1          593.0              430  \n",
       "608                    0            NaN               29  \n",
       "...                  ...            ...              ...  \n",
       "23210                  1          623.0               14  \n",
       "23442                  0            NaN                4  \n",
       "23554                  2          112.0               31  \n",
       "23592                  0            NaN               82  \n",
       "23637                  0            NaN              207  \n",
       "\n",
       "[197 rows x 22 columns]"
      ]
     },
     "execution_count": 13,
     "metadata": {},
     "output_type": "execute_result"
    }
   ],
   "source": [
    "data.loc[(data['rooms']== 0)&((data['studio']== True)|(data['open_plan']== True))]"
   ]
  },
  {
   "cell_type": "markdown",
   "metadata": {},
   "source": [
    "Действительно все О показатели относятся к кравтирам-студиям или к открытой планировке. Но, действует ли это правило в обратном случае?"
   ]
  },
  {
   "cell_type": "code",
   "execution_count": 14,
   "metadata": {},
   "outputs": [
    {
     "data": {
      "text/plain": [
       "studio  rooms\n",
       "False   1        8025\n",
       "        2        7924\n",
       "        3        5797\n",
       "        4        1175\n",
       "        5         326\n",
       "        6         105\n",
       "        0          59\n",
       "        7          59\n",
       "        8          12\n",
       "        9           8\n",
       "        10          3\n",
       "        11          2\n",
       "        14          2\n",
       "        12          1\n",
       "        15          1\n",
       "        16          1\n",
       "        19          1\n",
       "True    0         138\n",
       "        1          11\n",
       "Name: rooms, dtype: int64"
      ]
     },
     "execution_count": 14,
     "metadata": {},
     "output_type": "execute_result"
    }
   ],
   "source": [
    "data.groupby('studio')['rooms'].value_counts()"
   ]
  },
  {
   "cell_type": "markdown",
   "metadata": {},
   "source": [
    "Видим, что у 11 квартир указанно колличество комнат равное 1. Для единообразия - заменим этот показатель на 0."
   ]
  },
  {
   "cell_type": "code",
   "execution_count": 15,
   "metadata": {},
   "outputs": [
    {
     "data": {
      "text/plain": [
       "0    149\n",
       "Name: rooms, dtype: int64"
      ]
     },
     "execution_count": 15,
     "metadata": {},
     "output_type": "execute_result"
    }
   ],
   "source": [
    "data.loc[(data['rooms'] == 1) & (data['studio']==True),'rooms'] = 0\n",
    "# проверка\n",
    "data.query('studio == True')['rooms'].value_counts()"
   ]
  },
  {
   "cell_type": "code",
   "execution_count": 16,
   "metadata": {},
   "outputs": [
    {
     "data": {
      "text/plain": [
       "open_plan  rooms\n",
       "False      1        8022\n",
       "           2        7923\n",
       "           3        5795\n",
       "           4        1174\n",
       "           5         325\n",
       "           0         149\n",
       "           6         105\n",
       "           7          59\n",
       "           8          12\n",
       "           9           8\n",
       "           10          3\n",
       "           11          2\n",
       "           14          2\n",
       "           12          1\n",
       "           15          1\n",
       "           16          1\n",
       "           19          1\n",
       "True       0          59\n",
       "           1           3\n",
       "           3           2\n",
       "           2           1\n",
       "           4           1\n",
       "           5           1\n",
       "Name: rooms, dtype: int64"
      ]
     },
     "execution_count": 16,
     "metadata": {},
     "output_type": "execute_result"
    }
   ],
   "source": [
    "data.groupby('open_plan')['rooms'].value_counts()"
   ]
  },
  {
   "cell_type": "markdown",
   "metadata": {},
   "source": [
    "Открытая планировка не предполагает наличие комнат, однако вы видим несколько аномалий. Заменим эти показатели на 0."
   ]
  },
  {
   "cell_type": "code",
   "execution_count": 17,
   "metadata": {},
   "outputs": [
    {
     "data": {
      "text/plain": [
       "0    67\n",
       "Name: rooms, dtype: int64"
      ]
     },
     "execution_count": 17,
     "metadata": {},
     "output_type": "execute_result"
    }
   ],
   "source": [
    "data.loc[(data['open_plan']==True),'rooms'] = 0\n",
    "# проверка\n",
    "data.query('open_plan == True')['rooms'].value_counts()"
   ]
  },
  {
   "cell_type": "markdown",
   "metadata": {},
   "source": [
    "Данные о колличестве комнат приведены к единому виду."
   ]
  },
  {
   "cell_type": "markdown",
   "metadata": {},
   "source": [
    "Столбец: **ceiling_height** высота потолков в м"
   ]
  },
  {
   "cell_type": "code",
   "execution_count": 18,
   "metadata": {},
   "outputs": [
    {
     "name": "stdout",
     "output_type": "stream",
     "text": [
      "наименование столбца: ceiling_height\n",
      "тип данных: float64\n",
      "пропущенно значений: 9160\n",
      "минимальное значение: 1.0\n",
      "максимальное значение: 100.0\n"
     ]
    }
   ],
   "source": [
    "description('ceiling_height')"
   ]
  },
  {
   "cell_type": "code",
   "execution_count": 19,
   "metadata": {},
   "outputs": [
    {
     "data": {
      "text/plain": [
       "array([  2.7 ,    nan,   3.03,   2.5 ,   2.67,   2.56,   3.05,   2.75,\n",
       "         2.6 ,   2.9 ,   2.8 ,   2.55,   3.  ,   2.65,   3.2 ,   2.61,\n",
       "         3.25,   3.45,   2.77,   2.85,   2.64,   2.57,   4.15,   3.5 ,\n",
       "         3.3 ,   2.71,   4.  ,   2.47,   2.73,   2.84,   3.1 ,   2.34,\n",
       "         3.4 ,   3.06,   2.72,   2.54,   2.51,   2.78,   2.76,  25.  ,\n",
       "         2.58,   3.7 ,   2.52,   5.2 ,   2.87,   2.66,   2.59,   2.  ,\n",
       "         2.45,   3.6 ,   2.92,   3.11,   3.13,   3.8 ,   3.15,   3.55,\n",
       "         3.16,   3.62,   3.12,   2.53,   2.74,   2.96,   2.46,   5.3 ,\n",
       "         5.  ,   2.79,   2.95,   4.06,   2.94,   3.82,   3.54,   3.53,\n",
       "         2.83,   4.7 ,   2.4 ,   3.38,   3.01,   5.6 ,   3.65,   3.9 ,\n",
       "         3.18,   3.35,   2.3 ,   3.57,   2.48,   2.62,   2.82,   3.98,\n",
       "         2.63,   3.83,   3.52,   3.95,   3.75,   2.88,   3.67,   3.87,\n",
       "         3.66,   3.85,   3.86,   4.19,   3.24,   4.8 ,   4.5 ,   4.2 ,\n",
       "         3.36,  32.  ,   3.08,   3.68,   3.07,   3.37,   3.09,   8.  ,\n",
       "         3.26,   3.34,   2.81,   3.44,   2.97,   3.14,   4.37,   2.68,\n",
       "         3.22,   3.27,  27.  ,   4.1 ,   2.93,   3.46,  24.  ,   3.47,\n",
       "         3.33,   3.63,   3.32,  26.  ,   1.2 ,   8.3 ,   2.98,   2.86,\n",
       "         3.17,   4.4 ,   3.28,   3.04,   4.45,   5.5 ,   3.84,   3.23,\n",
       "         3.02,   3.21,   3.43,   3.78,   4.3 ,   3.39,   2.69,   3.31,\n",
       "         4.65,   3.56,   2.2 ,   3.51,   3.93,   3.42,   2.99,   3.49,\n",
       "        14.  ,   4.14,   2.91,   3.88,   1.75,   4.25,   3.29,  20.  ,\n",
       "         2.25,   3.76,   3.69,   6.  ,  22.6 ,   2.89,   3.58,   5.8 ,\n",
       "        27.5 ,   2.49,   4.9 ,   3.48,  10.3 ,   1.  , 100.  ,   3.59])"
      ]
     },
     "execution_count": 19,
     "metadata": {},
     "output_type": "execute_result"
    }
   ],
   "source": [
    "data['ceiling_height'].unique()"
   ]
  },
  {
   "cell_type": "markdown",
   "metadata": {},
   "source": [
    "Потолки высотой от 25 до 100 метров, скорее всего являются ошибочно записанными данными. Т.к. средняя высота потолков жилых помещений не превышает 6 метров. Разделим такие показатели на 10."
   ]
  },
  {
   "cell_type": "code",
   "execution_count": 20,
   "metadata": {},
   "outputs": [],
   "source": [
    "data.loc[data['ceiling_height'] > 10, 'ceiling_height'] = (\n",
    "    data.loc[data['ceiling_height'] > 10, 'ceiling_height'] / 10\n",
    ")"
   ]
  },
  {
   "cell_type": "markdown",
   "metadata": {},
   "source": [
    "Заменим пропущенные значения средними показателями в зависимотсти от площади квартиры"
   ]
  },
  {
   "cell_type": "code",
   "execution_count": 21,
   "metadata": {},
   "outputs": [],
   "source": [
    "median_height=data['ceiling_height'].median()\n",
    "data['ceiling_height'].fillna(median_height,inplace=True)"
   ]
  },
  {
   "cell_type": "code",
   "execution_count": 22,
   "metadata": {},
   "outputs": [],
   "source": [
    "for value in data['living_area'].unique():\n",
    "        median_c = data.loc[data['living_area']== value, 'ceiling_height'].median()\n",
    "        if median_c > 0:\n",
    "            data.loc[(data['ceiling_height'].isna()) & (data['living_area']==value), 'ceiling_height'] = median_c\n",
    "        else:\n",
    "            data.loc[(data['ceiling_height'].isna()) & (data['living_area']==value), 'ceiling_height'] = data['ceiling_height'].mean()\n",
    "# для значений по которым не удалось расчитать медиану - зададим среднее значение"
   ]
  },
  {
   "cell_type": "code",
   "execution_count": 23,
   "metadata": {},
   "outputs": [
    {
     "data": {
      "text/plain": [
       "array([ 2.7 ,  2.65,  3.03,  2.5 ,  2.67,  2.56,  3.05,  2.75,  2.6 ,\n",
       "        2.9 ,  2.8 ,  2.55,  3.  ,  3.2 ,  2.61,  3.25,  3.45,  2.77,\n",
       "        2.85,  2.64,  2.57,  4.15,  3.5 ,  3.3 ,  2.71,  4.  ,  2.47,\n",
       "        2.73,  2.84,  3.1 ,  2.34,  3.4 ,  3.06,  2.72,  2.54,  2.51,\n",
       "        2.78,  2.76,  2.58,  3.7 ,  2.52,  5.2 ,  2.87,  2.66,  2.59,\n",
       "        2.  ,  2.45,  3.6 ,  2.92,  3.11,  3.13,  3.8 ,  3.15,  3.55,\n",
       "        3.16,  3.62,  3.12,  2.53,  2.74,  2.96,  2.46,  5.3 ,  5.  ,\n",
       "        2.79,  2.95,  4.06,  2.94,  3.82,  3.54,  3.53,  2.83,  4.7 ,\n",
       "        2.4 ,  3.38,  3.01,  5.6 ,  3.65,  3.9 ,  3.18,  3.35,  2.3 ,\n",
       "        3.57,  2.48,  2.62,  2.82,  3.98,  2.63,  3.83,  3.52,  3.95,\n",
       "        3.75,  2.88,  3.67,  3.87,  3.66,  3.85,  3.86,  4.19,  3.24,\n",
       "        4.8 ,  4.5 ,  4.2 ,  3.36,  3.08,  3.68,  3.07,  3.37,  3.09,\n",
       "        8.  ,  3.26,  3.34,  2.81,  3.44,  2.97,  3.14,  4.37,  2.68,\n",
       "        3.22,  3.27,  4.1 ,  2.93,  3.46,  3.47,  3.33,  3.63,  3.32,\n",
       "        1.2 ,  8.3 ,  2.98,  2.86,  3.17,  4.4 ,  3.28,  3.04,  4.45,\n",
       "        5.5 ,  3.84,  3.23,  3.02,  3.21,  3.43,  3.78,  4.3 ,  3.39,\n",
       "        2.69,  3.31,  4.65,  3.56,  2.2 ,  3.51,  3.93,  3.42,  2.99,\n",
       "        3.49,  1.4 ,  4.14,  2.91,  3.88,  1.75,  4.25,  3.29,  2.25,\n",
       "        3.76,  3.69,  6.  ,  2.26,  2.89,  3.58,  5.8 ,  2.49,  4.9 ,\n",
       "        3.48,  1.03,  1.  , 10.  ,  3.59])"
      ]
     },
     "execution_count": 23,
     "metadata": {},
     "output_type": "execute_result"
    }
   ],
   "source": [
    "data['ceiling_height']= np.round(data['ceiling_height'], decimals=2)\n",
    "data['ceiling_height'].unique()"
   ]
  },
  {
   "cell_type": "markdown",
   "metadata": {},
   "source": [
    "Заполним пропуски в столбце living_area (жилая площадь) медианными показателями в зависимости от колличества комнат."
   ]
  },
  {
   "cell_type": "code",
   "execution_count": 24,
   "metadata": {},
   "outputs": [],
   "source": [
    "for value in data['rooms'].unique():\n",
    "    median_l = data.loc[data['rooms']== value, 'living_area'].median()\n",
    "    data.loc[(data['living_area'].isna()) & (data['rooms']==value), 'living_area'] = median_l"
   ]
  },
  {
   "cell_type": "markdown",
   "metadata": {},
   "source": [
    "Заполним пропуски в столбце kitchen_area (площадь кухни) в зависимости от колличества комнат."
   ]
  },
  {
   "cell_type": "code",
   "execution_count": 25,
   "metadata": {},
   "outputs": [],
   "source": [
    "for value in data['rooms'].unique():\n",
    "    median_k = data.loc[data['rooms']== value, 'kitchen_area'].median()\n",
    "    data.loc[(data['kitchen_area'].isna()) & (data['rooms']==value), 'kitchen_area'] = median_k"
   ]
  },
  {
   "cell_type": "markdown",
   "metadata": {},
   "source": [
    "Выявим не явные дубликаты в наименованиях населенных пунктов"
   ]
  },
  {
   "cell_type": "code",
   "execution_count": 26,
   "metadata": {},
   "outputs": [
    {
     "name": "stdout",
     "output_type": "stream",
     "text": [
      "Уникальные наименования до унификации: 364\n",
      "Уникальные наименования после унификации: 305\n"
     ]
    }
   ],
   "source": [
    "print('Уникальные наименования до унификации:',len(data['locality_name'].unique()))\n",
    "\n",
    "box = ['посёлок', 'городской поселок','поселок городского типа','городской','деревня','садовое товарищество',\n",
    "       'городского типа','поселок станции','поселок','садоводческое некоммерческое товарищество','село',\n",
    "      'коттеджный','при железнодорожной станции','станции']\n",
    "for i in box:\n",
    "    data['locality_name'] = data['locality_name'].str.replace(i, '') \n",
    "data['locality_name'] = data['locality_name'].str.strip()    \n",
    "print('Уникальные наименования после унификации:',len(data['locality_name'].unique()))"
   ]
  },
  {
   "cell_type": "code",
   "execution_count": 27,
   "metadata": {
    "scrolled": true
   },
   "outputs": [
    {
     "name": "stdout",
     "output_type": "stream",
     "text": [
      "['Агалатово' 'Александровская' 'Алексеевка' 'Аннино' 'Аро' 'Барышево'\n",
      " 'Батово' 'Бегуницы' 'Белогорка' 'Белоостров' 'Бокситогорск'\n",
      " 'Большая Вруда' 'Большая Ижора' 'Большая Пустомержа' 'Большие Колпаны'\n",
      " 'Большое Рейзино' 'Большой Сабск' 'Бор' 'Борисова Грива' 'Бугры'\n",
      " 'Будогощь' 'Ваганово' 'Важины' 'Вартемяги' 'Вахнова Кара' 'Вещево'\n",
      " 'Виллози' 'Вознесенье' 'Возрождение' 'Войсковицы' 'Войскорово'\n",
      " 'Володарское' 'Волосово' 'Волхов' 'Всеволожск' 'Выборг' 'Вырица'\n",
      " 'Выскатка' 'Высокоключевой' 'Высоцк' 'Гаврилово' 'Гарболово' 'Гатчина'\n",
      " 'Гладкое' 'Глажево' 'Глебычево' 'Глинка' 'Гончарово' 'Горбунки'\n",
      " 'Гостилицы' 'Громово' 'Дзержинского' 'Дружная Горка' 'Дружноселье'\n",
      " 'Дубровка' 'Елизаветино' 'Ефимовский' 'Жил' 'Жилгородок' 'Житково'\n",
      " 'Заводской' 'Заклинье' 'Заневка' 'Запорожское' 'Зеленогорск' 'Зимитицы'\n",
      " 'Ивангород' 'Извара' 'Ильичёво' 'Иссад' 'Калитино' 'Каложицы' 'Кальтино'\n",
      " 'Каменногорск' 'Камышовка' 'Каськово' 'Келози' 'Кивеннапа Север'\n",
      " 'Кикерино' 'Кингисепп' 'Кингисеппский' 'Кипень' 'Кириши' 'Кировск'\n",
      " 'Кирпичное' 'Кисельня' 'Кобралово' 'Кобринское' 'Колпино' 'Колтуши'\n",
      " 'Коммунар' 'Коммунары' 'Кондратьево' 'Копорье' 'Коркино' 'Корнево'\n",
      " 'Коробицыно' 'Котельский' 'Котлы' 'Красная Долина' 'Красное Село'\n",
      " 'Красносельское' 'Красный Бор' 'Кривко' 'Кронштадт' 'Кудрово' 'Кузнечное'\n",
      " 'Кузьмолово' 'Кузьмоловский' 'Курковицы' 'Куровицы' 'Куттузи' 'Лаврики'\n",
      " 'Лаголово' 'Лампово' 'Лебяжье' 'Левашово' 'Ленинское' 'Лесколово'\n",
      " 'Лесная Поляна' 'Лесное' 'Лесогорский' 'Лисий Нос' 'Лодейное Поле'\n",
      " 'Ломоносов' 'Лопухинка' 'Луга' 'Лужайка' 'Лукаши' 'Лупполово' 'Любань'\n",
      " 'Малая Романовка' 'Малое Верево' 'Малое Карлино' 'Малые Колпаны'\n",
      " 'Мануйлово' 'Мга' 'Мельниково' 'Меньково' 'Металлострой' 'Мины'\n",
      " 'Мистолово' 'Мичуринское' 'Молодцово' 'Молодёжное' 'Мурино'\n",
      " 'Мыза-Ивановка' 'Назия' 'Ненимяки' 'Нижние Осельки' 'Нижняя' 'Низино'\n",
      " 'Никольский' 'Никольское' 'Новая Ладога' 'Новая Ропша' 'Новогорелово'\n",
      " 'Новое Девяткино' 'Новолисино' 'Новоселье' 'Новый Свет' 'Новый Учхоз'\n",
      " 'Нурма' 'Оредеж' 'Оржицы' 'Отрадное' 'Павлово' 'Павловск'\n",
      " 'Пансионат Зелёный Бор' 'Парголово' 'Парицы' 'Паша' 'Пельгора' 'Пеники'\n",
      " 'Первомайское' 'Перово' 'Песочный' 'Петергоф' 'Петро-Славянка'\n",
      " 'Петровское' 'Пижма' 'Пикалёво' 'Пикколово' 'Платформа 69-й километр'\n",
      " 'Плодовое' 'Плоское' 'Победа' 'Подпорожье' 'Поляны' 'Понтонный' 'Почап'\n",
      " 'Починок' 'Приветнинское' 'Пригородный' 'Приладожский' 'Приморск'\n",
      " 'Приозерск' 'Пудомяги' 'Пудость' 'Пустынка' 'Путилово' 'Пушкин' 'Пушное'\n",
      " 'Пчева' 'Пчевжа' 'Рабитицы' 'Разбегаево' 'Раздолье' 'Разметелево'\n",
      " 'Рапполово' 'Рахья' 'Реброво' 'Репино' 'Рождествено' 'Романовка'\n",
      " 'Ромашки' 'Ропша' 'Рощино' 'Русско' 'Русско-Высоцкое' 'Рябово' 'Садко'\n",
      " 'Санкт-Петербург' 'Сапёрное' 'Сапёрный' 'Светогорск' 'Свирь' 'Свирьстрой'\n",
      " 'Севастьяново' 'Селезнёво' 'Сельцо' 'Семиозерье' 'Семрино' 'Серебрянский'\n",
      " 'Сертолово' 'Сестрорецк' 'Сиверский' 'Сижно' 'Синявино' 'Сланцы'\n",
      " 'Снегирёвка' 'Советский' 'Совхозный' 'Сосново' 'Сосновый Бор' 'Старая'\n",
      " 'Старая Ладога' 'Старая Малукса' 'Старая Пустошь' 'Старое Хинколово'\n",
      " 'Старополье' 'Старосиверская' 'Старые Бегуницы' 'Стеклянный' 'Стрельна'\n",
      " 'Суйда' 'Сумино' 'Суоранда' 'Суходолье' 'Счастье' 'Сяськелево'\n",
      " 'Сясьстрой' 'Тайцы' 'Тарасово' 'Тельмана' 'Терволово' 'Терпилицы'\n",
      " 'Тихвин' 'Тихковицы' 'Тойворово' 'Токсово' 'Торковичи' 'Торосово'\n",
      " 'Торошковичи' 'Торфяное' 'Тосно' 'Трубников Бор' 'Тёсово-4' 'Углово'\n",
      " 'Ульяновка' 'Усть-Ижора' 'Усть-Луга' 'Ушаки' 'Фалилеево' 'Форносово'\n",
      " 'Форт Красная Горка' 'Фёдоровское' 'Хапо-Ое' 'Хязельки' 'Цвелодубово'\n",
      " 'Цвылёво' 'Чудской Бор' 'Шлиссельбург' 'Шпаньково' 'Шугозеро' 'Шум'\n",
      " 'Шушары' 'Щеглово' 'Юкки' 'Ялгино' 'Яльгелево' 'Ям-Тесово' 'Янино-1'\n",
      " 'имени Морозова' 'имени Свердлова']\n"
     ]
    }
   ],
   "source": [
    "print(data['locality_name'].sort_values().unique())"
   ]
  },
  {
   "cell_type": "markdown",
   "metadata": {},
   "source": [
    "Проверим датасет на наличие дубликатов."
   ]
  },
  {
   "cell_type": "code",
   "execution_count": 28,
   "metadata": {},
   "outputs": [
    {
     "data": {
      "text/plain": [
       "0"
      ]
     },
     "execution_count": 28,
     "metadata": {},
     "output_type": "execute_result"
    }
   ],
   "source": [
    "data.duplicated().sum()"
   ]
  },
  {
   "cell_type": "markdown",
   "metadata": {},
   "source": [
    "### Расчитаем и добавим в таблицу новые столбцы"
   ]
  },
  {
   "cell_type": "markdown",
   "metadata": {},
   "source": [
    "Расчитаем цену одного квадратного метра"
   ]
  },
  {
   "cell_type": "code",
   "execution_count": 29,
   "metadata": {},
   "outputs": [
    {
     "name": "stdout",
     "output_type": "stream",
     "text": [
      "наименование столбца: metr_price\n",
      "тип данных: int64\n",
      "пропущенно значений: 0\n",
      "минимальное значение: 7962\n",
      "максимальное значение: 1907500\n"
     ]
    }
   ],
   "source": [
    "data['metr_price'] = data['last_price'] / data['total_area']\n",
    "data['metr_price'] = data['metr_price'].astype(int)\n",
    "description('metr_price')"
   ]
  },
  {
   "cell_type": "markdown",
   "metadata": {},
   "source": [
    "Добавим столбец с обозначениями денней публикации объявлений (0 - понедельник, 1 - вторник и т.д.)"
   ]
  },
  {
   "cell_type": "code",
   "execution_count": 30,
   "metadata": {},
   "outputs": [],
   "source": [
    "data['day_of_week'] = data['first_day_exposition'].dt.weekday"
   ]
  },
  {
   "cell_type": "code",
   "execution_count": 31,
   "metadata": {},
   "outputs": [
    {
     "data": {
      "text/plain": [
       "3    4286\n",
       "1    4175\n",
       "4    3992\n",
       "2    3966\n",
       "0    3606\n",
       "5    1933\n",
       "6    1692\n",
       "Name: day_of_week, dtype: int64"
      ]
     },
     "execution_count": 31,
     "metadata": {},
     "output_type": "execute_result"
    }
   ],
   "source": [
    "data['day_of_week'].value_counts()"
   ]
  },
  {
   "cell_type": "markdown",
   "metadata": {},
   "source": [
    "Добавим столбец с месяцем и годом публикации объявления"
   ]
  },
  {
   "cell_type": "code",
   "execution_count": 32,
   "metadata": {},
   "outputs": [],
   "source": [
    "data['month_exposition'] = data['first_day_exposition'].dt.month\n",
    "data['year_exposition'] = data['first_day_exposition'].dt.year"
   ]
  },
  {
   "cell_type": "markdown",
   "metadata": {},
   "source": [
    "Добавим столбец с типом этажа квартиры (значения — «первый», «последний», «другой»)"
   ]
  },
  {
   "cell_type": "code",
   "execution_count": 33,
   "metadata": {},
   "outputs": [],
   "source": [
    "def number_floor(column):\n",
    "    if column['floor'] == 1:\n",
    "        return 'первый'\n",
    "    elif column['floor'] == column['floors_total']:\n",
    "        return 'последний'\n",
    "    else:\n",
    "        return 'другой'\n",
    "data['number_floor'] = data.apply(number_floor, axis=1)    "
   ]
  },
  {
   "cell_type": "code",
   "execution_count": 34,
   "metadata": {},
   "outputs": [
    {
     "data": {
      "text/plain": [
       "другой       17326\n",
       "последний     3412\n",
       "первый        2912\n",
       "Name: number_floor, dtype: int64"
      ]
     },
     "execution_count": 34,
     "metadata": {},
     "output_type": "execute_result"
    }
   ],
   "source": [
    "data['number_floor'].value_counts()"
   ]
  },
  {
   "cell_type": "markdown",
   "metadata": {},
   "source": [
    "Добавим столбец с расстоянием в км до центра города"
   ]
  },
  {
   "cell_type": "markdown",
   "metadata": {},
   "source": [
    "Для этого разделим данные из столбца data['city_centers_nearest'] заданный в метрах на 1000. "
   ]
  },
  {
   "cell_type": "code",
   "execution_count": 35,
   "metadata": {},
   "outputs": [
    {
     "data": {
      "text/plain": [
       "array([16.028, 18.603, 13.933, ..., 27.977,  7.262,  6.263])"
      ]
     },
     "execution_count": 35,
     "metadata": {},
     "output_type": "execute_result"
    }
   ],
   "source": [
    "data['city_centers_km']= (data['city_centers_nearest']/1000)\n",
    "data['city_centers_km'].unique()"
   ]
  },
  {
   "cell_type": "markdown",
   "metadata": {},
   "source": [
    "### Проведем исследовательский анализ данных"
   ]
  },
  {
   "cell_type": "markdown",
   "metadata": {},
   "source": [
    "Рассмотрим следующие параметры:\n",
    "\n",
    "        - общая площадь;\n",
    "        - жилая площадь;\n",
    "        - площадь кухни;\n",
    "        - цена объекта;\n",
    "        - количество комнат;\n",
    "        - высота потолков;\n",
    "        - этаж квартиры;\n",
    "        - тип этажа квартиры («первый», «последний», «другой»);\n",
    "        - общее количество этажей в доме;\n",
    "        - расстояние до центра города в метрах;\n",
    "        - расстояние до ближайшего аэропорта;\n",
    "        - расстояние до ближайшего парка;\n",
    "        - день и месяц публикации объявления"
   ]
  },
  {
   "cell_type": "markdown",
   "metadata": {},
   "source": [
    "Вначале оценим показатели связанные с площадью квартир (total_area,living_area,kitchen_area)"
   ]
  },
  {
   "cell_type": "code",
   "execution_count": 36,
   "metadata": {},
   "outputs": [
    {
     "name": "stdout",
     "output_type": "stream",
     "text": [
      "наименование столбца: total_area\n",
      "тип данных: float64\n",
      "пропущенно значений: 0\n",
      "минимальное значение: 12.0\n",
      "максимальное значение: 900.0\n",
      "------------------------------\n",
      "наименование столбца: living_area\n",
      "тип данных: float64\n",
      "пропущенно значений: 0\n",
      "минимальное значение: 2.0\n",
      "максимальное значение: 409.7\n",
      "------------------------------\n",
      "наименование столбца: kitchen_area\n",
      "тип данных: float64\n",
      "пропущенно значений: 216\n",
      "минимальное значение: 1.3\n",
      "максимальное значение: 112.0\n"
     ]
    }
   ],
   "source": [
    "#еще раз рассмотрим общую информацию\n",
    "description('total_area')\n",
    "print('-'* 30)\n",
    "description('living_area')\n",
    "print('-'* 30)\n",
    "description('kitchen_area')"
   ]
  },
  {
   "cell_type": "markdown",
   "metadata": {},
   "source": [
    "Пропущенные значения в описании кухонной площади можно объяснить наличием квартир-студий и объектов без планировки."
   ]
  },
  {
   "cell_type": "markdown",
   "metadata": {},
   "source": [
    "Простороим гиксограммы"
   ]
  },
  {
   "cell_type": "code",
   "execution_count": 37,
   "metadata": {},
   "outputs": [
    {
     "data": {
      "image/png": "[encoded data removed]",
      "text/plain": [
       "<Figure size 432x288 with 1 Axes>"
      ]
     },
     "metadata": {
      "needs_background": "light"
     },
     "output_type": "display_data"
    },
    {
     "data": {
      "image/png": "[encoded data removed]",
      "text/plain": [
       "<Figure size 432x288 with 1 Axes>"
      ]
     },
     "metadata": {
      "needs_background": "light"
     },
     "output_type": "display_data"
    }
   ],
   "source": [
    "# рассмотрим общую площадь\n",
    "data.hist('total_area', bins=100, range=(12,900));\n",
    "# видим, что большиество квартир находятся в группе до 200 кв. м. и укрупним это на отдельном графике\n",
    "data.hist('total_area', bins=100, range=(12,200));"
   ]
  },
  {
   "cell_type": "markdown",
   "metadata": {},
   "source": [
    "Обратим внимание, что квартиры площадбю меньше 25 кв и больше 100 кв - составляют малую часть нашей выборки. Больше всего продается квартир площадью 45-65 кв. м."
   ]
  },
  {
   "cell_type": "code",
   "execution_count": 38,
   "metadata": {},
   "outputs": [
    {
     "data": {
      "image/png": "[encoded data removed]",
      "text/plain": [
       "<Figure size 432x288 with 1 Axes>"
      ]
     },
     "metadata": {
      "needs_background": "light"
     },
     "output_type": "display_data"
    },
    {
     "data": {
      "image/png": "[encoded data removed]",
      "text/plain": [
       "<Figure size 432x288 with 1 Axes>"
      ]
     },
     "metadata": {
      "needs_background": "light"
     },
     "output_type": "display_data"
    }
   ],
   "source": [
    "#рассмотрим общую жилую площадь\n",
    "data.hist('living_area', bins=100, range=(2,410));\n",
    "#укрупним график\n",
    "data.hist('living_area', bins=100, range=(2,100));"
   ]
  },
  {
   "cell_type": "code",
   "execution_count": 39,
   "metadata": {},
   "outputs": [
    {
     "data": {
      "image/png": "[encoded data removed]",
      "text/plain": [
       "<Figure size 432x288 with 1 Axes>"
      ]
     },
     "metadata": {
      "needs_background": "light"
     },
     "output_type": "display_data"
    },
    {
     "data": {
      "image/png": "[encoded data removed]",
      "text/plain": [
       "<Figure size 432x288 with 1 Axes>"
      ]
     },
     "metadata": {
      "needs_background": "light"
     },
     "output_type": "display_data"
    }
   ],
   "source": [
    "#рассмотрим площадь кухонь\n",
    "data.hist('kitchen_area', bins=100, range=(1,120));\n",
    "#укрупним график\n",
    "data.hist('kitchen_area', bins=100, range=(1,20));"
   ]
  },
  {
   "cell_type": "markdown",
   "metadata": {},
   "source": [
    "Чаще всего мы видим кухни в диапазоне от 5 до 12 кв.м."
   ]
  },
  {
   "cell_type": "markdown",
   "metadata": {},
   "source": [
    "Рассмотрим параметр - цена объекта (last_price)"
   ]
  },
  {
   "cell_type": "code",
   "execution_count": 40,
   "metadata": {},
   "outputs": [
    {
     "name": "stdout",
     "output_type": "stream",
     "text": [
      "наименование столбца: last_price\n",
      "тип данных: int64\n",
      "пропущенно значений: 0\n",
      "минимальное значение: 430000\n",
      "максимальное значение: 763000000\n",
      "медианное значение: 4650000.0\n"
     ]
    },
    {
     "data": {
      "image/png": "[encoded data removed]",
      "text/plain": [
       "<Figure size 432x288 with 1 Axes>"
      ]
     },
     "metadata": {
      "needs_background": "light"
     },
     "output_type": "display_data"
    }
   ],
   "source": [
    "description('last_price')\n",
    "print('медианное значение:',data['last_price'].median())\n",
    "data['last_price'].hist(bins=100,range=(0,9000000));"
   ]
  },
  {
   "cell_type": "markdown",
   "metadata": {},
   "source": [
    "Максимальная цена квартиры  763 000 000 руб. Большая часть квартир значительно дешевле этой суммы. Медианное значение составляет 4 650 000. Большая часть квартир стоит в диапазоне от 3 до 7 миллионов."
   ]
  },
  {
   "cell_type": "markdown",
   "metadata": {},
   "source": [
    "Рассмотрим показательно - количество комнат(rooms)\n",
    "   "
   ]
  },
  {
   "cell_type": "code",
   "execution_count": 41,
   "metadata": {},
   "outputs": [
    {
     "name": "stdout",
     "output_type": "stream",
     "text": [
      "наименование столбца: rooms\n",
      "тип данных: int64\n",
      "пропущенно значений: 0\n",
      "минимальное значение: 0\n",
      "максимальное значение: 19\n",
      "медианное значение: 2.0\n"
     ]
    },
    {
     "data": {
      "image/png": "[encoded data removed]",
      "text/plain": [
       "<Figure size 432x288 with 1 Axes>"
      ]
     },
     "metadata": {
      "needs_background": "light"
     },
     "output_type": "display_data"
    }
   ],
   "source": [
    "description('rooms')\n",
    "print('медианное значение:',data['rooms'].median())\n",
    "data['rooms'].hist(bins=50,range=(0,8));"
   ]
  },
  {
   "cell_type": "markdown",
   "metadata": {},
   "source": [
    "Максимальное колличество комнат - 19, но это очень редкое значение. Больше всего квартир 1-3 комнатные. Как мы выяснили раньше, квартиры с 0 комнат - это студии и помещения с открытой планировкой."
   ]
  },
  {
   "cell_type": "markdown",
   "metadata": {},
   "source": [
    "Рассмотрим показатель - высота потолков(ceiling_height)"
   ]
  },
  {
   "cell_type": "code",
   "execution_count": 42,
   "metadata": {},
   "outputs": [
    {
     "name": "stdout",
     "output_type": "stream",
     "text": [
      "наименование столбца: ceiling_height\n",
      "тип данных: float64\n",
      "пропущенно значений: 0\n",
      "минимальное значение: 1.0\n",
      "максимальное значение: 10.0\n",
      "медианное значение: 2.65\n"
     ]
    },
    {
     "data": {
      "image/png": "[encoded data removed]",
      "text/plain": [
       "<Figure size 432x288 with 1 Axes>"
      ]
     },
     "metadata": {
      "needs_background": "light"
     },
     "output_type": "display_data"
    }
   ],
   "source": [
    "description('ceiling_height')\n",
    "print('медианное значение:',data['ceiling_height'].median())\n",
    "data['ceiling_height'].hist(bins=50,range=(2,4));"
   ]
  },
  {
   "cell_type": "markdown",
   "metadata": {},
   "source": [
    "У большенства квартир высота потолка варьируется от 2,5 до 3 метров."
   ]
  },
  {
   "cell_type": "markdown",
   "metadata": {},
   "source": [
    "Рассмотрим показатели - этаж квартиры (floor),тип этажа квартиры (number_floor) и общее количество этажей в доме(floors_total)"
   ]
  },
  {
   "cell_type": "code",
   "execution_count": 54,
   "metadata": {},
   "outputs": [
    {
     "name": "stdout",
     "output_type": "stream",
     "text": [
      "наименование столбца: floors_total\n",
      "тип данных: int64\n",
      "пропущенно значений: 0\n",
      "минимальное значение: 1\n",
      "максимальное значение: 60\n",
      "медианное значение: 9.0\n",
      "------------------------------\n",
      "наименование столбца: floor\n",
      "тип данных: int64\n",
      "пропущенно значений: 0\n",
      "минимальное значение: 1\n",
      "максимальное значение: 33\n",
      "медианное значение: 4.0\n",
      "------------------------------\n",
      "наименование столбца: number_floor\n",
      "тип данных: object\n",
      "пропущенно значений: 0\n",
      "уникальные значения: \n",
      " другой       17326\n",
      "последний     3412\n",
      "первый        2912\n",
      "Name: number_floor, dtype: int64\n"
     ]
    }
   ],
   "source": [
    "#еще раз рассмотрим общую информацию\n",
    "description('floors_total')\n",
    "print('медианное значение:',data['floors_total'].median())\n",
    "print('-'* 30)\n",
    "description('floor')\n",
    "print('медианное значение:',data['floor'].median())\n",
    "print('-'* 30)\n",
    "description('number_floor')"
   ]
  },
  {
   "cell_type": "code",
   "execution_count": 59,
   "metadata": {},
   "outputs": [
    {
     "data": {
      "image/png": "[encoded data removed]",
      "text/plain": [
       "<Figure size 432x288 with 1 Axes>"
      ]
     },
     "metadata": {
      "needs_background": "light"
     },
     "output_type": "display_data"
    }
   ],
   "source": [
    "#рассмотрим общую этажность домов\n",
    "data.hist('floors_total', bins=100, range=(1,33));"
   ]
  },
  {
   "cell_type": "code",
   "execution_count": 57,
   "metadata": {},
   "outputs": [
    {
     "data": {
      "image/png": "[encoded data removed]",
      "text/plain": [
       "<Figure size 432x288 with 1 Axes>"
      ]
     },
     "metadata": {
      "needs_background": "light"
     },
     "output_type": "display_data"
    }
   ],
   "source": [
    "#рассмотрим этажи расположения квартир\n",
    "data.hist('floor', bins=100, range=(1,33));"
   ]
  },
  {
   "cell_type": "code",
   "execution_count": 58,
   "metadata": {},
   "outputs": [
    {
     "data": {
      "image/png": "[encoded data removed]",
      "text/plain": [
       "<Figure size 432x288 with 1 Axes>"
      ]
     },
     "metadata": {
      "needs_background": "light"
     },
     "output_type": "display_data"
    }
   ],
   "source": [
    "#рассмотрим распределение квартир по высотности этажа\n",
    "data.groupby(by='number_floor')['number_floor'].count().plot(kind='bar', ylabel = 'count');"
   ]
  },
  {
   "cell_type": "markdown",
   "metadata": {},
   "source": [
    "Не смотря на то, что в детесете представлены дома до 60 этажей в высоту, самое высокое расположение квартиры - 33 этаж. Большая часть квартир расположенна в районе 2-4 этажей."
   ]
  },
  {
   "cell_type": "markdown",
   "metadata": {},
   "source": [
    "Рассмотрим показатели - расстояния до центра города в метрах (city_centers_nearest),до ближайшего аэропорта (airports_nearest) и до ближайшего парка(parks_nearest)"
   ]
  },
  {
   "cell_type": "code",
   "execution_count": 61,
   "metadata": {},
   "outputs": [
    {
     "name": "stdout",
     "output_type": "stream",
     "text": [
      "наименование столбца: city_centers_nearest\n",
      "тип данных: float64\n",
      "пропущенно значений: 5511\n",
      "минимальное значение: 181.0\n",
      "максимальное значение: 65968.0\n",
      "медианное значение: 13105.0\n",
      "------------------------------\n",
      "наименование столбца: airports_nearest\n",
      "тип данных: float64\n",
      "пропущенно значений: 5534\n",
      "минимальное значение: 0.0\n",
      "максимальное значение: 84869.0\n",
      "медианное значение: 26756.5\n",
      "------------------------------\n",
      "наименование столбца: parks_nearest\n",
      "тип данных: float64\n",
      "пропущенно значений: 15586\n",
      "минимальное значение: 1.0\n",
      "максимальное значение: 3190.0\n",
      "медианное значение: 454.5\n"
     ]
    }
   ],
   "source": [
    "#еще раз рассмотрим общую информацию\n",
    "description('city_centers_nearest')\n",
    "print('медианное значение:',data['city_centers_nearest'].median())\n",
    "print('-'* 30)\n",
    "description('airports_nearest')\n",
    "print('медианное значение:',data['airports_nearest'].median())\n",
    "print('-'* 30)\n",
    "description('parks_nearest')\n",
    "print('медианное значение:',data['parks_nearest'].median())"
   ]
  },
  {
   "cell_type": "markdown",
   "metadata": {},
   "source": [
    "Пропущенные значенияобзанают отсутствие объектов рядом с домами."
   ]
  },
  {
   "cell_type": "code",
   "execution_count": 64,
   "metadata": {},
   "outputs": [
    {
     "data": {
      "image/png": "[encoded data removed]",
      "text/plain": [
       "<Figure size 432x288 with 1 Axes>"
      ]
     },
     "metadata": {
      "needs_background": "light"
     },
     "output_type": "display_data"
    }
   ],
   "source": [
    "#рассмотрим растояния до центра города\n",
    "data.hist('city_centers_nearest', bins=100, range=(0,65968));"
   ]
  },
  {
   "cell_type": "markdown",
   "metadata": {},
   "source": [
    "Большенство квартир расположено на расстоянии 10-15 км от центра"
   ]
  },
  {
   "cell_type": "code",
   "execution_count": 65,
   "metadata": {},
   "outputs": [
    {
     "data": {
      "image/png": "[encoded data removed]",
      "text/plain": [
       "<Figure size 432x288 with 1 Axes>"
      ]
     },
     "metadata": {
      "needs_background": "light"
     },
     "output_type": "display_data"
    }
   ],
   "source": [
    "#рассмотрим растояния до ближайщего аэропорта\n",
    "data.hist('airports_nearest', bins=100, range=(0,84869));"
   ]
  },
  {
   "cell_type": "markdown",
   "metadata": {},
   "source": [
    "Большенство квартир расположено на расстоянии 26 -40 км от ближайшего аэропорта"
   ]
  },
  {
   "cell_type": "code",
   "execution_count": 66,
   "metadata": {},
   "outputs": [
    {
     "data": {
      "image/png": "[encoded data removed]",
      "text/plain": [
       "<Figure size 432x288 with 1 Axes>"
      ]
     },
     "metadata": {
      "needs_background": "light"
     },
     "output_type": "display_data"
    }
   ],
   "source": [
    "#рассмотрим растояния до ближайщего парка\n",
    "data.hist('parks_nearest', bins=100, range=(1,3190));"
   ]
  },
  {
   "cell_type": "markdown",
   "metadata": {},
   "source": [
    "Большенство квартир расположено на расстоянии 500 метров от ближайшего парка"
   ]
  },
  {
   "cell_type": "markdown",
   "metadata": {},
   "source": [
    "Рассмотрим показатели - день (day_of_week) и месяц (month_exposition) публикации объявления "
   ]
  },
  {
   "cell_type": "code",
   "execution_count": 69,
   "metadata": {},
   "outputs": [
    {
     "data": {
      "image/png": "[encoded data removed]",
      "text/plain": [
       "<Figure size 432x288 with 1 Axes>"
      ]
     },
     "metadata": {
      "needs_background": "light"
     },
     "output_type": "display_data"
    }
   ],
   "source": [
    "#рассмотрим колличество размещений публикаций по дням недели, где 0 - воскресение\n",
    "data.groupby(by='day_of_week')['day_of_week'].count().plot(kind='bar', ylabel = 'count');"
   ]
  },
  {
   "cell_type": "markdown",
   "metadata": {},
   "source": [
    "Больше всего объявлений было закрыто в пондельник и среду"
   ]
  },
  {
   "cell_type": "code",
   "execution_count": 71,
   "metadata": {},
   "outputs": [
    {
     "data": {
      "image/png": "[encoded data removed]",
      "text/plain": [
       "<Figure size 432x288 with 1 Axes>"
      ]
     },
     "metadata": {
      "needs_background": "light"
     },
     "output_type": "display_data"
    }
   ],
   "source": [
    "#рассмотрим колличество публикаций по месяцам\n",
    "data.groupby(by='month_exposition')['month_exposition'].count().plot(kind='bar', ylabel = 'count');"
   ]
  },
  {
   "cell_type": "markdown",
   "metadata": {},
   "source": [
    "Наиболее активным был период с февраля по апрель."
   ]
  },
  {
   "cell_type": "markdown",
   "metadata": {},
   "source": [
    "Изучим, как быстро продавались квартиры (столбец days_exposition). Этот параметр показывает, сколько дней «висело» каждое объявление."
   ]
  },
  {
   "cell_type": "code",
   "execution_count": 126,
   "metadata": {},
   "outputs": [
    {
     "data": {
      "text/plain": [
       "0       3180\n",
       "45       879\n",
       "60       538\n",
       "7        234\n",
       "30       208\n",
       "        ... \n",
       "1112       1\n",
       "1080       1\n",
       "1064       1\n",
       "1032       1\n",
       "1391       1\n",
       "Name: days_exposition, Length: 1142, dtype: int64"
      ]
     },
     "execution_count": 126,
     "metadata": {},
     "output_type": "execute_result"
    }
   ],
   "source": [
    "data['days_exposition'].value_counts()"
   ]
  },
  {
   "cell_type": "markdown",
   "metadata": {},
   "source": [
    "Минимальное значение равное 0, означает, что объявление еще не снято с публикации, а значит такие квартиры нас не интересуют."
   ]
  },
  {
   "cell_type": "code",
   "execution_count": 127,
   "metadata": {},
   "outputs": [
    {
     "data": {
      "text/plain": [
       "count    23650.000000\n",
       "mean       156.448964\n",
       "std        213.564548\n",
       "min          0.000000\n",
       "25%         22.000000\n",
       "50%         73.000000\n",
       "75%        198.000000\n",
       "max       1580.000000\n",
       "Name: days_exposition, dtype: float64"
      ]
     },
     "execution_count": 127,
     "metadata": {},
     "output_type": "execute_result"
    }
   ],
   "source": [
    "data['days_exposition'].describe()"
   ]
  },
  {
   "cell_type": "markdown",
   "metadata": {},
   "source": [
    "Построим диаграмму размаха"
   ]
  },
  {
   "cell_type": "code",
   "execution_count": 128,
   "metadata": {},
   "outputs": [
    {
     "data": {
      "text/plain": [
       "(1.0, 1580.0)"
      ]
     },
     "execution_count": 128,
     "metadata": {},
     "output_type": "execute_result"
    },
    {
     "data": {
      "image/png": "[encoded data removed]",
      "text/plain": [
       "<Figure size 432x288 with 1 Axes>"
      ]
     },
     "metadata": {
      "needs_background": "light"
     },
     "output_type": "display_data"
    }
   ],
   "source": [
    "plt.boxplot(data[data['days_exposition']!=0]['days_exposition']);\n",
    "plt.ylim(1,1580)"
   ]
  },
  {
   "cell_type": "markdown",
   "metadata": {},
   "source": [
    "Построим гигсограмму"
   ]
  },
  {
   "cell_type": "code",
   "execution_count": 129,
   "metadata": {},
   "outputs": [
    {
     "data": {
      "image/png": "[encoded data removed]",
      "text/plain": [
       "<Figure size 432x288 with 1 Axes>"
      ]
     },
     "metadata": {
      "needs_background": "light"
     },
     "output_type": "display_data"
    }
   ],
   "source": [
    "data.plot(y = 'days_exposition', kind = 'hist', bins = 200, grid = True, range = (1,1600));"
   ]
  },
  {
   "cell_type": "markdown",
   "metadata": {},
   "source": [
    "Среднее значение - 156 дней, а медиана - 73 дня. Отдельно выделяются пиковые значения.\n",
    "Укрупним гиксограмму, чтобы посмотреть точнее."
   ]
  },
  {
   "cell_type": "code",
   "execution_count": 130,
   "metadata": {},
   "outputs": [
    {
     "data": {
      "image/png": "[encoded data removed]",
      "text/plain": [
       "<Figure size 432x288 with 1 Axes>"
      ]
     },
     "metadata": {
      "needs_background": "light"
     },
     "output_type": "display_data"
    }
   ],
   "source": [
    "data.plot(y = 'days_exposition', kind = 'hist', bins = 100, grid = True, range = (1,100));"
   ]
  },
  {
   "cell_type": "markdown",
   "metadata": {},
   "source": [
    "Пиковые значения закрытия объявлений приходятся на 45 и 60 дней. Возможно это связанно с правилами размещения на рекламной площадке. Максимально быстрыми можно считать продажи до 40 дней. Аномально долгими - более 600 дней."
   ]
  },
  {
   "cell_type": "markdown",
   "metadata": {},
   "source": [
    "Выявим какие факторы больше всего влияют на общую (полную) стоимость объекта. \n"
   ]
  },
  {
   "cell_type": "markdown",
   "metadata": {},
   "source": [
    "Рассмотрим зависимость цены от площади и расчитаем коэффициент корреляции."
   ]
  },
  {
   "cell_type": "code",
   "execution_count": 131,
   "metadata": {},
   "outputs": [
    {
     "name": "stdout",
     "output_type": "stream",
     "text": [
      "Коффициент корреляции стоимости квартиры от общей площади: 0.6538086421356285\n",
      "Коффициент корреляции стоимости квартиры от жилой площади: 0.5556641980291505\n",
      "Коффициент корреляции стоимости квартиры от площади кухни: 0.4543502120024453\n"
     ]
    },
    {
     "data": {
      "image/png": "[encoded data removed]",
      "text/plain": [
       "<Figure size 432x288 with 1 Axes>"
      ]
     },
     "metadata": {
      "needs_background": "light"
     },
     "output_type": "display_data"
    },
    {
     "data": {
      "image/png": "[encoded data removed]",
      "text/plain": [
       "<Figure size 432x288 with 1 Axes>"
      ]
     },
     "metadata": {
      "needs_background": "light"
     },
     "output_type": "display_data"
    },
    {
     "data": {
      "image/png": "[encoded data removed]",
      "text/plain": [
       "<Figure size 432x288 with 1 Axes>"
      ]
     },
     "metadata": {
      "needs_background": "light"
     },
     "output_type": "display_data"
    }
   ],
   "source": [
    "pivot_table_total_area = data.pivot_table(index = 'total_area', values = 'last_price', aggfunc = ['median'])\n",
    "pivot_table_total_area.plot(y = 'median', style = 'o', title='Зависимость стоимости квартиры от общей площади')\n",
    "\n",
    "print('Коффициент корреляции стоимости квартиры от общей площади:',data['total_area'].corr(data['last_price']))\n",
    "\n",
    "pivot_table_living_area = data.pivot_table(index = 'living_area', values = 'last_price', aggfunc = ['median'])\n",
    "pivot_table_living_area.plot(y = 'median', style = 'o', title='Зависимость стоимости квартиры от жилой площади')\n",
    "\n",
    "print('Коффициент корреляции стоимости квартиры от жилой площади:',data['living_area'].corr(data['last_price']))\n",
    "\n",
    "pivot_table_kitchen_area = data.pivot_table(index = 'kitchen_area', values = 'last_price', aggfunc = ['median'])\n",
    "pivot_table_kitchen_area.plot(y = 'median', style = 'o', title='Зависимость стоимости квартиры от площади кухни')\n",
    "\n",
    "print('Коффициент корреляции стоимости квартиры от площади кухни:',data['kitchen_area'].corr(data['last_price']))"
   ]
  },
  {
   "cell_type": "markdown",
   "metadata": {},
   "source": [
    "Наиболее выраженная зависимоть наблюдается между ростом цены и увеличением общей площади квартиры."
   ]
  },
  {
   "cell_type": "markdown",
   "metadata": {},
   "source": [
    " Рассмотрим зависимость стоимости квартир от типа этажа расположения и колличества комнат."
   ]
  },
  {
   "cell_type": "code",
   "execution_count": 132,
   "metadata": {
    "scrolled": true
   },
   "outputs": [
    {
     "data": {
      "image/png": "[encoded data removed]",
      "text/plain": [
       "<Figure size 1136x360 with 3 Axes>"
      ]
     },
     "metadata": {
      "needs_background": "light"
     },
     "output_type": "display_data"
    }
   ],
   "source": [
    "sns.relplot(\n",
    "    data=data,\n",
    "    x='rooms',\n",
    "    y='last_price',\n",
    "    col='number_floor',\n",
    "    hue='last_price');"
   ]
  },
  {
   "cell_type": "markdown",
   "metadata": {},
   "source": [
    "Стоимтость квартир ростет с увелиением комнат до 5, а затем идет на спад. Цены на квартиры расположенные выше первого этажа - выше."
   ]
  },
  {
   "cell_type": "markdown",
   "metadata": {},
   "source": [
    " Рассмотрим зависимость стоимости квартир от даты размещения объявления (день недели, месяц, год);"
   ]
  },
  {
   "cell_type": "code",
   "execution_count": 133,
   "metadata": {},
   "outputs": [
    {
     "data": {
      "image/png": "[encoded data removed]",
      "text/plain": [
       "<Figure size 432x288 with 1 Axes>"
      ]
     },
     "metadata": {
      "needs_background": "light"
     },
     "output_type": "display_data"
    }
   ],
   "source": [
    "pivot_year = data.pivot_table(index = 'year_exposition', values = 'last_price', aggfunc = ['median'])\n",
    "pivot_year.columns = ['median']\n",
    "pivot_year.plot(y='median',style = 'o', by='year_exposition').set(xlabel='год размещения', ylabel='цена квартиры');"
   ]
  },
  {
   "cell_type": "code",
   "execution_count": 134,
   "metadata": {},
   "outputs": [
    {
     "data": {
      "image/png": "[encoded data removed]",
      "text/plain": [
       "<Figure size 432x288 with 1 Axes>"
      ]
     },
     "metadata": {
      "needs_background": "light"
     },
     "output_type": "display_data"
    }
   ],
   "source": [
    "pivot_month = data.pivot_table(index = 'month_exposition', values = 'last_price', aggfunc = ['median'])\n",
    "pivot_month.columns = ['median']\n",
    "pivot_month.plot(y='median',style = 'o', by='month_exposition').set(xlabel='месяц размещения', ylabel='цена квартиры');"
   ]
  },
  {
   "cell_type": "code",
   "execution_count": 135,
   "metadata": {},
   "outputs": [
    {
     "data": {
      "image/png": "[encoded data removed]",
      "text/plain": [
       "<Figure size 432x288 with 1 Axes>"
      ]
     },
     "metadata": {
      "needs_background": "light"
     },
     "output_type": "display_data"
    }
   ],
   "source": [
    "pivot_day = data.pivot_table(index = 'day_of_week', values = 'last_price', aggfunc = ['median'])\n",
    "pivot_day.columns = ['median']\n",
    "pivot_day.plot(y='median',style = 'o', by='day_of_week').set(xlabel='день размещения', ylabel='цена квартиры');"
   ]
  },
  {
   "cell_type": "markdown",
   "metadata": {},
   "source": [
    "Зависимость от года, месяца и дня недели публикации.\n",
    "    \n",
    "    Год: можно отметить спад цен на квартиры в 2017,сменившийся плавным ростом в плоть до 2019 года. \n",
    "    Месяц: самая высокая цена продажи квартив в апреле, низкая - в июне.\n",
    "    День недели: самая высокая цена продажи квартир в понедельник и вторник. Можно наблюдать снижение стоимости вплоть до субботы(самый низкий показатель).\n",
    "\n"
   ]
  },
  {
   "cell_type": "code",
   "execution_count": 136,
   "metadata": {},
   "outputs": [
    {
     "name": "stdout",
     "output_type": "stream",
     "text": [
      "Коффициент корреляции стоимости квартиры к году размещения: -0.04285290978026242\n",
      "Коффициент корреляции стоимости квартиры к месяцу размещения: 0.002694992983982155\n",
      "Коффициент корреляции стоимости квартиры ко дню недели размещения: 0.0015918399886516398\n"
     ]
    }
   ],
   "source": [
    "print('Коффициент корреляции стоимости квартиры к году размещения:',data['year_exposition'].corr(data['last_price']))\n",
    "print('Коффициент корреляции стоимости квартиры к месяцу размещения:',data['month_exposition'].corr(data['last_price']))\n",
    "print('Коффициент корреляции стоимости квартиры ко дню недели размещения:',data['day_of_week'].corr(data['last_price']))"
   ]
  },
  {
   "cell_type": "markdown",
   "metadata": {},
   "source": [
    "Корреляция между стоимостью продажи квартиры и показателсями времени продажи - отсутсвует."
   ]
  },
  {
   "cell_type": "markdown",
   "metadata": {},
   "source": [
    "Посчитаем среднюю цену одного квадратного метра в 10 населённых пунктах с наибольшим числом объявлений. Выделим населённые пункты с самой высокой и низкой стоимостью квадратного метра. "
   ]
  },
  {
   "cell_type": "code",
   "execution_count": 137,
   "metadata": {},
   "outputs": [
    {
     "data": {
      "text/html": [
       "<div>\n",
       "<style scoped>\n",
       "    .dataframe tbody tr th:only-of-type {\n",
       "        vertical-align: middle;\n",
       "    }\n",
       "\n",
       "    .dataframe tbody tr th {\n",
       "        vertical-align: top;\n",
       "    }\n",
       "\n",
       "    .dataframe thead th {\n",
       "        text-align: right;\n",
       "    }\n",
       "</style>\n",
       "<table border=\"1\" class=\"dataframe\">\n",
       "  <thead>\n",
       "    <tr style=\"text-align: right;\">\n",
       "      <th></th>\n",
       "      <th>metr_price</th>\n",
       "    </tr>\n",
       "    <tr>\n",
       "      <th>locality_name</th>\n",
       "      <th></th>\n",
       "    </tr>\n",
       "  </thead>\n",
       "  <tbody>\n",
       "    <tr>\n",
       "      <th>Санкт-Петербург</th>\n",
       "      <td>114855</td>\n",
       "    </tr>\n",
       "    <tr>\n",
       "      <th>Пушкин</th>\n",
       "      <td>103125</td>\n",
       "    </tr>\n",
       "    <tr>\n",
       "      <th>Кудрово</th>\n",
       "      <td>95324</td>\n",
       "    </tr>\n",
       "    <tr>\n",
       "      <th>Парголово</th>\n",
       "      <td>90175</td>\n",
       "    </tr>\n",
       "    <tr>\n",
       "      <th>Мурино</th>\n",
       "      <td>86087</td>\n",
       "    </tr>\n",
       "    <tr>\n",
       "      <th>Шушары</th>\n",
       "      <td>78676</td>\n",
       "    </tr>\n",
       "    <tr>\n",
       "      <th>Колпино</th>\n",
       "      <td>75424</td>\n",
       "    </tr>\n",
       "    <tr>\n",
       "      <th>Гатчина</th>\n",
       "      <td>68745</td>\n",
       "    </tr>\n",
       "    <tr>\n",
       "      <th>Всеволожск</th>\n",
       "      <td>68654</td>\n",
       "    </tr>\n",
       "    <tr>\n",
       "      <th>Выборг</th>\n",
       "      <td>58141</td>\n",
       "    </tr>\n",
       "  </tbody>\n",
       "</table>\n",
       "</div>"
      ],
      "text/plain": [
       "                 metr_price\n",
       "locality_name              \n",
       "Санкт-Петербург      114855\n",
       "Пушкин               103125\n",
       "Кудрово               95324\n",
       "Парголово             90175\n",
       "Мурино                86087\n",
       "Шушары                78676\n",
       "Колпино               75424\n",
       "Гатчина               68745\n",
       "Всеволожск            68654\n",
       "Выборг                58141"
      ]
     },
     "execution_count": 137,
     "metadata": {},
     "output_type": "execute_result"
    }
   ],
   "source": [
    "top_city = data['locality_name'].value_counts().head(10)\n",
    "\n",
    "dtmt=(\n",
    "    data.query('locality_name in (@top_city.index)')\n",
    "    .pivot_table(values='metr_price', index='locality_name')\n",
    "    .astype(int)\n",
    "    .sort_values('metr_price', ascending=False)\n",
    ")\n",
    "dtmt"
   ]
  },
  {
   "cell_type": "code",
   "execution_count": 138,
   "metadata": {},
   "outputs": [
    {
     "data": {
      "image/png": "[encoded data removed]",
      "text/plain": [
       "<Figure size 432x288 with 1 Axes>"
      ]
     },
     "metadata": {
      "needs_background": "light"
     },
     "output_type": "display_data"
    }
   ],
   "source": [
    "dtmt.plot(kind='barh');"
   ]
  },
  {
   "cell_type": "code",
   "execution_count": 139,
   "metadata": {},
   "outputs": [
    {
     "data": {
      "text/html": [
       "<div>\n",
       "<style scoped>\n",
       "    .dataframe tbody tr th:only-of-type {\n",
       "        vertical-align: middle;\n",
       "    }\n",
       "\n",
       "    .dataframe tbody tr th {\n",
       "        vertical-align: top;\n",
       "    }\n",
       "\n",
       "    .dataframe thead th {\n",
       "        text-align: right;\n",
       "    }\n",
       "</style>\n",
       "<table border=\"1\" class=\"dataframe\">\n",
       "  <thead>\n",
       "    <tr style=\"text-align: right;\">\n",
       "      <th></th>\n",
       "      <th>metr_price</th>\n",
       "    </tr>\n",
       "    <tr>\n",
       "      <th>locality_name</th>\n",
       "      <th></th>\n",
       "    </tr>\n",
       "  </thead>\n",
       "  <tbody>\n",
       "    <tr>\n",
       "      <th>Сижно</th>\n",
       "      <td>13709</td>\n",
       "    </tr>\n",
       "    <tr>\n",
       "      <th>Шугозеро</th>\n",
       "      <td>16608</td>\n",
       "    </tr>\n",
       "    <tr>\n",
       "      <th>Ялгино</th>\n",
       "      <td>17659</td>\n",
       "    </tr>\n",
       "    <tr>\n",
       "      <th>Пельгора</th>\n",
       "      <td>18269</td>\n",
       "    </tr>\n",
       "    <tr>\n",
       "      <th>Кондратьево</th>\n",
       "      <td>25000</td>\n",
       "    </tr>\n",
       "    <tr>\n",
       "      <th>Пчева</th>\n",
       "      <td>26829</td>\n",
       "    </tr>\n",
       "    <tr>\n",
       "      <th>Ропша</th>\n",
       "      <td>36111</td>\n",
       "    </tr>\n",
       "    <tr>\n",
       "      <th>Кивеннапа Север</th>\n",
       "      <td>36363</td>\n",
       "    </tr>\n",
       "    <tr>\n",
       "      <th>Терпилицы</th>\n",
       "      <td>38025</td>\n",
       "    </tr>\n",
       "    <tr>\n",
       "      <th>Хязельки</th>\n",
       "      <td>47826</td>\n",
       "    </tr>\n",
       "  </tbody>\n",
       "</table>\n",
       "</div>"
      ],
      "text/plain": [
       "                 metr_price\n",
       "locality_name              \n",
       "Сижно                 13709\n",
       "Шугозеро              16608\n",
       "Ялгино                17659\n",
       "Пельгора              18269\n",
       "Кондратьево           25000\n",
       "Пчева                 26829\n",
       "Ропша                 36111\n",
       "Кивеннапа Север       36363\n",
       "Терпилицы             38025\n",
       "Хязельки              47826"
      ]
     },
     "execution_count": 139,
     "metadata": {},
     "output_type": "execute_result"
    }
   ],
   "source": [
    "top_city_min = data['locality_name'].value_counts().tail(10)\n",
    "\n",
    "dtm=(\n",
    "    data.query('locality_name in (@top_city_min.index)')\n",
    "    .pivot_table(values='metr_price', index='locality_name')\n",
    "    .astype(int)\n",
    "    .sort_values('metr_price', ascending=True)\n",
    "    \n",
    ")\n",
    "\n",
    "dtm"
   ]
  },
  {
   "cell_type": "code",
   "execution_count": 140,
   "metadata": {},
   "outputs": [
    {
     "data": {
      "image/png": "[encoded data removed]",
      "text/plain": [
       "<Figure size 432x288 with 1 Axes>"
      ]
     },
     "metadata": {
      "needs_background": "light"
     },
     "output_type": "display_data"
    }
   ],
   "source": [
    "dtm.plot(kind='barh');"
   ]
  },
  {
   "cell_type": "markdown",
   "metadata": {},
   "source": [
    "Самая высокая стоимость квадратного метра в Санкт-Петербурге (114 855), а самая низкая в Сижно (13 709)"
   ]
  },
  {
   "cell_type": "markdown",
   "metadata": {},
   "source": [
    "Выделим квартиры в Санкт-Петербурге и вычислим среднюю цену каждого километра. "
   ]
  },
  {
   "cell_type": "code",
   "execution_count": 141,
   "metadata": {
    "scrolled": true
   },
   "outputs": [
    {
     "data": {
      "image/png": "[encoded data removed]",
      "text/plain": [
       "<Figure size 1080x360 with 1 Axes>"
      ]
     },
     "metadata": {
      "needs_background": "light"
     },
     "output_type": "display_data"
    }
   ],
   "source": [
    "(\n",
    "    data.query('locality_name == \"Санкт-Петербург\"')\n",
    "    .pivot_table(index='city_centers_km', values='last_price', aggfunc = ['mean'])\n",
    "    .plot(grid=True,  figsize=(15, 5))\n",
    ");"
   ]
  },
  {
   "cell_type": "code",
   "execution_count": 142,
   "metadata": {},
   "outputs": [
    {
     "data": {
      "text/html": [
       "<div>\n",
       "<style scoped>\n",
       "    .dataframe tbody tr th:only-of-type {\n",
       "        vertical-align: middle;\n",
       "    }\n",
       "\n",
       "    .dataframe tbody tr th {\n",
       "        vertical-align: top;\n",
       "    }\n",
       "\n",
       "    .dataframe thead tr th {\n",
       "        text-align: left;\n",
       "    }\n",
       "\n",
       "    .dataframe thead tr:last-of-type th {\n",
       "        text-align: right;\n",
       "    }\n",
       "</style>\n",
       "<table border=\"1\" class=\"dataframe\">\n",
       "  <thead>\n",
       "    <tr>\n",
       "      <th></th>\n",
       "      <th>mean</th>\n",
       "    </tr>\n",
       "    <tr>\n",
       "      <th></th>\n",
       "      <th>last_price</th>\n",
       "    </tr>\n",
       "    <tr>\n",
       "      <th>city_centers_km</th>\n",
       "      <th></th>\n",
       "    </tr>\n",
       "  </thead>\n",
       "  <tbody>\n",
       "    <tr>\n",
       "      <th>0</th>\n",
       "      <td>20226732</td>\n",
       "    </tr>\n",
       "    <tr>\n",
       "      <th>1</th>\n",
       "      <td>18850851</td>\n",
       "    </tr>\n",
       "    <tr>\n",
       "      <th>2</th>\n",
       "      <td>16163313</td>\n",
       "    </tr>\n",
       "    <tr>\n",
       "      <th>3</th>\n",
       "      <td>13436830</td>\n",
       "    </tr>\n",
       "    <tr>\n",
       "      <th>4</th>\n",
       "      <td>13632024</td>\n",
       "    </tr>\n",
       "    <tr>\n",
       "      <th>5</th>\n",
       "      <td>15306121</td>\n",
       "    </tr>\n",
       "    <tr>\n",
       "      <th>6</th>\n",
       "      <td>14389106</td>\n",
       "    </tr>\n",
       "    <tr>\n",
       "      <th>7</th>\n",
       "      <td>12797673</td>\n",
       "    </tr>\n",
       "    <tr>\n",
       "      <th>8</th>\n",
       "      <td>8445271</td>\n",
       "    </tr>\n",
       "    <tr>\n",
       "      <th>9</th>\n",
       "      <td>6443703</td>\n",
       "    </tr>\n",
       "    <tr>\n",
       "      <th>10</th>\n",
       "      <td>6376091</td>\n",
       "    </tr>\n",
       "    <tr>\n",
       "      <th>11</th>\n",
       "      <td>5977038</td>\n",
       "    </tr>\n",
       "    <tr>\n",
       "      <th>12</th>\n",
       "      <td>5972819</td>\n",
       "    </tr>\n",
       "    <tr>\n",
       "      <th>13</th>\n",
       "      <td>6022926</td>\n",
       "    </tr>\n",
       "    <tr>\n",
       "      <th>14</th>\n",
       "      <td>5769469</td>\n",
       "    </tr>\n",
       "    <tr>\n",
       "      <th>15</th>\n",
       "      <td>5545776</td>\n",
       "    </tr>\n",
       "    <tr>\n",
       "      <th>16</th>\n",
       "      <td>5527927</td>\n",
       "    </tr>\n",
       "    <tr>\n",
       "      <th>17</th>\n",
       "      <td>4865574</td>\n",
       "    </tr>\n",
       "    <tr>\n",
       "      <th>18</th>\n",
       "      <td>5334928</td>\n",
       "    </tr>\n",
       "    <tr>\n",
       "      <th>19</th>\n",
       "      <td>4678755</td>\n",
       "    </tr>\n",
       "    <tr>\n",
       "      <th>20</th>\n",
       "      <td>6365864</td>\n",
       "    </tr>\n",
       "    <tr>\n",
       "      <th>21</th>\n",
       "      <td>5183239</td>\n",
       "    </tr>\n",
       "    <tr>\n",
       "      <th>22</th>\n",
       "      <td>5425513</td>\n",
       "    </tr>\n",
       "    <tr>\n",
       "      <th>23</th>\n",
       "      <td>4126866</td>\n",
       "    </tr>\n",
       "    <tr>\n",
       "      <th>24</th>\n",
       "      <td>3862235</td>\n",
       "    </tr>\n",
       "    <tr>\n",
       "      <th>25</th>\n",
       "      <td>4014913</td>\n",
       "    </tr>\n",
       "    <tr>\n",
       "      <th>26</th>\n",
       "      <td>3575000</td>\n",
       "    </tr>\n",
       "    <tr>\n",
       "      <th>27</th>\n",
       "      <td>8300000</td>\n",
       "    </tr>\n",
       "    <tr>\n",
       "      <th>28</th>\n",
       "      <td>4910500</td>\n",
       "    </tr>\n",
       "    <tr>\n",
       "      <th>29</th>\n",
       "      <td>3833333</td>\n",
       "    </tr>\n",
       "  </tbody>\n",
       "</table>\n",
       "</div>"
      ],
      "text/plain": [
       "                      mean\n",
       "                last_price\n",
       "city_centers_km           \n",
       "0                 20226732\n",
       "1                 18850851\n",
       "2                 16163313\n",
       "3                 13436830\n",
       "4                 13632024\n",
       "5                 15306121\n",
       "6                 14389106\n",
       "7                 12797673\n",
       "8                  8445271\n",
       "9                  6443703\n",
       "10                 6376091\n",
       "11                 5977038\n",
       "12                 5972819\n",
       "13                 6022926\n",
       "14                 5769469\n",
       "15                 5545776\n",
       "16                 5527927\n",
       "17                 4865574\n",
       "18                 5334928\n",
       "19                 4678755\n",
       "20                 6365864\n",
       "21                 5183239\n",
       "22                 5425513\n",
       "23                 4126866\n",
       "24                 3862235\n",
       "25                 4014913\n",
       "26                 3575000\n",
       "27                 8300000\n",
       "28                 4910500\n",
       "29                 3833333"
      ]
     },
     "execution_count": 142,
     "metadata": {},
     "output_type": "execute_result"
    }
   ],
   "source": [
    "data['city_centers_km'] = data['city_centers_km'].fillna(value=0).astype(int)\n",
    "\n",
    "pivot_city_centers_km = (\n",
    "    data.query('locality_name == \"Санкт-Петербург\"')\n",
    "    .pivot_table(index='city_centers_km', values='last_price', aggfunc = ['mean'])\n",
    "    \n",
    ")\n",
    "pivot_city_centers_km = pivot_city_centers_km.astype(int)\n",
    "pivot_city_centers_km"
   ]
  },
  {
   "cell_type": "markdown",
   "metadata": {},
   "source": [
    "Предсказуемо, средняя стоимость жилья в центре самая высокая. Существенное снижение наблюдается в радиусе 5 километров. Далее продолжается плавное падение цены, с небольшим всплеском в районе 27 киллометра. Вероятно в этом районе нахдится микрорайон с элитной недвижимостью."
   ]
  },
  {
   "cell_type": "markdown",
   "metadata": {},
   "source": [
    "### Общий вывод"
   ]
  },
  {
   "cell_type": "markdown",
   "metadata": {},
   "source": [
    "    В ходе исследования был изучен датасет содержащий 23 699 строк и 22 столбца. Были проанализированны и заполненны, там где это возможно, пропущенные значения. Типы данных столбцов были приведены к удобному для анализа виду.  Были выявленны аномальные значения. В таблицу были добавленны столбцы с ценой квадратного метра жилья,  дни недели, месяцы и года размещения объявлений, а также  категории по этажам квартир. \n",
    "    Пиковые значения закрытия объявлений приходятся на 45 и 60 дней. Возможно это связанно с правилами размещения на рекламной площадке. Максимально быстрыми можно считать продажи до 40 дней. Аномально долгими - более 600 дней.\n",
    "    Наиболее выраженная зависимоть наблюдается между ростом цены и увеличением общей площади квартиры.\n",
    "    Стоимтость квартир ростет с увелиением колличеества комнат до 5, а затем идет на спад.\n",
    "    Квартиры расположенные на первом этаже в среднем дешевле остальных.\n",
    "    Корреляция между стоимостью продажи квартиры и показателсями времени продажи - отсутсвует. Можно отметить спад цен на квартиры в 2017,сменившийся плавным ростом в плоть до 2019 года. \n",
    "    Самая высокая стоимость квадратного метра в Санкт-Петербурге (114 855), а самая низкая в Сижно (13 709).\n",
    "    Можно отметить резкий спад стоимости жилья в Санкт-Петербурге,в радиусе 5 километров.Именно этим радиусом можно условно очертить центр города. Далее продолжается плавное падение цены, с небольшим всплеском в районе 27 киллометра. Вероятно в этом районе нахдится микрорайон с элитной недвижимостью."
   ]
  }
 ],
 "metadata": {
  "ExecuteTimeLog": [
   {
    "duration": 553,
    "start_time": "2022-12-02T07:25:12.805Z"
   },
   {
    "duration": 102,
    "start_time": "2022-12-02T07:25:28.343Z"
   },
   {
    "duration": 122,
    "start_time": "2022-12-02T07:26:31.234Z"
   },
   {
    "duration": 2405,
    "start_time": "2022-12-02T07:30:36.358Z"
   },
   {
    "duration": 17,
    "start_time": "2022-12-02T07:31:06.693Z"
   },
   {
    "duration": 76,
    "start_time": "2022-12-02T07:37:22.711Z"
   },
   {
    "duration": 642,
    "start_time": "2022-12-02T07:37:49.755Z"
   },
   {
    "duration": 112,
    "start_time": "2022-12-02T07:38:16.845Z"
   },
   {
    "duration": 13,
    "start_time": "2022-12-02T07:38:21.274Z"
   },
   {
    "duration": 1033,
    "start_time": "2022-12-02T07:38:28.944Z"
   },
   {
    "duration": 121,
    "start_time": "2022-12-02T07:38:51.318Z"
   },
   {
    "duration": 1011,
    "start_time": "2022-12-02T07:38:54.047Z"
   },
   {
    "duration": 22,
    "start_time": "2022-12-02T08:41:39.083Z"
   },
   {
    "duration": 68,
    "start_time": "2022-12-02T08:43:08.395Z"
   },
   {
    "duration": 19,
    "start_time": "2022-12-02T08:43:17.005Z"
   },
   {
    "duration": 20,
    "start_time": "2022-12-02T08:43:44.044Z"
   },
   {
    "duration": 16,
    "start_time": "2022-12-02T08:44:26.926Z"
   },
   {
    "duration": 117,
    "start_time": "2022-12-02T08:50:25.166Z"
   },
   {
    "duration": 79,
    "start_time": "2022-12-02T08:50:49.261Z"
   },
   {
    "duration": 16,
    "start_time": "2022-12-02T08:50:57.576Z"
   },
   {
    "duration": 10,
    "start_time": "2022-12-02T08:51:51.509Z"
   },
   {
    "duration": 16,
    "start_time": "2022-12-02T08:51:59.124Z"
   },
   {
    "duration": 107,
    "start_time": "2022-12-02T08:52:49.577Z"
   },
   {
    "duration": 22,
    "start_time": "2022-12-02T09:05:11.299Z"
   },
   {
    "duration": 28,
    "start_time": "2022-12-02T09:05:26.368Z"
   },
   {
    "duration": 16,
    "start_time": "2022-12-02T09:05:54.357Z"
   },
   {
    "duration": 12,
    "start_time": "2022-12-02T10:03:04.539Z"
   },
   {
    "duration": 5,
    "start_time": "2022-12-02T10:06:12.179Z"
   },
   {
    "duration": 111,
    "start_time": "2022-12-02T10:06:29.895Z"
   },
   {
    "duration": 4,
    "start_time": "2022-12-02T10:06:32.210Z"
   },
   {
    "duration": 6,
    "start_time": "2022-12-02T10:06:57.652Z"
   },
   {
    "duration": 30,
    "start_time": "2022-12-02T10:07:49.921Z"
   },
   {
    "duration": 13,
    "start_time": "2022-12-02T10:12:54.088Z"
   },
   {
    "duration": 15,
    "start_time": "2022-12-02T10:13:35.721Z"
   },
   {
    "duration": 16,
    "start_time": "2022-12-02T10:13:37.036Z"
   },
   {
    "duration": 9,
    "start_time": "2022-12-02T10:17:27.288Z"
   },
   {
    "duration": 13,
    "start_time": "2022-12-02T10:39:06.502Z"
   },
   {
    "duration": 6,
    "start_time": "2022-12-02T10:39:14.205Z"
   },
   {
    "duration": 7,
    "start_time": "2022-12-02T10:39:57.629Z"
   },
   {
    "duration": 5,
    "start_time": "2022-12-02T11:12:45.076Z"
   },
   {
    "duration": 12,
    "start_time": "2022-12-02T11:13:15.164Z"
   },
   {
    "duration": 4,
    "start_time": "2022-12-02T11:13:32.321Z"
   },
   {
    "duration": 5,
    "start_time": "2022-12-02T11:13:46.024Z"
   },
   {
    "duration": 11,
    "start_time": "2022-12-02T11:13:48.729Z"
   },
   {
    "duration": 10,
    "start_time": "2022-12-02T11:14:07.676Z"
   },
   {
    "duration": 6,
    "start_time": "2022-12-02T11:16:07.736Z"
   },
   {
    "duration": 11,
    "start_time": "2022-12-02T11:16:09.805Z"
   },
   {
    "duration": 10,
    "start_time": "2022-12-02T11:21:24.910Z"
   },
   {
    "duration": 15,
    "start_time": "2022-12-02T11:23:18.601Z"
   },
   {
    "duration": 10,
    "start_time": "2022-12-02T11:25:39.965Z"
   },
   {
    "duration": 10,
    "start_time": "2022-12-02T11:46:50.532Z"
   },
   {
    "duration": 8,
    "start_time": "2022-12-02T11:47:13.471Z"
   },
   {
    "duration": 9,
    "start_time": "2022-12-02T11:47:19.763Z"
   },
   {
    "duration": 763,
    "start_time": "2022-12-03T11:52:17.685Z"
   },
   {
    "duration": 8,
    "start_time": "2022-12-03T11:52:58.305Z"
   },
   {
    "duration": 7,
    "start_time": "2022-12-03T11:53:21.811Z"
   },
   {
    "duration": 62,
    "start_time": "2022-12-03T11:54:17.928Z"
   },
   {
    "duration": 6,
    "start_time": "2022-12-03T11:54:38.489Z"
   },
   {
    "duration": 4,
    "start_time": "2022-12-03T12:42:05.773Z"
   },
   {
    "duration": 8,
    "start_time": "2022-12-03T12:42:09.498Z"
   },
   {
    "duration": 3,
    "start_time": "2022-12-03T12:44:15.051Z"
   },
   {
    "duration": 5,
    "start_time": "2022-12-03T12:44:16.612Z"
   },
   {
    "duration": 4,
    "start_time": "2022-12-03T12:44:42.708Z"
   },
   {
    "duration": 5,
    "start_time": "2022-12-03T12:44:43.990Z"
   },
   {
    "duration": 3,
    "start_time": "2022-12-03T12:46:13.598Z"
   },
   {
    "duration": 7,
    "start_time": "2022-12-03T12:46:15.084Z"
   },
   {
    "duration": 9,
    "start_time": "2022-12-03T12:47:38.903Z"
   },
   {
    "duration": 4,
    "start_time": "2022-12-03T12:47:42.123Z"
   },
   {
    "duration": 5,
    "start_time": "2022-12-03T12:47:49.494Z"
   },
   {
    "duration": 6,
    "start_time": "2022-12-03T12:49:26.194Z"
   },
   {
    "duration": 6,
    "start_time": "2022-12-03T12:49:26.812Z"
   },
   {
    "duration": 5,
    "start_time": "2022-12-03T12:49:34.405Z"
   },
   {
    "duration": 7,
    "start_time": "2022-12-03T12:51:35.087Z"
   },
   {
    "duration": 4,
    "start_time": "2022-12-03T12:51:42.160Z"
   },
   {
    "duration": 6,
    "start_time": "2022-12-03T12:51:43.500Z"
   },
   {
    "duration": 6,
    "start_time": "2022-12-03T12:51:44.202Z"
   },
   {
    "duration": 6,
    "start_time": "2022-12-03T12:53:39.601Z"
   },
   {
    "duration": 56,
    "start_time": "2022-12-03T12:55:19.632Z"
   },
   {
    "duration": 50,
    "start_time": "2022-12-03T12:55:59.054Z"
   },
   {
    "duration": 4,
    "start_time": "2022-12-03T12:56:36.932Z"
   },
   {
    "duration": 49,
    "start_time": "2022-12-03T12:56:37.517Z"
   },
   {
    "duration": 49,
    "start_time": "2022-12-03T12:57:10.595Z"
   },
   {
    "duration": 6,
    "start_time": "2022-12-03T13:50:37.293Z"
   },
   {
    "duration": 110,
    "start_time": "2022-12-03T13:50:44.190Z"
   },
   {
    "duration": 16,
    "start_time": "2022-12-03T13:50:45.091Z"
   },
   {
    "duration": 15,
    "start_time": "2022-12-03T13:50:46.006Z"
   },
   {
    "duration": 3,
    "start_time": "2022-12-03T13:50:46.938Z"
   },
   {
    "duration": 47,
    "start_time": "2022-12-03T13:50:48.406Z"
   },
   {
    "duration": 6,
    "start_time": "2022-12-03T13:50:49.415Z"
   },
   {
    "duration": 4,
    "start_time": "2022-12-03T13:51:01.637Z"
   },
   {
    "duration": 5,
    "start_time": "2022-12-03T14:29:15.517Z"
   },
   {
    "duration": 8,
    "start_time": "2022-12-03T14:29:30.806Z"
   },
   {
    "duration": 4,
    "start_time": "2022-12-03T14:29:50.110Z"
   },
   {
    "duration": 787,
    "start_time": "2022-12-04T11:51:46.946Z"
   },
   {
    "duration": 113,
    "start_time": "2022-12-04T11:52:03.366Z"
   },
   {
    "duration": 16,
    "start_time": "2022-12-04T11:52:04.882Z"
   },
   {
    "duration": 17,
    "start_time": "2022-12-04T11:52:06.491Z"
   },
   {
    "duration": 2312,
    "start_time": "2022-12-04T11:52:07.366Z"
   },
   {
    "duration": 5,
    "start_time": "2022-12-04T11:52:09.680Z"
   },
   {
    "duration": 55,
    "start_time": "2022-12-04T11:52:09.938Z"
   },
   {
    "duration": 11,
    "start_time": "2022-12-04T11:52:13.723Z"
   },
   {
    "duration": 78,
    "start_time": "2022-12-04T11:54:37.657Z"
   },
   {
    "duration": 4,
    "start_time": "2022-12-04T11:55:13.174Z"
   },
   {
    "duration": 15,
    "start_time": "2022-12-04T11:57:21.045Z"
   },
   {
    "duration": 12,
    "start_time": "2022-12-04T12:04:57.064Z"
   },
   {
    "duration": 43,
    "start_time": "2022-12-04T12:05:45.566Z"
   },
   {
    "duration": 37,
    "start_time": "2022-12-04T12:06:17.838Z"
   },
   {
    "duration": 25,
    "start_time": "2022-12-04T12:09:46.706Z"
   },
   {
    "duration": 52,
    "start_time": "2022-12-04T12:09:55.940Z"
   },
   {
    "duration": 56,
    "start_time": "2022-12-04T12:10:46.545Z"
   },
   {
    "duration": 50,
    "start_time": "2022-12-04T12:10:54.285Z"
   },
   {
    "duration": 42,
    "start_time": "2022-12-04T12:11:40.912Z"
   },
   {
    "duration": 50,
    "start_time": "2022-12-04T12:12:06.889Z"
   },
   {
    "duration": 47,
    "start_time": "2022-12-04T12:12:13.646Z"
   },
   {
    "duration": 45,
    "start_time": "2022-12-04T12:12:33.938Z"
   },
   {
    "duration": 38,
    "start_time": "2022-12-04T12:12:52.782Z"
   },
   {
    "duration": 5,
    "start_time": "2022-12-04T12:14:40.866Z"
   },
   {
    "duration": 4,
    "start_time": "2022-12-04T12:15:16.680Z"
   },
   {
    "duration": 4,
    "start_time": "2022-12-04T12:15:30.537Z"
   },
   {
    "duration": 5,
    "start_time": "2022-12-04T12:15:56.291Z"
   },
   {
    "duration": 6,
    "start_time": "2022-12-04T12:16:42.816Z"
   },
   {
    "duration": 5,
    "start_time": "2022-12-04T12:16:53.512Z"
   },
   {
    "duration": 7,
    "start_time": "2022-12-04T12:17:19.102Z"
   },
   {
    "duration": 5,
    "start_time": "2022-12-04T12:17:39.066Z"
   },
   {
    "duration": 13,
    "start_time": "2022-12-04T12:21:45.695Z"
   },
   {
    "duration": 35,
    "start_time": "2022-12-04T12:22:17.639Z"
   },
   {
    "duration": 37,
    "start_time": "2022-12-04T12:23:51.772Z"
   },
   {
    "duration": 7,
    "start_time": "2022-12-04T12:25:59.031Z"
   },
   {
    "duration": 9,
    "start_time": "2022-12-04T12:26:05.993Z"
   },
   {
    "duration": 29,
    "start_time": "2022-12-04T12:26:13.503Z"
   },
   {
    "duration": 37,
    "start_time": "2022-12-04T12:26:32.711Z"
   },
   {
    "duration": 8,
    "start_time": "2022-12-04T12:26:52.852Z"
   },
   {
    "duration": 39,
    "start_time": "2022-12-04T12:26:57.514Z"
   },
   {
    "duration": 6,
    "start_time": "2022-12-04T12:29:55.983Z"
   },
   {
    "duration": 130,
    "start_time": "2022-12-04T12:43:49.107Z"
   },
   {
    "duration": 1414,
    "start_time": "2022-12-04T12:48:37.368Z"
   },
   {
    "duration": 1414,
    "start_time": "2022-12-04T12:48:50.191Z"
   },
   {
    "duration": 2256,
    "start_time": "2022-12-04T12:49:00.204Z"
   },
   {
    "duration": 2280,
    "start_time": "2022-12-04T12:50:02.301Z"
   },
   {
    "duration": 2170,
    "start_time": "2022-12-04T12:50:18.114Z"
   },
   {
    "duration": 1871,
    "start_time": "2022-12-04T12:50:35.665Z"
   },
   {
    "duration": 1881,
    "start_time": "2022-12-04T12:50:47.400Z"
   },
   {
    "duration": 2433,
    "start_time": "2022-12-04T12:50:59.342Z"
   },
   {
    "duration": 7,
    "start_time": "2022-12-04T12:53:49.946Z"
   },
   {
    "duration": 8,
    "start_time": "2022-12-04T12:55:16.337Z"
   },
   {
    "duration": 6,
    "start_time": "2022-12-04T12:59:19.979Z"
   },
   {
    "duration": 5,
    "start_time": "2022-12-04T13:01:17.607Z"
   },
   {
    "duration": 37,
    "start_time": "2022-12-04T13:02:44.130Z"
   },
   {
    "duration": 65,
    "start_time": "2022-12-04T13:05:17.817Z"
   },
   {
    "duration": 40,
    "start_time": "2022-12-04T13:43:38.992Z"
   },
   {
    "duration": 112,
    "start_time": "2022-12-04T13:43:47.799Z"
   },
   {
    "duration": 20,
    "start_time": "2022-12-04T13:43:47.913Z"
   },
   {
    "duration": 32,
    "start_time": "2022-12-04T13:43:47.934Z"
   },
   {
    "duration": 2184,
    "start_time": "2022-12-04T13:43:47.968Z"
   },
   {
    "duration": 4,
    "start_time": "2022-12-04T13:43:50.154Z"
   },
   {
    "duration": 66,
    "start_time": "2022-12-04T13:43:50.160Z"
   },
   {
    "duration": 30,
    "start_time": "2022-12-04T13:43:50.227Z"
   },
   {
    "duration": 28,
    "start_time": "2022-12-04T13:43:50.260Z"
   },
   {
    "duration": 46,
    "start_time": "2022-12-04T13:43:50.290Z"
   },
   {
    "duration": 7,
    "start_time": "2022-12-04T13:43:50.354Z"
   },
   {
    "duration": 17,
    "start_time": "2022-12-04T13:43:50.362Z"
   },
   {
    "duration": 39,
    "start_time": "2022-12-04T13:43:50.381Z"
   },
   {
    "duration": 9,
    "start_time": "2022-12-04T13:45:31.115Z"
   },
   {
    "duration": 39,
    "start_time": "2022-12-04T13:45:47.761Z"
   },
   {
    "duration": 3,
    "start_time": "2022-12-04T13:46:45.997Z"
   },
   {
    "duration": 8,
    "start_time": "2022-12-04T13:47:11.848Z"
   },
   {
    "duration": 7,
    "start_time": "2022-12-04T13:47:25.159Z"
   },
   {
    "duration": 10,
    "start_time": "2022-12-04T13:47:41.876Z"
   },
   {
    "duration": 10,
    "start_time": "2022-12-04T13:48:24.901Z"
   },
   {
    "duration": 34,
    "start_time": "2022-12-04T13:48:42.449Z"
   },
   {
    "duration": 8,
    "start_time": "2022-12-04T13:49:06.622Z"
   },
   {
    "duration": 8,
    "start_time": "2022-12-04T13:49:39.960Z"
   },
   {
    "duration": 13,
    "start_time": "2022-12-04T13:51:54.967Z"
   },
   {
    "duration": 15,
    "start_time": "2022-12-04T13:52:03.011Z"
   },
   {
    "duration": 9,
    "start_time": "2022-12-04T13:52:10.669Z"
   },
   {
    "duration": 10,
    "start_time": "2022-12-04T13:52:39.987Z"
   },
   {
    "duration": 9,
    "start_time": "2022-12-04T13:53:09.446Z"
   },
   {
    "duration": 4,
    "start_time": "2022-12-04T13:53:15.590Z"
   },
   {
    "duration": 40,
    "start_time": "2022-12-04T13:53:17.162Z"
   },
   {
    "duration": 4,
    "start_time": "2022-12-04T13:53:38.430Z"
   },
   {
    "duration": 46,
    "start_time": "2022-12-04T13:53:59.845Z"
   },
   {
    "duration": 11,
    "start_time": "2022-12-04T13:54:04.067Z"
   },
   {
    "duration": 11,
    "start_time": "2022-12-04T13:55:19.075Z"
   },
   {
    "duration": 4,
    "start_time": "2022-12-04T13:55:21.662Z"
   },
   {
    "duration": 13,
    "start_time": "2022-12-04T13:56:04.479Z"
   },
   {
    "duration": 11,
    "start_time": "2022-12-04T13:57:11.741Z"
   },
   {
    "duration": 12,
    "start_time": "2022-12-04T13:58:07.611Z"
   },
   {
    "duration": 14,
    "start_time": "2022-12-04T14:13:23.889Z"
   },
   {
    "duration": 38,
    "start_time": "2022-12-04T14:13:51.664Z"
   },
   {
    "duration": 12,
    "start_time": "2022-12-04T14:15:23.697Z"
   },
   {
    "duration": 10,
    "start_time": "2022-12-04T14:15:41.419Z"
   },
   {
    "duration": 5,
    "start_time": "2022-12-04T14:18:51.706Z"
   },
   {
    "duration": 13,
    "start_time": "2022-12-04T14:19:33.091Z"
   },
   {
    "duration": 14,
    "start_time": "2022-12-04T14:21:50.588Z"
   },
   {
    "duration": 11,
    "start_time": "2022-12-04T14:22:05.137Z"
   },
   {
    "duration": 13,
    "start_time": "2022-12-04T14:22:18.006Z"
   },
   {
    "duration": 12,
    "start_time": "2022-12-04T14:22:41.551Z"
   },
   {
    "duration": 9,
    "start_time": "2022-12-04T14:27:09.853Z"
   },
   {
    "duration": 6,
    "start_time": "2022-12-04T14:27:22.320Z"
   },
   {
    "duration": 5,
    "start_time": "2022-12-04T14:27:29.540Z"
   },
   {
    "duration": 7,
    "start_time": "2022-12-04T14:27:35.219Z"
   },
   {
    "duration": 750,
    "start_time": "2022-12-06T06:59:09.043Z"
   },
   {
    "duration": 16,
    "start_time": "2022-12-06T06:59:14.651Z"
   },
   {
    "duration": 22,
    "start_time": "2022-12-06T06:59:15.380Z"
   },
   {
    "duration": 2768,
    "start_time": "2022-12-06T06:59:15.888Z"
   },
   {
    "duration": 4,
    "start_time": "2022-12-06T06:59:18.659Z"
   },
   {
    "duration": 71,
    "start_time": "2022-12-06T06:59:18.664Z"
   },
   {
    "duration": 6,
    "start_time": "2022-12-06T06:59:22.254Z"
   },
   {
    "duration": 25,
    "start_time": "2022-12-06T06:59:23.379Z"
   },
   {
    "duration": 44,
    "start_time": "2022-12-06T06:59:24.084Z"
   },
   {
    "duration": 8,
    "start_time": "2022-12-06T06:59:25.919Z"
   },
   {
    "duration": 6,
    "start_time": "2022-12-06T06:59:27.027Z"
   },
   {
    "duration": 40,
    "start_time": "2022-12-06T06:59:28.244Z"
   },
   {
    "duration": 40,
    "start_time": "2022-12-06T06:59:29.329Z"
   },
   {
    "duration": 11,
    "start_time": "2022-12-06T06:59:31.083Z"
   },
   {
    "duration": 12,
    "start_time": "2022-12-06T06:59:33.375Z"
   },
   {
    "duration": 11,
    "start_time": "2022-12-06T06:59:34.532Z"
   },
   {
    "duration": 12,
    "start_time": "2022-12-06T06:59:36.640Z"
   },
   {
    "duration": 6,
    "start_time": "2022-12-06T06:59:38.593Z"
   },
   {
    "duration": 7,
    "start_time": "2022-12-06T06:59:39.144Z"
   },
   {
    "duration": 8,
    "start_time": "2022-12-06T06:59:43.600Z"
   },
   {
    "duration": 88,
    "start_time": "2022-12-06T06:59:45.769Z"
   },
   {
    "duration": 539,
    "start_time": "2022-12-06T08:09:28.764Z"
   },
   {
    "duration": 15,
    "start_time": "2022-12-06T08:09:33.241Z"
   },
   {
    "duration": 16,
    "start_time": "2022-12-06T08:09:33.797Z"
   },
   {
    "duration": 2492,
    "start_time": "2022-12-06T08:09:34.329Z"
   },
   {
    "duration": 5,
    "start_time": "2022-12-06T08:09:36.823Z"
   },
   {
    "duration": 66,
    "start_time": "2022-12-06T08:09:36.829Z"
   },
   {
    "duration": 5,
    "start_time": "2022-12-06T08:09:38.974Z"
   },
   {
    "duration": 24,
    "start_time": "2022-12-06T08:09:39.989Z"
   },
   {
    "duration": 39,
    "start_time": "2022-12-06T08:09:42.145Z"
   },
   {
    "duration": 6,
    "start_time": "2022-12-06T08:09:44.201Z"
   },
   {
    "duration": 5,
    "start_time": "2022-12-06T08:09:45.367Z"
   },
   {
    "duration": 43,
    "start_time": "2022-12-06T08:09:46.270Z"
   },
   {
    "duration": 35,
    "start_time": "2022-12-06T08:09:47.807Z"
   },
   {
    "duration": 10,
    "start_time": "2022-12-06T08:09:49.117Z"
   },
   {
    "duration": 11,
    "start_time": "2022-12-06T08:09:50.909Z"
   },
   {
    "duration": 9,
    "start_time": "2022-12-06T08:09:51.622Z"
   },
   {
    "duration": 10,
    "start_time": "2022-12-06T08:09:53.142Z"
   },
   {
    "duration": 5,
    "start_time": "2022-12-06T08:09:55.630Z"
   },
   {
    "duration": 164,
    "start_time": "2022-12-06T08:10:02.316Z"
   },
   {
    "duration": 92,
    "start_time": "2022-12-06T08:29:40.962Z"
   },
   {
    "duration": 83,
    "start_time": "2022-12-06T08:29:42.415Z"
   },
   {
    "duration": 84,
    "start_time": "2022-12-06T08:29:56.771Z"
   },
   {
    "duration": 107,
    "start_time": "2022-12-06T08:30:07.346Z"
   },
   {
    "duration": 81,
    "start_time": "2022-12-06T08:30:16.626Z"
   },
   {
    "duration": 92,
    "start_time": "2022-12-06T08:30:24.581Z"
   },
   {
    "duration": 18,
    "start_time": "2022-12-06T08:30:44.201Z"
   },
   {
    "duration": 18,
    "start_time": "2022-12-06T08:30:50.913Z"
   },
   {
    "duration": 18,
    "start_time": "2022-12-06T08:31:02.749Z"
   },
   {
    "duration": 17,
    "start_time": "2022-12-06T08:31:08.336Z"
   },
   {
    "duration": 83,
    "start_time": "2022-12-06T08:31:31.393Z"
   },
   {
    "duration": 18,
    "start_time": "2022-12-06T08:34:55.886Z"
   },
   {
    "duration": 5,
    "start_time": "2022-12-06T08:37:14.783Z"
   },
   {
    "duration": 297,
    "start_time": "2022-12-06T08:37:16.304Z"
   },
   {
    "duration": 76,
    "start_time": "2022-12-06T08:37:40.941Z"
   },
   {
    "duration": 78,
    "start_time": "2022-12-06T08:37:44.830Z"
   },
   {
    "duration": 5,
    "start_time": "2022-12-06T08:38:04.018Z"
   },
   {
    "duration": 309,
    "start_time": "2022-12-06T08:38:06.194Z"
   },
   {
    "duration": 245,
    "start_time": "2022-12-06T08:38:15.246Z"
   },
   {
    "duration": 4,
    "start_time": "2022-12-06T08:38:55.881Z"
   },
   {
    "duration": 151,
    "start_time": "2022-12-06T08:39:02.372Z"
   },
   {
    "duration": 4,
    "start_time": "2022-12-06T08:39:20.006Z"
   },
   {
    "duration": 7,
    "start_time": "2022-12-06T08:39:47.380Z"
   },
   {
    "duration": 241,
    "start_time": "2022-12-06T08:39:52.146Z"
   },
   {
    "duration": 5,
    "start_time": "2022-12-06T08:40:07.308Z"
   },
   {
    "duration": 158,
    "start_time": "2022-12-06T08:40:10.755Z"
   },
   {
    "duration": 4,
    "start_time": "2022-12-06T08:40:26.512Z"
   },
   {
    "duration": 128,
    "start_time": "2022-12-06T08:40:31.432Z"
   },
   {
    "duration": 8,
    "start_time": "2022-12-06T08:43:21.832Z"
   },
   {
    "duration": 12,
    "start_time": "2022-12-06T08:43:27.591Z"
   },
   {
    "duration": 10,
    "start_time": "2022-12-06T08:44:01.041Z"
   },
   {
    "duration": 8,
    "start_time": "2022-12-06T08:44:45.585Z"
   },
   {
    "duration": 106,
    "start_time": "2022-12-06T09:47:42.667Z"
   },
   {
    "duration": 572,
    "start_time": "2022-12-06T09:55:34.693Z"
   },
   {
    "duration": 15,
    "start_time": "2022-12-06T09:58:49.999Z"
   },
   {
    "duration": 13,
    "start_time": "2022-12-06T09:59:28.909Z"
   },
   {
    "duration": 17,
    "start_time": "2022-12-06T09:59:39.841Z"
   },
   {
    "duration": 17,
    "start_time": "2022-12-06T09:59:50.200Z"
   },
   {
    "duration": 314,
    "start_time": "2022-12-06T10:00:57.272Z"
   },
   {
    "duration": 13,
    "start_time": "2022-12-06T10:01:16.135Z"
   },
   {
    "duration": 5,
    "start_time": "2022-12-06T10:01:49.986Z"
   },
   {
    "duration": 48,
    "start_time": "2022-12-06T10:03:49.249Z"
   },
   {
    "duration": 17,
    "start_time": "2022-12-06T10:04:42.343Z"
   },
   {
    "duration": 47,
    "start_time": "2022-12-06T10:04:51.478Z"
   },
   {
    "duration": 5,
    "start_time": "2022-12-06T10:05:06.937Z"
   },
   {
    "duration": 5,
    "start_time": "2022-12-06T10:06:52.210Z"
   },
   {
    "duration": 102,
    "start_time": "2022-12-06T10:06:57.226Z"
   },
   {
    "duration": 104,
    "start_time": "2022-12-06T10:06:59.641Z"
   },
   {
    "duration": 18,
    "start_time": "2022-12-06T10:07:00.074Z"
   },
   {
    "duration": 2158,
    "start_time": "2022-12-06T10:07:01.391Z"
   },
   {
    "duration": 6,
    "start_time": "2022-12-06T10:07:03.552Z"
   },
   {
    "duration": 165,
    "start_time": "2022-12-06T10:07:04.098Z"
   },
   {
    "duration": 25,
    "start_time": "2022-12-06T10:07:05.232Z"
   },
   {
    "duration": 41,
    "start_time": "2022-12-06T10:07:06.349Z"
   },
   {
    "duration": 6,
    "start_time": "2022-12-06T10:07:09.019Z"
   },
   {
    "duration": 162,
    "start_time": "2022-12-06T10:07:10.484Z"
   },
   {
    "duration": 36,
    "start_time": "2022-12-06T10:07:11.658Z"
   },
   {
    "duration": 37,
    "start_time": "2022-12-06T10:07:12.873Z"
   },
   {
    "duration": 9,
    "start_time": "2022-12-06T10:07:14.272Z"
   },
   {
    "duration": 11,
    "start_time": "2022-12-06T10:07:15.556Z"
   },
   {
    "duration": 10,
    "start_time": "2022-12-06T10:07:16.275Z"
   },
   {
    "duration": 10,
    "start_time": "2022-12-06T10:07:17.472Z"
   },
   {
    "duration": 151,
    "start_time": "2022-12-06T10:07:19.152Z"
   },
   {
    "duration": 165,
    "start_time": "2022-12-06T10:07:19.956Z"
   },
   {
    "duration": 4,
    "start_time": "2022-12-06T10:08:19.788Z"
   },
   {
    "duration": 164,
    "start_time": "2022-12-06T10:08:26.675Z"
   },
   {
    "duration": 271,
    "start_time": "2022-12-06T10:08:43.997Z"
   },
   {
    "duration": 6,
    "start_time": "2022-12-06T10:09:22.231Z"
   },
   {
    "duration": 2834,
    "start_time": "2022-12-06T10:17:28.587Z"
   },
   {
    "duration": 2735,
    "start_time": "2022-12-06T10:18:08.757Z"
   },
   {
    "duration": 10,
    "start_time": "2022-12-06T10:18:32.567Z"
   },
   {
    "duration": 2754,
    "start_time": "2022-12-06T10:19:07.069Z"
   },
   {
    "duration": 2795,
    "start_time": "2022-12-06T10:19:16.060Z"
   },
   {
    "duration": 2777,
    "start_time": "2022-12-06T10:19:19.089Z"
   },
   {
    "duration": 2662,
    "start_time": "2022-12-06T10:19:51.222Z"
   },
   {
    "duration": 2726,
    "start_time": "2022-12-06T10:20:14.107Z"
   },
   {
    "duration": 2744,
    "start_time": "2022-12-06T10:20:31.781Z"
   },
   {
    "duration": 3340,
    "start_time": "2022-12-06T10:20:47.338Z"
   },
   {
    "duration": 3385,
    "start_time": "2022-12-06T10:21:45.222Z"
   },
   {
    "duration": 723,
    "start_time": "2022-12-07T13:25:15.573Z"
   },
   {
    "duration": 138,
    "start_time": "2022-12-07T13:25:19.938Z"
   },
   {
    "duration": 24,
    "start_time": "2022-12-07T13:25:25.113Z"
   },
   {
    "duration": 3796,
    "start_time": "2022-12-07T13:25:27.684Z"
   },
   {
    "duration": 112,
    "start_time": "2022-12-07T13:25:31.708Z"
   },
   {
    "duration": 5,
    "start_time": "2022-12-07T13:25:35.396Z"
   },
   {
    "duration": 307,
    "start_time": "2022-12-07T13:25:39.794Z"
   },
   {
    "duration": 35,
    "start_time": "2022-12-07T13:25:44.860Z"
   },
   {
    "duration": 59,
    "start_time": "2022-12-07T13:25:47.755Z"
   },
   {
    "duration": 22,
    "start_time": "2022-12-07T13:25:51.633Z"
   },
   {
    "duration": 268,
    "start_time": "2022-12-07T13:26:10.411Z"
   },
   {
    "duration": 62,
    "start_time": "2022-12-07T13:26:13.952Z"
   },
   {
    "duration": 59,
    "start_time": "2022-12-07T13:26:18.052Z"
   },
   {
    "duration": 11,
    "start_time": "2022-12-07T13:26:20.900Z"
   },
   {
    "duration": 16,
    "start_time": "2022-12-07T13:26:23.916Z"
   },
   {
    "duration": 12,
    "start_time": "2022-12-07T13:26:26.849Z"
   },
   {
    "duration": 15,
    "start_time": "2022-12-07T13:26:29.731Z"
   },
   {
    "duration": 246,
    "start_time": "2022-12-07T13:26:33.647Z"
   },
   {
    "duration": 6,
    "start_time": "2022-12-07T13:27:06.262Z"
   },
   {
    "duration": 8,
    "start_time": "2022-12-07T13:27:09.386Z"
   },
   {
    "duration": 232,
    "start_time": "2022-12-07T13:27:37.352Z"
   },
   {
    "duration": 229,
    "start_time": "2022-12-07T13:27:57.573Z"
   },
   {
    "duration": 597,
    "start_time": "2022-12-07T13:28:04.465Z"
   },
   {
    "duration": 2528,
    "start_time": "2022-12-07T13:28:13.154Z"
   },
   {
    "duration": 181,
    "start_time": "2022-12-07T13:28:23.032Z"
   },
   {
    "duration": 201,
    "start_time": "2022-12-07T13:28:42.736Z"
   },
   {
    "duration": 210,
    "start_time": "2022-12-07T13:28:53.466Z"
   },
   {
    "duration": 228,
    "start_time": "2022-12-07T13:29:08.654Z"
   },
   {
    "duration": 444,
    "start_time": "2022-12-07T13:29:30.671Z"
   },
   {
    "duration": 235,
    "start_time": "2022-12-07T13:29:38.957Z"
   },
   {
    "duration": 217,
    "start_time": "2022-12-07T13:29:49.373Z"
   },
   {
    "duration": 268,
    "start_time": "2022-12-07T13:30:21.494Z"
   },
   {
    "duration": 388,
    "start_time": "2022-12-07T13:30:46.215Z"
   },
   {
    "duration": 258,
    "start_time": "2022-12-07T13:30:53.127Z"
   },
   {
    "duration": 12,
    "start_time": "2022-12-07T13:34:16.312Z"
   },
   {
    "duration": 13,
    "start_time": "2022-12-07T13:34:30.969Z"
   },
   {
    "duration": 15,
    "start_time": "2022-12-07T13:34:46.451Z"
   },
   {
    "duration": 5133,
    "start_time": "2022-12-07T13:35:04.400Z"
   },
   {
    "duration": 3588,
    "start_time": "2022-12-07T13:35:52.215Z"
   },
   {
    "duration": 23,
    "start_time": "2022-12-07T13:36:04.156Z"
   },
   {
    "duration": 3081,
    "start_time": "2022-12-07T13:37:15.538Z"
   },
   {
    "duration": 9,
    "start_time": "2022-12-07T13:37:47.796Z"
   },
   {
    "duration": 3270,
    "start_time": "2022-12-07T13:38:12.183Z"
   },
   {
    "duration": 556,
    "start_time": "2022-12-07T13:38:52.762Z"
   },
   {
    "duration": 91,
    "start_time": "2022-12-07T13:39:28.508Z"
   },
   {
    "duration": 3397,
    "start_time": "2022-12-07T13:39:42.743Z"
   },
   {
    "duration": 25,
    "start_time": "2022-12-07T13:42:49.359Z"
   },
   {
    "duration": 186,
    "start_time": "2022-12-07T13:45:34.999Z"
   },
   {
    "duration": 92,
    "start_time": "2022-12-07T13:46:26.647Z"
   },
   {
    "duration": 14,
    "start_time": "2022-12-07T13:50:13.651Z"
   },
   {
    "duration": 11,
    "start_time": "2022-12-07T13:50:19.043Z"
   },
   {
    "duration": 8,
    "start_time": "2022-12-07T13:50:31.049Z"
   },
   {
    "duration": 12,
    "start_time": "2022-12-07T13:51:21.073Z"
   },
   {
    "duration": 13,
    "start_time": "2022-12-07T13:51:31.889Z"
   },
   {
    "duration": 92,
    "start_time": "2022-12-07T13:52:05.195Z"
   },
   {
    "duration": 20,
    "start_time": "2022-12-07T13:52:10.920Z"
   },
   {
    "duration": 19,
    "start_time": "2022-12-07T13:52:21.734Z"
   },
   {
    "duration": 11,
    "start_time": "2022-12-07T13:52:29.550Z"
   },
   {
    "duration": 11,
    "start_time": "2022-12-07T13:55:12.789Z"
   },
   {
    "duration": 179,
    "start_time": "2022-12-07T13:56:41.844Z"
   },
   {
    "duration": 49,
    "start_time": "2022-12-07T14:01:27.196Z"
   },
   {
    "duration": 39,
    "start_time": "2022-12-07T14:03:00.744Z"
   },
   {
    "duration": 13,
    "start_time": "2022-12-07T14:05:58.239Z"
   },
   {
    "duration": 21,
    "start_time": "2022-12-07T14:06:07.351Z"
   },
   {
    "duration": 34,
    "start_time": "2022-12-07T14:07:49.899Z"
   },
   {
    "duration": 168,
    "start_time": "2022-12-07T14:13:04.656Z"
   },
   {
    "duration": 49,
    "start_time": "2022-12-07T14:13:29.115Z"
   },
   {
    "duration": 39,
    "start_time": "2022-12-07T14:15:38.696Z"
   },
   {
    "duration": 39,
    "start_time": "2022-12-07T14:15:59.048Z"
   },
   {
    "duration": 85,
    "start_time": "2022-12-07T14:17:26.498Z"
   },
   {
    "duration": 14,
    "start_time": "2022-12-07T14:18:07.348Z"
   },
   {
    "duration": 10,
    "start_time": "2022-12-07T14:19:23.919Z"
   },
   {
    "duration": 31,
    "start_time": "2022-12-07T14:19:43.313Z"
   },
   {
    "duration": 71,
    "start_time": "2022-12-07T14:22:41.243Z"
   },
   {
    "duration": 8,
    "start_time": "2022-12-07T14:29:01.268Z"
   },
   {
    "duration": 8,
    "start_time": "2022-12-07T14:29:30.446Z"
   },
   {
    "duration": 21,
    "start_time": "2022-12-07T14:31:19.400Z"
   },
   {
    "duration": 7,
    "start_time": "2022-12-07T14:31:33.125Z"
   },
   {
    "duration": 5,
    "start_time": "2022-12-07T14:32:08.915Z"
   },
   {
    "duration": 13,
    "start_time": "2022-12-07T14:32:25.207Z"
   },
   {
    "duration": 3,
    "start_time": "2022-12-07T14:32:33.963Z"
   },
   {
    "duration": 6,
    "start_time": "2022-12-07T14:32:41.556Z"
   },
   {
    "duration": 28,
    "start_time": "2022-12-07T14:42:02.970Z"
   },
   {
    "duration": 9,
    "start_time": "2022-12-07T14:42:11.866Z"
   },
   {
    "duration": 7,
    "start_time": "2022-12-07T14:42:16.043Z"
   },
   {
    "duration": 77,
    "start_time": "2022-12-07T14:42:30.500Z"
   },
   {
    "duration": 41,
    "start_time": "2022-12-07T14:42:59.549Z"
   },
   {
    "duration": 61,
    "start_time": "2022-12-07T14:43:03.875Z"
   },
   {
    "duration": 144,
    "start_time": "2022-12-07T14:43:26.408Z"
   },
   {
    "duration": 42,
    "start_time": "2022-12-07T14:43:59.340Z"
   },
   {
    "duration": 73,
    "start_time": "2022-12-07T14:44:04.015Z"
   },
   {
    "duration": 164,
    "start_time": "2022-12-07T14:44:47.149Z"
   },
   {
    "duration": 27,
    "start_time": "2022-12-07T14:45:40.747Z"
   },
   {
    "duration": 180,
    "start_time": "2022-12-07T14:46:14.372Z"
   },
   {
    "duration": 143,
    "start_time": "2022-12-07T14:46:16.614Z"
   },
   {
    "duration": 30,
    "start_time": "2022-12-07T14:46:17.037Z"
   },
   {
    "duration": 2998,
    "start_time": "2022-12-07T14:46:17.689Z"
   },
   {
    "duration": 7,
    "start_time": "2022-12-07T14:46:20.689Z"
   },
   {
    "duration": 56,
    "start_time": "2022-12-07T14:46:20.709Z"
   },
   {
    "duration": 41,
    "start_time": "2022-12-07T14:46:22.655Z"
   },
   {
    "duration": 74,
    "start_time": "2022-12-07T14:46:24.627Z"
   },
   {
    "duration": 243,
    "start_time": "2022-12-07T14:46:41.820Z"
   },
   {
    "duration": 13,
    "start_time": "2022-12-07T14:46:42.394Z"
   },
   {
    "duration": 15,
    "start_time": "2022-12-07T14:46:43.264Z"
   },
   {
    "duration": 18,
    "start_time": "2022-12-07T14:46:43.540Z"
   },
   {
    "duration": 27,
    "start_time": "2022-12-07T14:46:44.118Z"
   },
   {
    "duration": 8,
    "start_time": "2022-12-07T14:46:45.378Z"
   },
   {
    "duration": 19,
    "start_time": "2022-12-07T14:46:45.848Z"
   },
   {
    "duration": 7,
    "start_time": "2022-12-07T14:46:47.191Z"
   },
   {
    "duration": 3947,
    "start_time": "2022-12-07T14:46:51.819Z"
   },
   {
    "duration": 8,
    "start_time": "2022-12-07T14:46:55.769Z"
   },
   {
    "duration": 3,
    "start_time": "2022-12-07T14:47:35.492Z"
   },
   {
    "duration": 7,
    "start_time": "2022-12-07T14:47:36.953Z"
   },
   {
    "duration": 230,
    "start_time": "2022-12-07T14:47:56.665Z"
   },
   {
    "duration": 4180,
    "start_time": "2022-12-07T14:48:03.465Z"
   },
   {
    "duration": 35,
    "start_time": "2022-12-07T14:53:50.034Z"
   },
   {
    "duration": 60,
    "start_time": "2022-12-07T14:53:52.100Z"
   },
   {
    "duration": 32,
    "start_time": "2022-12-07T14:56:50.784Z"
   },
   {
    "duration": 66,
    "start_time": "2022-12-07T14:56:53.780Z"
   },
   {
    "duration": 65,
    "start_time": "2022-12-07T14:57:10.847Z"
   },
   {
    "duration": 38,
    "start_time": "2022-12-07T14:57:31.201Z"
   },
   {
    "duration": 10,
    "start_time": "2022-12-07T14:57:46.199Z"
   },
   {
    "duration": 19,
    "start_time": "2022-12-07T14:57:56.367Z"
   },
   {
    "duration": 235,
    "start_time": "2022-12-07T14:58:20.567Z"
   },
   {
    "duration": 226,
    "start_time": "2022-12-07T14:58:40.568Z"
   },
   {
    "duration": 43,
    "start_time": "2022-12-07T14:59:00.796Z"
   },
   {
    "duration": 11,
    "start_time": "2022-12-07T14:59:04.171Z"
   },
   {
    "duration": 51,
    "start_time": "2022-12-07T14:59:58.459Z"
   },
   {
    "duration": 29,
    "start_time": "2022-12-07T15:00:32.639Z"
   },
   {
    "duration": 8,
    "start_time": "2022-12-07T15:00:34.495Z"
   },
   {
    "duration": 57,
    "start_time": "2022-12-07T15:00:44.363Z"
   },
   {
    "duration": 22,
    "start_time": "2022-12-07T15:00:45.683Z"
   },
   {
    "duration": 36,
    "start_time": "2022-12-07T15:01:06.383Z"
   },
   {
    "duration": 13,
    "start_time": "2022-12-07T15:01:07.868Z"
   },
   {
    "duration": 167,
    "start_time": "2022-12-07T15:01:17.837Z"
   },
   {
    "duration": 148,
    "start_time": "2022-12-07T15:01:19.379Z"
   },
   {
    "duration": 27,
    "start_time": "2022-12-07T15:01:20.685Z"
   },
   {
    "duration": 3282,
    "start_time": "2022-12-07T15:01:22.432Z"
   },
   {
    "duration": 6,
    "start_time": "2022-12-07T15:01:25.718Z"
   },
   {
    "duration": 16,
    "start_time": "2022-12-07T15:01:27.764Z"
   },
   {
    "duration": 54,
    "start_time": "2022-12-07T15:01:29.500Z"
   },
   {
    "duration": 83,
    "start_time": "2022-12-07T15:01:31.581Z"
   },
   {
    "duration": 81,
    "start_time": "2022-12-07T15:02:40.409Z"
   },
   {
    "duration": 59,
    "start_time": "2022-12-07T15:02:41.461Z"
   },
   {
    "duration": 18,
    "start_time": "2022-12-07T15:02:41.843Z"
   },
   {
    "duration": 15,
    "start_time": "2022-12-07T15:02:42.251Z"
   },
   {
    "duration": 12,
    "start_time": "2022-12-07T15:02:42.452Z"
   },
   {
    "duration": 36,
    "start_time": "2022-12-07T15:02:42.864Z"
   },
   {
    "duration": 7,
    "start_time": "2022-12-07T15:02:43.457Z"
   },
   {
    "duration": 9,
    "start_time": "2022-12-07T15:02:43.660Z"
   },
   {
    "duration": 11,
    "start_time": "2022-12-07T15:02:44.084Z"
   },
   {
    "duration": 4175,
    "start_time": "2022-12-07T15:02:44.495Z"
   },
   {
    "duration": 272,
    "start_time": "2022-12-07T15:02:48.673Z"
   },
   {
    "duration": 274,
    "start_time": "2022-12-07T15:04:24.165Z"
   },
   {
    "duration": 3,
    "start_time": "2022-12-07T15:18:09.494Z"
   },
   {
    "duration": 16,
    "start_time": "2022-12-07T15:18:21.663Z"
   },
   {
    "duration": 8,
    "start_time": "2022-12-07T15:18:36.185Z"
   },
   {
    "duration": 7,
    "start_time": "2022-12-07T15:18:53.058Z"
   },
   {
    "duration": 58,
    "start_time": "2022-12-07T15:21:46.441Z"
   },
   {
    "duration": 326,
    "start_time": "2022-12-07T15:30:05.026Z"
   },
   {
    "duration": 16,
    "start_time": "2022-12-07T15:31:32.905Z"
   },
   {
    "duration": 15,
    "start_time": "2022-12-07T15:37:15.013Z"
   },
   {
    "duration": 15,
    "start_time": "2022-12-07T15:37:37.261Z"
   },
   {
    "duration": 15,
    "start_time": "2022-12-07T15:37:48.741Z"
   },
   {
    "duration": 49,
    "start_time": "2022-12-07T15:37:58.785Z"
   },
   {
    "duration": 44,
    "start_time": "2022-12-07T15:38:10.300Z"
   },
   {
    "duration": 4648,
    "start_time": "2022-12-07T15:39:58.829Z"
   },
   {
    "duration": 207,
    "start_time": "2022-12-07T15:41:41.300Z"
   },
   {
    "duration": 122,
    "start_time": "2022-12-07T15:41:52.552Z"
   },
   {
    "duration": 4666,
    "start_time": "2022-12-07T15:43:09.161Z"
   },
   {
    "duration": 4886,
    "start_time": "2022-12-07T15:43:40.549Z"
   },
   {
    "duration": 3940,
    "start_time": "2022-12-07T15:43:52.502Z"
   },
   {
    "duration": 47,
    "start_time": "2022-12-07T15:45:38.060Z"
   },
   {
    "duration": 47,
    "start_time": "2022-12-07T15:45:48.836Z"
   },
   {
    "duration": 146,
    "start_time": "2022-12-07T15:46:05.286Z"
   },
   {
    "duration": 174,
    "start_time": "2022-12-07T15:47:05.799Z"
   },
   {
    "duration": 131,
    "start_time": "2022-12-07T15:47:10.363Z"
   },
   {
    "duration": 32,
    "start_time": "2022-12-07T15:47:16.702Z"
   },
   {
    "duration": 3175,
    "start_time": "2022-12-07T15:47:22.932Z"
   },
   {
    "duration": 8,
    "start_time": "2022-12-07T15:47:29.443Z"
   },
   {
    "duration": 13,
    "start_time": "2022-12-07T15:47:34.263Z"
   },
   {
    "duration": 54,
    "start_time": "2022-12-07T15:47:39.599Z"
   },
   {
    "duration": 60,
    "start_time": "2022-12-07T15:47:43.179Z"
   },
   {
    "duration": 73,
    "start_time": "2022-12-07T15:47:56.257Z"
   },
   {
    "duration": 14,
    "start_time": "2022-12-07T15:48:03.485Z"
   },
   {
    "duration": 11,
    "start_time": "2022-12-07T15:48:10.472Z"
   },
   {
    "duration": 12,
    "start_time": "2022-12-07T15:48:11.969Z"
   },
   {
    "duration": 17,
    "start_time": "2022-12-07T15:48:17.582Z"
   },
   {
    "duration": 13,
    "start_time": "2022-12-07T15:48:25.745Z"
   },
   {
    "duration": 16,
    "start_time": "2022-12-07T15:48:30.527Z"
   },
   {
    "duration": 3666,
    "start_time": "2022-12-07T15:48:37.720Z"
   },
   {
    "duration": 68,
    "start_time": "2022-12-07T15:48:48.197Z"
   },
   {
    "duration": 4000,
    "start_time": "2022-12-07T15:48:50.738Z"
   },
   {
    "duration": 46,
    "start_time": "2022-12-07T15:49:15.153Z"
   },
   {
    "duration": 245,
    "start_time": "2022-12-07T15:54:22.004Z"
   },
   {
    "duration": 77,
    "start_time": "2022-12-07T15:54:41.065Z"
   },
   {
    "duration": 169,
    "start_time": "2022-12-07T15:58:59.888Z"
   },
   {
    "duration": 3523,
    "start_time": "2022-12-07T15:59:16.446Z"
   },
   {
    "duration": 3593,
    "start_time": "2022-12-07T15:59:37.112Z"
   },
   {
    "duration": 3532,
    "start_time": "2022-12-07T15:59:55.700Z"
   },
   {
    "duration": 3863,
    "start_time": "2022-12-07T16:01:28.693Z"
   },
   {
    "duration": 118,
    "start_time": "2022-12-07T16:01:49.996Z"
   },
   {
    "duration": 18,
    "start_time": "2022-12-07T16:01:54.049Z"
   },
   {
    "duration": 8,
    "start_time": "2022-12-07T16:02:04.480Z"
   },
   {
    "duration": 7,
    "start_time": "2022-12-07T16:02:19.081Z"
   },
   {
    "duration": 7,
    "start_time": "2022-12-07T16:02:31.200Z"
   },
   {
    "duration": 6,
    "start_time": "2022-12-07T16:02:43.944Z"
   },
   {
    "duration": 3012,
    "start_time": "2022-12-07T16:02:55.580Z"
   },
   {
    "duration": 11,
    "start_time": "2022-12-07T16:05:02.932Z"
   },
   {
    "duration": 7,
    "start_time": "2022-12-07T16:05:10.532Z"
   },
   {
    "duration": 9,
    "start_time": "2022-12-07T16:05:27.831Z"
   },
   {
    "duration": 3339,
    "start_time": "2022-12-07T16:05:42.171Z"
   },
   {
    "duration": 10,
    "start_time": "2022-12-07T16:05:45.513Z"
   },
   {
    "duration": 8,
    "start_time": "2022-12-07T16:05:53.911Z"
   },
   {
    "duration": 50,
    "start_time": "2022-12-07T16:06:14.179Z"
   },
   {
    "duration": 45,
    "start_time": "2022-12-07T16:06:17.504Z"
   },
   {
    "duration": 163,
    "start_time": "2022-12-07T16:14:54.204Z"
   },
   {
    "duration": 12,
    "start_time": "2022-12-07T16:14:58.958Z"
   },
   {
    "duration": 116,
    "start_time": "2022-12-07T16:16:12.959Z"
   },
   {
    "duration": 12,
    "start_time": "2022-12-07T16:28:06.957Z"
   },
   {
    "duration": 47,
    "start_time": "2022-12-07T16:28:19.830Z"
   },
   {
    "duration": 39,
    "start_time": "2022-12-07T16:34:49.261Z"
   },
   {
    "duration": 28,
    "start_time": "2022-12-07T16:35:09.402Z"
   },
   {
    "duration": 11,
    "start_time": "2022-12-07T16:35:16.806Z"
   },
   {
    "duration": 30,
    "start_time": "2022-12-07T16:35:31.361Z"
   },
   {
    "duration": 11,
    "start_time": "2022-12-07T16:35:35.640Z"
   },
   {
    "duration": 132,
    "start_time": "2022-12-07T16:56:30.655Z"
   },
   {
    "duration": 135,
    "start_time": "2022-12-07T16:56:35.049Z"
   },
   {
    "duration": 40,
    "start_time": "2022-12-07T16:56:39.086Z"
   },
   {
    "duration": 2978,
    "start_time": "2022-12-07T16:56:42.007Z"
   },
   {
    "duration": 3232,
    "start_time": "2022-12-07T16:56:45.545Z"
   },
   {
    "duration": 8,
    "start_time": "2022-12-07T16:57:13.160Z"
   },
   {
    "duration": 35,
    "start_time": "2022-12-07T16:57:17.316Z"
   },
   {
    "duration": 59,
    "start_time": "2022-12-07T16:57:20.986Z"
   },
   {
    "duration": 74,
    "start_time": "2022-12-07T16:57:24.669Z"
   },
   {
    "duration": 19,
    "start_time": "2022-12-07T16:57:28.719Z"
   },
   {
    "duration": 21,
    "start_time": "2022-12-07T16:57:29.518Z"
   },
   {
    "duration": 11,
    "start_time": "2022-12-07T16:57:29.945Z"
   },
   {
    "duration": 11,
    "start_time": "2022-12-07T16:57:30.445Z"
   },
   {
    "duration": 7,
    "start_time": "2022-12-07T16:57:31.896Z"
   },
   {
    "duration": 9,
    "start_time": "2022-12-07T16:57:33.768Z"
   },
   {
    "duration": 11,
    "start_time": "2022-12-07T16:57:34.333Z"
   },
   {
    "duration": 3531,
    "start_time": "2022-12-07T16:57:35.404Z"
   },
   {
    "duration": 14,
    "start_time": "2022-12-07T16:57:44.545Z"
   },
   {
    "duration": 13,
    "start_time": "2022-12-07T16:58:01.795Z"
   },
   {
    "duration": 8,
    "start_time": "2022-12-07T16:58:08.995Z"
   },
   {
    "duration": 28,
    "start_time": "2022-12-07T16:58:23.812Z"
   },
   {
    "duration": 8,
    "start_time": "2022-12-07T16:58:36.107Z"
   },
   {
    "duration": 76,
    "start_time": "2022-12-07T16:58:41.267Z"
   },
   {
    "duration": 12,
    "start_time": "2022-12-07T16:58:50.595Z"
   },
   {
    "duration": 156,
    "start_time": "2022-12-07T17:00:04.443Z"
   },
   {
    "duration": 117,
    "start_time": "2022-12-07T17:00:09.055Z"
   },
   {
    "duration": 10,
    "start_time": "2022-12-07T17:00:15.255Z"
   },
   {
    "duration": 9,
    "start_time": "2022-12-07T17:00:23.991Z"
   },
   {
    "duration": 6,
    "start_time": "2022-12-07T17:00:45.609Z"
   },
   {
    "duration": 8,
    "start_time": "2022-12-07T17:01:34.761Z"
   },
   {
    "duration": 32,
    "start_time": "2022-12-07T17:08:58.168Z"
   },
   {
    "duration": 31,
    "start_time": "2022-12-07T17:09:03.071Z"
   },
   {
    "duration": 30,
    "start_time": "2022-12-07T17:09:11.579Z"
   },
   {
    "duration": 31,
    "start_time": "2022-12-07T17:09:18.962Z"
   },
   {
    "duration": 54,
    "start_time": "2022-12-07T17:14:50.202Z"
   },
   {
    "duration": 15,
    "start_time": "2022-12-07T17:39:47.562Z"
   },
   {
    "duration": 10,
    "start_time": "2022-12-07T17:45:18.533Z"
   },
   {
    "duration": 7,
    "start_time": "2022-12-07T17:46:24.310Z"
   },
   {
    "duration": 5,
    "start_time": "2022-12-07T17:47:12.898Z"
   },
   {
    "duration": 9,
    "start_time": "2022-12-07T17:47:21.053Z"
   },
   {
    "duration": 16,
    "start_time": "2022-12-07T17:48:19.519Z"
   },
   {
    "duration": 5,
    "start_time": "2022-12-07T17:48:53.449Z"
   },
   {
    "duration": 9,
    "start_time": "2022-12-07T17:49:18.994Z"
   },
   {
    "duration": 21,
    "start_time": "2022-12-07T17:49:27.203Z"
   },
   {
    "duration": 26,
    "start_time": "2022-12-07T17:49:39.236Z"
   },
   {
    "duration": 72,
    "start_time": "2022-12-07T17:50:13.164Z"
   },
   {
    "duration": 19,
    "start_time": "2022-12-07T17:50:15.158Z"
   },
   {
    "duration": 62,
    "start_time": "2022-12-07T17:50:20.357Z"
   },
   {
    "duration": 120,
    "start_time": "2022-12-07T17:50:43.697Z"
   },
   {
    "duration": 61,
    "start_time": "2022-12-07T17:50:52.911Z"
   },
   {
    "duration": 23,
    "start_time": "2022-12-07T17:50:58.244Z"
   },
   {
    "duration": 67,
    "start_time": "2022-12-07T17:51:30.819Z"
   },
   {
    "duration": 28,
    "start_time": "2022-12-07T17:51:32.113Z"
   },
   {
    "duration": 51,
    "start_time": "2022-12-07T17:51:54.763Z"
   },
   {
    "duration": 19,
    "start_time": "2022-12-07T17:51:56.451Z"
   },
   {
    "duration": 103,
    "start_time": "2022-12-07T17:52:12.772Z"
   },
   {
    "duration": 25,
    "start_time": "2022-12-07T17:52:13.760Z"
   },
   {
    "duration": 94,
    "start_time": "2022-12-07T17:52:38.472Z"
   },
   {
    "duration": 19,
    "start_time": "2022-12-07T17:52:41.152Z"
   },
   {
    "duration": 208,
    "start_time": "2022-12-07T17:54:12.393Z"
   },
   {
    "duration": 15,
    "start_time": "2022-12-07T17:54:13.401Z"
   },
   {
    "duration": 166,
    "start_time": "2022-12-07T17:54:51.456Z"
   },
   {
    "duration": 32,
    "start_time": "2022-12-07T17:54:52.753Z"
   },
   {
    "duration": 209,
    "start_time": "2022-12-07T17:55:40.237Z"
   },
   {
    "duration": 16,
    "start_time": "2022-12-07T17:55:41.092Z"
   },
   {
    "duration": 65,
    "start_time": "2022-12-07T17:56:03.609Z"
   },
   {
    "duration": 187,
    "start_time": "2022-12-07T17:56:58.216Z"
   },
   {
    "duration": 17,
    "start_time": "2022-12-07T17:57:00.353Z"
   },
   {
    "duration": 34,
    "start_time": "2022-12-07T17:58:32.312Z"
   },
   {
    "duration": 20,
    "start_time": "2022-12-07T17:58:37.874Z"
   },
   {
    "duration": 135,
    "start_time": "2022-12-07T17:59:21.021Z"
   },
   {
    "duration": 569,
    "start_time": "2022-12-07T17:59:57.708Z"
   },
   {
    "duration": 101,
    "start_time": "2022-12-07T18:00:03.611Z"
   },
   {
    "duration": 19,
    "start_time": "2022-12-07T18:00:09.912Z"
   },
   {
    "duration": 2764,
    "start_time": "2022-12-07T18:00:13.448Z"
   },
   {
    "duration": 20,
    "start_time": "2022-12-07T18:00:19.314Z"
   },
   {
    "duration": 9,
    "start_time": "2022-12-07T18:00:29.464Z"
   },
   {
    "duration": 33,
    "start_time": "2022-12-07T18:00:35.275Z"
   },
   {
    "duration": 58,
    "start_time": "2022-12-07T18:00:38.715Z"
   },
   {
    "duration": 48,
    "start_time": "2022-12-07T18:00:42.456Z"
   },
   {
    "duration": 11,
    "start_time": "2022-12-07T18:00:48.451Z"
   },
   {
    "duration": 12,
    "start_time": "2022-12-07T18:00:51.588Z"
   },
   {
    "duration": 14,
    "start_time": "2022-12-07T18:00:54.320Z"
   },
   {
    "duration": 31,
    "start_time": "2022-12-07T18:00:57.717Z"
   },
   {
    "duration": 6,
    "start_time": "2022-12-07T18:01:01.095Z"
   },
   {
    "duration": 7,
    "start_time": "2022-12-07T18:01:05.101Z"
   },
   {
    "duration": 10,
    "start_time": "2022-12-07T18:01:09.946Z"
   },
   {
    "duration": 3012,
    "start_time": "2022-12-07T18:01:12.785Z"
   },
   {
    "duration": 37,
    "start_time": "2022-12-07T18:01:32.896Z"
   },
   {
    "duration": 30,
    "start_time": "2022-12-07T18:01:35.368Z"
   },
   {
    "duration": 188,
    "start_time": "2022-12-07T18:01:38.056Z"
   },
   {
    "duration": 17,
    "start_time": "2022-12-07T18:01:43.495Z"
   },
   {
    "duration": 30,
    "start_time": "2022-12-07T18:01:47.523Z"
   },
   {
    "duration": 16,
    "start_time": "2022-12-07T18:01:49.445Z"
   },
   {
    "duration": 82,
    "start_time": "2022-12-07T18:07:54.310Z"
   },
   {
    "duration": 126,
    "start_time": "2022-12-07T18:10:07.773Z"
   },
   {
    "duration": 57,
    "start_time": "2022-12-07T18:10:37.960Z"
   },
   {
    "duration": 7,
    "start_time": "2022-12-07T18:15:59.663Z"
   },
   {
    "duration": 61,
    "start_time": "2022-12-07T18:16:05.505Z"
   },
   {
    "duration": 16,
    "start_time": "2022-12-07T18:16:47.167Z"
   },
   {
    "duration": 51,
    "start_time": "2022-12-07T18:20:12.500Z"
   },
   {
    "duration": 28,
    "start_time": "2022-12-07T18:20:35.601Z"
   },
   {
    "duration": 24,
    "start_time": "2022-12-07T18:20:52.796Z"
   },
   {
    "duration": 36,
    "start_time": "2022-12-07T18:21:03.319Z"
   },
   {
    "duration": 16,
    "start_time": "2022-12-07T18:21:10.984Z"
   },
   {
    "duration": 93,
    "start_time": "2022-12-07T18:29:25.232Z"
   },
   {
    "duration": 11,
    "start_time": "2022-12-07T18:29:37.589Z"
   },
   {
    "duration": 79,
    "start_time": "2022-12-07T18:29:40.704Z"
   },
   {
    "duration": 789,
    "start_time": "2022-12-08T17:08:29.242Z"
   },
   {
    "duration": 95,
    "start_time": "2022-12-08T17:08:36.700Z"
   },
   {
    "duration": 19,
    "start_time": "2022-12-08T17:08:42.509Z"
   },
   {
    "duration": 3028,
    "start_time": "2022-12-08T17:08:44.937Z"
   },
   {
    "duration": 7,
    "start_time": "2022-12-08T17:08:51.408Z"
   },
   {
    "duration": 10,
    "start_time": "2022-12-08T17:08:55.307Z"
   },
   {
    "duration": 44,
    "start_time": "2022-12-08T17:09:32.371Z"
   },
   {
    "duration": 72,
    "start_time": "2022-12-08T17:09:35.273Z"
   },
   {
    "duration": 33,
    "start_time": "2022-12-08T17:09:40.650Z"
   },
   {
    "duration": 23,
    "start_time": "2022-12-08T17:09:53.999Z"
   },
   {
    "duration": 61,
    "start_time": "2022-12-08T17:10:04.000Z"
   },
   {
    "duration": 14,
    "start_time": "2022-12-08T17:10:07.323Z"
   },
   {
    "duration": 11,
    "start_time": "2022-12-08T17:10:12.046Z"
   },
   {
    "duration": 17,
    "start_time": "2022-12-08T17:10:17.497Z"
   },
   {
    "duration": 7,
    "start_time": "2022-12-08T17:10:20.950Z"
   },
   {
    "duration": 9,
    "start_time": "2022-12-08T17:10:23.520Z"
   },
   {
    "duration": 8,
    "start_time": "2022-12-08T17:10:28.509Z"
   },
   {
    "duration": 2926,
    "start_time": "2022-12-08T17:10:31.010Z"
   },
   {
    "duration": 2563,
    "start_time": "2022-12-08T17:15:34.734Z"
   },
   {
    "duration": 2704,
    "start_time": "2022-12-08T17:15:37.509Z"
   },
   {
    "duration": 7,
    "start_time": "2022-12-08T17:15:54.269Z"
   },
   {
    "duration": 10,
    "start_time": "2022-12-08T17:16:07.702Z"
   },
   {
    "duration": 5,
    "start_time": "2022-12-08T17:18:40.430Z"
   },
   {
    "duration": 8,
    "start_time": "2022-12-08T17:19:00.467Z"
   },
   {
    "duration": 33,
    "start_time": "2022-12-08T17:19:18.667Z"
   },
   {
    "duration": 34,
    "start_time": "2022-12-08T17:19:21.752Z"
   },
   {
    "duration": 198,
    "start_time": "2022-12-08T17:19:26.392Z"
   },
   {
    "duration": 23,
    "start_time": "2022-12-08T17:19:33.425Z"
   },
   {
    "duration": 19,
    "start_time": "2022-12-08T17:19:35.299Z"
   },
   {
    "duration": 11,
    "start_time": "2022-12-08T17:20:18.598Z"
   },
   {
    "duration": 7,
    "start_time": "2022-12-08T17:20:21.459Z"
   },
   {
    "duration": 47,
    "start_time": "2022-12-08T17:21:38.072Z"
   },
   {
    "duration": 14,
    "start_time": "2022-12-08T17:23:18.467Z"
   },
   {
    "duration": 43,
    "start_time": "2022-12-08T17:23:19.915Z"
   },
   {
    "duration": 399,
    "start_time": "2022-12-08T17:34:48.990Z"
   },
   {
    "duration": 40,
    "start_time": "2022-12-08T17:37:17.120Z"
   },
   {
    "duration": 42,
    "start_time": "2022-12-08T17:38:04.291Z"
   },
   {
    "duration": 6,
    "start_time": "2022-12-08T17:39:30.999Z"
   },
   {
    "duration": 5,
    "start_time": "2022-12-08T17:40:32.825Z"
   },
   {
    "duration": 6,
    "start_time": "2022-12-08T17:41:08.778Z"
   },
   {
    "duration": 6,
    "start_time": "2022-12-08T17:48:08.154Z"
   },
   {
    "duration": 6,
    "start_time": "2022-12-08T17:48:16.517Z"
   },
   {
    "duration": 1018,
    "start_time": "2022-12-08T17:57:21.970Z"
   },
   {
    "duration": 7,
    "start_time": "2022-12-08T17:57:42.604Z"
   },
   {
    "duration": 8,
    "start_time": "2022-12-08T17:58:08.132Z"
   },
   {
    "duration": 5,
    "start_time": "2022-12-08T17:58:20.504Z"
   },
   {
    "duration": 7,
    "start_time": "2022-12-08T17:58:27.152Z"
   },
   {
    "duration": 6,
    "start_time": "2022-12-08T18:08:05.672Z"
   },
   {
    "duration": 89,
    "start_time": "2022-12-08T18:19:43.704Z"
   },
   {
    "duration": 6,
    "start_time": "2022-12-08T18:19:49.145Z"
   },
   {
    "duration": 24,
    "start_time": "2022-12-08T18:20:49.607Z"
   },
   {
    "duration": 10,
    "start_time": "2022-12-08T18:20:56.788Z"
   },
   {
    "duration": 23,
    "start_time": "2022-12-08T18:21:03.051Z"
   },
   {
    "duration": 12,
    "start_time": "2022-12-08T18:23:21.077Z"
   },
   {
    "duration": 18,
    "start_time": "2022-12-08T18:23:29.954Z"
   },
   {
    "duration": 8,
    "start_time": "2022-12-08T18:24:02.346Z"
   },
   {
    "duration": 7,
    "start_time": "2022-12-08T18:37:26.424Z"
   },
   {
    "duration": 11,
    "start_time": "2022-12-08T18:39:29.666Z"
   },
   {
    "duration": 9,
    "start_time": "2022-12-08T18:39:57.070Z"
   },
   {
    "duration": 773,
    "start_time": "2022-12-09T06:47:32.511Z"
   },
   {
    "duration": 95,
    "start_time": "2022-12-09T06:47:36.495Z"
   },
   {
    "duration": 19,
    "start_time": "2022-12-09T06:47:42.212Z"
   },
   {
    "duration": 2726,
    "start_time": "2022-12-09T06:47:45.663Z"
   },
   {
    "duration": 4,
    "start_time": "2022-12-09T06:47:52.640Z"
   },
   {
    "duration": 9,
    "start_time": "2022-12-09T06:47:56.256Z"
   },
   {
    "duration": 32,
    "start_time": "2022-12-09T06:47:59.465Z"
   },
   {
    "duration": 47,
    "start_time": "2022-12-09T06:48:03.227Z"
   },
   {
    "duration": 29,
    "start_time": "2022-12-09T06:48:08.485Z"
   },
   {
    "duration": 18,
    "start_time": "2022-12-09T06:48:12.594Z"
   },
   {
    "duration": 40,
    "start_time": "2022-12-09T06:48:15.222Z"
   },
   {
    "duration": 11,
    "start_time": "2022-12-09T06:48:19.389Z"
   },
   {
    "duration": 12,
    "start_time": "2022-12-09T06:48:22.561Z"
   },
   {
    "duration": 10,
    "start_time": "2022-12-09T06:48:25.485Z"
   },
   {
    "duration": 11,
    "start_time": "2022-12-09T06:48:28.469Z"
   },
   {
    "duration": 6,
    "start_time": "2022-12-09T06:48:31.589Z"
   },
   {
    "duration": 6,
    "start_time": "2022-12-09T06:48:34.489Z"
   },
   {
    "duration": 6,
    "start_time": "2022-12-09T06:48:38.861Z"
   },
   {
    "duration": 2564,
    "start_time": "2022-12-09T06:48:40.686Z"
   },
   {
    "duration": 8,
    "start_time": "2022-12-09T06:48:46.489Z"
   },
   {
    "duration": 33,
    "start_time": "2022-12-09T06:48:49.317Z"
   },
   {
    "duration": 33,
    "start_time": "2022-12-09T06:48:51.254Z"
   },
   {
    "duration": 193,
    "start_time": "2022-12-09T06:48:53.398Z"
   },
   {
    "duration": 23,
    "start_time": "2022-12-09T06:48:58.502Z"
   },
   {
    "duration": 14,
    "start_time": "2022-12-09T06:49:00.639Z"
   },
   {
    "duration": 9,
    "start_time": "2022-12-09T06:49:06.379Z"
   },
   {
    "duration": 7,
    "start_time": "2022-12-09T06:49:09.740Z"
   },
   {
    "duration": 10,
    "start_time": "2022-12-09T06:49:25.876Z"
   },
   {
    "duration": 348,
    "start_time": "2022-12-09T06:49:29.228Z"
   },
   {
    "duration": 9,
    "start_time": "2022-12-09T06:49:32.240Z"
   },
   {
    "duration": 9,
    "start_time": "2022-12-09T06:49:37.241Z"
   },
   {
    "duration": 7,
    "start_time": "2022-12-09T06:49:48.131Z"
   },
   {
    "duration": 85,
    "start_time": "2022-12-09T06:49:57.278Z"
   },
   {
    "duration": 8,
    "start_time": "2022-12-09T06:50:01.994Z"
   },
   {
    "duration": 10,
    "start_time": "2022-12-09T06:50:05.319Z"
   },
   {
    "duration": 7,
    "start_time": "2022-12-09T07:16:04.248Z"
   },
   {
    "duration": 7,
    "start_time": "2022-12-09T07:16:26.958Z"
   },
   {
    "duration": 7,
    "start_time": "2022-12-09T07:17:16.031Z"
   },
   {
    "duration": 898,
    "start_time": "2022-12-09T11:19:16.785Z"
   },
   {
    "duration": 7,
    "start_time": "2022-12-09T11:19:27.810Z"
   },
   {
    "duration": 39,
    "start_time": "2022-12-09T11:19:31.238Z"
   },
   {
    "duration": 146,
    "start_time": "2022-12-09T11:20:00.172Z"
   },
   {
    "duration": 123,
    "start_time": "2022-12-09T11:20:00.320Z"
   },
   {
    "duration": 26,
    "start_time": "2022-12-09T11:20:00.445Z"
   },
   {
    "duration": 2948,
    "start_time": "2022-12-09T11:20:00.474Z"
   },
   {
    "duration": 4,
    "start_time": "2022-12-09T11:20:03.425Z"
   },
   {
    "duration": 19,
    "start_time": "2022-12-09T11:20:03.431Z"
   },
   {
    "duration": 47,
    "start_time": "2022-12-09T11:20:03.452Z"
   },
   {
    "duration": 63,
    "start_time": "2022-12-09T11:20:03.502Z"
   },
   {
    "duration": 35,
    "start_time": "2022-12-09T11:20:03.567Z"
   },
   {
    "duration": 36,
    "start_time": "2022-12-09T11:20:03.605Z"
   },
   {
    "duration": 61,
    "start_time": "2022-12-09T11:20:03.642Z"
   },
   {
    "duration": 10,
    "start_time": "2022-12-09T11:20:03.705Z"
   },
   {
    "duration": 43,
    "start_time": "2022-12-09T11:20:03.716Z"
   },
   {
    "duration": 21,
    "start_time": "2022-12-09T11:20:03.767Z"
   },
   {
    "duration": 33,
    "start_time": "2022-12-09T11:20:03.791Z"
   },
   {
    "duration": 40,
    "start_time": "2022-12-09T11:20:03.826Z"
   },
   {
    "duration": 20,
    "start_time": "2022-12-09T11:20:03.870Z"
   },
   {
    "duration": 26,
    "start_time": "2022-12-09T11:20:03.892Z"
   },
   {
    "duration": 2792,
    "start_time": "2022-12-09T11:20:03.920Z"
   },
   {
    "duration": 9,
    "start_time": "2022-12-09T11:20:06.714Z"
   },
   {
    "duration": 44,
    "start_time": "2022-12-09T11:20:06.725Z"
   },
   {
    "duration": 30,
    "start_time": "2022-12-09T11:20:06.771Z"
   },
   {
    "duration": 276,
    "start_time": "2022-12-09T11:20:06.803Z"
   },
   {
    "duration": 23,
    "start_time": "2022-12-09T11:20:07.080Z"
   },
   {
    "duration": 64,
    "start_time": "2022-12-09T11:20:07.106Z"
   },
   {
    "duration": 20,
    "start_time": "2022-12-09T11:20:07.172Z"
   },
   {
    "duration": 79,
    "start_time": "2022-12-09T11:20:07.194Z"
   },
   {
    "duration": 8,
    "start_time": "2022-12-09T11:20:07.280Z"
   },
   {
    "duration": 24,
    "start_time": "2022-12-09T11:20:07.290Z"
   },
   {
    "duration": 41,
    "start_time": "2022-12-09T11:20:07.316Z"
   },
   {
    "duration": 439,
    "start_time": "2022-12-09T11:20:07.359Z"
   },
   {
    "duration": 10,
    "start_time": "2022-12-09T11:20:07.801Z"
   },
   {
    "duration": 21,
    "start_time": "2022-12-09T11:20:07.814Z"
   },
   {
    "duration": 28,
    "start_time": "2022-12-09T11:20:07.837Z"
   },
   {
    "duration": 51,
    "start_time": "2022-12-09T11:20:07.867Z"
   },
   {
    "duration": 10,
    "start_time": "2022-12-09T11:20:17.884Z"
   },
   {
    "duration": 8,
    "start_time": "2022-12-09T11:20:47.898Z"
   },
   {
    "duration": 631,
    "start_time": "2022-12-09T11:36:07.255Z"
   },
   {
    "duration": 128,
    "start_time": "2022-12-09T11:36:12.965Z"
   },
   {
    "duration": 101,
    "start_time": "2022-12-09T11:36:13.095Z"
   },
   {
    "duration": 20,
    "start_time": "2022-12-09T11:36:13.197Z"
   },
   {
    "duration": 2843,
    "start_time": "2022-12-09T11:36:13.219Z"
   },
   {
    "duration": 5,
    "start_time": "2022-12-09T11:36:16.065Z"
   },
   {
    "duration": 31,
    "start_time": "2022-12-09T11:36:16.072Z"
   },
   {
    "duration": 35,
    "start_time": "2022-12-09T11:36:16.105Z"
   },
   {
    "duration": 73,
    "start_time": "2022-12-09T11:36:16.142Z"
   },
   {
    "duration": 55,
    "start_time": "2022-12-09T11:36:16.218Z"
   },
   {
    "duration": 23,
    "start_time": "2022-12-09T11:36:16.276Z"
   },
   {
    "duration": 77,
    "start_time": "2022-12-09T11:36:16.301Z"
   },
   {
    "duration": 12,
    "start_time": "2022-12-09T11:36:16.380Z"
   },
   {
    "duration": 17,
    "start_time": "2022-12-09T11:36:16.394Z"
   },
   {
    "duration": 11,
    "start_time": "2022-12-09T11:36:16.415Z"
   },
   {
    "duration": 11,
    "start_time": "2022-12-09T11:36:16.456Z"
   },
   {
    "duration": 6,
    "start_time": "2022-12-09T11:36:16.470Z"
   },
   {
    "duration": 10,
    "start_time": "2022-12-09T11:36:16.478Z"
   },
   {
    "duration": 20,
    "start_time": "2022-12-09T11:36:16.490Z"
   },
   {
    "duration": 2685,
    "start_time": "2022-12-09T11:36:16.512Z"
   },
   {
    "duration": 8,
    "start_time": "2022-12-09T11:36:19.199Z"
   },
   {
    "duration": 51,
    "start_time": "2022-12-09T11:36:19.209Z"
   },
   {
    "duration": 31,
    "start_time": "2022-12-09T11:36:19.262Z"
   },
   {
    "duration": 201,
    "start_time": "2022-12-09T11:36:19.295Z"
   },
   {
    "duration": 30,
    "start_time": "2022-12-09T11:36:19.499Z"
   },
   {
    "duration": 40,
    "start_time": "2022-12-09T11:36:19.530Z"
   },
   {
    "duration": 18,
    "start_time": "2022-12-09T11:36:19.572Z"
   },
   {
    "duration": 81,
    "start_time": "2022-12-09T11:36:19.592Z"
   },
   {
    "duration": 9,
    "start_time": "2022-12-09T11:36:19.675Z"
   },
   {
    "duration": 9,
    "start_time": "2022-12-09T11:36:19.686Z"
   },
   {
    "duration": 11,
    "start_time": "2022-12-09T11:36:19.697Z"
   },
   {
    "duration": 379,
    "start_time": "2022-12-09T11:36:19.710Z"
   },
   {
    "duration": 8,
    "start_time": "2022-12-09T11:36:20.091Z"
   },
   {
    "duration": 11,
    "start_time": "2022-12-09T11:36:20.101Z"
   },
   {
    "duration": 7,
    "start_time": "2022-12-09T11:36:20.114Z"
   },
   {
    "duration": 36,
    "start_time": "2022-12-09T11:36:20.123Z"
   },
   {
    "duration": 48,
    "start_time": "2022-12-09T11:38:06.221Z"
   },
   {
    "duration": 575,
    "start_time": "2022-12-09T11:38:15.398Z"
   },
   {
    "duration": 108,
    "start_time": "2022-12-09T11:38:15.975Z"
   },
   {
    "duration": 18,
    "start_time": "2022-12-09T11:38:16.085Z"
   },
   {
    "duration": 2870,
    "start_time": "2022-12-09T11:38:16.105Z"
   },
   {
    "duration": 6,
    "start_time": "2022-12-09T11:38:18.977Z"
   },
   {
    "duration": 30,
    "start_time": "2022-12-09T11:38:18.986Z"
   },
   {
    "duration": 52,
    "start_time": "2022-12-09T11:38:19.019Z"
   },
   {
    "duration": 87,
    "start_time": "2022-12-09T11:38:19.074Z"
   },
   {
    "duration": 40,
    "start_time": "2022-12-09T11:38:19.164Z"
   },
   {
    "duration": 47,
    "start_time": "2022-12-09T11:38:19.208Z"
   },
   {
    "duration": 62,
    "start_time": "2022-12-09T11:38:19.257Z"
   },
   {
    "duration": 34,
    "start_time": "2022-12-09T11:38:19.321Z"
   },
   {
    "duration": 15,
    "start_time": "2022-12-09T11:38:19.359Z"
   },
   {
    "duration": 24,
    "start_time": "2022-12-09T11:38:19.377Z"
   },
   {
    "duration": 11,
    "start_time": "2022-12-09T11:38:19.403Z"
   },
   {
    "duration": 10,
    "start_time": "2022-12-09T11:38:19.416Z"
   },
   {
    "duration": 28,
    "start_time": "2022-12-09T11:38:19.428Z"
   },
   {
    "duration": 7,
    "start_time": "2022-12-09T11:38:19.458Z"
   },
   {
    "duration": 2706,
    "start_time": "2022-12-09T11:38:19.466Z"
   },
   {
    "duration": 7,
    "start_time": "2022-12-09T11:38:22.174Z"
   },
   {
    "duration": 32,
    "start_time": "2022-12-09T11:38:22.183Z"
   },
   {
    "duration": 50,
    "start_time": "2022-12-09T11:38:22.218Z"
   },
   {
    "duration": 203,
    "start_time": "2022-12-09T11:38:22.271Z"
   },
   {
    "duration": 31,
    "start_time": "2022-12-09T11:38:22.476Z"
   },
   {
    "duration": 22,
    "start_time": "2022-12-09T11:38:22.510Z"
   },
   {
    "duration": 31,
    "start_time": "2022-12-09T11:38:22.534Z"
   },
   {
    "duration": 54,
    "start_time": "2022-12-09T11:38:22.567Z"
   },
   {
    "duration": 35,
    "start_time": "2022-12-09T11:38:22.625Z"
   },
   {
    "duration": 16,
    "start_time": "2022-12-09T11:38:22.662Z"
   },
   {
    "duration": 12,
    "start_time": "2022-12-09T11:38:22.680Z"
   },
   {
    "duration": 402,
    "start_time": "2022-12-09T11:38:22.694Z"
   },
   {
    "duration": 7,
    "start_time": "2022-12-09T11:38:23.098Z"
   },
   {
    "duration": 9,
    "start_time": "2022-12-09T11:38:23.107Z"
   },
   {
    "duration": 6,
    "start_time": "2022-12-09T11:38:23.118Z"
   },
   {
    "duration": 35,
    "start_time": "2022-12-09T11:38:23.125Z"
   },
   {
    "duration": 600,
    "start_time": "2022-12-09T12:02:51.698Z"
   },
   {
    "duration": 115,
    "start_time": "2022-12-09T12:02:54.184Z"
   },
   {
    "duration": 25,
    "start_time": "2022-12-09T12:02:54.625Z"
   },
   {
    "duration": 2930,
    "start_time": "2022-12-09T12:02:54.908Z"
   },
   {
    "duration": 5,
    "start_time": "2022-12-09T12:02:57.841Z"
   },
   {
    "duration": 22,
    "start_time": "2022-12-09T12:02:57.848Z"
   },
   {
    "duration": 67,
    "start_time": "2022-12-09T12:02:57.873Z"
   },
   {
    "duration": 65,
    "start_time": "2022-12-09T12:02:57.942Z"
   },
   {
    "duration": 26,
    "start_time": "2022-12-09T12:02:59.705Z"
   },
   {
    "duration": 30,
    "start_time": "2022-12-09T12:03:00.653Z"
   },
   {
    "duration": 61,
    "start_time": "2022-12-09T12:03:01.321Z"
   },
   {
    "duration": 12,
    "start_time": "2022-12-09T12:03:01.893Z"
   },
   {
    "duration": 11,
    "start_time": "2022-12-09T12:03:02.512Z"
   },
   {
    "duration": 9,
    "start_time": "2022-12-09T12:03:02.804Z"
   },
   {
    "duration": 11,
    "start_time": "2022-12-09T12:03:03.327Z"
   },
   {
    "duration": 7,
    "start_time": "2022-12-09T12:03:04.099Z"
   },
   {
    "duration": 7,
    "start_time": "2022-12-09T12:03:04.433Z"
   },
   {
    "duration": 6,
    "start_time": "2022-12-09T12:03:04.993Z"
   },
   {
    "duration": 2804,
    "start_time": "2022-12-09T12:03:05.491Z"
   },
   {
    "duration": 8,
    "start_time": "2022-12-09T12:03:08.298Z"
   },
   {
    "duration": 52,
    "start_time": "2022-12-09T12:03:08.308Z"
   },
   {
    "duration": 43,
    "start_time": "2022-12-09T12:03:08.372Z"
   },
   {
    "duration": 219,
    "start_time": "2022-12-09T12:03:08.417Z"
   },
   {
    "duration": 50,
    "start_time": "2022-12-09T12:03:08.638Z"
   },
   {
    "duration": 24,
    "start_time": "2022-12-09T12:03:10.298Z"
   },
   {
    "duration": 15,
    "start_time": "2022-12-09T12:03:10.930Z"
   },
   {
    "duration": 56,
    "start_time": "2022-12-09T12:03:11.449Z"
   },
   {
    "duration": 12,
    "start_time": "2022-12-09T12:03:13.248Z"
   },
   {
    "duration": 7,
    "start_time": "2022-12-09T12:03:14.182Z"
   },
   {
    "duration": 15,
    "start_time": "2022-12-09T12:03:14.872Z"
   },
   {
    "duration": 398,
    "start_time": "2022-12-09T12:03:15.441Z"
   },
   {
    "duration": 7,
    "start_time": "2022-12-09T12:03:15.841Z"
   },
   {
    "duration": 8,
    "start_time": "2022-12-09T12:03:16.781Z"
   },
   {
    "duration": 6,
    "start_time": "2022-12-09T12:03:17.701Z"
   },
   {
    "duration": 15,
    "start_time": "2022-12-09T12:03:18.579Z"
   },
   {
    "duration": 355944,
    "start_time": "2022-12-09T12:03:18.935Z"
   },
   {
    "duration": 0,
    "start_time": "2022-12-09T12:09:14.943Z"
   },
   {
    "duration": 0,
    "start_time": "2022-12-09T12:09:14.944Z"
   },
   {
    "duration": 52,
    "start_time": "2022-12-09T12:17:44.910Z"
   },
   {
    "duration": 784,
    "start_time": "2022-12-09T12:17:55.470Z"
   },
   {
    "duration": 101,
    "start_time": "2022-12-09T12:17:56.257Z"
   },
   {
    "duration": 19,
    "start_time": "2022-12-09T12:17:56.360Z"
   },
   {
    "duration": 2461,
    "start_time": "2022-12-09T12:17:56.381Z"
   },
   {
    "duration": 5,
    "start_time": "2022-12-09T12:17:58.844Z"
   },
   {
    "duration": 13,
    "start_time": "2022-12-09T12:17:58.851Z"
   },
   {
    "duration": 32,
    "start_time": "2022-12-09T12:17:58.866Z"
   },
   {
    "duration": 80,
    "start_time": "2022-12-09T12:17:58.899Z"
   },
   {
    "duration": 33,
    "start_time": "2022-12-09T12:17:58.981Z"
   },
   {
    "duration": 43,
    "start_time": "2022-12-09T12:17:59.017Z"
   },
   {
    "duration": 40,
    "start_time": "2022-12-09T12:17:59.062Z"
   },
   {
    "duration": 8,
    "start_time": "2022-12-09T12:17:59.104Z"
   },
   {
    "duration": 11,
    "start_time": "2022-12-09T12:17:59.114Z"
   },
   {
    "duration": 35,
    "start_time": "2022-12-09T12:17:59.127Z"
   },
   {
    "duration": 10,
    "start_time": "2022-12-09T12:17:59.164Z"
   },
   {
    "duration": 6,
    "start_time": "2022-12-09T12:17:59.176Z"
   },
   {
    "duration": 8,
    "start_time": "2022-12-09T12:17:59.184Z"
   },
   {
    "duration": 6,
    "start_time": "2022-12-09T12:17:59.194Z"
   },
   {
    "duration": 2611,
    "start_time": "2022-12-09T12:17:59.201Z"
   },
   {
    "duration": 7,
    "start_time": "2022-12-09T12:18:01.814Z"
   },
   {
    "duration": 64,
    "start_time": "2022-12-09T12:18:01.822Z"
   },
   {
    "duration": 35,
    "start_time": "2022-12-09T12:18:01.888Z"
   },
   {
    "duration": 223,
    "start_time": "2022-12-09T12:18:01.924Z"
   },
   {
    "duration": 22,
    "start_time": "2022-12-09T12:18:02.149Z"
   },
   {
    "duration": 67,
    "start_time": "2022-12-09T12:18:02.172Z"
   },
   {
    "duration": 12,
    "start_time": "2022-12-09T12:18:02.241Z"
   },
   {
    "duration": 49,
    "start_time": "2022-12-09T12:18:02.255Z"
   },
   {
    "duration": 8,
    "start_time": "2022-12-09T12:18:02.308Z"
   },
   {
    "duration": 17,
    "start_time": "2022-12-09T12:18:02.318Z"
   },
   {
    "duration": 24,
    "start_time": "2022-12-09T12:18:02.337Z"
   },
   {
    "duration": 350,
    "start_time": "2022-12-09T12:18:02.362Z"
   },
   {
    "duration": 7,
    "start_time": "2022-12-09T12:18:02.714Z"
   },
   {
    "duration": 18,
    "start_time": "2022-12-09T12:18:02.724Z"
   },
   {
    "duration": 34,
    "start_time": "2022-12-09T12:18:02.744Z"
   },
   {
    "duration": 16,
    "start_time": "2022-12-09T12:18:02.780Z"
   },
   {
    "duration": 63,
    "start_time": "2022-12-09T12:27:33.650Z"
   },
   {
    "duration": 6,
    "start_time": "2022-12-09T13:09:10.219Z"
   },
   {
    "duration": 783,
    "start_time": "2022-12-09T13:09:20.943Z"
   },
   {
    "duration": 84,
    "start_time": "2022-12-09T13:09:21.728Z"
   },
   {
    "duration": 15,
    "start_time": "2022-12-09T13:09:21.814Z"
   },
   {
    "duration": 2407,
    "start_time": "2022-12-09T13:09:21.831Z"
   },
   {
    "duration": 5,
    "start_time": "2022-12-09T13:09:24.240Z"
   },
   {
    "duration": 15,
    "start_time": "2022-12-09T13:09:24.247Z"
   },
   {
    "duration": 32,
    "start_time": "2022-12-09T13:09:24.264Z"
   },
   {
    "duration": 74,
    "start_time": "2022-12-09T13:09:24.298Z"
   },
   {
    "duration": 26,
    "start_time": "2022-12-09T13:09:24.373Z"
   },
   {
    "duration": 18,
    "start_time": "2022-12-09T13:09:24.402Z"
   },
   {
    "duration": 77,
    "start_time": "2022-12-09T13:09:24.422Z"
   },
   {
    "duration": 11,
    "start_time": "2022-12-09T13:09:24.501Z"
   },
   {
    "duration": 15,
    "start_time": "2022-12-09T13:09:24.515Z"
   },
   {
    "duration": 34,
    "start_time": "2022-12-09T13:09:24.532Z"
   },
   {
    "duration": 12,
    "start_time": "2022-12-09T13:09:24.568Z"
   },
   {
    "duration": 13,
    "start_time": "2022-12-09T13:09:24.582Z"
   },
   {
    "duration": 11,
    "start_time": "2022-12-09T13:09:24.598Z"
   },
   {
    "duration": 9,
    "start_time": "2022-12-09T13:09:24.611Z"
   },
   {
    "duration": 2584,
    "start_time": "2022-12-09T13:09:24.622Z"
   },
   {
    "duration": 7,
    "start_time": "2022-12-09T13:09:27.207Z"
   },
   {
    "duration": 40,
    "start_time": "2022-12-09T13:09:27.215Z"
   },
   {
    "duration": 32,
    "start_time": "2022-12-09T13:09:27.257Z"
   },
   {
    "duration": 196,
    "start_time": "2022-12-09T13:09:27.291Z"
   },
   {
    "duration": 18,
    "start_time": "2022-12-09T13:09:27.489Z"
   },
   {
    "duration": 22,
    "start_time": "2022-12-09T13:09:27.508Z"
   },
   {
    "duration": 32,
    "start_time": "2022-12-09T13:09:27.532Z"
   },
   {
    "duration": 41,
    "start_time": "2022-12-09T13:09:27.566Z"
   },
   {
    "duration": 8,
    "start_time": "2022-12-09T13:09:27.611Z"
   },
   {
    "duration": 35,
    "start_time": "2022-12-09T13:09:27.620Z"
   },
   {
    "duration": 9,
    "start_time": "2022-12-09T13:09:27.657Z"
   },
   {
    "duration": 323,
    "start_time": "2022-12-09T13:09:27.668Z"
   },
   {
    "duration": 7,
    "start_time": "2022-12-09T13:09:27.992Z"
   },
   {
    "duration": 10,
    "start_time": "2022-12-09T13:09:28.001Z"
   },
   {
    "duration": 6,
    "start_time": "2022-12-09T13:09:28.012Z"
   },
   {
    "duration": 9,
    "start_time": "2022-12-09T13:09:28.019Z"
   },
   {
    "duration": 807,
    "start_time": "2022-12-09T13:16:38.571Z"
   },
   {
    "duration": 98,
    "start_time": "2022-12-09T13:16:39.380Z"
   },
   {
    "duration": 19,
    "start_time": "2022-12-09T13:16:39.481Z"
   },
   {
    "duration": 2397,
    "start_time": "2022-12-09T13:16:39.502Z"
   },
   {
    "duration": 5,
    "start_time": "2022-12-09T13:16:41.901Z"
   },
   {
    "duration": 12,
    "start_time": "2022-12-09T13:16:41.908Z"
   },
   {
    "duration": 33,
    "start_time": "2022-12-09T13:16:41.922Z"
   },
   {
    "duration": 49,
    "start_time": "2022-12-09T13:16:41.957Z"
   },
   {
    "duration": 57,
    "start_time": "2022-12-09T13:16:42.007Z"
   },
   {
    "duration": 18,
    "start_time": "2022-12-09T13:16:42.067Z"
   },
   {
    "duration": 36,
    "start_time": "2022-12-09T13:16:42.086Z"
   },
   {
    "duration": 34,
    "start_time": "2022-12-09T13:16:42.124Z"
   },
   {
    "duration": 11,
    "start_time": "2022-12-09T13:16:42.159Z"
   },
   {
    "duration": 8,
    "start_time": "2022-12-09T13:16:42.172Z"
   },
   {
    "duration": 9,
    "start_time": "2022-12-09T13:16:42.181Z"
   },
   {
    "duration": 6,
    "start_time": "2022-12-09T13:16:42.192Z"
   },
   {
    "duration": 9,
    "start_time": "2022-12-09T13:16:42.199Z"
   },
   {
    "duration": 45,
    "start_time": "2022-12-09T13:16:42.210Z"
   },
   {
    "duration": 2640,
    "start_time": "2022-12-09T13:16:42.257Z"
   },
   {
    "duration": 7,
    "start_time": "2022-12-09T13:16:44.898Z"
   },
   {
    "duration": 37,
    "start_time": "2022-12-09T13:16:44.906Z"
   },
   {
    "duration": 40,
    "start_time": "2022-12-09T13:16:44.945Z"
   },
   {
    "duration": 195,
    "start_time": "2022-12-09T13:16:44.986Z"
   },
   {
    "duration": 20,
    "start_time": "2022-12-09T13:16:45.183Z"
   },
   {
    "duration": 24,
    "start_time": "2022-12-09T13:16:45.204Z"
   },
   {
    "duration": 31,
    "start_time": "2022-12-09T13:16:45.230Z"
   },
   {
    "duration": 51,
    "start_time": "2022-12-09T13:16:45.263Z"
   },
   {
    "duration": 8,
    "start_time": "2022-12-09T13:16:45.318Z"
   },
   {
    "duration": 27,
    "start_time": "2022-12-09T13:16:45.328Z"
   },
   {
    "duration": 10,
    "start_time": "2022-12-09T13:16:45.357Z"
   },
   {
    "duration": 352,
    "start_time": "2022-12-09T13:16:45.369Z"
   },
   {
    "duration": 7,
    "start_time": "2022-12-09T13:16:45.723Z"
   },
   {
    "duration": 8,
    "start_time": "2022-12-09T13:16:45.732Z"
   },
   {
    "duration": 7,
    "start_time": "2022-12-09T13:16:45.755Z"
   },
   {
    "duration": 12,
    "start_time": "2022-12-09T13:16:45.763Z"
   },
   {
    "duration": 816,
    "start_time": "2022-12-09T13:26:43.428Z"
   },
   {
    "duration": 86,
    "start_time": "2022-12-09T13:26:44.247Z"
   },
   {
    "duration": 22,
    "start_time": "2022-12-09T13:26:44.335Z"
   },
   {
    "duration": 2512,
    "start_time": "2022-12-09T13:26:44.360Z"
   },
   {
    "duration": 5,
    "start_time": "2022-12-09T13:26:46.874Z"
   },
   {
    "duration": 12,
    "start_time": "2022-12-09T13:26:46.880Z"
   },
   {
    "duration": 30,
    "start_time": "2022-12-09T13:26:46.894Z"
   },
   {
    "duration": 70,
    "start_time": "2022-12-09T13:26:46.926Z"
   },
   {
    "duration": 28,
    "start_time": "2022-12-09T13:26:46.997Z"
   },
   {
    "duration": 44,
    "start_time": "2022-12-09T13:26:47.027Z"
   },
   {
    "duration": 40,
    "start_time": "2022-12-09T13:26:47.072Z"
   },
   {
    "duration": 10,
    "start_time": "2022-12-09T13:26:47.113Z"
   },
   {
    "duration": 37,
    "start_time": "2022-12-09T13:26:47.125Z"
   },
   {
    "duration": 8,
    "start_time": "2022-12-09T13:26:47.164Z"
   },
   {
    "duration": 9,
    "start_time": "2022-12-09T13:26:47.174Z"
   },
   {
    "duration": 5,
    "start_time": "2022-12-09T13:26:47.185Z"
   },
   {
    "duration": 9,
    "start_time": "2022-12-09T13:26:47.191Z"
   },
   {
    "duration": 5,
    "start_time": "2022-12-09T13:26:47.201Z"
   },
   {
    "duration": 2565,
    "start_time": "2022-12-09T13:26:47.208Z"
   },
   {
    "duration": 7,
    "start_time": "2022-12-09T13:26:49.775Z"
   },
   {
    "duration": 32,
    "start_time": "2022-12-09T13:26:49.783Z"
   },
   {
    "duration": 44,
    "start_time": "2022-12-09T13:26:49.816Z"
   },
   {
    "duration": 183,
    "start_time": "2022-12-09T13:26:49.862Z"
   },
   {
    "duration": 23,
    "start_time": "2022-12-09T13:26:50.047Z"
   },
   {
    "duration": 23,
    "start_time": "2022-12-09T13:26:50.071Z"
   },
   {
    "duration": 12,
    "start_time": "2022-12-09T13:26:50.096Z"
   },
   {
    "duration": 71,
    "start_time": "2022-12-09T13:26:50.109Z"
   },
   {
    "duration": 7,
    "start_time": "2022-12-09T13:26:50.183Z"
   },
   {
    "duration": 14,
    "start_time": "2022-12-09T13:26:50.192Z"
   },
   {
    "duration": 10,
    "start_time": "2022-12-09T13:26:50.207Z"
   },
   {
    "duration": 352,
    "start_time": "2022-12-09T13:26:50.219Z"
   },
   {
    "duration": 7,
    "start_time": "2022-12-09T13:26:50.573Z"
   },
   {
    "duration": 9,
    "start_time": "2022-12-09T13:26:50.582Z"
   },
   {
    "duration": 9,
    "start_time": "2022-12-09T13:26:50.592Z"
   },
   {
    "duration": 30,
    "start_time": "2022-12-09T13:26:50.603Z"
   },
   {
    "duration": 565,
    "start_time": "2022-12-09T13:28:56.779Z"
   },
   {
    "duration": 94,
    "start_time": "2022-12-09T13:29:01.091Z"
   },
   {
    "duration": 24,
    "start_time": "2022-12-09T13:29:04.540Z"
   },
   {
    "duration": 9,
    "start_time": "2022-12-09T13:29:06.889Z"
   },
   {
    "duration": 6,
    "start_time": "2022-12-09T13:29:10.209Z"
   },
   {
    "duration": 30,
    "start_time": "2022-12-09T13:29:12.916Z"
   },
   {
    "duration": 48,
    "start_time": "2022-12-09T13:29:15.612Z"
   },
   {
    "duration": 26,
    "start_time": "2022-12-09T13:29:20.255Z"
   },
   {
    "duration": 20,
    "start_time": "2022-12-09T13:29:21.427Z"
   },
   {
    "duration": 47,
    "start_time": "2022-12-09T13:29:23.113Z"
   },
   {
    "duration": 10,
    "start_time": "2022-12-09T13:29:25.508Z"
   },
   {
    "duration": 10,
    "start_time": "2022-12-09T13:29:27.288Z"
   },
   {
    "duration": 10,
    "start_time": "2022-12-09T13:29:27.813Z"
   },
   {
    "duration": 11,
    "start_time": "2022-12-09T13:29:30.955Z"
   },
   {
    "duration": 7,
    "start_time": "2022-12-09T13:29:32.608Z"
   },
   {
    "duration": 6,
    "start_time": "2022-12-09T13:29:34.843Z"
   },
   {
    "duration": 5,
    "start_time": "2022-12-09T13:29:38.203Z"
   },
   {
    "duration": 2607,
    "start_time": "2022-12-09T13:29:39.703Z"
   },
   {
    "duration": 6,
    "start_time": "2022-12-09T13:29:42.312Z"
   },
   {
    "duration": 8,
    "start_time": "2022-12-09T13:29:49.762Z"
   },
   {
    "duration": 33,
    "start_time": "2022-12-09T13:29:52.975Z"
   },
   {
    "duration": 32,
    "start_time": "2022-12-09T13:29:56.385Z"
   },
   {
    "duration": 181,
    "start_time": "2022-12-09T13:30:02.870Z"
   },
   {
    "duration": 19,
    "start_time": "2022-12-09T13:30:06.588Z"
   },
   {
    "duration": 21,
    "start_time": "2022-12-09T13:30:10.585Z"
   },
   {
    "duration": 8,
    "start_time": "2022-12-09T13:30:21.453Z"
   },
   {
    "duration": 6,
    "start_time": "2022-12-09T13:30:23.662Z"
   },
   {
    "duration": 8,
    "start_time": "2022-12-09T13:30:26.694Z"
   },
   {
    "duration": 6,
    "start_time": "2022-12-09T13:30:44.239Z"
   },
   {
    "duration": 372,
    "start_time": "2022-12-09T13:30:57.967Z"
   },
   {
    "duration": 8,
    "start_time": "2022-12-09T13:30:59.919Z"
   },
   {
    "duration": 7,
    "start_time": "2022-12-09T13:31:03.088Z"
   },
   {
    "duration": 6,
    "start_time": "2022-12-09T13:31:07.120Z"
   },
   {
    "duration": 48,
    "start_time": "2022-12-09T13:31:35.082Z"
   },
   {
    "duration": 576,
    "start_time": "2022-12-09T13:31:39.830Z"
   },
   {
    "duration": 90,
    "start_time": "2022-12-09T13:31:40.408Z"
   },
   {
    "duration": 45,
    "start_time": "2022-12-09T13:31:40.499Z"
   },
   {
    "duration": 4,
    "start_time": "2022-12-09T13:31:40.546Z"
   },
   {
    "duration": 10,
    "start_time": "2022-12-09T13:31:40.551Z"
   },
   {
    "duration": 32,
    "start_time": "2022-12-09T13:31:40.562Z"
   },
   {
    "duration": 70,
    "start_time": "2022-12-09T13:31:40.595Z"
   },
   {
    "duration": 23,
    "start_time": "2022-12-09T13:31:40.668Z"
   },
   {
    "duration": 16,
    "start_time": "2022-12-09T13:31:40.693Z"
   },
   {
    "duration": 62,
    "start_time": "2022-12-09T13:31:40.711Z"
   },
   {
    "duration": 8,
    "start_time": "2022-12-09T13:31:40.775Z"
   },
   {
    "duration": 20,
    "start_time": "2022-12-09T13:31:40.784Z"
   },
   {
    "duration": 9,
    "start_time": "2022-12-09T13:31:40.806Z"
   },
   {
    "duration": 9,
    "start_time": "2022-12-09T13:31:40.817Z"
   },
   {
    "duration": 30,
    "start_time": "2022-12-09T13:31:40.827Z"
   },
   {
    "duration": 6,
    "start_time": "2022-12-09T13:31:40.859Z"
   },
   {
    "duration": 8,
    "start_time": "2022-12-09T13:31:40.866Z"
   },
   {
    "duration": 2300,
    "start_time": "2022-12-09T13:31:40.875Z"
   },
   {
    "duration": 7,
    "start_time": "2022-12-09T13:31:43.177Z"
   },
   {
    "duration": 39,
    "start_time": "2022-12-09T13:31:43.185Z"
   },
   {
    "duration": 37,
    "start_time": "2022-12-09T13:31:43.226Z"
   },
   {
    "duration": 197,
    "start_time": "2022-12-09T13:31:43.265Z"
   },
   {
    "duration": 24,
    "start_time": "2022-12-09T13:31:43.464Z"
   },
   {
    "duration": 23,
    "start_time": "2022-12-09T13:31:43.490Z"
   },
   {
    "duration": 8,
    "start_time": "2022-12-09T13:31:43.515Z"
   },
   {
    "duration": 6,
    "start_time": "2022-12-09T13:31:43.555Z"
   },
   {
    "duration": 8,
    "start_time": "2022-12-09T13:31:43.562Z"
   },
   {
    "duration": 9,
    "start_time": "2022-12-09T13:31:43.573Z"
   },
   {
    "duration": 399,
    "start_time": "2022-12-09T13:31:43.584Z"
   },
   {
    "duration": 6,
    "start_time": "2022-12-09T13:31:43.985Z"
   },
   {
    "duration": 7,
    "start_time": "2022-12-09T13:31:43.993Z"
   },
   {
    "duration": 5,
    "start_time": "2022-12-09T13:31:44.002Z"
   },
   {
    "duration": 47,
    "start_time": "2022-12-09T13:31:50.790Z"
   },
   {
    "duration": 40,
    "start_time": "2022-12-09T13:31:55.631Z"
   },
   {
    "duration": 10,
    "start_time": "2022-12-09T13:32:13.323Z"
   },
   {
    "duration": 40,
    "start_time": "2022-12-09T13:32:18.813Z"
   },
   {
    "duration": 383,
    "start_time": "2022-12-09T13:32:24.793Z"
   },
   {
    "duration": 39,
    "start_time": "2022-12-09T13:36:35.316Z"
   },
   {
    "duration": 183,
    "start_time": "2022-12-09T13:37:08.589Z"
   },
   {
    "duration": 10,
    "start_time": "2022-12-09T13:37:24.559Z"
   },
   {
    "duration": 158,
    "start_time": "2022-12-09T13:37:32.854Z"
   },
   {
    "duration": 171,
    "start_time": "2022-12-09T13:37:44.684Z"
   },
   {
    "duration": 172,
    "start_time": "2022-12-09T13:39:43.039Z"
   },
   {
    "duration": 164,
    "start_time": "2022-12-09T13:40:05.037Z"
   },
   {
    "duration": 178,
    "start_time": "2022-12-09T13:40:12.588Z"
   },
   {
    "duration": 426,
    "start_time": "2022-12-09T13:40:21.195Z"
   },
   {
    "duration": 263,
    "start_time": "2022-12-09T13:40:37.749Z"
   },
   {
    "duration": 332,
    "start_time": "2022-12-09T13:41:40.219Z"
   },
   {
    "duration": 276,
    "start_time": "2022-12-09T13:41:50.252Z"
   },
   {
    "duration": 279,
    "start_time": "2022-12-09T13:55:37.869Z"
   },
   {
    "duration": 1030,
    "start_time": "2022-12-09T13:56:26.053Z"
   },
   {
    "duration": 489,
    "start_time": "2022-12-09T13:56:34.697Z"
   },
   {
    "duration": 441,
    "start_time": "2022-12-09T13:56:41.633Z"
   },
   {
    "duration": 1525,
    "start_time": "2022-12-09T17:35:00.023Z"
   },
   {
    "duration": 85,
    "start_time": "2022-12-09T17:35:01.550Z"
   },
   {
    "duration": 23,
    "start_time": "2022-12-09T17:35:01.637Z"
   },
   {
    "duration": 4,
    "start_time": "2022-12-09T17:35:01.662Z"
   },
   {
    "duration": 36,
    "start_time": "2022-12-09T17:35:01.668Z"
   },
   {
    "duration": 42,
    "start_time": "2022-12-09T17:35:01.706Z"
   },
   {
    "duration": 79,
    "start_time": "2022-12-09T17:35:01.750Z"
   },
   {
    "duration": 31,
    "start_time": "2022-12-09T17:35:01.830Z"
   },
   {
    "duration": 52,
    "start_time": "2022-12-09T17:35:01.863Z"
   },
   {
    "duration": 35,
    "start_time": "2022-12-09T17:35:01.918Z"
   },
   {
    "duration": 8,
    "start_time": "2022-12-09T17:35:01.954Z"
   },
   {
    "duration": 16,
    "start_time": "2022-12-09T17:35:01.964Z"
   },
   {
    "duration": 16,
    "start_time": "2022-12-09T17:35:01.982Z"
   },
   {
    "duration": 22,
    "start_time": "2022-12-09T17:35:01.999Z"
   },
   {
    "duration": 15,
    "start_time": "2022-12-09T17:35:02.023Z"
   },
   {
    "duration": 28,
    "start_time": "2022-12-09T17:35:02.039Z"
   },
   {
    "duration": 22,
    "start_time": "2022-12-09T17:35:02.069Z"
   },
   {
    "duration": 2395,
    "start_time": "2022-12-09T17:35:02.093Z"
   },
   {
    "duration": 8,
    "start_time": "2022-12-09T17:35:04.491Z"
   },
   {
    "duration": 39,
    "start_time": "2022-12-09T17:35:04.501Z"
   },
   {
    "duration": 47,
    "start_time": "2022-12-09T17:35:04.543Z"
   },
   {
    "duration": 221,
    "start_time": "2022-12-09T17:35:04.591Z"
   },
   {
    "duration": 17,
    "start_time": "2022-12-09T17:35:04.814Z"
   },
   {
    "duration": 39,
    "start_time": "2022-12-09T17:35:04.833Z"
   },
   {
    "duration": 7,
    "start_time": "2022-12-09T17:35:04.874Z"
   },
   {
    "duration": 7,
    "start_time": "2022-12-09T17:35:04.882Z"
   },
   {
    "duration": 7,
    "start_time": "2022-12-09T17:35:04.890Z"
   },
   {
    "duration": 12,
    "start_time": "2022-12-09T17:35:04.900Z"
   },
   {
    "duration": 340,
    "start_time": "2022-12-09T17:35:04.914Z"
   },
   {
    "duration": 8,
    "start_time": "2022-12-09T17:35:05.255Z"
   },
   {
    "duration": 11,
    "start_time": "2022-12-09T17:35:05.265Z"
   },
   {
    "duration": 6,
    "start_time": "2022-12-09T17:35:05.278Z"
   },
   {
    "duration": 9,
    "start_time": "2022-12-09T17:35:05.286Z"
   },
   {
    "duration": 1084,
    "start_time": "2022-12-09T17:35:05.296Z"
   },
   {
    "duration": 163,
    "start_time": "2022-12-09T17:35:06.381Z"
   },
   {
    "duration": 30,
    "start_time": "2022-12-09T17:35:06.546Z"
   },
   {
    "duration": 100,
    "start_time": "2022-12-09T17:39:26.456Z"
   },
   {
    "duration": 108,
    "start_time": "2022-12-09T17:39:38.551Z"
   },
   {
    "duration": 102,
    "start_time": "2022-12-09T17:39:45.624Z"
   },
   {
    "duration": 273,
    "start_time": "2022-12-09T17:40:07.432Z"
   },
   {
    "duration": 104,
    "start_time": "2022-12-09T17:40:15.651Z"
   },
   {
    "duration": 145,
    "start_time": "2022-12-09T17:41:24.215Z"
   },
   {
    "duration": 88,
    "start_time": "2022-12-09T17:41:40.556Z"
   },
   {
    "duration": 53,
    "start_time": "2022-12-09T17:44:04.115Z"
   },
   {
    "duration": 205,
    "start_time": "2022-12-09T17:45:45.506Z"
   },
   {
    "duration": 200,
    "start_time": "2022-12-09T17:45:51.995Z"
   },
   {
    "duration": 569,
    "start_time": "2022-12-09T17:46:02.992Z"
   },
   {
    "duration": 534,
    "start_time": "2022-12-09T17:46:09.899Z"
   },
   {
    "duration": 432,
    "start_time": "2022-12-09T17:48:33.327Z"
   },
   {
    "duration": 306,
    "start_time": "2022-12-09T17:48:43.211Z"
   },
   {
    "duration": 262,
    "start_time": "2022-12-09T17:48:53.076Z"
   },
   {
    "duration": 16,
    "start_time": "2022-12-09T17:53:48.537Z"
   },
   {
    "duration": 47,
    "start_time": "2022-12-09T17:58:09.516Z"
   },
   {
    "duration": 4379,
    "start_time": "2022-12-09T17:58:26.859Z"
   },
   {
    "duration": 769,
    "start_time": "2022-12-09T17:59:31.341Z"
   },
   {
    "duration": 87,
    "start_time": "2022-12-09T17:59:32.112Z"
   },
   {
    "duration": 17,
    "start_time": "2022-12-09T17:59:32.201Z"
   },
   {
    "duration": 4,
    "start_time": "2022-12-09T17:59:32.220Z"
   },
   {
    "duration": 29,
    "start_time": "2022-12-09T17:59:32.226Z"
   },
   {
    "duration": 31,
    "start_time": "2022-12-09T17:59:32.257Z"
   },
   {
    "duration": 67,
    "start_time": "2022-12-09T17:59:32.290Z"
   },
   {
    "duration": 23,
    "start_time": "2022-12-09T17:59:32.359Z"
   },
   {
    "duration": 17,
    "start_time": "2022-12-09T17:59:32.384Z"
   },
   {
    "duration": 64,
    "start_time": "2022-12-09T17:59:32.404Z"
   },
   {
    "duration": 8,
    "start_time": "2022-12-09T17:59:32.470Z"
   },
   {
    "duration": 11,
    "start_time": "2022-12-09T17:59:32.479Z"
   },
   {
    "duration": 7,
    "start_time": "2022-12-09T17:59:32.491Z"
   },
   {
    "duration": 9,
    "start_time": "2022-12-09T17:59:32.500Z"
   },
   {
    "duration": 15,
    "start_time": "2022-12-09T17:59:32.511Z"
   },
   {
    "duration": 31,
    "start_time": "2022-12-09T17:59:32.528Z"
   },
   {
    "duration": 7,
    "start_time": "2022-12-09T17:59:32.560Z"
   },
   {
    "duration": 2502,
    "start_time": "2022-12-09T17:59:32.568Z"
   },
   {
    "duration": 7,
    "start_time": "2022-12-09T17:59:35.072Z"
   },
   {
    "duration": 30,
    "start_time": "2022-12-09T17:59:35.081Z"
   },
   {
    "duration": 54,
    "start_time": "2022-12-09T17:59:35.113Z"
   },
   {
    "duration": 191,
    "start_time": "2022-12-09T17:59:35.169Z"
   },
   {
    "duration": 22,
    "start_time": "2022-12-09T17:59:35.362Z"
   },
   {
    "duration": 22,
    "start_time": "2022-12-09T17:59:35.386Z"
   },
   {
    "duration": 8,
    "start_time": "2022-12-09T17:59:35.410Z"
   },
   {
    "duration": 39,
    "start_time": "2022-12-09T17:59:35.419Z"
   },
   {
    "duration": 7,
    "start_time": "2022-12-09T17:59:35.459Z"
   },
   {
    "duration": 9,
    "start_time": "2022-12-09T17:59:35.470Z"
   },
   {
    "duration": 338,
    "start_time": "2022-12-09T17:59:35.482Z"
   },
   {
    "duration": 7,
    "start_time": "2022-12-09T17:59:35.821Z"
   },
   {
    "duration": 8,
    "start_time": "2022-12-09T17:59:35.830Z"
   },
   {
    "duration": 16,
    "start_time": "2022-12-09T17:59:35.840Z"
   },
   {
    "duration": 8,
    "start_time": "2022-12-09T17:59:35.858Z"
   },
   {
    "duration": 120,
    "start_time": "2022-12-09T17:59:35.867Z"
   },
   {
    "duration": 503,
    "start_time": "2022-12-09T17:59:35.989Z"
   },
   {
    "duration": 289,
    "start_time": "2022-12-09T17:59:36.493Z"
   },
   {
    "duration": 13,
    "start_time": "2022-12-09T17:59:36.784Z"
   },
   {
    "duration": 73,
    "start_time": "2022-12-09T18:00:19.315Z"
   },
   {
    "duration": 2977,
    "start_time": "2022-12-09T18:00:49.768Z"
   },
   {
    "duration": 2418,
    "start_time": "2022-12-09T18:01:41.367Z"
   },
   {
    "duration": 1953,
    "start_time": "2022-12-09T18:01:57.653Z"
   },
   {
    "duration": 14,
    "start_time": "2022-12-09T18:03:05.832Z"
   },
   {
    "duration": 247,
    "start_time": "2022-12-09T18:08:30.965Z"
   },
   {
    "duration": 15,
    "start_time": "2022-12-09T18:08:41.507Z"
   },
   {
    "duration": 283,
    "start_time": "2022-12-09T18:09:28.100Z"
   },
   {
    "duration": 152,
    "start_time": "2022-12-09T18:09:39.537Z"
   },
   {
    "duration": 135,
    "start_time": "2022-12-09T18:10:06.010Z"
   },
   {
    "duration": 1666,
    "start_time": "2022-12-09T18:10:20.645Z"
   },
   {
    "duration": 41,
    "start_time": "2022-12-09T18:17:14.070Z"
   },
   {
    "duration": 29,
    "start_time": "2022-12-09T18:17:21.974Z"
   },
   {
    "duration": 39,
    "start_time": "2022-12-09T18:19:59.538Z"
   },
   {
    "duration": 4,
    "start_time": "2022-12-09T18:20:20.052Z"
   },
   {
    "duration": 25,
    "start_time": "2022-12-09T18:21:48.295Z"
   },
   {
    "duration": 1733,
    "start_time": "2022-12-09T18:23:40.089Z"
   },
   {
    "duration": 1891,
    "start_time": "2022-12-09T18:23:59.449Z"
   },
   {
    "duration": 159,
    "start_time": "2022-12-09T18:33:48.817Z"
   },
   {
    "duration": 150,
    "start_time": "2022-12-09T18:34:19.301Z"
   },
   {
    "duration": 4,
    "start_time": "2022-12-09T18:34:45.362Z"
   },
   {
    "duration": 800,
    "start_time": "2022-12-09T18:35:00.202Z"
   },
   {
    "duration": 5,
    "start_time": "2022-12-09T18:35:15.757Z"
   },
   {
    "duration": 788,
    "start_time": "2022-12-09T18:35:23.800Z"
   },
   {
    "duration": 141,
    "start_time": "2022-12-09T18:35:48.544Z"
   },
   {
    "duration": 151,
    "start_time": "2022-12-09T18:38:57.489Z"
   },
   {
    "duration": 57,
    "start_time": "2022-12-09T18:39:50.271Z"
   },
   {
    "duration": 140,
    "start_time": "2022-12-09T18:40:43.495Z"
   },
   {
    "duration": 1731,
    "start_time": "2022-12-09T18:42:28.234Z"
   },
   {
    "duration": 10,
    "start_time": "2022-12-09T18:44:21.695Z"
   },
   {
    "duration": 273,
    "start_time": "2022-12-09T18:45:01.945Z"
   },
   {
    "duration": 5,
    "start_time": "2022-12-09T18:51:07.940Z"
   },
   {
    "duration": 292,
    "start_time": "2022-12-09T18:51:47.242Z"
   },
   {
    "duration": 316,
    "start_time": "2022-12-09T18:53:23.059Z"
   },
   {
    "duration": 284,
    "start_time": "2022-12-09T18:53:41.118Z"
   },
   {
    "duration": 441,
    "start_time": "2022-12-09T18:55:35.859Z"
   },
   {
    "duration": 4456,
    "start_time": "2022-12-09T19:14:42.433Z"
   },
   {
    "duration": 4,
    "start_time": "2022-12-09T19:14:46.891Z"
   },
   {
    "duration": 3938,
    "start_time": "2022-12-09T19:15:09.945Z"
   },
   {
    "duration": 2054,
    "start_time": "2022-12-09T19:15:35.767Z"
   },
   {
    "duration": 2469,
    "start_time": "2022-12-09T19:20:47.919Z"
   },
   {
    "duration": 1912,
    "start_time": "2022-12-09T19:21:10.902Z"
   },
   {
    "duration": 104,
    "start_time": "2022-12-09T19:55:46.214Z"
   },
   {
    "duration": 111,
    "start_time": "2022-12-09T19:55:55.032Z"
   },
   {
    "duration": 88,
    "start_time": "2022-12-09T19:55:55.881Z"
   },
   {
    "duration": 17,
    "start_time": "2022-12-09T19:55:56.719Z"
   },
   {
    "duration": 0,
    "start_time": "2022-12-09T19:55:56.788Z"
   },
   {
    "duration": 0,
    "start_time": "2022-12-09T19:55:56.789Z"
   },
   {
    "duration": 0,
    "start_time": "2022-12-09T19:55:56.791Z"
   },
   {
    "duration": 0,
    "start_time": "2022-12-09T19:55:56.794Z"
   },
   {
    "duration": 0,
    "start_time": "2022-12-09T19:55:56.795Z"
   },
   {
    "duration": 1,
    "start_time": "2022-12-09T19:55:56.795Z"
   },
   {
    "duration": 0,
    "start_time": "2022-12-09T19:55:56.797Z"
   },
   {
    "duration": 0,
    "start_time": "2022-12-09T19:55:56.798Z"
   },
   {
    "duration": 0,
    "start_time": "2022-12-09T19:55:56.799Z"
   },
   {
    "duration": 0,
    "start_time": "2022-12-09T19:55:56.800Z"
   },
   {
    "duration": 0,
    "start_time": "2022-12-09T19:55:56.801Z"
   },
   {
    "duration": 0,
    "start_time": "2022-12-09T19:55:56.802Z"
   },
   {
    "duration": 0,
    "start_time": "2022-12-09T19:55:56.803Z"
   },
   {
    "duration": 0,
    "start_time": "2022-12-09T19:55:56.803Z"
   },
   {
    "duration": 0,
    "start_time": "2022-12-09T19:55:56.805Z"
   },
   {
    "duration": 0,
    "start_time": "2022-12-09T19:55:56.806Z"
   },
   {
    "duration": 0,
    "start_time": "2022-12-09T19:55:56.807Z"
   },
   {
    "duration": 0,
    "start_time": "2022-12-09T19:55:56.808Z"
   },
   {
    "duration": 0,
    "start_time": "2022-12-09T19:55:56.809Z"
   },
   {
    "duration": 0,
    "start_time": "2022-12-09T19:55:56.810Z"
   },
   {
    "duration": 0,
    "start_time": "2022-12-09T19:55:56.810Z"
   },
   {
    "duration": 0,
    "start_time": "2022-12-09T19:55:56.811Z"
   },
   {
    "duration": 0,
    "start_time": "2022-12-09T19:55:56.812Z"
   },
   {
    "duration": 0,
    "start_time": "2022-12-09T19:55:56.813Z"
   },
   {
    "duration": 0,
    "start_time": "2022-12-09T19:55:56.855Z"
   },
   {
    "duration": 0,
    "start_time": "2022-12-09T19:55:56.856Z"
   },
   {
    "duration": 0,
    "start_time": "2022-12-09T19:55:56.857Z"
   },
   {
    "duration": 0,
    "start_time": "2022-12-09T19:55:56.858Z"
   },
   {
    "duration": 0,
    "start_time": "2022-12-09T19:55:56.859Z"
   },
   {
    "duration": 0,
    "start_time": "2022-12-09T19:55:56.859Z"
   },
   {
    "duration": 0,
    "start_time": "2022-12-09T19:55:56.861Z"
   },
   {
    "duration": 0,
    "start_time": "2022-12-09T19:55:56.862Z"
   },
   {
    "duration": 0,
    "start_time": "2022-12-09T19:55:56.863Z"
   },
   {
    "duration": 0,
    "start_time": "2022-12-09T19:55:56.864Z"
   },
   {
    "duration": 0,
    "start_time": "2022-12-09T19:55:56.865Z"
   },
   {
    "duration": 115,
    "start_time": "2022-12-09T19:57:06.848Z"
   },
   {
    "duration": 113,
    "start_time": "2022-12-09T19:57:20.155Z"
   },
   {
    "duration": 103,
    "start_time": "2022-12-09T19:57:20.270Z"
   },
   {
    "duration": 16,
    "start_time": "2022-12-09T19:57:20.375Z"
   },
   {
    "duration": 4,
    "start_time": "2022-12-09T19:57:20.393Z"
   },
   {
    "duration": 15,
    "start_time": "2022-12-09T19:57:20.398Z"
   },
   {
    "duration": 51,
    "start_time": "2022-12-09T19:57:20.415Z"
   },
   {
    "duration": 49,
    "start_time": "2022-12-09T19:57:20.468Z"
   },
   {
    "duration": 57,
    "start_time": "2022-12-09T19:57:20.519Z"
   },
   {
    "duration": 24,
    "start_time": "2022-12-09T19:57:20.578Z"
   },
   {
    "duration": 50,
    "start_time": "2022-12-09T19:57:20.606Z"
   },
   {
    "duration": 9,
    "start_time": "2022-12-09T19:57:20.657Z"
   },
   {
    "duration": 11,
    "start_time": "2022-12-09T19:57:20.668Z"
   },
   {
    "duration": 17,
    "start_time": "2022-12-09T19:57:20.681Z"
   },
   {
    "duration": 26,
    "start_time": "2022-12-09T19:57:20.699Z"
   },
   {
    "duration": 12,
    "start_time": "2022-12-09T19:57:20.727Z"
   },
   {
    "duration": 18,
    "start_time": "2022-12-09T19:57:20.741Z"
   },
   {
    "duration": 8,
    "start_time": "2022-12-09T19:57:20.761Z"
   },
   {
    "duration": 2606,
    "start_time": "2022-12-09T19:57:20.771Z"
   },
   {
    "duration": 7,
    "start_time": "2022-12-09T19:57:23.379Z"
   },
   {
    "duration": 30,
    "start_time": "2022-12-09T19:57:23.388Z"
   },
   {
    "duration": 45,
    "start_time": "2022-12-09T19:57:23.419Z"
   },
   {
    "duration": 195,
    "start_time": "2022-12-09T19:57:23.466Z"
   },
   {
    "duration": 18,
    "start_time": "2022-12-09T19:57:23.663Z"
   },
   {
    "duration": 33,
    "start_time": "2022-12-09T19:57:23.683Z"
   },
   {
    "duration": 9,
    "start_time": "2022-12-09T19:57:23.719Z"
   },
   {
    "duration": 36,
    "start_time": "2022-12-09T19:57:23.729Z"
   },
   {
    "duration": 12,
    "start_time": "2022-12-09T19:57:23.768Z"
   },
   {
    "duration": 10,
    "start_time": "2022-12-09T19:57:23.784Z"
   },
   {
    "duration": 325,
    "start_time": "2022-12-09T19:57:23.796Z"
   },
   {
    "duration": 7,
    "start_time": "2022-12-09T19:57:24.123Z"
   },
   {
    "duration": 10,
    "start_time": "2022-12-09T19:57:24.132Z"
   },
   {
    "duration": 15,
    "start_time": "2022-12-09T19:57:24.144Z"
   },
   {
    "duration": 8,
    "start_time": "2022-12-09T19:57:24.161Z"
   },
   {
    "duration": 119,
    "start_time": "2022-12-09T19:57:24.171Z"
   },
   {
    "duration": 570,
    "start_time": "2022-12-09T19:57:24.292Z"
   },
   {
    "duration": 297,
    "start_time": "2022-12-09T19:57:24.864Z"
   },
   {
    "duration": 498,
    "start_time": "2022-12-09T19:57:25.164Z"
   },
   {
    "duration": 2037,
    "start_time": "2022-12-09T19:57:25.664Z"
   },
   {
    "duration": 58,
    "start_time": "2022-12-09T20:19:13.671Z"
   },
   {
    "duration": 9,
    "start_time": "2022-12-09T20:19:19.098Z"
   },
   {
    "duration": 1352,
    "start_time": "2022-12-09T20:19:29.844Z"
   },
   {
    "duration": 87,
    "start_time": "2022-12-09T20:19:31.198Z"
   },
   {
    "duration": 16,
    "start_time": "2022-12-09T20:19:31.287Z"
   },
   {
    "duration": 10,
    "start_time": "2022-12-09T20:19:31.305Z"
   },
   {
    "duration": 14,
    "start_time": "2022-12-09T20:19:31.317Z"
   },
   {
    "duration": 48,
    "start_time": "2022-12-09T20:19:31.333Z"
   },
   {
    "duration": 84,
    "start_time": "2022-12-09T20:19:31.382Z"
   },
   {
    "duration": 36,
    "start_time": "2022-12-09T20:19:31.469Z"
   },
   {
    "duration": 42,
    "start_time": "2022-12-09T20:19:31.507Z"
   },
   {
    "duration": 39,
    "start_time": "2022-12-09T20:19:31.556Z"
   },
   {
    "duration": 8,
    "start_time": "2022-12-09T20:19:31.596Z"
   },
   {
    "duration": 14,
    "start_time": "2022-12-09T20:19:31.605Z"
   },
   {
    "duration": 38,
    "start_time": "2022-12-09T20:19:31.621Z"
   },
   {
    "duration": 9,
    "start_time": "2022-12-09T20:19:31.661Z"
   },
   {
    "duration": 13,
    "start_time": "2022-12-09T20:19:31.671Z"
   },
   {
    "duration": 14,
    "start_time": "2022-12-09T20:19:31.686Z"
   },
   {
    "duration": 11,
    "start_time": "2022-12-09T20:19:31.701Z"
   },
   {
    "duration": 2510,
    "start_time": "2022-12-09T20:19:31.713Z"
   },
   {
    "duration": 7,
    "start_time": "2022-12-09T20:19:34.225Z"
   },
   {
    "duration": 39,
    "start_time": "2022-12-09T20:19:34.233Z"
   },
   {
    "duration": 28,
    "start_time": "2022-12-09T20:19:34.274Z"
   },
   {
    "duration": 208,
    "start_time": "2022-12-09T20:19:34.304Z"
   },
   {
    "duration": 21,
    "start_time": "2022-12-09T20:19:34.514Z"
   },
   {
    "duration": 35,
    "start_time": "2022-12-09T20:19:34.538Z"
   },
   {
    "duration": 8,
    "start_time": "2022-12-09T20:19:34.575Z"
   },
   {
    "duration": 17,
    "start_time": "2022-12-09T20:19:34.585Z"
   },
   {
    "duration": 8,
    "start_time": "2022-12-09T20:19:34.604Z"
   },
   {
    "duration": 13,
    "start_time": "2022-12-09T20:19:34.616Z"
   },
   {
    "duration": 355,
    "start_time": "2022-12-09T20:19:34.655Z"
   },
   {
    "duration": 7,
    "start_time": "2022-12-09T20:19:35.012Z"
   },
   {
    "duration": 7,
    "start_time": "2022-12-09T20:19:35.021Z"
   },
   {
    "duration": 16,
    "start_time": "2022-12-09T20:19:35.030Z"
   },
   {
    "duration": 13,
    "start_time": "2022-12-09T20:19:35.048Z"
   },
   {
    "duration": 116,
    "start_time": "2022-12-09T20:19:35.063Z"
   },
   {
    "duration": 486,
    "start_time": "2022-12-09T20:19:35.181Z"
   },
   {
    "duration": 362,
    "start_time": "2022-12-09T20:19:35.669Z"
   },
   {
    "duration": 459,
    "start_time": "2022-12-09T20:19:36.032Z"
   },
   {
    "duration": 1942,
    "start_time": "2022-12-09T20:19:36.492Z"
   },
   {
    "duration": 211,
    "start_time": "2022-12-09T20:19:38.435Z"
   },
   {
    "duration": 0,
    "start_time": "2022-12-09T20:19:38.648Z"
   },
   {
    "duration": 0,
    "start_time": "2022-12-09T20:19:38.655Z"
   },
   {
    "duration": 4,
    "start_time": "2022-12-09T20:20:23.270Z"
   },
   {
    "duration": 191,
    "start_time": "2022-12-09T20:20:36.802Z"
   },
   {
    "duration": 27,
    "start_time": "2022-12-09T20:28:24.768Z"
   },
   {
    "duration": 173,
    "start_time": "2022-12-09T20:28:34.667Z"
   },
   {
    "duration": 20,
    "start_time": "2022-12-09T20:28:56.675Z"
   },
   {
    "duration": 120,
    "start_time": "2022-12-09T20:30:18.372Z"
   },
   {
    "duration": 153,
    "start_time": "2022-12-09T20:31:56.212Z"
   },
   {
    "duration": 183,
    "start_time": "2022-12-09T20:32:38.344Z"
   },
   {
    "duration": 188,
    "start_time": "2022-12-09T20:32:44.198Z"
   },
   {
    "duration": 175,
    "start_time": "2022-12-09T20:34:51.411Z"
   },
   {
    "duration": 45,
    "start_time": "2022-12-09T20:38:07.731Z"
   },
   {
    "duration": 14,
    "start_time": "2022-12-09T20:38:14.023Z"
   },
   {
    "duration": 146,
    "start_time": "2022-12-09T20:44:40.787Z"
   },
   {
    "duration": 59,
    "start_time": "2022-12-10T12:18:48.218Z"
   },
   {
    "duration": 1510,
    "start_time": "2022-12-10T12:18:54.813Z"
   },
   {
    "duration": 83,
    "start_time": "2022-12-10T12:18:56.325Z"
   },
   {
    "duration": 27,
    "start_time": "2022-12-10T12:18:56.410Z"
   },
   {
    "duration": 3,
    "start_time": "2022-12-10T12:18:56.439Z"
   },
   {
    "duration": 12,
    "start_time": "2022-12-10T12:18:56.444Z"
   },
   {
    "duration": 28,
    "start_time": "2022-12-10T12:18:56.458Z"
   },
   {
    "duration": 83,
    "start_time": "2022-12-10T12:18:56.488Z"
   },
   {
    "duration": 24,
    "start_time": "2022-12-10T12:18:56.573Z"
   },
   {
    "duration": 42,
    "start_time": "2022-12-10T12:18:56.598Z"
   },
   {
    "duration": 38,
    "start_time": "2022-12-10T12:18:56.643Z"
   },
   {
    "duration": 8,
    "start_time": "2022-12-10T12:18:56.682Z"
   },
   {
    "duration": 39,
    "start_time": "2022-12-10T12:18:56.692Z"
   },
   {
    "duration": 9,
    "start_time": "2022-12-10T12:18:56.733Z"
   },
   {
    "duration": 15,
    "start_time": "2022-12-10T12:18:56.744Z"
   },
   {
    "duration": 6,
    "start_time": "2022-12-10T12:18:56.761Z"
   },
   {
    "duration": 15,
    "start_time": "2022-12-10T12:18:56.769Z"
   },
   {
    "duration": 6,
    "start_time": "2022-12-10T12:18:56.786Z"
   },
   {
    "duration": 2385,
    "start_time": "2022-12-10T12:18:56.793Z"
   },
   {
    "duration": 6,
    "start_time": "2022-12-10T12:18:59.180Z"
   },
   {
    "duration": 49,
    "start_time": "2022-12-10T12:18:59.188Z"
   },
   {
    "duration": 30,
    "start_time": "2022-12-10T12:18:59.239Z"
   },
   {
    "duration": 174,
    "start_time": "2022-12-10T12:18:59.271Z"
   },
   {
    "duration": 16,
    "start_time": "2022-12-10T12:18:59.447Z"
   },
   {
    "duration": 20,
    "start_time": "2022-12-10T12:18:59.464Z"
   },
   {
    "duration": 7,
    "start_time": "2022-12-10T12:18:59.485Z"
   },
   {
    "duration": 33,
    "start_time": "2022-12-10T12:18:59.493Z"
   },
   {
    "duration": 6,
    "start_time": "2022-12-10T12:18:59.528Z"
   },
   {
    "duration": 13,
    "start_time": "2022-12-10T12:18:59.536Z"
   },
   {
    "duration": 350,
    "start_time": "2022-12-10T12:18:59.551Z"
   },
   {
    "duration": 6,
    "start_time": "2022-12-10T12:18:59.904Z"
   },
   {
    "duration": 20,
    "start_time": "2022-12-10T12:18:59.912Z"
   },
   {
    "duration": 49,
    "start_time": "2022-12-10T12:18:59.934Z"
   },
   {
    "duration": 14,
    "start_time": "2022-12-10T12:18:59.985Z"
   },
   {
    "duration": 141,
    "start_time": "2022-12-10T12:19:00.001Z"
   },
   {
    "duration": 464,
    "start_time": "2022-12-10T12:19:00.144Z"
   },
   {
    "duration": 355,
    "start_time": "2022-12-10T12:19:00.609Z"
   },
   {
    "duration": 450,
    "start_time": "2022-12-10T12:19:00.966Z"
   },
   {
    "duration": 1949,
    "start_time": "2022-12-10T12:19:01.417Z"
   },
   {
    "duration": 160,
    "start_time": "2022-12-10T12:19:37.305Z"
   },
   {
    "duration": 177,
    "start_time": "2022-12-10T12:21:38.937Z"
   },
   {
    "duration": 179,
    "start_time": "2022-12-10T12:21:44.475Z"
   },
   {
    "duration": 194,
    "start_time": "2022-12-10T12:22:04.703Z"
   },
   {
    "duration": 71,
    "start_time": "2022-12-10T12:29:01.982Z"
   },
   {
    "duration": 15,
    "start_time": "2022-12-10T12:31:33.377Z"
   },
   {
    "duration": 15,
    "start_time": "2022-12-10T12:32:00.185Z"
   },
   {
    "duration": 9,
    "start_time": "2022-12-10T12:32:17.552Z"
   },
   {
    "duration": 21,
    "start_time": "2022-12-10T12:32:57.407Z"
   },
   {
    "duration": 16,
    "start_time": "2022-12-10T12:39:17.642Z"
   },
   {
    "duration": 188,
    "start_time": "2022-12-10T12:39:29.028Z"
   },
   {
    "duration": 189,
    "start_time": "2022-12-10T12:39:50.451Z"
   },
   {
    "duration": 280,
    "start_time": "2022-12-10T12:39:59.447Z"
   },
   {
    "duration": 21,
    "start_time": "2022-12-10T12:43:09.628Z"
   },
   {
    "duration": 193,
    "start_time": "2022-12-10T12:43:28.064Z"
   },
   {
    "duration": 250,
    "start_time": "2022-12-10T12:44:13.396Z"
   },
   {
    "duration": 270,
    "start_time": "2022-12-10T12:46:15.346Z"
   },
   {
    "duration": 201,
    "start_time": "2022-12-10T12:47:50.745Z"
   },
   {
    "duration": 134,
    "start_time": "2022-12-10T12:51:54.235Z"
   },
   {
    "duration": 419,
    "start_time": "2022-12-10T12:52:31.565Z"
   },
   {
    "duration": 509,
    "start_time": "2022-12-10T12:52:38.262Z"
   },
   {
    "duration": 3196,
    "start_time": "2022-12-10T12:52:50.010Z"
   },
   {
    "duration": 2573,
    "start_time": "2022-12-10T12:53:00.905Z"
   },
   {
    "duration": 46,
    "start_time": "2022-12-10T12:53:41.171Z"
   },
   {
    "duration": 1183,
    "start_time": "2022-12-10T12:53:45.961Z"
   },
   {
    "duration": 78,
    "start_time": "2022-12-10T12:53:47.146Z"
   },
   {
    "duration": 16,
    "start_time": "2022-12-10T12:53:47.226Z"
   },
   {
    "duration": 3,
    "start_time": "2022-12-10T12:53:47.244Z"
   },
   {
    "duration": 9,
    "start_time": "2022-12-10T12:53:47.249Z"
   },
   {
    "duration": 28,
    "start_time": "2022-12-10T12:53:47.260Z"
   },
   {
    "duration": 72,
    "start_time": "2022-12-10T12:53:47.290Z"
   },
   {
    "duration": 21,
    "start_time": "2022-12-10T12:53:47.364Z"
   },
   {
    "duration": 42,
    "start_time": "2022-12-10T12:53:47.387Z"
   },
   {
    "duration": 168,
    "start_time": "2022-12-10T12:53:50.911Z"
   },
   {
    "duration": 141,
    "start_time": "2022-12-10T12:53:56.773Z"
   },
   {
    "duration": 66,
    "start_time": "2022-12-10T13:00:06.371Z"
   },
   {
    "duration": 1194,
    "start_time": "2022-12-10T13:00:45.707Z"
   },
   {
    "duration": 18,
    "start_time": "2022-12-10T13:01:26.346Z"
   },
   {
    "duration": 152,
    "start_time": "2022-12-10T13:01:29.934Z"
   },
   {
    "duration": 88,
    "start_time": "2022-12-10T13:01:30.089Z"
   },
   {
    "duration": 15,
    "start_time": "2022-12-10T13:01:30.179Z"
   },
   {
    "duration": 4,
    "start_time": "2022-12-10T13:01:30.196Z"
   },
   {
    "duration": 25,
    "start_time": "2022-12-10T13:01:30.202Z"
   },
   {
    "duration": 38,
    "start_time": "2022-12-10T13:01:30.229Z"
   },
   {
    "duration": 64,
    "start_time": "2022-12-10T13:01:30.269Z"
   },
   {
    "duration": 24,
    "start_time": "2022-12-10T13:01:30.335Z"
   },
   {
    "duration": 32,
    "start_time": "2022-12-10T13:01:30.361Z"
   },
   {
    "duration": 155,
    "start_time": "2022-12-10T13:01:30.394Z"
   },
   {
    "duration": 36,
    "start_time": "2022-12-10T13:01:30.551Z"
   },
   {
    "duration": 9,
    "start_time": "2022-12-10T13:01:30.588Z"
   },
   {
    "duration": 30,
    "start_time": "2022-12-10T13:01:30.599Z"
   },
   {
    "duration": 9,
    "start_time": "2022-12-10T13:01:30.633Z"
   },
   {
    "duration": 11,
    "start_time": "2022-12-10T13:01:30.644Z"
   },
   {
    "duration": 5,
    "start_time": "2022-12-10T13:01:30.657Z"
   },
   {
    "duration": 20,
    "start_time": "2022-12-10T13:01:30.664Z"
   },
   {
    "duration": 9,
    "start_time": "2022-12-10T13:01:30.686Z"
   },
   {
    "duration": 2329,
    "start_time": "2022-12-10T13:01:30.697Z"
   },
   {
    "duration": 8,
    "start_time": "2022-12-10T13:01:33.028Z"
   },
   {
    "duration": 31,
    "start_time": "2022-12-10T13:01:33.037Z"
   },
   {
    "duration": 27,
    "start_time": "2022-12-10T13:01:33.070Z"
   },
   {
    "duration": 168,
    "start_time": "2022-12-10T13:01:33.099Z"
   },
   {
    "duration": 15,
    "start_time": "2022-12-10T13:01:33.269Z"
   },
   {
    "duration": 25,
    "start_time": "2022-12-10T13:01:33.285Z"
   },
   {
    "duration": 7,
    "start_time": "2022-12-10T13:01:33.326Z"
   },
   {
    "duration": 6,
    "start_time": "2022-12-10T13:01:33.335Z"
   },
   {
    "duration": 5,
    "start_time": "2022-12-10T13:01:33.342Z"
   },
   {
    "duration": 17,
    "start_time": "2022-12-10T13:01:33.348Z"
   },
   {
    "duration": 355,
    "start_time": "2022-12-10T13:01:33.367Z"
   },
   {
    "duration": 8,
    "start_time": "2022-12-10T13:01:33.724Z"
   },
   {
    "duration": 13,
    "start_time": "2022-12-10T13:01:33.734Z"
   },
   {
    "duration": 24,
    "start_time": "2022-12-10T13:01:33.749Z"
   },
   {
    "duration": 10,
    "start_time": "2022-12-10T13:01:33.774Z"
   },
   {
    "duration": 123,
    "start_time": "2022-12-10T13:01:33.785Z"
   },
   {
    "duration": 627,
    "start_time": "2022-12-10T13:01:33.910Z"
   },
   {
    "duration": 301,
    "start_time": "2022-12-10T13:01:34.539Z"
   },
   {
    "duration": 517,
    "start_time": "2022-12-10T13:01:34.842Z"
   },
   {
    "duration": 1892,
    "start_time": "2022-12-10T13:01:35.361Z"
   },
   {
    "duration": 71,
    "start_time": "2022-12-10T13:01:37.255Z"
   },
   {
    "duration": 140,
    "start_time": "2022-12-10T13:02:21.332Z"
   },
   {
    "duration": 225,
    "start_time": "2022-12-10T13:02:49.541Z"
   },
   {
    "duration": 2485,
    "start_time": "2022-12-10T13:04:03.223Z"
   },
   {
    "duration": 2459,
    "start_time": "2022-12-10T13:04:18.452Z"
   },
   {
    "duration": 242,
    "start_time": "2022-12-10T13:04:29.079Z"
   },
   {
    "duration": 131,
    "start_time": "2022-12-10T13:11:10.565Z"
   },
   {
    "duration": 68,
    "start_time": "2022-12-10T13:26:27.251Z"
   },
   {
    "duration": 73,
    "start_time": "2022-12-10T13:26:36.793Z"
   },
   {
    "duration": 184,
    "start_time": "2022-12-10T13:29:36.113Z"
   },
   {
    "duration": 190,
    "start_time": "2022-12-10T13:30:29.647Z"
   },
   {
    "duration": 251,
    "start_time": "2022-12-10T13:30:59.638Z"
   },
   {
    "duration": 198,
    "start_time": "2022-12-10T13:31:34.780Z"
   },
   {
    "duration": 260,
    "start_time": "2022-12-10T13:31:37.603Z"
   },
   {
    "duration": 237,
    "start_time": "2022-12-10T13:32:09.641Z"
   },
   {
    "duration": 9,
    "start_time": "2022-12-10T13:39:24.869Z"
   },
   {
    "duration": 161,
    "start_time": "2022-12-10T13:44:18.712Z"
   },
   {
    "duration": 224,
    "start_time": "2022-12-10T13:46:15.004Z"
   },
   {
    "duration": 194,
    "start_time": "2022-12-10T13:46:46.918Z"
   },
   {
    "duration": 200,
    "start_time": "2022-12-10T13:47:13.871Z"
   },
   {
    "duration": 198,
    "start_time": "2022-12-10T13:47:21.304Z"
   },
   {
    "duration": 312,
    "start_time": "2022-12-10T13:47:30.465Z"
   },
   {
    "duration": 178,
    "start_time": "2022-12-10T13:47:45.141Z"
   },
   {
    "duration": 119,
    "start_time": "2022-12-10T13:48:23.001Z"
   },
   {
    "duration": 171,
    "start_time": "2022-12-10T13:48:31.087Z"
   },
   {
    "duration": 123,
    "start_time": "2022-12-10T13:48:37.674Z"
   },
   {
    "duration": 504,
    "start_time": "2022-12-10T13:48:46.351Z"
   },
   {
    "duration": 247,
    "start_time": "2022-12-10T13:49:44.558Z"
   },
   {
    "duration": 143,
    "start_time": "2022-12-10T13:51:39.376Z"
   },
   {
    "duration": 21,
    "start_time": "2022-12-10T13:53:25.661Z"
   },
   {
    "duration": 148,
    "start_time": "2022-12-10T13:53:50.742Z"
   },
   {
    "duration": 8,
    "start_time": "2022-12-10T13:55:40.833Z"
   },
   {
    "duration": 4,
    "start_time": "2022-12-10T14:07:44.840Z"
   },
   {
    "duration": 23,
    "start_time": "2022-12-10T14:10:34.737Z"
   },
   {
    "duration": 23,
    "start_time": "2022-12-10T14:11:52.316Z"
   },
   {
    "duration": 66,
    "start_time": "2022-12-10T14:12:48.548Z"
   },
   {
    "duration": 21,
    "start_time": "2022-12-10T14:13:07.483Z"
   },
   {
    "duration": 22,
    "start_time": "2022-12-10T14:13:49.893Z"
   },
   {
    "duration": 19,
    "start_time": "2022-12-10T14:14:02.994Z"
   },
   {
    "duration": 26,
    "start_time": "2022-12-10T14:14:14.666Z"
   },
   {
    "duration": 138,
    "start_time": "2022-12-10T14:26:57.558Z"
   },
   {
    "duration": 89,
    "start_time": "2022-12-10T14:27:48.743Z"
   },
   {
    "duration": 1134,
    "start_time": "2022-12-10T14:27:53.985Z"
   },
   {
    "duration": 158,
    "start_time": "2022-12-10T14:29:03.349Z"
   },
   {
    "duration": 71,
    "start_time": "2022-12-10T14:29:27.887Z"
   },
   {
    "duration": 157,
    "start_time": "2022-12-10T14:29:31.497Z"
   },
   {
    "duration": 134,
    "start_time": "2022-12-10T14:30:49.850Z"
   },
   {
    "duration": 197,
    "start_time": "2022-12-10T14:31:02.004Z"
   },
   {
    "duration": 89,
    "start_time": "2022-12-10T14:31:25.453Z"
   },
   {
    "duration": 66,
    "start_time": "2022-12-10T14:31:31.997Z"
   },
   {
    "duration": 19,
    "start_time": "2022-12-10T14:31:45.892Z"
   },
   {
    "duration": 21,
    "start_time": "2022-12-10T14:31:56.190Z"
   },
   {
    "duration": 19,
    "start_time": "2022-12-10T14:32:04.655Z"
   },
   {
    "duration": 157,
    "start_time": "2022-12-10T14:32:15.575Z"
   },
   {
    "duration": 125,
    "start_time": "2022-12-10T14:32:21.335Z"
   },
   {
    "duration": 174,
    "start_time": "2022-12-10T14:33:47.758Z"
   },
   {
    "duration": 163,
    "start_time": "2022-12-10T14:33:56.851Z"
   },
   {
    "duration": 145,
    "start_time": "2022-12-10T14:34:06.170Z"
   },
   {
    "duration": 234,
    "start_time": "2022-12-10T14:34:11.786Z"
   },
   {
    "duration": 128,
    "start_time": "2022-12-10T14:34:42.978Z"
   },
   {
    "duration": 137,
    "start_time": "2022-12-10T14:37:42.793Z"
   },
   {
    "duration": 147,
    "start_time": "2022-12-10T14:37:59.601Z"
   },
   {
    "duration": 165,
    "start_time": "2022-12-10T14:38:09.749Z"
   },
   {
    "duration": 160,
    "start_time": "2022-12-10T14:38:18.422Z"
   },
   {
    "duration": 142,
    "start_time": "2022-12-10T14:38:30.135Z"
   },
   {
    "duration": 135,
    "start_time": "2022-12-10T14:38:47.161Z"
   },
   {
    "duration": 141,
    "start_time": "2022-12-10T14:38:54.916Z"
   },
   {
    "duration": 134,
    "start_time": "2022-12-10T14:39:06.361Z"
   },
   {
    "duration": 125,
    "start_time": "2022-12-10T14:39:17.601Z"
   },
   {
    "duration": 131,
    "start_time": "2022-12-10T14:39:27.466Z"
   },
   {
    "duration": 19,
    "start_time": "2022-12-10T14:41:26.365Z"
   },
   {
    "duration": 22,
    "start_time": "2022-12-10T14:41:32.276Z"
   },
   {
    "duration": 145,
    "start_time": "2022-12-10T14:41:36.399Z"
   },
   {
    "duration": 151,
    "start_time": "2022-12-10T14:50:39.305Z"
   },
   {
    "duration": 262,
    "start_time": "2022-12-10T14:50:57.922Z"
   },
   {
    "duration": 161,
    "start_time": "2022-12-10T14:51:16.971Z"
   },
   {
    "duration": 154,
    "start_time": "2022-12-10T14:51:20.723Z"
   },
   {
    "duration": 150,
    "start_time": "2022-12-10T14:51:58.652Z"
   },
   {
    "duration": 30,
    "start_time": "2022-12-10T15:20:01.255Z"
   },
   {
    "duration": 14,
    "start_time": "2022-12-10T15:21:34.502Z"
   },
   {
    "duration": 15,
    "start_time": "2022-12-10T15:22:30.351Z"
   },
   {
    "duration": 7,
    "start_time": "2022-12-10T15:22:49.150Z"
   },
   {
    "duration": 29,
    "start_time": "2022-12-10T15:25:15.457Z"
   },
   {
    "duration": 188,
    "start_time": "2022-12-10T15:26:18.320Z"
   },
   {
    "duration": 180,
    "start_time": "2022-12-10T15:26:30.151Z"
   },
   {
    "duration": 167,
    "start_time": "2022-12-10T15:26:41.194Z"
   },
   {
    "duration": 169,
    "start_time": "2022-12-10T15:26:48.408Z"
   },
   {
    "duration": 177,
    "start_time": "2022-12-10T15:26:56.316Z"
   },
   {
    "duration": 118,
    "start_time": "2022-12-10T16:27:34.342Z"
   },
   {
    "duration": 99,
    "start_time": "2022-12-10T16:27:34.463Z"
   },
   {
    "duration": 1946,
    "start_time": "2022-12-10T16:27:34.564Z"
   },
   {
    "duration": 22,
    "start_time": "2022-12-10T16:27:36.512Z"
   },
   {
    "duration": 4,
    "start_time": "2022-12-10T16:27:36.536Z"
   },
   {
    "duration": 11,
    "start_time": "2022-12-10T16:27:36.541Z"
   },
   {
    "duration": 24,
    "start_time": "2022-12-10T16:27:36.553Z"
   },
   {
    "duration": 78,
    "start_time": "2022-12-10T16:27:36.578Z"
   },
   {
    "duration": 25,
    "start_time": "2022-12-10T16:27:36.658Z"
   },
   {
    "duration": 41,
    "start_time": "2022-12-10T16:27:36.686Z"
   },
   {
    "duration": 149,
    "start_time": "2022-12-10T16:27:36.729Z"
   },
   {
    "duration": 36,
    "start_time": "2022-12-10T16:27:36.880Z"
   },
   {
    "duration": 9,
    "start_time": "2022-12-10T16:27:36.927Z"
   },
   {
    "duration": 10,
    "start_time": "2022-12-10T16:27:36.937Z"
   },
   {
    "duration": 10,
    "start_time": "2022-12-10T16:27:36.948Z"
   },
   {
    "duration": 10,
    "start_time": "2022-12-10T16:27:36.959Z"
   },
   {
    "duration": 17,
    "start_time": "2022-12-10T16:27:36.971Z"
   },
   {
    "duration": 12,
    "start_time": "2022-12-10T16:27:36.989Z"
   },
   {
    "duration": 6,
    "start_time": "2022-12-10T16:27:37.027Z"
   },
   {
    "duration": 2361,
    "start_time": "2022-12-10T16:27:37.034Z"
   },
   {
    "duration": 6,
    "start_time": "2022-12-10T16:27:39.397Z"
   },
   {
    "duration": 36,
    "start_time": "2022-12-10T16:27:39.405Z"
   },
   {
    "duration": 28,
    "start_time": "2022-12-10T16:27:39.443Z"
   },
   {
    "duration": 166,
    "start_time": "2022-12-10T16:27:39.473Z"
   },
   {
    "duration": 14,
    "start_time": "2022-12-10T16:27:39.640Z"
   },
   {
    "duration": 20,
    "start_time": "2022-12-10T16:27:39.655Z"
   },
   {
    "duration": 9,
    "start_time": "2022-12-10T16:27:39.677Z"
   },
   {
    "duration": 31,
    "start_time": "2022-12-10T16:27:39.689Z"
   },
   {
    "duration": 17,
    "start_time": "2022-12-10T16:27:39.722Z"
   },
   {
    "duration": 19,
    "start_time": "2022-12-10T16:27:39.740Z"
   },
   {
    "duration": 433,
    "start_time": "2022-12-10T16:27:39.761Z"
   },
   {
    "duration": 7,
    "start_time": "2022-12-10T16:27:40.195Z"
   },
   {
    "duration": 24,
    "start_time": "2022-12-10T16:27:40.204Z"
   },
   {
    "duration": 20,
    "start_time": "2022-12-10T16:27:40.229Z"
   },
   {
    "duration": 36,
    "start_time": "2022-12-10T16:27:40.250Z"
   },
   {
    "duration": 102,
    "start_time": "2022-12-10T16:27:40.287Z"
   },
   {
    "duration": 440,
    "start_time": "2022-12-10T16:27:40.391Z"
   },
   {
    "duration": 271,
    "start_time": "2022-12-10T16:27:40.833Z"
   },
   {
    "duration": 424,
    "start_time": "2022-12-10T16:27:41.106Z"
   },
   {
    "duration": 1841,
    "start_time": "2022-12-10T16:27:41.532Z"
   },
   {
    "duration": 142,
    "start_time": "2022-12-10T16:27:43.375Z"
   },
   {
    "duration": 260,
    "start_time": "2022-12-10T16:27:43.518Z"
   },
   {
    "duration": 159,
    "start_time": "2022-12-10T16:27:43.779Z"
   },
   {
    "duration": 7,
    "start_time": "2022-12-10T16:27:43.940Z"
   },
   {
    "duration": 23,
    "start_time": "2022-12-10T16:27:43.949Z"
   },
   {
    "duration": 188,
    "start_time": "2022-12-10T16:27:43.974Z"
   },
   {
    "duration": 19,
    "start_time": "2022-12-10T16:27:44.164Z"
   },
   {
    "duration": 184,
    "start_time": "2022-12-10T16:27:44.185Z"
   },
   {
    "duration": 222,
    "start_time": "2022-12-10T16:27:44.373Z"
   },
   {
    "duration": 180,
    "start_time": "2022-12-10T16:27:44.597Z"
   },
   {
    "duration": 4,
    "start_time": "2022-12-10T16:27:44.779Z"
   },
   {
    "duration": 187,
    "start_time": "2022-12-10T16:29:27.168Z"
   },
   {
    "duration": 25,
    "start_time": "2022-12-10T16:41:34.998Z"
   },
   {
    "duration": 25,
    "start_time": "2022-12-10T16:42:59.154Z"
   },
   {
    "duration": 17,
    "start_time": "2022-12-10T16:44:08.695Z"
   },
   {
    "duration": 28,
    "start_time": "2022-12-10T16:44:23.618Z"
   },
   {
    "duration": 25,
    "start_time": "2022-12-10T16:44:31.672Z"
   },
   {
    "duration": 22,
    "start_time": "2022-12-10T16:49:41.777Z"
   },
   {
    "duration": 20,
    "start_time": "2022-12-10T16:49:48.086Z"
   },
   {
    "duration": 17,
    "start_time": "2022-12-10T16:50:03.513Z"
   },
   {
    "duration": 22,
    "start_time": "2022-12-10T16:50:24.694Z"
   },
   {
    "duration": 25,
    "start_time": "2022-12-10T16:50:57.099Z"
   },
   {
    "duration": 166,
    "start_time": "2022-12-10T16:59:14.754Z"
   },
   {
    "duration": 21,
    "start_time": "2022-12-10T16:59:55.617Z"
   },
   {
    "duration": 16,
    "start_time": "2022-12-10T16:59:58.977Z"
   },
   {
    "duration": 22,
    "start_time": "2022-12-10T17:00:04.903Z"
   },
   {
    "duration": 86,
    "start_time": "2022-12-10T17:05:09.200Z"
   },
   {
    "duration": 1397,
    "start_time": "2022-12-10T17:51:33.438Z"
   },
   {
    "duration": 85,
    "start_time": "2022-12-10T17:51:34.837Z"
   },
   {
    "duration": 1862,
    "start_time": "2022-12-10T17:51:34.923Z"
   },
   {
    "duration": 17,
    "start_time": "2022-12-10T17:51:36.788Z"
   },
   {
    "duration": 16,
    "start_time": "2022-12-10T17:51:36.806Z"
   },
   {
    "duration": 10,
    "start_time": "2022-12-10T17:51:36.824Z"
   },
   {
    "duration": 28,
    "start_time": "2022-12-10T17:51:36.836Z"
   },
   {
    "duration": 68,
    "start_time": "2022-12-10T17:51:36.865Z"
   },
   {
    "duration": 23,
    "start_time": "2022-12-10T17:51:36.935Z"
   },
   {
    "duration": 16,
    "start_time": "2022-12-10T17:51:36.960Z"
   },
   {
    "duration": 165,
    "start_time": "2022-12-10T17:51:36.977Z"
   },
   {
    "duration": 34,
    "start_time": "2022-12-10T17:51:37.144Z"
   },
   {
    "duration": 8,
    "start_time": "2022-12-10T17:51:37.180Z"
   },
   {
    "duration": 33,
    "start_time": "2022-12-10T17:51:37.190Z"
   },
   {
    "duration": 10,
    "start_time": "2022-12-10T17:51:37.226Z"
   },
   {
    "duration": 11,
    "start_time": "2022-12-10T17:51:37.238Z"
   },
   {
    "duration": 7,
    "start_time": "2022-12-10T17:51:37.251Z"
   },
   {
    "duration": 10,
    "start_time": "2022-12-10T17:51:37.260Z"
   },
   {
    "duration": 6,
    "start_time": "2022-12-10T17:51:37.272Z"
   },
   {
    "duration": 2298,
    "start_time": "2022-12-10T17:51:37.280Z"
   },
   {
    "duration": 6,
    "start_time": "2022-12-10T17:51:39.580Z"
   },
   {
    "duration": 38,
    "start_time": "2022-12-10T17:51:39.587Z"
   },
   {
    "duration": 28,
    "start_time": "2022-12-10T17:51:39.626Z"
   },
   {
    "duration": 169,
    "start_time": "2022-12-10T17:51:39.655Z"
   },
   {
    "duration": 17,
    "start_time": "2022-12-10T17:51:39.826Z"
   },
   {
    "duration": 22,
    "start_time": "2022-12-10T17:51:39.844Z"
   },
   {
    "duration": 7,
    "start_time": "2022-12-10T17:51:39.867Z"
   },
   {
    "duration": 7,
    "start_time": "2022-12-10T17:51:39.877Z"
   },
   {
    "duration": 5,
    "start_time": "2022-12-10T17:51:39.885Z"
   },
   {
    "duration": 9,
    "start_time": "2022-12-10T17:51:39.921Z"
   },
   {
    "duration": 320,
    "start_time": "2022-12-10T17:51:39.931Z"
   },
   {
    "duration": 8,
    "start_time": "2022-12-10T17:51:40.253Z"
   },
   {
    "duration": 11,
    "start_time": "2022-12-10T17:51:40.263Z"
   },
   {
    "duration": 11,
    "start_time": "2022-12-10T17:51:40.276Z"
   },
   {
    "duration": 10,
    "start_time": "2022-12-10T17:51:40.289Z"
   },
   {
    "duration": 110,
    "start_time": "2022-12-10T17:51:40.301Z"
   },
   {
    "duration": 419,
    "start_time": "2022-12-10T17:51:40.413Z"
   },
   {
    "duration": 257,
    "start_time": "2022-12-10T17:51:40.833Z"
   },
   {
    "duration": 543,
    "start_time": "2022-12-10T17:51:41.092Z"
   },
   {
    "duration": 1864,
    "start_time": "2022-12-10T17:51:41.636Z"
   },
   {
    "duration": 139,
    "start_time": "2022-12-10T17:51:43.502Z"
   },
   {
    "duration": 163,
    "start_time": "2022-12-10T17:51:43.642Z"
   },
   {
    "duration": 146,
    "start_time": "2022-12-10T17:51:43.807Z"
   },
   {
    "duration": 7,
    "start_time": "2022-12-10T17:51:43.954Z"
   },
   {
    "duration": 27,
    "start_time": "2022-12-10T17:51:43.962Z"
   },
   {
    "duration": 159,
    "start_time": "2022-12-10T17:51:43.991Z"
   },
   {
    "duration": 17,
    "start_time": "2022-12-10T17:51:44.152Z"
   },
   {
    "duration": 157,
    "start_time": "2022-12-10T17:51:44.171Z"
   },
   {
    "duration": 195,
    "start_time": "2022-12-10T17:51:44.330Z"
   },
   {
    "duration": 24,
    "start_time": "2022-12-10T17:51:44.527Z"
   },
   {
    "duration": 46,
    "start_time": "2022-12-11T11:46:05.560Z"
   },
   {
    "duration": 1480,
    "start_time": "2022-12-11T11:46:12.970Z"
   },
   {
    "duration": 57,
    "start_time": "2022-12-11T11:46:20.349Z"
   },
   {
    "duration": 119,
    "start_time": "2022-12-11T11:49:33.799Z"
   },
   {
    "duration": 30,
    "start_time": "2022-12-11T11:49:42.070Z"
   },
   {
    "duration": 63,
    "start_time": "2022-12-11T12:04:30.432Z"
   },
   {
    "duration": 6,
    "start_time": "2022-12-11T12:04:34.241Z"
   },
   {
    "duration": 126,
    "start_time": "2022-12-11T12:04:42.498Z"
   },
   {
    "duration": 97,
    "start_time": "2022-12-11T12:04:42.627Z"
   },
   {
    "duration": 2118,
    "start_time": "2022-12-11T12:04:42.726Z"
   },
   {
    "duration": 16,
    "start_time": "2022-12-11T12:04:44.846Z"
   },
   {
    "duration": 16,
    "start_time": "2022-12-11T12:04:44.863Z"
   },
   {
    "duration": 4,
    "start_time": "2022-12-11T12:04:44.880Z"
   },
   {
    "duration": 13,
    "start_time": "2022-12-11T12:04:44.885Z"
   },
   {
    "duration": 44,
    "start_time": "2022-12-11T12:04:44.900Z"
   },
   {
    "duration": 86,
    "start_time": "2022-12-11T12:04:44.947Z"
   },
   {
    "duration": 30,
    "start_time": "2022-12-11T12:04:45.037Z"
   },
   {
    "duration": 24,
    "start_time": "2022-12-11T12:04:45.069Z"
   },
   {
    "duration": 255,
    "start_time": "2022-12-11T12:04:45.095Z"
   },
   {
    "duration": 40,
    "start_time": "2022-12-11T12:04:45.352Z"
   },
   {
    "duration": 29,
    "start_time": "2022-12-11T12:04:45.393Z"
   },
   {
    "duration": 11,
    "start_time": "2022-12-11T12:04:45.423Z"
   },
   {
    "duration": 8,
    "start_time": "2022-12-11T12:04:45.436Z"
   },
   {
    "duration": 10,
    "start_time": "2022-12-11T12:04:45.445Z"
   },
   {
    "duration": 6,
    "start_time": "2022-12-11T12:04:45.456Z"
   },
   {
    "duration": 6,
    "start_time": "2022-12-11T12:04:45.464Z"
   },
   {
    "duration": 5,
    "start_time": "2022-12-11T12:04:45.472Z"
   },
   {
    "duration": 2486,
    "start_time": "2022-12-11T12:04:45.478Z"
   },
   {
    "duration": 7,
    "start_time": "2022-12-11T12:04:47.965Z"
   },
   {
    "duration": 28,
    "start_time": "2022-12-11T12:04:47.973Z"
   },
   {
    "duration": 58,
    "start_time": "2022-12-11T12:04:48.003Z"
   },
   {
    "duration": 170,
    "start_time": "2022-12-11T12:04:48.064Z"
   },
   {
    "duration": 15,
    "start_time": "2022-12-11T12:04:48.235Z"
   },
   {
    "duration": 22,
    "start_time": "2022-12-11T12:04:48.251Z"
   },
   {
    "duration": 8,
    "start_time": "2022-12-11T12:04:48.276Z"
   },
   {
    "duration": 36,
    "start_time": "2022-12-11T12:04:48.286Z"
   },
   {
    "duration": 6,
    "start_time": "2022-12-11T12:04:48.323Z"
   },
   {
    "duration": 11,
    "start_time": "2022-12-11T12:04:48.331Z"
   },
   {
    "duration": 339,
    "start_time": "2022-12-11T12:04:48.344Z"
   },
   {
    "duration": 7,
    "start_time": "2022-12-11T12:04:48.685Z"
   },
   {
    "duration": 12,
    "start_time": "2022-12-11T12:04:48.693Z"
   },
   {
    "duration": 5,
    "start_time": "2022-12-11T12:04:54.797Z"
   },
   {
    "duration": 10,
    "start_time": "2022-12-11T12:11:04.712Z"
   },
   {
    "duration": 4,
    "start_time": "2022-12-11T12:11:11.756Z"
   },
   {
    "duration": 8,
    "start_time": "2022-12-11T12:11:13.351Z"
   },
   {
    "duration": 5,
    "start_time": "2022-12-11T12:11:22.038Z"
   },
   {
    "duration": 7,
    "start_time": "2022-12-11T12:12:19.746Z"
   },
   {
    "duration": 91,
    "start_time": "2022-12-11T12:12:39.605Z"
   },
   {
    "duration": 73,
    "start_time": "2022-12-11T12:12:48.041Z"
   },
   {
    "duration": 9,
    "start_time": "2022-12-11T12:12:55.967Z"
   },
   {
    "duration": 8,
    "start_time": "2022-12-11T12:13:09.191Z"
   },
   {
    "duration": 8,
    "start_time": "2022-12-11T12:13:15.584Z"
   },
   {
    "duration": 10,
    "start_time": "2022-12-11T12:13:30.379Z"
   },
   {
    "duration": 14,
    "start_time": "2022-12-11T12:15:16.610Z"
   },
   {
    "duration": 9,
    "start_time": "2022-12-11T12:15:46.695Z"
   },
   {
    "duration": 10,
    "start_time": "2022-12-11T12:31:18.859Z"
   },
   {
    "duration": 4,
    "start_time": "2022-12-11T12:31:21.819Z"
   },
   {
    "duration": 171,
    "start_time": "2022-12-11T12:31:27.516Z"
   },
   {
    "duration": 191,
    "start_time": "2022-12-11T12:31:39.766Z"
   },
   {
    "duration": 237,
    "start_time": "2022-12-11T12:31:47.889Z"
   },
   {
    "duration": 10,
    "start_time": "2022-12-11T12:35:18.587Z"
   },
   {
    "duration": 10,
    "start_time": "2022-12-11T12:35:28.288Z"
   },
   {
    "duration": 621,
    "start_time": "2022-12-11T12:35:50.054Z"
   },
   {
    "duration": 491,
    "start_time": "2022-12-11T12:36:02.533Z"
   },
   {
    "duration": 879,
    "start_time": "2022-12-11T12:36:48.536Z"
   },
   {
    "duration": 806,
    "start_time": "2022-12-11T12:37:00.569Z"
   },
   {
    "duration": 10,
    "start_time": "2022-12-11T12:38:20.006Z"
   },
   {
    "duration": 10,
    "start_time": "2022-12-11T12:38:44.452Z"
   },
   {
    "duration": 10,
    "start_time": "2022-12-11T12:38:56.176Z"
   },
   {
    "duration": 11,
    "start_time": "2022-12-11T12:39:49.067Z"
   },
   {
    "duration": 7,
    "start_time": "2022-12-11T12:41:41.319Z"
   },
   {
    "duration": 88,
    "start_time": "2022-12-11T12:41:48.493Z"
   },
   {
    "duration": 5,
    "start_time": "2022-12-11T12:44:01.486Z"
   },
   {
    "duration": 78,
    "start_time": "2022-12-11T12:44:07.087Z"
   },
   {
    "duration": 5,
    "start_time": "2022-12-11T12:44:34.505Z"
   },
   {
    "duration": 76,
    "start_time": "2022-12-11T12:44:41.277Z"
   },
   {
    "duration": 6,
    "start_time": "2022-12-11T12:44:58.032Z"
   },
   {
    "duration": 16,
    "start_time": "2022-12-11T12:45:51.226Z"
   },
   {
    "duration": 18,
    "start_time": "2022-12-11T12:46:11.850Z"
   },
   {
    "duration": 20,
    "start_time": "2022-12-11T12:46:28.340Z"
   },
   {
    "duration": 19,
    "start_time": "2022-12-11T12:46:41.214Z"
   },
   {
    "duration": 20,
    "start_time": "2022-12-11T12:46:50.206Z"
   },
   {
    "duration": 246,
    "start_time": "2022-12-11T12:49:42.761Z"
   },
   {
    "duration": 582,
    "start_time": "2022-12-11T12:51:19.073Z"
   },
   {
    "duration": 719,
    "start_time": "2022-12-11T12:54:31.750Z"
   },
   {
    "duration": 513,
    "start_time": "2022-12-11T12:54:38.442Z"
   },
   {
    "duration": 110,
    "start_time": "2022-12-11T13:08:46.257Z"
   },
   {
    "duration": 100,
    "start_time": "2022-12-11T13:08:46.369Z"
   },
   {
    "duration": 2041,
    "start_time": "2022-12-11T13:08:46.471Z"
   },
   {
    "duration": 22,
    "start_time": "2022-12-11T13:08:48.515Z"
   },
   {
    "duration": 19,
    "start_time": "2022-12-11T13:08:48.539Z"
   },
   {
    "duration": 4,
    "start_time": "2022-12-11T13:08:48.560Z"
   },
   {
    "duration": 10,
    "start_time": "2022-12-11T13:08:48.565Z"
   },
   {
    "duration": 58,
    "start_time": "2022-12-11T13:08:48.577Z"
   },
   {
    "duration": 45,
    "start_time": "2022-12-11T13:08:48.637Z"
   },
   {
    "duration": 60,
    "start_time": "2022-12-11T13:08:48.684Z"
   },
   {
    "duration": 16,
    "start_time": "2022-12-11T13:08:48.745Z"
   },
   {
    "duration": 178,
    "start_time": "2022-12-11T13:08:48.763Z"
   },
   {
    "duration": 35,
    "start_time": "2022-12-11T13:08:48.943Z"
   },
   {
    "duration": 9,
    "start_time": "2022-12-11T13:08:48.980Z"
   },
   {
    "duration": 46,
    "start_time": "2022-12-11T13:08:48.991Z"
   },
   {
    "duration": 9,
    "start_time": "2022-12-11T13:08:49.039Z"
   },
   {
    "duration": 10,
    "start_time": "2022-12-11T13:08:49.050Z"
   },
   {
    "duration": 6,
    "start_time": "2022-12-11T13:08:49.061Z"
   },
   {
    "duration": 9,
    "start_time": "2022-12-11T13:08:49.068Z"
   },
   {
    "duration": 6,
    "start_time": "2022-12-11T13:08:49.079Z"
   },
   {
    "duration": 2600,
    "start_time": "2022-12-11T13:08:49.087Z"
   },
   {
    "duration": 7,
    "start_time": "2022-12-11T13:08:51.689Z"
   },
   {
    "duration": 45,
    "start_time": "2022-12-11T13:08:51.699Z"
   },
   {
    "duration": 29,
    "start_time": "2022-12-11T13:08:51.746Z"
   },
   {
    "duration": 194,
    "start_time": "2022-12-11T13:08:51.777Z"
   },
   {
    "duration": 18,
    "start_time": "2022-12-11T13:08:51.972Z"
   },
   {
    "duration": 43,
    "start_time": "2022-12-11T13:08:51.992Z"
   },
   {
    "duration": 7,
    "start_time": "2022-12-11T13:08:52.039Z"
   },
   {
    "duration": 6,
    "start_time": "2022-12-11T13:08:52.048Z"
   },
   {
    "duration": 5,
    "start_time": "2022-12-11T13:08:52.056Z"
   },
   {
    "duration": 12,
    "start_time": "2022-12-11T13:08:52.062Z"
   },
   {
    "duration": 366,
    "start_time": "2022-12-11T13:08:52.075Z"
   },
   {
    "duration": 7,
    "start_time": "2022-12-11T13:08:52.443Z"
   },
   {
    "duration": 9,
    "start_time": "2022-12-11T13:08:52.451Z"
   },
   {
    "duration": 4,
    "start_time": "2022-12-11T13:08:52.462Z"
   },
   {
    "duration": 11,
    "start_time": "2022-12-11T13:08:52.468Z"
   },
   {
    "duration": 617,
    "start_time": "2022-12-11T13:08:52.481Z"
   },
   {
    "duration": 546,
    "start_time": "2022-12-11T13:08:53.100Z"
   },
   {
    "duration": 553,
    "start_time": "2022-12-11T13:08:53.648Z"
   },
   {
    "duration": 9,
    "start_time": "2022-12-11T13:08:54.203Z"
   },
   {
    "duration": 10,
    "start_time": "2022-12-11T13:08:54.225Z"
   },
   {
    "duration": 148,
    "start_time": "2022-12-11T13:08:54.240Z"
   },
   {
    "duration": 606,
    "start_time": "2022-12-11T13:08:54.390Z"
   },
   {
    "duration": 293,
    "start_time": "2022-12-11T13:08:54.998Z"
   },
   {
    "duration": 475,
    "start_time": "2022-12-11T13:08:55.293Z"
   },
   {
    "duration": 2081,
    "start_time": "2022-12-11T13:08:55.770Z"
   },
   {
    "duration": 182,
    "start_time": "2022-12-11T13:08:57.853Z"
   },
   {
    "duration": 177,
    "start_time": "2022-12-11T13:08:58.037Z"
   },
   {
    "duration": 162,
    "start_time": "2022-12-11T13:08:58.217Z"
   },
   {
    "duration": 8,
    "start_time": "2022-12-11T13:08:58.381Z"
   },
   {
    "duration": 43,
    "start_time": "2022-12-11T13:08:58.391Z"
   },
   {
    "duration": 178,
    "start_time": "2022-12-11T13:08:58.436Z"
   },
   {
    "duration": 29,
    "start_time": "2022-12-11T13:08:58.616Z"
   },
   {
    "duration": 292,
    "start_time": "2022-12-11T13:08:58.646Z"
   },
   {
    "duration": 194,
    "start_time": "2022-12-11T13:08:58.940Z"
   },
   {
    "duration": 24,
    "start_time": "2022-12-11T13:08:59.138Z"
   },
   {
    "duration": 520,
    "start_time": "2022-12-11T13:09:04.549Z"
   },
   {
    "duration": 280,
    "start_time": "2022-12-11T13:14:49.433Z"
   },
   {
    "duration": 271,
    "start_time": "2022-12-11T13:15:10.508Z"
   },
   {
    "duration": 277,
    "start_time": "2022-12-11T13:15:28.738Z"
   },
   {
    "duration": 382,
    "start_time": "2022-12-11T13:15:42.562Z"
   },
   {
    "duration": 288,
    "start_time": "2022-12-11T13:15:50.014Z"
   },
   {
    "duration": 1512,
    "start_time": "2022-12-11T13:15:56.294Z"
   },
   {
    "duration": 152,
    "start_time": "2022-12-11T13:16:05.754Z"
   },
   {
    "duration": 196,
    "start_time": "2022-12-11T13:16:12.311Z"
   },
   {
    "duration": 936,
    "start_time": "2022-12-11T13:16:17.007Z"
   },
   {
    "duration": 273,
    "start_time": "2022-12-11T13:16:23.094Z"
   },
   {
    "duration": 271,
    "start_time": "2022-12-11T13:16:54.808Z"
   },
   {
    "duration": 274,
    "start_time": "2022-12-11T13:17:10.077Z"
   },
   {
    "duration": 269,
    "start_time": "2022-12-11T13:17:44.518Z"
   },
   {
    "duration": 463,
    "start_time": "2022-12-11T13:18:04.069Z"
   },
   {
    "duration": 265,
    "start_time": "2022-12-11T13:19:48.298Z"
   },
   {
    "duration": 253,
    "start_time": "2022-12-11T13:19:53.605Z"
   },
   {
    "duration": 280,
    "start_time": "2022-12-11T13:19:59.649Z"
   },
   {
    "duration": 266,
    "start_time": "2022-12-11T13:20:06.402Z"
   },
   {
    "duration": 258,
    "start_time": "2022-12-11T13:20:28.185Z"
   },
   {
    "duration": 6,
    "start_time": "2022-12-11T13:21:52.595Z"
   },
   {
    "duration": 384,
    "start_time": "2022-12-11T13:22:55.703Z"
   },
   {
    "duration": 124,
    "start_time": "2022-12-11T13:23:07.216Z"
   },
   {
    "duration": 142,
    "start_time": "2022-12-11T13:23:23.917Z"
   },
   {
    "duration": 133,
    "start_time": "2022-12-11T13:23:28.705Z"
   },
   {
    "duration": 122,
    "start_time": "2022-12-11T13:23:40.693Z"
   },
   {
    "duration": 223,
    "start_time": "2022-12-11T13:24:08.536Z"
   },
   {
    "duration": 265,
    "start_time": "2022-12-11T13:24:20.343Z"
   },
   {
    "duration": 4,
    "start_time": "2022-12-11T13:26:24.788Z"
   },
   {
    "duration": 69,
    "start_time": "2022-12-11T13:26:32.885Z"
   },
   {
    "duration": 179,
    "start_time": "2022-12-11T13:27:07.213Z"
   },
   {
    "duration": 253,
    "start_time": "2022-12-11T13:27:17.972Z"
   },
   {
    "duration": 5,
    "start_time": "2022-12-11T13:30:19.062Z"
   },
   {
    "duration": 169,
    "start_time": "2022-12-11T13:30:29.472Z"
   },
   {
    "duration": 311,
    "start_time": "2022-12-11T13:31:19.931Z"
   },
   {
    "duration": 149,
    "start_time": "2022-12-11T13:31:25.934Z"
   },
   {
    "duration": 169,
    "start_time": "2022-12-11T13:31:32.607Z"
   },
   {
    "duration": 60,
    "start_time": "2022-12-11T13:32:54.136Z"
   },
   {
    "duration": 1214,
    "start_time": "2022-12-11T13:32:58.257Z"
   },
   {
    "duration": 88,
    "start_time": "2022-12-11T13:32:59.473Z"
   },
   {
    "duration": 2086,
    "start_time": "2022-12-11T13:32:59.562Z"
   },
   {
    "duration": 20,
    "start_time": "2022-12-11T13:33:01.650Z"
   },
   {
    "duration": 58,
    "start_time": "2022-12-11T13:33:01.671Z"
   },
   {
    "duration": 4,
    "start_time": "2022-12-11T13:33:01.731Z"
   },
   {
    "duration": 21,
    "start_time": "2022-12-11T13:33:01.737Z"
   },
   {
    "duration": 30,
    "start_time": "2022-12-11T13:33:01.760Z"
   },
   {
    "duration": 77,
    "start_time": "2022-12-11T13:33:01.791Z"
   },
   {
    "duration": 56,
    "start_time": "2022-12-11T13:33:01.870Z"
   },
   {
    "duration": 17,
    "start_time": "2022-12-11T13:33:01.927Z"
   },
   {
    "duration": 197,
    "start_time": "2022-12-11T13:33:01.946Z"
   },
   {
    "duration": 39,
    "start_time": "2022-12-11T13:33:02.145Z"
   },
   {
    "duration": 9,
    "start_time": "2022-12-11T13:33:02.186Z"
   },
   {
    "duration": 34,
    "start_time": "2022-12-11T13:33:02.196Z"
   },
   {
    "duration": 8,
    "start_time": "2022-12-11T13:33:02.232Z"
   },
   {
    "duration": 10,
    "start_time": "2022-12-11T13:33:02.242Z"
   },
   {
    "duration": 6,
    "start_time": "2022-12-11T13:33:02.253Z"
   },
   {
    "duration": 6,
    "start_time": "2022-12-11T13:33:02.260Z"
   },
   {
    "duration": 5,
    "start_time": "2022-12-11T13:33:02.268Z"
   },
   {
    "duration": 6,
    "start_time": "2022-12-11T13:33:16.788Z"
   },
   {
    "duration": 2411,
    "start_time": "2022-12-11T13:33:18.520Z"
   },
   {
    "duration": 185,
    "start_time": "2022-12-11T13:34:10.016Z"
   },
   {
    "duration": 169,
    "start_time": "2022-12-11T13:34:19.603Z"
   },
   {
    "duration": 183,
    "start_time": "2022-12-11T13:34:27.348Z"
   },
   {
    "duration": 206,
    "start_time": "2022-12-11T13:34:32.420Z"
   },
   {
    "duration": 4,
    "start_time": "2022-12-11T13:49:53.838Z"
   },
   {
    "duration": 4,
    "start_time": "2022-12-11T13:52:19.857Z"
   },
   {
    "duration": 1143,
    "start_time": "2022-12-11T13:52:36.706Z"
   },
   {
    "duration": 1279,
    "start_time": "2022-12-11T13:52:54.181Z"
   },
   {
    "duration": 90,
    "start_time": "2022-12-11T13:52:55.461Z"
   },
   {
    "duration": 2034,
    "start_time": "2022-12-11T13:52:55.553Z"
   },
   {
    "duration": 16,
    "start_time": "2022-12-11T13:52:57.589Z"
   },
   {
    "duration": 54,
    "start_time": "2022-12-11T13:52:57.607Z"
   },
   {
    "duration": 4,
    "start_time": "2022-12-11T13:52:57.663Z"
   },
   {
    "duration": 11,
    "start_time": "2022-12-11T13:52:57.668Z"
   },
   {
    "duration": 41,
    "start_time": "2022-12-11T13:52:57.681Z"
   },
   {
    "duration": 50,
    "start_time": "2022-12-11T13:52:57.724Z"
   },
   {
    "duration": 50,
    "start_time": "2022-12-11T13:52:57.776Z"
   },
   {
    "duration": 19,
    "start_time": "2022-12-11T13:52:57.829Z"
   },
   {
    "duration": 194,
    "start_time": "2022-12-11T13:52:57.850Z"
   },
   {
    "duration": 44,
    "start_time": "2022-12-11T13:52:58.046Z"
   },
   {
    "duration": 8,
    "start_time": "2022-12-11T13:52:58.092Z"
   },
   {
    "duration": 29,
    "start_time": "2022-12-11T13:52:58.101Z"
   },
   {
    "duration": 8,
    "start_time": "2022-12-11T13:52:58.132Z"
   },
   {
    "duration": 10,
    "start_time": "2022-12-11T13:52:58.142Z"
   },
   {
    "duration": 9,
    "start_time": "2022-12-11T13:52:58.153Z"
   },
   {
    "duration": 9,
    "start_time": "2022-12-11T13:52:58.164Z"
   },
   {
    "duration": 7,
    "start_time": "2022-12-11T13:52:58.175Z"
   },
   {
    "duration": 41,
    "start_time": "2022-12-11T13:52:58.184Z"
   },
   {
    "duration": 2330,
    "start_time": "2022-12-11T13:52:58.227Z"
   },
   {
    "duration": 7,
    "start_time": "2022-12-11T13:53:00.558Z"
   },
   {
    "duration": 52,
    "start_time": "2022-12-11T13:53:00.567Z"
   },
   {
    "duration": 27,
    "start_time": "2022-12-11T13:53:00.621Z"
   },
   {
    "duration": 173,
    "start_time": "2022-12-11T13:53:00.650Z"
   },
   {
    "duration": 16,
    "start_time": "2022-12-11T13:53:00.824Z"
   },
   {
    "duration": 32,
    "start_time": "2022-12-11T13:53:00.844Z"
   },
   {
    "duration": 7,
    "start_time": "2022-12-11T13:53:00.878Z"
   },
   {
    "duration": 19,
    "start_time": "2022-12-11T13:53:00.887Z"
   },
   {
    "duration": 24,
    "start_time": "2022-12-11T13:53:00.908Z"
   },
   {
    "duration": 28,
    "start_time": "2022-12-11T13:53:00.934Z"
   },
   {
    "duration": 365,
    "start_time": "2022-12-11T13:53:00.963Z"
   },
   {
    "duration": 8,
    "start_time": "2022-12-11T13:53:01.330Z"
   },
   {
    "duration": 27,
    "start_time": "2022-12-11T13:53:01.340Z"
   },
   {
    "duration": 30,
    "start_time": "2022-12-11T13:53:01.369Z"
   },
   {
    "duration": 557,
    "start_time": "2022-12-11T13:53:01.401Z"
   },
   {
    "duration": 639,
    "start_time": "2022-12-11T13:53:01.960Z"
   },
   {
    "duration": 494,
    "start_time": "2022-12-11T13:53:02.601Z"
   },
   {
    "duration": 231,
    "start_time": "2022-12-11T13:53:03.096Z"
   },
   {
    "duration": 195,
    "start_time": "2022-12-11T13:53:03.329Z"
   },
   {
    "duration": 200,
    "start_time": "2022-12-11T13:53:03.526Z"
   },
   {
    "duration": 4,
    "start_time": "2022-12-11T13:53:03.728Z"
   },
   {
    "duration": 116,
    "start_time": "2022-12-11T13:53:13.458Z"
   },
   {
    "duration": 14,
    "start_time": "2022-12-11T13:53:40.595Z"
   },
   {
    "duration": 15,
    "start_time": "2022-12-11T13:57:51.105Z"
   },
   {
    "duration": 624,
    "start_time": "2022-12-11T13:59:02.308Z"
   },
   {
    "duration": 498,
    "start_time": "2022-12-11T13:59:25.017Z"
   },
   {
    "duration": 493,
    "start_time": "2022-12-11T14:16:45.752Z"
   },
   {
    "duration": 488,
    "start_time": "2022-12-11T14:20:40.062Z"
   },
   {
    "duration": 668,
    "start_time": "2022-12-11T14:21:03.510Z"
   },
   {
    "duration": 480,
    "start_time": "2022-12-11T14:21:09.352Z"
   },
   {
    "duration": 534,
    "start_time": "2022-12-11T14:21:34.191Z"
   },
   {
    "duration": 16,
    "start_time": "2022-12-11T14:21:41.561Z"
   },
   {
    "duration": 616,
    "start_time": "2022-12-11T14:21:43.478Z"
   },
   {
    "duration": 240,
    "start_time": "2022-12-11T14:22:03.198Z"
   },
   {
    "duration": 236,
    "start_time": "2022-12-11T14:22:14.636Z"
   },
   {
    "duration": 120,
    "start_time": "2022-12-11T14:22:17.783Z"
   },
   {
    "duration": 232,
    "start_time": "2022-12-11T14:22:37.056Z"
   },
   {
    "duration": 4,
    "start_time": "2022-12-11T14:24:17.949Z"
   },
   {
    "duration": 15,
    "start_time": "2022-12-11T14:26:02.963Z"
   },
   {
    "duration": 228,
    "start_time": "2022-12-11T14:28:29.470Z"
   },
   {
    "duration": 359,
    "start_time": "2022-12-11T14:28:44.638Z"
   },
   {
    "duration": 242,
    "start_time": "2022-12-11T14:28:50.236Z"
   },
   {
    "duration": 258,
    "start_time": "2022-12-11T14:29:53.805Z"
   },
   {
    "duration": 234,
    "start_time": "2022-12-11T14:30:22.818Z"
   },
   {
    "duration": 7,
    "start_time": "2022-12-11T14:35:58.989Z"
   },
   {
    "duration": 13,
    "start_time": "2022-12-11T14:36:50.843Z"
   },
   {
    "duration": 129,
    "start_time": "2022-12-11T14:37:26.861Z"
   },
   {
    "duration": 168,
    "start_time": "2022-12-11T14:37:40.145Z"
   },
   {
    "duration": 159,
    "start_time": "2022-12-11T14:39:21.310Z"
   },
   {
    "duration": 82,
    "start_time": "2022-12-11T15:00:11.446Z"
   },
   {
    "duration": 111,
    "start_time": "2022-12-11T15:01:37.482Z"
   },
   {
    "duration": 4,
    "start_time": "2022-12-11T15:01:38.022Z"
   },
   {
    "duration": 4,
    "start_time": "2022-12-11T15:01:38.282Z"
   },
   {
    "duration": 5,
    "start_time": "2022-12-11T15:01:38.522Z"
   },
   {
    "duration": 4,
    "start_time": "2022-12-11T15:01:38.718Z"
   },
   {
    "duration": 4,
    "start_time": "2022-12-11T15:01:38.905Z"
   },
   {
    "duration": 3,
    "start_time": "2022-12-11T15:01:39.090Z"
   },
   {
    "duration": 4,
    "start_time": "2022-12-11T15:01:39.272Z"
   },
   {
    "duration": 4,
    "start_time": "2022-12-11T15:01:39.492Z"
   },
   {
    "duration": 9,
    "start_time": "2022-12-11T15:01:42.876Z"
   }
  ],
  "kernelspec": {
   "display_name": "Python 3 (ipykernel)",
   "language": "python",
   "name": "python3"
  },
  "language_info": {
   "codemirror_mode": {
    "name": "ipython",
    "version": 3
   },
   "file_extension": ".py",
   "mimetype": "text/x-python",
   "name": "python",
   "nbconvert_exporter": "python",
   "pygments_lexer": "ipython3",
   "version": "3.9.13"
  },
  "toc": {
   "base_numbering": 1,
   "nav_menu": {},
   "number_sections": true,
   "sideBar": true,
   "skip_h1_title": true,
   "title_cell": "Table of Contents",
   "title_sidebar": "Contents",
   "toc_cell": false,
   "toc_position": {},
   "toc_section_display": true,
   "toc_window_display": false
  }
 },
 "nbformat": 4,
 "nbformat_minor": 4
}
