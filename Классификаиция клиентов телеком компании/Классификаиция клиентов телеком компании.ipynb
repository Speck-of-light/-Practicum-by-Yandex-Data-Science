{
 "cells": [
  {
   "cell_type": "markdown",
   "metadata": {},
   "source": [
    "# Рекомендация тарифов"
   ]
  },
  {
   "cell_type": "markdown",
   "metadata": {},
   "source": [
    "В вашем распоряжении данные о поведении клиентов, которые уже перешли на тарифы \"Смарт\" и \"Ультра\" (из проекта \"Анализ прибыльности телефонных тарифов\"). Необходимо построить модель для задачи классификации, которая выберет подходящий тариф. \n",
    "\n",
    "Построим модель с максимально большим значением *accuracy*. Чтобы сдать проект успешно, нужно довести долю правильных ответов по крайней мере до 0.75. Проверить *accuracy* на тестовой выборке самостоятельно."
   ]
  },
  {
   "cell_type": "markdown",
   "metadata": {},
   "source": [
    "## Откройте и изучите файл"
   ]
  },
  {
   "cell_type": "code",
   "execution_count": 1,
   "metadata": {},
   "outputs": [
    {
     "data": {
      "text/html": [
       "<div>\n",
       "<style scoped>\n",
       "    .dataframe tbody tr th:only-of-type {\n",
       "        vertical-align: middle;\n",
       "    }\n",
       "\n",
       "    .dataframe tbody tr th {\n",
       "        vertical-align: top;\n",
       "    }\n",
       "\n",
       "    .dataframe thead th {\n",
       "        text-align: right;\n",
       "    }\n",
       "</style>\n",
       "<table border=\"1\" class=\"dataframe\">\n",
       "  <thead>\n",
       "    <tr style=\"text-align: right;\">\n",
       "      <th></th>\n",
       "      <th>calls</th>\n",
       "      <th>minutes</th>\n",
       "      <th>messages</th>\n",
       "      <th>mb_used</th>\n",
       "      <th>is_ultra</th>\n",
       "    </tr>\n",
       "  </thead>\n",
       "  <tbody>\n",
       "    <tr>\n",
       "      <th>0</th>\n",
       "      <td>40.0</td>\n",
       "      <td>311.90</td>\n",
       "      <td>83.0</td>\n",
       "      <td>19915.42</td>\n",
       "      <td>0</td>\n",
       "    </tr>\n",
       "    <tr>\n",
       "      <th>1</th>\n",
       "      <td>85.0</td>\n",
       "      <td>516.75</td>\n",
       "      <td>56.0</td>\n",
       "      <td>22696.96</td>\n",
       "      <td>0</td>\n",
       "    </tr>\n",
       "    <tr>\n",
       "      <th>2</th>\n",
       "      <td>77.0</td>\n",
       "      <td>467.66</td>\n",
       "      <td>86.0</td>\n",
       "      <td>21060.45</td>\n",
       "      <td>0</td>\n",
       "    </tr>\n",
       "    <tr>\n",
       "      <th>3</th>\n",
       "      <td>106.0</td>\n",
       "      <td>745.53</td>\n",
       "      <td>81.0</td>\n",
       "      <td>8437.39</td>\n",
       "      <td>1</td>\n",
       "    </tr>\n",
       "    <tr>\n",
       "      <th>4</th>\n",
       "      <td>66.0</td>\n",
       "      <td>418.74</td>\n",
       "      <td>1.0</td>\n",
       "      <td>14502.75</td>\n",
       "      <td>0</td>\n",
       "    </tr>\n",
       "  </tbody>\n",
       "</table>\n",
       "</div>"
      ],
      "text/plain": [
       "   calls  minutes  messages   mb_used  is_ultra\n",
       "0   40.0   311.90      83.0  19915.42         0\n",
       "1   85.0   516.75      56.0  22696.96         0\n",
       "2   77.0   467.66      86.0  21060.45         0\n",
       "3  106.0   745.53      81.0   8437.39         1\n",
       "4   66.0   418.74       1.0  14502.75         0"
      ]
     },
     "execution_count": 1,
     "metadata": {},
     "output_type": "execute_result"
    }
   ],
   "source": [
    "# импортируем библиотеки и загрузим датасет\n",
    "# рассмотрим первые 5 строк таблицы\n",
    "import pandas as pd\n",
    "\n",
    "from sklearn.model_selection import train_test_split\n",
    "from sklearn.tree import DecisionTreeClassifier\n",
    "from sklearn.linear_model import LogisticRegression\n",
    "from sklearn.ensemble import RandomForestClassifier\n",
    "from sklearn.dummy import DummyClassifier\n",
    "\n",
    "import warnings\n",
    "warnings.filterwarnings(\"ignore\")\n",
    "\n",
    "try:\n",
    "    data=pd.read_csv('/datasets/users_behavior.csv')\n",
    "except:\n",
    "    data=pd.read_csv('https://code.s3.yandex.net/datasets/users_behavior.csv')\n",
    "\n",
    "data.head()"
   ]
  },
  {
   "cell_type": "code",
   "execution_count": 2,
   "metadata": {},
   "outputs": [
    {
     "name": "stdout",
     "output_type": "stream",
     "text": [
      "<class 'pandas.core.frame.DataFrame'>\n",
      "RangeIndex: 3214 entries, 0 to 3213\n",
      "Data columns (total 5 columns):\n",
      " #   Column    Non-Null Count  Dtype  \n",
      "---  ------    --------------  -----  \n",
      " 0   calls     3214 non-null   float64\n",
      " 1   minutes   3214 non-null   float64\n",
      " 2   messages  3214 non-null   float64\n",
      " 3   mb_used   3214 non-null   float64\n",
      " 4   is_ultra  3214 non-null   int64  \n",
      "dtypes: float64(4), int64(1)\n",
      "memory usage: 125.7 KB\n"
     ]
    },
    {
     "data": {
      "text/html": [
       "<div>\n",
       "<style scoped>\n",
       "    .dataframe tbody tr th:only-of-type {\n",
       "        vertical-align: middle;\n",
       "    }\n",
       "\n",
       "    .dataframe tbody tr th {\n",
       "        vertical-align: top;\n",
       "    }\n",
       "\n",
       "    .dataframe thead th {\n",
       "        text-align: right;\n",
       "    }\n",
       "</style>\n",
       "<table border=\"1\" class=\"dataframe\">\n",
       "  <thead>\n",
       "    <tr style=\"text-align: right;\">\n",
       "      <th></th>\n",
       "      <th>calls</th>\n",
       "      <th>minutes</th>\n",
       "      <th>messages</th>\n",
       "      <th>mb_used</th>\n",
       "      <th>is_ultra</th>\n",
       "    </tr>\n",
       "  </thead>\n",
       "  <tbody>\n",
       "    <tr>\n",
       "      <th>count</th>\n",
       "      <td>3214.000000</td>\n",
       "      <td>3214.000000</td>\n",
       "      <td>3214.000000</td>\n",
       "      <td>3214.000000</td>\n",
       "      <td>3214.000000</td>\n",
       "    </tr>\n",
       "    <tr>\n",
       "      <th>mean</th>\n",
       "      <td>63.038892</td>\n",
       "      <td>438.208787</td>\n",
       "      <td>38.281269</td>\n",
       "      <td>17207.673836</td>\n",
       "      <td>0.306472</td>\n",
       "    </tr>\n",
       "    <tr>\n",
       "      <th>std</th>\n",
       "      <td>33.236368</td>\n",
       "      <td>234.569872</td>\n",
       "      <td>36.148326</td>\n",
       "      <td>7570.968246</td>\n",
       "      <td>0.461100</td>\n",
       "    </tr>\n",
       "    <tr>\n",
       "      <th>min</th>\n",
       "      <td>0.000000</td>\n",
       "      <td>0.000000</td>\n",
       "      <td>0.000000</td>\n",
       "      <td>0.000000</td>\n",
       "      <td>0.000000</td>\n",
       "    </tr>\n",
       "    <tr>\n",
       "      <th>25%</th>\n",
       "      <td>40.000000</td>\n",
       "      <td>274.575000</td>\n",
       "      <td>9.000000</td>\n",
       "      <td>12491.902500</td>\n",
       "      <td>0.000000</td>\n",
       "    </tr>\n",
       "    <tr>\n",
       "      <th>50%</th>\n",
       "      <td>62.000000</td>\n",
       "      <td>430.600000</td>\n",
       "      <td>30.000000</td>\n",
       "      <td>16943.235000</td>\n",
       "      <td>0.000000</td>\n",
       "    </tr>\n",
       "    <tr>\n",
       "      <th>75%</th>\n",
       "      <td>82.000000</td>\n",
       "      <td>571.927500</td>\n",
       "      <td>57.000000</td>\n",
       "      <td>21424.700000</td>\n",
       "      <td>1.000000</td>\n",
       "    </tr>\n",
       "    <tr>\n",
       "      <th>max</th>\n",
       "      <td>244.000000</td>\n",
       "      <td>1632.060000</td>\n",
       "      <td>224.000000</td>\n",
       "      <td>49745.730000</td>\n",
       "      <td>1.000000</td>\n",
       "    </tr>\n",
       "  </tbody>\n",
       "</table>\n",
       "</div>"
      ],
      "text/plain": [
       "             calls      minutes     messages       mb_used     is_ultra\n",
       "count  3214.000000  3214.000000  3214.000000   3214.000000  3214.000000\n",
       "mean     63.038892   438.208787    38.281269  17207.673836     0.306472\n",
       "std      33.236368   234.569872    36.148326   7570.968246     0.461100\n",
       "min       0.000000     0.000000     0.000000      0.000000     0.000000\n",
       "25%      40.000000   274.575000     9.000000  12491.902500     0.000000\n",
       "50%      62.000000   430.600000    30.000000  16943.235000     0.000000\n",
       "75%      82.000000   571.927500    57.000000  21424.700000     1.000000\n",
       "max     244.000000  1632.060000   224.000000  49745.730000     1.000000"
      ]
     },
     "execution_count": 2,
     "metadata": {},
     "output_type": "execute_result"
    }
   ],
   "source": [
    "#раасмотрим общую информацию о датасете\n",
    "data.info()\n",
    "data.describe()"
   ]
  },
  {
   "cell_type": "code",
   "execution_count": 3,
   "metadata": {},
   "outputs": [],
   "source": [
    "# изменим формат данных\n",
    "data['calls'] = data['calls'].astype(int)\n",
    "data['messages'] = data['messages'].astype(int)\n",
    "#data['is_ultra'] = data['is_ultra'].astype(bool)"
   ]
  },
  {
   "cell_type": "code",
   "execution_count": 4,
   "metadata": {},
   "outputs": [
    {
     "data": {
      "text/plain": [
       "0"
      ]
     },
     "execution_count": 4,
     "metadata": {},
     "output_type": "execute_result"
    }
   ],
   "source": [
    "#Проверим на наличие явных дубликатов\n",
    "data.duplicated().sum()"
   ]
  },
  {
   "cell_type": "markdown",
   "metadata": {},
   "source": [
    "Таблица содержит 3214 строк и 5 столбцов. Пропусков в данных не обнаруженно. Ниманования столбцов заданны корректно. Изменен формат данных в стобцах  calls и messages, т.к. колличество звонков и смс не может быть дробным числом."
   ]
  },
  {
   "cell_type": "markdown",
   "metadata": {},
   "source": [
    "## Разбейте данные на выборки"
   ]
  },
  {
   "cell_type": "code",
   "execution_count": 5,
   "metadata": {},
   "outputs": [],
   "source": [
    "# извлекаем матрицу признаков\n",
    "features = data.drop(['is_ultra'], axis=1) \n",
    "# извлекаем целевой признак\n",
    "target = data['is_ultra']"
   ]
  },
  {
   "cell_type": "markdown",
   "metadata": {},
   "source": [
    "Так как спрятанной тестовой выборки у нас нет. Данные нужно разбить на три части: обучающую, валидационную и тестовую. Размеры тестового и валидационного наборов обычно равны. Разобьем исходные данные в соотношении 3:1:1.(60%:20%:20%)"
   ]
  },
  {
   "cell_type": "code",
   "execution_count": 6,
   "metadata": {},
   "outputs": [],
   "source": [
    "# отделим 40% данных для тестовой и валидационной выборок\n",
    "features_train, features_test, target_train, target_test = train_test_split(\n",
    "    features, target, test_size=0.40, random_state=12345)"
   ]
  },
  {
   "cell_type": "code",
   "execution_count": 7,
   "metadata": {},
   "outputs": [],
   "source": [
    "# отделим 20% данных для валидационной выборки\n",
    "features_test, features_valid, target_test, target_valid = train_test_split(\n",
    "    features_test, target_test, test_size=0.50, random_state=12345) "
   ]
  },
  {
   "cell_type": "code",
   "execution_count": 8,
   "metadata": {},
   "outputs": [
    {
     "name": "stdout",
     "output_type": "stream",
     "text": [
      "features_train  1928\n",
      "features_test  643\n",
      "features_valid  643\n"
     ]
    }
   ],
   "source": [
    "print('features_train','',features_train.shape[0])\n",
    "print('features_test','',features_test.shape[0])\n",
    "print('features_valid','',features_valid.shape[0])"
   ]
  },
  {
   "cell_type": "markdown",
   "metadata": {},
   "source": [
    "Таким образом все данные были разделены на 3 группы:\n",
    "- features_train, target_train - обучающая выборка (60%)\n",
    "- features_valid, target_valid - валидационная выборка (20%)\n",
    "- features_test, target_test - тестовая выборка (20%)"
   ]
  },
  {
   "cell_type": "markdown",
   "metadata": {},
   "source": [
    "## Проверьте модель на тестовой выборке"
   ]
  },
  {
   "cell_type": "markdown",
   "metadata": {},
   "source": [
    "Используем модели для задач классификациии"
   ]
  },
  {
   "cell_type": "markdown",
   "metadata": {},
   "source": [
    "### Дерево решений "
   ]
  },
  {
   "cell_type": "code",
   "execution_count": 9,
   "metadata": {},
   "outputs": [
    {
     "name": "stdout",
     "output_type": "stream",
     "text": [
      "Глубина дерева: 8 \n",
      "Объектов в узле: 2 \n",
      "Accuracy лучшей модели: 0.7962674961119751\n"
     ]
    }
   ],
   "source": [
    "best_accuracy = 0\n",
    "best_depth = 0\n",
    "best_sample = 0 \n",
    "\n",
    "for depth in range(1,10):\n",
    "    for sample in range(2,5):\n",
    "        model = DecisionTreeClassifier(max_depth=depth, random_state=321,min_samples_split =sample)\n",
    "        model.fit(features_train, target_train)\n",
    "        accuracy = model.score(features_valid, target_valid)\n",
    "        if accuracy > best_accuracy:\n",
    "            best_accuracy = accuracy\n",
    "            best_depth = depth\n",
    "            best_sample = sample\n",
    "print(\"Глубина дерева:\", best_depth, \"\\nОбъектов в узле:\",best_sample, \"\\nAccuracy лучшей модели:\", best_accuracy)"
   ]
  },
  {
   "cell_type": "markdown",
   "metadata": {},
   "source": [
    "### Случайный лес "
   ]
  },
  {
   "cell_type": "code",
   "execution_count": 10,
   "metadata": {},
   "outputs": [
    {
     "name": "stdout",
     "output_type": "stream",
     "text": [
      "Глубина дерева: 7 \n",
      "Количество деревьев: 19 \n",
      "Объектов в узле: 3 \n",
      "Accuracy лучшей модели: 0.80248833592535\n"
     ]
    }
   ],
   "source": [
    "best_accuracy = 0\n",
    "best_depth = 0\n",
    "for depth in range(1,8):\n",
    "    for est in range(10,30): \n",
    "        for sample in range(2,5):\n",
    "            model = RandomForestClassifier(criterion='gini', max_depth=depth, n_estimators=est, \n",
    "                                           min_samples_leaf=sample, random_state=321)\n",
    "            model.fit(features_train, target_train)\n",
    "            accuracy = model.score(features_valid, target_valid)\n",
    "            if accuracy > best_accuracy:\n",
    "                best_accuracy = accuracy\n",
    "                best_depth = depth\n",
    "                best_est = est\n",
    "                best_sample = sample\n",
    "print(\"Глубина дерева:\", best_depth, \n",
    "      \"\\nКоличество деревьев:\",best_est, \n",
    "      \"\\nОбъектов в узле:\", best_sample, \n",
    "      \"\\nAccuracy лучшей модели:\", best_accuracy)"
   ]
  },
  {
   "cell_type": "markdown",
   "metadata": {},
   "source": [
    "### Логическая регрессия"
   ]
  },
  {
   "cell_type": "code",
   "execution_count": 11,
   "metadata": {},
   "outputs": [
    {
     "name": "stdout",
     "output_type": "stream",
     "text": [
      "Accuracy лучшей модели: 0.6842923794712286\n"
     ]
    }
   ],
   "source": [
    "model = LogisticRegression(random_state=321, solver='lbfgs', max_iter=1000)\n",
    "model.fit(features_train, target_train)\n",
    "accuracy = model.score(features_valid, target_valid)\n",
    "print(\"Accuracy лучшей модели:\", accuracy)"
   ]
  },
  {
   "cell_type": "markdown",
   "metadata": {},
   "source": [
    "Основываясь на показателе точности (Accuracy), можно сделать вывод, что наиболее качественные результаты прогнозирует Случайный лес (Random Forest)"
   ]
  },
  {
   "cell_type": "markdown",
   "metadata": {},
   "source": [
    "### Проверим модель на тестовой выборке"
   ]
  },
  {
   "cell_type": "code",
   "execution_count": 12,
   "metadata": {},
   "outputs": [
    {
     "name": "stdout",
     "output_type": "stream",
     "text": [
      "Accuracy: 0.7822706065318819\n"
     ]
    }
   ],
   "source": [
    "#Дерево решений\n",
    "model = DecisionTreeClassifier(max_depth=8, random_state=321,min_samples_split =2)\n",
    "model.fit(features_train, target_train)\n",
    "accuracy_t = model.score(features_test, target_test)\n",
    "print(\"Accuracy:\", accuracy_t)"
   ]
  },
  {
   "cell_type": "code",
   "execution_count": 13,
   "metadata": {},
   "outputs": [
    {
     "name": "stdout",
     "output_type": "stream",
     "text": [
      "Accuracy: 0.7916018662519441\n"
     ]
    }
   ],
   "source": [
    "#Случайный лес\n",
    "model = RandomForestClassifier(criterion='gini', max_depth=7, n_estimators=19, min_samples_leaf=3, random_state=321)\n",
    "model.fit(features_train, target_train)\n",
    "accuracy_f = model.score(features_test, target_test)\n",
    "print(\"Accuracy:\", accuracy_f)"
   ]
  },
  {
   "cell_type": "code",
   "execution_count": 14,
   "metadata": {},
   "outputs": [
    {
     "name": "stdout",
     "output_type": "stream",
     "text": [
      "Accuracy: 0.7107309486780715\n"
     ]
    }
   ],
   "source": [
    "#Логическая регрессия\n",
    "model = LogisticRegression(random_state=321, solver='lbfgs', max_iter=1000)\n",
    "model.fit(features_train, target_train)\n",
    "accuracy_r = model.score(features_test, target_test)\n",
    "print(\"Accuracy:\", accuracy_r)"
   ]
  },
  {
   "cell_type": "markdown",
   "metadata": {},
   "source": [
    "Были проверены три модели:дерево решений,случайный лес и логистическая регрессия.\n",
    "Наиболее точные предсказания делает Случайный лес (Random Forest), как на валидационной, так и на тестовой выборке.\n",
    "Наилучшее качество (0.79) достигается при использовании RandomForestClassifier с гиперпараметрами max_depth=9 , n_estimators=43 , min_samples_leaf=3."
   ]
  },
  {
   "cell_type": "markdown",
   "metadata": {},
   "source": [
    "## (бонус) Проверьте модели на адекватность"
   ]
  },
  {
   "cell_type": "markdown",
   "metadata": {},
   "source": [
    "Для проверки используем модель DummyClassifier. Для праметра strategy зададим знаечние uniform, т.к. оно генерирует предсказания равномерно случайным образом из списка уникальных классов."
   ]
  },
  {
   "cell_type": "code",
   "execution_count": 15,
   "metadata": {},
   "outputs": [
    {
     "name": "stdout",
     "output_type": "stream",
     "text": [
      "Accuracy DummyClassifier: 0.48833592534992226\n",
      "Accuracy модели Случайный лес: 0.7916018662519441\n"
     ]
    }
   ],
   "source": [
    "model_d = DummyClassifier(strategy='uniform', random_state=321)\n",
    "model_d.fit(features_train, target_train)\n",
    "result_d = model_d.score(features_valid, target_valid)\n",
    "print('Accuracy DummyClassifier:', result_d)\n",
    "print(\"Accuracy модели Случайный лес:\", accuracy_f)"
   ]
  },
  {
   "cell_type": "markdown",
   "metadata": {},
   "source": [
    "Accuracy модели DummyClassifier значительно ниже, чем у модели Случайного леса. Из чего можно сделать вывод, что выбранная модель адекватна."
   ]
  }
 ],
 "metadata": {
  "ExecuteTimeLog": [
   {
    "duration": 1281,
    "start_time": "2023-01-17T14:10:50.508Z"
   },
   {
    "duration": 37,
    "start_time": "2023-01-17T14:11:31.879Z"
   },
   {
    "duration": 7,
    "start_time": "2023-01-17T14:15:19.104Z"
   },
   {
    "duration": 24,
    "start_time": "2023-01-17T14:15:33.706Z"
   },
   {
    "duration": 31,
    "start_time": "2023-01-17T14:15:45.133Z"
   },
   {
    "duration": 5,
    "start_time": "2023-01-17T14:17:03.222Z"
   },
   {
    "duration": 32,
    "start_time": "2023-01-17T14:17:05.642Z"
   },
   {
    "duration": 5,
    "start_time": "2023-01-17T14:21:59.335Z"
   },
   {
    "duration": 29,
    "start_time": "2023-01-17T14:22:01.666Z"
   },
   {
    "duration": 6,
    "start_time": "2023-01-17T14:24:56.872Z"
   },
   {
    "duration": 31,
    "start_time": "2023-01-17T14:25:00.454Z"
   },
   {
    "duration": 4,
    "start_time": "2023-01-17T14:26:49.696Z"
   },
   {
    "duration": 5,
    "start_time": "2023-01-17T14:27:55.485Z"
   },
   {
    "duration": 8,
    "start_time": "2023-01-17T14:34:11.213Z"
   },
   {
    "duration": 6,
    "start_time": "2023-01-17T14:37:12.436Z"
   },
   {
    "duration": 5,
    "start_time": "2023-01-17T14:37:13.532Z"
   },
   {
    "duration": 15,
    "start_time": "2023-01-17T14:52:07.514Z"
   },
   {
    "duration": 6,
    "start_time": "2023-01-17T14:52:58.139Z"
   },
   {
    "duration": 5,
    "start_time": "2023-01-17T14:52:58.809Z"
   },
   {
    "duration": 12,
    "start_time": "2023-01-17T14:53:24.437Z"
   },
   {
    "duration": 13,
    "start_time": "2023-01-17T14:53:30.643Z"
   },
   {
    "duration": 12,
    "start_time": "2023-01-17T14:53:35.677Z"
   },
   {
    "duration": 11,
    "start_time": "2023-01-17T14:56:17.261Z"
   },
   {
    "duration": 4,
    "start_time": "2023-01-17T14:57:16.923Z"
   },
   {
    "duration": 3,
    "start_time": "2023-01-17T14:57:45.312Z"
   },
   {
    "duration": 5,
    "start_time": "2023-01-17T14:58:28.229Z"
   },
   {
    "duration": 5,
    "start_time": "2023-01-17T14:58:47.666Z"
   },
   {
    "duration": 3,
    "start_time": "2023-01-17T15:02:37.628Z"
   },
   {
    "duration": 33,
    "start_time": "2023-01-17T15:17:01.733Z"
   },
   {
    "duration": 4298,
    "start_time": "2023-01-17T15:21:51.208Z"
   },
   {
    "duration": 9,
    "start_time": "2023-01-17T15:22:18.035Z"
   },
   {
    "duration": 1143,
    "start_time": "2023-01-17T15:50:27.139Z"
   },
   {
    "duration": 30,
    "start_time": "2023-01-17T15:50:35.990Z"
   },
   {
    "duration": 6,
    "start_time": "2023-01-17T15:50:38.997Z"
   },
   {
    "duration": 7,
    "start_time": "2023-01-17T15:50:39.900Z"
   },
   {
    "duration": 4,
    "start_time": "2023-01-17T15:50:42.866Z"
   },
   {
    "duration": 5,
    "start_time": "2023-01-17T15:50:46.101Z"
   },
   {
    "duration": 5,
    "start_time": "2023-01-17T15:50:47.779Z"
   },
   {
    "duration": 5,
    "start_time": "2023-01-17T15:50:49.236Z"
   },
   {
    "duration": 31,
    "start_time": "2023-01-17T15:50:53.054Z"
   },
   {
    "duration": 30,
    "start_time": "2023-01-17T15:51:44.719Z"
   },
   {
    "duration": 28,
    "start_time": "2023-01-17T15:51:51.290Z"
   },
   {
    "duration": 26,
    "start_time": "2023-01-17T15:51:54.552Z"
   },
   {
    "duration": 34,
    "start_time": "2023-01-17T15:52:04.948Z"
   },
   {
    "duration": 32,
    "start_time": "2023-01-17T15:52:48.167Z"
   },
   {
    "duration": 32,
    "start_time": "2023-01-17T15:52:58.319Z"
   },
   {
    "duration": 1333,
    "start_time": "2023-01-17T18:19:04.513Z"
   },
   {
    "duration": 34,
    "start_time": "2023-01-17T18:19:07.842Z"
   },
   {
    "duration": 7,
    "start_time": "2023-01-17T18:19:11.674Z"
   },
   {
    "duration": 7,
    "start_time": "2023-01-17T18:19:12.499Z"
   },
   {
    "duration": 7,
    "start_time": "2023-01-17T18:19:15.784Z"
   },
   {
    "duration": 6,
    "start_time": "2023-01-17T18:19:18.431Z"
   },
   {
    "duration": 6,
    "start_time": "2023-01-17T18:19:19.880Z"
   },
   {
    "duration": 4,
    "start_time": "2023-01-17T18:19:20.858Z"
   },
   {
    "duration": 34,
    "start_time": "2023-01-17T18:19:25.099Z"
   },
   {
    "duration": 4854,
    "start_time": "2023-01-17T18:19:36.196Z"
   },
   {
    "duration": 11,
    "start_time": "2023-01-17T18:20:09.580Z"
   },
   {
    "duration": 1187,
    "start_time": "2023-01-18T08:52:12.232Z"
   },
   {
    "duration": 33,
    "start_time": "2023-01-18T08:52:16.018Z"
   },
   {
    "duration": 5,
    "start_time": "2023-01-18T08:52:17.277Z"
   },
   {
    "duration": 6,
    "start_time": "2023-01-18T08:52:18.218Z"
   },
   {
    "duration": 5,
    "start_time": "2023-01-18T08:52:20.220Z"
   },
   {
    "duration": 6,
    "start_time": "2023-01-18T08:52:21.522Z"
   },
   {
    "duration": 6,
    "start_time": "2023-01-18T08:52:22.092Z"
   },
   {
    "duration": 4,
    "start_time": "2023-01-18T08:52:22.935Z"
   },
   {
    "duration": 29,
    "start_time": "2023-01-18T08:52:25.325Z"
   },
   {
    "duration": 4172,
    "start_time": "2023-01-18T08:52:28.291Z"
   },
   {
    "duration": 4525,
    "start_time": "2023-01-18T08:52:35.972Z"
   },
   {
    "duration": 8,
    "start_time": "2023-01-18T08:52:40.499Z"
   },
   {
    "duration": 1198,
    "start_time": "2023-01-18T08:53:12.679Z"
   },
   {
    "duration": 33,
    "start_time": "2023-01-18T08:53:13.879Z"
   },
   {
    "duration": 4,
    "start_time": "2023-01-18T08:53:13.914Z"
   },
   {
    "duration": 10,
    "start_time": "2023-01-18T08:53:13.920Z"
   },
   {
    "duration": 17,
    "start_time": "2023-01-18T08:53:13.932Z"
   },
   {
    "duration": 13,
    "start_time": "2023-01-18T08:53:13.951Z"
   },
   {
    "duration": 8,
    "start_time": "2023-01-18T08:53:13.966Z"
   },
   {
    "duration": 11,
    "start_time": "2023-01-18T08:53:13.976Z"
   },
   {
    "duration": 36,
    "start_time": "2023-01-18T08:53:13.989Z"
   },
   {
    "duration": 4449,
    "start_time": "2023-01-18T08:53:14.027Z"
   },
   {
    "duration": 11,
    "start_time": "2023-01-18T08:53:18.477Z"
   },
   {
    "duration": 45,
    "start_time": "2023-01-18T08:53:31.924Z"
   },
   {
    "duration": 29,
    "start_time": "2023-01-18T08:53:33.024Z"
   },
   {
    "duration": 6,
    "start_time": "2023-01-18T08:53:33.824Z"
   },
   {
    "duration": 9,
    "start_time": "2023-01-18T08:53:34.134Z"
   },
   {
    "duration": 4,
    "start_time": "2023-01-18T08:53:34.745Z"
   },
   {
    "duration": 4,
    "start_time": "2023-01-18T08:53:35.122Z"
   },
   {
    "duration": 6,
    "start_time": "2023-01-18T08:53:35.322Z"
   },
   {
    "duration": 4,
    "start_time": "2023-01-18T08:53:35.535Z"
   },
   {
    "duration": 29,
    "start_time": "2023-01-18T08:53:36.423Z"
   },
   {
    "duration": 4208,
    "start_time": "2023-01-18T08:53:37.447Z"
   },
   {
    "duration": 10,
    "start_time": "2023-01-18T08:53:44.822Z"
   },
   {
    "duration": 1166,
    "start_time": "2023-01-18T09:19:54.622Z"
   },
   {
    "duration": 36,
    "start_time": "2023-01-18T09:19:55.790Z"
   },
   {
    "duration": 4,
    "start_time": "2023-01-18T09:19:55.828Z"
   },
   {
    "duration": 17,
    "start_time": "2023-01-18T09:19:55.835Z"
   },
   {
    "duration": 49,
    "start_time": "2023-01-18T09:19:55.854Z"
   },
   {
    "duration": 23,
    "start_time": "2023-01-18T09:19:55.904Z"
   },
   {
    "duration": 10,
    "start_time": "2023-01-18T09:19:55.928Z"
   },
   {
    "duration": 27,
    "start_time": "2023-01-18T09:19:55.940Z"
   },
   {
    "duration": 44,
    "start_time": "2023-01-18T09:19:55.968Z"
   },
   {
    "duration": 4375,
    "start_time": "2023-01-18T09:19:56.015Z"
   },
   {
    "duration": 12,
    "start_time": "2023-01-18T09:20:00.392Z"
   },
   {
    "duration": 152,
    "start_time": "2023-01-18T09:20:00.406Z"
   },
   {
    "duration": 35,
    "start_time": "2023-01-18T09:21:26.083Z"
   },
   {
    "duration": 25,
    "start_time": "2023-01-18T09:21:30.783Z"
   },
   {
    "duration": 1337,
    "start_time": "2023-01-18T09:23:24.219Z"
   },
   {
    "duration": 42,
    "start_time": "2023-01-18T09:23:25.558Z"
   },
   {
    "duration": 5,
    "start_time": "2023-01-18T09:23:25.602Z"
   },
   {
    "duration": 15,
    "start_time": "2023-01-18T09:23:25.611Z"
   },
   {
    "duration": 5,
    "start_time": "2023-01-18T09:23:25.628Z"
   },
   {
    "duration": 7,
    "start_time": "2023-01-18T09:23:25.634Z"
   },
   {
    "duration": 10,
    "start_time": "2023-01-18T09:23:25.643Z"
   },
   {
    "duration": 7,
    "start_time": "2023-01-18T09:23:25.655Z"
   },
   {
    "duration": 31,
    "start_time": "2023-01-18T09:23:25.664Z"
   },
   {
    "duration": 4270,
    "start_time": "2023-01-18T09:23:25.698Z"
   },
   {
    "duration": 11738,
    "start_time": "2023-01-18T09:23:29.970Z"
   },
   {
    "duration": 15,
    "start_time": "2023-01-18T09:23:41.710Z"
   },
   {
    "duration": 24,
    "start_time": "2023-01-18T09:23:41.727Z"
   },
   {
    "duration": 102,
    "start_time": "2023-01-18T09:24:16.424Z"
   },
   {
    "duration": 1262,
    "start_time": "2023-01-18T09:38:10.171Z"
   },
   {
    "duration": 1209,
    "start_time": "2023-01-18T09:39:50.103Z"
   },
   {
    "duration": 7,
    "start_time": "2023-01-18T09:39:59.313Z"
   },
   {
    "duration": 6,
    "start_time": "2023-01-18T09:40:03.355Z"
   },
   {
    "duration": 6,
    "start_time": "2023-01-18T09:40:05.261Z"
   },
   {
    "duration": 4,
    "start_time": "2023-01-18T09:40:06.745Z"
   },
   {
    "duration": 5,
    "start_time": "2023-01-18T09:40:07.304Z"
   },
   {
    "duration": 10532,
    "start_time": "2023-01-18T09:40:10.892Z"
   },
   {
    "duration": 1289,
    "start_time": "2023-01-18T09:40:58.352Z"
   },
   {
    "duration": 113,
    "start_time": "2023-01-18T09:42:35.617Z"
   },
   {
    "duration": 116,
    "start_time": "2023-01-18T09:42:40.326Z"
   },
   {
    "duration": 28,
    "start_time": "2023-01-18T09:42:49.142Z"
   },
   {
    "duration": 113,
    "start_time": "2023-01-18T09:42:55.540Z"
   },
   {
    "duration": 155,
    "start_time": "2023-01-18T09:43:03.390Z"
   },
   {
    "duration": 82,
    "start_time": "2023-01-18T09:43:09.634Z"
   },
   {
    "duration": 56,
    "start_time": "2023-01-18T09:43:14.599Z"
   },
   {
    "duration": 32,
    "start_time": "2023-01-18T09:43:21.371Z"
   },
   {
    "duration": 60,
    "start_time": "2023-01-18T09:43:27.676Z"
   },
   {
    "duration": 33,
    "start_time": "2023-01-18T10:16:59.907Z"
   },
   {
    "duration": 32,
    "start_time": "2023-01-18T10:16:59.942Z"
   },
   {
    "duration": 5,
    "start_time": "2023-01-18T10:16:59.975Z"
   },
   {
    "duration": 9,
    "start_time": "2023-01-18T10:16:59.982Z"
   },
   {
    "duration": 7,
    "start_time": "2023-01-18T10:16:59.992Z"
   },
   {
    "duration": 25,
    "start_time": "2023-01-18T10:17:00.000Z"
   },
   {
    "duration": 27,
    "start_time": "2023-01-18T10:17:00.027Z"
   },
   {
    "duration": 11,
    "start_time": "2023-01-18T10:17:00.056Z"
   },
   {
    "duration": 68,
    "start_time": "2023-01-18T10:17:00.069Z"
   },
   {
    "duration": 12497,
    "start_time": "2023-01-18T10:17:00.139Z"
   },
   {
    "duration": 24,
    "start_time": "2023-01-18T10:17:12.638Z"
   },
   {
    "duration": 15,
    "start_time": "2023-01-18T10:17:57.901Z"
   },
   {
    "duration": 16,
    "start_time": "2023-01-18T10:19:10.768Z"
   },
   {
    "duration": 15374,
    "start_time": "2023-01-18T10:20:12.004Z"
   },
   {
    "duration": 9898,
    "start_time": "2023-01-18T10:21:00.165Z"
   },
   {
    "duration": 5587,
    "start_time": "2023-01-18T10:21:19.711Z"
   },
   {
    "duration": 3264,
    "start_time": "2023-01-18T10:21:36.966Z"
   },
   {
    "duration": 5383,
    "start_time": "2023-01-18T10:21:46.416Z"
   },
   {
    "duration": 1974,
    "start_time": "2023-01-18T10:21:59.172Z"
   },
   {
    "duration": 5306,
    "start_time": "2023-01-18T10:22:08.266Z"
   },
   {
    "duration": 7207,
    "start_time": "2023-01-18T10:22:41.717Z"
   },
   {
    "duration": 5385,
    "start_time": "2023-01-18T10:23:03.702Z"
   },
   {
    "duration": 5293,
    "start_time": "2023-01-18T10:25:00.195Z"
   },
   {
    "duration": 76,
    "start_time": "2023-01-18T10:25:24.012Z"
   },
   {
    "duration": 81,
    "start_time": "2023-01-18T10:26:48.243Z"
   },
   {
    "duration": 211,
    "start_time": "2023-01-18T10:27:28.377Z"
   },
   {
    "duration": 5207,
    "start_time": "2023-01-18T10:28:14.109Z"
   },
   {
    "duration": 62,
    "start_time": "2023-01-18T10:31:40.296Z"
   },
   {
    "duration": 63,
    "start_time": "2023-01-18T10:31:47.097Z"
   },
   {
    "duration": 5358,
    "start_time": "2023-01-18T10:31:50.365Z"
   },
   {
    "duration": 83,
    "start_time": "2023-01-18T10:32:10.829Z"
   },
   {
    "duration": 28,
    "start_time": "2023-01-18T10:32:20.019Z"
   },
   {
    "duration": 59,
    "start_time": "2023-01-18T10:33:25.082Z"
   },
   {
    "duration": 166,
    "start_time": "2023-01-18T10:34:57.372Z"
   },
   {
    "duration": 197,
    "start_time": "2023-01-18T10:35:38.094Z"
   },
   {
    "duration": 1379,
    "start_time": "2023-01-18T11:55:25.828Z"
   },
   {
    "duration": 43,
    "start_time": "2023-01-18T11:55:29.602Z"
   },
   {
    "duration": 5,
    "start_time": "2023-01-18T11:55:35.353Z"
   },
   {
    "duration": 8,
    "start_time": "2023-01-18T11:55:36.071Z"
   },
   {
    "duration": 6,
    "start_time": "2023-01-18T11:55:39.617Z"
   },
   {
    "duration": 6,
    "start_time": "2023-01-18T11:55:42.768Z"
   },
   {
    "duration": 6,
    "start_time": "2023-01-18T11:55:45.057Z"
   },
   {
    "duration": 6,
    "start_time": "2023-01-18T11:55:48.817Z"
   },
   {
    "duration": 214,
    "start_time": "2023-01-18T11:56:00.401Z"
   },
   {
    "duration": 5851,
    "start_time": "2023-01-18T11:56:16.379Z"
   },
   {
    "duration": 26,
    "start_time": "2023-01-18T11:56:36.064Z"
   },
   {
    "duration": 4143,
    "start_time": "2023-01-18T11:59:16.864Z"
   },
   {
    "duration": 3019,
    "start_time": "2023-01-18T11:59:37.552Z"
   },
   {
    "duration": 29173,
    "start_time": "2023-01-18T11:59:56.362Z"
   },
   {
    "duration": 77,
    "start_time": "2023-01-18T12:00:51.768Z"
   },
   {
    "duration": 3249,
    "start_time": "2023-01-18T12:02:31.051Z"
   },
   {
    "duration": 9805,
    "start_time": "2023-01-18T12:02:44.743Z"
   },
   {
    "duration": 850,
    "start_time": "2023-01-18T12:03:00.185Z"
   },
   {
    "duration": 1514,
    "start_time": "2023-01-18T12:03:21.867Z"
   },
   {
    "duration": 5403,
    "start_time": "2023-01-18T12:03:32.254Z"
   },
   {
    "duration": 2313,
    "start_time": "2023-01-18T12:03:45.899Z"
   },
   {
    "duration": 2464,
    "start_time": "2023-01-18T12:04:05.675Z"
   },
   {
    "duration": 5532,
    "start_time": "2023-01-18T12:04:28.419Z"
   },
   {
    "duration": 5890,
    "start_time": "2023-01-18T12:04:44.865Z"
   },
   {
    "duration": 29064,
    "start_time": "2023-01-18T12:05:00.703Z"
   },
   {
    "duration": 140,
    "start_time": "2023-01-18T12:06:51.560Z"
   },
   {
    "duration": 401,
    "start_time": "2023-01-18T12:06:59.318Z"
   },
   {
    "duration": 360,
    "start_time": "2023-01-18T12:07:08.676Z"
   },
   {
    "duration": 289,
    "start_time": "2023-01-18T12:07:19.536Z"
   },
   {
    "duration": 190,
    "start_time": "2023-01-18T12:07:27.342Z"
   },
   {
    "duration": 526,
    "start_time": "2023-01-18T12:07:35.846Z"
   },
   {
    "duration": 190,
    "start_time": "2023-01-18T12:07:43.653Z"
   },
   {
    "duration": 27,
    "start_time": "2023-01-18T12:09:02.692Z"
   },
   {
    "duration": 31,
    "start_time": "2023-01-18T12:09:07.364Z"
   },
   {
    "duration": 14,
    "start_time": "2023-01-18T12:09:11.682Z"
   },
   {
    "duration": 11,
    "start_time": "2023-01-18T12:09:47.632Z"
   },
   {
    "duration": 16,
    "start_time": "2023-01-18T12:09:52.067Z"
   },
   {
    "duration": 25,
    "start_time": "2023-01-18T12:10:21.256Z"
   },
   {
    "duration": 28,
    "start_time": "2023-01-18T12:10:32.746Z"
   },
   {
    "duration": 14,
    "start_time": "2023-01-18T12:18:42.997Z"
   },
   {
    "duration": 109,
    "start_time": "2023-01-18T12:20:50.089Z"
   },
   {
    "duration": 26,
    "start_time": "2023-01-18T12:21:25.381Z"
   },
   {
    "duration": 91,
    "start_time": "2023-01-18T12:25:21.588Z"
   },
   {
    "duration": 21698,
    "start_time": "2023-01-18T12:25:40.933Z"
   },
   {
    "duration": 62,
    "start_time": "2023-01-18T12:26:21.449Z"
   },
   {
    "duration": 1261,
    "start_time": "2023-01-18T13:17:27.151Z"
   },
   {
    "duration": 33,
    "start_time": "2023-01-18T13:17:28.414Z"
   },
   {
    "duration": 4,
    "start_time": "2023-01-18T13:17:28.449Z"
   },
   {
    "duration": 12,
    "start_time": "2023-01-18T13:17:28.456Z"
   },
   {
    "duration": 5,
    "start_time": "2023-01-18T13:17:28.483Z"
   },
   {
    "duration": 7,
    "start_time": "2023-01-18T13:17:28.490Z"
   },
   {
    "duration": 7,
    "start_time": "2023-01-18T13:17:28.499Z"
   },
   {
    "duration": 5,
    "start_time": "2023-01-18T13:17:28.507Z"
   },
   {
    "duration": 217,
    "start_time": "2023-01-18T13:17:28.514Z"
   },
   {
    "duration": 22373,
    "start_time": "2023-01-18T13:17:28.732Z"
   },
   {
    "duration": 28,
    "start_time": "2023-01-18T13:17:51.107Z"
   },
   {
    "duration": 15,
    "start_time": "2023-01-18T13:17:51.137Z"
   },
   {
    "duration": 91,
    "start_time": "2023-01-18T13:17:51.154Z"
   },
   {
    "duration": 43,
    "start_time": "2023-01-18T13:17:51.248Z"
   },
   {
    "duration": 78,
    "start_time": "2023-01-18T13:22:30.886Z"
   },
   {
    "duration": 121,
    "start_time": "2023-01-18T13:22:38.192Z"
   },
   {
    "duration": 42,
    "start_time": "2023-01-18T13:27:39.859Z"
   },
   {
    "duration": 13,
    "start_time": "2023-01-18T13:28:08.940Z"
   },
   {
    "duration": 7,
    "start_time": "2023-01-18T13:28:17.493Z"
   },
   {
    "duration": 41,
    "start_time": "2023-01-18T13:29:12.403Z"
   },
   {
    "duration": 16,
    "start_time": "2023-01-18T13:29:52.905Z"
   },
   {
    "duration": 82,
    "start_time": "2023-01-18T13:29:58.415Z"
   },
   {
    "duration": 7,
    "start_time": "2023-01-18T13:30:01.497Z"
   },
   {
    "duration": 1892,
    "start_time": "2023-01-18T13:57:46.442Z"
   },
   {
    "duration": 28,
    "start_time": "2023-01-18T13:57:48.335Z"
   },
   {
    "duration": 4,
    "start_time": "2023-01-18T13:57:48.364Z"
   },
   {
    "duration": 31,
    "start_time": "2023-01-18T13:57:48.369Z"
   },
   {
    "duration": 12,
    "start_time": "2023-01-18T13:57:48.402Z"
   },
   {
    "duration": 16,
    "start_time": "2023-01-18T13:57:48.416Z"
   },
   {
    "duration": 13,
    "start_time": "2023-01-18T13:57:48.434Z"
   },
   {
    "duration": 14,
    "start_time": "2023-01-18T13:57:48.448Z"
   },
   {
    "duration": 165,
    "start_time": "2023-01-18T13:57:48.463Z"
   },
   {
    "duration": 19325,
    "start_time": "2023-01-18T13:57:48.630Z"
   },
   {
    "duration": 44,
    "start_time": "2023-01-18T13:58:07.956Z"
   },
   {
    "duration": 12,
    "start_time": "2023-01-18T13:58:08.002Z"
   },
   {
    "duration": 55,
    "start_time": "2023-01-18T13:58:08.016Z"
   },
   {
    "duration": 41,
    "start_time": "2023-01-18T13:58:08.073Z"
   },
   {
    "duration": 4,
    "start_time": "2023-01-18T13:58:08.116Z"
   },
   {
    "duration": 7,
    "start_time": "2023-01-18T14:48:07.562Z"
   },
   {
    "duration": 7506,
    "start_time": "2023-01-19T10:54:01.338Z"
   },
   {
    "duration": 304,
    "start_time": "2023-01-19T10:54:08.847Z"
   },
   {
    "duration": 9,
    "start_time": "2023-01-19T10:54:09.239Z"
   },
   {
    "duration": 10,
    "start_time": "2023-01-19T10:54:09.338Z"
   },
   {
    "duration": 18,
    "start_time": "2023-01-19T10:54:09.437Z"
   },
   {
    "duration": 103,
    "start_time": "2023-01-19T10:54:09.539Z"
   },
   {
    "duration": 98,
    "start_time": "2023-01-19T10:54:09.644Z"
   },
   {
    "duration": 98,
    "start_time": "2023-01-19T10:54:09.745Z"
   },
   {
    "duration": 1993,
    "start_time": "2023-01-19T10:54:09.845Z"
   },
   {
    "duration": 108894,
    "start_time": "2023-01-19T10:54:11.845Z"
   },
   {
    "duration": 26,
    "start_time": "2023-01-19T10:56:00.741Z"
   },
   {
    "duration": 79,
    "start_time": "2023-01-19T10:56:00.770Z"
   },
   {
    "duration": 124,
    "start_time": "2023-01-19T10:56:00.851Z"
   },
   {
    "duration": 82,
    "start_time": "2023-01-19T10:56:00.977Z"
   },
   {
    "duration": 6,
    "start_time": "2023-01-19T10:56:01.061Z"
   }
  ],
  "kernelspec": {
   "display_name": "Python 3 (ipykernel)",
   "language": "python",
   "name": "python3"
  },
  "language_info": {
   "codemirror_mode": {
    "name": "ipython",
    "version": 3
   },
   "file_extension": ".py",
   "mimetype": "text/x-python",
   "name": "python",
   "nbconvert_exporter": "python",
   "pygments_lexer": "ipython3",
   "version": "3.9.13"
  },
  "toc": {
   "base_numbering": 1,
   "nav_menu": {},
   "number_sections": true,
   "sideBar": true,
   "skip_h1_title": true,
   "title_cell": "Table of Contents",
   "title_sidebar": "Contents",
   "toc_cell": false,
   "toc_position": {
    "height": "calc(100% - 180px)",
    "left": "10px",
    "top": "150px",
    "width": "165px"
   },
   "toc_section_display": true,
   "toc_window_display": true
  }
 },
 "nbformat": 4,
 "nbformat_minor": 4
}
